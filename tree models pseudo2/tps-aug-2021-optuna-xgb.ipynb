{
 "cells": [
  {
   "cell_type": "code",
   "execution_count": 1,
   "id": "0a211700",
   "metadata": {
    "_cell_guid": "b1076dfc-b9ad-4769-8c92-a6c4dae69d19",
    "_uuid": "8f2839f25d086af736a60e9eeb907d3b93b6e0e5",
    "execution": {
     "iopub.execute_input": "2021-08-26T03:27:59.342973Z",
     "iopub.status.busy": "2021-08-26T03:27:59.342189Z",
     "iopub.status.idle": "2021-08-26T03:28:00.561454Z",
     "shell.execute_reply": "2021-08-26T03:28:00.562187Z",
     "shell.execute_reply.started": "2021-08-18T15:24:01.488404Z"
    },
    "papermill": {
     "duration": 1.242498,
     "end_time": "2021-08-26T03:28:00.562497",
     "exception": false,
     "start_time": "2021-08-26T03:27:59.319999",
     "status": "completed"
    },
    "tags": []
   },
   "outputs": [],
   "source": [
    "# Familiar imports\n",
    "import numpy as np\n",
    "import pandas as pd\n",
    "import random\n",
    "import os\n",
    "import time\n",
    "from pathlib import Path\n",
    "\n",
    "from sklearn.preprocessing import StandardScaler\n",
    "from sklearn.model_selection import KFold, train_test_split\n",
    "from sklearn.metrics import mean_squared_error\n",
    "\n",
    "#import lightgbm as lgb\n",
    "import xgboost as xgb\n",
    "#import catboost as ctb\n",
    "\n",
    "import warnings\n",
    "warnings.simplefilter('ignore')"
   ]
  },
  {
   "cell_type": "markdown",
   "id": "e1e6f38d",
   "metadata": {
    "papermill": {
     "duration": 0.010013,
     "end_time": "2021-08-26T03:28:00.583779",
     "exception": false,
     "start_time": "2021-08-26T03:28:00.573766",
     "status": "completed"
    },
    "tags": []
   },
   "source": [
    "# Parameters"
   ]
  },
  {
   "cell_type": "code",
   "execution_count": 2,
   "id": "a5909f6f",
   "metadata": {
    "execution": {
     "iopub.execute_input": "2021-08-26T03:28:00.610911Z",
     "iopub.status.busy": "2021-08-26T03:28:00.610239Z",
     "iopub.status.idle": "2021-08-26T03:28:00.615294Z",
     "shell.execute_reply": "2021-08-26T03:28:00.614827Z",
     "shell.execute_reply.started": "2021-08-18T15:24:01.599452Z"
    },
    "papermill": {
     "duration": 0.021346,
     "end_time": "2021-08-26T03:28:00.615435",
     "exception": false,
     "start_time": "2021-08-26T03:28:00.594089",
     "status": "completed"
    },
    "tags": []
   },
   "outputs": [],
   "source": [
    "target = 'loss'\n",
    "\n",
    "DEBUG = False\n",
    "\n",
    "if DEBUG:\n",
    "    N_ESTIMATORS = 1\n",
    "    N_SPLITS = 2\n",
    "    SEED = 17\n",
    "    CVSEED = 17\n",
    "    EARLY_STOPPING_ROUNDS = 1\n",
    "    VERBOSE = 100\n",
    "    #N_ITERS = 2\n",
    "else:\n",
    "    N_SPLITS = 10\n",
    "    N_ESTIMATORS = 10000\n",
    "    EARLY_STOPPING_ROUNDS = 200\n",
    "    VERBOSE = 1000\n",
    "    SEED = 17\n",
    "    CVSEED = 17\n",
    "    #N_ITERS = 10"
   ]
  },
  {
   "cell_type": "code",
   "execution_count": 3,
   "id": "6bc3f808",
   "metadata": {
    "execution": {
     "iopub.execute_input": "2021-08-26T03:28:00.640978Z",
     "iopub.status.busy": "2021-08-26T03:28:00.640335Z",
     "iopub.status.idle": "2021-08-26T03:28:00.643383Z",
     "shell.execute_reply": "2021-08-26T03:28:00.642931Z",
     "shell.execute_reply.started": "2021-08-18T15:24:01.60642Z"
    },
    "papermill": {
     "duration": 0.01811,
     "end_time": "2021-08-26T03:28:00.643538",
     "exception": false,
     "start_time": "2021-08-26T03:28:00.625428",
     "status": "completed"
    },
    "tags": []
   },
   "outputs": [],
   "source": [
    "def set_seed(seed=17):\n",
    "    random.seed(seed)\n",
    "    os.environ['PYTHONHASHSEED'] = str(seed)\n",
    "    np.random.seed(seed)\n",
    "    \n",
    "set_seed(SEED)"
   ]
  },
  {
   "cell_type": "markdown",
   "id": "0201c5fa",
   "metadata": {
    "papermill": {
     "duration": 0.00954,
     "end_time": "2021-08-26T03:28:00.663187",
     "exception": false,
     "start_time": "2021-08-26T03:28:00.653647",
     "status": "completed"
    },
    "tags": []
   },
   "source": [
    "# Load data"
   ]
  },
  {
   "cell_type": "code",
   "execution_count": 4,
   "id": "91dc0832",
   "metadata": {
    "execution": {
     "iopub.execute_input": "2021-08-26T03:28:00.688981Z",
     "iopub.status.busy": "2021-08-26T03:28:00.688263Z",
     "iopub.status.idle": "2021-08-26T03:28:11.252562Z",
     "shell.execute_reply": "2021-08-26T03:28:11.253025Z",
     "shell.execute_reply.started": "2021-08-18T15:24:01.622423Z"
    },
    "papermill": {
     "duration": 10.580175,
     "end_time": "2021-08-26T03:28:11.253244",
     "exception": false,
     "start_time": "2021-08-26T03:28:00.673069",
     "status": "completed"
    },
    "tags": []
   },
   "outputs": [],
   "source": [
    "INPUT = Path(\"../input/tabular-playground-series-aug-2021\")\n",
    "\n",
    "train = pd.read_csv(INPUT / \"train.csv\")\n",
    "test = pd.read_csv(INPUT / \"test.csv\")\n",
    "submission = pd.read_csv(INPUT / \"sample_submission.csv\")"
   ]
  },
  {
   "cell_type": "markdown",
   "id": "9f3872d2",
   "metadata": {
    "papermill": {
     "duration": 0.009983,
     "end_time": "2021-08-26T03:28:11.273605",
     "exception": false,
     "start_time": "2021-08-26T03:28:11.263622",
     "status": "completed"
    },
    "tags": []
   },
   "source": [
    "# Preprocessing"
   ]
  },
  {
   "cell_type": "code",
   "execution_count": 5,
   "id": "f2dec3c6",
   "metadata": {
    "execution": {
     "iopub.execute_input": "2021-08-26T03:28:11.296539Z",
     "iopub.status.busy": "2021-08-26T03:28:11.295923Z",
     "iopub.status.idle": "2021-08-26T03:28:19.453698Z",
     "shell.execute_reply": "2021-08-26T03:28:19.454146Z",
     "shell.execute_reply.started": "2021-08-18T15:24:07.421385Z"
    },
    "papermill": {
     "duration": 8.170995,
     "end_time": "2021-08-26T03:28:19.454342",
     "exception": false,
     "start_time": "2021-08-26T03:28:11.283347",
     "status": "completed"
    },
    "tags": []
   },
   "outputs": [],
   "source": [
    "scale_features = [col for col in test.columns if 'f' in col]\n",
    "\n",
    "ss = StandardScaler()\n",
    "train[scale_features] = ss.fit_transform(train[scale_features])\n",
    "test[scale_features] = ss.transform(test[scale_features])"
   ]
  },
  {
   "cell_type": "code",
   "execution_count": 6,
   "id": "2b8773d6",
   "metadata": {
    "execution": {
     "iopub.execute_input": "2021-08-26T03:28:19.478366Z",
     "iopub.status.busy": "2021-08-26T03:28:19.477746Z",
     "iopub.status.idle": "2021-08-26T03:28:19.484065Z",
     "shell.execute_reply": "2021-08-26T03:28:19.484506Z",
     "shell.execute_reply.started": "2021-08-18T15:24:15.235518Z"
    },
    "papermill": {
     "duration": 0.02016,
     "end_time": "2021-08-26T03:28:19.484713",
     "exception": false,
     "start_time": "2021-08-26T03:28:19.464553",
     "status": "completed"
    },
    "tags": []
   },
   "outputs": [],
   "source": [
    "# Swap noise\n",
    "\n",
    "# Random\n",
    "def apply_noise_rn(df, p=.75):\n",
    "    should_not_swap = np.random.binomial(1, p, df.shape)\n",
    "    corrupted_df = df.where(should_not_swap == 1, np.random.permutation(df))\n",
    "    return corrupted_df\n",
    "\n",
    "# Row-wise\n",
    "def apply_noise_row(df, p=.75):\n",
    "    should_not_swap = np.zeros(df.shape)\n",
    "    for i in range(df.shape[0]):\n",
    "        for j in np.random.choice(df.shape[1],int(p*df.shape[1]),replace=False):\n",
    "            should_not_swap[i,j]=1 \n",
    "    corrupted_df = df.where(should_not_swap == 1, np.random.permutation(df))\n",
    "    return corrupted_df"
   ]
  },
  {
   "cell_type": "markdown",
   "id": "80cefddb",
   "metadata": {
    "papermill": {
     "duration": 0.010108,
     "end_time": "2021-08-26T03:28:19.504937",
     "exception": false,
     "start_time": "2021-08-26T03:28:19.494829",
     "status": "completed"
    },
    "tags": []
   },
   "source": [
    "# Pseudo Label"
   ]
  },
  {
   "cell_type": "code",
   "execution_count": 7,
   "id": "9b051f11",
   "metadata": {
    "execution": {
     "iopub.execute_input": "2021-08-26T03:28:19.528538Z",
     "iopub.status.busy": "2021-08-26T03:28:19.527948Z",
     "iopub.status.idle": "2021-08-26T03:28:20.661757Z",
     "shell.execute_reply": "2021-08-26T03:28:20.661211Z",
     "shell.execute_reply.started": "2021-08-18T15:24:15.243178Z"
    },
    "papermill": {
     "duration": 1.146927,
     "end_time": "2021-08-26T03:28:20.661896",
     "exception": false,
     "start_time": "2021-08-26T03:28:19.514969",
     "status": "completed"
    },
    "tags": []
   },
   "outputs": [],
   "source": [
    "pseudo = pd.read_csv(\"../input/in-python-tabular-denoising-residual-network/submission_v2.csv\")[target]\n",
    "test_pseudo = pd.concat([test, pseudo], axis=1)\n",
    "all_pseudo = pd.concat([train, test_pseudo]).reset_index(drop=True)"
   ]
  },
  {
   "cell_type": "markdown",
   "id": "9f896bca",
   "metadata": {
    "papermill": {
     "duration": 0.009627,
     "end_time": "2021-08-26T03:28:20.681684",
     "exception": false,
     "start_time": "2021-08-26T03:28:20.672057",
     "status": "completed"
    },
    "tags": []
   },
   "source": [
    "# Optuna"
   ]
  },
  {
   "cell_type": "code",
   "execution_count": 8,
   "id": "50dcac69",
   "metadata": {
    "execution": {
     "iopub.execute_input": "2021-08-26T03:28:20.707011Z",
     "iopub.status.busy": "2021-08-26T03:28:20.706356Z",
     "iopub.status.idle": "2021-08-26T03:28:29.560767Z",
     "shell.execute_reply": "2021-08-26T03:28:29.560116Z",
     "shell.execute_reply.started": "2021-08-18T15:24:15.830378Z"
    },
    "papermill": {
     "duration": 8.869314,
     "end_time": "2021-08-26T03:28:29.560916",
     "exception": false,
     "start_time": "2021-08-26T03:28:20.691602",
     "status": "completed"
    },
    "tags": []
   },
   "outputs": [
    {
     "name": "stdout",
     "output_type": "stream",
     "text": [
      "\u001b[33mWARNING: Running pip as root will break packages and permissions. You should install packages reliably by using venv: https://pip.pypa.io/warnings/venv\u001b[0m\r\n"
     ]
    }
   ],
   "source": [
    "# Optuna for parameter search\n",
    "!pip install -q optuna\n",
    "\n",
    "import optuna\n",
    "import pickle"
   ]
  },
  {
   "cell_type": "code",
   "execution_count": 9,
   "id": "1a2425ed",
   "metadata": {
    "execution": {
     "iopub.execute_input": "2021-08-26T03:28:29.599091Z",
     "iopub.status.busy": "2021-08-26T03:28:29.597240Z",
     "iopub.status.idle": "2021-08-26T03:28:30.138007Z",
     "shell.execute_reply": "2021-08-26T03:28:30.137449Z",
     "shell.execute_reply.started": "2021-08-18T15:26:41.878952Z"
    },
    "papermill": {
     "duration": 0.565545,
     "end_time": "2021-08-26T03:28:30.138150",
     "exception": false,
     "start_time": "2021-08-26T03:28:29.572605",
     "status": "completed"
    },
    "tags": []
   },
   "outputs": [],
   "source": [
    "# for the fixed learning rate, use the opt n iterations and tune the tree hyperparameters\n",
    "def objective(trial, X=all_pseudo[scale_features], y=all_pseudo[target]):\n",
    "  \"\"\"\n",
    "  \"\"\"\n",
    "  param_space = {\n",
    "                'objective': 'reg:squarederror',              \n",
    "                  'learning_rate':trial.suggest_uniform('learning_rate', 1e-3, 1e-1),        \n",
    "                  'n_estimators':N_ESTIMATORS,       \n",
    "                  'subsample': trial.suggest_uniform('subsample', 0.2, 1.0),      \n",
    "                  'colsample_bytree':trial.suggest_uniform('colsample_bytree', 0.2, 1.0),   \n",
    "                  'max_depth':trial.suggest_int('max_depth', 2, 30),         \n",
    "                  'lambda':trial.suggest_uniform('lambda', 0.01, 50),     \n",
    "                  'alpha':trial.suggest_uniform('alpha', 0.01, 50),    \n",
    "                  'min_child_weight':trial.suggest_uniform('min_child_weight', 100, 500),\n",
    "                  'importance_type': 'total_gain',      \n",
    "                  'tree_method': 'hist'    \n",
    "     \n",
    "                }\n",
    "            \n",
    "\n",
    "  seed_list=[SEED, SEED+1]\n",
    "  #kf = KFold(n_splits=N_SPLITS, shuffle=True, random_state=CVSEED)\n",
    "  xgb_oof = np.zeros(train.shape[0])\n",
    "  #lgb_pred = np.zeros(test.shape[0])\n",
    "  X_tr, X_va, y_tr, y_va = train_test_split(X,y,test_size=.2,random_state=CVSEED)\n",
    "  trn_idx = X_tr.index\n",
    "  val_idx = X_va.index\n",
    "  \n",
    "  \n",
    "  #for (trn_idx, val_idx) in enumerate(kf.split(X, y)):\n",
    "  #print(f\"===== fold {fold} =====\")\n",
    "  oof_idx = np.array([idx for idx in val_idx if idx < train.shape[0]])\n",
    "  preds_idx = np.array([idx for idx in val_idx if idx >= train.shape[0]])\n",
    "\n",
    "  X_train, y_train = all_pseudo[scale_features].iloc[trn_idx], all_pseudo[target].iloc[trn_idx]\n",
    "  #X_train = apply_noise_rn(X_train)\n",
    "\n",
    "  X_valid, y_valid = all_pseudo[scale_features].iloc[oof_idx], all_pseudo[target].iloc[oof_idx]\n",
    "  #X_test = all_pseudo[scale_features].iloc[preds_idx]\n",
    "\n",
    "  #start = time.time()\n",
    "  for inseed in seed_list:\n",
    "    param_space['seed'] = inseed\n",
    "\n",
    "    model = xgb.XGBRegressor(**param_space)\n",
    "    model.fit(\n",
    "        X_train, \n",
    "        y_train,\n",
    "        eval_set=[(X_valid, y_valid)],\n",
    "        eval_metric='rmse',\n",
    "        early_stopping_rounds=EARLY_STOPPING_ROUNDS,\n",
    "        verbose=VERBOSE,\n",
    "    )\n",
    "\n",
    "\n",
    "    xgb_oof[oof_idx] += model.predict(X_valid) / len(seed_list)\n",
    "    #lgb_pred[preds_idx-train.shape[0]] += model.predict(X_test) / len(seed_list)\n",
    "\n",
    "  #elapsed = time.time() - start\n",
    "  rmse = mean_squared_error(y_valid, xgb_oof[oof_idx], squared=False)\n",
    "  #print(f\"fold {fold} - lgb rmse: {rmse:.6f}, elapsed time: {elapsed:.2f}sec\\n\")            \n",
    "  \n",
    "  #print(f\"oof lgb_rmse = {mean_squared_error(train[target], lgb_oof, squared=False)}\")\n",
    "\n",
    "  \n",
    "  return rmse"
   ]
  },
  {
   "cell_type": "code",
   "execution_count": 10,
   "id": "92a2f573",
   "metadata": {
    "execution": {
     "iopub.execute_input": "2021-08-26T03:28:30.164257Z",
     "iopub.status.busy": "2021-08-26T03:28:30.163657Z",
     "iopub.status.idle": "2021-08-26T10:54:55.684836Z",
     "shell.execute_reply": "2021-08-26T10:54:55.685268Z",
     "shell.execute_reply.started": "2021-08-18T15:26:42.1213Z"
    },
    "papermill": {
     "duration": 26785.537044,
     "end_time": "2021-08-26T10:54:55.685469",
     "exception": false,
     "start_time": "2021-08-26T03:28:30.148425",
     "status": "completed"
    },
    "tags": []
   },
   "outputs": [
    {
     "name": "stderr",
     "output_type": "stream",
     "text": [
      "\u001b[32m[I 2021-08-26 03:28:30,162]\u001b[0m A new study created in memory with name: no-name-8e7a6280-1c27-4652-9f49-bce5bfe71f2d\u001b[0m\n"
     ]
    },
    {
     "name": "stdout",
     "output_type": "stream",
     "text": [
      "[0]\tvalidation_0-rmse:9.74579\n",
      "[270]\tvalidation_0-rmse:7.81381\n",
      "[0]\tvalidation_0-rmse:9.74561\n",
      "[282]\tvalidation_0-rmse:7.83046\n"
     ]
    },
    {
     "name": "stderr",
     "output_type": "stream",
     "text": [
      "\u001b[32m[I 2021-08-26 03:31:12,620]\u001b[0m Trial 0 finished with value: 7.778687523691052 and parameters: {'learning_rate': 0.07888169981385038, 'subsample': 0.48682573932049755, 'colsample_bytree': 0.9244274130142915, 'max_depth': 28, 'lambda': 0.8642522171349019, 'alpha': 22.587159507652558, 'min_child_weight': 356.6883537487601}. Best is trial 0 with value: 7.778687523691052.\u001b[0m\n"
     ]
    },
    {
     "name": "stdout",
     "output_type": "stream",
     "text": [
      "[0]\tvalidation_0-rmse:9.80291\n",
      "[322]\tvalidation_0-rmse:7.81810\n",
      "[0]\tvalidation_0-rmse:9.80374\n",
      "[310]\tvalidation_0-rmse:7.82517\n"
     ]
    },
    {
     "name": "stderr",
     "output_type": "stream",
     "text": [
      "\u001b[32m[I 2021-08-26 03:34:41,213]\u001b[0m Trial 1 finished with value: 7.783485130807614 and parameters: {'learning_rate': 0.06386189933050504, 'subsample': 0.4917525605777396, 'colsample_bytree': 0.33898944235427886, 'max_depth': 29, 'lambda': 14.804888865510152, 'alpha': 37.89542748792464, 'min_child_weight': 136.28867727681455}. Best is trial 0 with value: 7.778687523691052.\u001b[0m\n"
     ]
    },
    {
     "name": "stdout",
     "output_type": "stream",
     "text": [
      "[0]\tvalidation_0-rmse:9.70305\n",
      "[278]\tvalidation_0-rmse:7.81107\n",
      "[0]\tvalidation_0-rmse:9.70407\n",
      "[288]\tvalidation_0-rmse:7.81507\n"
     ]
    },
    {
     "name": "stderr",
     "output_type": "stream",
     "text": [
      "\u001b[32m[I 2021-08-26 03:37:20,500]\u001b[0m Trial 2 finished with value: 7.775109319040546 and parameters: {'learning_rate': 0.09023946094735306, 'subsample': 0.6307903504514428, 'colsample_bytree': 0.6812400181816938, 'max_depth': 22, 'lambda': 17.20428244916061, 'alpha': 37.768339269713, 'min_child_weight': 404.04833097965025}. Best is trial 2 with value: 7.775109319040546.\u001b[0m\n"
     ]
    },
    {
     "name": "stdout",
     "output_type": "stream",
     "text": [
      "[0]\tvalidation_0-rmse:9.77879\n",
      "[340]\tvalidation_0-rmse:7.79712\n",
      "[0]\tvalidation_0-rmse:9.77906\n",
      "[346]\tvalidation_0-rmse:7.80033\n"
     ]
    },
    {
     "name": "stderr",
     "output_type": "stream",
     "text": [
      "\u001b[32m[I 2021-08-26 03:42:08,577]\u001b[0m Trial 3 finished with value: 7.770502673076405 and parameters: {'learning_rate': 0.07020905163823159, 'subsample': 0.9170924152967828, 'colsample_bytree': 0.5559915218090237, 'max_depth': 22, 'lambda': 24.04180453751794, 'alpha': 32.30193179103056, 'min_child_weight': 247.42694676432944}. Best is trial 3 with value: 7.770502673076405.\u001b[0m\n"
     ]
    },
    {
     "name": "stdout",
     "output_type": "stream",
     "text": [
      "[0]\tvalidation_0-rmse:10.00620\n",
      "[1000]\tvalidation_0-rmse:7.76178\n",
      "[2000]\tvalidation_0-rmse:7.75643\n",
      "[2146]\tvalidation_0-rmse:7.75645\n",
      "[0]\tvalidation_0-rmse:10.00625\n",
      "[1000]\tvalidation_0-rmse:7.76128\n",
      "[2000]\tvalidation_0-rmse:7.75548\n",
      "[2172]\tvalidation_0-rmse:7.75564\n"
     ]
    },
    {
     "name": "stderr",
     "output_type": "stream",
     "text": [
      "\u001b[32m[I 2021-08-26 04:06:06,791]\u001b[0m Trial 4 finished with value: 7.752591558544784 and parameters: {'learning_rate': 0.011045540654955048, 'subsample': 0.9862126404264544, 'colsample_bytree': 0.4297001905951244, 'max_depth': 19, 'lambda': 25.353266372403354, 'alpha': 6.763432063474254, 'min_child_weight': 250.50661060446066}. Best is trial 4 with value: 7.752591558544784.\u001b[0m\n"
     ]
    },
    {
     "name": "stdout",
     "output_type": "stream",
     "text": [
      "[0]\tvalidation_0-rmse:9.77049\n",
      "[294]\tvalidation_0-rmse:7.81112\n",
      "[0]\tvalidation_0-rmse:9.77096\n",
      "[284]\tvalidation_0-rmse:7.80532\n"
     ]
    },
    {
     "name": "stderr",
     "output_type": "stream",
     "text": [
      "\u001b[32m[I 2021-08-26 04:09:07,487]\u001b[0m Trial 5 finished with value: 7.776123854172585 and parameters: {'learning_rate': 0.07228044076503878, 'subsample': 0.5860849826999162, 'colsample_bytree': 0.5436030893434936, 'max_depth': 19, 'lambda': 2.894178361962112, 'alpha': 44.71033722434549, 'min_child_weight': 208.48166074915565}. Best is trial 4 with value: 7.752591558544784.\u001b[0m\n"
     ]
    },
    {
     "name": "stdout",
     "output_type": "stream",
     "text": [
      "[0]\tvalidation_0-rmse:9.87343\n",
      "[462]\tvalidation_0-rmse:7.77738\n",
      "[0]\tvalidation_0-rmse:9.87410\n",
      "[500]\tvalidation_0-rmse:7.77998\n"
     ]
    },
    {
     "name": "stderr",
     "output_type": "stream",
     "text": [
      "\u001b[32m[I 2021-08-26 04:14:03,371]\u001b[0m Trial 6 finished with value: 7.763377031312387 and parameters: {'learning_rate': 0.04525480928572319, 'subsample': 0.6538027629538257, 'colsample_bytree': 0.5416914318105372, 'max_depth': 19, 'lambda': 43.11305685382793, 'alpha': 46.3200892931558, 'min_child_weight': 229.09595056589987}. Best is trial 4 with value: 7.752591558544784.\u001b[0m\n"
     ]
    },
    {
     "name": "stdout",
     "output_type": "stream",
     "text": [
      "[0]\tvalidation_0-rmse:9.98163\n",
      "[1000]\tvalidation_0-rmse:7.76489\n",
      "[1764]\tvalidation_0-rmse:7.76121\n",
      "[0]\tvalidation_0-rmse:9.98226\n",
      "[1000]\tvalidation_0-rmse:7.76683\n",
      "[1103]\tvalidation_0-rmse:7.76735\n"
     ]
    },
    {
     "name": "stderr",
     "output_type": "stream",
     "text": [
      "\u001b[32m[I 2021-08-26 04:20:47,005]\u001b[0m Trial 7 finished with value: 7.758013576329395 and parameters: {'learning_rate': 0.017269988724329298, 'subsample': 0.28802029066562024, 'colsample_bytree': 0.6092146971730023, 'max_depth': 14, 'lambda': 19.869783202657, 'alpha': 47.72958389989359, 'min_child_weight': 395.0731288499512}. Best is trial 4 with value: 7.752591558544784.\u001b[0m\n"
     ]
    },
    {
     "name": "stdout",
     "output_type": "stream",
     "text": [
      "[0]\tvalidation_0-rmse:9.68065\n",
      "[262]\tvalidation_0-rmse:7.85519\n",
      "[0]\tvalidation_0-rmse:9.68369\n",
      "[264]\tvalidation_0-rmse:7.86125\n"
     ]
    },
    {
     "name": "stderr",
     "output_type": "stream",
     "text": [
      "\u001b[32m[I 2021-08-26 04:22:41,009]\u001b[0m Trial 8 finished with value: 7.788725598551424 and parameters: {'learning_rate': 0.09633297706965967, 'subsample': 0.27204297166725466, 'colsample_bytree': 0.8421951705372284, 'max_depth': 12, 'lambda': 22.5851276558412, 'alpha': 37.66988983631857, 'min_child_weight': 125.02591965443074}. Best is trial 4 with value: 7.752591558544784.\u001b[0m\n"
     ]
    },
    {
     "name": "stdout",
     "output_type": "stream",
     "text": [
      "[0]\tvalidation_0-rmse:10.02308\n",
      "[1000]\tvalidation_0-rmse:7.77079\n",
      "[2000]\tvalidation_0-rmse:7.75834\n",
      "[2709]\tvalidation_0-rmse:7.75723\n",
      "[0]\tvalidation_0-rmse:10.02316\n",
      "[1000]\tvalidation_0-rmse:7.76968\n",
      "[2000]\tvalidation_0-rmse:7.75930\n",
      "[3000]\tvalidation_0-rmse:7.75682\n",
      "[3261]\tvalidation_0-rmse:7.75708\n"
     ]
    },
    {
     "name": "stderr",
     "output_type": "stream",
     "text": [
      "\u001b[32m[I 2021-08-26 04:50:43,498]\u001b[0m Trial 9 finished with value: 7.753267186295979 and parameters: {'learning_rate': 0.006738486587321368, 'subsample': 0.48485616412720456, 'colsample_bytree': 0.43762564824736006, 'max_depth': 29, 'lambda': 18.009637770310515, 'alpha': 24.83000111768721, 'min_child_weight': 185.83450176660517}. Best is trial 4 with value: 7.752591558544784.\u001b[0m\n"
     ]
    },
    {
     "name": "stdout",
     "output_type": "stream",
     "text": [
      "[0]\tvalidation_0-rmse:9.91965\n",
      "[1000]\tvalidation_0-rmse:7.78989\n",
      "[2000]\tvalidation_0-rmse:7.77603\n",
      "[3000]\tvalidation_0-rmse:7.77017\n",
      "[4000]\tvalidation_0-rmse:7.76668\n",
      "[5000]\tvalidation_0-rmse:7.76492\n",
      "[6000]\tvalidation_0-rmse:7.76317\n",
      "[7000]\tvalidation_0-rmse:7.76260\n",
      "[8000]\tvalidation_0-rmse:7.76177\n",
      "[9000]\tvalidation_0-rmse:7.76102\n",
      "[9520]\tvalidation_0-rmse:7.76092\n",
      "[0]\tvalidation_0-rmse:9.91967\n",
      "[1000]\tvalidation_0-rmse:7.79037\n",
      "[2000]\tvalidation_0-rmse:7.77680\n",
      "[3000]\tvalidation_0-rmse:7.77137\n",
      "[4000]\tvalidation_0-rmse:7.76822\n",
      "[5000]\tvalidation_0-rmse:7.76597\n",
      "[6000]\tvalidation_0-rmse:7.76461\n",
      "[7000]\tvalidation_0-rmse:7.76393\n",
      "[8000]\tvalidation_0-rmse:7.76308\n",
      "[8647]\tvalidation_0-rmse:7.76295\n"
     ]
    },
    {
     "name": "stderr",
     "output_type": "stream",
     "text": [
      "\u001b[32m[I 2021-08-26 05:09:43,091]\u001b[0m Trial 10 finished with value: 7.76153232574585 and parameters: {'learning_rate': 0.033348564551656044, 'subsample': 0.9906086910339917, 'colsample_bytree': 0.21303785233982422, 'max_depth': 2, 'lambda': 38.31700769385728, 'alpha': 2.447965080436135, 'min_child_weight': 494.1278433206679}. Best is trial 4 with value: 7.752591558544784.\u001b[0m\n"
     ]
    },
    {
     "name": "stdout",
     "output_type": "stream",
     "text": [
      "[0]\tvalidation_0-rmse:10.03534\n",
      "[1000]\tvalidation_0-rmse:7.81372\n",
      "[2000]\tvalidation_0-rmse:7.79263\n",
      "[3000]\tvalidation_0-rmse:7.78088\n",
      "[4000]\tvalidation_0-rmse:7.77349\n",
      "[5000]\tvalidation_0-rmse:7.76856\n",
      "[6000]\tvalidation_0-rmse:7.76511\n",
      "[7000]\tvalidation_0-rmse:7.76243\n",
      "[8000]\tvalidation_0-rmse:7.76012\n",
      "[9000]\tvalidation_0-rmse:7.75821\n",
      "[9999]\tvalidation_0-rmse:7.75692\n",
      "[0]\tvalidation_0-rmse:10.03537\n",
      "[1000]\tvalidation_0-rmse:7.81385\n",
      "[2000]\tvalidation_0-rmse:7.79283\n",
      "[3000]\tvalidation_0-rmse:7.78137\n",
      "[4000]\tvalidation_0-rmse:7.77373\n",
      "[5000]\tvalidation_0-rmse:7.76903\n",
      "[6000]\tvalidation_0-rmse:7.76558\n",
      "[7000]\tvalidation_0-rmse:7.76277\n",
      "[8000]\tvalidation_0-rmse:7.76078\n",
      "[9000]\tvalidation_0-rmse:7.75927\n",
      "[9999]\tvalidation_0-rmse:7.75816\n"
     ]
    },
    {
     "name": "stderr",
     "output_type": "stream",
     "text": [
      "\u001b[32m[I 2021-08-26 05:42:41,866]\u001b[0m Trial 11 finished with value: 7.7573553613209825 and parameters: {'learning_rate': 0.0035935844907846433, 'subsample': 0.8242321011694748, 'colsample_bytree': 0.3637713174032068, 'max_depth': 6, 'lambda': 33.0982900390714, 'alpha': 10.78485210797846, 'min_child_weight': 285.591922126045}. Best is trial 4 with value: 7.752591558544784.\u001b[0m\n"
     ]
    },
    {
     "name": "stdout",
     "output_type": "stream",
     "text": [
      "[0]\tvalidation_0-rmse:10.03694\n",
      "[1000]\tvalidation_0-rmse:7.79671\n",
      "[2000]\tvalidation_0-rmse:7.77117\n",
      "[3000]\tvalidation_0-rmse:7.76290\n",
      "[4000]\tvalidation_0-rmse:7.75896\n",
      "[5000]\tvalidation_0-rmse:7.75638\n",
      "[5757]\tvalidation_0-rmse:7.75553\n",
      "[0]\tvalidation_0-rmse:10.03704\n",
      "[1000]\tvalidation_0-rmse:7.79739\n",
      "[2000]\tvalidation_0-rmse:7.77200\n",
      "[3000]\tvalidation_0-rmse:7.76363\n",
      "[4000]\tvalidation_0-rmse:7.75994\n",
      "[5000]\tvalidation_0-rmse:7.75755\n",
      "[5317]\tvalidation_0-rmse:7.75756\n"
     ]
    },
    {
     "name": "stderr",
     "output_type": "stream",
     "text": [
      "\u001b[32m[I 2021-08-26 06:27:15,611]\u001b[0m Trial 12 finished with value: 7.754740152117057 and parameters: {'learning_rate': 0.0031928708554253217, 'subsample': 0.3875967545652008, 'colsample_bytree': 0.3568289353674956, 'max_depth': 30, 'lambda': 9.769172885363414, 'alpha': 17.36148038741703, 'min_child_weight': 167.46550430528768}. Best is trial 4 with value: 7.752591558544784.\u001b[0m\n"
     ]
    },
    {
     "name": "stdout",
     "output_type": "stream",
     "text": [
      "[0]\tvalidation_0-rmse:9.97207\n",
      "[1000]\tvalidation_0-rmse:7.76310\n",
      "[1276]\tvalidation_0-rmse:7.76232\n",
      "[0]\tvalidation_0-rmse:9.97218\n",
      "[1000]\tvalidation_0-rmse:7.76444\n",
      "[1060]\tvalidation_0-rmse:7.76456\n"
     ]
    },
    {
     "name": "stderr",
     "output_type": "stream",
     "text": [
      "\u001b[32m[I 2021-08-26 06:37:37,501]\u001b[0m Trial 13 finished with value: 7.75759470583614 and parameters: {'learning_rate': 0.019737468011112362, 'subsample': 0.7891052150451058, 'colsample_bytree': 0.20445822726108767, 'max_depth': 25, 'lambda': 28.121402593681864, 'alpha': 5.535803705649473, 'min_child_weight': 308.8593526716751}. Best is trial 4 with value: 7.752591558544784.\u001b[0m\n"
     ]
    },
    {
     "name": "stdout",
     "output_type": "stream",
     "text": [
      "[0]\tvalidation_0-rmse:9.95942\n",
      "[1000]\tvalidation_0-rmse:7.76595\n",
      "[1142]\tvalidation_0-rmse:7.76642\n",
      "[0]\tvalidation_0-rmse:9.95997\n",
      "[1000]\tvalidation_0-rmse:7.76477\n",
      "[1001]\tvalidation_0-rmse:7.76469\n"
     ]
    },
    {
     "name": "stderr",
     "output_type": "stream",
     "text": [
      "\u001b[32m[I 2021-08-26 06:42:31,194]\u001b[0m Trial 14 finished with value: 7.758959538165153 and parameters: {'learning_rate': 0.022999830442607665, 'subsample': 0.4157525113779784, 'colsample_bytree': 0.43826753572262184, 'max_depth': 10, 'lambda': 9.239109174853064, 'alpha': 13.59152129914517, 'min_child_weight': 178.30018014803758}. Best is trial 4 with value: 7.752591558544784.\u001b[0m\n"
     ]
    },
    {
     "name": "stdout",
     "output_type": "stream",
     "text": [
      "[0]\tvalidation_0-rmse:10.04336\n",
      "[1000]\tvalidation_0-rmse:7.93006\n",
      "[2000]\tvalidation_0-rmse:7.79918\n",
      "[3000]\tvalidation_0-rmse:7.78053\n",
      "[4000]\tvalidation_0-rmse:7.77201\n",
      "[5000]\tvalidation_0-rmse:7.76620\n",
      "[6000]\tvalidation_0-rmse:7.76218\n",
      "[7000]\tvalidation_0-rmse:7.75914\n",
      "[8000]\tvalidation_0-rmse:7.75705\n",
      "[9000]\tvalidation_0-rmse:7.75518\n",
      "[9999]\tvalidation_0-rmse:7.75388\n",
      "[0]\tvalidation_0-rmse:10.04338\n",
      "[1000]\tvalidation_0-rmse:7.93002\n",
      "[2000]\tvalidation_0-rmse:7.79889\n",
      "[3000]\tvalidation_0-rmse:7.78036\n",
      "[4000]\tvalidation_0-rmse:7.77182\n",
      "[5000]\tvalidation_0-rmse:7.76633\n",
      "[6000]\tvalidation_0-rmse:7.76244\n",
      "[7000]\tvalidation_0-rmse:7.75939\n",
      "[8000]\tvalidation_0-rmse:7.75698\n",
      "[9000]\tvalidation_0-rmse:7.75510\n",
      "[9999]\tvalidation_0-rmse:7.75392\n"
     ]
    },
    {
     "name": "stderr",
     "output_type": "stream",
     "text": [
      "\u001b[32m[I 2021-08-26 08:02:41,820]\u001b[0m Trial 15 finished with value: 7.7535579777516705 and parameters: {'learning_rate': 0.0015799337322794822, 'subsample': 0.7285036441776518, 'colsample_bytree': 0.4241166941659767, 'max_depth': 17, 'lambda': 30.252823506845854, 'alpha': 25.18063450684353, 'min_child_weight': 283.05578970620513}. Best is trial 4 with value: 7.752591558544784.\u001b[0m\n"
     ]
    },
    {
     "name": "stdout",
     "output_type": "stream",
     "text": [
      "[0]\tvalidation_0-rmse:9.91468\n",
      "[518]\tvalidation_0-rmse:7.79254\n",
      "[0]\tvalidation_0-rmse:9.91603\n",
      "[475]\tvalidation_0-rmse:7.78841\n"
     ]
    },
    {
     "name": "stderr",
     "output_type": "stream",
     "text": [
      "\u001b[32m[I 2021-08-26 08:05:47,981]\u001b[0m Trial 16 finished with value: 7.771637256241299 and parameters: {'learning_rate': 0.03450956242507055, 'subsample': 0.20475121928914786, 'colsample_bytree': 0.7353253785172671, 'max_depth': 25, 'lambda': 35.93849895266514, 'alpha': 27.48164001578987, 'min_child_weight': 182.53929606877827}. Best is trial 4 with value: 7.752591558544784.\u001b[0m\n"
     ]
    },
    {
     "name": "stdout",
     "output_type": "stream",
     "text": [
      "[0]\tvalidation_0-rmse:10.00610\n",
      "[1000]\tvalidation_0-rmse:7.77138\n",
      "[2000]\tvalidation_0-rmse:7.75962\n",
      "[3000]\tvalidation_0-rmse:7.75582\n",
      "[3192]\tvalidation_0-rmse:7.75573\n",
      "[0]\tvalidation_0-rmse:10.00629\n",
      "[1000]\tvalidation_0-rmse:7.77275\n",
      "[2000]\tvalidation_0-rmse:7.76035\n",
      "[2954]\tvalidation_0-rmse:7.75722\n"
     ]
    },
    {
     "name": "stderr",
     "output_type": "stream",
     "text": [
      "\u001b[32m[I 2021-08-26 08:18:44,992]\u001b[0m Trial 17 finished with value: 7.754560574682327 and parameters: {'learning_rate': 0.011073136493049012, 'subsample': 0.523487221684534, 'colsample_bytree': 0.27426278512741625, 'max_depth': 9, 'lambda': 47.712588168676604, 'alpha': 7.0570338958369225, 'min_child_weight': 252.34213616699822}. Best is trial 4 with value: 7.752591558544784.\u001b[0m\n"
     ]
    },
    {
     "name": "stdout",
     "output_type": "stream",
     "text": [
      "[0]\tvalidation_0-rmse:9.86300\n",
      "[299]\tvalidation_0-rmse:7.81342\n",
      "[0]\tvalidation_0-rmse:9.86417\n",
      "[338]\tvalidation_0-rmse:7.82335\n"
     ]
    },
    {
     "name": "stderr",
     "output_type": "stream",
     "text": [
      "\u001b[32m[I 2021-08-26 08:22:10,869]\u001b[0m Trial 18 finished with value: 7.787175237735108 and parameters: {'learning_rate': 0.047909197922225484, 'subsample': 0.3512412971861364, 'colsample_bytree': 0.46910956159059186, 'max_depth': 26, 'lambda': 13.496528085955353, 'alpha': 17.17554685154848, 'min_child_weight': 101.52588858226753}. Best is trial 4 with value: 7.752591558544784.\u001b[0m\n"
     ]
    },
    {
     "name": "stdout",
     "output_type": "stream",
     "text": [
      "[0]\tvalidation_0-rmse:9.92394\n",
      "[707]\tvalidation_0-rmse:7.77463\n",
      "[0]\tvalidation_0-rmse:9.92416\n",
      "[630]\tvalidation_0-rmse:7.76388\n"
     ]
    },
    {
     "name": "stderr",
     "output_type": "stream",
     "text": [
      "\u001b[32m[I 2021-08-26 08:27:34,460]\u001b[0m Trial 19 finished with value: 7.759766637259125 and parameters: {'learning_rate': 0.03219075219004553, 'subsample': 0.6928355260337986, 'colsample_bytree': 0.2819001138488545, 'max_depth': 22, 'lambda': 26.164072656590605, 'alpha': 21.172672635614486, 'min_child_weight': 319.95214936040804}. Best is trial 4 with value: 7.752591558544784.\u001b[0m\n"
     ]
    },
    {
     "name": "stdout",
     "output_type": "stream",
     "text": [
      "[0]\tvalidation_0-rmse:10.00279\n",
      "[1000]\tvalidation_0-rmse:7.76246\n",
      "[1945]\tvalidation_0-rmse:7.75959\n",
      "[0]\tvalidation_0-rmse:10.00277\n",
      "[1000]\tvalidation_0-rmse:7.75912\n",
      "[2000]\tvalidation_0-rmse:7.75532\n",
      "[2130]\tvalidation_0-rmse:7.75540\n"
     ]
    },
    {
     "name": "stderr",
     "output_type": "stream",
     "text": [
      "\u001b[32m[I 2021-08-26 08:48:16,445]\u001b[0m Trial 20 finished with value: 7.753368074038411 and parameters: {'learning_rate': 0.012032131421893098, 'subsample': 0.9740636799639886, 'colsample_bytree': 0.4718494314838103, 'max_depth': 16, 'lambda': 6.388176533083147, 'alpha': 1.4438189269724973, 'min_child_weight': 213.4019768777319}. Best is trial 4 with value: 7.752591558544784.\u001b[0m\n"
     ]
    },
    {
     "name": "stdout",
     "output_type": "stream",
     "text": [
      "[0]\tvalidation_0-rmse:10.00322\n",
      "[1000]\tvalidation_0-rmse:7.75881\n",
      "[1844]\tvalidation_0-rmse:7.75670\n",
      "[0]\tvalidation_0-rmse:10.00330\n",
      "[1000]\tvalidation_0-rmse:7.75968\n",
      "[2000]\tvalidation_0-rmse:7.75638\n",
      "[2073]\tvalidation_0-rmse:7.75639\n"
     ]
    },
    {
     "name": "stderr",
     "output_type": "stream",
     "text": [
      "\u001b[32m[I 2021-08-26 09:08:07,255]\u001b[0m Trial 21 finished with value: 7.752770723611293 and parameters: {'learning_rate': 0.011891129143480563, 'subsample': 0.9844445211821279, 'colsample_bytree': 0.4564709037953831, 'max_depth': 16, 'lambda': 4.3095244065722, 'alpha': 0.09107754635826737, 'min_child_weight': 205.64873150889667}. Best is trial 4 with value: 7.752591558544784.\u001b[0m\n"
     ]
    },
    {
     "name": "stdout",
     "output_type": "stream",
     "text": [
      "[0]\tvalidation_0-rmse:9.94966\n",
      "[732]\tvalidation_0-rmse:7.77051\n",
      "[0]\tvalidation_0-rmse:9.94978\n",
      "[744]\tvalidation_0-rmse:7.77382\n"
     ]
    },
    {
     "name": "stderr",
     "output_type": "stream",
     "text": [
      "\u001b[32m[I 2021-08-26 09:17:41,495]\u001b[0m Trial 22 finished with value: 7.76283622849012 and parameters: {'learning_rate': 0.025564641414786544, 'subsample': 0.8927720749997143, 'colsample_bytree': 0.3970999852083067, 'max_depth': 19, 'lambda': 19.232092798179377, 'alpha': 0.6911431643476544, 'min_child_weight': 143.32181607397965}. Best is trial 4 with value: 7.752591558544784.\u001b[0m\n"
     ]
    },
    {
     "name": "stdout",
     "output_type": "stream",
     "text": [
      "[0]\tvalidation_0-rmse:10.01368\n",
      "[1000]\tvalidation_0-rmse:7.76387\n",
      "[2000]\tvalidation_0-rmse:7.75440\n",
      "[3000]\tvalidation_0-rmse:7.75209\n",
      "[3691]\tvalidation_0-rmse:7.75197\n",
      "[0]\tvalidation_0-rmse:10.01377\n",
      "[1000]\tvalidation_0-rmse:7.76135\n",
      "[2000]\tvalidation_0-rmse:7.75229\n",
      "[2565]\tvalidation_0-rmse:7.75096\n"
     ]
    },
    {
     "name": "stderr",
     "output_type": "stream",
     "text": [
      "\u001b[32m[I 2021-08-26 09:45:18,257]\u001b[0m Trial 23 finished with value: 7.748372011001994 and parameters: {'learning_rate': 0.009137980241462154, 'subsample': 0.894577526126585, 'colsample_bytree': 0.631933960621113, 'max_depth': 14, 'lambda': 12.655747040153953, 'alpha': 8.692284168970499, 'min_child_weight': 256.30230889039706}. Best is trial 23 with value: 7.748372011001994.\u001b[0m\n"
     ]
    },
    {
     "name": "stdout",
     "output_type": "stream",
     "text": [
      "[0]\tvalidation_0-rmse:9.99717\n",
      "[1000]\tvalidation_0-rmse:7.75985\n",
      "[2000]\tvalidation_0-rmse:7.75643\n",
      "[2033]\tvalidation_0-rmse:7.75675\n",
      "[0]\tvalidation_0-rmse:9.99724\n",
      "[1000]\tvalidation_0-rmse:7.75826\n",
      "[1638]\tvalidation_0-rmse:7.75530\n"
     ]
    },
    {
     "name": "stderr",
     "output_type": "stream",
     "text": [
      "\u001b[32m[I 2021-08-26 10:01:43,753]\u001b[0m Trial 24 finished with value: 7.752340352663925 and parameters: {'learning_rate': 0.013409241018074027, 'subsample': 0.9995787757961239, 'colsample_bytree': 0.6475209889715107, 'max_depth': 14, 'lambda': 5.818129677368716, 'alpha': 9.139582733184927, 'min_child_weight': 263.7367927262772}. Best is trial 23 with value: 7.748372011001994.\u001b[0m\n"
     ]
    },
    {
     "name": "stdout",
     "output_type": "stream",
     "text": [
      "[0]\tvalidation_0-rmse:9.89212\n",
      "[531]\tvalidation_0-rmse:7.76568\n",
      "[0]\tvalidation_0-rmse:9.89201\n",
      "[652]\tvalidation_0-rmse:7.76535\n"
     ]
    },
    {
     "name": "stderr",
     "output_type": "stream",
     "text": [
      "\u001b[32m[I 2021-08-26 10:06:22,099]\u001b[0m Trial 25 finished with value: 7.757096797214507 and parameters: {'learning_rate': 0.0404305603462074, 'subsample': 0.8830286984440594, 'colsample_bytree': 0.7218102933953011, 'max_depth': 13, 'lambda': 11.036939320388743, 'alpha': 9.468626164622615, 'min_child_weight': 343.4522730671516}. Best is trial 23 with value: 7.748372011001994.\u001b[0m\n"
     ]
    },
    {
     "name": "stdout",
     "output_type": "stream",
     "text": [
      "[0]\tvalidation_0-rmse:9.98428\n",
      "[1000]\tvalidation_0-rmse:7.76667\n",
      "[2000]\tvalidation_0-rmse:7.75636\n",
      "[2866]\tvalidation_0-rmse:7.75454\n",
      "[0]\tvalidation_0-rmse:9.98443\n",
      "[1000]\tvalidation_0-rmse:7.76695\n",
      "[2000]\tvalidation_0-rmse:7.75764\n",
      "[3000]\tvalidation_0-rmse:7.75403\n",
      "[3360]\tvalidation_0-rmse:7.75373\n"
     ]
    },
    {
     "name": "stderr",
     "output_type": "stream",
     "text": [
      "\u001b[32m[I 2021-08-26 10:19:27,535]\u001b[0m Trial 26 finished with value: 7.752103960773653 and parameters: {'learning_rate': 0.01663226948533441, 'subsample': 0.9437761064647261, 'colsample_bytree': 0.622968691584389, 'max_depth': 7, 'lambda': 6.720664378451102, 'alpha': 14.286266712538623, 'min_child_weight': 267.0039528767657}. Best is trial 23 with value: 7.748372011001994.\u001b[0m\n"
     ]
    },
    {
     "name": "stdout",
     "output_type": "stream",
     "text": [
      "[0]\tvalidation_0-rmse:9.94025\n",
      "[1000]\tvalidation_0-rmse:7.76478\n",
      "[2000]\tvalidation_0-rmse:7.75621\n",
      "[3000]\tvalidation_0-rmse:7.75478\n",
      "[3049]\tvalidation_0-rmse:7.75474\n",
      "[0]\tvalidation_0-rmse:9.94037\n",
      "[1000]\tvalidation_0-rmse:7.76644\n",
      "[2000]\tvalidation_0-rmse:7.75745\n",
      "[2916]\tvalidation_0-rmse:7.75537\n"
     ]
    },
    {
     "name": "stderr",
     "output_type": "stream",
     "text": [
      "\u001b[32m[I 2021-08-26 10:28:55,542]\u001b[0m Trial 27 finished with value: 7.752642950140991 and parameters: {'learning_rate': 0.027952985447291252, 'subsample': 0.7971653998632723, 'colsample_bytree': 0.63942787793898, 'max_depth': 5, 'lambda': 7.395304676744577, 'alpha': 14.570413366473025, 'min_child_weight': 267.3297580567705}. Best is trial 23 with value: 7.748372011001994.\u001b[0m\n"
     ]
    },
    {
     "name": "stdout",
     "output_type": "stream",
     "text": [
      "[0]\tvalidation_0-rmse:9.83182\n",
      "[710]\tvalidation_0-rmse:7.76337\n",
      "[0]\tvalidation_0-rmse:9.83159\n",
      "[685]\tvalidation_0-rmse:7.76435\n"
     ]
    },
    {
     "name": "stderr",
     "output_type": "stream",
     "text": [
      "\u001b[32m[I 2021-08-26 10:32:28,412]\u001b[0m Trial 28 finished with value: 7.757350792426479 and parameters: {'learning_rate': 0.05596440407601175, 'subsample': 0.9182082639671065, 'colsample_bytree': 0.7993260340378379, 'max_depth': 8, 'lambda': 1.8223313995973616, 'alpha': 11.875875593666029, 'min_child_weight': 337.88483908494027}. Best is trial 23 with value: 7.748372011001994.\u001b[0m\n"
     ]
    },
    {
     "name": "stdout",
     "output_type": "stream",
     "text": [
      "[0]\tvalidation_0-rmse:9.98201\n",
      "[1000]\tvalidation_0-rmse:7.80444\n",
      "[2000]\tvalidation_0-rmse:7.78671\n",
      "[3000]\tvalidation_0-rmse:7.77850\n",
      "[4000]\tvalidation_0-rmse:7.77359\n",
      "[5000]\tvalidation_0-rmse:7.77008\n",
      "[6000]\tvalidation_0-rmse:7.76802\n",
      "[7000]\tvalidation_0-rmse:7.76629\n",
      "[8000]\tvalidation_0-rmse:7.76495\n",
      "[9000]\tvalidation_0-rmse:7.76388\n",
      "[9999]\tvalidation_0-rmse:7.76311\n",
      "[0]\tvalidation_0-rmse:9.98203\n",
      "[1000]\tvalidation_0-rmse:7.80450\n",
      "[2000]\tvalidation_0-rmse:7.78714\n",
      "[3000]\tvalidation_0-rmse:7.77880\n",
      "[4000]\tvalidation_0-rmse:7.77380\n",
      "[5000]\tvalidation_0-rmse:7.77098\n",
      "[6000]\tvalidation_0-rmse:7.76872\n",
      "[7000]\tvalidation_0-rmse:7.76688\n",
      "[8000]\tvalidation_0-rmse:7.76559\n",
      "[9000]\tvalidation_0-rmse:7.76448\n",
      "[9999]\tvalidation_0-rmse:7.76369\n"
     ]
    },
    {
     "name": "stderr",
     "output_type": "stream",
     "text": [
      "\u001b[32m[I 2021-08-26 10:54:55,672]\u001b[0m Trial 29 finished with value: 7.763246705425261 and parameters: {'learning_rate': 0.017213131792756825, 'subsample': 0.8538757746277529, 'colsample_bytree': 0.9494973870076724, 'max_depth': 2, 'lambda': 0.6430543633550476, 'alpha': 18.265843195660864, 'min_child_weight': 395.1536177644449}. Best is trial 23 with value: 7.748372011001994.\u001b[0m\n"
     ]
    },
    {
     "name": "stdout",
     "output_type": "stream",
     "text": [
      "Number of finished trials: 30\n",
      "Best trial: {'learning_rate': 0.009137980241462154, 'subsample': 0.894577526126585, 'colsample_bytree': 0.631933960621113, 'max_depth': 14, 'lambda': 12.655747040153953, 'alpha': 8.692284168970499, 'min_child_weight': 256.30230889039706}\n"
     ]
    }
   ],
   "source": [
    "study = optuna.create_study(direction='minimize')\n",
    "study.optimize(objective,n_trials= 30)\n",
    "print('Number of finished trials:', len(study.trials))\n",
    "print('Best trial:', study.best_trial.params)"
   ]
  },
  {
   "cell_type": "code",
   "execution_count": 11,
   "id": "ecd968a6",
   "metadata": {
    "execution": {
     "iopub.execute_input": "2021-08-26T10:54:55.834495Z",
     "iopub.status.busy": "2021-08-26T10:54:55.833895Z",
     "iopub.status.idle": "2021-08-26T10:54:55.844414Z",
     "shell.execute_reply": "2021-08-26T10:54:55.843952Z"
    },
    "papermill": {
     "duration": 0.086332,
     "end_time": "2021-08-26T10:54:55.844567",
     "exception": false,
     "start_time": "2021-08-26T10:54:55.758235",
     "status": "completed"
    },
    "tags": []
   },
   "outputs": [
    {
     "data": {
      "text/plain": [
       "{'learning_rate': 0.009137980241462154,\n",
       " 'subsample': 0.894577526126585,\n",
       " 'colsample_bytree': 0.631933960621113,\n",
       " 'max_depth': 14,\n",
       " 'lambda': 12.655747040153953,\n",
       " 'alpha': 8.692284168970499,\n",
       " 'min_child_weight': 256.30230889039706}"
      ]
     },
     "execution_count": 11,
     "metadata": {},
     "output_type": "execute_result"
    }
   ],
   "source": [
    "study.best_params"
   ]
  },
  {
   "cell_type": "markdown",
   "id": "7a384c3e",
   "metadata": {
    "papermill": {
     "duration": 0.072263,
     "end_time": "2021-08-26T10:54:55.991323",
     "exception": false,
     "start_time": "2021-08-26T10:54:55.919060",
     "status": "completed"
    },
    "tags": []
   },
   "source": [
    "# Log\n",
    "\n",
    "7.758238638554282 row-wise noise ver1\n",
    "\n",
    "7.758171791679289 random noise ver4\n",
    "\n",
    "7.745837750406564 no noise ver5\n",
    "\n",
    "7.744947212695728 no noise ver7 (narrow space)\n",
    "\n",
    "7.744636762159451 no noise ver8 (narrow space) final\n",
    "\n",
    "=============================================\n",
    "============== Change pseudo ================\n",
    "\n"
   ]
  }
 ],
 "metadata": {
  "kernelspec": {
   "display_name": "Python 3",
   "language": "python",
   "name": "python3"
  },
  "language_info": {
   "codemirror_mode": {
    "name": "ipython",
    "version": 3
   },
   "file_extension": ".py",
   "mimetype": "text/x-python",
   "name": "python",
   "nbconvert_exporter": "python",
   "pygments_lexer": "ipython3",
   "version": "3.7.10"
  },
  "papermill": {
   "default_parameters": {},
   "duration": 26825.872771,
   "end_time": "2021-08-26T10:54:57.540565",
   "environment_variables": {},
   "exception": null,
   "input_path": "__notebook__.ipynb",
   "output_path": "__notebook__.ipynb",
   "parameters": {},
   "start_time": "2021-08-26T03:27:51.667794",
   "version": "2.3.3"
  }
 },
 "nbformat": 4,
 "nbformat_minor": 5
}
