{
 "cells": [
  {
   "cell_type": "markdown",
   "id": "a10c5edc",
   "metadata": {
    "papermill": {
     "duration": 0.017833,
     "end_time": "2021-08-27T14:00:15.109479",
     "exception": false,
     "start_time": "2021-08-27T14:00:15.091646",
     "status": "completed"
    },
    "tags": []
   },
   "source": [
    "# Libraries"
   ]
  },
  {
   "cell_type": "code",
   "execution_count": 1,
   "id": "7921f9b5",
   "metadata": {
    "_cell_guid": "b1076dfc-b9ad-4769-8c92-a6c4dae69d19",
    "_uuid": "8f2839f25d086af736a60e9eeb907d3b93b6e0e5",
    "execution": {
     "iopub.execute_input": "2021-08-27T14:00:15.157652Z",
     "iopub.status.busy": "2021-08-27T14:00:15.156884Z",
     "iopub.status.idle": "2021-08-27T14:00:16.689244Z",
     "shell.execute_reply": "2021-08-27T14:00:16.688376Z",
     "shell.execute_reply.started": "2021-08-27T13:58:49.390078Z"
    },
    "papermill": {
     "duration": 1.562918,
     "end_time": "2021-08-27T14:00:16.689458",
     "exception": false,
     "start_time": "2021-08-27T14:00:15.126540",
     "status": "completed"
    },
    "tags": []
   },
   "outputs": [],
   "source": [
    "from pathlib import Path\n",
    "import pandas as pd\n",
    "import numpy as np\n",
    "import pickle\n",
    "import random\n",
    "import time\n",
    "import os\n",
    "\n",
    "from sklearn.preprocessing import StandardScaler\n",
    "from sklearn.model_selection import KFold\n",
    "from sklearn.metrics import mean_squared_error\n",
    "\n",
    "from scipy.optimize import minimize\n",
    "\n",
    "#import lightgbm as lgb\n",
    "#import xgboost as xgb\n",
    "import catboost as ctb\n",
    "#from sklearn.linear_model import Ridge\n",
    "\n",
    "import matplotlib.pyplot as plt\n",
    "import seaborn as sns\n",
    "\n",
    "import warnings\n",
    "warnings.simplefilter('ignore')"
   ]
  },
  {
   "cell_type": "markdown",
   "id": "214c5c91",
   "metadata": {
    "papermill": {
     "duration": 0.015497,
     "end_time": "2021-08-27T14:00:16.720570",
     "exception": false,
     "start_time": "2021-08-27T14:00:16.705073",
     "status": "completed"
    },
    "tags": []
   },
   "source": [
    "# Parameters"
   ]
  },
  {
   "cell_type": "code",
   "execution_count": 2,
   "id": "58effc83",
   "metadata": {
    "execution": {
     "iopub.execute_input": "2021-08-27T14:00:16.760232Z",
     "iopub.status.busy": "2021-08-27T14:00:16.759462Z",
     "iopub.status.idle": "2021-08-27T14:00:16.763149Z",
     "shell.execute_reply": "2021-08-27T14:00:16.762457Z",
     "shell.execute_reply.started": "2021-08-27T13:58:50.871345Z"
    },
    "papermill": {
     "duration": 0.02687,
     "end_time": "2021-08-27T14:00:16.763310",
     "exception": false,
     "start_time": "2021-08-27T14:00:16.736440",
     "status": "completed"
    },
    "tags": []
   },
   "outputs": [],
   "source": [
    "target = 'loss'\n",
    "\n",
    "DEBUG = False\n",
    "\n",
    "if DEBUG:\n",
    "    N_ESTIMATORS = 1\n",
    "    N_SPLITS = 2\n",
    "    SEED = 17\n",
    "    CVSEED = 17\n",
    "    EARLY_STOPPING_ROUNDS = 1\n",
    "    VERBOSE = 100\n",
    "    #N_ITERS = 2\n",
    "else:\n",
    "    N_SPLITS = 10\n",
    "    N_ESTIMATORS = 10000\n",
    "    EARLY_STOPPING_ROUNDS = 200\n",
    "    VERBOSE = 1000\n",
    "    SEED = 17\n",
    "    CVSEED = 17\n",
    "    #N_ITERS = 10"
   ]
  },
  {
   "cell_type": "code",
   "execution_count": 3,
   "id": "1e304eef",
   "metadata": {
    "execution": {
     "iopub.execute_input": "2021-08-27T14:00:16.799172Z",
     "iopub.status.busy": "2021-08-27T14:00:16.798400Z",
     "iopub.status.idle": "2021-08-27T14:00:16.801056Z",
     "shell.execute_reply": "2021-08-27T14:00:16.801515Z",
     "shell.execute_reply.started": "2021-08-27T13:58:50.880022Z"
    },
    "papermill": {
     "duration": 0.023207,
     "end_time": "2021-08-27T14:00:16.801699",
     "exception": false,
     "start_time": "2021-08-27T14:00:16.778492",
     "status": "completed"
    },
    "tags": []
   },
   "outputs": [],
   "source": [
    "def set_seed(seed=17):\n",
    "    random.seed(seed)\n",
    "    os.environ['PYTHONHASHSEED'] = str(seed)\n",
    "    np.random.seed(seed)\n",
    "    \n",
    "set_seed(SEED)"
   ]
  },
  {
   "cell_type": "markdown",
   "id": "90e65d0b",
   "metadata": {
    "papermill": {
     "duration": 0.01473,
     "end_time": "2021-08-27T14:00:16.831456",
     "exception": false,
     "start_time": "2021-08-27T14:00:16.816726",
     "status": "completed"
    },
    "tags": []
   },
   "source": [
    "# Datasets"
   ]
  },
  {
   "cell_type": "code",
   "execution_count": 4,
   "id": "a4adff61",
   "metadata": {
    "execution": {
     "iopub.execute_input": "2021-08-27T14:00:16.867341Z",
     "iopub.status.busy": "2021-08-27T14:00:16.866638Z",
     "iopub.status.idle": "2021-08-27T14:00:28.853877Z",
     "shell.execute_reply": "2021-08-27T14:00:28.854421Z",
     "shell.execute_reply.started": "2021-08-27T13:58:50.894348Z"
    },
    "papermill": {
     "duration": 12.008257,
     "end_time": "2021-08-27T14:00:28.854593",
     "exception": false,
     "start_time": "2021-08-27T14:00:16.846336",
     "status": "completed"
    },
    "tags": []
   },
   "outputs": [],
   "source": [
    "INPUT = Path(\"../input/tabular-playground-series-aug-2021\")\n",
    "\n",
    "train = pd.read_csv(INPUT / \"train.csv\")\n",
    "test = pd.read_csv(INPUT / \"test.csv\")\n",
    "submission = pd.read_csv(INPUT / \"sample_submission.csv\")\n"
   ]
  },
  {
   "cell_type": "markdown",
   "id": "d06d79de",
   "metadata": {
    "papermill": {
     "duration": 0.014588,
     "end_time": "2021-08-27T14:00:28.884152",
     "exception": false,
     "start_time": "2021-08-27T14:00:28.869564",
     "status": "completed"
    },
    "tags": []
   },
   "source": [
    "# Preprocessing"
   ]
  },
  {
   "cell_type": "code",
   "execution_count": 5,
   "id": "59977cb6",
   "metadata": {
    "execution": {
     "iopub.execute_input": "2021-08-27T14:00:29.013358Z",
     "iopub.status.busy": "2021-08-27T14:00:29.006163Z",
     "iopub.status.idle": "2021-08-27T14:00:41.176180Z",
     "shell.execute_reply": "2021-08-27T14:00:41.175607Z",
     "shell.execute_reply.started": "2021-08-27T13:59:03.431916Z"
    },
    "papermill": {
     "duration": 12.277368,
     "end_time": "2021-08-27T14:00:41.176336",
     "exception": false,
     "start_time": "2021-08-27T14:00:28.898968",
     "status": "completed"
    },
    "tags": []
   },
   "outputs": [],
   "source": [
    "scale_features = [col for col in test.columns if 'f' in col]\n",
    "\n",
    "ss = StandardScaler()\n",
    "train[scale_features] = ss.fit_transform(train[scale_features])\n",
    "test[scale_features] = ss.transform(test[scale_features])\n"
   ]
  },
  {
   "cell_type": "code",
   "execution_count": 6,
   "id": "5b2cf691",
   "metadata": {
    "execution": {
     "iopub.execute_input": "2021-08-27T14:00:41.215050Z",
     "iopub.status.busy": "2021-08-27T14:00:41.214308Z",
     "iopub.status.idle": "2021-08-27T14:00:41.217193Z",
     "shell.execute_reply": "2021-08-27T14:00:41.217665Z",
     "shell.execute_reply.started": "2021-08-27T13:59:15.806645Z"
    },
    "papermill": {
     "duration": 0.026448,
     "end_time": "2021-08-27T14:00:41.217864",
     "exception": false,
     "start_time": "2021-08-27T14:00:41.191416",
     "status": "completed"
    },
    "tags": []
   },
   "outputs": [],
   "source": [
    "# Swap noise\n",
    "\n",
    "# Random\n",
    "def apply_noise_rn(df, p=.75):\n",
    "    should_not_swap = np.random.binomial(1, p, df.shape)\n",
    "    corrupted_df = df.where(should_not_swap == 1, np.random.permutation(df))\n",
    "    return corrupted_df\n",
    "\n",
    "# Row-wise\n",
    "def apply_noise_row(df, p=.75):\n",
    "    should_not_swap = np.zeros(df.shape)\n",
    "    for i in range(df.shape[0]):\n",
    "        for j in np.random.choice(df.shape[1],int(p*df.shape[1]),replace=False):\n",
    "            should_not_swap[i,j]=1 \n",
    "    corrupted_df = df.where(should_not_swap == 1, np.random.permutation(df))\n",
    "    return corrupted_df\n",
    "    "
   ]
  },
  {
   "cell_type": "markdown",
   "id": "a815baec",
   "metadata": {
    "papermill": {
     "duration": 0.015123,
     "end_time": "2021-08-27T14:00:41.248660",
     "exception": false,
     "start_time": "2021-08-27T14:00:41.233537",
     "status": "completed"
    },
    "tags": []
   },
   "source": [
    "# Pseudo Label"
   ]
  },
  {
   "cell_type": "code",
   "execution_count": 7,
   "id": "8e392a6f",
   "metadata": {
    "execution": {
     "iopub.execute_input": "2021-08-27T14:00:41.284643Z",
     "iopub.status.busy": "2021-08-27T14:00:41.283961Z",
     "iopub.status.idle": "2021-08-27T14:00:42.422285Z",
     "shell.execute_reply": "2021-08-27T14:00:42.420527Z",
     "shell.execute_reply.started": "2021-08-27T13:59:15.818497Z"
    },
    "papermill": {
     "duration": 1.158273,
     "end_time": "2021-08-27T14:00:42.422486",
     "exception": false,
     "start_time": "2021-08-27T14:00:41.264213",
     "status": "completed"
    },
    "tags": []
   },
   "outputs": [],
   "source": [
    "pseudo = pd.read_csv(\"../input/in-python-tabular-denoising-residual-network/submission_v2.csv\")[target]\n",
    "test_pseudo = pd.concat([test, pseudo], axis=1)\n",
    "all_pseudo = pd.concat([train, test_pseudo]).reset_index(drop=True)"
   ]
  },
  {
   "cell_type": "markdown",
   "id": "26e07df7",
   "metadata": {
    "papermill": {
     "duration": 0.015235,
     "end_time": "2021-08-27T14:00:42.453559",
     "exception": false,
     "start_time": "2021-08-27T14:00:42.438324",
     "status": "completed"
    },
    "tags": []
   },
   "source": [
    "# CatBoost"
   ]
  },
  {
   "cell_type": "code",
   "execution_count": 8,
   "id": "f8b2a7d2",
   "metadata": {
    "execution": {
     "iopub.execute_input": "2021-08-27T14:00:42.491748Z",
     "iopub.status.busy": "2021-08-27T14:00:42.491013Z",
     "iopub.status.idle": "2021-08-27T14:00:42.494676Z",
     "shell.execute_reply": "2021-08-27T14:00:42.494096Z",
     "shell.execute_reply.started": "2021-08-27T13:59:16.583482Z"
    },
    "papermill": {
     "duration": 0.025637,
     "end_time": "2021-08-27T14:00:42.494875",
     "exception": false,
     "start_time": "2021-08-27T14:00:42.469238",
     "status": "completed"
    },
    "tags": []
   },
   "outputs": [],
   "source": [
    "ctb_params = {\n",
    "    'loss_function': 'RMSE',\n",
    "    'eval_metric': 'RMSE',\n",
    "     'n_estimators': N_ESTIMATORS,\n",
    "     \n",
    "    'bootstrap_type': 'MVS',\n",
    "     'max_depth': 6,\n",
    "     'learning_rate': 0.03912784985551841,\n",
    "     'max_bin': 182,\n",
    "     'min_data_in_leaf': 24,\n",
    "     'reg_lambda': 27.78810816753238,\n",
    "     'subsample': 0.20777217056723296\n",
    "}"
   ]
  },
  {
   "cell_type": "code",
   "execution_count": 9,
   "id": "a1fe2640",
   "metadata": {
    "execution": {
     "iopub.execute_input": "2021-08-27T14:00:42.542763Z",
     "iopub.status.busy": "2021-08-27T14:00:42.541856Z",
     "iopub.status.idle": "2021-08-27T16:02:20.101443Z",
     "shell.execute_reply": "2021-08-27T16:02:20.102033Z",
     "shell.execute_reply.started": "2021-08-27T13:59:16.591511Z"
    },
    "papermill": {
     "duration": 7297.591792,
     "end_time": "2021-08-27T16:02:20.102344",
     "exception": false,
     "start_time": "2021-08-27T14:00:42.510552",
     "status": "completed"
    },
    "tags": []
   },
   "outputs": [
    {
     "name": "stdout",
     "output_type": "stream",
     "text": [
      "===== fold 0 =====\n",
      "0:\tlearn: 6.3181430\ttest: 7.8808367\tbest: 7.8808367 (0)\ttotal: 103ms\tremaining: 17m 5s\n",
      "1000:\tlearn: 6.1739047\ttest: 7.7999847\tbest: 7.7999397 (993)\ttotal: 43.2s\tremaining: 6m 28s\n",
      "2000:\tlearn: 6.1145620\ttest: 7.7892276\tbest: 7.7892276 (2000)\ttotal: 1m 25s\tremaining: 5m 42s\n",
      "3000:\tlearn: 6.0609927\ttest: 7.7852328\tbest: 7.7851405 (2974)\ttotal: 2m 8s\tremaining: 5m\n",
      "Stopped by overfitting detector  (200 iterations wait)\n",
      "\n",
      "bestTest = 7.784237923\n",
      "bestIteration = 3429\n",
      "\n",
      "Shrink model to first 3430 iterations.\n",
      "0:\tlearn: 6.3181330\ttest: 7.8807889\tbest: 7.8807889 (0)\ttotal: 43.4ms\tremaining: 7m 14s\n",
      "1000:\tlearn: 6.1738144\ttest: 7.8013146\tbest: 7.8013146 (1000)\ttotal: 42.6s\tremaining: 6m 23s\n",
      "2000:\tlearn: 6.1141382\ttest: 7.7927002\tbest: 7.7926527 (1994)\ttotal: 1m 25s\tremaining: 5m 42s\n",
      "3000:\tlearn: 6.0609422\ttest: 7.7880878\tbest: 7.7880629 (2998)\ttotal: 2m 8s\tremaining: 5m\n",
      "4000:\tlearn: 6.0095555\ttest: 7.7847233\tbest: 7.7846909 (3998)\ttotal: 2m 51s\tremaining: 4m 17s\n",
      "Stopped by overfitting detector  (200 iterations wait)\n",
      "\n",
      "bestTest = 7.784452872\n",
      "bestIteration = 4049\n",
      "\n",
      "Shrink model to first 4050 iterations.\n",
      "0:\tlearn: 6.3180856\ttest: 7.8808041\tbest: 7.8808041 (0)\ttotal: 44ms\tremaining: 7m 20s\n",
      "1000:\tlearn: 6.1737503\ttest: 7.8002177\tbest: 7.8001843 (998)\ttotal: 43.3s\tremaining: 6m 28s\n",
      "2000:\tlearn: 6.1146660\ttest: 7.7913968\tbest: 7.7913968 (2000)\ttotal: 1m 29s\tremaining: 5m 56s\n",
      "3000:\tlearn: 6.0610060\ttest: 7.7874382\tbest: 7.7873564 (2982)\ttotal: 2m 12s\tremaining: 5m 8s\n",
      "4000:\tlearn: 6.0100084\ttest: 7.7837098\tbest: 7.7836019 (3928)\ttotal: 2m 55s\tremaining: 4m 22s\n",
      "5000:\tlearn: 5.9612609\ttest: 7.7809916\tbest: 7.7809916 (5000)\ttotal: 3m 38s\tremaining: 3m 38s\n",
      "Stopped by overfitting detector  (200 iterations wait)\n",
      "\n",
      "bestTest = 7.780560314\n",
      "bestIteration = 5238\n",
      "\n",
      "Shrink model to first 5239 iterations.\n",
      "fold 0 - ctb rmse: 7.781007, elapsed time: 584.60sec\n",
      "\n",
      "===== fold 1 =====\n",
      "0:\tlearn: 6.3248797\ttest: 7.8340123\tbest: 7.8340123 (0)\ttotal: 41.8ms\tremaining: 6m 57s\n",
      "1000:\tlearn: 6.1807884\ttest: 7.7531973\tbest: 7.7531229 (996)\ttotal: 43s\tremaining: 6m 26s\n",
      "2000:\tlearn: 6.1212432\ttest: 7.7456023\tbest: 7.7456023 (2000)\ttotal: 1m 27s\tremaining: 5m 48s\n",
      "3000:\tlearn: 6.0675982\ttest: 7.7420011\tbest: 7.7419934 (2999)\ttotal: 2m 9s\tremaining: 5m 3s\n",
      "4000:\tlearn: 6.0162970\ttest: 7.7393341\tbest: 7.7392772 (3972)\ttotal: 2m 53s\tremaining: 4m 19s\n",
      "Stopped by overfitting detector  (200 iterations wait)\n",
      "\n",
      "bestTest = 7.737577392\n",
      "bestIteration = 4635\n",
      "\n",
      "Shrink model to first 4636 iterations.\n",
      "0:\tlearn: 6.3250612\ttest: 7.8342095\tbest: 7.8342095 (0)\ttotal: 40.4ms\tremaining: 6m 43s\n",
      "1000:\tlearn: 6.1805859\ttest: 7.7516398\tbest: 7.7516398 (1000)\ttotal: 42.9s\tremaining: 6m 25s\n",
      "2000:\tlearn: 6.1214527\ttest: 7.7427274\tbest: 7.7427274 (2000)\ttotal: 1m 25s\tremaining: 5m 41s\n",
      "3000:\tlearn: 6.0676316\ttest: 7.7381704\tbest: 7.7381580 (2997)\ttotal: 2m 8s\tremaining: 5m\n",
      "4000:\tlearn: 6.0161136\ttest: 7.7348152\tbest: 7.7348152 (4000)\ttotal: 2m 51s\tremaining: 4m 17s\n",
      "Stopped by overfitting detector  (200 iterations wait)\n",
      "\n",
      "bestTest = 7.734789336\n",
      "bestIteration = 4002\n",
      "\n",
      "Shrink model to first 4003 iterations.\n",
      "0:\tlearn: 6.3250874\ttest: 7.8341709\tbest: 7.8341709 (0)\ttotal: 46.1ms\tremaining: 7m 40s\n",
      "1000:\tlearn: 6.1804002\ttest: 7.7540174\tbest: 7.7540174 (1000)\ttotal: 42.5s\tremaining: 6m 22s\n",
      "2000:\tlearn: 6.1210046\ttest: 7.7469103\tbest: 7.7468771 (1999)\ttotal: 1m 25s\tremaining: 5m 40s\n",
      "3000:\tlearn: 6.0673444\ttest: 7.7429328\tbest: 7.7428370 (2993)\ttotal: 2m 8s\tremaining: 4m 58s\n",
      "4000:\tlearn: 6.0163142\ttest: 7.7404220\tbest: 7.7404007 (3996)\ttotal: 2m 50s\tremaining: 4m 16s\n",
      "5000:\tlearn: 5.9665209\ttest: 7.7387505\tbest: 7.7385581 (4962)\ttotal: 3m 33s\tremaining: 3m 33s\n",
      "6000:\tlearn: 5.9186063\ttest: 7.7361107\tbest: 7.7361107 (6000)\ttotal: 4m 16s\tremaining: 2m 51s\n",
      "Stopped by overfitting detector  (200 iterations wait)\n",
      "\n",
      "bestTest = 7.73595829\n",
      "bestIteration = 6035\n",
      "\n",
      "Shrink model to first 6036 iterations.\n",
      "fold 1 - ctb rmse: 7.733720, elapsed time: 664.86sec\n",
      "\n",
      "===== fold 2 =====\n",
      "0:\tlearn: 6.3142250\ttest: 7.9432881\tbest: 7.9432881 (0)\ttotal: 39.1ms\tremaining: 6m 31s\n",
      "1000:\tlearn: 6.1700304\ttest: 7.8602113\tbest: 7.8602089 (998)\ttotal: 42.7s\tremaining: 6m 23s\n",
      "2000:\tlearn: 6.1112277\ttest: 7.8502360\tbest: 7.8502254 (1997)\ttotal: 1m 25s\tremaining: 5m 40s\n",
      "3000:\tlearn: 6.0579109\ttest: 7.8446608\tbest: 7.8446463 (2996)\ttotal: 2m 10s\tremaining: 5m 4s\n",
      "4000:\tlearn: 6.0072456\ttest: 7.8397136\tbest: 7.8397124 (3999)\ttotal: 2m 53s\tremaining: 4m 20s\n",
      "5000:\tlearn: 5.9577272\ttest: 7.8375458\tbest: 7.8375020 (4992)\ttotal: 3m 36s\tremaining: 3m 36s\n",
      "Stopped by overfitting detector  (200 iterations wait)\n",
      "\n",
      "bestTest = 7.836165704\n",
      "bestIteration = 5555\n",
      "\n",
      "Shrink model to first 5556 iterations.\n",
      "0:\tlearn: 6.3143339\ttest: 7.9433552\tbest: 7.9433552 (0)\ttotal: 41.5ms\tremaining: 6m 54s\n",
      "1000:\tlearn: 6.1707706\ttest: 7.8595506\tbest: 7.8595506 (1000)\ttotal: 43.2s\tremaining: 6m 28s\n",
      "2000:\tlearn: 6.1114012\ttest: 7.8483483\tbest: 7.8483199 (1999)\ttotal: 1m 26s\tremaining: 5m 46s\n",
      "3000:\tlearn: 6.0582873\ttest: 7.8430797\tbest: 7.8430113 (2985)\ttotal: 2m 9s\tremaining: 5m 3s\n",
      "4000:\tlearn: 6.0073305\ttest: 7.8386085\tbest: 7.8386071 (3999)\ttotal: 2m 52s\tremaining: 4m 19s\n",
      "5000:\tlearn: 5.9575488\ttest: 7.8350703\tbest: 7.8350475 (4999)\ttotal: 3m 36s\tremaining: 3m 36s\n",
      "6000:\tlearn: 5.9097873\ttest: 7.8332487\tbest: 7.8332376 (5981)\ttotal: 4m 19s\tremaining: 2m 52s\n",
      "Stopped by overfitting detector  (200 iterations wait)\n",
      "\n",
      "bestTest = 7.831798066\n",
      "bestIteration = 6646\n",
      "\n",
      "Shrink model to first 6647 iterations.\n",
      "0:\tlearn: 6.3144038\ttest: 7.9434747\tbest: 7.9434747 (0)\ttotal: 41.3ms\tremaining: 6m 53s\n",
      "1000:\tlearn: 6.1703527\ttest: 7.8605576\tbest: 7.8605576 (1000)\ttotal: 42.8s\tremaining: 6m 24s\n",
      "2000:\tlearn: 6.1115842\ttest: 7.8483189\tbest: 7.8483189 (2000)\ttotal: 1m 25s\tremaining: 5m 42s\n",
      "3000:\tlearn: 6.0582370\ttest: 7.8428987\tbest: 7.8428987 (3000)\ttotal: 2m 8s\tremaining: 4m 59s\n",
      "4000:\tlearn: 6.0072982\ttest: 7.8386578\tbest: 7.8386578 (4000)\ttotal: 2m 51s\tremaining: 4m 17s\n",
      "5000:\tlearn: 5.9579395\ttest: 7.8349285\tbest: 7.8349193 (4994)\ttotal: 3m 34s\tremaining: 3m 34s\n",
      "6000:\tlearn: 5.9101465\ttest: 7.8322154\tbest: 7.8321688 (5996)\ttotal: 4m 17s\tremaining: 2m 51s\n",
      "Stopped by overfitting detector  (200 iterations wait)\n",
      "\n",
      "bestTest = 7.832111934\n",
      "bestIteration = 6017\n",
      "\n",
      "Shrink model to first 6018 iterations.\n",
      "fold 2 - ctb rmse: 7.830632, elapsed time: 820.65sec\n",
      "\n",
      "===== fold 3 =====\n",
      "0:\tlearn: 6.3204152\ttest: 7.8906661\tbest: 7.8906661 (0)\ttotal: 57.2ms\tremaining: 9m 32s\n",
      "1000:\tlearn: 6.1761550\ttest: 7.8046863\tbest: 7.8046616 (998)\ttotal: 43.1s\tremaining: 6m 27s\n",
      "2000:\tlearn: 6.1172564\ttest: 7.7953718\tbest: 7.7953718 (2000)\ttotal: 1m 25s\tremaining: 5m 42s\n",
      "3000:\tlearn: 6.0635579\ttest: 7.7909295\tbest: 7.7908053 (2934)\ttotal: 2m 8s\tremaining: 4m 59s\n",
      "4000:\tlearn: 6.0119211\ttest: 7.7876565\tbest: 7.7876542 (3989)\ttotal: 2m 50s\tremaining: 4m 16s\n",
      "5000:\tlearn: 5.9630650\ttest: 7.7854707\tbest: 7.7854447 (4995)\ttotal: 3m 34s\tremaining: 3m 34s\n",
      "Stopped by overfitting detector  (200 iterations wait)\n",
      "\n",
      "bestTest = 7.784796498\n",
      "bestIteration = 5267\n",
      "\n",
      "Shrink model to first 5268 iterations.\n",
      "0:\tlearn: 6.3204525\ttest: 7.8909005\tbest: 7.8909005 (0)\ttotal: 46.2ms\tremaining: 7m 41s\n",
      "1000:\tlearn: 6.1755188\ttest: 7.8052534\tbest: 7.8052311 (998)\ttotal: 43.2s\tremaining: 6m 27s\n",
      "2000:\tlearn: 6.1167656\ttest: 7.7964482\tbest: 7.7964383 (1996)\ttotal: 1m 25s\tremaining: 5m 41s\n",
      "3000:\tlearn: 6.0629786\ttest: 7.7910395\tbest: 7.7910204 (2999)\ttotal: 2m 8s\tremaining: 4m 59s\n",
      "4000:\tlearn: 6.0118381\ttest: 7.7877438\tbest: 7.7876643 (3986)\ttotal: 2m 50s\tremaining: 4m 16s\n",
      "5000:\tlearn: 5.9627114\ttest: 7.7864448\tbest: 7.7864448 (5000)\ttotal: 3m 33s\tremaining: 3m 33s\n",
      "6000:\tlearn: 5.9146367\ttest: 7.7840867\tbest: 7.7840350 (5826)\ttotal: 4m 17s\tremaining: 2m 51s\n",
      "Stopped by overfitting detector  (200 iterations wait)\n",
      "\n",
      "bestTest = 7.782507665\n",
      "bestIteration = 6759\n",
      "\n",
      "Shrink model to first 6760 iterations.\n",
      "0:\tlearn: 6.3204517\ttest: 7.8907852\tbest: 7.8907852 (0)\ttotal: 40.7ms\tremaining: 6m 47s\n",
      "1000:\tlearn: 6.1758572\ttest: 7.8048893\tbest: 7.8048893 (1000)\ttotal: 42.6s\tremaining: 6m 23s\n",
      "2000:\tlearn: 6.1169552\ttest: 7.7947750\tbest: 7.7947566 (1979)\ttotal: 1m 25s\tremaining: 5m 42s\n",
      "3000:\tlearn: 6.0631541\ttest: 7.7897556\tbest: 7.7897556 (3000)\ttotal: 2m 8s\tremaining: 4m 59s\n",
      "4000:\tlearn: 6.0118674\ttest: 7.7860449\tbest: 7.7858434 (3982)\ttotal: 2m 51s\tremaining: 4m 17s\n",
      "5000:\tlearn: 5.9632529\ttest: 7.7826348\tbest: 7.7825936 (4996)\ttotal: 3m 34s\tremaining: 3m 34s\n",
      "Stopped by overfitting detector  (200 iterations wait)\n",
      "\n",
      "bestTest = 7.7820992\n",
      "bestIteration = 5164\n",
      "\n",
      "Shrink model to first 5165 iterations.\n",
      "fold 3 - ctb rmse: 7.780502, elapsed time: 771.00sec\n",
      "\n",
      "===== fold 4 =====\n",
      "0:\tlearn: 6.3212649\ttest: 7.8984632\tbest: 7.8984632 (0)\ttotal: 40.3ms\tremaining: 6m 43s\n",
      "1000:\tlearn: 6.1772939\ttest: 7.8143848\tbest: 7.8143848 (1000)\ttotal: 43.4s\tremaining: 6m 30s\n",
      "2000:\tlearn: 6.1184559\ttest: 7.8054603\tbest: 7.8054603 (2000)\ttotal: 1m 25s\tremaining: 5m 43s\n",
      "3000:\tlearn: 6.0657510\ttest: 7.7997445\tbest: 7.7996914 (2946)\ttotal: 2m 8s\tremaining: 4m 59s\n",
      "4000:\tlearn: 6.0145690\ttest: 7.7949486\tbest: 7.7949486 (4000)\ttotal: 2m 52s\tremaining: 4m 18s\n",
      "5000:\tlearn: 5.9647523\ttest: 7.7930410\tbest: 7.7930410 (5000)\ttotal: 3m 35s\tremaining: 3m 35s\n",
      "Stopped by overfitting detector  (200 iterations wait)\n",
      "\n",
      "bestTest = 7.791281979\n",
      "bestIteration = 5779\n",
      "\n",
      "Shrink model to first 5780 iterations.\n",
      "0:\tlearn: 6.3214009\ttest: 7.8985360\tbest: 7.8985360 (0)\ttotal: 42.9ms\tremaining: 7m 9s\n",
      "1000:\tlearn: 6.1777754\ttest: 7.8159139\tbest: 7.8159139 (1000)\ttotal: 45.3s\tremaining: 6m 46s\n",
      "2000:\tlearn: 6.1185831\ttest: 7.8051246\tbest: 7.8051246 (2000)\ttotal: 1m 27s\tremaining: 5m 51s\n",
      "3000:\tlearn: 6.0653550\ttest: 7.8003229\tbest: 7.8003009 (2965)\ttotal: 2m 10s\tremaining: 5m 4s\n",
      "4000:\tlearn: 6.0138903\ttest: 7.7969820\tbest: 7.7967906 (3935)\ttotal: 2m 53s\tremaining: 4m 20s\n",
      "Stopped by overfitting detector  (200 iterations wait)\n",
      "\n",
      "bestTest = 7.796790606\n",
      "bestIteration = 3935\n",
      "\n",
      "Shrink model to first 3936 iterations.\n",
      "0:\tlearn: 6.3214569\ttest: 7.8987532\tbest: 7.8987532 (0)\ttotal: 43.1ms\tremaining: 7m 11s\n",
      "1000:\tlearn: 6.1773349\ttest: 7.8163456\tbest: 7.8163456 (1000)\ttotal: 43.2s\tremaining: 6m 28s\n",
      "2000:\tlearn: 6.1181186\ttest: 7.8061368\tbest: 7.8061121 (1998)\ttotal: 1m 25s\tremaining: 5m 42s\n",
      "3000:\tlearn: 6.0641605\ttest: 7.8009911\tbest: 7.8008739 (2957)\ttotal: 2m 8s\tremaining: 5m\n",
      "4000:\tlearn: 6.0130151\ttest: 7.7968814\tbest: 7.7968652 (3950)\ttotal: 2m 52s\tremaining: 4m 18s\n",
      "5000:\tlearn: 5.9636031\ttest: 7.7942254\tbest: 7.7941878 (4988)\ttotal: 3m 36s\tremaining: 3m 35s\n",
      "6000:\tlearn: 5.9161539\ttest: 7.7920670\tbest: 7.7919374 (5936)\ttotal: 4m 19s\tremaining: 2m 52s\n",
      "7000:\tlearn: 5.8696399\ttest: 7.7899591\tbest: 7.7899037 (6950)\ttotal: 5m 2s\tremaining: 2m 9s\n",
      "Stopped by overfitting detector  (200 iterations wait)\n",
      "\n",
      "bestTest = 7.789679975\n",
      "bestIteration = 7083\n",
      "\n",
      "Shrink model to first 7084 iterations.\n",
      "fold 4 - ctb rmse: 7.789798, elapsed time: 760.33sec\n",
      "\n",
      "===== fold 5 =====\n",
      "0:\tlearn: 6.3145003\ttest: 7.9570471\tbest: 7.9570471 (0)\ttotal: 41.2ms\tremaining: 6m 51s\n",
      "1000:\tlearn: 6.1716770\ttest: 7.8711201\tbest: 7.8711201 (1000)\ttotal: 42.9s\tremaining: 6m 25s\n",
      "2000:\tlearn: 6.1129074\ttest: 7.8590139\tbest: 7.8589155 (1987)\ttotal: 1m 26s\tremaining: 5m 44s\n",
      "3000:\tlearn: 6.0587759\ttest: 7.8529261\tbest: 7.8528992 (2994)\ttotal: 2m 9s\tremaining: 5m 1s\n",
      "4000:\tlearn: 6.0081867\ttest: 7.8488143\tbest: 7.8488115 (3999)\ttotal: 2m 52s\tremaining: 4m 18s\n",
      "5000:\tlearn: 5.9584580\ttest: 7.8450977\tbest: 7.8450676 (4980)\ttotal: 3m 35s\tremaining: 3m 35s\n",
      "6000:\tlearn: 5.9112706\ttest: 7.8423634\tbest: 7.8421256 (5922)\ttotal: 4m 18s\tremaining: 2m 52s\n",
      "Stopped by overfitting detector  (200 iterations wait)\n",
      "\n",
      "bestTest = 7.842125621\n",
      "bestIteration = 5922\n",
      "\n",
      "Shrink model to first 5923 iterations.\n",
      "0:\tlearn: 6.3145393\ttest: 7.9571441\tbest: 7.9571441 (0)\ttotal: 38.9ms\tremaining: 6m 28s\n",
      "1000:\tlearn: 6.1709573\ttest: 7.8707305\tbest: 7.8707055 (994)\ttotal: 43.8s\tremaining: 6m 33s\n",
      "2000:\tlearn: 6.1119356\ttest: 7.8586886\tbest: 7.8586415 (1997)\ttotal: 1m 26s\tremaining: 5m 45s\n",
      "3000:\tlearn: 6.0587561\ttest: 7.8524300\tbest: 7.8524024 (2994)\ttotal: 2m 9s\tremaining: 5m 1s\n",
      "4000:\tlearn: 6.0081095\ttest: 7.8502271\tbest: 7.8501741 (3998)\ttotal: 2m 52s\tremaining: 4m 18s\n",
      "5000:\tlearn: 5.9586250\ttest: 7.8471995\tbest: 7.8471776 (4996)\ttotal: 3m 35s\tremaining: 3m 35s\n",
      "Stopped by overfitting detector  (200 iterations wait)\n",
      "\n",
      "bestTest = 7.846225258\n",
      "bestIteration = 5203\n",
      "\n",
      "Shrink model to first 5204 iterations.\n",
      "0:\tlearn: 6.3143786\ttest: 7.9570930\tbest: 7.9570930 (0)\ttotal: 43.4ms\tremaining: 7m 13s\n",
      "1000:\tlearn: 6.1710928\ttest: 7.8723083\tbest: 7.8722650 (990)\ttotal: 43.4s\tremaining: 6m 30s\n",
      "2000:\tlearn: 6.1120876\ttest: 7.8608505\tbest: 7.8608481 (1991)\ttotal: 1m 26s\tremaining: 5m 44s\n",
      "3000:\tlearn: 6.0589534\ttest: 7.8568864\tbest: 7.8566771 (2899)\ttotal: 2m 8s\tremaining: 5m\n",
      "4000:\tlearn: 6.0078377\ttest: 7.8519591\tbest: 7.8519591 (4000)\ttotal: 2m 51s\tremaining: 4m 17s\n",
      "5000:\tlearn: 5.9588244\ttest: 7.8496300\tbest: 7.8495246 (4986)\ttotal: 3m 35s\tremaining: 3m 34s\n",
      "Stopped by overfitting detector  (200 iterations wait)\n",
      "\n",
      "bestTest = 7.849424689\n",
      "bestIteration = 5096\n",
      "\n",
      "Shrink model to first 5097 iterations.\n",
      "fold 5 - ctb rmse: 7.843461, elapsed time: 732.79sec\n",
      "\n",
      "===== fold 6 =====\n",
      "0:\tlearn: 6.3082295\ttest: 8.0084754\tbest: 8.0084754 (0)\ttotal: 39ms\tremaining: 6m 30s\n",
      "1000:\tlearn: 6.1647929\ttest: 7.9211375\tbest: 7.9211244 (999)\ttotal: 43.1s\tremaining: 6m 27s\n",
      "2000:\tlearn: 6.1059450\ttest: 7.9104932\tbest: 7.9104703 (1997)\ttotal: 1m 25s\tremaining: 5m 42s\n",
      "3000:\tlearn: 6.0525347\ttest: 7.9051331\tbest: 7.9051331 (3000)\ttotal: 2m 8s\tremaining: 4m 59s\n",
      "4000:\tlearn: 6.0016316\ttest: 7.9007126\tbest: 7.9007126 (4000)\ttotal: 2m 51s\tremaining: 4m 17s\n",
      "5000:\tlearn: 5.9521932\ttest: 7.8983242\tbest: 7.8982788 (4994)\ttotal: 3m 35s\tremaining: 3m 34s\n",
      "6000:\tlearn: 5.9044182\ttest: 7.8956458\tbest: 7.8955869 (5993)\ttotal: 4m 18s\tremaining: 2m 51s\n",
      "Stopped by overfitting detector  (200 iterations wait)\n",
      "\n",
      "bestTest = 7.894089659\n",
      "bestIteration = 6566\n",
      "\n",
      "Shrink model to first 6567 iterations.\n",
      "0:\tlearn: 6.3082173\ttest: 8.0085811\tbest: 8.0085811 (0)\ttotal: 47.4ms\tremaining: 7m 54s\n",
      "1000:\tlearn: 6.1647248\ttest: 7.9206184\tbest: 7.9206184 (1000)\ttotal: 42.9s\tremaining: 6m 25s\n",
      "2000:\tlearn: 6.1059562\ttest: 7.9080256\tbest: 7.9080123 (1998)\ttotal: 1m 26s\tremaining: 5m 45s\n",
      "3000:\tlearn: 6.0523663\ttest: 7.9025265\tbest: 7.9024763 (2996)\ttotal: 2m 9s\tremaining: 5m 1s\n",
      "4000:\tlearn: 6.0015426\ttest: 7.8989279\tbest: 7.8989279 (4000)\ttotal: 2m 52s\tremaining: 4m 18s\n",
      "Stopped by overfitting detector  (200 iterations wait)\n",
      "\n",
      "bestTest = 7.897698614\n",
      "bestIteration = 4539\n",
      "\n",
      "Shrink model to first 4540 iterations.\n",
      "0:\tlearn: 6.3082607\ttest: 8.0085433\tbest: 8.0085433 (0)\ttotal: 44.7ms\tremaining: 7m 27s\n",
      "1000:\tlearn: 6.1649675\ttest: 7.9211294\tbest: 7.9211294 (1000)\ttotal: 43.4s\tremaining: 6m 30s\n",
      "2000:\tlearn: 6.1057815\ttest: 7.9096137\tbest: 7.9095711 (1998)\ttotal: 1m 26s\tremaining: 5m 46s\n",
      "3000:\tlearn: 6.0523808\ttest: 7.9038463\tbest: 7.9037571 (2992)\ttotal: 2m 10s\tremaining: 5m 3s\n",
      "4000:\tlearn: 6.0018904\ttest: 7.8994199\tbest: 7.8993892 (3998)\ttotal: 2m 53s\tremaining: 4m 19s\n",
      "Stopped by overfitting detector  (200 iterations wait)\n",
      "\n",
      "bestTest = 7.898109847\n",
      "bestIteration = 4414\n",
      "\n",
      "Shrink model to first 4415 iterations.\n",
      "fold 6 - ctb rmse: 7.894196, elapsed time: 705.02sec\n",
      "\n",
      "===== fold 7 =====\n",
      "0:\tlearn: 6.3087934\ttest: 8.0070247\tbest: 8.0070247 (0)\ttotal: 43.5ms\tremaining: 7m 14s\n",
      "1000:\tlearn: 6.1656578\ttest: 7.9145079\tbest: 7.9145079 (1000)\ttotal: 43.4s\tremaining: 6m 30s\n",
      "2000:\tlearn: 6.1070510\ttest: 7.9015136\tbest: 7.9014995 (1999)\ttotal: 1m 26s\tremaining: 5m 45s\n",
      "3000:\tlearn: 6.0541031\ttest: 7.8947166\tbest: 7.8947166 (3000)\ttotal: 2m 9s\tremaining: 5m 2s\n",
      "4000:\tlearn: 6.0031071\ttest: 7.8905873\tbest: 7.8905503 (3997)\ttotal: 2m 52s\tremaining: 4m 19s\n",
      "Stopped by overfitting detector  (200 iterations wait)\n",
      "\n",
      "bestTest = 7.889335151\n",
      "bestIteration = 4324\n",
      "\n",
      "Shrink model to first 4325 iterations.\n",
      "0:\tlearn: 6.3089274\ttest: 8.0072534\tbest: 8.0072534 (0)\ttotal: 43ms\tremaining: 7m 10s\n",
      "1000:\tlearn: 6.1652261\ttest: 7.9134455\tbest: 7.9134455 (1000)\ttotal: 43.6s\tremaining: 6m 32s\n",
      "2000:\tlearn: 6.1062282\ttest: 7.9011146\tbest: 7.9011146 (2000)\ttotal: 1m 27s\tremaining: 5m 47s\n",
      "3000:\tlearn: 6.0528292\ttest: 7.8955689\tbest: 7.8955163 (2994)\ttotal: 2m 10s\tremaining: 5m 4s\n",
      "4000:\tlearn: 6.0017338\ttest: 7.8913902\tbest: 7.8913902 (4000)\ttotal: 2m 53s\tremaining: 4m 20s\n",
      "5000:\tlearn: 5.9520757\ttest: 7.8886014\tbest: 7.8886014 (5000)\ttotal: 3m 37s\tremaining: 3m 37s\n",
      "Stopped by overfitting detector  (200 iterations wait)\n",
      "\n",
      "bestTest = 7.888139092\n",
      "bestIteration = 5148\n",
      "\n",
      "Shrink model to first 5149 iterations.\n",
      "0:\tlearn: 6.3087494\ttest: 8.0070047\tbest: 8.0070047 (0)\ttotal: 42ms\tremaining: 7m\n",
      "1000:\tlearn: 6.1653675\ttest: 7.9150440\tbest: 7.9150440 (1000)\ttotal: 44s\tremaining: 6m 35s\n",
      "2000:\tlearn: 6.1063203\ttest: 7.9027853\tbest: 7.9027853 (2000)\ttotal: 1m 27s\tremaining: 5m 48s\n",
      "3000:\tlearn: 6.0526495\ttest: 7.8966761\tbest: 7.8966640 (2998)\ttotal: 2m 10s\tremaining: 5m 5s\n",
      "4000:\tlearn: 6.0020509\ttest: 7.8933348\tbest: 7.8933348 (4000)\ttotal: 2m 54s\tremaining: 4m 21s\n",
      "5000:\tlearn: 5.9526592\ttest: 7.8903216\tbest: 7.8903216 (5000)\ttotal: 3m 38s\tremaining: 3m 37s\n",
      "Stopped by overfitting detector  (200 iterations wait)\n",
      "\n",
      "bestTest = 7.889588165\n",
      "bestIteration = 5238\n",
      "\n",
      "Shrink model to first 5239 iterations.\n",
      "fold 7 - ctb rmse: 7.886797, elapsed time: 674.47sec\n",
      "\n",
      "===== fold 8 =====\n",
      "0:\tlearn: 6.3121886\ttest: 7.9907659\tbest: 7.9907659 (0)\ttotal: 42.6ms\tremaining: 7m 6s\n",
      "1000:\tlearn: 6.1690775\ttest: 7.9025415\tbest: 7.9025373 (998)\ttotal: 43.7s\tremaining: 6m 33s\n",
      "2000:\tlearn: 6.1101038\ttest: 7.8904588\tbest: 7.8903559 (1992)\ttotal: 1m 27s\tremaining: 5m 48s\n",
      "3000:\tlearn: 6.0567612\ttest: 7.8844037\tbest: 7.8844037 (3000)\ttotal: 2m 11s\tremaining: 5m 6s\n",
      "4000:\tlearn: 6.0057987\ttest: 7.8798277\tbest: 7.8798277 (4000)\ttotal: 2m 54s\tremaining: 4m 22s\n",
      "5000:\tlearn: 5.9561252\ttest: 7.8775241\tbest: 7.8773030 (4937)\ttotal: 3m 38s\tremaining: 3m 38s\n",
      "Stopped by overfitting detector  (200 iterations wait)\n",
      "\n",
      "bestTest = 7.876602425\n",
      "bestIteration = 5235\n",
      "\n",
      "Shrink model to first 5236 iterations.\n",
      "0:\tlearn: 6.3124451\ttest: 7.9910862\tbest: 7.9910862 (0)\ttotal: 41.1ms\tremaining: 6m 51s\n",
      "1000:\tlearn: 6.1696345\ttest: 7.9018921\tbest: 7.9018921 (1000)\ttotal: 43.8s\tremaining: 6m 33s\n",
      "2000:\tlearn: 6.1106238\ttest: 7.8898413\tbest: 7.8897593 (1998)\ttotal: 1m 27s\tremaining: 5m 49s\n",
      "3000:\tlearn: 6.0574032\ttest: 7.8842481\tbest: 7.8841601 (2981)\ttotal: 2m 11s\tremaining: 5m 6s\n",
      "4000:\tlearn: 6.0062268\ttest: 7.8817513\tbest: 7.8815302 (3954)\ttotal: 2m 55s\tremaining: 4m 22s\n",
      "5000:\tlearn: 5.9570242\ttest: 7.8798143\tbest: 7.8797560 (4973)\ttotal: 3m 38s\tremaining: 3m 38s\n",
      "6000:\tlearn: 5.9082487\ttest: 7.8780327\tbest: 7.8780052 (5995)\ttotal: 4m 23s\tremaining: 2m 55s\n",
      "7000:\tlearn: 5.8619056\ttest: 7.8760472\tbest: 7.8759788 (6933)\ttotal: 5m 7s\tremaining: 2m 11s\n",
      "Stopped by overfitting detector  (200 iterations wait)\n",
      "\n",
      "bestTest = 7.875939298\n",
      "bestIteration = 7034\n",
      "\n",
      "Shrink model to first 7035 iterations.\n",
      "0:\tlearn: 6.3122038\ttest: 7.9907461\tbest: 7.9907461 (0)\ttotal: 44.8ms\tremaining: 7m 27s\n",
      "1000:\tlearn: 6.1690331\ttest: 7.9016155\tbest: 7.9016155 (1000)\ttotal: 44.3s\tremaining: 6m 38s\n",
      "2000:\tlearn: 6.1100690\ttest: 7.8905030\tbest: 7.8905030 (2000)\ttotal: 1m 27s\tremaining: 5m 51s\n",
      "3000:\tlearn: 6.0568687\ttest: 7.8841002\tbest: 7.8841002 (3000)\ttotal: 2m 11s\tremaining: 5m 7s\n",
      "4000:\tlearn: 6.0064676\ttest: 7.8810828\tbest: 7.8809658 (3970)\ttotal: 2m 56s\tremaining: 4m 24s\n",
      "5000:\tlearn: 5.9569962\ttest: 7.8783174\tbest: 7.8782220 (4984)\ttotal: 3m 40s\tremaining: 3m 40s\n",
      "Stopped by overfitting detector  (200 iterations wait)\n",
      "\n",
      "bestTest = 7.876862246\n",
      "bestIteration = 5639\n",
      "\n",
      "Shrink model to first 5640 iterations.\n",
      "fold 8 - ctb rmse: 7.873772, elapsed time: 822.60sec\n",
      "\n",
      "===== fold 9 =====\n",
      "0:\tlearn: 6.3102424\ttest: 7.9754602\tbest: 7.9754602 (0)\ttotal: 44.3ms\tremaining: 7m 22s\n",
      "1000:\tlearn: 6.1679958\ttest: 7.8853053\tbest: 7.8852532 (994)\ttotal: 44.2s\tremaining: 6m 36s\n",
      "2000:\tlearn: 6.1088912\ttest: 7.8744184\tbest: 7.8743525 (1991)\ttotal: 1m 27s\tremaining: 5m 50s\n",
      "3000:\tlearn: 6.0550861\ttest: 7.8679659\tbest: 7.8679608 (2999)\ttotal: 2m 11s\tremaining: 5m 7s\n",
      "4000:\tlearn: 6.0047744\ttest: 7.8640807\tbest: 7.8639883 (3981)\ttotal: 2m 56s\tremaining: 4m 24s\n",
      "5000:\tlearn: 5.9564197\ttest: 7.8611563\tbest: 7.8610093 (4979)\ttotal: 3m 40s\tremaining: 3m 40s\n",
      "Stopped by overfitting detector  (200 iterations wait)\n",
      "\n",
      "bestTest = 7.860577652\n",
      "bestIteration = 5208\n",
      "\n",
      "Shrink model to first 5209 iterations.\n",
      "0:\tlearn: 6.3102570\ttest: 7.9754509\tbest: 7.9754509 (0)\ttotal: 41.8ms\tremaining: 6m 57s\n",
      "1000:\tlearn: 6.1673670\ttest: 7.8837315\tbest: 7.8837315 (1000)\ttotal: 44.3s\tremaining: 6m 38s\n",
      "2000:\tlearn: 6.1089827\ttest: 7.8733826\tbest: 7.8733793 (1999)\ttotal: 1m 28s\tremaining: 5m 55s\n",
      "3000:\tlearn: 6.0555780\ttest: 7.8681306\tbest: 7.8681306 (3000)\ttotal: 2m 13s\tremaining: 5m 11s\n",
      "4000:\tlearn: 6.0047660\ttest: 7.8647457\tbest: 7.8647021 (3920)\ttotal: 2m 58s\tremaining: 4m 27s\n",
      "5000:\tlearn: 5.9560003\ttest: 7.8622138\tbest: 7.8621447 (4998)\ttotal: 3m 43s\tremaining: 3m 43s\n",
      "6000:\tlearn: 5.9086170\ttest: 7.8595972\tbest: 7.8594617 (5893)\ttotal: 4m 28s\tremaining: 2m 58s\n",
      "Stopped by overfitting detector  (200 iterations wait)\n",
      "\n",
      "bestTest = 7.858497402\n",
      "bestIteration = 6384\n",
      "\n",
      "Shrink model to first 6385 iterations.\n",
      "0:\tlearn: 6.3103798\ttest: 7.9755364\tbest: 7.9755364 (0)\ttotal: 44.8ms\tremaining: 7m 27s\n",
      "1000:\tlearn: 6.1674925\ttest: 7.8846897\tbest: 7.8846863 (998)\ttotal: 44.4s\tremaining: 6m 39s\n",
      "2000:\tlearn: 6.1092699\ttest: 7.8739696\tbest: 7.8739696 (2000)\ttotal: 1m 28s\tremaining: 5m 55s\n",
      "3000:\tlearn: 6.0560021\ttest: 7.8687651\tbest: 7.8687261 (2995)\ttotal: 2m 13s\tremaining: 5m 11s\n",
      "4000:\tlearn: 6.0058293\ttest: 7.8646677\tbest: 7.8646677 (4000)\ttotal: 2m 59s\tremaining: 4m 28s\n",
      "Stopped by overfitting detector  (200 iterations wait)\n",
      "\n",
      "bestTest = 7.862174342\n",
      "bestIteration = 4492\n",
      "\n",
      "Shrink model to first 4493 iterations.\n",
      "fold 9 - ctb rmse: 7.857961, elapsed time: 753.32sec\n",
      "\n",
      "oof ctb_rmse = 7.827393745878544\n"
     ]
    }
   ],
   "source": [
    "ctb_oof = np.zeros(train.shape[0])\n",
    "ctb_pred = np.zeros(test.shape[0])\n",
    "ctb_importances = pd.DataFrame()\n",
    "\n",
    "kf = KFold(n_splits=N_SPLITS, shuffle=True, random_state=CVSEED)\n",
    "seed_list=[SEED, SEED+1, SEED+2]\n",
    "\n",
    "for fold, (trn_idx, val_idx) in enumerate(kf.split(X=all_pseudo[scale_features], y=all_pseudo[target])):\n",
    "    print(f\"===== fold {fold} =====\")\n",
    "    \n",
    "    oof_idx = np.array([idx for idx in val_idx if idx < train.shape[0]])\n",
    "    preds_idx = np.array([idx for idx in val_idx if idx >= train.shape[0]])\n",
    "    \n",
    "    X_train, y_train = all_pseudo[scale_features].iloc[trn_idx], all_pseudo[target].iloc[trn_idx]\n",
    "    #X_train = apply_noise_row(X_train)\n",
    "    \n",
    "    X_valid, y_valid = all_pseudo[scale_features].iloc[oof_idx], all_pseudo[target].iloc[oof_idx]\n",
    "    X_test = all_pseudo[scale_features].iloc[preds_idx]\n",
    "    \n",
    "    # CatB    \n",
    "    start = time.time()\n",
    "    \n",
    "    for inseed in seed_list:\n",
    "        ctb_params['random_seed'] = inseed\n",
    "        \n",
    "        model = ctb.CatBoostRegressor(**ctb_params)\n",
    "        model.fit(\n",
    "            X_train,\n",
    "            y_train,\n",
    "            eval_set=[(X_valid, y_valid)],\n",
    "            use_best_model=True,\n",
    "            early_stopping_rounds=EARLY_STOPPING_ROUNDS,\n",
    "            verbose=VERBOSE\n",
    "        )\n",
    "\n",
    "        #with open(f\"ctb_model{fold}.pkl\", 'wb') as f:\n",
    "        #    pickle.dump(model, f)\n",
    "\n",
    "        fi_tmp = pd.DataFrame()\n",
    "        fi_tmp['feature'] = X_train.columns\n",
    "        fi_tmp['importance'] = model.feature_importances_\n",
    "        fi_tmp['fold'] = fold\n",
    "        fi_tmp['seed'] = inseed\n",
    "        ctb_importances = ctb_importances.append(fi_tmp)\n",
    "\n",
    "        ctb_oof[oof_idx] += model.predict(X_valid) / len(seed_list)\n",
    "        ctb_pred[preds_idx-train.shape[0]] += model.predict(X_test) / len(seed_list)\n",
    "\n",
    "    elapsed = time.time() - start\n",
    "    rmse = mean_squared_error(y_valid, ctb_oof[oof_idx], squared=False)\n",
    "    print(f\"fold {fold} - ctb rmse: {rmse:.6f}, elapsed time: {elapsed:.2f}sec\\n\")\n",
    "        \n",
    "print(f\"oof ctb_rmse = {mean_squared_error(train[target], ctb_oof, squared=False)}\")\n",
    "\n",
    "np.save(\"ctb_oof.npy\", ctb_oof)\n",
    "np.save(\"ctb_pred.npy\", ctb_pred)"
   ]
  },
  {
   "cell_type": "markdown",
   "id": "c6d4a982",
   "metadata": {
    "papermill": {
     "duration": 0.080137,
     "end_time": "2021-08-27T16:02:20.264288",
     "exception": false,
     "start_time": "2021-08-27T16:02:20.184151",
     "status": "completed"
    },
    "tags": []
   },
   "source": [
    "# OOF predictions"
   ]
  },
  {
   "cell_type": "code",
   "execution_count": 10,
   "id": "2c71cc18",
   "metadata": {
    "execution": {
     "iopub.execute_input": "2021-08-27T16:02:20.456215Z",
     "iopub.status.busy": "2021-08-27T16:02:20.455512Z",
     "iopub.status.idle": "2021-08-27T16:02:21.740267Z",
     "shell.execute_reply": "2021-08-27T16:02:21.739668Z",
     "shell.execute_reply.started": "2021-08-27T13:59:29.354065Z"
    },
    "papermill": {
     "duration": 1.394195,
     "end_time": "2021-08-27T16:02:21.740413",
     "exception": false,
     "start_time": "2021-08-27T16:02:20.346218",
     "status": "completed"
    },
    "tags": []
   },
   "outputs": [
    {
     "data": {
      "text/plain": [
       "<matplotlib.collections.PathCollection at 0x7f7af30d6c50>"
      ]
     },
     "execution_count": 10,
     "metadata": {},
     "output_type": "execute_result"
    },
    {
     "data": {
      "image/png": "[encoded data removed]",
      "text/plain": [
       "<Figure size 432x288 with 1 Axes>"
      ]
     },
     "metadata": {
      "needs_background": "light"
     },
     "output_type": "display_data"
    }
   ],
   "source": [
    "plt.plot(train[target], train[target])\n",
    "plt.scatter(train[target], ctb_oof)"
   ]
  },
  {
   "cell_type": "markdown",
   "id": "0b4c60b0",
   "metadata": {
    "papermill": {
     "duration": 0.085431,
     "end_time": "2021-08-27T16:02:21.909708",
     "exception": false,
     "start_time": "2021-08-27T16:02:21.824277",
     "status": "completed"
    },
    "tags": []
   },
   "source": [
    "# Features importances"
   ]
  },
  {
   "cell_type": "code",
   "execution_count": 11,
   "id": "b1af3ea4",
   "metadata": {
    "execution": {
     "iopub.execute_input": "2021-08-27T16:02:22.099774Z",
     "iopub.status.busy": "2021-08-27T16:02:22.097578Z",
     "iopub.status.idle": "2021-08-27T16:02:24.196127Z",
     "shell.execute_reply": "2021-08-27T16:02:24.195559Z",
     "shell.execute_reply.started": "2021-08-27T13:59:30.484664Z"
    },
    "papermill": {
     "duration": 2.201535,
     "end_time": "2021-08-27T16:02:24.196277",
     "exception": false,
     "start_time": "2021-08-27T16:02:21.994742",
     "status": "completed"
    },
    "tags": []
   },
   "outputs": [
    {
     "data": {
      "text/plain": [
       "Text(0.5, 1.0, 'CatBoost feature importances')"
      ]
     },
     "execution_count": 11,
     "metadata": {},
     "output_type": "execute_result"
    },
    {
     "data": {
      "image/png": "[encoded data removed]",
      "text/plain": [
       "<Figure size 1152x1152 with 1 Axes>"
      ]
     },
     "metadata": {
      "needs_background": "light"
     },
     "output_type": "display_data"
    }
   ],
   "source": [
    "order = list(ctb_importances.groupby('feature').mean().sort_values('importance', ascending=False).index)\n",
    "\n",
    "fig = plt.figure(figsize=(16, 16), tight_layout=True)\n",
    "sns.barplot(x=\"importance\", y=\"feature\", data=ctb_importances.groupby('feature').mean().reset_index(), order=order)\n",
    "plt.title(\"CatBoost feature importances\")"
   ]
  },
  {
   "cell_type": "markdown",
   "id": "92ecfd0e",
   "metadata": {
    "papermill": {
     "duration": 0.08395,
     "end_time": "2021-08-27T16:02:24.365127",
     "exception": false,
     "start_time": "2021-08-27T16:02:24.281177",
     "status": "completed"
    },
    "tags": []
   },
   "source": [
    "# Submission"
   ]
  },
  {
   "cell_type": "code",
   "execution_count": 12,
   "id": "d14bada4",
   "metadata": {
    "execution": {
     "iopub.execute_input": "2021-08-27T16:02:24.541995Z",
     "iopub.status.busy": "2021-08-27T16:02:24.541106Z",
     "iopub.status.idle": "2021-08-27T16:02:25.120212Z",
     "shell.execute_reply": "2021-08-27T16:02:25.120840Z",
     "shell.execute_reply.started": "2021-08-27T13:59:32.740194Z"
    },
    "papermill": {
     "duration": 0.669872,
     "end_time": "2021-08-27T16:02:25.121025",
     "exception": false,
     "start_time": "2021-08-27T16:02:24.451153",
     "status": "completed"
    },
    "tags": []
   },
   "outputs": [
    {
     "data": {
      "text/html": [
       "<div>\n",
       "<style scoped>\n",
       "    .dataframe tbody tr th:only-of-type {\n",
       "        vertical-align: middle;\n",
       "    }\n",
       "\n",
       "    .dataframe tbody tr th {\n",
       "        vertical-align: top;\n",
       "    }\n",
       "\n",
       "    .dataframe thead th {\n",
       "        text-align: right;\n",
       "    }\n",
       "</style>\n",
       "<table border=\"1\" class=\"dataframe\">\n",
       "  <thead>\n",
       "    <tr style=\"text-align: right;\">\n",
       "      <th></th>\n",
       "      <th>id</th>\n",
       "      <th>loss</th>\n",
       "    </tr>\n",
       "  </thead>\n",
       "  <tbody>\n",
       "    <tr>\n",
       "      <th>0</th>\n",
       "      <td>250000</td>\n",
       "      <td>8.196224</td>\n",
       "    </tr>\n",
       "    <tr>\n",
       "      <th>1</th>\n",
       "      <td>250001</td>\n",
       "      <td>4.857836</td>\n",
       "    </tr>\n",
       "    <tr>\n",
       "      <th>2</th>\n",
       "      <td>250002</td>\n",
       "      <td>8.408476</td>\n",
       "    </tr>\n",
       "    <tr>\n",
       "      <th>3</th>\n",
       "      <td>250003</td>\n",
       "      <td>7.788232</td>\n",
       "    </tr>\n",
       "    <tr>\n",
       "      <th>4</th>\n",
       "      <td>250004</td>\n",
       "      <td>6.893613</td>\n",
       "    </tr>\n",
       "    <tr>\n",
       "      <th>...</th>\n",
       "      <td>...</td>\n",
       "      <td>...</td>\n",
       "    </tr>\n",
       "    <tr>\n",
       "      <th>149995</th>\n",
       "      <td>399995</td>\n",
       "      <td>7.746342</td>\n",
       "    </tr>\n",
       "    <tr>\n",
       "      <th>149996</th>\n",
       "      <td>399996</td>\n",
       "      <td>7.218716</td>\n",
       "    </tr>\n",
       "    <tr>\n",
       "      <th>149997</th>\n",
       "      <td>399997</td>\n",
       "      <td>6.390042</td>\n",
       "    </tr>\n",
       "    <tr>\n",
       "      <th>149998</th>\n",
       "      <td>399998</td>\n",
       "      <td>5.466863</td>\n",
       "    </tr>\n",
       "    <tr>\n",
       "      <th>149999</th>\n",
       "      <td>399999</td>\n",
       "      <td>6.878349</td>\n",
       "    </tr>\n",
       "  </tbody>\n",
       "</table>\n",
       "<p>150000 rows × 2 columns</p>\n",
       "</div>"
      ],
      "text/plain": [
       "            id      loss\n",
       "0       250000  8.196224\n",
       "1       250001  4.857836\n",
       "2       250002  8.408476\n",
       "3       250003  7.788232\n",
       "4       250004  6.893613\n",
       "...        ...       ...\n",
       "149995  399995  7.746342\n",
       "149996  399996  7.218716\n",
       "149997  399997  6.390042\n",
       "149998  399998  5.466863\n",
       "149999  399999  6.878349\n",
       "\n",
       "[150000 rows x 2 columns]"
      ]
     },
     "execution_count": 12,
     "metadata": {},
     "output_type": "execute_result"
    }
   ],
   "source": [
    "submission['loss'] = ctb_pred\n",
    "submission.to_csv(\"submission.csv\", index=False)\n",
    "\n",
    "submission"
   ]
  }
 ],
 "metadata": {
  "kernelspec": {
   "display_name": "Python 3",
   "language": "python",
   "name": "python3"
  },
  "language_info": {
   "codemirror_mode": {
    "name": "ipython",
    "version": 3
   },
   "file_extension": ".py",
   "mimetype": "text/x-python",
   "name": "python",
   "nbconvert_exporter": "python",
   "pygments_lexer": "ipython3",
   "version": "3.7.10"
  },
  "papermill": {
   "default_parameters": {},
   "duration": 7340.991819,
   "end_time": "2021-08-27T16:02:27.082003",
   "environment_variables": {},
   "exception": null,
   "input_path": "__notebook__.ipynb",
   "output_path": "__notebook__.ipynb",
   "parameters": {},
   "start_time": "2021-08-27T14:00:06.090184",
   "version": "2.3.3"
  }
 },
 "nbformat": 4,
 "nbformat_minor": 5
}
