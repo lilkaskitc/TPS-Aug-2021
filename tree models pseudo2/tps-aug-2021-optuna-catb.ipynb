{
 "cells": [
  {
   "cell_type": "code",
   "execution_count": 1,
   "id": "c10f8b15",
   "metadata": {
    "_cell_guid": "b1076dfc-b9ad-4769-8c92-a6c4dae69d19",
    "_uuid": "8f2839f25d086af736a60e9eeb907d3b93b6e0e5",
    "execution": {
     "iopub.execute_input": "2021-08-27T04:11:17.966769Z",
     "iopub.status.busy": "2021-08-27T04:11:17.966054Z",
     "iopub.status.idle": "2021-08-27T04:11:19.172053Z",
     "shell.execute_reply": "2021-08-27T04:11:19.171026Z",
     "shell.execute_reply.started": "2021-08-18T15:48:03.009272Z"
    },
    "papermill": {
     "duration": 1.232293,
     "end_time": "2021-08-27T04:11:19.172212",
     "exception": false,
     "start_time": "2021-08-27T04:11:17.939919",
     "status": "completed"
    },
    "tags": []
   },
   "outputs": [],
   "source": [
    "# Familiar imports\n",
    "import numpy as np\n",
    "import pandas as pd\n",
    "import random\n",
    "import os\n",
    "import time\n",
    "from pathlib import Path\n",
    "\n",
    "from sklearn.preprocessing import StandardScaler\n",
    "from sklearn.model_selection import KFold, train_test_split\n",
    "from sklearn.metrics import mean_squared_error\n",
    "\n",
    "#import lightgbm as lgb\n",
    "#import xgboost as xgb\n",
    "import catboost as ctb\n",
    "\n",
    "import warnings\n",
    "warnings.simplefilter('ignore')"
   ]
  },
  {
   "cell_type": "markdown",
   "id": "377df400",
   "metadata": {
    "papermill": {
     "duration": 0.012158,
     "end_time": "2021-08-27T04:11:19.197439",
     "exception": false,
     "start_time": "2021-08-27T04:11:19.185281",
     "status": "completed"
    },
    "tags": []
   },
   "source": [
    "# Parameters"
   ]
  },
  {
   "cell_type": "code",
   "execution_count": 2,
   "id": "7a21afe2",
   "metadata": {
    "execution": {
     "iopub.execute_input": "2021-08-27T04:11:19.229040Z",
     "iopub.status.busy": "2021-08-27T04:11:19.228399Z",
     "iopub.status.idle": "2021-08-27T04:11:19.230807Z",
     "shell.execute_reply": "2021-08-27T04:11:19.231410Z",
     "shell.execute_reply.started": "2021-08-18T15:48:04.465557Z"
    },
    "papermill": {
     "duration": 0.02152,
     "end_time": "2021-08-27T04:11:19.231640",
     "exception": false,
     "start_time": "2021-08-27T04:11:19.210120",
     "status": "completed"
    },
    "tags": []
   },
   "outputs": [],
   "source": [
    "target = 'loss'\n",
    "\n",
    "DEBUG = False\n",
    "\n",
    "if DEBUG:\n",
    "    N_ESTIMATORS = 1\n",
    "    N_SPLITS = 2\n",
    "    SEED = 17\n",
    "    CVSEED = 17\n",
    "    EARLY_STOPPING_ROUNDS = 1\n",
    "    VERBOSE = 100\n",
    "    #N_ITERS = 2\n",
    "else:\n",
    "    N_SPLITS = 10\n",
    "    N_ESTIMATORS = 10000\n",
    "    EARLY_STOPPING_ROUNDS = 200\n",
    "    VERBOSE = 1000\n",
    "    SEED = 17\n",
    "    CVSEED = 17\n",
    "    #N_ITERS = 10"
   ]
  },
  {
   "cell_type": "code",
   "execution_count": 3,
   "id": "0696392b",
   "metadata": {
    "execution": {
     "iopub.execute_input": "2021-08-27T04:11:19.262808Z",
     "iopub.status.busy": "2021-08-27T04:11:19.262046Z",
     "iopub.status.idle": "2021-08-27T04:11:19.265120Z",
     "shell.execute_reply": "2021-08-27T04:11:19.264607Z",
     "shell.execute_reply.started": "2021-08-18T15:48:04.478758Z"
    },
    "papermill": {
     "duration": 0.02066,
     "end_time": "2021-08-27T04:11:19.265247",
     "exception": false,
     "start_time": "2021-08-27T04:11:19.244587",
     "status": "completed"
    },
    "tags": []
   },
   "outputs": [],
   "source": [
    "def set_seed(seed=17):\n",
    "    random.seed(seed)\n",
    "    os.environ['PYTHONHASHSEED'] = str(seed)\n",
    "    np.random.seed(seed)\n",
    "    \n",
    "set_seed(SEED)"
   ]
  },
  {
   "cell_type": "markdown",
   "id": "c24ea48e",
   "metadata": {
    "papermill": {
     "duration": 0.012338,
     "end_time": "2021-08-27T04:11:19.290113",
     "exception": false,
     "start_time": "2021-08-27T04:11:19.277775",
     "status": "completed"
    },
    "tags": []
   },
   "source": [
    "# Load data"
   ]
  },
  {
   "cell_type": "code",
   "execution_count": 4,
   "id": "f9d9be60",
   "metadata": {
    "execution": {
     "iopub.execute_input": "2021-08-27T04:11:19.321276Z",
     "iopub.status.busy": "2021-08-27T04:11:19.320515Z",
     "iopub.status.idle": "2021-08-27T04:11:29.902051Z",
     "shell.execute_reply": "2021-08-27T04:11:29.902583Z",
     "shell.execute_reply.started": "2021-08-18T15:48:04.491008Z"
    },
    "papermill": {
     "duration": 10.599674,
     "end_time": "2021-08-27T04:11:29.902769",
     "exception": false,
     "start_time": "2021-08-27T04:11:19.303095",
     "status": "completed"
    },
    "tags": []
   },
   "outputs": [],
   "source": [
    "INPUT = Path(\"../input/tabular-playground-series-aug-2021\")\n",
    "\n",
    "train = pd.read_csv(INPUT / \"train.csv\")\n",
    "test = pd.read_csv(INPUT / \"test.csv\")\n",
    "submission = pd.read_csv(INPUT / \"sample_submission.csv\")"
   ]
  },
  {
   "cell_type": "markdown",
   "id": "05a98c1f",
   "metadata": {
    "papermill": {
     "duration": 0.012756,
     "end_time": "2021-08-27T04:11:29.929010",
     "exception": false,
     "start_time": "2021-08-27T04:11:29.916254",
     "status": "completed"
    },
    "tags": []
   },
   "source": [
    "# Preprocessing"
   ]
  },
  {
   "cell_type": "code",
   "execution_count": 5,
   "id": "f5a94cc4",
   "metadata": {
    "execution": {
     "iopub.execute_input": "2021-08-27T04:11:29.957832Z",
     "iopub.status.busy": "2021-08-27T04:11:29.957187Z",
     "iopub.status.idle": "2021-08-27T04:11:41.903121Z",
     "shell.execute_reply": "2021-08-27T04:11:41.902530Z",
     "shell.execute_reply.started": "2021-08-18T15:48:14.595557Z"
    },
    "papermill": {
     "duration": 11.961228,
     "end_time": "2021-08-27T04:11:41.903264",
     "exception": false,
     "start_time": "2021-08-27T04:11:29.942036",
     "status": "completed"
    },
    "tags": []
   },
   "outputs": [],
   "source": [
    "scale_features = [col for col in test.columns if 'f' in col]\n",
    "\n",
    "ss = StandardScaler()\n",
    "train[scale_features] = ss.fit_transform(train[scale_features])\n",
    "test[scale_features] = ss.transform(test[scale_features])"
   ]
  },
  {
   "cell_type": "code",
   "execution_count": 6,
   "id": "ca3034a4",
   "metadata": {
    "execution": {
     "iopub.execute_input": "2021-08-27T04:11:41.937414Z",
     "iopub.status.busy": "2021-08-27T04:11:41.936755Z",
     "iopub.status.idle": "2021-08-27T04:11:41.939719Z",
     "shell.execute_reply": "2021-08-27T04:11:41.939215Z",
     "shell.execute_reply.started": "2021-08-18T15:48:25.304369Z"
    },
    "papermill": {
     "duration": 0.023739,
     "end_time": "2021-08-27T04:11:41.939856",
     "exception": false,
     "start_time": "2021-08-27T04:11:41.916117",
     "status": "completed"
    },
    "tags": []
   },
   "outputs": [],
   "source": [
    "# Swap noise\n",
    "\n",
    "# Random\n",
    "def apply_noise_rn(df, p=.75):\n",
    "    should_not_swap = np.random.binomial(1, p, df.shape)\n",
    "    corrupted_df = df.where(should_not_swap == 1, np.random.permutation(df))\n",
    "    return corrupted_df\n",
    "\n",
    "# Row-wise\n",
    "def apply_noise_row(df, p=.75):\n",
    "    should_not_swap = np.zeros(df.shape)\n",
    "    for i in range(df.shape[0]):\n",
    "        for j in np.random.choice(df.shape[1],int(p*df.shape[1]),replace=False):\n",
    "            should_not_swap[i,j]=1 \n",
    "    corrupted_df = df.where(should_not_swap == 1, np.random.permutation(df))\n",
    "    return corrupted_df"
   ]
  },
  {
   "cell_type": "markdown",
   "id": "942934c4",
   "metadata": {
    "papermill": {
     "duration": 0.012715,
     "end_time": "2021-08-27T04:11:41.965345",
     "exception": false,
     "start_time": "2021-08-27T04:11:41.952630",
     "status": "completed"
    },
    "tags": []
   },
   "source": [
    "# Pseudo Label"
   ]
  },
  {
   "cell_type": "code",
   "execution_count": 7,
   "id": "11d9fc01",
   "metadata": {
    "execution": {
     "iopub.execute_input": "2021-08-27T04:11:41.996915Z",
     "iopub.status.busy": "2021-08-27T04:11:41.996255Z",
     "iopub.status.idle": "2021-08-27T04:11:42.695926Z",
     "shell.execute_reply": "2021-08-27T04:11:42.695355Z",
     "shell.execute_reply.started": "2021-08-18T15:48:25.317809Z"
    },
    "papermill": {
     "duration": 0.717562,
     "end_time": "2021-08-27T04:11:42.696062",
     "exception": false,
     "start_time": "2021-08-27T04:11:41.978500",
     "status": "completed"
    },
    "tags": []
   },
   "outputs": [],
   "source": [
    "pseudo = pd.read_csv(\"../input/in-python-tabular-denoising-residual-network/submission_v2.csv\")[target]\n",
    "test_pseudo = pd.concat([test, pseudo], axis=1)\n",
    "all_pseudo = pd.concat([train, test_pseudo]).reset_index(drop=True)"
   ]
  },
  {
   "cell_type": "markdown",
   "id": "3f340510",
   "metadata": {
    "papermill": {
     "duration": 0.012602,
     "end_time": "2021-08-27T04:11:42.721734",
     "exception": false,
     "start_time": "2021-08-27T04:11:42.709132",
     "status": "completed"
    },
    "tags": []
   },
   "source": [
    "# Optuna"
   ]
  },
  {
   "cell_type": "code",
   "execution_count": 8,
   "id": "083c3286",
   "metadata": {
    "execution": {
     "iopub.execute_input": "2021-08-27T04:11:42.752703Z",
     "iopub.status.busy": "2021-08-27T04:11:42.751969Z",
     "iopub.status.idle": "2021-08-27T04:11:51.839504Z",
     "shell.execute_reply": "2021-08-27T04:11:51.839971Z",
     "shell.execute_reply.started": "2021-08-18T15:48:26.077283Z"
    },
    "papermill": {
     "duration": 9.105477,
     "end_time": "2021-08-27T04:11:51.840152",
     "exception": false,
     "start_time": "2021-08-27T04:11:42.734675",
     "status": "completed"
    },
    "tags": []
   },
   "outputs": [
    {
     "name": "stdout",
     "output_type": "stream",
     "text": [
      "\u001b[33mWARNING: Running pip as root will break packages and permissions. You should install packages reliably by using venv: https://pip.pypa.io/warnings/venv\u001b[0m\r\n"
     ]
    }
   ],
   "source": [
    "# Optuna for parameter search\n",
    "!pip install -q optuna\n",
    "\n",
    "import optuna\n",
    "import pickle"
   ]
  },
  {
   "cell_type": "code",
   "execution_count": 9,
   "id": "5df6a014",
   "metadata": {
    "execution": {
     "iopub.execute_input": "2021-08-27T04:11:51.884872Z",
     "iopub.status.busy": "2021-08-27T04:11:51.883392Z",
     "iopub.status.idle": "2021-08-27T04:11:52.210920Z",
     "shell.execute_reply": "2021-08-27T04:11:52.210235Z",
     "shell.execute_reply.started": "2021-08-18T15:48:37.748925Z"
    },
    "papermill": {
     "duration": 0.357007,
     "end_time": "2021-08-27T04:11:52.211059",
     "exception": false,
     "start_time": "2021-08-27T04:11:51.854052",
     "status": "completed"
    },
    "tags": []
   },
   "outputs": [],
   "source": [
    "# for the fixed learning rate, use the opt n iterations and tune the tree hyperparameters\n",
    "def objective(trial, X=all_pseudo[scale_features], y=all_pseudo[target]):\n",
    "  \"\"\"\n",
    "  \"\"\"\n",
    "  param_space = {\n",
    "                  'bootstrap_type': trial.suggest_categorical('bootstrap_type', ['Bernoulli', 'MVS']),\n",
    "            'loss_function': 'RMSE',\n",
    "            'eval_metric': 'RMSE',\n",
    "          #'task_type': 'GPU',\n",
    "          'max_depth':trial.suggest_int('max_depth', 4, 6),\n",
    "           'learning_rate':trial.suggest_uniform('learning_rate', 3.18e-2, 4.38e-2),\n",
    "          'n_estimators':N_ESTIMATORS,\n",
    "        'max_bin':trial.suggest_int('max_bin', 136, 186),\n",
    "             'min_data_in_leaf':trial.suggest_int('min_data_in_leaf', 17, 29),\n",
    "         'reg_lambda':trial.suggest_uniform('reg_lambda', 22.9, 28.9),\n",
    "            'subsample': trial.suggest_uniform('subsample', 0.156, 0.256)\n",
    "                 }\n",
    "            \n",
    "\n",
    "  seed_list=[SEED, SEED+1]\n",
    "  #kf = KFold(n_splits=N_SPLITS, shuffle=True, random_state=CVSEED)\n",
    "  ctb_oof = np.zeros(train.shape[0])\n",
    "  #lgb_pred = np.zeros(test.shape[0])\n",
    "  X_tr, X_va, y_tr, y_va = train_test_split(X,y,test_size=.2,random_state=CVSEED)\n",
    "  trn_idx = X_tr.index\n",
    "  val_idx = X_va.index\n",
    "  \n",
    "  \n",
    "  #for (trn_idx, val_idx) in enumerate(kf.split(X, y)):\n",
    "  #print(f\"===== fold {fold} =====\")\n",
    "  oof_idx = np.array([idx for idx in val_idx if idx < train.shape[0]])\n",
    "  preds_idx = np.array([idx for idx in val_idx if idx >= train.shape[0]])\n",
    "\n",
    "  X_train, y_train = all_pseudo[scale_features].iloc[trn_idx], all_pseudo[target].iloc[trn_idx]\n",
    "  #X_train = apply_noise_rn(X_train)\n",
    "\n",
    "  X_valid, y_valid = all_pseudo[scale_features].iloc[oof_idx], all_pseudo[target].iloc[oof_idx]\n",
    "  #X_test = all_pseudo[scale_features].iloc[preds_idx]\n",
    "\n",
    "  #start = time.time()\n",
    "  for inseed in seed_list:\n",
    "    param_space['random_seed'] = inseed\n",
    "\n",
    "    model =  ctb.CatBoostRegressor(**param_space)\n",
    "    model.fit(\n",
    "        X_train, \n",
    "        y_train,\n",
    "        eval_set=[(X_valid, y_valid)],\n",
    "        use_best_model=True,\n",
    "        early_stopping_rounds=EARLY_STOPPING_ROUNDS,\n",
    "        verbose=VERBOSE,\n",
    "    )\n",
    "\n",
    "\n",
    "    ctb_oof[oof_idx] += model.predict(X_valid) / len(seed_list)\n",
    "    #lgb_pred[preds_idx-train.shape[0]] += model.predict(X_test) / len(seed_list)\n",
    "\n",
    "  #elapsed = time.time() - start\n",
    "  rmse = mean_squared_error(y_valid, ctb_oof[oof_idx], squared=False)\n",
    "  #print(f\"fold {fold} - lgb rmse: {rmse:.6f}, elapsed time: {elapsed:.2f}sec\\n\")            \n",
    "  \n",
    "  #print(f\"oof lgb_rmse = {mean_squared_error(train[target], lgb_oof, squared=False)}\")\n",
    "\n",
    "  \n",
    "  return rmse"
   ]
  },
  {
   "cell_type": "code",
   "execution_count": 10,
   "id": "6d58c35f",
   "metadata": {
    "execution": {
     "iopub.execute_input": "2021-08-27T04:11:52.242749Z",
     "iopub.status.busy": "2021-08-27T04:11:52.242100Z",
     "iopub.status.idle": "2021-08-27T08:31:41.722625Z",
     "shell.execute_reply": "2021-08-27T08:31:41.720818Z",
     "shell.execute_reply.started": "2021-08-18T15:48:38.154322Z"
    },
    "papermill": {
     "duration": 15589.498678,
     "end_time": "2021-08-27T08:31:41.722863",
     "exception": false,
     "start_time": "2021-08-27T04:11:52.224185",
     "status": "completed"
    },
    "tags": []
   },
   "outputs": [
    {
     "name": "stderr",
     "output_type": "stream",
     "text": [
      "\u001b[32m[I 2021-08-27 04:11:52,240]\u001b[0m A new study created in memory with name: no-name-dd35a75d-2127-46a7-ab81-b5208a2aff76\u001b[0m\n"
     ]
    },
    {
     "name": "stdout",
     "output_type": "stream",
     "text": [
      "0:\tlearn: 6.3298636\ttest: 7.8580777\tbest: 7.8580777 (0)\ttotal: 99.1ms\tremaining: 16m 31s\n",
      "1000:\tlearn: 6.1921795\ttest: 7.7803414\tbest: 7.7803414 (1000)\ttotal: 38s\tremaining: 5m 41s\n",
      "2000:\tlearn: 6.1347310\ttest: 7.7716960\tbest: 7.7716812 (1999)\ttotal: 1m 16s\tremaining: 5m 4s\n",
      "3000:\tlearn: 6.0833382\ttest: 7.7676065\tbest: 7.7676065 (3000)\ttotal: 1m 54s\tremaining: 4m 26s\n",
      "4000:\tlearn: 6.0353850\ttest: 7.7636140\tbest: 7.7635490 (3987)\ttotal: 2m 32s\tremaining: 3m 48s\n",
      "5000:\tlearn: 5.9887187\ttest: 7.7611894\tbest: 7.7611894 (5000)\ttotal: 3m 10s\tremaining: 3m 10s\n",
      "Stopped by overfitting detector  (200 iterations wait)\n",
      "\n",
      "bestTest = 7.761032468\n",
      "bestIteration = 5099\n",
      "\n",
      "Shrink model to first 5100 iterations.\n",
      "0:\tlearn: 6.3297614\ttest: 7.8579905\tbest: 7.8579905 (0)\ttotal: 38.8ms\tremaining: 6m 28s\n",
      "1000:\tlearn: 6.1912456\ttest: 7.7799068\tbest: 7.7799068 (1000)\ttotal: 38s\tremaining: 5m 41s\n",
      "2000:\tlearn: 6.1335463\ttest: 7.7712244\tbest: 7.7712244 (2000)\ttotal: 1m 15s\tremaining: 5m 3s\n",
      "3000:\tlearn: 6.0825520\ttest: 7.7665388\tbest: 7.7663813 (2969)\ttotal: 1m 54s\tremaining: 4m 26s\n",
      "4000:\tlearn: 6.0342783\ttest: 7.7630911\tbest: 7.7630443 (3988)\ttotal: 2m 32s\tremaining: 3m 48s\n",
      "5000:\tlearn: 5.9871724\ttest: 7.7607903\tbest: 7.7607179 (4896)\ttotal: 3m 10s\tremaining: 3m 10s\n",
      "Stopped by overfitting detector  (200 iterations wait)\n",
      "\n",
      "bestTest = 7.760717884\n",
      "bestIteration = 4896\n",
      "\n",
      "Shrink model to first 4897 iterations.\n"
     ]
    },
    {
     "name": "stderr",
     "output_type": "stream",
     "text": [
      "\u001b[32m[I 2021-08-27 04:18:35,643]\u001b[0m Trial 0 finished with value: 7.759287875651061 and parameters: {'bootstrap_type': 'Bernoulli', 'max_depth': 6, 'learning_rate': 0.035419850921570656, 'max_bin': 179, 'min_data_in_leaf': 29, 'reg_lambda': 27.64976072571717, 'subsample': 0.22690964266733676}. Best is trial 0 with value: 7.759287875651061.\u001b[0m\n"
     ]
    },
    {
     "name": "stdout",
     "output_type": "stream",
     "text": [
      "0:\tlearn: 6.3299457\ttest: 7.8581068\tbest: 7.8581068 (0)\ttotal: 34.6ms\tremaining: 5m 46s\n",
      "1000:\tlearn: 6.1971826\ttest: 7.7824785\tbest: 7.7824785 (1000)\ttotal: 33.4s\tremaining: 5m\n",
      "2000:\tlearn: 6.1424355\ttest: 7.7726008\tbest: 7.7725620 (1980)\ttotal: 1m 6s\tremaining: 4m 26s\n",
      "3000:\tlearn: 6.0943620\ttest: 7.7680684\tbest: 7.7680270 (2996)\ttotal: 1m 40s\tremaining: 3m 53s\n",
      "4000:\tlearn: 6.0486227\ttest: 7.7652846\tbest: 7.7652643 (3996)\ttotal: 2m 14s\tremaining: 3m 21s\n",
      "5000:\tlearn: 6.0046966\ttest: 7.7627231\tbest: 7.7627167 (4999)\ttotal: 2m 47s\tremaining: 2m 47s\n",
      "Stopped by overfitting detector  (200 iterations wait)\n",
      "\n",
      "bestTest = 7.761612142\n",
      "bestIteration = 5397\n",
      "\n",
      "Shrink model to first 5398 iterations.\n",
      "0:\tlearn: 6.3297254\ttest: 7.8578862\tbest: 7.8578862 (0)\ttotal: 33.9ms\tremaining: 5m 38s\n",
      "1000:\tlearn: 6.1975937\ttest: 7.7821999\tbest: 7.7821999 (1000)\ttotal: 34.3s\tremaining: 5m 8s\n",
      "2000:\tlearn: 6.1422683\ttest: 7.7732213\tbest: 7.7732148 (1981)\ttotal: 1m 8s\tremaining: 4m 33s\n",
      "3000:\tlearn: 6.0944216\ttest: 7.7688393\tbest: 7.7688393 (3000)\ttotal: 1m 42s\tremaining: 3m 59s\n",
      "4000:\tlearn: 6.0485707\ttest: 7.7658654\tbest: 7.7658654 (4000)\ttotal: 2m 16s\tremaining: 3m 24s\n",
      "5000:\tlearn: 6.0044959\ttest: 7.7640719\tbest: 7.7640719 (5000)\ttotal: 2m 50s\tremaining: 2m 50s\n",
      "6000:\tlearn: 5.9612083\ttest: 7.7620310\tbest: 7.7619547 (5986)\ttotal: 3m 24s\tremaining: 2m 16s\n",
      "7000:\tlearn: 5.9188838\ttest: 7.7601497\tbest: 7.7601497 (7000)\ttotal: 3m 58s\tremaining: 1m 42s\n",
      "8000:\tlearn: 5.8778836\ttest: 7.7593405\tbest: 7.7593213 (7995)\ttotal: 4m 31s\tremaining: 1m 7s\n",
      "Stopped by overfitting detector  (200 iterations wait)\n",
      "\n",
      "bestTest = 7.758606578\n",
      "bestIteration = 8572\n",
      "\n",
      "Shrink model to first 8573 iterations.\n"
     ]
    },
    {
     "name": "stderr",
     "output_type": "stream",
     "text": [
      "\u001b[32m[I 2021-08-27 04:26:48,848]\u001b[0m Trial 1 finished with value: 7.758044449058102 and parameters: {'bootstrap_type': 'Bernoulli', 'max_depth': 6, 'learning_rate': 0.033977878786145985, 'max_bin': 136, 'min_data_in_leaf': 28, 'reg_lambda': 23.193878789603225, 'subsample': 0.18022975777354922}. Best is trial 1 with value: 7.758044449058102.\u001b[0m\n"
     ]
    },
    {
     "name": "stdout",
     "output_type": "stream",
     "text": [
      "0:\tlearn: 6.3291409\ttest: 7.8574334\tbest: 7.8574334 (0)\ttotal: 46.5ms\tremaining: 7m 44s\n",
      "1000:\tlearn: 6.1705647\ttest: 7.7742783\tbest: 7.7742783 (1000)\ttotal: 38.9s\tremaining: 5m 49s\n",
      "2000:\tlearn: 6.0972023\ttest: 7.7667239\tbest: 7.7666774 (1996)\ttotal: 1m 17s\tremaining: 5m 10s\n",
      "3000:\tlearn: 6.0302033\ttest: 7.7631212\tbest: 7.7630083 (2984)\ttotal: 1m 56s\tremaining: 4m 31s\n",
      "4000:\tlearn: 5.9668497\ttest: 7.7611464\tbest: 7.7610700 (3972)\ttotal: 2m 35s\tremaining: 3m 52s\n",
      "5000:\tlearn: 5.9060897\ttest: 7.7597406\tbest: 7.7597406 (5000)\ttotal: 3m 14s\tremaining: 3m 14s\n",
      "Stopped by overfitting detector  (200 iterations wait)\n",
      "\n",
      "bestTest = 7.758467426\n",
      "bestIteration = 5732\n",
      "\n",
      "Shrink model to first 5733 iterations.\n",
      "0:\tlearn: 6.3291020\ttest: 7.8574170\tbest: 7.8574170 (0)\ttotal: 36.6ms\tremaining: 6m 6s\n",
      "1000:\tlearn: 6.1709737\ttest: 7.7753830\tbest: 7.7753830 (1000)\ttotal: 38.7s\tremaining: 5m 47s\n",
      "2000:\tlearn: 6.0976851\ttest: 7.7671073\tbest: 7.7670766 (1972)\ttotal: 1m 17s\tremaining: 5m 9s\n",
      "3000:\tlearn: 6.0310133\ttest: 7.7628122\tbest: 7.7628122 (3000)\ttotal: 1m 55s\tremaining: 4m 30s\n",
      "4000:\tlearn: 5.9683794\ttest: 7.7604826\tbest: 7.7604535 (3983)\ttotal: 2m 34s\tremaining: 3m 52s\n",
      "5000:\tlearn: 5.9063683\ttest: 7.7577812\tbest: 7.7577515 (4992)\ttotal: 3m 13s\tremaining: 3m 13s\n",
      "Stopped by overfitting detector  (200 iterations wait)\n",
      "\n",
      "bestTest = 7.756352841\n",
      "bestIteration = 5466\n",
      "\n",
      "Shrink model to first 5467 iterations.\n"
     ]
    },
    {
     "name": "stderr",
     "output_type": "stream",
     "text": [
      "\u001b[32m[I 2021-08-27 04:34:25,768]\u001b[0m Trial 2 finished with value: 7.75502517353777 and parameters: {'bootstrap_type': 'MVS', 'max_depth': 6, 'learning_rate': 0.04076752165623452, 'max_bin': 153, 'min_data_in_leaf': 26, 'reg_lambda': 26.330057125742645, 'subsample': 0.22694978348758915}. Best is trial 2 with value: 7.75502517353777.\u001b[0m\n"
     ]
    },
    {
     "name": "stdout",
     "output_type": "stream",
     "text": [
      "0:\tlearn: 6.3297979\ttest: 7.8579729\tbest: 7.8579729 (0)\ttotal: 30.1ms\tremaining: 5m\n",
      "1000:\tlearn: 6.2138569\ttest: 7.7819857\tbest: 7.7819857 (1000)\ttotal: 33.4s\tremaining: 5m\n",
      "2000:\tlearn: 6.1751517\ttest: 7.7723296\tbest: 7.7723296 (2000)\ttotal: 1m 9s\tremaining: 4m 38s\n",
      "3000:\tlearn: 6.1431183\ttest: 7.7681699\tbest: 7.7681580 (2980)\ttotal: 1m 45s\tremaining: 4m 6s\n",
      "4000:\tlearn: 6.1129318\ttest: 7.7645512\tbest: 7.7645023 (3993)\ttotal: 2m 22s\tremaining: 3m 33s\n",
      "5000:\tlearn: 6.0837685\ttest: 7.7619276\tbest: 7.7619010 (4989)\ttotal: 2m 58s\tremaining: 2m 58s\n",
      "6000:\tlearn: 6.0559058\ttest: 7.7601875\tbest: 7.7601488 (5937)\ttotal: 3m 34s\tremaining: 2m 22s\n",
      "7000:\tlearn: 6.0284048\ttest: 7.7577550\tbest: 7.7577531 (6995)\ttotal: 4m 10s\tremaining: 1m 47s\n",
      "8000:\tlearn: 6.0020279\ttest: 7.7563756\tbest: 7.7563430 (7995)\ttotal: 4m 46s\tremaining: 1m 11s\n",
      "9000:\tlearn: 5.9761543\ttest: 7.7556218\tbest: 7.7556041 (8996)\ttotal: 5m 22s\tremaining: 35.8s\n",
      "9999:\tlearn: 5.9505647\ttest: 7.7545473\tbest: 7.7545473 (9999)\ttotal: 5m 58s\tremaining: 0us\n",
      "\n",
      "bestTest = 7.754547303\n",
      "bestIteration = 9999\n",
      "\n",
      "0:\tlearn: 6.3298384\ttest: 7.8579713\tbest: 7.8579713 (0)\ttotal: 33.4ms\tremaining: 5m 33s\n",
      "1000:\tlearn: 6.2136275\ttest: 7.7822834\tbest: 7.7822834 (1000)\ttotal: 36.3s\tremaining: 5m 25s\n",
      "2000:\tlearn: 6.1746598\ttest: 7.7723880\tbest: 7.7723692 (1998)\ttotal: 1m 11s\tremaining: 4m 46s\n",
      "3000:\tlearn: 6.1419178\ttest: 7.7670387\tbest: 7.7670336 (2994)\ttotal: 1m 47s\tremaining: 4m 10s\n",
      "4000:\tlearn: 6.1116907\ttest: 7.7639692\tbest: 7.7639650 (3999)\ttotal: 2m 23s\tremaining: 3m 35s\n",
      "5000:\tlearn: 6.0834108\ttest: 7.7617343\tbest: 7.7617295 (4998)\ttotal: 2m 59s\tremaining: 2m 59s\n",
      "6000:\tlearn: 6.0554886\ttest: 7.7600039\tbest: 7.7599622 (5991)\ttotal: 3m 35s\tremaining: 2m 23s\n",
      "7000:\tlearn: 6.0286099\ttest: 7.7584696\tbest: 7.7583840 (6861)\ttotal: 4m 11s\tremaining: 1m 47s\n",
      "Stopped by overfitting detector  (200 iterations wait)\n",
      "\n",
      "bestTest = 7.758271892\n",
      "bestIteration = 7129\n",
      "\n",
      "Shrink model to first 7130 iterations.\n"
     ]
    },
    {
     "name": "stderr",
     "output_type": "stream",
     "text": [
      "\u001b[32m[I 2021-08-27 04:44:56,537]\u001b[0m Trial 3 finished with value: 7.754804186522949 and parameters: {'bootstrap_type': 'Bernoulli', 'max_depth': 5, 'learning_rate': 0.03439079602113671, 'max_bin': 181, 'min_data_in_leaf': 23, 'reg_lambda': 27.349648378778845, 'subsample': 0.23559245080361735}. Best is trial 3 with value: 7.754804186522949.\u001b[0m\n"
     ]
    },
    {
     "name": "stdout",
     "output_type": "stream",
     "text": [
      "0:\tlearn: 6.3297225\ttest: 7.8578959\tbest: 7.8578959 (0)\ttotal: 29.8ms\tremaining: 4m 57s\n",
      "1000:\tlearn: 6.2253092\ttest: 7.7854385\tbest: 7.7854385 (1000)\ttotal: 28.7s\tremaining: 4m 17s\n",
      "2000:\tlearn: 6.1953927\ttest: 7.7755493\tbest: 7.7755493 (2000)\ttotal: 57s\tremaining: 3m 47s\n",
      "3000:\tlearn: 6.1732518\ttest: 7.7712987\tbest: 7.7712708 (2984)\ttotal: 1m 25s\tremaining: 3m 18s\n",
      "4000:\tlearn: 6.1530740\ttest: 7.7687416\tbest: 7.7687226 (3986)\ttotal: 1m 53s\tremaining: 2m 50s\n",
      "5000:\tlearn: 6.1340832\ttest: 7.7662509\tbest: 7.7662369 (4998)\ttotal: 2m 22s\tremaining: 2m 22s\n",
      "6000:\tlearn: 6.1162898\ttest: 7.7649100\tbest: 7.7648992 (5955)\ttotal: 2m 50s\tremaining: 1m 53s\n",
      "7000:\tlearn: 6.0983393\ttest: 7.7633498\tbest: 7.7633493 (6999)\ttotal: 3m 18s\tremaining: 1m 25s\n",
      "8000:\tlearn: 6.0812596\ttest: 7.7618783\tbest: 7.7618783 (8000)\ttotal: 3m 47s\tremaining: 56.8s\n",
      "9000:\tlearn: 6.0644845\ttest: 7.7608835\tbest: 7.7608718 (8998)\ttotal: 4m 15s\tremaining: 28.4s\n",
      "Stopped by overfitting detector  (200 iterations wait)\n",
      "\n",
      "bestTest = 7.760814215\n",
      "bestIteration = 9026\n",
      "\n",
      "Shrink model to first 9027 iterations.\n",
      "0:\tlearn: 6.3298047\ttest: 7.8579614\tbest: 7.8579614 (0)\ttotal: 26.3ms\tremaining: 4m 23s\n",
      "1000:\tlearn: 6.2251989\ttest: 7.7849996\tbest: 7.7849996 (1000)\ttotal: 28.7s\tremaining: 4m 17s\n",
      "2000:\tlearn: 6.1957170\ttest: 7.7751257\tbest: 7.7751196 (1989)\ttotal: 57.2s\tremaining: 3m 48s\n",
      "3000:\tlearn: 6.1735093\ttest: 7.7703178\tbest: 7.7702794 (2986)\ttotal: 1m 26s\tremaining: 3m 21s\n",
      "4000:\tlearn: 6.1535203\ttest: 7.7675817\tbest: 7.7675817 (4000)\ttotal: 1m 54s\tremaining: 2m 51s\n",
      "5000:\tlearn: 6.1345300\ttest: 7.7654912\tbest: 7.7654912 (5000)\ttotal: 2m 23s\tremaining: 2m 22s\n",
      "6000:\tlearn: 6.1163179\ttest: 7.7635283\tbest: 7.7635283 (6000)\ttotal: 2m 51s\tremaining: 1m 54s\n",
      "7000:\tlearn: 6.0986389\ttest: 7.7619283\tbest: 7.7619054 (6918)\ttotal: 3m 20s\tremaining: 1m 26s\n",
      "Stopped by overfitting detector  (200 iterations wait)\n",
      "\n",
      "bestTest = 7.761893459\n",
      "bestIteration = 7008\n",
      "\n",
      "Shrink model to first 7009 iterations.\n"
     ]
    },
    {
     "name": "stderr",
     "output_type": "stream",
     "text": [
      "\u001b[32m[I 2021-08-27 04:52:53,829]\u001b[0m Trial 4 finished with value: 7.760276218132565 and parameters: {'bootstrap_type': 'Bernoulli', 'max_depth': 4, 'learning_rate': 0.0374079892204287, 'max_bin': 146, 'min_data_in_leaf': 22, 'reg_lambda': 23.84029718236764, 'subsample': 0.23684809054711228}. Best is trial 3 with value: 7.754804186522949.\u001b[0m\n"
     ]
    },
    {
     "name": "stdout",
     "output_type": "stream",
     "text": [
      "0:\tlearn: 6.3293402\ttest: 7.8576259\tbest: 7.8576259 (0)\ttotal: 30.6ms\tremaining: 5m 5s\n",
      "1000:\tlearn: 6.2125429\ttest: 7.7794978\tbest: 7.7794978 (1000)\ttotal: 29.7s\tremaining: 4m 26s\n",
      "2000:\tlearn: 6.1762390\ttest: 7.7708226\tbest: 7.7708193 (1999)\ttotal: 59.3s\tremaining: 3m 57s\n",
      "3000:\tlearn: 6.1464892\ttest: 7.7666552\tbest: 7.7666552 (3000)\ttotal: 1m 28s\tremaining: 3m 27s\n",
      "4000:\tlearn: 6.1186791\ttest: 7.7639398\tbest: 7.7639398 (4000)\ttotal: 1m 58s\tremaining: 2m 57s\n",
      "5000:\tlearn: 6.0928876\ttest: 7.7619555\tbest: 7.7619468 (4983)\ttotal: 2m 28s\tremaining: 2m 28s\n",
      "Stopped by overfitting detector  (200 iterations wait)\n",
      "\n",
      "bestTest = 7.760897007\n",
      "bestIteration = 5789\n",
      "\n",
      "Shrink model to first 5790 iterations.\n",
      "0:\tlearn: 6.3296357\ttest: 7.8578085\tbest: 7.8578085 (0)\ttotal: 33ms\tremaining: 5m 30s\n",
      "1000:\tlearn: 6.2124804\ttest: 7.7798897\tbest: 7.7798862 (997)\ttotal: 30s\tremaining: 4m 29s\n",
      "2000:\tlearn: 6.1756196\ttest: 7.7709519\tbest: 7.7709519 (2000)\ttotal: 59.9s\tremaining: 3m 59s\n",
      "3000:\tlearn: 6.1455954\ttest: 7.7667533\tbest: 7.7667489 (2990)\ttotal: 1m 30s\tremaining: 3m 30s\n",
      "4000:\tlearn: 6.1184921\ttest: 7.7638772\tbest: 7.7638772 (4000)\ttotal: 2m\tremaining: 3m\n",
      "5000:\tlearn: 6.0926533\ttest: 7.7620351\tbest: 7.7620277 (4980)\ttotal: 2m 30s\tremaining: 2m 30s\n",
      "6000:\tlearn: 6.0673879\ttest: 7.7599005\tbest: 7.7598379 (5977)\ttotal: 3m\tremaining: 2m\n",
      "7000:\tlearn: 6.0432438\ttest: 7.7586827\tbest: 7.7586417 (6990)\ttotal: 3m 29s\tremaining: 1m 29s\n",
      "Stopped by overfitting detector  (200 iterations wait)\n",
      "\n",
      "bestTest = 7.757671814\n",
      "bestIteration = 7667\n",
      "\n",
      "Shrink model to first 7668 iterations.\n"
     ]
    },
    {
     "name": "stderr",
     "output_type": "stream",
     "text": [
      "\u001b[32m[I 2021-08-27 04:59:55,860]\u001b[0m Trial 5 finished with value: 7.7579544957718864 and parameters: {'bootstrap_type': 'MVS', 'max_depth': 4, 'learning_rate': 0.042942392150396, 'max_bin': 138, 'min_data_in_leaf': 29, 'reg_lambda': 26.172460466233357, 'subsample': 0.20153949964561674}. Best is trial 3 with value: 7.754804186522949.\u001b[0m\n"
     ]
    },
    {
     "name": "stdout",
     "output_type": "stream",
     "text": [
      "0:\tlearn: 6.3291510\ttest: 7.8574828\tbest: 7.8574828 (0)\ttotal: 35.5ms\tremaining: 5m 54s\n",
      "1000:\tlearn: 6.1932575\ttest: 7.7777057\tbest: 7.7776909 (997)\ttotal: 36.2s\tremaining: 5m 25s\n",
      "2000:\tlearn: 6.1421968\ttest: 7.7691968\tbest: 7.7691968 (2000)\ttotal: 1m 11s\tremaining: 4m 47s\n",
      "3000:\tlearn: 6.0974992\ttest: 7.7651114\tbest: 7.7651114 (3000)\ttotal: 1m 47s\tremaining: 4m 10s\n",
      "4000:\tlearn: 6.0550853\ttest: 7.7625454\tbest: 7.7623888 (3976)\ttotal: 2m 22s\tremaining: 3m 34s\n",
      "Stopped by overfitting detector  (200 iterations wait)\n",
      "\n",
      "bestTest = 7.762388841\n",
      "bestIteration = 3976\n",
      "\n",
      "Shrink model to first 3977 iterations.\n",
      "0:\tlearn: 6.3292430\ttest: 7.8575355\tbest: 7.8575355 (0)\ttotal: 35ms\tremaining: 5m 49s\n",
      "1000:\tlearn: 6.1935200\ttest: 7.7777576\tbest: 7.7777576 (1000)\ttotal: 35.8s\tremaining: 5m 22s\n",
      "2000:\tlearn: 6.1422848\ttest: 7.7692669\tbest: 7.7692669 (2000)\ttotal: 1m 11s\tremaining: 4m 44s\n",
      "3000:\tlearn: 6.0973851\ttest: 7.7658719\tbest: 7.7657059 (2969)\ttotal: 1m 46s\tremaining: 4m 8s\n",
      "4000:\tlearn: 6.0550308\ttest: 7.7630882\tbest: 7.7630378 (3992)\ttotal: 2m 22s\tremaining: 3m 34s\n",
      "5000:\tlearn: 6.0148259\ttest: 7.7614431\tbest: 7.7613468 (4987)\ttotal: 2m 58s\tremaining: 2m 58s\n",
      "Stopped by overfitting detector  (200 iterations wait)\n",
      "\n",
      "bestTest = 7.760141969\n",
      "bestIteration = 5544\n",
      "\n",
      "Shrink model to first 5545 iterations.\n"
     ]
    },
    {
     "name": "stderr",
     "output_type": "stream",
     "text": [
      "\u001b[32m[I 2021-08-27 05:05:57,099]\u001b[0m Trial 6 finished with value: 7.759668411480352 and parameters: {'bootstrap_type': 'MVS', 'max_depth': 5, 'learning_rate': 0.0433169066961956, 'max_bin': 145, 'min_data_in_leaf': 29, 'reg_lambda': 23.981922571083896, 'subsample': 0.19973927410989584}. Best is trial 3 with value: 7.754804186522949.\u001b[0m\n"
     ]
    },
    {
     "name": "stdout",
     "output_type": "stream",
     "text": [
      "0:\tlearn: 6.3294833\ttest: 7.8577147\tbest: 7.8577147 (0)\ttotal: 37.1ms\tremaining: 6m 10s\n",
      "1000:\tlearn: 6.2017913\ttest: 7.7787950\tbest: 7.7787950 (1000)\ttotal: 37.1s\tremaining: 5m 33s\n",
      "2000:\tlearn: 6.1549380\ttest: 7.7702581\tbest: 7.7702581 (2000)\ttotal: 1m 14s\tremaining: 4m 56s\n",
      "3000:\tlearn: 6.1146831\ttest: 7.7659642\tbest: 7.7659642 (3000)\ttotal: 1m 51s\tremaining: 4m 19s\n",
      "4000:\tlearn: 6.0762557\ttest: 7.7634167\tbest: 7.7633625 (3953)\ttotal: 2m 28s\tremaining: 3m 42s\n",
      "5000:\tlearn: 6.0393756\ttest: 7.7611903\tbest: 7.7611380 (4991)\ttotal: 3m 5s\tremaining: 3m 5s\n",
      "6000:\tlearn: 6.0039680\ttest: 7.7591138\tbest: 7.7590703 (5977)\ttotal: 3m 42s\tremaining: 2m 28s\n",
      "Stopped by overfitting detector  (200 iterations wait)\n",
      "\n",
      "bestTest = 7.75817472\n",
      "bestIteration = 6707\n",
      "\n",
      "Shrink model to first 6708 iterations.\n",
      "0:\tlearn: 6.3296397\ttest: 7.8577848\tbest: 7.8577848 (0)\ttotal: 43.6ms\tremaining: 7m 16s\n",
      "1000:\tlearn: 6.2005871\ttest: 7.7787726\tbest: 7.7787726 (1000)\ttotal: 37.6s\tremaining: 5m 37s\n",
      "2000:\tlearn: 6.1526554\ttest: 7.7701812\tbest: 7.7701812 (2000)\ttotal: 1m 14s\tremaining: 4m 57s\n",
      "3000:\tlearn: 6.1121681\ttest: 7.7650708\tbest: 7.7650534 (2988)\ttotal: 1m 51s\tremaining: 4m 19s\n",
      "4000:\tlearn: 6.0747099\ttest: 7.7621704\tbest: 7.7621702 (3998)\ttotal: 2m 28s\tremaining: 3m 42s\n",
      "5000:\tlearn: 6.0382737\ttest: 7.7606295\tbest: 7.7605901 (4903)\ttotal: 3m 5s\tremaining: 3m 4s\n",
      "6000:\tlearn: 6.0027164\ttest: 7.7584894\tbest: 7.7584434 (5996)\ttotal: 3m 42s\tremaining: 2m 28s\n",
      "Stopped by overfitting detector  (200 iterations wait)\n",
      "\n",
      "bestTest = 7.758009376\n",
      "bestIteration = 6625\n",
      "\n",
      "Shrink model to first 6626 iterations.\n"
     ]
    },
    {
     "name": "stderr",
     "output_type": "stream",
     "text": [
      "\u001b[32m[I 2021-08-27 05:14:34,427]\u001b[0m Trial 7 finished with value: 7.756528125402395 and parameters: {'bootstrap_type': 'MVS', 'max_depth': 5, 'learning_rate': 0.03708113880506922, 'max_bin': 173, 'min_data_in_leaf': 27, 'reg_lambda': 27.81842173460346, 'subsample': 0.21386696458228743}. Best is trial 3 with value: 7.754804186522949.\u001b[0m\n"
     ]
    },
    {
     "name": "stdout",
     "output_type": "stream",
     "text": [
      "0:\tlearn: 6.3300596\ttest: 7.8581712\tbest: 7.8581712 (0)\ttotal: 44.4ms\tremaining: 7m 23s\n",
      "1000:\tlearn: 6.2340871\ttest: 7.7891081\tbest: 7.7891081 (1000)\ttotal: 26.7s\tremaining: 4m\n",
      "2000:\tlearn: 6.2078734\ttest: 7.7781320\tbest: 7.7781307 (1999)\ttotal: 53.4s\tremaining: 3m 33s\n",
      "3000:\tlearn: 6.1890019\ttest: 7.7730073\tbest: 7.7730073 (3000)\ttotal: 1m 20s\tremaining: 3m 6s\n",
      "4000:\tlearn: 6.1733096\ttest: 7.7701347\tbest: 7.7701347 (4000)\ttotal: 1m 46s\tremaining: 2m 40s\n",
      "5000:\tlearn: 6.1587218\ttest: 7.7678520\tbest: 7.7678413 (4996)\ttotal: 2m 13s\tremaining: 2m 13s\n",
      "6000:\tlearn: 6.1449262\ttest: 7.7656510\tbest: 7.7656357 (5990)\ttotal: 2m 40s\tremaining: 1m 46s\n",
      "7000:\tlearn: 6.1313769\ttest: 7.7642369\tbest: 7.7642354 (6972)\ttotal: 3m 7s\tremaining: 1m 20s\n",
      "8000:\tlearn: 6.1180535\ttest: 7.7635896\tbest: 7.7635475 (7915)\ttotal: 3m 33s\tremaining: 53.4s\n",
      "9000:\tlearn: 6.1049903\ttest: 7.7627070\tbest: 7.7626882 (8992)\ttotal: 4m\tremaining: 26.7s\n",
      "9999:\tlearn: 6.0924186\ttest: 7.7613784\tbest: 7.7613619 (9990)\ttotal: 4m 27s\tremaining: 0us\n",
      "\n",
      "bestTest = 7.761361886\n",
      "bestIteration = 9990\n",
      "\n",
      "Shrink model to first 9991 iterations.\n",
      "0:\tlearn: 6.3300125\ttest: 7.8581129\tbest: 7.8581129 (0)\ttotal: 25.6ms\tremaining: 4m 15s\n",
      "1000:\tlearn: 6.2333959\ttest: 7.7896611\tbest: 7.7896611 (1000)\ttotal: 27.2s\tremaining: 4m 4s\n",
      "2000:\tlearn: 6.2070262\ttest: 7.7788654\tbest: 7.7788654 (2000)\ttotal: 54.4s\tremaining: 3m 37s\n",
      "3000:\tlearn: 6.1882734\ttest: 7.7740459\tbest: 7.7740459 (3000)\ttotal: 1m 21s\tremaining: 3m 9s\n",
      "4000:\tlearn: 6.1722180\ttest: 7.7711493\tbest: 7.7711493 (4000)\ttotal: 1m 48s\tremaining: 2m 43s\n",
      "5000:\tlearn: 6.1573078\ttest: 7.7688711\tbest: 7.7688588 (4989)\ttotal: 2m 16s\tremaining: 2m 16s\n",
      "6000:\tlearn: 6.1431271\ttest: 7.7671300\tbest: 7.7671035 (5991)\ttotal: 2m 43s\tremaining: 1m 48s\n",
      "7000:\tlearn: 6.1295646\ttest: 7.7653165\tbest: 7.7653085 (6995)\ttotal: 3m 10s\tremaining: 1m 21s\n",
      "8000:\tlearn: 6.1167052\ttest: 7.7639592\tbest: 7.7639225 (7990)\ttotal: 3m 37s\tremaining: 54.5s\n",
      "9000:\tlearn: 6.1039347\ttest: 7.7630878\tbest: 7.7630669 (8991)\ttotal: 4m 5s\tremaining: 27.2s\n",
      "9999:\tlearn: 6.0912011\ttest: 7.7622933\tbest: 7.7622801 (9956)\ttotal: 4m 31s\tremaining: 0us\n",
      "\n",
      "bestTest = 7.762280136\n",
      "bestIteration = 9956\n",
      "\n",
      "Shrink model to first 9957 iterations.\n"
     ]
    },
    {
     "name": "stderr",
     "output_type": "stream",
     "text": [
      "\u001b[32m[I 2021-08-27 05:23:42,526]\u001b[0m Trial 8 finished with value: 7.760958080408621 and parameters: {'bootstrap_type': 'Bernoulli', 'max_depth': 4, 'learning_rate': 0.03210655203407061, 'max_bin': 181, 'min_data_in_leaf': 25, 'reg_lambda': 25.989399815576096, 'subsample': 0.16259552534271499}. Best is trial 3 with value: 7.754804186522949.\u001b[0m\n"
     ]
    },
    {
     "name": "stdout",
     "output_type": "stream",
     "text": [
      "0:\tlearn: 6.3296839\ttest: 7.8578559\tbest: 7.8578559 (0)\ttotal: 54.4ms\tremaining: 9m 3s\n",
      "1000:\tlearn: 6.2102562\ttest: 7.7813518\tbest: 7.7813518 (1000)\ttotal: 36.1s\tremaining: 5m 24s\n",
      "2000:\tlearn: 6.1695698\ttest: 7.7720980\tbest: 7.7720932 (1999)\ttotal: 1m 11s\tremaining: 4m 45s\n",
      "3000:\tlearn: 6.1360792\ttest: 7.7678933\tbest: 7.7678933 (3000)\ttotal: 1m 46s\tremaining: 4m 8s\n",
      "4000:\tlearn: 6.1051427\ttest: 7.7653118\tbest: 7.7652976 (3997)\ttotal: 2m 22s\tremaining: 3m 33s\n",
      "5000:\tlearn: 6.0752930\ttest: 7.7632774\tbest: 7.7632774 (5000)\ttotal: 2m 57s\tremaining: 2m 57s\n",
      "6000:\tlearn: 6.0462566\ttest: 7.7618259\tbest: 7.7617234 (5964)\ttotal: 3m 32s\tremaining: 2m 21s\n",
      "Stopped by overfitting detector  (200 iterations wait)\n",
      "\n",
      "bestTest = 7.760068923\n",
      "bestIteration = 6739\n",
      "\n",
      "Shrink model to first 6740 iterations.\n",
      "0:\tlearn: 6.3297200\ttest: 7.8578573\tbest: 7.8578573 (0)\ttotal: 35.1ms\tremaining: 5m 51s\n",
      "1000:\tlearn: 6.2103018\ttest: 7.7807669\tbest: 7.7807669 (1000)\ttotal: 35.7s\tremaining: 5m 21s\n",
      "2000:\tlearn: 6.1691632\ttest: 7.7715303\tbest: 7.7715298 (1998)\ttotal: 1m 10s\tremaining: 4m 42s\n",
      "3000:\tlearn: 6.1354411\ttest: 7.7673284\tbest: 7.7673284 (3000)\ttotal: 1m 46s\tremaining: 4m 7s\n",
      "4000:\tlearn: 6.1043404\ttest: 7.7648668\tbest: 7.7648504 (3996)\ttotal: 2m 21s\tremaining: 3m 31s\n",
      "5000:\tlearn: 6.0746817\ttest: 7.7622138\tbest: 7.7621698 (4985)\ttotal: 2m 56s\tremaining: 2m 56s\n",
      "6000:\tlearn: 6.0459507\ttest: 7.7605737\tbest: 7.7605717 (5998)\ttotal: 3m 31s\tremaining: 2m 20s\n",
      "7000:\tlearn: 6.0178885\ttest: 7.7592195\tbest: 7.7592175 (6999)\ttotal: 4m 6s\tremaining: 1m 45s\n",
      "8000:\tlearn: 5.9903330\ttest: 7.7573416\tbest: 7.7573141 (7992)\ttotal: 4m 41s\tremaining: 1m 10s\n",
      "9000:\tlearn: 5.9634792\ttest: 7.7558042\tbest: 7.7557274 (8942)\ttotal: 5m 17s\tremaining: 35.2s\n",
      "9999:\tlearn: 5.9365076\ttest: 7.7553328\tbest: 7.7552662 (9872)\ttotal: 5m 51s\tremaining: 0us\n",
      "\n",
      "bestTest = 7.755266231\n",
      "bestIteration = 9872\n",
      "\n",
      "Shrink model to first 9873 iterations.\n"
     ]
    },
    {
     "name": "stderr",
     "output_type": "stream",
     "text": [
      "\u001b[32m[I 2021-08-27 05:33:48,790]\u001b[0m Trial 9 finished with value: 7.756126986440913 and parameters: {'bootstrap_type': 'MVS', 'max_depth': 5, 'learning_rate': 0.03284764109780478, 'max_bin': 174, 'min_data_in_leaf': 23, 'reg_lambda': 25.94200871804708, 'subsample': 0.17108662346212558}. Best is trial 3 with value: 7.754804186522949.\u001b[0m\n"
     ]
    },
    {
     "name": "stdout",
     "output_type": "stream",
     "text": [
      "0:\tlearn: 6.3296531\ttest: 7.8578852\tbest: 7.8578852 (0)\ttotal: 34.4ms\tremaining: 5m 44s\n",
      "1000:\tlearn: 6.2062251\ttest: 7.7804241\tbest: 7.7804229 (999)\ttotal: 35.6s\tremaining: 5m 20s\n",
      "2000:\tlearn: 6.1634818\ttest: 7.7718827\tbest: 7.7718827 (2000)\ttotal: 1m 11s\tremaining: 4m 45s\n",
      "3000:\tlearn: 6.1266881\ttest: 7.7677790\tbest: 7.7677790 (3000)\ttotal: 1m 47s\tremaining: 4m 9s\n",
      "4000:\tlearn: 6.0921052\ttest: 7.7647194\tbest: 7.7647060 (3999)\ttotal: 2m 23s\tremaining: 3m 34s\n",
      "5000:\tlearn: 6.0589213\ttest: 7.7626947\tbest: 7.7625633 (4941)\ttotal: 2m 59s\tremaining: 2m 59s\n",
      "6000:\tlearn: 6.0270695\ttest: 7.7614447\tbest: 7.7614193 (5989)\ttotal: 3m 35s\tremaining: 2m 23s\n",
      "7000:\tlearn: 5.9962571\ttest: 7.7594265\tbest: 7.7593577 (6986)\ttotal: 4m 12s\tremaining: 1m 47s\n",
      "Stopped by overfitting detector  (200 iterations wait)\n",
      "\n",
      "bestTest = 7.75863043\n",
      "bestIteration = 7554\n",
      "\n",
      "Shrink model to first 7555 iterations.\n",
      "0:\tlearn: 6.3296531\ttest: 7.8578257\tbest: 7.8578257 (0)\ttotal: 35.2ms\tremaining: 5m 51s\n",
      "1000:\tlearn: 6.2062258\ttest: 7.7800125\tbest: 7.7800125 (1000)\ttotal: 35.9s\tremaining: 5m 22s\n",
      "2000:\tlearn: 6.1637277\ttest: 7.7712717\tbest: 7.7712717 (2000)\ttotal: 1m 11s\tremaining: 4m 46s\n",
      "3000:\tlearn: 6.1270199\ttest: 7.7666985\tbest: 7.7666985 (3000)\ttotal: 1m 47s\tremaining: 4m 11s\n",
      "4000:\tlearn: 6.0925758\ttest: 7.7639019\tbest: 7.7638850 (3995)\ttotal: 2m 23s\tremaining: 3m 35s\n",
      "5000:\tlearn: 6.0598317\ttest: 7.7608038\tbest: 7.7608031 (4997)\ttotal: 2m 59s\tremaining: 2m 59s\n",
      "6000:\tlearn: 6.0279708\ttest: 7.7589770\tbest: 7.7589700 (5999)\ttotal: 3m 35s\tremaining: 2m 23s\n",
      "7000:\tlearn: 5.9975705\ttest: 7.7579066\tbest: 7.7579066 (7000)\ttotal: 4m 10s\tremaining: 1m 47s\n",
      "Stopped by overfitting detector  (200 iterations wait)\n",
      "\n",
      "bestTest = 7.757460081\n",
      "bestIteration = 7343\n",
      "\n",
      "Shrink model to first 7344 iterations.\n"
     ]
    },
    {
     "name": "stderr",
     "output_type": "stream",
     "text": [
      "\u001b[32m[I 2021-08-27 05:43:07,318]\u001b[0m Trial 10 finished with value: 7.756290963276799 and parameters: {'bootstrap_type': 'Bernoulli', 'max_depth': 5, 'learning_rate': 0.03975686447362967, 'max_bin': 163, 'min_data_in_leaf': 17, 'reg_lambda': 28.797021724673165, 'subsample': 0.2489649739832946}. Best is trial 3 with value: 7.754804186522949.\u001b[0m\n"
     ]
    },
    {
     "name": "stdout",
     "output_type": "stream",
     "text": [
      "0:\tlearn: 6.3290956\ttest: 7.8573848\tbest: 7.8573848 (0)\ttotal: 44.4ms\tremaining: 7m 24s\n",
      "1000:\tlearn: 6.1677817\ttest: 7.7749666\tbest: 7.7749666 (1000)\ttotal: 46.8s\tremaining: 7m\n",
      "2000:\tlearn: 6.0927721\ttest: 7.7660971\tbest: 7.7660971 (2000)\ttotal: 1m 33s\tremaining: 6m 12s\n",
      "3000:\tlearn: 6.0234756\ttest: 7.7618250\tbest: 7.7617287 (2922)\ttotal: 2m 19s\tremaining: 5m 25s\n",
      "4000:\tlearn: 5.9585540\ttest: 7.7592077\tbest: 7.7591549 (3873)\ttotal: 3m 6s\tremaining: 4m 39s\n",
      "5000:\tlearn: 5.8944944\ttest: 7.7569954\tbest: 7.7569393 (4966)\ttotal: 3m 53s\tremaining: 3m 53s\n",
      "Stopped by overfitting detector  (200 iterations wait)\n",
      "\n",
      "bestTest = 7.756939301\n",
      "bestIteration = 4966\n",
      "\n",
      "Shrink model to first 4967 iterations.\n",
      "0:\tlearn: 6.3290762\ttest: 7.8573596\tbest: 7.8573596 (0)\ttotal: 45.1ms\tremaining: 7m 30s\n",
      "1000:\tlearn: 6.1667880\ttest: 7.7745606\tbest: 7.7745606 (1000)\ttotal: 46.5s\tremaining: 6m 57s\n",
      "2000:\tlearn: 6.0911653\ttest: 7.7666683\tbest: 7.7666378 (1997)\ttotal: 1m 33s\tremaining: 6m 11s\n",
      "3000:\tlearn: 6.0222371\ttest: 7.7621816\tbest: 7.7621540 (2993)\ttotal: 2m 19s\tremaining: 5m 24s\n",
      "4000:\tlearn: 5.9561753\ttest: 7.7594044\tbest: 7.7593873 (3998)\ttotal: 3m 5s\tremaining: 4m 38s\n",
      "Stopped by overfitting detector  (200 iterations wait)\n",
      "\n",
      "bestTest = 7.759023079\n",
      "bestIteration = 4271\n",
      "\n",
      "Shrink model to first 4272 iterations.\n"
     ]
    },
    {
     "name": "stderr",
     "output_type": "stream",
     "text": [
      "\u001b[32m[I 2021-08-27 05:50:43,061]\u001b[0m Trial 11 finished with value: 7.755917296291388 and parameters: {'bootstrap_type': 'MVS', 'max_depth': 6, 'learning_rate': 0.04060616376008771, 'max_bin': 158, 'min_data_in_leaf': 20, 'reg_lambda': 27.28448833880274, 'subsample': 0.2558540648841605}. Best is trial 3 with value: 7.754804186522949.\u001b[0m\n"
     ]
    },
    {
     "name": "stdout",
     "output_type": "stream",
     "text": [
      "0:\tlearn: 6.3296938\ttest: 7.8579226\tbest: 7.8579226 (0)\ttotal: 42.6ms\tremaining: 7m 5s\n",
      "1000:\tlearn: 6.1828139\ttest: 7.7780853\tbest: 7.7780853 (1000)\ttotal: 46.5s\tremaining: 6m 57s\n",
      "2000:\tlearn: 6.1186103\ttest: 7.7691367\tbest: 7.7691253 (1997)\ttotal: 1m 29s\tremaining: 5m 57s\n",
      "3000:\tlearn: 6.0608737\ttest: 7.7648620\tbest: 7.7648393 (2998)\ttotal: 2m 12s\tremaining: 5m 8s\n",
      "4000:\tlearn: 6.0063895\ttest: 7.7625616\tbest: 7.7624400 (3893)\ttotal: 2m 56s\tremaining: 4m 23s\n",
      "Stopped by overfitting detector  (200 iterations wait)\n",
      "\n",
      "bestTest = 7.762439954\n",
      "bestIteration = 3893\n",
      "\n",
      "Shrink model to first 3894 iterations.\n",
      "0:\tlearn: 6.3295896\ttest: 7.8578207\tbest: 7.8578207 (0)\ttotal: 47.1ms\tremaining: 7m 51s\n",
      "1000:\tlearn: 6.1822278\ttest: 7.7779545\tbest: 7.7779545 (1000)\ttotal: 43.2s\tremaining: 6m 28s\n",
      "2000:\tlearn: 6.1178672\ttest: 7.7693872\tbest: 7.7693872 (2000)\ttotal: 1m 26s\tremaining: 5m 44s\n",
      "3000:\tlearn: 6.0603080\ttest: 7.7648898\tbest: 7.7648662 (2997)\ttotal: 2m 9s\tremaining: 5m 3s\n",
      "4000:\tlearn: 6.0054531\ttest: 7.7621749\tbest: 7.7621200 (3985)\ttotal: 2m 53s\tremaining: 4m 19s\n",
      "5000:\tlearn: 5.9517366\ttest: 7.7606003\tbest: 7.7604986 (4858)\ttotal: 3m 36s\tremaining: 3m 36s\n",
      "Stopped by overfitting detector  (200 iterations wait)\n",
      "\n",
      "bestTest = 7.759765363\n",
      "bestIteration = 5379\n",
      "\n",
      "Shrink model to first 5380 iterations.\n"
     ]
    },
    {
     "name": "stderr",
     "output_type": "stream",
     "text": [
      "\u001b[32m[I 2021-08-27 05:57:51,548]\u001b[0m Trial 12 finished with value: 7.759123338097372 and parameters: {'bootstrap_type': 'Bernoulli', 'max_depth': 6, 'learning_rate': 0.04005061227573989, 'max_bin': 160, 'min_data_in_leaf': 25, 'reg_lambda': 24.902739412920905, 'subsample': 0.23237507617868985}. Best is trial 3 with value: 7.754804186522949.\u001b[0m\n"
     ]
    },
    {
     "name": "stdout",
     "output_type": "stream",
     "text": [
      "0:\tlearn: 6.3290035\ttest: 7.8573334\tbest: 7.8573334 (0)\ttotal: 47.9ms\tremaining: 7m 59s\n",
      "1000:\tlearn: 6.1695223\ttest: 7.7746863\tbest: 7.7746863 (1000)\ttotal: 45s\tremaining: 6m 44s\n",
      "2000:\tlearn: 6.0961837\ttest: 7.7664822\tbest: 7.7664630 (1994)\ttotal: 1m 29s\tremaining: 5m 56s\n",
      "3000:\tlearn: 6.0295949\ttest: 7.7621903\tbest: 7.7621776 (2995)\ttotal: 2m 13s\tremaining: 5m 12s\n",
      "4000:\tlearn: 5.9656872\ttest: 7.7594055\tbest: 7.7593394 (3993)\ttotal: 2m 58s\tremaining: 4m 27s\n",
      "Stopped by overfitting detector  (200 iterations wait)\n",
      "\n",
      "bestTest = 7.759140366\n",
      "bestIteration = 4068\n",
      "\n",
      "Shrink model to first 4069 iterations.\n",
      "0:\tlearn: 6.3291384\ttest: 7.8575299\tbest: 7.8575299 (0)\ttotal: 43.5ms\tremaining: 7m 14s\n",
      "1000:\tlearn: 6.1685568\ttest: 7.7739465\tbest: 7.7739465 (1000)\ttotal: 45.8s\tremaining: 6m 51s\n",
      "2000:\tlearn: 6.0956647\ttest: 7.7663026\tbest: 7.7662968 (1997)\ttotal: 1m 30s\tremaining: 6m 2s\n",
      "3000:\tlearn: 6.0283664\ttest: 7.7610897\tbest: 7.7610897 (3000)\ttotal: 2m 15s\tremaining: 5m 16s\n",
      "4000:\tlearn: 5.9648250\ttest: 7.7585991\tbest: 7.7585134 (3988)\ttotal: 3m\tremaining: 4m 29s\n",
      "Stopped by overfitting detector  (200 iterations wait)\n",
      "\n",
      "bestTest = 7.758001472\n",
      "bestIteration = 4499\n",
      "\n",
      "Shrink model to first 4500 iterations.\n"
     ]
    },
    {
     "name": "stderr",
     "output_type": "stream",
     "text": [
      "\u001b[32m[I 2021-08-27 06:04:40,350]\u001b[0m Trial 13 finished with value: 7.756637677394363 and parameters: {'bootstrap_type': 'MVS', 'max_depth': 6, 'learning_rate': 0.04183136618123894, 'max_bin': 152, 'min_data_in_leaf': 25, 'reg_lambda': 26.858716879388997, 'subsample': 0.21783118839119248}. Best is trial 3 with value: 7.754804186522949.\u001b[0m\n"
     ]
    },
    {
     "name": "stdout",
     "output_type": "stream",
     "text": [
      "0:\tlearn: 6.3294524\ttest: 7.8576866\tbest: 7.8576866 (0)\ttotal: 38.5ms\tremaining: 6m 25s\n",
      "1000:\tlearn: 6.2020559\ttest: 7.7784387\tbest: 7.7784330 (999)\ttotal: 39s\tremaining: 5m 50s\n",
      "2000:\tlearn: 6.1535550\ttest: 7.7690888\tbest: 7.7690888 (2000)\ttotal: 1m 18s\tremaining: 5m 12s\n",
      "3000:\tlearn: 6.1123666\ttest: 7.7638138\tbest: 7.7638138 (3000)\ttotal: 1m 56s\tremaining: 4m 32s\n",
      "4000:\tlearn: 6.0738158\ttest: 7.7607552\tbest: 7.7607552 (4000)\ttotal: 2m 36s\tremaining: 3m 54s\n",
      "5000:\tlearn: 6.0364561\ttest: 7.7581011\tbest: 7.7580040 (4986)\ttotal: 3m 14s\tremaining: 3m 14s\n",
      "6000:\tlearn: 6.0003523\ttest: 7.7563817\tbest: 7.7562925 (5953)\ttotal: 3m 54s\tremaining: 2m 36s\n",
      "7000:\tlearn: 5.9657210\ttest: 7.7547565\tbest: 7.7547397 (6998)\ttotal: 4m 33s\tremaining: 1m 57s\n",
      "8000:\tlearn: 5.9318847\ttest: 7.7537782\tbest: 7.7537483 (7959)\ttotal: 5m 12s\tremaining: 1m 18s\n",
      "Stopped by overfitting detector  (200 iterations wait)\n",
      "\n",
      "bestTest = 7.753726053\n",
      "bestIteration = 8045\n",
      "\n",
      "Shrink model to first 8046 iterations.\n",
      "0:\tlearn: 6.3294662\ttest: 7.8576509\tbest: 7.8576509 (0)\ttotal: 38.7ms\tremaining: 6m 26s\n",
      "1000:\tlearn: 6.2013579\ttest: 7.7785774\tbest: 7.7785774 (1000)\ttotal: 39.2s\tremaining: 5m 52s\n",
      "2000:\tlearn: 6.1528322\ttest: 7.7691059\tbest: 7.7691007 (1999)\ttotal: 1m 18s\tremaining: 5m 14s\n",
      "3000:\tlearn: 6.1116885\ttest: 7.7644024\tbest: 7.7643862 (2986)\ttotal: 1m 57s\tremaining: 4m 34s\n",
      "4000:\tlearn: 6.0734850\ttest: 7.7619660\tbest: 7.7618474 (3906)\ttotal: 2m 37s\tremaining: 3m 55s\n",
      "5000:\tlearn: 6.0367085\ttest: 7.7604570\tbest: 7.7604492 (4999)\ttotal: 3m 16s\tremaining: 3m 16s\n",
      "6000:\tlearn: 6.0005753\ttest: 7.7585173\tbest: 7.7584597 (5992)\ttotal: 3m 55s\tremaining: 2m 36s\n",
      "7000:\tlearn: 5.9657862\ttest: 7.7565397\tbest: 7.7564812 (6991)\ttotal: 4m 34s\tremaining: 1m 57s\n",
      "Stopped by overfitting detector  (200 iterations wait)\n",
      "\n",
      "bestTest = 7.756015179\n",
      "bestIteration = 7324\n",
      "\n",
      "Shrink model to first 7325 iterations.\n"
     ]
    },
    {
     "name": "stderr",
     "output_type": "stream",
     "text": [
      "\u001b[32m[I 2021-08-27 06:15:06,462]\u001b[0m Trial 14 finished with value: 7.753201001850145 and parameters: {'bootstrap_type': 'MVS', 'max_depth': 5, 'learning_rate': 0.035372562420762414, 'max_bin': 186, 'min_data_in_leaf': 21, 'reg_lambda': 28.712564994039276, 'subsample': 0.24457907997654993}. Best is trial 14 with value: 7.753201001850145.\u001b[0m\n"
     ]
    },
    {
     "name": "stdout",
     "output_type": "stream",
     "text": [
      "0:\tlearn: 6.3295953\ttest: 7.8578767\tbest: 7.8578767 (0)\ttotal: 36.9ms\tremaining: 6m 8s\n",
      "1000:\tlearn: 6.2119532\ttest: 7.7826137\tbest: 7.7826137 (1000)\ttotal: 37.3s\tremaining: 5m 34s\n",
      "2000:\tlearn: 6.1719314\ttest: 7.7735563\tbest: 7.7735541 (1999)\ttotal: 1m 14s\tremaining: 4m 56s\n",
      "3000:\tlearn: 6.1382014\ttest: 7.7697840\tbest: 7.7697840 (3000)\ttotal: 1m 50s\tremaining: 4m 18s\n",
      "4000:\tlearn: 6.1070172\ttest: 7.7670266\tbest: 7.7670143 (3999)\ttotal: 2m 27s\tremaining: 3m 41s\n",
      "5000:\tlearn: 6.0770645\ttest: 7.7645300\tbest: 7.7644867 (4990)\ttotal: 3m 4s\tremaining: 3m 4s\n",
      "6000:\tlearn: 6.0481421\ttest: 7.7633132\tbest: 7.7631892 (5931)\ttotal: 3m 40s\tremaining: 2m 27s\n",
      "7000:\tlearn: 6.0199408\ttest: 7.7615570\tbest: 7.7615184 (6985)\ttotal: 4m 16s\tremaining: 1m 50s\n",
      "8000:\tlearn: 5.9923792\ttest: 7.7602847\tbest: 7.7602731 (7987)\ttotal: 4m 53s\tremaining: 1m 13s\n",
      "9000:\tlearn: 5.9656763\ttest: 7.7591117\tbest: 7.7590956 (8997)\ttotal: 5m 29s\tremaining: 36.6s\n",
      "9999:\tlearn: 5.9395840\ttest: 7.7583491\tbest: 7.7582872 (9962)\ttotal: 6m 6s\tremaining: 0us\n",
      "\n",
      "bestTest = 7.758287165\n",
      "bestIteration = 9962\n",
      "\n",
      "Shrink model to first 9963 iterations.\n",
      "0:\tlearn: 6.3296369\ttest: 7.8578809\tbest: 7.8578809 (0)\ttotal: 35.3ms\tremaining: 5m 52s\n",
      "1000:\tlearn: 6.2110588\ttest: 7.7811202\tbest: 7.7811185 (998)\ttotal: 37.3s\tremaining: 5m 35s\n",
      "2000:\tlearn: 6.1710916\ttest: 7.7722489\tbest: 7.7722489 (2000)\ttotal: 1m 14s\tremaining: 4m 56s\n",
      "3000:\tlearn: 6.1375853\ttest: 7.7675811\tbest: 7.7675811 (3000)\ttotal: 1m 50s\tremaining: 4m 18s\n",
      "4000:\tlearn: 6.1064375\ttest: 7.7648768\tbest: 7.7648709 (3994)\ttotal: 2m 27s\tremaining: 3m 40s\n",
      "5000:\tlearn: 6.0771422\ttest: 7.7622490\tbest: 7.7622490 (5000)\ttotal: 3m 3s\tremaining: 3m 3s\n",
      "6000:\tlearn: 6.0484447\ttest: 7.7602635\tbest: 7.7602347 (5999)\ttotal: 3m 40s\tremaining: 2m 26s\n",
      "7000:\tlearn: 6.0205429\ttest: 7.7587211\tbest: 7.7586231 (6852)\ttotal: 4m 17s\tremaining: 1m 50s\n",
      "8000:\tlearn: 5.9931844\ttest: 7.7573761\tbest: 7.7573086 (7801)\ttotal: 4m 54s\tremaining: 1m 13s\n",
      "Stopped by overfitting detector  (200 iterations wait)\n",
      "\n",
      "bestTest = 7.757308564\n",
      "bestIteration = 7801\n",
      "\n",
      "Shrink model to first 7802 iterations.\n"
     ]
    },
    {
     "name": "stderr",
     "output_type": "stream",
     "text": [
      "\u001b[32m[I 2021-08-27 06:26:16,119]\u001b[0m Trial 15 finished with value: 7.756090071557002 and parameters: {'bootstrap_type': 'Bernoulli', 'max_depth': 5, 'learning_rate': 0.035534309268241186, 'max_bin': 185, 'min_data_in_leaf': 19, 'reg_lambda': 28.88796046314586, 'subsample': 0.24639096853755638}. Best is trial 14 with value: 7.753201001850145.\u001b[0m\n"
     ]
    },
    {
     "name": "stdout",
     "output_type": "stream",
     "text": [
      "0:\tlearn: 6.3298867\ttest: 7.8580653\tbest: 7.8580653 (0)\ttotal: 51.6ms\tremaining: 8m 36s\n",
      "1000:\tlearn: 6.2128804\ttest: 7.7827233\tbest: 7.7827102 (999)\ttotal: 37.6s\tremaining: 5m 37s\n",
      "2000:\tlearn: 6.1731289\ttest: 7.7728096\tbest: 7.7727975 (1993)\ttotal: 1m 14s\tremaining: 4m 56s\n",
      "3000:\tlearn: 6.1400485\ttest: 7.7688540\tbest: 7.7688540 (3000)\ttotal: 1m 51s\tremaining: 4m 18s\n",
      "4000:\tlearn: 6.1087171\ttest: 7.7658734\tbest: 7.7658721 (3999)\ttotal: 2m 27s\tremaining: 3m 41s\n",
      "5000:\tlearn: 6.0793795\ttest: 7.7639196\tbest: 7.7638696 (4991)\ttotal: 3m 4s\tremaining: 3m 4s\n",
      "6000:\tlearn: 6.0506218\ttest: 7.7626215\tbest: 7.7626038 (5841)\ttotal: 3m 41s\tremaining: 2m 27s\n",
      "7000:\tlearn: 6.0230163\ttest: 7.7610933\tbest: 7.7610532 (6965)\ttotal: 4m 18s\tremaining: 1m 50s\n",
      "8000:\tlearn: 5.9956009\ttest: 7.7595453\tbest: 7.7595453 (8000)\ttotal: 4m 55s\tremaining: 1m 13s\n",
      "9000:\tlearn: 5.9689967\ttest: 7.7577925\tbest: 7.7577925 (9000)\ttotal: 5m 32s\tremaining: 36.9s\n",
      "Stopped by overfitting detector  (200 iterations wait)\n",
      "\n",
      "bestTest = 7.756774692\n",
      "bestIteration = 9551\n",
      "\n",
      "Shrink model to first 9552 iterations.\n",
      "0:\tlearn: 6.3298372\ttest: 7.8579761\tbest: 7.8579761 (0)\ttotal: 33.7ms\tremaining: 5m 37s\n",
      "1000:\tlearn: 6.2126480\ttest: 7.7816678\tbest: 7.7816678 (1000)\ttotal: 36.8s\tremaining: 5m 30s\n",
      "2000:\tlearn: 6.1729435\ttest: 7.7717203\tbest: 7.7716926 (1997)\ttotal: 1m 13s\tremaining: 4m 54s\n",
      "3000:\tlearn: 6.1402304\ttest: 7.7668550\tbest: 7.7668415 (2998)\ttotal: 1m 46s\tremaining: 4m 7s\n",
      "4000:\tlearn: 6.1094814\ttest: 7.7640320\tbest: 7.7640303 (3993)\ttotal: 2m 18s\tremaining: 3m 27s\n",
      "5000:\tlearn: 6.0801369\ttest: 7.7615455\tbest: 7.7615455 (5000)\ttotal: 2m 51s\tremaining: 2m 51s\n",
      "6000:\tlearn: 6.0516534\ttest: 7.7598245\tbest: 7.7598245 (6000)\ttotal: 3m 24s\tremaining: 2m 16s\n",
      "7000:\tlearn: 6.0237058\ttest: 7.7585734\tbest: 7.7585406 (6986)\ttotal: 3m 56s\tremaining: 1m 41s\n",
      "Stopped by overfitting detector  (200 iterations wait)\n",
      "\n",
      "bestTest = 7.758112728\n",
      "bestIteration = 7400\n",
      "\n",
      "Shrink model to first 7401 iterations.\n"
     ]
    },
    {
     "name": "stderr",
     "output_type": "stream",
     "text": [
      "\u001b[32m[I 2021-08-27 06:36:42,071]\u001b[0m Trial 16 finished with value: 7.755830461144604 and parameters: {'bootstrap_type': 'Bernoulli', 'max_depth': 5, 'learning_rate': 0.0344976608366089, 'max_bin': 186, 'min_data_in_leaf': 22, 'reg_lambda': 28.375768941029197, 'subsample': 0.25416744066346814}. Best is trial 14 with value: 7.753201001850145.\u001b[0m\n"
     ]
    },
    {
     "name": "stdout",
     "output_type": "stream",
     "text": [
      "0:\tlearn: 6.3295436\ttest: 7.8577570\tbest: 7.8577570 (0)\ttotal: 27.9ms\tremaining: 4m 39s\n",
      "1000:\tlearn: 6.2175144\ttest: 7.7823994\tbest: 7.7823994 (1000)\ttotal: 28.4s\tremaining: 4m 15s\n",
      "2000:\tlearn: 6.1816273\ttest: 7.7730047\tbest: 7.7730047 (2000)\ttotal: 56.6s\tremaining: 3m 46s\n",
      "3000:\tlearn: 6.1525756\ttest: 7.7694386\tbest: 7.7694204 (2989)\ttotal: 1m 24s\tremaining: 3m 17s\n",
      "4000:\tlearn: 6.1261963\ttest: 7.7665493\tbest: 7.7665445 (3969)\ttotal: 1m 53s\tremaining: 2m 49s\n",
      "5000:\tlearn: 6.1015698\ttest: 7.7639361\tbest: 7.7639187 (4995)\ttotal: 2m 21s\tremaining: 2m 21s\n",
      "6000:\tlearn: 6.0775810\ttest: 7.7623317\tbest: 7.7623127 (5947)\ttotal: 2m 50s\tremaining: 1m 53s\n",
      "Stopped by overfitting detector  (200 iterations wait)\n",
      "\n",
      "bestTest = 7.761929808\n",
      "bestIteration = 6211\n",
      "\n",
      "Shrink model to first 6212 iterations.\n",
      "0:\tlearn: 6.3295815\ttest: 7.8577553\tbest: 7.8577553 (0)\ttotal: 31.8ms\tremaining: 5m 17s\n",
      "1000:\tlearn: 6.2171611\ttest: 7.7817550\tbest: 7.7817550 (1000)\ttotal: 32.4s\tremaining: 4m 51s\n",
      "2000:\tlearn: 6.1810235\ttest: 7.7717275\tbest: 7.7717275 (2000)\ttotal: 1m 4s\tremaining: 4m 17s\n",
      "3000:\tlearn: 6.1524088\ttest: 7.7674726\tbest: 7.7674726 (3000)\ttotal: 1m 36s\tremaining: 3m 44s\n",
      "4000:\tlearn: 6.1264693\ttest: 7.7643032\tbest: 7.7642444 (3948)\ttotal: 2m 8s\tremaining: 3m 12s\n",
      "5000:\tlearn: 6.1015664\ttest: 7.7623935\tbest: 7.7623456 (4970)\ttotal: 2m 40s\tremaining: 2m 40s\n",
      "6000:\tlearn: 6.0774059\ttest: 7.7606653\tbest: 7.7606653 (6000)\ttotal: 3m 12s\tremaining: 2m 8s\n",
      "7000:\tlearn: 6.0545406\ttest: 7.7594436\tbest: 7.7594298 (6983)\ttotal: 3m 44s\tremaining: 1m 36s\n",
      "8000:\tlearn: 6.0319645\ttest: 7.7585430\tbest: 7.7585369 (7997)\ttotal: 4m 16s\tremaining: 1m 4s\n",
      "9000:\tlearn: 6.0098087\ttest: 7.7573996\tbest: 7.7573789 (8990)\ttotal: 4m 45s\tremaining: 31.7s\n",
      "9999:\tlearn: 5.9884930\ttest: 7.7568555\tbest: 7.7568424 (9843)\ttotal: 5m 17s\tremaining: 0us\n",
      "\n",
      "bestTest = 7.7568424\n",
      "bestIteration = 9843\n",
      "\n",
      "Shrink model to first 9844 iterations.\n"
     ]
    },
    {
     "name": "stderr",
     "output_type": "stream",
     "text": [
      "\u001b[32m[I 2021-08-27 06:45:12,084]\u001b[0m Trial 17 finished with value: 7.757963874531098 and parameters: {'bootstrap_type': 'MVS', 'max_depth': 4, 'learning_rate': 0.0363701737834593, 'max_bin': 168, 'min_data_in_leaf': 20, 'reg_lambda': 28.193123833654997, 'subsample': 0.24094892712587054}. Best is trial 14 with value: 7.753201001850145.\u001b[0m\n"
     ]
    },
    {
     "name": "stdout",
     "output_type": "stream",
     "text": [
      "0:\tlearn: 6.3293133\ttest: 7.8575907\tbest: 7.8575907 (0)\ttotal: 34.4ms\tremaining: 5m 43s\n",
      "1000:\tlearn: 6.2010378\ttest: 7.7790847\tbest: 7.7790739 (999)\ttotal: 36.3s\tremaining: 5m 26s\n",
      "2000:\tlearn: 6.1544628\ttest: 7.7696063\tbest: 7.7696063 (2000)\ttotal: 1m 12s\tremaining: 4m 50s\n",
      "3000:\tlearn: 6.1154585\ttest: 7.7652492\tbest: 7.7652104 (2993)\ttotal: 1m 49s\tremaining: 4m 15s\n",
      "4000:\tlearn: 6.0783102\ttest: 7.7625550\tbest: 7.7625093 (3962)\ttotal: 2m 26s\tremaining: 3m 39s\n",
      "5000:\tlearn: 6.0429545\ttest: 7.7608126\tbest: 7.7608052 (4994)\ttotal: 3m 2s\tremaining: 3m 2s\n",
      "6000:\tlearn: 6.0091229\ttest: 7.7588004\tbest: 7.7586357 (5925)\ttotal: 3m 39s\tremaining: 2m 25s\n",
      "Stopped by overfitting detector  (200 iterations wait)\n",
      "\n",
      "bestTest = 7.758635659\n",
      "bestIteration = 5925\n",
      "\n",
      "Shrink model to first 5926 iterations.\n",
      "0:\tlearn: 6.3295423\ttest: 7.8577150\tbest: 7.8577150 (0)\ttotal: 35.4ms\tremaining: 5m 54s\n",
      "1000:\tlearn: 6.2006511\ttest: 7.7781913\tbest: 7.7781815 (998)\ttotal: 36.7s\tremaining: 5m 30s\n",
      "2000:\tlearn: 6.1548745\ttest: 7.7694051\tbest: 7.7694051 (2000)\ttotal: 1m 13s\tremaining: 4m 51s\n",
      "3000:\tlearn: 6.1146077\ttest: 7.7652372\tbest: 7.7651860 (2917)\ttotal: 1m 49s\tremaining: 4m 15s\n",
      "4000:\tlearn: 6.0776578\ttest: 7.7628100\tbest: 7.7627615 (3988)\ttotal: 2m 26s\tremaining: 3m 39s\n",
      "5000:\tlearn: 6.0422385\ttest: 7.7609476\tbest: 7.7609277 (4998)\ttotal: 3m 3s\tremaining: 3m 3s\n",
      "6000:\tlearn: 6.0078717\ttest: 7.7595412\tbest: 7.7594653 (5984)\ttotal: 3m 40s\tremaining: 2m 26s\n",
      "Stopped by overfitting detector  (200 iterations wait)\n",
      "\n",
      "bestTest = 7.759219483\n",
      "bestIteration = 6177\n",
      "\n",
      "Shrink model to first 6178 iterations.\n"
     ]
    },
    {
     "name": "stderr",
     "output_type": "stream",
     "text": [
      "\u001b[32m[I 2021-08-27 06:52:58,033]\u001b[0m Trial 18 finished with value: 7.757430027829731 and parameters: {'bootstrap_type': 'MVS', 'max_depth': 5, 'learning_rate': 0.038455298065773504, 'max_bin': 178, 'min_data_in_leaf': 23, 'reg_lambda': 26.67591878146595, 'subsample': 0.18774555232434334}. Best is trial 14 with value: 7.753201001850145.\u001b[0m\n"
     ]
    },
    {
     "name": "stdout",
     "output_type": "stream",
     "text": [
      "0:\tlearn: 6.3299734\ttest: 7.8581339\tbest: 7.8581339 (0)\ttotal: 33.8ms\tremaining: 5m 37s\n",
      "1000:\tlearn: 6.2166643\ttest: 7.7835685\tbest: 7.7835685 (1000)\ttotal: 35.6s\tremaining: 5m 20s\n",
      "2000:\tlearn: 6.1787061\ttest: 7.7736116\tbest: 7.7736092 (1999)\ttotal: 1m 11s\tremaining: 4m 45s\n",
      "3000:\tlearn: 6.1480602\ttest: 7.7692989\tbest: 7.7692683 (2994)\ttotal: 1m 46s\tremaining: 4m 9s\n",
      "4000:\tlearn: 6.1198145\ttest: 7.7667798\tbest: 7.7667792 (3998)\ttotal: 2m 22s\tremaining: 3m 33s\n",
      "5000:\tlearn: 6.0923705\ttest: 7.7648447\tbest: 7.7648212 (4992)\ttotal: 2m 58s\tremaining: 2m 58s\n",
      "6000:\tlearn: 6.0662326\ttest: 7.7630276\tbest: 7.7630084 (5991)\ttotal: 3m 33s\tremaining: 2m 22s\n",
      "7000:\tlearn: 6.0405553\ttest: 7.7617468\tbest: 7.7617077 (6866)\ttotal: 4m 9s\tremaining: 1m 46s\n",
      "Stopped by overfitting detector  (200 iterations wait)\n",
      "\n",
      "bestTest = 7.76140212\n",
      "bestIteration = 7271\n",
      "\n",
      "Shrink model to first 7272 iterations.\n",
      "0:\tlearn: 6.3298694\ttest: 7.8580025\tbest: 7.8580025 (0)\ttotal: 34ms\tremaining: 5m 39s\n",
      "1000:\tlearn: 6.2157327\ttest: 7.7835264\tbest: 7.7835264 (1000)\ttotal: 35.7s\tremaining: 5m 21s\n",
      "2000:\tlearn: 6.1779129\ttest: 7.7739251\tbest: 7.7738933 (1991)\ttotal: 1m 11s\tremaining: 4m 44s\n",
      "3000:\tlearn: 6.1471891\ttest: 7.7694830\tbest: 7.7693947 (2988)\ttotal: 1m 46s\tremaining: 4m 8s\n",
      "4000:\tlearn: 6.1188140\ttest: 7.7663351\tbest: 7.7663351 (4000)\ttotal: 2m 21s\tremaining: 3m 32s\n",
      "5000:\tlearn: 6.0915315\ttest: 7.7644775\tbest: 7.7644775 (5000)\ttotal: 2m 56s\tremaining: 2m 56s\n",
      "6000:\tlearn: 6.0653733\ttest: 7.7622026\tbest: 7.7622026 (6000)\ttotal: 3m 32s\tremaining: 2m 21s\n",
      "7000:\tlearn: 6.0393634\ttest: 7.7605103\tbest: 7.7604795 (6990)\ttotal: 4m 7s\tremaining: 1m 46s\n",
      "8000:\tlearn: 6.0142669\ttest: 7.7590207\tbest: 7.7590207 (8000)\ttotal: 4m 43s\tremaining: 1m 10s\n",
      "9000:\tlearn: 5.9897997\ttest: 7.7578590\tbest: 7.7578183 (8942)\ttotal: 5m 18s\tremaining: 35.4s\n",
      "9999:\tlearn: 5.9656347\ttest: 7.7566386\tbest: 7.7566289 (9994)\ttotal: 5m 54s\tremaining: 0us\n",
      "\n",
      "bestTest = 7.7566289\n",
      "bestIteration = 9994\n",
      "\n",
      "Shrink model to first 9995 iterations.\n"
     ]
    },
    {
     "name": "stderr",
     "output_type": "stream",
     "text": [
      "\u001b[32m[I 2021-08-27 07:03:27,745]\u001b[0m Trial 19 finished with value: 7.757521418310087 and parameters: {'bootstrap_type': 'Bernoulli', 'max_depth': 5, 'learning_rate': 0.03313747726297256, 'max_bin': 186, 'min_data_in_leaf': 18, 'reg_lambda': 25.1822716847378, 'subsample': 0.21533418337225194}. Best is trial 14 with value: 7.753201001850145.\u001b[0m\n"
     ]
    },
    {
     "name": "stdout",
     "output_type": "stream",
     "text": [
      "0:\tlearn: 6.3296965\ttest: 7.8578691\tbest: 7.8578691 (0)\ttotal: 35.2ms\tremaining: 5m 51s\n",
      "1000:\tlearn: 6.2233774\ttest: 7.7844351\tbest: 7.7844351 (1000)\ttotal: 32.8s\tremaining: 4m 55s\n",
      "2000:\tlearn: 6.1892124\ttest: 7.7747869\tbest: 7.7747861 (1999)\ttotal: 1m 5s\tremaining: 4m 20s\n",
      "3000:\tlearn: 6.1624414\ttest: 7.7702356\tbest: 7.7702234 (2996)\ttotal: 1m 38s\tremaining: 3m 49s\n",
      "4000:\tlearn: 6.1385227\ttest: 7.7671097\tbest: 7.7671097 (4000)\ttotal: 2m 10s\tremaining: 3m 16s\n",
      "5000:\tlearn: 6.1160678\ttest: 7.7648367\tbest: 7.7648367 (5000)\ttotal: 2m 43s\tremaining: 2m 43s\n",
      "6000:\tlearn: 6.0944379\ttest: 7.7633543\tbest: 7.7633441 (5997)\ttotal: 3m 16s\tremaining: 2m 10s\n",
      "Stopped by overfitting detector  (200 iterations wait)\n",
      "\n",
      "bestTest = 7.763018702\n",
      "bestIteration = 6228\n",
      "\n",
      "Shrink model to first 6229 iterations.\n",
      "0:\tlearn: 6.3299230\ttest: 7.8580412\tbest: 7.8580412 (0)\ttotal: 32ms\tremaining: 5m 19s\n",
      "1000:\tlearn: 6.2229069\ttest: 7.7834992\tbest: 7.7834992 (1000)\ttotal: 32.6s\tremaining: 4m 52s\n",
      "2000:\tlearn: 6.1888462\ttest: 7.7726731\tbest: 7.7726731 (2000)\ttotal: 1m 4s\tremaining: 4m 19s\n",
      "3000:\tlearn: 6.1622814\ttest: 7.7680597\tbest: 7.7680597 (3000)\ttotal: 1m 37s\tremaining: 3m 48s\n",
      "4000:\tlearn: 6.1384568\ttest: 7.7649775\tbest: 7.7649743 (3999)\ttotal: 2m 10s\tremaining: 3m 15s\n",
      "5000:\tlearn: 6.1159449\ttest: 7.7628741\tbest: 7.7628036 (4974)\ttotal: 2m 42s\tremaining: 2m 42s\n",
      "6000:\tlearn: 6.0943667\ttest: 7.7611676\tbest: 7.7611632 (5998)\ttotal: 3m 15s\tremaining: 2m 10s\n",
      "7000:\tlearn: 6.0737655\ttest: 7.7597261\tbest: 7.7597261 (7000)\ttotal: 3m 48s\tremaining: 1m 37s\n",
      "Stopped by overfitting detector  (200 iterations wait)\n",
      "\n",
      "bestTest = 7.758558772\n",
      "bestIteration = 7579\n",
      "\n",
      "Shrink model to first 7580 iterations.\n"
     ]
    },
    {
     "name": "stderr",
     "output_type": "stream",
     "text": [
      "\u001b[32m[I 2021-08-27 07:11:20,519]\u001b[0m Trial 20 finished with value: 7.759891391977505 and parameters: {'bootstrap_type': 'MVS', 'max_depth': 4, 'learning_rate': 0.03181614706762061, 'max_bin': 170, 'min_data_in_leaf': 21, 'reg_lambda': 27.173358977056374, 'subsample': 0.24303197171590407}. Best is trial 14 with value: 7.753201001850145.\u001b[0m\n"
     ]
    },
    {
     "name": "stdout",
     "output_type": "stream",
     "text": [
      "0:\tlearn: 6.3291860\ttest: 7.8574634\tbest: 7.8574634 (0)\ttotal: 47.6ms\tremaining: 7m 56s\n",
      "1000:\tlearn: 6.1747698\ttest: 7.7748607\tbest: 7.7748456 (996)\ttotal: 46.7s\tremaining: 7m\n",
      "2000:\tlearn: 6.1048966\ttest: 7.7665045\tbest: 7.7664082 (1965)\ttotal: 1m 31s\tremaining: 6m 5s\n",
      "3000:\tlearn: 6.0413437\ttest: 7.7626448\tbest: 7.7625897 (2995)\ttotal: 2m 16s\tremaining: 5m 17s\n",
      "4000:\tlearn: 5.9808080\ttest: 7.7602351\tbest: 7.7602018 (3998)\ttotal: 3m 1s\tremaining: 4m 31s\n",
      "5000:\tlearn: 5.9225694\ttest: 7.7583612\tbest: 7.7583506 (4994)\ttotal: 3m 46s\tremaining: 3m 46s\n",
      "6000:\tlearn: 5.8654518\ttest: 7.7569171\tbest: 7.7569012 (5980)\ttotal: 4m 31s\tremaining: 3m\n",
      "Stopped by overfitting detector  (200 iterations wait)\n",
      "\n",
      "bestTest = 7.756491111\n",
      "bestIteration = 6349\n",
      "\n",
      "Shrink model to first 6350 iterations.\n",
      "0:\tlearn: 6.3293127\ttest: 7.8576143\tbest: 7.8576143 (0)\ttotal: 41.8ms\tremaining: 6m 57s\n",
      "1000:\tlearn: 6.1745460\ttest: 7.7759126\tbest: 7.7759126 (1000)\ttotal: 45s\tremaining: 6m 44s\n",
      "2000:\tlearn: 6.1044708\ttest: 7.7665475\tbest: 7.7665475 (2000)\ttotal: 1m 29s\tremaining: 5m 56s\n",
      "3000:\tlearn: 6.0411395\ttest: 7.7626975\tbest: 7.7626446 (2983)\ttotal: 2m 14s\tremaining: 5m 12s\n",
      "4000:\tlearn: 5.9805046\ttest: 7.7602469\tbest: 7.7602192 (3999)\ttotal: 2m 58s\tremaining: 4m 27s\n",
      "Stopped by overfitting detector  (200 iterations wait)\n",
      "\n",
      "bestTest = 7.759576037\n",
      "bestIteration = 4282\n",
      "\n",
      "Shrink model to first 4283 iterations.\n"
     ]
    },
    {
     "name": "stderr",
     "output_type": "stream",
     "text": [
      "\u001b[32m[I 2021-08-27 07:19:44,636]\u001b[0m Trial 21 finished with value: 7.75585567233696 and parameters: {'bootstrap_type': 'MVS', 'max_depth': 6, 'learning_rate': 0.03833369820582514, 'max_bin': 145, 'min_data_in_leaf': 24, 'reg_lambda': 25.226721655111707, 'subsample': 0.22796445242135974}. Best is trial 14 with value: 7.753201001850145.\u001b[0m\n"
     ]
    },
    {
     "name": "stdout",
     "output_type": "stream",
     "text": [
      "0:\tlearn: 6.3294879\ttest: 7.8577660\tbest: 7.8577660 (0)\ttotal: 43ms\tremaining: 7m 9s\n",
      "1000:\tlearn: 6.2042629\ttest: 7.7793199\tbest: 7.7793199 (1000)\ttotal: 37.3s\tremaining: 5m 35s\n",
      "2000:\tlearn: 6.1579138\ttest: 7.7699874\tbest: 7.7699718 (1998)\ttotal: 1m 14s\tremaining: 4m 56s\n",
      "3000:\tlearn: 6.1185011\ttest: 7.7655374\tbest: 7.7655203 (2999)\ttotal: 1m 51s\tremaining: 4m 19s\n",
      "4000:\tlearn: 6.0817141\ttest: 7.7624619\tbest: 7.7624619 (4000)\ttotal: 2m 28s\tremaining: 3m 42s\n",
      "5000:\tlearn: 6.0463042\ttest: 7.7605560\tbest: 7.7605166 (4991)\ttotal: 3m 5s\tremaining: 3m 5s\n",
      "6000:\tlearn: 6.0119002\ttest: 7.7592153\tbest: 7.7590864 (5950)\ttotal: 3m 42s\tremaining: 2m 28s\n",
      "Stopped by overfitting detector  (200 iterations wait)\n",
      "\n",
      "bestTest = 7.759086351\n",
      "bestIteration = 5950\n",
      "\n",
      "Shrink model to first 5951 iterations.\n",
      "0:\tlearn: 6.3296977\ttest: 7.8579521\tbest: 7.8579521 (0)\ttotal: 54.7ms\tremaining: 9m 6s\n",
      "1000:\tlearn: 6.2044232\ttest: 7.7799409\tbest: 7.7799409 (1000)\ttotal: 37.4s\tremaining: 5m 36s\n",
      "2000:\tlearn: 6.1580071\ttest: 7.7702305\tbest: 7.7702305 (2000)\ttotal: 1m 14s\tremaining: 4m 57s\n",
      "3000:\tlearn: 6.1186554\ttest: 7.7658609\tbest: 7.7658609 (3000)\ttotal: 1m 51s\tremaining: 4m 20s\n",
      "4000:\tlearn: 6.0817359\ttest: 7.7628826\tbest: 7.7628826 (4000)\ttotal: 2m 28s\tremaining: 3m 42s\n",
      "5000:\tlearn: 6.0462007\ttest: 7.7604554\tbest: 7.7604539 (4999)\ttotal: 3m 5s\tremaining: 3m 5s\n",
      "6000:\tlearn: 6.0116576\ttest: 7.7588351\tbest: 7.7587487 (5967)\ttotal: 3m 42s\tremaining: 2m 28s\n",
      "7000:\tlearn: 5.9783240\ttest: 7.7579480\tbest: 7.7578398 (6897)\ttotal: 4m 19s\tremaining: 1m 51s\n",
      "Stopped by overfitting detector  (200 iterations wait)\n",
      "\n",
      "bestTest = 7.757839826\n",
      "bestIteration = 6897\n",
      "\n",
      "Shrink model to first 6898 iterations.\n"
     ]
    },
    {
     "name": "stderr",
     "output_type": "stream",
     "text": [
      "\u001b[32m[I 2021-08-27 07:28:04,280]\u001b[0m Trial 22 finished with value: 7.7570993145640585 and parameters: {'bootstrap_type': 'MVS', 'max_depth': 5, 'learning_rate': 0.03464233288445231, 'max_bin': 154, 'min_data_in_leaf': 27, 'reg_lambda': 26.529572369374275, 'subsample': 0.22312544357832298}. Best is trial 14 with value: 7.753201001850145.\u001b[0m\n"
     ]
    },
    {
     "name": "stdout",
     "output_type": "stream",
     "text": [
      "0:\tlearn: 6.3292845\ttest: 7.8575744\tbest: 7.8575744 (0)\ttotal: 44.3ms\tremaining: 7m 22s\n",
      "1000:\tlearn: 6.1800721\ttest: 7.7768594\tbest: 7.7768580 (999)\ttotal: 45.6s\tremaining: 6m 49s\n",
      "2000:\tlearn: 6.1134648\ttest: 7.7682382\tbest: 7.7682344 (1999)\ttotal: 1m 30s\tremaining: 6m 2s\n",
      "3000:\tlearn: 6.0537220\ttest: 7.7644105\tbest: 7.7643608 (2967)\ttotal: 2m 16s\tremaining: 5m 17s\n",
      "4000:\tlearn: 5.9967211\ttest: 7.7623412\tbest: 7.7623295 (3999)\ttotal: 3m 2s\tremaining: 4m 32s\n",
      "Stopped by overfitting detector  (200 iterations wait)\n",
      "\n",
      "bestTest = 7.760461354\n",
      "bestIteration = 4750\n",
      "\n",
      "Shrink model to first 4751 iterations.\n",
      "0:\tlearn: 6.3293568\ttest: 7.8575637\tbest: 7.8575637 (0)\ttotal: 44.1ms\tremaining: 7m 21s\n",
      "1000:\tlearn: 6.1798344\ttest: 7.7764935\tbest: 7.7764845 (998)\ttotal: 45.6s\tremaining: 6m 49s\n",
      "2000:\tlearn: 6.1135278\ttest: 7.7671879\tbest: 7.7671879 (2000)\ttotal: 1m 31s\tremaining: 6m 5s\n",
      "3000:\tlearn: 6.0533235\ttest: 7.7631704\tbest: 7.7629487 (2964)\ttotal: 2m 16s\tremaining: 5m 19s\n",
      "4000:\tlearn: 5.9961754\ttest: 7.7605666\tbest: 7.7605566 (3999)\ttotal: 3m 2s\tremaining: 4m 33s\n",
      "5000:\tlearn: 5.9402476\ttest: 7.7595278\tbest: 7.7592546 (4825)\ttotal: 3m 48s\tremaining: 3m 48s\n",
      "Stopped by overfitting detector  (200 iterations wait)\n",
      "\n",
      "bestTest = 7.759254558\n",
      "bestIteration = 4825\n",
      "\n",
      "Shrink model to first 4826 iterations.\n"
     ]
    },
    {
     "name": "stderr",
     "output_type": "stream",
     "text": [
      "\u001b[32m[I 2021-08-27 07:35:47,220]\u001b[0m Trial 23 finished with value: 7.758214282780489 and parameters: {'bootstrap_type': 'MVS', 'max_depth': 6, 'learning_rate': 0.0358176755583094, 'max_bin': 151, 'min_data_in_leaf': 26, 'reg_lambda': 28.288474661712886, 'subsample': 0.23423326754564294}. Best is trial 14 with value: 7.753201001850145.\u001b[0m\n"
     ]
    },
    {
     "name": "stdout",
     "output_type": "stream",
     "text": [
      "0:\tlearn: 6.3295114\ttest: 7.8577200\tbest: 7.8577200 (0)\ttotal: 37.5ms\tremaining: 6m 14s\n",
      "1000:\tlearn: 6.2045522\ttest: 7.7794689\tbest: 7.7794441 (997)\ttotal: 39.1s\tremaining: 5m 51s\n",
      "2000:\tlearn: 6.1568283\ttest: 7.7705588\tbest: 7.7705504 (1999)\ttotal: 1m 17s\tremaining: 5m 10s\n",
      "3000:\tlearn: 6.1164503\ttest: 7.7660697\tbest: 7.7660697 (3000)\ttotal: 1m 56s\tremaining: 4m 32s\n",
      "4000:\tlearn: 6.0784838\ttest: 7.7640387\tbest: 7.7638752 (3946)\ttotal: 2m 35s\tremaining: 3m 53s\n",
      "5000:\tlearn: 6.0424560\ttest: 7.7619596\tbest: 7.7619189 (4987)\ttotal: 3m 14s\tremaining: 3m 14s\n",
      "Stopped by overfitting detector  (200 iterations wait)\n",
      "\n",
      "bestTest = 7.761669858\n",
      "bestIteration = 5155\n",
      "\n",
      "Shrink model to first 5156 iterations.\n",
      "0:\tlearn: 6.3295448\ttest: 7.8576974\tbest: 7.8576974 (0)\ttotal: 42.7ms\tremaining: 7m 7s\n",
      "1000:\tlearn: 6.2042313\ttest: 7.7798305\tbest: 7.7798305 (1000)\ttotal: 39.1s\tremaining: 5m 51s\n",
      "2000:\tlearn: 6.1565327\ttest: 7.7700163\tbest: 7.7699892 (1989)\ttotal: 1m 17s\tremaining: 5m 10s\n",
      "3000:\tlearn: 6.1159256\ttest: 7.7654254\tbest: 7.7654254 (3000)\ttotal: 1m 56s\tremaining: 4m 31s\n",
      "4000:\tlearn: 6.0779534\ttest: 7.7622650\tbest: 7.7622254 (3975)\ttotal: 2m 34s\tremaining: 3m 52s\n",
      "5000:\tlearn: 6.0414275\ttest: 7.7602766\tbest: 7.7602531 (4998)\ttotal: 3m 13s\tremaining: 3m 13s\n",
      "6000:\tlearn: 6.0063267\ttest: 7.7581535\tbest: 7.7580750 (5813)\ttotal: 3m 52s\tremaining: 2m 35s\n",
      "Stopped by overfitting detector  (200 iterations wait)\n",
      "\n",
      "bestTest = 7.758075021\n",
      "bestIteration = 5813\n",
      "\n",
      "Shrink model to first 5814 iterations.\n"
     ]
    },
    {
     "name": "stderr",
     "output_type": "stream",
     "text": [
      "\u001b[32m[I 2021-08-27 07:43:16,912]\u001b[0m Trial 24 finished with value: 7.758688150054633 and parameters: {'bootstrap_type': 'MVS', 'max_depth': 5, 'learning_rate': 0.03348751331531874, 'max_bin': 167, 'min_data_in_leaf': 21, 'reg_lambda': 27.299472248201194, 'subsample': 0.2537268978104625}. Best is trial 14 with value: 7.753201001850145.\u001b[0m\n"
     ]
    },
    {
     "name": "stdout",
     "output_type": "stream",
     "text": [
      "0:\tlearn: 6.3290964\ttest: 7.8573489\tbest: 7.8573489 (0)\ttotal: 58.2ms\tremaining: 9m 42s\n",
      "1000:\tlearn: 6.1755670\ttest: 7.7750109\tbest: 7.7749953 (997)\ttotal: 45.7s\tremaining: 6m 50s\n",
      "2000:\tlearn: 6.1087480\ttest: 7.7674070\tbest: 7.7673766 (1997)\ttotal: 1m 31s\tremaining: 6m 4s\n",
      "3000:\tlearn: 6.0477697\ttest: 7.7631522\tbest: 7.7629822 (2970)\ttotal: 2m 19s\tremaining: 5m 25s\n",
      "4000:\tlearn: 5.9899849\ttest: 7.7608202\tbest: 7.7607585 (3981)\ttotal: 3m 5s\tremaining: 4m 37s\n",
      "5000:\tlearn: 5.9332711\ttest: 7.7580533\tbest: 7.7580071 (4955)\ttotal: 3m 51s\tremaining: 3m 51s\n",
      "6000:\tlearn: 5.8788578\ttest: 7.7556023\tbest: 7.7556023 (6000)\ttotal: 4m 37s\tremaining: 3m 5s\n",
      "7000:\tlearn: 5.8257968\ttest: 7.7536558\tbest: 7.7536541 (6999)\ttotal: 5m 23s\tremaining: 2m 18s\n",
      "Stopped by overfitting detector  (200 iterations wait)\n",
      "\n",
      "bestTest = 7.753316663\n",
      "bestIteration = 7435\n",
      "\n",
      "Shrink model to first 7436 iterations.\n",
      "0:\tlearn: 6.3292902\ttest: 7.8575594\tbest: 7.8575594 (0)\ttotal: 45.6ms\tremaining: 7m 35s\n",
      "1000:\tlearn: 6.1755527\ttest: 7.7754680\tbest: 7.7754680 (1000)\ttotal: 46.7s\tremaining: 6m 59s\n",
      "2000:\tlearn: 6.1078163\ttest: 7.7663831\tbest: 7.7663831 (2000)\ttotal: 1m 32s\tremaining: 6m 11s\n",
      "3000:\tlearn: 6.0461424\ttest: 7.7620627\tbest: 7.7619962 (2995)\ttotal: 2m 19s\tremaining: 5m 26s\n",
      "4000:\tlearn: 5.9875141\ttest: 7.7596967\tbest: 7.7596929 (3998)\ttotal: 3m 6s\tremaining: 4m 40s\n",
      "5000:\tlearn: 5.9310497\ttest: 7.7581487\tbest: 7.7580976 (4991)\ttotal: 3m 53s\tremaining: 3m 53s\n",
      "6000:\tlearn: 5.8760342\ttest: 7.7561835\tbest: 7.7561835 (6000)\ttotal: 4m 39s\tremaining: 3m 6s\n",
      "7000:\tlearn: 5.8225464\ttest: 7.7554117\tbest: 7.7554117 (7000)\ttotal: 5m 24s\tremaining: 2m 19s\n",
      "Stopped by overfitting detector  (200 iterations wait)\n",
      "\n",
      "bestTest = 7.755198618\n",
      "bestIteration = 7070\n",
      "\n",
      "Shrink model to first 7071 iterations.\n"
     ]
    },
    {
     "name": "stderr",
     "output_type": "stream",
     "text": [
      "\u001b[32m[I 2021-08-27 07:54:56,077]\u001b[0m Trial 25 finished with value: 7.751613272080466 and parameters: {'bootstrap_type': 'MVS', 'max_depth': 6, 'learning_rate': 0.03912784985551841, 'max_bin': 182, 'min_data_in_leaf': 24, 'reg_lambda': 27.78810816753238, 'subsample': 0.20777217056723296}. Best is trial 25 with value: 7.751613272080466.\u001b[0m\n"
     ]
    },
    {
     "name": "stdout",
     "output_type": "stream",
     "text": [
      "0:\tlearn: 6.3298157\ttest: 7.8580026\tbest: 7.8580026 (0)\ttotal: 35ms\tremaining: 5m 49s\n",
      "1000:\tlearn: 6.2093313\ttest: 7.7808348\tbest: 7.7808348 (1000)\ttotal: 34.6s\tremaining: 5m 10s\n",
      "2000:\tlearn: 6.1685865\ttest: 7.7713848\tbest: 7.7713848 (2000)\ttotal: 1m 9s\tremaining: 4m 36s\n",
      "3000:\tlearn: 6.1344809\ttest: 7.7666574\tbest: 7.7666574 (3000)\ttotal: 1m 44s\tremaining: 4m 2s\n",
      "4000:\tlearn: 6.1025164\ttest: 7.7641701\tbest: 7.7641078 (3975)\ttotal: 2m 19s\tremaining: 3m 28s\n",
      "5000:\tlearn: 6.0720323\ttest: 7.7625932\tbest: 7.7625348 (4934)\ttotal: 2m 53s\tremaining: 2m 53s\n",
      "6000:\tlearn: 6.0424723\ttest: 7.7612936\tbest: 7.7612595 (5901)\ttotal: 3m 28s\tremaining: 2m 18s\n",
      "7000:\tlearn: 6.0130146\ttest: 7.7593288\tbest: 7.7593077 (6986)\ttotal: 4m 3s\tremaining: 1m 44s\n",
      "8000:\tlearn: 5.9845702\ttest: 7.7582282\tbest: 7.7581718 (7939)\ttotal: 4m 38s\tremaining: 1m 9s\n",
      "9000:\tlearn: 5.9568438\ttest: 7.7569131\tbest: 7.7568885 (8818)\ttotal: 5m 12s\tremaining: 34.7s\n",
      "Stopped by overfitting detector  (200 iterations wait)\n",
      "\n",
      "bestTest = 7.756888459\n",
      "bestIteration = 8818\n",
      "\n",
      "Shrink model to first 8819 iterations.\n",
      "0:\tlearn: 6.3296135\ttest: 7.8578207\tbest: 7.8578207 (0)\ttotal: 35ms\tremaining: 5m 49s\n",
      "1000:\tlearn: 6.2082947\ttest: 7.7810178\tbest: 7.7810178 (1000)\ttotal: 35s\tremaining: 5m 14s\n",
      "2000:\tlearn: 6.1676602\ttest: 7.7711499\tbest: 7.7711258 (1992)\ttotal: 1m 9s\tremaining: 4m 39s\n",
      "3000:\tlearn: 6.1333764\ttest: 7.7670167\tbest: 7.7670155 (2999)\ttotal: 1m 45s\tremaining: 4m 4s\n",
      "4000:\tlearn: 6.1011427\ttest: 7.7639765\tbest: 7.7639765 (4000)\ttotal: 2m 20s\tremaining: 3m 30s\n",
      "5000:\tlearn: 6.0707518\ttest: 7.7616101\tbest: 7.7616101 (5000)\ttotal: 2m 55s\tremaining: 2m 55s\n",
      "6000:\tlearn: 6.0408916\ttest: 7.7595564\tbest: 7.7595213 (5996)\ttotal: 3m 30s\tremaining: 2m 20s\n",
      "7000:\tlearn: 6.0116926\ttest: 7.7574474\tbest: 7.7574139 (6938)\ttotal: 4m 5s\tremaining: 1m 45s\n",
      "8000:\tlearn: 5.9831164\ttest: 7.7564143\tbest: 7.7563615 (7979)\ttotal: 4m 41s\tremaining: 1m 10s\n",
      "9000:\tlearn: 5.9550618\ttest: 7.7556005\tbest: 7.7555130 (8953)\ttotal: 5m 16s\tremaining: 35.1s\n",
      "9999:\tlearn: 5.9277302\ttest: 7.7543403\tbest: 7.7543011 (9952)\ttotal: 5m 51s\tremaining: 0us\n",
      "\n",
      "bestTest = 7.754301125\n",
      "bestIteration = 9952\n",
      "\n",
      "Shrink model to first 9953 iterations.\n"
     ]
    },
    {
     "name": "stderr",
     "output_type": "stream",
     "text": [
      "\u001b[32m[I 2021-08-27 08:06:10,913]\u001b[0m Trial 26 finished with value: 7.753595835559977 and parameters: {'bootstrap_type': 'Bernoulli', 'max_depth': 5, 'learning_rate': 0.03910533478994778, 'max_bin': 182, 'min_data_in_leaf': 22, 'reg_lambda': 27.809319110330193, 'subsample': 0.2077010776472722}. Best is trial 25 with value: 7.751613272080466.\u001b[0m\n"
     ]
    },
    {
     "name": "stdout",
     "output_type": "stream",
     "text": [
      "0:\tlearn: 6.3296233\ttest: 7.8579089\tbest: 7.8579089 (0)\ttotal: 31.1ms\tremaining: 5m 10s\n",
      "1000:\tlearn: 6.2168664\ttest: 7.7809163\tbest: 7.7809163 (1000)\ttotal: 30.7s\tremaining: 4m 35s\n",
      "2000:\tlearn: 6.1832156\ttest: 7.7721641\tbest: 7.7721458 (1999)\ttotal: 1m 1s\tremaining: 4m 4s\n",
      "3000:\tlearn: 6.1562713\ttest: 7.7678813\tbest: 7.7678813 (3000)\ttotal: 1m 31s\tremaining: 3m 34s\n",
      "4000:\tlearn: 6.1313732\ttest: 7.7646500\tbest: 7.7646457 (3999)\ttotal: 2m 2s\tremaining: 3m 3s\n",
      "5000:\tlearn: 6.1079090\ttest: 7.7626532\tbest: 7.7625193 (4834)\ttotal: 2m 32s\tremaining: 2m 32s\n",
      "6000:\tlearn: 6.0857952\ttest: 7.7608816\tbest: 7.7608550 (5991)\ttotal: 3m 3s\tremaining: 2m 2s\n",
      "7000:\tlearn: 6.0638861\ttest: 7.7590076\tbest: 7.7590076 (7000)\ttotal: 3m 33s\tremaining: 1m 31s\n",
      "8000:\tlearn: 6.0421302\ttest: 7.7579295\tbest: 7.7578387 (7904)\ttotal: 4m 4s\tremaining: 1m 1s\n",
      "Stopped by overfitting detector  (200 iterations wait)\n",
      "\n",
      "bestTest = 7.757838689\n",
      "bestIteration = 7904\n",
      "\n",
      "Shrink model to first 7905 iterations.\n",
      "0:\tlearn: 6.3297179\ttest: 7.8578775\tbest: 7.8578775 (0)\ttotal: 29.1ms\tremaining: 4m 51s\n",
      "1000:\tlearn: 6.2167917\ttest: 7.7806455\tbest: 7.7806455 (1000)\ttotal: 30.4s\tremaining: 4m 33s\n",
      "2000:\tlearn: 6.1831639\ttest: 7.7709992\tbest: 7.7709992 (2000)\ttotal: 1m\tremaining: 4m 3s\n",
      "3000:\tlearn: 6.1562857\ttest: 7.7669457\tbest: 7.7669457 (3000)\ttotal: 1m 31s\tremaining: 3m 33s\n",
      "4000:\tlearn: 6.1314965\ttest: 7.7646884\tbest: 7.7645979 (3972)\ttotal: 2m 2s\tremaining: 3m 3s\n",
      "5000:\tlearn: 6.1082267\ttest: 7.7626286\tbest: 7.7625805 (4992)\ttotal: 2m 32s\tremaining: 2m 32s\n",
      "6000:\tlearn: 6.0856832\ttest: 7.7605526\tbest: 7.7605301 (5992)\ttotal: 3m 2s\tremaining: 2m 1s\n",
      "7000:\tlearn: 6.0639963\ttest: 7.7599825\tbest: 7.7599825 (7000)\ttotal: 3m 33s\tremaining: 1m 31s\n",
      "Stopped by overfitting detector  (200 iterations wait)\n",
      "\n",
      "bestTest = 7.759392332\n",
      "bestIteration = 7547\n",
      "\n",
      "Shrink model to first 7548 iterations.\n"
     ]
    },
    {
     "name": "stderr",
     "output_type": "stream",
     "text": [
      "\u001b[32m[I 2021-08-27 08:14:22,864]\u001b[0m Trial 27 finished with value: 7.757397488587319 and parameters: {'bootstrap_type': 'MVS', 'max_depth': 4, 'learning_rate': 0.03900577827554891, 'max_bin': 183, 'min_data_in_leaf': 22, 'reg_lambda': 28.78241823581457, 'subsample': 0.19242796060523432}. Best is trial 25 with value: 7.751613272080466.\u001b[0m\n"
     ]
    },
    {
     "name": "stdout",
     "output_type": "stream",
     "text": [
      "0:\tlearn: 6.3295682\ttest: 7.8577584\tbest: 7.8577584 (0)\ttotal: 37.3ms\tremaining: 6m 12s\n",
      "1000:\tlearn: 6.2022757\ttest: 7.7792195\tbest: 7.7792195 (1000)\ttotal: 37s\tremaining: 5m 32s\n",
      "2000:\tlearn: 6.1557289\ttest: 7.7700391\tbest: 7.7700318 (1999)\ttotal: 1m 14s\tremaining: 4m 57s\n",
      "3000:\tlearn: 6.1159865\ttest: 7.7657193\tbest: 7.7656388 (2968)\ttotal: 1m 51s\tremaining: 4m 20s\n",
      "4000:\tlearn: 6.0783970\ttest: 7.7630087\tbest: 7.7629122 (3901)\ttotal: 2m 28s\tremaining: 3m 43s\n",
      "5000:\tlearn: 6.0425878\ttest: 7.7604739\tbest: 7.7604668 (4995)\ttotal: 3m 5s\tremaining: 3m 5s\n",
      "6000:\tlearn: 6.0079521\ttest: 7.7588316\tbest: 7.7588316 (6000)\ttotal: 3m 43s\tremaining: 2m 28s\n",
      "Stopped by overfitting detector  (200 iterations wait)\n",
      "\n",
      "bestTest = 7.758014121\n",
      "bestIteration = 6668\n",
      "\n",
      "Shrink model to first 6669 iterations.\n",
      "0:\tlearn: 6.3296250\ttest: 7.8577623\tbest: 7.8577623 (0)\ttotal: 36.9ms\tremaining: 6m 9s\n",
      "1000:\tlearn: 6.2013733\ttest: 7.7786285\tbest: 7.7786285 (1000)\ttotal: 37.2s\tremaining: 5m 34s\n",
      "2000:\tlearn: 6.1545044\ttest: 7.7691150\tbest: 7.7691087 (1998)\ttotal: 1m 14s\tremaining: 4m 56s\n",
      "3000:\tlearn: 6.1146346\ttest: 7.7647507\tbest: 7.7647386 (2982)\ttotal: 1m 51s\tremaining: 4m 19s\n",
      "4000:\tlearn: 6.0768282\ttest: 7.7618663\tbest: 7.7618663 (4000)\ttotal: 2m 28s\tremaining: 3m 43s\n",
      "5000:\tlearn: 6.0415644\ttest: 7.7593518\tbest: 7.7593492 (4992)\ttotal: 3m 6s\tremaining: 3m 5s\n",
      "6000:\tlearn: 6.0072735\ttest: 7.7578919\tbest: 7.7578842 (5839)\ttotal: 3m 43s\tremaining: 2m 28s\n",
      "7000:\tlearn: 5.9736398\ttest: 7.7569836\tbest: 7.7567966 (6934)\ttotal: 4m 20s\tremaining: 1m 51s\n",
      "8000:\tlearn: 5.9407812\ttest: 7.7550956\tbest: 7.7550956 (8000)\ttotal: 4m 57s\tremaining: 1m 14s\n",
      "Stopped by overfitting detector  (200 iterations wait)\n",
      "\n",
      "bestTest = 7.75458562\n",
      "bestIteration = 8462\n",
      "\n",
      "Shrink model to first 8463 iterations.\n"
     ]
    },
    {
     "name": "stderr",
     "output_type": "stream",
     "text": [
      "\u001b[32m[I 2021-08-27 08:24:10,155]\u001b[0m Trial 28 finished with value: 7.754550726264162 and parameters: {'bootstrap_type': 'MVS', 'max_depth': 5, 'learning_rate': 0.03670937882989713, 'max_bin': 175, 'min_data_in_leaf': 24, 'reg_lambda': 27.870313018881056, 'subsample': 0.2092541796179644}. Best is trial 25 with value: 7.751613272080466.\u001b[0m\n"
     ]
    },
    {
     "name": "stdout",
     "output_type": "stream",
     "text": [
      "0:\tlearn: 6.3296799\ttest: 7.8579683\tbest: 7.8579683 (0)\ttotal: 46.5ms\tremaining: 7m 45s\n",
      "1000:\tlearn: 6.1835187\ttest: 7.7788949\tbest: 7.7788888 (999)\ttotal: 44s\tremaining: 6m 35s\n",
      "2000:\tlearn: 6.1213531\ttest: 7.7719126\tbest: 7.7719126 (2000)\ttotal: 1m 27s\tremaining: 5m 48s\n",
      "3000:\tlearn: 6.0642225\ttest: 7.7682204\tbest: 7.7682002 (2994)\ttotal: 2m 10s\tremaining: 5m 4s\n",
      "4000:\tlearn: 6.0095292\ttest: 7.7652590\tbest: 7.7652140 (3995)\ttotal: 2m 53s\tremaining: 4m 20s\n",
      "Stopped by overfitting detector  (200 iterations wait)\n",
      "\n",
      "bestTest = 7.765002845\n",
      "bestIteration = 4042\n",
      "\n",
      "Shrink model to first 4043 iterations.\n",
      "0:\tlearn: 6.3297039\ttest: 7.8578826\tbest: 7.8578826 (0)\ttotal: 44.5ms\tremaining: 7m 24s\n",
      "1000:\tlearn: 6.1832159\ttest: 7.7782453\tbest: 7.7782453 (1000)\ttotal: 43.2s\tremaining: 6m 28s\n",
      "2000:\tlearn: 6.1207227\ttest: 7.7691256\tbest: 7.7691256 (2000)\ttotal: 1m 26s\tremaining: 5m 47s\n",
      "3000:\tlearn: 6.0638254\ttest: 7.7648458\tbest: 7.7648458 (3000)\ttotal: 2m 9s\tremaining: 5m 2s\n",
      "4000:\tlearn: 6.0101015\ttest: 7.7615211\tbest: 7.7615129 (3999)\ttotal: 2m 52s\tremaining: 4m 19s\n",
      "5000:\tlearn: 5.9579418\ttest: 7.7590717\tbest: 7.7590276 (4977)\ttotal: 3m 37s\tremaining: 3m 37s\n",
      "Stopped by overfitting detector  (200 iterations wait)\n",
      "\n",
      "bestTest = 7.757823096\n",
      "bestIteration = 5738\n",
      "\n",
      "Shrink model to first 5739 iterations.\n"
     ]
    },
    {
     "name": "stderr",
     "output_type": "stream",
     "text": [
      "\u001b[32m[I 2021-08-27 08:31:41,673]\u001b[0m Trial 29 finished with value: 7.759287765374737 and parameters: {'bootstrap_type': 'Bernoulli', 'max_depth': 6, 'learning_rate': 0.04188999106150025, 'max_bin': 178, 'min_data_in_leaf': 21, 'reg_lambda': 28.53218099901339, 'subsample': 0.19371605545799003}. Best is trial 25 with value: 7.751613272080466.\u001b[0m\n"
     ]
    },
    {
     "name": "stdout",
     "output_type": "stream",
     "text": [
      "Number of finished trials: 30\n",
      "Best trial: {'bootstrap_type': 'MVS', 'max_depth': 6, 'learning_rate': 0.03912784985551841, 'max_bin': 182, 'min_data_in_leaf': 24, 'reg_lambda': 27.78810816753238, 'subsample': 0.20777217056723296}\n"
     ]
    }
   ],
   "source": [
    "study = optuna.create_study(direction='minimize')\n",
    "study.optimize(objective,n_trials= 30)\n",
    "print('Number of finished trials:', len(study.trials))\n",
    "print('Best trial:', study.best_trial.params)"
   ]
  },
  {
   "cell_type": "code",
   "execution_count": 11,
   "id": "879bc2a8",
   "metadata": {
    "execution": {
     "iopub.execute_input": "2021-08-27T08:31:42.092479Z",
     "iopub.status.busy": "2021-08-27T08:31:42.091619Z",
     "iopub.status.idle": "2021-08-27T08:31:42.096843Z",
     "shell.execute_reply": "2021-08-27T08:31:42.097366Z"
    },
    "papermill": {
     "duration": 0.197274,
     "end_time": "2021-08-27T08:31:42.097598",
     "exception": false,
     "start_time": "2021-08-27T08:31:41.900324",
     "status": "completed"
    },
    "tags": []
   },
   "outputs": [
    {
     "data": {
      "text/plain": [
       "{'bootstrap_type': 'MVS',\n",
       " 'max_depth': 6,\n",
       " 'learning_rate': 0.03912784985551841,\n",
       " 'max_bin': 182,\n",
       " 'min_data_in_leaf': 24,\n",
       " 'reg_lambda': 27.78810816753238,\n",
       " 'subsample': 0.20777217056723296}"
      ]
     },
     "execution_count": 11,
     "metadata": {},
     "output_type": "execute_result"
    }
   ],
   "source": [
    "study.best_params"
   ]
  },
  {
   "cell_type": "markdown",
   "id": "c0b6857a",
   "metadata": {
    "papermill": {
     "duration": 0.177154,
     "end_time": "2021-08-27T08:31:42.457091",
     "exception": false,
     "start_time": "2021-08-27T08:31:42.279937",
     "status": "completed"
    },
    "tags": []
   },
   "source": [
    "# Log\n",
    "\n",
    "7.768172118850735 row-wise noise ver4\n",
    "\n",
    "7.776578973194598 random noise ver5\n",
    "\n",
    "7.757181558352988 no noise ver7\n",
    "\n",
    "7.756073089003697 no noise ver8 (narrow space)\n",
    "\n",
    "7.756000258000434 no noise ver9 (narrow space) final\n",
    "\n",
    "============= No GPU ================\n",
    "\n",
    "7.753055265479657 no noise ver13\n",
    "\n",
    "========================================\n",
    "================ Change pseudo =========\n",
    "\n",
    "7.754701143620673 no noise ver15\n",
    "\n",
    "7.753086397239743 no noise ver16 (narrow space)\n",
    "\n",
    "7.752308355464106 no noise ver17 (narrow space)"
   ]
  }
 ],
 "metadata": {
  "kernelspec": {
   "display_name": "Python 3",
   "language": "python",
   "name": "python3"
  },
  "language_info": {
   "codemirror_mode": {
    "name": "ipython",
    "version": 3
   },
   "file_extension": ".py",
   "mimetype": "text/x-python",
   "name": "python",
   "nbconvert_exporter": "python",
   "pygments_lexer": "ipython3",
   "version": "3.7.10"
  },
  "papermill": {
   "default_parameters": {},
   "duration": 15634.578596,
   "end_time": "2021-08-27T08:31:44.586623",
   "environment_variables": {},
   "exception": null,
   "input_path": "__notebook__.ipynb",
   "output_path": "__notebook__.ipynb",
   "parameters": {},
   "start_time": "2021-08-27T04:11:10.008027",
   "version": "2.3.3"
  }
 },
 "nbformat": 4,
 "nbformat_minor": 5
}
