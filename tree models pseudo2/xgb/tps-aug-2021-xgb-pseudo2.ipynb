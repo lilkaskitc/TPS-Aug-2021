{
 "cells": [
  {
   "cell_type": "markdown",
   "id": "5441084b",
   "metadata": {
    "papermill": {
     "duration": 0.016597,
     "end_time": "2021-08-27T09:31:52.828423",
     "exception": false,
     "start_time": "2021-08-27T09:31:52.811826",
     "status": "completed"
    },
    "tags": []
   },
   "source": [
    "# Libraries"
   ]
  },
  {
   "cell_type": "code",
   "execution_count": 1,
   "id": "dd06b56c",
   "metadata": {
    "_cell_guid": "b1076dfc-b9ad-4769-8c92-a6c4dae69d19",
    "_uuid": "8f2839f25d086af736a60e9eeb907d3b93b6e0e5",
    "execution": {
     "iopub.execute_input": "2021-08-27T09:31:52.875322Z",
     "iopub.status.busy": "2021-08-27T09:31:52.874169Z",
     "iopub.status.idle": "2021-08-27T09:31:54.198232Z",
     "shell.execute_reply": "2021-08-27T09:31:54.198924Z",
     "shell.execute_reply.started": "2021-08-16T02:22:18.744068Z"
    },
    "papermill": {
     "duration": 1.355566,
     "end_time": "2021-08-27T09:31:54.199291",
     "exception": false,
     "start_time": "2021-08-27T09:31:52.843725",
     "status": "completed"
    },
    "tags": []
   },
   "outputs": [],
   "source": [
    "from pathlib import Path\n",
    "import pandas as pd\n",
    "import numpy as np\n",
    "import pickle\n",
    "import random\n",
    "import time\n",
    "import os\n",
    "\n",
    "from sklearn.preprocessing import StandardScaler\n",
    "from sklearn.model_selection import KFold\n",
    "from sklearn.metrics import mean_squared_error\n",
    "\n",
    "from scipy.optimize import minimize\n",
    "\n",
    "#import lightgbm as lgb\n",
    "import xgboost as xgb\n",
    "#import catboost as ctb\n",
    "#from sklearn.linear_model import Ridge\n",
    "\n",
    "import matplotlib.pyplot as plt\n",
    "import seaborn as sns\n",
    "\n",
    "import warnings\n",
    "warnings.simplefilter('ignore')"
   ]
  },
  {
   "cell_type": "markdown",
   "id": "265b6136",
   "metadata": {
    "papermill": {
     "duration": 0.014954,
     "end_time": "2021-08-27T09:31:54.229398",
     "exception": false,
     "start_time": "2021-08-27T09:31:54.214444",
     "status": "completed"
    },
    "tags": []
   },
   "source": [
    "# Parameters"
   ]
  },
  {
   "cell_type": "code",
   "execution_count": 2,
   "id": "2b9ac0dd",
   "metadata": {
    "execution": {
     "iopub.execute_input": "2021-08-27T09:31:54.267334Z",
     "iopub.status.busy": "2021-08-27T09:31:54.266580Z",
     "iopub.status.idle": "2021-08-27T09:31:54.270352Z",
     "shell.execute_reply": "2021-08-27T09:31:54.269771Z"
    },
    "papermill": {
     "duration": 0.025226,
     "end_time": "2021-08-27T09:31:54.270497",
     "exception": false,
     "start_time": "2021-08-27T09:31:54.245271",
     "status": "completed"
    },
    "tags": []
   },
   "outputs": [],
   "source": [
    "target = 'loss'\n",
    "\n",
    "DEBUG = False\n",
    "\n",
    "if DEBUG:\n",
    "    N_ESTIMATORS = 1\n",
    "    N_SPLITS = 2\n",
    "    SEED = 17\n",
    "    CVSEED = 17\n",
    "    EARLY_STOPPING_ROUNDS = 1\n",
    "    VERBOSE = 100\n",
    "    #N_ITERS = 2\n",
    "else:\n",
    "    N_SPLITS = 10\n",
    "    N_ESTIMATORS = 10000\n",
    "    EARLY_STOPPING_ROUNDS = 200\n",
    "    VERBOSE = 1000\n",
    "    SEED = 17\n",
    "    CVSEED = 17\n",
    "    #N_ITERS = 10"
   ]
  },
  {
   "cell_type": "code",
   "execution_count": 3,
   "id": "177d04d5",
   "metadata": {
    "execution": {
     "iopub.execute_input": "2021-08-27T09:31:54.307016Z",
     "iopub.status.busy": "2021-08-27T09:31:54.306069Z",
     "iopub.status.idle": "2021-08-27T09:31:54.309329Z",
     "shell.execute_reply": "2021-08-27T09:31:54.308819Z"
    },
    "papermill": {
     "duration": 0.023943,
     "end_time": "2021-08-27T09:31:54.309475",
     "exception": false,
     "start_time": "2021-08-27T09:31:54.285532",
     "status": "completed"
    },
    "tags": []
   },
   "outputs": [],
   "source": [
    "def set_seed(seed=17):\n",
    "    random.seed(seed)\n",
    "    os.environ['PYTHONHASHSEED'] = str(seed)\n",
    "    np.random.seed(seed)\n",
    "    \n",
    "set_seed(SEED)"
   ]
  },
  {
   "cell_type": "markdown",
   "id": "c29318dd",
   "metadata": {
    "papermill": {
     "duration": 0.015506,
     "end_time": "2021-08-27T09:31:54.340151",
     "exception": false,
     "start_time": "2021-08-27T09:31:54.324645",
     "status": "completed"
    },
    "tags": []
   },
   "source": [
    "# Datasets"
   ]
  },
  {
   "cell_type": "code",
   "execution_count": 4,
   "id": "749c74b7",
   "metadata": {
    "execution": {
     "iopub.execute_input": "2021-08-27T09:31:54.376163Z",
     "iopub.status.busy": "2021-08-27T09:31:54.375521Z",
     "iopub.status.idle": "2021-08-27T09:32:05.313545Z",
     "shell.execute_reply": "2021-08-27T09:32:05.312928Z",
     "shell.execute_reply.started": "2021-08-16T02:22:21.609605Z"
    },
    "papermill": {
     "duration": 10.95861,
     "end_time": "2021-08-27T09:32:05.313700",
     "exception": false,
     "start_time": "2021-08-27T09:31:54.355090",
     "status": "completed"
    },
    "tags": []
   },
   "outputs": [],
   "source": [
    "INPUT = Path(\"../input/tabular-playground-series-aug-2021\")\n",
    "\n",
    "train = pd.read_csv(INPUT / \"train.csv\")\n",
    "test = pd.read_csv(INPUT / \"test.csv\")\n",
    "submission = pd.read_csv(INPUT / \"sample_submission.csv\")\n"
   ]
  },
  {
   "cell_type": "markdown",
   "id": "2b5e2749",
   "metadata": {
    "papermill": {
     "duration": 0.015521,
     "end_time": "2021-08-27T09:32:05.344546",
     "exception": false,
     "start_time": "2021-08-27T09:32:05.329025",
     "status": "completed"
    },
    "tags": []
   },
   "source": [
    "# Preprocessing"
   ]
  },
  {
   "cell_type": "code",
   "execution_count": 5,
   "id": "43635056",
   "metadata": {
    "execution": {
     "iopub.execute_input": "2021-08-27T09:32:05.471338Z",
     "iopub.status.busy": "2021-08-27T09:32:05.386129Z",
     "iopub.status.idle": "2021-08-27T09:32:17.420268Z",
     "shell.execute_reply": "2021-08-27T09:32:17.420755Z",
     "shell.execute_reply.started": "2021-08-16T02:22:32.282404Z"
    },
    "papermill": {
     "duration": 12.061257,
     "end_time": "2021-08-27T09:32:17.420951",
     "exception": false,
     "start_time": "2021-08-27T09:32:05.359694",
     "status": "completed"
    },
    "tags": []
   },
   "outputs": [],
   "source": [
    "scale_features = [col for col in test.columns if 'f' in col]\n",
    "\n",
    "ss = StandardScaler()\n",
    "train[scale_features] = ss.fit_transform(train[scale_features])\n",
    "test[scale_features] = ss.transform(test[scale_features])\n"
   ]
  },
  {
   "cell_type": "code",
   "execution_count": 6,
   "id": "6e1c38df",
   "metadata": {
    "execution": {
     "iopub.execute_input": "2021-08-27T09:32:17.459999Z",
     "iopub.status.busy": "2021-08-27T09:32:17.459356Z",
     "iopub.status.idle": "2021-08-27T09:32:17.462606Z",
     "shell.execute_reply": "2021-08-27T09:32:17.461953Z"
    },
    "papermill": {
     "duration": 0.026288,
     "end_time": "2021-08-27T09:32:17.462745",
     "exception": false,
     "start_time": "2021-08-27T09:32:17.436457",
     "status": "completed"
    },
    "tags": []
   },
   "outputs": [],
   "source": [
    "# Swap noise\n",
    "\n",
    "# Random\n",
    "def apply_noise_rn(df, p=.75):\n",
    "    should_not_swap = np.random.binomial(1, p, df.shape)\n",
    "    corrupted_df = df.where(should_not_swap == 1, np.random.permutation(df))\n",
    "    return corrupted_df\n",
    "\n",
    "# Row-wise\n",
    "def apply_noise_row(df, p=.75):\n",
    "    should_not_swap = np.zeros(df.shape)\n",
    "    for i in range(df.shape[0]):\n",
    "        for j in np.random.choice(df.shape[1],int(p*df.shape[1]),replace=False):\n",
    "            should_not_swap[i,j]=1 \n",
    "    corrupted_df = df.where(should_not_swap == 1, np.random.permutation(df))\n",
    "    return corrupted_df\n",
    "    "
   ]
  },
  {
   "cell_type": "markdown",
   "id": "3e96ab44",
   "metadata": {
    "papermill": {
     "duration": 0.014753,
     "end_time": "2021-08-27T09:32:17.492816",
     "exception": false,
     "start_time": "2021-08-27T09:32:17.478063",
     "status": "completed"
    },
    "tags": []
   },
   "source": [
    "# Pseudo Label"
   ]
  },
  {
   "cell_type": "code",
   "execution_count": 7,
   "id": "f1d88c60",
   "metadata": {
    "execution": {
     "iopub.execute_input": "2021-08-27T09:32:17.528526Z",
     "iopub.status.busy": "2021-08-27T09:32:17.527866Z",
     "iopub.status.idle": "2021-08-27T09:32:18.226551Z",
     "shell.execute_reply": "2021-08-27T09:32:18.227129Z",
     "shell.execute_reply.started": "2021-08-16T02:22:44.236101Z"
    },
    "papermill": {
     "duration": 0.719505,
     "end_time": "2021-08-27T09:32:18.227335",
     "exception": false,
     "start_time": "2021-08-27T09:32:17.507830",
     "status": "completed"
    },
    "tags": []
   },
   "outputs": [],
   "source": [
    "pseudo = pd.read_csv(\"../input/in-python-tabular-denoising-residual-network/submission_v2.csv\")[target]\n",
    "test_pseudo = pd.concat([test, pseudo], axis=1)\n",
    "all_pseudo = pd.concat([train, test_pseudo]).reset_index(drop=True)"
   ]
  },
  {
   "cell_type": "markdown",
   "id": "942afc0e",
   "metadata": {
    "papermill": {
     "duration": 0.01619,
     "end_time": "2021-08-27T09:32:18.258757",
     "exception": false,
     "start_time": "2021-08-27T09:32:18.242567",
     "status": "completed"
    },
    "tags": []
   },
   "source": [
    "# XGB"
   ]
  },
  {
   "cell_type": "code",
   "execution_count": 8,
   "id": "9b1ebaa2",
   "metadata": {
    "execution": {
     "iopub.execute_input": "2021-08-27T09:32:18.296406Z",
     "iopub.status.busy": "2021-08-27T09:32:18.295699Z",
     "iopub.status.idle": "2021-08-27T09:32:18.298465Z",
     "shell.execute_reply": "2021-08-27T09:32:18.298904Z"
    },
    "papermill": {
     "duration": 0.024283,
     "end_time": "2021-08-27T09:32:18.299091",
     "exception": false,
     "start_time": "2021-08-27T09:32:18.274808",
     "status": "completed"
    },
    "tags": []
   },
   "outputs": [],
   "source": [
    "xgb_params = {\n",
    "    'objective': 'reg:squarederror',    \n",
    "    'n_estimators': N_ESTIMATORS,\n",
    "    'importance_type': 'total_gain',\n",
    "    'tree_method': 'hist',    \n",
    "    \n",
    "    'learning_rate': 0.009137980241462154,\n",
    "     'subsample': 0.894577526126585,\n",
    "     'colsample_bytree': 0.631933960621113,\n",
    "     'max_depth': 14,\n",
    "     'lambda': 12.655747040153953,\n",
    "     'alpha': 8.692284168970499,\n",
    "     'min_child_weight': 256.30230889039706\n",
    "}\n"
   ]
  },
  {
   "cell_type": "code",
   "execution_count": 9,
   "id": "de78025c",
   "metadata": {
    "execution": {
     "iopub.execute_input": "2021-08-27T09:32:18.347466Z",
     "iopub.status.busy": "2021-08-27T09:32:18.346660Z",
     "iopub.status.idle": "2021-08-27T15:04:34.462062Z",
     "shell.execute_reply": "2021-08-27T15:04:34.462614Z"
    },
    "papermill": {
     "duration": 19936.148347,
     "end_time": "2021-08-27T15:04:34.462830",
     "exception": false,
     "start_time": "2021-08-27T09:32:18.314483",
     "status": "completed"
    },
    "tags": []
   },
   "outputs": [
    {
     "name": "stdout",
     "output_type": "stream",
     "text": [
      "===== fold 0 =====\n",
      "===== fold 1 =====\n",
      "===== fold 2 =====\n",
      "===== fold 3 =====\n",
      "===== fold 4 =====\n",
      "===== fold 5 =====\n",
      "[0]\tvalidation_0-rmse:10.12943\n",
      "[1000]\tvalidation_0-rmse:7.85549\n",
      "[2000]\tvalidation_0-rmse:7.84226\n",
      "[3000]\tvalidation_0-rmse:7.83796\n",
      "[3702]\tvalidation_0-rmse:7.83650\n",
      "[0]\tvalidation_0-rmse:7.83650\n",
      "[356]\tvalidation_0-rmse:7.83648\n",
      "[0]\tvalidation_0-rmse:10.12942\n",
      "[1000]\tvalidation_0-rmse:7.85827\n",
      "[2000]\tvalidation_0-rmse:7.84510\n",
      "[3000]\tvalidation_0-rmse:7.84186\n",
      "[3164]\tvalidation_0-rmse:7.84191\n",
      "[0]\tvalidation_0-rmse:7.84191\n",
      "[1000]\tvalidation_0-rmse:7.84159\n",
      "[1189]\tvalidation_0-rmse:7.84165\n",
      "[0]\tvalidation_0-rmse:10.12924\n",
      "[1000]\tvalidation_0-rmse:7.85558\n",
      "[2000]\tvalidation_0-rmse:7.84262\n",
      "[3000]\tvalidation_0-rmse:7.83827\n",
      "[3290]\tvalidation_0-rmse:7.83821\n",
      "[0]\tvalidation_0-rmse:7.83821\n",
      "[724]\tvalidation_0-rmse:7.83807\n",
      "fold 5 - xgb rmse: 7.835029, elapsed time: 3924.02sec\n",
      "\n",
      "===== fold 6 =====\n",
      "[0]\tvalidation_0-rmse:10.20048\n",
      "[1000]\tvalidation_0-rmse:7.90418\n",
      "[2000]\tvalidation_0-rmse:7.88914\n",
      "[2955]\tvalidation_0-rmse:7.88502\n",
      "[0]\tvalidation_0-rmse:7.88501\n",
      "[869]\tvalidation_0-rmse:7.88478\n",
      "[0]\tvalidation_0-rmse:10.20044\n",
      "[1000]\tvalidation_0-rmse:7.90306\n",
      "[2000]\tvalidation_0-rmse:7.88947\n",
      "[3000]\tvalidation_0-rmse:7.88478\n",
      "[3226]\tvalidation_0-rmse:7.88477\n",
      "[0]\tvalidation_0-rmse:7.88484\n",
      "[1000]\tvalidation_0-rmse:7.88443\n",
      "[2000]\tvalidation_0-rmse:7.88411\n",
      "[3000]\tvalidation_0-rmse:7.88379\n",
      "[3174]\tvalidation_0-rmse:7.88380\n",
      "[0]\tvalidation_0-rmse:10.20042\n",
      "[1000]\tvalidation_0-rmse:7.90306\n",
      "[2000]\tvalidation_0-rmse:7.88962\n",
      "[3000]\tvalidation_0-rmse:7.88533\n",
      "[3751]\tvalidation_0-rmse:7.88422\n",
      "[0]\tvalidation_0-rmse:7.88423\n",
      "[216]\tvalidation_0-rmse:7.88422\n",
      "fold 6 - xgb rmse: 7.880665, elapsed time: 4397.61sec\n",
      "\n",
      "===== fold 7 =====\n",
      "[0]\tvalidation_0-rmse:10.18850\n",
      "[1000]\tvalidation_0-rmse:7.90158\n",
      "[2000]\tvalidation_0-rmse:7.89101\n",
      "[3000]\tvalidation_0-rmse:7.88884\n",
      "[3079]\tvalidation_0-rmse:7.88858\n",
      "[0]\tvalidation_0-rmse:7.88858\n",
      "[445]\tvalidation_0-rmse:7.88846\n",
      "[0]\tvalidation_0-rmse:10.18847\n",
      "[1000]\tvalidation_0-rmse:7.89874\n",
      "[2000]\tvalidation_0-rmse:7.88578\n",
      "[3000]\tvalidation_0-rmse:7.88268\n",
      "[3224]\tvalidation_0-rmse:7.88268\n",
      "[0]\tvalidation_0-rmse:7.88268\n",
      "[203]\tvalidation_0-rmse:7.88269\n",
      "[0]\tvalidation_0-rmse:10.18836\n",
      "[1000]\tvalidation_0-rmse:7.90151\n",
      "[2000]\tvalidation_0-rmse:7.88887\n",
      "[3000]\tvalidation_0-rmse:7.88366\n",
      "[3302]\tvalidation_0-rmse:7.88360\n",
      "[0]\tvalidation_0-rmse:7.88366\n",
      "[321]\tvalidation_0-rmse:7.88364\n",
      "fold 7 - xgb rmse: 7.881400, elapsed time: 3342.81sec\n",
      "\n",
      "===== fold 8 =====\n",
      "[0]\tvalidation_0-rmse:10.17036\n",
      "[1000]\tvalidation_0-rmse:7.88851\n",
      "[2000]\tvalidation_0-rmse:7.87335\n",
      "[3000]\tvalidation_0-rmse:7.86984\n",
      "[3226]\tvalidation_0-rmse:7.87087\n",
      "[0]\tvalidation_0-rmse:7.87086\n",
      "[1000]\tvalidation_0-rmse:7.87068\n",
      "[1397]\tvalidation_0-rmse:7.87059\n",
      "[0]\tvalidation_0-rmse:10.17035\n",
      "[1000]\tvalidation_0-rmse:7.88681\n",
      "[2000]\tvalidation_0-rmse:7.87435\n",
      "[3000]\tvalidation_0-rmse:7.87226\n",
      "[3687]\tvalidation_0-rmse:7.87103\n",
      "[0]\tvalidation_0-rmse:7.87102\n",
      "[280]\tvalidation_0-rmse:7.87101\n",
      "[0]\tvalidation_0-rmse:10.17028\n",
      "[1000]\tvalidation_0-rmse:7.88835\n",
      "[2000]\tvalidation_0-rmse:7.87677\n",
      "[3000]\tvalidation_0-rmse:7.87447\n",
      "[3562]\tvalidation_0-rmse:7.87249\n",
      "[0]\tvalidation_0-rmse:7.87249\n",
      "[767]\tvalidation_0-rmse:7.87232\n",
      "fold 8 - xgb rmse: 7.867592, elapsed time: 4050.41sec\n",
      "\n",
      "===== fold 9 =====\n",
      "[0]\tvalidation_0-rmse:10.17595\n",
      "[1000]\tvalidation_0-rmse:7.87041\n",
      "[2000]\tvalidation_0-rmse:7.85781\n",
      "[3000]\tvalidation_0-rmse:7.85178\n",
      "[4000]\tvalidation_0-rmse:7.85005\n",
      "[4110]\tvalidation_0-rmse:7.85014\n",
      "[0]\tvalidation_0-rmse:7.85014\n",
      "[233]\tvalidation_0-rmse:7.85014\n",
      "[0]\tvalidation_0-rmse:10.17588\n",
      "[1000]\tvalidation_0-rmse:7.86763\n",
      "[2000]\tvalidation_0-rmse:7.85444\n",
      "[3000]\tvalidation_0-rmse:7.84879\n",
      "[3159]\tvalidation_0-rmse:7.84869\n",
      "[0]\tvalidation_0-rmse:7.84869\n",
      "[874]\tvalidation_0-rmse:7.84852\n",
      "[0]\tvalidation_0-rmse:10.17578\n",
      "[1000]\tvalidation_0-rmse:7.86830\n",
      "[2000]\tvalidation_0-rmse:7.85606\n",
      "[3000]\tvalidation_0-rmse:7.85275\n",
      "[4000]\tvalidation_0-rmse:7.85023\n",
      "[4876]\tvalidation_0-rmse:7.84964\n",
      "[0]\tvalidation_0-rmse:7.84964\n",
      "[229]\tvalidation_0-rmse:7.84967\n",
      "fold 9 - xgb rmse: 7.845162, elapsed time: 4217.39sec\n",
      "\n",
      "oof xgb_rmse = 9.21706409886721\n"
     ]
    }
   ],
   "source": [
    "xgb_oof = np.zeros(train.shape[0])\n",
    "xgb_pred = np.zeros(test.shape[0])\n",
    "xgb_importances = pd.DataFrame()\n",
    "\n",
    "\n",
    "kf = KFold(n_splits=N_SPLITS, shuffle=True, random_state=CVSEED)\n",
    "seed_list=[SEED, SEED+1, SEED+2]\n",
    "\n",
    "for fold, (trn_idx, val_idx) in enumerate(kf.split(X=all_pseudo[scale_features], y=all_pseudo[target])):\n",
    "    print(f\"===== fold {fold} =====\")\n",
    "    if fold >= 5:\n",
    "    \n",
    "        oof_idx = np.array([idx for idx in val_idx if idx < train.shape[0]])\n",
    "        preds_idx = np.array([idx for idx in val_idx if idx >= train.shape[0]])\n",
    "\n",
    "        X_train, y_train = all_pseudo[scale_features].iloc[trn_idx], all_pseudo[target].iloc[trn_idx]\n",
    "        #X_train = apply_noise_row(X_train)\n",
    "\n",
    "        X_valid, y_valid = all_pseudo[scale_features].iloc[oof_idx], all_pseudo[target].iloc[oof_idx]\n",
    "        X_test = all_pseudo[scale_features].iloc[preds_idx]\n",
    "\n",
    "\n",
    "\n",
    "        # XGB       \n",
    "        start = time.time()\n",
    "\n",
    "        for inseed in seed_list:\n",
    "            xgb_params['seed'] = inseed\n",
    "\n",
    "            pre_model = xgb.XGBRegressor(**xgb_params)\n",
    "            pre_model.fit(\n",
    "                X_train, \n",
    "                y_train,\n",
    "                eval_set=[(X_valid, y_valid)],\n",
    "                eval_metric='rmse',\n",
    "                early_stopping_rounds=EARLY_STOPPING_ROUNDS,\n",
    "                verbose=VERBOSE\n",
    "            )\n",
    "\n",
    "\n",
    "            xgb_params2 = xgb_params.copy()\n",
    "            xgb_params2['lambda'] *= 0.9\n",
    "            xgb_params2['alpha'] *= 0.9\n",
    "            xgb_params2['learning_rate'] *= 0.1\n",
    "            model = xgb.XGBRegressor(**xgb_params2)\n",
    "            model.fit(\n",
    "                    X_train, y_train,\n",
    "                    eval_set=[(X_valid, y_valid)],\n",
    "                    eval_metric='rmse',\n",
    "                    early_stopping_rounds=EARLY_STOPPING_ROUNDS,\n",
    "                    verbose=VERBOSE,\n",
    "                    xgb_model=pre_model\n",
    "            )    \n",
    "\n",
    "            with open(f\"xgb_model{fold}.pkl\", 'wb') as f:\n",
    "                pickle.dump(model, f)\n",
    "\n",
    "            fi_tmp = pd.DataFrame()\n",
    "            fi_tmp['feature'] = X_train.columns\n",
    "            fi_tmp['importance'] = model.feature_importances_\n",
    "            fi_tmp['fold'] = fold\n",
    "            fi_tmp['seed'] = inseed\n",
    "            xgb_importances = xgb_importances.append(fi_tmp)\n",
    "\n",
    "            xgb_oof[oof_idx] += model.predict(X_valid) / len(seed_list)\n",
    "            xgb_pred[preds_idx-train.shape[0]] += model.predict(X_test) / len(seed_list)\n",
    "\n",
    "        elapsed = time.time() - start\n",
    "        rmse = mean_squared_error(y_valid, xgb_oof[oof_idx], squared=False)\n",
    "        print(f\"fold {fold} - xgb rmse: {rmse:.6f}, elapsed time: {elapsed:.2f}sec\\n\")\n",
    "\n",
    "    \n",
    "        \n",
    "print(f\"oof xgb_rmse = {mean_squared_error(train[target], xgb_oof, squared=False)}\")\n",
    "\n",
    "np.save(\"xgb_oof.npy\", xgb_oof)\n",
    "np.save(\"xgb_pred.npy\", xgb_pred)\n"
   ]
  },
  {
   "cell_type": "markdown",
   "id": "86c37676",
   "metadata": {
    "papermill": {
     "duration": 0.049624,
     "end_time": "2021-08-27T15:04:34.562588",
     "exception": false,
     "start_time": "2021-08-27T15:04:34.512964",
     "status": "completed"
    },
    "tags": []
   },
   "source": [
    "# OOF predictions"
   ]
  },
  {
   "cell_type": "code",
   "execution_count": 10,
   "id": "9c2c611c",
   "metadata": {
    "execution": {
     "iopub.execute_input": "2021-08-27T15:04:34.691922Z",
     "iopub.status.busy": "2021-08-27T15:04:34.691137Z",
     "iopub.status.idle": "2021-08-27T15:04:35.773292Z",
     "shell.execute_reply": "2021-08-27T15:04:35.773792Z"
    },
    "papermill": {
     "duration": 1.160986,
     "end_time": "2021-08-27T15:04:35.773960",
     "exception": false,
     "start_time": "2021-08-27T15:04:34.612974",
     "status": "completed"
    },
    "tags": []
   },
   "outputs": [
    {
     "data": {
      "text/plain": [
       "<matplotlib.collections.PathCollection at 0x7f88930faa90>"
      ]
     },
     "execution_count": 10,
     "metadata": {},
     "output_type": "execute_result"
    },
    {
     "data": {
      "image/png": "[encoded data removed]",
      "text/plain": [
       "<Figure size 432x288 with 1 Axes>"
      ]
     },
     "metadata": {
      "needs_background": "light"
     },
     "output_type": "display_data"
    }
   ],
   "source": [
    "plt.plot(train[target], train[target])\n",
    "plt.scatter(train[target], xgb_oof)"
   ]
  },
  {
   "cell_type": "markdown",
   "id": "f18b74c6",
   "metadata": {
    "papermill": {
     "duration": 0.05102,
     "end_time": "2021-08-27T15:04:35.876676",
     "exception": false,
     "start_time": "2021-08-27T15:04:35.825656",
     "status": "completed"
    },
    "tags": []
   },
   "source": [
    "# Features importances"
   ]
  },
  {
   "cell_type": "code",
   "execution_count": 11,
   "id": "7fc27bb7",
   "metadata": {
    "execution": {
     "iopub.execute_input": "2021-08-27T15:04:36.000587Z",
     "iopub.status.busy": "2021-08-27T15:04:35.999571Z",
     "iopub.status.idle": "2021-08-27T15:04:38.253316Z",
     "shell.execute_reply": "2021-08-27T15:04:38.253850Z"
    },
    "papermill": {
     "duration": 2.325108,
     "end_time": "2021-08-27T15:04:38.254022",
     "exception": false,
     "start_time": "2021-08-27T15:04:35.928914",
     "status": "completed"
    },
    "tags": []
   },
   "outputs": [
    {
     "data": {
      "text/plain": [
       "Text(0.5, 1.0, 'XGBoost feature importances')"
      ]
     },
     "execution_count": 11,
     "metadata": {},
     "output_type": "execute_result"
    },
    {
     "data": {
      "image/png": "[encoded data removed]",
      "text/plain": [
       "<Figure size 1152x1152 with 1 Axes>"
      ]
     },
     "metadata": {
      "needs_background": "light"
     },
     "output_type": "display_data"
    }
   ],
   "source": [
    "order = list(xgb_importances.groupby('feature').mean().sort_values('importance', ascending=False).index)\n",
    "\n",
    "fig = plt.figure(figsize=(16, 16), tight_layout=True)\n",
    "sns.barplot(x=\"importance\", y=\"feature\", data=xgb_importances.groupby('feature').mean().reset_index(), order=order)\n",
    "plt.title(\"XGBoost feature importances\")"
   ]
  },
  {
   "cell_type": "markdown",
   "id": "2294ba10",
   "metadata": {
    "papermill": {
     "duration": 0.054228,
     "end_time": "2021-08-27T15:04:38.364048",
     "exception": false,
     "start_time": "2021-08-27T15:04:38.309820",
     "status": "completed"
    },
    "tags": []
   },
   "source": [
    "# Submission"
   ]
  },
  {
   "cell_type": "code",
   "execution_count": 12,
   "id": "9a516a1f",
   "metadata": {
    "execution": {
     "iopub.execute_input": "2021-08-27T15:04:38.478011Z",
     "iopub.status.busy": "2021-08-27T15:04:38.477411Z",
     "iopub.status.idle": "2021-08-27T15:04:38.949264Z",
     "shell.execute_reply": "2021-08-27T15:04:38.948595Z"
    },
    "papermill": {
     "duration": 0.530663,
     "end_time": "2021-08-27T15:04:38.949405",
     "exception": false,
     "start_time": "2021-08-27T15:04:38.418742",
     "status": "completed"
    },
    "tags": []
   },
   "outputs": [
    {
     "data": {
      "text/html": [
       "<div>\n",
       "<style scoped>\n",
       "    .dataframe tbody tr th:only-of-type {\n",
       "        vertical-align: middle;\n",
       "    }\n",
       "\n",
       "    .dataframe tbody tr th {\n",
       "        vertical-align: top;\n",
       "    }\n",
       "\n",
       "    .dataframe thead th {\n",
       "        text-align: right;\n",
       "    }\n",
       "</style>\n",
       "<table border=\"1\" class=\"dataframe\">\n",
       "  <thead>\n",
       "    <tr style=\"text-align: right;\">\n",
       "      <th></th>\n",
       "      <th>id</th>\n",
       "      <th>loss</th>\n",
       "    </tr>\n",
       "  </thead>\n",
       "  <tbody>\n",
       "    <tr>\n",
       "      <th>0</th>\n",
       "      <td>250000</td>\n",
       "      <td>0.000000</td>\n",
       "    </tr>\n",
       "    <tr>\n",
       "      <th>1</th>\n",
       "      <td>250001</td>\n",
       "      <td>5.557122</td>\n",
       "    </tr>\n",
       "    <tr>\n",
       "      <th>2</th>\n",
       "      <td>250002</td>\n",
       "      <td>0.000000</td>\n",
       "    </tr>\n",
       "    <tr>\n",
       "      <th>3</th>\n",
       "      <td>250003</td>\n",
       "      <td>0.000000</td>\n",
       "    </tr>\n",
       "    <tr>\n",
       "      <th>4</th>\n",
       "      <td>250004</td>\n",
       "      <td>0.000000</td>\n",
       "    </tr>\n",
       "    <tr>\n",
       "      <th>...</th>\n",
       "      <td>...</td>\n",
       "      <td>...</td>\n",
       "    </tr>\n",
       "    <tr>\n",
       "      <th>149995</th>\n",
       "      <td>399995</td>\n",
       "      <td>0.000000</td>\n",
       "    </tr>\n",
       "    <tr>\n",
       "      <th>149996</th>\n",
       "      <td>399996</td>\n",
       "      <td>0.000000</td>\n",
       "    </tr>\n",
       "    <tr>\n",
       "      <th>149997</th>\n",
       "      <td>399997</td>\n",
       "      <td>0.000000</td>\n",
       "    </tr>\n",
       "    <tr>\n",
       "      <th>149998</th>\n",
       "      <td>399998</td>\n",
       "      <td>0.000000</td>\n",
       "    </tr>\n",
       "    <tr>\n",
       "      <th>149999</th>\n",
       "      <td>399999</td>\n",
       "      <td>6.232424</td>\n",
       "    </tr>\n",
       "  </tbody>\n",
       "</table>\n",
       "<p>150000 rows × 2 columns</p>\n",
       "</div>"
      ],
      "text/plain": [
       "            id      loss\n",
       "0       250000  0.000000\n",
       "1       250001  5.557122\n",
       "2       250002  0.000000\n",
       "3       250003  0.000000\n",
       "4       250004  0.000000\n",
       "...        ...       ...\n",
       "149995  399995  0.000000\n",
       "149996  399996  0.000000\n",
       "149997  399997  0.000000\n",
       "149998  399998  0.000000\n",
       "149999  399999  6.232424\n",
       "\n",
       "[150000 rows x 2 columns]"
      ]
     },
     "execution_count": 12,
     "metadata": {},
     "output_type": "execute_result"
    }
   ],
   "source": [
    "submission[target] = xgb_pred\n",
    "submission.to_csv(\"submission.csv\", index=False)\n",
    "\n",
    "submission"
   ]
  },
  {
   "cell_type": "markdown",
   "id": "b63627db",
   "metadata": {
    "papermill": {
     "duration": 0.055633,
     "end_time": "2021-08-27T15:04:39.062057",
     "exception": false,
     "start_time": "2021-08-27T15:04:39.006424",
     "status": "completed"
    },
    "tags": []
   },
   "source": [
    "# Log"
   ]
  },
  {
   "cell_type": "markdown",
   "id": "15e79d31",
   "metadata": {
    "papermill": {
     "duration": 0.056427,
     "end_time": "2021-08-27T15:04:39.174086",
     "exception": false,
     "start_time": "2021-08-27T15:04:39.117659",
     "status": "completed"
    },
    "tags": []
   },
   "source": [
    "ver3 fold 0-4\n",
    "\n",
    "ver4 fold 5-9"
   ]
  }
 ],
 "metadata": {
  "kernelspec": {
   "display_name": "Python 3",
   "language": "python",
   "name": "python3"
  },
  "language_info": {
   "codemirror_mode": {
    "name": "ipython",
    "version": 3
   },
   "file_extension": ".py",
   "mimetype": "text/x-python",
   "name": "python",
   "nbconvert_exporter": "python",
   "pygments_lexer": "ipython3",
   "version": "3.7.10"
  },
  "papermill": {
   "default_parameters": {},
   "duration": 19976.515682,
   "end_time": "2021-08-27T15:04:40.918114",
   "environment_variables": {},
   "exception": null,
   "input_path": "__notebook__.ipynb",
   "output_path": "__notebook__.ipynb",
   "parameters": {},
   "start_time": "2021-08-27T09:31:44.402432",
   "version": "2.3.3"
  }
 },
 "nbformat": 4,
 "nbformat_minor": 5
}
