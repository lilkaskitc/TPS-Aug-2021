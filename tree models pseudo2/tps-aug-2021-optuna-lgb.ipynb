{
 "cells": [
  {
   "cell_type": "code",
   "execution_count": 1,
   "id": "01252602",
   "metadata": {
    "_cell_guid": "b1076dfc-b9ad-4769-8c92-a6c4dae69d19",
    "_uuid": "8f2839f25d086af736a60e9eeb907d3b93b6e0e5",
    "execution": {
     "iopub.execute_input": "2021-08-26T07:26:05.876719Z",
     "iopub.status.busy": "2021-08-26T07:26:05.876023Z",
     "iopub.status.idle": "2021-08-26T07:26:07.845777Z",
     "shell.execute_reply": "2021-08-26T07:26:07.845002Z",
     "shell.execute_reply.started": "2021-08-18T14:44:33.479152Z"
    },
    "papermill": {
     "duration": 1.991174,
     "end_time": "2021-08-26T07:26:07.845931",
     "exception": false,
     "start_time": "2021-08-26T07:26:05.854757",
     "status": "completed"
    },
    "tags": []
   },
   "outputs": [
    {
     "data": {
      "text/html": [
       "<style type='text/css'>\n",
       ".datatable table.frame { margin-bottom: 0; }\n",
       ".datatable table.frame thead { border-bottom: none; }\n",
       ".datatable table.frame tr.coltypes td {  color: #FFFFFF;  line-height: 6px;  padding: 0 0.5em;}\n",
       ".datatable .bool    { background: #DDDD99; }\n",
       ".datatable .object  { background: #565656; }\n",
       ".datatable .int     { background: #5D9E5D; }\n",
       ".datatable .float   { background: #4040CC; }\n",
       ".datatable .str     { background: #CC4040; }\n",
       ".datatable .time    { background: #40CC40; }\n",
       ".datatable .row_index {  background: var(--jp-border-color3);  border-right: 1px solid var(--jp-border-color0);  color: var(--jp-ui-font-color3);  font-size: 9px;}\n",
       ".datatable .frame tbody td { text-align: left; }\n",
       ".datatable .frame tr.coltypes .row_index {  background: var(--jp-border-color0);}\n",
       ".datatable th:nth-child(2) { padding-left: 12px; }\n",
       ".datatable .hellipsis {  color: var(--jp-cell-editor-border-color);}\n",
       ".datatable .vellipsis {  background: var(--jp-layout-color0);  color: var(--jp-cell-editor-border-color);}\n",
       ".datatable .na {  color: var(--jp-cell-editor-border-color);  font-size: 80%;}\n",
       ".datatable .sp {  opacity: 0.25;}\n",
       ".datatable .footer { font-size: 9px; }\n",
       ".datatable .frame_dimensions {  background: var(--jp-border-color3);  border-top: 1px solid var(--jp-border-color0);  color: var(--jp-ui-font-color3);  display: inline-block;  opacity: 0.6;  padding: 1px 10px 1px 5px;}\n",
       "</style>\n"
      ],
      "text/plain": [
       "<IPython.core.display.HTML object>"
      ]
     },
     "metadata": {},
     "output_type": "display_data"
    }
   ],
   "source": [
    "# Familiar imports\n",
    "import numpy as np\n",
    "import pandas as pd\n",
    "import random\n",
    "import os\n",
    "import time\n",
    "from pathlib import Path\n",
    "\n",
    "from sklearn.preprocessing import StandardScaler\n",
    "from sklearn.model_selection import KFold, train_test_split\n",
    "from sklearn.metrics import mean_squared_error\n",
    "\n",
    "import lightgbm as lgb\n",
    "#import xgboost as xgb\n",
    "#import catboost as ctb\n",
    "\n",
    "import warnings\n",
    "warnings.simplefilter('ignore')"
   ]
  },
  {
   "cell_type": "markdown",
   "id": "92750676",
   "metadata": {
    "papermill": {
     "duration": 0.010011,
     "end_time": "2021-08-26T07:26:07.867726",
     "exception": false,
     "start_time": "2021-08-26T07:26:07.857715",
     "status": "completed"
    },
    "tags": []
   },
   "source": [
    "# Parameters"
   ]
  },
  {
   "cell_type": "code",
   "execution_count": 2,
   "id": "a495989a",
   "metadata": {
    "execution": {
     "iopub.execute_input": "2021-08-26T07:26:07.893731Z",
     "iopub.status.busy": "2021-08-26T07:26:07.893136Z",
     "iopub.status.idle": "2021-08-26T07:26:07.895874Z",
     "shell.execute_reply": "2021-08-26T07:26:07.895434Z",
     "shell.execute_reply.started": "2021-08-18T14:40:37.313957Z"
    },
    "papermill": {
     "duration": 0.017951,
     "end_time": "2021-08-26T07:26:07.896046",
     "exception": false,
     "start_time": "2021-08-26T07:26:07.878095",
     "status": "completed"
    },
    "tags": []
   },
   "outputs": [],
   "source": [
    "target = 'loss'\n",
    "\n",
    "DEBUG = False\n",
    "\n",
    "if DEBUG:\n",
    "    N_ESTIMATORS = 1\n",
    "    N_SPLITS = 2\n",
    "    SEED = 17\n",
    "    CVSEED = 17\n",
    "    EARLY_STOPPING_ROUNDS = 1\n",
    "    VERBOSE = 100\n",
    "    #N_ITERS = 2\n",
    "else:\n",
    "    N_SPLITS = 10\n",
    "    N_ESTIMATORS = 10000\n",
    "    EARLY_STOPPING_ROUNDS = 200\n",
    "    VERBOSE = 1000\n",
    "    SEED = 17\n",
    "    CVSEED = 17\n",
    "    #N_ITERS = 10"
   ]
  },
  {
   "cell_type": "code",
   "execution_count": 3,
   "id": "d64c11b6",
   "metadata": {
    "execution": {
     "iopub.execute_input": "2021-08-26T07:26:07.921507Z",
     "iopub.status.busy": "2021-08-26T07:26:07.920907Z",
     "iopub.status.idle": "2021-08-26T07:26:07.924041Z",
     "shell.execute_reply": "2021-08-26T07:26:07.923498Z",
     "shell.execute_reply.started": "2021-08-18T14:40:37.330793Z"
    },
    "papermill": {
     "duration": 0.017757,
     "end_time": "2021-08-26T07:26:07.924192",
     "exception": false,
     "start_time": "2021-08-26T07:26:07.906435",
     "status": "completed"
    },
    "tags": []
   },
   "outputs": [],
   "source": [
    "def set_seed(seed=17):\n",
    "    random.seed(seed)\n",
    "    os.environ['PYTHONHASHSEED'] = str(seed)\n",
    "    np.random.seed(seed)\n",
    "    \n",
    "set_seed(SEED)"
   ]
  },
  {
   "cell_type": "markdown",
   "id": "24cfbded",
   "metadata": {
    "papermill": {
     "duration": 0.009801,
     "end_time": "2021-08-26T07:26:07.944438",
     "exception": false,
     "start_time": "2021-08-26T07:26:07.934637",
     "status": "completed"
    },
    "tags": []
   },
   "source": [
    "# Load data"
   ]
  },
  {
   "cell_type": "code",
   "execution_count": 4,
   "id": "69453c71",
   "metadata": {
    "execution": {
     "iopub.execute_input": "2021-08-26T07:26:07.969478Z",
     "iopub.status.busy": "2021-08-26T07:26:07.968890Z",
     "iopub.status.idle": "2021-08-26T07:26:17.475023Z",
     "shell.execute_reply": "2021-08-26T07:26:17.474431Z",
     "shell.execute_reply.started": "2021-08-18T14:40:37.3485Z"
    },
    "papermill": {
     "duration": 9.520625,
     "end_time": "2021-08-26T07:26:17.475162",
     "exception": false,
     "start_time": "2021-08-26T07:26:07.954537",
     "status": "completed"
    },
    "tags": []
   },
   "outputs": [],
   "source": [
    "INPUT = Path(\"../input/tabular-playground-series-aug-2021\")\n",
    "\n",
    "train = pd.read_csv(INPUT / \"train.csv\")\n",
    "test = pd.read_csv(INPUT / \"test.csv\")\n",
    "submission = pd.read_csv(INPUT / \"sample_submission.csv\")"
   ]
  },
  {
   "cell_type": "markdown",
   "id": "65403095",
   "metadata": {
    "papermill": {
     "duration": 0.009751,
     "end_time": "2021-08-26T07:26:17.495104",
     "exception": false,
     "start_time": "2021-08-26T07:26:17.485353",
     "status": "completed"
    },
    "tags": []
   },
   "source": [
    "# Preprocessing"
   ]
  },
  {
   "cell_type": "code",
   "execution_count": 5,
   "id": "0052844b",
   "metadata": {
    "execution": {
     "iopub.execute_input": "2021-08-26T07:26:17.517482Z",
     "iopub.status.busy": "2021-08-26T07:26:17.516951Z",
     "iopub.status.idle": "2021-08-26T07:26:24.467734Z",
     "shell.execute_reply": "2021-08-26T07:26:24.467165Z",
     "shell.execute_reply.started": "2021-08-18T14:40:45.023677Z"
    },
    "papermill": {
     "duration": 6.96292,
     "end_time": "2021-08-26T07:26:24.467891",
     "exception": false,
     "start_time": "2021-08-26T07:26:17.504971",
     "status": "completed"
    },
    "tags": []
   },
   "outputs": [],
   "source": [
    "scale_features = [col for col in test.columns if 'f' in col]\n",
    "\n",
    "ss = StandardScaler()\n",
    "train[scale_features] = ss.fit_transform(train[scale_features])\n",
    "test[scale_features] = ss.transform(test[scale_features])"
   ]
  },
  {
   "cell_type": "code",
   "execution_count": 6,
   "id": "70eafdc7",
   "metadata": {
    "execution": {
     "iopub.execute_input": "2021-08-26T07:26:24.495891Z",
     "iopub.status.busy": "2021-08-26T07:26:24.495267Z",
     "iopub.status.idle": "2021-08-26T07:26:24.498110Z",
     "shell.execute_reply": "2021-08-26T07:26:24.497641Z",
     "shell.execute_reply.started": "2021-08-18T14:40:56.835238Z"
    },
    "papermill": {
     "duration": 0.019757,
     "end_time": "2021-08-26T07:26:24.498252",
     "exception": false,
     "start_time": "2021-08-26T07:26:24.478495",
     "status": "completed"
    },
    "tags": []
   },
   "outputs": [],
   "source": [
    "# Swap noise\n",
    "\n",
    "# Random\n",
    "def apply_noise_rn(df, p=.75):\n",
    "    should_not_swap = np.random.binomial(1, p, df.shape)\n",
    "    corrupted_df = df.where(should_not_swap == 1, np.random.permutation(df))\n",
    "    return corrupted_df\n",
    "\n",
    "# Row-wise\n",
    "def apply_noise_row(df, p=.75):\n",
    "    should_not_swap = np.zeros(df.shape)\n",
    "    for i in range(df.shape[0]):\n",
    "        for j in np.random.choice(df.shape[1],int(p*df.shape[1]),replace=False):\n",
    "            should_not_swap[i,j]=1 \n",
    "    corrupted_df = df.where(should_not_swap == 1, np.random.permutation(df))\n",
    "    return corrupted_df"
   ]
  },
  {
   "cell_type": "markdown",
   "id": "4cadf047",
   "metadata": {
    "papermill": {
     "duration": 0.009773,
     "end_time": "2021-08-26T07:26:24.518425",
     "exception": false,
     "start_time": "2021-08-26T07:26:24.508652",
     "status": "completed"
    },
    "tags": []
   },
   "source": [
    "# Pseudo Label"
   ]
  },
  {
   "cell_type": "code",
   "execution_count": 7,
   "id": "a1dc0a79",
   "metadata": {
    "execution": {
     "iopub.execute_input": "2021-08-26T07:26:24.543980Z",
     "iopub.status.busy": "2021-08-26T07:26:24.543373Z",
     "iopub.status.idle": "2021-08-26T07:26:25.231420Z",
     "shell.execute_reply": "2021-08-26T07:26:25.230900Z",
     "shell.execute_reply.started": "2021-08-18T14:40:56.845442Z"
    },
    "papermill": {
     "duration": 0.702832,
     "end_time": "2021-08-26T07:26:25.231559",
     "exception": false,
     "start_time": "2021-08-26T07:26:24.528727",
     "status": "completed"
    },
    "tags": []
   },
   "outputs": [],
   "source": [
    "pseudo = pd.read_csv(\"../input/in-python-tabular-denoising-residual-network/submission_v2.csv\")[target]\n",
    "test_pseudo = pd.concat([test, pseudo], axis=1)\n",
    "all_pseudo = pd.concat([train, test_pseudo]).reset_index(drop=True)"
   ]
  },
  {
   "cell_type": "markdown",
   "id": "91477e91",
   "metadata": {
    "papermill": {
     "duration": 0.010161,
     "end_time": "2021-08-26T07:26:25.252052",
     "exception": false,
     "start_time": "2021-08-26T07:26:25.241891",
     "status": "completed"
    },
    "tags": []
   },
   "source": [
    "# Optuna"
   ]
  },
  {
   "cell_type": "code",
   "execution_count": 8,
   "id": "cacd0d1f",
   "metadata": {
    "execution": {
     "iopub.execute_input": "2021-08-26T07:26:25.277815Z",
     "iopub.status.busy": "2021-08-26T07:26:25.276914Z",
     "iopub.status.idle": "2021-08-26T07:26:33.525936Z",
     "shell.execute_reply": "2021-08-26T07:26:33.525400Z",
     "shell.execute_reply.started": "2021-08-18T14:40:57.500967Z"
    },
    "papermill": {
     "duration": 8.263528,
     "end_time": "2021-08-26T07:26:33.526089",
     "exception": false,
     "start_time": "2021-08-26T07:26:25.262561",
     "status": "completed"
    },
    "tags": []
   },
   "outputs": [
    {
     "name": "stdout",
     "output_type": "stream",
     "text": [
      "\u001b[33mWARNING: Running pip as root will break packages and permissions. You should install packages reliably by using venv: https://pip.pypa.io/warnings/venv\u001b[0m\r\n"
     ]
    }
   ],
   "source": [
    "# Optuna for parameter search\n",
    "!pip install -q optuna\n",
    "\n",
    "import optuna\n",
    "import pickle"
   ]
  },
  {
   "cell_type": "code",
   "execution_count": 9,
   "id": "60501f3e",
   "metadata": {
    "execution": {
     "iopub.execute_input": "2021-08-26T07:26:33.561937Z",
     "iopub.status.busy": "2021-08-26T07:26:33.560484Z",
     "iopub.status.idle": "2021-08-26T07:26:33.877389Z",
     "shell.execute_reply": "2021-08-26T07:26:33.876842Z",
     "shell.execute_reply.started": "2021-08-18T14:59:14.912624Z"
    },
    "papermill": {
     "duration": 0.340811,
     "end_time": "2021-08-26T07:26:33.877521",
     "exception": false,
     "start_time": "2021-08-26T07:26:33.536710",
     "status": "completed"
    },
    "tags": []
   },
   "outputs": [],
   "source": [
    "# for the fixed learning rate, use the opt n iterations and tune the tree hyperparameters\n",
    "def objective(trial, X=all_pseudo[scale_features], y=all_pseudo[target]):\n",
    "  \"\"\"\n",
    "  \"\"\"\n",
    "  param_space = {\n",
    "                   'objective': 'regression',\n",
    "              'metric':'rmse',\n",
    "               #'device':'gpu',  # Use GPU acceleration\n",
    "               # 'gpu_platform_id': 0,\n",
    "                #    'gpu_device_id': 0,\n",
    "               'n_estimators':N_ESTIMATORS,\n",
    "              'learning_rate':trial.suggest_uniform('learning_rate', 1e-3, 3.7e-2),\n",
    "               'subsample': trial.suggest_uniform('subsample', 0.658, 0.858),\n",
    "              'colsample_bytree':trial.suggest_uniform('colsample_bytree', 0.26, 0.46),\n",
    "                'subsample_freq': trial.suggest_int('subsample_freq', 8, 10),\n",
    "             #'boosting_type': 'gbdt',\n",
    "               'reg_lambda':trial.suggest_uniform('reg_lambda', 41.8, 53.8),\n",
    "              'reg_alpha':trial.suggest_uniform('reg_alpha', 31.4, 43.4),\n",
    "            'min_child_weight':trial.suggest_uniform('min_child_weight', 184, 284),\n",
    "                 'min_child_samples':trial.suggest_int('min_child_samples', 52, 76),\n",
    "          'importance_type': 'gain'\n",
    "             # 'num_leaves':trial.suggest_int('num_leaves', 10, 200),\n",
    "              #'max_depth':trial.suggest_int('max_depth', 5, 50),\n",
    "              #'min_split_gain': trial.suggest_float('min_split_gain', 0.0, 0.005),\n",
    "              #'class_weight':trial.suggest_categorical('class_weight',['balanced',None]),\n",
    "              # 'n_jobs' : -1,\n",
    "                #'max_bin':trial.suggest_int('max_bin', 300, 1000),\n",
    "              #'cat_smooth':trial.suggest_int('cat_smooth', 5, 100),\n",
    "              #'cat_l2':trial.suggest_loguniform('cat_l2', 1e-3, 100)\n",
    "                }\n",
    "            \n",
    "\n",
    "  seed_list=[SEED, SEED+1]\n",
    "  #kf = KFold(n_splits=N_SPLITS, shuffle=True, random_state=CVSEED)\n",
    "  lgb_oof = np.zeros(train.shape[0])\n",
    "  #lgb_pred = np.zeros(test.shape[0])\n",
    "  X_tr, X_va, y_tr, y_va = train_test_split(X,y,test_size=.2,random_state=CVSEED)\n",
    "  trn_idx = X_tr.index\n",
    "  val_idx = X_va.index\n",
    "  \n",
    "  \n",
    "  #for (trn_idx, val_idx) in enumerate(kf.split(X, y)):\n",
    "  #print(f\"===== fold {fold} =====\")\n",
    "  oof_idx = np.array([idx for idx in val_idx if idx < train.shape[0]])\n",
    "  preds_idx = np.array([idx for idx in val_idx if idx >= train.shape[0]])\n",
    "\n",
    "  X_train, y_train = all_pseudo[scale_features].iloc[trn_idx], all_pseudo[target].iloc[trn_idx]\n",
    "  #X_train = apply_noise_rn(X_train)\n",
    "\n",
    "  X_valid, y_valid = all_pseudo[scale_features].iloc[oof_idx], all_pseudo[target].iloc[oof_idx]\n",
    "  #X_test = all_pseudo[scale_features].iloc[preds_idx]\n",
    "\n",
    "  #start = time.time()\n",
    "  for inseed in seed_list:\n",
    "    param_space['random_state'] = inseed\n",
    "\n",
    "    model = lgb.LGBMRegressor(**param_space)\n",
    "    model.fit(\n",
    "        X_train, \n",
    "        y_train,\n",
    "        eval_set=[(X_valid, y_valid)],\n",
    "        eval_metric='rmse',\n",
    "        early_stopping_rounds=EARLY_STOPPING_ROUNDS,\n",
    "        verbose=VERBOSE,\n",
    "    )\n",
    "\n",
    "\n",
    "    lgb_oof[oof_idx] += model.predict(X_valid) / len(seed_list)\n",
    "    #lgb_pred[preds_idx-train.shape[0]] += model.predict(X_test) / len(seed_list)\n",
    "\n",
    "  #elapsed = time.time() - start\n",
    "  rmse = mean_squared_error(y_valid, lgb_oof[oof_idx], squared=False)\n",
    "  #print(f\"fold {fold} - lgb rmse: {rmse:.6f}, elapsed time: {elapsed:.2f}sec\\n\")            \n",
    "  \n",
    "  #print(f\"oof lgb_rmse = {mean_squared_error(train[target], lgb_oof, squared=False)}\")\n",
    "\n",
    "  \n",
    "  return rmse"
   ]
  },
  {
   "cell_type": "code",
   "execution_count": 10,
   "id": "f8b71950",
   "metadata": {
    "execution": {
     "iopub.execute_input": "2021-08-26T07:26:33.904189Z",
     "iopub.status.busy": "2021-08-26T07:26:33.903372Z",
     "iopub.status.idle": "2021-08-26T10:06:26.617223Z",
     "shell.execute_reply": "2021-08-26T10:06:26.617786Z",
     "shell.execute_reply.started": "2021-08-18T14:59:15.138147Z"
    },
    "papermill": {
     "duration": 9592.729836,
     "end_time": "2021-08-26T10:06:26.618057",
     "exception": false,
     "start_time": "2021-08-26T07:26:33.888221",
     "status": "completed"
    },
    "tags": []
   },
   "outputs": [
    {
     "name": "stderr",
     "output_type": "stream",
     "text": [
      "\u001b[32m[I 2021-08-26 07:26:33,901]\u001b[0m A new study created in memory with name: no-name-80bdb0a9-b694-47f4-96a7-5f9700717b95\u001b[0m\n"
     ]
    },
    {
     "name": "stdout",
     "output_type": "stream",
     "text": [
      "Training until validation scores don't improve for 200 rounds\n",
      "[1000]\tvalid_0's rmse: 7.8063\n",
      "[2000]\tvalid_0's rmse: 7.78609\n",
      "[3000]\tvalid_0's rmse: 7.77512\n",
      "[4000]\tvalid_0's rmse: 7.76901\n",
      "[5000]\tvalid_0's rmse: 7.76484\n",
      "[6000]\tvalid_0's rmse: 7.76212\n",
      "[7000]\tvalid_0's rmse: 7.7602\n",
      "[8000]\tvalid_0's rmse: 7.75892\n",
      "[9000]\tvalid_0's rmse: 7.75797\n",
      "[10000]\tvalid_0's rmse: 7.75719\n",
      "Did not meet early stopping. Best iteration is:\n",
      "[9927]\tvalid_0's rmse: 7.75718\n",
      "Training until validation scores don't improve for 200 rounds\n",
      "[1000]\tvalid_0's rmse: 7.80626\n",
      "[2000]\tvalid_0's rmse: 7.78612\n",
      "[3000]\tvalid_0's rmse: 7.77535\n",
      "[4000]\tvalid_0's rmse: 7.76923\n",
      "[5000]\tvalid_0's rmse: 7.76546\n",
      "[6000]\tvalid_0's rmse: 7.763\n",
      "[7000]\tvalid_0's rmse: 7.76131\n",
      "[8000]\tvalid_0's rmse: 7.75986\n",
      "[9000]\tvalid_0's rmse: 7.75853\n",
      "[10000]\tvalid_0's rmse: 7.75755\n",
      "Did not meet early stopping. Best iteration is:\n",
      "[9991]\tvalid_0's rmse: 7.75754\n"
     ]
    },
    {
     "name": "stderr",
     "output_type": "stream",
     "text": [
      "\u001b[32m[I 2021-08-26 07:38:43,872]\u001b[0m Trial 0 finished with value: 7.757083842061544 and parameters: {'learning_rate': 0.0035512771785121597, 'subsample': 0.6762437106345379, 'colsample_bytree': 0.41395165351059676, 'subsample_freq': 9, 'reg_lambda': 47.4344602752043, 'reg_alpha': 32.609775659322544, 'min_child_weight': 256.67979686052695, 'min_child_samples': 64}. Best is trial 0 with value: 7.757083842061544.\u001b[0m\n"
     ]
    },
    {
     "name": "stdout",
     "output_type": "stream",
     "text": [
      "Training until validation scores don't improve for 200 rounds\n",
      "[1000]\tvalid_0's rmse: 7.76078\n",
      "[2000]\tvalid_0's rmse: 7.75893\n",
      "Early stopping, best iteration is:\n",
      "[1811]\tvalid_0's rmse: 7.75811\n",
      "Training until validation scores don't improve for 200 rounds\n",
      "[1000]\tvalid_0's rmse: 7.7619\n",
      "[2000]\tvalid_0's rmse: 7.75841\n",
      "Early stopping, best iteration is:\n",
      "[2158]\tvalid_0's rmse: 7.75763\n"
     ]
    },
    {
     "name": "stderr",
     "output_type": "stream",
     "text": [
      "\u001b[32m[I 2021-08-26 07:40:59,853]\u001b[0m Trial 1 finished with value: 7.75564091361693 and parameters: {'learning_rate': 0.030938760763348557, 'subsample': 0.8555570725689887, 'colsample_bytree': 0.3347722753422703, 'subsample_freq': 10, 'reg_lambda': 46.844649499072474, 'reg_alpha': 39.27755465958918, 'min_child_weight': 269.0218118597671, 'min_child_samples': 67}. Best is trial 1 with value: 7.75564091361693.\u001b[0m\n"
     ]
    },
    {
     "name": "stdout",
     "output_type": "stream",
     "text": [
      "Training until validation scores don't improve for 200 rounds\n",
      "[1000]\tvalid_0's rmse: 7.77367\n",
      "[2000]\tvalid_0's rmse: 7.76187\n",
      "[3000]\tvalid_0's rmse: 7.75849\n",
      "[4000]\tvalid_0's rmse: 7.75618\n",
      "[5000]\tvalid_0's rmse: 7.75429\n",
      "[6000]\tvalid_0's rmse: 7.75338\n",
      "Early stopping, best iteration is:\n",
      "[6212]\tvalid_0's rmse: 7.75316\n",
      "Training until validation scores don't improve for 200 rounds\n",
      "[1000]\tvalid_0's rmse: 7.77396\n",
      "[2000]\tvalid_0's rmse: 7.76269\n",
      "[3000]\tvalid_0's rmse: 7.75922\n",
      "[4000]\tvalid_0's rmse: 7.75782\n",
      "[5000]\tvalid_0's rmse: 7.75637\n",
      "[6000]\tvalid_0's rmse: 7.75525\n",
      "Early stopping, best iteration is:\n",
      "[6012]\tvalid_0's rmse: 7.75518\n"
     ]
    },
    {
     "name": "stderr",
     "output_type": "stream",
     "text": [
      "\u001b[32m[I 2021-08-26 07:47:01,065]\u001b[0m Trial 2 finished with value: 7.752813583061048 and parameters: {'learning_rate': 0.011904290609323721, 'subsample': 0.675450296944347, 'colsample_bytree': 0.3615539781746684, 'subsample_freq': 10, 'reg_lambda': 45.61709088154227, 'reg_alpha': 32.94507746765152, 'min_child_weight': 214.21654886678294, 'min_child_samples': 53}. Best is trial 2 with value: 7.752813583061048.\u001b[0m\n"
     ]
    },
    {
     "name": "stdout",
     "output_type": "stream",
     "text": [
      "Training until validation scores don't improve for 200 rounds\n",
      "[1000]\tvalid_0's rmse: 7.76756\n",
      "[2000]\tvalid_0's rmse: 7.76037\n",
      "[3000]\tvalid_0's rmse: 7.75854\n",
      "[4000]\tvalid_0's rmse: 7.75698\n",
      "Early stopping, best iteration is:\n",
      "[4656]\tvalid_0's rmse: 7.75594\n",
      "Training until validation scores don't improve for 200 rounds\n",
      "[1000]\tvalid_0's rmse: 7.76709\n",
      "[2000]\tvalid_0's rmse: 7.76047\n",
      "[3000]\tvalid_0's rmse: 7.7571\n",
      "Early stopping, best iteration is:\n",
      "[3604]\tvalid_0's rmse: 7.75586\n"
     ]
    },
    {
     "name": "stderr",
     "output_type": "stream",
     "text": [
      "\u001b[32m[I 2021-08-26 07:50:58,019]\u001b[0m Trial 3 finished with value: 7.754261676435461 and parameters: {'learning_rate': 0.017594053647531666, 'subsample': 0.7903432905183447, 'colsample_bytree': 0.3050385881863886, 'subsample_freq': 9, 'reg_lambda': 45.90068558840974, 'reg_alpha': 33.658823727375626, 'min_child_weight': 231.2768701220788, 'min_child_samples': 76}. Best is trial 2 with value: 7.752813583061048.\u001b[0m\n"
     ]
    },
    {
     "name": "stdout",
     "output_type": "stream",
     "text": [
      "Training until validation scores don't improve for 200 rounds\n",
      "[1000]\tvalid_0's rmse: 7.80542\n",
      "[2000]\tvalid_0's rmse: 7.7851\n",
      "[3000]\tvalid_0's rmse: 7.77434\n",
      "[4000]\tvalid_0's rmse: 7.76814\n",
      "[5000]\tvalid_0's rmse: 7.76444\n",
      "[6000]\tvalid_0's rmse: 7.76217\n",
      "[7000]\tvalid_0's rmse: 7.76065\n",
      "[8000]\tvalid_0's rmse: 7.75947\n",
      "[9000]\tvalid_0's rmse: 7.75841\n",
      "[10000]\tvalid_0's rmse: 7.75765\n",
      "Did not meet early stopping. Best iteration is:\n",
      "[9998]\tvalid_0's rmse: 7.75765\n",
      "Training until validation scores don't improve for 200 rounds\n",
      "[1000]\tvalid_0's rmse: 7.80538\n",
      "[2000]\tvalid_0's rmse: 7.78523\n",
      "[3000]\tvalid_0's rmse: 7.77441\n",
      "[4000]\tvalid_0's rmse: 7.7684\n",
      "[5000]\tvalid_0's rmse: 7.7648\n",
      "[6000]\tvalid_0's rmse: 7.76242\n",
      "[7000]\tvalid_0's rmse: 7.76084\n",
      "[8000]\tvalid_0's rmse: 7.75968\n",
      "[9000]\tvalid_0's rmse: 7.75876\n",
      "[10000]\tvalid_0's rmse: 7.7579\n",
      "Did not meet early stopping. Best iteration is:\n",
      "[10000]\tvalid_0's rmse: 7.7579\n"
     ]
    },
    {
     "name": "stderr",
     "output_type": "stream",
     "text": [
      "\u001b[32m[I 2021-08-26 08:02:08,168]\u001b[0m Trial 4 finished with value: 7.757516990074931 and parameters: {'learning_rate': 0.0038639858131655942, 'subsample': 0.8461011514316622, 'colsample_bytree': 0.3264326725690144, 'subsample_freq': 8, 'reg_lambda': 44.535648841027474, 'reg_alpha': 33.04827825494115, 'min_child_weight': 273.8374159017998, 'min_child_samples': 66}. Best is trial 2 with value: 7.752813583061048.\u001b[0m\n"
     ]
    },
    {
     "name": "stdout",
     "output_type": "stream",
     "text": [
      "Training until validation scores don't improve for 200 rounds\n",
      "[1000]\tvalid_0's rmse: 7.77321\n",
      "[2000]\tvalid_0's rmse: 7.76197\n",
      "[3000]\tvalid_0's rmse: 7.75846\n",
      "[4000]\tvalid_0's rmse: 7.75613\n",
      "Early stopping, best iteration is:\n",
      "[4663]\tvalid_0's rmse: 7.75486\n",
      "Training until validation scores don't improve for 200 rounds\n",
      "[1000]\tvalid_0's rmse: 7.77429\n",
      "[2000]\tvalid_0's rmse: 7.76281\n",
      "[3000]\tvalid_0's rmse: 7.75886\n",
      "[4000]\tvalid_0's rmse: 7.75685\n",
      "[5000]\tvalid_0's rmse: 7.75577\n",
      "[6000]\tvalid_0's rmse: 7.75435\n",
      "Early stopping, best iteration is:\n",
      "[6577]\tvalid_0's rmse: 7.75406\n"
     ]
    },
    {
     "name": "stderr",
     "output_type": "stream",
     "text": [
      "\u001b[32m[I 2021-08-26 08:07:51,371]\u001b[0m Trial 5 finished with value: 7.753157766590334 and parameters: {'learning_rate': 0.011917243725984208, 'subsample': 0.6979038779272512, 'colsample_bytree': 0.34977853573455525, 'subsample_freq': 10, 'reg_lambda': 50.02499992518307, 'reg_alpha': 38.58568864979166, 'min_child_weight': 257.45111522064826, 'min_child_samples': 52}. Best is trial 2 with value: 7.752813583061048.\u001b[0m\n"
     ]
    },
    {
     "name": "stdout",
     "output_type": "stream",
     "text": [
      "Training until validation scores don't improve for 200 rounds\n",
      "[1000]\tvalid_0's rmse: 7.76225\n",
      "[2000]\tvalid_0's rmse: 7.75765\n",
      "Early stopping, best iteration is:\n",
      "[2560]\tvalid_0's rmse: 7.75572\n",
      "Training until validation scores don't improve for 200 rounds\n",
      "[1000]\tvalid_0's rmse: 7.76413\n",
      "[2000]\tvalid_0's rmse: 7.75831\n",
      "Early stopping, best iteration is:\n",
      "[2200]\tvalid_0's rmse: 7.75711\n"
     ]
    },
    {
     "name": "stderr",
     "output_type": "stream",
     "text": [
      "\u001b[32m[I 2021-08-26 08:10:06,597]\u001b[0m Trial 6 finished with value: 7.754329987601771 and parameters: {'learning_rate': 0.02539327680850217, 'subsample': 0.7154317923896839, 'colsample_bytree': 0.27141429862608574, 'subsample_freq': 10, 'reg_lambda': 50.778356597315394, 'reg_alpha': 41.7800349013258, 'min_child_weight': 190.8543795660223, 'min_child_samples': 68}. Best is trial 2 with value: 7.752813583061048.\u001b[0m\n"
     ]
    },
    {
     "name": "stdout",
     "output_type": "stream",
     "text": [
      "Training until validation scores don't improve for 200 rounds\n",
      "[1000]\tvalid_0's rmse: 7.79612\n",
      "[2000]\tvalid_0's rmse: 7.77651\n",
      "[3000]\tvalid_0's rmse: 7.76776\n",
      "[4000]\tvalid_0's rmse: 7.76352\n",
      "[5000]\tvalid_0's rmse: 7.76108\n",
      "[6000]\tvalid_0's rmse: 7.75925\n",
      "[7000]\tvalid_0's rmse: 7.75819\n",
      "[8000]\tvalid_0's rmse: 7.75721\n",
      "[9000]\tvalid_0's rmse: 7.75642\n",
      "[10000]\tvalid_0's rmse: 7.75592\n",
      "Did not meet early stopping. Best iteration is:\n",
      "[9990]\tvalid_0's rmse: 7.7559\n",
      "Training until validation scores don't improve for 200 rounds\n",
      "[1000]\tvalid_0's rmse: 7.79635\n",
      "[2000]\tvalid_0's rmse: 7.77694\n",
      "[3000]\tvalid_0's rmse: 7.7681\n",
      "[4000]\tvalid_0's rmse: 7.76368\n",
      "[5000]\tvalid_0's rmse: 7.76153\n",
      "[6000]\tvalid_0's rmse: 7.75985\n",
      "[7000]\tvalid_0's rmse: 7.75851\n",
      "[8000]\tvalid_0's rmse: 7.75772\n",
      "[9000]\tvalid_0's rmse: 7.75694\n",
      "[10000]\tvalid_0's rmse: 7.75612\n",
      "Did not meet early stopping. Best iteration is:\n",
      "[9947]\tvalid_0's rmse: 7.75608\n"
     ]
    },
    {
     "name": "stderr",
     "output_type": "stream",
     "text": [
      "\u001b[32m[I 2021-08-26 08:20:43,327]\u001b[0m Trial 7 finished with value: 7.755579015055139 and parameters: {'learning_rate': 0.005272337992586136, 'subsample': 0.8167527726443542, 'colsample_bytree': 0.325971685631944, 'subsample_freq': 8, 'reg_lambda': 49.03178559092626, 'reg_alpha': 34.18782399118628, 'min_child_weight': 270.8514474408873, 'min_child_samples': 73}. Best is trial 2 with value: 7.752813583061048.\u001b[0m\n"
     ]
    },
    {
     "name": "stdout",
     "output_type": "stream",
     "text": [
      "Training until validation scores don't improve for 200 rounds\n",
      "[1000]\tvalid_0's rmse: 7.76131\n",
      "[2000]\tvalid_0's rmse: 7.75697\n",
      "[3000]\tvalid_0's rmse: 7.75477\n",
      "Early stopping, best iteration is:\n",
      "[3206]\tvalid_0's rmse: 7.75415\n",
      "Training until validation scores don't improve for 200 rounds\n",
      "[1000]\tvalid_0's rmse: 7.76078\n",
      "Early stopping, best iteration is:\n",
      "[1749]\tvalid_0's rmse: 7.75698\n"
     ]
    },
    {
     "name": "stderr",
     "output_type": "stream",
     "text": [
      "\u001b[32m[I 2021-08-26 08:23:31,951]\u001b[0m Trial 8 finished with value: 7.752024327371435 and parameters: {'learning_rate': 0.030576135597528146, 'subsample': 0.7073788145211187, 'colsample_bytree': 0.3902988247214292, 'subsample_freq': 9, 'reg_lambda': 48.496613691653494, 'reg_alpha': 41.598637848575336, 'min_child_weight': 256.2184024380349, 'min_child_samples': 53}. Best is trial 8 with value: 7.752024327371435.\u001b[0m\n"
     ]
    },
    {
     "name": "stdout",
     "output_type": "stream",
     "text": [
      "Training until validation scores don't improve for 200 rounds\n",
      "[1000]\tvalid_0's rmse: 7.77631\n",
      "[2000]\tvalid_0's rmse: 7.76369\n",
      "[3000]\tvalid_0's rmse: 7.75962\n",
      "[4000]\tvalid_0's rmse: 7.75761\n",
      "[5000]\tvalid_0's rmse: 7.75652\n",
      "[6000]\tvalid_0's rmse: 7.75568\n",
      "[7000]\tvalid_0's rmse: 7.75516\n",
      "Early stopping, best iteration is:\n",
      "[6971]\tvalid_0's rmse: 7.75503\n",
      "Training until validation scores don't improve for 200 rounds\n",
      "[1000]\tvalid_0's rmse: 7.77568\n",
      "[2000]\tvalid_0's rmse: 7.76334\n",
      "[3000]\tvalid_0's rmse: 7.75961\n",
      "[4000]\tvalid_0's rmse: 7.75726\n",
      "Early stopping, best iteration is:\n",
      "[4519]\tvalid_0's rmse: 7.75638\n"
     ]
    },
    {
     "name": "stderr",
     "output_type": "stream",
     "text": [
      "\u001b[32m[I 2021-08-26 08:29:58,906]\u001b[0m Trial 9 finished with value: 7.7546452378616415 and parameters: {'learning_rate': 0.010843520734547842, 'subsample': 0.8166765603366606, 'colsample_bytree': 0.3938017152325126, 'subsample_freq': 10, 'reg_lambda': 49.72035175878692, 'reg_alpha': 33.824828343004896, 'min_child_weight': 193.8479739544165, 'min_child_samples': 66}. Best is trial 8 with value: 7.752024327371435.\u001b[0m\n"
     ]
    },
    {
     "name": "stdout",
     "output_type": "stream",
     "text": [
      "Training until validation scores don't improve for 200 rounds\n",
      "[1000]\tvalid_0's rmse: 7.76186\n",
      "[2000]\tvalid_0's rmse: 7.76003\n",
      "Early stopping, best iteration is:\n",
      "[1856]\tvalid_0's rmse: 7.7596\n",
      "Training until validation scores don't improve for 200 rounds\n",
      "[1000]\tvalid_0's rmse: 7.76283\n",
      "Early stopping, best iteration is:\n",
      "[1627]\tvalid_0's rmse: 7.75947\n"
     ]
    },
    {
     "name": "stderr",
     "output_type": "stream",
     "text": [
      "\u001b[32m[I 2021-08-26 08:32:21,366]\u001b[0m Trial 10 finished with value: 7.756447264822084 and parameters: {'learning_rate': 0.034656853894992436, 'subsample': 0.730991075023352, 'colsample_bytree': 0.45402792247435864, 'subsample_freq': 9, 'reg_lambda': 53.43826409954159, 'reg_alpha': 43.30078211635002, 'min_child_weight': 238.64450865731789, 'min_child_samples': 58}. Best is trial 8 with value: 7.752024327371435.\u001b[0m\n"
     ]
    },
    {
     "name": "stdout",
     "output_type": "stream",
     "text": [
      "Training until validation scores don't improve for 200 rounds\n",
      "[1000]\tvalid_0's rmse: 7.76413\n",
      "[2000]\tvalid_0's rmse: 7.75863\n",
      "Early stopping, best iteration is:\n",
      "[2140]\tvalid_0's rmse: 7.7578\n",
      "Training until validation scores don't improve for 200 rounds\n",
      "[1000]\tvalid_0's rmse: 7.76456\n",
      "[2000]\tvalid_0's rmse: 7.75865\n",
      "[3000]\tvalid_0's rmse: 7.75583\n",
      "Early stopping, best iteration is:\n",
      "[3349]\tvalid_0's rmse: 7.75506\n"
     ]
    },
    {
     "name": "stderr",
     "output_type": "stream",
     "text": [
      "\u001b[32m[I 2021-08-26 08:35:25,475]\u001b[0m Trial 11 finished with value: 7.754019138423158 and parameters: {'learning_rate': 0.022543019237736026, 'subsample': 0.6645493620975857, 'colsample_bytree': 0.3891453382212218, 'subsample_freq': 9, 'reg_lambda': 41.934770653182035, 'reg_alpha': 36.576081637808734, 'min_child_weight': 211.5728473188363, 'min_child_samples': 53}. Best is trial 8 with value: 7.752024327371435.\u001b[0m\n"
     ]
    },
    {
     "name": "stdout",
     "output_type": "stream",
     "text": [
      "Training until validation scores don't improve for 200 rounds\n",
      "[1000]\tvalid_0's rmse: 7.77047\n",
      "[2000]\tvalid_0's rmse: 7.76165\n",
      "[3000]\tvalid_0's rmse: 7.75882\n",
      "[4000]\tvalid_0's rmse: 7.75652\n",
      "Early stopping, best iteration is:\n",
      "[4623]\tvalid_0's rmse: 7.7552\n",
      "Training until validation scores don't improve for 200 rounds\n",
      "[1000]\tvalid_0's rmse: 7.76931\n",
      "[2000]\tvalid_0's rmse: 7.7614\n",
      "[3000]\tvalid_0's rmse: 7.7586\n",
      "[4000]\tvalid_0's rmse: 7.75695\n",
      "Early stopping, best iteration is:\n",
      "[4756]\tvalid_0's rmse: 7.75579\n"
     ]
    },
    {
     "name": "stderr",
     "output_type": "stream",
     "text": [
      "\u001b[32m[I 2021-08-26 08:40:57,163]\u001b[0m Trial 12 finished with value: 7.754006567443615 and parameters: {'learning_rate': 0.014758474919273967, 'subsample': 0.7461173683053789, 'colsample_bytree': 0.4363030231513815, 'subsample_freq': 8, 'reg_lambda': 43.67042661480177, 'reg_alpha': 41.057827290074584, 'min_child_weight': 219.54622657782596, 'min_child_samples': 57}. Best is trial 8 with value: 7.752024327371435.\u001b[0m\n"
     ]
    },
    {
     "name": "stdout",
     "output_type": "stream",
     "text": [
      "Training until validation scores don't improve for 200 rounds\n",
      "[1000]\tvalid_0's rmse: 7.76099\n",
      "Early stopping, best iteration is:\n",
      "[1479]\tvalid_0's rmse: 7.75857\n",
      "Training until validation scores don't improve for 200 rounds\n",
      "[1000]\tvalid_0's rmse: 7.76241\n",
      "Early stopping, best iteration is:\n",
      "[1644]\tvalid_0's rmse: 7.75875\n"
     ]
    },
    {
     "name": "stderr",
     "output_type": "stream",
     "text": [
      "\u001b[32m[I 2021-08-26 08:42:52,504]\u001b[0m Trial 13 finished with value: 7.756441517446076 and parameters: {'learning_rate': 0.02940419695904668, 'subsample': 0.6889723945008528, 'colsample_bytree': 0.3743096241429335, 'subsample_freq': 10, 'reg_lambda': 45.075430618293254, 'reg_alpha': 36.169262690205485, 'min_child_weight': 247.10467572953968, 'min_child_samples': 57}. Best is trial 8 with value: 7.752024327371435.\u001b[0m\n"
     ]
    },
    {
     "name": "stdout",
     "output_type": "stream",
     "text": [
      "Training until validation scores don't improve for 200 rounds\n",
      "[1000]\tvalid_0's rmse: 7.76577\n",
      "Early stopping, best iteration is:\n",
      "[1726]\tvalid_0's rmse: 7.76444\n",
      "Training until validation scores don't improve for 200 rounds\n",
      "[1000]\tvalid_0's rmse: 7.7621\n",
      "[2000]\tvalid_0's rmse: 7.75783\n",
      "Early stopping, best iteration is:\n",
      "[1908]\tvalid_0's rmse: 7.75712\n"
     ]
    },
    {
     "name": "stderr",
     "output_type": "stream",
     "text": [
      "\u001b[32m[I 2021-08-26 08:45:05,456]\u001b[0m Trial 14 finished with value: 7.756825937778699 and parameters: {'learning_rate': 0.03665579019586604, 'subsample': 0.6591545426735242, 'colsample_bytree': 0.42110020599129444, 'subsample_freq': 9, 'reg_lambda': 42.242955773869305, 'reg_alpha': 31.407612303386585, 'min_child_weight': 215.90293241159412, 'min_child_samples': 60}. Best is trial 8 with value: 7.752024327371435.\u001b[0m\n"
     ]
    },
    {
     "name": "stdout",
     "output_type": "stream",
     "text": [
      "Training until validation scores don't improve for 200 rounds\n",
      "[1000]\tvalid_0's rmse: 7.76363\n",
      "[2000]\tvalid_0's rmse: 7.75674\n",
      "Early stopping, best iteration is:\n",
      "[2027]\tvalid_0's rmse: 7.75655\n",
      "Training until validation scores don't improve for 200 rounds\n",
      "[1000]\tvalid_0's rmse: 7.76334\n",
      "[2000]\tvalid_0's rmse: 7.75688\n",
      "[3000]\tvalid_0's rmse: 7.75446\n",
      "Early stopping, best iteration is:\n",
      "[3086]\tvalid_0's rmse: 7.75413\n"
     ]
    },
    {
     "name": "stderr",
     "output_type": "stream",
     "text": [
      "\u001b[32m[I 2021-08-26 08:48:02,191]\u001b[0m Trial 15 finished with value: 7.753442192867833 and parameters: {'learning_rate': 0.02127913610186377, 'subsample': 0.7095632032777197, 'colsample_bytree': 0.36553248122769594, 'subsample_freq': 10, 'reg_lambda': 51.53429794737916, 'reg_alpha': 43.392884568511356, 'min_child_weight': 202.80987129550195, 'min_child_samples': 52}. Best is trial 8 with value: 7.752024327371435.\u001b[0m\n"
     ]
    },
    {
     "name": "stdout",
     "output_type": "stream",
     "text": [
      "Training until validation scores don't improve for 200 rounds\n",
      "[1000]\tvalid_0's rmse: 7.77721\n",
      "[2000]\tvalid_0's rmse: 7.76394\n",
      "[3000]\tvalid_0's rmse: 7.75996\n",
      "[4000]\tvalid_0's rmse: 7.75807\n",
      "[5000]\tvalid_0's rmse: 7.75594\n",
      "[6000]\tvalid_0's rmse: 7.75487\n",
      "Early stopping, best iteration is:\n",
      "[6276]\tvalid_0's rmse: 7.75443\n",
      "Training until validation scores don't improve for 200 rounds\n",
      "[1000]\tvalid_0's rmse: 7.77702\n",
      "[2000]\tvalid_0's rmse: 7.764\n",
      "[3000]\tvalid_0's rmse: 7.7597\n",
      "[4000]\tvalid_0's rmse: 7.75759\n",
      "[5000]\tvalid_0's rmse: 7.75548\n",
      "[6000]\tvalid_0's rmse: 7.75415\n",
      "[7000]\tvalid_0's rmse: 7.75283\n",
      "[8000]\tvalid_0's rmse: 7.75213\n",
      "Early stopping, best iteration is:\n",
      "[7826]\tvalid_0's rmse: 7.75209\n"
     ]
    },
    {
     "name": "stderr",
     "output_type": "stream",
     "text": [
      "\u001b[32m[I 2021-08-26 08:55:48,268]\u001b[0m Trial 16 finished with value: 7.752231948039367 and parameters: {'learning_rate': 0.010147874771347803, 'subsample': 0.7796709856519656, 'colsample_bytree': 0.39929268298297244, 'subsample_freq': 8, 'reg_lambda': 48.228630851213126, 'reg_alpha': 40.62078185091206, 'min_child_weight': 228.72984785860552, 'min_child_samples': 55}. Best is trial 8 with value: 7.752024327371435.\u001b[0m\n"
     ]
    },
    {
     "name": "stdout",
     "output_type": "stream",
     "text": [
      "Training until validation scores don't improve for 200 rounds\n",
      "[1000]\tvalid_0's rmse: 7.78041\n",
      "[2000]\tvalid_0's rmse: 7.76544\n",
      "[3000]\tvalid_0's rmse: 7.76044\n",
      "[4000]\tvalid_0's rmse: 7.75795\n",
      "[5000]\tvalid_0's rmse: 7.75629\n",
      "[6000]\tvalid_0's rmse: 7.7551\n",
      "Early stopping, best iteration is:\n",
      "[6353]\tvalid_0's rmse: 7.75481\n",
      "Training until validation scores don't improve for 200 rounds\n",
      "[1000]\tvalid_0's rmse: 7.78012\n",
      "[2000]\tvalid_0's rmse: 7.76603\n",
      "[3000]\tvalid_0's rmse: 7.76124\n",
      "[4000]\tvalid_0's rmse: 7.75882\n",
      "[5000]\tvalid_0's rmse: 7.75712\n",
      "[6000]\tvalid_0's rmse: 7.75563\n",
      "[7000]\tvalid_0's rmse: 7.7544\n",
      "[8000]\tvalid_0's rmse: 7.75298\n",
      "Early stopping, best iteration is:\n",
      "[7910]\tvalid_0's rmse: 7.75293\n"
     ]
    },
    {
     "name": "stderr",
     "output_type": "stream",
     "text": [
      "\u001b[32m[I 2021-08-26 09:03:45,031]\u001b[0m Trial 17 finished with value: 7.752996527575275 and parameters: {'learning_rate': 0.009012657657289437, 'subsample': 0.7712392759926967, 'colsample_bytree': 0.401090512320614, 'subsample_freq': 8, 'reg_lambda': 48.54737878939182, 'reg_alpha': 40.831805129003826, 'min_child_weight': 228.06593686904955, 'min_child_samples': 60}. Best is trial 8 with value: 7.752024327371435.\u001b[0m\n"
     ]
    },
    {
     "name": "stdout",
     "output_type": "stream",
     "text": [
      "Training until validation scores don't improve for 200 rounds\n",
      "[1000]\tvalid_0's rmse: 7.76652\n",
      "[2000]\tvalid_0's rmse: 7.75999\n",
      "[3000]\tvalid_0's rmse: 7.75768\n",
      "[4000]\tvalid_0's rmse: 7.75603\n",
      "Early stopping, best iteration is:\n",
      "[4408]\tvalid_0's rmse: 7.75559\n",
      "Training until validation scores don't improve for 200 rounds\n",
      "[1000]\tvalid_0's rmse: 7.76653\n",
      "[2000]\tvalid_0's rmse: 7.7595\n",
      "[3000]\tvalid_0's rmse: 7.75666\n",
      "[4000]\tvalid_0's rmse: 7.75525\n",
      "[5000]\tvalid_0's rmse: 7.75407\n",
      "Early stopping, best iteration is:\n",
      "[5117]\tvalid_0's rmse: 7.75348\n"
     ]
    },
    {
     "name": "stderr",
     "output_type": "stream",
     "text": [
      "\u001b[32m[I 2021-08-26 09:09:20,547]\u001b[0m Trial 18 finished with value: 7.752440457715109 and parameters: {'learning_rate': 0.018210975347352203, 'subsample': 0.7663827655435502, 'colsample_bytree': 0.43577423548878996, 'subsample_freq': 8, 'reg_lambda': 51.67893847376, 'reg_alpha': 39.60621000647726, 'min_child_weight': 283.6863612674076, 'min_child_samples': 55}. Best is trial 8 with value: 7.752024327371435.\u001b[0m\n"
     ]
    },
    {
     "name": "stdout",
     "output_type": "stream",
     "text": [
      "Training until validation scores don't improve for 200 rounds\n",
      "[1000]\tvalid_0's rmse: 7.76193\n",
      "[2000]\tvalid_0's rmse: 7.75711\n",
      "Early stopping, best iteration is:\n",
      "[2042]\tvalid_0's rmse: 7.75692\n",
      "Training until validation scores don't improve for 200 rounds\n",
      "[1000]\tvalid_0's rmse: 7.76172\n",
      "[2000]\tvalid_0's rmse: 7.75739\n",
      "[3000]\tvalid_0's rmse: 7.75498\n",
      "Early stopping, best iteration is:\n",
      "[2994]\tvalid_0's rmse: 7.7549\n"
     ]
    },
    {
     "name": "stderr",
     "output_type": "stream",
     "text": [
      "\u001b[32m[I 2021-08-26 09:13:18,891]\u001b[0m Trial 19 finished with value: 7.753386833128099 and parameters: {'learning_rate': 0.02690462045300323, 'subsample': 0.7933596616863499, 'colsample_bytree': 0.453512252907715, 'subsample_freq': 9, 'reg_lambda': 53.112358869175736, 'reg_alpha': 42.08551138987992, 'min_child_weight': 240.6349481558867, 'min_child_samples': 61}. Best is trial 8 with value: 7.752024327371435.\u001b[0m\n"
     ]
    },
    {
     "name": "stdout",
     "output_type": "stream",
     "text": [
      "Training until validation scores don't improve for 200 rounds\n",
      "[1000]\tvalid_0's rmse: 7.76181\n",
      "[2000]\tvalid_0's rmse: 7.75844\n",
      "Early stopping, best iteration is:\n",
      "[1900]\tvalid_0's rmse: 7.75821\n",
      "Training until validation scores don't improve for 200 rounds\n",
      "[1000]\tvalid_0's rmse: 7.76248\n",
      "Early stopping, best iteration is:\n",
      "[1558]\tvalid_0's rmse: 7.75985\n"
     ]
    },
    {
     "name": "stderr",
     "output_type": "stream",
     "text": [
      "\u001b[32m[I 2021-08-26 09:15:26,082]\u001b[0m Trial 20 finished with value: 7.756395717251111 and parameters: {'learning_rate': 0.032788293964770676, 'subsample': 0.7438833611758353, 'colsample_bytree': 0.3842978810863369, 'subsample_freq': 8, 'reg_lambda': 48.06594449696478, 'reg_alpha': 40.18969826028571, 'min_child_weight': 252.85838940864872, 'min_child_samples': 55}. Best is trial 8 with value: 7.752024327371435.\u001b[0m\n"
     ]
    },
    {
     "name": "stdout",
     "output_type": "stream",
     "text": [
      "Training until validation scores don't improve for 200 rounds\n",
      "[1000]\tvalid_0's rmse: 7.76607\n",
      "[2000]\tvalid_0's rmse: 7.7589\n",
      "Early stopping, best iteration is:\n",
      "[2643]\tvalid_0's rmse: 7.75648\n",
      "Training until validation scores don't improve for 200 rounds\n",
      "[1000]\tvalid_0's rmse: 7.76621\n",
      "[2000]\tvalid_0's rmse: 7.75781\n",
      "[3000]\tvalid_0's rmse: 7.75456\n",
      "Early stopping, best iteration is:\n",
      "[3082]\tvalid_0's rmse: 7.75437\n"
     ]
    },
    {
     "name": "stderr",
     "output_type": "stream",
     "text": [
      "\u001b[32m[I 2021-08-26 09:19:10,550]\u001b[0m Trial 21 finished with value: 7.754101876462912 and parameters: {'learning_rate': 0.017377772788499665, 'subsample': 0.7689952525132947, 'colsample_bytree': 0.434775501817836, 'subsample_freq': 8, 'reg_lambda': 52.00062444333497, 'reg_alpha': 39.0784446280044, 'min_child_weight': 280.1891839207108, 'min_child_samples': 55}. Best is trial 8 with value: 7.752024327371435.\u001b[0m\n"
     ]
    },
    {
     "name": "stdout",
     "output_type": "stream",
     "text": [
      "Training until validation scores don't improve for 200 rounds\n",
      "[1000]\tvalid_0's rmse: 7.78714\n",
      "[2000]\tvalid_0's rmse: 7.77012\n",
      "[3000]\tvalid_0's rmse: 7.7635\n",
      "[4000]\tvalid_0's rmse: 7.76029\n",
      "[5000]\tvalid_0's rmse: 7.75814\n",
      "[6000]\tvalid_0's rmse: 7.75674\n",
      "[7000]\tvalid_0's rmse: 7.75615\n",
      "[8000]\tvalid_0's rmse: 7.75526\n",
      "[9000]\tvalid_0's rmse: 7.75438\n",
      "Early stopping, best iteration is:\n",
      "[9797]\tvalid_0's rmse: 7.75382\n",
      "Training until validation scores don't improve for 200 rounds\n",
      "[1000]\tvalid_0's rmse: 7.78763\n",
      "[2000]\tvalid_0's rmse: 7.77024\n",
      "[3000]\tvalid_0's rmse: 7.76378\n",
      "[4000]\tvalid_0's rmse: 7.76074\n",
      "[5000]\tvalid_0's rmse: 7.75834\n",
      "[6000]\tvalid_0's rmse: 7.75692\n",
      "[7000]\tvalid_0's rmse: 7.7556\n",
      "[8000]\tvalid_0's rmse: 7.75474\n",
      "[9000]\tvalid_0's rmse: 7.75413\n",
      "Early stopping, best iteration is:\n",
      "[8887]\tvalid_0's rmse: 7.75401\n"
     ]
    },
    {
     "name": "stderr",
     "output_type": "stream",
     "text": [
      "\u001b[32m[I 2021-08-26 09:30:23,026]\u001b[0m Trial 22 finished with value: 7.753257580319403 and parameters: {'learning_rate': 0.006952583607380185, 'subsample': 0.7860474217670166, 'colsample_bytree': 0.4137715649447665, 'subsample_freq': 8, 'reg_lambda': 46.90808284046824, 'reg_alpha': 37.80342029571191, 'min_child_weight': 282.0339089836975, 'min_child_samples': 54}. Best is trial 8 with value: 7.752024327371435.\u001b[0m\n"
     ]
    },
    {
     "name": "stdout",
     "output_type": "stream",
     "text": [
      "Training until validation scores don't improve for 200 rounds\n",
      "[1000]\tvalid_0's rmse: 7.76881\n",
      "[2000]\tvalid_0's rmse: 7.76122\n",
      "[3000]\tvalid_0's rmse: 7.75857\n",
      "[4000]\tvalid_0's rmse: 7.75683\n",
      "Early stopping, best iteration is:\n",
      "[3986]\tvalid_0's rmse: 7.7568\n",
      "Training until validation scores don't improve for 200 rounds\n",
      "[1000]\tvalid_0's rmse: 7.76843\n",
      "[2000]\tvalid_0's rmse: 7.76029\n",
      "[3000]\tvalid_0's rmse: 7.75719\n",
      "Early stopping, best iteration is:\n",
      "[3775]\tvalid_0's rmse: 7.75521\n"
     ]
    },
    {
     "name": "stderr",
     "output_type": "stream",
     "text": [
      "\u001b[32m[I 2021-08-26 09:35:18,413]\u001b[0m Trial 23 finished with value: 7.754633997315896 and parameters: {'learning_rate': 0.015502697038058233, 'subsample': 0.7591747899767972, 'colsample_bytree': 0.4417243801660696, 'subsample_freq': 9, 'reg_lambda': 49.790934195928465, 'reg_alpha': 42.114897441126104, 'min_child_weight': 265.3768332550248, 'min_child_samples': 57}. Best is trial 8 with value: 7.752024327371435.\u001b[0m\n"
     ]
    },
    {
     "name": "stdout",
     "output_type": "stream",
     "text": [
      "Training until validation scores don't improve for 200 rounds\n",
      "[1000]\tvalid_0's rmse: 7.76487\n",
      "[2000]\tvalid_0's rmse: 7.7585\n",
      "[3000]\tvalid_0's rmse: 7.75608\n",
      "Early stopping, best iteration is:\n",
      "[3324]\tvalid_0's rmse: 7.75524\n",
      "Training until validation scores don't improve for 200 rounds\n",
      "[1000]\tvalid_0's rmse: 7.76392\n",
      "[2000]\tvalid_0's rmse: 7.75958\n",
      "[3000]\tvalid_0's rmse: 7.7576\n",
      "[4000]\tvalid_0's rmse: 7.7561\n",
      "Early stopping, best iteration is:\n",
      "[4610]\tvalid_0's rmse: 7.75422\n"
     ]
    },
    {
     "name": "stderr",
     "output_type": "stream",
     "text": [
      "\u001b[32m[I 2021-08-26 09:39:54,514]\u001b[0m Trial 24 finished with value: 7.752214778211608 and parameters: {'learning_rate': 0.021131327365619467, 'subsample': 0.7354238758234098, 'colsample_bytree': 0.40625436930806963, 'subsample_freq': 8, 'reg_lambda': 52.20887222435132, 'reg_alpha': 39.946150796372876, 'min_child_weight': 246.08682576120222, 'min_child_samples': 62}. Best is trial 8 with value: 7.752024327371435.\u001b[0m\n"
     ]
    },
    {
     "name": "stdout",
     "output_type": "stream",
     "text": [
      "Training until validation scores don't improve for 200 rounds\n",
      "[1000]\tvalid_0's rmse: 7.83537\n",
      "[2000]\tvalid_0's rmse: 7.82088\n",
      "[3000]\tvalid_0's rmse: 7.8107\n",
      "[4000]\tvalid_0's rmse: 7.80269\n",
      "[5000]\tvalid_0's rmse: 7.79612\n",
      "[6000]\tvalid_0's rmse: 7.79069\n",
      "[7000]\tvalid_0's rmse: 7.78618\n",
      "[8000]\tvalid_0's rmse: 7.78251\n",
      "[9000]\tvalid_0's rmse: 7.77929\n",
      "[10000]\tvalid_0's rmse: 7.77665\n",
      "Did not meet early stopping. Best iteration is:\n",
      "[10000]\tvalid_0's rmse: 7.77665\n",
      "Training until validation scores don't improve for 200 rounds\n",
      "[1000]\tvalid_0's rmse: 7.83535\n",
      "[2000]\tvalid_0's rmse: 7.82096\n",
      "[3000]\tvalid_0's rmse: 7.81074\n",
      "[4000]\tvalid_0's rmse: 7.80275\n",
      "[5000]\tvalid_0's rmse: 7.79622\n",
      "[6000]\tvalid_0's rmse: 7.79077\n",
      "[7000]\tvalid_0's rmse: 7.78626\n",
      "[8000]\tvalid_0's rmse: 7.78256\n",
      "[9000]\tvalid_0's rmse: 7.77931\n",
      "[10000]\tvalid_0's rmse: 7.77662\n",
      "Did not meet early stopping. Best iteration is:\n",
      "[10000]\tvalid_0's rmse: 7.77662\n"
     ]
    },
    {
     "name": "stderr",
     "output_type": "stream",
     "text": [
      "\u001b[32m[I 2021-08-26 09:54:37,393]\u001b[0m Trial 25 finished with value: 7.776584603998225 and parameters: {'learning_rate': 0.001016524541270051, 'subsample': 0.7316200717384571, 'colsample_bytree': 0.41269083517852956, 'subsample_freq': 9, 'reg_lambda': 48.81996169990306, 'reg_alpha': 42.91036805559149, 'min_child_weight': 245.87039341255462, 'min_child_samples': 62}. Best is trial 8 with value: 7.752024327371435.\u001b[0m\n"
     ]
    },
    {
     "name": "stdout",
     "output_type": "stream",
     "text": [
      "Training until validation scores don't improve for 200 rounds\n",
      "[1000]\tvalid_0's rmse: 7.76256\n",
      "[2000]\tvalid_0's rmse: 7.75678\n",
      "Early stopping, best iteration is:\n",
      "[2294]\tvalid_0's rmse: 7.75628\n",
      "Training until validation scores don't improve for 200 rounds\n",
      "[1000]\tvalid_0's rmse: 7.76412\n",
      "[2000]\tvalid_0's rmse: 7.7595\n",
      "[3000]\tvalid_0's rmse: 7.75787\n",
      "Early stopping, best iteration is:\n",
      "[3056]\tvalid_0's rmse: 7.75764\n"
     ]
    },
    {
     "name": "stderr",
     "output_type": "stream",
     "text": [
      "\u001b[32m[I 2021-08-26 09:57:44,671]\u001b[0m Trial 26 finished with value: 7.754894368990451 and parameters: {'learning_rate': 0.022625853662678736, 'subsample': 0.7193871547659505, 'colsample_bytree': 0.4007558060181878, 'subsample_freq': 8, 'reg_lambda': 52.641644191928656, 'reg_alpha': 40.541045520116754, 'min_child_weight': 227.33404036003856, 'min_child_samples': 70}. Best is trial 8 with value: 7.752024327371435.\u001b[0m\n"
     ]
    },
    {
     "name": "stdout",
     "output_type": "stream",
     "text": [
      "Training until validation scores don't improve for 200 rounds\n",
      "[1000]\tvalid_0's rmse: 7.76257\n",
      "[2000]\tvalid_0's rmse: 7.75939\n",
      "Early stopping, best iteration is:\n",
      "[1833]\tvalid_0's rmse: 7.75914\n",
      "Training until validation scores don't improve for 200 rounds\n",
      "[1000]\tvalid_0's rmse: 7.76225\n",
      "Early stopping, best iteration is:\n",
      "[1571]\tvalid_0's rmse: 7.75982\n"
     ]
    },
    {
     "name": "stderr",
     "output_type": "stream",
     "text": [
      "\u001b[32m[I 2021-08-26 09:59:51,601]\u001b[0m Trial 27 finished with value: 7.757335483934694 and parameters: {'learning_rate': 0.02968647038066511, 'subsample': 0.7446284714660762, 'colsample_bytree': 0.3763902077463684, 'subsample_freq': 8, 'reg_lambda': 50.666955463121454, 'reg_alpha': 38.000532662906124, 'min_child_weight': 261.45394002889935, 'min_child_samples': 63}. Best is trial 8 with value: 7.752024327371435.\u001b[0m\n"
     ]
    },
    {
     "name": "stdout",
     "output_type": "stream",
     "text": [
      "Training until validation scores don't improve for 200 rounds\n",
      "[1000]\tvalid_0's rmse: 7.76342\n",
      "[2000]\tvalid_0's rmse: 7.75899\n",
      "Early stopping, best iteration is:\n",
      "[2611]\tvalid_0's rmse: 7.75696\n",
      "Training until validation scores don't improve for 200 rounds\n",
      "[1000]\tvalid_0's rmse: 7.76232\n",
      "[2000]\tvalid_0's rmse: 7.75781\n",
      "[3000]\tvalid_0's rmse: 7.75522\n",
      "Early stopping, best iteration is:\n",
      "[3026]\tvalid_0's rmse: 7.755\n"
     ]
    },
    {
     "name": "stderr",
     "output_type": "stream",
     "text": [
      "\u001b[32m[I 2021-08-26 10:02:48,961]\u001b[0m Trial 28 finished with value: 7.7536176587616685 and parameters: {'learning_rate': 0.026496618382746823, 'subsample': 0.8116742894611599, 'colsample_bytree': 0.3423729792932269, 'subsample_freq': 9, 'reg_lambda': 47.58098556620368, 'reg_alpha': 41.31461497333981, 'min_child_weight': 248.65579619463506, 'min_child_samples': 58}. Best is trial 8 with value: 7.752024327371435.\u001b[0m\n"
     ]
    },
    {
     "name": "stdout",
     "output_type": "stream",
     "text": [
      "Training until validation scores don't improve for 200 rounds\n",
      "[1000]\tvalid_0's rmse: 7.76475\n",
      "[2000]\tvalid_0's rmse: 7.7594\n",
      "[3000]\tvalid_0's rmse: 7.75593\n",
      "Early stopping, best iteration is:\n",
      "[3378]\tvalid_0's rmse: 7.75504\n",
      "Training until validation scores don't improve for 200 rounds\n",
      "[1000]\tvalid_0's rmse: 7.76422\n",
      "[2000]\tvalid_0's rmse: 7.75792\n",
      "Early stopping, best iteration is:\n",
      "[2724]\tvalid_0's rmse: 7.75581\n"
     ]
    },
    {
     "name": "stderr",
     "output_type": "stream",
     "text": [
      "\u001b[32m[I 2021-08-26 10:06:26,600]\u001b[0m Trial 29 finished with value: 7.753361165376201 and parameters: {'learning_rate': 0.020529979878830793, 'subsample': 0.697516721640106, 'colsample_bytree': 0.4213670872124987, 'subsample_freq': 9, 'reg_lambda': 47.46851632875074, 'reg_alpha': 40.06040835304397, 'min_child_weight': 240.48283279981067, 'min_child_samples': 64}. Best is trial 8 with value: 7.752024327371435.\u001b[0m\n"
     ]
    },
    {
     "name": "stdout",
     "output_type": "stream",
     "text": [
      "Number of finished trials: 30\n",
      "Best trial: {'learning_rate': 0.030576135597528146, 'subsample': 0.7073788145211187, 'colsample_bytree': 0.3902988247214292, 'subsample_freq': 9, 'reg_lambda': 48.496613691653494, 'reg_alpha': 41.598637848575336, 'min_child_weight': 256.2184024380349, 'min_child_samples': 53}\n"
     ]
    }
   ],
   "source": [
    "study = optuna.create_study(direction='minimize')\n",
    "study.optimize(objective,n_trials= 30)\n",
    "print('Number of finished trials:', len(study.trials))\n",
    "print('Best trial:', study.best_trial.params)"
   ]
  },
  {
   "cell_type": "code",
   "execution_count": 11,
   "id": "d139c9c7",
   "metadata": {
    "execution": {
     "iopub.execute_input": "2021-08-26T10:06:26.830186Z",
     "iopub.status.busy": "2021-08-26T10:06:26.829262Z",
     "iopub.status.idle": "2021-08-26T10:06:26.834779Z",
     "shell.execute_reply": "2021-08-26T10:06:26.834314Z"
    },
    "papermill": {
     "duration": 0.119772,
     "end_time": "2021-08-26T10:06:26.838237",
     "exception": false,
     "start_time": "2021-08-26T10:06:26.718465",
     "status": "completed"
    },
    "tags": []
   },
   "outputs": [
    {
     "data": {
      "text/plain": [
       "{'learning_rate': 0.030576135597528146,\n",
       " 'subsample': 0.7073788145211187,\n",
       " 'colsample_bytree': 0.3902988247214292,\n",
       " 'subsample_freq': 9,\n",
       " 'reg_lambda': 48.496613691653494,\n",
       " 'reg_alpha': 41.598637848575336,\n",
       " 'min_child_weight': 256.2184024380349,\n",
       " 'min_child_samples': 53}"
      ]
     },
     "execution_count": 11,
     "metadata": {},
     "output_type": "execute_result"
    }
   ],
   "source": [
    "study.best_params"
   ]
  },
  {
   "cell_type": "markdown",
   "id": "9367624a",
   "metadata": {
    "papermill": {
     "duration": 0.101543,
     "end_time": "2021-08-26T10:06:27.040091",
     "exception": false,
     "start_time": "2021-08-26T10:06:26.938548",
     "status": "completed"
    },
    "tags": []
   },
   "source": [
    "# Log\n",
    "\n",
    "7.761521447852026 row-wise noise ver3\n",
    "\n",
    "7.7627473037692365 random noise ver4\n",
    "\n",
    "7.749394595681444 no noise ver6\n",
    "\n",
    "7.7488157884604965 no noise ver8 (narrow space)\n",
    "\n",
    "7.748628607085202 no noise ver10 (narrow space)\n",
    "\n",
    "7.7483594115082495 no noise ver11 (narrow space)\n",
    "\n",
    "7.748196039675071 no noise ver12 (narrow space) final\n",
    "\n",
    "=====================================================\n",
    "================= Change pseudo =====================\n",
    "\n",
    "7.752717667960531 no noise ver15\n",
    "\n",
    "7.752449992734185 no noise ver16 (narrow space)\n"
   ]
  }
 ],
 "metadata": {
  "kernelspec": {
   "display_name": "Python 3",
   "language": "python",
   "name": "python3"
  },
  "language_info": {
   "codemirror_mode": {
    "name": "ipython",
    "version": 3
   },
   "file_extension": ".py",
   "mimetype": "text/x-python",
   "name": "python",
   "nbconvert_exporter": "python",
   "pygments_lexer": "ipython3",
   "version": "3.7.10"
  },
  "papermill": {
   "default_parameters": {},
   "duration": 9630.533731,
   "end_time": "2021-08-26T10:06:28.966554",
   "environment_variables": {},
   "exception": null,
   "input_path": "__notebook__.ipynb",
   "output_path": "__notebook__.ipynb",
   "parameters": {},
   "start_time": "2021-08-26T07:25:58.432823",
   "version": "2.3.3"
  }
 },
 "nbformat": 4,
 "nbformat_minor": 5
}
