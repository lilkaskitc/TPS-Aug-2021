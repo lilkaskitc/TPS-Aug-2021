{
 "cells": [
  {
   "cell_type": "code",
   "execution_count": 1,
   "id": "217ac72d",
   "metadata": {
    "_cell_guid": "b1076dfc-b9ad-4769-8c92-a6c4dae69d19",
    "_uuid": "8f2839f25d086af736a60e9eeb907d3b93b6e0e5",
    "execution": {
     "iopub.execute_input": "2021-08-31T17:39:42.091350Z",
     "iopub.status.busy": "2021-08-31T17:39:42.090591Z",
     "iopub.status.idle": "2021-08-31T17:39:43.419796Z",
     "shell.execute_reply": "2021-08-31T17:39:43.419165Z",
     "shell.execute_reply.started": "2021-08-31T17:38:18.841574Z"
    },
    "papermill": {
     "duration": 1.353755,
     "end_time": "2021-08-31T17:39:43.420004",
     "exception": false,
     "start_time": "2021-08-31T17:39:42.066249",
     "status": "completed"
    },
    "tags": []
   },
   "outputs": [],
   "source": [
    "# Familiar imports\n",
    "import numpy as np\n",
    "import pandas as pd\n",
    "import random\n",
    "import os\n",
    "import time\n",
    "from pathlib import Path\n",
    "import pickle\n",
    "\n",
    "from sklearn.preprocessing import StandardScaler\n",
    "from sklearn.model_selection import KFold, train_test_split\n",
    "from sklearn.metrics import mean_squared_error\n",
    "from sklearn.linear_model import Ridge\n",
    "\n",
    "from scipy.optimize import minimize\n",
    "\n",
    "#import lightgbm as lgb\n",
    "#import xgboost as xgb\n",
    "#import catboost as ctb\n",
    "\n",
    "import matplotlib.pyplot as plt\n",
    "import seaborn as sns\n",
    "\n",
    "import warnings\n",
    "warnings.simplefilter('ignore')"
   ]
  },
  {
   "cell_type": "markdown",
   "id": "d8bd2039",
   "metadata": {
    "papermill": {
     "duration": 0.010782,
     "end_time": "2021-08-31T17:39:43.442744",
     "exception": false,
     "start_time": "2021-08-31T17:39:43.431962",
     "status": "completed"
    },
    "tags": []
   },
   "source": [
    "# Parameters"
   ]
  },
  {
   "cell_type": "code",
   "execution_count": 2,
   "id": "bfb966e4",
   "metadata": {
    "execution": {
     "iopub.execute_input": "2021-08-31T17:39:43.470704Z",
     "iopub.status.busy": "2021-08-31T17:39:43.470089Z",
     "iopub.status.idle": "2021-08-31T17:39:43.472205Z",
     "shell.execute_reply": "2021-08-31T17:39:43.472596Z",
     "shell.execute_reply.started": "2021-08-31T17:38:20.141632Z"
    },
    "papermill": {
     "duration": 0.01882,
     "end_time": "2021-08-31T17:39:43.472762",
     "exception": false,
     "start_time": "2021-08-31T17:39:43.453942",
     "status": "completed"
    },
    "tags": []
   },
   "outputs": [],
   "source": [
    "target = 'loss'\n",
    "\n",
    "DEBUG = False\n",
    "\n",
    "if DEBUG:\n",
    "    N_ESTIMATORS = 1\n",
    "    N_SPLITS = 2\n",
    "    SEED = 17\n",
    "    CVSEED = 17\n",
    "    EARLY_STOPPING_ROUNDS = 1\n",
    "    VERBOSE = 100\n",
    "    #N_ITERS = 2\n",
    "else:\n",
    "    N_SPLITS = 10\n",
    "    N_ESTIMATORS = 10000\n",
    "    EARLY_STOPPING_ROUNDS = 300\n",
    "    VERBOSE = 1000\n",
    "    SEED = 17\n",
    "    CVSEED = 17\n",
    "    #N_ITERS = 10"
   ]
  },
  {
   "cell_type": "code",
   "execution_count": 3,
   "id": "f4102f86",
   "metadata": {
    "execution": {
     "iopub.execute_input": "2021-08-31T17:39:43.498732Z",
     "iopub.status.busy": "2021-08-31T17:39:43.498153Z",
     "iopub.status.idle": "2021-08-31T17:39:43.502062Z",
     "shell.execute_reply": "2021-08-31T17:39:43.502478Z",
     "shell.execute_reply.started": "2021-08-31T17:38:20.150525Z"
    },
    "papermill": {
     "duration": 0.018372,
     "end_time": "2021-08-31T17:39:43.502647",
     "exception": false,
     "start_time": "2021-08-31T17:39:43.484275",
     "status": "completed"
    },
    "tags": []
   },
   "outputs": [],
   "source": [
    "def set_seed(seed=17):\n",
    "    random.seed(seed)\n",
    "    os.environ['PYTHONHASHSEED'] = str(seed)\n",
    "    np.random.seed(seed)\n",
    "    \n",
    "set_seed(SEED)"
   ]
  },
  {
   "cell_type": "markdown",
   "id": "8e728a65",
   "metadata": {
    "papermill": {
     "duration": 0.010966,
     "end_time": "2021-08-31T17:39:43.525003",
     "exception": false,
     "start_time": "2021-08-31T17:39:43.514037",
     "status": "completed"
    },
    "tags": []
   },
   "source": [
    "# Load data"
   ]
  },
  {
   "cell_type": "code",
   "execution_count": 4,
   "id": "8f632f27",
   "metadata": {
    "execution": {
     "iopub.execute_input": "2021-08-31T17:39:43.550788Z",
     "iopub.status.busy": "2021-08-31T17:39:43.550206Z",
     "iopub.status.idle": "2021-08-31T17:39:53.206567Z",
     "shell.execute_reply": "2021-08-31T17:39:53.206032Z",
     "shell.execute_reply.started": "2021-08-31T17:38:20.163345Z"
    },
    "papermill": {
     "duration": 9.670279,
     "end_time": "2021-08-31T17:39:53.206726",
     "exception": false,
     "start_time": "2021-08-31T17:39:43.536447",
     "status": "completed"
    },
    "tags": []
   },
   "outputs": [],
   "source": [
    "INPUT = Path(\"../input/tabular-playground-series-aug-2021\")\n",
    "\n",
    "train = pd.read_csv(INPUT / \"train.csv\")\n",
    "test = pd.read_csv(INPUT / \"test.csv\")\n",
    "submission = pd.read_csv(INPUT / \"sample_submission.csv\")"
   ]
  },
  {
   "cell_type": "code",
   "execution_count": 5,
   "id": "935955cc",
   "metadata": {
    "execution": {
     "iopub.execute_input": "2021-08-31T17:39:53.235249Z",
     "iopub.status.busy": "2021-08-31T17:39:53.234649Z",
     "iopub.status.idle": "2021-08-31T17:39:53.537450Z",
     "shell.execute_reply": "2021-08-31T17:39:53.536964Z",
     "shell.execute_reply.started": "2021-08-31T17:38:31.770738Z"
    },
    "papermill": {
     "duration": 0.319289,
     "end_time": "2021-08-31T17:39:53.537594",
     "exception": false,
     "start_time": "2021-08-31T17:39:53.218305",
     "status": "completed"
    },
    "tags": []
   },
   "outputs": [],
   "source": [
    "train['lgb_pred'] = np.load(\"../input/tps-aug-2021-stacking/lgb_oof.npy\")\n",
    "test['lgb_pred'] = np.load(\"../input/tps-aug-2021-stacking/lgb_pred.npy\")\n",
    "\n",
    "train['rr_pred'] = np.load(\"../input/model-loading-tps-aug-2021-stacking-rf/rr_oof.npy\")\n",
    "test['rr_pred'] = np.load(\"../input/model-loading-tps-aug-2021-stacking-rf/rr_pred.npy\")\n",
    "\n",
    "train['mlp_pred'] = np.load(\"../input/tps-aug-stacking-mlp-pred/1mlp_oof.npy\")+np.load(\"../input/tps-aug-stacking-mlp-pred/2mlp_oof.npy\")+np.load(\"../input/tps-aug-stacking-mlp-pred/3mlp_oof.npy\")\n",
    "test['mlp_pred'] = np.load(\"../input/tps-aug-stacking-mlp-pred/1mlp_pred.npy\")+np.load(\"../input/tps-aug-stacking-mlp-pred/2mlp_pred.npy\")+np.load(\"../input/tps-aug-stacking-mlp-pred/3mlp_pred.npy\")\n",
    "\n",
    "train['xgbl2_pred'] = np.load(\"../input/tps-aug-xgb-lv2-pred/1xgb_oof.npy\")+np.load(\"../input/tps-aug-xgb-lv2-pred/2xgb_oof.npy\")\n",
    "test['xgbl2_pred'] = np.load(\"../input/tps-aug-xgb-lv2-pred/1xgb_pred.npy\")+np.load(\"../input/tps-aug-xgb-lv2-pred/2xgb_pred.npy\")\n"
   ]
  },
  {
   "cell_type": "markdown",
   "id": "882a7036",
   "metadata": {
    "papermill": {
     "duration": 0.010762,
     "end_time": "2021-08-31T17:39:53.559664",
     "exception": false,
     "start_time": "2021-08-31T17:39:53.548902",
     "status": "completed"
    },
    "tags": []
   },
   "source": [
    "# Preprocessing"
   ]
  },
  {
   "cell_type": "code",
   "execution_count": 6,
   "id": "89e8cc32",
   "metadata": {
    "execution": {
     "iopub.execute_input": "2021-08-31T17:39:53.589174Z",
     "iopub.status.busy": "2021-08-31T17:39:53.587805Z",
     "iopub.status.idle": "2021-08-31T17:39:54.128108Z",
     "shell.execute_reply": "2021-08-31T17:39:54.127407Z",
     "shell.execute_reply.started": "2021-08-31T17:38:32.214557Z"
    },
    "papermill": {
     "duration": 0.557475,
     "end_time": "2021-08-31T17:39:54.128252",
     "exception": false,
     "start_time": "2021-08-31T17:39:53.570777",
     "status": "completed"
    },
    "tags": []
   },
   "outputs": [],
   "source": [
    "scale_features = [col for col in test.columns if 'pred' in col]\n",
    "\n",
    "ss = StandardScaler()\n",
    "train[scale_features] = ss.fit_transform(train[scale_features])\n",
    "test[scale_features] = ss.transform(test[scale_features])"
   ]
  },
  {
   "cell_type": "code",
   "execution_count": 7,
   "id": "94b2c01b",
   "metadata": {
    "execution": {
     "iopub.execute_input": "2021-08-31T17:39:54.157826Z",
     "iopub.status.busy": "2021-08-31T17:39:54.157161Z",
     "iopub.status.idle": "2021-08-31T17:39:54.160099Z",
     "shell.execute_reply": "2021-08-31T17:39:54.159645Z",
     "shell.execute_reply.started": "2021-08-31T17:38:32.935304Z"
    },
    "papermill": {
     "duration": 0.020582,
     "end_time": "2021-08-31T17:39:54.160233",
     "exception": false,
     "start_time": "2021-08-31T17:39:54.139651",
     "status": "completed"
    },
    "tags": []
   },
   "outputs": [],
   "source": [
    "# Swap noise\n",
    "\n",
    "# Random\n",
    "def apply_noise_rn(df, p=.75):\n",
    "    should_not_swap = np.random.binomial(1, p, df.shape)\n",
    "    corrupted_df = df.where(should_not_swap == 1, np.random.permutation(df))\n",
    "    return corrupted_df\n",
    "\n",
    "# Row-wise\n",
    "def apply_noise_row(df, p=.75):\n",
    "    should_not_swap = np.zeros(df.shape)\n",
    "    for i in range(df.shape[0]):\n",
    "        for j in np.random.choice(df.shape[1],int(p*df.shape[1]),replace=False):\n",
    "            should_not_swap[i,j]=1 \n",
    "    corrupted_df = df.where(should_not_swap == 1, np.random.permutation(df))\n",
    "    return corrupted_df"
   ]
  },
  {
   "cell_type": "markdown",
   "id": "8e20c286",
   "metadata": {
    "papermill": {
     "duration": 0.01129,
     "end_time": "2021-08-31T17:39:54.182920",
     "exception": false,
     "start_time": "2021-08-31T17:39:54.171630",
     "status": "completed"
    },
    "tags": []
   },
   "source": [
    "# Pseudo Label"
   ]
  },
  {
   "cell_type": "code",
   "execution_count": 8,
   "id": "9f57892d",
   "metadata": {
    "execution": {
     "iopub.execute_input": "2021-08-31T17:39:54.211007Z",
     "iopub.status.busy": "2021-08-31T17:39:54.210377Z",
     "iopub.status.idle": "2021-08-31T17:39:54.825125Z",
     "shell.execute_reply": "2021-08-31T17:39:54.825561Z",
     "shell.execute_reply.started": "2021-08-31T17:38:32.945677Z"
    },
    "papermill": {
     "duration": 0.631309,
     "end_time": "2021-08-31T17:39:54.825749",
     "exception": false,
     "start_time": "2021-08-31T17:39:54.194440",
     "status": "completed"
    },
    "tags": []
   },
   "outputs": [],
   "source": [
    "pseudo = pd.read_csv(\"../input/blending-tool-tps-aug-2021/file1_7.84987_file2_7.84996_blend.csv\")[target]\n",
    "test_pseudo = pd.concat([test, pseudo], axis=1)\n",
    "all_pseudo = pd.concat([train, test_pseudo]).reset_index(drop=True)"
   ]
  },
  {
   "cell_type": "code",
   "execution_count": 9,
   "id": "2066dfae",
   "metadata": {
    "execution": {
     "iopub.execute_input": "2021-08-31T17:39:54.852800Z",
     "iopub.status.busy": "2021-08-31T17:39:54.852228Z",
     "iopub.status.idle": "2021-08-31T17:39:54.855006Z",
     "shell.execute_reply": "2021-08-31T17:39:54.854468Z",
     "shell.execute_reply.started": "2021-08-31T17:38:33.560719Z"
    },
    "papermill": {
     "duration": 0.018122,
     "end_time": "2021-08-31T17:39:54.855141",
     "exception": false,
     "start_time": "2021-08-31T17:39:54.837019",
     "status": "completed"
    },
    "tags": []
   },
   "outputs": [],
   "source": [
    "useful_features = scale_features"
   ]
  },
  {
   "cell_type": "markdown",
   "id": "31b47757",
   "metadata": {
    "papermill": {
     "duration": 0.010917,
     "end_time": "2021-08-31T17:39:54.877632",
     "exception": false,
     "start_time": "2021-08-31T17:39:54.866715",
     "status": "completed"
    },
    "tags": []
   },
   "source": [
    "# Ridge"
   ]
  },
  {
   "cell_type": "code",
   "execution_count": 10,
   "id": "57839749",
   "metadata": {
    "execution": {
     "iopub.execute_input": "2021-08-31T17:39:54.905480Z",
     "iopub.status.busy": "2021-08-31T17:39:54.904524Z",
     "iopub.status.idle": "2021-08-31T17:39:54.906781Z",
     "shell.execute_reply": "2021-08-31T17:39:54.907190Z",
     "shell.execute_reply.started": "2021-08-31T17:38:33.566992Z"
    },
    "papermill": {
     "duration": 0.018405,
     "end_time": "2021-08-31T17:39:54.907353",
     "exception": false,
     "start_time": "2021-08-31T17:39:54.888948",
     "status": "completed"
    },
    "tags": []
   },
   "outputs": [],
   "source": [
    "rid_params  = {\n",
    "                 \n",
    "               'max_iter':N_ESTIMATORS,\n",
    "    \n",
    "                'alpha': 0.13218894388362662,\n",
    "                'solver': 'sparse_cg'\n",
    "\n",
    "                }"
   ]
  },
  {
   "cell_type": "code",
   "execution_count": 11,
   "id": "37385f68",
   "metadata": {
    "execution": {
     "iopub.execute_input": "2021-08-31T17:39:54.933647Z",
     "iopub.status.busy": "2021-08-31T17:39:54.932689Z",
     "iopub.status.idle": "2021-08-31T17:39:58.255017Z",
     "shell.execute_reply": "2021-08-31T17:39:58.255835Z",
     "shell.execute_reply.started": "2021-08-31T17:38:33.581507Z"
    },
    "papermill": {
     "duration": 3.337489,
     "end_time": "2021-08-31T17:39:58.256129",
     "exception": false,
     "start_time": "2021-08-31T17:39:54.918640",
     "status": "completed"
    },
    "tags": []
   },
   "outputs": [
    {
     "name": "stdout",
     "output_type": "stream",
     "text": [
      "===== fold 0 =====\n",
      "fold 0 - rid rmse: 7.763521, elapsed time: 0.26sec\n",
      "\n",
      "===== fold 1 =====\n",
      "fold 1 - rid rmse: 7.721193, elapsed time: 0.11sec\n",
      "\n",
      "===== fold 2 =====\n",
      "fold 2 - rid rmse: 7.816264, elapsed time: 0.11sec\n",
      "\n",
      "===== fold 3 =====\n",
      "fold 3 - rid rmse: 7.766669, elapsed time: 0.10sec\n",
      "\n",
      "===== fold 4 =====\n",
      "fold 4 - rid rmse: 7.771938, elapsed time: 0.10sec\n",
      "\n",
      "===== fold 5 =====\n",
      "fold 5 - rid rmse: 7.830187, elapsed time: 0.10sec\n",
      "\n",
      "===== fold 6 =====\n",
      "fold 6 - rid rmse: 7.871178, elapsed time: 0.10sec\n",
      "\n",
      "===== fold 7 =====\n",
      "fold 7 - rid rmse: 7.870962, elapsed time: 0.10sec\n",
      "\n",
      "===== fold 8 =====\n",
      "fold 8 - rid rmse: 7.858090, elapsed time: 0.10sec\n",
      "\n",
      "===== fold 9 =====\n",
      "fold 9 - rid rmse: 7.834407, elapsed time: 0.10sec\n",
      "\n",
      "oof rid_rmse = 7.81063187440413\n"
     ]
    }
   ],
   "source": [
    "rid_oof = np.zeros(train.shape[0])\n",
    "rid_pred = np.zeros(test.shape[0])\n",
    "rid_importances = pd.DataFrame()\n",
    "\n",
    "\n",
    "kf = KFold(n_splits=N_SPLITS, shuffle=True, random_state=CVSEED)\n",
    "seed_list=[SEED, SEED+1, SEED+2]\n",
    "\n",
    "for fold, (trn_idx, val_idx) in enumerate(kf.split(X=all_pseudo[useful_features], y=all_pseudo[target])):\n",
    "    print(f\"===== fold {fold} =====\")\n",
    "    \n",
    "    #if fold in [7,8,9]:\n",
    "        \n",
    "    oof_idx = np.array([idx for idx in val_idx if idx < train.shape[0]])\n",
    "    preds_idx = np.array([idx for idx in val_idx if idx >= train.shape[0]])\n",
    "\n",
    "    X_train, y_train = all_pseudo[useful_features].iloc[trn_idx], all_pseudo[target].iloc[trn_idx]\n",
    "    #X_train = apply_noise_row(X_train)\n",
    "\n",
    "    X_valid, y_valid = all_pseudo[useful_features].iloc[oof_idx], all_pseudo[target].iloc[oof_idx]\n",
    "    X_test = all_pseudo[useful_features].iloc[preds_idx]\n",
    "\n",
    "    # rid\n",
    "    start = time.time()\n",
    "\n",
    "    for inseed in seed_list:\n",
    "        rid_params['random_state'] = inseed\n",
    "\n",
    "        model = Ridge(**rid_params)\n",
    "        model.fit(\n",
    "            X_train, \n",
    "            y_train,\n",
    "\n",
    "        )\n",
    "\n",
    "        with open(f\"rid_model{fold}.pkl\", 'wb') as f:\n",
    "            pickle.dump(model, f)\n",
    "\n",
    "\n",
    "        rid_oof[oof_idx] += model.predict(X_valid) / len(seed_list)\n",
    "        rid_pred[preds_idx-train.shape[0]] += model.predict(X_test) / len(seed_list)\n",
    "\n",
    "    elapsed = time.time() - start\n",
    "    rmse = mean_squared_error(y_valid, rid_oof[oof_idx], squared=False)\n",
    "    print(f\"fold {fold} - rid rmse: {rmse:.6f}, elapsed time: {elapsed:.2f}sec\\n\")\n",
    "\n",
    "        \n",
    "print(f\"oof rid_rmse = {mean_squared_error(train[target], rid_oof, squared=False)}\")\n",
    "\n",
    "np.save(\"rid_oof.npy\", rid_oof)\n",
    "np.save(\"rid_pred.npy\", rid_pred)"
   ]
  },
  {
   "cell_type": "markdown",
   "id": "53ace17e",
   "metadata": {
    "papermill": {
     "duration": 0.025132,
     "end_time": "2021-08-31T17:39:58.307934",
     "exception": false,
     "start_time": "2021-08-31T17:39:58.282802",
     "status": "completed"
    },
    "tags": []
   },
   "source": [
    "# OOF predictions"
   ]
  },
  {
   "cell_type": "code",
   "execution_count": 12,
   "id": "ea7e974a",
   "metadata": {
    "execution": {
     "iopub.execute_input": "2021-08-31T17:39:58.364958Z",
     "iopub.status.busy": "2021-08-31T17:39:58.364332Z",
     "iopub.status.idle": "2021-08-31T17:39:59.425126Z",
     "shell.execute_reply": "2021-08-31T17:39:59.425545Z",
     "shell.execute_reply.started": "2021-08-31T17:38:37.464149Z"
    },
    "papermill": {
     "duration": 1.091828,
     "end_time": "2021-08-31T17:39:59.425719",
     "exception": false,
     "start_time": "2021-08-31T17:39:58.333891",
     "status": "completed"
    },
    "tags": []
   },
   "outputs": [
    {
     "data": {
      "text/plain": [
       "<matplotlib.collections.PathCollection at 0x7f6a14ca6890>"
      ]
     },
     "execution_count": 12,
     "metadata": {},
     "output_type": "execute_result"
    },
    {
     "data": {
      "image/png": "[encoded data removed]",
      "text/plain": [
       "<Figure size 432x288 with 1 Axes>"
      ]
     },
     "metadata": {
      "needs_background": "light"
     },
     "output_type": "display_data"
    }
   ],
   "source": [
    "plt.plot(train[target], train[target])\n",
    "plt.scatter(train[target], rid_oof)"
   ]
  },
  {
   "cell_type": "markdown",
   "id": "2ae968be",
   "metadata": {
    "papermill": {
     "duration": 0.014259,
     "end_time": "2021-08-31T17:39:59.454635",
     "exception": false,
     "start_time": "2021-08-31T17:39:59.440376",
     "status": "completed"
    },
    "tags": []
   },
   "source": [
    "# Submission"
   ]
  },
  {
   "cell_type": "code",
   "execution_count": 13,
   "id": "99ed9258",
   "metadata": {
    "execution": {
     "iopub.execute_input": "2021-08-31T17:39:59.486788Z",
     "iopub.status.busy": "2021-08-31T17:39:59.486209Z",
     "iopub.status.idle": "2021-08-31T17:39:59.848646Z",
     "shell.execute_reply": "2021-08-31T17:39:59.848068Z",
     "shell.execute_reply.started": "2021-08-31T17:38:38.607286Z"
    },
    "papermill": {
     "duration": 0.379527,
     "end_time": "2021-08-31T17:39:59.848782",
     "exception": false,
     "start_time": "2021-08-31T17:39:59.469255",
     "status": "completed"
    },
    "tags": []
   },
   "outputs": [
    {
     "data": {
      "text/html": [
       "<div>\n",
       "<style scoped>\n",
       "    .dataframe tbody tr th:only-of-type {\n",
       "        vertical-align: middle;\n",
       "    }\n",
       "\n",
       "    .dataframe tbody tr th {\n",
       "        vertical-align: top;\n",
       "    }\n",
       "\n",
       "    .dataframe thead th {\n",
       "        text-align: right;\n",
       "    }\n",
       "</style>\n",
       "<table border=\"1\" class=\"dataframe\">\n",
       "  <thead>\n",
       "    <tr style=\"text-align: right;\">\n",
       "      <th></th>\n",
       "      <th>id</th>\n",
       "      <th>loss</th>\n",
       "    </tr>\n",
       "  </thead>\n",
       "  <tbody>\n",
       "    <tr>\n",
       "      <th>0</th>\n",
       "      <td>250000</td>\n",
       "      <td>7.956820</td>\n",
       "    </tr>\n",
       "    <tr>\n",
       "      <th>1</th>\n",
       "      <td>250001</td>\n",
       "      <td>5.269694</td>\n",
       "    </tr>\n",
       "    <tr>\n",
       "      <th>2</th>\n",
       "      <td>250002</td>\n",
       "      <td>9.016885</td>\n",
       "    </tr>\n",
       "    <tr>\n",
       "      <th>3</th>\n",
       "      <td>250003</td>\n",
       "      <td>7.939127</td>\n",
       "    </tr>\n",
       "    <tr>\n",
       "      <th>4</th>\n",
       "      <td>250004</td>\n",
       "      <td>6.736165</td>\n",
       "    </tr>\n",
       "    <tr>\n",
       "      <th>...</th>\n",
       "      <td>...</td>\n",
       "      <td>...</td>\n",
       "    </tr>\n",
       "    <tr>\n",
       "      <th>149995</th>\n",
       "      <td>399995</td>\n",
       "      <td>8.500752</td>\n",
       "    </tr>\n",
       "    <tr>\n",
       "      <th>149996</th>\n",
       "      <td>399996</td>\n",
       "      <td>7.900256</td>\n",
       "    </tr>\n",
       "    <tr>\n",
       "      <th>149997</th>\n",
       "      <td>399997</td>\n",
       "      <td>5.972890</td>\n",
       "    </tr>\n",
       "    <tr>\n",
       "      <th>149998</th>\n",
       "      <td>399998</td>\n",
       "      <td>5.203982</td>\n",
       "    </tr>\n",
       "    <tr>\n",
       "      <th>149999</th>\n",
       "      <td>399999</td>\n",
       "      <td>6.447049</td>\n",
       "    </tr>\n",
       "  </tbody>\n",
       "</table>\n",
       "<p>150000 rows × 2 columns</p>\n",
       "</div>"
      ],
      "text/plain": [
       "            id      loss\n",
       "0       250000  7.956820\n",
       "1       250001  5.269694\n",
       "2       250002  9.016885\n",
       "3       250003  7.939127\n",
       "4       250004  6.736165\n",
       "...        ...       ...\n",
       "149995  399995  8.500752\n",
       "149996  399996  7.900256\n",
       "149997  399997  5.972890\n",
       "149998  399998  5.203982\n",
       "149999  399999  6.447049\n",
       "\n",
       "[150000 rows x 2 columns]"
      ]
     },
     "execution_count": 13,
     "metadata": {},
     "output_type": "execute_result"
    }
   ],
   "source": [
    "submission[target] = rid_pred\n",
    "submission.to_csv(\"submission.csv\", index=False)\n",
    "\n",
    "submission"
   ]
  }
 ],
 "metadata": {
  "kernelspec": {
   "display_name": "Python 3",
   "language": "python",
   "name": "python3"
  },
  "language_info": {
   "codemirror_mode": {
    "name": "ipython",
    "version": 3
   },
   "file_extension": ".py",
   "mimetype": "text/x-python",
   "name": "python",
   "nbconvert_exporter": "python",
   "pygments_lexer": "ipython3",
   "version": "3.7.10"
  },
  "papermill": {
   "default_parameters": {},
   "duration": 26.852655,
   "end_time": "2021-08-31T17:40:01.359198",
   "environment_variables": {},
   "exception": null,
   "input_path": "__notebook__.ipynb",
   "output_path": "__notebook__.ipynb",
   "parameters": {},
   "start_time": "2021-08-31T17:39:34.506543",
   "version": "2.3.3"
  }
 },
 "nbformat": 4,
 "nbformat_minor": 5
}
