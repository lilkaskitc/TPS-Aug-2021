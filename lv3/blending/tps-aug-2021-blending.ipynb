{
 "cells": [
  {
   "cell_type": "markdown",
   "id": "8005c30c",
   "metadata": {
    "papermill": {
     "duration": 0.012135,
     "end_time": "2021-08-31T18:58:25.847233",
     "exception": false,
     "start_time": "2021-08-31T18:58:25.835098",
     "status": "completed"
    },
    "tags": []
   },
   "source": [
    "# Libraries"
   ]
  },
  {
   "cell_type": "code",
   "execution_count": 1,
   "id": "95d74c2a",
   "metadata": {
    "_cell_guid": "b1076dfc-b9ad-4769-8c92-a6c4dae69d19",
    "_uuid": "8f2839f25d086af736a60e9eeb907d3b93b6e0e5",
    "execution": {
     "iopub.execute_input": "2021-08-31T18:58:25.883119Z",
     "iopub.status.busy": "2021-08-31T18:58:25.882419Z",
     "iopub.status.idle": "2021-08-31T18:58:27.152353Z",
     "shell.execute_reply": "2021-08-31T18:58:27.152868Z",
     "shell.execute_reply.started": "2021-08-31T18:56:38.528297Z"
    },
    "papermill": {
     "duration": 1.29442,
     "end_time": "2021-08-31T18:58:27.153182",
     "exception": false,
     "start_time": "2021-08-31T18:58:25.858762",
     "status": "completed"
    },
    "tags": []
   },
   "outputs": [],
   "source": [
    "from pathlib import Path\n",
    "import pandas as pd\n",
    "import numpy as np\n",
    "import pickle\n",
    "import random\n",
    "import time\n",
    "import os\n",
    "\n",
    "from sklearn.preprocessing import StandardScaler\n",
    "from sklearn.model_selection import KFold\n",
    "from sklearn.metrics import mean_squared_error\n",
    "\n",
    "#import lightgbm as lgb\n",
    "#from sklearn.neural_network import MLPRegressor\n",
    "\n",
    "from scipy.optimize import minimize\n",
    "\n",
    "import matplotlib.pyplot as plt\n",
    "import seaborn as sns\n",
    "\n",
    "\n",
    "import warnings\n",
    "warnings.simplefilter('ignore')"
   ]
  },
  {
   "cell_type": "markdown",
   "id": "8c7b3f79",
   "metadata": {
    "papermill": {
     "duration": 0.010887,
     "end_time": "2021-08-31T18:58:27.175569",
     "exception": false,
     "start_time": "2021-08-31T18:58:27.164682",
     "status": "completed"
    },
    "tags": []
   },
   "source": [
    "# Parameters"
   ]
  },
  {
   "cell_type": "code",
   "execution_count": 2,
   "id": "bc315fef",
   "metadata": {
    "execution": {
     "iopub.execute_input": "2021-08-31T18:58:27.201089Z",
     "iopub.status.busy": "2021-08-31T18:58:27.200419Z",
     "iopub.status.idle": "2021-08-31T18:58:27.205281Z",
     "shell.execute_reply": "2021-08-31T18:58:27.205769Z",
     "shell.execute_reply.started": "2021-08-31T18:56:38.538258Z"
    },
    "papermill": {
     "duration": 0.019213,
     "end_time": "2021-08-31T18:58:27.205943",
     "exception": false,
     "start_time": "2021-08-31T18:58:27.186730",
     "status": "completed"
    },
    "tags": []
   },
   "outputs": [],
   "source": [
    "target = 'loss'\n",
    "\n",
    "DEBUG = False\n",
    "\n",
    "if DEBUG:\n",
    "    N_ESTIMATORS = 1\n",
    "    N_SPLITS = 2\n",
    "    SEED = 17\n",
    "    CVSEED = 17\n",
    "    EARLY_STOPPING_ROUNDS = 1\n",
    "    VERBOSE = 100\n",
    "    #N_ITERS = 2\n",
    "else:\n",
    "    N_SPLITS = 10\n",
    "    N_ESTIMATORS = 10000\n",
    "    EARLY_STOPPING_ROUNDS = 300\n",
    "    VERBOSE = 1000\n",
    "    SEED = 17\n",
    "    CVSEED = 17\n",
    "    #N_ITERS = 10"
   ]
  },
  {
   "cell_type": "code",
   "execution_count": 3,
   "id": "d3c64987",
   "metadata": {
    "execution": {
     "iopub.execute_input": "2021-08-31T18:58:27.231659Z",
     "iopub.status.busy": "2021-08-31T18:58:27.231021Z",
     "iopub.status.idle": "2021-08-31T18:58:27.236178Z",
     "shell.execute_reply": "2021-08-31T18:58:27.235700Z",
     "shell.execute_reply.started": "2021-08-31T18:56:38.554294Z"
    },
    "papermill": {
     "duration": 0.019042,
     "end_time": "2021-08-31T18:58:27.236313",
     "exception": false,
     "start_time": "2021-08-31T18:58:27.217271",
     "status": "completed"
    },
    "tags": []
   },
   "outputs": [],
   "source": [
    "def set_seed(seed=17):\n",
    "    random.seed(seed)\n",
    "    os.environ['PYTHONHASHSEED'] = str(seed)\n",
    "    np.random.seed(seed)\n",
    "    \n",
    "set_seed(SEED)"
   ]
  },
  {
   "cell_type": "markdown",
   "id": "1e67415f",
   "metadata": {
    "papermill": {
     "duration": 0.010817,
     "end_time": "2021-08-31T18:58:27.258421",
     "exception": false,
     "start_time": "2021-08-31T18:58:27.247604",
     "status": "completed"
    },
    "tags": []
   },
   "source": [
    "# Datasets"
   ]
  },
  {
   "cell_type": "code",
   "execution_count": 4,
   "id": "33b9fad3",
   "metadata": {
    "execution": {
     "iopub.execute_input": "2021-08-31T18:58:27.286289Z",
     "iopub.status.busy": "2021-08-31T18:58:27.285668Z",
     "iopub.status.idle": "2021-08-31T18:58:34.468166Z",
     "shell.execute_reply": "2021-08-31T18:58:34.467553Z",
     "shell.execute_reply.started": "2021-08-31T18:56:38.569814Z"
    },
    "papermill": {
     "duration": 7.198737,
     "end_time": "2021-08-31T18:58:34.468304",
     "exception": false,
     "start_time": "2021-08-31T18:58:27.269567",
     "status": "completed"
    },
    "tags": []
   },
   "outputs": [],
   "source": [
    "INPUT = Path(\"../input/tabular-playground-series-aug-2021\")\n",
    "\n",
    "train = pd.read_csv(INPUT / \"train.csv\")\n",
    "#test = pd.read_csv(INPUT / \"test.csv\")\n",
    "submission = pd.read_csv(INPUT / \"sample_submission.csv\")"
   ]
  },
  {
   "cell_type": "code",
   "execution_count": 5,
   "id": "02e1267a",
   "metadata": {
    "execution": {
     "iopub.execute_input": "2021-08-31T18:58:34.496274Z",
     "iopub.status.busy": "2021-08-31T18:58:34.495610Z",
     "iopub.status.idle": "2021-08-31T18:58:34.641171Z",
     "shell.execute_reply": "2021-08-31T18:58:34.639983Z",
     "shell.execute_reply.started": "2021-08-31T18:56:43.614696Z"
    },
    "papermill": {
     "duration": 0.161542,
     "end_time": "2021-08-31T18:58:34.641324",
     "exception": false,
     "start_time": "2021-08-31T18:58:34.479782",
     "status": "completed"
    },
    "tags": []
   },
   "outputs": [],
   "source": [
    "rid_oof = np.load(\"../input/tps-aug-2021-stacking-ridge-lv3/rid_oof.npy\")\n",
    "rid_pred = np.load(\"../input/tps-aug-2021-stacking-ridge-lv3/rid_pred.npy\")\n",
    "\n",
    "en_oof = np.load(\"../input/tps-aug-2021-stacking-en-lv3/en_oof.npy\")\n",
    "en_pred = np.load(\"../input/tps-aug-2021-stacking-en-lv3/en_pred.npy\")\n",
    "\n",
    "lgb_oof = np.load(\"../input/tps-aug-2021-stacking-lgb-no-pseudo/lgb_oof.npy\")\n",
    "lgb_pred = np.load(\"../input/tps-aug-2021-stacking-lgb-no-pseudo/lgb_pred.npy\")\n"
   ]
  },
  {
   "cell_type": "markdown",
   "id": "2bc813bb",
   "metadata": {
    "papermill": {
     "duration": 0.010759,
     "end_time": "2021-08-31T18:58:34.663451",
     "exception": false,
     "start_time": "2021-08-31T18:58:34.652692",
     "status": "completed"
    },
    "tags": []
   },
   "source": [
    "# Blending"
   ]
  },
  {
   "cell_type": "code",
   "execution_count": 6,
   "id": "4bed4499",
   "metadata": {
    "execution": {
     "iopub.execute_input": "2021-08-31T18:58:34.692819Z",
     "iopub.status.busy": "2021-08-31T18:58:34.692156Z",
     "iopub.status.idle": "2021-08-31T18:58:34.905897Z",
     "shell.execute_reply": "2021-08-31T18:58:34.905306Z",
     "shell.execute_reply.started": "2021-08-31T18:56:43.638868Z"
    },
    "papermill": {
     "duration": 0.23142,
     "end_time": "2021-08-31T18:58:34.906039",
     "exception": false,
     "start_time": "2021-08-31T18:58:34.674619",
     "status": "completed"
    },
    "tags": []
   },
   "outputs": [
    {
     "name": "stdout",
     "output_type": "stream",
     "text": [
      " final_simplex: (array([[ 1.54631262, -0.02990933],\n",
      "       [ 1.54640954, -0.02999759],\n",
      "       [ 1.54625729, -0.02984123]]), array([7.80825461, 7.80825461, 7.80825461]))\n",
      "           fun: 7.808254614628565\n",
      "       message: 'Optimization terminated successfully.'\n",
      "          nfev: 85\n",
      "           nit: 44\n",
      "        status: 0\n",
      "       success: True\n",
      "             x: array([ 1.54631262, -0.02990933])\n",
      "coef0 1.54631262189876, coef1 -0.029909329334772597, coef2 -0.5164032925639873\n"
     ]
    }
   ],
   "source": [
    "def class_optimizer(X, a0, a1, a2):\n",
    "    oof = X[0]*a0 + X[1]*a1 + (1-X[0]-X[1])*a2\n",
    "    return mean_squared_error(train[target], oof, squared=False)\n",
    "\n",
    "res = minimize(\n",
    "    fun=class_optimizer,\n",
    "    x0=[0.6, 0.3],\n",
    "    args=tuple([rid_oof, en_oof, lgb_oof]),\n",
    "    method='Nelder-Mead',\n",
    "    options={'maxiter': 500})\n",
    "\n",
    "print(res)\n",
    "print(f\"coef0 {res.x[0]}, coef1 {res.x[1]}, coef2 {1-res.x[0]-res.x[1]}\")"
   ]
  },
  {
   "cell_type": "code",
   "execution_count": 7,
   "id": "9de6adc3",
   "metadata": {
    "execution": {
     "iopub.execute_input": "2021-08-31T18:58:34.936364Z",
     "iopub.status.busy": "2021-08-31T18:58:34.935608Z",
     "iopub.status.idle": "2021-08-31T18:58:34.943962Z",
     "shell.execute_reply": "2021-08-31T18:58:34.944411Z",
     "shell.execute_reply.started": "2021-08-31T18:56:43.867959Z"
    },
    "papermill": {
     "duration": 0.026567,
     "end_time": "2021-08-31T18:58:34.944610",
     "exception": false,
     "start_time": "2021-08-31T18:58:34.918043",
     "status": "completed"
    },
    "tags": []
   },
   "outputs": [
    {
     "name": "stdout",
     "output_type": "stream",
     "text": [
      "7.808254614628565\n"
     ]
    }
   ],
   "source": [
    "blend_oof = res.x[0] * rid_oof + res.x[1] * en_oof + (1-res.x[0]-res.x[1]) * lgb_oof\n",
    "blend_pred = res.x[0] * rid_pred  + res.x[1] * en_pred + (1-res.x[0]-res.x[1]) * lgb_pred\n",
    "\n",
    "print(mean_squared_error(train[target], blend_oof, squared=False))"
   ]
  },
  {
   "cell_type": "markdown",
   "id": "eecc1b54",
   "metadata": {
    "papermill": {
     "duration": 0.011597,
     "end_time": "2021-08-31T18:58:34.968418",
     "exception": false,
     "start_time": "2021-08-31T18:58:34.956821",
     "status": "completed"
    },
    "tags": []
   },
   "source": [
    "# OOF predictions"
   ]
  },
  {
   "cell_type": "code",
   "execution_count": 8,
   "id": "a1b22e13",
   "metadata": {
    "execution": {
     "iopub.execute_input": "2021-08-31T18:58:35.013042Z",
     "iopub.status.busy": "2021-08-31T18:58:35.012335Z",
     "iopub.status.idle": "2021-08-31T18:58:36.093524Z",
     "shell.execute_reply": "2021-08-31T18:58:36.092713Z",
     "shell.execute_reply.started": "2021-08-31T18:56:43.884072Z"
    },
    "papermill": {
     "duration": 1.113302,
     "end_time": "2021-08-31T18:58:36.093681",
     "exception": false,
     "start_time": "2021-08-31T18:58:34.980379",
     "status": "completed"
    },
    "tags": []
   },
   "outputs": [
    {
     "data": {
      "text/plain": [
       "<matplotlib.collections.PathCollection at 0x7fcc7d6c0d10>"
      ]
     },
     "execution_count": 8,
     "metadata": {},
     "output_type": "execute_result"
    },
    {
     "data": {
      "image/png": "[encoded data removed]",
      "text/plain": [
       "<Figure size 432x288 with 1 Axes>"
      ]
     },
     "metadata": {
      "needs_background": "light"
     },
     "output_type": "display_data"
    }
   ],
   "source": [
    "plt.plot(train[target], train[target])\n",
    "plt.scatter(train[target], blend_oof)"
   ]
  },
  {
   "cell_type": "markdown",
   "id": "52dae7fc",
   "metadata": {
    "papermill": {
     "duration": 0.01322,
     "end_time": "2021-08-31T18:58:36.120559",
     "exception": false,
     "start_time": "2021-08-31T18:58:36.107339",
     "status": "completed"
    },
    "tags": []
   },
   "source": [
    "# Submission"
   ]
  },
  {
   "cell_type": "code",
   "execution_count": 9,
   "id": "b7459065",
   "metadata": {
    "execution": {
     "iopub.execute_input": "2021-08-31T18:58:36.153624Z",
     "iopub.status.busy": "2021-08-31T18:58:36.152933Z",
     "iopub.status.idle": "2021-08-31T18:58:36.744645Z",
     "shell.execute_reply": "2021-08-31T18:58:36.743980Z",
     "shell.execute_reply.started": "2021-08-31T18:56:44.928495Z"
    },
    "papermill": {
     "duration": 0.610788,
     "end_time": "2021-08-31T18:58:36.744820",
     "exception": false,
     "start_time": "2021-08-31T18:58:36.134032",
     "status": "completed"
    },
    "tags": []
   },
   "outputs": [
    {
     "data": {
      "text/html": [
       "<div>\n",
       "<style scoped>\n",
       "    .dataframe tbody tr th:only-of-type {\n",
       "        vertical-align: middle;\n",
       "    }\n",
       "\n",
       "    .dataframe tbody tr th {\n",
       "        vertical-align: top;\n",
       "    }\n",
       "\n",
       "    .dataframe thead th {\n",
       "        text-align: right;\n",
       "    }\n",
       "</style>\n",
       "<table border=\"1\" class=\"dataframe\">\n",
       "  <thead>\n",
       "    <tr style=\"text-align: right;\">\n",
       "      <th></th>\n",
       "      <th>id</th>\n",
       "      <th>loss</th>\n",
       "    </tr>\n",
       "  </thead>\n",
       "  <tbody>\n",
       "    <tr>\n",
       "      <th>0</th>\n",
       "      <td>250000</td>\n",
       "      <td>7.824980</td>\n",
       "    </tr>\n",
       "    <tr>\n",
       "      <th>1</th>\n",
       "      <td>250001</td>\n",
       "      <td>5.601909</td>\n",
       "    </tr>\n",
       "    <tr>\n",
       "      <th>2</th>\n",
       "      <td>250002</td>\n",
       "      <td>9.133925</td>\n",
       "    </tr>\n",
       "    <tr>\n",
       "      <th>3</th>\n",
       "      <td>250003</td>\n",
       "      <td>8.076081</td>\n",
       "    </tr>\n",
       "    <tr>\n",
       "      <th>4</th>\n",
       "      <td>250004</td>\n",
       "      <td>6.514992</td>\n",
       "    </tr>\n",
       "    <tr>\n",
       "      <th>...</th>\n",
       "      <td>...</td>\n",
       "      <td>...</td>\n",
       "    </tr>\n",
       "    <tr>\n",
       "      <th>149995</th>\n",
       "      <td>399995</td>\n",
       "      <td>8.892393</td>\n",
       "    </tr>\n",
       "    <tr>\n",
       "      <th>149996</th>\n",
       "      <td>399996</td>\n",
       "      <td>8.068462</td>\n",
       "    </tr>\n",
       "    <tr>\n",
       "      <th>149997</th>\n",
       "      <td>399997</td>\n",
       "      <td>5.989622</td>\n",
       "    </tr>\n",
       "    <tr>\n",
       "      <th>149998</th>\n",
       "      <td>399998</td>\n",
       "      <td>5.156384</td>\n",
       "    </tr>\n",
       "    <tr>\n",
       "      <th>149999</th>\n",
       "      <td>399999</td>\n",
       "      <td>6.290520</td>\n",
       "    </tr>\n",
       "  </tbody>\n",
       "</table>\n",
       "<p>150000 rows × 2 columns</p>\n",
       "</div>"
      ],
      "text/plain": [
       "            id      loss\n",
       "0       250000  7.824980\n",
       "1       250001  5.601909\n",
       "2       250002  9.133925\n",
       "3       250003  8.076081\n",
       "4       250004  6.514992\n",
       "...        ...       ...\n",
       "149995  399995  8.892393\n",
       "149996  399996  8.068462\n",
       "149997  399997  5.989622\n",
       "149998  399998  5.156384\n",
       "149999  399999  6.290520\n",
       "\n",
       "[150000 rows x 2 columns]"
      ]
     },
     "execution_count": 9,
     "metadata": {},
     "output_type": "execute_result"
    }
   ],
   "source": [
    "submission[target] = blend_pred\n",
    "submission.to_csv(\"submission.csv\", index=False)\n",
    "\n",
    "submission"
   ]
  }
 ],
 "metadata": {
  "kernelspec": {
   "display_name": "Python 3",
   "language": "python",
   "name": "python3"
  },
  "language_info": {
   "codemirror_mode": {
    "name": "ipython",
    "version": 3
   },
   "file_extension": ".py",
   "mimetype": "text/x-python",
   "name": "python",
   "nbconvert_exporter": "python",
   "pygments_lexer": "ipython3",
   "version": "3.7.10"
  },
  "papermill": {
   "default_parameters": {},
   "duration": 20.88138,
   "end_time": "2021-08-31T18:58:38.148332",
   "environment_variables": {},
   "exception": null,
   "input_path": "__notebook__.ipynb",
   "output_path": "__notebook__.ipynb",
   "parameters": {},
   "start_time": "2021-08-31T18:58:17.266952",
   "version": "2.3.3"
  }
 },
 "nbformat": 4,
 "nbformat_minor": 5
}
