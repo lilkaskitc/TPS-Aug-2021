{
 "cells": [
  {
   "cell_type": "code",
   "execution_count": 1,
   "id": "d2339479",
   "metadata": {
    "_cell_guid": "b1076dfc-b9ad-4769-8c92-a6c4dae69d19",
    "_uuid": "8f2839f25d086af736a60e9eeb907d3b93b6e0e5",
    "execution": {
     "iopub.execute_input": "2021-08-31T18:11:21.203282Z",
     "iopub.status.busy": "2021-08-31T18:11:21.198808Z",
     "iopub.status.idle": "2021-08-31T18:11:22.483425Z",
     "shell.execute_reply": "2021-08-31T18:11:22.482749Z",
     "shell.execute_reply.started": "2021-08-31T18:09:28.249178Z"
    },
    "papermill": {
     "duration": 1.309315,
     "end_time": "2021-08-31T18:11:22.483611",
     "exception": false,
     "start_time": "2021-08-31T18:11:21.174296",
     "status": "completed"
    },
    "tags": []
   },
   "outputs": [],
   "source": [
    "# Familiar imports\n",
    "import numpy as np\n",
    "import pandas as pd\n",
    "import random\n",
    "import os\n",
    "import time\n",
    "from pathlib import Path\n",
    "import pickle\n",
    "\n",
    "from sklearn.preprocessing import StandardScaler\n",
    "from sklearn.model_selection import KFold, train_test_split\n",
    "from sklearn.metrics import mean_squared_error\n",
    "from sklearn.linear_model import ElasticNet\n",
    "\n",
    "from scipy.optimize import minimize\n",
    "\n",
    "#import lightgbm as lgb\n",
    "#import xgboost as xgb\n",
    "#import catboost as ctb\n",
    "\n",
    "import matplotlib.pyplot as plt\n",
    "import seaborn as sns\n",
    "\n",
    "import warnings\n",
    "warnings.simplefilter('ignore')"
   ]
  },
  {
   "cell_type": "markdown",
   "id": "c5f65456",
   "metadata": {
    "papermill": {
     "duration": 0.014794,
     "end_time": "2021-08-31T18:11:22.513874",
     "exception": false,
     "start_time": "2021-08-31T18:11:22.499080",
     "status": "completed"
    },
    "tags": []
   },
   "source": [
    "# Parameters"
   ]
  },
  {
   "cell_type": "code",
   "execution_count": 2,
   "id": "36fc359f",
   "metadata": {
    "execution": {
     "iopub.execute_input": "2021-08-31T18:11:22.549996Z",
     "iopub.status.busy": "2021-08-31T18:11:22.549262Z",
     "iopub.status.idle": "2021-08-31T18:11:22.552177Z",
     "shell.execute_reply": "2021-08-31T18:11:22.552638Z",
     "shell.execute_reply.started": "2021-08-31T18:09:29.423114Z"
    },
    "papermill": {
     "duration": 0.024003,
     "end_time": "2021-08-31T18:11:22.552801",
     "exception": false,
     "start_time": "2021-08-31T18:11:22.528798",
     "status": "completed"
    },
    "tags": []
   },
   "outputs": [],
   "source": [
    "target = 'loss'\n",
    "\n",
    "DEBUG = False\n",
    "\n",
    "if DEBUG:\n",
    "    N_ESTIMATORS = 1\n",
    "    N_SPLITS = 2\n",
    "    SEED = 17\n",
    "    CVSEED = 17\n",
    "    EARLY_STOPPING_ROUNDS = 1\n",
    "    VERBOSE = 100\n",
    "    #N_ITERS = 2\n",
    "else:\n",
    "    N_SPLITS = 10\n",
    "    N_ESTIMATORS = 10000\n",
    "    EARLY_STOPPING_ROUNDS = 300\n",
    "    VERBOSE = 1000\n",
    "    SEED = 17\n",
    "    CVSEED = 17\n",
    "    #N_ITERS = 10"
   ]
  },
  {
   "cell_type": "code",
   "execution_count": 3,
   "id": "e28deb0a",
   "metadata": {
    "execution": {
     "iopub.execute_input": "2021-08-31T18:11:22.585590Z",
     "iopub.status.busy": "2021-08-31T18:11:22.585004Z",
     "iopub.status.idle": "2021-08-31T18:11:22.589075Z",
     "shell.execute_reply": "2021-08-31T18:11:22.589606Z",
     "shell.execute_reply.started": "2021-08-31T18:09:29.430265Z"
    },
    "papermill": {
     "duration": 0.022296,
     "end_time": "2021-08-31T18:11:22.589774",
     "exception": false,
     "start_time": "2021-08-31T18:11:22.567478",
     "status": "completed"
    },
    "tags": []
   },
   "outputs": [],
   "source": [
    "def set_seed(seed=17):\n",
    "    random.seed(seed)\n",
    "    os.environ['PYTHONHASHSEED'] = str(seed)\n",
    "    np.random.seed(seed)\n",
    "    \n",
    "set_seed(SEED)"
   ]
  },
  {
   "cell_type": "markdown",
   "id": "d16eef0a",
   "metadata": {
    "papermill": {
     "duration": 0.0145,
     "end_time": "2021-08-31T18:11:22.619115",
     "exception": false,
     "start_time": "2021-08-31T18:11:22.604615",
     "status": "completed"
    },
    "tags": []
   },
   "source": [
    "# Load data"
   ]
  },
  {
   "cell_type": "code",
   "execution_count": 4,
   "id": "7a2e8b39",
   "metadata": {
    "execution": {
     "iopub.execute_input": "2021-08-31T18:11:22.651458Z",
     "iopub.status.busy": "2021-08-31T18:11:22.650867Z",
     "iopub.status.idle": "2021-08-31T18:11:33.448621Z",
     "shell.execute_reply": "2021-08-31T18:11:33.449186Z",
     "shell.execute_reply.started": "2021-08-31T18:09:29.442280Z"
    },
    "papermill": {
     "duration": 10.815598,
     "end_time": "2021-08-31T18:11:33.449380",
     "exception": false,
     "start_time": "2021-08-31T18:11:22.633782",
     "status": "completed"
    },
    "tags": []
   },
   "outputs": [],
   "source": [
    "INPUT = Path(\"../input/tabular-playground-series-aug-2021\")\n",
    "\n",
    "train = pd.read_csv(INPUT / \"train.csv\")\n",
    "test = pd.read_csv(INPUT / \"test.csv\")\n",
    "submission = pd.read_csv(INPUT / \"sample_submission.csv\")"
   ]
  },
  {
   "cell_type": "code",
   "execution_count": 5,
   "id": "fa98fbfc",
   "metadata": {
    "execution": {
     "iopub.execute_input": "2021-08-31T18:11:33.482394Z",
     "iopub.status.busy": "2021-08-31T18:11:33.481752Z",
     "iopub.status.idle": "2021-08-31T18:11:33.829384Z",
     "shell.execute_reply": "2021-08-31T18:11:33.828550Z",
     "shell.execute_reply.started": "2021-08-31T18:09:39.085144Z"
    },
    "papermill": {
     "duration": 0.365009,
     "end_time": "2021-08-31T18:11:33.829542",
     "exception": false,
     "start_time": "2021-08-31T18:11:33.464533",
     "status": "completed"
    },
    "tags": []
   },
   "outputs": [],
   "source": [
    "train['lgb_pred'] = np.load(\"../input/tps-aug-2021-stacking/lgb_oof.npy\")\n",
    "test['lgb_pred'] = np.load(\"../input/tps-aug-2021-stacking/lgb_pred.npy\")\n",
    "\n",
    "train['rr_pred'] = np.load(\"../input/model-loading-tps-aug-2021-stacking-rf/rr_oof.npy\")\n",
    "test['rr_pred'] = np.load(\"../input/model-loading-tps-aug-2021-stacking-rf/rr_pred.npy\")\n",
    "\n",
    "train['mlp_pred'] = np.load(\"../input/tps-aug-stacking-mlp-pred/1mlp_oof.npy\")+np.load(\"../input/tps-aug-stacking-mlp-pred/2mlp_oof.npy\")+np.load(\"../input/tps-aug-stacking-mlp-pred/3mlp_oof.npy\")\n",
    "test['mlp_pred'] = np.load(\"../input/tps-aug-stacking-mlp-pred/1mlp_pred.npy\")+np.load(\"../input/tps-aug-stacking-mlp-pred/2mlp_pred.npy\")+np.load(\"../input/tps-aug-stacking-mlp-pred/3mlp_pred.npy\")\n",
    "\n",
    "train['xgbl2_pred'] = np.load(\"../input/tps-aug-xgb-lv2-pred/1xgb_oof.npy\")+np.load(\"../input/tps-aug-xgb-lv2-pred/2xgb_oof.npy\")\n",
    "test['xgbl2_pred'] = np.load(\"../input/tps-aug-xgb-lv2-pred/1xgb_pred.npy\")+np.load(\"../input/tps-aug-xgb-lv2-pred/2xgb_pred.npy\")\n"
   ]
  },
  {
   "cell_type": "markdown",
   "id": "c07ca9de",
   "metadata": {
    "papermill": {
     "duration": 0.013978,
     "end_time": "2021-08-31T18:11:33.858329",
     "exception": false,
     "start_time": "2021-08-31T18:11:33.844351",
     "status": "completed"
    },
    "tags": []
   },
   "source": [
    "# Preprocessing"
   ]
  },
  {
   "cell_type": "code",
   "execution_count": 6,
   "id": "9e03ec8f",
   "metadata": {
    "execution": {
     "iopub.execute_input": "2021-08-31T18:11:33.893777Z",
     "iopub.status.busy": "2021-08-31T18:11:33.893164Z",
     "iopub.status.idle": "2021-08-31T18:11:34.602451Z",
     "shell.execute_reply": "2021-08-31T18:11:34.601750Z",
     "shell.execute_reply.started": "2021-08-31T18:09:39.479293Z"
    },
    "papermill": {
     "duration": 0.729759,
     "end_time": "2021-08-31T18:11:34.602589",
     "exception": false,
     "start_time": "2021-08-31T18:11:33.872830",
     "status": "completed"
    },
    "tags": []
   },
   "outputs": [],
   "source": [
    "scale_features = [col for col in test.columns if 'pred' in col]\n",
    "\n",
    "ss = StandardScaler()\n",
    "train[scale_features] = ss.fit_transform(train[scale_features])\n",
    "test[scale_features] = ss.transform(test[scale_features])"
   ]
  },
  {
   "cell_type": "code",
   "execution_count": 7,
   "id": "8b6b1191",
   "metadata": {
    "execution": {
     "iopub.execute_input": "2021-08-31T18:11:34.640197Z",
     "iopub.status.busy": "2021-08-31T18:11:34.639536Z",
     "iopub.status.idle": "2021-08-31T18:11:34.642549Z",
     "shell.execute_reply": "2021-08-31T18:11:34.642023Z",
     "shell.execute_reply.started": "2021-08-31T18:09:39.995927Z"
    },
    "papermill": {
     "duration": 0.025261,
     "end_time": "2021-08-31T18:11:34.642677",
     "exception": false,
     "start_time": "2021-08-31T18:11:34.617416",
     "status": "completed"
    },
    "tags": []
   },
   "outputs": [],
   "source": [
    "# Swap noise\n",
    "\n",
    "# Random\n",
    "def apply_noise_rn(df, p=.75):\n",
    "    should_not_swap = np.random.binomial(1, p, df.shape)\n",
    "    corrupted_df = df.where(should_not_swap == 1, np.random.permutation(df))\n",
    "    return corrupted_df\n",
    "\n",
    "# Row-wise\n",
    "def apply_noise_row(df, p=.75):\n",
    "    should_not_swap = np.zeros(df.shape)\n",
    "    for i in range(df.shape[0]):\n",
    "        for j in np.random.choice(df.shape[1],int(p*df.shape[1]),replace=False):\n",
    "            should_not_swap[i,j]=1 \n",
    "    corrupted_df = df.where(should_not_swap == 1, np.random.permutation(df))\n",
    "    return corrupted_df"
   ]
  },
  {
   "cell_type": "markdown",
   "id": "b5d4a9f1",
   "metadata": {
    "papermill": {
     "duration": 0.014581,
     "end_time": "2021-08-31T18:11:34.671812",
     "exception": false,
     "start_time": "2021-08-31T18:11:34.657231",
     "status": "completed"
    },
    "tags": []
   },
   "source": [
    "# Pseudo Label"
   ]
  },
  {
   "cell_type": "code",
   "execution_count": 8,
   "id": "fd8c8a49",
   "metadata": {
    "execution": {
     "iopub.execute_input": "2021-08-31T18:11:34.706513Z",
     "iopub.status.busy": "2021-08-31T18:11:34.705913Z",
     "iopub.status.idle": "2021-08-31T18:11:35.298528Z",
     "shell.execute_reply": "2021-08-31T18:11:35.299045Z",
     "shell.execute_reply.started": "2021-08-31T18:09:40.007609Z"
    },
    "papermill": {
     "duration": 0.612652,
     "end_time": "2021-08-31T18:11:35.299245",
     "exception": false,
     "start_time": "2021-08-31T18:11:34.686593",
     "status": "completed"
    },
    "tags": []
   },
   "outputs": [],
   "source": [
    "pseudo = pd.read_csv(\"../input/blending-tool-tps-aug-2021/file1_7.84987_file2_7.84996_blend.csv\")[target]\n",
    "test_pseudo = pd.concat([test, pseudo], axis=1)\n",
    "all_pseudo = pd.concat([train, test_pseudo]).reset_index(drop=True)"
   ]
  },
  {
   "cell_type": "code",
   "execution_count": 9,
   "id": "01f07aa5",
   "metadata": {
    "execution": {
     "iopub.execute_input": "2021-08-31T18:11:35.332445Z",
     "iopub.status.busy": "2021-08-31T18:11:35.331488Z",
     "iopub.status.idle": "2021-08-31T18:11:35.335340Z",
     "shell.execute_reply": "2021-08-31T18:11:35.335844Z",
     "shell.execute_reply.started": "2021-08-31T18:09:40.586309Z"
    },
    "papermill": {
     "duration": 0.022011,
     "end_time": "2021-08-31T18:11:35.336001",
     "exception": false,
     "start_time": "2021-08-31T18:11:35.313990",
     "status": "completed"
    },
    "tags": []
   },
   "outputs": [],
   "source": [
    "useful_features = scale_features"
   ]
  },
  {
   "cell_type": "markdown",
   "id": "ae1cc4a2",
   "metadata": {
    "papermill": {
     "duration": 0.014389,
     "end_time": "2021-08-31T18:11:35.365186",
     "exception": false,
     "start_time": "2021-08-31T18:11:35.350797",
     "status": "completed"
    },
    "tags": []
   },
   "source": [
    "# EN"
   ]
  },
  {
   "cell_type": "code",
   "execution_count": 10,
   "id": "621ce7d2",
   "metadata": {
    "execution": {
     "iopub.execute_input": "2021-08-31T18:11:35.398452Z",
     "iopub.status.busy": "2021-08-31T18:11:35.397471Z",
     "iopub.status.idle": "2021-08-31T18:11:35.401756Z",
     "shell.execute_reply": "2021-08-31T18:11:35.402234Z",
     "shell.execute_reply.started": "2021-08-31T18:09:40.591491Z"
    },
    "papermill": {
     "duration": 0.022486,
     "end_time": "2021-08-31T18:11:35.402408",
     "exception": false,
     "start_time": "2021-08-31T18:11:35.379922",
     "status": "completed"
    },
    "tags": []
   },
   "outputs": [],
   "source": [
    "en_params  = {\n",
    "                 \n",
    "               'max_iter':N_ESTIMATORS,\n",
    "    \n",
    "                'alpha': 0.018982240369176395, \n",
    "                'l1_ratio': 0.8055028430485707,\n",
    "                'selection': 'random'\n",
    "\n",
    "                }"
   ]
  },
  {
   "cell_type": "code",
   "execution_count": 11,
   "id": "9761798c",
   "metadata": {
    "execution": {
     "iopub.execute_input": "2021-08-31T18:11:35.436210Z",
     "iopub.status.busy": "2021-08-31T18:11:35.435248Z",
     "iopub.status.idle": "2021-08-31T18:11:48.523324Z",
     "shell.execute_reply": "2021-08-31T18:11:48.524442Z",
     "shell.execute_reply.started": "2021-08-31T18:09:40.604181Z"
    },
    "papermill": {
     "duration": 13.107129,
     "end_time": "2021-08-31T18:11:48.524704",
     "exception": false,
     "start_time": "2021-08-31T18:11:35.417575",
     "status": "completed"
    },
    "tags": []
   },
   "outputs": [
    {
     "name": "stdout",
     "output_type": "stream",
     "text": [
      "===== fold 0 =====\n",
      "fold 0 - en rmse: 7.764694, elapsed time: 1.16sec\n",
      "\n",
      "===== fold 1 =====\n",
      "fold 1 - en rmse: 7.722211, elapsed time: 1.05sec\n",
      "\n",
      "===== fold 2 =====\n",
      "fold 2 - en rmse: 7.817236, elapsed time: 0.96sec\n",
      "\n",
      "===== fold 3 =====\n",
      "fold 3 - en rmse: 7.767626, elapsed time: 1.05sec\n",
      "\n",
      "===== fold 4 =====\n",
      "fold 4 - en rmse: 7.773216, elapsed time: 1.04sec\n",
      "\n",
      "===== fold 5 =====\n",
      "fold 5 - en rmse: 7.830406, elapsed time: 1.05sec\n",
      "\n",
      "===== fold 6 =====\n",
      "fold 6 - en rmse: 7.872504, elapsed time: 1.10sec\n",
      "\n",
      "===== fold 7 =====\n",
      "fold 7 - en rmse: 7.872209, elapsed time: 1.04sec\n",
      "\n",
      "===== fold 8 =====\n",
      "fold 8 - en rmse: 7.858995, elapsed time: 1.03sec\n",
      "\n",
      "===== fold 9 =====\n",
      "fold 9 - en rmse: 7.836007, elapsed time: 1.03sec\n",
      "\n",
      "oof en_rmse = 7.811702068473641\n"
     ]
    }
   ],
   "source": [
    "en_oof = np.zeros(train.shape[0])\n",
    "en_pred = np.zeros(test.shape[0])\n",
    "en_importances = pd.DataFrame()\n",
    "\n",
    "\n",
    "kf = KFold(n_splits=N_SPLITS, shuffle=True, random_state=CVSEED)\n",
    "seed_list=[SEED, SEED+1, SEED+2]\n",
    "\n",
    "for fold, (trn_idx, val_idx) in enumerate(kf.split(X=all_pseudo[useful_features], y=all_pseudo[target])):\n",
    "    print(f\"===== fold {fold} =====\")\n",
    "    \n",
    "    #if fold in [7,8,9]:\n",
    "        \n",
    "    oof_idx = np.array([idx for idx in val_idx if idx < train.shape[0]])\n",
    "    preds_idx = np.array([idx for idx in val_idx if idx >= train.shape[0]])\n",
    "\n",
    "    X_train, y_train = all_pseudo[useful_features].iloc[trn_idx], all_pseudo[target].iloc[trn_idx]\n",
    "    #X_train = apply_noise_row(X_train)\n",
    "\n",
    "    X_valid, y_valid = all_pseudo[useful_features].iloc[oof_idx], all_pseudo[target].iloc[oof_idx]\n",
    "    X_test = all_pseudo[useful_features].iloc[preds_idx]\n",
    "\n",
    "    # en\n",
    "    start = time.time()\n",
    "\n",
    "    for inseed in seed_list:\n",
    "        \n",
    "        en_params2 = en_params.copy()\n",
    "        en_params2['random_state'] = inseed\n",
    "\n",
    "        model = ElasticNet(**en_params2, warm_start=True)\n",
    "        model.fit(\n",
    "            X_train, \n",
    "            y_train,\n",
    "\n",
    "        )\n",
    "        \n",
    "        #en_params2['reg_lambda'] *= 0.9\n",
    "        en_params2['alpha'] *= 0.9\n",
    "        #en_params2['learning_rate'] *= 0.1\n",
    "        #model = ElasticNet(**en_params2, warm_start=True)\n",
    "        model.fit(\n",
    "                X_train, y_train,\n",
    "                \n",
    "        )    \n",
    "\n",
    "        with open(f\"en_model{fold}.pkl\", 'wb') as f:\n",
    "            pickle.dump(model, f)\n",
    "\n",
    "\n",
    "        en_oof[oof_idx] += model.predict(X_valid) / len(seed_list)\n",
    "        en_pred[preds_idx-train.shape[0]] += model.predict(X_test) / len(seed_list)\n",
    "        model = None\n",
    "\n",
    "    elapsed = time.time() - start\n",
    "    rmse = mean_squared_error(y_valid, en_oof[oof_idx], squared=False)\n",
    "    print(f\"fold {fold} - en rmse: {rmse:.6f}, elapsed time: {elapsed:.2f}sec\\n\")\n",
    "\n",
    "        \n",
    "print(f\"oof en_rmse = {mean_squared_error(train[target], en_oof, squared=False)}\")\n",
    "\n",
    "np.save(\"en_oof.npy\", en_oof)\n",
    "np.save(\"en_pred.npy\", en_pred)"
   ]
  },
  {
   "cell_type": "markdown",
   "id": "88bf52cf",
   "metadata": {
    "papermill": {
     "duration": 0.031557,
     "end_time": "2021-08-31T18:11:48.589005",
     "exception": false,
     "start_time": "2021-08-31T18:11:48.557448",
     "status": "completed"
    },
    "tags": []
   },
   "source": [
    "# OOF predictions"
   ]
  },
  {
   "cell_type": "code",
   "execution_count": 12,
   "id": "75f04e33",
   "metadata": {
    "execution": {
     "iopub.execute_input": "2021-08-31T18:11:48.662213Z",
     "iopub.status.busy": "2021-08-31T18:11:48.661518Z",
     "iopub.status.idle": "2021-08-31T18:11:49.727877Z",
     "shell.execute_reply": "2021-08-31T18:11:49.728399Z",
     "shell.execute_reply.started": "2021-08-31T18:09:53.049964Z"
    },
    "papermill": {
     "duration": 1.10741,
     "end_time": "2021-08-31T18:11:49.728567",
     "exception": false,
     "start_time": "2021-08-31T18:11:48.621157",
     "status": "completed"
    },
    "tags": []
   },
   "outputs": [
    {
     "data": {
      "text/plain": [
       "<matplotlib.collections.PathCollection at 0x7f77dde51e10>"
      ]
     },
     "execution_count": 12,
     "metadata": {},
     "output_type": "execute_result"
    },
    {
     "data": {
      "image/png": "[encoded data removed]",
      "text/plain": [
       "<Figure size 432x288 with 1 Axes>"
      ]
     },
     "metadata": {
      "needs_background": "light"
     },
     "output_type": "display_data"
    }
   ],
   "source": [
    "plt.plot(train[target], train[target])\n",
    "plt.scatter(train[target], en_oof)"
   ]
  },
  {
   "cell_type": "markdown",
   "id": "b0d9a598",
   "metadata": {
    "papermill": {
     "duration": 0.019183,
     "end_time": "2021-08-31T18:11:49.767193",
     "exception": false,
     "start_time": "2021-08-31T18:11:49.748010",
     "status": "completed"
    },
    "tags": []
   },
   "source": [
    "# Submission"
   ]
  },
  {
   "cell_type": "code",
   "execution_count": 13,
   "id": "74905b43",
   "metadata": {
    "execution": {
     "iopub.execute_input": "2021-08-31T18:11:49.812564Z",
     "iopub.status.busy": "2021-08-31T18:11:49.811760Z",
     "iopub.status.idle": "2021-08-31T18:11:50.379512Z",
     "shell.execute_reply": "2021-08-31T18:11:50.378923Z",
     "shell.execute_reply.started": "2021-08-31T18:09:54.171241Z"
    },
    "papermill": {
     "duration": 0.592999,
     "end_time": "2021-08-31T18:11:50.379670",
     "exception": false,
     "start_time": "2021-08-31T18:11:49.786671",
     "status": "completed"
    },
    "tags": []
   },
   "outputs": [
    {
     "data": {
      "text/html": [
       "<div>\n",
       "<style scoped>\n",
       "    .dataframe tbody tr th:only-of-type {\n",
       "        vertical-align: middle;\n",
       "    }\n",
       "\n",
       "    .dataframe tbody tr th {\n",
       "        vertical-align: top;\n",
       "    }\n",
       "\n",
       "    .dataframe thead th {\n",
       "        text-align: right;\n",
       "    }\n",
       "</style>\n",
       "<table border=\"1\" class=\"dataframe\">\n",
       "  <thead>\n",
       "    <tr style=\"text-align: right;\">\n",
       "      <th></th>\n",
       "      <th>id</th>\n",
       "      <th>loss</th>\n",
       "    </tr>\n",
       "  </thead>\n",
       "  <tbody>\n",
       "    <tr>\n",
       "      <th>0</th>\n",
       "      <td>250000</td>\n",
       "      <td>7.993819</td>\n",
       "    </tr>\n",
       "    <tr>\n",
       "      <th>1</th>\n",
       "      <td>250001</td>\n",
       "      <td>5.154852</td>\n",
       "    </tr>\n",
       "    <tr>\n",
       "      <th>2</th>\n",
       "      <td>250002</td>\n",
       "      <td>9.003498</td>\n",
       "    </tr>\n",
       "    <tr>\n",
       "      <th>3</th>\n",
       "      <td>250003</td>\n",
       "      <td>7.891432</td>\n",
       "    </tr>\n",
       "    <tr>\n",
       "      <th>4</th>\n",
       "      <td>250004</td>\n",
       "      <td>6.749863</td>\n",
       "    </tr>\n",
       "    <tr>\n",
       "      <th>...</th>\n",
       "      <td>...</td>\n",
       "      <td>...</td>\n",
       "    </tr>\n",
       "    <tr>\n",
       "      <th>149995</th>\n",
       "      <td>399995</td>\n",
       "      <td>8.429028</td>\n",
       "    </tr>\n",
       "    <tr>\n",
       "      <th>149996</th>\n",
       "      <td>399996</td>\n",
       "      <td>7.829842</td>\n",
       "    </tr>\n",
       "    <tr>\n",
       "      <th>149997</th>\n",
       "      <td>399997</td>\n",
       "      <td>6.012020</td>\n",
       "    </tr>\n",
       "    <tr>\n",
       "      <th>149998</th>\n",
       "      <td>399998</td>\n",
       "      <td>5.216781</td>\n",
       "    </tr>\n",
       "    <tr>\n",
       "      <th>149999</th>\n",
       "      <td>399999</td>\n",
       "      <td>6.500688</td>\n",
       "    </tr>\n",
       "  </tbody>\n",
       "</table>\n",
       "<p>150000 rows × 2 columns</p>\n",
       "</div>"
      ],
      "text/plain": [
       "            id      loss\n",
       "0       250000  7.993819\n",
       "1       250001  5.154852\n",
       "2       250002  9.003498\n",
       "3       250003  7.891432\n",
       "4       250004  6.749863\n",
       "...        ...       ...\n",
       "149995  399995  8.429028\n",
       "149996  399996  7.829842\n",
       "149997  399997  6.012020\n",
       "149998  399998  5.216781\n",
       "149999  399999  6.500688\n",
       "\n",
       "[150000 rows x 2 columns]"
      ]
     },
     "execution_count": 13,
     "metadata": {},
     "output_type": "execute_result"
    }
   ],
   "source": [
    "submission[target] = en_pred\n",
    "submission.to_csv(\"submission.csv\", index=False)\n",
    "\n",
    "submission"
   ]
  }
 ],
 "metadata": {
  "kernelspec": {
   "display_name": "Python 3",
   "language": "python",
   "name": "python3"
  },
  "language_info": {
   "codemirror_mode": {
    "name": "ipython",
    "version": 3
   },
   "file_extension": ".py",
   "mimetype": "text/x-python",
   "name": "python",
   "nbconvert_exporter": "python",
   "pygments_lexer": "ipython3",
   "version": "3.7.10"
  },
  "papermill": {
   "default_parameters": {},
   "duration": 38.750408,
   "end_time": "2021-08-31T18:11:52.092694",
   "environment_variables": {},
   "exception": null,
   "input_path": "__notebook__.ipynb",
   "output_path": "__notebook__.ipynb",
   "parameters": {},
   "start_time": "2021-08-31T18:11:13.342286",
   "version": "2.3.3"
  }
 },
 "nbformat": 4,
 "nbformat_minor": 5
}
