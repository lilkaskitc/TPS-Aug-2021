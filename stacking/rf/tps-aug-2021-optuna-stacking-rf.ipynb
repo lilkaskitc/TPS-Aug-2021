{
 "cells": [
  {
   "cell_type": "code",
   "execution_count": 1,
   "id": "293afd6b",
   "metadata": {
    "_cell_guid": "b1076dfc-b9ad-4769-8c92-a6c4dae69d19",
    "_uuid": "8f2839f25d086af736a60e9eeb907d3b93b6e0e5",
    "execution": {
     "iopub.execute_input": "2021-08-29T13:57:08.481025Z",
     "iopub.status.busy": "2021-08-29T13:57:08.479874Z",
     "iopub.status.idle": "2021-08-29T13:57:09.680852Z",
     "shell.execute_reply": "2021-08-29T13:57:09.681675Z",
     "shell.execute_reply.started": "2021-08-29T04:03:19.163858Z"
    },
    "papermill": {
     "duration": 1.218019,
     "end_time": "2021-08-29T13:57:09.682014",
     "exception": false,
     "start_time": "2021-08-29T13:57:08.463995",
     "status": "completed"
    },
    "tags": []
   },
   "outputs": [],
   "source": [
    "# Familiar imports\n",
    "import numpy as np\n",
    "import pandas as pd\n",
    "import random\n",
    "import os\n",
    "import time\n",
    "from pathlib import Path\n",
    "\n",
    "from sklearn.preprocessing import StandardScaler\n",
    "from sklearn.model_selection import KFold, train_test_split\n",
    "from sklearn.metrics import mean_squared_error\n",
    "from sklearn.ensemble import RandomForestRegressor\n",
    "\n",
    "#import lightgbm as lgb\n",
    "#import xgboost as xgb\n",
    "#import catboost as ctb\n",
    "\n",
    "import warnings\n",
    "warnings.simplefilter('ignore')"
   ]
  },
  {
   "cell_type": "markdown",
   "id": "4f451805",
   "metadata": {
    "papermill": {
     "duration": 0.014013,
     "end_time": "2021-08-29T13:57:09.710848",
     "exception": false,
     "start_time": "2021-08-29T13:57:09.696835",
     "status": "completed"
    },
    "tags": []
   },
   "source": [
    "# Parameters"
   ]
  },
  {
   "cell_type": "code",
   "execution_count": 2,
   "id": "9140a860",
   "metadata": {
    "execution": {
     "iopub.execute_input": "2021-08-29T13:57:09.737898Z",
     "iopub.status.busy": "2021-08-29T13:57:09.736978Z",
     "iopub.status.idle": "2021-08-29T13:57:09.742184Z",
     "shell.execute_reply": "2021-08-29T13:57:09.743381Z",
     "shell.execute_reply.started": "2021-08-29T04:03:20.487314Z"
    },
    "papermill": {
     "duration": 0.02112,
     "end_time": "2021-08-29T13:57:09.743864",
     "exception": false,
     "start_time": "2021-08-29T13:57:09.722744",
     "status": "completed"
    },
    "tags": []
   },
   "outputs": [],
   "source": [
    "target = 'loss'\n",
    "\n",
    "DEBUG = False\n",
    "\n",
    "if DEBUG:\n",
    "    N_ESTIMATORS = 1\n",
    "    N_SPLITS = 2\n",
    "    SEED = 17\n",
    "    CVSEED = 17\n",
    "    EARLY_STOPPING_ROUNDS = 1\n",
    "    VERBOSE = 100\n",
    "    #N_ITERS = 2\n",
    "else:\n",
    "    N_SPLITS = 10\n",
    "    N_ESTIMATORS = 500\n",
    "    EARLY_STOPPING_ROUNDS = 200\n",
    "    VERBOSE = 1000\n",
    "    SEED = 17\n",
    "    CVSEED = 17\n",
    "    #N_ITERS = 10"
   ]
  },
  {
   "cell_type": "code",
   "execution_count": 3,
   "id": "a698e60d",
   "metadata": {
    "execution": {
     "iopub.execute_input": "2021-08-29T13:57:09.770843Z",
     "iopub.status.busy": "2021-08-29T13:57:09.770262Z",
     "iopub.status.idle": "2021-08-29T13:57:09.775072Z",
     "shell.execute_reply": "2021-08-29T13:57:09.775641Z",
     "shell.execute_reply.started": "2021-08-29T04:03:20.495354Z"
    },
    "papermill": {
     "duration": 0.019937,
     "end_time": "2021-08-29T13:57:09.775825",
     "exception": false,
     "start_time": "2021-08-29T13:57:09.755888",
     "status": "completed"
    },
    "tags": []
   },
   "outputs": [],
   "source": [
    "def set_seed(seed=17):\n",
    "    random.seed(seed)\n",
    "    os.environ['PYTHONHASHSEED'] = str(seed)\n",
    "    np.random.seed(seed)\n",
    "    \n",
    "set_seed(SEED)"
   ]
  },
  {
   "cell_type": "markdown",
   "id": "416a0cdc",
   "metadata": {
    "papermill": {
     "duration": 0.011004,
     "end_time": "2021-08-29T13:57:09.800138",
     "exception": false,
     "start_time": "2021-08-29T13:57:09.789134",
     "status": "completed"
    },
    "tags": []
   },
   "source": [
    "# Load data"
   ]
  },
  {
   "cell_type": "code",
   "execution_count": 4,
   "id": "9a08a0b8",
   "metadata": {
    "execution": {
     "iopub.execute_input": "2021-08-29T13:57:09.827306Z",
     "iopub.status.busy": "2021-08-29T13:57:09.826553Z",
     "iopub.status.idle": "2021-08-29T13:57:20.349802Z",
     "shell.execute_reply": "2021-08-29T13:57:20.349097Z",
     "shell.execute_reply.started": "2021-08-29T04:03:20.51199Z"
    },
    "papermill": {
     "duration": 10.537774,
     "end_time": "2021-08-29T13:57:20.349957",
     "exception": false,
     "start_time": "2021-08-29T13:57:09.812183",
     "status": "completed"
    },
    "tags": []
   },
   "outputs": [],
   "source": [
    "INPUT = Path(\"../input/tabular-playground-series-aug-2021\")\n",
    "\n",
    "train = pd.read_csv(INPUT / \"train.csv\")\n",
    "test = pd.read_csv(INPUT / \"test.csv\")\n",
    "submission = pd.read_csv(INPUT / \"sample_submission.csv\")"
   ]
  },
  {
   "cell_type": "code",
   "execution_count": 5,
   "id": "cb90d947",
   "metadata": {
    "execution": {
     "iopub.execute_input": "2021-08-29T13:57:20.379181Z",
     "iopub.status.busy": "2021-08-29T13:57:20.378139Z",
     "iopub.status.idle": "2021-08-29T13:57:20.738872Z",
     "shell.execute_reply": "2021-08-29T13:57:20.739337Z",
     "shell.execute_reply.started": "2021-08-29T04:03:32.369207Z"
    },
    "papermill": {
     "duration": 0.378632,
     "end_time": "2021-08-29T13:57:20.739584",
     "exception": false,
     "start_time": "2021-08-29T13:57:20.360952",
     "status": "completed"
    },
    "tags": []
   },
   "outputs": [],
   "source": [
    "train['lgb_pred'] = np.load(\"../input/tps-aug-2021-lgb/lgb_oof.npy\")\n",
    "test['lgb_pred'] = np.load(\"../input/tps-aug-2021-lgb/lgb_pred.npy\")\n",
    "\n",
    "train['xgb_pred'] = np.load(\"../input/tps-aug-2021-xgb/xgb_oof.npy\")\n",
    "test['xgb_pred'] = np.load(\"../input/tps-aug-2021-xgb/xgb_pred.npy\")\n",
    "\n",
    "train['xgb2_pred'] = np.load(\"../input/tps-aug-2021-xgb-pseudo2-pred/3xgb_oof.npy\")+np.load(\"../input/tps-aug-2021-xgb-pseudo2-pred/4xgb_oof.npy\")\n",
    "test['xgb2_pred'] = np.load(\"../input/tps-aug-2021-xgb-pseudo2-pred/3xgb_pred.npy\")+np.load(\"../input/tps-aug-2021-xgb-pseudo2-pred/4xgb_pred.npy\")\n",
    "\n",
    "train['ctb2_pred'] = np.load(\"../input/tps-aug-2021-catb-pseudo2/ctb_oof.npy\")\n",
    "test['ctb2_pred'] = np.load(\"../input/tps-aug-2021-catb-pseudo2/ctb_pred.npy\")\n"
   ]
  },
  {
   "cell_type": "markdown",
   "id": "01f7c66a",
   "metadata": {
    "papermill": {
     "duration": 0.010449,
     "end_time": "2021-08-29T13:57:20.761064",
     "exception": false,
     "start_time": "2021-08-29T13:57:20.750615",
     "status": "completed"
    },
    "tags": []
   },
   "source": [
    "# Preprocessing"
   ]
  },
  {
   "cell_type": "code",
   "execution_count": 6,
   "id": "34243c7c",
   "metadata": {
    "execution": {
     "iopub.execute_input": "2021-08-29T13:57:20.789920Z",
     "iopub.status.busy": "2021-08-29T13:57:20.788889Z",
     "iopub.status.idle": "2021-08-29T13:57:28.096125Z",
     "shell.execute_reply": "2021-08-29T13:57:28.096599Z",
     "shell.execute_reply.started": "2021-08-29T04:03:32.674951Z"
    },
    "papermill": {
     "duration": 7.324342,
     "end_time": "2021-08-29T13:57:28.096783",
     "exception": false,
     "start_time": "2021-08-29T13:57:20.772441",
     "status": "completed"
    },
    "tags": []
   },
   "outputs": [],
   "source": [
    "scale_features = [col for col in test.columns if 'f' in col]\n",
    "\n",
    "ss = StandardScaler()\n",
    "train[scale_features] = ss.fit_transform(train[scale_features])\n",
    "test[scale_features] = ss.transform(test[scale_features])"
   ]
  },
  {
   "cell_type": "code",
   "execution_count": 7,
   "id": "2d260dc2",
   "metadata": {
    "execution": {
     "iopub.execute_input": "2021-08-29T13:57:28.122662Z",
     "iopub.status.busy": "2021-08-29T13:57:28.122017Z",
     "iopub.status.idle": "2021-08-29T13:57:28.127611Z",
     "shell.execute_reply": "2021-08-29T13:57:28.128046Z",
     "shell.execute_reply.started": "2021-08-29T04:03:44.922209Z"
    },
    "papermill": {
     "duration": 0.020428,
     "end_time": "2021-08-29T13:57:28.128215",
     "exception": false,
     "start_time": "2021-08-29T13:57:28.107787",
     "status": "completed"
    },
    "tags": []
   },
   "outputs": [],
   "source": [
    "# Swap noise\n",
    "\n",
    "# Random\n",
    "def apply_noise_rn(df, p=.75):\n",
    "    should_not_swap = np.random.binomial(1, p, df.shape)\n",
    "    corrupted_df = df.where(should_not_swap == 1, np.random.permutation(df))\n",
    "    return corrupted_df\n",
    "\n",
    "# Row-wise\n",
    "def apply_noise_row(df, p=.75):\n",
    "    should_not_swap = np.zeros(df.shape)\n",
    "    for i in range(df.shape[0]):\n",
    "        for j in np.random.choice(df.shape[1],int(p*df.shape[1]),replace=False):\n",
    "            should_not_swap[i,j]=1 \n",
    "    corrupted_df = df.where(should_not_swap == 1, np.random.permutation(df))\n",
    "    return corrupted_df"
   ]
  },
  {
   "cell_type": "markdown",
   "id": "2bc69b4e",
   "metadata": {
    "papermill": {
     "duration": 0.010633,
     "end_time": "2021-08-29T13:57:28.150271",
     "exception": false,
     "start_time": "2021-08-29T13:57:28.139638",
     "status": "completed"
    },
    "tags": []
   },
   "source": [
    "# Pseudo Label"
   ]
  },
  {
   "cell_type": "code",
   "execution_count": 8,
   "id": "f52c14a8",
   "metadata": {
    "execution": {
     "iopub.execute_input": "2021-08-29T13:57:28.177569Z",
     "iopub.status.busy": "2021-08-29T13:57:28.176729Z",
     "iopub.status.idle": "2021-08-29T13:57:29.015399Z",
     "shell.execute_reply": "2021-08-29T13:57:29.014918Z",
     "shell.execute_reply.started": "2021-08-29T04:03:44.933005Z"
    },
    "papermill": {
     "duration": 0.853465,
     "end_time": "2021-08-29T13:57:29.015567",
     "exception": false,
     "start_time": "2021-08-29T13:57:28.162102",
     "status": "completed"
    },
    "tags": []
   },
   "outputs": [],
   "source": [
    "pseudo = pd.read_csv(\"../input/blending-tool-tps-aug-2021/blend.csv/0.part\")[target]\n",
    "test_pseudo = pd.concat([test, pseudo], axis=1)\n",
    "all_pseudo = pd.concat([train, test_pseudo]).reset_index(drop=True)"
   ]
  },
  {
   "cell_type": "code",
   "execution_count": 9,
   "id": "1af9290b",
   "metadata": {
    "execution": {
     "iopub.execute_input": "2021-08-29T13:57:29.042317Z",
     "iopub.status.busy": "2021-08-29T13:57:29.041722Z",
     "iopub.status.idle": "2021-08-29T13:57:29.044728Z",
     "shell.execute_reply": "2021-08-29T13:57:29.044249Z",
     "shell.execute_reply.started": "2021-08-29T04:03:45.755097Z"
    },
    "papermill": {
     "duration": 0.018396,
     "end_time": "2021-08-29T13:57:29.044866",
     "exception": false,
     "start_time": "2021-08-29T13:57:29.026470",
     "status": "completed"
    },
    "tags": []
   },
   "outputs": [],
   "source": [
    "useful_features = scale_features + ['lgb_pred', 'xgb_pred','xgb2_pred','ctb2_pred']"
   ]
  },
  {
   "cell_type": "markdown",
   "id": "7344f7b1",
   "metadata": {
    "papermill": {
     "duration": 0.010463,
     "end_time": "2021-08-29T13:57:29.066598",
     "exception": false,
     "start_time": "2021-08-29T13:57:29.056135",
     "status": "completed"
    },
    "tags": []
   },
   "source": [
    "# Optuna"
   ]
  },
  {
   "cell_type": "code",
   "execution_count": 10,
   "id": "0af81b3d",
   "metadata": {
    "execution": {
     "iopub.execute_input": "2021-08-29T13:57:29.094759Z",
     "iopub.status.busy": "2021-08-29T13:57:29.093670Z",
     "iopub.status.idle": "2021-08-29T13:57:38.162625Z",
     "shell.execute_reply": "2021-08-29T13:57:38.163084Z",
     "shell.execute_reply.started": "2021-08-29T04:03:45.760651Z"
    },
    "papermill": {
     "duration": 9.085291,
     "end_time": "2021-08-29T13:57:38.163310",
     "exception": false,
     "start_time": "2021-08-29T13:57:29.078019",
     "status": "completed"
    },
    "tags": []
   },
   "outputs": [
    {
     "name": "stdout",
     "output_type": "stream",
     "text": [
      "\u001b[33mWARNING: Running pip as root will break packages and permissions. You should install packages reliably by using venv: https://pip.pypa.io/warnings/venv\u001b[0m\r\n"
     ]
    }
   ],
   "source": [
    "# Optuna for parameter search\n",
    "!pip install -q optuna\n",
    "\n",
    "import optuna\n",
    "import pickle"
   ]
  },
  {
   "cell_type": "code",
   "execution_count": 11,
   "id": "7efbb602",
   "metadata": {
    "execution": {
     "iopub.execute_input": "2021-08-29T13:57:38.204777Z",
     "iopub.status.busy": "2021-08-29T13:57:38.203339Z",
     "iopub.status.idle": "2021-08-29T13:57:38.575557Z",
     "shell.execute_reply": "2021-08-29T13:57:38.574877Z",
     "shell.execute_reply.started": "2021-08-29T04:13:36.183508Z"
    },
    "papermill": {
     "duration": 0.398737,
     "end_time": "2021-08-29T13:57:38.575706",
     "exception": false,
     "start_time": "2021-08-29T13:57:38.176969",
     "status": "completed"
    },
    "tags": []
   },
   "outputs": [],
   "source": [
    "# for the fixed learning rate, use the opt n iterations and tune the tree hyperparameters\n",
    "def objective(trial, X=all_pseudo[useful_features], y=all_pseudo[target]):\n",
    "  \"\"\"\n",
    "  \"\"\"\n",
    "  param_space = {\n",
    "              'n_estimators':N_ESTIMATORS,\n",
    "                    #'objective': 'regression',\n",
    "              'criterion':'mse',\n",
    "                  #'metric':'rmse',\n",
    "              'n_jobs':-1,\n",
    "              'bootstrap':True,\n",
    "              \n",
    "              'max_depth' : trial.suggest_int(\"max_depth\", 1, 7),\n",
    "              'max_features' : trial.suggest_float(\"max_features\", 0.1, 1.0),\n",
    "              'max_samples' : trial.suggest_float(\"max_samples\", 0.1, 1.0),\n",
    "               'ccp_alpha' : trial.suggest_loguniform(\"ccp_alpha\", 1e-8, 100.0)\n",
    "               \n",
    "                }\n",
    "            \n",
    "\n",
    "  seed_list=[SEED, SEED+1]\n",
    "  #kf = KFold(n_splits=N_SPLITS, shuffle=True, random_state=CVSEED)\n",
    "  lgb_oof = np.zeros(train.shape[0])\n",
    "  #lgb_pred = np.zeros(test.shape[0])\n",
    "  X_tr, X_va, y_tr, y_va = train_test_split(X,y,test_size=.2,random_state=CVSEED)\n",
    "  trn_idx = X_tr.index\n",
    "  val_idx = X_va.index\n",
    "  \n",
    "  \n",
    "  #for (trn_idx, val_idx) in enumerate(kf.split(X, y)):\n",
    "  #print(f\"===== fold {fold} =====\")\n",
    "  oof_idx = np.array([idx for idx in val_idx if idx < train.shape[0]])\n",
    "  preds_idx = np.array([idx for idx in val_idx if idx >= train.shape[0]])\n",
    "\n",
    "  X_train, y_train = all_pseudo[useful_features].iloc[trn_idx], all_pseudo[target].iloc[trn_idx]\n",
    "  #X_train = apply_noise_rn(X_train)\n",
    "\n",
    "  X_valid, y_valid = all_pseudo[useful_features].iloc[oof_idx], all_pseudo[target].iloc[oof_idx]\n",
    "  #X_test = all_pseudo[scale_features].iloc[preds_idx]\n",
    "\n",
    "  #start = time.time()\n",
    "  for inseed in seed_list:\n",
    "    param_space['random_state'] = inseed\n",
    "\n",
    "    model = RandomForestRegressor(**param_space, verbose=0)\n",
    "    model.fit(\n",
    "        X_train, \n",
    "        y_train,\n",
    "        #eval_set=[(X_valid, y_valid)],\n",
    "        #eval_metric='rmse',\n",
    "        #early_stopping_rounds=EARLY_STOPPING_ROUNDS,\n",
    "        )\n",
    "\n",
    "\n",
    "    lgb_oof[oof_idx] += model.predict(X_valid) / len(seed_list)\n",
    "    #lgb_pred[preds_idx-train.shape[0]] += model.predict(X_test) / len(seed_list)\n",
    "\n",
    "  #elapsed = time.time() - start\n",
    "  rmse = mean_squared_error(y_valid, lgb_oof[oof_idx], squared=False)\n",
    "  #print(f\"fold {fold} - lgb rmse: {rmse:.6f}, elapsed time: {elapsed:.2f}sec\\n\")            \n",
    "  \n",
    "  #print(f\"oof lgb_rmse = {mean_squared_error(train[target], lgb_oof, squared=False)}\")\n",
    "\n",
    "  \n",
    "  return rmse"
   ]
  },
  {
   "cell_type": "code",
   "execution_count": 12,
   "id": "bbada2d2",
   "metadata": {
    "execution": {
     "iopub.execute_input": "2021-08-29T13:57:38.606953Z",
     "iopub.status.busy": "2021-08-29T13:57:38.605892Z",
     "iopub.status.idle": "2021-08-29T04:14:32.831085Z",
     "shell.execute_reply": "2021-08-29T04:14:32.828672Z",
     "shell.execute_reply.started": "2021-08-29T04:13:36.415822Z"
    },
    "papermill": {
     "duration": null,
     "end_time": null,
     "exception": false,
     "start_time": "2021-08-29T13:57:38.587387",
     "status": "running"
    },
    "tags": []
   },
   "outputs": [
    {
     "name": "stderr",
     "output_type": "stream",
     "text": [
      "\u001b[32m[I 2021-08-29 13:57:38,603]\u001b[0m A new study created in memory with name: no-name-6797c512-ce33-4c1b-a41c-9aa23bf6afa4\u001b[0m\n"
     ]
    },
    {
     "name": "stderr",
     "output_type": "stream",
     "text": [
      "\u001b[32m[I 2021-08-29 14:03:47,111]\u001b[0m Trial 0 finished with value: 7.752292446773167 and parameters: {'max_depth': 2, 'max_features': 0.3470348028261788, 'max_samples': 0.24772906131729733, 'ccp_alpha': 7.270333222880626e-07}. Best is trial 0 with value: 7.752292446773167.\u001b[0m\n"
     ]
    },
    {
     "name": "stderr",
     "output_type": "stream",
     "text": [
      "\u001b[32m[I 2021-08-29 14:49:12,223]\u001b[0m Trial 1 finished with value: 7.746409505166049 and parameters: {'max_depth': 3, 'max_features': 0.6746937289740315, 'max_samples': 0.8291813058247196, 'ccp_alpha': 2.191914404516864e-07}. Best is trial 1 with value: 7.746409505166049.\u001b[0m\n"
     ]
    },
    {
     "name": "stderr",
     "output_type": "stream",
     "text": [
      "\u001b[32m[I 2021-08-29 14:57:21,821]\u001b[0m Trial 2 finished with value: 7.775605546775306 and parameters: {'max_depth': 1, 'max_features': 0.4304993265536826, 'max_samples': 0.6436267056937369, 'ccp_alpha': 1.1629845818491106e-07}. Best is trial 1 with value: 7.746409505166049.\u001b[0m\n"
     ]
    },
    {
     "name": "stderr",
     "output_type": "stream",
     "text": [
      "\u001b[32m[I 2021-08-29 15:23:31,450]\u001b[0m Trial 3 finished with value: 7.746943861903528 and parameters: {'max_depth': 3, 'max_features': 0.3782093908902666, 'max_samples': 0.8621808224857016, 'ccp_alpha': 7.862020602038241e-08}. Best is trial 1 with value: 7.746409505166049.\u001b[0m\n"
     ]
    },
    {
     "name": "stderr",
     "output_type": "stream",
     "text": [
      "\u001b[32m[I 2021-08-29 16:43:12,772]\u001b[0m Trial 4 finished with value: 7.745842389381208 and parameters: {'max_depth': 6, 'max_features': 0.9244341048225673, 'max_samples': 0.4938470905166652, 'ccp_alpha': 2.8153101495289973e-06}. Best is trial 4 with value: 7.745842389381208.\u001b[0m\n"
     ]
    },
    {
     "name": "stderr",
     "output_type": "stream",
     "text": [
      "\u001b[32m[I 2021-08-29 16:50:38,361]\u001b[0m Trial 5 finished with value: 7.763658411281051 and parameters: {'max_depth': 2, 'max_features': 0.20177992650949622, 'max_samples': 0.6410655175958393, 'ccp_alpha': 2.367390287017467e-08}. Best is trial 4 with value: 7.745842389381208.\u001b[0m\n"
     ]
    },
    {
     "name": "stderr",
     "output_type": "stream",
     "text": [
      "\u001b[32m[I 2021-08-29 17:09:41,574]\u001b[0m Trial 6 finished with value: 7.7754246039431205 and parameters: {'max_depth': 1, 'max_features': 0.9222730413613789, 'max_samples': 0.7387646229745919, 'ccp_alpha': 1.2638849089722112e-07}. Best is trial 4 with value: 7.745842389381208.\u001b[0m\n"
     ]
    },
    {
     "name": "stderr",
     "output_type": "stream",
     "text": [
      "\u001b[32m[I 2021-08-29 17:12:03,978]\u001b[0m Trial 7 finished with value: 7.858947564025528 and parameters: {'max_depth': 1, 'max_features': 0.13217829706647571, 'max_samples': 0.5975796520714912, 'ccp_alpha': 94.52081053047536}. Best is trial 4 with value: 7.745842389381208.\u001b[0m\n"
     ]
    },
    {
     "name": "stderr",
     "output_type": "stream",
     "text": [
      "\u001b[32m[I 2021-08-29 17:13:02,118]\u001b[0m Trial 8 finished with value: 7.800543944157951 and parameters: {'max_depth': 1, 'max_features': 0.14619181890147698, 'max_samples': 0.16969041147260683, 'ccp_alpha': 0.008384541641550437}. Best is trial 4 with value: 7.745842389381208.\u001b[0m\n"
     ]
    },
    {
     "name": "stderr",
     "output_type": "stream",
     "text": [
      "\u001b[32m[I 2021-08-29 17:28:32,205]\u001b[0m Trial 9 finished with value: 7.746854839817412 and parameters: {'max_depth': 5, 'max_features': 0.24504112534797307, 'max_samples': 0.4156850403828799, 'ccp_alpha': 0.016297811924697096}. Best is trial 4 with value: 7.745842389381208.\u001b[0m\n"
     ]
    },
    {
     "name": "stderr",
     "output_type": "stream",
     "text": [
      "\u001b[32m[I 2021-08-29 18:51:57,498]\u001b[0m Trial 10 finished with value: 7.745922655031892 and parameters: {'max_depth': 7, 'max_features': 0.9745292538030434, 'max_samples': 0.43016557502589203, 'ccp_alpha': 5.886872761932509e-05}. Best is trial 4 with value: 7.745842389381208.\u001b[0m\n"
     ]
    },
    {
     "name": "stderr",
     "output_type": "stream",
     "text": [
      "\u001b[32m[I 2021-08-29 20:09:46,021]\u001b[0m Trial 11 finished with value: 7.745952263665505 and parameters: {'max_depth': 7, 'max_features': 0.9891832027991427, 'max_samples': 0.4002578528416588, 'ccp_alpha': 5.068200184218693e-05}. Best is trial 4 with value: 7.745842389381208.\u001b[0m\n"
     ]
    },
    {
     "name": "stderr",
     "output_type": "stream",
     "text": [
      "\u001b[32m[I 2021-08-29 21:09:49,936]\u001b[0m Trial 12 finished with value: 7.746020876960884 and parameters: {'max_depth': 7, 'max_features': 0.8032956564372395, 'max_samples': 0.4080404148742466, 'ccp_alpha': 3.7040524109924905e-05}. Best is trial 4 with value: 7.745842389381208.\u001b[0m\n"
     ]
    },
    {
     "name": "stderr",
     "output_type": "stream",
     "text": [
      "\u001b[32m[I 2021-08-29 22:12:31,050]\u001b[0m Trial 13 finished with value: 7.745862303574406 and parameters: {'max_depth': 6, 'max_features': 0.8341438818785393, 'max_samples': 0.47763414661361014, 'ccp_alpha': 5.2597615587363844e-05}. Best is trial 4 with value: 7.745842389381208.\u001b[0m\n"
     ]
    },
    {
     "name": "stderr",
     "output_type": "stream",
     "text": [
      "\u001b[32m[I 2021-08-29 22:45:01,560]\u001b[0m Trial 14 finished with value: 7.774122310278008 and parameters: {'max_depth': 5, 'max_features': 0.7797662145192863, 'max_samples': 0.2935874441185176, 'ccp_alpha': 1.2509394907239884}. Best is trial 4 with value: 7.745842389381208.\u001b[0m\n"
     ]
    }
   ],
   "source": [
    "study = optuna.create_study(direction='minimize')\n",
    "study.optimize(objective,n_trials= 30)\n",
    "print('Number of finished trials:', len(study.trials))\n",
    "print('Best trial:', study.best_trial.params)"
   ]
  },
  {
   "cell_type": "code",
   "execution_count": null,
   "id": "52471008",
   "metadata": {
    "execution": {
     "iopub.status.busy": "2021-08-29T04:03:55.378775Z",
     "iopub.status.idle": "2021-08-29T04:03:55.379373Z"
    },
    "papermill": {
     "duration": null,
     "end_time": null,
     "exception": null,
     "start_time": null,
     "status": "pending"
    },
    "tags": []
   },
   "outputs": [],
   "source": [
    "study.best_params"
   ]
  },
  {
   "cell_type": "markdown",
   "id": "e2ebb7b1",
   "metadata": {
    "papermill": {
     "duration": null,
     "end_time": null,
     "exception": null,
     "start_time": null,
     "status": "pending"
    },
    "tags": []
   },
   "source": [
    "# Log\n",
    "\n",
    "====== 4 preds ======\n",
    "\n"
   ]
  }
 ],
 "metadata": {
  "kernelspec": {
   "display_name": "Python 3",
   "language": "python",
   "name": "python3"
  },
  "language_info": {
   "codemirror_mode": {
    "name": "ipython",
    "version": 3
   },
   "file_extension": ".py",
   "mimetype": "text/x-python",
   "name": "python",
   "nbconvert_exporter": "python",
   "pygments_lexer": "ipython3",
   "version": "3.6.4"
  },
  "papermill": {
   "default_parameters": {},
   "duration": null,
   "end_time": null,
   "environment_variables": {},
   "exception": null,
   "input_path": "__notebook__.ipynb",
   "output_path": "__notebook__.ipynb",
   "parameters": {},
   "start_time": "2021-08-29T13:57:01.274129",
   "version": "2.3.3"
  }
 },
 "nbformat": 4,
 "nbformat_minor": 5
}