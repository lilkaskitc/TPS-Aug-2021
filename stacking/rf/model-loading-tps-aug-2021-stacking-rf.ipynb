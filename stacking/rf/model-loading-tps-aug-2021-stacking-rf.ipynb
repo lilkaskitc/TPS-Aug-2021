{
 "cells": [
  {
   "cell_type": "code",
   "execution_count": 1,
   "id": "55c37064",
   "metadata": {
    "_cell_guid": "b1076dfc-b9ad-4769-8c92-a6c4dae69d19",
    "_uuid": "8f2839f25d086af736a60e9eeb907d3b93b6e0e5",
    "execution": {
     "iopub.execute_input": "2021-08-31T05:55:37.042154Z",
     "iopub.status.busy": "2021-08-31T05:55:37.040987Z",
     "iopub.status.idle": "2021-08-31T05:55:38.440892Z",
     "shell.execute_reply": "2021-08-31T05:55:38.440001Z",
     "shell.execute_reply.started": "2021-08-31T05:54:01.448838Z"
    },
    "papermill": {
     "duration": 1.422974,
     "end_time": "2021-08-31T05:55:38.441079",
     "exception": false,
     "start_time": "2021-08-31T05:55:37.018105",
     "status": "completed"
    },
    "tags": []
   },
   "outputs": [],
   "source": [
    "# Familiar imports\n",
    "import numpy as np\n",
    "import pandas as pd\n",
    "import random\n",
    "import os\n",
    "import time\n",
    "from pathlib import Path\n",
    "import pickle\n",
    "\n",
    "from sklearn.preprocessing import StandardScaler\n",
    "from sklearn.model_selection import KFold, train_test_split\n",
    "from sklearn.metrics import mean_squared_error\n",
    "from sklearn.ensemble import RandomForestRegressor\n",
    "\n",
    "from scipy.optimize import minimize\n",
    "\n",
    "#import lightgbm as lgb\n",
    "#import xgboost as xgb\n",
    "#import catboost as ctb\n",
    "\n",
    "import matplotlib.pyplot as plt\n",
    "import seaborn as sns\n",
    "\n",
    "import warnings\n",
    "warnings.simplefilter('ignore')"
   ]
  },
  {
   "cell_type": "markdown",
   "id": "a68cf83c",
   "metadata": {
    "papermill": {
     "duration": 0.017998,
     "end_time": "2021-08-31T05:55:38.478449",
     "exception": false,
     "start_time": "2021-08-31T05:55:38.460451",
     "status": "completed"
    },
    "tags": []
   },
   "source": [
    "# Parameters"
   ]
  },
  {
   "cell_type": "code",
   "execution_count": 2,
   "id": "fccc6607",
   "metadata": {
    "execution": {
     "iopub.execute_input": "2021-08-31T05:55:38.522042Z",
     "iopub.status.busy": "2021-08-31T05:55:38.521388Z",
     "iopub.status.idle": "2021-08-31T05:55:38.523190Z",
     "shell.execute_reply": "2021-08-31T05:55:38.523643Z",
     "shell.execute_reply.started": "2021-08-31T05:54:02.622954Z"
    },
    "papermill": {
     "duration": 0.026966,
     "end_time": "2021-08-31T05:55:38.523806",
     "exception": false,
     "start_time": "2021-08-31T05:55:38.496840",
     "status": "completed"
    },
    "tags": []
   },
   "outputs": [],
   "source": [
    "target = 'loss'\n",
    "\n",
    "DEBUG = False\n",
    "\n",
    "if DEBUG:\n",
    "    N_ESTIMATORS = 1\n",
    "    N_SPLITS = 2\n",
    "    SEED = 17\n",
    "    CVSEED = 17\n",
    "    EARLY_STOPPING_ROUNDS = 1\n",
    "    VERBOSE = 100\n",
    "    #N_ITERS = 2\n",
    "else:\n",
    "    N_SPLITS = 10\n",
    "    N_ESTIMATORS = 500\n",
    "    EARLY_STOPPING_ROUNDS = 200\n",
    "    VERBOSE = 1000\n",
    "    SEED = 17\n",
    "    CVSEED = 17\n",
    "    #N_ITERS = 10"
   ]
  },
  {
   "cell_type": "code",
   "execution_count": 3,
   "id": "6764d6ec",
   "metadata": {
    "execution": {
     "iopub.execute_input": "2021-08-31T05:55:38.563833Z",
     "iopub.status.busy": "2021-08-31T05:55:38.563208Z",
     "iopub.status.idle": "2021-08-31T05:55:38.567330Z",
     "shell.execute_reply": "2021-08-31T05:55:38.567825Z",
     "shell.execute_reply.started": "2021-08-31T05:54:02.629716Z"
    },
    "papermill": {
     "duration": 0.025687,
     "end_time": "2021-08-31T05:55:38.567988",
     "exception": false,
     "start_time": "2021-08-31T05:55:38.542301",
     "status": "completed"
    },
    "tags": []
   },
   "outputs": [],
   "source": [
    "def set_seed(seed=17):\n",
    "    random.seed(seed)\n",
    "    os.environ['PYTHONHASHSEED'] = str(seed)\n",
    "    np.random.seed(seed)\n",
    "    \n",
    "set_seed(SEED)"
   ]
  },
  {
   "cell_type": "markdown",
   "id": "ec586172",
   "metadata": {
    "papermill": {
     "duration": 0.018129,
     "end_time": "2021-08-31T05:55:38.604666",
     "exception": false,
     "start_time": "2021-08-31T05:55:38.586537",
     "status": "completed"
    },
    "tags": []
   },
   "source": [
    "# Load data"
   ]
  },
  {
   "cell_type": "code",
   "execution_count": 4,
   "id": "b61efbd5",
   "metadata": {
    "execution": {
     "iopub.execute_input": "2021-08-31T05:55:38.644832Z",
     "iopub.status.busy": "2021-08-31T05:55:38.644115Z",
     "iopub.status.idle": "2021-08-31T05:55:49.761683Z",
     "shell.execute_reply": "2021-08-31T05:55:49.762206Z",
     "shell.execute_reply.started": "2021-08-31T05:54:02.640580Z"
    },
    "papermill": {
     "duration": 11.139361,
     "end_time": "2021-08-31T05:55:49.762381",
     "exception": false,
     "start_time": "2021-08-31T05:55:38.623020",
     "status": "completed"
    },
    "tags": []
   },
   "outputs": [],
   "source": [
    "INPUT = Path(\"../input/tabular-playground-series-aug-2021\")\n",
    "\n",
    "train = pd.read_csv(INPUT / \"train.csv\")\n",
    "test = pd.read_csv(INPUT / \"test.csv\")\n",
    "submission = pd.read_csv(INPUT / \"sample_submission.csv\")"
   ]
  },
  {
   "cell_type": "code",
   "execution_count": 5,
   "id": "7e58904a",
   "metadata": {
    "execution": {
     "iopub.execute_input": "2021-08-31T05:55:49.812836Z",
     "iopub.status.busy": "2021-08-31T05:55:49.811830Z",
     "iopub.status.idle": "2021-08-31T05:55:50.195410Z",
     "shell.execute_reply": "2021-08-31T05:55:50.194851Z",
     "shell.execute_reply.started": "2021-08-31T05:54:13.601931Z"
    },
    "papermill": {
     "duration": 0.410321,
     "end_time": "2021-08-31T05:55:50.195630",
     "exception": false,
     "start_time": "2021-08-31T05:55:49.785309",
     "status": "completed"
    },
    "tags": []
   },
   "outputs": [],
   "source": [
    "train['lgb_pred'] = np.load(\"../input/tps-aug-2021-lgb/lgb_oof.npy\")\n",
    "test['lgb_pred'] = np.load(\"../input/tps-aug-2021-lgb/lgb_pred.npy\")\n",
    "\n",
    "train['xgb_pred'] = np.load(\"../input/tps-aug-2021-xgb/xgb_oof.npy\")\n",
    "test['xgb_pred'] = np.load(\"../input/tps-aug-2021-xgb/xgb_pred.npy\")\n",
    "\n",
    "train['xgb2_pred'] = np.load(\"../input/tps-aug-2021-xgb-pseudo2-pred/3xgb_oof.npy\")+np.load(\"../input/tps-aug-2021-xgb-pseudo2-pred/4xgb_oof.npy\")\n",
    "test['xgb2_pred'] = np.load(\"../input/tps-aug-2021-xgb-pseudo2-pred/3xgb_pred.npy\")+np.load(\"../input/tps-aug-2021-xgb-pseudo2-pred/4xgb_pred.npy\")\n",
    "\n",
    "train['ctb2_pred'] = np.load(\"../input/tps-aug-2021-catb-pseudo2/ctb_oof.npy\")\n",
    "test['ctb2_pred'] = np.load(\"../input/tps-aug-2021-catb-pseudo2/ctb_pred.npy\")"
   ]
  },
  {
   "cell_type": "markdown",
   "id": "263232b2",
   "metadata": {
    "papermill": {
     "duration": 0.018332,
     "end_time": "2021-08-31T05:55:50.232861",
     "exception": false,
     "start_time": "2021-08-31T05:55:50.214529",
     "status": "completed"
    },
    "tags": []
   },
   "source": [
    "# Preprocessing"
   ]
  },
  {
   "cell_type": "code",
   "execution_count": 6,
   "id": "ec9b698c",
   "metadata": {
    "execution": {
     "iopub.execute_input": "2021-08-31T05:55:50.277268Z",
     "iopub.status.busy": "2021-08-31T05:55:50.276591Z",
     "iopub.status.idle": "2021-08-31T05:56:02.555585Z",
     "shell.execute_reply": "2021-08-31T05:56:02.556143Z",
     "shell.execute_reply.started": "2021-08-31T05:54:13.866775Z"
    },
    "papermill": {
     "duration": 12.304812,
     "end_time": "2021-08-31T05:56:02.556334",
     "exception": false,
     "start_time": "2021-08-31T05:55:50.251522",
     "status": "completed"
    },
    "tags": []
   },
   "outputs": [],
   "source": [
    "scale_features = [col for col in test.columns if 'f' in col]\n",
    "\n",
    "ss = StandardScaler()\n",
    "train[scale_features] = ss.fit_transform(train[scale_features])\n",
    "test[scale_features] = ss.transform(test[scale_features])"
   ]
  },
  {
   "cell_type": "code",
   "execution_count": 7,
   "id": "d440722d",
   "metadata": {
    "execution": {
     "iopub.execute_input": "2021-08-31T05:56:02.602548Z",
     "iopub.status.busy": "2021-08-31T05:56:02.601887Z",
     "iopub.status.idle": "2021-08-31T05:56:02.605121Z",
     "shell.execute_reply": "2021-08-31T05:56:02.604586Z",
     "shell.execute_reply.started": "2021-08-31T05:54:25.449318Z"
    },
    "papermill": {
     "duration": 0.029715,
     "end_time": "2021-08-31T05:56:02.605252",
     "exception": false,
     "start_time": "2021-08-31T05:56:02.575537",
     "status": "completed"
    },
    "tags": []
   },
   "outputs": [],
   "source": [
    "# Swap noise\n",
    "\n",
    "# Random\n",
    "def apply_noise_rn(df, p=.75):\n",
    "    should_not_swap = np.random.binomial(1, p, df.shape)\n",
    "    corrupted_df = df.where(should_not_swap == 1, np.random.permutation(df))\n",
    "    return corrupted_df\n",
    "\n",
    "# Row-wise\n",
    "def apply_noise_row(df, p=.75):\n",
    "    should_not_swap = np.zeros(df.shape)\n",
    "    for i in range(df.shape[0]):\n",
    "        for j in np.random.choice(df.shape[1],int(p*df.shape[1]),replace=False):\n",
    "            should_not_swap[i,j]=1 \n",
    "    corrupted_df = df.where(should_not_swap == 1, np.random.permutation(df))\n",
    "    return corrupted_df"
   ]
  },
  {
   "cell_type": "markdown",
   "id": "0a3d5130",
   "metadata": {
    "papermill": {
     "duration": 0.018023,
     "end_time": "2021-08-31T05:56:02.641722",
     "exception": false,
     "start_time": "2021-08-31T05:56:02.623699",
     "status": "completed"
    },
    "tags": []
   },
   "source": [
    "# Pseudo Label"
   ]
  },
  {
   "cell_type": "code",
   "execution_count": 8,
   "id": "f7fd2780",
   "metadata": {
    "execution": {
     "iopub.execute_input": "2021-08-31T05:56:02.685011Z",
     "iopub.status.busy": "2021-08-31T05:56:02.684279Z",
     "iopub.status.idle": "2021-08-31T05:56:03.510650Z",
     "shell.execute_reply": "2021-08-31T05:56:03.511147Z",
     "shell.execute_reply.started": "2021-08-31T05:54:25.459894Z"
    },
    "papermill": {
     "duration": 0.850644,
     "end_time": "2021-08-31T05:56:03.511330",
     "exception": false,
     "start_time": "2021-08-31T05:56:02.660686",
     "status": "completed"
    },
    "tags": []
   },
   "outputs": [],
   "source": [
    "pseudo = pd.read_csv(\"../input/blending-tool-tps-aug-2021/blend.csv/0.part\")[target]\n",
    "test_pseudo = pd.concat([test, pseudo], axis=1)\n",
    "all_pseudo = pd.concat([train, test_pseudo]).reset_index(drop=True)"
   ]
  },
  {
   "cell_type": "code",
   "execution_count": 9,
   "id": "ed6ab893",
   "metadata": {
    "execution": {
     "iopub.execute_input": "2021-08-31T05:56:03.553821Z",
     "iopub.status.busy": "2021-08-31T05:56:03.552863Z",
     "iopub.status.idle": "2021-08-31T05:56:03.555786Z",
     "shell.execute_reply": "2021-08-31T05:56:03.555276Z",
     "shell.execute_reply.started": "2021-08-31T05:54:26.294297Z"
    },
    "papermill": {
     "duration": 0.025996,
     "end_time": "2021-08-31T05:56:03.555929",
     "exception": false,
     "start_time": "2021-08-31T05:56:03.529933",
     "status": "completed"
    },
    "tags": []
   },
   "outputs": [],
   "source": [
    "useful_features = scale_features + ['lgb_pred', 'xgb_pred','xgb2_pred','ctb2_pred']"
   ]
  },
  {
   "cell_type": "markdown",
   "id": "86a123fe",
   "metadata": {
    "papermill": {
     "duration": 0.01801,
     "end_time": "2021-08-31T05:56:03.592331",
     "exception": false,
     "start_time": "2021-08-31T05:56:03.574321",
     "status": "completed"
    },
    "tags": []
   },
   "source": [
    "# RF"
   ]
  },
  {
   "cell_type": "code",
   "execution_count": 10,
   "id": "7be6e99b",
   "metadata": {
    "execution": {
     "iopub.execute_input": "2021-08-31T05:56:03.634814Z",
     "iopub.status.busy": "2021-08-31T05:56:03.633781Z",
     "iopub.status.idle": "2021-08-31T05:56:03.636805Z",
     "shell.execute_reply": "2021-08-31T05:56:03.636192Z",
     "shell.execute_reply.started": "2021-08-31T05:54:26.301763Z"
    },
    "papermill": {
     "duration": 0.026256,
     "end_time": "2021-08-31T05:56:03.636954",
     "exception": false,
     "start_time": "2021-08-31T05:56:03.610698",
     "status": "completed"
    },
    "tags": []
   },
   "outputs": [],
   "source": [
    "rr_params  = {\n",
    "                  'n_estimators':N_ESTIMATORS,\n",
    "                    #'objective': 'regression',\n",
    "              'criterion':'mse',\n",
    "                  #'metric':'rmse',\n",
    "              'n_jobs':-1,\n",
    "              'bootstrap':True,\n",
    "    \n",
    "            'max_depth': 6,\n",
    "            'max_features': 0.9244341048225673, \n",
    "            'max_samples': 0.4938470905166652,\n",
    "            'ccp_alpha': 2.8153101495289973e-06\n",
    "\n",
    "                }"
   ]
  },
  {
   "cell_type": "code",
   "execution_count": 11,
   "id": "025fb2d4",
   "metadata": {
    "execution": {
     "iopub.execute_input": "2021-08-31T05:56:03.677959Z",
     "iopub.status.busy": "2021-08-31T05:56:03.677345Z",
     "iopub.status.idle": "2021-08-31T05:56:03.684930Z",
     "shell.execute_reply": "2021-08-31T05:56:03.685467Z",
     "shell.execute_reply.started": "2021-08-31T05:54:26.315361Z"
    },
    "papermill": {
     "duration": 0.03008,
     "end_time": "2021-08-31T05:56:03.685637",
     "exception": false,
     "start_time": "2021-08-31T05:56:03.655557",
     "status": "completed"
    },
    "tags": []
   },
   "outputs": [
    {
     "data": {
      "text/plain": [
       "'\\nobjects = []\\nwith (open(\"myfile\", \"rb\")) as openfile:\\n    while True:\\n        try:\\n            objects.append(pickle.load(openfile))\\n        except EOFError:\\n            break\\n'"
      ]
     },
     "execution_count": 11,
     "metadata": {},
     "output_type": "execute_result"
    }
   ],
   "source": [
    "'''\n",
    "objects = []\n",
    "with (open(\"myfile\", \"rb\")) as openfile:\n",
    "    while True:\n",
    "        try:\n",
    "            objects.append(pickle.load(openfile))\n",
    "        except EOFError:\n",
    "            break\n",
    "'''"
   ]
  },
  {
   "cell_type": "code",
   "execution_count": 12,
   "id": "db202d9c",
   "metadata": {
    "execution": {
     "iopub.execute_input": "2021-08-31T05:56:03.730941Z",
     "iopub.status.busy": "2021-08-31T05:56:03.730239Z",
     "iopub.status.idle": "2021-08-31T05:56:03.733923Z",
     "shell.execute_reply": "2021-08-31T05:56:03.733373Z",
     "shell.execute_reply.started": "2021-08-31T05:54:26.329842Z"
    },
    "papermill": {
     "duration": 0.028511,
     "end_time": "2021-08-31T05:56:03.734070",
     "exception": false,
     "start_time": "2021-08-31T05:56:03.705559",
     "status": "completed"
    },
    "tags": []
   },
   "outputs": [
    {
     "data": {
      "text/plain": [
       "'\\nallcontacts = [] \\nfor root, dirs, files, in os.walk(\"../input/tps-aug-stacking-rf-models/\"):\\n    for file in files:\\n        if file.endswith(\".pkl\"):\\n           contacts = file\\n           print(contacts)\\n           opencontacts = open(\"../input/tps-aug-stacking-rf-models/\" + contacts, \\'rb\\')\\n           loadedcontacts = pickle.load(opencontacts)\\n           allcontacts.append(loadedcontacts)\\n           \\n       '"
      ]
     },
     "execution_count": 12,
     "metadata": {},
     "output_type": "execute_result"
    }
   ],
   "source": [
    "'''\n",
    "allcontacts = [] \n",
    "for root, dirs, files, in os.walk(\"../input/tps-aug-stacking-rf-models/\"):\n",
    "    for file in files:\n",
    "        if file.endswith(\".pkl\"):\n",
    "           contacts = file\n",
    "           print(contacts)\n",
    "           opencontacts = open(\"../input/tps-aug-stacking-rf-models/\" + contacts, 'rb')\n",
    "           loadedcontacts = pickle.load(opencontacts)\n",
    "           allcontacts.append(loadedcontacts)\n",
    "           \n",
    "       '''"
   ]
  },
  {
   "cell_type": "code",
   "execution_count": 13,
   "id": "aeef8512",
   "metadata": {
    "execution": {
     "iopub.execute_input": "2021-08-31T05:56:03.777121Z",
     "iopub.status.busy": "2021-08-31T05:56:03.776475Z",
     "iopub.status.idle": "2021-08-31T05:56:03.779784Z",
     "shell.execute_reply": "2021-08-31T05:56:03.780241Z",
     "shell.execute_reply.started": "2021-08-31T05:54:26.342273Z"
    },
    "papermill": {
     "duration": 0.027148,
     "end_time": "2021-08-31T05:56:03.780411",
     "exception": false,
     "start_time": "2021-08-31T05:56:03.753263",
     "status": "completed"
    },
    "tags": []
   },
   "outputs": [
    {
     "data": {
      "text/plain": [
       "'\\nwith open(\"../input/tps-aug-stacking-rf-models/\", \\'rb\\') as f:\\n            model=pickle.load(f)\\n'"
      ]
     },
     "execution_count": 13,
     "metadata": {},
     "output_type": "execute_result"
    }
   ],
   "source": [
    "'''\n",
    "with open(\"../input/tps-aug-stacking-rf-models/\", 'rb') as f:\n",
    "            model=pickle.load(f)\n",
    "'''"
   ]
  },
  {
   "cell_type": "code",
   "execution_count": 14,
   "id": "1be8e39a",
   "metadata": {
    "execution": {
     "iopub.execute_input": "2021-08-31T05:56:03.822911Z",
     "iopub.status.busy": "2021-08-31T05:56:03.822234Z",
     "iopub.status.idle": "2021-08-31T05:56:36.778873Z",
     "shell.execute_reply": "2021-08-31T05:56:36.777985Z",
     "shell.execute_reply.started": "2021-08-31T05:54:26.354901Z"
    },
    "papermill": {
     "duration": 32.978817,
     "end_time": "2021-08-31T05:56:36.779098",
     "exception": false,
     "start_time": "2021-08-31T05:56:03.800281",
     "status": "completed"
    },
    "tags": []
   },
   "outputs": [
    {
     "name": "stdout",
     "output_type": "stream",
     "text": [
      "===== fold 0 =====\n",
      "<_io.BufferedReader name='../input/tps-aug-stacking-rf-models/rr_model0.pkl'>\n",
      "<_io.BufferedReader name='../input/tps-aug-stacking-rf-models/rr_model0.pkl'>\n",
      "<_io.BufferedReader name='../input/tps-aug-stacking-rf-models/rr_model0.pkl'>\n",
      "fold 0 - rr rmse: 7.766901, elapsed time: 2.60sec\n",
      "\n",
      "===== fold 1 =====\n",
      "<_io.BufferedReader name='../input/tps-aug-stacking-rf-models/rr_model1.pkl'>\n",
      "<_io.BufferedReader name='../input/tps-aug-stacking-rf-models/rr_model1.pkl'>\n",
      "<_io.BufferedReader name='../input/tps-aug-stacking-rf-models/rr_model1.pkl'>\n",
      "fold 1 - rr rmse: 7.724360, elapsed time: 2.59sec\n",
      "\n",
      "===== fold 2 =====\n",
      "<_io.BufferedReader name='../input/tps-aug-stacking-rf-models/rr_model2.pkl'>\n",
      "<_io.BufferedReader name='../input/tps-aug-stacking-rf-models/rr_model2.pkl'>\n",
      "<_io.BufferedReader name='../input/tps-aug-stacking-rf-models/rr_model2.pkl'>\n",
      "fold 2 - rr rmse: 7.820575, elapsed time: 2.70sec\n",
      "\n",
      "===== fold 3 =====\n",
      "<_io.BufferedReader name='../input/tps-aug-stacking-rf-models/rr_model3.pkl'>\n",
      "<_io.BufferedReader name='../input/tps-aug-stacking-rf-models/rr_model3.pkl'>\n",
      "<_io.BufferedReader name='../input/tps-aug-stacking-rf-models/rr_model3.pkl'>\n",
      "fold 3 - rr rmse: 7.769032, elapsed time: 2.60sec\n",
      "\n",
      "===== fold 4 =====\n",
      "<_io.BufferedReader name='../input/tps-aug-stacking-rf-models/rr_model4.pkl'>\n",
      "<_io.BufferedReader name='../input/tps-aug-stacking-rf-models/rr_model4.pkl'>\n",
      "<_io.BufferedReader name='../input/tps-aug-stacking-rf-models/rr_model4.pkl'>\n",
      "fold 4 - rr rmse: 7.774731, elapsed time: 2.60sec\n",
      "\n",
      "===== fold 5 =====\n",
      "<_io.BufferedReader name='../input/tps-aug-stacking-rf-models/rr_model5.pkl'>\n",
      "<_io.BufferedReader name='../input/tps-aug-stacking-rf-models/rr_model5.pkl'>\n",
      "<_io.BufferedReader name='../input/tps-aug-stacking-rf-models/rr_model5.pkl'>\n",
      "fold 5 - rr rmse: 7.833771, elapsed time: 2.59sec\n",
      "\n",
      "===== fold 6 =====\n",
      "<_io.BufferedReader name='../input/tps-aug-stacking-rf-models/rr_model6.pkl'>\n",
      "<_io.BufferedReader name='../input/tps-aug-stacking-rf-models/rr_model6.pkl'>\n",
      "<_io.BufferedReader name='../input/tps-aug-stacking-rf-models/rr_model6.pkl'>\n",
      "fold 6 - rr rmse: 7.873807, elapsed time: 2.58sec\n",
      "\n",
      "===== fold 7 =====\n",
      "<_io.BufferedReader name='../input/tps-aug-stacking-rf-models/rr_model7.pkl'>\n",
      "<_io.BufferedReader name='../input/tps-aug-stacking-rf-models/rr_model7.pkl'>\n",
      "<_io.BufferedReader name='../input/tps-aug-stacking-rf-models/rr_model7.pkl'>\n",
      "fold 7 - rr rmse: 7.873689, elapsed time: 2.58sec\n",
      "\n",
      "===== fold 8 =====\n",
      "<_io.BufferedReader name='../input/tps-aug-stacking-rf-models/rr_model8.pkl'>\n",
      "<_io.BufferedReader name='../input/tps-aug-stacking-rf-models/rr_model8.pkl'>\n",
      "<_io.BufferedReader name='../input/tps-aug-stacking-rf-models/rr_model8.pkl'>\n",
      "fold 8 - rr rmse: 7.861259, elapsed time: 2.79sec\n",
      "\n",
      "===== fold 9 =====\n",
      "<_io.BufferedReader name='../input/tps-aug-stacking-rf-models/rr_model9.pkl'>\n",
      "<_io.BufferedReader name='../input/tps-aug-stacking-rf-models/rr_model9.pkl'>\n",
      "<_io.BufferedReader name='../input/tps-aug-stacking-rf-models/rr_model9.pkl'>\n",
      "fold 9 - rr rmse: 7.837845, elapsed time: 2.58sec\n",
      "\n",
      "oof rr_rmse = 7.8137886424935274\n"
     ]
    }
   ],
   "source": [
    "rr_oof = np.zeros(train.shape[0])\n",
    "rr_pred = np.zeros(test.shape[0])\n",
    "rr_importances = pd.DataFrame()\n",
    "\n",
    "\n",
    "kf = KFold(n_splits=N_SPLITS, shuffle=True, random_state=CVSEED)\n",
    "seed_list=[SEED, SEED+1, SEED+2]\n",
    "\n",
    "for fold, (trn_idx, val_idx) in enumerate(kf.split(X=all_pseudo[useful_features], y=all_pseudo[target])):\n",
    "    print(f\"===== fold {fold} =====\")\n",
    "    \n",
    "    #if fold >6:\n",
    "        \n",
    "    oof_idx = np.array([idx for idx in val_idx if idx < train.shape[0]])\n",
    "    preds_idx = np.array([idx for idx in val_idx if idx >= train.shape[0]])\n",
    "\n",
    "    X_train, y_train = all_pseudo[useful_features].iloc[trn_idx], all_pseudo[target].iloc[trn_idx]\n",
    "    #X_train = apply_noise_row(X_train)\n",
    "\n",
    "    X_valid, y_valid = all_pseudo[useful_features].iloc[oof_idx], all_pseudo[target].iloc[oof_idx]\n",
    "    X_test = all_pseudo[useful_features].iloc[preds_idx]\n",
    "\n",
    "    # rr\n",
    "    start = time.time()\n",
    "\n",
    "    for inseed in seed_list:\n",
    "        rr_params['random_state'] = inseed\n",
    "\n",
    "        model = RandomForestRegressor(**rr_params, verbose=0)\n",
    "        \n",
    "        with open(\"../input/tps-aug-stacking-rf-models/rr_model\" + str(fold) + \".pkl\", 'rb') as f:\n",
    "            model=pickle.load(f)\n",
    "            print(f)\n",
    "        \n",
    "        fi_tmp = pd.DataFrame()\n",
    "        fi_tmp['feature'] = useful_features\n",
    "        fi_tmp['importance'] = model.feature_importances_\n",
    "        fi_tmp['fold'] = fold\n",
    "        fi_tmp['seed'] = inseed\n",
    "        rr_importances = rr_importances.append(fi_tmp)\n",
    "\n",
    "        rr_oof[oof_idx] += model.predict(X_valid) / len(seed_list)\n",
    "        rr_pred[preds_idx-train.shape[0]] += model.predict(X_test) / len(seed_list)\n",
    "\n",
    "    elapsed = time.time() - start\n",
    "    rmse = mean_squared_error(y_valid, rr_oof[oof_idx], squared=False)\n",
    "    print(f\"fold {fold} - rr rmse: {rmse:.6f}, elapsed time: {elapsed:.2f}sec\\n\")\n",
    "\n",
    "        \n",
    "print(f\"oof rr_rmse = {mean_squared_error(train[target], rr_oof, squared=False)}\")\n",
    "\n",
    "np.save(\"rr_oof.npy\", rr_oof)\n",
    "np.save(\"rr_pred.npy\", rr_pred)"
   ]
  },
  {
   "cell_type": "markdown",
   "id": "c964385d",
   "metadata": {
    "papermill": {
     "duration": 0.031611,
     "end_time": "2021-08-31T05:56:36.850869",
     "exception": false,
     "start_time": "2021-08-31T05:56:36.819258",
     "status": "completed"
    },
    "tags": []
   },
   "source": [
    "# OOF predictions"
   ]
  },
  {
   "cell_type": "code",
   "execution_count": 15,
   "id": "2e1ee0b9",
   "metadata": {
    "execution": {
     "iopub.execute_input": "2021-08-31T05:56:36.935095Z",
     "iopub.status.busy": "2021-08-31T05:56:36.934310Z",
     "iopub.status.idle": "2021-08-31T05:56:38.000610Z",
     "shell.execute_reply": "2021-08-31T05:56:37.999925Z",
     "shell.execute_reply.started": "2021-08-31T05:54:58.365185Z"
    },
    "papermill": {
     "duration": 1.117904,
     "end_time": "2021-08-31T05:56:38.000749",
     "exception": false,
     "start_time": "2021-08-31T05:56:36.882845",
     "status": "completed"
    },
    "tags": []
   },
   "outputs": [
    {
     "data": {
      "text/plain": [
       "<matplotlib.collections.PathCollection at 0x7f1c0891a310>"
      ]
     },
     "execution_count": 15,
     "metadata": {},
     "output_type": "execute_result"
    },
    {
     "data": {
      "image/png": "[encoded data removed]",
      "text/plain": [
       "<Figure size 432x288 with 1 Axes>"
      ]
     },
     "metadata": {
      "needs_background": "light"
     },
     "output_type": "display_data"
    }
   ],
   "source": [
    "plt.plot(train[target], train[target])\n",
    "plt.scatter(train[target], rr_oof)"
   ]
  },
  {
   "cell_type": "markdown",
   "id": "6064c689",
   "metadata": {
    "papermill": {
     "duration": 0.033517,
     "end_time": "2021-08-31T05:56:38.067256",
     "exception": false,
     "start_time": "2021-08-31T05:56:38.033739",
     "status": "completed"
    },
    "tags": []
   },
   "source": [
    "# Features importances"
   ]
  },
  {
   "cell_type": "code",
   "execution_count": 16,
   "id": "ad4439ee",
   "metadata": {
    "execution": {
     "iopub.execute_input": "2021-08-31T05:56:38.143882Z",
     "iopub.status.busy": "2021-08-31T05:56:38.143161Z",
     "iopub.status.idle": "2021-08-31T05:56:40.229675Z",
     "shell.execute_reply": "2021-08-31T05:56:40.230137Z",
     "shell.execute_reply.started": "2021-08-31T05:54:59.404575Z"
    },
    "papermill": {
     "duration": 2.130129,
     "end_time": "2021-08-31T05:56:40.230311",
     "exception": false,
     "start_time": "2021-08-31T05:56:38.100182",
     "status": "completed"
    },
    "tags": []
   },
   "outputs": [
    {
     "data": {
      "text/plain": [
       "Text(0.5, 1.0, 'LightGBM feature importances')"
      ]
     },
     "execution_count": 16,
     "metadata": {},
     "output_type": "execute_result"
    },
    {
     "data": {
      "image/png": "[encoded data removed]",
      "text/plain": [
       "<Figure size 1152x1152 with 1 Axes>"
      ]
     },
     "metadata": {
      "needs_background": "light"
     },
     "output_type": "display_data"
    }
   ],
   "source": [
    "order = list(rr_importances.groupby('feature').mean().sort_values('importance', ascending=False).index)\n",
    "\n",
    "fig = plt.figure(figsize=(16, 16), tight_layout=True)\n",
    "sns.barplot(x=\"importance\", y=\"feature\", data=rr_importances.groupby('feature').mean().reset_index(), order=order)\n",
    "plt.title(\"LightGBM feature importances\")"
   ]
  },
  {
   "cell_type": "markdown",
   "id": "3d73acb5",
   "metadata": {
    "papermill": {
     "duration": 0.034976,
     "end_time": "2021-08-31T05:56:40.304953",
     "exception": false,
     "start_time": "2021-08-31T05:56:40.269977",
     "status": "completed"
    },
    "tags": []
   },
   "source": [
    "# Submission"
   ]
  },
  {
   "cell_type": "code",
   "execution_count": 17,
   "id": "d6e8aeea",
   "metadata": {
    "execution": {
     "iopub.execute_input": "2021-08-31T05:56:40.380999Z",
     "iopub.status.busy": "2021-08-31T05:56:40.380315Z",
     "iopub.status.idle": "2021-08-31T05:56:40.956060Z",
     "shell.execute_reply": "2021-08-31T05:56:40.956582Z",
     "shell.execute_reply.started": "2021-08-31T05:55:01.592019Z"
    },
    "papermill": {
     "duration": 0.616686,
     "end_time": "2021-08-31T05:56:40.956763",
     "exception": false,
     "start_time": "2021-08-31T05:56:40.340077",
     "status": "completed"
    },
    "tags": []
   },
   "outputs": [
    {
     "data": {
      "text/html": [
       "<div>\n",
       "<style scoped>\n",
       "    .dataframe tbody tr th:only-of-type {\n",
       "        vertical-align: middle;\n",
       "    }\n",
       "\n",
       "    .dataframe tbody tr th {\n",
       "        vertical-align: top;\n",
       "    }\n",
       "\n",
       "    .dataframe thead th {\n",
       "        text-align: right;\n",
       "    }\n",
       "</style>\n",
       "<table border=\"1\" class=\"dataframe\">\n",
       "  <thead>\n",
       "    <tr style=\"text-align: right;\">\n",
       "      <th></th>\n",
       "      <th>id</th>\n",
       "      <th>loss</th>\n",
       "    </tr>\n",
       "  </thead>\n",
       "  <tbody>\n",
       "    <tr>\n",
       "      <th>0</th>\n",
       "      <td>250000</td>\n",
       "      <td>7.953737</td>\n",
       "    </tr>\n",
       "    <tr>\n",
       "      <th>1</th>\n",
       "      <td>250001</td>\n",
       "      <td>5.031943</td>\n",
       "    </tr>\n",
       "    <tr>\n",
       "      <th>2</th>\n",
       "      <td>250002</td>\n",
       "      <td>8.903334</td>\n",
       "    </tr>\n",
       "    <tr>\n",
       "      <th>3</th>\n",
       "      <td>250003</td>\n",
       "      <td>7.965815</td>\n",
       "    </tr>\n",
       "    <tr>\n",
       "      <th>4</th>\n",
       "      <td>250004</td>\n",
       "      <td>6.753387</td>\n",
       "    </tr>\n",
       "    <tr>\n",
       "      <th>...</th>\n",
       "      <td>...</td>\n",
       "      <td>...</td>\n",
       "    </tr>\n",
       "    <tr>\n",
       "      <th>149995</th>\n",
       "      <td>399995</td>\n",
       "      <td>8.602283</td>\n",
       "    </tr>\n",
       "    <tr>\n",
       "      <th>149996</th>\n",
       "      <td>399996</td>\n",
       "      <td>7.888462</td>\n",
       "    </tr>\n",
       "    <tr>\n",
       "      <th>149997</th>\n",
       "      <td>399997</td>\n",
       "      <td>5.980179</td>\n",
       "    </tr>\n",
       "    <tr>\n",
       "      <th>149998</th>\n",
       "      <td>399998</td>\n",
       "      <td>5.265769</td>\n",
       "    </tr>\n",
       "    <tr>\n",
       "      <th>149999</th>\n",
       "      <td>399999</td>\n",
       "      <td>6.421446</td>\n",
       "    </tr>\n",
       "  </tbody>\n",
       "</table>\n",
       "<p>150000 rows × 2 columns</p>\n",
       "</div>"
      ],
      "text/plain": [
       "            id      loss\n",
       "0       250000  7.953737\n",
       "1       250001  5.031943\n",
       "2       250002  8.903334\n",
       "3       250003  7.965815\n",
       "4       250004  6.753387\n",
       "...        ...       ...\n",
       "149995  399995  8.602283\n",
       "149996  399996  7.888462\n",
       "149997  399997  5.980179\n",
       "149998  399998  5.265769\n",
       "149999  399999  6.421446\n",
       "\n",
       "[150000 rows x 2 columns]"
      ]
     },
     "execution_count": 17,
     "metadata": {},
     "output_type": "execute_result"
    }
   ],
   "source": [
    "submission[target] = rr_pred\n",
    "submission.to_csv(\"submission.csv\", index=False)\n",
    "\n",
    "submission"
   ]
  }
 ],
 "metadata": {
  "kernelspec": {
   "display_name": "Python 3",
   "language": "python",
   "name": "python3"
  },
  "language_info": {
   "codemirror_mode": {
    "name": "ipython",
    "version": 3
   },
   "file_extension": ".py",
   "mimetype": "text/x-python",
   "name": "python",
   "nbconvert_exporter": "python",
   "pygments_lexer": "ipython3",
   "version": "3.7.10"
  },
  "papermill": {
   "default_parameters": {},
   "duration": 73.866053,
   "end_time": "2021-08-31T05:56:42.677756",
   "environment_variables": {},
   "exception": null,
   "input_path": "__notebook__.ipynb",
   "output_path": "__notebook__.ipynb",
   "parameters": {},
   "start_time": "2021-08-31T05:55:28.811703",
   "version": "2.3.3"
  }
 },
 "nbformat": 4,
 "nbformat_minor": 5
}
