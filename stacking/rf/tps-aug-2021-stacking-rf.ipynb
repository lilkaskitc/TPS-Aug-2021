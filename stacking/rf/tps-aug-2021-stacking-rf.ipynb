{
 "cells": [
  {
   "cell_type": "code",
   "execution_count": 1,
   "id": "07ef3a81",
   "metadata": {
    "_cell_guid": "b1076dfc-b9ad-4769-8c92-a6c4dae69d19",
    "_uuid": "8f2839f25d086af736a60e9eeb907d3b93b6e0e5",
    "execution": {
     "iopub.execute_input": "2021-08-30T19:45:21.034301Z",
     "iopub.status.busy": "2021-08-30T19:45:21.033035Z",
     "iopub.status.idle": "2021-08-30T19:45:22.522827Z",
     "shell.execute_reply": "2021-08-30T19:45:22.521898Z",
     "shell.execute_reply.started": "2021-08-30T08:55:03.215446Z"
    },
    "papermill": {
     "duration": 1.511035,
     "end_time": "2021-08-30T19:45:22.523065",
     "exception": false,
     "start_time": "2021-08-30T19:45:21.012030",
     "status": "completed"
    },
    "tags": []
   },
   "outputs": [],
   "source": [
    "# Familiar imports\n",
    "import numpy as np\n",
    "import pandas as pd\n",
    "import random\n",
    "import os\n",
    "import time\n",
    "from pathlib import Path\n",
    "import pickle\n",
    "\n",
    "from sklearn.preprocessing import StandardScaler\n",
    "from sklearn.model_selection import KFold, train_test_split\n",
    "from sklearn.metrics import mean_squared_error\n",
    "from sklearn.ensemble import RandomForestRegressor\n",
    "\n",
    "from scipy.optimize import minimize\n",
    "\n",
    "#import lightgbm as lgb\n",
    "#import xgboost as xgb\n",
    "#import catboost as ctb\n",
    "\n",
    "import matplotlib.pyplot as plt\n",
    "import seaborn as sns\n",
    "\n",
    "import warnings\n",
    "warnings.simplefilter('ignore')"
   ]
  },
  {
   "cell_type": "markdown",
   "id": "d41b0f97",
   "metadata": {
    "papermill": {
     "duration": 0.016406,
     "end_time": "2021-08-30T19:45:22.556903",
     "exception": false,
     "start_time": "2021-08-30T19:45:22.540497",
     "status": "completed"
    },
    "tags": []
   },
   "source": [
    "# Parameters"
   ]
  },
  {
   "cell_type": "code",
   "execution_count": 2,
   "id": "461c3182",
   "metadata": {
    "execution": {
     "iopub.execute_input": "2021-08-30T19:45:22.596805Z",
     "iopub.status.busy": "2021-08-30T19:45:22.596094Z",
     "iopub.status.idle": "2021-08-30T19:45:22.600247Z",
     "shell.execute_reply": "2021-08-30T19:45:22.599564Z",
     "shell.execute_reply.started": "2021-08-30T08:55:04.593786Z"
    },
    "papermill": {
     "duration": 0.026758,
     "end_time": "2021-08-30T19:45:22.600396",
     "exception": false,
     "start_time": "2021-08-30T19:45:22.573638",
     "status": "completed"
    },
    "tags": []
   },
   "outputs": [],
   "source": [
    "target = 'loss'\n",
    "\n",
    "DEBUG = False\n",
    "\n",
    "if DEBUG:\n",
    "    N_ESTIMATORS = 1\n",
    "    N_SPLITS = 2\n",
    "    SEED = 17\n",
    "    CVSEED = 17\n",
    "    EARLY_STOPPING_ROUNDS = 1\n",
    "    VERBOSE = 100\n",
    "    #N_ITERS = 2\n",
    "else:\n",
    "    N_SPLITS = 10\n",
    "    N_ESTIMATORS = 500\n",
    "    EARLY_STOPPING_ROUNDS = 200\n",
    "    VERBOSE = 1000\n",
    "    SEED = 17\n",
    "    CVSEED = 17\n",
    "    #N_ITERS = 10"
   ]
  },
  {
   "cell_type": "code",
   "execution_count": 3,
   "id": "fb4f8235",
   "metadata": {
    "execution": {
     "iopub.execute_input": "2021-08-30T19:45:22.639122Z",
     "iopub.status.busy": "2021-08-30T19:45:22.638423Z",
     "iopub.status.idle": "2021-08-30T19:45:22.642017Z",
     "shell.execute_reply": "2021-08-30T19:45:22.641357Z",
     "shell.execute_reply.started": "2021-08-30T08:55:04.60686Z"
    },
    "papermill": {
     "duration": 0.025309,
     "end_time": "2021-08-30T19:45:22.642170",
     "exception": false,
     "start_time": "2021-08-30T19:45:22.616861",
     "status": "completed"
    },
    "tags": []
   },
   "outputs": [],
   "source": [
    "def set_seed(seed=17):\n",
    "    random.seed(seed)\n",
    "    os.environ['PYTHONHASHSEED'] = str(seed)\n",
    "    np.random.seed(seed)\n",
    "    \n",
    "set_seed(SEED)"
   ]
  },
  {
   "cell_type": "markdown",
   "id": "8bf22cb5",
   "metadata": {
    "papermill": {
     "duration": 0.015938,
     "end_time": "2021-08-30T19:45:22.674513",
     "exception": false,
     "start_time": "2021-08-30T19:45:22.658575",
     "status": "completed"
    },
    "tags": []
   },
   "source": [
    "# Load data"
   ]
  },
  {
   "cell_type": "code",
   "execution_count": 4,
   "id": "425ecf0d",
   "metadata": {
    "execution": {
     "iopub.execute_input": "2021-08-30T19:45:22.713299Z",
     "iopub.status.busy": "2021-08-30T19:45:22.712290Z",
     "iopub.status.idle": "2021-08-30T19:45:33.983454Z",
     "shell.execute_reply": "2021-08-30T19:45:33.982817Z",
     "shell.execute_reply.started": "2021-08-30T08:55:04.614151Z"
    },
    "papermill": {
     "duration": 11.292947,
     "end_time": "2021-08-30T19:45:33.983615",
     "exception": false,
     "start_time": "2021-08-30T19:45:22.690668",
     "status": "completed"
    },
    "tags": []
   },
   "outputs": [],
   "source": [
    "INPUT = Path(\"../input/tabular-playground-series-aug-2021\")\n",
    "\n",
    "train = pd.read_csv(INPUT / \"train.csv\")\n",
    "test = pd.read_csv(INPUT / \"test.csv\")\n",
    "submission = pd.read_csv(INPUT / \"sample_submission.csv\")"
   ]
  },
  {
   "cell_type": "code",
   "execution_count": 5,
   "id": "71384dd2",
   "metadata": {
    "execution": {
     "iopub.execute_input": "2021-08-30T19:45:34.026229Z",
     "iopub.status.busy": "2021-08-30T19:45:34.025452Z",
     "iopub.status.idle": "2021-08-30T19:45:34.334456Z",
     "shell.execute_reply": "2021-08-30T19:45:34.333061Z",
     "shell.execute_reply.started": "2021-08-30T08:55:15.881362Z"
    },
    "papermill": {
     "duration": 0.334017,
     "end_time": "2021-08-30T19:45:34.334690",
     "exception": false,
     "start_time": "2021-08-30T19:45:34.000673",
     "status": "completed"
    },
    "tags": []
   },
   "outputs": [],
   "source": [
    "train['lgb_pred'] = np.load(\"../input/tps-aug-2021-lgb/lgb_oof.npy\")\n",
    "test['lgb_pred'] = np.load(\"../input/tps-aug-2021-lgb/lgb_pred.npy\")\n",
    "\n",
    "train['xgb_pred'] = np.load(\"../input/tps-aug-2021-xgb/xgb_oof.npy\")\n",
    "test['xgb_pred'] = np.load(\"../input/tps-aug-2021-xgb/xgb_pred.npy\")\n",
    "\n",
    "train['xgb2_pred'] = np.load(\"../input/tps-aug-2021-xgb-pseudo2-pred/3xgb_oof.npy\")+np.load(\"../input/tps-aug-2021-xgb-pseudo2-pred/4xgb_oof.npy\")\n",
    "test['xgb2_pred'] = np.load(\"../input/tps-aug-2021-xgb-pseudo2-pred/3xgb_pred.npy\")+np.load(\"../input/tps-aug-2021-xgb-pseudo2-pred/4xgb_pred.npy\")\n",
    "\n",
    "train['ctb2_pred'] = np.load(\"../input/tps-aug-2021-catb-pseudo2/ctb_oof.npy\")\n",
    "test['ctb2_pred'] = np.load(\"../input/tps-aug-2021-catb-pseudo2/ctb_pred.npy\")"
   ]
  },
  {
   "cell_type": "markdown",
   "id": "362b459e",
   "metadata": {
    "papermill": {
     "duration": 0.018728,
     "end_time": "2021-08-30T19:45:34.379883",
     "exception": false,
     "start_time": "2021-08-30T19:45:34.361155",
     "status": "completed"
    },
    "tags": []
   },
   "source": [
    "# Preprocessing"
   ]
  },
  {
   "cell_type": "code",
   "execution_count": 6,
   "id": "03c861ce",
   "metadata": {
    "execution": {
     "iopub.execute_input": "2021-08-30T19:45:34.421957Z",
     "iopub.status.busy": "2021-08-30T19:45:34.421280Z",
     "iopub.status.idle": "2021-08-30T19:45:46.767801Z",
     "shell.execute_reply": "2021-08-30T19:45:46.768434Z",
     "shell.execute_reply.started": "2021-08-30T08:55:16.106252Z"
    },
    "papermill": {
     "duration": 12.371329,
     "end_time": "2021-08-30T19:45:46.768623",
     "exception": false,
     "start_time": "2021-08-30T19:45:34.397294",
     "status": "completed"
    },
    "tags": []
   },
   "outputs": [],
   "source": [
    "scale_features = [col for col in test.columns if 'f' in col]\n",
    "\n",
    "ss = StandardScaler()\n",
    "train[scale_features] = ss.fit_transform(train[scale_features])\n",
    "test[scale_features] = ss.transform(test[scale_features])"
   ]
  },
  {
   "cell_type": "code",
   "execution_count": 7,
   "id": "6fbf5298",
   "metadata": {
    "execution": {
     "iopub.execute_input": "2021-08-30T19:45:46.805896Z",
     "iopub.status.busy": "2021-08-30T19:45:46.805150Z",
     "iopub.status.idle": "2021-08-30T19:45:46.813336Z",
     "shell.execute_reply": "2021-08-30T19:45:46.813899Z",
     "shell.execute_reply.started": "2021-08-30T08:55:28.445155Z"
    },
    "papermill": {
     "duration": 0.028347,
     "end_time": "2021-08-30T19:45:46.814074",
     "exception": false,
     "start_time": "2021-08-30T19:45:46.785727",
     "status": "completed"
    },
    "tags": []
   },
   "outputs": [],
   "source": [
    "# Swap noise\n",
    "\n",
    "# Random\n",
    "def apply_noise_rn(df, p=.75):\n",
    "    should_not_swap = np.random.binomial(1, p, df.shape)\n",
    "    corrupted_df = df.where(should_not_swap == 1, np.random.permutation(df))\n",
    "    return corrupted_df\n",
    "\n",
    "# Row-wise\n",
    "def apply_noise_row(df, p=.75):\n",
    "    should_not_swap = np.zeros(df.shape)\n",
    "    for i in range(df.shape[0]):\n",
    "        for j in np.random.choice(df.shape[1],int(p*df.shape[1]),replace=False):\n",
    "            should_not_swap[i,j]=1 \n",
    "    corrupted_df = df.where(should_not_swap == 1, np.random.permutation(df))\n",
    "    return corrupted_df"
   ]
  },
  {
   "cell_type": "markdown",
   "id": "4fa6aa3c",
   "metadata": {
    "papermill": {
     "duration": 0.015924,
     "end_time": "2021-08-30T19:45:46.846387",
     "exception": false,
     "start_time": "2021-08-30T19:45:46.830463",
     "status": "completed"
    },
    "tags": []
   },
   "source": [
    "# Pseudo Label"
   ]
  },
  {
   "cell_type": "code",
   "execution_count": 8,
   "id": "5d25591e",
   "metadata": {
    "execution": {
     "iopub.execute_input": "2021-08-30T19:45:46.884163Z",
     "iopub.status.busy": "2021-08-30T19:45:46.883523Z",
     "iopub.status.idle": "2021-08-30T19:45:47.695746Z",
     "shell.execute_reply": "2021-08-30T19:45:47.695124Z",
     "shell.execute_reply.started": "2021-08-30T08:55:28.455991Z"
    },
    "papermill": {
     "duration": 0.833236,
     "end_time": "2021-08-30T19:45:47.695891",
     "exception": false,
     "start_time": "2021-08-30T19:45:46.862655",
     "status": "completed"
    },
    "tags": []
   },
   "outputs": [],
   "source": [
    "pseudo = pd.read_csv(\"../input/blending-tool-tps-aug-2021/blend.csv/0.part\")[target]\n",
    "test_pseudo = pd.concat([test, pseudo], axis=1)\n",
    "all_pseudo = pd.concat([train, test_pseudo]).reset_index(drop=True)"
   ]
  },
  {
   "cell_type": "code",
   "execution_count": 9,
   "id": "927ae2dc",
   "metadata": {
    "execution": {
     "iopub.execute_input": "2021-08-30T19:45:47.733521Z",
     "iopub.status.busy": "2021-08-30T19:45:47.732806Z",
     "iopub.status.idle": "2021-08-30T19:45:47.735689Z",
     "shell.execute_reply": "2021-08-30T19:45:47.736197Z",
     "shell.execute_reply.started": "2021-08-30T08:55:29.287942Z"
    },
    "papermill": {
     "duration": 0.024274,
     "end_time": "2021-08-30T19:45:47.736380",
     "exception": false,
     "start_time": "2021-08-30T19:45:47.712106",
     "status": "completed"
    },
    "tags": []
   },
   "outputs": [],
   "source": [
    "useful_features = scale_features + ['lgb_pred', 'xgb_pred','xgb2_pred','ctb2_pred']"
   ]
  },
  {
   "cell_type": "markdown",
   "id": "ff8bf560",
   "metadata": {
    "papermill": {
     "duration": 0.016835,
     "end_time": "2021-08-30T19:45:47.770172",
     "exception": false,
     "start_time": "2021-08-30T19:45:47.753337",
     "status": "completed"
    },
    "tags": []
   },
   "source": [
    "# RF"
   ]
  },
  {
   "cell_type": "code",
   "execution_count": 10,
   "id": "0871640b",
   "metadata": {
    "execution": {
     "iopub.execute_input": "2021-08-30T19:45:47.806679Z",
     "iopub.status.busy": "2021-08-30T19:45:47.805856Z",
     "iopub.status.idle": "2021-08-30T19:45:47.811217Z",
     "shell.execute_reply": "2021-08-30T19:45:47.810515Z",
     "shell.execute_reply.started": "2021-08-30T08:55:29.294458Z"
    },
    "papermill": {
     "duration": 0.024577,
     "end_time": "2021-08-30T19:45:47.811374",
     "exception": false,
     "start_time": "2021-08-30T19:45:47.786797",
     "status": "completed"
    },
    "tags": []
   },
   "outputs": [],
   "source": [
    "rr_params  = {\n",
    "                  'n_estimators':N_ESTIMATORS,\n",
    "                    #'objective': 'regression',\n",
    "              'criterion':'mse',\n",
    "                  #'metric':'rmse',\n",
    "              'n_jobs':-1,\n",
    "              'bootstrap':True,\n",
    "    \n",
    "            'max_depth': 6,\n",
    "            'max_features': 0.9244341048225673, \n",
    "            'max_samples': 0.4938470905166652,\n",
    "            'ccp_alpha': 2.8153101495289973e-06\n",
    "\n",
    "                }"
   ]
  },
  {
   "cell_type": "code",
   "execution_count": 11,
   "id": "5c865e48",
   "metadata": {
    "execution": {
     "iopub.execute_input": "2021-08-30T19:45:47.859396Z",
     "iopub.status.busy": "2021-08-30T19:45:47.858658Z",
     "iopub.status.idle": "2021-08-31T02:31:35.109680Z",
     "shell.execute_reply": "2021-08-31T02:31:35.110564Z",
     "shell.execute_reply.started": "2021-08-30T08:58:49.043525Z"
    },
    "papermill": {
     "duration": 24347.28341,
     "end_time": "2021-08-31T02:31:35.111594",
     "exception": false,
     "start_time": "2021-08-30T19:45:47.828184",
     "status": "completed"
    },
    "tags": []
   },
   "outputs": [
    {
     "name": "stdout",
     "output_type": "stream",
     "text": [
      "===== fold 0 =====\n",
      "===== fold 1 =====\n",
      "===== fold 2 =====\n",
      "===== fold 3 =====\n",
      "===== fold 4 =====\n",
      "===== fold 5 =====\n",
      "===== fold 6 =====\n",
      "===== fold 7 =====\n",
      "fold 7 - rr rmse: 7.873682, elapsed time: 8248.14sec\n",
      "\n",
      "===== fold 8 =====\n",
      "fold 8 - rr rmse: 7.861420, elapsed time: 8107.37sec\n",
      "\n",
      "===== fold 9 =====\n",
      "fold 9 - rr rmse: 7.837854, elapsed time: 7988.42sec\n",
      "\n",
      "oof rr_rmse = 9.731647541361129\n"
     ]
    }
   ],
   "source": [
    "rr_oof = np.zeros(train.shape[0])\n",
    "rr_pred = np.zeros(test.shape[0])\n",
    "rr_importances = pd.DataFrame()\n",
    "\n",
    "\n",
    "kf = KFold(n_splits=N_SPLITS, shuffle=True, random_state=CVSEED)\n",
    "seed_list=[SEED, SEED+1, SEED+2]\n",
    "\n",
    "for fold, (trn_idx, val_idx) in enumerate(kf.split(X=all_pseudo[useful_features], y=all_pseudo[target])):\n",
    "    print(f\"===== fold {fold} =====\")\n",
    "    \n",
    "    if fold >6:\n",
    "        \n",
    "        oof_idx = np.array([idx for idx in val_idx if idx < train.shape[0]])\n",
    "        preds_idx = np.array([idx for idx in val_idx if idx >= train.shape[0]])\n",
    "\n",
    "        X_train, y_train = all_pseudo[useful_features].iloc[trn_idx], all_pseudo[target].iloc[trn_idx]\n",
    "        #X_train = apply_noise_row(X_train)\n",
    "\n",
    "        X_valid, y_valid = all_pseudo[useful_features].iloc[oof_idx], all_pseudo[target].iloc[oof_idx]\n",
    "        X_test = all_pseudo[useful_features].iloc[preds_idx]\n",
    "\n",
    "        # rr\n",
    "        start = time.time()\n",
    "\n",
    "        for inseed in seed_list:\n",
    "            rr_params['random_state'] = inseed\n",
    "\n",
    "            model = RandomForestRegressor(**rr_params, verbose=0)\n",
    "            model.fit(\n",
    "                X_train, \n",
    "                y_train,\n",
    "\n",
    "            )\n",
    "\n",
    "            with open(f\"rr_model{fold}.pkl\", 'wb') as f:\n",
    "                pickle.dump(model, f)\n",
    "\n",
    "            fi_tmp = pd.DataFrame()\n",
    "            fi_tmp['feature'] = useful_features\n",
    "            fi_tmp['importance'] = model.feature_importances_\n",
    "            fi_tmp['fold'] = fold\n",
    "            fi_tmp['seed'] = inseed\n",
    "            rr_importances = rr_importances.append(fi_tmp)\n",
    "\n",
    "            rr_oof[oof_idx] += model.predict(X_valid) / len(seed_list)\n",
    "            rr_pred[preds_idx-train.shape[0]] += model.predict(X_test) / len(seed_list)\n",
    "\n",
    "        elapsed = time.time() - start\n",
    "        rmse = mean_squared_error(y_valid, rr_oof[oof_idx], squared=False)\n",
    "        print(f\"fold {fold} - rr rmse: {rmse:.6f}, elapsed time: {elapsed:.2f}sec\\n\")\n",
    "\n",
    "        \n",
    "print(f\"oof rr_rmse = {mean_squared_error(train[target], rr_oof, squared=False)}\")\n",
    "\n",
    "np.save(\"rr_oof.npy\", rr_oof)\n",
    "np.save(\"rr_pred.npy\", rr_pred)"
   ]
  },
  {
   "cell_type": "markdown",
   "id": "0b80c1ac",
   "metadata": {
    "papermill": {
     "duration": 0.018602,
     "end_time": "2021-08-31T02:31:35.148664",
     "exception": false,
     "start_time": "2021-08-31T02:31:35.130062",
     "status": "completed"
    },
    "tags": []
   },
   "source": [
    "# OOF predictions"
   ]
  },
  {
   "cell_type": "code",
   "execution_count": 12,
   "id": "3b190aae",
   "metadata": {
    "execution": {
     "iopub.execute_input": "2021-08-31T02:31:35.218982Z",
     "iopub.status.busy": "2021-08-31T02:31:35.218207Z",
     "iopub.status.idle": "2021-08-31T02:31:36.336265Z",
     "shell.execute_reply": "2021-08-31T02:31:36.335128Z",
     "shell.execute_reply.started": "2021-08-30T08:59:47.967749Z"
    },
    "papermill": {
     "duration": 1.169692,
     "end_time": "2021-08-31T02:31:36.336448",
     "exception": false,
     "start_time": "2021-08-31T02:31:35.166756",
     "status": "completed"
    },
    "tags": []
   },
   "outputs": [
    {
     "data": {
      "text/plain": [
       "<matplotlib.collections.PathCollection at 0x7f7c3386ebd0>"
      ]
     },
     "execution_count": 12,
     "metadata": {},
     "output_type": "execute_result"
    },
    {
     "data": {
      "image/png": "[encoded data removed]",
      "text/plain": [
       "<Figure size 432x288 with 1 Axes>"
      ]
     },
     "metadata": {
      "needs_background": "light"
     },
     "output_type": "display_data"
    }
   ],
   "source": [
    "plt.plot(train[target], train[target])\n",
    "plt.scatter(train[target], rr_oof)"
   ]
  },
  {
   "cell_type": "markdown",
   "id": "def585ee",
   "metadata": {
    "papermill": {
     "duration": 0.018426,
     "end_time": "2021-08-31T02:31:36.374743",
     "exception": false,
     "start_time": "2021-08-31T02:31:36.356317",
     "status": "completed"
    },
    "tags": []
   },
   "source": [
    "# Features importances"
   ]
  },
  {
   "cell_type": "code",
   "execution_count": 13,
   "id": "c8191cd3",
   "metadata": {
    "execution": {
     "iopub.execute_input": "2021-08-31T02:31:36.436926Z",
     "iopub.status.busy": "2021-08-31T02:31:36.433116Z",
     "iopub.status.idle": "2021-08-31T02:31:38.884329Z",
     "shell.execute_reply": "2021-08-31T02:31:38.883827Z",
     "shell.execute_reply.started": "2021-08-30T08:59:49.066813Z"
    },
    "papermill": {
     "duration": 2.484913,
     "end_time": "2021-08-31T02:31:38.884468",
     "exception": false,
     "start_time": "2021-08-31T02:31:36.399555",
     "status": "completed"
    },
    "tags": []
   },
   "outputs": [
    {
     "data": {
      "text/plain": [
       "Text(0.5, 1.0, 'LightGBM feature importances')"
      ]
     },
     "execution_count": 13,
     "metadata": {},
     "output_type": "execute_result"
    },
    {
     "data": {
      "image/png": "[encoded data removed]",
      "text/plain": [
       "<Figure size 1152x1152 with 1 Axes>"
      ]
     },
     "metadata": {
      "needs_background": "light"
     },
     "output_type": "display_data"
    }
   ],
   "source": [
    "order = list(rr_importances.groupby('feature').mean().sort_values('importance', ascending=False).index)\n",
    "\n",
    "fig = plt.figure(figsize=(16, 16), tight_layout=True)\n",
    "sns.barplot(x=\"importance\", y=\"feature\", data=rr_importances.groupby('feature').mean().reset_index(), order=order)\n",
    "plt.title(\"LightGBM feature importances\")"
   ]
  },
  {
   "cell_type": "markdown",
   "id": "253b18a8",
   "metadata": {
    "papermill": {
     "duration": 0.020697,
     "end_time": "2021-08-31T02:31:38.926128",
     "exception": false,
     "start_time": "2021-08-31T02:31:38.905431",
     "status": "completed"
    },
    "tags": []
   },
   "source": [
    "# Submission"
   ]
  },
  {
   "cell_type": "code",
   "execution_count": 14,
   "id": "44ca50d1",
   "metadata": {
    "execution": {
     "iopub.execute_input": "2021-08-31T02:31:38.973520Z",
     "iopub.status.busy": "2021-08-31T02:31:38.972873Z",
     "iopub.status.idle": "2021-08-31T02:31:39.424095Z",
     "shell.execute_reply": "2021-08-31T02:31:39.423432Z",
     "shell.execute_reply.started": "2021-08-30T08:59:51.33693Z"
    },
    "papermill": {
     "duration": 0.477038,
     "end_time": "2021-08-31T02:31:39.424240",
     "exception": false,
     "start_time": "2021-08-31T02:31:38.947202",
     "status": "completed"
    },
    "tags": []
   },
   "outputs": [
    {
     "data": {
      "text/html": [
       "<div>\n",
       "<style scoped>\n",
       "    .dataframe tbody tr th:only-of-type {\n",
       "        vertical-align: middle;\n",
       "    }\n",
       "\n",
       "    .dataframe tbody tr th {\n",
       "        vertical-align: top;\n",
       "    }\n",
       "\n",
       "    .dataframe thead th {\n",
       "        text-align: right;\n",
       "    }\n",
       "</style>\n",
       "<table border=\"1\" class=\"dataframe\">\n",
       "  <thead>\n",
       "    <tr style=\"text-align: right;\">\n",
       "      <th></th>\n",
       "      <th>id</th>\n",
       "      <th>loss</th>\n",
       "    </tr>\n",
       "  </thead>\n",
       "  <tbody>\n",
       "    <tr>\n",
       "      <th>0</th>\n",
       "      <td>250000</td>\n",
       "      <td>0.0</td>\n",
       "    </tr>\n",
       "    <tr>\n",
       "      <th>1</th>\n",
       "      <td>250001</td>\n",
       "      <td>0.0</td>\n",
       "    </tr>\n",
       "    <tr>\n",
       "      <th>2</th>\n",
       "      <td>250002</td>\n",
       "      <td>0.0</td>\n",
       "    </tr>\n",
       "    <tr>\n",
       "      <th>3</th>\n",
       "      <td>250003</td>\n",
       "      <td>0.0</td>\n",
       "    </tr>\n",
       "    <tr>\n",
       "      <th>4</th>\n",
       "      <td>250004</td>\n",
       "      <td>0.0</td>\n",
       "    </tr>\n",
       "    <tr>\n",
       "      <th>...</th>\n",
       "      <td>...</td>\n",
       "      <td>...</td>\n",
       "    </tr>\n",
       "    <tr>\n",
       "      <th>149995</th>\n",
       "      <td>399995</td>\n",
       "      <td>0.0</td>\n",
       "    </tr>\n",
       "    <tr>\n",
       "      <th>149996</th>\n",
       "      <td>399996</td>\n",
       "      <td>0.0</td>\n",
       "    </tr>\n",
       "    <tr>\n",
       "      <th>149997</th>\n",
       "      <td>399997</td>\n",
       "      <td>0.0</td>\n",
       "    </tr>\n",
       "    <tr>\n",
       "      <th>149998</th>\n",
       "      <td>399998</td>\n",
       "      <td>0.0</td>\n",
       "    </tr>\n",
       "    <tr>\n",
       "      <th>149999</th>\n",
       "      <td>399999</td>\n",
       "      <td>0.0</td>\n",
       "    </tr>\n",
       "  </tbody>\n",
       "</table>\n",
       "<p>150000 rows × 2 columns</p>\n",
       "</div>"
      ],
      "text/plain": [
       "            id  loss\n",
       "0       250000   0.0\n",
       "1       250001   0.0\n",
       "2       250002   0.0\n",
       "3       250003   0.0\n",
       "4       250004   0.0\n",
       "...        ...   ...\n",
       "149995  399995   0.0\n",
       "149996  399996   0.0\n",
       "149997  399997   0.0\n",
       "149998  399998   0.0\n",
       "149999  399999   0.0\n",
       "\n",
       "[150000 rows x 2 columns]"
      ]
     },
     "execution_count": 14,
     "metadata": {},
     "output_type": "execute_result"
    }
   ],
   "source": [
    "submission[target] = rr_pred\n",
    "submission.to_csv(\"submission.csv\", index=False)\n",
    "\n",
    "submission"
   ]
  }
 ],
 "metadata": {
  "kernelspec": {
   "display_name": "Python 3",
   "language": "python",
   "name": "python3"
  },
  "language_info": {
   "codemirror_mode": {
    "name": "ipython",
    "version": 3
   },
   "file_extension": ".py",
   "mimetype": "text/x-python",
   "name": "python",
   "nbconvert_exporter": "python",
   "pygments_lexer": "ipython3",
   "version": "3.7.10"
  },
  "papermill": {
   "default_parameters": {},
   "duration": 24387.758794,
   "end_time": "2021-08-31T02:31:40.265506",
   "environment_variables": {},
   "exception": null,
   "input_path": "__notebook__.ipynb",
   "output_path": "__notebook__.ipynb",
   "parameters": {},
   "start_time": "2021-08-30T19:45:12.506712",
   "version": "2.3.3"
  }
 },
 "nbformat": 4,
 "nbformat_minor": 5
}
