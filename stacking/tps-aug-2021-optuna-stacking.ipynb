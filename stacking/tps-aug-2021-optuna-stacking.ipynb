{
 "cells": [
  {
   "cell_type": "code",
   "execution_count": 1,
   "id": "4368452d",
   "metadata": {
    "_cell_guid": "b1076dfc-b9ad-4769-8c92-a6c4dae69d19",
    "_uuid": "8f2839f25d086af736a60e9eeb907d3b93b6e0e5",
    "execution": {
     "iopub.execute_input": "2021-08-26T02:45:40.725791Z",
     "iopub.status.busy": "2021-08-26T02:45:40.724545Z",
     "iopub.status.idle": "2021-08-26T02:45:42.997955Z",
     "shell.execute_reply": "2021-08-26T02:45:42.997095Z",
     "shell.execute_reply.started": "2021-08-26T02:43:44.407424Z"
    },
    "papermill": {
     "duration": 2.294139,
     "end_time": "2021-08-26T02:45:42.998169",
     "exception": false,
     "start_time": "2021-08-26T02:45:40.704030",
     "status": "completed"
    },
    "tags": []
   },
   "outputs": [
    {
     "data": {
      "text/html": [
       "<style type='text/css'>\n",
       ".datatable table.frame { margin-bottom: 0; }\n",
       ".datatable table.frame thead { border-bottom: none; }\n",
       ".datatable table.frame tr.coltypes td {  color: #FFFFFF;  line-height: 6px;  padding: 0 0.5em;}\n",
       ".datatable .bool    { background: #DDDD99; }\n",
       ".datatable .object  { background: #565656; }\n",
       ".datatable .int     { background: #5D9E5D; }\n",
       ".datatable .float   { background: #4040CC; }\n",
       ".datatable .str     { background: #CC4040; }\n",
       ".datatable .time    { background: #40CC40; }\n",
       ".datatable .row_index {  background: var(--jp-border-color3);  border-right: 1px solid var(--jp-border-color0);  color: var(--jp-ui-font-color3);  font-size: 9px;}\n",
       ".datatable .frame tbody td { text-align: left; }\n",
       ".datatable .frame tr.coltypes .row_index {  background: var(--jp-border-color0);}\n",
       ".datatable th:nth-child(2) { padding-left: 12px; }\n",
       ".datatable .hellipsis {  color: var(--jp-cell-editor-border-color);}\n",
       ".datatable .vellipsis {  background: var(--jp-layout-color0);  color: var(--jp-cell-editor-border-color);}\n",
       ".datatable .na {  color: var(--jp-cell-editor-border-color);  font-size: 80%;}\n",
       ".datatable .sp {  opacity: 0.25;}\n",
       ".datatable .footer { font-size: 9px; }\n",
       ".datatable .frame_dimensions {  background: var(--jp-border-color3);  border-top: 1px solid var(--jp-border-color0);  color: var(--jp-ui-font-color3);  display: inline-block;  opacity: 0.6;  padding: 1px 10px 1px 5px;}\n",
       "</style>\n"
      ],
      "text/plain": [
       "<IPython.core.display.HTML object>"
      ]
     },
     "metadata": {},
     "output_type": "display_data"
    }
   ],
   "source": [
    "# Familiar imports\n",
    "import numpy as np\n",
    "import pandas as pd\n",
    "import random\n",
    "import os\n",
    "import time\n",
    "from pathlib import Path\n",
    "\n",
    "from sklearn.preprocessing import StandardScaler\n",
    "from sklearn.model_selection import KFold, train_test_split\n",
    "from sklearn.metrics import mean_squared_error\n",
    "\n",
    "import lightgbm as lgb\n",
    "#import xgboost as xgb\n",
    "#import catboost as ctb\n",
    "\n",
    "import warnings\n",
    "warnings.simplefilter('ignore')"
   ]
  },
  {
   "cell_type": "markdown",
   "id": "0c3eb556",
   "metadata": {
    "papermill": {
     "duration": 0.016468,
     "end_time": "2021-08-26T02:45:43.031502",
     "exception": false,
     "start_time": "2021-08-26T02:45:43.015034",
     "status": "completed"
    },
    "tags": []
   },
   "source": [
    "# Parameters"
   ]
  },
  {
   "cell_type": "code",
   "execution_count": 2,
   "id": "808dec36",
   "metadata": {
    "execution": {
     "iopub.execute_input": "2021-08-26T02:45:43.071743Z",
     "iopub.status.busy": "2021-08-26T02:45:43.071001Z",
     "iopub.status.idle": "2021-08-26T02:45:43.074201Z",
     "shell.execute_reply": "2021-08-26T02:45:43.073612Z",
     "shell.execute_reply.started": "2021-08-26T02:43:44.415228Z"
    },
    "papermill": {
     "duration": 0.025891,
     "end_time": "2021-08-26T02:45:43.074376",
     "exception": false,
     "start_time": "2021-08-26T02:45:43.048485",
     "status": "completed"
    },
    "tags": []
   },
   "outputs": [],
   "source": [
    "target = 'loss'\n",
    "\n",
    "DEBUG = False\n",
    "\n",
    "if DEBUG:\n",
    "    N_ESTIMATORS = 1\n",
    "    N_SPLITS = 2\n",
    "    SEED = 17\n",
    "    CVSEED = 17\n",
    "    EARLY_STOPPING_ROUNDS = 1\n",
    "    VERBOSE = 100\n",
    "    #N_ITERS = 2\n",
    "else:\n",
    "    N_SPLITS = 10\n",
    "    N_ESTIMATORS = 10000\n",
    "    EARLY_STOPPING_ROUNDS = 200\n",
    "    VERBOSE = 1000\n",
    "    SEED = 17\n",
    "    CVSEED = 17\n",
    "    #N_ITERS = 10"
   ]
  },
  {
   "cell_type": "code",
   "execution_count": 3,
   "id": "24f789fc",
   "metadata": {
    "execution": {
     "iopub.execute_input": "2021-08-26T02:45:43.113624Z",
     "iopub.status.busy": "2021-08-26T02:45:43.112896Z",
     "iopub.status.idle": "2021-08-26T02:45:43.115791Z",
     "shell.execute_reply": "2021-08-26T02:45:43.116379Z",
     "shell.execute_reply.started": "2021-08-26T02:43:44.433293Z"
    },
    "papermill": {
     "duration": 0.025943,
     "end_time": "2021-08-26T02:45:43.116607",
     "exception": false,
     "start_time": "2021-08-26T02:45:43.090664",
     "status": "completed"
    },
    "tags": []
   },
   "outputs": [],
   "source": [
    "def set_seed(seed=17):\n",
    "    random.seed(seed)\n",
    "    os.environ['PYTHONHASHSEED'] = str(seed)\n",
    "    np.random.seed(seed)\n",
    "    \n",
    "set_seed(SEED)"
   ]
  },
  {
   "cell_type": "markdown",
   "id": "e3a0cbfb",
   "metadata": {
    "papermill": {
     "duration": 0.015765,
     "end_time": "2021-08-26T02:45:43.148063",
     "exception": false,
     "start_time": "2021-08-26T02:45:43.132298",
     "status": "completed"
    },
    "tags": []
   },
   "source": [
    "# Load data"
   ]
  },
  {
   "cell_type": "code",
   "execution_count": 4,
   "id": "07aae4ed",
   "metadata": {
    "execution": {
     "iopub.execute_input": "2021-08-26T02:45:43.187342Z",
     "iopub.status.busy": "2021-08-26T02:45:43.186200Z",
     "iopub.status.idle": "2021-08-26T02:45:55.841075Z",
     "shell.execute_reply": "2021-08-26T02:45:55.839754Z",
     "shell.execute_reply.started": "2021-08-26T02:43:44.446829Z"
    },
    "papermill": {
     "duration": 12.67718,
     "end_time": "2021-08-26T02:45:55.841248",
     "exception": false,
     "start_time": "2021-08-26T02:45:43.164068",
     "status": "completed"
    },
    "tags": []
   },
   "outputs": [],
   "source": [
    "INPUT = Path(\"../input/tabular-playground-series-aug-2021\")\n",
    "\n",
    "train = pd.read_csv(INPUT / \"train.csv\")\n",
    "test = pd.read_csv(INPUT / \"test.csv\")\n",
    "submission = pd.read_csv(INPUT / \"sample_submission.csv\")"
   ]
  },
  {
   "cell_type": "code",
   "execution_count": 5,
   "id": "d75beee8",
   "metadata": {
    "execution": {
     "iopub.execute_input": "2021-08-26T02:45:55.878673Z",
     "iopub.status.busy": "2021-08-26T02:45:55.877894Z",
     "iopub.status.idle": "2021-08-26T02:45:55.967904Z",
     "shell.execute_reply": "2021-08-26T02:45:55.968454Z",
     "shell.execute_reply.started": "2021-08-26T02:43:51.736903Z"
    },
    "papermill": {
     "duration": 0.111822,
     "end_time": "2021-08-26T02:45:55.968673",
     "exception": false,
     "start_time": "2021-08-26T02:45:55.856851",
     "status": "completed"
    },
    "tags": []
   },
   "outputs": [],
   "source": [
    "train['lgb_pred'] = np.load(\"../input/tps-aug-2021-lgb/lgb_oof.npy\")\n",
    "test['lgb_pred'] = np.load(\"../input/tps-aug-2021-lgb/lgb_pred.npy\")\n",
    "\n",
    "train['xgb_pred'] = np.load(\"../input/tps-aug-2021-xgb/xgb_oof.npy\")\n",
    "test['xgb_pred'] = np.load(\"../input/tps-aug-2021-xgb/xgb_pred.npy\")"
   ]
  },
  {
   "cell_type": "markdown",
   "id": "661fa28d",
   "metadata": {
    "papermill": {
     "duration": 0.016126,
     "end_time": "2021-08-26T02:45:56.000940",
     "exception": false,
     "start_time": "2021-08-26T02:45:55.984814",
     "status": "completed"
    },
    "tags": []
   },
   "source": [
    "# Preprocessing"
   ]
  },
  {
   "cell_type": "code",
   "execution_count": 6,
   "id": "3a95e592",
   "metadata": {
    "execution": {
     "iopub.execute_input": "2021-08-26T02:45:56.036305Z",
     "iopub.status.busy": "2021-08-26T02:45:56.035541Z",
     "iopub.status.idle": "2021-08-26T02:46:09.646144Z",
     "shell.execute_reply": "2021-08-26T02:46:09.645480Z",
     "shell.execute_reply.started": "2021-08-26T02:43:51.755813Z"
    },
    "papermill": {
     "duration": 13.629211,
     "end_time": "2021-08-26T02:46:09.646320",
     "exception": false,
     "start_time": "2021-08-26T02:45:56.017109",
     "status": "completed"
    },
    "tags": []
   },
   "outputs": [],
   "source": [
    "scale_features = [col for col in test.columns if 'f' in col]\n",
    "\n",
    "ss = StandardScaler()\n",
    "train[scale_features] = ss.fit_transform(train[scale_features])\n",
    "test[scale_features] = ss.transform(test[scale_features])"
   ]
  },
  {
   "cell_type": "code",
   "execution_count": 7,
   "id": "696a2670",
   "metadata": {
    "execution": {
     "iopub.execute_input": "2021-08-26T02:46:09.688789Z",
     "iopub.status.busy": "2021-08-26T02:46:09.687612Z",
     "iopub.status.idle": "2021-08-26T02:46:09.690791Z",
     "shell.execute_reply": "2021-08-26T02:46:09.690255Z",
     "shell.execute_reply.started": "2021-08-26T02:44:03.623652Z"
    },
    "papermill": {
     "duration": 0.029193,
     "end_time": "2021-08-26T02:46:09.690952",
     "exception": false,
     "start_time": "2021-08-26T02:46:09.661759",
     "status": "completed"
    },
    "tags": []
   },
   "outputs": [],
   "source": [
    "# Swap noise\n",
    "\n",
    "# Random\n",
    "def apply_noise_rn(df, p=.75):\n",
    "    should_not_swap = np.random.binomial(1, p, df.shape)\n",
    "    corrupted_df = df.where(should_not_swap == 1, np.random.permutation(df))\n",
    "    return corrupted_df\n",
    "\n",
    "# Row-wise\n",
    "def apply_noise_row(df, p=.75):\n",
    "    should_not_swap = np.zeros(df.shape)\n",
    "    for i in range(df.shape[0]):\n",
    "        for j in np.random.choice(df.shape[1],int(p*df.shape[1]),replace=False):\n",
    "            should_not_swap[i,j]=1 \n",
    "    corrupted_df = df.where(should_not_swap == 1, np.random.permutation(df))\n",
    "    return corrupted_df"
   ]
  },
  {
   "cell_type": "markdown",
   "id": "4e9afd83",
   "metadata": {
    "papermill": {
     "duration": 0.014818,
     "end_time": "2021-08-26T02:46:09.721000",
     "exception": false,
     "start_time": "2021-08-26T02:46:09.706182",
     "status": "completed"
    },
    "tags": []
   },
   "source": [
    "# Pseudo Label"
   ]
  },
  {
   "cell_type": "code",
   "execution_count": 8,
   "id": "a4c912bd",
   "metadata": {
    "execution": {
     "iopub.execute_input": "2021-08-26T02:46:09.758537Z",
     "iopub.status.busy": "2021-08-26T02:46:09.757822Z",
     "iopub.status.idle": "2021-08-26T02:46:11.045383Z",
     "shell.execute_reply": "2021-08-26T02:46:11.044796Z",
     "shell.execute_reply.started": "2021-08-26T02:44:03.632904Z"
    },
    "papermill": {
     "duration": 1.309056,
     "end_time": "2021-08-26T02:46:11.045565",
     "exception": false,
     "start_time": "2021-08-26T02:46:09.736509",
     "status": "completed"
    },
    "tags": []
   },
   "outputs": [],
   "source": [
    "pseudo = pd.read_csv(\"../input/blending-tool-tps-aug-2021/blend.csv/0.part\")[target]\n",
    "test_pseudo = pd.concat([test, pseudo], axis=1)\n",
    "all_pseudo = pd.concat([train, test_pseudo]).reset_index(drop=True)"
   ]
  },
  {
   "cell_type": "code",
   "execution_count": 9,
   "id": "f49ff8bb",
   "metadata": {
    "execution": {
     "iopub.execute_input": "2021-08-26T02:46:11.079484Z",
     "iopub.status.busy": "2021-08-26T02:46:11.078785Z",
     "iopub.status.idle": "2021-08-26T02:46:11.084953Z",
     "shell.execute_reply": "2021-08-26T02:46:11.084068Z",
     "shell.execute_reply.started": "2021-08-26T02:44:04.394637Z"
    },
    "papermill": {
     "duration": 0.024542,
     "end_time": "2021-08-26T02:46:11.085148",
     "exception": false,
     "start_time": "2021-08-26T02:46:11.060606",
     "status": "completed"
    },
    "tags": []
   },
   "outputs": [],
   "source": [
    "useful_features = scale_features + ['lgb_pred', 'xgb_pred']"
   ]
  },
  {
   "cell_type": "markdown",
   "id": "df30bc6c",
   "metadata": {
    "papermill": {
     "duration": 0.014935,
     "end_time": "2021-08-26T02:46:11.115150",
     "exception": false,
     "start_time": "2021-08-26T02:46:11.100215",
     "status": "completed"
    },
    "tags": []
   },
   "source": [
    "# Optuna"
   ]
  },
  {
   "cell_type": "code",
   "execution_count": 10,
   "id": "217f65e5",
   "metadata": {
    "execution": {
     "iopub.execute_input": "2021-08-26T02:46:11.164586Z",
     "iopub.status.busy": "2021-08-26T02:46:11.150653Z",
     "iopub.status.idle": "2021-08-26T02:46:21.593471Z",
     "shell.execute_reply": "2021-08-26T02:46:21.592844Z",
     "shell.execute_reply.started": "2021-08-26T02:44:04.401337Z"
    },
    "papermill": {
     "duration": 10.46342,
     "end_time": "2021-08-26T02:46:21.593628",
     "exception": false,
     "start_time": "2021-08-26T02:46:11.130208",
     "status": "completed"
    },
    "tags": []
   },
   "outputs": [
    {
     "name": "stdout",
     "output_type": "stream",
     "text": [
      "\u001b[33mWARNING: Running pip as root will break packages and permissions. You should install packages reliably by using venv: https://pip.pypa.io/warnings/venv\u001b[0m\r\n"
     ]
    }
   ],
   "source": [
    "# Optuna for parameter search\n",
    "!pip install -q optuna\n",
    "\n",
    "import optuna\n",
    "import pickle"
   ]
  },
  {
   "cell_type": "code",
   "execution_count": 11,
   "id": "46d2f7b2",
   "metadata": {
    "execution": {
     "iopub.execute_input": "2021-08-26T02:46:21.642486Z",
     "iopub.status.busy": "2021-08-26T02:46:21.641671Z",
     "iopub.status.idle": "2021-08-26T02:46:22.180895Z",
     "shell.execute_reply": "2021-08-26T02:46:22.180293Z",
     "shell.execute_reply.started": "2021-08-26T02:44:11.546157Z"
    },
    "papermill": {
     "duration": 0.571683,
     "end_time": "2021-08-26T02:46:22.181092",
     "exception": false,
     "start_time": "2021-08-26T02:46:21.609409",
     "status": "completed"
    },
    "tags": []
   },
   "outputs": [],
   "source": [
    "# for the fixed learning rate, use the opt n iterations and tune the tree hyperparameters\n",
    "def objective(trial, X=all_pseudo[useful_features], y=all_pseudo[target]):\n",
    "  \"\"\"\n",
    "  \"\"\"\n",
    "  param_space = {\n",
    "                    'objective': 'regression',\n",
    "              'metric':'rmse',\n",
    "               #'device':'gpu',  # Use GPU acceleration\n",
    "               # 'gpu_platform_id': 0,\n",
    "                #    'gpu_device_id': 0,\n",
    "               'n_estimators':N_ESTIMATORS,\n",
    "              'learning_rate':trial.suggest_uniform('learning_rate', 1e-3, 1e-1),\n",
    "               'subsample': trial.suggest_uniform('subsample', 0.2, 1.0),\n",
    "              'colsample_bytree':trial.suggest_uniform('colsample_bytree', 0.2, 1.0),\n",
    "                'subsample_freq': trial.suggest_int('subsample_freq', 1, 10),\n",
    "             #'boosting_type': 'gbdt',\n",
    "               'reg_lambda':trial.suggest_uniform('reg_lambda', 0.01, 50),\n",
    "              'reg_alpha':trial.suggest_uniform('reg_alpha', 0.01, 50),\n",
    "            'min_child_weight':trial.suggest_uniform('min_child_weight', 100, 500),\n",
    "                 'min_child_samples':trial.suggest_int('min_child_samples', 5, 250),\n",
    "          'importance_type': 'gain'\n",
    "                }\n",
    "            \n",
    "\n",
    "  seed_list=[SEED, SEED+1]\n",
    "  #kf = KFold(n_splits=N_SPLITS, shuffle=True, random_state=CVSEED)\n",
    "  lgb_oof = np.zeros(train.shape[0])\n",
    "  #lgb_pred = np.zeros(test.shape[0])\n",
    "  X_tr, X_va, y_tr, y_va = train_test_split(X,y,test_size=.2,random_state=CVSEED)\n",
    "  trn_idx = X_tr.index\n",
    "  val_idx = X_va.index\n",
    "  \n",
    "  \n",
    "  #for (trn_idx, val_idx) in enumerate(kf.split(X, y)):\n",
    "  #print(f\"===== fold {fold} =====\")\n",
    "  oof_idx = np.array([idx for idx in val_idx if idx < train.shape[0]])\n",
    "  preds_idx = np.array([idx for idx in val_idx if idx >= train.shape[0]])\n",
    "\n",
    "  X_train, y_train = all_pseudo[useful_features].iloc[trn_idx], all_pseudo[target].iloc[trn_idx]\n",
    "  #X_train = apply_noise_rn(X_train)\n",
    "\n",
    "  X_valid, y_valid = all_pseudo[useful_features].iloc[oof_idx], all_pseudo[target].iloc[oof_idx]\n",
    "  #X_test = all_pseudo[scale_features].iloc[preds_idx]\n",
    "\n",
    "  #start = time.time()\n",
    "  for inseed in seed_list:\n",
    "    param_space['random_state'] = inseed\n",
    "\n",
    "    model = lgb.LGBMRegressor(**param_space)\n",
    "    model.fit(\n",
    "        X_train, \n",
    "        y_train,\n",
    "        eval_set=[(X_valid, y_valid)],\n",
    "        eval_metric='rmse',\n",
    "        early_stopping_rounds=EARLY_STOPPING_ROUNDS,\n",
    "        verbose=VERBOSE,\n",
    "    )\n",
    "\n",
    "\n",
    "    lgb_oof[oof_idx] += model.predict(X_valid) / len(seed_list)\n",
    "    #lgb_pred[preds_idx-train.shape[0]] += model.predict(X_test) / len(seed_list)\n",
    "\n",
    "  #elapsed = time.time() - start\n",
    "  rmse = mean_squared_error(y_valid, lgb_oof[oof_idx], squared=False)\n",
    "  #print(f\"fold {fold} - lgb rmse: {rmse:.6f}, elapsed time: {elapsed:.2f}sec\\n\")            \n",
    "  \n",
    "  #print(f\"oof lgb_rmse = {mean_squared_error(train[target], lgb_oof, squared=False)}\")\n",
    "\n",
    "  \n",
    "  return rmse"
   ]
  },
  {
   "cell_type": "code",
   "execution_count": 12,
   "id": "b632c6ef",
   "metadata": {
    "execution": {
     "iopub.execute_input": "2021-08-26T02:46:22.218631Z",
     "iopub.status.busy": "2021-08-26T02:46:22.217865Z",
     "iopub.status.idle": "2021-08-26T03:30:18.621449Z",
     "shell.execute_reply": "2021-08-26T03:30:18.622184Z",
     "shell.execute_reply.started": "2021-08-26T02:44:11.883900Z"
    },
    "papermill": {
     "duration": 2636.426004,
     "end_time": "2021-08-26T03:30:18.622590",
     "exception": false,
     "start_time": "2021-08-26T02:46:22.196586",
     "status": "completed"
    },
    "tags": []
   },
   "outputs": [
    {
     "name": "stderr",
     "output_type": "stream",
     "text": [
      "\u001b[32m[I 2021-08-26 02:46:22,215]\u001b[0m A new study created in memory with name: no-name-fa0942ee-f890-472a-8b11-a4c64c4dc882\u001b[0m\n"
     ]
    },
    {
     "name": "stdout",
     "output_type": "stream",
     "text": [
      "Training until validation scores don't improve for 200 rounds\n",
      "Early stopping, best iteration is:\n",
      "[162]\tvalid_0's rmse: 7.74621\n",
      "Training until validation scores don't improve for 200 rounds\n",
      "Early stopping, best iteration is:\n",
      "[153]\tvalid_0's rmse: 7.74584\n"
     ]
    },
    {
     "name": "stderr",
     "output_type": "stream",
     "text": [
      "\u001b[32m[I 2021-08-26 02:47:09,764]\u001b[0m Trial 0 finished with value: 7.745670686888021 and parameters: {'learning_rate': 0.020487596550574833, 'subsample': 0.3762696077694573, 'colsample_bytree': 0.7811208091898296, 'subsample_freq': 5, 'reg_lambda': 29.462438771823344, 'reg_alpha': 41.37629922945654, 'min_child_weight': 486.8218095543472, 'min_child_samples': 167}. Best is trial 0 with value: 7.745670686888021.\u001b[0m\n"
     ]
    },
    {
     "name": "stdout",
     "output_type": "stream",
     "text": [
      "Training until validation scores don't improve for 200 rounds\n",
      "Early stopping, best iteration is:\n",
      "[167]\tvalid_0's rmse: 7.74633\n",
      "Training until validation scores don't improve for 200 rounds\n",
      "Early stopping, best iteration is:\n",
      "[166]\tvalid_0's rmse: 7.74608\n"
     ]
    },
    {
     "name": "stderr",
     "output_type": "stream",
     "text": [
      "\u001b[32m[I 2021-08-26 02:47:50,987]\u001b[0m Trial 1 finished with value: 7.746072640176114 and parameters: {'learning_rate': 0.022503877232941553, 'subsample': 0.8938954390859548, 'colsample_bytree': 0.4934278485156569, 'subsample_freq': 1, 'reg_lambda': 29.13100669067273, 'reg_alpha': 1.656022586240838, 'min_child_weight': 171.472850264289, 'min_child_samples': 196}. Best is trial 0 with value: 7.745670686888021.\u001b[0m\n"
     ]
    },
    {
     "name": "stdout",
     "output_type": "stream",
     "text": [
      "Training until validation scores don't improve for 200 rounds\n",
      "Early stopping, best iteration is:\n",
      "[66]\tvalid_0's rmse: 7.7466\n",
      "Training until validation scores don't improve for 200 rounds\n"
     ]
    },
    {
     "name": "stderr",
     "output_type": "stream",
     "text": [
      "\u001b[32m[I 2021-08-26 02:48:20,838]\u001b[0m Trial 2 finished with value: 7.746700751012669 and parameters: {'learning_rate': 0.04530695553424629, 'subsample': 0.4104386624857589, 'colsample_bytree': 0.4854488962740264, 'subsample_freq': 1, 'reg_lambda': 21.281346481175305, 'reg_alpha': 13.536515337371327, 'min_child_weight': 451.1415991557218, 'min_child_samples': 105}. Best is trial 0 with value: 7.745670686888021.\u001b[0m\n"
     ]
    },
    {
     "name": "stdout",
     "output_type": "stream",
     "text": [
      "Early stopping, best iteration is:\n",
      "[71]\tvalid_0's rmse: 7.74779\n",
      "Training until validation scores don't improve for 200 rounds\n",
      "Early stopping, best iteration is:\n",
      "[157]\tvalid_0's rmse: 7.74511\n",
      "Training until validation scores don't improve for 200 rounds\n",
      "Early stopping, best iteration is:\n",
      "[146]\tvalid_0's rmse: 7.74515\n"
     ]
    },
    {
     "name": "stderr",
     "output_type": "stream",
     "text": [
      "\u001b[32m[I 2021-08-26 02:49:15,214]\u001b[0m Trial 3 finished with value: 7.7449582360948686 and parameters: {'learning_rate': 0.02385142072434037, 'subsample': 0.8915643462390823, 'colsample_bytree': 0.7754700599697844, 'subsample_freq': 7, 'reg_lambda': 16.43813487307348, 'reg_alpha': 10.028484534559555, 'min_child_weight': 205.45388345258215, 'min_child_samples': 80}. Best is trial 3 with value: 7.7449582360948686.\u001b[0m\n"
     ]
    },
    {
     "name": "stdout",
     "output_type": "stream",
     "text": [
      "Training until validation scores don't improve for 200 rounds\n",
      "Early stopping, best iteration is:\n",
      "[64]\tvalid_0's rmse: 7.74975\n",
      "Training until validation scores don't improve for 200 rounds\n"
     ]
    },
    {
     "name": "stderr",
     "output_type": "stream",
     "text": [
      "\u001b[32m[I 2021-08-26 02:49:37,988]\u001b[0m Trial 4 finished with value: 7.748613313445645 and parameters: {'learning_rate': 0.05149422032478406, 'subsample': 0.48122656426496324, 'colsample_bytree': 0.29020923361858, 'subsample_freq': 7, 'reg_lambda': 37.60172407252035, 'reg_alpha': 38.77054140834984, 'min_child_weight': 339.15597593231115, 'min_child_samples': 53}. Best is trial 3 with value: 7.7449582360948686.\u001b[0m\n"
     ]
    },
    {
     "name": "stdout",
     "output_type": "stream",
     "text": [
      "Early stopping, best iteration is:\n",
      "[64]\tvalid_0's rmse: 7.74863\n",
      "Training until validation scores don't improve for 200 rounds\n",
      "Early stopping, best iteration is:\n",
      "[163]\tvalid_0's rmse: 7.74697\n",
      "Training until validation scores don't improve for 200 rounds\n",
      "Early stopping, best iteration is:\n",
      "[133]\tvalid_0's rmse: 7.74656\n"
     ]
    },
    {
     "name": "stderr",
     "output_type": "stream",
     "text": [
      "\u001b[32m[I 2021-08-26 02:50:23,889]\u001b[0m Trial 5 finished with value: 7.746398868730903 and parameters: {'learning_rate': 0.0189526707118918, 'subsample': 0.40485848567212923, 'colsample_bytree': 0.7593699512612375, 'subsample_freq': 10, 'reg_lambda': 25.52084727888355, 'reg_alpha': 24.634365408205785, 'min_child_weight': 424.9317904978441, 'min_child_samples': 214}. Best is trial 3 with value: 7.7449582360948686.\u001b[0m\n"
     ]
    },
    {
     "name": "stdout",
     "output_type": "stream",
     "text": [
      "Training until validation scores don't improve for 200 rounds\n",
      "Early stopping, best iteration is:\n",
      "[318]\tvalid_0's rmse: 7.74761\n",
      "Training until validation scores don't improve for 200 rounds\n",
      "Early stopping, best iteration is:\n",
      "[221]\tvalid_0's rmse: 7.74817\n"
     ]
    },
    {
     "name": "stderr",
     "output_type": "stream",
     "text": [
      "\u001b[32m[I 2021-08-26 02:50:56,539]\u001b[0m Trial 6 finished with value: 7.747233708455645 and parameters: {'learning_rate': 0.01953114823302141, 'subsample': 0.23661063357557516, 'colsample_bytree': 0.3534307432936973, 'subsample_freq': 9, 'reg_lambda': 44.64402341207561, 'reg_alpha': 28.538382821541592, 'min_child_weight': 113.04590081135424, 'min_child_samples': 130}. Best is trial 3 with value: 7.7449582360948686.\u001b[0m\n"
     ]
    },
    {
     "name": "stdout",
     "output_type": "stream",
     "text": [
      "Training until validation scores don't improve for 200 rounds\n",
      "Early stopping, best iteration is:\n",
      "[47]\tvalid_0's rmse: 7.74833\n",
      "Training until validation scores don't improve for 200 rounds\n"
     ]
    },
    {
     "name": "stderr",
     "output_type": "stream",
     "text": [
      "\u001b[32m[I 2021-08-26 02:51:22,119]\u001b[0m Trial 7 finished with value: 7.7472584827257895 and parameters: {'learning_rate': 0.0746851952757474, 'subsample': 0.38491928041302137, 'colsample_bytree': 0.5066698596247405, 'subsample_freq': 6, 'reg_lambda': 16.897039479484004, 'reg_alpha': 46.096226639718054, 'min_child_weight': 210.235608375583, 'min_child_samples': 234}. Best is trial 3 with value: 7.7449582360948686.\u001b[0m\n"
     ]
    },
    {
     "name": "stdout",
     "output_type": "stream",
     "text": [
      "Early stopping, best iteration is:\n",
      "[46]\tvalid_0's rmse: 7.74827\n",
      "Training until validation scores don't improve for 200 rounds\n",
      "Early stopping, best iteration is:\n",
      "[80]\tvalid_0's rmse: 7.74653\n",
      "Training until validation scores don't improve for 200 rounds\n"
     ]
    },
    {
     "name": "stderr",
     "output_type": "stream",
     "text": [
      "\u001b[32m[I 2021-08-26 02:52:03,004]\u001b[0m Trial 8 finished with value: 7.7461789837142545 and parameters: {'learning_rate': 0.043485471638299834, 'subsample': 0.385601310360061, 'colsample_bytree': 0.929450082122814, 'subsample_freq': 8, 'reg_lambda': 15.737178446006657, 'reg_alpha': 18.530637218040408, 'min_child_weight': 468.8536975934061, 'min_child_samples': 238}. Best is trial 3 with value: 7.7449582360948686.\u001b[0m\n"
     ]
    },
    {
     "name": "stdout",
     "output_type": "stream",
     "text": [
      "Early stopping, best iteration is:\n",
      "[60]\tvalid_0's rmse: 7.74746\n",
      "Training until validation scores don't improve for 200 rounds\n",
      "Early stopping, best iteration is:\n",
      "[29]\tvalid_0's rmse: 7.74626\n",
      "Training until validation scores don't improve for 200 rounds\n"
     ]
    },
    {
     "name": "stderr",
     "output_type": "stream",
     "text": [
      "\u001b[32m[I 2021-08-26 02:52:35,545]\u001b[0m Trial 9 finished with value: 7.7463560721216345 and parameters: {'learning_rate': 0.09263512218554114, 'subsample': 0.5379506480679052, 'colsample_bytree': 0.7223319151662069, 'subsample_freq': 3, 'reg_lambda': 44.60523082858429, 'reg_alpha': 41.599023691964156, 'min_child_weight': 112.01778775008381, 'min_child_samples': 205}. Best is trial 3 with value: 7.7449582360948686.\u001b[0m\n"
     ]
    },
    {
     "name": "stdout",
     "output_type": "stream",
     "text": [
      "Early stopping, best iteration is:\n",
      "[28]\tvalid_0's rmse: 7.74782\n",
      "Training until validation scores don't improve for 200 rounds\n",
      "[1000]\tvalid_0's rmse: 7.74602\n",
      "Early stopping, best iteration is:\n",
      "[1504]\tvalid_0's rmse: 7.74497\n",
      "Training until validation scores don't improve for 200 rounds\n",
      "[1000]\tvalid_0's rmse: 7.74576\n",
      "Early stopping, best iteration is:\n",
      "[1375]\tvalid_0's rmse: 7.74468\n"
     ]
    },
    {
     "name": "stderr",
     "output_type": "stream",
     "text": [
      "\u001b[32m[I 2021-08-26 02:57:58,593]\u001b[0m Trial 10 finished with value: 7.7447865052763065 and parameters: {'learning_rate': 0.001999555817524281, 'subsample': 0.9282679358393584, 'colsample_bytree': 0.9358451280656459, 'subsample_freq': 4, 'reg_lambda': 1.757761593482142, 'reg_alpha': 1.181391901153587, 'min_child_weight': 302.5379019321311, 'min_child_samples': 12}. Best is trial 10 with value: 7.7447865052763065.\u001b[0m\n"
     ]
    },
    {
     "name": "stdout",
     "output_type": "stream",
     "text": [
      "Training until validation scores don't improve for 200 rounds\n",
      "[1000]\tvalid_0's rmse: 7.7448\n",
      "Early stopping, best iteration is:\n",
      "[1039]\tvalid_0's rmse: 7.74476\n",
      "Training until validation scores don't improve for 200 rounds\n",
      "[1000]\tvalid_0's rmse: 7.74478\n",
      "Early stopping, best iteration is:\n",
      "[1148]\tvalid_0's rmse: 7.74468\n"
     ]
    },
    {
     "name": "stderr",
     "output_type": "stream",
     "text": [
      "\u001b[32m[I 2021-08-26 03:02:19,635]\u001b[0m Trial 11 finished with value: 7.744666156475554 and parameters: {'learning_rate': 0.002897716390790104, 'subsample': 0.942639870297457, 'colsample_bytree': 0.9773560792640518, 'subsample_freq': 4, 'reg_lambda': 0.8202604747195864, 'reg_alpha': 1.127029002820605, 'min_child_weight': 270.17321932211064, 'min_child_samples': 6}. Best is trial 11 with value: 7.744666156475554.\u001b[0m\n"
     ]
    },
    {
     "name": "stdout",
     "output_type": "stream",
     "text": [
      "Training until validation scores don't improve for 200 rounds\n",
      "[1000]\tvalid_0's rmse: 7.74491\n",
      "Early stopping, best iteration is:\n",
      "[975]\tvalid_0's rmse: 7.74485\n",
      "Training until validation scores don't improve for 200 rounds\n",
      "Early stopping, best iteration is:\n",
      "[728]\tvalid_0's rmse: 7.74456\n"
     ]
    },
    {
     "name": "stderr",
     "output_type": "stream",
     "text": [
      "\u001b[32m[I 2021-08-26 03:05:28,699]\u001b[0m Trial 12 finished with value: 7.744574927018862 and parameters: {'learning_rate': 0.0039244415530218305, 'subsample': 0.7367945743071703, 'colsample_bytree': 0.988365716820987, 'subsample_freq': 4, 'reg_lambda': 0.9528543589426133, 'reg_alpha': 1.7515276387867555, 'min_child_weight': 304.24752357207444, 'min_child_samples': 5}. Best is trial 12 with value: 7.744574927018862.\u001b[0m\n"
     ]
    },
    {
     "name": "stdout",
     "output_type": "stream",
     "text": [
      "Training until validation scores don't improve for 200 rounds\n",
      "[1000]\tvalid_0's rmse: 7.74523\n",
      "Early stopping, best iteration is:\n",
      "[1395]\tvalid_0's rmse: 7.74477\n",
      "Training until validation scores don't improve for 200 rounds\n",
      "[1000]\tvalid_0's rmse: 7.74506\n",
      "Early stopping, best iteration is:\n",
      "[1197]\tvalid_0's rmse: 7.74473\n"
     ]
    },
    {
     "name": "stderr",
     "output_type": "stream",
     "text": [
      "\u001b[32m[I 2021-08-26 03:10:04,923]\u001b[0m Trial 13 finished with value: 7.744686297378264 and parameters: {'learning_rate': 0.002221386953485752, 'subsample': 0.7273170699041446, 'colsample_bytree': 0.9933901441938675, 'subsample_freq': 3, 'reg_lambda': 0.2622717650325427, 'reg_alpha': 6.796569828394789, 'min_child_weight': 352.5469079336059, 'min_child_samples': 5}. Best is trial 12 with value: 7.744574927018862.\u001b[0m\n"
     ]
    },
    {
     "name": "stdout",
     "output_type": "stream",
     "text": [
      "Training until validation scores don't improve for 200 rounds\n",
      "[1000]\tvalid_0's rmse: 7.74495\n",
      "Early stopping, best iteration is:\n",
      "[1132]\tvalid_0's rmse: 7.74483\n",
      "Training until validation scores don't improve for 200 rounds\n",
      "[1000]\tvalid_0's rmse: 7.74481\n",
      "Early stopping, best iteration is:\n",
      "[1107]\tvalid_0's rmse: 7.74469\n"
     ]
    },
    {
     "name": "stderr",
     "output_type": "stream",
     "text": [
      "\u001b[32m[I 2021-08-26 03:13:44,289]\u001b[0m Trial 14 finished with value: 7.744730523900466 and parameters: {'learning_rate': 0.002650947561726599, 'subsample': 0.7517300695632648, 'colsample_bytree': 0.8745204511986524, 'subsample_freq': 3, 'reg_lambda': 7.385652482721499, 'reg_alpha': 0.11311683295662789, 'min_child_weight': 269.6983445453077, 'min_child_samples': 39}. Best is trial 12 with value: 7.744574927018862.\u001b[0m\n"
     ]
    },
    {
     "name": "stdout",
     "output_type": "stream",
     "text": [
      "Training until validation scores don't improve for 200 rounds\n",
      "Early stopping, best iteration is:\n",
      "[426]\tvalid_0's rmse: 7.74544\n",
      "Training until validation scores don't improve for 200 rounds\n",
      "Early stopping, best iteration is:\n",
      "[440]\tvalid_0's rmse: 7.74518\n"
     ]
    },
    {
     "name": "stderr",
     "output_type": "stream",
     "text": [
      "\u001b[32m[I 2021-08-26 03:15:06,549]\u001b[0m Trial 15 finished with value: 7.745241774336786 and parameters: {'learning_rate': 0.00760013853069366, 'subsample': 0.7446344788980258, 'colsample_bytree': 0.6470945230396186, 'subsample_freq': 5, 'reg_lambda': 5.331048651450514, 'reg_alpha': 6.089887116478375, 'min_child_weight': 379.1356027986652, 'min_child_samples': 36}. Best is trial 12 with value: 7.744574927018862.\u001b[0m\n"
     ]
    },
    {
     "name": "stdout",
     "output_type": "stream",
     "text": [
      "Training until validation scores don't improve for 200 rounds\n",
      "Early stopping, best iteration is:\n",
      "[73]\tvalid_0's rmse: 7.74516\n",
      "Training until validation scores don't improve for 200 rounds\n"
     ]
    },
    {
     "name": "stderr",
     "output_type": "stream",
     "text": [
      "\u001b[32m[I 2021-08-26 03:15:51,524]\u001b[0m Trial 16 finished with value: 7.745370814100323 and parameters: {'learning_rate': 0.03576710850027334, 'subsample': 0.6473409452769905, 'colsample_bytree': 0.9825918708157594, 'subsample_freq': 2, 'reg_lambda': 9.62392073316363, 'reg_alpha': 18.477140577537643, 'min_child_weight': 255.49891963219162, 'min_child_samples': 5}. Best is trial 12 with value: 7.744574927018862.\u001b[0m\n"
     ]
    },
    {
     "name": "stdout",
     "output_type": "stream",
     "text": [
      "Early stopping, best iteration is:\n",
      "[75]\tvalid_0's rmse: 7.74609\n",
      "Training until validation scores don't improve for 200 rounds\n",
      "Early stopping, best iteration is:\n",
      "[38]\tvalid_0's rmse: 7.74543\n",
      "Training until validation scores don't improve for 200 rounds\n"
     ]
    },
    {
     "name": "stderr",
     "output_type": "stream",
     "text": [
      "\u001b[32m[I 2021-08-26 03:16:33,528]\u001b[0m Trial 17 finished with value: 7.745165721871079 and parameters: {'learning_rate': 0.06217630826549764, 'subsample': 0.9839546514903628, 'colsample_bytree': 0.8610141006406622, 'subsample_freq': 4, 'reg_lambda': 0.05840786573056855, 'reg_alpha': 13.899910690346424, 'min_child_weight': 297.1757832913903, 'min_child_samples': 66}. Best is trial 12 with value: 7.744574927018862.\u001b[0m\n"
     ]
    },
    {
     "name": "stdout",
     "output_type": "stream",
     "text": [
      "Early stopping, best iteration is:\n",
      "[46]\tvalid_0's rmse: 7.74535\n",
      "Training until validation scores don't improve for 200 rounds\n",
      "Early stopping, best iteration is:\n",
      "[398]\tvalid_0's rmse: 7.74537\n",
      "Training until validation scores don't improve for 200 rounds\n",
      "Early stopping, best iteration is:\n",
      "[282]\tvalid_0's rmse: 7.74533\n"
     ]
    },
    {
     "name": "stderr",
     "output_type": "stream",
     "text": [
      "\u001b[32m[I 2021-08-26 03:18:19,899]\u001b[0m Trial 18 finished with value: 7.745135893364977 and parameters: {'learning_rate': 0.009996338562129364, 'subsample': 0.8256850157790392, 'colsample_bytree': 0.9954142453087511, 'subsample_freq': 6, 'reg_lambda': 10.064188156314604, 'reg_alpha': 33.30242109348167, 'min_child_weight': 392.1659911427719, 'min_child_samples': 94}. Best is trial 12 with value: 7.744574927018862.\u001b[0m\n"
     ]
    },
    {
     "name": "stdout",
     "output_type": "stream",
     "text": [
      "Training until validation scores don't improve for 200 rounds\n",
      "Early stopping, best iteration is:\n",
      "[91]\tvalid_0's rmse: 7.74591\n",
      "Training until validation scores don't improve for 200 rounds\n"
     ]
    },
    {
     "name": "stderr",
     "output_type": "stream",
     "text": [
      "\u001b[32m[I 2021-08-26 03:19:04,609]\u001b[0m Trial 19 finished with value: 7.7450334191409445 and parameters: {'learning_rate': 0.035133257320321784, 'subsample': 0.6361996088825981, 'colsample_bytree': 0.8693254468590136, 'subsample_freq': 4, 'reg_lambda': 4.028363209064039, 'reg_alpha': 5.255866284060735, 'min_child_weight': 236.87865337605916, 'min_child_samples': 28}. Best is trial 12 with value: 7.744574927018862.\u001b[0m\n"
     ]
    },
    {
     "name": "stdout",
     "output_type": "stream",
     "text": [
      "Early stopping, best iteration is:\n",
      "[90]\tvalid_0's rmse: 7.74485\n",
      "Training until validation scores don't improve for 200 rounds\n",
      "Early stopping, best iteration is:\n",
      "[32]\tvalid_0's rmse: 7.74823\n",
      "Training until validation scores don't improve for 200 rounds\n"
     ]
    },
    {
     "name": "stderr",
     "output_type": "stream",
     "text": [
      "\u001b[32m[I 2021-08-26 03:19:35,612]\u001b[0m Trial 20 finished with value: 7.746820298413484 and parameters: {'learning_rate': 0.08932179955621977, 'subsample': 0.8174026367291622, 'colsample_bytree': 0.6400103428102507, 'subsample_freq': 5, 'reg_lambda': 12.662877393236467, 'reg_alpha': 0.03098908885890994, 'min_child_weight': 162.17840087265176, 'min_child_samples': 128}. Best is trial 12 with value: 7.744574927018862.\u001b[0m\n"
     ]
    },
    {
     "name": "stdout",
     "output_type": "stream",
     "text": [
      "Early stopping, best iteration is:\n",
      "[36]\tvalid_0's rmse: 7.74654\n",
      "Training until validation scores don't improve for 200 rounds\n",
      "Early stopping, best iteration is:\n",
      "[264]\tvalid_0's rmse: 7.74435\n",
      "Training until validation scores don't improve for 200 rounds\n",
      "Early stopping, best iteration is:\n",
      "[273]\tvalid_0's rmse: 7.74427\n"
     ]
    },
    {
     "name": "stderr",
     "output_type": "stream",
     "text": [
      "\u001b[32m[I 2021-08-26 03:21:00,459]\u001b[0m Trial 21 finished with value: 7.744188593192304 and parameters: {'learning_rate': 0.010366474352623736, 'subsample': 0.6916816311493477, 'colsample_bytree': 0.9744058120317534, 'subsample_freq': 3, 'reg_lambda': 0.7706005781123387, 'reg_alpha': 5.8983343945165005, 'min_child_weight': 348.82810828234136, 'min_child_samples': 7}. Best is trial 21 with value: 7.744188593192304.\u001b[0m\n"
     ]
    },
    {
     "name": "stdout",
     "output_type": "stream",
     "text": [
      "Training until validation scores don't improve for 200 rounds\n",
      "Early stopping, best iteration is:\n",
      "[356]\tvalid_0's rmse: 7.7449\n",
      "Training until validation scores don't improve for 200 rounds\n",
      "Early stopping, best iteration is:\n",
      "[420]\tvalid_0's rmse: 7.74453\n"
     ]
    },
    {
     "name": "stderr",
     "output_type": "stream",
     "text": [
      "\u001b[32m[I 2021-08-26 03:22:55,475]\u001b[0m Trial 22 finished with value: 7.744637055252458 and parameters: {'learning_rate': 0.00808230196124092, 'subsample': 0.9886135901451661, 'colsample_bytree': 0.9093711635592915, 'subsample_freq': 2, 'reg_lambda': 0.9640244956464938, 'reg_alpha': 9.99446429298681, 'min_child_weight': 317.71105502880977, 'min_child_samples': 6}. Best is trial 21 with value: 7.744188593192304.\u001b[0m\n"
     ]
    },
    {
     "name": "stdout",
     "output_type": "stream",
     "text": [
      "Training until validation scores don't improve for 200 rounds\n",
      "Early stopping, best iteration is:\n",
      "[236]\tvalid_0's rmse: 7.74521\n",
      "Training until validation scores don't improve for 200 rounds\n",
      "Early stopping, best iteration is:\n",
      "[235]\tvalid_0's rmse: 7.74489\n"
     ]
    },
    {
     "name": "stderr",
     "output_type": "stream",
     "text": [
      "\u001b[32m[I 2021-08-26 03:24:01,363]\u001b[0m Trial 23 finished with value: 7.744935833851167 and parameters: {'learning_rate': 0.012348102556745448, 'subsample': 0.5887688757240147, 'colsample_bytree': 0.8372294579579936, 'subsample_freq': 2, 'reg_lambda': 5.193639345066313, 'reg_alpha': 11.203390008505236, 'min_child_weight': 315.3495987549226, 'min_child_samples': 24}. Best is trial 21 with value: 7.744188593192304.\u001b[0m\n"
     ]
    },
    {
     "name": "stdout",
     "output_type": "stream",
     "text": [
      "Training until validation scores don't improve for 200 rounds\n",
      "Early stopping, best iteration is:\n",
      "[100]\tvalid_0's rmse: 7.74491\n",
      "Training until validation scores don't improve for 200 rounds\n"
     ]
    },
    {
     "name": "stderr",
     "output_type": "stream",
     "text": [
      "\u001b[32m[I 2021-08-26 03:24:53,270]\u001b[0m Trial 24 finished with value: 7.744858243884721 and parameters: {'learning_rate': 0.030954757124785383, 'subsample': 0.6968187709599514, 'colsample_bytree': 0.9519450570672497, 'subsample_freq': 2, 'reg_lambda': 0.09345526599774556, 'reg_alpha': 19.684507733905217, 'min_child_weight': 360.1700308531158, 'min_child_samples': 67}. Best is trial 21 with value: 7.744188593192304.\u001b[0m\n"
     ]
    },
    {
     "name": "stdout",
     "output_type": "stream",
     "text": [
      "Early stopping, best iteration is:\n",
      "[85]\tvalid_0's rmse: 7.74528\n",
      "Training until validation scores don't improve for 200 rounds\n",
      "Early stopping, best iteration is:\n",
      "[230]\tvalid_0's rmse: 7.74479\n",
      "Training until validation scores don't improve for 200 rounds\n",
      "Early stopping, best iteration is:\n",
      "[243]\tvalid_0's rmse: 7.74459\n"
     ]
    },
    {
     "name": "stderr",
     "output_type": "stream",
     "text": [
      "\u001b[32m[I 2021-08-26 03:26:13,442]\u001b[0m Trial 25 finished with value: 7.744623873854294 and parameters: {'learning_rate': 0.012240129278788826, 'subsample': 0.81830470623826, 'colsample_bytree': 0.9130482107215981, 'subsample_freq': 1, 'reg_lambda': 10.107368961803036, 'reg_alpha': 8.211297191939375, 'min_child_weight': 407.3305929332524, 'min_child_samples': 48}. Best is trial 21 with value: 7.744188593192304.\u001b[0m\n"
     ]
    },
    {
     "name": "stdout",
     "output_type": "stream",
     "text": [
      "Training until validation scores don't improve for 200 rounds\n",
      "Early stopping, best iteration is:\n",
      "[234]\tvalid_0's rmse: 7.74486\n",
      "Training until validation scores don't improve for 200 rounds\n",
      "Early stopping, best iteration is:\n",
      "[238]\tvalid_0's rmse: 7.74458\n"
     ]
    },
    {
     "name": "stderr",
     "output_type": "stream",
     "text": [
      "\u001b[32m[I 2021-08-26 03:27:22,443]\u001b[0m Trial 26 finished with value: 7.744637661816813 and parameters: {'learning_rate': 0.013845594131991476, 'subsample': 0.7805835788949135, 'colsample_bytree': 0.8087702821338751, 'subsample_freq': 1, 'reg_lambda': 10.786286581786525, 'reg_alpha': 4.949405302333026, 'min_child_weight': 411.8435029540489, 'min_child_samples': 50}. Best is trial 21 with value: 7.744188593192304.\u001b[0m\n"
     ]
    },
    {
     "name": "stdout",
     "output_type": "stream",
     "text": [
      "Training until validation scores don't improve for 200 rounds\n",
      "Early stopping, best iteration is:\n",
      "[121]\tvalid_0's rmse: 7.74563\n",
      "Training until validation scores don't improve for 200 rounds\n",
      "Early stopping, best iteration is:\n",
      "[121]\tvalid_0's rmse: 7.74542\n"
     ]
    },
    {
     "name": "stderr",
     "output_type": "stream",
     "text": [
      "\u001b[32m[I 2021-08-26 03:28:13,720]\u001b[0m Trial 27 finished with value: 7.745344842104616 and parameters: {'learning_rate': 0.02839563963104679, 'subsample': 0.8364525340879548, 'colsample_bytree': 0.6979763184205586, 'subsample_freq': 3, 'reg_lambda': 6.4257301992435245, 'reg_alpha': 14.79131844544043, 'min_child_weight': 427.2844922405284, 'min_child_samples': 23}. Best is trial 21 with value: 7.744188593192304.\u001b[0m\n"
     ]
    },
    {
     "name": "stdout",
     "output_type": "stream",
     "text": [
      "Training until validation scores don't improve for 200 rounds\n",
      "Early stopping, best iteration is:\n",
      "[194]\tvalid_0's rmse: 7.74499\n",
      "Training until validation scores don't improve for 200 rounds\n",
      "Early stopping, best iteration is:\n",
      "[212]\tvalid_0's rmse: 7.74495\n"
     ]
    },
    {
     "name": "stderr",
     "output_type": "stream",
     "text": [
      "\u001b[32m[I 2021-08-26 03:29:22,789]\u001b[0m Trial 28 finished with value: 7.744875059307531 and parameters: {'learning_rate': 0.01387252397740572, 'subsample': 0.675661622929066, 'colsample_bytree': 0.9100887870664723, 'subsample_freq': 1, 'reg_lambda': 13.59596008963059, 'reg_alpha': 7.781177873195088, 'min_child_weight': 388.85854378357516, 'min_child_samples': 102}. Best is trial 21 with value: 7.744188593192304.\u001b[0m\n"
     ]
    },
    {
     "name": "stdout",
     "output_type": "stream",
     "text": [
      "Training until validation scores don't improve for 200 rounds\n",
      "Early stopping, best iteration is:\n",
      "[165]\tvalid_0's rmse: 7.74578\n",
      "Training until validation scores don't improve for 200 rounds\n",
      "Early stopping, best iteration is:\n",
      "[180]\tvalid_0's rmse: 7.74584\n"
     ]
    },
    {
     "name": "stderr",
     "output_type": "stream",
     "text": [
      "\u001b[32m[I 2021-08-26 03:30:18,603]\u001b[0m Trial 29 finished with value: 7.74560852036608 and parameters: {'learning_rate': 0.017316613759359244, 'subsample': 0.5698172729896118, 'colsample_bytree': 0.8158179323029024, 'subsample_freq': 5, 'reg_lambda': 20.049687838022543, 'reg_alpha': 21.63540168936585, 'min_child_weight': 493.5244730280424, 'min_child_samples': 55}. Best is trial 21 with value: 7.744188593192304.\u001b[0m\n"
     ]
    },
    {
     "name": "stdout",
     "output_type": "stream",
     "text": [
      "Number of finished trials: 30\n",
      "Best trial: {'learning_rate': 0.010366474352623736, 'subsample': 0.6916816311493477, 'colsample_bytree': 0.9744058120317534, 'subsample_freq': 3, 'reg_lambda': 0.7706005781123387, 'reg_alpha': 5.8983343945165005, 'min_child_weight': 348.82810828234136, 'min_child_samples': 7}\n"
     ]
    }
   ],
   "source": [
    "study = optuna.create_study(direction='minimize')\n",
    "study.optimize(objective,n_trials= 30)\n",
    "print('Number of finished trials:', len(study.trials))\n",
    "print('Best trial:', study.best_trial.params)"
   ]
  },
  {
   "cell_type": "code",
   "execution_count": 13,
   "id": "081e80d0",
   "metadata": {
    "execution": {
     "iopub.execute_input": "2021-08-26T03:30:18.761673Z",
     "iopub.status.busy": "2021-08-26T03:30:18.760893Z",
     "iopub.status.idle": "2021-08-26T03:30:18.764430Z",
     "shell.execute_reply": "2021-08-26T03:30:18.765000Z"
    },
    "papermill": {
     "duration": 0.077227,
     "end_time": "2021-08-26T03:30:18.765195",
     "exception": false,
     "start_time": "2021-08-26T03:30:18.687968",
     "status": "completed"
    },
    "tags": []
   },
   "outputs": [
    {
     "data": {
      "text/plain": [
       "{'learning_rate': 0.010366474352623736,\n",
       " 'subsample': 0.6916816311493477,\n",
       " 'colsample_bytree': 0.9744058120317534,\n",
       " 'subsample_freq': 3,\n",
       " 'reg_lambda': 0.7706005781123387,\n",
       " 'reg_alpha': 5.8983343945165005,\n",
       " 'min_child_weight': 348.82810828234136,\n",
       " 'min_child_samples': 7}"
      ]
     },
     "execution_count": 13,
     "metadata": {},
     "output_type": "execute_result"
    }
   ],
   "source": [
    "study.best_params"
   ]
  },
  {
   "cell_type": "markdown",
   "id": "79cc10c1",
   "metadata": {
    "papermill": {
     "duration": 0.065768,
     "end_time": "2021-08-26T03:30:18.895832",
     "exception": false,
     "start_time": "2021-08-26T03:30:18.830064",
     "status": "completed"
    },
    "tags": []
   },
   "source": [
    "# Log\n"
   ]
  }
 ],
 "metadata": {
  "kernelspec": {
   "display_name": "Python 3",
   "language": "python",
   "name": "python3"
  },
  "language_info": {
   "codemirror_mode": {
    "name": "ipython",
    "version": 3
   },
   "file_extension": ".py",
   "mimetype": "text/x-python",
   "name": "python",
   "nbconvert_exporter": "python",
   "pygments_lexer": "ipython3",
   "version": "3.7.10"
  },
  "papermill": {
   "default_parameters": {},
   "duration": 2689.844649,
   "end_time": "2021-08-26T03:30:20.875972",
   "environment_variables": {},
   "exception": null,
   "input_path": "__notebook__.ipynb",
   "output_path": "__notebook__.ipynb",
   "parameters": {},
   "start_time": "2021-08-26T02:45:31.031323",
   "version": "2.3.3"
  }
 },
 "nbformat": 4,
 "nbformat_minor": 5
}
