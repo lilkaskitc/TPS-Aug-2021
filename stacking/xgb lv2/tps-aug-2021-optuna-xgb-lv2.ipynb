{
 "cells": [
  {
   "cell_type": "code",
   "execution_count": 1,
   "id": "02b38916",
   "metadata": {
    "_cell_guid": "b1076dfc-b9ad-4769-8c92-a6c4dae69d19",
    "_uuid": "8f2839f25d086af736a60e9eeb907d3b93b6e0e5",
    "execution": {
     "iopub.execute_input": "2021-08-30T08:27:06.164924Z",
     "iopub.status.busy": "2021-08-30T08:27:06.163608Z",
     "iopub.status.idle": "2021-08-30T08:27:07.652922Z",
     "shell.execute_reply": "2021-08-30T08:27:07.653420Z",
     "shell.execute_reply.started": "2021-08-29T03:02:09.426202Z"
    },
    "papermill": {
     "duration": 1.508418,
     "end_time": "2021-08-30T08:27:07.653722",
     "exception": false,
     "start_time": "2021-08-30T08:27:06.145304",
     "status": "completed"
    },
    "tags": []
   },
   "outputs": [],
   "source": [
    "# Familiar imports\n",
    "import numpy as np\n",
    "import pandas as pd\n",
    "import random\n",
    "import os\n",
    "import time\n",
    "from pathlib import Path\n",
    "\n",
    "from sklearn.preprocessing import StandardScaler\n",
    "from sklearn.model_selection import KFold, train_test_split\n",
    "from sklearn.metrics import mean_squared_error\n",
    "\n",
    "#import lightgbm as lgb\n",
    "import xgboost as xgb\n",
    "#import catboost as ctb\n",
    "\n",
    "import warnings\n",
    "warnings.simplefilter('ignore')"
   ]
  },
  {
   "cell_type": "markdown",
   "id": "8d097b84",
   "metadata": {
    "papermill": {
     "duration": 0.014495,
     "end_time": "2021-08-30T08:27:07.682255",
     "exception": false,
     "start_time": "2021-08-30T08:27:07.667760",
     "status": "completed"
    },
    "tags": []
   },
   "source": [
    "# Parameters"
   ]
  },
  {
   "cell_type": "code",
   "execution_count": 2,
   "id": "cec0e43f",
   "metadata": {
    "execution": {
     "iopub.execute_input": "2021-08-30T08:27:07.714636Z",
     "iopub.status.busy": "2021-08-30T08:27:07.713957Z",
     "iopub.status.idle": "2021-08-30T08:27:07.720193Z",
     "shell.execute_reply": "2021-08-30T08:27:07.720696Z",
     "shell.execute_reply.started": "2021-08-29T03:02:10.549711Z"
    },
    "papermill": {
     "duration": 0.023617,
     "end_time": "2021-08-30T08:27:07.720904",
     "exception": false,
     "start_time": "2021-08-30T08:27:07.697287",
     "status": "completed"
    },
    "tags": []
   },
   "outputs": [],
   "source": [
    "target = 'loss'\n",
    "\n",
    "DEBUG = False\n",
    "\n",
    "if DEBUG:\n",
    "    N_ESTIMATORS = 1\n",
    "    N_SPLITS = 2\n",
    "    SEED = 17\n",
    "    CVSEED = 17\n",
    "    EARLY_STOPPING_ROUNDS = 1\n",
    "    VERBOSE = 100\n",
    "    #N_ITERS = 2\n",
    "else:\n",
    "    N_SPLITS = 10\n",
    "    N_ESTIMATORS = 10000\n",
    "    EARLY_STOPPING_ROUNDS = 300\n",
    "    VERBOSE = 1000\n",
    "    SEED = 17\n",
    "    CVSEED = 17\n",
    "    #N_ITERS = 10"
   ]
  },
  {
   "cell_type": "code",
   "execution_count": 3,
   "id": "46a9a228",
   "metadata": {
    "execution": {
     "iopub.execute_input": "2021-08-30T08:27:07.753279Z",
     "iopub.status.busy": "2021-08-30T08:27:07.752610Z",
     "iopub.status.idle": "2021-08-30T08:27:07.758003Z",
     "shell.execute_reply": "2021-08-30T08:27:07.758517Z",
     "shell.execute_reply.started": "2021-08-29T03:02:10.560248Z"
    },
    "papermill": {
     "duration": 0.022908,
     "end_time": "2021-08-30T08:27:07.758715",
     "exception": false,
     "start_time": "2021-08-30T08:27:07.735807",
     "status": "completed"
    },
    "tags": []
   },
   "outputs": [],
   "source": [
    "def set_seed(seed=17):\n",
    "    random.seed(seed)\n",
    "    os.environ['PYTHONHASHSEED'] = str(seed)\n",
    "    np.random.seed(seed)\n",
    "    \n",
    "set_seed(SEED)"
   ]
  },
  {
   "cell_type": "markdown",
   "id": "b305a7e8",
   "metadata": {
    "papermill": {
     "duration": 0.014175,
     "end_time": "2021-08-30T08:27:07.787723",
     "exception": false,
     "start_time": "2021-08-30T08:27:07.773548",
     "status": "completed"
    },
    "tags": []
   },
   "source": [
    "# Load data"
   ]
  },
  {
   "cell_type": "code",
   "execution_count": 4,
   "id": "2c21a735",
   "metadata": {
    "execution": {
     "iopub.execute_input": "2021-08-30T08:27:07.819622Z",
     "iopub.status.busy": "2021-08-30T08:27:07.818850Z",
     "iopub.status.idle": "2021-08-30T08:27:19.833728Z",
     "shell.execute_reply": "2021-08-30T08:27:19.833113Z",
     "shell.execute_reply.started": "2021-08-29T03:02:10.570606Z"
    },
    "papermill": {
     "duration": 12.032029,
     "end_time": "2021-08-30T08:27:19.833878",
     "exception": false,
     "start_time": "2021-08-30T08:27:07.801849",
     "status": "completed"
    },
    "tags": []
   },
   "outputs": [],
   "source": [
    "INPUT = Path(\"../input/tabular-playground-series-aug-2021\")\n",
    "\n",
    "train = pd.read_csv(INPUT / \"train.csv\")\n",
    "test = pd.read_csv(INPUT / \"test.csv\")\n",
    "submission = pd.read_csv(INPUT / \"sample_submission.csv\")"
   ]
  },
  {
   "cell_type": "markdown",
   "id": "b161fa40",
   "metadata": {
    "papermill": {
     "duration": 0.013903,
     "end_time": "2021-08-30T08:27:19.861214",
     "exception": false,
     "start_time": "2021-08-30T08:27:19.847311",
     "status": "completed"
    },
    "tags": []
   },
   "source": [
    "# Preprocessing"
   ]
  },
  {
   "cell_type": "code",
   "execution_count": 5,
   "id": "385d7cb5",
   "metadata": {
    "execution": {
     "iopub.execute_input": "2021-08-30T08:27:19.902747Z",
     "iopub.status.busy": "2021-08-30T08:27:19.902043Z",
     "iopub.status.idle": "2021-08-30T08:27:32.265382Z",
     "shell.execute_reply": "2021-08-30T08:27:32.264599Z",
     "shell.execute_reply.started": "2021-08-29T03:02:21.378574Z"
    },
    "papermill": {
     "duration": 12.390513,
     "end_time": "2021-08-30T08:27:32.265547",
     "exception": false,
     "start_time": "2021-08-30T08:27:19.875034",
     "status": "completed"
    },
    "tags": []
   },
   "outputs": [],
   "source": [
    "scale_features = [col for col in test.columns if 'f' in col]\n",
    "\n",
    "ss = StandardScaler()\n",
    "train[scale_features] = ss.fit_transform(train[scale_features])\n",
    "test[scale_features] = ss.transform(test[scale_features])"
   ]
  },
  {
   "cell_type": "code",
   "execution_count": 6,
   "id": "d32fe0df",
   "metadata": {
    "execution": {
     "iopub.execute_input": "2021-08-30T08:27:32.302104Z",
     "iopub.status.busy": "2021-08-30T08:27:32.301325Z",
     "iopub.status.idle": "2021-08-30T08:27:32.305317Z",
     "shell.execute_reply": "2021-08-30T08:27:32.304735Z",
     "shell.execute_reply.started": "2021-08-29T03:02:33.39681Z"
    },
    "papermill": {
     "duration": 0.026867,
     "end_time": "2021-08-30T08:27:32.305469",
     "exception": false,
     "start_time": "2021-08-30T08:27:32.278602",
     "status": "completed"
    },
    "tags": []
   },
   "outputs": [],
   "source": [
    "# Swap noise\n",
    "\n",
    "# Random\n",
    "def apply_noise_rn(df, p=.75):\n",
    "    should_not_swap = np.random.binomial(1, p, df.shape)\n",
    "    corrupted_df = df.where(should_not_swap == 1, np.random.permutation(df))\n",
    "    return corrupted_df\n",
    "\n",
    "# Row-wise\n",
    "def apply_noise_row(df, p=.75):\n",
    "    should_not_swap = np.zeros(df.shape)\n",
    "    for i in range(df.shape[0]):\n",
    "        for j in np.random.choice(df.shape[1],int(p*df.shape[1]),replace=False):\n",
    "            should_not_swap[i,j]=1 \n",
    "    corrupted_df = df.where(should_not_swap == 1, np.random.permutation(df))\n",
    "    return corrupted_df"
   ]
  },
  {
   "cell_type": "markdown",
   "id": "092c69fa",
   "metadata": {
    "papermill": {
     "duration": 0.014406,
     "end_time": "2021-08-30T08:27:32.334720",
     "exception": false,
     "start_time": "2021-08-30T08:27:32.320314",
     "status": "completed"
    },
    "tags": []
   },
   "source": [
    "# Pseudo Label"
   ]
  },
  {
   "cell_type": "code",
   "execution_count": 7,
   "id": "2de23d48",
   "metadata": {
    "execution": {
     "iopub.execute_input": "2021-08-30T08:27:32.369570Z",
     "iopub.status.busy": "2021-08-30T08:27:32.368799Z",
     "iopub.status.idle": "2021-08-30T08:27:33.113625Z",
     "shell.execute_reply": "2021-08-30T08:27:33.112604Z",
     "shell.execute_reply.started": "2021-08-29T03:02:33.405904Z"
    },
    "papermill": {
     "duration": 0.764212,
     "end_time": "2021-08-30T08:27:33.113787",
     "exception": false,
     "start_time": "2021-08-30T08:27:32.349575",
     "status": "completed"
    },
    "tags": []
   },
   "outputs": [],
   "source": [
    "pseudo = pd.read_csv(\"../input/blending-tool-tps-aug-2021/file1_7.84996_file2_7.85000_blend.csv\")[target]\n",
    "test_pseudo = pd.concat([test, pseudo], axis=1)\n",
    "all_pseudo = pd.concat([train, test_pseudo]).reset_index(drop=True)"
   ]
  },
  {
   "cell_type": "markdown",
   "id": "3fb075ba",
   "metadata": {
    "papermill": {
     "duration": 0.013493,
     "end_time": "2021-08-30T08:27:33.141011",
     "exception": false,
     "start_time": "2021-08-30T08:27:33.127518",
     "status": "completed"
    },
    "tags": []
   },
   "source": [
    "# Optuna"
   ]
  },
  {
   "cell_type": "code",
   "execution_count": 8,
   "id": "fa852508",
   "metadata": {
    "execution": {
     "iopub.execute_input": "2021-08-30T08:27:33.192122Z",
     "iopub.status.busy": "2021-08-30T08:27:33.176549Z",
     "iopub.status.idle": "2021-08-30T08:27:44.072448Z",
     "shell.execute_reply": "2021-08-30T08:27:44.071749Z",
     "shell.execute_reply.started": "2021-08-29T03:02:34.129753Z"
    },
    "papermill": {
     "duration": 10.91599,
     "end_time": "2021-08-30T08:27:44.072614",
     "exception": false,
     "start_time": "2021-08-30T08:27:33.156624",
     "status": "completed"
    },
    "tags": []
   },
   "outputs": [
    {
     "name": "stdout",
     "output_type": "stream",
     "text": [
      "\u001b[33mWARNING: Running pip as root will break packages and permissions. You should install packages reliably by using venv: https://pip.pypa.io/warnings/venv\u001b[0m\r\n"
     ]
    }
   ],
   "source": [
    "# Optuna for parameter search\n",
    "!pip install -q optuna\n",
    "\n",
    "import optuna\n",
    "import pickle"
   ]
  },
  {
   "cell_type": "code",
   "execution_count": 9,
   "id": "7709c81a",
   "metadata": {
    "execution": {
     "iopub.execute_input": "2021-08-30T08:27:44.118554Z",
     "iopub.status.busy": "2021-08-30T08:27:44.110586Z",
     "iopub.status.idle": "2021-08-30T08:27:44.453354Z",
     "shell.execute_reply": "2021-08-30T08:27:44.452609Z",
     "shell.execute_reply.started": "2021-08-29T03:02:43.574853Z"
    },
    "papermill": {
     "duration": 0.366186,
     "end_time": "2021-08-30T08:27:44.453525",
     "exception": false,
     "start_time": "2021-08-30T08:27:44.087339",
     "status": "completed"
    },
    "tags": []
   },
   "outputs": [],
   "source": [
    "# for the fixed learning rate, use the opt n iterations and tune the tree hyperparameters\n",
    "def objective(trial, X=all_pseudo[scale_features], y=all_pseudo[target]):\n",
    "  \"\"\"\n",
    "  \"\"\"\n",
    "  param_space = {\n",
    "                  'objective': 'reg:squarederror',              \n",
    "                  'n_estimators':N_ESTIMATORS,  \n",
    "                  'importance_type': 'total_gain',      \n",
    "                  'tree_method': 'hist',   \n",
    "                  'booster': 'gbtree',\n",
    "                  'n_jobs':-1,\n",
    "     \n",
    "                  'learning_rate':trial.suggest_uniform('learning_rate', 3.5e-3, 8.5e-3), \n",
    "                  'subsample': trial.suggest_uniform('subsample', 0.667, 0.867),        \n",
    "                  'colsample_bytree':trial.suggest_uniform('colsample_bytree', 0.499, 0.699),       \n",
    "                  'max_depth':trial.suggest_int('max_depth', 14, 22),           \n",
    "                  'lambda':trial.suggest_uniform('lambda', 0.97, 10.97),           \n",
    "                  'alpha':trial.suggest_uniform('alpha', 24.5, 34.5),         \n",
    "                  'min_child_weight':trial.suggest_uniform('min_child_weight', 323, 523)  \n",
    "                }\n",
    "            \n",
    "\n",
    "  seed_list=[SEED, SEED+1]\n",
    "  #kf = KFold(n_splits=N_SPLITS, shuffle=True, random_state=CVSEED)\n",
    "  xgb_oof = np.zeros(train.shape[0])\n",
    "  #lgb_pred = np.zeros(test.shape[0])\n",
    "  X_tr, X_va, y_tr, y_va = train_test_split(X,y,test_size=.2,random_state=CVSEED)\n",
    "  trn_idx = X_tr.index\n",
    "  val_idx = X_va.index\n",
    "  \n",
    "  \n",
    "  #for (trn_idx, val_idx) in enumerate(kf.split(X, y)):\n",
    "  #print(f\"===== fold {fold} =====\")\n",
    "  oof_idx = np.array([idx for idx in val_idx if idx < train.shape[0]])\n",
    "  preds_idx = np.array([idx for idx in val_idx if idx >= train.shape[0]])\n",
    "\n",
    "  X_train, y_train = all_pseudo[scale_features].iloc[trn_idx], all_pseudo[target].iloc[trn_idx]\n",
    "  #X_train = apply_noise_rn(X_train)\n",
    "\n",
    "  X_valid, y_valid = all_pseudo[scale_features].iloc[oof_idx], all_pseudo[target].iloc[oof_idx]\n",
    "  #X_test = all_pseudo[scale_features].iloc[preds_idx]\n",
    "\n",
    "  #start = time.time()\n",
    "  for inseed in seed_list:\n",
    "    param_space['seed'] = inseed\n",
    "\n",
    "    model = xgb.XGBRegressor(**param_space)\n",
    "    model.fit(\n",
    "        X_train, \n",
    "        y_train,\n",
    "        eval_set=[(X_valid, y_valid)],\n",
    "        eval_metric='rmse',\n",
    "        early_stopping_rounds=EARLY_STOPPING_ROUNDS,\n",
    "        verbose=VERBOSE,\n",
    "    )\n",
    "\n",
    "\n",
    "    xgb_oof[oof_idx] += model.predict(X_valid) / len(seed_list)\n",
    "    #lgb_pred[preds_idx-train.shape[0]] += model.predict(X_test) / len(seed_list)\n",
    "\n",
    "  #elapsed = time.time() - start\n",
    "  rmse = mean_squared_error(y_valid, xgb_oof[oof_idx], squared=False)\n",
    "  #print(f\"fold {fold} - lgb rmse: {rmse:.6f}, elapsed time: {elapsed:.2f}sec\\n\")            \n",
    "  \n",
    "  #print(f\"oof lgb_rmse = {mean_squared_error(train[target], lgb_oof, squared=False)}\")\n",
    "\n",
    "  \n",
    "  return rmse"
   ]
  },
  {
   "cell_type": "code",
   "execution_count": 10,
   "id": "12f9f706",
   "metadata": {
    "execution": {
     "iopub.execute_input": "2021-08-30T08:27:44.487987Z",
     "iopub.status.busy": "2021-08-30T08:27:44.487291Z",
     "iopub.status.idle": "2021-08-29T03:03:10.402551Z",
     "shell.execute_reply": "2021-08-29T03:03:10.399922Z",
     "shell.execute_reply.started": "2021-08-29T03:02:43.910816Z"
    },
    "papermill": {
     "duration": null,
     "end_time": null,
     "exception": false,
     "start_time": "2021-08-30T08:27:44.466916",
     "status": "running"
    },
    "tags": []
   },
   "outputs": [
    {
     "name": "stderr",
     "output_type": "stream",
     "text": [
      "\u001b[32m[I 2021-08-30 08:27:44,485]\u001b[0m A new study created in memory with name: no-name-2363d217-260a-4fdf-b2a6-7c4e5283f4e5\u001b[0m\n"
     ]
    },
    {
     "name": "stdout",
     "output_type": "stream",
     "text": [
      "[0]\tvalidation_0-rmse:10.02121\n"
     ]
    },
    {
     "name": "stdout",
     "output_type": "stream",
     "text": [
      "[1000]\tvalidation_0-rmse:7.76142\n"
     ]
    },
    {
     "name": "stdout",
     "output_type": "stream",
     "text": [
      "[2000]\tvalidation_0-rmse:7.75222\n"
     ]
    },
    {
     "name": "stdout",
     "output_type": "stream",
     "text": [
      "[3000]\tvalidation_0-rmse:7.74884\n"
     ]
    },
    {
     "name": "stdout",
     "output_type": "stream",
     "text": [
      "[3752]\tvalidation_0-rmse:7.74863\n"
     ]
    },
    {
     "name": "stdout",
     "output_type": "stream",
     "text": [
      "[0]\tvalidation_0-rmse:10.02130\n"
     ]
    },
    {
     "name": "stdout",
     "output_type": "stream",
     "text": [
      "[1000]\tvalidation_0-rmse:7.76224\n"
     ]
    },
    {
     "name": "stdout",
     "output_type": "stream",
     "text": [
      "[2000]\tvalidation_0-rmse:7.75296\n"
     ]
    },
    {
     "name": "stdout",
     "output_type": "stream",
     "text": [
      "[3000]\tvalidation_0-rmse:7.75009\n"
     ]
    },
    {
     "name": "stdout",
     "output_type": "stream",
     "text": [
      "[3087]\tvalidation_0-rmse:7.75025\n"
     ]
    },
    {
     "name": "stderr",
     "output_type": "stream",
     "text": [
      "\u001b[32m[I 2021-08-30 08:56:53,129]\u001b[0m Trial 0 finished with value: 7.747334274490658 and parameters: {'learning_rate': 0.007168761726094947, 'subsample': 0.7538174664175544, 'colsample_bytree': 0.61295836339311, 'max_depth': 17, 'lambda': 1.8126587567692944, 'alpha': 32.807085563877365, 'min_child_weight': 452.40642196204703}. Best is trial 0 with value: 7.747334274490658.\u001b[0m\n"
     ]
    },
    {
     "name": "stdout",
     "output_type": "stream",
     "text": [
      "[0]\tvalidation_0-rmse:10.03211\n"
     ]
    },
    {
     "name": "stdout",
     "output_type": "stream",
     "text": [
      "[1000]\tvalidation_0-rmse:7.77285\n"
     ]
    },
    {
     "name": "stdout",
     "output_type": "stream",
     "text": [
      "[2000]\tvalidation_0-rmse:7.75801\n"
     ]
    },
    {
     "name": "stdout",
     "output_type": "stream",
     "text": [
      "[3000]\tvalidation_0-rmse:7.75247\n"
     ]
    },
    {
     "name": "stdout",
     "output_type": "stream",
     "text": [
      "[4000]\tvalidation_0-rmse:7.74880\n"
     ]
    },
    {
     "name": "stdout",
     "output_type": "stream",
     "text": [
      "[5000]\tvalidation_0-rmse:7.74721\n"
     ]
    },
    {
     "name": "stdout",
     "output_type": "stream",
     "text": [
      "[6000]\tvalidation_0-rmse:7.74651\n"
     ]
    },
    {
     "name": "stdout",
     "output_type": "stream",
     "text": [
      "[7000]\tvalidation_0-rmse:7.74591\n"
     ]
    },
    {
     "name": "stdout",
     "output_type": "stream",
     "text": [
      "[7529]\tvalidation_0-rmse:7.74616\n"
     ]
    },
    {
     "name": "stdout",
     "output_type": "stream",
     "text": [
      "[0]\tvalidation_0-rmse:10.03216\n"
     ]
    },
    {
     "name": "stdout",
     "output_type": "stream",
     "text": [
      "[1000]\tvalidation_0-rmse:7.77379\n"
     ]
    },
    {
     "name": "stdout",
     "output_type": "stream",
     "text": [
      "[2000]\tvalidation_0-rmse:7.75870\n"
     ]
    },
    {
     "name": "stdout",
     "output_type": "stream",
     "text": [
      "[3000]\tvalidation_0-rmse:7.75274\n"
     ]
    },
    {
     "name": "stdout",
     "output_type": "stream",
     "text": [
      "[4000]\tvalidation_0-rmse:7.74988\n"
     ]
    },
    {
     "name": "stdout",
     "output_type": "stream",
     "text": [
      "[5000]\tvalidation_0-rmse:7.74858\n"
     ]
    },
    {
     "name": "stdout",
     "output_type": "stream",
     "text": [
      "[5564]\tvalidation_0-rmse:7.74819\n"
     ]
    },
    {
     "name": "stderr",
     "output_type": "stream",
     "text": [
      "\u001b[32m[I 2021-08-30 09:56:50,585]\u001b[0m Trial 1 finished with value: 7.745365670110334 and parameters: {'learning_rate': 0.004403077863993593, 'subsample': 0.7854414243901037, 'colsample_bytree': 0.6732533740765063, 'max_depth': 15, 'lambda': 3.6829220489150662, 'alpha': 32.16158630492214, 'min_child_weight': 338.699432756783}. Best is trial 1 with value: 7.745365670110334.\u001b[0m\n"
     ]
    },
    {
     "name": "stdout",
     "output_type": "stream",
     "text": [
      "[0]\tvalidation_0-rmse:10.02709\n"
     ]
    },
    {
     "name": "stdout",
     "output_type": "stream",
     "text": [
      "[1000]\tvalidation_0-rmse:7.76586\n"
     ]
    },
    {
     "name": "stdout",
     "output_type": "stream",
     "text": [
      "[2000]\tvalidation_0-rmse:7.75299\n"
     ]
    },
    {
     "name": "stdout",
     "output_type": "stream",
     "text": [
      "[3000]\tvalidation_0-rmse:7.74905\n"
     ]
    },
    {
     "name": "stdout",
     "output_type": "stream",
     "text": [
      "[3770]\tvalidation_0-rmse:7.74852\n"
     ]
    },
    {
     "name": "stdout",
     "output_type": "stream",
     "text": [
      "[0]\tvalidation_0-rmse:10.02711\n"
     ]
    },
    {
     "name": "stdout",
     "output_type": "stream",
     "text": [
      "[1000]\tvalidation_0-rmse:7.76619\n"
     ]
    },
    {
     "name": "stdout",
     "output_type": "stream",
     "text": [
      "[2000]\tvalidation_0-rmse:7.75307\n"
     ]
    },
    {
     "name": "stdout",
     "output_type": "stream",
     "text": [
      "[3000]\tvalidation_0-rmse:7.74808\n"
     ]
    },
    {
     "name": "stdout",
     "output_type": "stream",
     "text": [
      "[4000]\tvalidation_0-rmse:7.74625\n"
     ]
    },
    {
     "name": "stdout",
     "output_type": "stream",
     "text": [
      "[4310]\tvalidation_0-rmse:7.74658\n"
     ]
    },
    {
     "name": "stderr",
     "output_type": "stream",
     "text": [
      "\u001b[32m[I 2021-08-30 10:33:45,241]\u001b[0m Trial 2 finished with value: 7.745404534724204 and parameters: {'learning_rate': 0.005690425514715098, 'subsample': 0.7231636950516521, 'colsample_bytree': 0.5054992762390372, 'max_depth': 19, 'lambda': 3.070630537264991, 'alpha': 27.604315348845937, 'min_child_weight': 343.2082402003427}. Best is trial 1 with value: 7.745365670110334.\u001b[0m\n"
     ]
    },
    {
     "name": "stdout",
     "output_type": "stream",
     "text": [
      "[0]\tvalidation_0-rmse:10.01805\n"
     ]
    },
    {
     "name": "stdout",
     "output_type": "stream",
     "text": [
      "[1000]\tvalidation_0-rmse:7.76051\n"
     ]
    },
    {
     "name": "stdout",
     "output_type": "stream",
     "text": [
      "[2000]\tvalidation_0-rmse:7.75131\n"
     ]
    },
    {
     "name": "stdout",
     "output_type": "stream",
     "text": [
      "[3000]\tvalidation_0-rmse:7.74993\n"
     ]
    },
    {
     "name": "stdout",
     "output_type": "stream",
     "text": [
      "[3272]\tvalidation_0-rmse:7.75023\n"
     ]
    },
    {
     "name": "stdout",
     "output_type": "stream",
     "text": [
      "[0]\tvalidation_0-rmse:10.01807\n"
     ]
    },
    {
     "name": "stdout",
     "output_type": "stream",
     "text": [
      "[1000]\tvalidation_0-rmse:7.76056\n"
     ]
    },
    {
     "name": "stdout",
     "output_type": "stream",
     "text": [
      "[2000]\tvalidation_0-rmse:7.75122\n"
     ]
    },
    {
     "name": "stdout",
     "output_type": "stream",
     "text": [
      "[3000]\tvalidation_0-rmse:7.74932\n"
     ]
    },
    {
     "name": "stdout",
     "output_type": "stream",
     "text": [
      "[3281]\tvalidation_0-rmse:7.74945\n"
     ]
    },
    {
     "name": "stderr",
     "output_type": "stream",
     "text": [
      "\u001b[32m[I 2021-08-30 11:04:00,691]\u001b[0m Trial 3 finished with value: 7.747006907064253 and parameters: {'learning_rate': 0.007974865247211147, 'subsample': 0.7342145800583244, 'colsample_bytree': 0.6305051286728602, 'max_depth': 18, 'lambda': 8.334462550821085, 'alpha': 25.33307251132437, 'min_child_weight': 372.46009340411183}. Best is trial 1 with value: 7.745365670110334.\u001b[0m\n"
     ]
    },
    {
     "name": "stdout",
     "output_type": "stream",
     "text": [
      "[0]\tvalidation_0-rmse:10.03014\n"
     ]
    },
    {
     "name": "stdout",
     "output_type": "stream",
     "text": [
      "[1000]\tvalidation_0-rmse:7.76776\n"
     ]
    },
    {
     "name": "stdout",
     "output_type": "stream",
     "text": [
      "[2000]\tvalidation_0-rmse:7.75412\n"
     ]
    },
    {
     "name": "stdout",
     "output_type": "stream",
     "text": [
      "[3000]\tvalidation_0-rmse:7.74913\n"
     ]
    },
    {
     "name": "stdout",
     "output_type": "stream",
     "text": [
      "[4000]\tvalidation_0-rmse:7.74756\n"
     ]
    },
    {
     "name": "stdout",
     "output_type": "stream",
     "text": [
      "[5000]\tvalidation_0-rmse:7.74667\n"
     ]
    },
    {
     "name": "stdout",
     "output_type": "stream",
     "text": [
      "[5745]\tvalidation_0-rmse:7.74644\n"
     ]
    },
    {
     "name": "stdout",
     "output_type": "stream",
     "text": [
      "[0]\tvalidation_0-rmse:10.03023\n"
     ]
    },
    {
     "name": "stdout",
     "output_type": "stream",
     "text": [
      "[1000]\tvalidation_0-rmse:7.76827\n"
     ]
    },
    {
     "name": "stdout",
     "output_type": "stream",
     "text": [
      "[2000]\tvalidation_0-rmse:7.75417\n"
     ]
    },
    {
     "name": "stdout",
     "output_type": "stream",
     "text": [
      "[3000]\tvalidation_0-rmse:7.74996\n"
     ]
    },
    {
     "name": "stdout",
     "output_type": "stream",
     "text": [
      "[3402]\tvalidation_0-rmse:7.74980\n"
     ]
    },
    {
     "name": "stderr",
     "output_type": "stream",
     "text": [
      "\u001b[32m[I 2021-08-30 11:47:20,547]\u001b[0m Trial 4 finished with value: 7.745901799003799 and parameters: {'learning_rate': 0.004900773239012929, 'subsample': 0.7160856910250786, 'colsample_bytree': 0.6677913892618419, 'max_depth': 21, 'lambda': 5.325207146864641, 'alpha': 27.85780141205624, 'min_child_weight': 394.9736848104902}. Best is trial 1 with value: 7.745365670110334.\u001b[0m\n"
     ]
    },
    {
     "name": "stdout",
     "output_type": "stream",
     "text": [
      "[0]\tvalidation_0-rmse:10.01675\n"
     ]
    },
    {
     "name": "stdout",
     "output_type": "stream",
     "text": [
      "[1000]\tvalidation_0-rmse:7.75767\n"
     ]
    },
    {
     "name": "stdout",
     "output_type": "stream",
     "text": [
      "[2000]\tvalidation_0-rmse:7.75057\n"
     ]
    },
    {
     "name": "stdout",
     "output_type": "stream",
     "text": [
      "[3000]\tvalidation_0-rmse:7.74834\n"
     ]
    },
    {
     "name": "stdout",
     "output_type": "stream",
     "text": [
      "[3308]\tvalidation_0-rmse:7.74877\n"
     ]
    },
    {
     "name": "stdout",
     "output_type": "stream",
     "text": [
      "[0]\tvalidation_0-rmse:10.01678\n"
     ]
    },
    {
     "name": "stdout",
     "output_type": "stream",
     "text": [
      "[1000]\tvalidation_0-rmse:7.75947\n"
     ]
    },
    {
     "name": "stdout",
     "output_type": "stream",
     "text": [
      "[2000]\tvalidation_0-rmse:7.75096\n"
     ]
    },
    {
     "name": "stdout",
     "output_type": "stream",
     "text": [
      "[2238]\tvalidation_0-rmse:7.75081\n"
     ]
    },
    {
     "name": "stderr",
     "output_type": "stream",
     "text": [
      "\u001b[32m[I 2021-08-30 12:17:24,475]\u001b[0m Trial 5 finished with value: 7.746615254511395 and parameters: {'learning_rate': 0.008311674302505307, 'subsample': 0.8076674835738886, 'colsample_bytree': 0.5147474137321244, 'max_depth': 22, 'lambda': 10.159638850596705, 'alpha': 32.08071851807198, 'min_child_weight': 333.84182202059026}. Best is trial 1 with value: 7.745365670110334.\u001b[0m\n"
     ]
    },
    {
     "name": "stdout",
     "output_type": "stream",
     "text": [
      "[0]\tvalidation_0-rmse:10.01792\n"
     ]
    },
    {
     "name": "stdout",
     "output_type": "stream",
     "text": [
      "[1000]\tvalidation_0-rmse:7.76119\n"
     ]
    },
    {
     "name": "stdout",
     "output_type": "stream",
     "text": [
      "[2000]\tvalidation_0-rmse:7.75149\n"
     ]
    },
    {
     "name": "stdout",
     "output_type": "stream",
     "text": [
      "[3000]\tvalidation_0-rmse:7.74822\n"
     ]
    },
    {
     "name": "stdout",
     "output_type": "stream",
     "text": [
      "[4000]\tvalidation_0-rmse:7.74701\n"
     ]
    },
    {
     "name": "stdout",
     "output_type": "stream",
     "text": [
      "[4396]\tvalidation_0-rmse:7.74721\n"
     ]
    },
    {
     "name": "stdout",
     "output_type": "stream",
     "text": [
      "[0]\tvalidation_0-rmse:10.01797\n"
     ]
    },
    {
     "name": "stdout",
     "output_type": "stream",
     "text": [
      "[1000]\tvalidation_0-rmse:7.76195\n"
     ]
    },
    {
     "name": "stdout",
     "output_type": "stream",
     "text": [
      "[2000]\tvalidation_0-rmse:7.75163\n"
     ]
    },
    {
     "name": "stdout",
     "output_type": "stream",
     "text": [
      "[3000]\tvalidation_0-rmse:7.74899\n"
     ]
    },
    {
     "name": "stdout",
     "output_type": "stream",
     "text": [
      "[3907]\tvalidation_0-rmse:7.74822\n"
     ]
    },
    {
     "name": "stderr",
     "output_type": "stream",
     "text": [
      "\u001b[32m[I 2021-08-30 12:47:50,070]\u001b[0m Trial 6 finished with value: 7.745431104776354 and parameters: {'learning_rate': 0.008004283015946835, 'subsample': 0.8005614868603719, 'colsample_bytree': 0.568049363494123, 'max_depth': 14, 'lambda': 7.7274772666849465, 'alpha': 34.43281514763645, 'min_child_weight': 476.8083236676259}. Best is trial 1 with value: 7.745365670110334.\u001b[0m\n"
     ]
    },
    {
     "name": "stdout",
     "output_type": "stream",
     "text": [
      "[0]\tvalidation_0-rmse:10.02887\n"
     ]
    },
    {
     "name": "stdout",
     "output_type": "stream",
     "text": [
      "[1000]\tvalidation_0-rmse:7.77165\n"
     ]
    },
    {
     "name": "stdout",
     "output_type": "stream",
     "text": [
      "[2000]\tvalidation_0-rmse:7.75761\n"
     ]
    },
    {
     "name": "stdout",
     "output_type": "stream",
     "text": [
      "[3000]\tvalidation_0-rmse:7.75206\n"
     ]
    },
    {
     "name": "stdout",
     "output_type": "stream",
     "text": [
      "[4000]\tvalidation_0-rmse:7.74913\n"
     ]
    },
    {
     "name": "stdout",
     "output_type": "stream",
     "text": [
      "[5000]\tvalidation_0-rmse:7.74761\n"
     ]
    },
    {
     "name": "stdout",
     "output_type": "stream",
     "text": [
      "[6000]\tvalidation_0-rmse:7.74671\n"
     ]
    },
    {
     "name": "stdout",
     "output_type": "stream",
     "text": [
      "[6465]\tvalidation_0-rmse:7.74635\n"
     ]
    },
    {
     "name": "stdout",
     "output_type": "stream",
     "text": [
      "[0]\tvalidation_0-rmse:10.02893\n"
     ]
    },
    {
     "name": "stdout",
     "output_type": "stream",
     "text": [
      "[1000]\tvalidation_0-rmse:7.77249\n"
     ]
    },
    {
     "name": "stdout",
     "output_type": "stream",
     "text": [
      "[2000]\tvalidation_0-rmse:7.75793\n"
     ]
    },
    {
     "name": "stdout",
     "output_type": "stream",
     "text": [
      "[3000]\tvalidation_0-rmse:7.75294\n"
     ]
    },
    {
     "name": "stdout",
     "output_type": "stream",
     "text": [
      "[4000]\tvalidation_0-rmse:7.75031\n"
     ]
    },
    {
     "name": "stdout",
     "output_type": "stream",
     "text": [
      "[5000]\tvalidation_0-rmse:7.74869\n"
     ]
    },
    {
     "name": "stdout",
     "output_type": "stream",
     "text": [
      "[5257]\tvalidation_0-rmse:7.74867\n"
     ]
    },
    {
     "name": "stderr",
     "output_type": "stream",
     "text": [
      "\u001b[32m[I 2021-08-30 13:28:01,282]\u001b[0m Trial 7 finished with value: 7.74619529139142 and parameters: {'learning_rate': 0.005229873670200594, 'subsample': 0.8190145369436002, 'colsample_bytree': 0.5111553230820959, 'max_depth': 14, 'lambda': 4.866859193256249, 'alpha': 28.028462831351447, 'min_child_weight': 507.44293071650304}. Best is trial 1 with value: 7.745365670110334.\u001b[0m\n"
     ]
    },
    {
     "name": "stdout",
     "output_type": "stream",
     "text": [
      "[0]\tvalidation_0-rmse:10.02254\n"
     ]
    },
    {
     "name": "stdout",
     "output_type": "stream",
     "text": [
      "[1000]\tvalidation_0-rmse:7.76209\n"
     ]
    },
    {
     "name": "stdout",
     "output_type": "stream",
     "text": [
      "[2000]\tvalidation_0-rmse:7.75132\n"
     ]
    },
    {
     "name": "stdout",
     "output_type": "stream",
     "text": [
      "[2990]\tvalidation_0-rmse:7.74855\n"
     ]
    },
    {
     "name": "stdout",
     "output_type": "stream",
     "text": [
      "[0]\tvalidation_0-rmse:10.02256\n"
     ]
    },
    {
     "name": "stdout",
     "output_type": "stream",
     "text": [
      "[1000]\tvalidation_0-rmse:7.76328\n"
     ]
    },
    {
     "name": "stdout",
     "output_type": "stream",
     "text": [
      "[2000]\tvalidation_0-rmse:7.75336\n"
     ]
    },
    {
     "name": "stdout",
     "output_type": "stream",
     "text": [
      "[3000]\tvalidation_0-rmse:7.75028\n"
     ]
    },
    {
     "name": "stdout",
     "output_type": "stream",
     "text": [
      "[3695]\tvalidation_0-rmse:7.74969\n"
     ]
    },
    {
     "name": "stderr",
     "output_type": "stream",
     "text": [
      "\u001b[32m[I 2021-08-30 13:58:29,970]\u001b[0m Trial 8 finished with value: 7.747171019298125 and parameters: {'learning_rate': 0.006841062501293358, 'subsample': 0.8325229814017416, 'colsample_bytree': 0.549445113986017, 'max_depth': 21, 'lambda': 3.4280184818200263, 'alpha': 31.806884075540996, 'min_child_weight': 464.14956927142725}. Best is trial 1 with value: 7.745365670110334.\u001b[0m\n"
     ]
    },
    {
     "name": "stdout",
     "output_type": "stream",
     "text": [
      "[0]\tvalidation_0-rmse:10.02225\n"
     ]
    },
    {
     "name": "stdout",
     "output_type": "stream",
     "text": [
      "[1000]\tvalidation_0-rmse:7.76117\n"
     ]
    },
    {
     "name": "stdout",
     "output_type": "stream",
     "text": [
      "[2000]\tvalidation_0-rmse:7.75185\n"
     ]
    },
    {
     "name": "stdout",
     "output_type": "stream",
     "text": [
      "[3000]\tvalidation_0-rmse:7.74779\n"
     ]
    },
    {
     "name": "stdout",
     "output_type": "stream",
     "text": [
      "[3472]\tvalidation_0-rmse:7.74790\n"
     ]
    },
    {
     "name": "stdout",
     "output_type": "stream",
     "text": [
      "[0]\tvalidation_0-rmse:10.02223\n"
     ]
    },
    {
     "name": "stdout",
     "output_type": "stream",
     "text": [
      "[1000]\tvalidation_0-rmse:7.76091\n"
     ]
    },
    {
     "name": "stdout",
     "output_type": "stream",
     "text": [
      "[2000]\tvalidation_0-rmse:7.75062\n"
     ]
    },
    {
     "name": "stdout",
     "output_type": "stream",
     "text": [
      "[3000]\tvalidation_0-rmse:7.74776\n"
     ]
    },
    {
     "name": "stdout",
     "output_type": "stream",
     "text": [
      "[4000]\tvalidation_0-rmse:7.74646\n"
     ]
    },
    {
     "name": "stdout",
     "output_type": "stream",
     "text": [
      "[5000]\tvalidation_0-rmse:7.74579\n"
     ]
    },
    {
     "name": "stdout",
     "output_type": "stream",
     "text": [
      "[5194]\tvalidation_0-rmse:7.74624\n"
     ]
    },
    {
     "name": "stderr",
     "output_type": "stream",
     "text": [
      "\u001b[32m[I 2021-08-30 14:39:08,137]\u001b[0m Trial 9 finished with value: 7.743730951037691 and parameters: {'learning_rate': 0.006926882143879833, 'subsample': 0.7665578211019899, 'colsample_bytree': 0.551350454117138, 'max_depth': 21, 'lambda': 2.7649143275388735, 'alpha': 26.355021643568286, 'min_child_weight': 417.1915305746212}. Best is trial 9 with value: 7.743730951037691.\u001b[0m\n"
     ]
    },
    {
     "name": "stdout",
     "output_type": "stream",
     "text": [
      "[0]\tvalidation_0-rmse:10.02420\n"
     ]
    },
    {
     "name": "stdout",
     "output_type": "stream",
     "text": [
      "[1000]\tvalidation_0-rmse:7.76247\n"
     ]
    },
    {
     "name": "stdout",
     "output_type": "stream",
     "text": [
      "[2000]\tvalidation_0-rmse:7.75205\n"
     ]
    },
    {
     "name": "stdout",
     "output_type": "stream",
     "text": [
      "[3000]\tvalidation_0-rmse:7.74812\n"
     ]
    },
    {
     "name": "stdout",
     "output_type": "stream",
     "text": [
      "[3734]\tvalidation_0-rmse:7.74779\n"
     ]
    },
    {
     "name": "stdout",
     "output_type": "stream",
     "text": [
      "[0]\tvalidation_0-rmse:10.02428\n"
     ]
    },
    {
     "name": "stdout",
     "output_type": "stream",
     "text": [
      "[1000]\tvalidation_0-rmse:7.76344\n"
     ]
    },
    {
     "name": "stdout",
     "output_type": "stream",
     "text": [
      "[2000]\tvalidation_0-rmse:7.75162\n"
     ]
    },
    {
     "name": "stdout",
     "output_type": "stream",
     "text": [
      "[3000]\tvalidation_0-rmse:7.74847\n"
     ]
    },
    {
     "name": "stdout",
     "output_type": "stream",
     "text": [
      "[4000]\tvalidation_0-rmse:7.74763\n"
     ]
    },
    {
     "name": "stdout",
     "output_type": "stream",
     "text": [
      "[4402]\tvalidation_0-rmse:7.74800\n"
     ]
    },
    {
     "name": "stderr",
     "output_type": "stream",
     "text": [
      "\u001b[32m[I 2021-08-30 15:14:03,353]\u001b[0m Trial 10 finished with value: 7.745363079335315 and parameters: {'learning_rate': 0.006424379150478126, 'subsample': 0.6950062059385218, 'colsample_bytree': 0.5653177980504662, 'max_depth': 20, 'lambda': 1.0223840718761803, 'alpha': 24.756454528149565, 'min_child_weight': 410.9889168418383}. Best is trial 9 with value: 7.743730951037691.\u001b[0m\n"
     ]
    },
    {
     "name": "stdout",
     "output_type": "stream",
     "text": [
      "[0]\tvalidation_0-rmse:10.02341\n"
     ]
    },
    {
     "name": "stdout",
     "output_type": "stream",
     "text": [
      "[1000]\tvalidation_0-rmse:7.76318\n"
     ]
    },
    {
     "name": "stdout",
     "output_type": "stream",
     "text": [
      "[2000]\tvalidation_0-rmse:7.75285\n"
     ]
    },
    {
     "name": "stdout",
     "output_type": "stream",
     "text": [
      "[3000]\tvalidation_0-rmse:7.74965\n"
     ]
    },
    {
     "name": "stdout",
     "output_type": "stream",
     "text": [
      "[3632]\tvalidation_0-rmse:7.74924\n"
     ]
    },
    {
     "name": "stdout",
     "output_type": "stream",
     "text": [
      "[0]\tvalidation_0-rmse:10.02355\n"
     ]
    },
    {
     "name": "stdout",
     "output_type": "stream",
     "text": [
      "[1000]\tvalidation_0-rmse:7.76329\n"
     ]
    },
    {
     "name": "stdout",
     "output_type": "stream",
     "text": [
      "[2000]\tvalidation_0-rmse:7.75378\n"
     ]
    },
    {
     "name": "stdout",
     "output_type": "stream",
     "text": [
      "[3000]\tvalidation_0-rmse:7.75020\n"
     ]
    },
    {
     "name": "stdout",
     "output_type": "stream",
     "text": [
      "[3350]\tvalidation_0-rmse:7.74987\n"
     ]
    },
    {
     "name": "stderr",
     "output_type": "stream",
     "text": [
      "\u001b[32m[I 2021-08-30 15:43:20,465]\u001b[0m Trial 11 finished with value: 7.747375536337517 and parameters: {'learning_rate': 0.006615854985450881, 'subsample': 0.676616627117251, 'colsample_bytree': 0.5652101729529815, 'max_depth': 20, 'lambda': 1.0370902520148924, 'alpha': 24.65028571157717, 'min_child_weight': 415.95821003754077}. Best is trial 9 with value: 7.743730951037691.\u001b[0m\n"
     ]
    },
    {
     "name": "stdout",
     "output_type": "stream",
     "text": [
      "[0]\tvalidation_0-rmse:10.02542\n"
     ]
    },
    {
     "name": "stdout",
     "output_type": "stream",
     "text": [
      "[1000]\tvalidation_0-rmse:7.76279\n"
     ]
    },
    {
     "name": "stdout",
     "output_type": "stream",
     "text": [
      "[2000]\tvalidation_0-rmse:7.75229\n"
     ]
    },
    {
     "name": "stdout",
     "output_type": "stream",
     "text": [
      "[3000]\tvalidation_0-rmse:7.74890\n"
     ]
    },
    {
     "name": "stdout",
     "output_type": "stream",
     "text": [
      "[4000]\tvalidation_0-rmse:7.74720\n"
     ]
    },
    {
     "name": "stdout",
     "output_type": "stream",
     "text": [
      "[4971]\tvalidation_0-rmse:7.74698\n"
     ]
    },
    {
     "name": "stdout",
     "output_type": "stream",
     "text": [
      "[0]\tvalidation_0-rmse:10.02552\n"
     ]
    },
    {
     "name": "stdout",
     "output_type": "stream",
     "text": [
      "[1000]\tvalidation_0-rmse:7.76419\n"
     ]
    },
    {
     "name": "stdout",
     "output_type": "stream",
     "text": [
      "[2000]\tvalidation_0-rmse:7.75250\n"
     ]
    },
    {
     "name": "stdout",
     "output_type": "stream",
     "text": [
      "[3000]\tvalidation_0-rmse:7.74889\n"
     ]
    },
    {
     "name": "stdout",
     "output_type": "stream",
     "text": [
      "[3577]\tvalidation_0-rmse:7.74801\n"
     ]
    },
    {
     "name": "stderr",
     "output_type": "stream",
     "text": [
      "\u001b[32m[I 2021-08-30 16:20:57,619]\u001b[0m Trial 12 finished with value: 7.74501471358232 and parameters: {'learning_rate': 0.006109679024128444, 'subsample': 0.6698046070576467, 'colsample_bytree': 0.5863623370523208, 'max_depth': 22, 'lambda': 2.2342742837080074, 'alpha': 25.71023990518336, 'min_child_weight': 421.8925131088092}. Best is trial 9 with value: 7.743730951037691.\u001b[0m\n"
     ]
    },
    {
     "name": "stdout",
     "output_type": "stream",
     "text": [
      "[0]\tvalidation_0-rmse:10.02056\n"
     ]
    },
    {
     "name": "stdout",
     "output_type": "stream",
     "text": [
      "[1000]\tvalidation_0-rmse:7.75989\n"
     ]
    },
    {
     "name": "stdout",
     "output_type": "stream",
     "text": [
      "[2000]\tvalidation_0-rmse:7.75031\n"
     ]
    },
    {
     "name": "stdout",
     "output_type": "stream",
     "text": [
      "[2916]\tvalidation_0-rmse:7.74822\n"
     ]
    },
    {
     "name": "stdout",
     "output_type": "stream",
     "text": [
      "[0]\tvalidation_0-rmse:10.02065\n"
     ]
    },
    {
     "name": "stdout",
     "output_type": "stream",
     "text": [
      "[1000]\tvalidation_0-rmse:7.75956\n"
     ]
    },
    {
     "name": "stdout",
     "output_type": "stream",
     "text": [
      "[2000]\tvalidation_0-rmse:7.75181\n"
     ]
    },
    {
     "name": "stdout",
     "output_type": "stream",
     "text": [
      "[2909]\tvalidation_0-rmse:7.74995\n"
     ]
    },
    {
     "name": "stderr",
     "output_type": "stream",
     "text": [
      "\u001b[32m[I 2021-08-30 16:50:51,111]\u001b[0m Trial 13 finished with value: 7.7471242545274155 and parameters: {'learning_rate': 0.007342087281701791, 'subsample': 0.8620302212868357, 'colsample_bytree': 0.597238203980089, 'max_depth': 22, 'lambda': 2.047812769127256, 'alpha': 26.102082617680942, 'min_child_weight': 440.09290828518414}. Best is trial 9 with value: 7.743730951037691.\u001b[0m\n"
     ]
    },
    {
     "name": "stdout",
     "output_type": "stream",
     "text": [
      "[0]\tvalidation_0-rmse:10.02615\n"
     ]
    },
    {
     "name": "stdout",
     "output_type": "stream",
     "text": [
      "[1000]\tvalidation_0-rmse:7.76454\n"
     ]
    },
    {
     "name": "stdout",
     "output_type": "stream",
     "text": [
      "[2000]\tvalidation_0-rmse:7.75187\n"
     ]
    },
    {
     "name": "stdout",
     "output_type": "stream",
     "text": [
      "[3000]\tvalidation_0-rmse:7.74885\n"
     ]
    },
    {
     "name": "stdout",
     "output_type": "stream",
     "text": [
      "[3838]\tvalidation_0-rmse:7.74794\n"
     ]
    },
    {
     "name": "stdout",
     "output_type": "stream",
     "text": [
      "[0]\tvalidation_0-rmse:10.02620\n"
     ]
    },
    {
     "name": "stdout",
     "output_type": "stream",
     "text": [
      "[1000]\tvalidation_0-rmse:7.76512\n"
     ]
    },
    {
     "name": "stdout",
     "output_type": "stream",
     "text": [
      "[2000]\tvalidation_0-rmse:7.75334\n"
     ]
    },
    {
     "name": "stdout",
     "output_type": "stream",
     "text": [
      "[3000]\tvalidation_0-rmse:7.75002\n"
     ]
    },
    {
     "name": "stdout",
     "output_type": "stream",
     "text": [
      "[4000]\tvalidation_0-rmse:7.74834\n"
     ]
    }
   ],
   "source": [
    "study = optuna.create_study(direction='minimize')\n",
    "study.optimize(objective,n_trials= 30)\n",
    "print('Number of finished trials:', len(study.trials))\n",
    "print('Best trial:', study.best_trial.params)"
   ]
  },
  {
   "cell_type": "code",
   "execution_count": null,
   "id": "ef65ffdf",
   "metadata": {
    "execution": {
     "iopub.status.busy": "2021-08-29T03:03:10.403859Z",
     "iopub.status.idle": "2021-08-29T03:03:10.404716Z"
    },
    "papermill": {
     "duration": null,
     "end_time": null,
     "exception": null,
     "start_time": null,
     "status": "pending"
    },
    "tags": []
   },
   "outputs": [],
   "source": [
    "study.best_params"
   ]
  },
  {
   "cell_type": "markdown",
   "id": "b76ce36c",
   "metadata": {
    "papermill": {
     "duration": null,
     "end_time": null,
     "exception": null,
     "start_time": null,
     "status": "pending"
    },
    "tags": []
   },
   "source": [
    "# Log\n",
    "\n",
    "7.744636762159451 lv1 best\n",
    "\n",
    "7.744741749510907 no noise ver3\n",
    "\n",
    "narrow\n"
   ]
  }
 ],
 "metadata": {
  "kernelspec": {
   "display_name": "Python 3",
   "language": "python",
   "name": "python3"
  },
  "language_info": {
   "codemirror_mode": {
    "name": "ipython",
    "version": 3
   },
   "file_extension": ".py",
   "mimetype": "text/x-python",
   "name": "python",
   "nbconvert_exporter": "python",
   "pygments_lexer": "ipython3",
   "version": "3.6.4"
  },
  "papermill": {
   "default_parameters": {},
   "duration": null,
   "end_time": null,
   "environment_variables": {},
   "exception": null,
   "input_path": "__notebook__.ipynb",
   "output_path": "__notebook__.ipynb",
   "parameters": {},
   "start_time": "2021-08-30T08:26:55.428532",
   "version": "2.3.3"
  }
 },
 "nbformat": 4,
 "nbformat_minor": 5
}