{
 "cells": [
  {
   "cell_type": "markdown",
   "id": "4afb0409",
   "metadata": {
    "papermill": {
     "duration": 0.013604,
     "end_time": "2021-08-31T05:49:59.434755",
     "exception": false,
     "start_time": "2021-08-31T05:49:59.421151",
     "status": "completed"
    },
    "tags": []
   },
   "source": [
    "# Libraries"
   ]
  },
  {
   "cell_type": "code",
   "execution_count": 1,
   "id": "b8aa0f83",
   "metadata": {
    "_cell_guid": "b1076dfc-b9ad-4769-8c92-a6c4dae69d19",
    "_uuid": "8f2839f25d086af736a60e9eeb907d3b93b6e0e5",
    "execution": {
     "iopub.execute_input": "2021-08-31T05:49:59.472652Z",
     "iopub.status.busy": "2021-08-31T05:49:59.472044Z",
     "iopub.status.idle": "2021-08-31T05:50:00.471972Z",
     "shell.execute_reply": "2021-08-31T05:50:00.471377Z",
     "shell.execute_reply.started": "2021-08-16T02:22:18.744068Z"
    },
    "papermill": {
     "duration": 1.025042,
     "end_time": "2021-08-31T05:50:00.472161",
     "exception": false,
     "start_time": "2021-08-31T05:49:59.447119",
     "status": "completed"
    },
    "tags": []
   },
   "outputs": [],
   "source": [
    "from pathlib import Path\n",
    "import pandas as pd\n",
    "import numpy as np\n",
    "import pickle\n",
    "import random\n",
    "import time\n",
    "import os\n",
    "\n",
    "from sklearn.preprocessing import StandardScaler\n",
    "from sklearn.model_selection import KFold\n",
    "from sklearn.metrics import mean_squared_error\n",
    "\n",
    "from scipy.optimize import minimize\n",
    "\n",
    "#import lightgbm as lgb\n",
    "import xgboost as xgb\n",
    "#import catboost as ctb\n",
    "#from sklearn.linear_model import Ridge\n",
    "\n",
    "import matplotlib.pyplot as plt\n",
    "import seaborn as sns\n",
    "\n",
    "import warnings\n",
    "warnings.simplefilter('ignore')"
   ]
  },
  {
   "cell_type": "markdown",
   "id": "e5c24975",
   "metadata": {
    "papermill": {
     "duration": 0.012015,
     "end_time": "2021-08-31T05:50:00.498618",
     "exception": false,
     "start_time": "2021-08-31T05:50:00.486603",
     "status": "completed"
    },
    "tags": []
   },
   "source": [
    "# Parameters"
   ]
  },
  {
   "cell_type": "code",
   "execution_count": 2,
   "id": "b770135a",
   "metadata": {
    "execution": {
     "iopub.execute_input": "2021-08-31T05:50:00.528553Z",
     "iopub.status.busy": "2021-08-31T05:50:00.527956Z",
     "iopub.status.idle": "2021-08-31T05:50:00.531474Z",
     "shell.execute_reply": "2021-08-31T05:50:00.531873Z"
    },
    "papermill": {
     "duration": 0.020903,
     "end_time": "2021-08-31T05:50:00.532028",
     "exception": false,
     "start_time": "2021-08-31T05:50:00.511125",
     "status": "completed"
    },
    "tags": []
   },
   "outputs": [],
   "source": [
    "target = 'loss'\n",
    "\n",
    "DEBUG = False\n",
    "\n",
    "if DEBUG:\n",
    "    N_ESTIMATORS = 1\n",
    "    N_SPLITS = 2\n",
    "    SEED = 17\n",
    "    CVSEED = 17\n",
    "    EARLY_STOPPING_ROUNDS = 1\n",
    "    VERBOSE = 100\n",
    "    #N_ITERS = 2\n",
    "else:\n",
    "    N_SPLITS = 10\n",
    "    N_ESTIMATORS = 10000\n",
    "    EARLY_STOPPING_ROUNDS = 300\n",
    "    VERBOSE = 1000\n",
    "    SEED = 17\n",
    "    CVSEED = 17\n",
    "    #N_ITERS = 10"
   ]
  },
  {
   "cell_type": "code",
   "execution_count": 3,
   "id": "37dbb369",
   "metadata": {
    "execution": {
     "iopub.execute_input": "2021-08-31T05:50:00.562316Z",
     "iopub.status.busy": "2021-08-31T05:50:00.561445Z",
     "iopub.status.idle": "2021-08-31T05:50:00.563856Z",
     "shell.execute_reply": "2021-08-31T05:50:00.563467Z"
    },
    "papermill": {
     "duration": 0.019095,
     "end_time": "2021-08-31T05:50:00.563963",
     "exception": false,
     "start_time": "2021-08-31T05:50:00.544868",
     "status": "completed"
    },
    "tags": []
   },
   "outputs": [],
   "source": [
    "def set_seed(seed=17):\n",
    "    random.seed(seed)\n",
    "    os.environ['PYTHONHASHSEED'] = str(seed)\n",
    "    np.random.seed(seed)\n",
    "    \n",
    "set_seed(SEED)"
   ]
  },
  {
   "cell_type": "markdown",
   "id": "6a01d3d5",
   "metadata": {
    "papermill": {
     "duration": 0.018827,
     "end_time": "2021-08-31T05:50:00.598640",
     "exception": false,
     "start_time": "2021-08-31T05:50:00.579813",
     "status": "completed"
    },
    "tags": []
   },
   "source": [
    "# Datasets"
   ]
  },
  {
   "cell_type": "code",
   "execution_count": 4,
   "id": "a76f385a",
   "metadata": {
    "execution": {
     "iopub.execute_input": "2021-08-31T05:50:00.654734Z",
     "iopub.status.busy": "2021-08-31T05:50:00.654020Z",
     "iopub.status.idle": "2021-08-31T05:50:10.992747Z",
     "shell.execute_reply": "2021-08-31T05:50:10.991818Z",
     "shell.execute_reply.started": "2021-08-16T02:22:21.609605Z"
    },
    "papermill": {
     "duration": 10.371388,
     "end_time": "2021-08-31T05:50:10.992893",
     "exception": false,
     "start_time": "2021-08-31T05:50:00.621505",
     "status": "completed"
    },
    "tags": []
   },
   "outputs": [],
   "source": [
    "INPUT = Path(\"../input/tabular-playground-series-aug-2021\")\n",
    "\n",
    "train = pd.read_csv(INPUT / \"train.csv\")\n",
    "test = pd.read_csv(INPUT / \"test.csv\")\n",
    "submission = pd.read_csv(INPUT / \"sample_submission.csv\")\n"
   ]
  },
  {
   "cell_type": "markdown",
   "id": "c0a37938",
   "metadata": {
    "papermill": {
     "duration": 0.012682,
     "end_time": "2021-08-31T05:50:11.018701",
     "exception": false,
     "start_time": "2021-08-31T05:50:11.006019",
     "status": "completed"
    },
    "tags": []
   },
   "source": [
    "# Preprocessing"
   ]
  },
  {
   "cell_type": "code",
   "execution_count": 5,
   "id": "b9c45cb5",
   "metadata": {
    "execution": {
     "iopub.execute_input": "2021-08-31T05:50:11.121799Z",
     "iopub.status.busy": "2021-08-31T05:50:11.120485Z",
     "iopub.status.idle": "2021-08-31T05:50:21.799834Z",
     "shell.execute_reply": "2021-08-31T05:50:21.799359Z",
     "shell.execute_reply.started": "2021-08-16T02:22:32.282404Z"
    },
    "papermill": {
     "duration": 10.768123,
     "end_time": "2021-08-31T05:50:21.799971",
     "exception": false,
     "start_time": "2021-08-31T05:50:11.031848",
     "status": "completed"
    },
    "tags": []
   },
   "outputs": [],
   "source": [
    "scale_features = [col for col in test.columns if 'f' in col]\n",
    "\n",
    "ss = StandardScaler()\n",
    "train[scale_features] = ss.fit_transform(train[scale_features])\n",
    "test[scale_features] = ss.transform(test[scale_features])\n"
   ]
  },
  {
   "cell_type": "code",
   "execution_count": 6,
   "id": "32b7f9e6",
   "metadata": {
    "execution": {
     "iopub.execute_input": "2021-08-31T05:50:21.838958Z",
     "iopub.status.busy": "2021-08-31T05:50:21.837250Z",
     "iopub.status.idle": "2021-08-31T05:50:21.839719Z",
     "shell.execute_reply": "2021-08-31T05:50:21.840212Z"
    },
    "papermill": {
     "duration": 0.025111,
     "end_time": "2021-08-31T05:50:21.840364",
     "exception": false,
     "start_time": "2021-08-31T05:50:21.815253",
     "status": "completed"
    },
    "tags": []
   },
   "outputs": [],
   "source": [
    "# Swap noise\n",
    "\n",
    "# Random\n",
    "def apply_noise_rn(df, p=.75):\n",
    "    should_not_swap = np.random.binomial(1, p, df.shape)\n",
    "    corrupted_df = df.where(should_not_swap == 1, np.random.permutation(df))\n",
    "    return corrupted_df\n",
    "\n",
    "# Row-wise\n",
    "def apply_noise_row(df, p=.75):\n",
    "    should_not_swap = np.zeros(df.shape)\n",
    "    for i in range(df.shape[0]):\n",
    "        for j in np.random.choice(df.shape[1],int(p*df.shape[1]),replace=False):\n",
    "            should_not_swap[i,j]=1 \n",
    "    corrupted_df = df.where(should_not_swap == 1, np.random.permutation(df))\n",
    "    return corrupted_df\n",
    "    "
   ]
  },
  {
   "cell_type": "markdown",
   "id": "71d03d24",
   "metadata": {
    "papermill": {
     "duration": 0.014103,
     "end_time": "2021-08-31T05:50:21.868921",
     "exception": false,
     "start_time": "2021-08-31T05:50:21.854818",
     "status": "completed"
    },
    "tags": []
   },
   "source": [
    "# Pseudo Label"
   ]
  },
  {
   "cell_type": "code",
   "execution_count": 7,
   "id": "6afdc60f",
   "metadata": {
    "execution": {
     "iopub.execute_input": "2021-08-31T05:50:21.900948Z",
     "iopub.status.busy": "2021-08-31T05:50:21.900430Z",
     "iopub.status.idle": "2021-08-31T05:50:22.597102Z",
     "shell.execute_reply": "2021-08-31T05:50:22.597507Z",
     "shell.execute_reply.started": "2021-08-16T02:22:44.236101Z"
    },
    "papermill": {
     "duration": 0.714999,
     "end_time": "2021-08-31T05:50:22.597669",
     "exception": false,
     "start_time": "2021-08-31T05:50:21.882670",
     "status": "completed"
    },
    "tags": []
   },
   "outputs": [],
   "source": [
    "pseudo = pd.read_csv(\"../input/blending-tool-tps-aug-2021/file1_7.84987_file2_7.84996_blend.csv\")[target]\n",
    "test_pseudo = pd.concat([test, pseudo], axis=1)\n",
    "all_pseudo = pd.concat([train, test_pseudo]).reset_index(drop=True)"
   ]
  },
  {
   "cell_type": "markdown",
   "id": "eea44916",
   "metadata": {
    "papermill": {
     "duration": 0.012331,
     "end_time": "2021-08-31T05:50:22.622598",
     "exception": false,
     "start_time": "2021-08-31T05:50:22.610267",
     "status": "completed"
    },
    "tags": []
   },
   "source": [
    "# XGB"
   ]
  },
  {
   "cell_type": "code",
   "execution_count": 8,
   "id": "49077e51",
   "metadata": {
    "execution": {
     "iopub.execute_input": "2021-08-31T05:50:22.652649Z",
     "iopub.status.busy": "2021-08-31T05:50:22.651858Z",
     "iopub.status.idle": "2021-08-31T05:50:22.654612Z",
     "shell.execute_reply": "2021-08-31T05:50:22.654200Z"
    },
    "papermill": {
     "duration": 0.019687,
     "end_time": "2021-08-31T05:50:22.654713",
     "exception": false,
     "start_time": "2021-08-31T05:50:22.635026",
     "status": "completed"
    },
    "tags": []
   },
   "outputs": [],
   "source": [
    "xgb_params = {\n",
    "    'objective': 'reg:squarederror',    \n",
    "    'n_estimators': N_ESTIMATORS,\n",
    "    'importance_type': 'total_gain',\n",
    "    'tree_method': 'gpu_hist',   \n",
    "    'booster': 'gbtree',\n",
    "    'n_jobs':-1,\n",
    "    \n",
    "    'learning_rate': 0.006926882143879833, \n",
    "    'subsample': 0.7665578211019899, \n",
    "    'colsample_bytree': 0.551350454117138,\n",
    "    'max_depth': 21,\n",
    "    'lambda': 2.7649143275388735, \n",
    "    'alpha': 26.355021643568286,\n",
    "    'min_child_weight': 417.1915305746212\n",
    "}\n"
   ]
  },
  {
   "cell_type": "code",
   "execution_count": 9,
   "id": "a9fb0a1c",
   "metadata": {
    "execution": {
     "iopub.execute_input": "2021-08-31T05:50:22.694717Z",
     "iopub.status.busy": "2021-08-31T05:50:22.693935Z",
     "iopub.status.idle": "2021-08-31T09:09:52.586277Z",
     "shell.execute_reply": "2021-08-31T09:09:52.587021Z"
    },
    "papermill": {
     "duration": 11969.91914,
     "end_time": "2021-08-31T09:09:52.587265",
     "exception": false,
     "start_time": "2021-08-31T05:50:22.668125",
     "status": "completed"
    },
    "tags": []
   },
   "outputs": [
    {
     "name": "stdout",
     "output_type": "stream",
     "text": [
      "===== fold 0 =====\n",
      "===== fold 1 =====\n",
      "===== fold 2 =====\n",
      "===== fold 3 =====\n",
      "===== fold 4 =====\n",
      "===== fold 5 =====\n",
      "[0]\tvalidation_0-rmse:10.13791\n",
      "[1000]\tvalidation_0-rmse:7.85391\n",
      "[2000]\tvalidation_0-rmse:7.83870\n",
      "[3000]\tvalidation_0-rmse:7.83456\n",
      "[4000]\tvalidation_0-rmse:7.83329\n",
      "[5000]\tvalidation_0-rmse:7.83184\n",
      "[5041]\tvalidation_0-rmse:7.83183\n",
      "[0]\tvalidation_0-rmse:7.83183\n",
      "[624]\tvalidation_0-rmse:7.83186\n",
      "[0]\tvalidation_0-rmse:10.13801\n",
      "[1000]\tvalidation_0-rmse:7.85531\n",
      "[2000]\tvalidation_0-rmse:7.83866\n",
      "[3000]\tvalidation_0-rmse:7.83336\n",
      "[3940]\tvalidation_0-rmse:7.83278\n",
      "[0]\tvalidation_0-rmse:7.83278\n",
      "[1000]\tvalidation_0-rmse:7.83257\n",
      "[1488]\tvalidation_0-rmse:7.83251\n",
      "[0]\tvalidation_0-rmse:10.13782\n",
      "[1000]\tvalidation_0-rmse:7.85639\n",
      "[2000]\tvalidation_0-rmse:7.84119\n",
      "[3000]\tvalidation_0-rmse:7.83765\n",
      "[4000]\tvalidation_0-rmse:7.83515\n",
      "[4327]\tvalidation_0-rmse:7.83557\n",
      "[0]\tvalidation_0-rmse:7.83557\n",
      "[1000]\tvalidation_0-rmse:7.83535\n",
      "[2000]\tvalidation_0-rmse:7.83520\n",
      "[2562]\tvalidation_0-rmse:7.83519\n",
      "fold 5 - xgb rmse: 7.829825, elapsed time: 2240.10sec\n",
      "\n",
      "===== fold 6 =====\n",
      "[0]\tvalidation_0-rmse:10.20894\n",
      "[1000]\tvalidation_0-rmse:7.90308\n",
      "[2000]\tvalidation_0-rmse:7.88803\n",
      "[3000]\tvalidation_0-rmse:7.88096\n",
      "[4000]\tvalidation_0-rmse:7.87781\n",
      "[4805]\tvalidation_0-rmse:7.87732\n",
      "[0]\tvalidation_0-rmse:7.87735\n",
      "[1000]\tvalidation_0-rmse:7.87719\n",
      "[1338]\tvalidation_0-rmse:7.87724\n",
      "[0]\tvalidation_0-rmse:10.20908\n",
      "[1000]\tvalidation_0-rmse:7.90109\n",
      "[2000]\tvalidation_0-rmse:7.88577\n",
      "[3000]\tvalidation_0-rmse:7.88036\n",
      "[4000]\tvalidation_0-rmse:7.87832\n",
      "[4760]\tvalidation_0-rmse:7.87694\n",
      "[0]\tvalidation_0-rmse:7.87689\n",
      "[508]\tvalidation_0-rmse:7.87685\n",
      "[0]\tvalidation_0-rmse:10.20888\n",
      "[1000]\tvalidation_0-rmse:7.90287\n",
      "[2000]\tvalidation_0-rmse:7.88681\n",
      "[3000]\tvalidation_0-rmse:7.87947\n",
      "[4000]\tvalidation_0-rmse:7.87665\n",
      "[4396]\tvalidation_0-rmse:7.87680\n",
      "[0]\tvalidation_0-rmse:7.87679\n",
      "[428]\tvalidation_0-rmse:7.87679\n",
      "fold 6 - xgb rmse: 7.873631, elapsed time: 2103.10sec\n",
      "\n",
      "===== fold 7 =====\n",
      "[0]\tvalidation_0-rmse:10.19698\n",
      "[1000]\tvalidation_0-rmse:7.90114\n",
      "[2000]\tvalidation_0-rmse:7.88739\n",
      "[3000]\tvalidation_0-rmse:7.88160\n",
      "[4000]\tvalidation_0-rmse:7.88108\n",
      "[4642]\tvalidation_0-rmse:7.88052\n",
      "[0]\tvalidation_0-rmse:7.88052\n",
      "[677]\tvalidation_0-rmse:7.88056\n",
      "[0]\tvalidation_0-rmse:10.19707\n",
      "[1000]\tvalidation_0-rmse:7.89832\n",
      "[2000]\tvalidation_0-rmse:7.88368\n",
      "[3000]\tvalidation_0-rmse:7.88062\n",
      "[4000]\tvalidation_0-rmse:7.87857\n",
      "[4005]\tvalidation_0-rmse:7.87846\n",
      "[0]\tvalidation_0-rmse:7.87844\n",
      "[1000]\tvalidation_0-rmse:7.87828\n",
      "[2000]\tvalidation_0-rmse:7.87810\n",
      "[2831]\tvalidation_0-rmse:7.87802\n",
      "[0]\tvalidation_0-rmse:10.19687\n",
      "[1000]\tvalidation_0-rmse:7.89851\n",
      "[2000]\tvalidation_0-rmse:7.88235\n",
      "[3000]\tvalidation_0-rmse:7.87714\n",
      "[4000]\tvalidation_0-rmse:7.87499\n",
      "[4285]\tvalidation_0-rmse:7.87537\n",
      "[0]\tvalidation_0-rmse:7.87533\n",
      "[1000]\tvalidation_0-rmse:7.87522\n",
      "[2000]\tvalidation_0-rmse:7.87507\n",
      "[2822]\tvalidation_0-rmse:7.87504\n",
      "fold 7 - xgb rmse: 7.874621, elapsed time: 2338.03sec\n",
      "\n",
      "===== fold 8 =====\n",
      "[0]\tvalidation_0-rmse:10.17892\n",
      "[1000]\tvalidation_0-rmse:7.88597\n",
      "[2000]\tvalidation_0-rmse:7.87072\n",
      "[3000]\tvalidation_0-rmse:7.86469\n",
      "[3811]\tvalidation_0-rmse:7.86353\n",
      "[0]\tvalidation_0-rmse:7.86353\n",
      "[1000]\tvalidation_0-rmse:7.86322\n",
      "[2000]\tvalidation_0-rmse:7.86297\n",
      "[3000]\tvalidation_0-rmse:7.86268\n",
      "[4000]\tvalidation_0-rmse:7.86244\n",
      "[5000]\tvalidation_0-rmse:7.86224\n",
      "[5908]\tvalidation_0-rmse:7.86214\n",
      "[0]\tvalidation_0-rmse:10.17885\n",
      "[1000]\tvalidation_0-rmse:7.88588\n",
      "[2000]\tvalidation_0-rmse:7.87030\n",
      "[3000]\tvalidation_0-rmse:7.86584\n",
      "[4000]\tvalidation_0-rmse:7.86367\n",
      "[4831]\tvalidation_0-rmse:7.86332\n",
      "[0]\tvalidation_0-rmse:7.86336\n",
      "[565]\tvalidation_0-rmse:7.86332\n",
      "[0]\tvalidation_0-rmse:10.17882\n",
      "[1000]\tvalidation_0-rmse:7.88498\n",
      "[2000]\tvalidation_0-rmse:7.87171\n",
      "[3000]\tvalidation_0-rmse:7.86465\n",
      "[4000]\tvalidation_0-rmse:7.86202\n",
      "[4464]\tvalidation_0-rmse:7.86176\n",
      "[0]\tvalidation_0-rmse:7.86177\n",
      "[1000]\tvalidation_0-rmse:7.86150\n",
      "[2000]\tvalidation_0-rmse:7.86127\n",
      "[3000]\tvalidation_0-rmse:7.86108\n",
      "[4000]\tvalidation_0-rmse:7.86099\n",
      "[5000]\tvalidation_0-rmse:7.86082\n",
      "[6000]\tvalidation_0-rmse:7.86070\n",
      "[6020]\tvalidation_0-rmse:7.86069\n",
      "fold 8 - xgb rmse: 7.858803, elapsed time: 2929.72sec\n",
      "\n",
      "===== fold 9 =====\n",
      "[0]\tvalidation_0-rmse:10.18448\n",
      "[1000]\tvalidation_0-rmse:7.86521\n",
      "[2000]\tvalidation_0-rmse:7.84992\n",
      "[3000]\tvalidation_0-rmse:7.84426\n",
      "[4000]\tvalidation_0-rmse:7.84200\n",
      "[5000]\tvalidation_0-rmse:7.84139\n",
      "[5007]\tvalidation_0-rmse:7.84140\n",
      "[0]\tvalidation_0-rmse:7.84141\n",
      "[300]\tvalidation_0-rmse:7.84143\n",
      "[0]\tvalidation_0-rmse:10.18453\n",
      "[1000]\tvalidation_0-rmse:7.86647\n",
      "[2000]\tvalidation_0-rmse:7.85063\n",
      "[3000]\tvalidation_0-rmse:7.84391\n",
      "[4000]\tvalidation_0-rmse:7.84050\n",
      "[4930]\tvalidation_0-rmse:7.83933\n",
      "[0]\tvalidation_0-rmse:7.83933\n",
      "[871]\tvalidation_0-rmse:7.83932\n",
      "[0]\tvalidation_0-rmse:10.18436\n",
      "[1000]\tvalidation_0-rmse:7.86500\n",
      "[2000]\tvalidation_0-rmse:7.84928\n",
      "[3000]\tvalidation_0-rmse:7.84399\n",
      "[4000]\tvalidation_0-rmse:7.84042\n",
      "[5000]\tvalidation_0-rmse:7.83912\n",
      "[5270]\tvalidation_0-rmse:7.83904\n",
      "[0]\tvalidation_0-rmse:7.83904\n",
      "[1000]\tvalidation_0-rmse:7.83882\n",
      "[2000]\tvalidation_0-rmse:7.83874\n",
      "[2070]\tvalidation_0-rmse:7.83872\n",
      "fold 9 - xgb rmse: 7.836255, elapsed time: 2355.89sec\n",
      "\n",
      "oof xgb_rmse = 9.213930946987928\n"
     ]
    }
   ],
   "source": [
    "xgb_oof = np.zeros(train.shape[0])\n",
    "xgb_pred = np.zeros(test.shape[0])\n",
    "xgb_importances = pd.DataFrame()\n",
    "\n",
    "\n",
    "kf = KFold(n_splits=N_SPLITS, shuffle=True, random_state=CVSEED)\n",
    "seed_list=[SEED, SEED+1, SEED+2]\n",
    "\n",
    "for fold, (trn_idx, val_idx) in enumerate(kf.split(X=all_pseudo[scale_features], y=all_pseudo[target])):\n",
    "    print(f\"===== fold {fold} =====\")\n",
    "    if fold >= 5:\n",
    "    \n",
    "        oof_idx = np.array([idx for idx in val_idx if idx < train.shape[0]])\n",
    "        preds_idx = np.array([idx for idx in val_idx if idx >= train.shape[0]])\n",
    "\n",
    "        X_train, y_train = all_pseudo[scale_features].iloc[trn_idx], all_pseudo[target].iloc[trn_idx]\n",
    "        #X_train = apply_noise_row(X_train)\n",
    "\n",
    "        X_valid, y_valid = all_pseudo[scale_features].iloc[oof_idx], all_pseudo[target].iloc[oof_idx]\n",
    "        X_test = all_pseudo[scale_features].iloc[preds_idx]\n",
    "\n",
    "\n",
    "\n",
    "        # XGB       \n",
    "        start = time.time()\n",
    "\n",
    "        for inseed in seed_list:\n",
    "            xgb_params['seed'] = inseed\n",
    "\n",
    "            pre_model = xgb.XGBRegressor(**xgb_params)\n",
    "            pre_model.fit(\n",
    "                X_train, \n",
    "                y_train,\n",
    "                eval_set=[(X_valid, y_valid)],\n",
    "                eval_metric='rmse',\n",
    "                early_stopping_rounds=EARLY_STOPPING_ROUNDS,\n",
    "                verbose=VERBOSE\n",
    "            )\n",
    "\n",
    "\n",
    "            xgb_params2 = xgb_params.copy()\n",
    "            xgb_params2['lambda'] *= 0.9\n",
    "            xgb_params2['alpha'] *= 0.9\n",
    "            xgb_params2['learning_rate'] *= 0.1\n",
    "            model = xgb.XGBRegressor(**xgb_params2)\n",
    "            model.fit(\n",
    "                    X_train, y_train,\n",
    "                    eval_set=[(X_valid, y_valid)],\n",
    "                    eval_metric='rmse',\n",
    "                    early_stopping_rounds=EARLY_STOPPING_ROUNDS,\n",
    "                    verbose=VERBOSE,\n",
    "                    xgb_model=pre_model\n",
    "            )    \n",
    "\n",
    "            with open(f\"xgb_model{fold}.pkl\", 'wb') as f:\n",
    "                pickle.dump(model, f)\n",
    "\n",
    "            fi_tmp = pd.DataFrame()\n",
    "            fi_tmp['feature'] = X_train.columns\n",
    "            fi_tmp['importance'] = model.feature_importances_\n",
    "            fi_tmp['fold'] = fold\n",
    "            fi_tmp['seed'] = inseed\n",
    "            xgb_importances = xgb_importances.append(fi_tmp)\n",
    "\n",
    "            xgb_oof[oof_idx] += model.predict(X_valid) / len(seed_list)\n",
    "            xgb_pred[preds_idx-train.shape[0]] += model.predict(X_test) / len(seed_list)\n",
    "\n",
    "        elapsed = time.time() - start\n",
    "        rmse = mean_squared_error(y_valid, xgb_oof[oof_idx], squared=False)\n",
    "        print(f\"fold {fold} - xgb rmse: {rmse:.6f}, elapsed time: {elapsed:.2f}sec\\n\")\n",
    "\n",
    "    \n",
    "        \n",
    "print(f\"oof xgb_rmse = {mean_squared_error(train[target], xgb_oof, squared=False)}\")\n",
    "\n",
    "np.save(\"xgb_oof.npy\", xgb_oof)\n",
    "np.save(\"xgb_pred.npy\", xgb_pred)\n"
   ]
  },
  {
   "cell_type": "markdown",
   "id": "4dfa3439",
   "metadata": {
    "papermill": {
     "duration": 0.081496,
     "end_time": "2021-08-31T09:09:52.760581",
     "exception": false,
     "start_time": "2021-08-31T09:09:52.679085",
     "status": "completed"
    },
    "tags": []
   },
   "source": [
    "# OOF predictions"
   ]
  },
  {
   "cell_type": "code",
   "execution_count": 10,
   "id": "6c33acdd",
   "metadata": {
    "execution": {
     "iopub.execute_input": "2021-08-31T09:09:52.934022Z",
     "iopub.status.busy": "2021-08-31T09:09:52.933217Z",
     "iopub.status.idle": "2021-08-31T09:09:53.899374Z",
     "shell.execute_reply": "2021-08-31T09:09:53.898707Z"
    },
    "papermill": {
     "duration": 1.05653,
     "end_time": "2021-08-31T09:09:53.899501",
     "exception": false,
     "start_time": "2021-08-31T09:09:52.842971",
     "status": "completed"
    },
    "tags": []
   },
   "outputs": [
    {
     "data": {
      "text/plain": [
       "<matplotlib.collections.PathCollection at 0x7f9b121fd5d0>"
      ]
     },
     "execution_count": 10,
     "metadata": {},
     "output_type": "execute_result"
    },
    {
     "data": {
      "image/png": "[encoded data removed]",
      "text/plain": [
       "<Figure size 432x288 with 1 Axes>"
      ]
     },
     "metadata": {
      "needs_background": "light"
     },
     "output_type": "display_data"
    }
   ],
   "source": [
    "plt.plot(train[target], train[target])\n",
    "plt.scatter(train[target], xgb_oof)"
   ]
  },
  {
   "cell_type": "markdown",
   "id": "6ad84777",
   "metadata": {
    "papermill": {
     "duration": 0.050339,
     "end_time": "2021-08-31T09:09:54.000669",
     "exception": false,
     "start_time": "2021-08-31T09:09:53.950330",
     "status": "completed"
    },
    "tags": []
   },
   "source": [
    "# Features importances"
   ]
  },
  {
   "cell_type": "code",
   "execution_count": 11,
   "id": "ea026fd0",
   "metadata": {
    "execution": {
     "iopub.execute_input": "2021-08-31T09:09:54.115273Z",
     "iopub.status.busy": "2021-08-31T09:09:54.114280Z",
     "iopub.status.idle": "2021-08-31T09:09:56.021589Z",
     "shell.execute_reply": "2021-08-31T09:09:56.021146Z"
    },
    "papermill": {
     "duration": 1.970235,
     "end_time": "2021-08-31T09:09:56.021716",
     "exception": false,
     "start_time": "2021-08-31T09:09:54.051481",
     "status": "completed"
    },
    "tags": []
   },
   "outputs": [
    {
     "data": {
      "text/plain": [
       "Text(0.5, 1.0, 'XGBoost feature importances')"
      ]
     },
     "execution_count": 11,
     "metadata": {},
     "output_type": "execute_result"
    },
    {
     "data": {
      "image/png": "[encoded data removed]",
      "text/plain": [
       "<Figure size 1152x1152 with 1 Axes>"
      ]
     },
     "metadata": {
      "needs_background": "light"
     },
     "output_type": "display_data"
    }
   ],
   "source": [
    "order = list(xgb_importances.groupby('feature').mean().sort_values('importance', ascending=False).index)\n",
    "\n",
    "fig = plt.figure(figsize=(16, 16), tight_layout=True)\n",
    "sns.barplot(x=\"importance\", y=\"feature\", data=xgb_importances.groupby('feature').mean().reset_index(), order=order)\n",
    "plt.title(\"XGBoost feature importances\")"
   ]
  },
  {
   "cell_type": "markdown",
   "id": "84ea12a4",
   "metadata": {
    "papermill": {
     "duration": 0.052277,
     "end_time": "2021-08-31T09:09:56.126842",
     "exception": false,
     "start_time": "2021-08-31T09:09:56.074565",
     "status": "completed"
    },
    "tags": []
   },
   "source": [
    "# Submission"
   ]
  },
  {
   "cell_type": "code",
   "execution_count": 12,
   "id": "f2a4838a",
   "metadata": {
    "execution": {
     "iopub.execute_input": "2021-08-31T09:09:56.235085Z",
     "iopub.status.busy": "2021-08-31T09:09:56.234529Z",
     "iopub.status.idle": "2021-08-31T09:09:56.630426Z",
     "shell.execute_reply": "2021-08-31T09:09:56.630010Z"
    },
    "papermill": {
     "duration": 0.451487,
     "end_time": "2021-08-31T09:09:56.630545",
     "exception": false,
     "start_time": "2021-08-31T09:09:56.179058",
     "status": "completed"
    },
    "tags": []
   },
   "outputs": [
    {
     "data": {
      "text/html": [
       "<div>\n",
       "<style scoped>\n",
       "    .dataframe tbody tr th:only-of-type {\n",
       "        vertical-align: middle;\n",
       "    }\n",
       "\n",
       "    .dataframe tbody tr th {\n",
       "        vertical-align: top;\n",
       "    }\n",
       "\n",
       "    .dataframe thead th {\n",
       "        text-align: right;\n",
       "    }\n",
       "</style>\n",
       "<table border=\"1\" class=\"dataframe\">\n",
       "  <thead>\n",
       "    <tr style=\"text-align: right;\">\n",
       "      <th></th>\n",
       "      <th>id</th>\n",
       "      <th>loss</th>\n",
       "    </tr>\n",
       "  </thead>\n",
       "  <tbody>\n",
       "    <tr>\n",
       "      <th>0</th>\n",
       "      <td>250000</td>\n",
       "      <td>0.000000</td>\n",
       "    </tr>\n",
       "    <tr>\n",
       "      <th>1</th>\n",
       "      <td>250001</td>\n",
       "      <td>5.237488</td>\n",
       "    </tr>\n",
       "    <tr>\n",
       "      <th>2</th>\n",
       "      <td>250002</td>\n",
       "      <td>0.000000</td>\n",
       "    </tr>\n",
       "    <tr>\n",
       "      <th>3</th>\n",
       "      <td>250003</td>\n",
       "      <td>0.000000</td>\n",
       "    </tr>\n",
       "    <tr>\n",
       "      <th>4</th>\n",
       "      <td>250004</td>\n",
       "      <td>0.000000</td>\n",
       "    </tr>\n",
       "    <tr>\n",
       "      <th>...</th>\n",
       "      <td>...</td>\n",
       "      <td>...</td>\n",
       "    </tr>\n",
       "    <tr>\n",
       "      <th>149995</th>\n",
       "      <td>399995</td>\n",
       "      <td>0.000000</td>\n",
       "    </tr>\n",
       "    <tr>\n",
       "      <th>149996</th>\n",
       "      <td>399996</td>\n",
       "      <td>0.000000</td>\n",
       "    </tr>\n",
       "    <tr>\n",
       "      <th>149997</th>\n",
       "      <td>399997</td>\n",
       "      <td>0.000000</td>\n",
       "    </tr>\n",
       "    <tr>\n",
       "      <th>149998</th>\n",
       "      <td>399998</td>\n",
       "      <td>0.000000</td>\n",
       "    </tr>\n",
       "    <tr>\n",
       "      <th>149999</th>\n",
       "      <td>399999</td>\n",
       "      <td>6.470632</td>\n",
       "    </tr>\n",
       "  </tbody>\n",
       "</table>\n",
       "<p>150000 rows × 2 columns</p>\n",
       "</div>"
      ],
      "text/plain": [
       "            id      loss\n",
       "0       250000  0.000000\n",
       "1       250001  5.237488\n",
       "2       250002  0.000000\n",
       "3       250003  0.000000\n",
       "4       250004  0.000000\n",
       "...        ...       ...\n",
       "149995  399995  0.000000\n",
       "149996  399996  0.000000\n",
       "149997  399997  0.000000\n",
       "149998  399998  0.000000\n",
       "149999  399999  6.470632\n",
       "\n",
       "[150000 rows x 2 columns]"
      ]
     },
     "execution_count": 12,
     "metadata": {},
     "output_type": "execute_result"
    }
   ],
   "source": [
    "submission[target] = xgb_pred\n",
    "submission.to_csv(\"submission.csv\", index=False)\n",
    "\n",
    "submission"
   ]
  },
  {
   "cell_type": "markdown",
   "id": "b2772a38",
   "metadata": {
    "papermill": {
     "duration": 0.052922,
     "end_time": "2021-08-31T09:09:56.737702",
     "exception": false,
     "start_time": "2021-08-31T09:09:56.684780",
     "status": "completed"
    },
    "tags": []
   },
   "source": [
    "# Log"
   ]
  },
  {
   "cell_type": "markdown",
   "id": "ba588284",
   "metadata": {
    "papermill": {
     "duration": 0.052909,
     "end_time": "2021-08-31T09:09:56.843917",
     "exception": false,
     "start_time": "2021-08-31T09:09:56.791008",
     "status": "completed"
    },
    "tags": []
   },
   "source": [
    "ver1 fold 0-4\n",
    "\n",
    "ver2 fold 5-9"
   ]
  }
 ],
 "metadata": {
  "kernelspec": {
   "display_name": "Python 3",
   "language": "python",
   "name": "python3"
  },
  "language_info": {
   "codemirror_mode": {
    "name": "ipython",
    "version": 3
   },
   "file_extension": ".py",
   "mimetype": "text/x-python",
   "name": "python",
   "nbconvert_exporter": "python",
   "pygments_lexer": "ipython3",
   "version": "3.7.10"
  },
  "papermill": {
   "default_parameters": {},
   "duration": 12006.200634,
   "end_time": "2021-08-31T09:09:58.895501",
   "environment_variables": {},
   "exception": null,
   "input_path": "__notebook__.ipynb",
   "output_path": "__notebook__.ipynb",
   "parameters": {},
   "start_time": "2021-08-31T05:49:52.694867",
   "version": "2.3.3"
  }
 },
 "nbformat": 4,
 "nbformat_minor": 5
}
