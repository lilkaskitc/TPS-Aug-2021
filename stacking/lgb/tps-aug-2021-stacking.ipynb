{
 "cells": [
  {
   "cell_type": "code",
   "execution_count": 1,
   "id": "b68eb67d",
   "metadata": {
    "_cell_guid": "b1076dfc-b9ad-4769-8c92-a6c4dae69d19",
    "_uuid": "8f2839f25d086af736a60e9eeb907d3b93b6e0e5",
    "execution": {
     "iopub.execute_input": "2021-08-28T13:52:10.835002Z",
     "iopub.status.busy": "2021-08-28T13:52:10.833847Z",
     "iopub.status.idle": "2021-08-28T13:52:13.064134Z",
     "shell.execute_reply": "2021-08-28T13:52:13.063397Z",
     "shell.execute_reply.started": "2021-08-26T08:22:56.819347Z"
    },
    "papermill": {
     "duration": 2.249889,
     "end_time": "2021-08-28T13:52:13.064298",
     "exception": false,
     "start_time": "2021-08-28T13:52:10.814409",
     "status": "completed"
    },
    "tags": []
   },
   "outputs": [
    {
     "data": {
      "text/html": [
       "<style type='text/css'>\n",
       ".datatable table.frame { margin-bottom: 0; }\n",
       ".datatable table.frame thead { border-bottom: none; }\n",
       ".datatable table.frame tr.coltypes td {  color: #FFFFFF;  line-height: 6px;  padding: 0 0.5em;}\n",
       ".datatable .bool    { background: #DDDD99; }\n",
       ".datatable .object  { background: #565656; }\n",
       ".datatable .int     { background: #5D9E5D; }\n",
       ".datatable .float   { background: #4040CC; }\n",
       ".datatable .str     { background: #CC4040; }\n",
       ".datatable .time    { background: #40CC40; }\n",
       ".datatable .row_index {  background: var(--jp-border-color3);  border-right: 1px solid var(--jp-border-color0);  color: var(--jp-ui-font-color3);  font-size: 9px;}\n",
       ".datatable .frame tbody td { text-align: left; }\n",
       ".datatable .frame tr.coltypes .row_index {  background: var(--jp-border-color0);}\n",
       ".datatable th:nth-child(2) { padding-left: 12px; }\n",
       ".datatable .hellipsis {  color: var(--jp-cell-editor-border-color);}\n",
       ".datatable .vellipsis {  background: var(--jp-layout-color0);  color: var(--jp-cell-editor-border-color);}\n",
       ".datatable .na {  color: var(--jp-cell-editor-border-color);  font-size: 80%;}\n",
       ".datatable .sp {  opacity: 0.25;}\n",
       ".datatable .footer { font-size: 9px; }\n",
       ".datatable .frame_dimensions {  background: var(--jp-border-color3);  border-top: 1px solid var(--jp-border-color0);  color: var(--jp-ui-font-color3);  display: inline-block;  opacity: 0.6;  padding: 1px 10px 1px 5px;}\n",
       "</style>\n"
      ],
      "text/plain": [
       "<IPython.core.display.HTML object>"
      ]
     },
     "metadata": {},
     "output_type": "display_data"
    }
   ],
   "source": [
    "# Familiar imports\n",
    "import numpy as np\n",
    "import pandas as pd\n",
    "import random\n",
    "import os\n",
    "import time\n",
    "from pathlib import Path\n",
    "import pickle\n",
    "\n",
    "from sklearn.preprocessing import StandardScaler\n",
    "from sklearn.model_selection import KFold, train_test_split\n",
    "from sklearn.metrics import mean_squared_error\n",
    "\n",
    "from scipy.optimize import minimize\n",
    "\n",
    "import lightgbm as lgb\n",
    "#import xgboost as xgb\n",
    "#import catboost as ctb\n",
    "\n",
    "import matplotlib.pyplot as plt\n",
    "import seaborn as sns\n",
    "\n",
    "import warnings\n",
    "warnings.simplefilter('ignore')"
   ]
  },
  {
   "cell_type": "markdown",
   "id": "28ddaf9e",
   "metadata": {
    "papermill": {
     "duration": 0.01572,
     "end_time": "2021-08-28T13:52:13.097954",
     "exception": false,
     "start_time": "2021-08-28T13:52:13.082234",
     "status": "completed"
    },
    "tags": []
   },
   "source": [
    "# Parameters"
   ]
  },
  {
   "cell_type": "code",
   "execution_count": 2,
   "id": "af26ca9b",
   "metadata": {
    "execution": {
     "iopub.execute_input": "2021-08-28T13:52:13.136232Z",
     "iopub.status.busy": "2021-08-28T13:52:13.135613Z",
     "iopub.status.idle": "2021-08-28T13:52:13.137474Z",
     "shell.execute_reply": "2021-08-28T13:52:13.137924Z",
     "shell.execute_reply.started": "2021-08-26T08:20:32.69147Z"
    },
    "papermill": {
     "duration": 0.023821,
     "end_time": "2021-08-28T13:52:13.138074",
     "exception": false,
     "start_time": "2021-08-28T13:52:13.114253",
     "status": "completed"
    },
    "tags": []
   },
   "outputs": [],
   "source": [
    "target = 'loss'\n",
    "\n",
    "DEBUG = False\n",
    "\n",
    "if DEBUG:\n",
    "    N_ESTIMATORS = 1\n",
    "    N_SPLITS = 2\n",
    "    SEED = 17\n",
    "    CVSEED = 17\n",
    "    EARLY_STOPPING_ROUNDS = 1\n",
    "    VERBOSE = 100\n",
    "    #N_ITERS = 2\n",
    "else:\n",
    "    N_SPLITS = 10\n",
    "    N_ESTIMATORS = 10000\n",
    "    EARLY_STOPPING_ROUNDS = 200\n",
    "    VERBOSE = 1000\n",
    "    SEED = 17\n",
    "    CVSEED = 17\n",
    "    #N_ITERS = 10"
   ]
  },
  {
   "cell_type": "code",
   "execution_count": 3,
   "id": "0dbe07ea",
   "metadata": {
    "execution": {
     "iopub.execute_input": "2021-08-28T13:52:13.174047Z",
     "iopub.status.busy": "2021-08-28T13:52:13.173379Z",
     "iopub.status.idle": "2021-08-28T13:52:13.177615Z",
     "shell.execute_reply": "2021-08-28T13:52:13.178098Z",
     "shell.execute_reply.started": "2021-08-26T08:20:32.698176Z"
    },
    "papermill": {
     "duration": 0.023886,
     "end_time": "2021-08-28T13:52:13.178243",
     "exception": false,
     "start_time": "2021-08-28T13:52:13.154357",
     "status": "completed"
    },
    "tags": []
   },
   "outputs": [],
   "source": [
    "def set_seed(seed=17):\n",
    "    random.seed(seed)\n",
    "    os.environ['PYTHONHASHSEED'] = str(seed)\n",
    "    np.random.seed(seed)\n",
    "    \n",
    "set_seed(SEED)"
   ]
  },
  {
   "cell_type": "markdown",
   "id": "ac69247b",
   "metadata": {
    "papermill": {
     "duration": 0.015711,
     "end_time": "2021-08-28T13:52:13.210172",
     "exception": false,
     "start_time": "2021-08-28T13:52:13.194461",
     "status": "completed"
    },
    "tags": []
   },
   "source": [
    "# Load data"
   ]
  },
  {
   "cell_type": "code",
   "execution_count": 4,
   "id": "fac59afd",
   "metadata": {
    "execution": {
     "iopub.execute_input": "2021-08-28T13:52:13.245614Z",
     "iopub.status.busy": "2021-08-28T13:52:13.244968Z",
     "iopub.status.idle": "2021-08-28T13:52:23.587314Z",
     "shell.execute_reply": "2021-08-28T13:52:23.586720Z",
     "shell.execute_reply.started": "2021-08-26T08:20:32.713338Z"
    },
    "papermill": {
     "duration": 10.361116,
     "end_time": "2021-08-28T13:52:23.587441",
     "exception": false,
     "start_time": "2021-08-28T13:52:13.226325",
     "status": "completed"
    },
    "tags": []
   },
   "outputs": [],
   "source": [
    "INPUT = Path(\"../input/tabular-playground-series-aug-2021\")\n",
    "\n",
    "train = pd.read_csv(INPUT / \"train.csv\")\n",
    "test = pd.read_csv(INPUT / \"test.csv\")\n",
    "submission = pd.read_csv(INPUT / \"sample_submission.csv\")"
   ]
  },
  {
   "cell_type": "code",
   "execution_count": 5,
   "id": "0c8b9b03",
   "metadata": {
    "execution": {
     "iopub.execute_input": "2021-08-28T13:52:23.623759Z",
     "iopub.status.busy": "2021-08-28T13:52:23.623066Z",
     "iopub.status.idle": "2021-08-28T13:52:23.855949Z",
     "shell.execute_reply": "2021-08-28T13:52:23.856419Z",
     "shell.execute_reply.started": "2021-08-26T08:20:43.946131Z"
    },
    "papermill": {
     "duration": 0.25374,
     "end_time": "2021-08-28T13:52:23.856649",
     "exception": false,
     "start_time": "2021-08-28T13:52:23.602909",
     "status": "completed"
    },
    "tags": []
   },
   "outputs": [],
   "source": [
    "train['lgb_pred'] = np.load(\"../input/tps-aug-2021-lgb/lgb_oof.npy\")\n",
    "test['lgb_pred'] = np.load(\"../input/tps-aug-2021-lgb/lgb_pred.npy\")\n",
    "\n",
    "train['xgb_pred'] = np.load(\"../input/tps-aug-2021-xgb/xgb_oof.npy\")\n",
    "test['xgb_pred'] = np.load(\"../input/tps-aug-2021-xgb/xgb_pred.npy\")\n",
    "\n",
    "train['xgb2_pred'] = np.load(\"../input/tps-aug-2021-xgb-pseudo2-pred/3xgb_oof.npy\")+np.load(\"../input/tps-aug-2021-xgb-pseudo2-pred/4xgb_oof.npy\")\n",
    "test['xgb2_pred'] = np.load(\"../input/tps-aug-2021-xgb-pseudo2-pred/3xgb_pred.npy\")+np.load(\"../input/tps-aug-2021-xgb-pseudo2-pred/4xgb_pred.npy\")\n",
    "\n",
    "train['ctb2_pred'] = np.load(\"../input/tps-aug-2021-catb-pseudo2/ctb_oof.npy\")\n",
    "test['ctb2_pred'] = np.load(\"../input/tps-aug-2021-catb-pseudo2/ctb_pred.npy\")"
   ]
  },
  {
   "cell_type": "markdown",
   "id": "6dde909d",
   "metadata": {
    "papermill": {
     "duration": 0.014954,
     "end_time": "2021-08-28T13:52:23.887580",
     "exception": false,
     "start_time": "2021-08-28T13:52:23.872626",
     "status": "completed"
    },
    "tags": []
   },
   "source": [
    "# Preprocessing"
   ]
  },
  {
   "cell_type": "code",
   "execution_count": 6,
   "id": "b69f32c5",
   "metadata": {
    "execution": {
     "iopub.execute_input": "2021-08-28T13:52:23.924504Z",
     "iopub.status.busy": "2021-08-28T13:52:23.923293Z",
     "iopub.status.idle": "2021-08-28T13:52:35.427462Z",
     "shell.execute_reply": "2021-08-28T13:52:35.426902Z",
     "shell.execute_reply.started": "2021-08-26T08:20:44.092008Z"
    },
    "papermill": {
     "duration": 11.525339,
     "end_time": "2021-08-28T13:52:35.427637",
     "exception": false,
     "start_time": "2021-08-28T13:52:23.902298",
     "status": "completed"
    },
    "tags": []
   },
   "outputs": [],
   "source": [
    "scale_features = [col for col in test.columns if 'f' in col]\n",
    "\n",
    "ss = StandardScaler()\n",
    "train[scale_features] = ss.fit_transform(train[scale_features])\n",
    "test[scale_features] = ss.transform(test[scale_features])"
   ]
  },
  {
   "cell_type": "code",
   "execution_count": 7,
   "id": "41e0f966",
   "metadata": {
    "execution": {
     "iopub.execute_input": "2021-08-28T13:52:35.467071Z",
     "iopub.status.busy": "2021-08-28T13:52:35.466439Z",
     "iopub.status.idle": "2021-08-28T13:52:35.468898Z",
     "shell.execute_reply": "2021-08-28T13:52:35.469317Z",
     "shell.execute_reply.started": "2021-08-26T08:20:56.437826Z"
    },
    "papermill": {
     "duration": 0.026155,
     "end_time": "2021-08-28T13:52:35.469488",
     "exception": false,
     "start_time": "2021-08-28T13:52:35.443333",
     "status": "completed"
    },
    "tags": []
   },
   "outputs": [],
   "source": [
    "# Swap noise\n",
    "\n",
    "# Random\n",
    "def apply_noise_rn(df, p=.75):\n",
    "    should_not_swap = np.random.binomial(1, p, df.shape)\n",
    "    corrupted_df = df.where(should_not_swap == 1, np.random.permutation(df))\n",
    "    return corrupted_df\n",
    "\n",
    "# Row-wise\n",
    "def apply_noise_row(df, p=.75):\n",
    "    should_not_swap = np.zeros(df.shape)\n",
    "    for i in range(df.shape[0]):\n",
    "        for j in np.random.choice(df.shape[1],int(p*df.shape[1]),replace=False):\n",
    "            should_not_swap[i,j]=1 \n",
    "    corrupted_df = df.where(should_not_swap == 1, np.random.permutation(df))\n",
    "    return corrupted_df"
   ]
  },
  {
   "cell_type": "markdown",
   "id": "ab0193bb",
   "metadata": {
    "papermill": {
     "duration": 0.015241,
     "end_time": "2021-08-28T13:52:35.500138",
     "exception": false,
     "start_time": "2021-08-28T13:52:35.484897",
     "status": "completed"
    },
    "tags": []
   },
   "source": [
    "# Pseudo Label"
   ]
  },
  {
   "cell_type": "code",
   "execution_count": 8,
   "id": "e768dd70",
   "metadata": {
    "execution": {
     "iopub.execute_input": "2021-08-28T13:52:35.537485Z",
     "iopub.status.busy": "2021-08-28T13:52:35.536884Z",
     "iopub.status.idle": "2021-08-28T13:52:36.331677Z",
     "shell.execute_reply": "2021-08-28T13:52:36.332125Z",
     "shell.execute_reply.started": "2021-08-26T08:20:56.446542Z"
    },
    "papermill": {
     "duration": 0.816326,
     "end_time": "2021-08-28T13:52:36.332295",
     "exception": false,
     "start_time": "2021-08-28T13:52:35.515969",
     "status": "completed"
    },
    "tags": []
   },
   "outputs": [],
   "source": [
    "pseudo = pd.read_csv(\"../input/blending-tool-tps-aug-2021/blend.csv/0.part\")[target]\n",
    "test_pseudo = pd.concat([test, pseudo], axis=1)\n",
    "all_pseudo = pd.concat([train, test_pseudo]).reset_index(drop=True)"
   ]
  },
  {
   "cell_type": "code",
   "execution_count": 9,
   "id": "6c74bdcc",
   "metadata": {
    "execution": {
     "iopub.execute_input": "2021-08-28T13:52:36.367969Z",
     "iopub.status.busy": "2021-08-28T13:52:36.367436Z",
     "iopub.status.idle": "2021-08-28T13:52:36.370361Z",
     "shell.execute_reply": "2021-08-28T13:52:36.369799Z",
     "shell.execute_reply.started": "2021-08-26T08:20:57.29311Z"
    },
    "papermill": {
     "duration": 0.022261,
     "end_time": "2021-08-28T13:52:36.370499",
     "exception": false,
     "start_time": "2021-08-28T13:52:36.348238",
     "status": "completed"
    },
    "tags": []
   },
   "outputs": [],
   "source": [
    "useful_features = scale_features + ['lgb_pred', 'xgb_pred','xgb2_pred','ctb2_pred']"
   ]
  },
  {
   "cell_type": "markdown",
   "id": "0848a271",
   "metadata": {
    "papermill": {
     "duration": 0.014418,
     "end_time": "2021-08-28T13:52:36.400320",
     "exception": false,
     "start_time": "2021-08-28T13:52:36.385902",
     "status": "completed"
    },
    "tags": []
   },
   "source": [
    "# LGB"
   ]
  },
  {
   "cell_type": "code",
   "execution_count": 10,
   "id": "ede6f174",
   "metadata": {
    "execution": {
     "iopub.execute_input": "2021-08-28T13:52:36.435560Z",
     "iopub.status.busy": "2021-08-28T13:52:36.434968Z",
     "iopub.status.idle": "2021-08-28T13:52:36.437919Z",
     "shell.execute_reply": "2021-08-28T13:52:36.438316Z",
     "shell.execute_reply.started": "2021-08-26T08:20:57.298637Z"
    },
    "papermill": {
     "duration": 0.022996,
     "end_time": "2021-08-28T13:52:36.438469",
     "exception": false,
     "start_time": "2021-08-28T13:52:36.415473",
     "status": "completed"
    },
    "tags": []
   },
   "outputs": [],
   "source": [
    "lgb_params  = {\n",
    "                    'objective': 'regression',\n",
    "              'metric':'rmse',\n",
    "                'importance_type': 'gain',\n",
    "               'n_estimators':N_ESTIMATORS,\n",
    "    \n",
    "             'learning_rate': 0.06708778228872987,\n",
    "             'subsample': 0.6682126072656112,\n",
    "             'colsample_bytree': 0.6797661362187238,\n",
    "             'subsample_freq': 4,\n",
    "             'reg_lambda': 29.62573177775194,\n",
    "             'reg_alpha': 8.474459963363486,\n",
    "             'min_child_weight': 109.35156229664032,\n",
    "             'min_child_samples': 143\n",
    "\n",
    "                }"
   ]
  },
  {
   "cell_type": "code",
   "execution_count": 11,
   "id": "9f3e0678",
   "metadata": {
    "execution": {
     "iopub.execute_input": "2021-08-28T13:52:36.484422Z",
     "iopub.status.busy": "2021-08-28T13:52:36.483805Z",
     "iopub.status.idle": "2021-08-28T14:06:01.382048Z",
     "shell.execute_reply": "2021-08-28T14:06:01.383082Z",
     "shell.execute_reply.started": "2021-08-26T08:20:57.312407Z"
    },
    "papermill": {
     "duration": 804.92948,
     "end_time": "2021-08-28T14:06:01.383326",
     "exception": false,
     "start_time": "2021-08-28T13:52:36.453846",
     "status": "completed"
    },
    "tags": []
   },
   "outputs": [
    {
     "name": "stdout",
     "output_type": "stream",
     "text": [
      "===== fold 0 =====\n",
      "Training until validation scores don't improve for 200 rounds\n",
      "Early stopping, best iteration is:\n",
      "[41]\tvalid_0's rmse: 7.76618\n",
      "Training until validation scores don't improve for 200 rounds\n",
      "Early stopping, best iteration is:\n",
      "[156]\tvalid_0's rmse: 7.76595\n",
      "Training until validation scores don't improve for 200 rounds\n",
      "Early stopping, best iteration is:\n",
      "[49]\tvalid_0's rmse: 7.76713\n",
      "Training until validation scores don't improve for 200 rounds\n",
      "Early stopping, best iteration is:\n",
      "[150]\tvalid_0's rmse: 7.76702\n",
      "Training until validation scores don't improve for 200 rounds\n",
      "Early stopping, best iteration is:\n",
      "[52]\tvalid_0's rmse: 7.76774\n",
      "Training until validation scores don't improve for 200 rounds\n",
      "Early stopping, best iteration is:\n",
      "[59]\tvalid_0's rmse: 7.76774\n",
      "fold 0 - lgb rmse: 7.766321, elapsed time: 81.32sec\n",
      "\n",
      "===== fold 1 =====\n",
      "Training until validation scores don't improve for 200 rounds\n",
      "Early stopping, best iteration is:\n",
      "[39]\tvalid_0's rmse: 7.72414\n",
      "Training until validation scores don't improve for 200 rounds\n",
      "Early stopping, best iteration is:\n",
      "[93]\tvalid_0's rmse: 7.72396\n",
      "Training until validation scores don't improve for 200 rounds\n",
      "Early stopping, best iteration is:\n",
      "[45]\tvalid_0's rmse: 7.72293\n",
      "Training until validation scores don't improve for 200 rounds\n",
      "Early stopping, best iteration is:\n",
      "[64]\tvalid_0's rmse: 7.72284\n",
      "Training until validation scores don't improve for 200 rounds\n",
      "Early stopping, best iteration is:\n",
      "[37]\tvalid_0's rmse: 7.72253\n",
      "Training until validation scores don't improve for 200 rounds\n",
      "Early stopping, best iteration is:\n",
      "[164]\tvalid_0's rmse: 7.72227\n",
      "fold 1 - lgb rmse: 7.722518, elapsed time: 84.14sec\n",
      "\n",
      "===== fold 2 =====\n",
      "Training until validation scores don't improve for 200 rounds\n",
      "Early stopping, best iteration is:\n",
      "[55]\tvalid_0's rmse: 7.81968\n",
      "Training until validation scores don't improve for 200 rounds\n",
      "Early stopping, best iteration is:\n",
      "[64]\tvalid_0's rmse: 7.81965\n",
      "Training until validation scores don't improve for 200 rounds\n",
      "Early stopping, best iteration is:\n",
      "[57]\tvalid_0's rmse: 7.82039\n",
      "Training until validation scores don't improve for 200 rounds\n",
      "Early stopping, best iteration is:\n",
      "[88]\tvalid_0's rmse: 7.82039\n",
      "Training until validation scores don't improve for 200 rounds\n",
      "Early stopping, best iteration is:\n",
      "[62]\tvalid_0's rmse: 7.81916\n",
      "Training until validation scores don't improve for 200 rounds\n",
      "Early stopping, best iteration is:\n",
      "[64]\tvalid_0's rmse: 7.81915\n",
      "fold 2 - lgb rmse: 7.819048, elapsed time: 75.51sec\n",
      "\n",
      "===== fold 3 =====\n",
      "Training until validation scores don't improve for 200 rounds\n",
      "Early stopping, best iteration is:\n",
      "[62]\tvalid_0's rmse: 7.77017\n",
      "Training until validation scores don't improve for 200 rounds\n",
      "Early stopping, best iteration is:\n",
      "[81]\tvalid_0's rmse: 7.77011\n",
      "Training until validation scores don't improve for 200 rounds\n",
      "Early stopping, best iteration is:\n",
      "[62]\tvalid_0's rmse: 7.77002\n",
      "Training until validation scores don't improve for 200 rounds\n",
      "Early stopping, best iteration is:\n",
      "[105]\tvalid_0's rmse: 7.76989\n",
      "Training until validation scores don't improve for 200 rounds\n",
      "Early stopping, best iteration is:\n",
      "[51]\tvalid_0's rmse: 7.76963\n",
      "Training until validation scores don't improve for 200 rounds\n",
      "Early stopping, best iteration is:\n",
      "[189]\tvalid_0's rmse: 7.76938\n",
      "fold 3 - lgb rmse: 7.769141, elapsed time: 81.34sec\n",
      "\n",
      "===== fold 4 =====\n",
      "Training until validation scores don't improve for 200 rounds\n",
      "Early stopping, best iteration is:\n",
      "[52]\tvalid_0's rmse: 7.77389\n",
      "Training until validation scores don't improve for 200 rounds\n",
      "Early stopping, best iteration is:\n",
      "[58]\tvalid_0's rmse: 7.77388\n",
      "Training until validation scores don't improve for 200 rounds\n",
      "Early stopping, best iteration is:\n",
      "[50]\tvalid_0's rmse: 7.77347\n",
      "Training until validation scores don't improve for 200 rounds\n",
      "Early stopping, best iteration is:\n",
      "[90]\tvalid_0's rmse: 7.77338\n",
      "Training until validation scores don't improve for 200 rounds\n",
      "Early stopping, best iteration is:\n",
      "[53]\tvalid_0's rmse: 7.7736\n",
      "Training until validation scores don't improve for 200 rounds\n",
      "Early stopping, best iteration is:\n",
      "[97]\tvalid_0's rmse: 7.77352\n",
      "fold 4 - lgb rmse: 7.772979, elapsed time: 75.40sec\n",
      "\n",
      "===== fold 5 =====\n",
      "Training until validation scores don't improve for 200 rounds\n",
      "Early stopping, best iteration is:\n",
      "[48]\tvalid_0's rmse: 7.83569\n",
      "Training until validation scores don't improve for 200 rounds\n",
      "Early stopping, best iteration is:\n",
      "[244]\tvalid_0's rmse: 7.83536\n",
      "Training until validation scores don't improve for 200 rounds\n",
      "Early stopping, best iteration is:\n",
      "[67]\tvalid_0's rmse: 7.83179\n",
      "Training until validation scores don't improve for 200 rounds\n",
      "Early stopping, best iteration is:\n",
      "[68]\tvalid_0's rmse: 7.83179\n",
      "Training until validation scores don't improve for 200 rounds\n",
      "Early stopping, best iteration is:\n",
      "[67]\tvalid_0's rmse: 7.83365\n",
      "Training until validation scores don't improve for 200 rounds\n",
      "Early stopping, best iteration is:\n",
      "[76]\tvalid_0's rmse: 7.83362\n",
      "fold 5 - lgb rmse: 7.832894, elapsed time: 81.65sec\n",
      "\n",
      "===== fold 6 =====\n",
      "Training until validation scores don't improve for 200 rounds\n",
      "Early stopping, best iteration is:\n",
      "[53]\tvalid_0's rmse: 7.87414\n",
      "Training until validation scores don't improve for 200 rounds\n",
      "Early stopping, best iteration is:\n",
      "[120]\tvalid_0's rmse: 7.87392\n",
      "Training until validation scores don't improve for 200 rounds\n",
      "Early stopping, best iteration is:\n",
      "[47]\tvalid_0's rmse: 7.87515\n",
      "Training until validation scores don't improve for 200 rounds\n",
      "Early stopping, best iteration is:\n",
      "[198]\tvalid_0's rmse: 7.87503\n",
      "Training until validation scores don't improve for 200 rounds\n",
      "Early stopping, best iteration is:\n",
      "[64]\tvalid_0's rmse: 7.87541\n",
      "Training until validation scores don't improve for 200 rounds\n",
      "Early stopping, best iteration is:\n",
      "[107]\tvalid_0's rmse: 7.87535\n",
      "fold 6 - lgb rmse: 7.874122, elapsed time: 82.34sec\n",
      "\n",
      "===== fold 7 =====\n",
      "Training until validation scores don't improve for 200 rounds\n",
      "Early stopping, best iteration is:\n",
      "[53]\tvalid_0's rmse: 7.87383\n",
      "Training until validation scores don't improve for 200 rounds\n",
      "Early stopping, best iteration is:\n",
      "[98]\tvalid_0's rmse: 7.87373\n",
      "Training until validation scores don't improve for 200 rounds\n",
      "Early stopping, best iteration is:\n",
      "[67]\tvalid_0's rmse: 7.87397\n",
      "Training until validation scores don't improve for 200 rounds\n",
      "Early stopping, best iteration is:\n",
      "[78]\tvalid_0's rmse: 7.87394\n",
      "Training until validation scores don't improve for 200 rounds\n",
      "Early stopping, best iteration is:\n",
      "[63]\tvalid_0's rmse: 7.87261\n",
      "Training until validation scores don't improve for 200 rounds\n",
      "Early stopping, best iteration is:\n",
      "[64]\tvalid_0's rmse: 7.87263\n",
      "fold 7 - lgb rmse: 7.872738, elapsed time: 72.90sec\n",
      "\n",
      "===== fold 8 =====\n",
      "Training until validation scores don't improve for 200 rounds\n",
      "Early stopping, best iteration is:\n",
      "[72]\tvalid_0's rmse: 7.86195\n",
      "Training until validation scores don't improve for 200 rounds\n",
      "Early stopping, best iteration is:\n",
      "[107]\tvalid_0's rmse: 7.86193\n",
      "Training until validation scores don't improve for 200 rounds\n",
      "Early stopping, best iteration is:\n",
      "[60]\tvalid_0's rmse: 7.86257\n",
      "Training until validation scores don't improve for 200 rounds\n",
      "Early stopping, best iteration is:\n",
      "[156]\tvalid_0's rmse: 7.8625\n",
      "Training until validation scores don't improve for 200 rounds\n",
      "Early stopping, best iteration is:\n",
      "[43]\tvalid_0's rmse: 7.86273\n",
      "Training until validation scores don't improve for 200 rounds\n",
      "Early stopping, best iteration is:\n",
      "[170]\tvalid_0's rmse: 7.86223\n",
      "fold 8 - lgb rmse: 7.861561, elapsed time: 80.79sec\n",
      "\n",
      "===== fold 9 =====\n",
      "Training until validation scores don't improve for 200 rounds\n",
      "Early stopping, best iteration is:\n",
      "[62]\tvalid_0's rmse: 7.8386\n",
      "Training until validation scores don't improve for 200 rounds\n",
      "Early stopping, best iteration is:\n",
      "[67]\tvalid_0's rmse: 7.83857\n",
      "Training until validation scores don't improve for 200 rounds\n",
      "Early stopping, best iteration is:\n",
      "[58]\tvalid_0's rmse: 7.83876\n",
      "Training until validation scores don't improve for 200 rounds\n",
      "Early stopping, best iteration is:\n",
      "[183]\tvalid_0's rmse: 7.83872\n",
      "Training until validation scores don't improve for 200 rounds\n",
      "Early stopping, best iteration is:\n",
      "[52]\tvalid_0's rmse: 7.8397\n",
      "Training until validation scores don't improve for 200 rounds\n",
      "Early stopping, best iteration is:\n",
      "[172]\tvalid_0's rmse: 7.8397\n",
      "fold 9 - lgb rmse: 7.838344, elapsed time: 83.24sec\n",
      "\n",
      "oof lgb_rmse = 7.813162436355538\n"
     ]
    }
   ],
   "source": [
    "lgb_oof = np.zeros(train.shape[0])\n",
    "lgb_pred = np.zeros(test.shape[0])\n",
    "lgb_importances = pd.DataFrame()\n",
    "\n",
    "\n",
    "kf = KFold(n_splits=N_SPLITS, shuffle=True, random_state=CVSEED)\n",
    "seed_list=[SEED, SEED+1, SEED+2]\n",
    "\n",
    "for fold, (trn_idx, val_idx) in enumerate(kf.split(X=all_pseudo[useful_features], y=all_pseudo[target])):\n",
    "    print(f\"===== fold {fold} =====\")\n",
    "    \n",
    "    oof_idx = np.array([idx for idx in val_idx if idx < train.shape[0]])\n",
    "    preds_idx = np.array([idx for idx in val_idx if idx >= train.shape[0]])\n",
    "    \n",
    "    X_train, y_train = all_pseudo[useful_features].iloc[trn_idx], all_pseudo[target].iloc[trn_idx]\n",
    "    #X_train = apply_noise_row(X_train)\n",
    "    \n",
    "    X_valid, y_valid = all_pseudo[useful_features].iloc[oof_idx], all_pseudo[target].iloc[oof_idx]\n",
    "    X_test = all_pseudo[useful_features].iloc[preds_idx]\n",
    "    \n",
    "    # LGB\n",
    "    start = time.time()\n",
    "    \n",
    "    for inseed in seed_list:\n",
    "        lgb_params['random_state'] = inseed\n",
    "    \n",
    "        pre_model = lgb.LGBMRegressor(**lgb_params)\n",
    "        pre_model.fit(\n",
    "            X_train, \n",
    "            y_train,\n",
    "            eval_set=[(X_valid, y_valid)],\n",
    "            eval_metric='rmse',\n",
    "            early_stopping_rounds=EARLY_STOPPING_ROUNDS,\n",
    "            verbose=VERBOSE,\n",
    "        )\n",
    "\n",
    "        lgb_params2 = lgb_params.copy()\n",
    "        lgb_params2['reg_lambda'] *= 0.9\n",
    "        lgb_params2['reg_alpha'] *= 0.9\n",
    "        lgb_params2['learning_rate'] *= 0.1\n",
    "        model = lgb.LGBMRegressor(**lgb_params2)\n",
    "        model.fit(\n",
    "                X_train, y_train,\n",
    "                eval_set=[(X_valid, y_valid)],\n",
    "                eval_metric='rmse',\n",
    "                early_stopping_rounds=EARLY_STOPPING_ROUNDS,\n",
    "                verbose=VERBOSE,\n",
    "                init_model=pre_model\n",
    "        )    \n",
    "\n",
    "        with open(f\"lgb_model{fold}.pkl\", 'wb') as f:\n",
    "            pickle.dump(model, f)\n",
    "\n",
    "        fi_tmp = pd.DataFrame()\n",
    "        fi_tmp['feature'] = model.feature_name_\n",
    "        fi_tmp['importance'] = model.feature_importances_\n",
    "        fi_tmp['fold'] = fold\n",
    "        fi_tmp['seed'] = inseed\n",
    "        lgb_importances = lgb_importances.append(fi_tmp)\n",
    "\n",
    "        lgb_oof[oof_idx] += model.predict(X_valid) / len(seed_list)\n",
    "        lgb_pred[preds_idx-train.shape[0]] += model.predict(X_test) / len(seed_list)\n",
    "    \n",
    "    elapsed = time.time() - start\n",
    "    rmse = mean_squared_error(y_valid, lgb_oof[oof_idx], squared=False)\n",
    "    print(f\"fold {fold} - lgb rmse: {rmse:.6f}, elapsed time: {elapsed:.2f}sec\\n\")\n",
    "\n",
    "        \n",
    "print(f\"oof lgb_rmse = {mean_squared_error(train[target], lgb_oof, squared=False)}\")\n",
    "\n",
    "np.save(\"lgb_oof.npy\", lgb_oof)\n",
    "np.save(\"lgb_pred.npy\", lgb_pred)"
   ]
  },
  {
   "cell_type": "markdown",
   "id": "c0eb6d01",
   "metadata": {
    "papermill": {
     "duration": 0.050101,
     "end_time": "2021-08-28T14:06:01.483990",
     "exception": false,
     "start_time": "2021-08-28T14:06:01.433889",
     "status": "completed"
    },
    "tags": []
   },
   "source": [
    "# OOF predictions"
   ]
  },
  {
   "cell_type": "code",
   "execution_count": 12,
   "id": "2b7ed412",
   "metadata": {
    "execution": {
     "iopub.execute_input": "2021-08-28T14:06:01.605503Z",
     "iopub.status.busy": "2021-08-28T14:06:01.604904Z",
     "iopub.status.idle": "2021-08-28T14:06:02.595778Z",
     "shell.execute_reply": "2021-08-28T14:06:02.595305Z",
     "shell.execute_reply.started": "2021-08-26T08:23:02.001295Z"
    },
    "papermill": {
     "duration": 1.061814,
     "end_time": "2021-08-28T14:06:02.595907",
     "exception": false,
     "start_time": "2021-08-28T14:06:01.534093",
     "status": "completed"
    },
    "tags": []
   },
   "outputs": [
    {
     "data": {
      "text/plain": [
       "<matplotlib.collections.PathCollection at 0x7f507d8f6d90>"
      ]
     },
     "execution_count": 12,
     "metadata": {},
     "output_type": "execute_result"
    },
    {
     "data": {
      "image/png": "[encoded data removed]",
      "text/plain": [
       "<Figure size 432x288 with 1 Axes>"
      ]
     },
     "metadata": {
      "needs_background": "light"
     },
     "output_type": "display_data"
    }
   ],
   "source": [
    "plt.plot(train[target], train[target])\n",
    "plt.scatter(train[target], lgb_oof)"
   ]
  },
  {
   "cell_type": "markdown",
   "id": "83483a60",
   "metadata": {
    "papermill": {
     "duration": 0.051177,
     "end_time": "2021-08-28T14:06:02.696936",
     "exception": false,
     "start_time": "2021-08-28T14:06:02.645759",
     "status": "completed"
    },
    "tags": []
   },
   "source": [
    "# Features importances"
   ]
  },
  {
   "cell_type": "code",
   "execution_count": 13,
   "id": "d73416c0",
   "metadata": {
    "execution": {
     "iopub.execute_input": "2021-08-28T14:06:02.809789Z",
     "iopub.status.busy": "2021-08-28T14:06:02.808824Z",
     "iopub.status.idle": "2021-08-28T14:06:04.819412Z",
     "shell.execute_reply": "2021-08-28T14:06:04.818844Z",
     "shell.execute_reply.started": "2021-08-26T08:23:03.090261Z"
    },
    "papermill": {
     "duration": 2.071529,
     "end_time": "2021-08-28T14:06:04.819570",
     "exception": false,
     "start_time": "2021-08-28T14:06:02.748041",
     "status": "completed"
    },
    "tags": []
   },
   "outputs": [
    {
     "data": {
      "text/plain": [
       "Text(0.5, 1.0, 'LightGBM feature importances')"
      ]
     },
     "execution_count": 13,
     "metadata": {},
     "output_type": "execute_result"
    },
    {
     "data": {
      "image/png": "[encoded data removed]",
      "text/plain": [
       "<Figure size 1152x1152 with 1 Axes>"
      ]
     },
     "metadata": {
      "needs_background": "light"
     },
     "output_type": "display_data"
    }
   ],
   "source": [
    "order = list(lgb_importances.groupby('feature').mean().sort_values('importance', ascending=False).index)\n",
    "\n",
    "fig = plt.figure(figsize=(16, 16), tight_layout=True)\n",
    "sns.barplot(x=\"importance\", y=\"feature\", data=lgb_importances.groupby('feature').mean().reset_index(), order=order)\n",
    "plt.title(\"LightGBM feature importances\")"
   ]
  },
  {
   "cell_type": "markdown",
   "id": "59aa9623",
   "metadata": {
    "papermill": {
     "duration": 0.052899,
     "end_time": "2021-08-28T14:06:04.924090",
     "exception": false,
     "start_time": "2021-08-28T14:06:04.871191",
     "status": "completed"
    },
    "tags": []
   },
   "source": [
    "# Submission"
   ]
  },
  {
   "cell_type": "code",
   "execution_count": 14,
   "id": "dfacba8c",
   "metadata": {
    "execution": {
     "iopub.execute_input": "2021-08-28T14:06:05.035388Z",
     "iopub.status.busy": "2021-08-28T14:06:05.034640Z",
     "iopub.status.idle": "2021-08-28T14:06:05.555986Z",
     "shell.execute_reply": "2021-08-28T14:06:05.555474Z",
     "shell.execute_reply.started": "2021-08-26T08:23:05.219314Z"
    },
    "papermill": {
     "duration": 0.579288,
     "end_time": "2021-08-28T14:06:05.556126",
     "exception": false,
     "start_time": "2021-08-28T14:06:04.976838",
     "status": "completed"
    },
    "tags": []
   },
   "outputs": [
    {
     "data": {
      "text/html": [
       "<div>\n",
       "<style scoped>\n",
       "    .dataframe tbody tr th:only-of-type {\n",
       "        vertical-align: middle;\n",
       "    }\n",
       "\n",
       "    .dataframe tbody tr th {\n",
       "        vertical-align: top;\n",
       "    }\n",
       "\n",
       "    .dataframe thead th {\n",
       "        text-align: right;\n",
       "    }\n",
       "</style>\n",
       "<table border=\"1\" class=\"dataframe\">\n",
       "  <thead>\n",
       "    <tr style=\"text-align: right;\">\n",
       "      <th></th>\n",
       "      <th>id</th>\n",
       "      <th>loss</th>\n",
       "    </tr>\n",
       "  </thead>\n",
       "  <tbody>\n",
       "    <tr>\n",
       "      <th>0</th>\n",
       "      <td>250000</td>\n",
       "      <td>8.049762</td>\n",
       "    </tr>\n",
       "    <tr>\n",
       "      <th>1</th>\n",
       "      <td>250001</td>\n",
       "      <td>5.163404</td>\n",
       "    </tr>\n",
       "    <tr>\n",
       "      <th>2</th>\n",
       "      <td>250002</td>\n",
       "      <td>9.170228</td>\n",
       "    </tr>\n",
       "    <tr>\n",
       "      <th>3</th>\n",
       "      <td>250003</td>\n",
       "      <td>8.093440</td>\n",
       "    </tr>\n",
       "    <tr>\n",
       "      <th>4</th>\n",
       "      <td>250004</td>\n",
       "      <td>6.868227</td>\n",
       "    </tr>\n",
       "    <tr>\n",
       "      <th>...</th>\n",
       "      <td>...</td>\n",
       "      <td>...</td>\n",
       "    </tr>\n",
       "    <tr>\n",
       "      <th>149995</th>\n",
       "      <td>399995</td>\n",
       "      <td>8.440449</td>\n",
       "    </tr>\n",
       "    <tr>\n",
       "      <th>149996</th>\n",
       "      <td>399996</td>\n",
       "      <td>7.883685</td>\n",
       "    </tr>\n",
       "    <tr>\n",
       "      <th>149997</th>\n",
       "      <td>399997</td>\n",
       "      <td>6.055704</td>\n",
       "    </tr>\n",
       "    <tr>\n",
       "      <th>149998</th>\n",
       "      <td>399998</td>\n",
       "      <td>5.205080</td>\n",
       "    </tr>\n",
       "    <tr>\n",
       "      <th>149999</th>\n",
       "      <td>399999</td>\n",
       "      <td>6.549660</td>\n",
       "    </tr>\n",
       "  </tbody>\n",
       "</table>\n",
       "<p>150000 rows × 2 columns</p>\n",
       "</div>"
      ],
      "text/plain": [
       "            id      loss\n",
       "0       250000  8.049762\n",
       "1       250001  5.163404\n",
       "2       250002  9.170228\n",
       "3       250003  8.093440\n",
       "4       250004  6.868227\n",
       "...        ...       ...\n",
       "149995  399995  8.440449\n",
       "149996  399996  7.883685\n",
       "149997  399997  6.055704\n",
       "149998  399998  5.205080\n",
       "149999  399999  6.549660\n",
       "\n",
       "[150000 rows x 2 columns]"
      ]
     },
     "execution_count": 14,
     "metadata": {},
     "output_type": "execute_result"
    }
   ],
   "source": [
    "submission[target] = lgb_pred\n",
    "submission.to_csv(\"submission.csv\", index=False)\n",
    "\n",
    "submission"
   ]
  }
 ],
 "metadata": {
  "kernelspec": {
   "display_name": "Python 3",
   "language": "python",
   "name": "python3"
  },
  "language_info": {
   "codemirror_mode": {
    "name": "ipython",
    "version": 3
   },
   "file_extension": ".py",
   "mimetype": "text/x-python",
   "name": "python",
   "nbconvert_exporter": "python",
   "pygments_lexer": "ipython3",
   "version": "3.7.10"
  },
  "papermill": {
   "default_parameters": {},
   "duration": 843.89149,
   "end_time": "2021-08-28T14:06:07.346283",
   "environment_variables": {},
   "exception": null,
   "input_path": "__notebook__.ipynb",
   "output_path": "__notebook__.ipynb",
   "parameters": {},
   "start_time": "2021-08-28T13:52:03.454793",
   "version": "2.3.3"
  }
 },
 "nbformat": 4,
 "nbformat_minor": 5
}
