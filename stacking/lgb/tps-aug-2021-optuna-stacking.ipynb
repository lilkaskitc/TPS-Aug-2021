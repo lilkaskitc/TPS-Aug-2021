{
 "cells": [
  {
   "cell_type": "code",
   "execution_count": 1,
   "id": "082ee743",
   "metadata": {
    "_cell_guid": "b1076dfc-b9ad-4769-8c92-a6c4dae69d19",
    "_uuid": "8f2839f25d086af736a60e9eeb907d3b93b6e0e5",
    "execution": {
     "iopub.execute_input": "2021-08-28T03:26:17.371130Z",
     "iopub.status.busy": "2021-08-28T03:26:17.367749Z",
     "iopub.status.idle": "2021-08-28T03:26:19.588452Z",
     "shell.execute_reply": "2021-08-28T03:26:19.587912Z",
     "shell.execute_reply.started": "2021-08-28T03:22:51.383706Z"
    },
    "papermill": {
     "duration": 2.243192,
     "end_time": "2021-08-28T03:26:19.588603",
     "exception": false,
     "start_time": "2021-08-28T03:26:17.345411",
     "status": "completed"
    },
    "tags": []
   },
   "outputs": [
    {
     "data": {
      "text/html": [
       "<style type='text/css'>\n",
       ".datatable table.frame { margin-bottom: 0; }\n",
       ".datatable table.frame thead { border-bottom: none; }\n",
       ".datatable table.frame tr.coltypes td {  color: #FFFFFF;  line-height: 6px;  padding: 0 0.5em;}\n",
       ".datatable .bool    { background: #DDDD99; }\n",
       ".datatable .object  { background: #565656; }\n",
       ".datatable .int     { background: #5D9E5D; }\n",
       ".datatable .float   { background: #4040CC; }\n",
       ".datatable .str     { background: #CC4040; }\n",
       ".datatable .time    { background: #40CC40; }\n",
       ".datatable .row_index {  background: var(--jp-border-color3);  border-right: 1px solid var(--jp-border-color0);  color: var(--jp-ui-font-color3);  font-size: 9px;}\n",
       ".datatable .frame tbody td { text-align: left; }\n",
       ".datatable .frame tr.coltypes .row_index {  background: var(--jp-border-color0);}\n",
       ".datatable th:nth-child(2) { padding-left: 12px; }\n",
       ".datatable .hellipsis {  color: var(--jp-cell-editor-border-color);}\n",
       ".datatable .vellipsis {  background: var(--jp-layout-color0);  color: var(--jp-cell-editor-border-color);}\n",
       ".datatable .na {  color: var(--jp-cell-editor-border-color);  font-size: 80%;}\n",
       ".datatable .sp {  opacity: 0.25;}\n",
       ".datatable .footer { font-size: 9px; }\n",
       ".datatable .frame_dimensions {  background: var(--jp-border-color3);  border-top: 1px solid var(--jp-border-color0);  color: var(--jp-ui-font-color3);  display: inline-block;  opacity: 0.6;  padding: 1px 10px 1px 5px;}\n",
       "</style>\n"
      ],
      "text/plain": [
       "<IPython.core.display.HTML object>"
      ]
     },
     "metadata": {},
     "output_type": "display_data"
    }
   ],
   "source": [
    "# Familiar imports\n",
    "import numpy as np\n",
    "import pandas as pd\n",
    "import random\n",
    "import os\n",
    "import time\n",
    "from pathlib import Path\n",
    "\n",
    "from sklearn.preprocessing import StandardScaler\n",
    "from sklearn.model_selection import KFold, train_test_split\n",
    "from sklearn.metrics import mean_squared_error\n",
    "\n",
    "import lightgbm as lgb\n",
    "#import xgboost as xgb\n",
    "#import catboost as ctb\n",
    "\n",
    "import warnings\n",
    "warnings.simplefilter('ignore')"
   ]
  },
  {
   "cell_type": "markdown",
   "id": "c848cadd",
   "metadata": {
    "papermill": {
     "duration": 0.011723,
     "end_time": "2021-08-28T03:26:19.616722",
     "exception": false,
     "start_time": "2021-08-28T03:26:19.604999",
     "status": "completed"
    },
    "tags": []
   },
   "source": [
    "# Parameters"
   ]
  },
  {
   "cell_type": "code",
   "execution_count": 2,
   "id": "8bf827b2",
   "metadata": {
    "execution": {
     "iopub.execute_input": "2021-08-28T03:26:19.645992Z",
     "iopub.status.busy": "2021-08-28T03:26:19.645483Z",
     "iopub.status.idle": "2021-08-28T03:26:19.648704Z",
     "shell.execute_reply": "2021-08-28T03:26:19.649078Z",
     "shell.execute_reply.started": "2021-08-28T03:22:51.391340Z"
    },
    "papermill": {
     "duration": 0.02031,
     "end_time": "2021-08-28T03:26:19.649228",
     "exception": false,
     "start_time": "2021-08-28T03:26:19.628918",
     "status": "completed"
    },
    "tags": []
   },
   "outputs": [],
   "source": [
    "target = 'loss'\n",
    "\n",
    "DEBUG = False\n",
    "\n",
    "if DEBUG:\n",
    "    N_ESTIMATORS = 1\n",
    "    N_SPLITS = 2\n",
    "    SEED = 17\n",
    "    CVSEED = 17\n",
    "    EARLY_STOPPING_ROUNDS = 1\n",
    "    VERBOSE = 100\n",
    "    #N_ITERS = 2\n",
    "else:\n",
    "    N_SPLITS = 10\n",
    "    N_ESTIMATORS = 10000\n",
    "    EARLY_STOPPING_ROUNDS = 200\n",
    "    VERBOSE = 1000\n",
    "    SEED = 17\n",
    "    CVSEED = 17\n",
    "    #N_ITERS = 10"
   ]
  },
  {
   "cell_type": "code",
   "execution_count": 3,
   "id": "3b8b1330",
   "metadata": {
    "execution": {
     "iopub.execute_input": "2021-08-28T03:26:19.678019Z",
     "iopub.status.busy": "2021-08-28T03:26:19.677521Z",
     "iopub.status.idle": "2021-08-28T03:26:19.681312Z",
     "shell.execute_reply": "2021-08-28T03:26:19.680796Z",
     "shell.execute_reply.started": "2021-08-28T03:22:51.403858Z"
    },
    "papermill": {
     "duration": 0.020028,
     "end_time": "2021-08-28T03:26:19.681426",
     "exception": false,
     "start_time": "2021-08-28T03:26:19.661398",
     "status": "completed"
    },
    "tags": []
   },
   "outputs": [],
   "source": [
    "def set_seed(seed=17):\n",
    "    random.seed(seed)\n",
    "    os.environ['PYTHONHASHSEED'] = str(seed)\n",
    "    np.random.seed(seed)\n",
    "    \n",
    "set_seed(SEED)"
   ]
  },
  {
   "cell_type": "markdown",
   "id": "5fb30a87",
   "metadata": {
    "papermill": {
     "duration": 0.01174,
     "end_time": "2021-08-28T03:26:19.705459",
     "exception": false,
     "start_time": "2021-08-28T03:26:19.693719",
     "status": "completed"
    },
    "tags": []
   },
   "source": [
    "# Load data"
   ]
  },
  {
   "cell_type": "code",
   "execution_count": 4,
   "id": "53338482",
   "metadata": {
    "execution": {
     "iopub.execute_input": "2021-08-28T03:26:19.734265Z",
     "iopub.status.busy": "2021-08-28T03:26:19.733599Z",
     "iopub.status.idle": "2021-08-28T03:26:27.729811Z",
     "shell.execute_reply": "2021-08-28T03:26:27.730355Z",
     "shell.execute_reply.started": "2021-08-28T03:22:51.416310Z"
    },
    "papermill": {
     "duration": 8.013008,
     "end_time": "2021-08-28T03:26:27.730497",
     "exception": false,
     "start_time": "2021-08-28T03:26:19.717489",
     "status": "completed"
    },
    "tags": []
   },
   "outputs": [],
   "source": [
    "INPUT = Path(\"../input/tabular-playground-series-aug-2021\")\n",
    "\n",
    "train = pd.read_csv(INPUT / \"train.csv\")\n",
    "test = pd.read_csv(INPUT / \"test.csv\")\n",
    "submission = pd.read_csv(INPUT / \"sample_submission.csv\")"
   ]
  },
  {
   "cell_type": "code",
   "execution_count": 5,
   "id": "c6940d5c",
   "metadata": {
    "execution": {
     "iopub.execute_input": "2021-08-28T03:26:27.757828Z",
     "iopub.status.busy": "2021-08-28T03:26:27.757196Z",
     "iopub.status.idle": "2021-08-28T03:26:28.060637Z",
     "shell.execute_reply": "2021-08-28T03:26:28.060165Z",
     "shell.execute_reply.started": "2021-08-28T03:22:58.979916Z"
    },
    "papermill": {
     "duration": 0.317815,
     "end_time": "2021-08-28T03:26:28.060785",
     "exception": false,
     "start_time": "2021-08-28T03:26:27.742970",
     "status": "completed"
    },
    "tags": []
   },
   "outputs": [],
   "source": [
    "train['lgb_pred'] = np.load(\"../input/tps-aug-2021-lgb/lgb_oof.npy\")\n",
    "test['lgb_pred'] = np.load(\"../input/tps-aug-2021-lgb/lgb_pred.npy\")\n",
    "\n",
    "train['xgb_pred'] = np.load(\"../input/tps-aug-2021-xgb/xgb_oof.npy\")\n",
    "test['xgb_pred'] = np.load(\"../input/tps-aug-2021-xgb/xgb_pred.npy\")\n",
    "\n",
    "train['xgb2_pred'] = np.load(\"../input/tps-aug-2021-xgb-pseudo2-pred/3xgb_oof.npy\")+np.load(\"../input/tps-aug-2021-xgb-pseudo2-pred/4xgb_oof.npy\")\n",
    "test['xgb2_pred'] = np.load(\"../input/tps-aug-2021-xgb-pseudo2-pred/3xgb_pred.npy\")+np.load(\"../input/tps-aug-2021-xgb-pseudo2-pred/4xgb_pred.npy\")\n",
    "\n",
    "train['ctb2_pred'] = np.load(\"../input/tps-aug-2021-catb-pseudo2/ctb_oof.npy\")\n",
    "test['ctb2_pred'] = np.load(\"../input/tps-aug-2021-catb-pseudo2/ctb_pred.npy\")\n"
   ]
  },
  {
   "cell_type": "markdown",
   "id": "175801ed",
   "metadata": {
    "papermill": {
     "duration": 0.012662,
     "end_time": "2021-08-28T03:26:28.086012",
     "exception": false,
     "start_time": "2021-08-28T03:26:28.073350",
     "status": "completed"
    },
    "tags": []
   },
   "source": [
    "# Preprocessing"
   ]
  },
  {
   "cell_type": "code",
   "execution_count": 6,
   "id": "30d21903",
   "metadata": {
    "execution": {
     "iopub.execute_input": "2021-08-28T03:26:28.116377Z",
     "iopub.status.busy": "2021-08-28T03:26:28.115656Z",
     "iopub.status.idle": "2021-08-28T03:26:33.566383Z",
     "shell.execute_reply": "2021-08-28T03:26:33.565678Z",
     "shell.execute_reply.started": "2021-08-28T03:22:59.025731Z"
    },
    "papermill": {
     "duration": 5.468205,
     "end_time": "2021-08-28T03:26:33.566496",
     "exception": false,
     "start_time": "2021-08-28T03:26:28.098291",
     "status": "completed"
    },
    "tags": []
   },
   "outputs": [],
   "source": [
    "scale_features = [col for col in test.columns if 'f' in col]\n",
    "\n",
    "ss = StandardScaler()\n",
    "train[scale_features] = ss.fit_transform(train[scale_features])\n",
    "test[scale_features] = ss.transform(test[scale_features])"
   ]
  },
  {
   "cell_type": "code",
   "execution_count": 7,
   "id": "a1829da3",
   "metadata": {
    "execution": {
     "iopub.execute_input": "2021-08-28T03:26:33.599389Z",
     "iopub.status.busy": "2021-08-28T03:26:33.598766Z",
     "iopub.status.idle": "2021-08-28T03:26:33.601944Z",
     "shell.execute_reply": "2021-08-28T03:26:33.602356Z",
     "shell.execute_reply.started": "2021-08-28T03:23:10.160665Z"
    },
    "papermill": {
     "duration": 0.022547,
     "end_time": "2021-08-28T03:26:33.602494",
     "exception": false,
     "start_time": "2021-08-28T03:26:33.579947",
     "status": "completed"
    },
    "tags": []
   },
   "outputs": [],
   "source": [
    "# Swap noise\n",
    "\n",
    "# Random\n",
    "def apply_noise_rn(df, p=.75):\n",
    "    should_not_swap = np.random.binomial(1, p, df.shape)\n",
    "    corrupted_df = df.where(should_not_swap == 1, np.random.permutation(df))\n",
    "    return corrupted_df\n",
    "\n",
    "# Row-wise\n",
    "def apply_noise_row(df, p=.75):\n",
    "    should_not_swap = np.zeros(df.shape)\n",
    "    for i in range(df.shape[0]):\n",
    "        for j in np.random.choice(df.shape[1],int(p*df.shape[1]),replace=False):\n",
    "            should_not_swap[i,j]=1 \n",
    "    corrupted_df = df.where(should_not_swap == 1, np.random.permutation(df))\n",
    "    return corrupted_df"
   ]
  },
  {
   "cell_type": "markdown",
   "id": "4196c1ad",
   "metadata": {
    "papermill": {
     "duration": 0.011796,
     "end_time": "2021-08-28T03:26:33.626514",
     "exception": false,
     "start_time": "2021-08-28T03:26:33.614718",
     "status": "completed"
    },
    "tags": []
   },
   "source": [
    "# Pseudo Label"
   ]
  },
  {
   "cell_type": "code",
   "execution_count": 8,
   "id": "e1a33064",
   "metadata": {
    "execution": {
     "iopub.execute_input": "2021-08-28T03:26:33.656304Z",
     "iopub.status.busy": "2021-08-28T03:26:33.655817Z",
     "iopub.status.idle": "2021-08-28T03:26:34.109965Z",
     "shell.execute_reply": "2021-08-28T03:26:34.109435Z",
     "shell.execute_reply.started": "2021-08-28T03:23:10.170848Z"
    },
    "papermill": {
     "duration": 0.471415,
     "end_time": "2021-08-28T03:26:34.110086",
     "exception": false,
     "start_time": "2021-08-28T03:26:33.638671",
     "status": "completed"
    },
    "tags": []
   },
   "outputs": [],
   "source": [
    "pseudo = pd.read_csv(\"../input/blending-tool-tps-aug-2021/blend.csv/0.part\")[target]\n",
    "test_pseudo = pd.concat([test, pseudo], axis=1)\n",
    "all_pseudo = pd.concat([train, test_pseudo]).reset_index(drop=True)"
   ]
  },
  {
   "cell_type": "code",
   "execution_count": 9,
   "id": "e859a2d4",
   "metadata": {
    "execution": {
     "iopub.execute_input": "2021-08-28T03:26:34.138896Z",
     "iopub.status.busy": "2021-08-28T03:26:34.138233Z",
     "iopub.status.idle": "2021-08-28T03:26:34.141618Z",
     "shell.execute_reply": "2021-08-28T03:26:34.141144Z",
     "shell.execute_reply.started": "2021-08-28T03:23:10.905963Z"
    },
    "papermill": {
     "duration": 0.019364,
     "end_time": "2021-08-28T03:26:34.141747",
     "exception": false,
     "start_time": "2021-08-28T03:26:34.122383",
     "status": "completed"
    },
    "tags": []
   },
   "outputs": [],
   "source": [
    "useful_features = scale_features + ['lgb_pred', 'xgb_pred','xgb2_pred','ctb2_pred']"
   ]
  },
  {
   "cell_type": "markdown",
   "id": "b23948fc",
   "metadata": {
    "papermill": {
     "duration": 0.011807,
     "end_time": "2021-08-28T03:26:34.165855",
     "exception": false,
     "start_time": "2021-08-28T03:26:34.154048",
     "status": "completed"
    },
    "tags": []
   },
   "source": [
    "# Optuna"
   ]
  },
  {
   "cell_type": "code",
   "execution_count": 10,
   "id": "caa185dc",
   "metadata": {
    "execution": {
     "iopub.execute_input": "2021-08-28T03:26:34.209515Z",
     "iopub.status.busy": "2021-08-28T03:26:34.208958Z",
     "iopub.status.idle": "2021-08-28T03:26:42.748359Z",
     "shell.execute_reply": "2021-08-28T03:26:42.747748Z",
     "shell.execute_reply.started": "2021-08-28T03:23:34.728181Z"
    },
    "papermill": {
     "duration": 8.569892,
     "end_time": "2021-08-28T03:26:42.748504",
     "exception": false,
     "start_time": "2021-08-28T03:26:34.178612",
     "status": "completed"
    },
    "tags": []
   },
   "outputs": [
    {
     "name": "stdout",
     "output_type": "stream",
     "text": [
      "\u001b[33mWARNING: Running pip as root will break packages and permissions. You should install packages reliably by using venv: https://pip.pypa.io/warnings/venv\u001b[0m\r\n"
     ]
    }
   ],
   "source": [
    "# Optuna for parameter search\n",
    "!pip install -q optuna\n",
    "\n",
    "import optuna\n",
    "import pickle"
   ]
  },
  {
   "cell_type": "code",
   "execution_count": 11,
   "id": "119bf826",
   "metadata": {
    "execution": {
     "iopub.execute_input": "2021-08-28T03:26:42.800405Z",
     "iopub.status.busy": "2021-08-28T03:26:42.799703Z",
     "iopub.status.idle": "2021-08-28T03:26:42.967600Z",
     "shell.execute_reply": "2021-08-28T03:26:42.968136Z",
     "shell.execute_reply.started": "2021-08-28T03:25:24.259485Z"
    },
    "papermill": {
     "duration": 0.20026,
     "end_time": "2021-08-28T03:26:42.968324",
     "exception": false,
     "start_time": "2021-08-28T03:26:42.768064",
     "status": "completed"
    },
    "tags": []
   },
   "outputs": [],
   "source": [
    "# for the fixed learning rate, use the opt n iterations and tune the tree hyperparameters\n",
    "def objective(trial, X=all_pseudo[useful_features], y=all_pseudo[target]):\n",
    "  \"\"\"\n",
    "  \"\"\"\n",
    "  param_space = {\n",
    "                    'objective': 'regression',\n",
    "              'metric':'rmse',\n",
    "               #'device':'gpu',  # Use GPU acceleration\n",
    "               # 'gpu_platform_id': 0,\n",
    "                #    'gpu_device_id': 0,\n",
    "               'n_estimators':N_ESTIMATORS,\n",
    "              'learning_rate':trial.suggest_uniform('learning_rate', 1e-3, 1e-1),\n",
    "               'subsample': trial.suggest_uniform('subsample', 0.2, 1.0),\n",
    "              'colsample_bytree':trial.suggest_uniform('colsample_bytree', 0.2, 1.0),\n",
    "                'subsample_freq': trial.suggest_int('subsample_freq', 1, 10),\n",
    "             #'boosting_type': 'gbdt',\n",
    "               'reg_lambda':trial.suggest_uniform('reg_lambda', 0.01, 50),\n",
    "              'reg_alpha':trial.suggest_uniform('reg_alpha', 0.01, 50),\n",
    "            'min_child_weight':trial.suggest_uniform('min_child_weight', 100, 500),\n",
    "                 'min_child_samples':trial.suggest_int('min_child_samples', 5, 250),\n",
    "          'importance_type': 'gain'\n",
    "                }\n",
    "            \n",
    "\n",
    "  seed_list=[SEED, SEED+1]\n",
    "  #kf = KFold(n_splits=N_SPLITS, shuffle=True, random_state=CVSEED)\n",
    "  lgb_oof = np.zeros(train.shape[0])\n",
    "  #lgb_pred = np.zeros(test.shape[0])\n",
    "  X_tr, X_va, y_tr, y_va = train_test_split(X,y,test_size=.2,random_state=CVSEED)\n",
    "  trn_idx = X_tr.index\n",
    "  val_idx = X_va.index\n",
    "  \n",
    "  \n",
    "  #for (trn_idx, val_idx) in enumerate(kf.split(X, y)):\n",
    "  #print(f\"===== fold {fold} =====\")\n",
    "  oof_idx = np.array([idx for idx in val_idx if idx < train.shape[0]])\n",
    "  preds_idx = np.array([idx for idx in val_idx if idx >= train.shape[0]])\n",
    "\n",
    "  X_train, y_train = all_pseudo[useful_features].iloc[trn_idx], all_pseudo[target].iloc[trn_idx]\n",
    "  #X_train = apply_noise_rn(X_train)\n",
    "\n",
    "  X_valid, y_valid = all_pseudo[useful_features].iloc[oof_idx], all_pseudo[target].iloc[oof_idx]\n",
    "  #X_test = all_pseudo[scale_features].iloc[preds_idx]\n",
    "\n",
    "  #start = time.time()\n",
    "  for inseed in seed_list:\n",
    "    param_space['random_state'] = inseed\n",
    "\n",
    "    model = lgb.LGBMRegressor(**param_space)\n",
    "    model.fit(\n",
    "        X_train, \n",
    "        y_train,\n",
    "        eval_set=[(X_valid, y_valid)],\n",
    "        eval_metric='rmse',\n",
    "        early_stopping_rounds=EARLY_STOPPING_ROUNDS,\n",
    "        verbose=VERBOSE,\n",
    "    )\n",
    "\n",
    "\n",
    "    lgb_oof[oof_idx] += model.predict(X_valid) / len(seed_list)\n",
    "    #lgb_pred[preds_idx-train.shape[0]] += model.predict(X_test) / len(seed_list)\n",
    "\n",
    "  #elapsed = time.time() - start\n",
    "  rmse = mean_squared_error(y_valid, lgb_oof[oof_idx], squared=False)\n",
    "  #print(f\"fold {fold} - lgb rmse: {rmse:.6f}, elapsed time: {elapsed:.2f}sec\\n\")            \n",
    "  \n",
    "  #print(f\"oof lgb_rmse = {mean_squared_error(train[target], lgb_oof, squared=False)}\")\n",
    "\n",
    "  \n",
    "  return rmse"
   ]
  },
  {
   "cell_type": "code",
   "execution_count": 12,
   "id": "8e553c5a",
   "metadata": {
    "execution": {
     "iopub.execute_input": "2021-08-28T03:26:43.013141Z",
     "iopub.status.busy": "2021-08-28T03:26:43.012543Z",
     "iopub.status.idle": "2021-08-28T03:46:47.736171Z",
     "shell.execute_reply": "2021-08-28T03:46:47.735578Z",
     "shell.execute_reply.started": "2021-08-28T03:25:26.830881Z"
    },
    "papermill": {
     "duration": 1204.748314,
     "end_time": "2021-08-28T03:46:47.736392",
     "exception": false,
     "start_time": "2021-08-28T03:26:42.988078",
     "status": "completed"
    },
    "tags": []
   },
   "outputs": [
    {
     "name": "stderr",
     "output_type": "stream",
     "text": [
      "\u001b[32m[I 2021-08-28 03:26:43,010]\u001b[0m A new study created in memory with name: no-name-5f6df95a-e3d4-474e-aa39-47bf4fa5e5e5\u001b[0m\n"
     ]
    },
    {
     "name": "stdout",
     "output_type": "stream",
     "text": [
      "Training until validation scores don't improve for 200 rounds\n",
      "Early stopping, best iteration is:\n",
      "[58]\tvalid_0's rmse: 7.74759\n",
      "Training until validation scores don't improve for 200 rounds\n"
     ]
    },
    {
     "name": "stderr",
     "output_type": "stream",
     "text": [
      "\u001b[32m[I 2021-08-28 03:27:16,298]\u001b[0m Trial 0 finished with value: 7.746530502556741 and parameters: {'learning_rate': 0.04744603349824434, 'subsample': 0.2835255174317608, 'colsample_bytree': 0.9352143587168733, 'subsample_freq': 5, 'reg_lambda': 13.47054249042285, 'reg_alpha': 47.719384953009964, 'min_child_weight': 232.5421357887502, 'min_child_samples': 243}. Best is trial 0 with value: 7.746530502556741.\u001b[0m\n"
     ]
    },
    {
     "name": "stdout",
     "output_type": "stream",
     "text": [
      "Early stopping, best iteration is:\n",
      "[51]\tvalid_0's rmse: 7.74727\n",
      "Training until validation scores don't improve for 200 rounds\n",
      "Early stopping, best iteration is:\n",
      "[38]\tvalid_0's rmse: 7.74527\n",
      "Training until validation scores don't improve for 200 rounds\n"
     ]
    },
    {
     "name": "stderr",
     "output_type": "stream",
     "text": [
      "\u001b[32m[I 2021-08-28 03:27:57,789]\u001b[0m Trial 1 finished with value: 7.744976969410505 and parameters: {'learning_rate': 0.08308531538923612, 'subsample': 0.7873530816742165, 'colsample_bytree': 0.899101218212899, 'subsample_freq': 2, 'reg_lambda': 48.30266168546053, 'reg_alpha': 14.520496808032021, 'min_child_weight': 188.07114783827754, 'min_child_samples': 192}. Best is trial 1 with value: 7.744976969410505.\u001b[0m\n"
     ]
    },
    {
     "name": "stdout",
     "output_type": "stream",
     "text": [
      "Early stopping, best iteration is:\n",
      "[29]\tvalid_0's rmse: 7.7456\n",
      "Training until validation scores don't improve for 200 rounds\n",
      "Early stopping, best iteration is:\n",
      "[748]\tvalid_0's rmse: 7.74555\n",
      "Training until validation scores don't improve for 200 rounds\n",
      "Early stopping, best iteration is:\n",
      "[774]\tvalid_0's rmse: 7.74493\n"
     ]
    },
    {
     "name": "stderr",
     "output_type": "stream",
     "text": [
      "\u001b[32m[I 2021-08-28 03:30:26,527]\u001b[0m Trial 2 finished with value: 7.74517113506254 and parameters: {'learning_rate': 0.003918913174636364, 'subsample': 0.4762508364480037, 'colsample_bytree': 0.9342995336598392, 'subsample_freq': 3, 'reg_lambda': 44.28194169429444, 'reg_alpha': 19.854236700748988, 'min_child_weight': 307.1653417580633, 'min_child_samples': 196}. Best is trial 1 with value: 7.744976969410505.\u001b[0m\n"
     ]
    },
    {
     "name": "stdout",
     "output_type": "stream",
     "text": [
      "Training until validation scores don't improve for 200 rounds\n",
      "Early stopping, best iteration is:\n",
      "[39]\tvalid_0's rmse: 7.74871\n",
      "Training until validation scores don't improve for 200 rounds\n"
     ]
    },
    {
     "name": "stderr",
     "output_type": "stream",
     "text": [
      "\u001b[32m[I 2021-08-28 03:30:56,763]\u001b[0m Trial 3 finished with value: 7.74655829680481 and parameters: {'learning_rate': 0.07341881804766599, 'subsample': 0.2848293054813087, 'colsample_bytree': 0.8921531844197947, 'subsample_freq': 8, 'reg_lambda': 37.247871965126876, 'reg_alpha': 45.02050762142054, 'min_child_weight': 129.60163558714265, 'min_child_samples': 122}. Best is trial 1 with value: 7.744976969410505.\u001b[0m\n"
     ]
    },
    {
     "name": "stdout",
     "output_type": "stream",
     "text": [
      "Early stopping, best iteration is:\n",
      "[32]\tvalid_0's rmse: 7.74704\n",
      "Training until validation scores don't improve for 200 rounds\n",
      "Early stopping, best iteration is:\n",
      "[104]\tvalid_0's rmse: 7.74545\n",
      "Training until validation scores don't improve for 200 rounds\n"
     ]
    },
    {
     "name": "stderr",
     "output_type": "stream",
     "text": [
      "\u001b[32m[I 2021-08-28 03:31:44,054]\u001b[0m Trial 4 finished with value: 7.7450836417357 and parameters: {'learning_rate': 0.03219538985423301, 'subsample': 0.7507789271155583, 'colsample_bytree': 0.7314662441487081, 'subsample_freq': 7, 'reg_lambda': 10.442473147329013, 'reg_alpha': 48.132531774325805, 'min_child_weight': 149.09123821577765, 'min_child_samples': 168}. Best is trial 1 with value: 7.744976969410505.\u001b[0m\n"
     ]
    },
    {
     "name": "stdout",
     "output_type": "stream",
     "text": [
      "Early stopping, best iteration is:\n",
      "[89]\tvalid_0's rmse: 7.7452\n",
      "Training until validation scores don't improve for 200 rounds\n",
      "Early stopping, best iteration is:\n",
      "[75]\tvalid_0's rmse: 7.74557\n",
      "Training until validation scores don't improve for 200 rounds\n"
     ]
    },
    {
     "name": "stderr",
     "output_type": "stream",
     "text": [
      "\u001b[32m[I 2021-08-28 03:32:22,671]\u001b[0m Trial 5 finished with value: 7.745903110486187 and parameters: {'learning_rate': 0.03445144830154262, 'subsample': 0.4466028737074312, 'colsample_bytree': 0.8791368642143944, 'subsample_freq': 3, 'reg_lambda': 6.51158570758308, 'reg_alpha': 11.796867575394904, 'min_child_weight': 109.06461082492504, 'min_child_samples': 210}. Best is trial 1 with value: 7.744976969410505.\u001b[0m\n"
     ]
    },
    {
     "name": "stdout",
     "output_type": "stream",
     "text": [
      "Early stopping, best iteration is:\n",
      "[85]\tvalid_0's rmse: 7.74705\n",
      "Training until validation scores don't improve for 200 rounds\n",
      "Early stopping, best iteration is:\n",
      "[291]\tvalid_0's rmse: 7.7468\n",
      "Training until validation scores don't improve for 200 rounds\n",
      "Early stopping, best iteration is:\n",
      "[346]\tvalid_0's rmse: 7.74705\n"
     ]
    },
    {
     "name": "stderr",
     "output_type": "stream",
     "text": [
      "\u001b[32m[I 2021-08-28 03:33:01,930]\u001b[0m Trial 6 finished with value: 7.746708452654075 and parameters: {'learning_rate': 0.008783996659195888, 'subsample': 0.2183137111581421, 'colsample_bytree': 0.5322732686309188, 'subsample_freq': 2, 'reg_lambda': 13.50360608985776, 'reg_alpha': 0.506715773644712, 'min_child_weight': 236.95878701187385, 'min_child_samples': 183}. Best is trial 1 with value: 7.744976969410505.\u001b[0m\n"
     ]
    },
    {
     "name": "stdout",
     "output_type": "stream",
     "text": [
      "Training until validation scores don't improve for 200 rounds\n",
      "Early stopping, best iteration is:\n",
      "[37]\tvalid_0's rmse: 7.7519\n",
      "Training until validation scores don't improve for 200 rounds\n"
     ]
    },
    {
     "name": "stderr",
     "output_type": "stream",
     "text": [
      "\u001b[32m[I 2021-08-28 03:33:17,915]\u001b[0m Trial 7 finished with value: 7.749492723283063 and parameters: {'learning_rate': 0.09754775711379254, 'subsample': 0.23570261532078396, 'colsample_bytree': 0.22536152691102487, 'subsample_freq': 8, 'reg_lambda': 49.96864723375021, 'reg_alpha': 14.52829966644013, 'min_child_weight': 260.14206378383324, 'min_child_samples': 203}. Best is trial 1 with value: 7.744976969410505.\u001b[0m\n"
     ]
    },
    {
     "name": "stdout",
     "output_type": "stream",
     "text": [
      "Early stopping, best iteration is:\n",
      "[28]\tvalid_0's rmse: 7.75094\n",
      "Training until validation scores don't improve for 200 rounds\n",
      "Early stopping, best iteration is:\n",
      "[58]\tvalid_0's rmse: 7.74602\n",
      "Training until validation scores don't improve for 200 rounds\n"
     ]
    },
    {
     "name": "stderr",
     "output_type": "stream",
     "text": [
      "\u001b[32m[I 2021-08-28 03:34:07,557]\u001b[0m Trial 8 finished with value: 7.745267856049535 and parameters: {'learning_rate': 0.04415218791608094, 'subsample': 0.6760217596931348, 'colsample_bytree': 0.9815665001048206, 'subsample_freq': 2, 'reg_lambda': 7.937272615594959, 'reg_alpha': 3.0356271183371932, 'min_child_weight': 427.101371589134, 'min_child_samples': 95}. Best is trial 1 with value: 7.744976969410505.\u001b[0m\n"
     ]
    },
    {
     "name": "stdout",
     "output_type": "stream",
     "text": [
      "Early stopping, best iteration is:\n",
      "[61]\tvalid_0's rmse: 7.74507\n",
      "Training until validation scores don't improve for 200 rounds\n",
      "Early stopping, best iteration is:\n",
      "[38]\tvalid_0's rmse: 7.74652\n",
      "Training until validation scores don't improve for 200 rounds\n"
     ]
    },
    {
     "name": "stderr",
     "output_type": "stream",
     "text": [
      "\u001b[32m[I 2021-08-28 03:34:32,964]\u001b[0m Trial 9 finished with value: 7.7464829546827785 and parameters: {'learning_rate': 0.08059856393180483, 'subsample': 0.7175166510211635, 'colsample_bytree': 0.44885789549533606, 'subsample_freq': 3, 'reg_lambda': 36.28673868795419, 'reg_alpha': 16.314934645993358, 'min_child_weight': 358.2155583268984, 'min_child_samples': 115}. Best is trial 1 with value: 7.744976969410505.\u001b[0m\n"
     ]
    },
    {
     "name": "stdout",
     "output_type": "stream",
     "text": [
      "Early stopping, best iteration is:\n",
      "[32]\tvalid_0's rmse: 7.74732\n",
      "Training until validation scores don't improve for 200 rounds\n",
      "Early stopping, best iteration is:\n",
      "[40]\tvalid_0's rmse: 7.74545\n",
      "Training until validation scores don't improve for 200 rounds\n"
     ]
    },
    {
     "name": "stderr",
     "output_type": "stream",
     "text": [
      "\u001b[32m[I 2021-08-28 03:35:10,239]\u001b[0m Trial 10 finished with value: 7.7450560930215575 and parameters: {'learning_rate': 0.09709467838259253, 'subsample': 0.9547008776208757, 'colsample_bytree': 0.7094454828071441, 'subsample_freq': 5, 'reg_lambda': 25.555692946313723, 'reg_alpha': 33.73826459848645, 'min_child_weight': 181.22950091609616, 'min_child_samples': 45}. Best is trial 1 with value: 7.744976969410505.\u001b[0m\n"
     ]
    },
    {
     "name": "stdout",
     "output_type": "stream",
     "text": [
      "Early stopping, best iteration is:\n",
      "[29]\tvalid_0's rmse: 7.74556\n",
      "Training until validation scores don't improve for 200 rounds\n",
      "Early stopping, best iteration is:\n",
      "[34]\tvalid_0's rmse: 7.74562\n",
      "Training until validation scores don't improve for 200 rounds\n"
     ]
    },
    {
     "name": "stderr",
     "output_type": "stream",
     "text": [
      "\u001b[32m[I 2021-08-28 03:35:48,236]\u001b[0m Trial 11 finished with value: 7.74534407329364 and parameters: {'learning_rate': 0.0991038637477068, 'subsample': 0.9990844943252951, 'colsample_bytree': 0.7141578312119812, 'subsample_freq': 5, 'reg_lambda': 24.746618264870552, 'reg_alpha': 32.918283634855726, 'min_child_weight': 175.60818095847736, 'min_child_samples': 35}. Best is trial 1 with value: 7.744976969410505.\u001b[0m\n"
     ]
    },
    {
     "name": "stdout",
     "output_type": "stream",
     "text": [
      "Early stopping, best iteration is:\n",
      "[32]\tvalid_0's rmse: 7.74578\n",
      "Training until validation scores don't improve for 200 rounds\n",
      "Early stopping, best iteration is:\n",
      "[36]\tvalid_0's rmse: 7.74547\n",
      "Training until validation scores don't improve for 200 rounds\n"
     ]
    },
    {
     "name": "stderr",
     "output_type": "stream",
     "text": [
      "\u001b[32m[I 2021-08-28 03:36:29,139]\u001b[0m Trial 12 finished with value: 7.744580555420945 and parameters: {'learning_rate': 0.07482173700430986, 'subsample': 0.9432860713025384, 'colsample_bytree': 0.7372164751083186, 'subsample_freq': 10, 'reg_lambda': 25.86449009515078, 'reg_alpha': 32.8371590794605, 'min_child_weight': 193.13591358983584, 'min_child_samples': 14}. Best is trial 12 with value: 7.744580555420945.\u001b[0m\n"
     ]
    },
    {
     "name": "stdout",
     "output_type": "stream",
     "text": [
      "Early stopping, best iteration is:\n",
      "[64]\tvalid_0's rmse: 7.74465\n",
      "Training until validation scores don't improve for 200 rounds\n",
      "Early stopping, best iteration is:\n",
      "[37]\tvalid_0's rmse: 7.7458\n",
      "Training until validation scores don't improve for 200 rounds\n"
     ]
    },
    {
     "name": "stderr",
     "output_type": "stream",
     "text": [
      "\u001b[32m[I 2021-08-28 03:37:09,298]\u001b[0m Trial 13 finished with value: 7.745071240372669 and parameters: {'learning_rate': 0.06722448233544273, 'subsample': 0.8805659969588169, 'colsample_bytree': 0.791439043851348, 'subsample_freq': 10, 'reg_lambda': 24.829547987153394, 'reg_alpha': 29.293682753771122, 'min_child_weight': 199.4339337614927, 'min_child_samples': 73}. Best is trial 12 with value: 7.744580555420945.\u001b[0m\n"
     ]
    },
    {
     "name": "stdout",
     "output_type": "stream",
     "text": [
      "Early stopping, best iteration is:\n",
      "[35]\tvalid_0's rmse: 7.74487\n",
      "Training until validation scores don't improve for 200 rounds\n",
      "Early stopping, best iteration is:\n",
      "[58]\tvalid_0's rmse: 7.7459\n",
      "Training until validation scores don't improve for 200 rounds\n"
     ]
    },
    {
     "name": "stderr",
     "output_type": "stream",
     "text": [
      "\u001b[32m[I 2021-08-28 03:37:43,030]\u001b[0m Trial 14 finished with value: 7.745657465902792 and parameters: {'learning_rate': 0.061542908405107496, 'subsample': 0.8457415202935383, 'colsample_bytree': 0.5766305427489353, 'subsample_freq': 10, 'reg_lambda': 0.540691415089551, 'reg_alpha': 40.12633065188566, 'min_child_weight': 299.0982094926036, 'min_child_samples': 151}. Best is trial 12 with value: 7.744580555420945.\u001b[0m\n"
     ]
    },
    {
     "name": "stdout",
     "output_type": "stream",
     "text": [
      "Early stopping, best iteration is:\n",
      "[49]\tvalid_0's rmse: 7.74614\n",
      "Training until validation scores don't improve for 200 rounds\n",
      "Early stopping, best iteration is:\n",
      "[40]\tvalid_0's rmse: 7.74561\n",
      "Training until validation scores don't improve for 200 rounds\n"
     ]
    },
    {
     "name": "stderr",
     "output_type": "stream",
     "text": [
      "\u001b[32m[I 2021-08-28 03:38:22,544]\u001b[0m Trial 15 finished with value: 7.744885862656994 and parameters: {'learning_rate': 0.08289375144998179, 'subsample': 0.8432727871996196, 'colsample_bytree': 0.8181004094104688, 'subsample_freq': 1, 'reg_lambda': 32.26283777501858, 'reg_alpha': 7.409147353280449, 'min_child_weight': 112.67993167228761, 'min_child_samples': 6}. Best is trial 12 with value: 7.744580555420945.\u001b[0m\n"
     ]
    },
    {
     "name": "stdout",
     "output_type": "stream",
     "text": [
      "Early stopping, best iteration is:\n",
      "[29]\tvalid_0's rmse: 7.74507\n",
      "Training until validation scores don't improve for 200 rounds\n",
      "Early stopping, best iteration is:\n",
      "[39]\tvalid_0's rmse: 7.74717\n",
      "Training until validation scores don't improve for 200 rounds\n"
     ]
    },
    {
     "name": "stderr",
     "output_type": "stream",
     "text": [
      "\u001b[32m[I 2021-08-28 03:38:48,891]\u001b[0m Trial 16 finished with value: 7.746947166559191 and parameters: {'learning_rate': 0.08352463670206897, 'subsample': 0.9396587365263801, 'colsample_bytree': 0.4152672179407155, 'subsample_freq': 7, 'reg_lambda': 34.09003465053139, 'reg_alpha': 23.526757553818403, 'min_child_weight': 125.16932689420136, 'min_child_samples': 5}. Best is trial 12 with value: 7.744580555420945.\u001b[0m\n"
     ]
    },
    {
     "name": "stdout",
     "output_type": "stream",
     "text": [
      "Early stopping, best iteration is:\n",
      "[41]\tvalid_0's rmse: 7.74752\n",
      "Training until validation scores don't improve for 200 rounds\n",
      "Early stopping, best iteration is:\n",
      "[56]\tvalid_0's rmse: 7.74671\n",
      "Training until validation scores don't improve for 200 rounds\n"
     ]
    },
    {
     "name": "stderr",
     "output_type": "stream",
     "text": [
      "\u001b[32m[I 2021-08-28 03:39:27,167]\u001b[0m Trial 17 finished with value: 7.744977401212421 and parameters: {'learning_rate': 0.06392922786087736, 'subsample': 0.5865237369933985, 'colsample_bytree': 0.79648829716662, 'subsample_freq': 9, 'reg_lambda': 29.577421647568535, 'reg_alpha': 4.664257537052478, 'min_child_weight': 489.13136916792985, 'min_child_samples': 11}. Best is trial 12 with value: 7.744580555420945.\u001b[0m\n"
     ]
    },
    {
     "name": "stdout",
     "output_type": "stream",
     "text": [
      "Early stopping, best iteration is:\n",
      "[41]\tvalid_0's rmse: 7.74461\n",
      "Training until validation scores don't improve for 200 rounds\n",
      "Early stopping, best iteration is:\n",
      "[35]\tvalid_0's rmse: 7.74633\n",
      "Training until validation scores don't improve for 200 rounds\n"
     ]
    },
    {
     "name": "stderr",
     "output_type": "stream",
     "text": [
      "\u001b[32m[I 2021-08-28 03:40:01,580]\u001b[0m Trial 18 finished with value: 7.745641806051556 and parameters: {'learning_rate': 0.08811807652910686, 'subsample': 0.8658620276459412, 'colsample_bytree': 0.6347122826173373, 'subsample_freq': 1, 'reg_lambda': 18.65251911982391, 'reg_alpha': 37.55566085293212, 'min_child_weight': 104.92502289856618, 'min_child_samples': 41}. Best is trial 12 with value: 7.744580555420945.\u001b[0m\n"
     ]
    },
    {
     "name": "stdout",
     "output_type": "stream",
     "text": [
      "Early stopping, best iteration is:\n",
      "[63]\tvalid_0's rmse: 7.74616\n",
      "Training until validation scores don't improve for 200 rounds\n",
      "Early stopping, best iteration is:\n",
      "[84]\tvalid_0's rmse: 7.74566\n",
      "Training until validation scores don't improve for 200 rounds\n"
     ]
    },
    {
     "name": "stderr",
     "output_type": "stream",
     "text": [
      "\u001b[32m[I 2021-08-28 03:40:44,314]\u001b[0m Trial 19 finished with value: 7.74498944402073 and parameters: {'learning_rate': 0.05605195381344236, 'subsample': 0.9908887256513148, 'colsample_bytree': 0.6486558614493592, 'subsample_freq': 6, 'reg_lambda': 41.1507384120151, 'reg_alpha': 26.21299341868407, 'min_child_weight': 294.74350553770194, 'min_child_samples': 70}. Best is trial 12 with value: 7.744580555420945.\u001b[0m\n"
     ]
    },
    {
     "name": "stdout",
     "output_type": "stream",
     "text": [
      "Early stopping, best iteration is:\n",
      "[63]\tvalid_0's rmse: 7.74489\n",
      "Training until validation scores don't improve for 200 rounds\n",
      "Early stopping, best iteration is:\n",
      "[33]\tvalid_0's rmse: 7.74599\n",
      "Training until validation scores don't improve for 200 rounds\n"
     ]
    },
    {
     "name": "stderr",
     "output_type": "stream",
     "text": [
      "\u001b[32m[I 2021-08-28 03:41:18,765]\u001b[0m Trial 20 finished with value: 7.7459492929529485 and parameters: {'learning_rate': 0.07475428124017809, 'subsample': 0.6182173145309335, 'colsample_bytree': 0.80926190242928, 'subsample_freq': 4, 'reg_lambda': 30.607248721638697, 'reg_alpha': 8.546798194950306, 'min_child_weight': 150.90271126129466, 'min_child_samples': 8}. Best is trial 12 with value: 7.744580555420945.\u001b[0m\n"
     ]
    },
    {
     "name": "stdout",
     "output_type": "stream",
     "text": [
      "Early stopping, best iteration is:\n",
      "[34]\tvalid_0's rmse: 7.74687\n",
      "Training until validation scores don't improve for 200 rounds\n",
      "Early stopping, best iteration is:\n",
      "[39]\tvalid_0's rmse: 7.74514\n",
      "Training until validation scores don't improve for 200 rounds\n"
     ]
    },
    {
     "name": "stderr",
     "output_type": "stream",
     "text": [
      "\u001b[32m[I 2021-08-28 03:41:58,556]\u001b[0m Trial 21 finished with value: 7.74486468639228 and parameters: {'learning_rate': 0.08862068322693592, 'subsample': 0.8235307812925255, 'colsample_bytree': 0.8400121328570277, 'subsample_freq': 1, 'reg_lambda': 48.574003313272236, 'reg_alpha': 9.068810863907077, 'min_child_weight': 194.09305833769616, 'min_child_samples': 240}. Best is trial 12 with value: 7.744580555420945.\u001b[0m\n"
     ]
    },
    {
     "name": "stdout",
     "output_type": "stream",
     "text": [
      "Early stopping, best iteration is:\n",
      "[30]\tvalid_0's rmse: 7.74549\n",
      "Training until validation scores don't improve for 200 rounds\n",
      "Early stopping, best iteration is:\n",
      "[36]\tvalid_0's rmse: 7.74582\n",
      "Training until validation scores don't improve for 200 rounds\n"
     ]
    },
    {
     "name": "stderr",
     "output_type": "stream",
     "text": [
      "\u001b[32m[I 2021-08-28 03:42:37,797]\u001b[0m Trial 22 finished with value: 7.745524356677362 and parameters: {'learning_rate': 0.09078613392577423, 'subsample': 0.8020258254952701, 'colsample_bytree': 0.8276387838704017, 'subsample_freq': 1, 'reg_lambda': 19.273195458405915, 'reg_alpha': 7.920515496945461, 'min_child_weight': 213.95088536343292, 'min_child_samples': 241}. Best is trial 12 with value: 7.744580555420945.\u001b[0m\n"
     ]
    },
    {
     "name": "stdout",
     "output_type": "stream",
     "text": [
      "Early stopping, best iteration is:\n",
      "[29]\tvalid_0's rmse: 7.74621\n",
      "Training until validation scores don't improve for 200 rounds\n",
      "Early stopping, best iteration is:\n",
      "[38]\tvalid_0's rmse: 7.74538\n",
      "Training until validation scores don't improve for 200 rounds\n"
     ]
    },
    {
     "name": "stderr",
     "output_type": "stream",
     "text": [
      "\u001b[32m[I 2021-08-28 03:43:31,122]\u001b[0m Trial 23 finished with value: 7.744900591123343 and parameters: {'learning_rate': 0.07552466334701005, 'subsample': 0.9210226772330463, 'colsample_bytree': 0.9830559267541416, 'subsample_freq': 1, 'reg_lambda': 41.72422185585016, 'reg_alpha': 20.259229416913314, 'min_child_weight': 262.56005230943384, 'min_child_samples': 30}. Best is trial 12 with value: 7.744580555420945.\u001b[0m\n"
     ]
    },
    {
     "name": "stdout",
     "output_type": "stream",
     "text": [
      "Early stopping, best iteration is:\n",
      "[57]\tvalid_0's rmse: 7.74527\n",
      "Training until validation scores don't improve for 200 rounds\n",
      "Early stopping, best iteration is:\n",
      "[32]\tvalid_0's rmse: 7.74546\n",
      "Training until validation scores don't improve for 200 rounds\n"
     ]
    },
    {
     "name": "stderr",
     "output_type": "stream",
     "text": [
      "\u001b[32m[I 2021-08-28 03:44:06,173]\u001b[0m Trial 24 finished with value: 7.745277554037198 and parameters: {'learning_rate': 0.0922848153565242, 'subsample': 0.8439975524581309, 'colsample_bytree': 0.7346729379133021, 'subsample_freq': 1, 'reg_lambda': 19.785106621461498, 'reg_alpha': 0.14248410813089762, 'min_child_weight': 155.733832248529, 'min_child_samples': 73}. Best is trial 12 with value: 7.744580555420945.\u001b[0m\n"
     ]
    },
    {
     "name": "stdout",
     "output_type": "stream",
     "text": [
      "Early stopping, best iteration is:\n",
      "[28]\tvalid_0's rmse: 7.74596\n",
      "Training until validation scores don't improve for 200 rounds\n",
      "Early stopping, best iteration is:\n",
      "[47]\tvalid_0's rmse: 7.74556\n",
      "Training until validation scores don't improve for 200 rounds\n"
     ]
    },
    {
     "name": "stderr",
     "output_type": "stream",
     "text": [
      "\u001b[32m[I 2021-08-28 03:44:38,425]\u001b[0m Trial 25 finished with value: 7.7443511015243764 and parameters: {'learning_rate': 0.06708778228872987, 'subsample': 0.6682126072656112, 'colsample_bytree': 0.6797661362187238, 'subsample_freq': 4, 'reg_lambda': 29.62573177775194, 'reg_alpha': 8.474459963363486, 'min_child_weight': 109.35156229664032, 'min_child_samples': 143}. Best is trial 25 with value: 7.7443511015243764.\u001b[0m\n"
     ]
    },
    {
     "name": "stdout",
     "output_type": "stream",
     "text": [
      "Early stopping, best iteration is:\n",
      "[39]\tvalid_0's rmse: 7.74406\n",
      "Training until validation scores don't improve for 200 rounds\n",
      "Early stopping, best iteration is:\n",
      "[41]\tvalid_0's rmse: 7.74744\n",
      "Training until validation scores don't improve for 200 rounds\n"
     ]
    },
    {
     "name": "stderr",
     "output_type": "stream",
     "text": [
      "\u001b[32m[I 2021-08-28 03:45:04,789]\u001b[0m Trial 26 finished with value: 7.74680059295163 and parameters: {'learning_rate': 0.06985997885311013, 'subsample': 0.5423231503785397, 'colsample_bytree': 0.5209609334913776, 'subsample_freq': 4, 'reg_lambda': 28.275446473838162, 'reg_alpha': 27.731685338924112, 'min_child_weight': 342.4781251799802, 'min_child_samples': 145}. Best is trial 25 with value: 7.7443511015243764.\u001b[0m\n"
     ]
    },
    {
     "name": "stdout",
     "output_type": "stream",
     "text": [
      "Early stopping, best iteration is:\n",
      "[36]\tvalid_0's rmse: 7.74714\n",
      "Training until validation scores don't improve for 200 rounds\n",
      "Early stopping, best iteration is:\n",
      "[57]\tvalid_0's rmse: 7.74571\n",
      "Training until validation scores don't improve for 200 rounds\n"
     ]
    },
    {
     "name": "stderr",
     "output_type": "stream",
     "text": [
      "\u001b[32m[I 2021-08-28 03:45:38,302]\u001b[0m Trial 27 finished with value: 7.745023332043146 and parameters: {'learning_rate': 0.05682019708094006, 'subsample': 0.6919822831964894, 'colsample_bytree': 0.6548279288832874, 'subsample_freq': 6, 'reg_lambda': 46.48518536129634, 'reg_alpha': 19.832001534528736, 'min_child_weight': 218.42714269587466, 'min_child_samples': 236}. Best is trial 25 with value: 7.7443511015243764.\u001b[0m\n"
     ]
    },
    {
     "name": "stdout",
     "output_type": "stream",
     "text": [
      "Early stopping, best iteration is:\n",
      "[48]\tvalid_0's rmse: 7.74509\n",
      "Training until validation scores don't improve for 200 rounds\n",
      "Early stopping, best iteration is:\n",
      "[44]\tvalid_0's rmse: 7.747\n",
      "Training until validation scores don't improve for 200 rounds\n"
     ]
    },
    {
     "name": "stderr",
     "output_type": "stream",
     "text": [
      "\u001b[32m[I 2021-08-28 03:46:11,793]\u001b[0m Trial 28 finished with value: 7.745961340353425 and parameters: {'learning_rate': 0.0589788477446095, 'subsample': 0.6319674745709629, 'colsample_bytree': 0.6810352173954924, 'subsample_freq': 4, 'reg_lambda': 38.4640752337413, 'reg_alpha': 41.39511900236889, 'min_child_weight': 260.94401483344757, 'min_child_samples': 223}. Best is trial 25 with value: 7.7443511015243764.\u001b[0m\n"
     ]
    },
    {
     "name": "stdout",
     "output_type": "stream",
     "text": [
      "Early stopping, best iteration is:\n",
      "[46]\tvalid_0's rmse: 7.74563\n",
      "Training until validation scores don't improve for 200 rounds\n",
      "Early stopping, best iteration is:\n",
      "[58]\tvalid_0's rmse: 7.74629\n",
      "Training until validation scores don't improve for 200 rounds\n"
     ]
    },
    {
     "name": "stderr",
     "output_type": "stream",
     "text": [
      "\u001b[32m[I 2021-08-28 03:46:47,678]\u001b[0m Trial 29 finished with value: 7.745309158485609 and parameters: {'learning_rate': 0.04756202181585209, 'subsample': 0.7650909083770525, 'colsample_bytree': 0.586204978685408, 'subsample_freq': 7, 'reg_lambda': 15.914689238099674, 'reg_alpha': 32.96590102044819, 'min_child_weight': 237.05384911756303, 'min_child_samples': 107}. Best is trial 25 with value: 7.7443511015243764.\u001b[0m\n"
     ]
    },
    {
     "name": "stdout",
     "output_type": "stream",
     "text": [
      "Early stopping, best iteration is:\n",
      "[92]\tvalid_0's rmse: 7.74526\n",
      "Number of finished trials: 30\n",
      "Best trial: {'learning_rate': 0.06708778228872987, 'subsample': 0.6682126072656112, 'colsample_bytree': 0.6797661362187238, 'subsample_freq': 4, 'reg_lambda': 29.62573177775194, 'reg_alpha': 8.474459963363486, 'min_child_weight': 109.35156229664032, 'min_child_samples': 143}\n"
     ]
    }
   ],
   "source": [
    "study = optuna.create_study(direction='minimize')\n",
    "study.optimize(objective,n_trials= 30)\n",
    "print('Number of finished trials:', len(study.trials))\n",
    "print('Best trial:', study.best_trial.params)"
   ]
  },
  {
   "cell_type": "code",
   "execution_count": 13,
   "id": "9b81bf40",
   "metadata": {
    "execution": {
     "iopub.execute_input": "2021-08-28T03:46:47.839678Z",
     "iopub.status.busy": "2021-08-28T03:46:47.839005Z",
     "iopub.status.idle": "2021-08-28T03:46:47.844233Z",
     "shell.execute_reply": "2021-08-28T03:46:47.844577Z"
    },
    "papermill": {
     "duration": 0.058845,
     "end_time": "2021-08-28T03:46:47.844745",
     "exception": false,
     "start_time": "2021-08-28T03:46:47.785900",
     "status": "completed"
    },
    "tags": []
   },
   "outputs": [
    {
     "data": {
      "text/plain": [
       "{'learning_rate': 0.06708778228872987,\n",
       " 'subsample': 0.6682126072656112,\n",
       " 'colsample_bytree': 0.6797661362187238,\n",
       " 'subsample_freq': 4,\n",
       " 'reg_lambda': 29.62573177775194,\n",
       " 'reg_alpha': 8.474459963363486,\n",
       " 'min_child_weight': 109.35156229664032,\n",
       " 'min_child_samples': 143}"
      ]
     },
     "execution_count": 13,
     "metadata": {},
     "output_type": "execute_result"
    }
   ],
   "source": [
    "study.best_params"
   ]
  },
  {
   "cell_type": "markdown",
   "id": "3829ad3f",
   "metadata": {
    "papermill": {
     "duration": 0.049678,
     "end_time": "2021-08-28T03:46:47.944154",
     "exception": false,
     "start_time": "2021-08-28T03:46:47.894476",
     "status": "completed"
    },
    "tags": []
   },
   "source": [
    "# Log\n",
    "\n",
    "===== 2 preds ======\n",
    "\n",
    "7.744188593192304 no noise ver1 final\n",
    "\n",
    "7.7462672672725175 row-wise ver3\n",
    "\n",
    "7.74692198293704 random ver4\n",
    "\n",
    "====== 4 preds ======"
   ]
  }
 ],
 "metadata": {
  "kernelspec": {
   "display_name": "Python 3",
   "language": "python",
   "name": "python3"
  },
  "language_info": {
   "codemirror_mode": {
    "name": "ipython",
    "version": 3
   },
   "file_extension": ".py",
   "mimetype": "text/x-python",
   "name": "python",
   "nbconvert_exporter": "python",
   "pygments_lexer": "ipython3",
   "version": "3.7.10"
  },
  "papermill": {
   "default_parameters": {},
   "duration": 1240.276215,
   "end_time": "2021-08-28T03:46:49.828951",
   "environment_variables": {},
   "exception": null,
   "input_path": "__notebook__.ipynb",
   "output_path": "__notebook__.ipynb",
   "parameters": {},
   "start_time": "2021-08-28T03:26:09.552736",
   "version": "2.3.3"
  }
 },
 "nbformat": 4,
 "nbformat_minor": 5
}
