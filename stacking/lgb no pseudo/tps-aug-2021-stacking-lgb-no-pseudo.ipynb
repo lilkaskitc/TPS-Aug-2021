{
 "cells": [
  {
   "cell_type": "markdown",
   "id": "0c668397",
   "metadata": {
    "papermill": {
     "duration": 0.020338,
     "end_time": "2021-08-29T01:58:24.295013",
     "exception": false,
     "start_time": "2021-08-29T01:58:24.274675",
     "status": "completed"
    },
    "tags": []
   },
   "source": [
    "# Libraries"
   ]
  },
  {
   "cell_type": "code",
   "execution_count": 1,
   "id": "55af2987",
   "metadata": {
    "_cell_guid": "b1076dfc-b9ad-4769-8c92-a6c4dae69d19",
    "_uuid": "8f2839f25d086af736a60e9eeb907d3b93b6e0e5",
    "execution": {
     "iopub.execute_input": "2021-08-29T01:58:24.344297Z",
     "iopub.status.busy": "2021-08-29T01:58:24.343638Z",
     "iopub.status.idle": "2021-08-29T01:58:26.820529Z",
     "shell.execute_reply": "2021-08-29T01:58:26.819140Z",
     "shell.execute_reply.started": "2021-08-29T01:54:40.423885Z"
    },
    "papermill": {
     "duration": 2.507133,
     "end_time": "2021-08-29T01:58:26.820724",
     "exception": false,
     "start_time": "2021-08-29T01:58:24.313591",
     "status": "completed"
    },
    "tags": []
   },
   "outputs": [
    {
     "data": {
      "text/html": [
       "<style type='text/css'>\n",
       ".datatable table.frame { margin-bottom: 0; }\n",
       ".datatable table.frame thead { border-bottom: none; }\n",
       ".datatable table.frame tr.coltypes td {  color: #FFFFFF;  line-height: 6px;  padding: 0 0.5em;}\n",
       ".datatable .bool    { background: #DDDD99; }\n",
       ".datatable .object  { background: #565656; }\n",
       ".datatable .int     { background: #5D9E5D; }\n",
       ".datatable .float   { background: #4040CC; }\n",
       ".datatable .str     { background: #CC4040; }\n",
       ".datatable .time    { background: #40CC40; }\n",
       ".datatable .row_index {  background: var(--jp-border-color3);  border-right: 1px solid var(--jp-border-color0);  color: var(--jp-ui-font-color3);  font-size: 9px;}\n",
       ".datatable .frame tbody td { text-align: left; }\n",
       ".datatable .frame tr.coltypes .row_index {  background: var(--jp-border-color0);}\n",
       ".datatable th:nth-child(2) { padding-left: 12px; }\n",
       ".datatable .hellipsis {  color: var(--jp-cell-editor-border-color);}\n",
       ".datatable .vellipsis {  background: var(--jp-layout-color0);  color: var(--jp-cell-editor-border-color);}\n",
       ".datatable .na {  color: var(--jp-cell-editor-border-color);  font-size: 80%;}\n",
       ".datatable .sp {  opacity: 0.25;}\n",
       ".datatable .footer { font-size: 9px; }\n",
       ".datatable .frame_dimensions {  background: var(--jp-border-color3);  border-top: 1px solid var(--jp-border-color0);  color: var(--jp-ui-font-color3);  display: inline-block;  opacity: 0.6;  padding: 1px 10px 1px 5px;}\n",
       "</style>\n"
      ],
      "text/plain": [
       "<IPython.core.display.HTML object>"
      ]
     },
     "metadata": {},
     "output_type": "display_data"
    }
   ],
   "source": [
    "from pathlib import Path\n",
    "import pandas as pd\n",
    "import numpy as np\n",
    "import pickle\n",
    "import random\n",
    "import time\n",
    "import os\n",
    "\n",
    "from sklearn.preprocessing import StandardScaler\n",
    "from sklearn.model_selection import KFold\n",
    "from sklearn.metrics import mean_squared_error\n",
    "\n",
    "from scipy.optimize import minimize\n",
    "\n",
    "import lightgbm as lgb\n",
    "#import xgboost as xgb\n",
    "#import catboost as ctb\n",
    "#from sklearn.linear_model import Ridge\n",
    "\n",
    "import matplotlib.pyplot as plt\n",
    "import seaborn as sns\n",
    "\n",
    "import warnings\n",
    "warnings.simplefilter('ignore')"
   ]
  },
  {
   "cell_type": "markdown",
   "id": "2ac1d53a",
   "metadata": {
    "papermill": {
     "duration": 0.017826,
     "end_time": "2021-08-29T01:58:26.856949",
     "exception": false,
     "start_time": "2021-08-29T01:58:26.839123",
     "status": "completed"
    },
    "tags": []
   },
   "source": [
    "# Parameters"
   ]
  },
  {
   "cell_type": "code",
   "execution_count": 2,
   "id": "43462c46",
   "metadata": {
    "execution": {
     "iopub.execute_input": "2021-08-29T01:58:26.898769Z",
     "iopub.status.busy": "2021-08-29T01:58:26.898085Z",
     "iopub.status.idle": "2021-08-29T01:58:26.901373Z",
     "shell.execute_reply": "2021-08-29T01:58:26.900882Z",
     "shell.execute_reply.started": "2021-08-29T01:54:40.431784Z"
    },
    "papermill": {
     "duration": 0.026768,
     "end_time": "2021-08-29T01:58:26.901530",
     "exception": false,
     "start_time": "2021-08-29T01:58:26.874762",
     "status": "completed"
    },
    "tags": []
   },
   "outputs": [],
   "source": [
    "target = 'loss'\n",
    "\n",
    "DEBUG = False\n",
    "\n",
    "if DEBUG:\n",
    "    N_ESTIMATORS = 1\n",
    "    N_SPLITS = 2\n",
    "    SEED = 17\n",
    "    CVSEED = 17\n",
    "    EARLY_STOPPING_ROUNDS = 1\n",
    "    VERBOSE = 100\n",
    "    #N_ITERS = 2\n",
    "else:\n",
    "    N_SPLITS = 10\n",
    "    N_ESTIMATORS = 10000\n",
    "    EARLY_STOPPING_ROUNDS = 200\n",
    "    VERBOSE = 1000\n",
    "    SEED = 17\n",
    "    CVSEED = 17\n",
    "    #N_ITERS = 10"
   ]
  },
  {
   "cell_type": "code",
   "execution_count": 3,
   "id": "3160bab8",
   "metadata": {
    "execution": {
     "iopub.execute_input": "2021-08-29T01:58:26.943838Z",
     "iopub.status.busy": "2021-08-29T01:58:26.943155Z",
     "iopub.status.idle": "2021-08-29T01:58:26.946545Z",
     "shell.execute_reply": "2021-08-29T01:58:26.945994Z",
     "shell.execute_reply.started": "2021-08-29T01:54:40.446584Z"
    },
    "papermill": {
     "duration": 0.027776,
     "end_time": "2021-08-29T01:58:26.946684",
     "exception": false,
     "start_time": "2021-08-29T01:58:26.918908",
     "status": "completed"
    },
    "tags": []
   },
   "outputs": [],
   "source": [
    "def set_seed(seed=17):\n",
    "    random.seed(seed)\n",
    "    os.environ['PYTHONHASHSEED'] = str(seed)\n",
    "    np.random.seed(seed)\n",
    "    \n",
    "set_seed(SEED)"
   ]
  },
  {
   "cell_type": "markdown",
   "id": "3da8e27b",
   "metadata": {
    "papermill": {
     "duration": 0.017089,
     "end_time": "2021-08-29T01:58:26.981243",
     "exception": false,
     "start_time": "2021-08-29T01:58:26.964154",
     "status": "completed"
    },
    "tags": []
   },
   "source": [
    "# Datasets"
   ]
  },
  {
   "cell_type": "code",
   "execution_count": 4,
   "id": "bab35ec1",
   "metadata": {
    "execution": {
     "iopub.execute_input": "2021-08-29T01:58:27.021467Z",
     "iopub.status.busy": "2021-08-29T01:58:27.020794Z",
     "iopub.status.idle": "2021-08-29T01:58:38.587341Z",
     "shell.execute_reply": "2021-08-29T01:58:38.587874Z",
     "shell.execute_reply.started": "2021-08-29T01:54:40.460944Z"
    },
    "papermill": {
     "duration": 11.587792,
     "end_time": "2021-08-29T01:58:38.588084",
     "exception": false,
     "start_time": "2021-08-29T01:58:27.000292",
     "status": "completed"
    },
    "tags": []
   },
   "outputs": [],
   "source": [
    "INPUT = Path(\"../input/tabular-playground-series-aug-2021\")\n",
    "\n",
    "train = pd.read_csv(INPUT / \"train.csv\")\n",
    "test = pd.read_csv(INPUT / \"test.csv\")\n",
    "submission = pd.read_csv(INPUT / \"sample_submission.csv\")\n"
   ]
  },
  {
   "cell_type": "code",
   "execution_count": 5,
   "id": "9ea0f7f5",
   "metadata": {
    "execution": {
     "iopub.execute_input": "2021-08-29T01:58:38.626828Z",
     "iopub.status.busy": "2021-08-29T01:58:38.626145Z",
     "iopub.status.idle": "2021-08-29T01:58:38.926893Z",
     "shell.execute_reply": "2021-08-29T01:58:38.926267Z",
     "shell.execute_reply.started": "2021-08-29T01:54:49.070686Z"
    },
    "papermill": {
     "duration": 0.321307,
     "end_time": "2021-08-29T01:58:38.927035",
     "exception": false,
     "start_time": "2021-08-29T01:58:38.605728",
     "status": "completed"
    },
    "tags": []
   },
   "outputs": [],
   "source": [
    "train['lgb_pred'] = np.load(\"../input/tps-aug-2021-lgb-no-pseudo/lgb_oof.npy\")\n",
    "test['lgb_pred'] = np.load(\"../input/tps-aug-2021-lgb-no-pseudo/lgb_pred.npy\")/10\n",
    "\n",
    "train['xgb_pred'] = np.load(\"../input/tps-aug-2021-xgb-no-pseudo-pred/3xgb_oof.npy\")+np.load(\"../input/tps-aug-2021-xgb-no-pseudo-pred/4xgb_oof.npy\")\n",
    "test['xgb_pred'] = (np.load(\"../input/tps-aug-2021-xgb-no-pseudo-pred/3xgb_pred.npy\")+np.load(\"../input/tps-aug-2021-xgb-no-pseudo-pred/4xgb_pred.npy\"))/10\n",
    "\n",
    "train['ctb_pred'] = np.load(\"../input/tps-aug-catb-no-pseudo/2ctb_oof.npy\")+np.load(\"../input/tps-aug-catb-no-pseudo/3ctb_oof.npy\")\n",
    "test['ctb_pred'] = (np.load(\"../input/tps-aug-catb-no-pseudo/2ctb_pred.npy\")+np.load(\"../input/tps-aug-catb-no-pseudo/3ctb_pred.npy\"))/10"
   ]
  },
  {
   "cell_type": "code",
   "execution_count": 6,
   "id": "065b5ef6",
   "metadata": {
    "execution": {
     "iopub.execute_input": "2021-08-29T01:58:38.965524Z",
     "iopub.status.busy": "2021-08-29T01:58:38.964886Z",
     "iopub.status.idle": "2021-08-29T01:58:39.007165Z",
     "shell.execute_reply": "2021-08-29T01:58:39.005984Z",
     "shell.execute_reply.started": "2021-08-29T01:56:06.916352Z"
    },
    "papermill": {
     "duration": 0.062743,
     "end_time": "2021-08-29T01:58:39.007342",
     "exception": false,
     "start_time": "2021-08-29T01:58:38.944599",
     "status": "completed"
    },
    "tags": []
   },
   "outputs": [
    {
     "data": {
      "text/html": [
       "<div>\n",
       "<style scoped>\n",
       "    .dataframe tbody tr th:only-of-type {\n",
       "        vertical-align: middle;\n",
       "    }\n",
       "\n",
       "    .dataframe tbody tr th {\n",
       "        vertical-align: top;\n",
       "    }\n",
       "\n",
       "    .dataframe thead th {\n",
       "        text-align: right;\n",
       "    }\n",
       "</style>\n",
       "<table border=\"1\" class=\"dataframe\">\n",
       "  <thead>\n",
       "    <tr style=\"text-align: right;\">\n",
       "      <th></th>\n",
       "      <th>id</th>\n",
       "      <th>f0</th>\n",
       "      <th>f1</th>\n",
       "      <th>f2</th>\n",
       "      <th>f3</th>\n",
       "      <th>f4</th>\n",
       "      <th>f5</th>\n",
       "      <th>f6</th>\n",
       "      <th>f7</th>\n",
       "      <th>f8</th>\n",
       "      <th>...</th>\n",
       "      <th>f93</th>\n",
       "      <th>f94</th>\n",
       "      <th>f95</th>\n",
       "      <th>f96</th>\n",
       "      <th>f97</th>\n",
       "      <th>f98</th>\n",
       "      <th>f99</th>\n",
       "      <th>lgb_pred</th>\n",
       "      <th>xgb_pred</th>\n",
       "      <th>ctb_pred</th>\n",
       "    </tr>\n",
       "  </thead>\n",
       "  <tbody>\n",
       "    <tr>\n",
       "      <th>0</th>\n",
       "      <td>250000</td>\n",
       "      <td>0.812665</td>\n",
       "      <td>15</td>\n",
       "      <td>-1.239120</td>\n",
       "      <td>-0.893251</td>\n",
       "      <td>295.5770</td>\n",
       "      <td>15.87120</td>\n",
       "      <td>23.04360</td>\n",
       "      <td>0.942256</td>\n",
       "      <td>29.898000</td>\n",
       "      <td>...</td>\n",
       "      <td>1.69075</td>\n",
       "      <td>1.059300</td>\n",
       "      <td>-3.010570</td>\n",
       "      <td>1.94664</td>\n",
       "      <td>0.529470</td>\n",
       "      <td>1.386950</td>\n",
       "      <td>8.78767</td>\n",
       "      <td>8.120738</td>\n",
       "      <td>7.732295</td>\n",
       "      <td>8.092161</td>\n",
       "    </tr>\n",
       "    <tr>\n",
       "      <th>1</th>\n",
       "      <td>250001</td>\n",
       "      <td>0.190344</td>\n",
       "      <td>131</td>\n",
       "      <td>-0.501361</td>\n",
       "      <td>0.801921</td>\n",
       "      <td>64.8866</td>\n",
       "      <td>3.09703</td>\n",
       "      <td>344.80500</td>\n",
       "      <td>0.807194</td>\n",
       "      <td>38.421900</td>\n",
       "      <td>...</td>\n",
       "      <td>1.84351</td>\n",
       "      <td>0.251895</td>\n",
       "      <td>4.440570</td>\n",
       "      <td>1.90309</td>\n",
       "      <td>0.248534</td>\n",
       "      <td>0.863881</td>\n",
       "      <td>11.79390</td>\n",
       "      <td>4.629908</td>\n",
       "      <td>4.877947</td>\n",
       "      <td>4.447047</td>\n",
       "    </tr>\n",
       "    <tr>\n",
       "      <th>2</th>\n",
       "      <td>250002</td>\n",
       "      <td>0.919671</td>\n",
       "      <td>19</td>\n",
       "      <td>-0.057382</td>\n",
       "      <td>0.901419</td>\n",
       "      <td>11961.2000</td>\n",
       "      <td>16.39650</td>\n",
       "      <td>273.24000</td>\n",
       "      <td>-0.003300</td>\n",
       "      <td>37.940000</td>\n",
       "      <td>...</td>\n",
       "      <td>1.55100</td>\n",
       "      <td>-0.559157</td>\n",
       "      <td>17.838600</td>\n",
       "      <td>1.83385</td>\n",
       "      <td>0.931796</td>\n",
       "      <td>2.336870</td>\n",
       "      <td>9.05400</td>\n",
       "      <td>8.572120</td>\n",
       "      <td>8.540636</td>\n",
       "      <td>8.321396</td>\n",
       "    </tr>\n",
       "    <tr>\n",
       "      <th>3</th>\n",
       "      <td>250003</td>\n",
       "      <td>0.860985</td>\n",
       "      <td>19</td>\n",
       "      <td>-0.549509</td>\n",
       "      <td>0.471799</td>\n",
       "      <td>7501.6000</td>\n",
       "      <td>2.80698</td>\n",
       "      <td>71.08170</td>\n",
       "      <td>0.792136</td>\n",
       "      <td>0.395235</td>\n",
       "      <td>...</td>\n",
       "      <td>1.41390</td>\n",
       "      <td>0.329272</td>\n",
       "      <td>0.802437</td>\n",
       "      <td>2.23251</td>\n",
       "      <td>0.893348</td>\n",
       "      <td>1.359470</td>\n",
       "      <td>4.84833</td>\n",
       "      <td>7.496467</td>\n",
       "      <td>7.472929</td>\n",
       "      <td>7.393689</td>\n",
       "    </tr>\n",
       "    <tr>\n",
       "      <th>4</th>\n",
       "      <td>250004</td>\n",
       "      <td>0.313229</td>\n",
       "      <td>89</td>\n",
       "      <td>0.588509</td>\n",
       "      <td>0.167705</td>\n",
       "      <td>2931.2600</td>\n",
       "      <td>4.34986</td>\n",
       "      <td>1.57187</td>\n",
       "      <td>1.118300</td>\n",
       "      <td>7.754630</td>\n",
       "      <td>...</td>\n",
       "      <td>1.58020</td>\n",
       "      <td>-0.191021</td>\n",
       "      <td>26.253000</td>\n",
       "      <td>2.68238</td>\n",
       "      <td>0.361923</td>\n",
       "      <td>1.532800</td>\n",
       "      <td>3.70660</td>\n",
       "      <td>7.207754</td>\n",
       "      <td>6.996287</td>\n",
       "      <td>7.297740</td>\n",
       "    </tr>\n",
       "  </tbody>\n",
       "</table>\n",
       "<p>5 rows × 104 columns</p>\n",
       "</div>"
      ],
      "text/plain": [
       "       id        f0   f1        f2        f3          f4        f5         f6  \\\n",
       "0  250000  0.812665   15 -1.239120 -0.893251    295.5770  15.87120   23.04360   \n",
       "1  250001  0.190344  131 -0.501361  0.801921     64.8866   3.09703  344.80500   \n",
       "2  250002  0.919671   19 -0.057382  0.901419  11961.2000  16.39650  273.24000   \n",
       "3  250003  0.860985   19 -0.549509  0.471799   7501.6000   2.80698   71.08170   \n",
       "4  250004  0.313229   89  0.588509  0.167705   2931.2600   4.34986    1.57187   \n",
       "\n",
       "         f7         f8  ...      f93       f94        f95      f96       f97  \\\n",
       "0  0.942256  29.898000  ...  1.69075  1.059300  -3.010570  1.94664  0.529470   \n",
       "1  0.807194  38.421900  ...  1.84351  0.251895   4.440570  1.90309  0.248534   \n",
       "2 -0.003300  37.940000  ...  1.55100 -0.559157  17.838600  1.83385  0.931796   \n",
       "3  0.792136   0.395235  ...  1.41390  0.329272   0.802437  2.23251  0.893348   \n",
       "4  1.118300   7.754630  ...  1.58020 -0.191021  26.253000  2.68238  0.361923   \n",
       "\n",
       "        f98       f99  lgb_pred  xgb_pred  ctb_pred  \n",
       "0  1.386950   8.78767  8.120738  7.732295  8.092161  \n",
       "1  0.863881  11.79390  4.629908  4.877947  4.447047  \n",
       "2  2.336870   9.05400  8.572120  8.540636  8.321396  \n",
       "3  1.359470   4.84833  7.496467  7.472929  7.393689  \n",
       "4  1.532800   3.70660  7.207754  6.996287  7.297740  \n",
       "\n",
       "[5 rows x 104 columns]"
      ]
     },
     "execution_count": 6,
     "metadata": {},
     "output_type": "execute_result"
    }
   ],
   "source": [
    "test.head()"
   ]
  },
  {
   "cell_type": "markdown",
   "id": "2d96ab86",
   "metadata": {
    "papermill": {
     "duration": 0.017939,
     "end_time": "2021-08-29T01:58:39.043947",
     "exception": false,
     "start_time": "2021-08-29T01:58:39.026008",
     "status": "completed"
    },
    "tags": []
   },
   "source": [
    "# Preprocessing"
   ]
  },
  {
   "cell_type": "code",
   "execution_count": 7,
   "id": "977fe865",
   "metadata": {
    "execution": {
     "iopub.execute_input": "2021-08-29T01:58:39.089579Z",
     "iopub.status.busy": "2021-08-29T01:58:39.088633Z",
     "iopub.status.idle": "2021-08-29T01:58:52.395187Z",
     "shell.execute_reply": "2021-08-29T01:58:52.394513Z",
     "shell.execute_reply.started": "2021-08-29T01:54:49.578109Z"
    },
    "papermill": {
     "duration": 13.332452,
     "end_time": "2021-08-29T01:58:52.395354",
     "exception": false,
     "start_time": "2021-08-29T01:58:39.062902",
     "status": "completed"
    },
    "tags": []
   },
   "outputs": [],
   "source": [
    "scale_features = [col for col in test.columns if 'f' in col]\n",
    "\n",
    "ss = StandardScaler()\n",
    "train[scale_features] = ss.fit_transform(train[scale_features])\n",
    "test[scale_features] = ss.transform(test[scale_features])\n"
   ]
  },
  {
   "cell_type": "code",
   "execution_count": 8,
   "id": "46337080",
   "metadata": {
    "execution": {
     "iopub.execute_input": "2021-08-29T01:58:52.440557Z",
     "iopub.status.busy": "2021-08-29T01:58:52.439854Z",
     "iopub.status.idle": "2021-08-29T01:58:52.443213Z",
     "shell.execute_reply": "2021-08-29T01:58:52.442700Z",
     "shell.execute_reply.started": "2021-08-29T01:55:02.569611Z"
    },
    "papermill": {
     "duration": 0.029633,
     "end_time": "2021-08-29T01:58:52.443355",
     "exception": false,
     "start_time": "2021-08-29T01:58:52.413722",
     "status": "completed"
    },
    "tags": []
   },
   "outputs": [],
   "source": [
    "# Swap noise\n",
    "\n",
    "# Random\n",
    "def apply_noise_rn(df, p=.75):\n",
    "    should_not_swap = np.random.binomial(1, p, df.shape)\n",
    "    corrupted_df = df.where(should_not_swap == 1, np.random.permutation(df))\n",
    "    return corrupted_df\n",
    "\n",
    "# Row-wise\n",
    "def apply_noise_row(df, p=.75):\n",
    "    should_not_swap = np.zeros(df.shape)\n",
    "    for i in range(df.shape[0]):\n",
    "        for j in np.random.choice(df.shape[1],int(p*df.shape[1]),replace=False):\n",
    "            should_not_swap[i,j]=1 \n",
    "    corrupted_df = df.where(should_not_swap == 1, np.random.permutation(df))\n",
    "    return corrupted_df\n",
    "    "
   ]
  },
  {
   "cell_type": "code",
   "execution_count": 9,
   "id": "c49ec1d9",
   "metadata": {
    "execution": {
     "iopub.execute_input": "2021-08-29T01:58:52.485979Z",
     "iopub.status.busy": "2021-08-29T01:58:52.485328Z",
     "iopub.status.idle": "2021-08-29T01:58:52.488930Z",
     "shell.execute_reply": "2021-08-29T01:58:52.488273Z",
     "shell.execute_reply.started": "2021-08-29T01:55:02.580916Z"
    },
    "papermill": {
     "duration": 0.027519,
     "end_time": "2021-08-29T01:58:52.489068",
     "exception": false,
     "start_time": "2021-08-29T01:58:52.461549",
     "status": "completed"
    },
    "tags": []
   },
   "outputs": [],
   "source": [
    "useful_features = scale_features + ['lgb_pred', 'xgb_pred','ctb_pred']"
   ]
  },
  {
   "cell_type": "markdown",
   "id": "82fd73c5",
   "metadata": {
    "papermill": {
     "duration": 0.017971,
     "end_time": "2021-08-29T01:58:52.525522",
     "exception": false,
     "start_time": "2021-08-29T01:58:52.507551",
     "status": "completed"
    },
    "tags": []
   },
   "source": [
    "# LGB"
   ]
  },
  {
   "cell_type": "code",
   "execution_count": 10,
   "id": "688e5d6e",
   "metadata": {
    "execution": {
     "iopub.execute_input": "2021-08-29T01:58:52.568779Z",
     "iopub.status.busy": "2021-08-29T01:58:52.568085Z",
     "iopub.status.idle": "2021-08-29T01:58:52.571566Z",
     "shell.execute_reply": "2021-08-29T01:58:52.571018Z",
     "shell.execute_reply.started": "2021-08-29T01:55:02.596541Z"
    },
    "papermill": {
     "duration": 0.027888,
     "end_time": "2021-08-29T01:58:52.571714",
     "exception": false,
     "start_time": "2021-08-29T01:58:52.543826",
     "status": "completed"
    },
    "tags": []
   },
   "outputs": [],
   "source": [
    "lgb_params = {\n",
    "    'objective': 'regression',\n",
    "    'metric': 'rmse',\n",
    "    'n_estimators': N_ESTIMATORS,\n",
    "    'n_jobs':-1,\n",
    "    'importance_type': 'gain',\n",
    "    #'device': 'gpu',\n",
    "    #'gpu_platform_id': 0,\n",
    "    #'gpu_device_id': 0,\n",
    "        \n",
    "    'learning_rate': 0.02353337642138889,\n",
    "     'subsample': 0.8927518164857942,\n",
    "     'colsample_bytree': 0.6082521012761244,\n",
    "     'subsample_freq': 8,\n",
    "     'reg_lambda': 30.353719041677138,\n",
    "     'reg_alpha': 51.51192793124132,\n",
    "     'min_child_weight': 191.56782210566885,\n",
    "     'min_child_samples': 237\n",
    "}\n"
   ]
  },
  {
   "cell_type": "code",
   "execution_count": 11,
   "id": "d4627176",
   "metadata": {
    "execution": {
     "iopub.execute_input": "2021-08-29T01:58:52.623783Z",
     "iopub.status.busy": "2021-08-29T01:58:52.623080Z",
     "iopub.status.idle": "2021-08-29T02:13:46.038344Z",
     "shell.execute_reply": "2021-08-29T02:13:46.039089Z",
     "shell.execute_reply.started": "2021-08-29T01:55:02.611658Z"
    },
    "papermill": {
     "duration": 893.44951,
     "end_time": "2021-08-29T02:13:46.039329",
     "exception": false,
     "start_time": "2021-08-29T01:58:52.589819",
     "status": "completed"
    },
    "tags": []
   },
   "outputs": [
    {
     "name": "stdout",
     "output_type": "stream",
     "text": [
      "===== fold 0 =====\n",
      "Training until validation scores don't improve for 200 rounds\n",
      "Early stopping, best iteration is:\n",
      "[150]\tvalid_0's rmse: 7.7382\n",
      "Training until validation scores don't improve for 200 rounds\n",
      "Early stopping, best iteration is:\n",
      "[151]\tvalid_0's rmse: 7.7382\n",
      "Training until validation scores don't improve for 200 rounds\n",
      "Early stopping, best iteration is:\n",
      "[188]\tvalid_0's rmse: 7.7385\n",
      "Training until validation scores don't improve for 200 rounds\n",
      "Early stopping, best iteration is:\n",
      "[189]\tvalid_0's rmse: 7.7385\n",
      "Training until validation scores don't improve for 200 rounds\n",
      "Early stopping, best iteration is:\n",
      "[125]\tvalid_0's rmse: 7.73914\n",
      "Training until validation scores don't improve for 200 rounds\n",
      "Early stopping, best iteration is:\n",
      "[229]\tvalid_0's rmse: 7.739\n",
      "fold 0 - lgb rmse: 7.738141, elapsed time: 82.10sec\n",
      "\n",
      "===== fold 1 =====\n",
      "Training until validation scores don't improve for 200 rounds\n",
      "Early stopping, best iteration is:\n",
      "[184]\tvalid_0's rmse: 7.76435\n",
      "Training until validation scores don't improve for 200 rounds\n",
      "Early stopping, best iteration is:\n",
      "[197]\tvalid_0's rmse: 7.76434\n",
      "Training until validation scores don't improve for 200 rounds\n",
      "Early stopping, best iteration is:\n",
      "[169]\tvalid_0's rmse: 7.76428\n",
      "Training until validation scores don't improve for 200 rounds\n",
      "Early stopping, best iteration is:\n",
      "[170]\tvalid_0's rmse: 7.76429\n",
      "Training until validation scores don't improve for 200 rounds\n",
      "Early stopping, best iteration is:\n",
      "[151]\tvalid_0's rmse: 7.76432\n",
      "Training until validation scores don't improve for 200 rounds\n",
      "Early stopping, best iteration is:\n",
      "[328]\tvalid_0's rmse: 7.76428\n",
      "fold 1 - lgb rmse: 7.763891, elapsed time: 89.35sec\n",
      "\n",
      "===== fold 2 =====\n",
      "Training until validation scores don't improve for 200 rounds\n",
      "Early stopping, best iteration is:\n",
      "[117]\tvalid_0's rmse: 7.92172\n",
      "Training until validation scores don't improve for 200 rounds\n",
      "Early stopping, best iteration is:\n",
      "[446]\tvalid_0's rmse: 7.92138\n",
      "Training until validation scores don't improve for 200 rounds\n",
      "Early stopping, best iteration is:\n",
      "[170]\tvalid_0's rmse: 7.92112\n",
      "Training until validation scores don't improve for 200 rounds\n",
      "Early stopping, best iteration is:\n",
      "[171]\tvalid_0's rmse: 7.92112\n",
      "Training until validation scores don't improve for 200 rounds\n",
      "Early stopping, best iteration is:\n",
      "[151]\tvalid_0's rmse: 7.92085\n",
      "Training until validation scores don't improve for 200 rounds\n",
      "Early stopping, best iteration is:\n",
      "[152]\tvalid_0's rmse: 7.92085\n",
      "fold 2 - lgb rmse: 7.920754, elapsed time: 92.61sec\n",
      "\n",
      "===== fold 3 =====\n",
      "Training until validation scores don't improve for 200 rounds\n",
      "Early stopping, best iteration is:\n",
      "[184]\tvalid_0's rmse: 7.83395\n",
      "Training until validation scores don't improve for 200 rounds\n",
      "Early stopping, best iteration is:\n",
      "[210]\tvalid_0's rmse: 7.83392\n",
      "Training until validation scores don't improve for 200 rounds\n",
      "Early stopping, best iteration is:\n",
      "[154]\tvalid_0's rmse: 7.83389\n",
      "Training until validation scores don't improve for 200 rounds\n",
      "Early stopping, best iteration is:\n",
      "[372]\tvalid_0's rmse: 7.83379\n",
      "Training until validation scores don't improve for 200 rounds\n",
      "Early stopping, best iteration is:\n",
      "[150]\tvalid_0's rmse: 7.83366\n",
      "Training until validation scores don't improve for 200 rounds\n",
      "Early stopping, best iteration is:\n",
      "[205]\tvalid_0's rmse: 7.83357\n",
      "fold 3 - lgb rmse: 7.833345, elapsed time: 89.87sec\n",
      "\n",
      "===== fold 4 =====\n",
      "Training until validation scores don't improve for 200 rounds\n",
      "Early stopping, best iteration is:\n",
      "[122]\tvalid_0's rmse: 7.81642\n",
      "Training until validation scores don't improve for 200 rounds\n",
      "Early stopping, best iteration is:\n",
      "[412]\tvalid_0's rmse: 7.81621\n",
      "Training until validation scores don't improve for 200 rounds\n",
      "Early stopping, best iteration is:\n",
      "[192]\tvalid_0's rmse: 7.81605\n",
      "Training until validation scores don't improve for 200 rounds\n",
      "Early stopping, best iteration is:\n",
      "[196]\tvalid_0's rmse: 7.81604\n",
      "Training until validation scores don't improve for 200 rounds\n",
      "Early stopping, best iteration is:\n",
      "[162]\tvalid_0's rmse: 7.81626\n",
      "Training until validation scores don't improve for 200 rounds\n",
      "Early stopping, best iteration is:\n",
      "[167]\tvalid_0's rmse: 7.81624\n",
      "fold 4 - lgb rmse: 7.815745, elapsed time: 89.74sec\n",
      "\n",
      "===== fold 5 =====\n",
      "Training until validation scores don't improve for 200 rounds\n",
      "Early stopping, best iteration is:\n",
      "[195]\tvalid_0's rmse: 7.83161\n",
      "Training until validation scores don't improve for 200 rounds\n",
      "Early stopping, best iteration is:\n",
      "[200]\tvalid_0's rmse: 7.8316\n",
      "Training until validation scores don't improve for 200 rounds\n",
      "Early stopping, best iteration is:\n",
      "[137]\tvalid_0's rmse: 7.83117\n",
      "Training until validation scores don't improve for 200 rounds\n",
      "Early stopping, best iteration is:\n",
      "[292]\tvalid_0's rmse: 7.83098\n",
      "Training until validation scores don't improve for 200 rounds\n",
      "Early stopping, best iteration is:\n",
      "[196]\tvalid_0's rmse: 7.83159\n",
      "Training until validation scores don't improve for 200 rounds\n",
      "Early stopping, best iteration is:\n",
      "[222]\tvalid_0's rmse: 7.83156\n",
      "fold 5 - lgb rmse: 7.830929, elapsed time: 88.17sec\n",
      "\n",
      "===== fold 6 =====\n",
      "Training until validation scores don't improve for 200 rounds\n",
      "Early stopping, best iteration is:\n",
      "[119]\tvalid_0's rmse: 7.85728\n",
      "Training until validation scores don't improve for 200 rounds\n",
      "Early stopping, best iteration is:\n",
      "[289]\tvalid_0's rmse: 7.85723\n",
      "Training until validation scores don't improve for 200 rounds\n",
      "Early stopping, best iteration is:\n",
      "[143]\tvalid_0's rmse: 7.85737\n",
      "Training until validation scores don't improve for 200 rounds\n",
      "Early stopping, best iteration is:\n",
      "[154]\tvalid_0's rmse: 7.85736\n",
      "Training until validation scores don't improve for 200 rounds\n",
      "Early stopping, best iteration is:\n",
      "[119]\tvalid_0's rmse: 7.85695\n",
      "Training until validation scores don't improve for 200 rounds\n",
      "Early stopping, best iteration is:\n",
      "[121]\tvalid_0's rmse: 7.85693\n",
      "fold 6 - lgb rmse: 7.856826, elapsed time: 85.58sec\n",
      "\n",
      "===== fold 7 =====\n",
      "Training until validation scores don't improve for 200 rounds\n",
      "Early stopping, best iteration is:\n",
      "[181]\tvalid_0's rmse: 7.85465\n",
      "Training until validation scores don't improve for 200 rounds\n",
      "Early stopping, best iteration is:\n",
      "[183]\tvalid_0's rmse: 7.85464\n",
      "Training until validation scores don't improve for 200 rounds\n",
      "Early stopping, best iteration is:\n",
      "[163]\tvalid_0's rmse: 7.85428\n",
      "Training until validation scores don't improve for 200 rounds\n",
      "Early stopping, best iteration is:\n",
      "[323]\tvalid_0's rmse: 7.85425\n",
      "Training until validation scores don't improve for 200 rounds\n",
      "Early stopping, best iteration is:\n",
      "[173]\tvalid_0's rmse: 7.85436\n",
      "Training until validation scores don't improve for 200 rounds\n",
      "Early stopping, best iteration is:\n",
      "[176]\tvalid_0's rmse: 7.85436\n",
      "fold 7 - lgb rmse: 7.853998, elapsed time: 86.50sec\n",
      "\n",
      "===== fold 8 =====\n",
      "Training until validation scores don't improve for 200 rounds\n",
      "Early stopping, best iteration is:\n",
      "[169]\tvalid_0's rmse: 7.83682\n",
      "Training until validation scores don't improve for 200 rounds\n",
      "Early stopping, best iteration is:\n",
      "[275]\tvalid_0's rmse: 7.8367\n",
      "Training until validation scores don't improve for 200 rounds\n",
      "Early stopping, best iteration is:\n",
      "[169]\tvalid_0's rmse: 7.83603\n",
      "Training until validation scores don't improve for 200 rounds\n",
      "Early stopping, best iteration is:\n",
      "[203]\tvalid_0's rmse: 7.83599\n",
      "Training until validation scores don't improve for 200 rounds\n",
      "Early stopping, best iteration is:\n",
      "[172]\tvalid_0's rmse: 7.83528\n",
      "Training until validation scores don't improve for 200 rounds\n",
      "Early stopping, best iteration is:\n",
      "[189]\tvalid_0's rmse: 7.83524\n",
      "fold 8 - lgb rmse: 7.835560, elapsed time: 86.81sec\n",
      "\n",
      "===== fold 9 =====\n",
      "Training until validation scores don't improve for 200 rounds\n",
      "Early stopping, best iteration is:\n",
      "[145]\tvalid_0's rmse: 7.83676\n",
      "Training until validation scores don't improve for 200 rounds\n",
      "Early stopping, best iteration is:\n",
      "[444]\tvalid_0's rmse: 7.83649\n",
      "Training until validation scores don't improve for 200 rounds\n",
      "Early stopping, best iteration is:\n",
      "[162]\tvalid_0's rmse: 7.83581\n",
      "Training until validation scores don't improve for 200 rounds\n",
      "Early stopping, best iteration is:\n",
      "[406]\tvalid_0's rmse: 7.83571\n",
      "Training until validation scores don't improve for 200 rounds\n",
      "Early stopping, best iteration is:\n",
      "[182]\tvalid_0's rmse: 7.83544\n",
      "Training until validation scores don't improve for 200 rounds\n",
      "Early stopping, best iteration is:\n",
      "[183]\tvalid_0's rmse: 7.83545\n",
      "fold 9 - lgb rmse: 7.835473, elapsed time: 98.94sec\n",
      "\n",
      "oof lgb_rmse = 7.828610473712082\n"
     ]
    }
   ],
   "source": [
    "lgb_oof = np.zeros(train.shape[0])\n",
    "lgb_pred = np.zeros(test.shape[0])\n",
    "lgb_importances = pd.DataFrame()\n",
    "\n",
    "\n",
    "kf = KFold(n_splits=N_SPLITS, shuffle=True, random_state=CVSEED)\n",
    "seed_list=[SEED, SEED+1, SEED+2]\n",
    "\n",
    "for fold, (trn_idx, val_idx) in enumerate(kf.split(X=train[useful_features], y=train[target])):\n",
    "    print(f\"===== fold {fold} =====\")\n",
    "    \n",
    "    X_train, y_train = train[useful_features].iloc[trn_idx], train[target].iloc[trn_idx]\n",
    "    #X_train = apply_noise_row(X_train)\n",
    "    \n",
    "    X_valid, y_valid = train[useful_features].iloc[val_idx], train[target].iloc[val_idx]\n",
    "    X_test = test[useful_features]\n",
    "    \n",
    "    # LGB\n",
    "    start = time.time()\n",
    "    \n",
    "    for inseed in seed_list:\n",
    "        lgb_params['random_state'] = inseed\n",
    "    \n",
    "        pre_model = lgb.LGBMRegressor(**lgb_params)\n",
    "        pre_model.fit(\n",
    "            X_train, \n",
    "            y_train,\n",
    "            eval_set=[(X_valid, y_valid)],\n",
    "            eval_metric='rmse',\n",
    "            early_stopping_rounds=EARLY_STOPPING_ROUNDS,\n",
    "            verbose=VERBOSE,\n",
    "        )\n",
    "\n",
    "        lgb_params2 = lgb_params.copy()\n",
    "        lgb_params2['reg_lambda'] *= 0.9\n",
    "        lgb_params2['reg_alpha'] *= 0.9\n",
    "        lgb_params2['learning_rate'] *= 0.1\n",
    "        model = lgb.LGBMRegressor(**lgb_params2)\n",
    "        model.fit(\n",
    "                X_train, y_train,\n",
    "                eval_set=[(X_valid, y_valid)],\n",
    "                eval_metric='rmse',\n",
    "                early_stopping_rounds=EARLY_STOPPING_ROUNDS,\n",
    "                verbose=VERBOSE,\n",
    "                init_model=pre_model\n",
    "        )    \n",
    "\n",
    "        with open(f\"lgb_model{fold}.pkl\", 'wb') as f:\n",
    "            pickle.dump(model, f)\n",
    "\n",
    "        fi_tmp = pd.DataFrame()\n",
    "        fi_tmp['feature'] = model.feature_name_\n",
    "        fi_tmp['importance'] = model.feature_importances_\n",
    "        fi_tmp['fold'] = fold\n",
    "        fi_tmp['seed'] = inseed\n",
    "        lgb_importances = lgb_importances.append(fi_tmp)\n",
    "\n",
    "        lgb_oof[val_idx] += model.predict(X_valid) / len(seed_list)\n",
    "        lgb_pred += model.predict(X_test) / len(seed_list)\n",
    "    \n",
    "    elapsed = time.time() - start\n",
    "    rmse = mean_squared_error(y_valid, lgb_oof[val_idx], squared=False)\n",
    "    print(f\"fold {fold} - lgb rmse: {rmse:.6f}, elapsed time: {elapsed:.2f}sec\\n\")\n",
    "\n",
    "lgb_pred /= N_SPLITS\n",
    "print(f\"oof lgb_rmse = {mean_squared_error(train[target], lgb_oof, squared=False)}\")\n",
    "\n",
    "np.save(\"lgb_oof.npy\", lgb_oof)\n",
    "np.save(\"lgb_pred.npy\", lgb_pred)\n"
   ]
  },
  {
   "cell_type": "code",
   "execution_count": 12,
   "id": "f6d82c1a",
   "metadata": {
    "execution": {
     "iopub.execute_input": "2021-08-29T02:13:46.159520Z",
     "iopub.status.busy": "2021-08-29T02:13:46.158764Z",
     "iopub.status.idle": "2021-08-29T02:13:46.165932Z",
     "shell.execute_reply": "2021-08-29T02:13:46.165339Z",
     "shell.execute_reply.started": "2021-08-29T01:55:29.141810Z"
    },
    "papermill": {
     "duration": 0.067861,
     "end_time": "2021-08-29T02:13:46.166082",
     "exception": false,
     "start_time": "2021-08-29T02:13:46.098221",
     "status": "completed"
    },
    "tags": []
   },
   "outputs": [
    {
     "data": {
      "text/plain": [
       "array([8.20998293, 4.63302157, 8.79101511, ..., 5.93822322, 5.2954131 ,\n",
       "       6.7470579 ])"
      ]
     },
     "execution_count": 12,
     "metadata": {},
     "output_type": "execute_result"
    }
   ],
   "source": [
    "lgb_pred"
   ]
  },
  {
   "cell_type": "markdown",
   "id": "d0890bc4",
   "metadata": {
    "papermill": {
     "duration": 0.05781,
     "end_time": "2021-08-29T02:13:46.282484",
     "exception": false,
     "start_time": "2021-08-29T02:13:46.224674",
     "status": "completed"
    },
    "tags": []
   },
   "source": [
    "# OOF predictions"
   ]
  },
  {
   "cell_type": "code",
   "execution_count": 13,
   "id": "7139debf",
   "metadata": {
    "execution": {
     "iopub.execute_input": "2021-08-29T02:13:46.420317Z",
     "iopub.status.busy": "2021-08-29T02:13:46.415145Z",
     "iopub.status.idle": "2021-08-29T02:13:47.502541Z",
     "shell.execute_reply": "2021-08-29T02:13:47.501967Z",
     "shell.execute_reply.started": "2021-08-29T01:55:29.150903Z"
    },
    "papermill": {
     "duration": 1.162454,
     "end_time": "2021-08-29T02:13:47.502704",
     "exception": false,
     "start_time": "2021-08-29T02:13:46.340250",
     "status": "completed"
    },
    "tags": []
   },
   "outputs": [
    {
     "data": {
      "text/plain": [
       "<matplotlib.collections.PathCollection at 0x7fe7e90519d0>"
      ]
     },
     "execution_count": 13,
     "metadata": {},
     "output_type": "execute_result"
    },
    {
     "data": {
      "image/png": "[encoded data removed]",
      "text/plain": [
       "<Figure size 432x288 with 1 Axes>"
      ]
     },
     "metadata": {
      "needs_background": "light"
     },
     "output_type": "display_data"
    }
   ],
   "source": [
    "plt.plot(train[target], train[target])\n",
    "plt.scatter(train[target], lgb_oof)"
   ]
  },
  {
   "cell_type": "markdown",
   "id": "e2e20ae1",
   "metadata": {
    "papermill": {
     "duration": 0.058993,
     "end_time": "2021-08-29T02:13:47.620885",
     "exception": false,
     "start_time": "2021-08-29T02:13:47.561892",
     "status": "completed"
    },
    "tags": []
   },
   "source": [
    "# Features importances"
   ]
  },
  {
   "cell_type": "code",
   "execution_count": 14,
   "id": "269415ac",
   "metadata": {
    "execution": {
     "iopub.execute_input": "2021-08-29T02:13:47.751418Z",
     "iopub.status.busy": "2021-08-29T02:13:47.750724Z",
     "iopub.status.idle": "2021-08-29T02:13:49.829032Z",
     "shell.execute_reply": "2021-08-29T02:13:49.828446Z",
     "shell.execute_reply.started": "2021-08-29T01:55:30.250391Z"
    },
    "papermill": {
     "duration": 2.1495,
     "end_time": "2021-08-29T02:13:49.829170",
     "exception": false,
     "start_time": "2021-08-29T02:13:47.679670",
     "status": "completed"
    },
    "tags": []
   },
   "outputs": [
    {
     "data": {
      "text/plain": [
       "Text(0.5, 1.0, 'LightGBM feature importances')"
      ]
     },
     "execution_count": 14,
     "metadata": {},
     "output_type": "execute_result"
    },
    {
     "data": {
      "image/png": "[encoded data removed]",
      "text/plain": [
       "<Figure size 1152x1152 with 1 Axes>"
      ]
     },
     "metadata": {
      "needs_background": "light"
     },
     "output_type": "display_data"
    }
   ],
   "source": [
    "order = list(lgb_importances.groupby('feature').mean().sort_values('importance', ascending=False).index)\n",
    "\n",
    "fig = plt.figure(figsize=(16, 16), tight_layout=True)\n",
    "sns.barplot(x=\"importance\", y=\"feature\", data=lgb_importances.groupby('feature').mean().reset_index(), order=order)\n",
    "plt.title(\"LightGBM feature importances\")"
   ]
  },
  {
   "cell_type": "markdown",
   "id": "8acd5c4e",
   "metadata": {
    "papermill": {
     "duration": 0.061707,
     "end_time": "2021-08-29T02:13:49.953455",
     "exception": false,
     "start_time": "2021-08-29T02:13:49.891748",
     "status": "completed"
    },
    "tags": []
   },
   "source": [
    "# Submission"
   ]
  },
  {
   "cell_type": "code",
   "execution_count": 15,
   "id": "d309c5c0",
   "metadata": {
    "execution": {
     "iopub.execute_input": "2021-08-29T02:13:50.084601Z",
     "iopub.status.busy": "2021-08-29T02:13:50.083744Z",
     "iopub.status.idle": "2021-08-29T02:13:50.655315Z",
     "shell.execute_reply": "2021-08-29T02:13:50.655811Z",
     "shell.execute_reply.started": "2021-08-29T01:55:32.334269Z"
    },
    "papermill": {
     "duration": 0.640237,
     "end_time": "2021-08-29T02:13:50.656028",
     "exception": false,
     "start_time": "2021-08-29T02:13:50.015791",
     "status": "completed"
    },
    "tags": []
   },
   "outputs": [
    {
     "data": {
      "text/html": [
       "<div>\n",
       "<style scoped>\n",
       "    .dataframe tbody tr th:only-of-type {\n",
       "        vertical-align: middle;\n",
       "    }\n",
       "\n",
       "    .dataframe tbody tr th {\n",
       "        vertical-align: top;\n",
       "    }\n",
       "\n",
       "    .dataframe thead th {\n",
       "        text-align: right;\n",
       "    }\n",
       "</style>\n",
       "<table border=\"1\" class=\"dataframe\">\n",
       "  <thead>\n",
       "    <tr style=\"text-align: right;\">\n",
       "      <th></th>\n",
       "      <th>id</th>\n",
       "      <th>loss</th>\n",
       "    </tr>\n",
       "  </thead>\n",
       "  <tbody>\n",
       "    <tr>\n",
       "      <th>0</th>\n",
       "      <td>250000</td>\n",
       "      <td>8.209983</td>\n",
       "    </tr>\n",
       "    <tr>\n",
       "      <th>1</th>\n",
       "      <td>250001</td>\n",
       "      <td>4.633022</td>\n",
       "    </tr>\n",
       "    <tr>\n",
       "      <th>2</th>\n",
       "      <td>250002</td>\n",
       "      <td>8.791015</td>\n",
       "    </tr>\n",
       "    <tr>\n",
       "      <th>3</th>\n",
       "      <td>250003</td>\n",
       "      <td>7.676684</td>\n",
       "    </tr>\n",
       "    <tr>\n",
       "      <th>4</th>\n",
       "      <td>250004</td>\n",
       "      <td>7.163667</td>\n",
       "    </tr>\n",
       "    <tr>\n",
       "      <th>...</th>\n",
       "      <td>...</td>\n",
       "      <td>...</td>\n",
       "    </tr>\n",
       "    <tr>\n",
       "      <th>149995</th>\n",
       "      <td>399995</td>\n",
       "      <td>7.746504</td>\n",
       "    </tr>\n",
       "    <tr>\n",
       "      <th>149996</th>\n",
       "      <td>399996</td>\n",
       "      <td>7.578610</td>\n",
       "    </tr>\n",
       "    <tr>\n",
       "      <th>149997</th>\n",
       "      <td>399997</td>\n",
       "      <td>5.938223</td>\n",
       "    </tr>\n",
       "    <tr>\n",
       "      <th>149998</th>\n",
       "      <td>399998</td>\n",
       "      <td>5.295413</td>\n",
       "    </tr>\n",
       "    <tr>\n",
       "      <th>149999</th>\n",
       "      <td>399999</td>\n",
       "      <td>6.747058</td>\n",
       "    </tr>\n",
       "  </tbody>\n",
       "</table>\n",
       "<p>150000 rows × 2 columns</p>\n",
       "</div>"
      ],
      "text/plain": [
       "            id      loss\n",
       "0       250000  8.209983\n",
       "1       250001  4.633022\n",
       "2       250002  8.791015\n",
       "3       250003  7.676684\n",
       "4       250004  7.163667\n",
       "...        ...       ...\n",
       "149995  399995  7.746504\n",
       "149996  399996  7.578610\n",
       "149997  399997  5.938223\n",
       "149998  399998  5.295413\n",
       "149999  399999  6.747058\n",
       "\n",
       "[150000 rows x 2 columns]"
      ]
     },
     "execution_count": 15,
     "metadata": {},
     "output_type": "execute_result"
    }
   ],
   "source": [
    "submission[target] = lgb_pred\n",
    "submission.to_csv(\"submission.csv\", index=False)\n",
    "\n",
    "submission"
   ]
  }
 ],
 "metadata": {
  "kernelspec": {
   "display_name": "Python 3",
   "language": "python",
   "name": "python3"
  },
  "language_info": {
   "codemirror_mode": {
    "name": "ipython",
    "version": 3
   },
   "file_extension": ".py",
   "mimetype": "text/x-python",
   "name": "python",
   "nbconvert_exporter": "python",
   "pygments_lexer": "ipython3",
   "version": "3.7.10"
  },
  "papermill": {
   "default_parameters": {},
   "duration": 936.221886,
   "end_time": "2021-08-29T02:13:52.349944",
   "environment_variables": {},
   "exception": null,
   "input_path": "__notebook__.ipynb",
   "output_path": "__notebook__.ipynb",
   "parameters": {},
   "start_time": "2021-08-29T01:58:16.128058",
   "version": "2.3.3"
  }
 },
 "nbformat": 4,
 "nbformat_minor": 5
}
