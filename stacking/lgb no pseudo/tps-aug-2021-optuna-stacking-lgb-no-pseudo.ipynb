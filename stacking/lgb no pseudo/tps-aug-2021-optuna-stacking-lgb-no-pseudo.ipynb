{
 "cells": [
  {
   "cell_type": "code",
   "execution_count": 1,
   "id": "137a55f0",
   "metadata": {
    "_cell_guid": "b1076dfc-b9ad-4769-8c92-a6c4dae69d19",
    "_uuid": "8f2839f25d086af736a60e9eeb907d3b93b6e0e5",
    "execution": {
     "iopub.execute_input": "2021-08-28T23:16:14.757053Z",
     "iopub.status.busy": "2021-08-28T23:16:14.753079Z",
     "iopub.status.idle": "2021-08-28T23:16:17.197863Z",
     "shell.execute_reply": "2021-08-28T23:16:17.196748Z",
     "shell.execute_reply.started": "2021-08-28T22:51:44.047062Z"
    },
    "papermill": {
     "duration": 2.468476,
     "end_time": "2021-08-28T23:16:17.198043",
     "exception": false,
     "start_time": "2021-08-28T23:16:14.729567",
     "status": "completed"
    },
    "tags": []
   },
   "outputs": [
    {
     "data": {
      "text/html": [
       "<style type='text/css'>\n",
       ".datatable table.frame { margin-bottom: 0; }\n",
       ".datatable table.frame thead { border-bottom: none; }\n",
       ".datatable table.frame tr.coltypes td {  color: #FFFFFF;  line-height: 6px;  padding: 0 0.5em;}\n",
       ".datatable .bool    { background: #DDDD99; }\n",
       ".datatable .object  { background: #565656; }\n",
       ".datatable .int     { background: #5D9E5D; }\n",
       ".datatable .float   { background: #4040CC; }\n",
       ".datatable .str     { background: #CC4040; }\n",
       ".datatable .time    { background: #40CC40; }\n",
       ".datatable .row_index {  background: var(--jp-border-color3);  border-right: 1px solid var(--jp-border-color0);  color: var(--jp-ui-font-color3);  font-size: 9px;}\n",
       ".datatable .frame tbody td { text-align: left; }\n",
       ".datatable .frame tr.coltypes .row_index {  background: var(--jp-border-color0);}\n",
       ".datatable th:nth-child(2) { padding-left: 12px; }\n",
       ".datatable .hellipsis {  color: var(--jp-cell-editor-border-color);}\n",
       ".datatable .vellipsis {  background: var(--jp-layout-color0);  color: var(--jp-cell-editor-border-color);}\n",
       ".datatable .na {  color: var(--jp-cell-editor-border-color);  font-size: 80%;}\n",
       ".datatable .sp {  opacity: 0.25;}\n",
       ".datatable .footer { font-size: 9px; }\n",
       ".datatable .frame_dimensions {  background: var(--jp-border-color3);  border-top: 1px solid var(--jp-border-color0);  color: var(--jp-ui-font-color3);  display: inline-block;  opacity: 0.6;  padding: 1px 10px 1px 5px;}\n",
       "</style>\n"
      ],
      "text/plain": [
       "<IPython.core.display.HTML object>"
      ]
     },
     "metadata": {},
     "output_type": "display_data"
    }
   ],
   "source": [
    "# Familiar imports\n",
    "import numpy as np\n",
    "import pandas as pd\n",
    "import random\n",
    "import os\n",
    "import time\n",
    "from pathlib import Path\n",
    "\n",
    "from sklearn.preprocessing import StandardScaler\n",
    "from sklearn.model_selection import KFold, train_test_split\n",
    "from sklearn.metrics import mean_squared_error\n",
    "\n",
    "import lightgbm as lgb\n",
    "#import xgboost as xgb\n",
    "#import catboost as ctb\n",
    "\n",
    "import warnings\n",
    "warnings.simplefilter('ignore')"
   ]
  },
  {
   "cell_type": "markdown",
   "id": "dba9391c",
   "metadata": {
    "papermill": {
     "duration": 0.01432,
     "end_time": "2021-08-28T23:16:17.228120",
     "exception": false,
     "start_time": "2021-08-28T23:16:17.213800",
     "status": "completed"
    },
    "tags": []
   },
   "source": [
    "# Parameters"
   ]
  },
  {
   "cell_type": "code",
   "execution_count": 2,
   "id": "18cd0d6c",
   "metadata": {
    "execution": {
     "iopub.execute_input": "2021-08-28T23:16:17.264316Z",
     "iopub.status.busy": "2021-08-28T23:16:17.263315Z",
     "iopub.status.idle": "2021-08-28T23:16:17.265605Z",
     "shell.execute_reply": "2021-08-28T23:16:17.266082Z",
     "shell.execute_reply.started": "2021-08-28T22:51:44.054376Z"
    },
    "papermill": {
     "duration": 0.023483,
     "end_time": "2021-08-28T23:16:17.266258",
     "exception": false,
     "start_time": "2021-08-28T23:16:17.242775",
     "status": "completed"
    },
    "tags": []
   },
   "outputs": [],
   "source": [
    "target = 'loss'\n",
    "\n",
    "DEBUG = False\n",
    "\n",
    "if DEBUG:\n",
    "    N_ESTIMATORS = 1\n",
    "    N_SPLITS = 2\n",
    "    SEED = 17\n",
    "    CVSEED = 17\n",
    "    EARLY_STOPPING_ROUNDS = 1\n",
    "    VERBOSE = 100\n",
    "    #N_ITERS = 2\n",
    "else:\n",
    "    N_SPLITS = 10\n",
    "    N_ESTIMATORS = 10000\n",
    "    EARLY_STOPPING_ROUNDS = 200\n",
    "    VERBOSE = 1000\n",
    "    SEED = 17\n",
    "    CVSEED = 17\n",
    "    #N_ITERS = 10"
   ]
  },
  {
   "cell_type": "code",
   "execution_count": 3,
   "id": "9b3d4134",
   "metadata": {
    "execution": {
     "iopub.execute_input": "2021-08-28T23:16:17.300385Z",
     "iopub.status.busy": "2021-08-28T23:16:17.299388Z",
     "iopub.status.idle": "2021-08-28T23:16:17.304540Z",
     "shell.execute_reply": "2021-08-28T23:16:17.305081Z",
     "shell.execute_reply.started": "2021-08-28T22:51:44.068257Z"
    },
    "papermill": {
     "duration": 0.023775,
     "end_time": "2021-08-28T23:16:17.305263",
     "exception": false,
     "start_time": "2021-08-28T23:16:17.281488",
     "status": "completed"
    },
    "tags": []
   },
   "outputs": [],
   "source": [
    "def set_seed(seed=17):\n",
    "    random.seed(seed)\n",
    "    os.environ['PYTHONHASHSEED'] = str(seed)\n",
    "    np.random.seed(seed)\n",
    "    \n",
    "set_seed(SEED)"
   ]
  },
  {
   "cell_type": "markdown",
   "id": "d9a104fc",
   "metadata": {
    "papermill": {
     "duration": 0.014829,
     "end_time": "2021-08-28T23:16:17.335278",
     "exception": false,
     "start_time": "2021-08-28T23:16:17.320449",
     "status": "completed"
    },
    "tags": []
   },
   "source": [
    "# Load data"
   ]
  },
  {
   "cell_type": "code",
   "execution_count": 4,
   "id": "03b460b8",
   "metadata": {
    "execution": {
     "iopub.execute_input": "2021-08-28T23:16:17.370797Z",
     "iopub.status.busy": "2021-08-28T23:16:17.369748Z",
     "iopub.status.idle": "2021-08-28T23:16:28.500399Z",
     "shell.execute_reply": "2021-08-28T23:16:28.499614Z",
     "shell.execute_reply.started": "2021-08-28T22:51:44.08094Z"
    },
    "papermill": {
     "duration": 11.149667,
     "end_time": "2021-08-28T23:16:28.500570",
     "exception": false,
     "start_time": "2021-08-28T23:16:17.350903",
     "status": "completed"
    },
    "tags": []
   },
   "outputs": [],
   "source": [
    "INPUT = Path(\"../input/tabular-playground-series-aug-2021\")\n",
    "\n",
    "train = pd.read_csv(INPUT / \"train.csv\")\n",
    "test = pd.read_csv(INPUT / \"test.csv\")\n",
    "submission = pd.read_csv(INPUT / \"sample_submission.csv\")"
   ]
  },
  {
   "cell_type": "code",
   "execution_count": 5,
   "id": "402ae469",
   "metadata": {
    "execution": {
     "iopub.execute_input": "2021-08-28T23:16:28.537894Z",
     "iopub.status.busy": "2021-08-28T23:16:28.537222Z",
     "iopub.status.idle": "2021-08-28T23:16:28.821780Z",
     "shell.execute_reply": "2021-08-28T23:16:28.822252Z",
     "shell.execute_reply.started": "2021-08-28T22:51:51.919835Z"
    },
    "papermill": {
     "duration": 0.306828,
     "end_time": "2021-08-28T23:16:28.822468",
     "exception": false,
     "start_time": "2021-08-28T23:16:28.515640",
     "status": "completed"
    },
    "tags": []
   },
   "outputs": [],
   "source": [
    "train['lgb_pred'] = np.load(\"../input/tps-aug-2021-lgb-no-pseudo/lgb_oof.npy\")\n",
    "test['lgb_pred'] = np.load(\"../input/tps-aug-2021-lgb-no-pseudo/lgb_pred.npy\")/10\n",
    "\n",
    "train['xgb_pred'] = np.load(\"../input/tps-aug-2021-xgb-no-pseudo-pred/3xgb_oof.npy\")+np.load(\"../input/tps-aug-2021-xgb-no-pseudo-pred/4xgb_oof.npy\")\n",
    "test['xgb_pred'] = (np.load(\"../input/tps-aug-2021-xgb-no-pseudo-pred/3xgb_pred.npy\")+np.load(\"../input/tps-aug-2021-xgb-no-pseudo-pred/4xgb_pred.npy\"))/10\n",
    "\n",
    "train['ctb_pred'] = np.load(\"../input/tps-aug-catb-no-pseudo/2ctb_oof.npy\")+np.load(\"../input/tps-aug-catb-no-pseudo/3ctb_oof.npy\")\n",
    "test['ctb_pred'] = (np.load(\"../input/tps-aug-catb-no-pseudo/2ctb_pred.npy\")+np.load(\"../input/tps-aug-catb-no-pseudo/3ctb_pred.npy\"))/10\n"
   ]
  },
  {
   "cell_type": "code",
   "execution_count": 6,
   "id": "ea5d38d0",
   "metadata": {
    "execution": {
     "iopub.execute_input": "2021-08-28T23:16:28.855506Z",
     "iopub.status.busy": "2021-08-28T23:16:28.854543Z",
     "iopub.status.idle": "2021-08-28T23:16:28.894915Z",
     "shell.execute_reply": "2021-08-28T23:16:28.894358Z",
     "shell.execute_reply.started": "2021-08-28T22:51:51.970443Z"
    },
    "papermill": {
     "duration": 0.057739,
     "end_time": "2021-08-28T23:16:28.895059",
     "exception": false,
     "start_time": "2021-08-28T23:16:28.837320",
     "status": "completed"
    },
    "tags": []
   },
   "outputs": [
    {
     "data": {
      "text/html": [
       "<div>\n",
       "<style scoped>\n",
       "    .dataframe tbody tr th:only-of-type {\n",
       "        vertical-align: middle;\n",
       "    }\n",
       "\n",
       "    .dataframe tbody tr th {\n",
       "        vertical-align: top;\n",
       "    }\n",
       "\n",
       "    .dataframe thead th {\n",
       "        text-align: right;\n",
       "    }\n",
       "</style>\n",
       "<table border=\"1\" class=\"dataframe\">\n",
       "  <thead>\n",
       "    <tr style=\"text-align: right;\">\n",
       "      <th></th>\n",
       "      <th>id</th>\n",
       "      <th>f0</th>\n",
       "      <th>f1</th>\n",
       "      <th>f2</th>\n",
       "      <th>f3</th>\n",
       "      <th>f4</th>\n",
       "      <th>f5</th>\n",
       "      <th>f6</th>\n",
       "      <th>f7</th>\n",
       "      <th>f8</th>\n",
       "      <th>...</th>\n",
       "      <th>f93</th>\n",
       "      <th>f94</th>\n",
       "      <th>f95</th>\n",
       "      <th>f96</th>\n",
       "      <th>f97</th>\n",
       "      <th>f98</th>\n",
       "      <th>f99</th>\n",
       "      <th>lgb_pred</th>\n",
       "      <th>xgb_pred</th>\n",
       "      <th>ctb_pred</th>\n",
       "    </tr>\n",
       "  </thead>\n",
       "  <tbody>\n",
       "    <tr>\n",
       "      <th>0</th>\n",
       "      <td>250000</td>\n",
       "      <td>0.812665</td>\n",
       "      <td>15</td>\n",
       "      <td>-1.239120</td>\n",
       "      <td>-0.893251</td>\n",
       "      <td>295.5770</td>\n",
       "      <td>15.87120</td>\n",
       "      <td>23.04360</td>\n",
       "      <td>0.942256</td>\n",
       "      <td>29.898000</td>\n",
       "      <td>...</td>\n",
       "      <td>1.69075</td>\n",
       "      <td>1.059300</td>\n",
       "      <td>-3.010570</td>\n",
       "      <td>1.94664</td>\n",
       "      <td>0.529470</td>\n",
       "      <td>1.386950</td>\n",
       "      <td>8.78767</td>\n",
       "      <td>8.120738</td>\n",
       "      <td>7.732295</td>\n",
       "      <td>8.092161</td>\n",
       "    </tr>\n",
       "    <tr>\n",
       "      <th>1</th>\n",
       "      <td>250001</td>\n",
       "      <td>0.190344</td>\n",
       "      <td>131</td>\n",
       "      <td>-0.501361</td>\n",
       "      <td>0.801921</td>\n",
       "      <td>64.8866</td>\n",
       "      <td>3.09703</td>\n",
       "      <td>344.80500</td>\n",
       "      <td>0.807194</td>\n",
       "      <td>38.421900</td>\n",
       "      <td>...</td>\n",
       "      <td>1.84351</td>\n",
       "      <td>0.251895</td>\n",
       "      <td>4.440570</td>\n",
       "      <td>1.90309</td>\n",
       "      <td>0.248534</td>\n",
       "      <td>0.863881</td>\n",
       "      <td>11.79390</td>\n",
       "      <td>4.629908</td>\n",
       "      <td>4.877947</td>\n",
       "      <td>4.447047</td>\n",
       "    </tr>\n",
       "    <tr>\n",
       "      <th>2</th>\n",
       "      <td>250002</td>\n",
       "      <td>0.919671</td>\n",
       "      <td>19</td>\n",
       "      <td>-0.057382</td>\n",
       "      <td>0.901419</td>\n",
       "      <td>11961.2000</td>\n",
       "      <td>16.39650</td>\n",
       "      <td>273.24000</td>\n",
       "      <td>-0.003300</td>\n",
       "      <td>37.940000</td>\n",
       "      <td>...</td>\n",
       "      <td>1.55100</td>\n",
       "      <td>-0.559157</td>\n",
       "      <td>17.838600</td>\n",
       "      <td>1.83385</td>\n",
       "      <td>0.931796</td>\n",
       "      <td>2.336870</td>\n",
       "      <td>9.05400</td>\n",
       "      <td>8.572120</td>\n",
       "      <td>8.540636</td>\n",
       "      <td>8.321396</td>\n",
       "    </tr>\n",
       "    <tr>\n",
       "      <th>3</th>\n",
       "      <td>250003</td>\n",
       "      <td>0.860985</td>\n",
       "      <td>19</td>\n",
       "      <td>-0.549509</td>\n",
       "      <td>0.471799</td>\n",
       "      <td>7501.6000</td>\n",
       "      <td>2.80698</td>\n",
       "      <td>71.08170</td>\n",
       "      <td>0.792136</td>\n",
       "      <td>0.395235</td>\n",
       "      <td>...</td>\n",
       "      <td>1.41390</td>\n",
       "      <td>0.329272</td>\n",
       "      <td>0.802437</td>\n",
       "      <td>2.23251</td>\n",
       "      <td>0.893348</td>\n",
       "      <td>1.359470</td>\n",
       "      <td>4.84833</td>\n",
       "      <td>7.496467</td>\n",
       "      <td>7.472929</td>\n",
       "      <td>7.393689</td>\n",
       "    </tr>\n",
       "    <tr>\n",
       "      <th>4</th>\n",
       "      <td>250004</td>\n",
       "      <td>0.313229</td>\n",
       "      <td>89</td>\n",
       "      <td>0.588509</td>\n",
       "      <td>0.167705</td>\n",
       "      <td>2931.2600</td>\n",
       "      <td>4.34986</td>\n",
       "      <td>1.57187</td>\n",
       "      <td>1.118300</td>\n",
       "      <td>7.754630</td>\n",
       "      <td>...</td>\n",
       "      <td>1.58020</td>\n",
       "      <td>-0.191021</td>\n",
       "      <td>26.253000</td>\n",
       "      <td>2.68238</td>\n",
       "      <td>0.361923</td>\n",
       "      <td>1.532800</td>\n",
       "      <td>3.70660</td>\n",
       "      <td>7.207754</td>\n",
       "      <td>6.996287</td>\n",
       "      <td>7.297740</td>\n",
       "    </tr>\n",
       "  </tbody>\n",
       "</table>\n",
       "<p>5 rows × 104 columns</p>\n",
       "</div>"
      ],
      "text/plain": [
       "       id        f0   f1        f2        f3          f4        f5         f6  \\\n",
       "0  250000  0.812665   15 -1.239120 -0.893251    295.5770  15.87120   23.04360   \n",
       "1  250001  0.190344  131 -0.501361  0.801921     64.8866   3.09703  344.80500   \n",
       "2  250002  0.919671   19 -0.057382  0.901419  11961.2000  16.39650  273.24000   \n",
       "3  250003  0.860985   19 -0.549509  0.471799   7501.6000   2.80698   71.08170   \n",
       "4  250004  0.313229   89  0.588509  0.167705   2931.2600   4.34986    1.57187   \n",
       "\n",
       "         f7         f8  ...      f93       f94        f95      f96       f97  \\\n",
       "0  0.942256  29.898000  ...  1.69075  1.059300  -3.010570  1.94664  0.529470   \n",
       "1  0.807194  38.421900  ...  1.84351  0.251895   4.440570  1.90309  0.248534   \n",
       "2 -0.003300  37.940000  ...  1.55100 -0.559157  17.838600  1.83385  0.931796   \n",
       "3  0.792136   0.395235  ...  1.41390  0.329272   0.802437  2.23251  0.893348   \n",
       "4  1.118300   7.754630  ...  1.58020 -0.191021  26.253000  2.68238  0.361923   \n",
       "\n",
       "        f98       f99  lgb_pred  xgb_pred  ctb_pred  \n",
       "0  1.386950   8.78767  8.120738  7.732295  8.092161  \n",
       "1  0.863881  11.79390  4.629908  4.877947  4.447047  \n",
       "2  2.336870   9.05400  8.572120  8.540636  8.321396  \n",
       "3  1.359470   4.84833  7.496467  7.472929  7.393689  \n",
       "4  1.532800   3.70660  7.207754  6.996287  7.297740  \n",
       "\n",
       "[5 rows x 104 columns]"
      ]
     },
     "execution_count": 6,
     "metadata": {},
     "output_type": "execute_result"
    }
   ],
   "source": [
    "test.head()"
   ]
  },
  {
   "cell_type": "markdown",
   "id": "5f849180",
   "metadata": {
    "papermill": {
     "duration": 0.015669,
     "end_time": "2021-08-28T23:16:28.926146",
     "exception": false,
     "start_time": "2021-08-28T23:16:28.910477",
     "status": "completed"
    },
    "tags": []
   },
   "source": [
    "# Preprocessing"
   ]
  },
  {
   "cell_type": "code",
   "execution_count": 7,
   "id": "b469c737",
   "metadata": {
    "execution": {
     "iopub.execute_input": "2021-08-28T23:16:28.963559Z",
     "iopub.status.busy": "2021-08-28T23:16:28.962902Z",
     "iopub.status.idle": "2021-08-28T23:16:41.206339Z",
     "shell.execute_reply": "2021-08-28T23:16:41.206821Z",
     "shell.execute_reply.started": "2021-08-28T22:51:52.004303Z"
    },
    "papermill": {
     "duration": 12.265446,
     "end_time": "2021-08-28T23:16:41.207035",
     "exception": false,
     "start_time": "2021-08-28T23:16:28.941589",
     "status": "completed"
    },
    "tags": []
   },
   "outputs": [],
   "source": [
    "scale_features = [col for col in test.columns if 'f' in col]\n",
    "\n",
    "ss = StandardScaler()\n",
    "train[scale_features] = ss.fit_transform(train[scale_features])\n",
    "test[scale_features] = ss.transform(test[scale_features])"
   ]
  },
  {
   "cell_type": "code",
   "execution_count": 8,
   "id": "1c86f5cb",
   "metadata": {
    "execution": {
     "iopub.execute_input": "2021-08-28T23:16:41.250814Z",
     "iopub.status.busy": "2021-08-28T23:16:41.250051Z",
     "iopub.status.idle": "2021-08-28T23:16:41.253848Z",
     "shell.execute_reply": "2021-08-28T23:16:41.253305Z",
     "shell.execute_reply.started": "2021-08-28T22:52:04.318533Z"
    },
    "papermill": {
     "duration": 0.028677,
     "end_time": "2021-08-28T23:16:41.254031",
     "exception": false,
     "start_time": "2021-08-28T23:16:41.225354",
     "status": "completed"
    },
    "tags": []
   },
   "outputs": [],
   "source": [
    "# Swap noise\n",
    "\n",
    "# Random\n",
    "def apply_noise_rn(df, p=.75):\n",
    "    should_not_swap = np.random.binomial(1, p, df.shape)\n",
    "    corrupted_df = df.where(should_not_swap == 1, np.random.permutation(df))\n",
    "    return corrupted_df\n",
    "\n",
    "# Row-wise\n",
    "def apply_noise_row(df, p=.75):\n",
    "    should_not_swap = np.zeros(df.shape)\n",
    "    for i in range(df.shape[0]):\n",
    "        for j in np.random.choice(df.shape[1],int(p*df.shape[1]),replace=False):\n",
    "            should_not_swap[i,j]=1 \n",
    "    corrupted_df = df.where(should_not_swap == 1, np.random.permutation(df))\n",
    "    return corrupted_df"
   ]
  },
  {
   "cell_type": "code",
   "execution_count": 9,
   "id": "05c2c185",
   "metadata": {
    "execution": {
     "iopub.execute_input": "2021-08-28T23:16:41.291756Z",
     "iopub.status.busy": "2021-08-28T23:16:41.291010Z",
     "iopub.status.idle": "2021-08-28T23:16:41.294470Z",
     "shell.execute_reply": "2021-08-28T23:16:41.293763Z",
     "shell.execute_reply.started": "2021-08-28T22:52:04.327598Z"
    },
    "papermill": {
     "duration": 0.024259,
     "end_time": "2021-08-28T23:16:41.294627",
     "exception": false,
     "start_time": "2021-08-28T23:16:41.270368",
     "status": "completed"
    },
    "tags": []
   },
   "outputs": [],
   "source": [
    "useful_features = scale_features + ['lgb_pred', 'xgb_pred','ctb_pred']"
   ]
  },
  {
   "cell_type": "markdown",
   "id": "914f7f13",
   "metadata": {
    "papermill": {
     "duration": 0.017263,
     "end_time": "2021-08-28T23:16:41.328510",
     "exception": false,
     "start_time": "2021-08-28T23:16:41.311247",
     "status": "completed"
    },
    "tags": []
   },
   "source": [
    "# Optuna"
   ]
  },
  {
   "cell_type": "code",
   "execution_count": 10,
   "id": "5b91585b",
   "metadata": {
    "execution": {
     "iopub.execute_input": "2021-08-28T23:16:41.367826Z",
     "iopub.status.busy": "2021-08-28T23:16:41.367134Z",
     "iopub.status.idle": "2021-08-28T23:16:51.587841Z",
     "shell.execute_reply": "2021-08-28T23:16:51.587306Z",
     "shell.execute_reply.started": "2021-08-28T22:52:04.340633Z"
    },
    "papermill": {
     "duration": 10.24253,
     "end_time": "2021-08-28T23:16:51.587995",
     "exception": false,
     "start_time": "2021-08-28T23:16:41.345465",
     "status": "completed"
    },
    "tags": []
   },
   "outputs": [
    {
     "name": "stdout",
     "output_type": "stream",
     "text": [
      "\u001b[33mWARNING: Running pip as root will break packages and permissions. You should install packages reliably by using venv: https://pip.pypa.io/warnings/venv\u001b[0m\r\n"
     ]
    }
   ],
   "source": [
    "# Optuna for parameter search\n",
    "!pip install -q optuna\n",
    "\n",
    "import optuna\n",
    "import pickle"
   ]
  },
  {
   "cell_type": "code",
   "execution_count": 11,
   "id": "039533b7",
   "metadata": {
    "execution": {
     "iopub.execute_input": "2021-08-28T23:16:51.634716Z",
     "iopub.status.busy": "2021-08-28T23:16:51.633986Z",
     "iopub.status.idle": "2021-08-28T23:16:51.838350Z",
     "shell.execute_reply": "2021-08-28T23:16:51.837670Z",
     "shell.execute_reply.started": "2021-08-28T22:52:29.065544Z"
    },
    "papermill": {
     "duration": 0.234092,
     "end_time": "2021-08-28T23:16:51.838494",
     "exception": false,
     "start_time": "2021-08-28T23:16:51.604402",
     "status": "completed"
    },
    "tags": []
   },
   "outputs": [],
   "source": [
    "# for the fixed learning rate, use the opt n iterations and tune the tree hyperparameters\n",
    "def objective(trial, X=train[useful_features], y=train[target]):\n",
    "  \"\"\"\n",
    "  \"\"\"\n",
    "  param_space = {\n",
    "                    'objective': 'regression',\n",
    "              'metric':'rmse',\n",
    "              'n_jobs':-1,\n",
    "               #'device':'gpu',  # Use GPU acceleration\n",
    "               # 'gpu_platform_id': 0,\n",
    "                #    'gpu_device_id': 0,\n",
    "               'n_estimators':N_ESTIMATORS,\n",
    "              'learning_rate':trial.suggest_uniform('learning_rate', 1e-2, 1e-1),\n",
    "               'subsample': trial.suggest_uniform('subsample', 0.67, 1.0),\n",
    "              'colsample_bytree':trial.suggest_uniform('colsample_bytree', 0.356, 0.756),\n",
    "                'subsample_freq': trial.suggest_int('subsample_freq', 5, 9),\n",
    "             #'boosting_type': 'gbdt',\n",
    "               'reg_lambda':trial.suggest_uniform('reg_lambda', 8.55, 32.55),\n",
    "              'reg_alpha':trial.suggest_uniform('reg_alpha', 30.5, 54.5),\n",
    "            'min_child_weight':trial.suggest_uniform('min_child_weight', 8, 208),\n",
    "                 'min_child_samples':trial.suggest_int('min_child_samples', 164, 284),\n",
    "          'importance_type': 'gain'\n",
    "                }\n",
    "            \n",
    "\n",
    "  seed_list=[SEED, SEED+1]\n",
    "  #kf = KFold(n_splits=N_SPLITS, shuffle=True, random_state=CVSEED)\n",
    "  #lgb_oof = np.zeros(train.shape[0])\n",
    "  #lgb_pred = np.zeros(test.shape[0])\n",
    "  \n",
    "  X_tr, X_va, y_tr, y_va = train_test_split(X,y,test_size=.2,random_state=CVSEED)\n",
    "  \n",
    "  pred=np.zeros(y_va.shape[0])\n",
    "  \n",
    "  #for (trn_idx, val_idx) in enumerate(kf.split(X, y)):\n",
    "  #print(f\"===== fold {fold} =====\")\n",
    "  \n",
    "  #X_tr = apply_noise_rn(X_tr)\n",
    "\n",
    "  \n",
    "  #start = time.time()\n",
    "  for inseed in seed_list:\n",
    "    param_space['random_state'] = inseed\n",
    "\n",
    "    model = lgb.LGBMRegressor(**param_space)\n",
    "    model.fit(\n",
    "        X_tr, \n",
    "        y_tr,\n",
    "        eval_set=[(X_va, y_va)],\n",
    "        eval_metric='rmse',\n",
    "        early_stopping_rounds=EARLY_STOPPING_ROUNDS,\n",
    "        verbose=VERBOSE,\n",
    "    )\n",
    "\n",
    "\n",
    "    pred += model.predict(X_va) / len(seed_list)\n",
    "    \n",
    "  #elapsed = time.time() - start\n",
    "  rmse = mean_squared_error(y_va, pred, squared=False)\n",
    "  #print(f\"fold {fold} - lgb rmse: {rmse:.6f}, elapsed time: {elapsed:.2f}sec\\n\")            \n",
    "  \n",
    "  #print(f\"oof lgb_rmse = {mean_squared_error(train[target], lgb_oof, squared=False)}\")\n",
    "\n",
    "  \n",
    "  return rmse"
   ]
  },
  {
   "cell_type": "code",
   "execution_count": 12,
   "id": "80103737",
   "metadata": {
    "execution": {
     "iopub.execute_input": "2021-08-28T23:16:51.876125Z",
     "iopub.status.busy": "2021-08-28T23:16:51.875455Z",
     "iopub.status.idle": "2021-08-28T23:30:35.434090Z",
     "shell.execute_reply": "2021-08-28T23:30:35.434716Z",
     "shell.execute_reply.started": "2021-08-28T22:52:29.286533Z"
    },
    "papermill": {
     "duration": 823.580161,
     "end_time": "2021-08-28T23:30:35.434916",
     "exception": false,
     "start_time": "2021-08-28T23:16:51.854755",
     "status": "completed"
    },
    "tags": []
   },
   "outputs": [
    {
     "name": "stderr",
     "output_type": "stream",
     "text": [
      "\u001b[32m[I 2021-08-28 23:16:51,873]\u001b[0m A new study created in memory with name: no-name-6c66f46f-643c-4671-8e53-e016de8183a8\u001b[0m\n"
     ]
    },
    {
     "name": "stdout",
     "output_type": "stream",
     "text": [
      "Training until validation scores don't improve for 200 rounds\n",
      "Early stopping, best iteration is:\n",
      "[86]\tvalid_0's rmse: 7.75296\n",
      "Training until validation scores don't improve for 200 rounds\n"
     ]
    },
    {
     "name": "stderr",
     "output_type": "stream",
     "text": [
      "\u001b[32m[I 2021-08-28 23:17:13,684]\u001b[0m Trial 0 finished with value: 7.751935784723151 and parameters: {'learning_rate': 0.03876032831466433, 'subsample': 0.9341731704447493, 'colsample_bytree': 0.5541106228231737, 'subsample_freq': 9, 'reg_lambda': 17.551398149476483, 'reg_alpha': 44.64636575856518, 'min_child_weight': 83.67502043238217, 'min_child_samples': 176}. Best is trial 0 with value: 7.751935784723151.\u001b[0m\n"
     ]
    },
    {
     "name": "stdout",
     "output_type": "stream",
     "text": [
      "Early stopping, best iteration is:\n",
      "[96]\tvalid_0's rmse: 7.75188\n",
      "Training until validation scores don't improve for 200 rounds\n",
      "Early stopping, best iteration is:\n",
      "[243]\tvalid_0's rmse: 7.75144\n",
      "Training until validation scores don't improve for 200 rounds\n",
      "Early stopping, best iteration is:\n",
      "[231]\tvalid_0's rmse: 7.75216\n"
     ]
    },
    {
     "name": "stderr",
     "output_type": "stream",
     "text": [
      "\u001b[32m[I 2021-08-28 23:17:46,019]\u001b[0m Trial 1 finished with value: 7.751588257735942 and parameters: {'learning_rate': 0.014576588483730888, 'subsample': 0.8313906708649433, 'colsample_bytree': 0.5719171102931042, 'subsample_freq': 8, 'reg_lambda': 29.088531487231364, 'reg_alpha': 49.36011218140722, 'min_child_weight': 137.51081379787257, 'min_child_samples': 208}. Best is trial 1 with value: 7.751588257735942.\u001b[0m\n"
     ]
    },
    {
     "name": "stdout",
     "output_type": "stream",
     "text": [
      "Training until validation scores don't improve for 200 rounds\n",
      "Early stopping, best iteration is:\n",
      "[43]\tvalid_0's rmse: 7.75431\n",
      "Training until validation scores don't improve for 200 rounds\n"
     ]
    },
    {
     "name": "stderr",
     "output_type": "stream",
     "text": [
      "\u001b[32m[I 2021-08-28 23:18:03,114]\u001b[0m Trial 2 finished with value: 7.752907106626557 and parameters: {'learning_rate': 0.07101278915123728, 'subsample': 0.84561630776699, 'colsample_bytree': 0.4927637047397653, 'subsample_freq': 8, 'reg_lambda': 9.41805992446753, 'reg_alpha': 43.568566088315336, 'min_child_weight': 33.413948254592846, 'min_child_samples': 254}. Best is trial 1 with value: 7.751588257735942.\u001b[0m\n"
     ]
    },
    {
     "name": "stdout",
     "output_type": "stream",
     "text": [
      "Early stopping, best iteration is:\n",
      "[41]\tvalid_0's rmse: 7.7532\n",
      "Training until validation scores don't improve for 200 rounds\n",
      "Early stopping, best iteration is:\n",
      "[95]\tvalid_0's rmse: 7.75339\n",
      "Training until validation scores don't improve for 200 rounds\n"
     ]
    },
    {
     "name": "stderr",
     "output_type": "stream",
     "text": [
      "\u001b[32m[I 2021-08-28 23:18:23,725]\u001b[0m Trial 3 finished with value: 7.752954087435198 and parameters: {'learning_rate': 0.02850482954105315, 'subsample': 0.6867996729575517, 'colsample_bytree': 0.5187563341870519, 'subsample_freq': 8, 'reg_lambda': 8.595589505392201, 'reg_alpha': 33.679022800278375, 'min_child_weight': 180.28306415059683, 'min_child_samples': 179}. Best is trial 1 with value: 7.751588257735942.\u001b[0m\n"
     ]
    },
    {
     "name": "stdout",
     "output_type": "stream",
     "text": [
      "Early stopping, best iteration is:\n",
      "[99]\tvalid_0's rmse: 7.75343\n",
      "Training until validation scores don't improve for 200 rounds\n",
      "Early stopping, best iteration is:\n",
      "[43]\tvalid_0's rmse: 7.75263\n",
      "Training until validation scores don't improve for 200 rounds\n"
     ]
    },
    {
     "name": "stderr",
     "output_type": "stream",
     "text": [
      "\u001b[32m[I 2021-08-28 23:18:41,151]\u001b[0m Trial 4 finished with value: 7.752182320567776 and parameters: {'learning_rate': 0.08359606567378186, 'subsample': 0.926019146542073, 'colsample_bytree': 0.5297743166431925, 'subsample_freq': 6, 'reg_lambda': 22.67126012740681, 'reg_alpha': 38.23437265834269, 'min_child_weight': 92.83586518588169, 'min_child_samples': 180}. Best is trial 1 with value: 7.751588257735942.\u001b[0m\n"
     ]
    },
    {
     "name": "stdout",
     "output_type": "stream",
     "text": [
      "Early stopping, best iteration is:\n",
      "[41]\tvalid_0's rmse: 7.75363\n",
      "Training until validation scores don't improve for 200 rounds\n",
      "Early stopping, best iteration is:\n",
      "[37]\tvalid_0's rmse: 7.75383\n",
      "Training until validation scores don't improve for 200 rounds\n"
     ]
    },
    {
     "name": "stderr",
     "output_type": "stream",
     "text": [
      "\u001b[32m[I 2021-08-28 23:19:02,435]\u001b[0m Trial 5 finished with value: 7.7527204204672095 and parameters: {'learning_rate': 0.07637346186949644, 'subsample': 0.7973414921741953, 'colsample_bytree': 0.74743325323928, 'subsample_freq': 9, 'reg_lambda': 23.804310646184575, 'reg_alpha': 41.56554835214994, 'min_child_weight': 114.68208104817975, 'min_child_samples': 270}. Best is trial 1 with value: 7.751588257735942.\u001b[0m\n"
     ]
    },
    {
     "name": "stdout",
     "output_type": "stream",
     "text": [
      "Early stopping, best iteration is:\n",
      "[33]\tvalid_0's rmse: 7.75344\n",
      "Training until validation scores don't improve for 200 rounds\n",
      "Early stopping, best iteration is:\n",
      "[217]\tvalid_0's rmse: 7.75232\n",
      "Training until validation scores don't improve for 200 rounds\n",
      "Early stopping, best iteration is:\n",
      "[255]\tvalid_0's rmse: 7.75178\n"
     ]
    },
    {
     "name": "stderr",
     "output_type": "stream",
     "text": [
      "\u001b[32m[I 2021-08-28 23:19:37,798]\u001b[0m Trial 6 finished with value: 7.75174524954131 and parameters: {'learning_rate': 0.014537386641364593, 'subsample': 0.7514059048013867, 'colsample_bytree': 0.6999675719787736, 'subsample_freq': 7, 'reg_lambda': 18.688711022850537, 'reg_alpha': 32.84816626303379, 'min_child_weight': 145.7616963933344, 'min_child_samples': 208}. Best is trial 1 with value: 7.751588257735942.\u001b[0m\n"
     ]
    },
    {
     "name": "stdout",
     "output_type": "stream",
     "text": [
      "Training until validation scores don't improve for 200 rounds\n",
      "Early stopping, best iteration is:\n",
      "[136]\tvalid_0's rmse: 7.75261\n",
      "Training until validation scores don't improve for 200 rounds\n",
      "Early stopping, best iteration is:\n",
      "[123]\tvalid_0's rmse: 7.75234\n"
     ]
    },
    {
     "name": "stderr",
     "output_type": "stream",
     "text": [
      "\u001b[32m[I 2021-08-28 23:20:01,481]\u001b[0m Trial 7 finished with value: 7.752164372404876 and parameters: {'learning_rate': 0.029447569206850342, 'subsample': 0.9918981539400733, 'colsample_bytree': 0.47390071054750055, 'subsample_freq': 9, 'reg_lambda': 29.945370751178373, 'reg_alpha': 43.65437306590776, 'min_child_weight': 118.13833420540526, 'min_child_samples': 266}. Best is trial 1 with value: 7.751588257735942.\u001b[0m\n"
     ]
    },
    {
     "name": "stdout",
     "output_type": "stream",
     "text": [
      "Training until validation scores don't improve for 200 rounds\n",
      "Early stopping, best iteration is:\n",
      "[30]\tvalid_0's rmse: 7.75532\n",
      "Training until validation scores don't improve for 200 rounds\n"
     ]
    },
    {
     "name": "stderr",
     "output_type": "stream",
     "text": [
      "\u001b[32m[I 2021-08-28 23:20:17,266]\u001b[0m Trial 8 finished with value: 7.754335840093565 and parameters: {'learning_rate': 0.09405259315146094, 'subsample': 0.9721829792890557, 'colsample_bytree': 0.4185665626984949, 'subsample_freq': 9, 'reg_lambda': 12.817603525253148, 'reg_alpha': 45.958478981070826, 'min_child_weight': 28.31300951992212, 'min_child_samples': 184}. Best is trial 1 with value: 7.751588257735942.\u001b[0m\n"
     ]
    },
    {
     "name": "stdout",
     "output_type": "stream",
     "text": [
      "Early stopping, best iteration is:\n",
      "[36]\tvalid_0's rmse: 7.75507\n",
      "Training until validation scores don't improve for 200 rounds\n",
      "Early stopping, best iteration is:\n",
      "[177]\tvalid_0's rmse: 7.75303\n",
      "Training until validation scores don't improve for 200 rounds\n",
      "Early stopping, best iteration is:\n",
      "[156]\tvalid_0's rmse: 7.75295\n"
     ]
    },
    {
     "name": "stderr",
     "output_type": "stream",
     "text": [
      "\u001b[32m[I 2021-08-28 23:20:46,367]\u001b[0m Trial 9 finished with value: 7.752587450958584 and parameters: {'learning_rate': 0.02020254039147458, 'subsample': 0.6943924045551781, 'colsample_bytree': 0.6854815511413586, 'subsample_freq': 7, 'reg_lambda': 21.491501417919373, 'reg_alpha': 46.15842902929513, 'min_child_weight': 49.345344018419226, 'min_child_samples': 168}. Best is trial 1 with value: 7.751588257735942.\u001b[0m\n"
     ]
    },
    {
     "name": "stdout",
     "output_type": "stream",
     "text": [
      "Training until validation scores don't improve for 200 rounds\n",
      "Early stopping, best iteration is:\n",
      "[72]\tvalid_0's rmse: 7.75479\n",
      "Training until validation scores don't improve for 200 rounds\n"
     ]
    },
    {
     "name": "stderr",
     "output_type": "stream",
     "text": [
      "\u001b[32m[I 2021-08-28 23:21:08,045]\u001b[0m Trial 10 finished with value: 7.752975806189387 and parameters: {'learning_rate': 0.05177265034118628, 'subsample': 0.8587498472955256, 'colsample_bytree': 0.6207081014797484, 'subsample_freq': 5, 'reg_lambda': 32.20224078619408, 'reg_alpha': 53.98523332691428, 'min_child_weight': 194.22459814376623, 'min_child_samples': 221}. Best is trial 1 with value: 7.751588257735942.\u001b[0m\n"
     ]
    },
    {
     "name": "stdout",
     "output_type": "stream",
     "text": [
      "Early stopping, best iteration is:\n",
      "[59]\tvalid_0's rmse: 7.75247\n",
      "Training until validation scores don't improve for 200 rounds\n",
      "Early stopping, best iteration is:\n",
      "[290]\tvalid_0's rmse: 7.75242\n",
      "Training until validation scores don't improve for 200 rounds\n",
      "Early stopping, best iteration is:\n",
      "[311]\tvalid_0's rmse: 7.75184\n"
     ]
    },
    {
     "name": "stderr",
     "output_type": "stream",
     "text": [
      "\u001b[32m[I 2021-08-28 23:21:47,490]\u001b[0m Trial 11 finished with value: 7.7519157875005344 and parameters: {'learning_rate': 0.01141740934574591, 'subsample': 0.7579124228028785, 'colsample_bytree': 0.6492695256587095, 'subsample_freq': 7, 'reg_lambda': 28.174815762987294, 'reg_alpha': 53.26093214995501, 'min_child_weight': 154.47807487266425, 'min_child_samples': 211}. Best is trial 1 with value: 7.751588257735942.\u001b[0m\n"
     ]
    },
    {
     "name": "stdout",
     "output_type": "stream",
     "text": [
      "Training until validation scores don't improve for 200 rounds\n",
      "Early stopping, best iteration is:\n",
      "[306]\tvalid_0's rmse: 7.75203\n",
      "Training until validation scores don't improve for 200 rounds\n",
      "Early stopping, best iteration is:\n",
      "[241]\tvalid_0's rmse: 7.75266\n"
     ]
    },
    {
     "name": "stderr",
     "output_type": "stream",
     "text": [
      "\u001b[32m[I 2021-08-28 23:22:27,434]\u001b[0m Trial 12 finished with value: 7.752060637376715 and parameters: {'learning_rate': 0.012399975624671544, 'subsample': 0.7562136721073791, 'colsample_bytree': 0.7480227668473356, 'subsample_freq': 6, 'reg_lambda': 17.360837882428214, 'reg_alpha': 31.201850795148758, 'min_child_weight': 151.4969359152438, 'min_child_samples': 203}. Best is trial 1 with value: 7.751588257735942.\u001b[0m\n"
     ]
    },
    {
     "name": "stdout",
     "output_type": "stream",
     "text": [
      "Training until validation scores don't improve for 200 rounds\n",
      "Early stopping, best iteration is:\n",
      "[56]\tvalid_0's rmse: 7.75288\n",
      "Training until validation scores don't improve for 200 rounds\n"
     ]
    },
    {
     "name": "stderr",
     "output_type": "stream",
     "text": [
      "\u001b[32m[I 2021-08-28 23:22:48,535]\u001b[0m Trial 13 finished with value: 7.7523311302493685 and parameters: {'learning_rate': 0.04704917002352326, 'subsample': 0.7927893416833351, 'colsample_bytree': 0.6149026789208611, 'subsample_freq': 8, 'reg_lambda': 27.39731800018658, 'reg_alpha': 49.80335596070402, 'min_child_weight': 151.40097545965114, 'min_child_samples': 238}. Best is trial 1 with value: 7.751588257735942.\u001b[0m\n"
     ]
    },
    {
     "name": "stdout",
     "output_type": "stream",
     "text": [
      "Early stopping, best iteration is:\n",
      "[68]\tvalid_0's rmse: 7.75313\n",
      "Training until validation scores don't improve for 200 rounds\n",
      "Early stopping, best iteration is:\n",
      "[304]\tvalid_0's rmse: 7.75205\n",
      "Training until validation scores don't improve for 200 rounds\n",
      "Early stopping, best iteration is:\n",
      "[288]\tvalid_0's rmse: 7.75128\n"
     ]
    },
    {
     "name": "stderr",
     "output_type": "stream",
     "text": [
      "\u001b[32m[I 2021-08-28 23:23:30,671]\u001b[0m Trial 14 finished with value: 7.751478358030661 and parameters: {'learning_rate': 0.012160304822817415, 'subsample': 0.8790302032736914, 'colsample_bytree': 0.6937682134174559, 'subsample_freq': 6, 'reg_lambda': 14.649230949175333, 'reg_alpha': 49.72020510829387, 'min_child_weight': 130.41541516260526, 'min_child_samples': 198}. Best is trial 14 with value: 7.751478358030661.\u001b[0m\n"
     ]
    },
    {
     "name": "stdout",
     "output_type": "stream",
     "text": [
      "Training until validation scores don't improve for 200 rounds\n",
      "Early stopping, best iteration is:\n",
      "[137]\tvalid_0's rmse: 7.75181\n",
      "Training until validation scores don't improve for 200 rounds\n",
      "Early stopping, best iteration is:\n",
      "[125]\tvalid_0's rmse: 7.75241\n"
     ]
    },
    {
     "name": "stderr",
     "output_type": "stream",
     "text": [
      "\u001b[32m[I 2021-08-28 23:23:56,128]\u001b[0m Trial 15 finished with value: 7.751821293525129 and parameters: {'learning_rate': 0.024713279273176764, 'subsample': 0.8951379266034244, 'colsample_bytree': 0.5856424207756324, 'subsample_freq': 5, 'reg_lambda': 14.523162825537511, 'reg_alpha': 49.788671277651474, 'min_child_weight': 69.80687554851974, 'min_child_samples': 195}. Best is trial 14 with value: 7.751478358030661.\u001b[0m\n"
     ]
    },
    {
     "name": "stdout",
     "output_type": "stream",
     "text": [
      "Training until validation scores don't improve for 200 rounds\n",
      "Early stopping, best iteration is:\n",
      "[105]\tvalid_0's rmse: 7.75467\n",
      "Training until validation scores don't improve for 200 rounds\n",
      "Early stopping, best iteration is:\n",
      "[113]\tvalid_0's rmse: 7.75266\n"
     ]
    },
    {
     "name": "stderr",
     "output_type": "stream",
     "text": [
      "\u001b[32m[I 2021-08-28 23:24:14,143]\u001b[0m Trial 16 finished with value: 7.753043116133106 and parameters: {'learning_rate': 0.04038494401706518, 'subsample': 0.8779812705144844, 'colsample_bytree': 0.37791037079330203, 'subsample_freq': 6, 'reg_lambda': 13.787331535194744, 'reg_alpha': 50.474525302941586, 'min_child_weight': 128.42696881058887, 'min_child_samples': 236}. Best is trial 14 with value: 7.751478358030661.\u001b[0m\n"
     ]
    },
    {
     "name": "stdout",
     "output_type": "stream",
     "text": [
      "Training until validation scores don't improve for 200 rounds\n",
      "Early stopping, best iteration is:\n",
      "[57]\tvalid_0's rmse: 7.75273\n",
      "Training until validation scores don't improve for 200 rounds\n"
     ]
    },
    {
     "name": "stderr",
     "output_type": "stream",
     "text": [
      "\u001b[32m[I 2021-08-28 23:24:36,170]\u001b[0m Trial 17 finished with value: 7.7524656293616125 and parameters: {'learning_rate': 0.06596567503195679, 'subsample': 0.8146765466205443, 'colsample_bytree': 0.673747590096067, 'subsample_freq': 6, 'reg_lambda': 26.22827755799998, 'reg_alpha': 48.01228373033454, 'min_child_weight': 172.96075733850725, 'min_child_samples': 225}. Best is trial 14 with value: 7.751478358030661.\u001b[0m\n"
     ]
    },
    {
     "name": "stdout",
     "output_type": "stream",
     "text": [
      "Early stopping, best iteration is:\n",
      "[46]\tvalid_0's rmse: 7.75406\n",
      "Training until validation scores don't improve for 200 rounds\n",
      "Early stopping, best iteration is:\n",
      "[99]\tvalid_0's rmse: 7.75306\n",
      "Training until validation scores don't improve for 200 rounds\n"
     ]
    },
    {
     "name": "stderr",
     "output_type": "stream",
     "text": [
      "\u001b[32m[I 2021-08-28 23:24:56,263]\u001b[0m Trial 18 finished with value: 7.7525021524183435 and parameters: {'learning_rate': 0.035716281524891064, 'subsample': 0.9104669561578124, 'colsample_bytree': 0.45101150501430953, 'subsample_freq': 8, 'reg_lambda': 11.708957596242655, 'reg_alpha': 52.6489279364797, 'min_child_weight': 97.35948395172782, 'min_child_samples': 193}. Best is trial 14 with value: 7.751478358030661.\u001b[0m\n"
     ]
    },
    {
     "name": "stdout",
     "output_type": "stream",
     "text": [
      "Early stopping, best iteration is:\n",
      "[104]\tvalid_0's rmse: 7.75282\n",
      "Training until validation scores don't improve for 200 rounds\n",
      "Early stopping, best iteration is:\n",
      "[59]\tvalid_0's rmse: 7.75356\n",
      "Training until validation scores don't improve for 200 rounds\n"
     ]
    },
    {
     "name": "stderr",
     "output_type": "stream",
     "text": [
      "\u001b[32m[I 2021-08-28 23:25:15,391]\u001b[0m Trial 19 finished with value: 7.753067302014412 and parameters: {'learning_rate': 0.058559725840721694, 'subsample': 0.8231084779187535, 'colsample_bytree': 0.5752207305033694, 'subsample_freq': 5, 'reg_lambda': 32.43777739391998, 'reg_alpha': 40.40653647292761, 'min_child_weight': 130.41824885890617, 'min_child_samples': 222}. Best is trial 14 with value: 7.751478358030661.\u001b[0m\n"
     ]
    },
    {
     "name": "stdout",
     "output_type": "stream",
     "text": [
      "Early stopping, best iteration is:\n",
      "[52]\tvalid_0's rmse: 7.75405\n",
      "Training until validation scores don't improve for 200 rounds\n",
      "Early stopping, best iteration is:\n",
      "[156]\tvalid_0's rmse: 7.75224\n",
      "Training until validation scores don't improve for 200 rounds\n",
      "Early stopping, best iteration is:\n",
      "[178]\tvalid_0's rmse: 7.75209\n"
     ]
    },
    {
     "name": "stderr",
     "output_type": "stream",
     "text": [
      "\u001b[32m[I 2021-08-28 23:25:49,212]\u001b[0m Trial 20 finished with value: 7.751933891552551 and parameters: {'learning_rate': 0.019653898301540525, 'subsample': 0.956276616032565, 'colsample_bytree': 0.740211533665825, 'subsample_freq': 7, 'reg_lambda': 15.760251045281631, 'reg_alpha': 47.49352918808, 'min_child_weight': 71.81080087341968, 'min_child_samples': 164}. Best is trial 14 with value: 7.751478358030661.\u001b[0m\n"
     ]
    },
    {
     "name": "stdout",
     "output_type": "stream",
     "text": [
      "Training until validation scores don't improve for 200 rounds\n",
      "Early stopping, best iteration is:\n",
      "[306]\tvalid_0's rmse: 7.75226\n",
      "Training until validation scores don't improve for 200 rounds\n",
      "Early stopping, best iteration is:\n",
      "[290]\tvalid_0's rmse: 7.75245\n"
     ]
    },
    {
     "name": "stderr",
     "output_type": "stream",
     "text": [
      "\u001b[32m[I 2021-08-28 23:26:28,889]\u001b[0m Trial 21 finished with value: 7.752130371336619 and parameters: {'learning_rate': 0.010944410100646076, 'subsample': 0.7376189301724999, 'colsample_bytree': 0.6951325073983015, 'subsample_freq': 7, 'reg_lambda': 19.365480931673936, 'reg_alpha': 36.73149587593763, 'min_child_weight': 142.71827424039708, 'min_child_samples': 209}. Best is trial 14 with value: 7.751478358030661.\u001b[0m\n"
     ]
    },
    {
     "name": "stdout",
     "output_type": "stream",
     "text": [
      "Training until validation scores don't improve for 200 rounds\n",
      "Early stopping, best iteration is:\n",
      "[174]\tvalid_0's rmse: 7.75356\n",
      "Training until validation scores don't improve for 200 rounds\n",
      "Early stopping, best iteration is:\n",
      "[195]\tvalid_0's rmse: 7.75274\n"
     ]
    },
    {
     "name": "stderr",
     "output_type": "stream",
     "text": [
      "\u001b[32m[I 2021-08-28 23:27:00,422]\u001b[0m Trial 22 finished with value: 7.752804027296953 and parameters: {'learning_rate': 0.017299335390377597, 'subsample': 0.7144162555784495, 'colsample_bytree': 0.7135602571691021, 'subsample_freq': 6, 'reg_lambda': 19.417653349272335, 'reg_alpha': 31.174695499404276, 'min_child_weight': 169.40131261824743, 'min_child_samples': 196}. Best is trial 14 with value: 7.751478358030661.\u001b[0m\n"
     ]
    },
    {
     "name": "stdout",
     "output_type": "stream",
     "text": [
      "Training until validation scores don't improve for 200 rounds\n",
      "Early stopping, best iteration is:\n",
      "[367]\tvalid_0's rmse: 7.75201\n",
      "Training until validation scores don't improve for 200 rounds\n",
      "Early stopping, best iteration is:\n",
      "[336]\tvalid_0's rmse: 7.75149\n"
     ]
    },
    {
     "name": "stderr",
     "output_type": "stream",
     "text": [
      "\u001b[32m[I 2021-08-28 23:27:46,050]\u001b[0m Trial 23 finished with value: 7.751594003213146 and parameters: {'learning_rate': 0.010015371773142233, 'subsample': 0.8633840772701261, 'colsample_bytree': 0.6360260441600412, 'subsample_freq': 8, 'reg_lambda': 24.66379270242778, 'reg_alpha': 51.50161390739713, 'min_child_weight': 207.8353982938331, 'min_child_samples': 211}. Best is trial 14 with value: 7.751478358030661.\u001b[0m\n"
     ]
    },
    {
     "name": "stdout",
     "output_type": "stream",
     "text": [
      "Training until validation scores don't improve for 200 rounds\n",
      "Early stopping, best iteration is:\n",
      "[397]\tvalid_0's rmse: 7.75233\n",
      "Training until validation scores don't improve for 200 rounds\n",
      "Early stopping, best iteration is:\n",
      "[339]\tvalid_0's rmse: 7.75208\n"
     ]
    },
    {
     "name": "stderr",
     "output_type": "stream",
     "text": [
      "\u001b[32m[I 2021-08-28 23:28:30,642]\u001b[0m Trial 24 finished with value: 7.752027756815544 and parameters: {'learning_rate': 0.010610122220915404, 'subsample': 0.8677894396066329, 'colsample_bytree': 0.6404100085693955, 'subsample_freq': 8, 'reg_lambda': 25.000750582618455, 'reg_alpha': 52.18824816465499, 'min_child_weight': 201.58645815325195, 'min_child_samples': 218}. Best is trial 14 with value: 7.751478358030661.\u001b[0m\n"
     ]
    },
    {
     "name": "stdout",
     "output_type": "stream",
     "text": [
      "Training until validation scores don't improve for 200 rounds\n",
      "Early stopping, best iteration is:\n",
      "[137]\tvalid_0's rmse: 7.75163\n",
      "Training until validation scores don't improve for 200 rounds\n",
      "Early stopping, best iteration is:\n",
      "[155]\tvalid_0's rmse: 7.75191\n"
     ]
    },
    {
     "name": "stderr",
     "output_type": "stream",
     "text": [
      "\u001b[32m[I 2021-08-28 23:28:58,425]\u001b[0m Trial 25 finished with value: 7.751445395722502 and parameters: {'learning_rate': 0.02353337642138889, 'subsample': 0.8927518164857942, 'colsample_bytree': 0.6082521012761244, 'subsample_freq': 8, 'reg_lambda': 30.353719041677138, 'reg_alpha': 51.51192793124132, 'min_child_weight': 191.56782210566885, 'min_child_samples': 237}. Best is trial 25 with value: 7.751445395722502.\u001b[0m\n"
     ]
    },
    {
     "name": "stdout",
     "output_type": "stream",
     "text": [
      "Training until validation scores don't improve for 200 rounds\n",
      "Early stopping, best iteration is:\n",
      "[151]\tvalid_0's rmse: 7.75213\n",
      "Training until validation scores don't improve for 200 rounds\n",
      "Early stopping, best iteration is:\n",
      "[150]\tvalid_0's rmse: 7.75229\n"
     ]
    },
    {
     "name": "stderr",
     "output_type": "stream",
     "text": [
      "\u001b[32m[I 2021-08-28 23:29:26,153]\u001b[0m Trial 26 finished with value: 7.751866645759807 and parameters: {'learning_rate': 0.025075274130332545, 'subsample': 0.8935170722900027, 'colsample_bytree': 0.5880349581631927, 'subsample_freq': 8, 'reg_lambda': 29.55050077304464, 'reg_alpha': 48.48869594574464, 'min_child_weight': 187.34335854299854, 'min_child_samples': 236}. Best is trial 25 with value: 7.751445395722502.\u001b[0m\n"
     ]
    },
    {
     "name": "stdout",
     "output_type": "stream",
     "text": [
      "Training until validation scores don't improve for 200 rounds\n",
      "Early stopping, best iteration is:\n",
      "[94]\tvalid_0's rmse: 7.75369\n",
      "Training until validation scores don't improve for 200 rounds\n",
      "Early stopping, best iteration is:\n",
      "[104]\tvalid_0's rmse: 7.75251\n"
     ]
    },
    {
     "name": "stderr",
     "output_type": "stream",
     "text": [
      "\u001b[32m[I 2021-08-28 23:29:47,619]\u001b[0m Trial 27 finished with value: 7.752607729780717 and parameters: {'learning_rate': 0.03517758916497572, 'subsample': 0.840279913646172, 'colsample_bytree': 0.54203643455489, 'subsample_freq': 7, 'reg_lambda': 30.776649421094703, 'reg_alpha': 54.14253299348935, 'min_child_weight': 166.517897591679, 'min_child_samples': 249}. Best is trial 25 with value: 7.751445395722502.\u001b[0m\n"
     ]
    },
    {
     "name": "stdout",
     "output_type": "stream",
     "text": [
      "Training until validation scores don't improve for 200 rounds\n",
      "Early stopping, best iteration is:\n",
      "[120]\tvalid_0's rmse: 7.75327\n",
      "Training until validation scores don't improve for 200 rounds\n",
      "Early stopping, best iteration is:\n",
      "[124]\tvalid_0's rmse: 7.7528\n"
     ]
    },
    {
     "name": "stderr",
     "output_type": "stream",
     "text": [
      "\u001b[32m[I 2021-08-28 23:30:12,294]\u001b[0m Trial 28 finished with value: 7.75267318471845 and parameters: {'learning_rate': 0.024397805434891028, 'subsample': 0.788090407321264, 'colsample_bytree': 0.6005880126907872, 'subsample_freq': 9, 'reg_lambda': 31.639933753896077, 'reg_alpha': 51.02497908675723, 'min_child_weight': 129.37139229937793, 'min_child_samples': 247}. Best is trial 25 with value: 7.751445395722502.\u001b[0m\n"
     ]
    },
    {
     "name": "stdout",
     "output_type": "stream",
     "text": [
      "Training until validation scores don't improve for 200 rounds\n",
      "Early stopping, best iteration is:\n",
      "[99]\tvalid_0's rmse: 7.75222\n",
      "Training until validation scores don't improve for 200 rounds\n"
     ]
    },
    {
     "name": "stderr",
     "output_type": "stream",
     "text": [
      "\u001b[32m[I 2021-08-28 23:30:35,420]\u001b[0m Trial 29 finished with value: 7.752096571114211 and parameters: {'learning_rate': 0.04355472003164232, 'subsample': 0.9431199407960068, 'colsample_bytree': 0.5699524094431566, 'subsample_freq': 8, 'reg_lambda': 28.11373286833887, 'reg_alpha': 45.950880697597036, 'min_child_weight': 103.79088212196048, 'min_child_samples': 230}. Best is trial 25 with value: 7.751445395722502.\u001b[0m\n"
     ]
    },
    {
     "name": "stdout",
     "output_type": "stream",
     "text": [
      "Early stopping, best iteration is:\n",
      "[86]\tvalid_0's rmse: 7.7531\n",
      "Number of finished trials: 30\n",
      "Best trial: {'learning_rate': 0.02353337642138889, 'subsample': 0.8927518164857942, 'colsample_bytree': 0.6082521012761244, 'subsample_freq': 8, 'reg_lambda': 30.353719041677138, 'reg_alpha': 51.51192793124132, 'min_child_weight': 191.56782210566885, 'min_child_samples': 237}\n"
     ]
    }
   ],
   "source": [
    "study = optuna.create_study(direction='minimize')\n",
    "study.optimize(objective,n_trials= 30)\n",
    "print('Number of finished trials:', len(study.trials))\n",
    "print('Best trial:', study.best_trial.params)"
   ]
  },
  {
   "cell_type": "code",
   "execution_count": 13,
   "id": "3fcf6b18",
   "metadata": {
    "execution": {
     "iopub.execute_input": "2021-08-28T23:30:35.567200Z",
     "iopub.status.busy": "2021-08-28T23:30:35.566550Z",
     "iopub.status.idle": "2021-08-28T23:30:35.569770Z",
     "shell.execute_reply": "2021-08-28T23:30:35.570255Z"
    },
    "papermill": {
     "duration": 0.073569,
     "end_time": "2021-08-28T23:30:35.570443",
     "exception": false,
     "start_time": "2021-08-28T23:30:35.496874",
     "status": "completed"
    },
    "tags": []
   },
   "outputs": [
    {
     "data": {
      "text/plain": [
       "{'learning_rate': 0.02353337642138889,\n",
       " 'subsample': 0.8927518164857942,\n",
       " 'colsample_bytree': 0.6082521012761244,\n",
       " 'subsample_freq': 8,\n",
       " 'reg_lambda': 30.353719041677138,\n",
       " 'reg_alpha': 51.51192793124132,\n",
       " 'min_child_weight': 191.56782210566885,\n",
       " 'min_child_samples': 237}"
      ]
     },
     "execution_count": 13,
     "metadata": {},
     "output_type": "execute_result"
    }
   ],
   "source": [
    "study.best_params"
   ]
  },
  {
   "cell_type": "markdown",
   "id": "65608c91",
   "metadata": {
    "papermill": {
     "duration": 0.066449,
     "end_time": "2021-08-28T23:30:35.700112",
     "exception": false,
     "start_time": "2021-08-28T23:30:35.633663",
     "status": "completed"
    },
    "tags": []
   },
   "source": [
    "# Log\n",
    "\n",
    "7.751556608663328 no noise ver1"
   ]
  }
 ],
 "metadata": {
  "kernelspec": {
   "display_name": "Python 3",
   "language": "python",
   "name": "python3"
  },
  "language_info": {
   "codemirror_mode": {
    "name": "ipython",
    "version": 3
   },
   "file_extension": ".py",
   "mimetype": "text/x-python",
   "name": "python",
   "nbconvert_exporter": "python",
   "pygments_lexer": "ipython3",
   "version": "3.7.10"
  },
  "papermill": {
   "default_parameters": {},
   "duration": 872.21621,
   "end_time": "2021-08-28T23:30:37.579389",
   "environment_variables": {},
   "exception": null,
   "input_path": "__notebook__.ipynb",
   "output_path": "__notebook__.ipynb",
   "parameters": {},
   "start_time": "2021-08-28T23:16:05.363179",
   "version": "2.3.3"
  }
 },
 "nbformat": 4,
 "nbformat_minor": 5
}
