{
 "cells": [
  {
   "cell_type": "code",
   "execution_count": 1,
   "id": "fc8d28db",
   "metadata": {
    "_cell_guid": "b1076dfc-b9ad-4769-8c92-a6c4dae69d19",
    "_uuid": "8f2839f25d086af736a60e9eeb907d3b93b6e0e5",
    "execution": {
     "iopub.execute_input": "2021-08-31T09:56:32.433766Z",
     "iopub.status.busy": "2021-08-31T09:56:32.433060Z",
     "iopub.status.idle": "2021-08-31T09:56:33.522759Z",
     "shell.execute_reply": "2021-08-31T09:56:33.522119Z",
     "shell.execute_reply.started": "2021-08-31T09:47:22.622277Z"
    },
    "papermill": {
     "duration": 1.113863,
     "end_time": "2021-08-31T09:56:33.522939",
     "exception": false,
     "start_time": "2021-08-31T09:56:32.409076",
     "status": "completed"
    },
    "tags": []
   },
   "outputs": [],
   "source": [
    "# Familiar imports\n",
    "import numpy as np\n",
    "import pandas as pd\n",
    "import random\n",
    "import os\n",
    "import time\n",
    "from pathlib import Path\n",
    "import pickle\n",
    "\n",
    "from sklearn.preprocessing import StandardScaler\n",
    "from sklearn.model_selection import KFold, train_test_split\n",
    "from sklearn.metrics import mean_squared_error\n",
    "from sklearn.neural_network import MLPRegressor\n",
    "\n",
    "from scipy.optimize import minimize\n",
    "\n",
    "#import lightgbm as lgb\n",
    "#import xgboost as xgb\n",
    "#import catboost as ctb\n",
    "\n",
    "import matplotlib.pyplot as plt\n",
    "import seaborn as sns\n",
    "\n",
    "import warnings\n",
    "warnings.simplefilter('ignore')"
   ]
  },
  {
   "cell_type": "markdown",
   "id": "5d383f46",
   "metadata": {
    "papermill": {
     "duration": 0.010824,
     "end_time": "2021-08-31T09:56:33.547872",
     "exception": false,
     "start_time": "2021-08-31T09:56:33.537048",
     "status": "completed"
    },
    "tags": []
   },
   "source": [
    "# Parameters"
   ]
  },
  {
   "cell_type": "code",
   "execution_count": 2,
   "id": "007829e7",
   "metadata": {
    "execution": {
     "iopub.execute_input": "2021-08-31T09:56:33.575394Z",
     "iopub.status.busy": "2021-08-31T09:56:33.574800Z",
     "iopub.status.idle": "2021-08-31T09:56:33.577096Z",
     "shell.execute_reply": "2021-08-31T09:56:33.577512Z",
     "shell.execute_reply.started": "2021-08-31T09:47:23.826656Z"
    },
    "papermill": {
     "duration": 0.018815,
     "end_time": "2021-08-31T09:56:33.577705",
     "exception": false,
     "start_time": "2021-08-31T09:56:33.558890",
     "status": "completed"
    },
    "tags": []
   },
   "outputs": [],
   "source": [
    "target = 'loss'\n",
    "\n",
    "DEBUG = False\n",
    "\n",
    "if DEBUG:\n",
    "    N_ESTIMATORS = 1\n",
    "    N_SPLITS = 2\n",
    "    SEED = 17\n",
    "    CVSEED = 17\n",
    "    EARLY_STOPPING_ROUNDS = 1\n",
    "    VERBOSE = 100\n",
    "    #N_ITERS = 2\n",
    "else:\n",
    "    N_SPLITS = 10\n",
    "    N_ESTIMATORS = 500\n",
    "    EARLY_STOPPING_ROUNDS = 200\n",
    "    VERBOSE = 1000\n",
    "    SEED = 17\n",
    "    CVSEED = 17\n",
    "    #N_ITERS = 10"
   ]
  },
  {
   "cell_type": "code",
   "execution_count": 3,
   "id": "b768e5c1",
   "metadata": {
    "execution": {
     "iopub.execute_input": "2021-08-31T09:56:33.605283Z",
     "iopub.status.busy": "2021-08-31T09:56:33.604668Z",
     "iopub.status.idle": "2021-08-31T09:56:33.607693Z",
     "shell.execute_reply": "2021-08-31T09:56:33.607207Z",
     "shell.execute_reply.started": "2021-08-31T09:47:23.836147Z"
    },
    "papermill": {
     "duration": 0.018707,
     "end_time": "2021-08-31T09:56:33.607824",
     "exception": false,
     "start_time": "2021-08-31T09:56:33.589117",
     "status": "completed"
    },
    "tags": []
   },
   "outputs": [],
   "source": [
    "def set_seed(seed=17):\n",
    "    random.seed(seed)\n",
    "    os.environ['PYTHONHASHSEED'] = str(seed)\n",
    "    np.random.seed(seed)\n",
    "    \n",
    "set_seed(SEED)"
   ]
  },
  {
   "cell_type": "markdown",
   "id": "2c1af3ce",
   "metadata": {
    "papermill": {
     "duration": 0.010924,
     "end_time": "2021-08-31T09:56:33.629980",
     "exception": false,
     "start_time": "2021-08-31T09:56:33.619056",
     "status": "completed"
    },
    "tags": []
   },
   "source": [
    "# Load data"
   ]
  },
  {
   "cell_type": "code",
   "execution_count": 4,
   "id": "7b2e5880",
   "metadata": {
    "execution": {
     "iopub.execute_input": "2021-08-31T09:56:33.657311Z",
     "iopub.status.busy": "2021-08-31T09:56:33.656736Z",
     "iopub.status.idle": "2021-08-31T09:56:42.807912Z",
     "shell.execute_reply": "2021-08-31T09:56:42.806947Z",
     "shell.execute_reply.started": "2021-08-31T09:47:23.848692Z"
    },
    "papermill": {
     "duration": 9.166971,
     "end_time": "2021-08-31T09:56:42.808066",
     "exception": false,
     "start_time": "2021-08-31T09:56:33.641095",
     "status": "completed"
    },
    "tags": []
   },
   "outputs": [],
   "source": [
    "INPUT = Path(\"../input/tabular-playground-series-aug-2021\")\n",
    "\n",
    "train = pd.read_csv(INPUT / \"train.csv\")\n",
    "test = pd.read_csv(INPUT / \"test.csv\")\n",
    "submission = pd.read_csv(INPUT / \"sample_submission.csv\")"
   ]
  },
  {
   "cell_type": "code",
   "execution_count": 5,
   "id": "f4ff221b",
   "metadata": {
    "execution": {
     "iopub.execute_input": "2021-08-31T09:56:42.836738Z",
     "iopub.status.busy": "2021-08-31T09:56:42.836079Z",
     "iopub.status.idle": "2021-08-31T09:56:43.051944Z",
     "shell.execute_reply": "2021-08-31T09:56:43.052645Z",
     "shell.execute_reply.started": "2021-08-31T09:47:34.847982Z"
    },
    "papermill": {
     "duration": 0.233228,
     "end_time": "2021-08-31T09:56:43.052831",
     "exception": false,
     "start_time": "2021-08-31T09:56:42.819603",
     "status": "completed"
    },
    "tags": []
   },
   "outputs": [],
   "source": [
    "train['lgb_pred'] = np.load(\"../input/tps-aug-2021-lgb/lgb_oof.npy\")\n",
    "test['lgb_pred'] = np.load(\"../input/tps-aug-2021-lgb/lgb_pred.npy\")\n",
    "\n",
    "train['xgb_pred'] = np.load(\"../input/tps-aug-2021-xgb/xgb_oof.npy\")\n",
    "test['xgb_pred'] = np.load(\"../input/tps-aug-2021-xgb/xgb_pred.npy\")\n",
    "\n",
    "train['xgb2_pred'] = np.load(\"../input/tps-aug-2021-xgb-pseudo2-pred/3xgb_oof.npy\")+np.load(\"../input/tps-aug-2021-xgb-pseudo2-pred/4xgb_oof.npy\")\n",
    "test['xgb2_pred'] = np.load(\"../input/tps-aug-2021-xgb-pseudo2-pred/3xgb_pred.npy\")+np.load(\"../input/tps-aug-2021-xgb-pseudo2-pred/4xgb_pred.npy\")\n",
    "\n",
    "train['ctb2_pred'] = np.load(\"../input/tps-aug-2021-catb-pseudo2/ctb_oof.npy\")\n",
    "test['ctb2_pred'] = np.load(\"../input/tps-aug-2021-catb-pseudo2/ctb_pred.npy\")"
   ]
  },
  {
   "cell_type": "markdown",
   "id": "f168dc66",
   "metadata": {
    "papermill": {
     "duration": 0.010846,
     "end_time": "2021-08-31T09:56:43.074942",
     "exception": false,
     "start_time": "2021-08-31T09:56:43.064096",
     "status": "completed"
    },
    "tags": []
   },
   "source": [
    "# Preprocessing"
   ]
  },
  {
   "cell_type": "code",
   "execution_count": 6,
   "id": "76c572cd",
   "metadata": {
    "execution": {
     "iopub.execute_input": "2021-08-31T09:56:43.103178Z",
     "iopub.status.busy": "2021-08-31T09:56:43.102559Z",
     "iopub.status.idle": "2021-08-31T09:56:50.236306Z",
     "shell.execute_reply": "2021-08-31T09:56:50.236928Z",
     "shell.execute_reply.started": "2021-08-31T09:47:35.123411Z"
    },
    "papermill": {
     "duration": 7.150885,
     "end_time": "2021-08-31T09:56:50.237098",
     "exception": false,
     "start_time": "2021-08-31T09:56:43.086213",
     "status": "completed"
    },
    "tags": []
   },
   "outputs": [],
   "source": [
    "scale_features = [col for col in test.columns if 'f' in col]\n",
    "\n",
    "ss = StandardScaler()\n",
    "train[scale_features] = ss.fit_transform(train[scale_features])\n",
    "test[scale_features] = ss.transform(test[scale_features])"
   ]
  },
  {
   "cell_type": "code",
   "execution_count": 7,
   "id": "2706c756",
   "metadata": {
    "execution": {
     "iopub.execute_input": "2021-08-31T09:56:50.262344Z",
     "iopub.status.busy": "2021-08-31T09:56:50.261804Z",
     "iopub.status.idle": "2021-08-31T09:56:50.268182Z",
     "shell.execute_reply": "2021-08-31T09:56:50.267731Z",
     "shell.execute_reply.started": "2021-08-31T09:47:47.345207Z"
    },
    "papermill": {
     "duration": 0.019821,
     "end_time": "2021-08-31T09:56:50.268311",
     "exception": false,
     "start_time": "2021-08-31T09:56:50.248490",
     "status": "completed"
    },
    "tags": []
   },
   "outputs": [],
   "source": [
    "# Swap noise\n",
    "\n",
    "# Random\n",
    "def apply_noise_rn(df, p=.75):\n",
    "    should_not_swap = np.random.binomial(1, p, df.shape)\n",
    "    corrupted_df = df.where(should_not_swap == 1, np.random.permutation(df))\n",
    "    return corrupted_df\n",
    "\n",
    "# Row-wise\n",
    "def apply_noise_row(df, p=.75):\n",
    "    should_not_swap = np.zeros(df.shape)\n",
    "    for i in range(df.shape[0]):\n",
    "        for j in np.random.choice(df.shape[1],int(p*df.shape[1]),replace=False):\n",
    "            should_not_swap[i,j]=1 \n",
    "    corrupted_df = df.where(should_not_swap == 1, np.random.permutation(df))\n",
    "    return corrupted_df"
   ]
  },
  {
   "cell_type": "markdown",
   "id": "033278ae",
   "metadata": {
    "papermill": {
     "duration": 0.010793,
     "end_time": "2021-08-31T09:56:50.290207",
     "exception": false,
     "start_time": "2021-08-31T09:56:50.279414",
     "status": "completed"
    },
    "tags": []
   },
   "source": [
    "# Pseudo Label"
   ]
  },
  {
   "cell_type": "code",
   "execution_count": 8,
   "id": "d81e786a",
   "metadata": {
    "execution": {
     "iopub.execute_input": "2021-08-31T09:56:50.317366Z",
     "iopub.status.busy": "2021-08-31T09:56:50.316763Z",
     "iopub.status.idle": "2021-08-31T09:56:51.113178Z",
     "shell.execute_reply": "2021-08-31T09:56:51.113656Z",
     "shell.execute_reply.started": "2021-08-31T09:47:47.354391Z"
    },
    "papermill": {
     "duration": 0.812371,
     "end_time": "2021-08-31T09:56:51.113838",
     "exception": false,
     "start_time": "2021-08-31T09:56:50.301467",
     "status": "completed"
    },
    "tags": []
   },
   "outputs": [],
   "source": [
    "pseudo = pd.read_csv(\"../input/blending-tool-tps-aug-2021/blend.csv/0.part\")[target]\n",
    "test_pseudo = pd.concat([test, pseudo], axis=1)\n",
    "all_pseudo = pd.concat([train, test_pseudo]).reset_index(drop=True)"
   ]
  },
  {
   "cell_type": "code",
   "execution_count": 9,
   "id": "1671790c",
   "metadata": {
    "execution": {
     "iopub.execute_input": "2021-08-31T09:56:51.141051Z",
     "iopub.status.busy": "2021-08-31T09:56:51.140436Z",
     "iopub.status.idle": "2021-08-31T09:56:51.144326Z",
     "shell.execute_reply": "2021-08-31T09:56:51.144752Z",
     "shell.execute_reply.started": "2021-08-31T09:47:48.152350Z"
    },
    "papermill": {
     "duration": 0.0197,
     "end_time": "2021-08-31T09:56:51.144916",
     "exception": false,
     "start_time": "2021-08-31T09:56:51.125216",
     "status": "completed"
    },
    "tags": []
   },
   "outputs": [],
   "source": [
    "useful_features = scale_features + ['lgb_pred', 'xgb_pred','xgb2_pred','ctb2_pred']"
   ]
  },
  {
   "cell_type": "markdown",
   "id": "8b7f08d4",
   "metadata": {
    "papermill": {
     "duration": 0.010822,
     "end_time": "2021-08-31T09:56:51.166870",
     "exception": false,
     "start_time": "2021-08-31T09:56:51.156048",
     "status": "completed"
    },
    "tags": []
   },
   "source": [
    "# MLP"
   ]
  },
  {
   "cell_type": "code",
   "execution_count": 10,
   "id": "5adcc9c1",
   "metadata": {
    "execution": {
     "iopub.execute_input": "2021-08-31T09:56:51.193957Z",
     "iopub.status.busy": "2021-08-31T09:56:51.193322Z",
     "iopub.status.idle": "2021-08-31T09:56:51.197698Z",
     "shell.execute_reply": "2021-08-31T09:56:51.197135Z",
     "shell.execute_reply.started": "2021-08-31T09:47:48.158425Z"
    },
    "papermill": {
     "duration": 0.019919,
     "end_time": "2021-08-31T09:56:51.197826",
     "exception": false,
     "start_time": "2021-08-31T09:56:51.177907",
     "status": "completed"
    },
    "tags": []
   },
   "outputs": [],
   "source": [
    "mlp_params  = {\n",
    "                 \n",
    "                'early_stopping':True,\n",
    "               'solver':'adam',\n",
    "                'shuffle':True,\n",
    "                'n_iter_no_change': EARLY_STOPPING_ROUNDS,\n",
    "                'max_iter':N_ESTIMATORS,\n",
    "    \n",
    "                #'n_layers': 2,\n",
    "                 #'n_units_1': 159,\n",
    "                 #'n_units_2': 38,\n",
    "    \n",
    "                'hidden_layer_sizes':(159,38),\n",
    "                 'alpha': 23.307899445462493,\n",
    "                 'batch_size': 526,\n",
    "                 'learning_rate_init': 9.998675425177034e-05\n",
    "\n",
    "                }"
   ]
  },
  {
   "cell_type": "code",
   "execution_count": 11,
   "id": "f79ef073",
   "metadata": {
    "execution": {
     "iopub.execute_input": "2021-08-31T09:56:51.223580Z",
     "iopub.status.busy": "2021-08-31T09:56:51.222999Z",
     "iopub.status.idle": "2021-08-31T12:39:39.603193Z",
     "shell.execute_reply": "2021-08-31T12:39:39.604062Z",
     "shell.execute_reply.started": "2021-08-31T09:47:48.172232Z"
    },
    "papermill": {
     "duration": 9768.395316,
     "end_time": "2021-08-31T12:39:39.604494",
     "exception": false,
     "start_time": "2021-08-31T09:56:51.209178",
     "status": "completed"
    },
    "tags": []
   },
   "outputs": [
    {
     "name": "stdout",
     "output_type": "stream",
     "text": [
      "===== fold 0 =====\n",
      "===== fold 1 =====\n",
      "===== fold 2 =====\n",
      "===== fold 3 =====\n",
      "===== fold 4 =====\n",
      "===== fold 5 =====\n",
      "===== fold 6 =====\n",
      "===== fold 7 =====\n",
      "fold 7 - mlp rmse: 7.876613, elapsed time: 3183.06sec\n",
      "\n",
      "===== fold 8 =====\n",
      "fold 8 - mlp rmse: 7.863295, elapsed time: 3364.10sec\n",
      "\n",
      "===== fold 9 =====\n",
      "fold 9 - mlp rmse: 7.842038, elapsed time: 3218.68sec\n",
      "\n",
      "oof mlp_rmse = 9.732374848354006\n"
     ]
    }
   ],
   "source": [
    "mlp_oof = np.zeros(train.shape[0])\n",
    "mlp_pred = np.zeros(test.shape[0])\n",
    "mlp_importances = pd.DataFrame()\n",
    "\n",
    "\n",
    "kf = KFold(n_splits=N_SPLITS, shuffle=True, random_state=CVSEED)\n",
    "seed_list=[SEED, SEED+1, SEED+2]\n",
    "\n",
    "for fold, (trn_idx, val_idx) in enumerate(kf.split(X=all_pseudo[useful_features], y=all_pseudo[target])):\n",
    "    print(f\"===== fold {fold} =====\")\n",
    "    \n",
    "    if fold in [7,8,9]:\n",
    "        \n",
    "        oof_idx = np.array([idx for idx in val_idx if idx < train.shape[0]])\n",
    "        preds_idx = np.array([idx for idx in val_idx if idx >= train.shape[0]])\n",
    "\n",
    "        X_train, y_train = all_pseudo[useful_features].iloc[trn_idx], all_pseudo[target].iloc[trn_idx]\n",
    "        #X_train = apply_noise_row(X_train)\n",
    "\n",
    "        X_valid, y_valid = all_pseudo[useful_features].iloc[oof_idx], all_pseudo[target].iloc[oof_idx]\n",
    "        X_test = all_pseudo[useful_features].iloc[preds_idx]\n",
    "\n",
    "        # mlp\n",
    "        start = time.time()\n",
    "\n",
    "        for inseed in seed_list:\n",
    "            mlp_params['random_state'] = inseed\n",
    "\n",
    "            model = MLPRegressor(**mlp_params, verbose=0)\n",
    "            model.fit(\n",
    "                X_train, \n",
    "                y_train,\n",
    "\n",
    "            )\n",
    "\n",
    "            with open(f\"mlp_model{fold}.pkl\", 'wb') as f:\n",
    "                pickle.dump(model, f)\n",
    "\n",
    "            \n",
    "            mlp_oof[oof_idx] += model.predict(X_valid) / len(seed_list)\n",
    "            mlp_pred[preds_idx-train.shape[0]] += model.predict(X_test) / len(seed_list)\n",
    "\n",
    "        elapsed = time.time() - start\n",
    "        rmse = mean_squared_error(y_valid, mlp_oof[oof_idx], squared=False)\n",
    "        print(f\"fold {fold} - mlp rmse: {rmse:.6f}, elapsed time: {elapsed:.2f}sec\\n\")\n",
    "\n",
    "        \n",
    "print(f\"oof mlp_rmse = {mean_squared_error(train[target], mlp_oof, squared=False)}\")\n",
    "\n",
    "np.save(\"mlp_oof.npy\", mlp_oof)\n",
    "np.save(\"mlp_pred.npy\", mlp_pred)"
   ]
  },
  {
   "cell_type": "markdown",
   "id": "bd0b2797",
   "metadata": {
    "papermill": {
     "duration": 0.019248,
     "end_time": "2021-08-31T12:39:39.646454",
     "exception": false,
     "start_time": "2021-08-31T12:39:39.627206",
     "status": "completed"
    },
    "tags": []
   },
   "source": [
    "# OOF predictions"
   ]
  },
  {
   "cell_type": "code",
   "execution_count": 12,
   "id": "571bf5bc",
   "metadata": {
    "execution": {
     "iopub.execute_input": "2021-08-31T12:39:39.719503Z",
     "iopub.status.busy": "2021-08-31T12:39:39.695229Z",
     "iopub.status.idle": "2021-08-31T12:39:40.790607Z",
     "shell.execute_reply": "2021-08-31T12:39:40.790099Z",
     "shell.execute_reply.started": "2021-08-31T09:48:07.635520Z"
    },
    "papermill": {
     "duration": 1.132137,
     "end_time": "2021-08-31T12:39:40.790765",
     "exception": false,
     "start_time": "2021-08-31T12:39:39.658628",
     "status": "completed"
    },
    "tags": []
   },
   "outputs": [
    {
     "data": {
      "text/plain": [
       "<matplotlib.collections.PathCollection at 0x7f4d410eda90>"
      ]
     },
     "execution_count": 12,
     "metadata": {},
     "output_type": "execute_result"
    },
    {
     "data": {
      "image/png": "[encoded data removed]",
      "text/plain": [
       "<Figure size 432x288 with 1 Axes>"
      ]
     },
     "metadata": {
      "needs_background": "light"
     },
     "output_type": "display_data"
    }
   ],
   "source": [
    "plt.plot(train[target], train[target])\n",
    "plt.scatter(train[target], mlp_oof)"
   ]
  },
  {
   "cell_type": "markdown",
   "id": "8e84cacd",
   "metadata": {
    "papermill": {
     "duration": 0.012957,
     "end_time": "2021-08-31T12:39:40.817296",
     "exception": false,
     "start_time": "2021-08-31T12:39:40.804339",
     "status": "completed"
    },
    "tags": []
   },
   "source": [
    "# Submission"
   ]
  },
  {
   "cell_type": "code",
   "execution_count": 13,
   "id": "faee90d6",
   "metadata": {
    "execution": {
     "iopub.execute_input": "2021-08-31T12:39:40.848578Z",
     "iopub.status.busy": "2021-08-31T12:39:40.848001Z",
     "iopub.status.idle": "2021-08-31T12:39:41.131817Z",
     "shell.execute_reply": "2021-08-31T12:39:41.131251Z",
     "shell.execute_reply.started": "2021-08-31T09:48:08.752233Z"
    },
    "papermill": {
     "duration": 0.301142,
     "end_time": "2021-08-31T12:39:41.131952",
     "exception": false,
     "start_time": "2021-08-31T12:39:40.830810",
     "status": "completed"
    },
    "tags": []
   },
   "outputs": [
    {
     "data": {
      "text/html": [
       "<div>\n",
       "<style scoped>\n",
       "    .dataframe tbody tr th:only-of-type {\n",
       "        vertical-align: middle;\n",
       "    }\n",
       "\n",
       "    .dataframe tbody tr th {\n",
       "        vertical-align: top;\n",
       "    }\n",
       "\n",
       "    .dataframe thead th {\n",
       "        text-align: right;\n",
       "    }\n",
       "</style>\n",
       "<table border=\"1\" class=\"dataframe\">\n",
       "  <thead>\n",
       "    <tr style=\"text-align: right;\">\n",
       "      <th></th>\n",
       "      <th>id</th>\n",
       "      <th>loss</th>\n",
       "    </tr>\n",
       "  </thead>\n",
       "  <tbody>\n",
       "    <tr>\n",
       "      <th>0</th>\n",
       "      <td>250000</td>\n",
       "      <td>0.0</td>\n",
       "    </tr>\n",
       "    <tr>\n",
       "      <th>1</th>\n",
       "      <td>250001</td>\n",
       "      <td>0.0</td>\n",
       "    </tr>\n",
       "    <tr>\n",
       "      <th>2</th>\n",
       "      <td>250002</td>\n",
       "      <td>0.0</td>\n",
       "    </tr>\n",
       "    <tr>\n",
       "      <th>3</th>\n",
       "      <td>250003</td>\n",
       "      <td>0.0</td>\n",
       "    </tr>\n",
       "    <tr>\n",
       "      <th>4</th>\n",
       "      <td>250004</td>\n",
       "      <td>0.0</td>\n",
       "    </tr>\n",
       "    <tr>\n",
       "      <th>...</th>\n",
       "      <td>...</td>\n",
       "      <td>...</td>\n",
       "    </tr>\n",
       "    <tr>\n",
       "      <th>149995</th>\n",
       "      <td>399995</td>\n",
       "      <td>0.0</td>\n",
       "    </tr>\n",
       "    <tr>\n",
       "      <th>149996</th>\n",
       "      <td>399996</td>\n",
       "      <td>0.0</td>\n",
       "    </tr>\n",
       "    <tr>\n",
       "      <th>149997</th>\n",
       "      <td>399997</td>\n",
       "      <td>0.0</td>\n",
       "    </tr>\n",
       "    <tr>\n",
       "      <th>149998</th>\n",
       "      <td>399998</td>\n",
       "      <td>0.0</td>\n",
       "    </tr>\n",
       "    <tr>\n",
       "      <th>149999</th>\n",
       "      <td>399999</td>\n",
       "      <td>0.0</td>\n",
       "    </tr>\n",
       "  </tbody>\n",
       "</table>\n",
       "<p>150000 rows × 2 columns</p>\n",
       "</div>"
      ],
      "text/plain": [
       "            id  loss\n",
       "0       250000   0.0\n",
       "1       250001   0.0\n",
       "2       250002   0.0\n",
       "3       250003   0.0\n",
       "4       250004   0.0\n",
       "...        ...   ...\n",
       "149995  399995   0.0\n",
       "149996  399996   0.0\n",
       "149997  399997   0.0\n",
       "149998  399998   0.0\n",
       "149999  399999   0.0\n",
       "\n",
       "[150000 rows x 2 columns]"
      ]
     },
     "execution_count": 13,
     "metadata": {},
     "output_type": "execute_result"
    }
   ],
   "source": [
    "submission[target] = mlp_pred\n",
    "submission.to_csv(\"submission.csv\", index=False)\n",
    "\n",
    "submission"
   ]
  }
 ],
 "metadata": {
  "kernelspec": {
   "display_name": "Python 3",
   "language": "python",
   "name": "python3"
  },
  "language_info": {
   "codemirror_mode": {
    "name": "ipython",
    "version": 3
   },
   "file_extension": ".py",
   "mimetype": "text/x-python",
   "name": "python",
   "nbconvert_exporter": "python",
   "pygments_lexer": "ipython3",
   "version": "3.7.10"
  },
  "papermill": {
   "default_parameters": {},
   "duration": 9797.287158,
   "end_time": "2021-08-31T12:39:42.950399",
   "environment_variables": {},
   "exception": null,
   "input_path": "__notebook__.ipynb",
   "output_path": "__notebook__.ipynb",
   "parameters": {},
   "start_time": "2021-08-31T09:56:25.663241",
   "version": "2.3.3"
  }
 },
 "nbformat": 4,
 "nbformat_minor": 5
}
