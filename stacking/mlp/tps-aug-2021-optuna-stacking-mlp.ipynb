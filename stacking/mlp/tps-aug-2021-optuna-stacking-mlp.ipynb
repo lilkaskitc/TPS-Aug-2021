{
 "cells": [
  {
   "cell_type": "code",
   "execution_count": 1,
   "id": "74ce09fe",
   "metadata": {
    "_cell_guid": "b1076dfc-b9ad-4769-8c92-a6c4dae69d19",
    "_uuid": "8f2839f25d086af736a60e9eeb907d3b93b6e0e5",
    "execution": {
     "iopub.execute_input": "2021-08-31T05:39:36.578159Z",
     "iopub.status.busy": "2021-08-31T05:39:36.576401Z",
     "iopub.status.idle": "2021-08-31T05:39:37.710867Z",
     "shell.execute_reply": "2021-08-31T05:39:37.709962Z",
     "shell.execute_reply.started": "2021-08-29T07:35:27.618342Z"
    },
    "papermill": {
     "duration": 1.161278,
     "end_time": "2021-08-31T05:39:37.711041",
     "exception": false,
     "start_time": "2021-08-31T05:39:36.549763",
     "status": "completed"
    },
    "tags": []
   },
   "outputs": [],
   "source": [
    "# Familiar imports\n",
    "import numpy as np\n",
    "import pandas as pd\n",
    "import random\n",
    "import os\n",
    "import time\n",
    "from pathlib import Path\n",
    "\n",
    "from sklearn.preprocessing import StandardScaler\n",
    "from sklearn.model_selection import KFold, train_test_split\n",
    "from sklearn.metrics import mean_squared_error\n",
    "#from sklearn.ensemble import RandomForestRegressor\n",
    "from sklearn.neural_network import MLPRegressor\n",
    "\n",
    "#import lightgbm as lgb\n",
    "#import xgboost as xgb\n",
    "#import catboost as ctb\n",
    "\n",
    "import warnings\n",
    "warnings.simplefilter('ignore')"
   ]
  },
  {
   "cell_type": "markdown",
   "id": "7b5a46fa",
   "metadata": {
    "papermill": {
     "duration": 0.014404,
     "end_time": "2021-08-31T05:39:37.742162",
     "exception": false,
     "start_time": "2021-08-31T05:39:37.727758",
     "status": "completed"
    },
    "tags": []
   },
   "source": [
    "# Parameters"
   ]
  },
  {
   "cell_type": "code",
   "execution_count": 2,
   "id": "346bbe64",
   "metadata": {
    "execution": {
     "iopub.execute_input": "2021-08-31T05:39:37.777310Z",
     "iopub.status.busy": "2021-08-31T05:39:37.776601Z",
     "iopub.status.idle": "2021-08-31T05:39:37.779099Z",
     "shell.execute_reply": "2021-08-31T05:39:37.779577Z",
     "shell.execute_reply.started": "2021-08-29T07:35:28.557527Z"
    },
    "papermill": {
     "duration": 0.023155,
     "end_time": "2021-08-31T05:39:37.779753",
     "exception": false,
     "start_time": "2021-08-31T05:39:37.756598",
     "status": "completed"
    },
    "tags": []
   },
   "outputs": [],
   "source": [
    "target = 'loss'\n",
    "\n",
    "DEBUG = False\n",
    "\n",
    "if DEBUG:\n",
    "    N_ESTIMATORS = 1\n",
    "    N_SPLITS = 2\n",
    "    SEED = 17\n",
    "    CVSEED = 17\n",
    "    EARLY_STOPPING_ROUNDS = 1\n",
    "    VERBOSE = 100\n",
    "    #N_ITERS = 2\n",
    "else:\n",
    "    N_SPLITS = 10\n",
    "    N_ESTIMATORS = 500\n",
    "    EARLY_STOPPING_ROUNDS = 200\n",
    "    VERBOSE = 1000\n",
    "    SEED = 17\n",
    "    CVSEED = 17\n",
    "    #N_ITERS = 10"
   ]
  },
  {
   "cell_type": "code",
   "execution_count": 3,
   "id": "b45593af",
   "metadata": {
    "execution": {
     "iopub.execute_input": "2021-08-31T05:39:37.814781Z",
     "iopub.status.busy": "2021-08-31T05:39:37.814118Z",
     "iopub.status.idle": "2021-08-31T05:39:37.817573Z",
     "shell.execute_reply": "2021-08-31T05:39:37.816929Z",
     "shell.execute_reply.started": "2021-08-29T07:35:28.563846Z"
    },
    "papermill": {
     "duration": 0.023411,
     "end_time": "2021-08-31T05:39:37.817728",
     "exception": false,
     "start_time": "2021-08-31T05:39:37.794317",
     "status": "completed"
    },
    "tags": []
   },
   "outputs": [],
   "source": [
    "def set_seed(seed=17):\n",
    "    random.seed(seed)\n",
    "    os.environ['PYTHONHASHSEED'] = str(seed)\n",
    "    np.random.seed(seed)\n",
    "    \n",
    "set_seed(SEED)"
   ]
  },
  {
   "cell_type": "markdown",
   "id": "dd34e715",
   "metadata": {
    "papermill": {
     "duration": 0.014094,
     "end_time": "2021-08-31T05:39:37.846307",
     "exception": false,
     "start_time": "2021-08-31T05:39:37.832213",
     "status": "completed"
    },
    "tags": []
   },
   "source": [
    "# Load data"
   ]
  },
  {
   "cell_type": "code",
   "execution_count": 4,
   "id": "655e83be",
   "metadata": {
    "execution": {
     "iopub.execute_input": "2021-08-31T05:39:37.882765Z",
     "iopub.status.busy": "2021-08-31T05:39:37.881335Z",
     "iopub.status.idle": "2021-08-31T05:39:49.088475Z",
     "shell.execute_reply": "2021-08-31T05:39:49.088968Z",
     "shell.execute_reply.started": "2021-08-29T07:35:28.573519Z"
    },
    "papermill": {
     "duration": 11.228512,
     "end_time": "2021-08-31T05:39:49.089153",
     "exception": false,
     "start_time": "2021-08-31T05:39:37.860641",
     "status": "completed"
    },
    "tags": []
   },
   "outputs": [],
   "source": [
    "INPUT = Path(\"../input/tabular-playground-series-aug-2021\")\n",
    "\n",
    "train = pd.read_csv(INPUT / \"train.csv\")\n",
    "test = pd.read_csv(INPUT / \"test.csv\")\n",
    "submission = pd.read_csv(INPUT / \"sample_submission.csv\")"
   ]
  },
  {
   "cell_type": "code",
   "execution_count": 5,
   "id": "5c0d0088",
   "metadata": {
    "execution": {
     "iopub.execute_input": "2021-08-31T05:39:49.121830Z",
     "iopub.status.busy": "2021-08-31T05:39:49.121140Z",
     "iopub.status.idle": "2021-08-31T05:39:49.387495Z",
     "shell.execute_reply": "2021-08-31T05:39:49.386953Z",
     "shell.execute_reply.started": "2021-08-29T07:35:38.646181Z"
    },
    "papermill": {
     "duration": 0.283666,
     "end_time": "2021-08-31T05:39:49.387647",
     "exception": false,
     "start_time": "2021-08-31T05:39:49.103981",
     "status": "completed"
    },
    "tags": []
   },
   "outputs": [],
   "source": [
    "train['lgb_pred'] = np.load(\"../input/tps-aug-2021-lgb/lgb_oof.npy\")\n",
    "test['lgb_pred'] = np.load(\"../input/tps-aug-2021-lgb/lgb_pred.npy\")\n",
    "\n",
    "train['xgb_pred'] = np.load(\"../input/tps-aug-2021-xgb/xgb_oof.npy\")\n",
    "test['xgb_pred'] = np.load(\"../input/tps-aug-2021-xgb/xgb_pred.npy\")\n",
    "\n",
    "train['xgb2_pred'] = np.load(\"../input/tps-aug-2021-xgb-pseudo2-pred/3xgb_oof.npy\")+np.load(\"../input/tps-aug-2021-xgb-pseudo2-pred/4xgb_oof.npy\")\n",
    "test['xgb2_pred'] = np.load(\"../input/tps-aug-2021-xgb-pseudo2-pred/3xgb_pred.npy\")+np.load(\"../input/tps-aug-2021-xgb-pseudo2-pred/4xgb_pred.npy\")\n",
    "\n",
    "train['ctb2_pred'] = np.load(\"../input/tps-aug-2021-catb-pseudo2/ctb_oof.npy\")\n",
    "test['ctb2_pred'] = np.load(\"../input/tps-aug-2021-catb-pseudo2/ctb_pred.npy\")\n"
   ]
  },
  {
   "cell_type": "markdown",
   "id": "719f96d7",
   "metadata": {
    "papermill": {
     "duration": 0.014158,
     "end_time": "2021-08-31T05:39:49.416404",
     "exception": false,
     "start_time": "2021-08-31T05:39:49.402246",
     "status": "completed"
    },
    "tags": []
   },
   "source": [
    "# Preprocessing"
   ]
  },
  {
   "cell_type": "code",
   "execution_count": 6,
   "id": "9fbb40b0",
   "metadata": {
    "execution": {
     "iopub.execute_input": "2021-08-31T05:39:49.451851Z",
     "iopub.status.busy": "2021-08-31T05:39:49.451123Z",
     "iopub.status.idle": "2021-08-31T05:40:01.823808Z",
     "shell.execute_reply": "2021-08-31T05:40:01.824306Z",
     "shell.execute_reply.started": "2021-08-29T07:35:38.969709Z"
    },
    "papermill": {
     "duration": 12.393718,
     "end_time": "2021-08-31T05:40:01.824500",
     "exception": false,
     "start_time": "2021-08-31T05:39:49.430782",
     "status": "completed"
    },
    "tags": []
   },
   "outputs": [],
   "source": [
    "scale_features = [col for col in test.columns if 'f' in col]\n",
    "\n",
    "ss = StandardScaler()\n",
    "train[scale_features] = ss.fit_transform(train[scale_features])\n",
    "test[scale_features] = ss.transform(test[scale_features])"
   ]
  },
  {
   "cell_type": "code",
   "execution_count": 7,
   "id": "f9d662d1",
   "metadata": {
    "execution": {
     "iopub.execute_input": "2021-08-31T05:40:01.858501Z",
     "iopub.status.busy": "2021-08-31T05:40:01.857840Z",
     "iopub.status.idle": "2021-08-31T05:40:01.866305Z",
     "shell.execute_reply": "2021-08-31T05:40:01.865622Z",
     "shell.execute_reply.started": "2021-08-29T07:35:50.086499Z"
    },
    "papermill": {
     "duration": 0.026278,
     "end_time": "2021-08-31T05:40:01.866462",
     "exception": false,
     "start_time": "2021-08-31T05:40:01.840184",
     "status": "completed"
    },
    "tags": []
   },
   "outputs": [],
   "source": [
    "# Swap noise\n",
    "\n",
    "# Random\n",
    "def apply_noise_rn(df, p=.75):\n",
    "    should_not_swap = np.random.binomial(1, p, df.shape)\n",
    "    corrupted_df = df.where(should_not_swap == 1, np.random.permutation(df))\n",
    "    return corrupted_df\n",
    "\n",
    "# Row-wise\n",
    "def apply_noise_row(df, p=.75):\n",
    "    should_not_swap = np.zeros(df.shape)\n",
    "    for i in range(df.shape[0]):\n",
    "        for j in np.random.choice(df.shape[1],int(p*df.shape[1]),replace=False):\n",
    "            should_not_swap[i,j]=1 \n",
    "    corrupted_df = df.where(should_not_swap == 1, np.random.permutation(df))\n",
    "    return corrupted_df"
   ]
  },
  {
   "cell_type": "markdown",
   "id": "cd1c0d54",
   "metadata": {
    "papermill": {
     "duration": 0.015004,
     "end_time": "2021-08-31T05:40:01.896201",
     "exception": false,
     "start_time": "2021-08-31T05:40:01.881197",
     "status": "completed"
    },
    "tags": []
   },
   "source": [
    "# Pseudo Label"
   ]
  },
  {
   "cell_type": "code",
   "execution_count": 8,
   "id": "42a7fd51",
   "metadata": {
    "execution": {
     "iopub.execute_input": "2021-08-31T05:40:01.931566Z",
     "iopub.status.busy": "2021-08-31T05:40:01.930876Z",
     "iopub.status.idle": "2021-08-31T05:40:02.755422Z",
     "shell.execute_reply": "2021-08-31T05:40:02.754711Z",
     "shell.execute_reply.started": "2021-08-29T07:35:50.097028Z"
    },
    "papermill": {
     "duration": 0.844391,
     "end_time": "2021-08-31T05:40:02.755571",
     "exception": false,
     "start_time": "2021-08-31T05:40:01.911180",
     "status": "completed"
    },
    "tags": []
   },
   "outputs": [],
   "source": [
    "pseudo = pd.read_csv(\"../input/blending-tool-tps-aug-2021/blend.csv/0.part\")[target]\n",
    "test_pseudo = pd.concat([test, pseudo], axis=1)\n",
    "all_pseudo = pd.concat([train, test_pseudo]).reset_index(drop=True)"
   ]
  },
  {
   "cell_type": "code",
   "execution_count": 9,
   "id": "bc505802",
   "metadata": {
    "execution": {
     "iopub.execute_input": "2021-08-31T05:40:02.789747Z",
     "iopub.status.busy": "2021-08-31T05:40:02.789030Z",
     "iopub.status.idle": "2021-08-31T05:40:02.792602Z",
     "shell.execute_reply": "2021-08-31T05:40:02.791865Z",
     "shell.execute_reply.started": "2021-08-29T07:35:50.908167Z"
    },
    "papermill": {
     "duration": 0.022607,
     "end_time": "2021-08-31T05:40:02.792752",
     "exception": false,
     "start_time": "2021-08-31T05:40:02.770145",
     "status": "completed"
    },
    "tags": []
   },
   "outputs": [],
   "source": [
    "useful_features = scale_features + ['lgb_pred', 'xgb_pred','xgb2_pred','ctb2_pred']"
   ]
  },
  {
   "cell_type": "markdown",
   "id": "8c2d395a",
   "metadata": {
    "papermill": {
     "duration": 0.014156,
     "end_time": "2021-08-31T05:40:02.821546",
     "exception": false,
     "start_time": "2021-08-31T05:40:02.807390",
     "status": "completed"
    },
    "tags": []
   },
   "source": [
    "# Optuna"
   ]
  },
  {
   "cell_type": "code",
   "execution_count": 10,
   "id": "4c4fe28e",
   "metadata": {
    "execution": {
     "iopub.execute_input": "2021-08-31T05:40:02.856859Z",
     "iopub.status.busy": "2021-08-31T05:40:02.856057Z",
     "iopub.status.idle": "2021-08-31T05:40:12.917884Z",
     "shell.execute_reply": "2021-08-31T05:40:12.917284Z",
     "shell.execute_reply.started": "2021-08-29T07:35:50.914555Z"
    },
    "papermill": {
     "duration": 10.081243,
     "end_time": "2021-08-31T05:40:12.918027",
     "exception": false,
     "start_time": "2021-08-31T05:40:02.836784",
     "status": "completed"
    },
    "tags": []
   },
   "outputs": [
    {
     "name": "stdout",
     "output_type": "stream",
     "text": [
      "\u001b[33mWARNING: Running pip as root will break packages and permissions. You should install packages reliably by using venv: https://pip.pypa.io/warnings/venv\u001b[0m\r\n"
     ]
    }
   ],
   "source": [
    "# Optuna for parameter search\n",
    "!pip install -q optuna\n",
    "\n",
    "import optuna\n",
    "import pickle"
   ]
  },
  {
   "cell_type": "code",
   "execution_count": 11,
   "id": "11eb825b",
   "metadata": {
    "execution": {
     "iopub.execute_input": "2021-08-31T05:40:12.967242Z",
     "iopub.status.busy": "2021-08-31T05:40:12.966489Z",
     "iopub.status.idle": "2021-08-31T05:40:13.308667Z",
     "shell.execute_reply": "2021-08-31T05:40:13.307964Z",
     "shell.execute_reply.started": "2021-08-29T07:58:12.033443Z"
    },
    "papermill": {
     "duration": 0.374677,
     "end_time": "2021-08-31T05:40:13.308822",
     "exception": false,
     "start_time": "2021-08-31T05:40:12.934145",
     "status": "completed"
    },
    "tags": []
   },
   "outputs": [],
   "source": [
    "# for the fixed learning rate, use the opt n iterations and tune the tree hyperparameters\n",
    "def objective(trial, X=all_pseudo[useful_features], y=all_pseudo[target]):\n",
    "  \"\"\"\n",
    "  \"\"\"\n",
    "  n_layers= trial.suggest_int('n_layers', 1,3) # no. of hidden layers \n",
    "  layers = []\n",
    "  for i in range(n_layers):\n",
    "        layers.append(trial.suggest_int('n_units_{}'.format(i+1), 8,256)) \n",
    "\n",
    "  param_space = {\n",
    "               'early_stopping':True,\n",
    "               'solver':'adam',\n",
    "                'shuffle':True,\n",
    "                'n_iter_no_change': EARLY_STOPPING_ROUNDS,\n",
    "                'max_iter':N_ESTIMATORS,\n",
    "      \n",
    "                'hidden_layer_sizes':(layers),\n",
    "                'alpha' : trial.suggest_loguniform(\"alpha\", 22.04, 28.04),\n",
    "                'batch_size':trial.suggest_int(\"batch_size\", 504, 528),\n",
    "                'learning_rate_init': trial.suggest_loguniform(\"learning_rate_init\", 0.56e-4, 2.56e-4)\n",
    "                  }\n",
    "        \n",
    "  seed_list=[SEED, SEED+1]\n",
    "  #kf = KFold(n_splits=N_SPLITS, shuffle=True, random_state=CVSEED)\n",
    "  lgb_oof = np.zeros(train.shape[0])\n",
    "  #lgb_pred = np.zeros(test.shape[0])\n",
    "  X_tr, X_va, y_tr, y_va = train_test_split(X,y,test_size=.2,random_state=CVSEED)\n",
    "  trn_idx = X_tr.index\n",
    "  val_idx = X_va.index\n",
    "  \n",
    "  \n",
    "  #for (trn_idx, val_idx) in enumerate(kf.split(X, y)):\n",
    "  #print(f\"===== fold {fold} =====\")\n",
    "  oof_idx = np.array([idx for idx in val_idx if idx < train.shape[0]])\n",
    "  preds_idx = np.array([idx for idx in val_idx if idx >= train.shape[0]])\n",
    "\n",
    "  X_train, y_train = all_pseudo[useful_features].iloc[trn_idx], all_pseudo[target].iloc[trn_idx]\n",
    "  #X_train = apply_noise_rn(X_train)\n",
    "\n",
    "  X_valid, y_valid = all_pseudo[useful_features].iloc[oof_idx], all_pseudo[target].iloc[oof_idx]\n",
    "  #X_test = all_pseudo[scale_features].iloc[preds_idx]\n",
    "\n",
    "  #start = time.time()\n",
    "  for inseed in seed_list:\n",
    "    param_space['random_state'] = inseed\n",
    "\n",
    "    model = MLPRegressor(**param_space, verbose=0)\n",
    "    model.fit(\n",
    "        X_train, \n",
    "        y_train,\n",
    "        #eval_set=[(X_valid, y_valid)],\n",
    "        #eval_metric='rmse',\n",
    "        #early_stopping_rounds=EARLY_STOPPING_ROUNDS,\n",
    "        )\n",
    "\n",
    "\n",
    "    lgb_oof[oof_idx] += model.predict(X_valid) / len(seed_list)\n",
    "    #lgb_pred[preds_idx-train.shape[0]] += model.predict(X_test) / len(seed_list)\n",
    "\n",
    "  #elapsed = time.time() - start\n",
    "  rmse = mean_squared_error(y_valid, lgb_oof[oof_idx], squared=False)\n",
    "  #print(f\"fold {fold} - lgb rmse: {rmse:.6f}, elapsed time: {elapsed:.2f}sec\\n\")            \n",
    "  \n",
    "  #print(f\"oof lgb_rmse = {mean_squared_error(train[target], lgb_oof, squared=False)}\")\n",
    "\n",
    "  \n",
    "  return rmse"
   ]
  },
  {
   "cell_type": "code",
   "execution_count": 12,
   "id": "69cb8881",
   "metadata": {
    "execution": {
     "iopub.execute_input": "2021-08-31T05:40:13.345487Z",
     "iopub.status.busy": "2021-08-31T05:40:13.344484Z",
     "iopub.status.idle": "2021-08-31T07:17:28.972014Z",
     "shell.execute_reply": "2021-08-31T07:17:28.970795Z",
     "shell.execute_reply.started": "2021-08-29T07:58:12.200861Z"
    },
    "papermill": {
     "duration": 5835.648587,
     "end_time": "2021-08-31T07:17:28.972842",
     "exception": false,
     "start_time": "2021-08-31T05:40:13.324255",
     "status": "completed"
    },
    "tags": []
   },
   "outputs": [
    {
     "name": "stderr",
     "output_type": "stream",
     "text": [
      "\u001b[32m[I 2021-08-31 05:40:13,342]\u001b[0m A new study created in memory with name: no-name-a9a6e8d5-0bc8-4811-9344-a416c80ef6d5\u001b[0m\n",
      "\u001b[32m[I 2021-08-31 06:14:09,413]\u001b[0m Trial 0 finished with value: 7.747759174829955 and parameters: {'n_layers': 2, 'n_units_1': 159, 'n_units_2': 38, 'alpha': 23.307899445462493, 'batch_size': 526, 'learning_rate_init': 9.998675425177034e-05}. Best is trial 0 with value: 7.747759174829955.\u001b[0m\n",
      "\u001b[32m[I 2021-08-31 06:24:48,723]\u001b[0m Trial 1 finished with value: 7.748336339599595 and parameters: {'n_layers': 1, 'n_units_1': 49, 'alpha': 22.84353427998821, 'batch_size': 525, 'learning_rate_init': 7.866378129313493e-05}. Best is trial 0 with value: 7.747759174829955.\u001b[0m\n",
      "\u001b[32m[I 2021-08-31 07:17:28,887]\u001b[0m Trial 2 finished with value: 7.7487094285866265 and parameters: {'n_layers': 3, 'n_units_1': 112, 'n_units_2': 68, 'n_units_3': 212, 'alpha': 24.03444679769322, 'batch_size': 504, 'learning_rate_init': 7.399992352456987e-05}. Best is trial 0 with value: 7.747759174829955.\u001b[0m\n"
     ]
    },
    {
     "name": "stdout",
     "output_type": "stream",
     "text": [
      "Number of finished trials: 3\n",
      "Best trial: {'n_layers': 2, 'n_units_1': 159, 'n_units_2': 38, 'alpha': 23.307899445462493, 'batch_size': 526, 'learning_rate_init': 9.998675425177034e-05}\n"
     ]
    }
   ],
   "source": [
    "study = optuna.create_study(direction='minimize')\n",
    "study.optimize(objective,n_trials= 3)\n",
    "print('Number of finished trials:', len(study.trials))\n",
    "print('Best trial:', study.best_trial.params)"
   ]
  },
  {
   "cell_type": "code",
   "execution_count": 13,
   "id": "f1c073d0",
   "metadata": {
    "execution": {
     "iopub.execute_input": "2021-08-31T07:17:29.014695Z",
     "iopub.status.busy": "2021-08-31T07:17:29.013981Z",
     "iopub.status.idle": "2021-08-31T07:17:29.027706Z",
     "shell.execute_reply": "2021-08-31T07:17:29.028238Z"
    },
    "papermill": {
     "duration": 0.037803,
     "end_time": "2021-08-31T07:17:29.028427",
     "exception": false,
     "start_time": "2021-08-31T07:17:28.990624",
     "status": "completed"
    },
    "tags": []
   },
   "outputs": [
    {
     "data": {
      "text/plain": [
       "{'n_layers': 2,\n",
       " 'n_units_1': 159,\n",
       " 'n_units_2': 38,\n",
       " 'alpha': 23.307899445462493,\n",
       " 'batch_size': 526,\n",
       " 'learning_rate_init': 9.998675425177034e-05}"
      ]
     },
     "execution_count": 13,
     "metadata": {},
     "output_type": "execute_result"
    }
   ],
   "source": [
    "study.best_params"
   ]
  },
  {
   "cell_type": "markdown",
   "id": "fc8dbeb9",
   "metadata": {
    "papermill": {
     "duration": 0.016855,
     "end_time": "2021-08-31T07:17:29.062440",
     "exception": false,
     "start_time": "2021-08-31T07:17:29.045585",
     "status": "completed"
    },
    "tags": []
   },
   "source": [
    "# Log\n",
    "\n",
    "====== 4 preds ======\n",
    "\n",
    "7.752174909047353 no noise ver1\n",
    "\n",
    "7.748076721633888 no noise ver2 (narrow space)\n",
    "\n",
    "7.7479572494646005 no noise ver3 (narrow space)\n",
    "\n",
    "7.747908079160598 no noise ver4 (narrow space)"
   ]
  }
 ],
 "metadata": {
  "kernelspec": {
   "display_name": "Python 3",
   "language": "python",
   "name": "python3"
  },
  "language_info": {
   "codemirror_mode": {
    "name": "ipython",
    "version": 3
   },
   "file_extension": ".py",
   "mimetype": "text/x-python",
   "name": "python",
   "nbconvert_exporter": "python",
   "pygments_lexer": "ipython3",
   "version": "3.7.10"
  },
  "papermill": {
   "default_parameters": {},
   "duration": 5882.273598,
   "end_time": "2021-08-31T07:17:30.296791",
   "environment_variables": {},
   "exception": null,
   "input_path": "__notebook__.ipynb",
   "output_path": "__notebook__.ipynb",
   "parameters": {},
   "start_time": "2021-08-31T05:39:28.023193",
   "version": "2.3.3"
  }
 },
 "nbformat": 4,
 "nbformat_minor": 5
}
