{
 "cells": [
  {
   "cell_type": "code",
   "execution_count": 1,
   "id": "116f5068",
   "metadata": {
    "_cell_guid": "b1076dfc-b9ad-4769-8c92-a6c4dae69d19",
    "_uuid": "8f2839f25d086af736a60e9eeb907d3b93b6e0e5",
    "execution": {
     "iopub.execute_input": "2021-08-26T08:28:38.115345Z",
     "iopub.status.busy": "2021-08-26T08:28:38.114390Z",
     "iopub.status.idle": "2021-08-26T08:28:40.684134Z",
     "shell.execute_reply": "2021-08-26T08:28:40.683278Z",
     "shell.execute_reply.started": "2021-08-26T08:22:56.819347Z"
    },
    "papermill": {
     "duration": 2.604472,
     "end_time": "2021-08-26T08:28:40.684301",
     "exception": false,
     "start_time": "2021-08-26T08:28:38.079829",
     "status": "completed"
    },
    "tags": []
   },
   "outputs": [
    {
     "data": {
      "text/html": [
       "<style type='text/css'>\n",
       ".datatable table.frame { margin-bottom: 0; }\n",
       ".datatable table.frame thead { border-bottom: none; }\n",
       ".datatable table.frame tr.coltypes td {  color: #FFFFFF;  line-height: 6px;  padding: 0 0.5em;}\n",
       ".datatable .bool    { background: #DDDD99; }\n",
       ".datatable .object  { background: #565656; }\n",
       ".datatable .int     { background: #5D9E5D; }\n",
       ".datatable .float   { background: #4040CC; }\n",
       ".datatable .str     { background: #CC4040; }\n",
       ".datatable .time    { background: #40CC40; }\n",
       ".datatable .row_index {  background: var(--jp-border-color3);  border-right: 1px solid var(--jp-border-color0);  color: var(--jp-ui-font-color3);  font-size: 9px;}\n",
       ".datatable .frame tbody td { text-align: left; }\n",
       ".datatable .frame tr.coltypes .row_index {  background: var(--jp-border-color0);}\n",
       ".datatable th:nth-child(2) { padding-left: 12px; }\n",
       ".datatable .hellipsis {  color: var(--jp-cell-editor-border-color);}\n",
       ".datatable .vellipsis {  background: var(--jp-layout-color0);  color: var(--jp-cell-editor-border-color);}\n",
       ".datatable .na {  color: var(--jp-cell-editor-border-color);  font-size: 80%;}\n",
       ".datatable .sp {  opacity: 0.25;}\n",
       ".datatable .footer { font-size: 9px; }\n",
       ".datatable .frame_dimensions {  background: var(--jp-border-color3);  border-top: 1px solid var(--jp-border-color0);  color: var(--jp-ui-font-color3);  display: inline-block;  opacity: 0.6;  padding: 1px 10px 1px 5px;}\n",
       "</style>\n"
      ],
      "text/plain": [
       "<IPython.core.display.HTML object>"
      ]
     },
     "metadata": {},
     "output_type": "display_data"
    }
   ],
   "source": [
    "# Familiar imports\n",
    "import numpy as np\n",
    "import pandas as pd\n",
    "import random\n",
    "import os\n",
    "import time\n",
    "from pathlib import Path\n",
    "import pickle\n",
    "\n",
    "from sklearn.preprocessing import StandardScaler\n",
    "from sklearn.model_selection import KFold, train_test_split\n",
    "from sklearn.metrics import mean_squared_error\n",
    "\n",
    "from scipy.optimize import minimize\n",
    "\n",
    "import lightgbm as lgb\n",
    "#import xgboost as xgb\n",
    "#import catboost as ctb\n",
    "\n",
    "import matplotlib.pyplot as plt\n",
    "import seaborn as sns\n",
    "\n",
    "import warnings\n",
    "warnings.simplefilter('ignore')"
   ]
  },
  {
   "cell_type": "markdown",
   "id": "56e0dd85",
   "metadata": {
    "papermill": {
     "duration": 0.016481,
     "end_time": "2021-08-26T08:28:40.718546",
     "exception": false,
     "start_time": "2021-08-26T08:28:40.702065",
     "status": "completed"
    },
    "tags": []
   },
   "source": [
    "# Parameters"
   ]
  },
  {
   "cell_type": "code",
   "execution_count": 2,
   "id": "fa8caa3a",
   "metadata": {
    "execution": {
     "iopub.execute_input": "2021-08-26T08:28:40.759460Z",
     "iopub.status.busy": "2021-08-26T08:28:40.758606Z",
     "iopub.status.idle": "2021-08-26T08:28:40.761959Z",
     "shell.execute_reply": "2021-08-26T08:28:40.761300Z",
     "shell.execute_reply.started": "2021-08-26T08:20:32.69147Z"
    },
    "papermill": {
     "duration": 0.026147,
     "end_time": "2021-08-26T08:28:40.762103",
     "exception": false,
     "start_time": "2021-08-26T08:28:40.735956",
     "status": "completed"
    },
    "tags": []
   },
   "outputs": [],
   "source": [
    "target = 'loss'\n",
    "\n",
    "DEBUG = False\n",
    "\n",
    "if DEBUG:\n",
    "    N_ESTIMATORS = 1\n",
    "    N_SPLITS = 2\n",
    "    SEED = 17\n",
    "    CVSEED = 17\n",
    "    EARLY_STOPPING_ROUNDS = 1\n",
    "    VERBOSE = 100\n",
    "    #N_ITERS = 2\n",
    "else:\n",
    "    N_SPLITS = 10\n",
    "    N_ESTIMATORS = 10000\n",
    "    EARLY_STOPPING_ROUNDS = 200\n",
    "    VERBOSE = 1000\n",
    "    SEED = 17\n",
    "    CVSEED = 17\n",
    "    #N_ITERS = 10"
   ]
  },
  {
   "cell_type": "code",
   "execution_count": 3,
   "id": "7e88e9d3",
   "metadata": {
    "execution": {
     "iopub.execute_input": "2021-08-26T08:28:40.804286Z",
     "iopub.status.busy": "2021-08-26T08:28:40.803585Z",
     "iopub.status.idle": "2021-08-26T08:28:40.807491Z",
     "shell.execute_reply": "2021-08-26T08:28:40.806791Z",
     "shell.execute_reply.started": "2021-08-26T08:20:32.698176Z"
    },
    "papermill": {
     "duration": 0.027926,
     "end_time": "2021-08-26T08:28:40.807682",
     "exception": false,
     "start_time": "2021-08-26T08:28:40.779756",
     "status": "completed"
    },
    "tags": []
   },
   "outputs": [],
   "source": [
    "def set_seed(seed=17):\n",
    "    random.seed(seed)\n",
    "    os.environ['PYTHONHASHSEED'] = str(seed)\n",
    "    np.random.seed(seed)\n",
    "    \n",
    "set_seed(SEED)"
   ]
  },
  {
   "cell_type": "markdown",
   "id": "0c168bf1",
   "metadata": {
    "papermill": {
     "duration": 0.017876,
     "end_time": "2021-08-26T08:28:40.842851",
     "exception": false,
     "start_time": "2021-08-26T08:28:40.824975",
     "status": "completed"
    },
    "tags": []
   },
   "source": [
    "# Load data"
   ]
  },
  {
   "cell_type": "code",
   "execution_count": 4,
   "id": "ac775f10",
   "metadata": {
    "execution": {
     "iopub.execute_input": "2021-08-26T08:28:40.885275Z",
     "iopub.status.busy": "2021-08-26T08:28:40.884514Z",
     "iopub.status.idle": "2021-08-26T08:28:52.588386Z",
     "shell.execute_reply": "2021-08-26T08:28:52.589024Z",
     "shell.execute_reply.started": "2021-08-26T08:20:32.713338Z"
    },
    "papermill": {
     "duration": 11.727469,
     "end_time": "2021-08-26T08:28:52.589222",
     "exception": false,
     "start_time": "2021-08-26T08:28:40.861753",
     "status": "completed"
    },
    "tags": []
   },
   "outputs": [],
   "source": [
    "INPUT = Path(\"../input/tabular-playground-series-aug-2021\")\n",
    "\n",
    "train = pd.read_csv(INPUT / \"train.csv\")\n",
    "test = pd.read_csv(INPUT / \"test.csv\")\n",
    "submission = pd.read_csv(INPUT / \"sample_submission.csv\")"
   ]
  },
  {
   "cell_type": "code",
   "execution_count": 5,
   "id": "4595994a",
   "metadata": {
    "execution": {
     "iopub.execute_input": "2021-08-26T08:28:52.628086Z",
     "iopub.status.busy": "2021-08-26T08:28:52.627025Z",
     "iopub.status.idle": "2021-08-26T08:28:52.778447Z",
     "shell.execute_reply": "2021-08-26T08:28:52.777736Z",
     "shell.execute_reply.started": "2021-08-26T08:20:43.946131Z"
    },
    "papermill": {
     "duration": 0.171999,
     "end_time": "2021-08-26T08:28:52.778608",
     "exception": false,
     "start_time": "2021-08-26T08:28:52.606609",
     "status": "completed"
    },
    "tags": []
   },
   "outputs": [],
   "source": [
    "train['lgb_pred'] = np.load(\"../input/tps-aug-2021-lgb/lgb_oof.npy\")\n",
    "test['lgb_pred'] = np.load(\"../input/tps-aug-2021-lgb/lgb_pred.npy\")\n",
    "\n",
    "train['xgb_pred'] = np.load(\"../input/tps-aug-2021-xgb/xgb_oof.npy\")\n",
    "test['xgb_pred'] = np.load(\"../input/tps-aug-2021-xgb/xgb_pred.npy\")"
   ]
  },
  {
   "cell_type": "markdown",
   "id": "c4b9b8c3",
   "metadata": {
    "papermill": {
     "duration": 0.01632,
     "end_time": "2021-08-26T08:28:52.812033",
     "exception": false,
     "start_time": "2021-08-26T08:28:52.795713",
     "status": "completed"
    },
    "tags": []
   },
   "source": [
    "# Preprocessing"
   ]
  },
  {
   "cell_type": "code",
   "execution_count": 6,
   "id": "a6b7560a",
   "metadata": {
    "execution": {
     "iopub.execute_input": "2021-08-26T08:28:52.852149Z",
     "iopub.status.busy": "2021-08-26T08:28:52.851487Z",
     "iopub.status.idle": "2021-08-26T08:29:05.208155Z",
     "shell.execute_reply": "2021-08-26T08:29:05.208728Z",
     "shell.execute_reply.started": "2021-08-26T08:20:44.092008Z"
    },
    "papermill": {
     "duration": 12.380216,
     "end_time": "2021-08-26T08:29:05.208931",
     "exception": false,
     "start_time": "2021-08-26T08:28:52.828715",
     "status": "completed"
    },
    "tags": []
   },
   "outputs": [],
   "source": [
    "scale_features = [col for col in test.columns if 'f' in col]\n",
    "\n",
    "ss = StandardScaler()\n",
    "train[scale_features] = ss.fit_transform(train[scale_features])\n",
    "test[scale_features] = ss.transform(test[scale_features])"
   ]
  },
  {
   "cell_type": "code",
   "execution_count": 7,
   "id": "13f64861",
   "metadata": {
    "execution": {
     "iopub.execute_input": "2021-08-26T08:29:05.252789Z",
     "iopub.status.busy": "2021-08-26T08:29:05.251725Z",
     "iopub.status.idle": "2021-08-26T08:29:05.255127Z",
     "shell.execute_reply": "2021-08-26T08:29:05.254472Z",
     "shell.execute_reply.started": "2021-08-26T08:20:56.437826Z"
    },
    "papermill": {
     "duration": 0.028691,
     "end_time": "2021-08-26T08:29:05.255271",
     "exception": false,
     "start_time": "2021-08-26T08:29:05.226580",
     "status": "completed"
    },
    "tags": []
   },
   "outputs": [],
   "source": [
    "# Swap noise\n",
    "\n",
    "# Random\n",
    "def apply_noise_rn(df, p=.75):\n",
    "    should_not_swap = np.random.binomial(1, p, df.shape)\n",
    "    corrupted_df = df.where(should_not_swap == 1, np.random.permutation(df))\n",
    "    return corrupted_df\n",
    "\n",
    "# Row-wise\n",
    "def apply_noise_row(df, p=.75):\n",
    "    should_not_swap = np.zeros(df.shape)\n",
    "    for i in range(df.shape[0]):\n",
    "        for j in np.random.choice(df.shape[1],int(p*df.shape[1]),replace=False):\n",
    "            should_not_swap[i,j]=1 \n",
    "    corrupted_df = df.where(should_not_swap == 1, np.random.permutation(df))\n",
    "    return corrupted_df"
   ]
  },
  {
   "cell_type": "markdown",
   "id": "1b5acc36",
   "metadata": {
    "papermill": {
     "duration": 0.016636,
     "end_time": "2021-08-26T08:29:05.288809",
     "exception": false,
     "start_time": "2021-08-26T08:29:05.272173",
     "status": "completed"
    },
    "tags": []
   },
   "source": [
    "# Pseudo Label"
   ]
  },
  {
   "cell_type": "code",
   "execution_count": 8,
   "id": "c6fcab1e",
   "metadata": {
    "execution": {
     "iopub.execute_input": "2021-08-26T08:29:05.328329Z",
     "iopub.status.busy": "2021-08-26T08:29:05.327697Z",
     "iopub.status.idle": "2021-08-26T08:29:06.141668Z",
     "shell.execute_reply": "2021-08-26T08:29:06.140922Z",
     "shell.execute_reply.started": "2021-08-26T08:20:56.446542Z"
    },
    "papermill": {
     "duration": 0.836102,
     "end_time": "2021-08-26T08:29:06.141825",
     "exception": false,
     "start_time": "2021-08-26T08:29:05.305723",
     "status": "completed"
    },
    "tags": []
   },
   "outputs": [],
   "source": [
    "pseudo = pd.read_csv(\"../input/blending-tool-tps-aug-2021/blend.csv/0.part\")[target]\n",
    "test_pseudo = pd.concat([test, pseudo], axis=1)\n",
    "all_pseudo = pd.concat([train, test_pseudo]).reset_index(drop=True)"
   ]
  },
  {
   "cell_type": "code",
   "execution_count": 9,
   "id": "56ae698e",
   "metadata": {
    "execution": {
     "iopub.execute_input": "2021-08-26T08:29:06.181168Z",
     "iopub.status.busy": "2021-08-26T08:29:06.180173Z",
     "iopub.status.idle": "2021-08-26T08:29:06.183506Z",
     "shell.execute_reply": "2021-08-26T08:29:06.183007Z",
     "shell.execute_reply.started": "2021-08-26T08:20:57.29311Z"
    },
    "papermill": {
     "duration": 0.024714,
     "end_time": "2021-08-26T08:29:06.183697",
     "exception": false,
     "start_time": "2021-08-26T08:29:06.158983",
     "status": "completed"
    },
    "tags": []
   },
   "outputs": [],
   "source": [
    "useful_features = scale_features + ['lgb_pred', 'xgb_pred']"
   ]
  },
  {
   "cell_type": "markdown",
   "id": "34138f55",
   "metadata": {
    "papermill": {
     "duration": 0.016412,
     "end_time": "2021-08-26T08:29:06.216901",
     "exception": false,
     "start_time": "2021-08-26T08:29:06.200489",
     "status": "completed"
    },
    "tags": []
   },
   "source": [
    "# LGB"
   ]
  },
  {
   "cell_type": "code",
   "execution_count": 10,
   "id": "411f779e",
   "metadata": {
    "execution": {
     "iopub.execute_input": "2021-08-26T08:29:06.256528Z",
     "iopub.status.busy": "2021-08-26T08:29:06.255882Z",
     "iopub.status.idle": "2021-08-26T08:29:06.257833Z",
     "shell.execute_reply": "2021-08-26T08:29:06.258272Z",
     "shell.execute_reply.started": "2021-08-26T08:20:57.298637Z"
    },
    "papermill": {
     "duration": 0.02459,
     "end_time": "2021-08-26T08:29:06.258447",
     "exception": false,
     "start_time": "2021-08-26T08:29:06.233857",
     "status": "completed"
    },
    "tags": []
   },
   "outputs": [],
   "source": [
    "lgb_params  = {\n",
    "                    'objective': 'regression',\n",
    "              'metric':'rmse',\n",
    "                'importance_type': 'gain',\n",
    "               'n_estimators':N_ESTIMATORS,\n",
    "    \n",
    "              'learning_rate': 0.010366474352623736,\n",
    "             'subsample': 0.6916816311493477,\n",
    "             'colsample_bytree': 0.9744058120317534,\n",
    "             'subsample_freq': 3,\n",
    "             'reg_lambda': 0.7706005781123387,\n",
    "             'reg_alpha': 5.8983343945165005,\n",
    "             'min_child_weight': 348.82810828234136,\n",
    "             'min_child_samples': 7\n",
    "         \n",
    "                }"
   ]
  },
  {
   "cell_type": "code",
   "execution_count": 11,
   "id": "651be448",
   "metadata": {
    "execution": {
     "iopub.execute_input": "2021-08-26T08:29:06.295974Z",
     "iopub.status.busy": "2021-08-26T08:29:06.295213Z",
     "iopub.status.idle": "2021-08-26T09:05:19.093243Z",
     "shell.execute_reply": "2021-08-26T09:05:19.092470Z",
     "shell.execute_reply.started": "2021-08-26T08:20:57.312407Z"
    },
    "papermill": {
     "duration": 2172.817891,
     "end_time": "2021-08-26T09:05:19.093406",
     "exception": false,
     "start_time": "2021-08-26T08:29:06.275515",
     "status": "completed"
    },
    "tags": []
   },
   "outputs": [
    {
     "name": "stdout",
     "output_type": "stream",
     "text": [
      "===== fold 0 =====\n",
      "Training until validation scores don't improve for 200 rounds\n",
      "Early stopping, best iteration is:\n",
      "[334]\tvalid_0's rmse: 7.76551\n",
      "Training until validation scores don't improve for 200 rounds\n",
      "Early stopping, best iteration is:\n",
      "[346]\tvalid_0's rmse: 7.7655\n",
      "Training until validation scores don't improve for 200 rounds\n",
      "Early stopping, best iteration is:\n",
      "[303]\tvalid_0's rmse: 7.76437\n",
      "Training until validation scores don't improve for 200 rounds\n",
      "Early stopping, best iteration is:\n",
      "[397]\tvalid_0's rmse: 7.76429\n",
      "Training until validation scores don't improve for 200 rounds\n",
      "Early stopping, best iteration is:\n",
      "[271]\tvalid_0's rmse: 7.76588\n",
      "Training until validation scores don't improve for 200 rounds\n",
      "Early stopping, best iteration is:\n",
      "[506]\tvalid_0's rmse: 7.76585\n",
      "fold 0 - lgb rmse: 7.765055, elapsed time: 208.95sec\n",
      "\n",
      "===== fold 1 =====\n",
      "Training until validation scores don't improve for 200 rounds\n",
      "Early stopping, best iteration is:\n",
      "[272]\tvalid_0's rmse: 7.72337\n",
      "Training until validation scores don't improve for 200 rounds\n",
      "Early stopping, best iteration is:\n",
      "[410]\tvalid_0's rmse: 7.72333\n",
      "Training until validation scores don't improve for 200 rounds\n",
      "Early stopping, best iteration is:\n",
      "[372]\tvalid_0's rmse: 7.72335\n",
      "Training until validation scores don't improve for 200 rounds\n",
      "Early stopping, best iteration is:\n",
      "[373]\tvalid_0's rmse: 7.72335\n",
      "Training until validation scores don't improve for 200 rounds\n",
      "Early stopping, best iteration is:\n",
      "[285]\tvalid_0's rmse: 7.7231\n",
      "Training until validation scores don't improve for 200 rounds\n",
      "Early stopping, best iteration is:\n",
      "[312]\tvalid_0's rmse: 7.72307\n",
      "fold 1 - lgb rmse: 7.723058, elapsed time: 198.32sec\n",
      "\n",
      "===== fold 2 =====\n",
      "Training until validation scores don't improve for 200 rounds\n",
      "Early stopping, best iteration is:\n",
      "[343]\tvalid_0's rmse: 7.81996\n",
      "Training until validation scores don't improve for 200 rounds\n",
      "Early stopping, best iteration is:\n",
      "[505]\tvalid_0's rmse: 7.81985\n",
      "Training until validation scores don't improve for 200 rounds\n",
      "Early stopping, best iteration is:\n",
      "[414]\tvalid_0's rmse: 7.81979\n",
      "Training until validation scores don't improve for 200 rounds\n",
      "Early stopping, best iteration is:\n",
      "[426]\tvalid_0's rmse: 7.81979\n",
      "Training until validation scores don't improve for 200 rounds\n",
      "Early stopping, best iteration is:\n",
      "[348]\tvalid_0's rmse: 7.81984\n",
      "Training until validation scores don't improve for 200 rounds\n",
      "Early stopping, best iteration is:\n",
      "[351]\tvalid_0's rmse: 7.81983\n",
      "fold 2 - lgb rmse: 7.819637, elapsed time: 205.37sec\n",
      "\n",
      "===== fold 3 =====\n",
      "Training until validation scores don't improve for 200 rounds\n",
      "Early stopping, best iteration is:\n",
      "[392]\tvalid_0's rmse: 7.76823\n",
      "Training until validation scores don't improve for 200 rounds\n",
      "Early stopping, best iteration is:\n",
      "[393]\tvalid_0's rmse: 7.76823\n",
      "Training until validation scores don't improve for 200 rounds\n",
      "Early stopping, best iteration is:\n",
      "[359]\tvalid_0's rmse: 7.76913\n",
      "Training until validation scores don't improve for 200 rounds\n",
      "Early stopping, best iteration is:\n",
      "[449]\tvalid_0's rmse: 7.76911\n",
      "Training until validation scores don't improve for 200 rounds\n",
      "Early stopping, best iteration is:\n",
      "[357]\tvalid_0's rmse: 7.76836\n",
      "Training until validation scores don't improve for 200 rounds\n",
      "Early stopping, best iteration is:\n",
      "[366]\tvalid_0's rmse: 7.76835\n",
      "fold 3 - lgb rmse: 7.768383, elapsed time: 202.22sec\n",
      "\n",
      "===== fold 4 =====\n",
      "Training until validation scores don't improve for 200 rounds\n",
      "Early stopping, best iteration is:\n",
      "[351]\tvalid_0's rmse: 7.77235\n",
      "Training until validation scores don't improve for 200 rounds\n",
      "Early stopping, best iteration is:\n",
      "[459]\tvalid_0's rmse: 7.77232\n",
      "Training until validation scores don't improve for 200 rounds\n",
      "Early stopping, best iteration is:\n",
      "[365]\tvalid_0's rmse: 7.7723\n",
      "Training until validation scores don't improve for 200 rounds\n",
      "Early stopping, best iteration is:\n",
      "[398]\tvalid_0's rmse: 7.77227\n",
      "Training until validation scores don't improve for 200 rounds\n",
      "Early stopping, best iteration is:\n",
      "[356]\tvalid_0's rmse: 7.77286\n",
      "Training until validation scores don't improve for 200 rounds\n",
      "Early stopping, best iteration is:\n",
      "[647]\tvalid_0's rmse: 7.7728\n",
      "fold 4 - lgb rmse: 7.772282, elapsed time: 219.30sec\n",
      "\n",
      "===== fold 5 =====\n",
      "Training until validation scores don't improve for 200 rounds\n",
      "Early stopping, best iteration is:\n",
      "[414]\tvalid_0's rmse: 7.83385\n",
      "Training until validation scores don't improve for 200 rounds\n",
      "Early stopping, best iteration is:\n",
      "[426]\tvalid_0's rmse: 7.83383\n",
      "Training until validation scores don't improve for 200 rounds\n",
      "Early stopping, best iteration is:\n",
      "[371]\tvalid_0's rmse: 7.83447\n",
      "Training until validation scores don't improve for 200 rounds\n",
      "Early stopping, best iteration is:\n",
      "[449]\tvalid_0's rmse: 7.83446\n",
      "Training until validation scores don't improve for 200 rounds\n",
      "Early stopping, best iteration is:\n",
      "[444]\tvalid_0's rmse: 7.83422\n",
      "Training until validation scores don't improve for 200 rounds\n",
      "Early stopping, best iteration is:\n",
      "[445]\tvalid_0's rmse: 7.83422\n",
      "fold 5 - lgb rmse: 7.833969, elapsed time: 206.28sec\n",
      "\n",
      "===== fold 6 =====\n",
      "Training until validation scores don't improve for 200 rounds\n",
      "Early stopping, best iteration is:\n",
      "[366]\tvalid_0's rmse: 7.8749\n",
      "Training until validation scores don't improve for 200 rounds\n",
      "Early stopping, best iteration is:\n",
      "[495]\tvalid_0's rmse: 7.87484\n",
      "Training until validation scores don't improve for 200 rounds\n",
      "Early stopping, best iteration is:\n",
      "[321]\tvalid_0's rmse: 7.87431\n",
      "Training until validation scores don't improve for 200 rounds\n",
      "[1000]\tvalid_0's rmse: 7.87412\n",
      "Early stopping, best iteration is:\n",
      "[969]\tvalid_0's rmse: 7.8741\n",
      "Training until validation scores don't improve for 200 rounds\n",
      "Early stopping, best iteration is:\n",
      "[360]\tvalid_0's rmse: 7.87397\n",
      "Training until validation scores don't improve for 200 rounds\n",
      "Early stopping, best iteration is:\n",
      "[552]\tvalid_0's rmse: 7.87389\n",
      "fold 6 - lgb rmse: 7.874104, elapsed time: 254.85sec\n",
      "\n",
      "===== fold 7 =====\n",
      "Training until validation scores don't improve for 200 rounds\n",
      "Early stopping, best iteration is:\n",
      "[351]\tvalid_0's rmse: 7.87454\n",
      "Training until validation scores don't improve for 200 rounds\n",
      "Early stopping, best iteration is:\n",
      "[741]\tvalid_0's rmse: 7.8744\n",
      "Training until validation scores don't improve for 200 rounds\n",
      "Early stopping, best iteration is:\n",
      "[378]\tvalid_0's rmse: 7.87389\n",
      "Training until validation scores don't improve for 200 rounds\n",
      "Early stopping, best iteration is:\n",
      "[411]\tvalid_0's rmse: 7.87387\n",
      "Training until validation scores don't improve for 200 rounds\n",
      "Early stopping, best iteration is:\n",
      "[388]\tvalid_0's rmse: 7.87303\n",
      "Training until validation scores don't improve for 200 rounds\n",
      "Early stopping, best iteration is:\n",
      "[610]\tvalid_0's rmse: 7.87298\n",
      "fold 7 - lgb rmse: 7.873568, elapsed time: 234.55sec\n",
      "\n",
      "===== fold 8 =====\n",
      "Training until validation scores don't improve for 200 rounds\n",
      "Early stopping, best iteration is:\n",
      "[408]\tvalid_0's rmse: 7.86267\n",
      "Training until validation scores don't improve for 200 rounds\n",
      "Early stopping, best iteration is:\n",
      "[417]\tvalid_0's rmse: 7.86265\n",
      "Training until validation scores don't improve for 200 rounds\n",
      "Early stopping, best iteration is:\n",
      "[406]\tvalid_0's rmse: 7.86194\n",
      "Training until validation scores don't improve for 200 rounds\n",
      "Early stopping, best iteration is:\n",
      "[407]\tvalid_0's rmse: 7.86194\n",
      "Training until validation scores don't improve for 200 rounds\n",
      "Early stopping, best iteration is:\n",
      "[362]\tvalid_0's rmse: 7.8621\n",
      "Training until validation scores don't improve for 200 rounds\n",
      "Early stopping, best iteration is:\n",
      "[584]\tvalid_0's rmse: 7.86195\n",
      "fold 8 - lgb rmse: 7.861997, elapsed time: 210.82sec\n",
      "\n",
      "===== fold 9 =====\n",
      "Training until validation scores don't improve for 200 rounds\n",
      "Early stopping, best iteration is:\n",
      "[504]\tvalid_0's rmse: 7.83713\n",
      "Training until validation scores don't improve for 200 rounds\n",
      "Early stopping, best iteration is:\n",
      "[537]\tvalid_0's rmse: 7.8371\n",
      "Training until validation scores don't improve for 200 rounds\n",
      "Early stopping, best iteration is:\n",
      "[416]\tvalid_0's rmse: 7.83781\n",
      "Training until validation scores don't improve for 200 rounds\n",
      "Early stopping, best iteration is:\n",
      "[480]\tvalid_0's rmse: 7.8378\n",
      "Training until validation scores don't improve for 200 rounds\n",
      "Early stopping, best iteration is:\n",
      "[372]\tvalid_0's rmse: 7.83784\n",
      "Training until validation scores don't improve for 200 rounds\n",
      "Early stopping, best iteration is:\n",
      "[594]\tvalid_0's rmse: 7.83781\n",
      "fold 9 - lgb rmse: 7.837361, elapsed time: 225.38sec\n",
      "\n",
      "oof lgb_rmse = 7.813138121583901\n"
     ]
    }
   ],
   "source": [
    "lgb_oof = np.zeros(train.shape[0])\n",
    "lgb_pred = np.zeros(test.shape[0])\n",
    "lgb_importances = pd.DataFrame()\n",
    "\n",
    "\n",
    "kf = KFold(n_splits=N_SPLITS, shuffle=True, random_state=CVSEED)\n",
    "seed_list=[SEED, SEED+1, SEED+2]\n",
    "\n",
    "for fold, (trn_idx, val_idx) in enumerate(kf.split(X=all_pseudo[useful_features], y=all_pseudo[target])):\n",
    "    print(f\"===== fold {fold} =====\")\n",
    "    \n",
    "    oof_idx = np.array([idx for idx in val_idx if idx < train.shape[0]])\n",
    "    preds_idx = np.array([idx for idx in val_idx if idx >= train.shape[0]])\n",
    "    \n",
    "    X_train, y_train = all_pseudo[useful_features].iloc[trn_idx], all_pseudo[target].iloc[trn_idx]\n",
    "    #X_train = apply_noise_row(X_train)\n",
    "    \n",
    "    X_valid, y_valid = all_pseudo[useful_features].iloc[oof_idx], all_pseudo[target].iloc[oof_idx]\n",
    "    X_test = all_pseudo[useful_features].iloc[preds_idx]\n",
    "    \n",
    "    # LGB\n",
    "    start = time.time()\n",
    "    \n",
    "    for inseed in seed_list:\n",
    "        lgb_params['random_state'] = inseed\n",
    "    \n",
    "        pre_model = lgb.LGBMRegressor(**lgb_params)\n",
    "        pre_model.fit(\n",
    "            X_train, \n",
    "            y_train,\n",
    "            eval_set=[(X_valid, y_valid)],\n",
    "            eval_metric='rmse',\n",
    "            early_stopping_rounds=EARLY_STOPPING_ROUNDS,\n",
    "            verbose=VERBOSE,\n",
    "        )\n",
    "\n",
    "        lgb_params2 = lgb_params.copy()\n",
    "        lgb_params2['reg_lambda'] *= 0.9\n",
    "        lgb_params2['reg_alpha'] *= 0.9\n",
    "        lgb_params2['learning_rate'] *= 0.1\n",
    "        model = lgb.LGBMRegressor(**lgb_params2)\n",
    "        model.fit(\n",
    "                X_train, y_train,\n",
    "                eval_set=[(X_valid, y_valid)],\n",
    "                eval_metric='rmse',\n",
    "                early_stopping_rounds=EARLY_STOPPING_ROUNDS,\n",
    "                verbose=VERBOSE,\n",
    "                init_model=pre_model\n",
    "        )    \n",
    "\n",
    "        with open(f\"lgb_model{fold}.pkl\", 'wb') as f:\n",
    "            pickle.dump(model, f)\n",
    "\n",
    "        fi_tmp = pd.DataFrame()\n",
    "        fi_tmp['feature'] = model.feature_name_\n",
    "        fi_tmp['importance'] = model.feature_importances_\n",
    "        fi_tmp['fold'] = fold\n",
    "        fi_tmp['seed'] = inseed\n",
    "        lgb_importances = lgb_importances.append(fi_tmp)\n",
    "\n",
    "        lgb_oof[oof_idx] += model.predict(X_valid) / len(seed_list)\n",
    "        lgb_pred[preds_idx-train.shape[0]] += model.predict(X_test) / len(seed_list)\n",
    "    \n",
    "    elapsed = time.time() - start\n",
    "    rmse = mean_squared_error(y_valid, lgb_oof[oof_idx], squared=False)\n",
    "    print(f\"fold {fold} - lgb rmse: {rmse:.6f}, elapsed time: {elapsed:.2f}sec\\n\")\n",
    "\n",
    "        \n",
    "print(f\"oof lgb_rmse = {mean_squared_error(train[target], lgb_oof, squared=False)}\")\n",
    "\n",
    "np.save(\"lgb_oof.npy\", lgb_oof)\n",
    "np.save(\"lgb_pred.npy\", lgb_pred)"
   ]
  },
  {
   "cell_type": "markdown",
   "id": "ce605db1",
   "metadata": {
    "papermill": {
     "duration": 0.061544,
     "end_time": "2021-08-26T09:05:19.230271",
     "exception": false,
     "start_time": "2021-08-26T09:05:19.168727",
     "status": "completed"
    },
    "tags": []
   },
   "source": [
    "# OOF predictions"
   ]
  },
  {
   "cell_type": "code",
   "execution_count": 12,
   "id": "48a38079",
   "metadata": {
    "execution": {
     "iopub.execute_input": "2021-08-26T09:05:19.363977Z",
     "iopub.status.busy": "2021-08-26T09:05:19.358389Z",
     "iopub.status.idle": "2021-08-26T09:05:20.462943Z",
     "shell.execute_reply": "2021-08-26T09:05:20.462227Z",
     "shell.execute_reply.started": "2021-08-26T08:23:02.001295Z"
    },
    "papermill": {
     "duration": 1.17698,
     "end_time": "2021-08-26T09:05:20.463092",
     "exception": false,
     "start_time": "2021-08-26T09:05:19.286112",
     "status": "completed"
    },
    "tags": []
   },
   "outputs": [
    {
     "data": {
      "text/plain": [
       "<matplotlib.collections.PathCollection at 0x7fc803905310>"
      ]
     },
     "execution_count": 12,
     "metadata": {},
     "output_type": "execute_result"
    },
    {
     "data": {
      "image/png": "[encoded data removed]",
      "text/plain": [
       "<Figure size 432x288 with 1 Axes>"
      ]
     },
     "metadata": {
      "needs_background": "light"
     },
     "output_type": "display_data"
    }
   ],
   "source": [
    "plt.plot(train[target], train[target])\n",
    "plt.scatter(train[target], lgb_oof)"
   ]
  },
  {
   "cell_type": "markdown",
   "id": "3cb83a35",
   "metadata": {
    "papermill": {
     "duration": 0.056896,
     "end_time": "2021-08-26T09:05:20.576959",
     "exception": false,
     "start_time": "2021-08-26T09:05:20.520063",
     "status": "completed"
    },
    "tags": []
   },
   "source": [
    "# Features importances"
   ]
  },
  {
   "cell_type": "code",
   "execution_count": 13,
   "id": "bd6b2167",
   "metadata": {
    "execution": {
     "iopub.execute_input": "2021-08-26T09:05:20.707505Z",
     "iopub.status.busy": "2021-08-26T09:05:20.703245Z",
     "iopub.status.idle": "2021-08-26T09:05:22.804704Z",
     "shell.execute_reply": "2021-08-26T09:05:22.804093Z",
     "shell.execute_reply.started": "2021-08-26T08:23:03.090261Z"
    },
    "papermill": {
     "duration": 2.170687,
     "end_time": "2021-08-26T09:05:22.804853",
     "exception": false,
     "start_time": "2021-08-26T09:05:20.634166",
     "status": "completed"
    },
    "tags": []
   },
   "outputs": [
    {
     "data": {
      "text/plain": [
       "Text(0.5, 1.0, 'LightGBM feature importances')"
      ]
     },
     "execution_count": 13,
     "metadata": {},
     "output_type": "execute_result"
    },
    {
     "data": {
      "image/png": "[encoded data removed]",
      "text/plain": [
       "<Figure size 1152x1152 with 1 Axes>"
      ]
     },
     "metadata": {
      "needs_background": "light"
     },
     "output_type": "display_data"
    }
   ],
   "source": [
    "order = list(lgb_importances.groupby('feature').mean().sort_values('importance', ascending=False).index)\n",
    "\n",
    "fig = plt.figure(figsize=(16, 16), tight_layout=True)\n",
    "sns.barplot(x=\"importance\", y=\"feature\", data=lgb_importances.groupby('feature').mean().reset_index(), order=order)\n",
    "plt.title(\"LightGBM feature importances\")"
   ]
  },
  {
   "cell_type": "markdown",
   "id": "3f137eba",
   "metadata": {
    "papermill": {
     "duration": 0.058536,
     "end_time": "2021-08-26T09:05:22.922604",
     "exception": false,
     "start_time": "2021-08-26T09:05:22.864068",
     "status": "completed"
    },
    "tags": []
   },
   "source": [
    "# Submission"
   ]
  },
  {
   "cell_type": "code",
   "execution_count": 14,
   "id": "9f803189",
   "metadata": {
    "execution": {
     "iopub.execute_input": "2021-08-26T09:05:23.048388Z",
     "iopub.status.busy": "2021-08-26T09:05:23.047521Z",
     "iopub.status.idle": "2021-08-26T09:05:23.608307Z",
     "shell.execute_reply": "2021-08-26T09:05:23.607534Z",
     "shell.execute_reply.started": "2021-08-26T08:23:05.219314Z"
    },
    "papermill": {
     "duration": 0.625658,
     "end_time": "2021-08-26T09:05:23.608466",
     "exception": false,
     "start_time": "2021-08-26T09:05:22.982808",
     "status": "completed"
    },
    "tags": []
   },
   "outputs": [
    {
     "data": {
      "text/html": [
       "<div>\n",
       "<style scoped>\n",
       "    .dataframe tbody tr th:only-of-type {\n",
       "        vertical-align: middle;\n",
       "    }\n",
       "\n",
       "    .dataframe tbody tr th {\n",
       "        vertical-align: top;\n",
       "    }\n",
       "\n",
       "    .dataframe thead th {\n",
       "        text-align: right;\n",
       "    }\n",
       "</style>\n",
       "<table border=\"1\" class=\"dataframe\">\n",
       "  <thead>\n",
       "    <tr style=\"text-align: right;\">\n",
       "      <th></th>\n",
       "      <th>id</th>\n",
       "      <th>loss</th>\n",
       "    </tr>\n",
       "  </thead>\n",
       "  <tbody>\n",
       "    <tr>\n",
       "      <th>0</th>\n",
       "      <td>250000</td>\n",
       "      <td>8.042108</td>\n",
       "    </tr>\n",
       "    <tr>\n",
       "      <th>1</th>\n",
       "      <td>250001</td>\n",
       "      <td>5.091936</td>\n",
       "    </tr>\n",
       "    <tr>\n",
       "      <th>2</th>\n",
       "      <td>250002</td>\n",
       "      <td>9.075936</td>\n",
       "    </tr>\n",
       "    <tr>\n",
       "      <th>3</th>\n",
       "      <td>250003</td>\n",
       "      <td>8.107646</td>\n",
       "    </tr>\n",
       "    <tr>\n",
       "      <th>4</th>\n",
       "      <td>250004</td>\n",
       "      <td>6.803717</td>\n",
       "    </tr>\n",
       "    <tr>\n",
       "      <th>...</th>\n",
       "      <td>...</td>\n",
       "      <td>...</td>\n",
       "    </tr>\n",
       "    <tr>\n",
       "      <th>149995</th>\n",
       "      <td>399995</td>\n",
       "      <td>8.398740</td>\n",
       "    </tr>\n",
       "    <tr>\n",
       "      <th>149996</th>\n",
       "      <td>399996</td>\n",
       "      <td>7.819325</td>\n",
       "    </tr>\n",
       "    <tr>\n",
       "      <th>149997</th>\n",
       "      <td>399997</td>\n",
       "      <td>6.018951</td>\n",
       "    </tr>\n",
       "    <tr>\n",
       "      <th>149998</th>\n",
       "      <td>399998</td>\n",
       "      <td>5.288097</td>\n",
       "    </tr>\n",
       "    <tr>\n",
       "      <th>149999</th>\n",
       "      <td>399999</td>\n",
       "      <td>6.582634</td>\n",
       "    </tr>\n",
       "  </tbody>\n",
       "</table>\n",
       "<p>150000 rows × 2 columns</p>\n",
       "</div>"
      ],
      "text/plain": [
       "            id      loss\n",
       "0       250000  8.042108\n",
       "1       250001  5.091936\n",
       "2       250002  9.075936\n",
       "3       250003  8.107646\n",
       "4       250004  6.803717\n",
       "...        ...       ...\n",
       "149995  399995  8.398740\n",
       "149996  399996  7.819325\n",
       "149997  399997  6.018951\n",
       "149998  399998  5.288097\n",
       "149999  399999  6.582634\n",
       "\n",
       "[150000 rows x 2 columns]"
      ]
     },
     "execution_count": 14,
     "metadata": {},
     "output_type": "execute_result"
    }
   ],
   "source": [
    "submission[target] = lgb_pred\n",
    "submission.to_csv(\"submission.csv\", index=False)\n",
    "\n",
    "submission"
   ]
  }
 ],
 "metadata": {
  "kernelspec": {
   "display_name": "Python 3",
   "language": "python",
   "name": "python3"
  },
  "language_info": {
   "codemirror_mode": {
    "name": "ipython",
    "version": 3
   },
   "file_extension": ".py",
   "mimetype": "text/x-python",
   "name": "python",
   "nbconvert_exporter": "python",
   "pygments_lexer": "ipython3",
   "version": "3.7.10"
  },
  "papermill": {
   "default_parameters": {},
   "duration": 2215.277119,
   "end_time": "2021-08-26T09:05:24.581720",
   "environment_variables": {},
   "exception": null,
   "input_path": "__notebook__.ipynb",
   "output_path": "__notebook__.ipynb",
   "parameters": {},
   "start_time": "2021-08-26T08:28:29.304601",
   "version": "2.3.3"
  }
 },
 "nbformat": 4,
 "nbformat_minor": 5
}
