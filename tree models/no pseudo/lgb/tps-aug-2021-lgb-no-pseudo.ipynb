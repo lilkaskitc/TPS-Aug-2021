{
 "cells": [
  {
   "cell_type": "markdown",
   "id": "b471dec8",
   "metadata": {
    "papermill": {
     "duration": 0.015468,
     "end_time": "2021-08-25T00:13:33.858921",
     "exception": false,
     "start_time": "2021-08-25T00:13:33.843453",
     "status": "completed"
    },
    "tags": []
   },
   "source": [
    "# Libraries"
   ]
  },
  {
   "cell_type": "code",
   "execution_count": 1,
   "id": "58389959",
   "metadata": {
    "_cell_guid": "b1076dfc-b9ad-4769-8c92-a6c4dae69d19",
    "_uuid": "8f2839f25d086af736a60e9eeb907d3b93b6e0e5",
    "execution": {
     "iopub.execute_input": "2021-08-25T00:13:33.898469Z",
     "iopub.status.busy": "2021-08-25T00:13:33.897240Z",
     "iopub.status.idle": "2021-08-25T00:13:36.299176Z",
     "shell.execute_reply": "2021-08-25T00:13:36.298426Z",
     "shell.execute_reply.started": "2021-08-25T00:10:39.550220Z"
    },
    "papermill": {
     "duration": 2.421771,
     "end_time": "2021-08-25T00:13:36.299357",
     "exception": false,
     "start_time": "2021-08-25T00:13:33.877586",
     "status": "completed"
    },
    "tags": []
   },
   "outputs": [
    {
     "data": {
      "text/html": [
       "<style type='text/css'>\n",
       ".datatable table.frame { margin-bottom: 0; }\n",
       ".datatable table.frame thead { border-bottom: none; }\n",
       ".datatable table.frame tr.coltypes td {  color: #FFFFFF;  line-height: 6px;  padding: 0 0.5em;}\n",
       ".datatable .bool    { background: #DDDD99; }\n",
       ".datatable .object  { background: #565656; }\n",
       ".datatable .int     { background: #5D9E5D; }\n",
       ".datatable .float   { background: #4040CC; }\n",
       ".datatable .str     { background: #CC4040; }\n",
       ".datatable .time    { background: #40CC40; }\n",
       ".datatable .row_index {  background: var(--jp-border-color3);  border-right: 1px solid var(--jp-border-color0);  color: var(--jp-ui-font-color3);  font-size: 9px;}\n",
       ".datatable .frame tbody td { text-align: left; }\n",
       ".datatable .frame tr.coltypes .row_index {  background: var(--jp-border-color0);}\n",
       ".datatable th:nth-child(2) { padding-left: 12px; }\n",
       ".datatable .hellipsis {  color: var(--jp-cell-editor-border-color);}\n",
       ".datatable .vellipsis {  background: var(--jp-layout-color0);  color: var(--jp-cell-editor-border-color);}\n",
       ".datatable .na {  color: var(--jp-cell-editor-border-color);  font-size: 80%;}\n",
       ".datatable .sp {  opacity: 0.25;}\n",
       ".datatable .footer { font-size: 9px; }\n",
       ".datatable .frame_dimensions {  background: var(--jp-border-color3);  border-top: 1px solid var(--jp-border-color0);  color: var(--jp-ui-font-color3);  display: inline-block;  opacity: 0.6;  padding: 1px 10px 1px 5px;}\n",
       "</style>\n"
      ],
      "text/plain": [
       "<IPython.core.display.HTML object>"
      ]
     },
     "metadata": {},
     "output_type": "display_data"
    }
   ],
   "source": [
    "from pathlib import Path\n",
    "import pandas as pd\n",
    "import numpy as np\n",
    "import pickle\n",
    "import random\n",
    "import time\n",
    "import os\n",
    "\n",
    "from sklearn.preprocessing import StandardScaler\n",
    "from sklearn.model_selection import KFold\n",
    "from sklearn.metrics import mean_squared_error\n",
    "\n",
    "from scipy.optimize import minimize\n",
    "\n",
    "import lightgbm as lgb\n",
    "#import xgboost as xgb\n",
    "#import catboost as ctb\n",
    "#from sklearn.linear_model import Ridge\n",
    "\n",
    "import matplotlib.pyplot as plt\n",
    "import seaborn as sns\n",
    "\n",
    "import warnings\n",
    "warnings.simplefilter('ignore')"
   ]
  },
  {
   "cell_type": "markdown",
   "id": "9330072a",
   "metadata": {
    "papermill": {
     "duration": 0.013977,
     "end_time": "2021-08-25T00:13:36.328731",
     "exception": false,
     "start_time": "2021-08-25T00:13:36.314754",
     "status": "completed"
    },
    "tags": []
   },
   "source": [
    "# Parameters"
   ]
  },
  {
   "cell_type": "code",
   "execution_count": 2,
   "id": "add98516",
   "metadata": {
    "execution": {
     "iopub.execute_input": "2021-08-25T00:13:36.365731Z",
     "iopub.status.busy": "2021-08-25T00:13:36.365014Z",
     "iopub.status.idle": "2021-08-25T00:13:36.368021Z",
     "shell.execute_reply": "2021-08-25T00:13:36.367326Z",
     "shell.execute_reply.started": "2021-08-25T00:10:42.418391Z"
    },
    "papermill": {
     "duration": 0.024322,
     "end_time": "2021-08-25T00:13:36.368178",
     "exception": false,
     "start_time": "2021-08-25T00:13:36.343856",
     "status": "completed"
    },
    "tags": []
   },
   "outputs": [],
   "source": [
    "target = 'loss'\n",
    "\n",
    "DEBUG = False\n",
    "\n",
    "if DEBUG:\n",
    "    N_ESTIMATORS = 1\n",
    "    N_SPLITS = 2\n",
    "    SEED = 17\n",
    "    CVSEED = 17\n",
    "    EARLY_STOPPING_ROUNDS = 1\n",
    "    VERBOSE = 100\n",
    "    #N_ITERS = 2\n",
    "else:\n",
    "    N_SPLITS = 10\n",
    "    N_ESTIMATORS = 10000\n",
    "    EARLY_STOPPING_ROUNDS = 200\n",
    "    VERBOSE = 1000\n",
    "    SEED = 17\n",
    "    CVSEED = 17\n",
    "    #N_ITERS = 10"
   ]
  },
  {
   "cell_type": "code",
   "execution_count": 3,
   "id": "8c2fe6ff",
   "metadata": {
    "execution": {
     "iopub.execute_input": "2021-08-25T00:13:36.405143Z",
     "iopub.status.busy": "2021-08-25T00:13:36.404144Z",
     "iopub.status.idle": "2021-08-25T00:13:36.407554Z",
     "shell.execute_reply": "2021-08-25T00:13:36.407070Z",
     "shell.execute_reply.started": "2021-08-25T00:10:42.427727Z"
    },
    "papermill": {
     "duration": 0.024489,
     "end_time": "2021-08-25T00:13:36.407719",
     "exception": false,
     "start_time": "2021-08-25T00:13:36.383230",
     "status": "completed"
    },
    "tags": []
   },
   "outputs": [],
   "source": [
    "def set_seed(seed=17):\n",
    "    random.seed(seed)\n",
    "    os.environ['PYTHONHASHSEED'] = str(seed)\n",
    "    np.random.seed(seed)\n",
    "    \n",
    "set_seed(SEED)"
   ]
  },
  {
   "cell_type": "markdown",
   "id": "71984445",
   "metadata": {
    "papermill": {
     "duration": 0.014012,
     "end_time": "2021-08-25T00:13:36.436175",
     "exception": false,
     "start_time": "2021-08-25T00:13:36.422163",
     "status": "completed"
    },
    "tags": []
   },
   "source": [
    "# Datasets"
   ]
  },
  {
   "cell_type": "code",
   "execution_count": 4,
   "id": "dd3b6c57",
   "metadata": {
    "execution": {
     "iopub.execute_input": "2021-08-25T00:13:36.470404Z",
     "iopub.status.busy": "2021-08-25T00:13:36.469554Z",
     "iopub.status.idle": "2021-08-25T00:13:48.411953Z",
     "shell.execute_reply": "2021-08-25T00:13:48.412501Z",
     "shell.execute_reply.started": "2021-08-25T00:10:42.443605Z"
    },
    "papermill": {
     "duration": 11.962178,
     "end_time": "2021-08-25T00:13:48.412728",
     "exception": false,
     "start_time": "2021-08-25T00:13:36.450550",
     "status": "completed"
    },
    "tags": []
   },
   "outputs": [],
   "source": [
    "INPUT = Path(\"../input/tabular-playground-series-aug-2021\")\n",
    "\n",
    "train = pd.read_csv(INPUT / \"train.csv\")\n",
    "test = pd.read_csv(INPUT / \"test.csv\")\n",
    "submission = pd.read_csv(INPUT / \"sample_submission.csv\")\n"
   ]
  },
  {
   "cell_type": "markdown",
   "id": "8ba10a97",
   "metadata": {
    "papermill": {
     "duration": 0.015361,
     "end_time": "2021-08-25T00:13:48.444044",
     "exception": false,
     "start_time": "2021-08-25T00:13:48.428683",
     "status": "completed"
    },
    "tags": []
   },
   "source": [
    "# Preprocessing"
   ]
  },
  {
   "cell_type": "code",
   "execution_count": 5,
   "id": "d2f199ea",
   "metadata": {
    "execution": {
     "iopub.execute_input": "2021-08-25T00:13:48.478964Z",
     "iopub.status.busy": "2021-08-25T00:13:48.478229Z",
     "iopub.status.idle": "2021-08-25T00:14:00.822162Z",
     "shell.execute_reply": "2021-08-25T00:14:00.822704Z",
     "shell.execute_reply.started": "2021-08-25T00:10:54.739422Z"
    },
    "papermill": {
     "duration": 12.363555,
     "end_time": "2021-08-25T00:14:00.822946",
     "exception": false,
     "start_time": "2021-08-25T00:13:48.459391",
     "status": "completed"
    },
    "tags": []
   },
   "outputs": [],
   "source": [
    "scale_features = [col for col in test.columns if 'f' in col]\n",
    "\n",
    "ss = StandardScaler()\n",
    "train[scale_features] = ss.fit_transform(train[scale_features])\n",
    "test[scale_features] = ss.transform(test[scale_features])\n"
   ]
  },
  {
   "cell_type": "code",
   "execution_count": 6,
   "id": "5172471c",
   "metadata": {
    "execution": {
     "iopub.execute_input": "2021-08-25T00:14:00.857201Z",
     "iopub.status.busy": "2021-08-25T00:14:00.856440Z",
     "iopub.status.idle": "2021-08-25T00:14:00.864745Z",
     "shell.execute_reply": "2021-08-25T00:14:00.864089Z",
     "shell.execute_reply.started": "2021-08-25T00:11:07.925717Z"
    },
    "papermill": {
     "duration": 0.026694,
     "end_time": "2021-08-25T00:14:00.864919",
     "exception": false,
     "start_time": "2021-08-25T00:14:00.838225",
     "status": "completed"
    },
    "tags": []
   },
   "outputs": [],
   "source": [
    "# Swap noise\n",
    "\n",
    "# Random\n",
    "def apply_noise_rn(df, p=.75):\n",
    "    should_not_swap = np.random.binomial(1, p, df.shape)\n",
    "    corrupted_df = df.where(should_not_swap == 1, np.random.permutation(df))\n",
    "    return corrupted_df\n",
    "\n",
    "# Row-wise\n",
    "def apply_noise_row(df, p=.75):\n",
    "    should_not_swap = np.zeros(df.shape)\n",
    "    for i in range(df.shape[0]):\n",
    "        for j in np.random.choice(df.shape[1],int(p*df.shape[1]),replace=False):\n",
    "            should_not_swap[i,j]=1 \n",
    "    corrupted_df = df.where(should_not_swap == 1, np.random.permutation(df))\n",
    "    return corrupted_df\n",
    "    "
   ]
  },
  {
   "cell_type": "markdown",
   "id": "51f16767",
   "metadata": {
    "papermill": {
     "duration": 0.016242,
     "end_time": "2021-08-25T00:14:00.896916",
     "exception": false,
     "start_time": "2021-08-25T00:14:00.880674",
     "status": "completed"
    },
    "tags": []
   },
   "source": [
    "# LGB"
   ]
  },
  {
   "cell_type": "code",
   "execution_count": 7,
   "id": "81833f83",
   "metadata": {
    "execution": {
     "iopub.execute_input": "2021-08-25T00:14:00.934100Z",
     "iopub.status.busy": "2021-08-25T00:14:00.933340Z",
     "iopub.status.idle": "2021-08-25T00:14:00.936626Z",
     "shell.execute_reply": "2021-08-25T00:14:00.936025Z",
     "shell.execute_reply.started": "2021-08-25T00:11:07.936744Z"
    },
    "papermill": {
     "duration": 0.024055,
     "end_time": "2021-08-25T00:14:00.936789",
     "exception": false,
     "start_time": "2021-08-25T00:14:00.912734",
     "status": "completed"
    },
    "tags": []
   },
   "outputs": [],
   "source": [
    "lgb_params = {\n",
    "    'objective': 'regression',\n",
    "    'metric': 'rmse',\n",
    "    'n_estimators': N_ESTIMATORS,\n",
    "    'random_state': SEED,\n",
    "    'importance_type': 'gain',\n",
    "    #'device': 'gpu',\n",
    "    #'gpu_platform_id': 0,\n",
    "    #'gpu_device_id': 0,\n",
    "        \n",
    "    'learning_rate': 0.01376508999204714,\n",
    "     'subsample': 0.6948557461507425,\n",
    "     'colsample_bytree': 0.5127040908887421,\n",
    "     'subsample_freq': 4,\n",
    "     'reg_lambda': 42.010560753005905,\n",
    "     'reg_alpha': 27.268524196259943,\n",
    "     'min_child_weight': 455.1441524357472,\n",
    "     'min_child_samples': 103\n",
    "}\n"
   ]
  },
  {
   "cell_type": "code",
   "execution_count": 8,
   "id": "d861dd8e",
   "metadata": {
    "execution": {
     "iopub.execute_input": "2021-08-25T00:14:00.983299Z",
     "iopub.status.busy": "2021-08-25T00:14:00.982560Z",
     "iopub.status.idle": "2021-08-25T01:50:26.803319Z",
     "shell.execute_reply": "2021-08-25T01:50:26.803904Z",
     "shell.execute_reply.started": "2021-08-25T00:12:07.299746Z"
    },
    "papermill": {
     "duration": 5785.852058,
     "end_time": "2021-08-25T01:50:26.804156",
     "exception": false,
     "start_time": "2021-08-25T00:14:00.952098",
     "status": "completed"
    },
    "tags": []
   },
   "outputs": [
    {
     "name": "stdout",
     "output_type": "stream",
     "text": [
      "===== fold 0 =====\n",
      "Training until validation scores don't improve for 200 rounds\n",
      "[1000]\tvalid_0's rmse: 7.75196\n",
      "[2000]\tvalid_0's rmse: 7.74409\n",
      "Early stopping, best iteration is:\n",
      "[2624]\tvalid_0's rmse: 7.74253\n",
      "Training until validation scores don't improve for 200 rounds\n",
      "[3000]\tvalid_0's rmse: 7.74245\n",
      "[4000]\tvalid_0's rmse: 7.74219\n",
      "Early stopping, best iteration is:\n",
      "[4353]\tvalid_0's rmse: 7.7421\n",
      "Training until validation scores don't improve for 200 rounds\n",
      "[1000]\tvalid_0's rmse: 7.75384\n",
      "[2000]\tvalid_0's rmse: 7.74609\n",
      "[3000]\tvalid_0's rmse: 7.74436\n",
      "Early stopping, best iteration is:\n",
      "[2956]\tvalid_0's rmse: 7.74392\n",
      "Training until validation scores don't improve for 200 rounds\n",
      "[3000]\tvalid_0's rmse: 7.74391\n",
      "Early stopping, best iteration is:\n",
      "[3051]\tvalid_0's rmse: 7.74388\n",
      "Training until validation scores don't improve for 200 rounds\n",
      "[1000]\tvalid_0's rmse: 7.75243\n",
      "[2000]\tvalid_0's rmse: 7.74349\n",
      "Early stopping, best iteration is:\n",
      "[2307]\tvalid_0's rmse: 7.74203\n",
      "Training until validation scores don't improve for 200 rounds\n",
      "Early stopping, best iteration is:\n",
      "[2396]\tvalid_0's rmse: 7.74199\n",
      "fold 0 - lgb rmse: 7.740196, elapsed time: 495.79sec\n",
      "\n",
      "===== fold 1 =====\n",
      "Training until validation scores don't improve for 200 rounds\n",
      "[1000]\tvalid_0's rmse: 7.78005\n",
      "[2000]\tvalid_0's rmse: 7.77281\n",
      "[3000]\tvalid_0's rmse: 7.77043\n",
      "Early stopping, best iteration is:\n",
      "[3158]\tvalid_0's rmse: 7.76972\n",
      "Training until validation scores don't improve for 200 rounds\n",
      "Early stopping, best iteration is:\n",
      "[3174]\tvalid_0's rmse: 7.76971\n",
      "Training until validation scores don't improve for 200 rounds\n",
      "[1000]\tvalid_0's rmse: 7.77761\n",
      "[2000]\tvalid_0's rmse: 7.772\n",
      "Early stopping, best iteration is:\n",
      "[2728]\tvalid_0's rmse: 7.77042\n",
      "Training until validation scores don't improve for 200 rounds\n",
      "[3000]\tvalid_0's rmse: 7.7704\n",
      "Early stopping, best iteration is:\n",
      "[3763]\tvalid_0's rmse: 7.77015\n",
      "Training until validation scores don't improve for 200 rounds\n",
      "[1000]\tvalid_0's rmse: 7.78035\n",
      "[2000]\tvalid_0's rmse: 7.77371\n",
      "Early stopping, best iteration is:\n",
      "[2795]\tvalid_0's rmse: 7.77226\n",
      "Training until validation scores don't improve for 200 rounds\n",
      "[3000]\tvalid_0's rmse: 7.77225\n",
      "[4000]\tvalid_0's rmse: 7.77199\n",
      "Early stopping, best iteration is:\n",
      "[3928]\tvalid_0's rmse: 7.77196\n",
      "fold 1 - lgb rmse: 7.768037, elapsed time: 539.01sec\n",
      "\n",
      "===== fold 2 =====\n",
      "Training until validation scores don't improve for 200 rounds\n",
      "[1000]\tvalid_0's rmse: 7.93037\n",
      "Early stopping, best iteration is:\n",
      "[1560]\tvalid_0's rmse: 7.92754\n",
      "Training until validation scores don't improve for 200 rounds\n",
      "[2000]\tvalid_0's rmse: 7.92735\n",
      "[3000]\tvalid_0's rmse: 7.92695\n",
      "[4000]\tvalid_0's rmse: 7.92665\n",
      "[5000]\tvalid_0's rmse: 7.92635\n",
      "Early stopping, best iteration is:\n",
      "[5362]\tvalid_0's rmse: 7.92628\n",
      "Training until validation scores don't improve for 200 rounds\n",
      "[1000]\tvalid_0's rmse: 7.93057\n",
      "Early stopping, best iteration is:\n",
      "[1577]\tvalid_0's rmse: 7.92606\n",
      "Training until validation scores don't improve for 200 rounds\n",
      "[2000]\tvalid_0's rmse: 7.92584\n",
      "[3000]\tvalid_0's rmse: 7.92549\n",
      "Early stopping, best iteration is:\n",
      "[3513]\tvalid_0's rmse: 7.92532\n",
      "Training until validation scores don't improve for 200 rounds\n",
      "[1000]\tvalid_0's rmse: 7.93073\n",
      "[2000]\tvalid_0's rmse: 7.92534\n",
      "Early stopping, best iteration is:\n",
      "[2024]\tvalid_0's rmse: 7.92518\n",
      "Training until validation scores don't improve for 200 rounds\n",
      "Early stopping, best iteration is:\n",
      "[2393]\tvalid_0's rmse: 7.92513\n",
      "fold 2 - lgb rmse: 7.923883, elapsed time: 525.15sec\n",
      "\n",
      "===== fold 3 =====\n",
      "Training until validation scores don't improve for 200 rounds\n",
      "[1000]\tvalid_0's rmse: 7.85119\n",
      "[2000]\tvalid_0's rmse: 7.84228\n",
      "Early stopping, best iteration is:\n",
      "[2403]\tvalid_0's rmse: 7.84072\n",
      "Training until validation scores don't improve for 200 rounds\n",
      "[3000]\tvalid_0's rmse: 7.8405\n",
      "[4000]\tvalid_0's rmse: 7.84023\n",
      "[5000]\tvalid_0's rmse: 7.83998\n",
      "Early stopping, best iteration is:\n",
      "[5231]\tvalid_0's rmse: 7.8399\n",
      "Training until validation scores don't improve for 200 rounds\n",
      "[1000]\tvalid_0's rmse: 7.85073\n",
      "[2000]\tvalid_0's rmse: 7.8418\n",
      "Early stopping, best iteration is:\n",
      "[2358]\tvalid_0's rmse: 7.84059\n",
      "Training until validation scores don't improve for 200 rounds\n",
      "[3000]\tvalid_0's rmse: 7.84032\n",
      "Early stopping, best iteration is:\n",
      "[3090]\tvalid_0's rmse: 7.84026\n",
      "Training until validation scores don't improve for 200 rounds\n",
      "[1000]\tvalid_0's rmse: 7.85077\n",
      "[2000]\tvalid_0's rmse: 7.84314\n",
      "[3000]\tvalid_0's rmse: 7.83901\n",
      "Early stopping, best iteration is:\n",
      "[3005]\tvalid_0's rmse: 7.83891\n",
      "Training until validation scores don't improve for 200 rounds\n",
      "[4000]\tvalid_0's rmse: 7.83856\n",
      "Early stopping, best iteration is:\n",
      "[4009]\tvalid_0's rmse: 7.83854\n",
      "fold 3 - lgb rmse: 7.837144, elapsed time: 579.16sec\n",
      "\n",
      "===== fold 4 =====\n",
      "Training until validation scores don't improve for 200 rounds\n",
      "[1000]\tvalid_0's rmse: 7.83249\n",
      "[2000]\tvalid_0's rmse: 7.82354\n",
      "[3000]\tvalid_0's rmse: 7.81933\n",
      "[4000]\tvalid_0's rmse: 7.8184\n",
      "Early stopping, best iteration is:\n",
      "[3878]\tvalid_0's rmse: 7.8179\n",
      "Training until validation scores don't improve for 200 rounds\n",
      "[4000]\tvalid_0's rmse: 7.81787\n",
      "[5000]\tvalid_0's rmse: 7.8178\n",
      "Early stopping, best iteration is:\n",
      "[5243]\tvalid_0's rmse: 7.81774\n",
      "Training until validation scores don't improve for 200 rounds\n",
      "[1000]\tvalid_0's rmse: 7.83353\n",
      "[2000]\tvalid_0's rmse: 7.82462\n",
      "Early stopping, best iteration is:\n",
      "[2572]\tvalid_0's rmse: 7.82324\n",
      "Training until validation scores don't improve for 200 rounds\n",
      "[3000]\tvalid_0's rmse: 7.82297\n",
      "[4000]\tvalid_0's rmse: 7.82248\n",
      "[5000]\tvalid_0's rmse: 7.82219\n",
      "Early stopping, best iteration is:\n",
      "[5091]\tvalid_0's rmse: 7.82217\n",
      "Training until validation scores don't improve for 200 rounds\n",
      "[1000]\tvalid_0's rmse: 7.8325\n",
      "[2000]\tvalid_0's rmse: 7.8222\n",
      "[3000]\tvalid_0's rmse: 7.81975\n",
      "Early stopping, best iteration is:\n",
      "[2870]\tvalid_0's rmse: 7.81922\n",
      "Training until validation scores don't improve for 200 rounds\n",
      "[3000]\tvalid_0's rmse: 7.81917\n",
      "Early stopping, best iteration is:\n",
      "[3161]\tvalid_0's rmse: 7.81911\n",
      "fold 4 - lgb rmse: 7.816780, elapsed time: 639.35sec\n",
      "\n",
      "===== fold 5 =====\n",
      "Training until validation scores don't improve for 200 rounds\n",
      "[1000]\tvalid_0's rmse: 7.84594\n",
      "[2000]\tvalid_0's rmse: 7.83668\n",
      "Early stopping, best iteration is:\n",
      "[2589]\tvalid_0's rmse: 7.83494\n",
      "Training until validation scores don't improve for 200 rounds\n",
      "[3000]\tvalid_0's rmse: 7.83475\n",
      "Early stopping, best iteration is:\n",
      "[3514]\tvalid_0's rmse: 7.83462\n",
      "Training until validation scores don't improve for 200 rounds\n",
      "[1000]\tvalid_0's rmse: 7.84661\n",
      "[2000]\tvalid_0's rmse: 7.83899\n",
      "[3000]\tvalid_0's rmse: 7.83647\n",
      "Early stopping, best iteration is:\n",
      "[2972]\tvalid_0's rmse: 7.83642\n",
      "Training until validation scores don't improve for 200 rounds\n",
      "[3000]\tvalid_0's rmse: 7.83643\n",
      "Early stopping, best iteration is:\n",
      "[3072]\tvalid_0's rmse: 7.83634\n",
      "Training until validation scores don't improve for 200 rounds\n",
      "[1000]\tvalid_0's rmse: 7.84744\n",
      "[2000]\tvalid_0's rmse: 7.83911\n",
      "Early stopping, best iteration is:\n",
      "[2528]\tvalid_0's rmse: 7.8382\n",
      "Training until validation scores don't improve for 200 rounds\n",
      "[3000]\tvalid_0's rmse: 7.838\n",
      "Early stopping, best iteration is:\n",
      "[3246]\tvalid_0's rmse: 7.83792\n",
      "fold 5 - lgb rmse: 7.833878, elapsed time: 501.55sec\n",
      "\n",
      "===== fold 6 =====\n",
      "Training until validation scores don't improve for 200 rounds\n",
      "[1000]\tvalid_0's rmse: 7.86863\n",
      "[2000]\tvalid_0's rmse: 7.86059\n",
      "[3000]\tvalid_0's rmse: 7.85779\n",
      "Early stopping, best iteration is:\n",
      "[2994]\tvalid_0's rmse: 7.85775\n",
      "Training until validation scores don't improve for 200 rounds\n",
      "[3000]\tvalid_0's rmse: 7.85775\n",
      "Early stopping, best iteration is:\n",
      "[3167]\tvalid_0's rmse: 7.85764\n",
      "Training until validation scores don't improve for 200 rounds\n",
      "[1000]\tvalid_0's rmse: 7.87088\n",
      "[2000]\tvalid_0's rmse: 7.86282\n",
      "Early stopping, best iteration is:\n",
      "[2464]\tvalid_0's rmse: 7.86152\n",
      "Training until validation scores don't improve for 200 rounds\n",
      "[3000]\tvalid_0's rmse: 7.86144\n",
      "Early stopping, best iteration is:\n",
      "[3416]\tvalid_0's rmse: 7.86134\n",
      "Training until validation scores don't improve for 200 rounds\n",
      "[1000]\tvalid_0's rmse: 7.86834\n",
      "[2000]\tvalid_0's rmse: 7.86073\n",
      "Early stopping, best iteration is:\n",
      "[2279]\tvalid_0's rmse: 7.86027\n",
      "Training until validation scores don't improve for 200 rounds\n",
      "[3000]\tvalid_0's rmse: 7.86\n",
      "[4000]\tvalid_0's rmse: 7.85977\n",
      "[5000]\tvalid_0's rmse: 7.85957\n",
      "Early stopping, best iteration is:\n",
      "[4970]\tvalid_0's rmse: 7.85953\n",
      "fold 6 - lgb rmse: 7.857157, elapsed time: 561.12sec\n",
      "\n",
      "===== fold 7 =====\n",
      "Training until validation scores don't improve for 200 rounds\n",
      "[1000]\tvalid_0's rmse: 7.87115\n",
      "[2000]\tvalid_0's rmse: 7.86099\n",
      "[3000]\tvalid_0's rmse: 7.85912\n",
      "Early stopping, best iteration is:\n",
      "[2877]\tvalid_0's rmse: 7.85853\n",
      "Training until validation scores don't improve for 200 rounds\n",
      "[3000]\tvalid_0's rmse: 7.85847\n",
      "[4000]\tvalid_0's rmse: 7.85823\n",
      "Early stopping, best iteration is:\n",
      "[4377]\tvalid_0's rmse: 7.85811\n",
      "Training until validation scores don't improve for 200 rounds\n",
      "[1000]\tvalid_0's rmse: 7.87148\n",
      "[2000]\tvalid_0's rmse: 7.86232\n",
      "[3000]\tvalid_0's rmse: 7.85908\n",
      "Early stopping, best iteration is:\n",
      "[3265]\tvalid_0's rmse: 7.85844\n",
      "Training until validation scores don't improve for 200 rounds\n",
      "Early stopping, best iteration is:\n",
      "[3728]\tvalid_0's rmse: 7.85821\n",
      "Training until validation scores don't improve for 200 rounds\n",
      "[1000]\tvalid_0's rmse: 7.87059\n",
      "[2000]\tvalid_0's rmse: 7.86032\n",
      "Early stopping, best iteration is:\n",
      "[2743]\tvalid_0's rmse: 7.85781\n",
      "Training until validation scores don't improve for 200 rounds\n",
      "[3000]\tvalid_0's rmse: 7.85774\n",
      "Early stopping, best iteration is:\n",
      "[3629]\tvalid_0's rmse: 7.8576\n",
      "fold 7 - lgb rmse: 7.855369, elapsed time: 570.67sec\n",
      "\n",
      "===== fold 8 =====\n",
      "Training until validation scores don't improve for 200 rounds\n",
      "[1000]\tvalid_0's rmse: 7.85416\n",
      "[2000]\tvalid_0's rmse: 7.84582\n",
      "Early stopping, best iteration is:\n",
      "[2317]\tvalid_0's rmse: 7.84433\n",
      "Training until validation scores don't improve for 200 rounds\n",
      "[3000]\tvalid_0's rmse: 7.84408\n",
      "Early stopping, best iteration is:\n",
      "[3267]\tvalid_0's rmse: 7.84391\n",
      "Training until validation scores don't improve for 200 rounds\n",
      "[1000]\tvalid_0's rmse: 7.85517\n",
      "[2000]\tvalid_0's rmse: 7.84654\n",
      "Early stopping, best iteration is:\n",
      "[2155]\tvalid_0's rmse: 7.84538\n",
      "Training until validation scores don't improve for 200 rounds\n",
      "[3000]\tvalid_0's rmse: 7.84491\n",
      "[4000]\tvalid_0's rmse: 7.84455\n",
      "Early stopping, best iteration is:\n",
      "[4301]\tvalid_0's rmse: 7.84443\n",
      "Training until validation scores don't improve for 200 rounds\n",
      "[1000]\tvalid_0's rmse: 7.85387\n",
      "[2000]\tvalid_0's rmse: 7.84579\n",
      "[3000]\tvalid_0's rmse: 7.84228\n",
      "[4000]\tvalid_0's rmse: 7.83953\n",
      "Early stopping, best iteration is:\n",
      "[4018]\tvalid_0's rmse: 7.83945\n",
      "Training until validation scores don't improve for 200 rounds\n",
      "Early stopping, best iteration is:\n",
      "[4054]\tvalid_0's rmse: 7.83944\n",
      "fold 8 - lgb rmse: 7.839699, elapsed time: 567.65sec\n",
      "\n",
      "===== fold 9 =====\n",
      "Training until validation scores don't improve for 200 rounds\n",
      "[1000]\tvalid_0's rmse: 7.85338\n",
      "[2000]\tvalid_0's rmse: 7.84538\n",
      "Early stopping, best iteration is:\n",
      "[2049]\tvalid_0's rmse: 7.84469\n",
      "Training until validation scores don't improve for 200 rounds\n",
      "[3000]\tvalid_0's rmse: 7.84424\n",
      "[4000]\tvalid_0's rmse: 7.84372\n",
      "[5000]\tvalid_0's rmse: 7.84341\n",
      "[6000]\tvalid_0's rmse: 7.84314\n",
      "[7000]\tvalid_0's rmse: 7.84284\n",
      "Early stopping, best iteration is:\n",
      "[7150]\tvalid_0's rmse: 7.84273\n",
      "Training until validation scores don't improve for 200 rounds\n",
      "[1000]\tvalid_0's rmse: 7.85254\n",
      "[2000]\tvalid_0's rmse: 7.84369\n",
      "Early stopping, best iteration is:\n",
      "[2132]\tvalid_0's rmse: 7.843\n",
      "Training until validation scores don't improve for 200 rounds\n",
      "[3000]\tvalid_0's rmse: 7.84243\n",
      "[4000]\tvalid_0's rmse: 7.84205\n",
      "[5000]\tvalid_0's rmse: 7.84172\n",
      "[6000]\tvalid_0's rmse: 7.84136\n",
      "Early stopping, best iteration is:\n",
      "[6671]\tvalid_0's rmse: 7.84109\n",
      "Training until validation scores don't improve for 200 rounds\n",
      "[1000]\tvalid_0's rmse: 7.85269\n",
      "[2000]\tvalid_0's rmse: 7.84518\n",
      "Early stopping, best iteration is:\n",
      "[2683]\tvalid_0's rmse: 7.84169\n",
      "Training until validation scores don't improve for 200 rounds\n",
      "[3000]\tvalid_0's rmse: 7.8416\n",
      "[4000]\tvalid_0's rmse: 7.8412\n",
      "Early stopping, best iteration is:\n",
      "[4728]\tvalid_0's rmse: 7.84102\n",
      "fold 9 - lgb rmse: 7.839471, elapsed time: 802.69sec\n",
      "\n",
      "oof lgb_rmse = 7.831305135046449\n"
     ]
    }
   ],
   "source": [
    "lgb_oof = np.zeros(train.shape[0])\n",
    "lgb_pred = np.zeros(test.shape[0])\n",
    "lgb_importances = pd.DataFrame()\n",
    "\n",
    "\n",
    "kf = KFold(n_splits=N_SPLITS, shuffle=True, random_state=CVSEED)\n",
    "seed_list=[SEED, SEED+1, SEED+2]\n",
    "\n",
    "for fold, (trn_idx, val_idx) in enumerate(kf.split(X=train[scale_features], y=train[target])):\n",
    "    print(f\"===== fold {fold} =====\")\n",
    "    \n",
    "    X_train, y_train = train[scale_features].iloc[trn_idx], train[target].iloc[trn_idx]\n",
    "    #X_train = apply_noise_row(X_train)\n",
    "    \n",
    "    X_valid, y_valid = train[scale_features].iloc[val_idx], train[target].iloc[val_idx]\n",
    "    X_test = test[scale_features]\n",
    "    \n",
    "    # LGB\n",
    "    start = time.time()\n",
    "    \n",
    "    for inseed in seed_list:\n",
    "        lgb_params['random_state'] = inseed\n",
    "    \n",
    "        pre_model = lgb.LGBMRegressor(**lgb_params)\n",
    "        pre_model.fit(\n",
    "            X_train, \n",
    "            y_train,\n",
    "            eval_set=[(X_valid, y_valid)],\n",
    "            eval_metric='rmse',\n",
    "            early_stopping_rounds=EARLY_STOPPING_ROUNDS,\n",
    "            verbose=VERBOSE,\n",
    "        )\n",
    "\n",
    "        lgb_params2 = lgb_params.copy()\n",
    "        lgb_params2['reg_lambda'] *= 0.9\n",
    "        lgb_params2['reg_alpha'] *= 0.9\n",
    "        lgb_params2['learning_rate'] *= 0.1\n",
    "        model = lgb.LGBMRegressor(**lgb_params2)\n",
    "        model.fit(\n",
    "                X_train, y_train,\n",
    "                eval_set=[(X_valid, y_valid)],\n",
    "                eval_metric='rmse',\n",
    "                early_stopping_rounds=EARLY_STOPPING_ROUNDS,\n",
    "                verbose=VERBOSE,\n",
    "                init_model=pre_model\n",
    "        )    \n",
    "\n",
    "        with open(f\"lgb_model{fold}.pkl\", 'wb') as f:\n",
    "            pickle.dump(model, f)\n",
    "\n",
    "        fi_tmp = pd.DataFrame()\n",
    "        fi_tmp['feature'] = model.feature_name_\n",
    "        fi_tmp['importance'] = model.feature_importances_\n",
    "        fi_tmp['fold'] = fold\n",
    "        fi_tmp['seed'] = inseed\n",
    "        lgb_importances = lgb_importances.append(fi_tmp)\n",
    "\n",
    "        lgb_oof[val_idx] += model.predict(X_valid) / len(seed_list)\n",
    "        lgb_pred += model.predict(X_test) / len(seed_list)\n",
    "    \n",
    "    elapsed = time.time() - start\n",
    "    rmse = mean_squared_error(y_valid, lgb_oof[val_idx], squared=False)\n",
    "    print(f\"fold {fold} - lgb rmse: {rmse:.6f}, elapsed time: {elapsed:.2f}sec\\n\")\n",
    "\n",
    "        \n",
    "print(f\"oof lgb_rmse = {mean_squared_error(train[target], lgb_oof, squared=False)}\")\n",
    "\n",
    "np.save(\"lgb_oof.npy\", lgb_oof)\n",
    "np.save(\"lgb_pred.npy\", lgb_pred)\n"
   ]
  },
  {
   "cell_type": "markdown",
   "id": "fae0a54f",
   "metadata": {
    "papermill": {
     "duration": 0.089482,
     "end_time": "2021-08-25T01:50:26.986155",
     "exception": false,
     "start_time": "2021-08-25T01:50:26.896673",
     "status": "completed"
    },
    "tags": []
   },
   "source": [
    "# OOF predictions"
   ]
  },
  {
   "cell_type": "code",
   "execution_count": 9,
   "id": "871cfde7",
   "metadata": {
    "execution": {
     "iopub.execute_input": "2021-08-25T01:50:27.171917Z",
     "iopub.status.busy": "2021-08-25T01:50:27.171190Z",
     "iopub.status.idle": "2021-08-25T01:50:28.287014Z",
     "shell.execute_reply": "2021-08-25T01:50:28.286244Z",
     "shell.execute_reply.started": "2021-08-25T00:12:44.701649Z"
    },
    "papermill": {
     "duration": 1.211178,
     "end_time": "2021-08-25T01:50:28.287192",
     "exception": false,
     "start_time": "2021-08-25T01:50:27.076014",
     "status": "completed"
    },
    "tags": []
   },
   "outputs": [
    {
     "data": {
      "text/plain": [
       "<matplotlib.collections.PathCollection at 0x7ff637e14e90>"
      ]
     },
     "execution_count": 9,
     "metadata": {},
     "output_type": "execute_result"
    },
    {
     "data": {
      "image/png": "[encoded data removed]",
      "text/plain": [
       "<Figure size 432x288 with 1 Axes>"
      ]
     },
     "metadata": {
      "needs_background": "light"
     },
     "output_type": "display_data"
    }
   ],
   "source": [
    "plt.plot(train[target], train[target])\n",
    "plt.scatter(train[target], lgb_oof)"
   ]
  },
  {
   "cell_type": "markdown",
   "id": "82d2ccdf",
   "metadata": {
    "papermill": {
     "duration": 0.090272,
     "end_time": "2021-08-25T01:50:28.471741",
     "exception": false,
     "start_time": "2021-08-25T01:50:28.381469",
     "status": "completed"
    },
    "tags": []
   },
   "source": [
    "# Features importances"
   ]
  },
  {
   "cell_type": "code",
   "execution_count": 10,
   "id": "5346b7d3",
   "metadata": {
    "execution": {
     "iopub.execute_input": "2021-08-25T01:50:28.674322Z",
     "iopub.status.busy": "2021-08-25T01:50:28.673487Z",
     "iopub.status.idle": "2021-08-25T01:50:30.701762Z",
     "shell.execute_reply": "2021-08-25T01:50:30.701108Z",
     "shell.execute_reply.started": "2021-08-25T00:12:48.581346Z"
    },
    "papermill": {
     "duration": 2.13798,
     "end_time": "2021-08-25T01:50:30.701932",
     "exception": false,
     "start_time": "2021-08-25T01:50:28.563952",
     "status": "completed"
    },
    "tags": []
   },
   "outputs": [
    {
     "data": {
      "text/plain": [
       "Text(0.5, 1.0, 'LightGBM feature importances')"
      ]
     },
     "execution_count": 10,
     "metadata": {},
     "output_type": "execute_result"
    },
    {
     "data": {
      "image/png": "[encoded data removed]",
      "text/plain": [
       "<Figure size 1152x1152 with 1 Axes>"
      ]
     },
     "metadata": {
      "needs_background": "light"
     },
     "output_type": "display_data"
    }
   ],
   "source": [
    "order = list(lgb_importances.groupby('feature').mean().sort_values('importance', ascending=False).index)\n",
    "\n",
    "fig = plt.figure(figsize=(16, 16), tight_layout=True)\n",
    "sns.barplot(x=\"importance\", y=\"feature\", data=lgb_importances.groupby('feature').mean().reset_index(), order=order)\n",
    "plt.title(\"LightGBM feature importances\")"
   ]
  },
  {
   "cell_type": "markdown",
   "id": "f63eb39c",
   "metadata": {
    "papermill": {
     "duration": 0.091987,
     "end_time": "2021-08-25T01:50:30.890817",
     "exception": false,
     "start_time": "2021-08-25T01:50:30.798830",
     "status": "completed"
    },
    "tags": []
   },
   "source": [
    "# Submission"
   ]
  },
  {
   "cell_type": "code",
   "execution_count": 11,
   "id": "078db852",
   "metadata": {
    "execution": {
     "iopub.execute_input": "2021-08-25T01:50:31.080006Z",
     "iopub.status.busy": "2021-08-25T01:50:31.079372Z",
     "iopub.status.idle": "2021-08-25T01:50:31.671120Z",
     "shell.execute_reply": "2021-08-25T01:50:31.670473Z",
     "shell.execute_reply.started": "2021-08-25T00:12:50.752430Z"
    },
    "papermill": {
     "duration": 0.688268,
     "end_time": "2021-08-25T01:50:31.671258",
     "exception": false,
     "start_time": "2021-08-25T01:50:30.982990",
     "status": "completed"
    },
    "tags": []
   },
   "outputs": [
    {
     "data": {
      "text/html": [
       "<div>\n",
       "<style scoped>\n",
       "    .dataframe tbody tr th:only-of-type {\n",
       "        vertical-align: middle;\n",
       "    }\n",
       "\n",
       "    .dataframe tbody tr th {\n",
       "        vertical-align: top;\n",
       "    }\n",
       "\n",
       "    .dataframe thead th {\n",
       "        text-align: right;\n",
       "    }\n",
       "</style>\n",
       "<table border=\"1\" class=\"dataframe\">\n",
       "  <thead>\n",
       "    <tr style=\"text-align: right;\">\n",
       "      <th></th>\n",
       "      <th>id</th>\n",
       "      <th>loss</th>\n",
       "    </tr>\n",
       "  </thead>\n",
       "  <tbody>\n",
       "    <tr>\n",
       "      <th>0</th>\n",
       "      <td>250000</td>\n",
       "      <td>81.207382</td>\n",
       "    </tr>\n",
       "    <tr>\n",
       "      <th>1</th>\n",
       "      <td>250001</td>\n",
       "      <td>46.299083</td>\n",
       "    </tr>\n",
       "    <tr>\n",
       "      <th>2</th>\n",
       "      <td>250002</td>\n",
       "      <td>85.721196</td>\n",
       "    </tr>\n",
       "    <tr>\n",
       "      <th>3</th>\n",
       "      <td>250003</td>\n",
       "      <td>74.964675</td>\n",
       "    </tr>\n",
       "    <tr>\n",
       "      <th>4</th>\n",
       "      <td>250004</td>\n",
       "      <td>72.077539</td>\n",
       "    </tr>\n",
       "    <tr>\n",
       "      <th>...</th>\n",
       "      <td>...</td>\n",
       "      <td>...</td>\n",
       "    </tr>\n",
       "    <tr>\n",
       "      <th>149995</th>\n",
       "      <td>399995</td>\n",
       "      <td>79.065009</td>\n",
       "    </tr>\n",
       "    <tr>\n",
       "      <th>149996</th>\n",
       "      <td>399996</td>\n",
       "      <td>75.537435</td>\n",
       "    </tr>\n",
       "    <tr>\n",
       "      <th>149997</th>\n",
       "      <td>399997</td>\n",
       "      <td>58.415931</td>\n",
       "    </tr>\n",
       "    <tr>\n",
       "      <th>149998</th>\n",
       "      <td>399998</td>\n",
       "      <td>55.910062</td>\n",
       "    </tr>\n",
       "    <tr>\n",
       "      <th>149999</th>\n",
       "      <td>399999</td>\n",
       "      <td>68.592916</td>\n",
       "    </tr>\n",
       "  </tbody>\n",
       "</table>\n",
       "<p>150000 rows × 2 columns</p>\n",
       "</div>"
      ],
      "text/plain": [
       "            id       loss\n",
       "0       250000  81.207382\n",
       "1       250001  46.299083\n",
       "2       250002  85.721196\n",
       "3       250003  74.964675\n",
       "4       250004  72.077539\n",
       "...        ...        ...\n",
       "149995  399995  79.065009\n",
       "149996  399996  75.537435\n",
       "149997  399997  58.415931\n",
       "149998  399998  55.910062\n",
       "149999  399999  68.592916\n",
       "\n",
       "[150000 rows x 2 columns]"
      ]
     },
     "execution_count": 11,
     "metadata": {},
     "output_type": "execute_result"
    }
   ],
   "source": [
    "submission[target] = lgb_pred\n",
    "submission.to_csv(\"submission.csv\", index=False)\n",
    "\n",
    "submission"
   ]
  }
 ],
 "metadata": {
  "kernelspec": {
   "display_name": "Python 3",
   "language": "python",
   "name": "python3"
  },
  "language_info": {
   "codemirror_mode": {
    "name": "ipython",
    "version": 3
   },
   "file_extension": ".py",
   "mimetype": "text/x-python",
   "name": "python",
   "nbconvert_exporter": "python",
   "pygments_lexer": "ipython3",
   "version": "3.7.10"
  },
  "papermill": {
   "default_parameters": {},
   "duration": 5827.833238,
   "end_time": "2021-08-25T01:50:33.300632",
   "environment_variables": {},
   "exception": null,
   "input_path": "__notebook__.ipynb",
   "output_path": "__notebook__.ipynb",
   "parameters": {},
   "start_time": "2021-08-25T00:13:25.467394",
   "version": "2.3.3"
  }
 },
 "nbformat": 4,
 "nbformat_minor": 5
}
