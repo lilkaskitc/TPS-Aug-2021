{
 "cells": [
  {
   "cell_type": "markdown",
   "id": "c051e6de",
   "metadata": {
    "papermill": {
     "duration": 0.017697,
     "end_time": "2021-08-28T13:12:06.715498",
     "exception": false,
     "start_time": "2021-08-28T13:12:06.697801",
     "status": "completed"
    },
    "tags": []
   },
   "source": [
    "# Libraries"
   ]
  },
  {
   "cell_type": "code",
   "execution_count": 1,
   "id": "6e52a975",
   "metadata": {
    "_cell_guid": "b1076dfc-b9ad-4769-8c92-a6c4dae69d19",
    "_uuid": "8f2839f25d086af736a60e9eeb907d3b93b6e0e5",
    "execution": {
     "iopub.execute_input": "2021-08-28T13:12:06.758573Z",
     "iopub.status.busy": "2021-08-28T13:12:06.757784Z",
     "iopub.status.idle": "2021-08-28T13:12:08.140054Z",
     "shell.execute_reply": "2021-08-28T13:12:08.140748Z",
     "shell.execute_reply.started": "2021-08-28T03:40:30.374194Z"
    },
    "papermill": {
     "duration": 1.410512,
     "end_time": "2021-08-28T13:12:08.141136",
     "exception": false,
     "start_time": "2021-08-28T13:12:06.730624",
     "status": "completed"
    },
    "tags": []
   },
   "outputs": [],
   "source": [
    "from pathlib import Path\n",
    "import pandas as pd\n",
    "import numpy as np\n",
    "import pickle\n",
    "import random\n",
    "import time\n",
    "import os\n",
    "\n",
    "from sklearn.preprocessing import StandardScaler\n",
    "from sklearn.model_selection import KFold\n",
    "from sklearn.metrics import mean_squared_error\n",
    "\n",
    "from scipy.optimize import minimize\n",
    "\n",
    "#import lightgbm as lgb\n",
    "#import xgboost as xgb\n",
    "import catboost as ctb\n",
    "#from sklearn.linear_model import Ridge\n",
    "\n",
    "import matplotlib.pyplot as plt\n",
    "import seaborn as sns\n",
    "\n",
    "import warnings\n",
    "warnings.simplefilter('ignore')"
   ]
  },
  {
   "cell_type": "markdown",
   "id": "a4df8552",
   "metadata": {
    "papermill": {
     "duration": 0.015076,
     "end_time": "2021-08-28T13:12:08.171579",
     "exception": false,
     "start_time": "2021-08-28T13:12:08.156503",
     "status": "completed"
    },
    "tags": []
   },
   "source": [
    "# Parameters"
   ]
  },
  {
   "cell_type": "code",
   "execution_count": 2,
   "id": "f281eb0b",
   "metadata": {
    "execution": {
     "iopub.execute_input": "2021-08-28T13:12:08.209469Z",
     "iopub.status.busy": "2021-08-28T13:12:08.208333Z",
     "iopub.status.idle": "2021-08-28T13:12:08.214534Z",
     "shell.execute_reply": "2021-08-28T13:12:08.215045Z",
     "shell.execute_reply.started": "2021-08-28T03:40:31.768298Z"
    },
    "papermill": {
     "duration": 0.02763,
     "end_time": "2021-08-28T13:12:08.215228",
     "exception": false,
     "start_time": "2021-08-28T13:12:08.187598",
     "status": "completed"
    },
    "tags": []
   },
   "outputs": [],
   "source": [
    "target = 'loss'\n",
    "\n",
    "DEBUG = False\n",
    "\n",
    "if DEBUG:\n",
    "    N_ESTIMATORS = 1\n",
    "    N_SPLITS = 2\n",
    "    SEED = 17\n",
    "    CVSEED = 17\n",
    "    EARLY_STOPPING_ROUNDS = 1\n",
    "    VERBOSE = 100\n",
    "    #N_ITERS = 2\n",
    "else:\n",
    "    N_SPLITS = 10\n",
    "    N_ESTIMATORS = 10000\n",
    "    EARLY_STOPPING_ROUNDS = 200\n",
    "    VERBOSE = 1000\n",
    "    SEED = 17\n",
    "    CVSEED = 17\n",
    "    #N_ITERS = 10"
   ]
  },
  {
   "cell_type": "code",
   "execution_count": 3,
   "id": "1795652a",
   "metadata": {
    "execution": {
     "iopub.execute_input": "2021-08-28T13:12:08.252899Z",
     "iopub.status.busy": "2021-08-28T13:12:08.252262Z",
     "iopub.status.idle": "2021-08-28T13:12:08.255061Z",
     "shell.execute_reply": "2021-08-28T13:12:08.255515Z",
     "shell.execute_reply.started": "2021-08-28T03:40:31.777715Z"
    },
    "papermill": {
     "duration": 0.024722,
     "end_time": "2021-08-28T13:12:08.255697",
     "exception": false,
     "start_time": "2021-08-28T13:12:08.230975",
     "status": "completed"
    },
    "tags": []
   },
   "outputs": [],
   "source": [
    "def set_seed(seed=17):\n",
    "    random.seed(seed)\n",
    "    os.environ['PYTHONHASHSEED'] = str(seed)\n",
    "    np.random.seed(seed)\n",
    "    \n",
    "set_seed(SEED)"
   ]
  },
  {
   "cell_type": "markdown",
   "id": "5fd5a230",
   "metadata": {
    "papermill": {
     "duration": 0.015085,
     "end_time": "2021-08-28T13:12:08.285940",
     "exception": false,
     "start_time": "2021-08-28T13:12:08.270855",
     "status": "completed"
    },
    "tags": []
   },
   "source": [
    "# Datasets"
   ]
  },
  {
   "cell_type": "code",
   "execution_count": 4,
   "id": "aac7967e",
   "metadata": {
    "execution": {
     "iopub.execute_input": "2021-08-28T13:12:08.323818Z",
     "iopub.status.busy": "2021-08-28T13:12:08.323174Z",
     "iopub.status.idle": "2021-08-28T13:12:20.279525Z",
     "shell.execute_reply": "2021-08-28T13:12:20.280055Z",
     "shell.execute_reply.started": "2021-08-28T03:40:31.790758Z"
    },
    "papermill": {
     "duration": 11.978474,
     "end_time": "2021-08-28T13:12:20.280239",
     "exception": false,
     "start_time": "2021-08-28T13:12:08.301765",
     "status": "completed"
    },
    "tags": []
   },
   "outputs": [],
   "source": [
    "INPUT = Path(\"../input/tabular-playground-series-aug-2021\")\n",
    "\n",
    "train = pd.read_csv(INPUT / \"train.csv\")\n",
    "test = pd.read_csv(INPUT / \"test.csv\")\n",
    "submission = pd.read_csv(INPUT / \"sample_submission.csv\")\n"
   ]
  },
  {
   "cell_type": "markdown",
   "id": "57fcb5da",
   "metadata": {
    "papermill": {
     "duration": 0.015133,
     "end_time": "2021-08-28T13:12:20.310408",
     "exception": false,
     "start_time": "2021-08-28T13:12:20.295275",
     "status": "completed"
    },
    "tags": []
   },
   "source": [
    "# Preprocessing"
   ]
  },
  {
   "cell_type": "code",
   "execution_count": 5,
   "id": "e14f1217",
   "metadata": {
    "execution": {
     "iopub.execute_input": "2021-08-28T13:12:20.351949Z",
     "iopub.status.busy": "2021-08-28T13:12:20.351329Z",
     "iopub.status.idle": "2021-08-28T13:12:32.594133Z",
     "shell.execute_reply": "2021-08-28T13:12:32.593429Z",
     "shell.execute_reply.started": "2021-08-28T03:40:42.670932Z"
    },
    "papermill": {
     "duration": 12.268634,
     "end_time": "2021-08-28T13:12:32.594281",
     "exception": false,
     "start_time": "2021-08-28T13:12:20.325647",
     "status": "completed"
    },
    "tags": []
   },
   "outputs": [],
   "source": [
    "scale_features = [col for col in test.columns if 'f' in col]\n",
    "\n",
    "ss = StandardScaler()\n",
    "train[scale_features] = ss.fit_transform(train[scale_features])\n",
    "test[scale_features] = ss.transform(test[scale_features])\n"
   ]
  },
  {
   "cell_type": "code",
   "execution_count": 6,
   "id": "97f902ec",
   "metadata": {
    "execution": {
     "iopub.execute_input": "2021-08-28T13:12:32.636831Z",
     "iopub.status.busy": "2021-08-28T13:12:32.635711Z",
     "iopub.status.idle": "2021-08-28T13:12:32.638942Z",
     "shell.execute_reply": "2021-08-28T13:12:32.639453Z",
     "shell.execute_reply.started": "2021-08-28T03:40:54.706702Z"
    },
    "papermill": {
     "duration": 0.027855,
     "end_time": "2021-08-28T13:12:32.639643",
     "exception": false,
     "start_time": "2021-08-28T13:12:32.611788",
     "status": "completed"
    },
    "tags": []
   },
   "outputs": [],
   "source": [
    "# Swap noise\n",
    "\n",
    "# Random\n",
    "def apply_noise_rn(df, p=.75):\n",
    "    should_not_swap = np.random.binomial(1, p, df.shape)\n",
    "    corrupted_df = df.where(should_not_swap == 1, np.random.permutation(df))\n",
    "    return corrupted_df\n",
    "\n",
    "# Row-wise\n",
    "def apply_noise_row(df, p=.75):\n",
    "    should_not_swap = np.zeros(df.shape)\n",
    "    for i in range(df.shape[0]):\n",
    "        for j in np.random.choice(df.shape[1],int(p*df.shape[1]),replace=False):\n",
    "            should_not_swap[i,j]=1 \n",
    "    corrupted_df = df.where(should_not_swap == 1, np.random.permutation(df))\n",
    "    return corrupted_df\n",
    "    "
   ]
  },
  {
   "cell_type": "markdown",
   "id": "223d2cef",
   "metadata": {
    "papermill": {
     "duration": 0.015055,
     "end_time": "2021-08-28T13:12:32.670630",
     "exception": false,
     "start_time": "2021-08-28T13:12:32.655575",
     "status": "completed"
    },
    "tags": []
   },
   "source": [
    "# CatB"
   ]
  },
  {
   "cell_type": "code",
   "execution_count": 7,
   "id": "74193a66",
   "metadata": {
    "execution": {
     "iopub.execute_input": "2021-08-28T13:12:32.710940Z",
     "iopub.status.busy": "2021-08-28T13:12:32.710308Z",
     "iopub.status.idle": "2021-08-28T13:12:32.714075Z",
     "shell.execute_reply": "2021-08-28T13:12:32.713303Z",
     "shell.execute_reply.started": "2021-08-28T03:42:36.539387Z"
    },
    "papermill": {
     "duration": 0.025283,
     "end_time": "2021-08-28T13:12:32.714235",
     "exception": false,
     "start_time": "2021-08-28T13:12:32.688952",
     "status": "completed"
    },
    "tags": []
   },
   "outputs": [],
   "source": [
    "ctb_params = {\n",
    "   'loss_function': 'RMSE',\n",
    "     'eval_metric': 'RMSE',\n",
    "    'n_estimators':N_ESTIMATORS,\n",
    "    \n",
    "    'bootstrap_type': 'MVS',\n",
    "    'max_depth': 7,\n",
    "    'learning_rate': 0.008631898678482117, \n",
    "    'max_bin': 513, \n",
    "    'min_data_in_leaf': 106, \n",
    "    'reg_lambda': 0.33198521893488897, \n",
    "    'subsample': 0.6710454521793958\n",
    "}\n"
   ]
  },
  {
   "cell_type": "code",
   "execution_count": 8,
   "id": "a9b0d311",
   "metadata": {
    "execution": {
     "iopub.execute_input": "2021-08-28T13:12:32.748046Z",
     "iopub.status.busy": "2021-08-28T13:12:32.747360Z",
     "iopub.status.idle": "2021-08-28T18:18:45.585315Z",
     "shell.execute_reply": "2021-08-28T18:18:45.584731Z",
     "shell.execute_reply.started": "2021-08-28T03:42:36.546765Z"
    },
    "papermill": {
     "duration": 18372.856404,
     "end_time": "2021-08-28T18:18:45.585624",
     "exception": false,
     "start_time": "2021-08-28T13:12:32.729220",
     "status": "completed"
    },
    "tags": []
   },
   "outputs": [
    {
     "name": "stdout",
     "output_type": "stream",
     "text": [
      "===== fold 0 =====\n",
      "===== fold 1 =====\n",
      "===== fold 2 =====\n",
      "===== fold 3 =====\n",
      "===== fold 4 =====\n",
      "===== fold 5 =====\n",
      "0:\tlearn: 7.9396185\ttest: 7.9413989\tbest: 7.9413989 (0)\ttotal: 173ms\tremaining: 28m 49s\n",
      "1000:\tlearn: 7.8286969\ttest: 7.8820539\tbest: 7.8820539 (1000)\ttotal: 1m 44s\tremaining: 15m 35s\n",
      "2000:\tlearn: 7.7566474\ttest: 7.8654329\tbest: 7.8654208 (1999)\ttotal: 3m 22s\tremaining: 13m 27s\n",
      "3000:\tlearn: 7.6852823\ttest: 7.8561728\tbest: 7.8561728 (3000)\ttotal: 5m\tremaining: 11m 41s\n",
      "4000:\tlearn: 7.6173975\ttest: 7.8511988\tbest: 7.8511988 (4000)\ttotal: 6m 39s\tremaining: 9m 59s\n",
      "5000:\tlearn: 7.5530922\ttest: 7.8477687\tbest: 7.8476910 (4968)\ttotal: 8m 20s\tremaining: 8m 20s\n",
      "6000:\tlearn: 7.4896269\ttest: 7.8448599\tbest: 7.8448443 (5990)\ttotal: 9m 59s\tremaining: 6m 39s\n",
      "7000:\tlearn: 7.4281321\ttest: 7.8429397\tbest: 7.8429259 (6952)\ttotal: 11m 37s\tremaining: 4m 58s\n",
      "8000:\tlearn: 7.3681952\ttest: 7.8412534\tbest: 7.8412074 (7986)\ttotal: 13m 15s\tremaining: 3m 18s\n",
      "Stopped by overfitting detector  (200 iterations wait)\n",
      "\n",
      "bestTest = 7.839707211\n",
      "bestIteration = 8728\n",
      "\n",
      "Shrink model to first 8729 iterations.\n",
      "0:\tlearn: 7.3252559\ttest: 7.8397080\tbest: 7.8397080 (0)\ttotal: 112ms\tremaining: 18m 43s\n",
      "1000:\tlearn: 7.3204174\ttest: 7.8395731\tbest: 7.8395700 (994)\ttotal: 1m 44s\tremaining: 15m 42s\n",
      "2000:\tlearn: 7.3155809\ttest: 7.8394545\tbest: 7.8394527 (1950)\ttotal: 3m 30s\tremaining: 14m\n",
      "3000:\tlearn: 7.3107698\ttest: 7.8393525\tbest: 7.8393473 (2978)\ttotal: 5m 16s\tremaining: 12m 17s\n",
      "Stopped by overfitting detector  (200 iterations wait)\n",
      "\n",
      "bestTest = 7.839297683\n",
      "bestIteration = 3575\n",
      "\n",
      "Shrink model to first 3576 iterations.\n",
      "0:\tlearn: 7.9396442\ttest: 7.9414583\tbest: 7.9414583 (0)\ttotal: 101ms\tremaining: 16m 49s\n",
      "1000:\tlearn: 7.8292102\ttest: 7.8820693\tbest: 7.8820693 (1000)\ttotal: 1m 45s\tremaining: 15m 47s\n",
      "2000:\tlearn: 7.7569903\ttest: 7.8647234\tbest: 7.8647234 (2000)\ttotal: 3m 25s\tremaining: 13m 39s\n",
      "3000:\tlearn: 7.6859287\ttest: 7.8557536\tbest: 7.8557536 (3000)\ttotal: 5m 3s\tremaining: 11m 47s\n",
      "4000:\tlearn: 7.6186999\ttest: 7.8504025\tbest: 7.8504025 (4000)\ttotal: 6m 40s\tremaining: 10m 1s\n",
      "5000:\tlearn: 7.5541770\ttest: 7.8471070\tbest: 7.8470786 (4996)\ttotal: 8m 19s\tremaining: 8m 19s\n",
      "6000:\tlearn: 7.4912708\ttest: 7.8439981\tbest: 7.8439981 (6000)\ttotal: 9m 57s\tremaining: 6m 38s\n",
      "7000:\tlearn: 7.4296531\ttest: 7.8425520\tbest: 7.8425520 (7000)\ttotal: 11m 35s\tremaining: 4m 58s\n",
      "8000:\tlearn: 7.3691388\ttest: 7.8412557\tbest: 7.8412557 (8000)\ttotal: 13m 14s\tremaining: 3m 18s\n",
      "Stopped by overfitting detector  (200 iterations wait)\n",
      "\n",
      "bestTest = 7.840796985\n",
      "bestIteration = 8187\n",
      "\n",
      "Shrink model to first 8188 iterations.\n",
      "0:\tlearn: 7.3580641\ttest: 7.8407968\tbest: 7.8407968 (0)\ttotal: 111ms\tremaining: 18m 33s\n",
      "1000:\tlearn: 7.3531972\ttest: 7.8406098\tbest: 7.8406054 (984)\ttotal: 1m 45s\tremaining: 15m 46s\n",
      "2000:\tlearn: 7.3483408\ttest: 7.8404789\tbest: 7.8404776 (1988)\ttotal: 3m 30s\tremaining: 14m\n",
      "3000:\tlearn: 7.3434752\ttest: 7.8403965\tbest: 7.8403780 (2926)\ttotal: 5m 16s\tremaining: 12m 17s\n",
      "4000:\tlearn: 7.3386878\ttest: 7.8402378\tbest: 7.8402281 (3960)\ttotal: 7m 2s\tremaining: 10m 33s\n",
      "Stopped by overfitting detector  (200 iterations wait)\n",
      "\n",
      "bestTest = 7.840163122\n",
      "bestIteration = 4534\n",
      "\n",
      "Shrink model to first 4535 iterations.\n",
      "0:\tlearn: 7.9395999\ttest: 7.9413685\tbest: 7.9413685 (0)\ttotal: 93.6ms\tremaining: 15m 35s\n",
      "1000:\tlearn: 7.8293046\ttest: 7.8811452\tbest: 7.8811452 (1000)\ttotal: 1m 45s\tremaining: 15m 49s\n",
      "2000:\tlearn: 7.7573752\ttest: 7.8645718\tbest: 7.8645718 (2000)\ttotal: 3m 26s\tremaining: 13m 43s\n",
      "3000:\tlearn: 7.6865844\ttest: 7.8555912\tbest: 7.8555912 (3000)\ttotal: 5m 4s\tremaining: 11m 49s\n",
      "4000:\tlearn: 7.6190169\ttest: 7.8508551\tbest: 7.8508551 (4000)\ttotal: 6m 45s\tremaining: 10m 7s\n",
      "5000:\tlearn: 7.5536491\ttest: 7.8473180\tbest: 7.8473180 (5000)\ttotal: 8m 25s\tremaining: 8m 25s\n",
      "Stopped by overfitting detector  (200 iterations wait)\n",
      "\n",
      "bestTest = 7.845232536\n",
      "bestIteration = 5752\n",
      "\n",
      "Shrink model to first 5753 iterations.\n",
      "0:\tlearn: 7.5059788\ttest: 7.8452319\tbest: 7.8452319 (0)\ttotal: 104ms\tremaining: 17m 24s\n",
      "1000:\tlearn: 7.5009234\ttest: 7.8450280\tbest: 7.8450253 (987)\ttotal: 1m 44s\tremaining: 15m 41s\n",
      "2000:\tlearn: 7.4958880\ttest: 7.8447854\tbest: 7.8447854 (2000)\ttotal: 3m 29s\tremaining: 13m 57s\n",
      "3000:\tlearn: 7.4908624\ttest: 7.8445238\tbest: 7.8445238 (3000)\ttotal: 5m 14s\tremaining: 12m 12s\n",
      "4000:\tlearn: 7.4858272\ttest: 7.8443732\tbest: 7.8443684 (3983)\ttotal: 6m 58s\tremaining: 10m 27s\n",
      "5000:\tlearn: 7.4807635\ttest: 7.8440999\tbest: 7.8440999 (4995)\ttotal: 8m 42s\tremaining: 8m 42s\n",
      "6000:\tlearn: 7.4757055\ttest: 7.8438434\tbest: 7.8438417 (5998)\ttotal: 10m 26s\tremaining: 6m 57s\n",
      "7000:\tlearn: 7.4706734\ttest: 7.8437206\tbest: 7.8437206 (7000)\ttotal: 12m 11s\tremaining: 5m 13s\n",
      "8000:\tlearn: 7.4656458\ttest: 7.8435336\tbest: 7.8435201 (7928)\ttotal: 13m 55s\tremaining: 3m 28s\n",
      "9000:\tlearn: 7.4606579\ttest: 7.8433408\tbest: 7.8433364 (8994)\ttotal: 15m 39s\tremaining: 1m 44s\n",
      "9999:\tlearn: 7.4556278\ttest: 7.8431454\tbest: 7.8431441 (9993)\ttotal: 17m 24s\tremaining: 0us\n",
      "\n",
      "bestTest = 7.843144052\n",
      "bestIteration = 9993\n",
      "\n",
      "Shrink model to first 9994 iterations.\n",
      "fold 5 - ctb rmse: 7.839535, elapsed time: 4292.51sec\n",
      "\n",
      "===== fold 6 =====\n",
      "0:\tlearn: 7.9378932\ttest: 7.9568489\tbest: 7.9568489 (0)\ttotal: 126ms\tremaining: 21m 3s\n",
      "1000:\tlearn: 7.8268465\ttest: 7.8992442\tbest: 7.8992442 (1000)\ttotal: 1m 44s\tremaining: 15m 41s\n",
      "2000:\tlearn: 7.7544896\ttest: 7.8835719\tbest: 7.8835717 (1999)\ttotal: 3m 24s\tremaining: 13m 39s\n",
      "3000:\tlearn: 7.6833832\ttest: 7.8752374\tbest: 7.8752316 (2999)\ttotal: 5m 2s\tremaining: 11m 45s\n",
      "4000:\tlearn: 7.6167813\ttest: 7.8700963\tbest: 7.8700896 (3955)\ttotal: 6m 39s\tremaining: 9m 59s\n",
      "5000:\tlearn: 7.5527078\ttest: 7.8670668\tbest: 7.8670370 (4997)\ttotal: 8m 17s\tremaining: 8m 17s\n",
      "6000:\tlearn: 7.4903505\ttest: 7.8643476\tbest: 7.8643076 (5987)\ttotal: 9m 55s\tremaining: 6m 36s\n",
      "7000:\tlearn: 7.4295070\ttest: 7.8630774\tbest: 7.8630506 (6935)\ttotal: 11m 34s\tremaining: 4m 57s\n",
      "8000:\tlearn: 7.3690136\ttest: 7.8619299\tbest: 7.8618630 (7986)\ttotal: 13m 12s\tremaining: 3m 18s\n",
      "Stopped by overfitting detector  (200 iterations wait)\n",
      "\n",
      "bestTest = 7.86094663\n",
      "bestIteration = 8303\n",
      "\n",
      "Shrink model to first 8304 iterations.\n",
      "0:\tlearn: 7.3511500\ttest: 7.8609449\tbest: 7.8609449 (0)\ttotal: 137ms\tremaining: 22m 54s\n",
      "1000:\tlearn: 7.3462936\ttest: 7.8608391\tbest: 7.8608339 (983)\ttotal: 1m 45s\tremaining: 15m 50s\n",
      "Stopped by overfitting detector  (200 iterations wait)\n",
      "\n",
      "bestTest = 7.860833868\n",
      "bestIteration = 983\n",
      "\n",
      "Shrink model to first 984 iterations.\n",
      "0:\tlearn: 7.9379402\ttest: 7.9569307\tbest: 7.9569307 (0)\ttotal: 89.4ms\tremaining: 14m 53s\n",
      "1000:\tlearn: 7.8272420\ttest: 7.8997502\tbest: 7.8997502 (1000)\ttotal: 1m 44s\tremaining: 15m 37s\n",
      "2000:\tlearn: 7.7554236\ttest: 7.8842281\tbest: 7.8842281 (2000)\ttotal: 3m 23s\tremaining: 13m 33s\n",
      "3000:\tlearn: 7.6841479\ttest: 7.8762341\tbest: 7.8762103 (2991)\ttotal: 5m 1s\tremaining: 11m 42s\n",
      "4000:\tlearn: 7.6174277\ttest: 7.8719166\tbest: 7.8718733 (3977)\ttotal: 6m 39s\tremaining: 9m 58s\n",
      "5000:\tlearn: 7.5534413\ttest: 7.8682490\tbest: 7.8682490 (5000)\ttotal: 8m 18s\tremaining: 8m 18s\n",
      "6000:\tlearn: 7.4909007\ttest: 7.8664506\tbest: 7.8663840 (5992)\ttotal: 9m 57s\tremaining: 6m 37s\n",
      "7000:\tlearn: 7.4296832\ttest: 7.8647946\tbest: 7.8646896 (6936)\ttotal: 11m 36s\tremaining: 4m 58s\n",
      "8000:\tlearn: 7.3699580\ttest: 7.8640503\tbest: 7.8639360 (7877)\ttotal: 13m 16s\tremaining: 3m 19s\n",
      "Stopped by overfitting detector  (200 iterations wait)\n",
      "\n",
      "bestTest = 7.863936037\n",
      "bestIteration = 7877\n",
      "\n",
      "Shrink model to first 7878 iterations.\n",
      "0:\tlearn: 7.3772916\ttest: 7.8639366\tbest: 7.8639366 (0)\ttotal: 102ms\tremaining: 17m 1s\n",
      "1000:\tlearn: 7.3724123\ttest: 7.8637664\tbest: 7.8637664 (1000)\ttotal: 1m 44s\tremaining: 15m 43s\n",
      "Stopped by overfitting detector  (200 iterations wait)\n",
      "\n",
      "bestTest = 7.863766388\n",
      "bestIteration = 1000\n",
      "\n",
      "Shrink model to first 1001 iterations.\n",
      "0:\tlearn: 7.9379095\ttest: 7.9568683\tbest: 7.9568683 (0)\ttotal: 94.6ms\tremaining: 15m 46s\n",
      "1000:\tlearn: 7.8276097\ttest: 7.8986752\tbest: 7.8986752 (1000)\ttotal: 1m 44s\tremaining: 15m 41s\n",
      "2000:\tlearn: 7.7558891\ttest: 7.8827547\tbest: 7.8827547 (2000)\ttotal: 3m 26s\tremaining: 13m 44s\n",
      "3000:\tlearn: 7.6851592\ttest: 7.8746825\tbest: 7.8746825 (3000)\ttotal: 5m 7s\tremaining: 11m 56s\n",
      "4000:\tlearn: 7.6192935\ttest: 7.8701415\tbest: 7.8701311 (3998)\ttotal: 6m 46s\tremaining: 10m 9s\n",
      "5000:\tlearn: 7.5547228\ttest: 7.8665719\tbest: 7.8665670 (4999)\ttotal: 8m 24s\tremaining: 8m 24s\n",
      "6000:\tlearn: 7.4919794\ttest: 7.8645297\tbest: 7.8645297 (6000)\ttotal: 10m 3s\tremaining: 6m 42s\n",
      "7000:\tlearn: 7.4309150\ttest: 7.8633044\tbest: 7.8632394 (6984)\ttotal: 11m 41s\tremaining: 5m\n",
      "Stopped by overfitting detector  (200 iterations wait)\n",
      "\n",
      "bestTest = 7.862617127\n",
      "bestIteration = 7406\n",
      "\n",
      "Shrink model to first 7407 iterations.\n",
      "0:\tlearn: 7.4061825\ttest: 7.8626171\tbest: 7.8626171 (0)\ttotal: 115ms\tremaining: 19m 6s\n",
      "1000:\tlearn: 7.4012181\ttest: 7.8624104\tbest: 7.8624055 (978)\ttotal: 1m 45s\tremaining: 15m 48s\n",
      "2000:\tlearn: 7.3962827\ttest: 7.8623096\tbest: 7.8623086 (1999)\ttotal: 3m 31s\tremaining: 14m 3s\n",
      "Stopped by overfitting detector  (200 iterations wait)\n",
      "\n",
      "bestTest = 7.862297686\n",
      "bestIteration = 2030\n",
      "\n",
      "Shrink model to first 2031 iterations.\n",
      "fold 6 - ctb rmse: 7.861085, elapsed time: 2922.30sec\n",
      "\n",
      "===== fold 7 =====\n",
      "0:\tlearn: 7.9359939\ttest: 7.9739034\tbest: 7.9739034 (0)\ttotal: 95.7ms\tremaining: 15m 57s\n",
      "1000:\tlearn: 7.8267145\ttest: 7.9077538\tbest: 7.9077538 (1000)\ttotal: 1m 44s\tremaining: 15m 43s\n",
      "2000:\tlearn: 7.7551309\ttest: 7.8883420\tbest: 7.8883088 (1998)\ttotal: 3m 25s\tremaining: 13m 40s\n",
      "3000:\tlearn: 7.6837808\ttest: 7.8781812\tbest: 7.8781812 (3000)\ttotal: 5m 4s\tremaining: 11m 50s\n",
      "4000:\tlearn: 7.6170509\ttest: 7.8725777\tbest: 7.8725777 (4000)\ttotal: 6m 43s\tremaining: 10m 5s\n",
      "5000:\tlearn: 7.5522906\ttest: 7.8681769\tbest: 7.8681136 (4990)\ttotal: 8m 22s\tremaining: 8m 22s\n",
      "6000:\tlearn: 7.4900746\ttest: 7.8648819\tbest: 7.8648543 (5995)\ttotal: 10m 2s\tremaining: 6m 41s\n",
      "7000:\tlearn: 7.4292141\ttest: 7.8627763\tbest: 7.8627233 (6983)\ttotal: 11m 42s\tremaining: 5m 1s\n",
      "8000:\tlearn: 7.3691052\ttest: 7.8607902\tbest: 7.8607811 (7998)\ttotal: 13m 23s\tremaining: 3m 20s\n",
      "9000:\tlearn: 7.3100383\ttest: 7.8594770\tbest: 7.8594738 (8999)\ttotal: 15m 4s\tremaining: 1m 40s\n",
      "9999:\tlearn: 7.2522459\ttest: 7.8581728\tbest: 7.8581499 (9977)\ttotal: 16m 44s\tremaining: 0us\n",
      "\n",
      "bestTest = 7.858149882\n",
      "bestIteration = 9977\n",
      "\n",
      "Shrink model to first 9978 iterations.\n",
      "0:\tlearn: 7.2535775\ttest: 7.8581511\tbest: 7.8581511 (0)\ttotal: 111ms\tremaining: 18m 33s\n",
      "1000:\tlearn: 7.2488172\ttest: 7.8580100\tbest: 7.8580093 (910)\ttotal: 1m 46s\tremaining: 16m\n",
      "2000:\tlearn: 7.2440651\ttest: 7.8579253\tbest: 7.8579230 (1984)\ttotal: 3m 34s\tremaining: 14m 17s\n",
      "3000:\tlearn: 7.2393207\ttest: 7.8577978\tbest: 7.8577944 (2946)\ttotal: 5m 20s\tremaining: 12m 26s\n",
      "4000:\tlearn: 7.2345911\ttest: 7.8576883\tbest: 7.8576801 (3937)\ttotal: 7m 4s\tremaining: 10m 36s\n",
      "Stopped by overfitting detector  (200 iterations wait)\n",
      "\n",
      "bestTest = 7.85762912\n",
      "bestIteration = 4300\n",
      "\n",
      "Shrink model to first 4301 iterations.\n",
      "0:\tlearn: 7.9359792\ttest: 7.9738734\tbest: 7.9738734 (0)\ttotal: 97.8ms\tremaining: 16m 18s\n",
      "1000:\tlearn: 7.8265905\ttest: 7.9075405\tbest: 7.9075405 (1000)\ttotal: 1m 44s\tremaining: 15m 37s\n",
      "2000:\tlearn: 7.7544562\ttest: 7.8886526\tbest: 7.8886526 (2000)\ttotal: 3m 23s\tremaining: 13m 31s\n",
      "3000:\tlearn: 7.6830153\ttest: 7.8786862\tbest: 7.8786862 (3000)\ttotal: 5m 1s\tremaining: 11m 43s\n",
      "4000:\tlearn: 7.6160955\ttest: 7.8724684\tbest: 7.8724583 (3998)\ttotal: 6m 40s\tremaining: 10m\n",
      "5000:\tlearn: 7.5517749\ttest: 7.8684074\tbest: 7.8683471 (4989)\ttotal: 8m 17s\tremaining: 8m 17s\n",
      "6000:\tlearn: 7.4893430\ttest: 7.8658635\tbest: 7.8658371 (5997)\ttotal: 9m 57s\tremaining: 6m 38s\n",
      "7000:\tlearn: 7.4281889\ttest: 7.8629758\tbest: 7.8629758 (7000)\ttotal: 11m 35s\tremaining: 4m 58s\n",
      "8000:\tlearn: 7.3680567\ttest: 7.8613038\tbest: 7.8613038 (8000)\ttotal: 13m 14s\tremaining: 3m 18s\n",
      "9000:\tlearn: 7.3090680\ttest: 7.8599488\tbest: 7.8599383 (8993)\ttotal: 14m 54s\tremaining: 1m 39s\n",
      "9999:\tlearn: 7.2508568\ttest: 7.8586117\tbest: 7.8586007 (9980)\ttotal: 16m 33s\tremaining: 0us\n",
      "\n",
      "bestTest = 7.858600682\n",
      "bestIteration = 9980\n",
      "\n",
      "Shrink model to first 9981 iterations.\n",
      "0:\tlearn: 7.2519712\ttest: 7.8586001\tbest: 7.8586001 (0)\ttotal: 110ms\tremaining: 18m 15s\n",
      "Stopped by overfitting detector  (200 iterations wait)\n",
      "\n",
      "bestTest = 7.858519681\n",
      "bestIteration = 578\n",
      "\n",
      "Shrink model to first 579 iterations.\n",
      "0:\tlearn: 7.9360219\ttest: 7.9739432\tbest: 7.9739432 (0)\ttotal: 90.1ms\tremaining: 15m\n",
      "1000:\tlearn: 7.8271823\ttest: 7.9078217\tbest: 7.9078155 (999)\ttotal: 1m 43s\tremaining: 15m 31s\n",
      "2000:\tlearn: 7.7550979\ttest: 7.8899135\tbest: 7.8898950 (1998)\ttotal: 3m 23s\tremaining: 13m 32s\n",
      "3000:\tlearn: 7.6835038\ttest: 7.8800989\tbest: 7.8800649 (2995)\ttotal: 5m\tremaining: 11m 41s\n",
      "4000:\tlearn: 7.6165807\ttest: 7.8742312\tbest: 7.8742292 (3998)\ttotal: 6m 40s\tremaining: 10m\n",
      "5000:\tlearn: 7.5523006\ttest: 7.8700792\tbest: 7.8700792 (5000)\ttotal: 8m 19s\tremaining: 8m 18s\n",
      "6000:\tlearn: 7.4900182\ttest: 7.8674028\tbest: 7.8673893 (5988)\ttotal: 9m 58s\tremaining: 6m 39s\n",
      "7000:\tlearn: 7.4289046\ttest: 7.8657819\tbest: 7.8656906 (6974)\ttotal: 11m 39s\tremaining: 4m 59s\n",
      "8000:\tlearn: 7.3689473\ttest: 7.8635575\tbest: 7.8635078 (7989)\ttotal: 13m 20s\tremaining: 3m 19s\n",
      "Stopped by overfitting detector  (200 iterations wait)\n",
      "\n",
      "bestTest = 7.862971003\n",
      "bestIteration = 8510\n",
      "\n",
      "Shrink model to first 8511 iterations.\n",
      "0:\tlearn: 7.3386702\ttest: 7.8629710\tbest: 7.8629710 (0)\ttotal: 106ms\tremaining: 17m 43s\n",
      "1000:\tlearn: 7.3337941\ttest: 7.8628128\tbest: 7.8628118 (999)\ttotal: 1m 45s\tremaining: 15m 51s\n",
      "Stopped by overfitting detector  (200 iterations wait)\n",
      "\n",
      "bestTest = 7.862731617\n",
      "bestIteration = 1384\n",
      "\n",
      "Shrink model to first 1385 iterations.\n",
      "fold 7 - ctb rmse: 7.858160, elapsed time: 3625.41sec\n",
      "\n",
      "===== fold 8 =====\n",
      "0:\tlearn: 7.9377072\ttest: 7.9583426\tbest: 7.9583426 (0)\ttotal: 99.2ms\tremaining: 16m 31s\n",
      "1000:\tlearn: 7.8287432\ttest: 7.8921146\tbest: 7.8921146 (1000)\ttotal: 1m 44s\tremaining: 15m 40s\n",
      "2000:\tlearn: 7.7569066\ttest: 7.8738714\tbest: 7.8738714 (2000)\ttotal: 3m 24s\tremaining: 13m 38s\n",
      "3000:\tlearn: 7.6860596\ttest: 7.8652497\tbest: 7.8652497 (3000)\ttotal: 5m 3s\tremaining: 11m 48s\n",
      "4000:\tlearn: 7.6191381\ttest: 7.8597922\tbest: 7.8597484 (3986)\ttotal: 6m 41s\tremaining: 10m 2s\n",
      "5000:\tlearn: 7.5539804\ttest: 7.8557183\tbest: 7.8557183 (5000)\ttotal: 8m 21s\tremaining: 8m 20s\n",
      "6000:\tlearn: 7.4908815\ttest: 7.8533746\tbest: 7.8533026 (5955)\ttotal: 10m\tremaining: 6m 39s\n",
      "7000:\tlearn: 7.4293949\ttest: 7.8511072\tbest: 7.8510544 (6983)\ttotal: 11m 38s\tremaining: 4m 59s\n",
      "8000:\tlearn: 7.3688435\ttest: 7.8493940\tbest: 7.8493307 (7972)\ttotal: 13m 17s\tremaining: 3m 19s\n",
      "9000:\tlearn: 7.3088841\ttest: 7.8478960\tbest: 7.8478354 (8965)\ttotal: 14m 57s\tremaining: 1m 39s\n",
      "Stopped by overfitting detector  (200 iterations wait)\n",
      "\n",
      "bestTest = 7.847835381\n",
      "bestIteration = 8965\n",
      "\n",
      "Shrink model to first 8966 iterations.\n",
      "0:\tlearn: 7.3108777\ttest: 7.8478359\tbest: 7.8478359 (0)\ttotal: 107ms\tremaining: 17m 51s\n",
      "1000:\tlearn: 7.3060548\ttest: 7.8476576\tbest: 7.8476571 (999)\ttotal: 1m 46s\tremaining: 15m 54s\n",
      "Stopped by overfitting detector  (200 iterations wait)\n",
      "\n",
      "bestTest = 7.847632282\n",
      "bestIteration = 1043\n",
      "\n",
      "Shrink model to first 1044 iterations.\n",
      "0:\tlearn: 7.9377119\ttest: 7.9583923\tbest: 7.9583923 (0)\ttotal: 99.4ms\tremaining: 16m 33s\n",
      "1000:\tlearn: 7.8283251\ttest: 7.8920969\tbest: 7.8920969 (1000)\ttotal: 1m 44s\tremaining: 15m 42s\n",
      "2000:\tlearn: 7.7562187\ttest: 7.8741190\tbest: 7.8741190 (2000)\ttotal: 3m 24s\tremaining: 13m 38s\n",
      "3000:\tlearn: 7.6846977\ttest: 7.8649658\tbest: 7.8649489 (2998)\ttotal: 5m 2s\tremaining: 11m 45s\n",
      "4000:\tlearn: 7.6175957\ttest: 7.8587632\tbest: 7.8587632 (4000)\ttotal: 6m 40s\tremaining: 10m\n",
      "5000:\tlearn: 7.5531673\ttest: 7.8545521\tbest: 7.8545394 (4998)\ttotal: 8m 19s\tremaining: 8m 18s\n",
      "6000:\tlearn: 7.4906552\ttest: 7.8518714\tbest: 7.8518714 (6000)\ttotal: 9m 57s\tremaining: 6m 37s\n",
      "7000:\tlearn: 7.4295848\ttest: 7.8498341\tbest: 7.8498081 (6987)\ttotal: 11m 37s\tremaining: 4m 58s\n",
      "8000:\tlearn: 7.3699598\ttest: 7.8478718\tbest: 7.8478718 (8000)\ttotal: 13m 15s\tremaining: 3m 18s\n",
      "Stopped by overfitting detector  (200 iterations wait)\n",
      "\n",
      "bestTest = 7.847824694\n",
      "bestIteration = 8016\n",
      "\n",
      "Shrink model to first 8017 iterations.\n",
      "0:\tlearn: 7.3690052\ttest: 7.8478272\tbest: 7.8478272 (0)\ttotal: 108ms\tremaining: 17m 57s\n",
      "1000:\tlearn: 7.3641070\ttest: 7.8476887\tbest: 7.8476782 (970)\ttotal: 1m 45s\tremaining: 15m 46s\n",
      "2000:\tlearn: 7.3592155\ttest: 7.8475094\tbest: 7.8474983 (1960)\ttotal: 3m 30s\tremaining: 14m 2s\n",
      "3000:\tlearn: 7.3543331\ttest: 7.8473813\tbest: 7.8473810 (2999)\ttotal: 5m 16s\tremaining: 12m 19s\n",
      "4000:\tlearn: 7.3494672\ttest: 7.8472474\tbest: 7.8472473 (3999)\ttotal: 7m 3s\tremaining: 10m 35s\n",
      "5000:\tlearn: 7.3446047\ttest: 7.8470972\tbest: 7.8470956 (4998)\ttotal: 8m 49s\tremaining: 8m 49s\n",
      "6000:\tlearn: 7.3397824\ttest: 7.8469430\tbest: 7.8469391 (5983)\ttotal: 10m 37s\tremaining: 7m 4s\n",
      "7000:\tlearn: 7.3349150\ttest: 7.8467568\tbest: 7.8467568 (6998)\ttotal: 12m 23s\tremaining: 5m 18s\n",
      "8000:\tlearn: 7.3300951\ttest: 7.8466083\tbest: 7.8466025 (7973)\ttotal: 14m 9s\tremaining: 3m 32s\n",
      "9000:\tlearn: 7.3252710\ttest: 7.8464961\tbest: 7.8464899 (8992)\ttotal: 15m 55s\tremaining: 1m 46s\n",
      "9999:\tlearn: 7.3204093\ttest: 7.8463376\tbest: 7.8463376 (9999)\ttotal: 17m 41s\tremaining: 0us\n",
      "\n",
      "bestTest = 7.846337565\n",
      "bestIteration = 9999\n",
      "\n",
      "0:\tlearn: 7.9377277\ttest: 7.9583737\tbest: 7.9583737 (0)\ttotal: 93.5ms\tremaining: 15m 34s\n",
      "1000:\tlearn: 7.8285915\ttest: 7.8923594\tbest: 7.8923594 (1000)\ttotal: 1m 45s\tremaining: 15m 44s\n",
      "2000:\tlearn: 7.7568833\ttest: 7.8743827\tbest: 7.8743747 (1998)\ttotal: 3m 25s\tremaining: 13m 42s\n",
      "3000:\tlearn: 7.6857262\ttest: 7.8655138\tbest: 7.8655138 (3000)\ttotal: 5m 4s\tremaining: 11m 50s\n",
      "4000:\tlearn: 7.6185488\ttest: 7.8593931\tbest: 7.8593263 (3986)\ttotal: 6m 44s\tremaining: 10m 5s\n",
      "5000:\tlearn: 7.5537063\ttest: 7.8554694\tbest: 7.8554694 (5000)\ttotal: 8m 22s\tremaining: 8m 22s\n",
      "6000:\tlearn: 7.4910226\ttest: 7.8521434\tbest: 7.8521326 (5999)\ttotal: 10m 1s\tremaining: 6m 40s\n",
      "7000:\tlearn: 7.4293872\ttest: 7.8501693\tbest: 7.8501035 (6953)\ttotal: 11m 40s\tremaining: 5m\n",
      "8000:\tlearn: 7.3694638\ttest: 7.8483215\tbest: 7.8483078 (7946)\ttotal: 13m 18s\tremaining: 3m 19s\n",
      "9000:\tlearn: 7.3103662\ttest: 7.8471791\tbest: 7.8471714 (8999)\ttotal: 14m 56s\tremaining: 1m 39s\n",
      "Stopped by overfitting detector  (200 iterations wait)\n",
      "\n",
      "bestTest = 7.847058659\n",
      "bestIteration = 9129\n",
      "\n",
      "Shrink model to first 9130 iterations.\n",
      "0:\tlearn: 7.3027651\ttest: 7.8470563\tbest: 7.8470563 (0)\ttotal: 97.3ms\tremaining: 16m 12s\n",
      "Stopped by overfitting detector  (200 iterations wait)\n",
      "\n",
      "bestTest = 7.847011604\n",
      "bestIteration = 348\n",
      "\n",
      "Shrink model to first 349 iterations.\n",
      "fold 8 - ctb rmse: 7.845661, elapsed time: 3940.97sec\n",
      "\n",
      "===== fold 9 =====\n",
      "0:\tlearn: 7.9383330\ttest: 7.9528100\tbest: 7.9528100 (0)\ttotal: 96.9ms\tremaining: 16m 9s\n",
      "1000:\tlearn: 7.8284131\ttest: 7.8879609\tbest: 7.8879609 (1000)\ttotal: 1m 44s\tremaining: 15m 38s\n",
      "2000:\tlearn: 7.7565750\ttest: 7.8696395\tbest: 7.8696395 (2000)\ttotal: 3m 24s\tremaining: 13m 36s\n",
      "3000:\tlearn: 7.6856028\ttest: 7.8601796\tbest: 7.8601796 (3000)\ttotal: 5m 2s\tremaining: 11m 46s\n",
      "4000:\tlearn: 7.6189381\ttest: 7.8542288\tbest: 7.8542132 (3972)\ttotal: 6m 39s\tremaining: 9m 59s\n",
      "5000:\tlearn: 7.5541461\ttest: 7.8497368\tbest: 7.8497201 (4997)\ttotal: 8m 18s\tremaining: 8m 18s\n",
      "6000:\tlearn: 7.4915966\ttest: 7.8472946\tbest: 7.8472757 (5996)\ttotal: 9m 56s\tremaining: 6m 37s\n",
      "7000:\tlearn: 7.4309461\ttest: 7.8440354\tbest: 7.8439985 (6998)\ttotal: 11m 34s\tremaining: 4m 57s\n",
      "Stopped by overfitting detector  (200 iterations wait)\n",
      "\n",
      "bestTest = 7.842192124\n",
      "bestIteration = 7680\n",
      "\n",
      "Shrink model to first 7681 iterations.\n",
      "0:\tlearn: 7.3905023\ttest: 7.8421917\tbest: 7.8421917 (0)\ttotal: 93.5ms\tremaining: 15m 34s\n",
      "1000:\tlearn: 7.3855880\ttest: 7.8419820\tbest: 7.8419814 (997)\ttotal: 1m 45s\tremaining: 15m 51s\n",
      "2000:\tlearn: 7.3806496\ttest: 7.8418425\tbest: 7.8418401 (1934)\ttotal: 3m 31s\tremaining: 14m 6s\n",
      "3000:\tlearn: 7.3757508\ttest: 7.8417049\tbest: 7.8417003 (2986)\ttotal: 5m 17s\tremaining: 12m 19s\n",
      "4000:\tlearn: 7.3708834\ttest: 7.8415504\tbest: 7.8415355 (3914)\ttotal: 7m 2s\tremaining: 10m 34s\n",
      "5000:\tlearn: 7.3660192\ttest: 7.8413696\tbest: 7.8413684 (4987)\ttotal: 8m 48s\tremaining: 8m 47s\n",
      "6000:\tlearn: 7.3611630\ttest: 7.8411842\tbest: 7.8411831 (5999)\ttotal: 10m 33s\tremaining: 7m 2s\n",
      "7000:\tlearn: 7.3563302\ttest: 7.8410126\tbest: 7.8410126 (7000)\ttotal: 12m 18s\tremaining: 5m 16s\n",
      "Stopped by overfitting detector  (200 iterations wait)\n",
      "\n",
      "bestTest = 7.840910779\n",
      "bestIteration = 7671\n",
      "\n",
      "Shrink model to first 7672 iterations.\n",
      "0:\tlearn: 7.9383385\ttest: 7.9527796\tbest: 7.9527796 (0)\ttotal: 92ms\tremaining: 15m 20s\n",
      "1000:\tlearn: 7.8288301\ttest: 7.8882987\tbest: 7.8882987 (1000)\ttotal: 1m 44s\tremaining: 15m 38s\n",
      "2000:\tlearn: 7.7570059\ttest: 7.8694526\tbest: 7.8694526 (2000)\ttotal: 3m 24s\tremaining: 13m 35s\n",
      "3000:\tlearn: 7.6852122\ttest: 7.8602062\tbest: 7.8602062 (3000)\ttotal: 5m 2s\tremaining: 11m 45s\n",
      "4000:\tlearn: 7.6184361\ttest: 7.8543933\tbest: 7.8543878 (3995)\ttotal: 6m 41s\tremaining: 10m 2s\n",
      "5000:\tlearn: 7.5538266\ttest: 7.8517578\tbest: 7.8517466 (4988)\ttotal: 8m 20s\tremaining: 8m 20s\n",
      "6000:\tlearn: 7.4910032\ttest: 7.8486112\tbest: 7.8486103 (5999)\ttotal: 9m 59s\tremaining: 6m 39s\n",
      "7000:\tlearn: 7.4295120\ttest: 7.8467846\tbest: 7.8467510 (6978)\ttotal: 11m 39s\tremaining: 4m 59s\n",
      "8000:\tlearn: 7.3695452\ttest: 7.8452269\tbest: 7.8451956 (7949)\ttotal: 13m 17s\tremaining: 3m 19s\n",
      "Stopped by overfitting detector  (200 iterations wait)\n",
      "\n",
      "bestTest = 7.845111467\n",
      "bestIteration = 8073\n",
      "\n",
      "Shrink model to first 8074 iterations.\n",
      "0:\tlearn: 7.3651885\ttest: 7.8451118\tbest: 7.8451118 (0)\ttotal: 125ms\tremaining: 20m 46s\n",
      "Stopped by overfitting detector  (200 iterations wait)\n",
      "\n",
      "bestTest = 7.844978894\n",
      "bestIteration = 617\n",
      "\n",
      "Shrink model to first 618 iterations.\n",
      "0:\tlearn: 7.9383675\ttest: 7.9528511\tbest: 7.9528511 (0)\ttotal: 91.7ms\tremaining: 15m 17s\n",
      "1000:\tlearn: 7.8289984\ttest: 7.8885631\tbest: 7.8885631 (1000)\ttotal: 1m 44s\tremaining: 15m 43s\n",
      "2000:\tlearn: 7.7574767\ttest: 7.8695610\tbest: 7.8695610 (2000)\ttotal: 3m 24s\tremaining: 13m 35s\n",
      "3000:\tlearn: 7.6867609\ttest: 7.8596352\tbest: 7.8596137 (2997)\ttotal: 5m 1s\tremaining: 11m 42s\n",
      "4000:\tlearn: 7.6195249\ttest: 7.8527356\tbest: 7.8527356 (4000)\ttotal: 6m 39s\tremaining: 9m 59s\n",
      "5000:\tlearn: 7.5552194\ttest: 7.8498188\tbest: 7.8498188 (5000)\ttotal: 8m 17s\tremaining: 8m 17s\n",
      "6000:\tlearn: 7.4928024\ttest: 7.8468196\tbest: 7.8467943 (5988)\ttotal: 9m 56s\tremaining: 6m 37s\n",
      "7000:\tlearn: 7.4317893\ttest: 7.8445973\tbest: 7.8445789 (6899)\ttotal: 11m 35s\tremaining: 4m 57s\n",
      "8000:\tlearn: 7.3717952\ttest: 7.8429111\tbest: 7.8429111 (8000)\ttotal: 13m 13s\tremaining: 3m 18s\n",
      "9000:\tlearn: 7.3130942\ttest: 7.8417855\tbest: 7.8417116 (8972)\ttotal: 14m 51s\tremaining: 1m 38s\n",
      "9999:\tlearn: 7.2549825\ttest: 7.8404621\tbest: 7.8403862 (9965)\ttotal: 16m 29s\tremaining: 0us\n",
      "\n",
      "bestTest = 7.84038615\n",
      "bestIteration = 9965\n",
      "\n",
      "Shrink model to first 9966 iterations.\n",
      "0:\tlearn: 7.2568937\ttest: 7.8403875\tbest: 7.8403875 (0)\ttotal: 99ms\tremaining: 16m 30s\n",
      "Stopped by overfitting detector  (200 iterations wait)\n",
      "\n",
      "bestTest = 7.840338069\n",
      "bestIteration = 247\n",
      "\n",
      "Shrink model to first 248 iterations.\n",
      "fold 9 - ctb rmse: 7.840690, elapsed time: 3589.43sec\n",
      "\n",
      "oof ctb_rmse = 9.235837863411248\n"
     ]
    }
   ],
   "source": [
    "ctb_oof = np.zeros(train.shape[0])\n",
    "ctb_pred = np.zeros(test.shape[0])\n",
    "ctb_importances = pd.DataFrame()\n",
    "\n",
    "\n",
    "kf = KFold(n_splits=N_SPLITS, shuffle=True, random_state=CVSEED)\n",
    "seed_list=[SEED, SEED+1, SEED+2]\n",
    "\n",
    "for fold, (trn_idx, val_idx) in enumerate(kf.split(X=train[scale_features], y=train[target])):\n",
    "    print(f\"===== fold {fold} =====\")\n",
    "    \n",
    "    if fold >= 5:\n",
    "    \n",
    "        X_train, y_train = train[scale_features].iloc[trn_idx], train[target].iloc[trn_idx]\n",
    "        #X_train = apply_noise_row(X_train)\n",
    "\n",
    "        X_valid, y_valid = train[scale_features].iloc[val_idx], train[target].iloc[val_idx]\n",
    "        X_test = test[scale_features]\n",
    "\n",
    "\n",
    "\n",
    "        # CatB       \n",
    "        start = time.time()\n",
    "\n",
    "        for inseed in seed_list:\n",
    "            ctb_params['random_seed'] = inseed\n",
    "\n",
    "            pre_model = ctb.CatBoostRegressor(**ctb_params)\n",
    "            pre_model.fit(\n",
    "                X_train, \n",
    "                y_train,\n",
    "                eval_set=[(X_valid, y_valid)],\n",
    "                use_best_model=True,\n",
    "                early_stopping_rounds=EARLY_STOPPING_ROUNDS,\n",
    "                verbose=VERBOSE\n",
    "            )\n",
    "\n",
    "\n",
    "            ctb_params2 = ctb_params.copy()\n",
    "            ctb_params2['reg_lambda'] *= 0.9\n",
    "            #ctb_params2['alpha'] *= 0.9\n",
    "            ctb_params2['learning_rate'] *= 0.1\n",
    "            model = ctb.CatBoostRegressor(**ctb_params2)\n",
    "            model.fit(\n",
    "                    X_train, y_train,\n",
    "                    eval_set=[(X_valid, y_valid)],\n",
    "                    use_best_model=True,\n",
    "                    early_stopping_rounds=EARLY_STOPPING_ROUNDS,\n",
    "                    verbose=VERBOSE,\n",
    "                    init_model=pre_model\n",
    "            )    \n",
    "\n",
    "            with open(f\"ctb_model{fold}.pkl\", 'wb') as f:\n",
    "                pickle.dump(model, f)\n",
    "\n",
    "            fi_tmp = pd.DataFrame()\n",
    "            fi_tmp['feature'] = X_train.columns\n",
    "            fi_tmp['importance'] = model.feature_importances_\n",
    "            fi_tmp['fold'] = fold\n",
    "            fi_tmp['seed'] = inseed\n",
    "            ctb_importances = ctb_importances.append(fi_tmp)\n",
    "\n",
    "            ctb_oof[val_idx] += model.predict(X_valid) / len(seed_list)\n",
    "            ctb_pred += model.predict(X_test) / len(seed_list)\n",
    "\n",
    "        elapsed = time.time() - start\n",
    "        rmse = mean_squared_error(y_valid, ctb_oof[val_idx], squared=False)\n",
    "        print(f\"fold {fold} - ctb rmse: {rmse:.6f}, elapsed time: {elapsed:.2f}sec\\n\")\n",
    "\n",
    "    \n",
    "        \n",
    "print(f\"oof ctb_rmse = {mean_squared_error(train[target], ctb_oof, squared=False)}\")\n",
    "\n",
    "np.save(\"ctb_oof.npy\", ctb_oof)\n",
    "np.save(\"ctb_pred.npy\", ctb_pred)\n"
   ]
  },
  {
   "cell_type": "markdown",
   "id": "96dc3abf",
   "metadata": {
    "papermill": {
     "duration": 0.08487,
     "end_time": "2021-08-28T18:18:45.757147",
     "exception": false,
     "start_time": "2021-08-28T18:18:45.672277",
     "status": "completed"
    },
    "tags": []
   },
   "source": [
    "# OOF predictions"
   ]
  },
  {
   "cell_type": "code",
   "execution_count": 9,
   "id": "806a8e81",
   "metadata": {
    "execution": {
     "iopub.execute_input": "2021-08-28T18:18:45.962595Z",
     "iopub.status.busy": "2021-08-28T18:18:45.961808Z",
     "iopub.status.idle": "2021-08-28T18:18:47.080934Z",
     "shell.execute_reply": "2021-08-28T18:18:47.080281Z",
     "shell.execute_reply.started": "2021-08-28T03:42:52.458448Z"
    },
    "papermill": {
     "duration": 1.23946,
     "end_time": "2021-08-28T18:18:47.081256",
     "exception": false,
     "start_time": "2021-08-28T18:18:45.841796",
     "status": "completed"
    },
    "tags": []
   },
   "outputs": [
    {
     "data": {
      "text/plain": [
       "<matplotlib.collections.PathCollection at 0x7feded08a950>"
      ]
     },
     "execution_count": 9,
     "metadata": {},
     "output_type": "execute_result"
    },
    {
     "data": {
      "image/png": "[encoded data removed]",
      "text/plain": [
       "<Figure size 432x288 with 1 Axes>"
      ]
     },
     "metadata": {
      "needs_background": "light"
     },
     "output_type": "display_data"
    }
   ],
   "source": [
    "plt.plot(train[target], train[target])\n",
    "plt.scatter(train[target], ctb_oof)"
   ]
  },
  {
   "cell_type": "markdown",
   "id": "e08eba46",
   "metadata": {
    "papermill": {
     "duration": 0.085769,
     "end_time": "2021-08-28T18:18:47.253289",
     "exception": false,
     "start_time": "2021-08-28T18:18:47.167520",
     "status": "completed"
    },
    "tags": []
   },
   "source": [
    "# Features importances"
   ]
  },
  {
   "cell_type": "code",
   "execution_count": 10,
   "id": "ff7262c7",
   "metadata": {
    "execution": {
     "iopub.execute_input": "2021-08-28T18:18:47.443896Z",
     "iopub.status.busy": "2021-08-28T18:18:47.442867Z",
     "iopub.status.idle": "2021-08-28T18:18:49.959896Z",
     "shell.execute_reply": "2021-08-28T18:18:49.960415Z",
     "shell.execute_reply.started": "2021-08-28T03:42:53.532473Z"
    },
    "papermill": {
     "duration": 2.618855,
     "end_time": "2021-08-28T18:18:49.960587",
     "exception": false,
     "start_time": "2021-08-28T18:18:47.341732",
     "status": "completed"
    },
    "tags": []
   },
   "outputs": [
    {
     "data": {
      "text/plain": [
       "Text(0.5, 1.0, 'CatB feature importances')"
      ]
     },
     "execution_count": 10,
     "metadata": {},
     "output_type": "execute_result"
    },
    {
     "data": {
      "image/png": "[encoded data removed]",
      "text/plain": [
       "<Figure size 1152x1152 with 1 Axes>"
      ]
     },
     "metadata": {
      "needs_background": "light"
     },
     "output_type": "display_data"
    }
   ],
   "source": [
    "order = list(ctb_importances.groupby('feature').mean().sort_values('importance', ascending=False).index)\n",
    "\n",
    "fig = plt.figure(figsize=(16, 16), tight_layout=True)\n",
    "sns.barplot(x=\"importance\", y=\"feature\", data=ctb_importances.groupby('feature').mean().reset_index(), order=order)\n",
    "plt.title(\"CatB feature importances\")"
   ]
  },
  {
   "cell_type": "markdown",
   "id": "070c3df4",
   "metadata": {
    "papermill": {
     "duration": 0.085757,
     "end_time": "2021-08-28T18:18:50.132519",
     "exception": false,
     "start_time": "2021-08-28T18:18:50.046762",
     "status": "completed"
    },
    "tags": []
   },
   "source": [
    "# Submission"
   ]
  },
  {
   "cell_type": "code",
   "execution_count": 11,
   "id": "7fea583a",
   "metadata": {
    "execution": {
     "iopub.execute_input": "2021-08-28T18:18:50.314573Z",
     "iopub.status.busy": "2021-08-28T18:18:50.313913Z",
     "iopub.status.idle": "2021-08-28T18:18:50.919843Z",
     "shell.execute_reply": "2021-08-28T18:18:50.918908Z",
     "shell.execute_reply.started": "2021-08-28T03:42:55.627377Z"
    },
    "papermill": {
     "duration": 0.699401,
     "end_time": "2021-08-28T18:18:50.920075",
     "exception": false,
     "start_time": "2021-08-28T18:18:50.220674",
     "status": "completed"
    },
    "tags": []
   },
   "outputs": [
    {
     "data": {
      "text/html": [
       "<div>\n",
       "<style scoped>\n",
       "    .dataframe tbody tr th:only-of-type {\n",
       "        vertical-align: middle;\n",
       "    }\n",
       "\n",
       "    .dataframe tbody tr th {\n",
       "        vertical-align: top;\n",
       "    }\n",
       "\n",
       "    .dataframe thead th {\n",
       "        text-align: right;\n",
       "    }\n",
       "</style>\n",
       "<table border=\"1\" class=\"dataframe\">\n",
       "  <thead>\n",
       "    <tr style=\"text-align: right;\">\n",
       "      <th></th>\n",
       "      <th>id</th>\n",
       "      <th>loss</th>\n",
       "    </tr>\n",
       "  </thead>\n",
       "  <tbody>\n",
       "    <tr>\n",
       "      <th>0</th>\n",
       "      <td>250000</td>\n",
       "      <td>40.341199</td>\n",
       "    </tr>\n",
       "    <tr>\n",
       "      <th>1</th>\n",
       "      <td>250001</td>\n",
       "      <td>22.757718</td>\n",
       "    </tr>\n",
       "    <tr>\n",
       "      <th>2</th>\n",
       "      <td>250002</td>\n",
       "      <td>41.712458</td>\n",
       "    </tr>\n",
       "    <tr>\n",
       "      <th>3</th>\n",
       "      <td>250003</td>\n",
       "      <td>36.854043</td>\n",
       "    </tr>\n",
       "    <tr>\n",
       "      <th>4</th>\n",
       "      <td>250004</td>\n",
       "      <td>36.522924</td>\n",
       "    </tr>\n",
       "    <tr>\n",
       "      <th>...</th>\n",
       "      <td>...</td>\n",
       "      <td>...</td>\n",
       "    </tr>\n",
       "    <tr>\n",
       "      <th>149995</th>\n",
       "      <td>399995</td>\n",
       "      <td>37.712400</td>\n",
       "    </tr>\n",
       "    <tr>\n",
       "      <th>149996</th>\n",
       "      <td>399996</td>\n",
       "      <td>35.718261</td>\n",
       "    </tr>\n",
       "    <tr>\n",
       "      <th>149997</th>\n",
       "      <td>399997</td>\n",
       "      <td>30.155139</td>\n",
       "    </tr>\n",
       "    <tr>\n",
       "      <th>149998</th>\n",
       "      <td>399998</td>\n",
       "      <td>25.900741</td>\n",
       "    </tr>\n",
       "    <tr>\n",
       "      <th>149999</th>\n",
       "      <td>399999</td>\n",
       "      <td>34.587630</td>\n",
       "    </tr>\n",
       "  </tbody>\n",
       "</table>\n",
       "<p>150000 rows × 2 columns</p>\n",
       "</div>"
      ],
      "text/plain": [
       "            id       loss\n",
       "0       250000  40.341199\n",
       "1       250001  22.757718\n",
       "2       250002  41.712458\n",
       "3       250003  36.854043\n",
       "4       250004  36.522924\n",
       "...        ...        ...\n",
       "149995  399995  37.712400\n",
       "149996  399996  35.718261\n",
       "149997  399997  30.155139\n",
       "149998  399998  25.900741\n",
       "149999  399999  34.587630\n",
       "\n",
       "[150000 rows x 2 columns]"
      ]
     },
     "execution_count": 11,
     "metadata": {},
     "output_type": "execute_result"
    }
   ],
   "source": [
    "submission[target] = ctb_pred\n",
    "submission.to_csv(\"submission.csv\", index=False)\n",
    "\n",
    "submission"
   ]
  },
  {
   "cell_type": "markdown",
   "id": "101a9896",
   "metadata": {
    "papermill": {
     "duration": 0.089443,
     "end_time": "2021-08-28T18:18:51.111176",
     "exception": false,
     "start_time": "2021-08-28T18:18:51.021733",
     "status": "completed"
    },
    "tags": []
   },
   "source": [
    "# Log"
   ]
  },
  {
   "cell_type": "markdown",
   "id": "d36885b8",
   "metadata": {
    "papermill": {
     "duration": 0.088769,
     "end_time": "2021-08-28T18:18:51.289964",
     "exception": false,
     "start_time": "2021-08-28T18:18:51.201195",
     "status": "completed"
    },
    "tags": []
   },
   "source": [
    "ver2 fold 0-4\n",
    "\n",
    "ver3 fold 5-9"
   ]
  }
 ],
 "metadata": {
  "kernelspec": {
   "display_name": "Python 3",
   "language": "python",
   "name": "python3"
  },
  "language_info": {
   "codemirror_mode": {
    "name": "ipython",
    "version": 3
   },
   "file_extension": ".py",
   "mimetype": "text/x-python",
   "name": "python",
   "nbconvert_exporter": "python",
   "pygments_lexer": "ipython3",
   "version": "3.7.10"
  },
  "papermill": {
   "default_parameters": {},
   "duration": 18414.594107,
   "end_time": "2021-08-28T18:18:52.853636",
   "environment_variables": {},
   "exception": null,
   "input_path": "__notebook__.ipynb",
   "output_path": "__notebook__.ipynb",
   "parameters": {},
   "start_time": "2021-08-28T13:11:58.259529",
   "version": "2.3.3"
  }
 },
 "nbformat": 4,
 "nbformat_minor": 5
}
