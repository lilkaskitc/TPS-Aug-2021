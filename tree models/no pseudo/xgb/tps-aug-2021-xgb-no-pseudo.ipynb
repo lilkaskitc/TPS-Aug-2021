{
 "cells": [
  {
   "cell_type": "markdown",
   "id": "540267c3",
   "metadata": {
    "papermill": {
     "duration": 0.015393,
     "end_time": "2021-08-25T09:13:50.882339",
     "exception": false,
     "start_time": "2021-08-25T09:13:50.866946",
     "status": "completed"
    },
    "tags": []
   },
   "source": [
    "# Libraries"
   ]
  },
  {
   "cell_type": "code",
   "execution_count": 1,
   "id": "fba656f0",
   "metadata": {
    "_cell_guid": "b1076dfc-b9ad-4769-8c92-a6c4dae69d19",
    "_uuid": "8f2839f25d086af736a60e9eeb907d3b93b6e0e5",
    "execution": {
     "iopub.execute_input": "2021-08-25T09:13:50.925340Z",
     "iopub.status.busy": "2021-08-25T09:13:50.924646Z",
     "iopub.status.idle": "2021-08-25T09:13:52.176902Z",
     "shell.execute_reply": "2021-08-25T09:13:52.176073Z",
     "shell.execute_reply.started": "2021-08-24T23:59:05.477219Z"
    },
    "papermill": {
     "duration": 1.279584,
     "end_time": "2021-08-25T09:13:52.177055",
     "exception": false,
     "start_time": "2021-08-25T09:13:50.897471",
     "status": "completed"
    },
    "tags": []
   },
   "outputs": [],
   "source": [
    "from pathlib import Path\n",
    "import pandas as pd\n",
    "import numpy as np\n",
    "import pickle\n",
    "import random\n",
    "import time\n",
    "import os\n",
    "\n",
    "from sklearn.preprocessing import StandardScaler\n",
    "from sklearn.model_selection import KFold\n",
    "from sklearn.metrics import mean_squared_error\n",
    "\n",
    "from scipy.optimize import minimize\n",
    "\n",
    "#import lightgbm as lgb\n",
    "import xgboost as xgb\n",
    "#import catboost as ctb\n",
    "#from sklearn.linear_model import Ridge\n",
    "\n",
    "import matplotlib.pyplot as plt\n",
    "import seaborn as sns\n",
    "\n",
    "import warnings\n",
    "warnings.simplefilter('ignore')"
   ]
  },
  {
   "cell_type": "markdown",
   "id": "72e46a7e",
   "metadata": {
    "papermill": {
     "duration": 0.01443,
     "end_time": "2021-08-25T09:13:52.206244",
     "exception": false,
     "start_time": "2021-08-25T09:13:52.191814",
     "status": "completed"
    },
    "tags": []
   },
   "source": [
    "# Parameters"
   ]
  },
  {
   "cell_type": "code",
   "execution_count": 2,
   "id": "48c9f318",
   "metadata": {
    "execution": {
     "iopub.execute_input": "2021-08-25T09:13:52.241780Z",
     "iopub.status.busy": "2021-08-25T09:13:52.240957Z",
     "iopub.status.idle": "2021-08-25T09:13:52.243959Z",
     "shell.execute_reply": "2021-08-25T09:13:52.243472Z",
     "shell.execute_reply.started": "2021-08-24T23:59:06.911511Z"
    },
    "papermill": {
     "duration": 0.023292,
     "end_time": "2021-08-25T09:13:52.244094",
     "exception": false,
     "start_time": "2021-08-25T09:13:52.220802",
     "status": "completed"
    },
    "tags": []
   },
   "outputs": [],
   "source": [
    "target = 'loss'\n",
    "\n",
    "DEBUG = False\n",
    "\n",
    "if DEBUG:\n",
    "    N_ESTIMATORS = 1\n",
    "    N_SPLITS = 2\n",
    "    SEED = 17\n",
    "    CVSEED = 17\n",
    "    EARLY_STOPPING_ROUNDS = 1\n",
    "    VERBOSE = 100\n",
    "    #N_ITERS = 2\n",
    "else:\n",
    "    N_SPLITS = 10\n",
    "    N_ESTIMATORS = 10000\n",
    "    EARLY_STOPPING_ROUNDS = 200\n",
    "    VERBOSE = 1000\n",
    "    SEED = 17\n",
    "    CVSEED = 17\n",
    "    #N_ITERS = 10"
   ]
  },
  {
   "cell_type": "code",
   "execution_count": 3,
   "id": "4e2f633f",
   "metadata": {
    "execution": {
     "iopub.execute_input": "2021-08-25T09:13:52.278178Z",
     "iopub.status.busy": "2021-08-25T09:13:52.277518Z",
     "iopub.status.idle": "2021-08-25T09:13:52.279248Z",
     "shell.execute_reply": "2021-08-25T09:13:52.279739Z",
     "shell.execute_reply.started": "2021-08-24T23:59:06.920683Z"
    },
    "papermill": {
     "duration": 0.021271,
     "end_time": "2021-08-25T09:13:52.279899",
     "exception": false,
     "start_time": "2021-08-25T09:13:52.258628",
     "status": "completed"
    },
    "tags": []
   },
   "outputs": [],
   "source": [
    "def set_seed(seed=17):\n",
    "    random.seed(seed)\n",
    "    os.environ['PYTHONHASHSEED'] = str(seed)\n",
    "    np.random.seed(seed)\n",
    "    \n",
    "set_seed(SEED)"
   ]
  },
  {
   "cell_type": "markdown",
   "id": "9d122441",
   "metadata": {
    "papermill": {
     "duration": 0.014567,
     "end_time": "2021-08-25T09:13:52.309333",
     "exception": false,
     "start_time": "2021-08-25T09:13:52.294766",
     "status": "completed"
    },
    "tags": []
   },
   "source": [
    "# Datasets"
   ]
  },
  {
   "cell_type": "code",
   "execution_count": 4,
   "id": "76cab4b7",
   "metadata": {
    "execution": {
     "iopub.execute_input": "2021-08-25T09:13:52.341808Z",
     "iopub.status.busy": "2021-08-25T09:13:52.341174Z",
     "iopub.status.idle": "2021-08-25T09:14:03.233506Z",
     "shell.execute_reply": "2021-08-25T09:14:03.234002Z",
     "shell.execute_reply.started": "2021-08-24T23:59:06.936484Z"
    },
    "papermill": {
     "duration": 10.910032,
     "end_time": "2021-08-25T09:14:03.234165",
     "exception": false,
     "start_time": "2021-08-25T09:13:52.324133",
     "status": "completed"
    },
    "tags": []
   },
   "outputs": [],
   "source": [
    "INPUT = Path(\"../input/tabular-playground-series-aug-2021\")\n",
    "\n",
    "train = pd.read_csv(INPUT / \"train.csv\")\n",
    "test = pd.read_csv(INPUT / \"test.csv\")\n",
    "submission = pd.read_csv(INPUT / \"sample_submission.csv\")\n"
   ]
  },
  {
   "cell_type": "markdown",
   "id": "7321f9f2",
   "metadata": {
    "papermill": {
     "duration": 0.014007,
     "end_time": "2021-08-25T09:14:03.263328",
     "exception": false,
     "start_time": "2021-08-25T09:14:03.249321",
     "status": "completed"
    },
    "tags": []
   },
   "source": [
    "# Preprocessing"
   ]
  },
  {
   "cell_type": "code",
   "execution_count": 5,
   "id": "1092061f",
   "metadata": {
    "execution": {
     "iopub.execute_input": "2021-08-25T09:14:03.295300Z",
     "iopub.status.busy": "2021-08-25T09:14:03.294707Z",
     "iopub.status.idle": "2021-08-25T09:14:15.302300Z",
     "shell.execute_reply": "2021-08-25T09:14:15.302841Z",
     "shell.execute_reply.started": "2021-08-24T23:59:18.618679Z"
    },
    "papermill": {
     "duration": 12.025279,
     "end_time": "2021-08-25T09:14:15.303021",
     "exception": false,
     "start_time": "2021-08-25T09:14:03.277742",
     "status": "completed"
    },
    "tags": []
   },
   "outputs": [],
   "source": [
    "scale_features = [col for col in test.columns if 'f' in col]\n",
    "\n",
    "ss = StandardScaler()\n",
    "train[scale_features] = ss.fit_transform(train[scale_features])\n",
    "test[scale_features] = ss.transform(test[scale_features])\n"
   ]
  },
  {
   "cell_type": "code",
   "execution_count": 6,
   "id": "351dbc1e",
   "metadata": {
    "execution": {
     "iopub.execute_input": "2021-08-25T09:14:15.335883Z",
     "iopub.status.busy": "2021-08-25T09:14:15.335249Z",
     "iopub.status.idle": "2021-08-25T09:14:15.341515Z",
     "shell.execute_reply": "2021-08-25T09:14:15.341938Z",
     "shell.execute_reply.started": "2021-08-24T23:59:31.152945Z"
    },
    "papermill": {
     "duration": 0.024093,
     "end_time": "2021-08-25T09:14:15.342091",
     "exception": false,
     "start_time": "2021-08-25T09:14:15.317998",
     "status": "completed"
    },
    "tags": []
   },
   "outputs": [],
   "source": [
    "# Swap noise\n",
    "\n",
    "# Random\n",
    "def apply_noise_rn(df, p=.75):\n",
    "    should_not_swap = np.random.binomial(1, p, df.shape)\n",
    "    corrupted_df = df.where(should_not_swap == 1, np.random.permutation(df))\n",
    "    return corrupted_df\n",
    "\n",
    "# Row-wise\n",
    "def apply_noise_row(df, p=.75):\n",
    "    should_not_swap = np.zeros(df.shape)\n",
    "    for i in range(df.shape[0]):\n",
    "        for j in np.random.choice(df.shape[1],int(p*df.shape[1]),replace=False):\n",
    "            should_not_swap[i,j]=1 \n",
    "    corrupted_df = df.where(should_not_swap == 1, np.random.permutation(df))\n",
    "    return corrupted_df\n",
    "    "
   ]
  },
  {
   "cell_type": "markdown",
   "id": "6378ddd9",
   "metadata": {
    "papermill": {
     "duration": 0.014728,
     "end_time": "2021-08-25T09:14:15.371306",
     "exception": false,
     "start_time": "2021-08-25T09:14:15.356578",
     "status": "completed"
    },
    "tags": []
   },
   "source": [
    "# XGB"
   ]
  },
  {
   "cell_type": "code",
   "execution_count": 7,
   "id": "43760a4e",
   "metadata": {
    "execution": {
     "iopub.execute_input": "2021-08-25T09:14:15.404595Z",
     "iopub.status.busy": "2021-08-25T09:14:15.403934Z",
     "iopub.status.idle": "2021-08-25T09:14:15.408503Z",
     "shell.execute_reply": "2021-08-25T09:14:15.408981Z",
     "shell.execute_reply.started": "2021-08-24T23:59:31.16365Z"
    },
    "papermill": {
     "duration": 0.022728,
     "end_time": "2021-08-25T09:14:15.409159",
     "exception": false,
     "start_time": "2021-08-25T09:14:15.386431",
     "status": "completed"
    },
    "tags": []
   },
   "outputs": [],
   "source": [
    "xgb_params = {\n",
    "    'objective': 'reg:squarederror',    \n",
    "    'seed': SEED,   \n",
    "    'n_estimators': N_ESTIMATORS,\n",
    "    'importance_type': 'total_gain',\n",
    "    'tree_method': 'hist',    \n",
    "        \n",
    "    'learning_rate': 0.0018331925260194747, \n",
    "    'subsample': 0.5999280340279187, \n",
    "    'colsample_bytree': 0.8309679692775827, \n",
    "    'max_depth': 11, \n",
    "    'lambda': 9.484816540848616, \n",
    "    'alpha': 5.787546831727187,\n",
    "    'min_child_weight': 203.58662168918866\n",
    "}\n"
   ]
  },
  {
   "cell_type": "code",
   "execution_count": 8,
   "id": "0ee2aa6a",
   "metadata": {
    "execution": {
     "iopub.execute_input": "2021-08-25T09:14:15.441924Z",
     "iopub.status.busy": "2021-08-25T09:14:15.441201Z",
     "iopub.status.idle": "2021-08-25T17:27:22.623313Z",
     "shell.execute_reply": "2021-08-25T17:27:22.623833Z",
     "shell.execute_reply.started": "2021-08-24T23:59:31.177206Z"
    },
    "papermill": {
     "duration": 29587.200243,
     "end_time": "2021-08-25T17:27:22.624110",
     "exception": false,
     "start_time": "2021-08-25T09:14:15.423867",
     "status": "completed"
    },
    "tags": []
   },
   "outputs": [
    {
     "name": "stdout",
     "output_type": "stream",
     "text": [
      "===== fold 0 =====\n",
      "===== fold 1 =====\n",
      "===== fold 2 =====\n",
      "===== fold 3 =====\n",
      "===== fold 4 =====\n",
      "===== fold 5 =====\n",
      "[0]\tvalidation_0-rmse:10.15095\n",
      "[1000]\tvalidation_0-rmse:7.95773\n",
      "[2000]\tvalidation_0-rmse:7.86793\n",
      "[3000]\tvalidation_0-rmse:7.85427\n",
      "[4000]\tvalidation_0-rmse:7.84710\n",
      "[5000]\tvalidation_0-rmse:7.84236\n",
      "[6000]\tvalidation_0-rmse:7.83941\n",
      "[7000]\tvalidation_0-rmse:7.83715\n",
      "[8000]\tvalidation_0-rmse:7.83569\n",
      "[8955]\tvalidation_0-rmse:7.83483\n",
      "[0]\tvalidation_0-rmse:7.83483\n",
      "[1000]\tvalidation_0-rmse:7.83472\n",
      "[2000]\tvalidation_0-rmse:7.83461\n",
      "[3000]\tvalidation_0-rmse:7.83451\n",
      "[3391]\tvalidation_0-rmse:7.83450\n",
      "[0]\tvalidation_0-rmse:10.15093\n",
      "[1000]\tvalidation_0-rmse:7.95768\n",
      "[2000]\tvalidation_0-rmse:7.86797\n",
      "[3000]\tvalidation_0-rmse:7.85446\n",
      "[4000]\tvalidation_0-rmse:7.84638\n",
      "[5000]\tvalidation_0-rmse:7.84182\n",
      "[6000]\tvalidation_0-rmse:7.83889\n",
      "[7000]\tvalidation_0-rmse:7.83678\n",
      "[8000]\tvalidation_0-rmse:7.83539\n",
      "[9000]\tvalidation_0-rmse:7.83439\n",
      "[9999]\tvalidation_0-rmse:7.83361\n",
      "[0]\tvalidation_0-rmse:7.83361\n",
      "[321]\tvalidation_0-rmse:7.83359\n",
      "[0]\tvalidation_0-rmse:10.15091\n",
      "[1000]\tvalidation_0-rmse:7.95847\n",
      "[2000]\tvalidation_0-rmse:7.86888\n",
      "[3000]\tvalidation_0-rmse:7.85486\n",
      "[4000]\tvalidation_0-rmse:7.84740\n",
      "[5000]\tvalidation_0-rmse:7.84258\n",
      "[6000]\tvalidation_0-rmse:7.83920\n",
      "[7000]\tvalidation_0-rmse:7.83699\n",
      "[7093]\tvalidation_0-rmse:7.83698\n",
      "[0]\tvalidation_0-rmse:7.83698\n",
      "[1000]\tvalidation_0-rmse:7.83680\n",
      "[2000]\tvalidation_0-rmse:7.83662\n",
      "[2882]\tvalidation_0-rmse:7.83653\n",
      "fold 5 - xgb rmse: 7.833827, elapsed time: 5655.34sec\n",
      "\n",
      "===== fold 6 =====\n",
      "[0]\tvalidation_0-rmse:10.14613\n",
      "[1000]\tvalidation_0-rmse:7.97461\n",
      "[2000]\tvalidation_0-rmse:7.88966\n",
      "[3000]\tvalidation_0-rmse:7.87657\n",
      "[4000]\tvalidation_0-rmse:7.87033\n",
      "[5000]\tvalidation_0-rmse:7.86595\n",
      "[6000]\tvalidation_0-rmse:7.86322\n",
      "[7000]\tvalidation_0-rmse:7.86097\n",
      "[8000]\tvalidation_0-rmse:7.85943\n",
      "[9000]\tvalidation_0-rmse:7.85827\n",
      "[9631]\tvalidation_0-rmse:7.85797\n",
      "[0]\tvalidation_0-rmse:7.85795\n",
      "[1000]\tvalidation_0-rmse:7.85784\n",
      "[1371]\tvalidation_0-rmse:7.85784\n",
      "[0]\tvalidation_0-rmse:10.14615\n",
      "[1000]\tvalidation_0-rmse:7.97467\n",
      "[2000]\tvalidation_0-rmse:7.88947\n",
      "[3000]\tvalidation_0-rmse:7.87693\n",
      "[4000]\tvalidation_0-rmse:7.86996\n",
      "[5000]\tvalidation_0-rmse:7.86560\n",
      "[6000]\tvalidation_0-rmse:7.86266\n",
      "[7000]\tvalidation_0-rmse:7.86043\n",
      "[8000]\tvalidation_0-rmse:7.85910\n",
      "[9000]\tvalidation_0-rmse:7.85761\n",
      "[9068]\tvalidation_0-rmse:7.85761\n",
      "[0]\tvalidation_0-rmse:7.85761\n",
      "[1000]\tvalidation_0-rmse:7.85751\n",
      "[1424]\tvalidation_0-rmse:7.85749\n",
      "[0]\tvalidation_0-rmse:10.14611\n",
      "[1000]\tvalidation_0-rmse:7.97464\n",
      "[2000]\tvalidation_0-rmse:7.89023\n",
      "[3000]\tvalidation_0-rmse:7.87747\n",
      "[4000]\tvalidation_0-rmse:7.87052\n",
      "[5000]\tvalidation_0-rmse:7.86578\n",
      "[6000]\tvalidation_0-rmse:7.86273\n",
      "[7000]\tvalidation_0-rmse:7.86065\n",
      "[8000]\tvalidation_0-rmse:7.85948\n",
      "[8719]\tvalidation_0-rmse:7.85882\n",
      "[0]\tvalidation_0-rmse:7.85882\n",
      "[1000]\tvalidation_0-rmse:7.85871\n",
      "[2000]\tvalidation_0-rmse:7.85859\n",
      "[3000]\tvalidation_0-rmse:7.85844\n",
      "[3139]\tvalidation_0-rmse:7.85844\n",
      "fold 6 - xgb rmse: 7.857057, elapsed time: 5642.03sec\n",
      "\n",
      "===== fold 7 =====\n",
      "[0]\tvalidation_0-rmse:10.18446\n",
      "[1000]\tvalidation_0-rmse:7.98827\n",
      "[2000]\tvalidation_0-rmse:7.89449\n",
      "[3000]\tvalidation_0-rmse:7.87853\n",
      "[4000]\tvalidation_0-rmse:7.87003\n",
      "[5000]\tvalidation_0-rmse:7.86469\n",
      "[6000]\tvalidation_0-rmse:7.86067\n",
      "[7000]\tvalidation_0-rmse:7.85809\n",
      "[8000]\tvalidation_0-rmse:7.85647\n",
      "[9000]\tvalidation_0-rmse:7.85545\n",
      "[9230]\tvalidation_0-rmse:7.85539\n",
      "[0]\tvalidation_0-rmse:7.85538\n",
      "[542]\tvalidation_0-rmse:7.85534\n",
      "[0]\tvalidation_0-rmse:10.18449\n",
      "[1000]\tvalidation_0-rmse:7.98832\n",
      "[2000]\tvalidation_0-rmse:7.89423\n",
      "[3000]\tvalidation_0-rmse:7.87824\n",
      "[4000]\tvalidation_0-rmse:7.86981\n",
      "[5000]\tvalidation_0-rmse:7.86422\n",
      "[6000]\tvalidation_0-rmse:7.86069\n",
      "[7000]\tvalidation_0-rmse:7.85837\n",
      "[8000]\tvalidation_0-rmse:7.85665\n",
      "[9000]\tvalidation_0-rmse:7.85493\n",
      "[9999]\tvalidation_0-rmse:7.85387\n",
      "[0]\tvalidation_0-rmse:7.85387\n",
      "[1000]\tvalidation_0-rmse:7.85381\n",
      "[1076]\tvalidation_0-rmse:7.85381\n",
      "[0]\tvalidation_0-rmse:10.18449\n",
      "[1000]\tvalidation_0-rmse:7.98897\n",
      "[2000]\tvalidation_0-rmse:7.89552\n",
      "[3000]\tvalidation_0-rmse:7.87987\n",
      "[4000]\tvalidation_0-rmse:7.87195\n",
      "[5000]\tvalidation_0-rmse:7.86603\n",
      "[6000]\tvalidation_0-rmse:7.86242\n",
      "[7000]\tvalidation_0-rmse:7.85997\n",
      "[8000]\tvalidation_0-rmse:7.85850\n",
      "[8156]\tvalidation_0-rmse:7.85851\n",
      "[0]\tvalidation_0-rmse:7.85851\n",
      "[1000]\tvalidation_0-rmse:7.85834\n",
      "[2000]\tvalidation_0-rmse:7.85816\n",
      "[3000]\tvalidation_0-rmse:7.85803\n",
      "[4000]\tvalidation_0-rmse:7.85792\n",
      "[5000]\tvalidation_0-rmse:7.85775\n",
      "[6000]\tvalidation_0-rmse:7.85765\n",
      "[7000]\tvalidation_0-rmse:7.85754\n",
      "[8000]\tvalidation_0-rmse:7.85737\n",
      "[8681]\tvalidation_0-rmse:7.85734\n",
      "fold 7 - xgb rmse: 7.854599, elapsed time: 6328.58sec\n",
      "\n",
      "===== fold 8 =====\n",
      "[0]\tvalidation_0-rmse:10.14694\n",
      "[1000]\tvalidation_0-rmse:7.96756\n",
      "[2000]\tvalidation_0-rmse:7.87778\n",
      "[3000]\tvalidation_0-rmse:7.86222\n",
      "[4000]\tvalidation_0-rmse:7.85402\n",
      "[5000]\tvalidation_0-rmse:7.84884\n",
      "[6000]\tvalidation_0-rmse:7.84512\n",
      "[7000]\tvalidation_0-rmse:7.84297\n",
      "[8000]\tvalidation_0-rmse:7.84088\n",
      "[9000]\tvalidation_0-rmse:7.83997\n",
      "[9999]\tvalidation_0-rmse:7.83823\n",
      "[0]\tvalidation_0-rmse:7.83823\n",
      "[276]\tvalidation_0-rmse:7.83823\n",
      "[0]\tvalidation_0-rmse:10.14698\n",
      "[1000]\tvalidation_0-rmse:7.96740\n",
      "[2000]\tvalidation_0-rmse:7.87764\n",
      "[3000]\tvalidation_0-rmse:7.86183\n",
      "[4000]\tvalidation_0-rmse:7.85335\n",
      "[5000]\tvalidation_0-rmse:7.84762\n",
      "[6000]\tvalidation_0-rmse:7.84356\n",
      "[7000]\tvalidation_0-rmse:7.84092\n",
      "[8000]\tvalidation_0-rmse:7.83852\n",
      "[9000]\tvalidation_0-rmse:7.83744\n",
      "[9433]\tvalidation_0-rmse:7.83713\n",
      "[0]\tvalidation_0-rmse:7.83713\n",
      "[1000]\tvalidation_0-rmse:7.83699\n",
      "[2000]\tvalidation_0-rmse:7.83684\n",
      "[3000]\tvalidation_0-rmse:7.83671\n",
      "[4000]\tvalidation_0-rmse:7.83659\n",
      "[5000]\tvalidation_0-rmse:7.83643\n",
      "[6000]\tvalidation_0-rmse:7.83631\n",
      "[7000]\tvalidation_0-rmse:7.83621\n",
      "[7187]\tvalidation_0-rmse:7.83622\n",
      "[0]\tvalidation_0-rmse:10.14694\n",
      "[1000]\tvalidation_0-rmse:7.96702\n",
      "[2000]\tvalidation_0-rmse:7.87803\n",
      "[3000]\tvalidation_0-rmse:7.86328\n",
      "[4000]\tvalidation_0-rmse:7.85468\n",
      "[5000]\tvalidation_0-rmse:7.84926\n",
      "[6000]\tvalidation_0-rmse:7.84536\n",
      "[7000]\tvalidation_0-rmse:7.84274\n",
      "[8000]\tvalidation_0-rmse:7.84067\n",
      "[9000]\tvalidation_0-rmse:7.83946\n",
      "[9876]\tvalidation_0-rmse:7.83862\n",
      "[0]\tvalidation_0-rmse:7.83862\n",
      "[1000]\tvalidation_0-rmse:7.83850\n",
      "[1968]\tvalidation_0-rmse:7.83838\n",
      "fold 8 - xgb rmse: 7.836683, elapsed time: 6560.83sec\n",
      "\n",
      "===== fold 9 =====\n",
      "[0]\tvalidation_0-rmse:10.17265\n",
      "[1000]\tvalidation_0-rmse:7.97030\n",
      "[2000]\tvalidation_0-rmse:7.87698\n",
      "[3000]\tvalidation_0-rmse:7.86101\n",
      "[4000]\tvalidation_0-rmse:7.85281\n",
      "[5000]\tvalidation_0-rmse:7.84766\n",
      "[6000]\tvalidation_0-rmse:7.84408\n",
      "[7000]\tvalidation_0-rmse:7.84194\n",
      "[8000]\tvalidation_0-rmse:7.83999\n",
      "[9000]\tvalidation_0-rmse:7.83833\n",
      "[9999]\tvalidation_0-rmse:7.83697\n",
      "[0]\tvalidation_0-rmse:7.83697\n",
      "[536]\tvalidation_0-rmse:7.83694\n",
      "[0]\tvalidation_0-rmse:10.17265\n",
      "[1000]\tvalidation_0-rmse:7.96989\n",
      "[2000]\tvalidation_0-rmse:7.87599\n",
      "[3000]\tvalidation_0-rmse:7.85992\n",
      "[4000]\tvalidation_0-rmse:7.85160\n",
      "[5000]\tvalidation_0-rmse:7.84648\n",
      "[6000]\tvalidation_0-rmse:7.84314\n",
      "[7000]\tvalidation_0-rmse:7.84064\n",
      "[8000]\tvalidation_0-rmse:7.83913\n",
      "[9000]\tvalidation_0-rmse:7.83768\n",
      "[9999]\tvalidation_0-rmse:7.83638\n",
      "[0]\tvalidation_0-rmse:7.83638\n",
      "[815]\tvalidation_0-rmse:7.83628\n",
      "[0]\tvalidation_0-rmse:10.17265\n",
      "[1000]\tvalidation_0-rmse:7.97042\n",
      "[2000]\tvalidation_0-rmse:7.87605\n",
      "[3000]\tvalidation_0-rmse:7.85993\n",
      "[4000]\tvalidation_0-rmse:7.85199\n",
      "[5000]\tvalidation_0-rmse:7.84655\n",
      "[6000]\tvalidation_0-rmse:7.84336\n",
      "[7000]\tvalidation_0-rmse:7.84101\n",
      "[8000]\tvalidation_0-rmse:7.83925\n",
      "[9000]\tvalidation_0-rmse:7.83854\n",
      "[9517]\tvalidation_0-rmse:7.83845\n",
      "[0]\tvalidation_0-rmse:7.83845\n",
      "[428]\tvalidation_0-rmse:7.83842\n",
      "fold 9 - xgb rmse: 7.836277, elapsed time: 5397.76sec\n",
      "\n",
      "oof xgb_rmse = 9.233570916865748\n"
     ]
    }
   ],
   "source": [
    "xgb_oof = np.zeros(train.shape[0])\n",
    "xgb_pred = np.zeros(test.shape[0])\n",
    "xgb_importances = pd.DataFrame()\n",
    "\n",
    "\n",
    "kf = KFold(n_splits=N_SPLITS, shuffle=True, random_state=CVSEED)\n",
    "seed_list=[SEED, SEED+1, SEED+2]\n",
    "\n",
    "for fold, (trn_idx, val_idx) in enumerate(kf.split(X=train[scale_features], y=train[target])):\n",
    "    print(f\"===== fold {fold} =====\")\n",
    "    \n",
    "    if fold >= 5:\n",
    "    \n",
    "        X_train, y_train = train[scale_features].iloc[trn_idx], train[target].iloc[trn_idx]\n",
    "        #X_train = apply_noise_row(X_train)\n",
    "\n",
    "        X_valid, y_valid = train[scale_features].iloc[val_idx], train[target].iloc[val_idx]\n",
    "        X_test = test[scale_features]\n",
    "\n",
    "\n",
    "\n",
    "        # XGB       \n",
    "        start = time.time()\n",
    "\n",
    "        for inseed in seed_list:\n",
    "            xgb_params['seed'] = inseed\n",
    "\n",
    "            pre_model = xgb.XGBRegressor(**xgb_params)\n",
    "            pre_model.fit(\n",
    "                X_train, \n",
    "                y_train,\n",
    "                eval_set=[(X_valid, y_valid)],\n",
    "                eval_metric='rmse',\n",
    "                early_stopping_rounds=EARLY_STOPPING_ROUNDS,\n",
    "                verbose=VERBOSE\n",
    "            )\n",
    "\n",
    "\n",
    "            xgb_params2 = xgb_params.copy()\n",
    "            xgb_params2['lambda'] *= 0.9\n",
    "            xgb_params2['alpha'] *= 0.9\n",
    "            xgb_params2['learning_rate'] *= 0.1\n",
    "            model = xgb.XGBRegressor(**xgb_params2)\n",
    "            model.fit(\n",
    "                    X_train, y_train,\n",
    "                    eval_set=[(X_valid, y_valid)],\n",
    "                    eval_metric='rmse',\n",
    "                    early_stopping_rounds=EARLY_STOPPING_ROUNDS,\n",
    "                    verbose=VERBOSE,\n",
    "                    xgb_model=pre_model\n",
    "            )    \n",
    "\n",
    "            with open(f\"xgb_model{fold}.pkl\", 'wb') as f:\n",
    "                pickle.dump(model, f)\n",
    "\n",
    "            fi_tmp = pd.DataFrame()\n",
    "            fi_tmp['feature'] = X_train.columns\n",
    "            fi_tmp['importance'] = model.feature_importances_\n",
    "            fi_tmp['fold'] = fold\n",
    "            fi_tmp['seed'] = inseed\n",
    "            xgb_importances = xgb_importances.append(fi_tmp)\n",
    "\n",
    "            xgb_oof[val_idx] += model.predict(X_valid) / len(seed_list)\n",
    "            xgb_pred += model.predict(X_test) / len(seed_list)\n",
    "\n",
    "        elapsed = time.time() - start\n",
    "        rmse = mean_squared_error(y_valid, xgb_oof[val_idx], squared=False)\n",
    "        print(f\"fold {fold} - xgb rmse: {rmse:.6f}, elapsed time: {elapsed:.2f}sec\\n\")\n",
    "\n",
    "    \n",
    "        \n",
    "print(f\"oof xgb_rmse = {mean_squared_error(train[target], xgb_oof, squared=False)}\")\n",
    "\n",
    "np.save(\"xgb_oof.npy\", xgb_oof)\n",
    "np.save(\"xgb_pred.npy\", xgb_pred)\n"
   ]
  },
  {
   "cell_type": "markdown",
   "id": "73971365",
   "metadata": {
    "papermill": {
     "duration": 0.080481,
     "end_time": "2021-08-25T17:27:22.785454",
     "exception": false,
     "start_time": "2021-08-25T17:27:22.704973",
     "status": "completed"
    },
    "tags": []
   },
   "source": [
    "# OOF predictions"
   ]
  },
  {
   "cell_type": "code",
   "execution_count": 9,
   "id": "d2555b93",
   "metadata": {
    "execution": {
     "iopub.execute_input": "2021-08-25T17:27:22.953929Z",
     "iopub.status.busy": "2021-08-25T17:27:22.953226Z",
     "iopub.status.idle": "2021-08-25T17:27:24.134170Z",
     "shell.execute_reply": "2021-08-25T17:27:24.133616Z",
     "shell.execute_reply.started": "2021-08-24T23:59:54.524891Z"
    },
    "papermill": {
     "duration": 1.267358,
     "end_time": "2021-08-25T17:27:24.134315",
     "exception": false,
     "start_time": "2021-08-25T17:27:22.866957",
     "status": "completed"
    },
    "tags": []
   },
   "outputs": [
    {
     "data": {
      "text/plain": [
       "<matplotlib.collections.PathCollection at 0x7f6d1c11b1d0>"
      ]
     },
     "execution_count": 9,
     "metadata": {},
     "output_type": "execute_result"
    },
    {
     "data": {
      "image/png": "[encoded data removed]",
      "text/plain": [
       "<Figure size 432x288 with 1 Axes>"
      ]
     },
     "metadata": {
      "needs_background": "light"
     },
     "output_type": "display_data"
    }
   ],
   "source": [
    "plt.plot(train[target], train[target])\n",
    "plt.scatter(train[target], xgb_oof)"
   ]
  },
  {
   "cell_type": "markdown",
   "id": "e8b47567",
   "metadata": {
    "papermill": {
     "duration": 0.082683,
     "end_time": "2021-08-25T17:27:24.300629",
     "exception": false,
     "start_time": "2021-08-25T17:27:24.217946",
     "status": "completed"
    },
    "tags": []
   },
   "source": [
    "# Features importances"
   ]
  },
  {
   "cell_type": "code",
   "execution_count": 10,
   "id": "773349ec",
   "metadata": {
    "execution": {
     "iopub.execute_input": "2021-08-25T17:27:24.486351Z",
     "iopub.status.busy": "2021-08-25T17:27:24.484967Z",
     "iopub.status.idle": "2021-08-25T17:27:27.002585Z",
     "shell.execute_reply": "2021-08-25T17:27:27.002003Z",
     "shell.execute_reply.started": "2021-08-24T23:59:55.613663Z"
    },
    "papermill": {
     "duration": 2.619704,
     "end_time": "2021-08-25T17:27:27.002719",
     "exception": false,
     "start_time": "2021-08-25T17:27:24.383015",
     "status": "completed"
    },
    "tags": []
   },
   "outputs": [
    {
     "data": {
      "text/plain": [
       "Text(0.5, 1.0, 'XGBoost feature importances')"
      ]
     },
     "execution_count": 10,
     "metadata": {},
     "output_type": "execute_result"
    },
    {
     "data": {
      "image/png": "[encoded data removed]",
      "text/plain": [
       "<Figure size 1152x1152 with 1 Axes>"
      ]
     },
     "metadata": {
      "needs_background": "light"
     },
     "output_type": "display_data"
    }
   ],
   "source": [
    "order = list(xgb_importances.groupby('feature').mean().sort_values('importance', ascending=False).index)\n",
    "\n",
    "fig = plt.figure(figsize=(16, 16), tight_layout=True)\n",
    "sns.barplot(x=\"importance\", y=\"feature\", data=xgb_importances.groupby('feature').mean().reset_index(), order=order)\n",
    "plt.title(\"XGBoost feature importances\")"
   ]
  },
  {
   "cell_type": "markdown",
   "id": "4baf3c88",
   "metadata": {
    "papermill": {
     "duration": 0.084404,
     "end_time": "2021-08-25T17:27:27.171878",
     "exception": false,
     "start_time": "2021-08-25T17:27:27.087474",
     "status": "completed"
    },
    "tags": []
   },
   "source": [
    "# Submission"
   ]
  },
  {
   "cell_type": "code",
   "execution_count": 11,
   "id": "066911f7",
   "metadata": {
    "execution": {
     "iopub.execute_input": "2021-08-25T17:27:27.346496Z",
     "iopub.status.busy": "2021-08-25T17:27:27.345806Z",
     "iopub.status.idle": "2021-08-25T17:27:27.912625Z",
     "shell.execute_reply": "2021-08-25T17:27:27.911920Z",
     "shell.execute_reply.started": "2021-08-24T23:59:57.851471Z"
    },
    "papermill": {
     "duration": 0.65601,
     "end_time": "2021-08-25T17:27:27.912768",
     "exception": false,
     "start_time": "2021-08-25T17:27:27.256758",
     "status": "completed"
    },
    "tags": []
   },
   "outputs": [
    {
     "data": {
      "text/html": [
       "<div>\n",
       "<style scoped>\n",
       "    .dataframe tbody tr th:only-of-type {\n",
       "        vertical-align: middle;\n",
       "    }\n",
       "\n",
       "    .dataframe tbody tr th {\n",
       "        vertical-align: top;\n",
       "    }\n",
       "\n",
       "    .dataframe thead th {\n",
       "        text-align: right;\n",
       "    }\n",
       "</style>\n",
       "<table border=\"1\" class=\"dataframe\">\n",
       "  <thead>\n",
       "    <tr style=\"text-align: right;\">\n",
       "      <th></th>\n",
       "      <th>id</th>\n",
       "      <th>loss</th>\n",
       "    </tr>\n",
       "  </thead>\n",
       "  <tbody>\n",
       "    <tr>\n",
       "      <th>0</th>\n",
       "      <td>250000</td>\n",
       "      <td>38.225908</td>\n",
       "    </tr>\n",
       "    <tr>\n",
       "      <th>1</th>\n",
       "      <td>250001</td>\n",
       "      <td>24.804513</td>\n",
       "    </tr>\n",
       "    <tr>\n",
       "      <th>2</th>\n",
       "      <td>250002</td>\n",
       "      <td>42.442710</td>\n",
       "    </tr>\n",
       "    <tr>\n",
       "      <th>3</th>\n",
       "      <td>250003</td>\n",
       "      <td>37.180265</td>\n",
       "    </tr>\n",
       "    <tr>\n",
       "      <th>4</th>\n",
       "      <td>250004</td>\n",
       "      <td>35.332873</td>\n",
       "    </tr>\n",
       "    <tr>\n",
       "      <th>...</th>\n",
       "      <td>...</td>\n",
       "      <td>...</td>\n",
       "    </tr>\n",
       "    <tr>\n",
       "      <th>149995</th>\n",
       "      <td>399995</td>\n",
       "      <td>40.069932</td>\n",
       "    </tr>\n",
       "    <tr>\n",
       "      <th>149996</th>\n",
       "      <td>399996</td>\n",
       "      <td>38.528585</td>\n",
       "    </tr>\n",
       "    <tr>\n",
       "      <th>149997</th>\n",
       "      <td>399997</td>\n",
       "      <td>29.856908</td>\n",
       "    </tr>\n",
       "    <tr>\n",
       "      <th>149998</th>\n",
       "      <td>399998</td>\n",
       "      <td>27.103141</td>\n",
       "    </tr>\n",
       "    <tr>\n",
       "      <th>149999</th>\n",
       "      <td>399999</td>\n",
       "      <td>34.190948</td>\n",
       "    </tr>\n",
       "  </tbody>\n",
       "</table>\n",
       "<p>150000 rows × 2 columns</p>\n",
       "</div>"
      ],
      "text/plain": [
       "            id       loss\n",
       "0       250000  38.225908\n",
       "1       250001  24.804513\n",
       "2       250002  42.442710\n",
       "3       250003  37.180265\n",
       "4       250004  35.332873\n",
       "...        ...        ...\n",
       "149995  399995  40.069932\n",
       "149996  399996  38.528585\n",
       "149997  399997  29.856908\n",
       "149998  399998  27.103141\n",
       "149999  399999  34.190948\n",
       "\n",
       "[150000 rows x 2 columns]"
      ]
     },
     "execution_count": 11,
     "metadata": {},
     "output_type": "execute_result"
    }
   ],
   "source": [
    "submission[target] = xgb_pred\n",
    "submission.to_csv(\"submission.csv\", index=False)\n",
    "\n",
    "submission"
   ]
  },
  {
   "cell_type": "markdown",
   "id": "9708b9b3",
   "metadata": {
    "papermill": {
     "duration": 0.085188,
     "end_time": "2021-08-25T17:27:28.083404",
     "exception": false,
     "start_time": "2021-08-25T17:27:27.998216",
     "status": "completed"
    },
    "tags": []
   },
   "source": [
    "# Log"
   ]
  },
  {
   "cell_type": "markdown",
   "id": "8e889c55",
   "metadata": {
    "papermill": {
     "duration": 0.084464,
     "end_time": "2021-08-25T17:27:28.253436",
     "exception": false,
     "start_time": "2021-08-25T17:27:28.168972",
     "status": "completed"
    },
    "tags": []
   },
   "source": [
    "ver3 fold 0-4\n",
    "\n",
    "ver4 fold 5-9"
   ]
  }
 ],
 "metadata": {
  "kernelspec": {
   "display_name": "Python 3",
   "language": "python",
   "name": "python3"
  },
  "language_info": {
   "codemirror_mode": {
    "name": "ipython",
    "version": 3
   },
   "file_extension": ".py",
   "mimetype": "text/x-python",
   "name": "python",
   "nbconvert_exporter": "python",
   "pygments_lexer": "ipython3",
   "version": "3.7.10"
  },
  "papermill": {
   "default_parameters": {},
   "duration": 29627.060939,
   "end_time": "2021-08-25T17:27:29.884978",
   "environment_variables": {},
   "exception": null,
   "input_path": "__notebook__.ipynb",
   "output_path": "__notebook__.ipynb",
   "parameters": {},
   "start_time": "2021-08-25T09:13:42.824039",
   "version": "2.3.3"
  }
 },
 "nbformat": 4,
 "nbformat_minor": 5
}
