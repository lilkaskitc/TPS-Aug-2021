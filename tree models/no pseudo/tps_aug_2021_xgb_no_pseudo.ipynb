{
  "nbformat": 4,
  "nbformat_minor": 5,
  "metadata": {
    "kernelspec": {
      "display_name": "Python 3",
      "language": "python",
      "name": "python3"
    },
    "language_info": {
      "codemirror_mode": {
        "name": "ipython",
        "version": 3
      },
      "file_extension": ".py",
      "mimetype": "text/x-python",
      "name": "python",
      "nbconvert_exporter": "python",
      "pygments_lexer": "ipython3",
      "version": "3.7.10"
    },
    "papermill": {
      "default_parameters": {},
      "duration": 8456.897418,
      "end_time": "2021-08-21T08:49:59.633231",
      "environment_variables": {},
      "exception": null,
      "input_path": "__notebook__.ipynb",
      "output_path": "__notebook__.ipynb",
      "parameters": {},
      "start_time": "2021-08-21T06:29:02.735813",
      "version": "2.3.3"
    },
    "colab": {
      "name": "tps-aug-2021-xgb-no-pseudo.ipynb",
      "provenance": [],
      "collapsed_sections": []
    },
    "accelerator": "GPU"
  },
  "cells": [
    {
      "cell_type": "code",
      "metadata": {
        "id": "DaYXzh9D185z",
        "colab": {
          "base_uri": "https://localhost:8080/",
          "height": 783
        },
        "outputId": "885f559e-0dac-44e1-94c4-1dd1baa0220d"
      },
      "source": [
        "# Kaggle API for downloading the datasets\n",
        "!pip install --upgrade -q kaggle\n",
        "\n",
        "# Optuna for parameter search\n",
        "#!pip install -q optuna\n",
        "\n",
        "!pip install --upgrade xgboost\n",
        "\n",
        "# upgrask sklearn\n",
        "!pip install --upgrade scikit-learn\n",
        "\n",
        "!pip install category_encoders\n",
        "\n",
        "'''\n",
        "!pip install catboost\n",
        "# lighgbm gpu compatible\n",
        "!git clone --recursive https://github.com/Microsoft/LightGBM\n",
        "! cd LightGBM && rm -rf build && mkdir build && cd build && cmake -DUSE_GPU=1 ../../LightGBM && make -j4 && cd ../python-package && python3 setup.py install --precompile --gpu;\n",
        "'''"
      ],
      "id": "DaYXzh9D185z",
      "execution_count": 1,
      "outputs": [
        {
          "output_type": "stream",
          "text": [
            "Requirement already satisfied: xgboost in /usr/local/lib/python3.7/dist-packages (0.90)\n",
            "Collecting xgboost\n",
            "  Downloading xgboost-1.4.2-py3-none-manylinux2010_x86_64.whl (166.7 MB)\n",
            "\u001b[K     |████████████████████████████████| 166.7 MB 15 kB/s \n",
            "\u001b[?25hRequirement already satisfied: numpy in /usr/local/lib/python3.7/dist-packages (from xgboost) (1.19.5)\n",
            "Requirement already satisfied: scipy in /usr/local/lib/python3.7/dist-packages (from xgboost) (1.4.1)\n",
            "Installing collected packages: xgboost\n",
            "  Attempting uninstall: xgboost\n",
            "    Found existing installation: xgboost 0.90\n",
            "    Uninstalling xgboost-0.90:\n",
            "      Successfully uninstalled xgboost-0.90\n",
            "Successfully installed xgboost-1.4.2\n",
            "Requirement already satisfied: scikit-learn in /usr/local/lib/python3.7/dist-packages (0.22.2.post1)\n",
            "Collecting scikit-learn\n",
            "  Downloading scikit_learn-0.24.2-cp37-cp37m-manylinux2010_x86_64.whl (22.3 MB)\n",
            "\u001b[K     |████████████████████████████████| 22.3 MB 1.7 MB/s \n",
            "\u001b[?25hCollecting threadpoolctl>=2.0.0\n",
            "  Downloading threadpoolctl-2.2.0-py3-none-any.whl (12 kB)\n",
            "Requirement already satisfied: numpy>=1.13.3 in /usr/local/lib/python3.7/dist-packages (from scikit-learn) (1.19.5)\n",
            "Requirement already satisfied: scipy>=0.19.1 in /usr/local/lib/python3.7/dist-packages (from scikit-learn) (1.4.1)\n",
            "Requirement already satisfied: joblib>=0.11 in /usr/local/lib/python3.7/dist-packages (from scikit-learn) (1.0.1)\n",
            "Installing collected packages: threadpoolctl, scikit-learn\n",
            "  Attempting uninstall: scikit-learn\n",
            "    Found existing installation: scikit-learn 0.22.2.post1\n",
            "    Uninstalling scikit-learn-0.22.2.post1:\n",
            "      Successfully uninstalled scikit-learn-0.22.2.post1\n",
            "Successfully installed scikit-learn-0.24.2 threadpoolctl-2.2.0\n",
            "Collecting category_encoders\n",
            "  Downloading category_encoders-2.2.2-py2.py3-none-any.whl (80 kB)\n",
            "\u001b[K     |████████████████████████████████| 80 kB 5.4 MB/s \n",
            "\u001b[?25hRequirement already satisfied: statsmodels>=0.9.0 in /usr/local/lib/python3.7/dist-packages (from category_encoders) (0.10.2)\n",
            "Requirement already satisfied: scipy>=1.0.0 in /usr/local/lib/python3.7/dist-packages (from category_encoders) (1.4.1)\n",
            "Requirement already satisfied: numpy>=1.14.0 in /usr/local/lib/python3.7/dist-packages (from category_encoders) (1.19.5)\n",
            "Requirement already satisfied: pandas>=0.21.1 in /usr/local/lib/python3.7/dist-packages (from category_encoders) (1.1.5)\n",
            "Requirement already satisfied: scikit-learn>=0.20.0 in /usr/local/lib/python3.7/dist-packages (from category_encoders) (0.24.2)\n",
            "Requirement already satisfied: patsy>=0.5.1 in /usr/local/lib/python3.7/dist-packages (from category_encoders) (0.5.1)\n",
            "Requirement already satisfied: python-dateutil>=2.7.3 in /usr/local/lib/python3.7/dist-packages (from pandas>=0.21.1->category_encoders) (2.8.2)\n",
            "Requirement already satisfied: pytz>=2017.2 in /usr/local/lib/python3.7/dist-packages (from pandas>=0.21.1->category_encoders) (2018.9)\n",
            "Requirement already satisfied: six in /usr/local/lib/python3.7/dist-packages (from patsy>=0.5.1->category_encoders) (1.15.0)\n",
            "Requirement already satisfied: joblib>=0.11 in /usr/local/lib/python3.7/dist-packages (from scikit-learn>=0.20.0->category_encoders) (1.0.1)\n",
            "Requirement already satisfied: threadpoolctl>=2.0.0 in /usr/local/lib/python3.7/dist-packages (from scikit-learn>=0.20.0->category_encoders) (2.2.0)\n",
            "Installing collected packages: category-encoders\n",
            "Successfully installed category-encoders-2.2.2\n"
          ],
          "name": "stdout"
        },
        {
          "output_type": "execute_result",
          "data": {
            "application/vnd.google.colaboratory.intrinsic+json": {
              "type": "string"
            },
            "text/plain": [
              "'\\n!pip install catboost\\n# lighgbm gpu compatible\\n!git clone --recursive https://github.com/Microsoft/LightGBM\\n! cd LightGBM && rm -rf build && mkdir build && cd build && cmake -DUSE_GPU=1 ../../LightGBM && make -j4 && cd ../python-package && python3 setup.py install --precompile --gpu;\\n'"
            ]
          },
          "metadata": {},
          "execution_count": 1
        }
      ]
    },
    {
      "cell_type": "code",
      "metadata": {
        "_cell_guid": "b1076dfc-b9ad-4769-8c92-a6c4dae69d19",
        "_uuid": "8f2839f25d086af736a60e9eeb907d3b93b6e0e5",
        "execution": {
          "iopub.execute_input": "2021-08-21T06:29:09.670794Z",
          "iopub.status.busy": "2021-08-21T06:29:09.669758Z",
          "iopub.status.idle": "2021-08-21T06:29:11.598852Z",
          "shell.execute_reply": "2021-08-21T06:29:11.598259Z",
          "shell.execute_reply.started": "2021-08-20T00:41:12.794744Z"
        },
        "papermill": {
          "duration": 1.94472,
          "end_time": "2021-08-21T06:29:11.599036",
          "exception": false,
          "start_time": "2021-08-21T06:29:09.654316",
          "status": "completed"
        },
        "tags": [],
        "id": "74cd001b"
      },
      "source": [
        "# Familiar imports\n",
        "import numpy as np\n",
        "import pandas as pd\n",
        "import random\n",
        "import os\n",
        "import time\n",
        "import pickle\n",
        "from pathlib import Path\n",
        "\n",
        "from sklearn.preprocessing import StandardScaler\n",
        "from sklearn.model_selection import KFold, train_test_split\n",
        "from sklearn.metrics import mean_squared_error\n",
        "from sklearn.preprocessing import OrdinalEncoder, OneHotEncoder\n",
        "\n",
        "from scipy.optimize import minimize\n",
        "\n",
        "#import lightgbm as lgb\n",
        "import xgboost as xgb\n",
        "#import catboost as ctb\n",
        "\n",
        "import matplotlib.pyplot as plt\n",
        "import seaborn as sns\n",
        "\n",
        "import warnings\n",
        "warnings.simplefilter('ignore')"
      ],
      "id": "74cd001b",
      "execution_count": 2,
      "outputs": []
    },
    {
      "cell_type": "code",
      "metadata": {
        "id": "725mDrxs2GGf",
        "colab": {
          "base_uri": "https://localhost:8080/"
        },
        "outputId": "3f7a9ee4-b170-4dc3-d62b-5d38f8b11436"
      },
      "source": [
        "'''\n",
        "uploaded = files.upload()\n",
        "\n",
        "for fn in uploaded.keys():\n",
        "  print('User uploaded file \"{name}\" with length {length} bytes'.format(\n",
        "      name=fn, length=len(uploaded[fn])))\n",
        "'''\n",
        "\n",
        "# Then move kaggle.json into the folder where the API expects to find it.\n",
        "!mkdir -p ~/.kaggle/ && mv kaggle.json ~/.kaggle/ && chmod 600 ~/.kaggle/kaggle.json\n",
        "\n",
        "# get a list of kaggle competitions\n",
        "#!kaggle competitions list\n",
        "\n",
        "# download the target competition\n",
        "!kaggle competitions download 'tabular-playground-series-aug-2021'\n",
        "\n",
        "# unzip the files if needed\n",
        "## !unzip tabular-playground-series-jan-2021.zip\n"
      ],
      "id": "725mDrxs2GGf",
      "execution_count": 3,
      "outputs": [
        {
          "output_type": "stream",
          "text": [
            "Warning: Looks like you're using an outdated API Version, please consider updating (server 1.5.12 / client 1.5.4)\n",
            "Downloading sample_submission.csv.zip to /content\n",
            "  0% 0.00/325k [00:00<?, ?B/s]\n",
            "100% 325k/325k [00:00<00:00, 45.0MB/s]\n",
            "Downloading test.csv.zip to /content\n",
            " 98% 55.0M/55.9M [00:01<00:00, 26.7MB/s]\n",
            "100% 55.9M/55.9M [00:01<00:00, 32.9MB/s]\n",
            "Downloading train.csv.zip to /content\n",
            " 95% 89.0M/93.3M [00:04<00:00, 22.3MB/s]\n",
            "100% 93.3M/93.3M [00:04<00:00, 22.1MB/s]\n"
          ],
          "name": "stdout"
        }
      ]
    },
    {
      "cell_type": "code",
      "metadata": {
        "id": "qyeNqpNPI1D7"
      },
      "source": [
        "#! kaggle datasets download lilkaskitc/30-days-pseudo\n",
        "#! unzip 30-days-pseudo.zip"
      ],
      "id": "qyeNqpNPI1D7",
      "execution_count": 4,
      "outputs": []
    },
    {
      "cell_type": "markdown",
      "metadata": {
        "papermill": {
          "duration": 0.0115,
          "end_time": "2021-08-21T06:29:11.623051",
          "exception": false,
          "start_time": "2021-08-21T06:29:11.611551",
          "status": "completed"
        },
        "tags": [],
        "id": "d3acc6b1"
      },
      "source": [
        "# Parameters"
      ],
      "id": "d3acc6b1"
    },
    {
      "cell_type": "code",
      "metadata": {
        "execution": {
          "iopub.execute_input": "2021-08-21T06:29:11.651820Z",
          "iopub.status.busy": "2021-08-21T06:29:11.651239Z",
          "iopub.status.idle": "2021-08-21T06:29:11.654191Z",
          "shell.execute_reply": "2021-08-21T06:29:11.653661Z",
          "shell.execute_reply.started": "2021-08-20T00:41:12.805088Z"
        },
        "papermill": {
          "duration": 0.019625,
          "end_time": "2021-08-21T06:29:11.654344",
          "exception": false,
          "start_time": "2021-08-21T06:29:11.634719",
          "status": "completed"
        },
        "tags": [],
        "id": "621e1ad4"
      },
      "source": [
        "target = 'loss'\n",
        "\n",
        "DEBUG = False\n",
        "\n",
        "if DEBUG:\n",
        "    N_ESTIMATORS = 1\n",
        "    N_SPLITS = 2\n",
        "    SEED = 17\n",
        "    CVSEED = 17\n",
        "    EARLY_STOPPING_ROUNDS = 1\n",
        "    VERBOSE = 100\n",
        "    #N_ITERS = 2\n",
        "else:\n",
        "    N_SPLITS = 10\n",
        "    N_ESTIMATORS = 9000\n",
        "    EARLY_STOPPING_ROUNDS = 200\n",
        "    VERBOSE = 1000\n",
        "    SEED = 17\n",
        "    CVSEED = 17\n",
        "    #N_ITERS = 10"
      ],
      "id": "621e1ad4",
      "execution_count": 21,
      "outputs": []
    },
    {
      "cell_type": "code",
      "metadata": {
        "execution": {
          "iopub.execute_input": "2021-08-21T06:29:11.683276Z",
          "iopub.status.busy": "2021-08-21T06:29:11.682611Z",
          "iopub.status.idle": "2021-08-21T06:29:11.685250Z",
          "shell.execute_reply": "2021-08-21T06:29:11.684765Z",
          "shell.execute_reply.started": "2021-08-20T00:41:12.822105Z"
        },
        "papermill": {
          "duration": 0.019172,
          "end_time": "2021-08-21T06:29:11.685384",
          "exception": false,
          "start_time": "2021-08-21T06:29:11.666212",
          "status": "completed"
        },
        "tags": [],
        "id": "b43ebeea"
      },
      "source": [
        "def set_seed(seed=17):\n",
        "    random.seed(seed)\n",
        "    os.environ['PYTHONHASHSEED'] = str(seed)\n",
        "    np.random.seed(seed)\n",
        "    \n",
        "set_seed(SEED)"
      ],
      "id": "b43ebeea",
      "execution_count": 22,
      "outputs": []
    },
    {
      "cell_type": "markdown",
      "metadata": {
        "papermill": {
          "duration": 0.011311,
          "end_time": "2021-08-21T06:29:11.708580",
          "exception": false,
          "start_time": "2021-08-21T06:29:11.697269",
          "status": "completed"
        },
        "tags": [],
        "id": "80a81c71"
      },
      "source": [
        "# Load data"
      ],
      "id": "80a81c71"
    },
    {
      "cell_type": "code",
      "metadata": {
        "id": "S-ur1kOgohXX"
      },
      "source": [
        "# load the data\n",
        "train = pd.read_csv(\"train.csv.zip\")\n",
        "test = pd.read_csv(\"test.csv.zip\")\n",
        "submission = pd.read_csv(\"sample_submission.csv.zip\")"
      ],
      "id": "S-ur1kOgohXX",
      "execution_count": 7,
      "outputs": []
    },
    {
      "cell_type": "markdown",
      "metadata": {
        "papermill": {
          "duration": 0.012743,
          "end_time": "2021-08-21T06:29:15.879986",
          "exception": false,
          "start_time": "2021-08-21T06:29:15.867243",
          "status": "completed"
        },
        "tags": [],
        "id": "1afbe647"
      },
      "source": [
        "# Preprocessing"
      ],
      "id": "1afbe647"
    },
    {
      "cell_type": "code",
      "metadata": {
        "execution": {
          "iopub.execute_input": "2021-08-21T06:29:18.642482Z",
          "iopub.status.busy": "2021-08-21T06:29:18.639807Z",
          "iopub.status.idle": "2021-08-21T06:29:19.719249Z",
          "shell.execute_reply": "2021-08-21T06:29:19.718578Z",
          "shell.execute_reply.started": "2021-08-20T00:41:19.97672Z"
        },
        "papermill": {
          "duration": 1.104667,
          "end_time": "2021-08-21T06:29:19.719397",
          "exception": false,
          "start_time": "2021-08-21T06:29:18.614730",
          "status": "completed"
        },
        "tags": [],
        "id": "d2ba2059"
      },
      "source": [
        "scale_features = [col for col in test.columns if 'f' in col]\n",
        "\n",
        "ss = StandardScaler()\n",
        "train[scale_features] = ss.fit_transform(train[scale_features])\n",
        "test[scale_features] = ss.transform(test[scale_features])"
      ],
      "id": "d2ba2059",
      "execution_count": 8,
      "outputs": []
    },
    {
      "cell_type": "code",
      "metadata": {
        "execution": {
          "iopub.execute_input": "2021-08-21T06:29:19.753999Z",
          "iopub.status.busy": "2021-08-21T06:29:19.753187Z",
          "iopub.status.idle": "2021-08-21T06:29:19.756356Z",
          "shell.execute_reply": "2021-08-21T06:29:19.755866Z",
          "shell.execute_reply.started": "2021-08-20T00:41:22.057604Z"
        },
        "papermill": {
          "duration": 0.023311,
          "end_time": "2021-08-21T06:29:19.756493",
          "exception": false,
          "start_time": "2021-08-21T06:29:19.733182",
          "status": "completed"
        },
        "tags": [],
        "id": "1a2daf95"
      },
      "source": [
        "# Swap noise\n",
        "\n",
        "# Random\n",
        "def apply_noise_rn(df, p=.75):\n",
        "    should_not_swap = np.random.binomial(1, p, df.shape)\n",
        "    corrupted_df = df.where(should_not_swap == 1, np.random.permutation(df))\n",
        "    return corrupted_df\n",
        "\n",
        "# Row-wise\n",
        "def apply_noise_row(df, p=.75):\n",
        "    should_not_swap = np.zeros(df.shape)\n",
        "    for i in range(df.shape[0]):\n",
        "        for j in np.random.choice(df.shape[1],int(p*df.shape[1]),replace=False):\n",
        "            should_not_swap[i,j]=1 \n",
        "    corrupted_df = df.where(should_not_swap == 1, np.random.permutation(df))\n",
        "    return corrupted_df"
      ],
      "id": "1a2daf95",
      "execution_count": 9,
      "outputs": []
    },
    {
      "cell_type": "markdown",
      "metadata": {
        "papermill": {
          "duration": 0.013117,
          "end_time": "2021-08-21T06:29:20.191492",
          "exception": false,
          "start_time": "2021-08-21T06:29:20.178375",
          "status": "completed"
        },
        "tags": [],
        "id": "81118bf1"
      },
      "source": [
        "# XGB"
      ],
      "id": "81118bf1"
    },
    {
      "cell_type": "code",
      "metadata": {
        "id": "M4w6f5wNDR9j"
      },
      "source": [
        "xgb_params = {\n",
        "    'objective': 'reg:squarederror',    \n",
        "    'seed': SEED,   \n",
        "    'n_estimators': N_ESTIMATORS,\n",
        "    'importance_type': 'total_gain',\n",
        "    'tree_method': 'gpu_hist',    \n",
        "    \n",
        "    'learning_rate': 0.0018331925260194747,\n",
        "     'subsample': 0.5999280340279187,\n",
        "      'colsample_bytree': 0.8309679692775827, \n",
        "      'max_depth': 11,\n",
        "       'lambda': 9.484816540848616,\n",
        "       'alpha': 5.787546831727187, \n",
        "       'min_child_weight': 203.58662168918866\n",
        "}"
      ],
      "id": "M4w6f5wNDR9j",
      "execution_count": 23,
      "outputs": []
    },
    {
      "cell_type": "code",
      "metadata": {
        "execution": {
          "iopub.execute_input": "2021-08-21T06:29:28.655100Z",
          "iopub.status.busy": "2021-08-21T06:29:28.654109Z",
          "iopub.status.idle": "2021-08-21T06:29:28.657357Z",
          "shell.execute_reply": "2021-08-21T06:29:28.656553Z",
          "shell.execute_reply.started": "2021-08-20T00:41:32.85435Z"
        },
        "papermill": {
          "duration": 0.031225,
          "end_time": "2021-08-21T06:29:28.657505",
          "exception": false,
          "start_time": "2021-08-21T06:29:28.626280",
          "status": "completed"
        },
        "tags": [],
        "id": "f628cac6"
      },
      "source": [
        "\n",
        "xgb_pred = np.zeros(test.shape[0])\n",
        "\n",
        "X_train, y_train = train[scale_features], train[target]\n",
        "#X_train = apply_noise_row(X_train)\n",
        "\n",
        "X_test = test[scale_features]\n",
        "\n",
        "\n",
        "\n",
        "# XGB       \n",
        "\n",
        "xgb_params['seed'] = SEED\n",
        "\n",
        "pre_model = xgb.XGBRegressor(**xgb_params)\n",
        "pre_model.fit(\n",
        "    X_train, \n",
        "    y_train,\n",
        "    \n",
        "    verbose=VERBOSE\n",
        "      )\n",
        "\n",
        "\n",
        "xgb_params2 = xgb_params.copy()\n",
        "xgb_params2['lambda'] *= 0.9\n",
        "xgb_params2['alpha'] *= 0.9\n",
        "xgb_params2['learning_rate'] *= 0.1\n",
        "model = xgb.XGBRegressor(**xgb_params2)\n",
        "model.fit(\n",
        "        X_train, y_train,\n",
        "      \n",
        "        verbose=VERBOSE,\n",
        "        xgb_model=pre_model\n",
        "        )    \n",
        "\n",
        "\n",
        "\n",
        "xgb_pred += model.predict(X_test) \n",
        "\n",
        "\n",
        "np.save(\"xgb_pred.npy\", xgb_pred)"
      ],
      "id": "f628cac6",
      "execution_count": 25,
      "outputs": []
    },
    {
      "cell_type": "markdown",
      "metadata": {
        "id": "v5whh8iBGo7y"
      },
      "source": [
        "# Submission"
      ],
      "id": "v5whh8iBGo7y"
    },
    {
      "cell_type": "code",
      "metadata": {
        "id": "0kUqIQygGrDh",
        "colab": {
          "base_uri": "https://localhost:8080/",
          "height": 419
        },
        "outputId": "4fde1d9f-e4da-4d1b-bcb6-5eb14d2b9dc1"
      },
      "source": [
        "submission[target] = xgb_pred\n",
        "submission.to_csv(\"submission.csv\", index=False)\n",
        "\n",
        "submission"
      ],
      "id": "0kUqIQygGrDh",
      "execution_count": 26,
      "outputs": [
        {
          "output_type": "execute_result",
          "data": {
            "text/html": [
              "<div>\n",
              "<style scoped>\n",
              "    .dataframe tbody tr th:only-of-type {\n",
              "        vertical-align: middle;\n",
              "    }\n",
              "\n",
              "    .dataframe tbody tr th {\n",
              "        vertical-align: top;\n",
              "    }\n",
              "\n",
              "    .dataframe thead th {\n",
              "        text-align: right;\n",
              "    }\n",
              "</style>\n",
              "<table border=\"1\" class=\"dataframe\">\n",
              "  <thead>\n",
              "    <tr style=\"text-align: right;\">\n",
              "      <th></th>\n",
              "      <th>id</th>\n",
              "      <th>loss</th>\n",
              "    </tr>\n",
              "  </thead>\n",
              "  <tbody>\n",
              "    <tr>\n",
              "      <th>0</th>\n",
              "      <td>250000</td>\n",
              "      <td>7.613151</td>\n",
              "    </tr>\n",
              "    <tr>\n",
              "      <th>1</th>\n",
              "      <td>250001</td>\n",
              "      <td>5.161349</td>\n",
              "    </tr>\n",
              "    <tr>\n",
              "      <th>2</th>\n",
              "      <td>250002</td>\n",
              "      <td>8.685816</td>\n",
              "    </tr>\n",
              "    <tr>\n",
              "      <th>3</th>\n",
              "      <td>250003</td>\n",
              "      <td>7.457319</td>\n",
              "    </tr>\n",
              "    <tr>\n",
              "      <th>4</th>\n",
              "      <td>250004</td>\n",
              "      <td>6.975274</td>\n",
              "    </tr>\n",
              "    <tr>\n",
              "      <th>...</th>\n",
              "      <td>...</td>\n",
              "      <td>...</td>\n",
              "    </tr>\n",
              "    <tr>\n",
              "      <th>149995</th>\n",
              "      <td>399995</td>\n",
              "      <td>7.807847</td>\n",
              "    </tr>\n",
              "    <tr>\n",
              "      <th>149996</th>\n",
              "      <td>399996</td>\n",
              "      <td>7.720120</td>\n",
              "    </tr>\n",
              "    <tr>\n",
              "      <th>149997</th>\n",
              "      <td>399997</td>\n",
              "      <td>5.963680</td>\n",
              "    </tr>\n",
              "    <tr>\n",
              "      <th>149998</th>\n",
              "      <td>399998</td>\n",
              "      <td>5.428344</td>\n",
              "    </tr>\n",
              "    <tr>\n",
              "      <th>149999</th>\n",
              "      <td>399999</td>\n",
              "      <td>6.678648</td>\n",
              "    </tr>\n",
              "  </tbody>\n",
              "</table>\n",
              "<p>150000 rows × 2 columns</p>\n",
              "</div>"
            ],
            "text/plain": [
              "            id      loss\n",
              "0       250000  7.613151\n",
              "1       250001  5.161349\n",
              "2       250002  8.685816\n",
              "3       250003  7.457319\n",
              "4       250004  6.975274\n",
              "...        ...       ...\n",
              "149995  399995  7.807847\n",
              "149996  399996  7.720120\n",
              "149997  399997  5.963680\n",
              "149998  399998  5.428344\n",
              "149999  399999  6.678648\n",
              "\n",
              "[150000 rows x 2 columns]"
            ]
          },
          "metadata": {},
          "execution_count": 26
        }
      ]
    },
    {
      "cell_type": "code",
      "metadata": {
        "colab": {
          "base_uri": "https://localhost:8080/",
          "height": 17
        },
        "id": "2p4HZaMKtb4d",
        "outputId": "cf1ba13b-0059-4c3c-c934-ed4ba44c6409"
      },
      "source": [
        "from google.colab import files\n",
        "files.download('submission.csv')"
      ],
      "id": "2p4HZaMKtb4d",
      "execution_count": 28,
      "outputs": [
        {
          "output_type": "display_data",
          "data": {
            "application/javascript": [
              "\n",
              "    async function download(id, filename, size) {\n",
              "      if (!google.colab.kernel.accessAllowed) {\n",
              "        return;\n",
              "      }\n",
              "      const div = document.createElement('div');\n",
              "      const label = document.createElement('label');\n",
              "      label.textContent = `Downloading \"${filename}\": `;\n",
              "      div.appendChild(label);\n",
              "      const progress = document.createElement('progress');\n",
              "      progress.max = size;\n",
              "      div.appendChild(progress);\n",
              "      document.body.appendChild(div);\n",
              "\n",
              "      const buffers = [];\n",
              "      let downloaded = 0;\n",
              "\n",
              "      const channel = await google.colab.kernel.comms.open(id);\n",
              "      // Send a message to notify the kernel that we're ready.\n",
              "      channel.send({})\n",
              "\n",
              "      for await (const message of channel.messages) {\n",
              "        // Send a message to notify the kernel that we're ready.\n",
              "        channel.send({})\n",
              "        if (message.buffers) {\n",
              "          for (const buffer of message.buffers) {\n",
              "            buffers.push(buffer);\n",
              "            downloaded += buffer.byteLength;\n",
              "            progress.value = downloaded;\n",
              "          }\n",
              "        }\n",
              "      }\n",
              "      const blob = new Blob(buffers, {type: 'application/binary'});\n",
              "      const a = document.createElement('a');\n",
              "      a.href = window.URL.createObjectURL(blob);\n",
              "      a.download = filename;\n",
              "      div.appendChild(a);\n",
              "      a.click();\n",
              "      div.remove();\n",
              "    }\n",
              "  "
            ],
            "text/plain": [
              "<IPython.core.display.Javascript object>"
            ]
          },
          "metadata": {}
        },
        {
          "output_type": "display_data",
          "data": {
            "application/javascript": [
              "download(\"download_9aa17905-b12f-4928-87f7-0f722b820368\", \"submission.csv\", 3747948)"
            ],
            "text/plain": [
              "<IPython.core.display.Javascript object>"
            ]
          },
          "metadata": {}
        }
      ]
    }
  ]
}