{
 "cells": [
  {
   "cell_type": "markdown",
   "id": "c0002736",
   "metadata": {
    "papermill": {
     "duration": 0.01251,
     "end_time": "2021-08-22T07:16:42.578093",
     "exception": false,
     "start_time": "2021-08-22T07:16:42.565583",
     "status": "completed"
    },
    "tags": []
   },
   "source": [
    "# Libraries"
   ]
  },
  {
   "cell_type": "code",
   "execution_count": 1,
   "id": "47868326",
   "metadata": {
    "_cell_guid": "b1076dfc-b9ad-4769-8c92-a6c4dae69d19",
    "_uuid": "8f2839f25d086af736a60e9eeb907d3b93b6e0e5",
    "execution": {
     "iopub.execute_input": "2021-08-22T07:16:42.613920Z",
     "iopub.status.busy": "2021-08-22T07:16:42.613291Z",
     "iopub.status.idle": "2021-08-22T07:16:45.910259Z",
     "shell.execute_reply": "2021-08-22T07:16:45.909659Z",
     "shell.execute_reply.started": "2021-08-16T02:22:18.744068Z"
    },
    "papermill": {
     "duration": 3.320801,
     "end_time": "2021-08-22T07:16:45.910418",
     "exception": false,
     "start_time": "2021-08-22T07:16:42.589617",
     "status": "completed"
    },
    "tags": []
   },
   "outputs": [
    {
     "data": {
      "text/html": [
       "<style type='text/css'>\n",
       ".datatable table.frame { margin-bottom: 0; }\n",
       ".datatable table.frame thead { border-bottom: none; }\n",
       ".datatable table.frame tr.coltypes td {  color: #FFFFFF;  line-height: 6px;  padding: 0 0.5em;}\n",
       ".datatable .bool    { background: #DDDD99; }\n",
       ".datatable .object  { background: #565656; }\n",
       ".datatable .int     { background: #5D9E5D; }\n",
       ".datatable .float   { background: #4040CC; }\n",
       ".datatable .str     { background: #CC4040; }\n",
       ".datatable .time    { background: #40CC40; }\n",
       ".datatable .row_index {  background: var(--jp-border-color3);  border-right: 1px solid var(--jp-border-color0);  color: var(--jp-ui-font-color3);  font-size: 9px;}\n",
       ".datatable .frame tbody td { text-align: left; }\n",
       ".datatable .frame tr.coltypes .row_index {  background: var(--jp-border-color0);}\n",
       ".datatable th:nth-child(2) { padding-left: 12px; }\n",
       ".datatable .hellipsis {  color: var(--jp-cell-editor-border-color);}\n",
       ".datatable .vellipsis {  background: var(--jp-layout-color0);  color: var(--jp-cell-editor-border-color);}\n",
       ".datatable .na {  color: var(--jp-cell-editor-border-color);  font-size: 80%;}\n",
       ".datatable .sp {  opacity: 0.25;}\n",
       ".datatable .footer { font-size: 9px; }\n",
       ".datatable .frame_dimensions {  background: var(--jp-border-color3);  border-top: 1px solid var(--jp-border-color0);  color: var(--jp-ui-font-color3);  display: inline-block;  opacity: 0.6;  padding: 1px 10px 1px 5px;}\n",
       "</style>\n"
      ],
      "text/plain": [
       "<IPython.core.display.HTML object>"
      ]
     },
     "metadata": {},
     "output_type": "display_data"
    }
   ],
   "source": [
    "from pathlib import Path\n",
    "import pandas as pd\n",
    "import numpy as np\n",
    "import pickle\n",
    "import random\n",
    "import time\n",
    "import os\n",
    "\n",
    "from sklearn.preprocessing import StandardScaler\n",
    "from sklearn.model_selection import KFold\n",
    "from sklearn.metrics import mean_squared_error\n",
    "\n",
    "from scipy.optimize import minimize\n",
    "\n",
    "import lightgbm as lgb\n",
    "import xgboost as xgb\n",
    "import catboost as ctb\n",
    "from sklearn.linear_model import Ridge\n",
    "\n",
    "import matplotlib.pyplot as plt\n",
    "import seaborn as sns\n",
    "\n",
    "import warnings\n",
    "warnings.simplefilter('ignore')"
   ]
  },
  {
   "cell_type": "markdown",
   "id": "14755932",
   "metadata": {
    "papermill": {
     "duration": 0.018126,
     "end_time": "2021-08-22T07:16:45.956228",
     "exception": false,
     "start_time": "2021-08-22T07:16:45.938102",
     "status": "completed"
    },
    "tags": []
   },
   "source": [
    "# Parameters"
   ]
  },
  {
   "cell_type": "code",
   "execution_count": 2,
   "id": "435ff045",
   "metadata": {
    "execution": {
     "iopub.execute_input": "2021-08-22T07:16:46.001254Z",
     "iopub.status.busy": "2021-08-22T07:16:46.000376Z",
     "iopub.status.idle": "2021-08-22T07:16:46.005301Z",
     "shell.execute_reply": "2021-08-22T07:16:46.006278Z"
    },
    "papermill": {
     "duration": 0.031232,
     "end_time": "2021-08-22T07:16:46.006418",
     "exception": false,
     "start_time": "2021-08-22T07:16:45.975186",
     "status": "completed"
    },
    "tags": []
   },
   "outputs": [],
   "source": [
    "target = 'loss'\n",
    "\n",
    "DEBUG = False\n",
    "\n",
    "if DEBUG:\n",
    "    N_ESTIMATORS = 1\n",
    "    N_SPLITS = 2\n",
    "    SEED = 17\n",
    "    CVSEED = 17\n",
    "    EARLY_STOPPING_ROUNDS = 1\n",
    "    VERBOSE = 100\n",
    "    #N_ITERS = 2\n",
    "else:\n",
    "    N_SPLITS = 10\n",
    "    N_ESTIMATORS = 10000\n",
    "    EARLY_STOPPING_ROUNDS = 200\n",
    "    VERBOSE = 1000\n",
    "    SEED = 17\n",
    "    CVSEED = 17\n",
    "    #N_ITERS = 10"
   ]
  },
  {
   "cell_type": "code",
   "execution_count": 3,
   "id": "db1ffb5c",
   "metadata": {
    "execution": {
     "iopub.execute_input": "2021-08-22T07:16:46.049895Z",
     "iopub.status.busy": "2021-08-22T07:16:46.049045Z",
     "iopub.status.idle": "2021-08-22T07:16:46.055443Z",
     "shell.execute_reply": "2021-08-22T07:16:46.056178Z"
    },
    "papermill": {
     "duration": 0.031258,
     "end_time": "2021-08-22T07:16:46.056390",
     "exception": false,
     "start_time": "2021-08-22T07:16:46.025132",
     "status": "completed"
    },
    "tags": []
   },
   "outputs": [],
   "source": [
    "def set_seed(seed=17):\n",
    "    random.seed(seed)\n",
    "    os.environ['PYTHONHASHSEED'] = str(seed)\n",
    "    np.random.seed(seed)\n",
    "    \n",
    "set_seed(SEED)"
   ]
  },
  {
   "cell_type": "markdown",
   "id": "aafb77fa",
   "metadata": {
    "papermill": {
     "duration": 0.018978,
     "end_time": "2021-08-22T07:16:46.092628",
     "exception": false,
     "start_time": "2021-08-22T07:16:46.073650",
     "status": "completed"
    },
    "tags": []
   },
   "source": [
    "# Datasets"
   ]
  },
  {
   "cell_type": "code",
   "execution_count": 4,
   "id": "c1d2790b",
   "metadata": {
    "execution": {
     "iopub.execute_input": "2021-08-22T07:16:46.135939Z",
     "iopub.status.busy": "2021-08-22T07:16:46.135119Z",
     "iopub.status.idle": "2021-08-22T07:16:55.755322Z",
     "shell.execute_reply": "2021-08-22T07:16:55.754826Z",
     "shell.execute_reply.started": "2021-08-16T02:22:21.609605Z"
    },
    "papermill": {
     "duration": 9.643508,
     "end_time": "2021-08-22T07:16:55.755447",
     "exception": false,
     "start_time": "2021-08-22T07:16:46.111939",
     "status": "completed"
    },
    "tags": []
   },
   "outputs": [],
   "source": [
    "INPUT = Path(\"../input/tabular-playground-series-aug-2021\")\n",
    "\n",
    "train = pd.read_csv(INPUT / \"train.csv\")\n",
    "test = pd.read_csv(INPUT / \"test.csv\")\n",
    "submission = pd.read_csv(INPUT / \"sample_submission.csv\")\n"
   ]
  },
  {
   "cell_type": "markdown",
   "id": "0bb28910",
   "metadata": {
    "papermill": {
     "duration": 0.011784,
     "end_time": "2021-08-22T07:16:55.779521",
     "exception": false,
     "start_time": "2021-08-22T07:16:55.767737",
     "status": "completed"
    },
    "tags": []
   },
   "source": [
    "# Preprocessing"
   ]
  },
  {
   "cell_type": "code",
   "execution_count": 5,
   "id": "ba15dd46",
   "metadata": {
    "execution": {
     "iopub.execute_input": "2021-08-22T07:16:55.876852Z",
     "iopub.status.busy": "2021-08-22T07:16:55.875579Z",
     "iopub.status.idle": "2021-08-22T07:17:06.230996Z",
     "shell.execute_reply": "2021-08-22T07:17:06.230512Z",
     "shell.execute_reply.started": "2021-08-16T02:22:32.282404Z"
    },
    "papermill": {
     "duration": 10.439644,
     "end_time": "2021-08-22T07:17:06.231129",
     "exception": false,
     "start_time": "2021-08-22T07:16:55.791485",
     "status": "completed"
    },
    "tags": []
   },
   "outputs": [],
   "source": [
    "scale_features = [col for col in test.columns if 'f' in col]\n",
    "\n",
    "ss = StandardScaler()\n",
    "train[scale_features] = ss.fit_transform(train[scale_features])\n",
    "test[scale_features] = ss.transform(test[scale_features])\n"
   ]
  },
  {
   "cell_type": "code",
   "execution_count": 6,
   "id": "0ec62b0e",
   "metadata": {
    "execution": {
     "iopub.execute_input": "2021-08-22T07:17:06.262740Z",
     "iopub.status.busy": "2021-08-22T07:17:06.261875Z",
     "iopub.status.idle": "2021-08-22T07:17:06.264614Z",
     "shell.execute_reply": "2021-08-22T07:17:06.264215Z"
    },
    "papermill": {
     "duration": 0.021158,
     "end_time": "2021-08-22T07:17:06.264718",
     "exception": false,
     "start_time": "2021-08-22T07:17:06.243560",
     "status": "completed"
    },
    "tags": []
   },
   "outputs": [],
   "source": [
    "# Swap noise\n",
    "\n",
    "# Random\n",
    "def apply_noise_rn(df, p=.75):\n",
    "    should_not_swap = np.random.binomial(1, p, df.shape)\n",
    "    corrupted_df = df.where(should_not_swap == 1, np.random.permutation(df))\n",
    "    return corrupted_df\n",
    "\n",
    "# Row-wise\n",
    "def apply_noise_row(df, p=.75):\n",
    "    should_not_swap = np.zeros(df.shape)\n",
    "    for i in range(df.shape[0]):\n",
    "        for j in np.random.choice(df.shape[1],int(p*df.shape[1]),replace=False):\n",
    "            should_not_swap[i,j]=1 \n",
    "    corrupted_df = df.where(should_not_swap == 1, np.random.permutation(df))\n",
    "    return corrupted_df\n",
    "    "
   ]
  },
  {
   "cell_type": "markdown",
   "id": "6a3bd4a5",
   "metadata": {
    "papermill": {
     "duration": 0.012062,
     "end_time": "2021-08-22T07:17:06.289527",
     "exception": false,
     "start_time": "2021-08-22T07:17:06.277465",
     "status": "completed"
    },
    "tags": []
   },
   "source": [
    "# Pseudo Label"
   ]
  },
  {
   "cell_type": "code",
   "execution_count": 7,
   "id": "724ff57f",
   "metadata": {
    "execution": {
     "iopub.execute_input": "2021-08-22T07:17:06.317705Z",
     "iopub.status.busy": "2021-08-22T07:17:06.317170Z",
     "iopub.status.idle": "2021-08-22T07:17:06.988095Z",
     "shell.execute_reply": "2021-08-22T07:17:06.987037Z",
     "shell.execute_reply.started": "2021-08-16T02:22:44.236101Z"
    },
    "papermill": {
     "duration": 0.686779,
     "end_time": "2021-08-22T07:17:06.988281",
     "exception": false,
     "start_time": "2021-08-22T07:17:06.301502",
     "status": "completed"
    },
    "tags": []
   },
   "outputs": [],
   "source": [
    "pseudo = pd.read_csv(\"../input/tps-aug-2021-lgbm-xgb-catboost/submission.csv\")[target]\n",
    "test_pseudo = pd.concat([test, pseudo], axis=1)\n",
    "all_pseudo = pd.concat([train, test_pseudo]).reset_index(drop=True)"
   ]
  },
  {
   "cell_type": "markdown",
   "id": "a185c4b4",
   "metadata": {
    "papermill": {
     "duration": 0.012146,
     "end_time": "2021-08-22T07:17:07.012833",
     "exception": false,
     "start_time": "2021-08-22T07:17:07.000687",
     "status": "completed"
    },
    "tags": []
   },
   "source": [
    "# LGB"
   ]
  },
  {
   "cell_type": "code",
   "execution_count": 8,
   "id": "d94292ca",
   "metadata": {
    "execution": {
     "iopub.execute_input": "2021-08-22T07:17:07.043134Z",
     "iopub.status.busy": "2021-08-22T07:17:07.041892Z",
     "iopub.status.idle": "2021-08-22T07:17:07.044235Z",
     "shell.execute_reply": "2021-08-22T07:17:07.044663Z"
    },
    "papermill": {
     "duration": 0.019952,
     "end_time": "2021-08-22T07:17:07.044794",
     "exception": false,
     "start_time": "2021-08-22T07:17:07.024842",
     "status": "completed"
    },
    "tags": []
   },
   "outputs": [],
   "source": [
    "lgb_params = {\n",
    "    'objective': 'regression',\n",
    "    'metric': 'rmse',\n",
    "    'n_estimators': N_ESTIMATORS,\n",
    "    'random_state': SEED,\n",
    "    'importance_type': 'gain',\n",
    "    'device': 'gpu',\n",
    "    'gpu_platform_id': 0,\n",
    "    'gpu_device_id': 0,\n",
    "    \n",
    "    'learning_rate': 0.01042317371433061,\n",
    "     'subsample': 0.5578423448253642,\n",
    "     'colsample_bytree': 0.6092268400425587,\n",
    "     'subsample_freq': 2,\n",
    "     'reg_lambda': 2.773524452534491,\n",
    "     'reg_alpha': 4.957414541010295,\n",
    "     'min_child_weight': 350.7509252088729,\n",
    "     'min_child_samples': 6\n",
    "}\n"
   ]
  },
  {
   "cell_type": "code",
   "execution_count": 9,
   "id": "597f1cba",
   "metadata": {
    "execution": {
     "iopub.execute_input": "2021-08-22T07:17:07.083369Z",
     "iopub.status.busy": "2021-08-22T07:17:07.082541Z",
     "iopub.status.idle": "2021-08-22T10:37:47.064117Z",
     "shell.execute_reply": "2021-08-22T10:37:47.064859Z"
    },
    "papermill": {
     "duration": 12040.007953,
     "end_time": "2021-08-22T10:37:47.065064",
     "exception": false,
     "start_time": "2021-08-22T07:17:07.057111",
     "status": "completed"
    },
    "tags": []
   },
   "outputs": [
    {
     "name": "stdout",
     "output_type": "stream",
     "text": [
      "===== fold 0 =====\n",
      "Training until validation scores don't improve for 200 rounds\n",
      "[1000]\tvalid_0's rmse: 7.79692\n",
      "[2000]\tvalid_0's rmse: 7.78446\n",
      "[3000]\tvalid_0's rmse: 7.78059\n",
      "[4000]\tvalid_0's rmse: 7.77736\n",
      "[5000]\tvalid_0's rmse: 7.77467\n",
      "Early stopping, best iteration is:\n",
      "[5157]\tvalid_0's rmse: 7.77427\n",
      "Training until validation scores don't improve for 200 rounds\n",
      "[6000]\tvalid_0's rmse: 7.77412\n",
      "[7000]\tvalid_0's rmse: 7.77385\n",
      "Early stopping, best iteration is:\n",
      "[6841]\tvalid_0's rmse: 7.77384\n",
      "Training until validation scores don't improve for 200 rounds\n",
      "[1000]\tvalid_0's rmse: 7.7966\n",
      "[2000]\tvalid_0's rmse: 7.78427\n",
      "[3000]\tvalid_0's rmse: 7.77996\n",
      "[4000]\tvalid_0's rmse: 7.77788\n",
      "[5000]\tvalid_0's rmse: 7.77591\n",
      "Early stopping, best iteration is:\n",
      "[5564]\tvalid_0's rmse: 7.77471\n",
      "Training until validation scores don't improve for 200 rounds\n",
      "Early stopping, best iteration is:\n",
      "[5617]\tvalid_0's rmse: 7.77469\n",
      "Training until validation scores don't improve for 200 rounds\n",
      "[1000]\tvalid_0's rmse: 7.79581\n",
      "[2000]\tvalid_0's rmse: 7.78296\n",
      "[3000]\tvalid_0's rmse: 7.77929\n",
      "[4000]\tvalid_0's rmse: 7.77698\n",
      "[5000]\tvalid_0's rmse: 7.77515\n",
      "[6000]\tvalid_0's rmse: 7.77355\n",
      "Early stopping, best iteration is:\n",
      "[5853]\tvalid_0's rmse: 7.77327\n",
      "Training until validation scores don't improve for 200 rounds\n",
      "[6000]\tvalid_0's rmse: 7.77325\n",
      "Early stopping, best iteration is:\n",
      "[6308]\tvalid_0's rmse: 7.77318\n",
      "fold 0 - lgb rmse: 7.772165, elapsed time: 1108.38sec\n",
      "\n",
      "===== fold 1 =====\n",
      "Training until validation scores don't improve for 200 rounds\n",
      "[1000]\tvalid_0's rmse: 7.74627\n",
      "[2000]\tvalid_0's rmse: 7.73652\n",
      "[3000]\tvalid_0's rmse: 7.73357\n",
      "Early stopping, best iteration is:\n",
      "[3213]\tvalid_0's rmse: 7.73281\n",
      "Training until validation scores don't improve for 200 rounds\n",
      "Early stopping, best iteration is:\n",
      "[3466]\tvalid_0's rmse: 7.73275\n",
      "Training until validation scores don't improve for 200 rounds\n",
      "[1000]\tvalid_0's rmse: 7.74686\n",
      "[2000]\tvalid_0's rmse: 7.73694\n",
      "[3000]\tvalid_0's rmse: 7.73303\n",
      "[4000]\tvalid_0's rmse: 7.73102\n",
      "[5000]\tvalid_0's rmse: 7.72907\n",
      "[6000]\tvalid_0's rmse: 7.72796\n",
      "[7000]\tvalid_0's rmse: 7.72668\n",
      "Early stopping, best iteration is:\n",
      "[6899]\tvalid_0's rmse: 7.72649\n",
      "Training until validation scores don't improve for 200 rounds\n",
      "[7000]\tvalid_0's rmse: 7.72648\n",
      "[8000]\tvalid_0's rmse: 7.72629\n",
      "Early stopping, best iteration is:\n",
      "[8164]\tvalid_0's rmse: 7.72626\n",
      "Training until validation scores don't improve for 200 rounds\n",
      "[1000]\tvalid_0's rmse: 7.74677\n",
      "[2000]\tvalid_0's rmse: 7.73579\n",
      "[3000]\tvalid_0's rmse: 7.73275\n",
      "[4000]\tvalid_0's rmse: 7.72994\n",
      "Early stopping, best iteration is:\n",
      "[4676]\tvalid_0's rmse: 7.72903\n",
      "Training until validation scores don't improve for 200 rounds\n",
      "[5000]\tvalid_0's rmse: 7.72898\n",
      "Early stopping, best iteration is:\n",
      "[5661]\tvalid_0's rmse: 7.72888\n",
      "fold 1 - lgb rmse: 7.727393, elapsed time: 1001.62sec\n",
      "\n",
      "===== fold 2 =====\n",
      "Training until validation scores don't improve for 200 rounds\n",
      "[1000]\tvalid_0's rmse: 7.85587\n",
      "[2000]\tvalid_0's rmse: 7.84073\n",
      "[3000]\tvalid_0's rmse: 7.83532\n",
      "[4000]\tvalid_0's rmse: 7.83191\n",
      "[5000]\tvalid_0's rmse: 7.8297\n",
      "Early stopping, best iteration is:\n",
      "[4934]\tvalid_0's rmse: 7.82956\n",
      "Training until validation scores don't improve for 200 rounds\n",
      "[5000]\tvalid_0's rmse: 7.82952\n",
      "[6000]\tvalid_0's rmse: 7.82934\n",
      "Early stopping, best iteration is:\n",
      "[5901]\tvalid_0's rmse: 7.82931\n",
      "Training until validation scores don't improve for 200 rounds\n",
      "[1000]\tvalid_0's rmse: 7.85463\n",
      "[2000]\tvalid_0's rmse: 7.84014\n",
      "[3000]\tvalid_0's rmse: 7.83471\n",
      "[4000]\tvalid_0's rmse: 7.83168\n",
      "Early stopping, best iteration is:\n",
      "[4516]\tvalid_0's rmse: 7.8292\n",
      "Training until validation scores don't improve for 200 rounds\n",
      "Early stopping, best iteration is:\n",
      "[4560]\tvalid_0's rmse: 7.8292\n",
      "Training until validation scores don't improve for 200 rounds\n",
      "[1000]\tvalid_0's rmse: 7.85547\n",
      "[2000]\tvalid_0's rmse: 7.84062\n",
      "[3000]\tvalid_0's rmse: 7.83528\n",
      "[4000]\tvalid_0's rmse: 7.83182\n",
      "[5000]\tvalid_0's rmse: 7.82868\n",
      "[6000]\tvalid_0's rmse: 7.82672\n",
      "Early stopping, best iteration is:\n",
      "[6503]\tvalid_0's rmse: 7.82563\n",
      "Training until validation scores don't improve for 200 rounds\n",
      "[7000]\tvalid_0's rmse: 7.82557\n",
      "[8000]\tvalid_0's rmse: 7.82541\n",
      "Early stopping, best iteration is:\n",
      "[8269]\tvalid_0's rmse: 7.82533\n",
      "fold 2 - lgb rmse: 7.826235, elapsed time: 1076.76sec\n",
      "\n",
      "===== fold 3 =====\n",
      "Training until validation scores don't improve for 200 rounds\n",
      "[1000]\tvalid_0's rmse: 7.79885\n",
      "[2000]\tvalid_0's rmse: 7.7856\n",
      "[3000]\tvalid_0's rmse: 7.78155\n",
      "[4000]\tvalid_0's rmse: 7.77954\n",
      "[5000]\tvalid_0's rmse: 7.77724\n",
      "Early stopping, best iteration is:\n",
      "[4947]\tvalid_0's rmse: 7.77706\n",
      "Training until validation scores don't improve for 200 rounds\n",
      "[5000]\tvalid_0's rmse: 7.77704\n",
      "[6000]\tvalid_0's rmse: 7.77682\n",
      "[7000]\tvalid_0's rmse: 7.77668\n",
      "[8000]\tvalid_0's rmse: 7.77652\n",
      "Early stopping, best iteration is:\n",
      "[7850]\tvalid_0's rmse: 7.7765\n",
      "Training until validation scores don't improve for 200 rounds\n",
      "[1000]\tvalid_0's rmse: 7.79826\n",
      "[2000]\tvalid_0's rmse: 7.78632\n",
      "[3000]\tvalid_0's rmse: 7.78153\n",
      "[4000]\tvalid_0's rmse: 7.77879\n",
      "Early stopping, best iteration is:\n",
      "[4699]\tvalid_0's rmse: 7.77694\n",
      "Training until validation scores don't improve for 200 rounds\n",
      "[5000]\tvalid_0's rmse: 7.77689\n",
      "[6000]\tvalid_0's rmse: 7.77666\n",
      "[7000]\tvalid_0's rmse: 7.77648\n",
      "Early stopping, best iteration is:\n",
      "[7354]\tvalid_0's rmse: 7.77637\n",
      "Training until validation scores don't improve for 200 rounds\n",
      "[1000]\tvalid_0's rmse: 7.79938\n",
      "[2000]\tvalid_0's rmse: 7.78621\n",
      "[3000]\tvalid_0's rmse: 7.78287\n",
      "[4000]\tvalid_0's rmse: 7.78052\n",
      "Early stopping, best iteration is:\n",
      "[4655]\tvalid_0's rmse: 7.77896\n",
      "Training until validation scores don't improve for 200 rounds\n",
      "[5000]\tvalid_0's rmse: 7.77887\n",
      "Early stopping, best iteration is:\n",
      "[4995]\tvalid_0's rmse: 7.77886\n",
      "fold 3 - lgb rmse: 7.775707, elapsed time: 1099.36sec\n",
      "\n",
      "===== fold 4 =====\n",
      "Training until validation scores don't improve for 200 rounds\n",
      "[1000]\tvalid_0's rmse: 7.80992\n",
      "[2000]\tvalid_0's rmse: 7.79659\n",
      "[3000]\tvalid_0's rmse: 7.79123\n",
      "[4000]\tvalid_0's rmse: 7.78769\n",
      "[5000]\tvalid_0's rmse: 7.78573\n",
      "[6000]\tvalid_0's rmse: 7.78355\n",
      "[7000]\tvalid_0's rmse: 7.78181\n",
      "Early stopping, best iteration is:\n",
      "[6802]\tvalid_0's rmse: 7.78169\n",
      "Training until validation scores don't improve for 200 rounds\n",
      "[7000]\tvalid_0's rmse: 7.78167\n",
      "[8000]\tvalid_0's rmse: 7.78148\n",
      "[9000]\tvalid_0's rmse: 7.78131\n",
      "Early stopping, best iteration is:\n",
      "[9080]\tvalid_0's rmse: 7.7813\n",
      "Training until validation scores don't improve for 200 rounds\n",
      "[1000]\tvalid_0's rmse: 7.8106\n",
      "[2000]\tvalid_0's rmse: 7.79637\n",
      "[3000]\tvalid_0's rmse: 7.78985\n",
      "[4000]\tvalid_0's rmse: 7.78655\n",
      "[5000]\tvalid_0's rmse: 7.78428\n",
      "[6000]\tvalid_0's rmse: 7.78208\n",
      "[7000]\tvalid_0's rmse: 7.77929\n",
      "Early stopping, best iteration is:\n",
      "[7074]\tvalid_0's rmse: 7.77908\n",
      "Training until validation scores don't improve for 200 rounds\n",
      "Early stopping, best iteration is:\n",
      "[7520]\tvalid_0's rmse: 7.779\n",
      "Training until validation scores don't improve for 200 rounds\n",
      "[1000]\tvalid_0's rmse: 7.8105\n",
      "[2000]\tvalid_0's rmse: 7.79711\n",
      "[3000]\tvalid_0's rmse: 7.79164\n",
      "[4000]\tvalid_0's rmse: 7.78828\n",
      "[5000]\tvalid_0's rmse: 7.7865\n",
      "[6000]\tvalid_0's rmse: 7.78466\n",
      "Early stopping, best iteration is:\n",
      "[6694]\tvalid_0's rmse: 7.78295\n",
      "Training until validation scores don't improve for 200 rounds\n",
      "[7000]\tvalid_0's rmse: 7.78289\n",
      "[8000]\tvalid_0's rmse: 7.78263\n",
      "[9000]\tvalid_0's rmse: 7.78248\n",
      "[10000]\tvalid_0's rmse: 7.78225\n",
      "Early stopping, best iteration is:\n",
      "[10258]\tvalid_0's rmse: 7.78216\n",
      "fold 4 - lgb rmse: 7.778786, elapsed time: 1411.38sec\n",
      "\n",
      "===== fold 5 =====\n",
      "Training until validation scores don't improve for 200 rounds\n",
      "[1000]\tvalid_0's rmse: 7.86901\n",
      "[2000]\tvalid_0's rmse: 7.85377\n",
      "[3000]\tvalid_0's rmse: 7.84849\n",
      "[4000]\tvalid_0's rmse: 7.84491\n",
      "[5000]\tvalid_0's rmse: 7.8428\n",
      "[6000]\tvalid_0's rmse: 7.84137\n",
      "Early stopping, best iteration is:\n",
      "[6222]\tvalid_0's rmse: 7.84082\n",
      "Training until validation scores don't improve for 200 rounds\n",
      "[7000]\tvalid_0's rmse: 7.84064\n",
      "Early stopping, best iteration is:\n",
      "[7441]\tvalid_0's rmse: 7.84052\n",
      "Training until validation scores don't improve for 200 rounds\n",
      "[1000]\tvalid_0's rmse: 7.86759\n",
      "[2000]\tvalid_0's rmse: 7.85244\n",
      "[3000]\tvalid_0's rmse: 7.84629\n",
      "[4000]\tvalid_0's rmse: 7.84298\n",
      "[5000]\tvalid_0's rmse: 7.83993\n",
      "[6000]\tvalid_0's rmse: 7.83861\n",
      "Early stopping, best iteration is:\n",
      "[6354]\tvalid_0's rmse: 7.83778\n",
      "Training until validation scores don't improve for 200 rounds\n",
      "[7000]\tvalid_0's rmse: 7.83766\n",
      "Early stopping, best iteration is:\n",
      "[7719]\tvalid_0's rmse: 7.83752\n",
      "Training until validation scores don't improve for 200 rounds\n",
      "[1000]\tvalid_0's rmse: 7.86806\n",
      "[2000]\tvalid_0's rmse: 7.85198\n",
      "[3000]\tvalid_0's rmse: 7.84558\n",
      "[4000]\tvalid_0's rmse: 7.8422\n",
      "[5000]\tvalid_0's rmse: 7.83996\n",
      "Early stopping, best iteration is:\n",
      "[4853]\tvalid_0's rmse: 7.83977\n",
      "Training until validation scores don't improve for 200 rounds\n",
      "[5000]\tvalid_0's rmse: 7.83973\n",
      "[6000]\tvalid_0's rmse: 7.8395\n",
      "Early stopping, best iteration is:\n",
      "[5924]\tvalid_0's rmse: 7.8395\n",
      "fold 5 - lgb rmse: 7.837338, elapsed time: 1192.67sec\n",
      "\n",
      "===== fold 6 =====\n",
      "Training until validation scores don't improve for 200 rounds\n",
      "[1000]\tvalid_0's rmse: 7.91325\n",
      "[2000]\tvalid_0's rmse: 7.89799\n",
      "[3000]\tvalid_0's rmse: 7.89183\n",
      "[4000]\tvalid_0's rmse: 7.88781\n",
      "[5000]\tvalid_0's rmse: 7.88543\n",
      "Early stopping, best iteration is:\n",
      "[4994]\tvalid_0's rmse: 7.88536\n",
      "Training until validation scores don't improve for 200 rounds\n",
      "[5000]\tvalid_0's rmse: 7.88536\n",
      "[6000]\tvalid_0's rmse: 7.88504\n",
      "Early stopping, best iteration is:\n",
      "[6680]\tvalid_0's rmse: 7.88488\n",
      "Training until validation scores don't improve for 200 rounds\n",
      "[1000]\tvalid_0's rmse: 7.91208\n",
      "[2000]\tvalid_0's rmse: 7.89682\n",
      "[3000]\tvalid_0's rmse: 7.88978\n",
      "[4000]\tvalid_0's rmse: 7.88596\n",
      "Early stopping, best iteration is:\n",
      "[4698]\tvalid_0's rmse: 7.88437\n",
      "Training until validation scores don't improve for 200 rounds\n",
      "[5000]\tvalid_0's rmse: 7.88428\n",
      "[6000]\tvalid_0's rmse: 7.88411\n",
      "[7000]\tvalid_0's rmse: 7.88389\n",
      "[8000]\tvalid_0's rmse: 7.88369\n",
      "[9000]\tvalid_0's rmse: 7.8834\n",
      "Early stopping, best iteration is:\n",
      "[8992]\tvalid_0's rmse: 7.8834\n",
      "Training until validation scores don't improve for 200 rounds\n",
      "[1000]\tvalid_0's rmse: 7.91407\n",
      "[2000]\tvalid_0's rmse: 7.89778\n",
      "[3000]\tvalid_0's rmse: 7.89228\n",
      "[4000]\tvalid_0's rmse: 7.88961\n",
      "[5000]\tvalid_0's rmse: 7.88728\n",
      "Early stopping, best iteration is:\n",
      "[5632]\tvalid_0's rmse: 7.88537\n",
      "Training until validation scores don't improve for 200 rounds\n",
      "[6000]\tvalid_0's rmse: 7.88521\n",
      "[7000]\tvalid_0's rmse: 7.88503\n",
      "[8000]\tvalid_0's rmse: 7.88487\n",
      "[9000]\tvalid_0's rmse: 7.88465\n",
      "[10000]\tvalid_0's rmse: 7.88452\n",
      "Early stopping, best iteration is:\n",
      "[10160]\tvalid_0's rmse: 7.88446\n",
      "fold 6 - lgb rmse: 7.882679, elapsed time: 1284.90sec\n",
      "\n",
      "===== fold 7 =====\n",
      "Training until validation scores don't improve for 200 rounds\n",
      "[1000]\tvalid_0's rmse: 7.91084\n",
      "[2000]\tvalid_0's rmse: 7.8943\n",
      "[3000]\tvalid_0's rmse: 7.88898\n",
      "[4000]\tvalid_0's rmse: 7.88511\n",
      "[5000]\tvalid_0's rmse: 7.88347\n",
      "[6000]\tvalid_0's rmse: 7.88173\n",
      "[7000]\tvalid_0's rmse: 7.88088\n",
      "[8000]\tvalid_0's rmse: 7.88023\n",
      "Early stopping, best iteration is:\n",
      "[7935]\tvalid_0's rmse: 7.87987\n",
      "Training until validation scores don't improve for 200 rounds\n",
      "[8000]\tvalid_0's rmse: 7.87987\n",
      "[9000]\tvalid_0's rmse: 7.87969\n",
      "Early stopping, best iteration is:\n",
      "[9476]\tvalid_0's rmse: 7.87958\n",
      "Training until validation scores don't improve for 200 rounds\n",
      "[1000]\tvalid_0's rmse: 7.90891\n",
      "[2000]\tvalid_0's rmse: 7.892\n",
      "[3000]\tvalid_0's rmse: 7.88592\n",
      "[4000]\tvalid_0's rmse: 7.88265\n",
      "[5000]\tvalid_0's rmse: 7.8802\n",
      "Early stopping, best iteration is:\n",
      "[4984]\tvalid_0's rmse: 7.88011\n",
      "Training until validation scores don't improve for 200 rounds\n",
      "[5000]\tvalid_0's rmse: 7.88011\n",
      "[6000]\tvalid_0's rmse: 7.87981\n",
      "[7000]\tvalid_0's rmse: 7.87947\n",
      "[8000]\tvalid_0's rmse: 7.87936\n",
      "[9000]\tvalid_0's rmse: 7.87907\n",
      "[10000]\tvalid_0's rmse: 7.87888\n",
      "Early stopping, best iteration is:\n",
      "[10309]\tvalid_0's rmse: 7.87885\n",
      "Training until validation scores don't improve for 200 rounds\n",
      "[1000]\tvalid_0's rmse: 7.91113\n",
      "[2000]\tvalid_0's rmse: 7.89559\n",
      "[3000]\tvalid_0's rmse: 7.89029\n",
      "[4000]\tvalid_0's rmse: 7.88689\n",
      "[5000]\tvalid_0's rmse: 7.88462\n",
      "Early stopping, best iteration is:\n",
      "[5468]\tvalid_0's rmse: 7.88371\n",
      "Training until validation scores don't improve for 200 rounds\n",
      "Early stopping, best iteration is:\n",
      "[5765]\tvalid_0's rmse: 7.88364\n",
      "fold 7 - lgb rmse: 7.878708, elapsed time: 1340.98sec\n",
      "\n",
      "===== fold 8 =====\n",
      "Training until validation scores don't improve for 200 rounds\n",
      "[1000]\tvalid_0's rmse: 7.89963\n",
      "[2000]\tvalid_0's rmse: 7.88406\n",
      "[3000]\tvalid_0's rmse: 7.8785\n",
      "[4000]\tvalid_0's rmse: 7.87594\n",
      "[5000]\tvalid_0's rmse: 7.87438\n",
      "[6000]\tvalid_0's rmse: 7.87296\n",
      "[7000]\tvalid_0's rmse: 7.87175\n",
      "Early stopping, best iteration is:\n",
      "[6821]\tvalid_0's rmse: 7.87166\n",
      "Training until validation scores don't improve for 200 rounds\n",
      "[7000]\tvalid_0's rmse: 7.87165\n",
      "[8000]\tvalid_0's rmse: 7.87157\n",
      "Early stopping, best iteration is:\n",
      "[8756]\tvalid_0's rmse: 7.87143\n",
      "Training until validation scores don't improve for 200 rounds\n",
      "[1000]\tvalid_0's rmse: 7.89815\n",
      "[2000]\tvalid_0's rmse: 7.88365\n",
      "[3000]\tvalid_0's rmse: 7.87779\n",
      "[4000]\tvalid_0's rmse: 7.87466\n",
      "Early stopping, best iteration is:\n",
      "[4184]\tvalid_0's rmse: 7.8737\n",
      "Training until validation scores don't improve for 200 rounds\n",
      "[5000]\tvalid_0's rmse: 7.87346\n",
      "[6000]\tvalid_0's rmse: 7.87323\n",
      "Early stopping, best iteration is:\n",
      "[6680]\tvalid_0's rmse: 7.87309\n",
      "Training until validation scores don't improve for 200 rounds\n",
      "[1000]\tvalid_0's rmse: 7.89824\n",
      "[2000]\tvalid_0's rmse: 7.88219\n",
      "[3000]\tvalid_0's rmse: 7.87664\n",
      "[4000]\tvalid_0's rmse: 7.87369\n",
      "Early stopping, best iteration is:\n",
      "[4127]\tvalid_0's rmse: 7.87321\n",
      "Training until validation scores don't improve for 200 rounds\n",
      "[5000]\tvalid_0's rmse: 7.87301\n",
      "[6000]\tvalid_0's rmse: 7.87271\n",
      "[7000]\tvalid_0's rmse: 7.87255\n",
      "[8000]\tvalid_0's rmse: 7.87234\n",
      "Early stopping, best iteration is:\n",
      "[8188]\tvalid_0's rmse: 7.87231\n",
      "fold 8 - lgb rmse: 7.870530, elapsed time: 1198.28sec\n",
      "\n",
      "===== fold 9 =====\n",
      "Training until validation scores don't improve for 200 rounds\n",
      "[1000]\tvalid_0's rmse: 7.87829\n",
      "[2000]\tvalid_0's rmse: 7.86352\n",
      "[3000]\tvalid_0's rmse: 7.85814\n",
      "[4000]\tvalid_0's rmse: 7.85486\n",
      "[5000]\tvalid_0's rmse: 7.85268\n",
      "[6000]\tvalid_0's rmse: 7.85135\n",
      "Early stopping, best iteration is:\n",
      "[6687]\tvalid_0's rmse: 7.85009\n",
      "Training until validation scores don't improve for 200 rounds\n",
      "[7000]\tvalid_0's rmse: 7.84997\n",
      "[8000]\tvalid_0's rmse: 7.8498\n",
      "Early stopping, best iteration is:\n",
      "[7895]\tvalid_0's rmse: 7.84978\n",
      "Training until validation scores don't improve for 200 rounds\n",
      "[1000]\tvalid_0's rmse: 7.87823\n",
      "[2000]\tvalid_0's rmse: 7.86359\n",
      "[3000]\tvalid_0's rmse: 7.85855\n",
      "[4000]\tvalid_0's rmse: 7.85518\n",
      "[5000]\tvalid_0's rmse: 7.85316\n",
      "Early stopping, best iteration is:\n",
      "[4923]\tvalid_0's rmse: 7.85314\n",
      "Training until validation scores don't improve for 200 rounds\n",
      "[5000]\tvalid_0's rmse: 7.85312\n",
      "[6000]\tvalid_0's rmse: 7.85291\n",
      "[7000]\tvalid_0's rmse: 7.85268\n",
      "Early stopping, best iteration is:\n",
      "[7748]\tvalid_0's rmse: 7.85245\n",
      "Training until validation scores don't improve for 200 rounds\n",
      "[1000]\tvalid_0's rmse: 7.87838\n",
      "[2000]\tvalid_0's rmse: 7.86391\n",
      "[3000]\tvalid_0's rmse: 7.85861\n",
      "[4000]\tvalid_0's rmse: 7.85548\n",
      "[5000]\tvalid_0's rmse: 7.85357\n",
      "[6000]\tvalid_0's rmse: 7.85199\n",
      "[7000]\tvalid_0's rmse: 7.85086\n",
      "Early stopping, best iteration is:\n",
      "[7080]\tvalid_0's rmse: 7.85048\n",
      "Training until validation scores don't improve for 200 rounds\n",
      "[8000]\tvalid_0's rmse: 7.8503\n",
      "Early stopping, best iteration is:\n",
      "[8742]\tvalid_0's rmse: 7.85013\n",
      "fold 9 - lgb rmse: 7.848847, elapsed time: 1319.40sec\n",
      "\n",
      "oof lgb_rmse = 7.8200431611501555\n"
     ]
    }
   ],
   "source": [
    "lgb_oof = np.zeros(train.shape[0])\n",
    "lgb_pred = np.zeros(test.shape[0])\n",
    "lgb_importances = pd.DataFrame()\n",
    "\n",
    "\n",
    "kf = KFold(n_splits=N_SPLITS, shuffle=True, random_state=CVSEED)\n",
    "seed_list=[SEED, SEED+1, SEED+2]\n",
    "\n",
    "for fold, (trn_idx, val_idx) in enumerate(kf.split(X=all_pseudo[scale_features], y=all_pseudo[target])):\n",
    "    print(f\"===== fold {fold} =====\")\n",
    "    \n",
    "    oof_idx = np.array([idx for idx in val_idx if idx < train.shape[0]])\n",
    "    preds_idx = np.array([idx for idx in val_idx if idx >= train.shape[0]])\n",
    "    \n",
    "    X_train, y_train = all_pseudo[scale_features].iloc[trn_idx], all_pseudo[target].iloc[trn_idx]\n",
    "    #X_train = apply_noise_row(X_train)\n",
    "    \n",
    "    X_valid, y_valid = all_pseudo[scale_features].iloc[oof_idx], all_pseudo[target].iloc[oof_idx]\n",
    "    X_test = all_pseudo[scale_features].iloc[preds_idx]\n",
    "    \n",
    "    # LGB\n",
    "    start = time.time()\n",
    "    \n",
    "    for inseed in seed_list:\n",
    "        lgb_params['random_state'] = inseed\n",
    "    \n",
    "        pre_model = lgb.LGBMRegressor(**lgb_params)\n",
    "        pre_model.fit(\n",
    "            X_train, \n",
    "            y_train,\n",
    "            eval_set=[(X_valid, y_valid)],\n",
    "            eval_metric='rmse',\n",
    "            early_stopping_rounds=EARLY_STOPPING_ROUNDS,\n",
    "            verbose=VERBOSE,\n",
    "        )\n",
    "\n",
    "        lgb_params2 = lgb_params.copy()\n",
    "        lgb_params2['reg_lambda'] *= 0.9\n",
    "        lgb_params2['reg_alpha'] *= 0.9\n",
    "        lgb_params2['learning_rate'] *= 0.1\n",
    "        model = lgb.LGBMRegressor(**lgb_params2)\n",
    "        model.fit(\n",
    "                X_train, y_train,\n",
    "                eval_set=[(X_valid, y_valid)],\n",
    "                eval_metric='rmse',\n",
    "                early_stopping_rounds=EARLY_STOPPING_ROUNDS,\n",
    "                verbose=VERBOSE,\n",
    "                init_model=pre_model\n",
    "        )    \n",
    "\n",
    "        #with open(f\"lgb_model{fold}.pkl\", 'wb') as f:\n",
    "        #    pickle.dump(model, f)\n",
    "\n",
    "        fi_tmp = pd.DataFrame()\n",
    "        fi_tmp['feature'] = model.feature_name_\n",
    "        fi_tmp['importance'] = model.feature_importances_\n",
    "        fi_tmp['fold'] = fold\n",
    "        fi_tmp['seed'] = inseed\n",
    "        lgb_importances = lgb_importances.append(fi_tmp)\n",
    "\n",
    "        lgb_oof[oof_idx] += model.predict(X_valid) / len(seed_list)\n",
    "        lgb_pred[preds_idx-train.shape[0]] += model.predict(X_test) / len(seed_list)\n",
    "    \n",
    "    elapsed = time.time() - start\n",
    "    rmse = mean_squared_error(y_valid, lgb_oof[oof_idx], squared=False)\n",
    "    print(f\"fold {fold} - lgb rmse: {rmse:.6f}, elapsed time: {elapsed:.2f}sec\\n\")\n",
    "\n",
    "        \n",
    "print(f\"oof lgb_rmse = {mean_squared_error(train[target], lgb_oof, squared=False)}\")\n",
    "\n",
    "np.save(\"lgb_oof.npy\", lgb_oof)\n",
    "np.save(\"lgb_pred.npy\", lgb_pred)\n"
   ]
  },
  {
   "cell_type": "markdown",
   "id": "09b36d24",
   "metadata": {
    "papermill": {
     "duration": 0.100852,
     "end_time": "2021-08-22T10:37:47.268760",
     "exception": false,
     "start_time": "2021-08-22T10:37:47.167908",
     "status": "completed"
    },
    "tags": []
   },
   "source": [
    "# OOF predictions"
   ]
  },
  {
   "cell_type": "code",
   "execution_count": 10,
   "id": "35d0455e",
   "metadata": {
    "execution": {
     "iopub.execute_input": "2021-08-22T10:37:47.488838Z",
     "iopub.status.busy": "2021-08-22T10:37:47.485166Z",
     "iopub.status.idle": "2021-08-22T10:37:48.389796Z",
     "shell.execute_reply": "2021-08-22T10:37:48.390219Z"
    },
    "papermill": {
     "duration": 1.018706,
     "end_time": "2021-08-22T10:37:48.390364",
     "exception": false,
     "start_time": "2021-08-22T10:37:47.371658",
     "status": "completed"
    },
    "tags": []
   },
   "outputs": [
    {
     "data": {
      "text/plain": [
       "<matplotlib.collections.PathCollection at 0x7f512898abd0>"
      ]
     },
     "execution_count": 10,
     "metadata": {},
     "output_type": "execute_result"
    },
    {
     "data": {
      "image/png": "[encoded data removed]",
      "text/plain": [
       "<Figure size 432x288 with 1 Axes>"
      ]
     },
     "metadata": {
      "needs_background": "light"
     },
     "output_type": "display_data"
    }
   ],
   "source": [
    "plt.plot(train[target], train[target])\n",
    "plt.scatter(train[target], lgb_oof)"
   ]
  },
  {
   "cell_type": "markdown",
   "id": "90acf001",
   "metadata": {
    "papermill": {
     "duration": 0.101643,
     "end_time": "2021-08-22T10:37:48.593774",
     "exception": false,
     "start_time": "2021-08-22T10:37:48.492131",
     "status": "completed"
    },
    "tags": []
   },
   "source": [
    "# Features importances"
   ]
  },
  {
   "cell_type": "code",
   "execution_count": 11,
   "id": "4da1ac30",
   "metadata": {
    "execution": {
     "iopub.execute_input": "2021-08-22T10:37:48.806098Z",
     "iopub.status.busy": "2021-08-22T10:37:48.805568Z",
     "iopub.status.idle": "2021-08-22T10:37:50.620512Z",
     "shell.execute_reply": "2021-08-22T10:37:50.620002Z"
    },
    "papermill": {
     "duration": 1.924887,
     "end_time": "2021-08-22T10:37:50.620656",
     "exception": false,
     "start_time": "2021-08-22T10:37:48.695769",
     "status": "completed"
    },
    "tags": []
   },
   "outputs": [
    {
     "data": {
      "text/plain": [
       "Text(0.5, 1.0, 'LightGBM feature importances')"
      ]
     },
     "execution_count": 11,
     "metadata": {},
     "output_type": "execute_result"
    },
    {
     "data": {
      "image/png": "[encoded data removed]",
      "text/plain": [
       "<Figure size 1152x1152 with 1 Axes>"
      ]
     },
     "metadata": {
      "needs_background": "light"
     },
     "output_type": "display_data"
    }
   ],
   "source": [
    "order = list(lgb_importances.groupby('feature').mean().sort_values('importance', ascending=False).index)\n",
    "\n",
    "fig = plt.figure(figsize=(16, 16), tight_layout=True)\n",
    "sns.barplot(x=\"importance\", y=\"feature\", data=lgb_importances.groupby('feature').mean().reset_index(), order=order)\n",
    "plt.title(\"LightGBM feature importances\")"
   ]
  },
  {
   "cell_type": "markdown",
   "id": "90b49178",
   "metadata": {
    "papermill": {
     "duration": 0.10703,
     "end_time": "2021-08-22T10:37:50.845283",
     "exception": false,
     "start_time": "2021-08-22T10:37:50.738253",
     "status": "completed"
    },
    "tags": []
   },
   "source": [
    "# Submission"
   ]
  },
  {
   "cell_type": "code",
   "execution_count": 12,
   "id": "a7a9fad0",
   "metadata": {
    "execution": {
     "iopub.execute_input": "2021-08-22T10:37:51.065820Z",
     "iopub.status.busy": "2021-08-22T10:37:51.065054Z",
     "iopub.status.idle": "2021-08-22T10:37:51.547646Z",
     "shell.execute_reply": "2021-08-22T10:37:51.548142Z"
    },
    "papermill": {
     "duration": 0.595545,
     "end_time": "2021-08-22T10:37:51.548329",
     "exception": false,
     "start_time": "2021-08-22T10:37:50.952784",
     "status": "completed"
    },
    "tags": []
   },
   "outputs": [
    {
     "data": {
      "text/html": [
       "<div>\n",
       "<style scoped>\n",
       "    .dataframe tbody tr th:only-of-type {\n",
       "        vertical-align: middle;\n",
       "    }\n",
       "\n",
       "    .dataframe tbody tr th {\n",
       "        vertical-align: top;\n",
       "    }\n",
       "\n",
       "    .dataframe thead th {\n",
       "        text-align: right;\n",
       "    }\n",
       "</style>\n",
       "<table border=\"1\" class=\"dataframe\">\n",
       "  <thead>\n",
       "    <tr style=\"text-align: right;\">\n",
       "      <th></th>\n",
       "      <th>id</th>\n",
       "      <th>loss</th>\n",
       "    </tr>\n",
       "  </thead>\n",
       "  <tbody>\n",
       "    <tr>\n",
       "      <th>0</th>\n",
       "      <td>250000</td>\n",
       "      <td>8.241294</td>\n",
       "    </tr>\n",
       "    <tr>\n",
       "      <th>1</th>\n",
       "      <td>250001</td>\n",
       "      <td>4.875881</td>\n",
       "    </tr>\n",
       "    <tr>\n",
       "      <th>2</th>\n",
       "      <td>250002</td>\n",
       "      <td>8.696612</td>\n",
       "    </tr>\n",
       "    <tr>\n",
       "      <th>3</th>\n",
       "      <td>250003</td>\n",
       "      <td>7.709024</td>\n",
       "    </tr>\n",
       "    <tr>\n",
       "      <th>4</th>\n",
       "      <td>250004</td>\n",
       "      <td>7.133701</td>\n",
       "    </tr>\n",
       "    <tr>\n",
       "      <th>...</th>\n",
       "      <td>...</td>\n",
       "      <td>...</td>\n",
       "    </tr>\n",
       "    <tr>\n",
       "      <th>149995</th>\n",
       "      <td>399995</td>\n",
       "      <td>8.193676</td>\n",
       "    </tr>\n",
       "    <tr>\n",
       "      <th>149996</th>\n",
       "      <td>399996</td>\n",
       "      <td>7.680385</td>\n",
       "    </tr>\n",
       "    <tr>\n",
       "      <th>149997</th>\n",
       "      <td>399997</td>\n",
       "      <td>6.086693</td>\n",
       "    </tr>\n",
       "    <tr>\n",
       "      <th>149998</th>\n",
       "      <td>399998</td>\n",
       "      <td>5.459294</td>\n",
       "    </tr>\n",
       "    <tr>\n",
       "      <th>149999</th>\n",
       "      <td>399999</td>\n",
       "      <td>7.011911</td>\n",
       "    </tr>\n",
       "  </tbody>\n",
       "</table>\n",
       "<p>150000 rows × 2 columns</p>\n",
       "</div>"
      ],
      "text/plain": [
       "            id      loss\n",
       "0       250000  8.241294\n",
       "1       250001  4.875881\n",
       "2       250002  8.696612\n",
       "3       250003  7.709024\n",
       "4       250004  7.133701\n",
       "...        ...       ...\n",
       "149995  399995  8.193676\n",
       "149996  399996  7.680385\n",
       "149997  399997  6.086693\n",
       "149998  399998  5.459294\n",
       "149999  399999  7.011911\n",
       "\n",
       "[150000 rows x 2 columns]"
      ]
     },
     "execution_count": 12,
     "metadata": {},
     "output_type": "execute_result"
    }
   ],
   "source": [
    "submission[target] = lgb_pred\n",
    "submission.to_csv(\"submission.csv\", index=False)\n",
    "\n",
    "submission"
   ]
  }
 ],
 "metadata": {
  "kernelspec": {
   "display_name": "Python 3",
   "language": "python",
   "name": "python3"
  },
  "language_info": {
   "codemirror_mode": {
    "name": "ipython",
    "version": 3
   },
   "file_extension": ".py",
   "mimetype": "text/x-python",
   "name": "python",
   "nbconvert_exporter": "python",
   "pygments_lexer": "ipython3",
   "version": "3.7.10"
  },
  "papermill": {
   "default_parameters": {},
   "duration": 12077.212984,
   "end_time": "2021-08-22T10:37:53.333956",
   "environment_variables": {},
   "exception": null,
   "input_path": "__notebook__.ipynb",
   "output_path": "__notebook__.ipynb",
   "parameters": {},
   "start_time": "2021-08-22T07:16:36.120972",
   "version": "2.3.3"
  }
 },
 "nbformat": 4,
 "nbformat_minor": 5
}
