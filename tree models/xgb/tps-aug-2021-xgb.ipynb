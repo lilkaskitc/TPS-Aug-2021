{
 "cells": [
  {
   "cell_type": "markdown",
   "id": "ffb908f1",
   "metadata": {
    "papermill": {
     "duration": 0.012599,
     "end_time": "2021-08-22T23:26:09.119468",
     "exception": false,
     "start_time": "2021-08-22T23:26:09.106869",
     "status": "completed"
    },
    "tags": []
   },
   "source": [
    "# Libraries"
   ]
  },
  {
   "cell_type": "code",
   "execution_count": 1,
   "id": "2ee42618",
   "metadata": {
    "_cell_guid": "b1076dfc-b9ad-4769-8c92-a6c4dae69d19",
    "_uuid": "8f2839f25d086af736a60e9eeb907d3b93b6e0e5",
    "execution": {
     "iopub.execute_input": "2021-08-22T23:26:09.155539Z",
     "iopub.status.busy": "2021-08-22T23:26:09.154817Z",
     "iopub.status.idle": "2021-08-22T23:26:10.107148Z",
     "shell.execute_reply": "2021-08-22T23:26:10.106124Z",
     "shell.execute_reply.started": "2021-08-16T02:22:18.744068Z"
    },
    "papermill": {
     "duration": 0.976306,
     "end_time": "2021-08-22T23:26:10.107352",
     "exception": false,
     "start_time": "2021-08-22T23:26:09.131046",
     "status": "completed"
    },
    "tags": []
   },
   "outputs": [],
   "source": [
    "from pathlib import Path\n",
    "import pandas as pd\n",
    "import numpy as np\n",
    "import pickle\n",
    "import random\n",
    "import time\n",
    "import os\n",
    "\n",
    "from sklearn.preprocessing import StandardScaler\n",
    "from sklearn.model_selection import KFold\n",
    "from sklearn.metrics import mean_squared_error\n",
    "\n",
    "from scipy.optimize import minimize\n",
    "\n",
    "#import lightgbm as lgb\n",
    "import xgboost as xgb\n",
    "#import catboost as ctb\n",
    "#from sklearn.linear_model import Ridge\n",
    "\n",
    "import matplotlib.pyplot as plt\n",
    "import seaborn as sns\n",
    "\n",
    "import warnings\n",
    "warnings.simplefilter('ignore')"
   ]
  },
  {
   "cell_type": "markdown",
   "id": "cd762000",
   "metadata": {
    "papermill": {
     "duration": 0.011218,
     "end_time": "2021-08-22T23:26:10.130200",
     "exception": false,
     "start_time": "2021-08-22T23:26:10.118982",
     "status": "completed"
    },
    "tags": []
   },
   "source": [
    "# Parameters"
   ]
  },
  {
   "cell_type": "code",
   "execution_count": 2,
   "id": "1f3e184f",
   "metadata": {
    "execution": {
     "iopub.execute_input": "2021-08-22T23:26:10.158215Z",
     "iopub.status.busy": "2021-08-22T23:26:10.157430Z",
     "iopub.status.idle": "2021-08-22T23:26:10.160117Z",
     "shell.execute_reply": "2021-08-22T23:26:10.159720Z"
    },
    "papermill": {
     "duration": 0.018759,
     "end_time": "2021-08-22T23:26:10.160222",
     "exception": false,
     "start_time": "2021-08-22T23:26:10.141463",
     "status": "completed"
    },
    "tags": []
   },
   "outputs": [],
   "source": [
    "target = 'loss'\n",
    "\n",
    "DEBUG = False\n",
    "\n",
    "if DEBUG:\n",
    "    N_ESTIMATORS = 1\n",
    "    N_SPLITS = 2\n",
    "    SEED = 17\n",
    "    CVSEED = 17\n",
    "    EARLY_STOPPING_ROUNDS = 1\n",
    "    VERBOSE = 100\n",
    "    #N_ITERS = 2\n",
    "else:\n",
    "    N_SPLITS = 10\n",
    "    N_ESTIMATORS = 10000\n",
    "    EARLY_STOPPING_ROUNDS = 200\n",
    "    VERBOSE = 1000\n",
    "    SEED = 17\n",
    "    CVSEED = 17\n",
    "    #N_ITERS = 10"
   ]
  },
  {
   "cell_type": "code",
   "execution_count": 3,
   "id": "27db4231",
   "metadata": {
    "execution": {
     "iopub.execute_input": "2021-08-22T23:26:10.187039Z",
     "iopub.status.busy": "2021-08-22T23:26:10.186537Z",
     "iopub.status.idle": "2021-08-22T23:26:10.190018Z",
     "shell.execute_reply": "2021-08-22T23:26:10.190432Z"
    },
    "papermill": {
     "duration": 0.018988,
     "end_time": "2021-08-22T23:26:10.190551",
     "exception": false,
     "start_time": "2021-08-22T23:26:10.171563",
     "status": "completed"
    },
    "tags": []
   },
   "outputs": [],
   "source": [
    "def set_seed(seed=17):\n",
    "    random.seed(seed)\n",
    "    os.environ['PYTHONHASHSEED'] = str(seed)\n",
    "    np.random.seed(seed)\n",
    "    \n",
    "set_seed(SEED)"
   ]
  },
  {
   "cell_type": "markdown",
   "id": "9712f962",
   "metadata": {
    "papermill": {
     "duration": 0.011264,
     "end_time": "2021-08-22T23:26:10.213185",
     "exception": false,
     "start_time": "2021-08-22T23:26:10.201921",
     "status": "completed"
    },
    "tags": []
   },
   "source": [
    "# Datasets"
   ]
  },
  {
   "cell_type": "code",
   "execution_count": 4,
   "id": "7a61b098",
   "metadata": {
    "execution": {
     "iopub.execute_input": "2021-08-22T23:26:10.241002Z",
     "iopub.status.busy": "2021-08-22T23:26:10.240317Z",
     "iopub.status.idle": "2021-08-22T23:26:20.099078Z",
     "shell.execute_reply": "2021-08-22T23:26:20.097979Z",
     "shell.execute_reply.started": "2021-08-16T02:22:21.609605Z"
    },
    "papermill": {
     "duration": 9.874249,
     "end_time": "2021-08-22T23:26:20.099208",
     "exception": false,
     "start_time": "2021-08-22T23:26:10.224959",
     "status": "completed"
    },
    "tags": []
   },
   "outputs": [],
   "source": [
    "INPUT = Path(\"../input/tabular-playground-series-aug-2021\")\n",
    "\n",
    "train = pd.read_csv(INPUT / \"train.csv\")\n",
    "test = pd.read_csv(INPUT / \"test.csv\")\n",
    "submission = pd.read_csv(INPUT / \"sample_submission.csv\")\n"
   ]
  },
  {
   "cell_type": "markdown",
   "id": "ca2804db",
   "metadata": {
    "papermill": {
     "duration": 0.011687,
     "end_time": "2021-08-22T23:26:20.122767",
     "exception": false,
     "start_time": "2021-08-22T23:26:20.111080",
     "status": "completed"
    },
    "tags": []
   },
   "source": [
    "# Preprocessing"
   ]
  },
  {
   "cell_type": "code",
   "execution_count": 5,
   "id": "5bef941b",
   "metadata": {
    "execution": {
     "iopub.execute_input": "2021-08-22T23:26:20.223402Z",
     "iopub.status.busy": "2021-08-22T23:26:20.222062Z",
     "iopub.status.idle": "2021-08-22T23:26:30.979888Z",
     "shell.execute_reply": "2021-08-22T23:26:30.980350Z",
     "shell.execute_reply.started": "2021-08-16T02:22:32.282404Z"
    },
    "papermill": {
     "duration": 10.84625,
     "end_time": "2021-08-22T23:26:30.980541",
     "exception": false,
     "start_time": "2021-08-22T23:26:20.134291",
     "status": "completed"
    },
    "tags": []
   },
   "outputs": [],
   "source": [
    "scale_features = [col for col in test.columns if 'f' in col]\n",
    "\n",
    "ss = StandardScaler()\n",
    "train[scale_features] = ss.fit_transform(train[scale_features])\n",
    "test[scale_features] = ss.transform(test[scale_features])\n"
   ]
  },
  {
   "cell_type": "code",
   "execution_count": 6,
   "id": "5abb5a2d",
   "metadata": {
    "execution": {
     "iopub.execute_input": "2021-08-22T23:26:31.011090Z",
     "iopub.status.busy": "2021-08-22T23:26:31.010447Z",
     "iopub.status.idle": "2021-08-22T23:26:31.013254Z",
     "shell.execute_reply": "2021-08-22T23:26:31.013655Z"
    },
    "papermill": {
     "duration": 0.021064,
     "end_time": "2021-08-22T23:26:31.013783",
     "exception": false,
     "start_time": "2021-08-22T23:26:30.992719",
     "status": "completed"
    },
    "tags": []
   },
   "outputs": [],
   "source": [
    "# Swap noise\n",
    "\n",
    "# Random\n",
    "def apply_noise_rn(df, p=.75):\n",
    "    should_not_swap = np.random.binomial(1, p, df.shape)\n",
    "    corrupted_df = df.where(should_not_swap == 1, np.random.permutation(df))\n",
    "    return corrupted_df\n",
    "\n",
    "# Row-wise\n",
    "def apply_noise_row(df, p=.75):\n",
    "    should_not_swap = np.zeros(df.shape)\n",
    "    for i in range(df.shape[0]):\n",
    "        for j in np.random.choice(df.shape[1],int(p*df.shape[1]),replace=False):\n",
    "            should_not_swap[i,j]=1 \n",
    "    corrupted_df = df.where(should_not_swap == 1, np.random.permutation(df))\n",
    "    return corrupted_df\n",
    "    "
   ]
  },
  {
   "cell_type": "markdown",
   "id": "81245688",
   "metadata": {
    "papermill": {
     "duration": 0.011755,
     "end_time": "2021-08-22T23:26:31.037056",
     "exception": false,
     "start_time": "2021-08-22T23:26:31.025301",
     "status": "completed"
    },
    "tags": []
   },
   "source": [
    "# Pseudo Label"
   ]
  },
  {
   "cell_type": "code",
   "execution_count": 7,
   "id": "a620ea18",
   "metadata": {
    "execution": {
     "iopub.execute_input": "2021-08-22T23:26:31.065872Z",
     "iopub.status.busy": "2021-08-22T23:26:31.065309Z",
     "iopub.status.idle": "2021-08-22T23:26:31.717589Z",
     "shell.execute_reply": "2021-08-22T23:26:31.716967Z",
     "shell.execute_reply.started": "2021-08-16T02:22:44.236101Z"
    },
    "papermill": {
     "duration": 0.668791,
     "end_time": "2021-08-22T23:26:31.717771",
     "exception": false,
     "start_time": "2021-08-22T23:26:31.048980",
     "status": "completed"
    },
    "tags": []
   },
   "outputs": [],
   "source": [
    "pseudo = pd.read_csv(\"../input/tps-aug-2021-lgbm-xgb-catboost/submission.csv\")[target]\n",
    "test_pseudo = pd.concat([test, pseudo], axis=1)\n",
    "all_pseudo = pd.concat([train, test_pseudo]).reset_index(drop=True)"
   ]
  },
  {
   "cell_type": "markdown",
   "id": "903e112d",
   "metadata": {
    "papermill": {
     "duration": 0.011484,
     "end_time": "2021-08-22T23:26:31.741143",
     "exception": false,
     "start_time": "2021-08-22T23:26:31.729659",
     "status": "completed"
    },
    "tags": []
   },
   "source": [
    "# XGB"
   ]
  },
  {
   "cell_type": "code",
   "execution_count": 8,
   "id": "02fcee1d",
   "metadata": {
    "execution": {
     "iopub.execute_input": "2021-08-22T23:26:31.769507Z",
     "iopub.status.busy": "2021-08-22T23:26:31.768761Z",
     "iopub.status.idle": "2021-08-22T23:26:31.771588Z",
     "shell.execute_reply": "2021-08-22T23:26:31.771167Z"
    },
    "papermill": {
     "duration": 0.018909,
     "end_time": "2021-08-22T23:26:31.771697",
     "exception": false,
     "start_time": "2021-08-22T23:26:31.752788",
     "status": "completed"
    },
    "tags": []
   },
   "outputs": [],
   "source": [
    "xgb_params = {\n",
    "    'objective': 'reg:squarederror',    \n",
    "    'seed': SEED,   \n",
    "    'n_estimators': N_ESTIMATORS,\n",
    "    'importance_type': 'total_gain',\n",
    "    'tree_method': 'gpu_hist',    \n",
    "    \n",
    "    'learning_rate': 0.004456183434811274, \n",
    "    'subsample': 0.7193486774183349, \n",
    "    'colsample_bytree': 0.4976929879139919,\n",
    "    'max_depth': 16, \n",
    "    'lambda': 11.052431489457067,\n",
    "    'alpha': 25.908000014344125, \n",
    "    'min_child_weight': 342.6638701552546\n",
    "}\n"
   ]
  },
  {
   "cell_type": "code",
   "execution_count": 9,
   "id": "dd77ad0f",
   "metadata": {
    "execution": {
     "iopub.execute_input": "2021-08-22T23:26:31.808998Z",
     "iopub.status.busy": "2021-08-22T23:26:31.808164Z",
     "iopub.status.idle": "2021-08-23T06:03:18.103294Z",
     "shell.execute_reply": "2021-08-23T06:03:18.103738Z"
    },
    "papermill": {
     "duration": 23806.320477,
     "end_time": "2021-08-23T06:03:18.103894",
     "exception": false,
     "start_time": "2021-08-22T23:26:31.783417",
     "status": "completed"
    },
    "tags": []
   },
   "outputs": [
    {
     "name": "stdout",
     "output_type": "stream",
     "text": [
      "===== fold 0 =====\n",
      "[0]\tvalidation_0-rmse:10.08962\n",
      "[1000]\tvalidation_0-rmse:7.80255\n",
      "[2000]\tvalidation_0-rmse:7.78396\n",
      "[3000]\tvalidation_0-rmse:7.77621\n",
      "[4000]\tvalidation_0-rmse:7.77165\n",
      "[5000]\tvalidation_0-rmse:7.76917\n",
      "[6000]\tvalidation_0-rmse:7.76754\n",
      "[6915]\tvalidation_0-rmse:7.76657\n",
      "[0]\tvalidation_0-rmse:7.76660\n",
      "[596]\tvalidation_0-rmse:7.76652\n",
      "[0]\tvalidation_0-rmse:10.08957\n",
      "[1000]\tvalidation_0-rmse:7.80309\n",
      "[2000]\tvalidation_0-rmse:7.78462\n",
      "[3000]\tvalidation_0-rmse:7.77710\n",
      "[4000]\tvalidation_0-rmse:7.77329\n",
      "[5000]\tvalidation_0-rmse:7.77110\n",
      "[6000]\tvalidation_0-rmse:7.76987\n",
      "[6662]\tvalidation_0-rmse:7.76958\n",
      "[0]\tvalidation_0-rmse:7.76958\n",
      "[1000]\tvalidation_0-rmse:7.76945\n",
      "[1200]\tvalidation_0-rmse:7.76947\n",
      "[0]\tvalidation_0-rmse:10.08955\n",
      "[1000]\tvalidation_0-rmse:7.80172\n",
      "[2000]\tvalidation_0-rmse:7.78292\n",
      "[3000]\tvalidation_0-rmse:7.77514\n",
      "[4000]\tvalidation_0-rmse:7.77095\n",
      "[5000]\tvalidation_0-rmse:7.76898\n",
      "[6000]\tvalidation_0-rmse:7.76699\n",
      "[6163]\tvalidation_0-rmse:7.76699\n",
      "[0]\tvalidation_0-rmse:7.76699\n",
      "[592]\tvalidation_0-rmse:7.76693\n",
      "fold 0 - xgb rmse: 7.765753, elapsed time: 2292.85sec\n",
      "\n",
      "===== fold 1 =====\n",
      "[0]\tvalidation_0-rmse:9.97365\n",
      "[1000]\tvalidation_0-rmse:7.75127\n",
      "[2000]\tvalidation_0-rmse:7.73737\n",
      "[3000]\tvalidation_0-rmse:7.73207\n",
      "[4000]\tvalidation_0-rmse:7.72877\n",
      "[4442]\tvalidation_0-rmse:7.72832\n",
      "[0]\tvalidation_0-rmse:7.72832\n",
      "[1000]\tvalidation_0-rmse:7.72801\n",
      "[2000]\tvalidation_0-rmse:7.72775\n",
      "[3000]\tvalidation_0-rmse:7.72755\n",
      "[4000]\tvalidation_0-rmse:7.72739\n",
      "[4833]\tvalidation_0-rmse:7.72728\n",
      "[0]\tvalidation_0-rmse:9.97365\n",
      "[1000]\tvalidation_0-rmse:7.75044\n",
      "[2000]\tvalidation_0-rmse:7.73498\n",
      "[3000]\tvalidation_0-rmse:7.72954\n",
      "[4000]\tvalidation_0-rmse:7.72696\n",
      "[5000]\tvalidation_0-rmse:7.72514\n",
      "[5209]\tvalidation_0-rmse:7.72528\n",
      "[0]\tvalidation_0-rmse:7.72527\n",
      "[1000]\tvalidation_0-rmse:7.72503\n",
      "[1930]\tvalidation_0-rmse:7.72488\n",
      "[0]\tvalidation_0-rmse:9.97362\n",
      "[1000]\tvalidation_0-rmse:7.75086\n",
      "[2000]\tvalidation_0-rmse:7.73668\n",
      "[3000]\tvalidation_0-rmse:7.73023\n",
      "[4000]\tvalidation_0-rmse:7.72724\n",
      "[5000]\tvalidation_0-rmse:7.72519\n",
      "[6000]\tvalidation_0-rmse:7.72440\n",
      "[6017]\tvalidation_0-rmse:7.72432\n",
      "[0]\tvalidation_0-rmse:7.72432\n",
      "[209]\tvalidation_0-rmse:7.72434\n",
      "fold 1 - xgb rmse: 7.723868, elapsed time: 2122.79sec\n",
      "\n",
      "===== fold 2 =====\n",
      "[0]\tvalidation_0-rmse:10.12590\n",
      "[1000]\tvalidation_0-rmse:7.86306\n",
      "[2000]\tvalidation_0-rmse:7.84302\n",
      "[3000]\tvalidation_0-rmse:7.83448\n",
      "[4000]\tvalidation_0-rmse:7.82890\n",
      "[5000]\tvalidation_0-rmse:7.82597\n",
      "[6000]\tvalidation_0-rmse:7.82369\n",
      "[6528]\tvalidation_0-rmse:7.82303\n",
      "[0]\tvalidation_0-rmse:7.82303\n",
      "[533]\tvalidation_0-rmse:7.82297\n",
      "[0]\tvalidation_0-rmse:10.12594\n",
      "[1000]\tvalidation_0-rmse:7.86409\n",
      "[2000]\tvalidation_0-rmse:7.84399\n",
      "[3000]\tvalidation_0-rmse:7.83515\n",
      "[4000]\tvalidation_0-rmse:7.83089\n",
      "[5000]\tvalidation_0-rmse:7.82761\n",
      "[6000]\tvalidation_0-rmse:7.82558\n",
      "[6552]\tvalidation_0-rmse:7.82534\n",
      "[0]\tvalidation_0-rmse:7.82535\n",
      "[1000]\tvalidation_0-rmse:7.82517\n",
      "[1334]\tvalidation_0-rmse:7.82513\n",
      "[0]\tvalidation_0-rmse:10.12592\n",
      "[1000]\tvalidation_0-rmse:7.86161\n",
      "[2000]\tvalidation_0-rmse:7.84074\n",
      "[3000]\tvalidation_0-rmse:7.83225\n",
      "[4000]\tvalidation_0-rmse:7.82711\n",
      "[5000]\tvalidation_0-rmse:7.82390\n",
      "[6000]\tvalidation_0-rmse:7.82276\n",
      "[6012]\tvalidation_0-rmse:7.82277\n",
      "[0]\tvalidation_0-rmse:7.82277\n",
      "[331]\tvalidation_0-rmse:7.82275\n",
      "fold 2 - xgb rmse: 7.821778, elapsed time: 2194.38sec\n",
      "\n",
      "===== fold 3 =====\n",
      "[0]\tvalidation_0-rmse:10.05802\n",
      "[1000]\tvalidation_0-rmse:7.80425\n",
      "[2000]\tvalidation_0-rmse:7.78628\n",
      "[3000]\tvalidation_0-rmse:7.77916\n",
      "[4000]\tvalidation_0-rmse:7.77475\n",
      "[5000]\tvalidation_0-rmse:7.77246\n",
      "[6000]\tvalidation_0-rmse:7.77106\n",
      "[6256]\tvalidation_0-rmse:7.77115\n",
      "[0]\tvalidation_0-rmse:7.77114\n",
      "[407]\tvalidation_0-rmse:7.77109\n",
      "[0]\tvalidation_0-rmse:10.05797\n",
      "[1000]\tvalidation_0-rmse:7.80448\n",
      "[2000]\tvalidation_0-rmse:7.78548\n",
      "[3000]\tvalidation_0-rmse:7.77761\n",
      "[4000]\tvalidation_0-rmse:7.77359\n",
      "[4432]\tvalidation_0-rmse:7.77315\n",
      "[0]\tvalidation_0-rmse:7.77315\n",
      "[1000]\tvalidation_0-rmse:7.77287\n",
      "[2000]\tvalidation_0-rmse:7.77261\n",
      "[3000]\tvalidation_0-rmse:7.77231\n",
      "[4000]\tvalidation_0-rmse:7.77202\n",
      "[5000]\tvalidation_0-rmse:7.77181\n",
      "[5564]\tvalidation_0-rmse:7.77171\n",
      "[0]\tvalidation_0-rmse:10.05797\n",
      "[1000]\tvalidation_0-rmse:7.80448\n",
      "[2000]\tvalidation_0-rmse:7.78688\n",
      "[3000]\tvalidation_0-rmse:7.77916\n",
      "[4000]\tvalidation_0-rmse:7.77490\n",
      "[5000]\tvalidation_0-rmse:7.77194\n",
      "[6000]\tvalidation_0-rmse:7.77102\n",
      "[6052]\tvalidation_0-rmse:7.77098\n",
      "[0]\tvalidation_0-rmse:7.77098\n",
      "[483]\tvalidation_0-rmse:7.77097\n",
      "fold 3 - xgb rmse: 7.769546, elapsed time: 2210.87sec\n",
      "\n",
      "===== fold 4 =====\n",
      "[0]\tvalidation_0-rmse:10.06271\n",
      "[1000]\tvalidation_0-rmse:7.81620\n",
      "[2000]\tvalidation_0-rmse:7.79819\n",
      "[3000]\tvalidation_0-rmse:7.78887\n",
      "[4000]\tvalidation_0-rmse:7.78408\n",
      "[5000]\tvalidation_0-rmse:7.78101\n",
      "[6000]\tvalidation_0-rmse:7.77894\n",
      "[6691]\tvalidation_0-rmse:7.77801\n",
      "[0]\tvalidation_0-rmse:7.77799\n",
      "[985]\tvalidation_0-rmse:7.77783\n",
      "[0]\tvalidation_0-rmse:10.06269\n",
      "[1000]\tvalidation_0-rmse:7.81667\n",
      "[2000]\tvalidation_0-rmse:7.79667\n",
      "[3000]\tvalidation_0-rmse:7.78748\n",
      "[4000]\tvalidation_0-rmse:7.78292\n",
      "[5000]\tvalidation_0-rmse:7.78010\n",
      "[6000]\tvalidation_0-rmse:7.77774\n",
      "[7000]\tvalidation_0-rmse:7.77615\n",
      "[7424]\tvalidation_0-rmse:7.77595\n",
      "[0]\tvalidation_0-rmse:7.77596\n",
      "[416]\tvalidation_0-rmse:7.77597\n",
      "[0]\tvalidation_0-rmse:10.06267\n",
      "[1000]\tvalidation_0-rmse:7.81555\n",
      "[2000]\tvalidation_0-rmse:7.79669\n",
      "[3000]\tvalidation_0-rmse:7.78863\n",
      "[4000]\tvalidation_0-rmse:7.78419\n",
      "[5000]\tvalidation_0-rmse:7.78028\n",
      "[6000]\tvalidation_0-rmse:7.77779\n",
      "[7000]\tvalidation_0-rmse:7.77747\n",
      "[7019]\tvalidation_0-rmse:7.77740\n",
      "[0]\tvalidation_0-rmse:7.77740\n",
      "[502]\tvalidation_0-rmse:7.77735\n",
      "fold 4 - xgb rmse: 7.775060, elapsed time: 2402.60sec\n",
      "\n",
      "===== fold 5 =====\n",
      "[0]\tvalidation_0-rmse:10.14769\n",
      "[1000]\tvalidation_0-rmse:7.87367\n",
      "[2000]\tvalidation_0-rmse:7.85197\n",
      "[3000]\tvalidation_0-rmse:7.84310\n",
      "[4000]\tvalidation_0-rmse:7.83849\n",
      "[5000]\tvalidation_0-rmse:7.83688\n",
      "[5068]\tvalidation_0-rmse:7.83688\n",
      "[0]\tvalidation_0-rmse:7.83688\n",
      "[1000]\tvalidation_0-rmse:7.83679\n",
      "[1087]\tvalidation_0-rmse:7.83679\n",
      "[0]\tvalidation_0-rmse:10.14773\n",
      "[1000]\tvalidation_0-rmse:7.87485\n",
      "[2000]\tvalidation_0-rmse:7.85365\n",
      "[3000]\tvalidation_0-rmse:7.84432\n",
      "[4000]\tvalidation_0-rmse:7.83997\n",
      "[5000]\tvalidation_0-rmse:7.83694\n",
      "[6000]\tvalidation_0-rmse:7.83568\n",
      "[6736]\tvalidation_0-rmse:7.83501\n",
      "[0]\tvalidation_0-rmse:7.83501\n",
      "[675]\tvalidation_0-rmse:7.83488\n",
      "[0]\tvalidation_0-rmse:10.14762\n",
      "[1000]\tvalidation_0-rmse:7.87416\n",
      "[2000]\tvalidation_0-rmse:7.85245\n",
      "[3000]\tvalidation_0-rmse:7.84493\n",
      "[4000]\tvalidation_0-rmse:7.84066\n",
      "[5000]\tvalidation_0-rmse:7.83816\n",
      "[5676]\tvalidation_0-rmse:7.83739\n",
      "[0]\tvalidation_0-rmse:7.83739\n",
      "[1000]\tvalidation_0-rmse:7.83723\n",
      "[2000]\tvalidation_0-rmse:7.83711\n",
      "[3000]\tvalidation_0-rmse:7.83696\n",
      "[4000]\tvalidation_0-rmse:7.83679\n",
      "[4053]\tvalidation_0-rmse:7.83679\n",
      "fold 5 - xgb rmse: 7.834406, elapsed time: 2241.28sec\n",
      "\n",
      "===== fold 6 =====\n",
      "[0]\tvalidation_0-rmse:10.21874\n",
      "[1000]\tvalidation_0-rmse:7.92058\n",
      "[2000]\tvalidation_0-rmse:7.89890\n",
      "[3000]\tvalidation_0-rmse:7.88926\n",
      "[4000]\tvalidation_0-rmse:7.88384\n",
      "[5000]\tvalidation_0-rmse:7.88134\n",
      "[6000]\tvalidation_0-rmse:7.87890\n",
      "[7000]\tvalidation_0-rmse:7.87696\n",
      "[8000]\tvalidation_0-rmse:7.87527\n",
      "[8091]\tvalidation_0-rmse:7.87528\n",
      "[0]\tvalidation_0-rmse:7.87528\n",
      "[599]\tvalidation_0-rmse:7.87524\n",
      "[0]\tvalidation_0-rmse:10.21876\n",
      "[1000]\tvalidation_0-rmse:7.92072\n",
      "[2000]\tvalidation_0-rmse:7.89799\n",
      "[3000]\tvalidation_0-rmse:7.88741\n",
      "[4000]\tvalidation_0-rmse:7.88215\n",
      "[5000]\tvalidation_0-rmse:7.87868\n",
      "[6000]\tvalidation_0-rmse:7.87594\n",
      "[6343]\tvalidation_0-rmse:7.87556\n",
      "[0]\tvalidation_0-rmse:7.87556\n",
      "[482]\tvalidation_0-rmse:7.87554\n",
      "[0]\tvalidation_0-rmse:10.21869\n",
      "[1000]\tvalidation_0-rmse:7.92221\n",
      "[2000]\tvalidation_0-rmse:7.89922\n",
      "[3000]\tvalidation_0-rmse:7.88883\n",
      "[4000]\tvalidation_0-rmse:7.88366\n",
      "[5000]\tvalidation_0-rmse:7.88089\n",
      "[6000]\tvalidation_0-rmse:7.87883\n",
      "[7000]\tvalidation_0-rmse:7.87660\n",
      "[7104]\tvalidation_0-rmse:7.87669\n",
      "[0]\tvalidation_0-rmse:7.87667\n",
      "[1000]\tvalidation_0-rmse:7.87656\n",
      "[1264]\tvalidation_0-rmse:7.87656\n",
      "fold 6 - xgb rmse: 7.873747, elapsed time: 2478.94sec\n",
      "\n",
      "===== fold 7 =====\n",
      "[0]\tvalidation_0-rmse:10.20674\n",
      "[1000]\tvalidation_0-rmse:7.91843\n",
      "[2000]\tvalidation_0-rmse:7.89590\n",
      "[3000]\tvalidation_0-rmse:7.88679\n",
      "[4000]\tvalidation_0-rmse:7.88095\n",
      "[5000]\tvalidation_0-rmse:7.87818\n",
      "[5987]\tvalidation_0-rmse:7.87669\n",
      "[0]\tvalidation_0-rmse:7.87669\n",
      "[1000]\tvalidation_0-rmse:7.87652\n",
      "[2000]\tvalidation_0-rmse:7.87640\n",
      "[2400]\tvalidation_0-rmse:7.87636\n",
      "[0]\tvalidation_0-rmse:10.20678\n",
      "[1000]\tvalidation_0-rmse:7.91898\n",
      "[2000]\tvalidation_0-rmse:7.89576\n",
      "[3000]\tvalidation_0-rmse:7.88692\n",
      "[4000]\tvalidation_0-rmse:7.88279\n",
      "[5000]\tvalidation_0-rmse:7.87946\n",
      "[6000]\tvalidation_0-rmse:7.87698\n",
      "[7000]\tvalidation_0-rmse:7.87557\n",
      "[7225]\tvalidation_0-rmse:7.87567\n",
      "[0]\tvalidation_0-rmse:7.87567\n",
      "[271]\tvalidation_0-rmse:7.87569\n",
      "[0]\tvalidation_0-rmse:10.20667\n",
      "[1000]\tvalidation_0-rmse:7.91942\n",
      "[2000]\tvalidation_0-rmse:7.89780\n",
      "[3000]\tvalidation_0-rmse:7.88845\n",
      "[4000]\tvalidation_0-rmse:7.88344\n",
      "[5000]\tvalidation_0-rmse:7.88079\n",
      "[5148]\tvalidation_0-rmse:7.88105\n",
      "[0]\tvalidation_0-rmse:7.88102\n",
      "[1000]\tvalidation_0-rmse:7.88076\n",
      "[1218]\tvalidation_0-rmse:7.88075\n",
      "fold 7 - xgb rmse: 7.875737, elapsed time: 2219.62sec\n",
      "\n",
      "===== fold 8 =====\n",
      "[0]\tvalidation_0-rmse:10.18865\n",
      "[1000]\tvalidation_0-rmse:7.90521\n",
      "[2000]\tvalidation_0-rmse:7.88286\n",
      "[3000]\tvalidation_0-rmse:7.87323\n",
      "[4000]\tvalidation_0-rmse:7.86881\n",
      "[5000]\tvalidation_0-rmse:7.86602\n",
      "[6000]\tvalidation_0-rmse:7.86431\n",
      "[6395]\tvalidation_0-rmse:7.86413\n",
      "[0]\tvalidation_0-rmse:7.86413\n",
      "[1000]\tvalidation_0-rmse:7.86400\n",
      "[2000]\tvalidation_0-rmse:7.86382\n",
      "[2224]\tvalidation_0-rmse:7.86385\n",
      "[0]\tvalidation_0-rmse:10.18860\n",
      "[1000]\tvalidation_0-rmse:7.90510\n",
      "[2000]\tvalidation_0-rmse:7.88348\n",
      "[3000]\tvalidation_0-rmse:7.87401\n",
      "[4000]\tvalidation_0-rmse:7.86866\n",
      "[5000]\tvalidation_0-rmse:7.86717\n",
      "[6000]\tvalidation_0-rmse:7.86552\n",
      "[6113]\tvalidation_0-rmse:7.86573\n",
      "[0]\tvalidation_0-rmse:7.86572\n",
      "[1000]\tvalidation_0-rmse:7.86554\n",
      "[2000]\tvalidation_0-rmse:7.86534\n",
      "[3000]\tvalidation_0-rmse:7.86515\n",
      "[3328]\tvalidation_0-rmse:7.86512\n",
      "[0]\tvalidation_0-rmse:10.18857\n",
      "[1000]\tvalidation_0-rmse:7.90437\n",
      "[2000]\tvalidation_0-rmse:7.88148\n",
      "[3000]\tvalidation_0-rmse:7.87322\n",
      "[4000]\tvalidation_0-rmse:7.86790\n",
      "[5000]\tvalidation_0-rmse:7.86510\n",
      "[5525]\tvalidation_0-rmse:7.86491\n",
      "[0]\tvalidation_0-rmse:7.86491\n",
      "[1000]\tvalidation_0-rmse:7.86464\n",
      "[2000]\tvalidation_0-rmse:7.86449\n",
      "[2105]\tvalidation_0-rmse:7.86449\n",
      "fold 8 - xgb rmse: 7.862749, elapsed time: 2433.91sec\n",
      "\n",
      "===== fold 9 =====\n",
      "[0]\tvalidation_0-rmse:10.19420\n",
      "[1000]\tvalidation_0-rmse:7.88742\n",
      "[2000]\tvalidation_0-rmse:7.86501\n",
      "[3000]\tvalidation_0-rmse:7.85583\n",
      "[4000]\tvalidation_0-rmse:7.85024\n",
      "[5000]\tvalidation_0-rmse:7.84653\n",
      "[6000]\tvalidation_0-rmse:7.84404\n",
      "[7000]\tvalidation_0-rmse:7.84251\n",
      "[8000]\tvalidation_0-rmse:7.84154\n",
      "[9000]\tvalidation_0-rmse:7.84013\n",
      "[9999]\tvalidation_0-rmse:7.83946\n",
      "[0]\tvalidation_0-rmse:7.83946\n",
      "[1000]\tvalidation_0-rmse:7.83938\n",
      "[1043]\tvalidation_0-rmse:7.83937\n",
      "[0]\tvalidation_0-rmse:10.19424\n",
      "[1000]\tvalidation_0-rmse:7.88658\n",
      "[2000]\tvalidation_0-rmse:7.86507\n",
      "[3000]\tvalidation_0-rmse:7.85609\n",
      "[4000]\tvalidation_0-rmse:7.85054\n",
      "[5000]\tvalidation_0-rmse:7.84694\n",
      "[6000]\tvalidation_0-rmse:7.84495\n",
      "[7000]\tvalidation_0-rmse:7.84302\n",
      "[7523]\tvalidation_0-rmse:7.84214\n",
      "[0]\tvalidation_0-rmse:7.84213\n",
      "[257]\tvalidation_0-rmse:7.84212\n",
      "[0]\tvalidation_0-rmse:10.19415\n",
      "[1000]\tvalidation_0-rmse:7.88825\n",
      "[2000]\tvalidation_0-rmse:7.86500\n",
      "[3000]\tvalidation_0-rmse:7.85530\n",
      "[4000]\tvalidation_0-rmse:7.84972\n",
      "[5000]\tvalidation_0-rmse:7.84592\n",
      "[5710]\tvalidation_0-rmse:7.84462\n",
      "[0]\tvalidation_0-rmse:7.84462\n",
      "[1000]\tvalidation_0-rmse:7.84440\n",
      "[2000]\tvalidation_0-rmse:7.84417\n",
      "[3000]\tvalidation_0-rmse:7.84392\n",
      "[4000]\tvalidation_0-rmse:7.84369\n",
      "[5000]\tvalidation_0-rmse:7.84348\n",
      "[6000]\tvalidation_0-rmse:7.84324\n",
      "[7000]\tvalidation_0-rmse:7.84307\n",
      "[8000]\tvalidation_0-rmse:7.84283\n",
      "[8438]\tvalidation_0-rmse:7.84279\n",
      "fold 9 - xgb rmse: 7.839146, elapsed time: 3203.59sec\n",
      "\n",
      "oof xgb_rmse = 7.814373940525064\n"
     ]
    }
   ],
   "source": [
    "xgb_oof = np.zeros(train.shape[0])\n",
    "xgb_pred = np.zeros(test.shape[0])\n",
    "xgb_importances = pd.DataFrame()\n",
    "\n",
    "\n",
    "kf = KFold(n_splits=N_SPLITS, shuffle=True, random_state=CVSEED)\n",
    "seed_list=[SEED, SEED+1, SEED+2]\n",
    "\n",
    "for fold, (trn_idx, val_idx) in enumerate(kf.split(X=all_pseudo[scale_features], y=all_pseudo[target])):\n",
    "    print(f\"===== fold {fold} =====\")\n",
    "    \n",
    "    oof_idx = np.array([idx for idx in val_idx if idx < train.shape[0]])\n",
    "    preds_idx = np.array([idx for idx in val_idx if idx >= train.shape[0]])\n",
    "    \n",
    "    X_train, y_train = all_pseudo[scale_features].iloc[trn_idx], all_pseudo[target].iloc[trn_idx]\n",
    "    #X_train = apply_noise_row(X_train)\n",
    "    \n",
    "    X_valid, y_valid = all_pseudo[scale_features].iloc[oof_idx], all_pseudo[target].iloc[oof_idx]\n",
    "    X_test = all_pseudo[scale_features].iloc[preds_idx]\n",
    "    \n",
    "    \n",
    "\n",
    "    # XGB       \n",
    "    start = time.time()\n",
    "    \n",
    "    for inseed in seed_list:\n",
    "        xgb_params['seed'] = inseed\n",
    "        \n",
    "        pre_model = xgb.XGBRegressor(**xgb_params)\n",
    "        pre_model.fit(\n",
    "            X_train, \n",
    "            y_train,\n",
    "            eval_set=[(X_valid, y_valid)],\n",
    "            eval_metric='rmse',\n",
    "            early_stopping_rounds=EARLY_STOPPING_ROUNDS,\n",
    "            verbose=VERBOSE\n",
    "        )\n",
    "\n",
    "\n",
    "        xgb_params2 = xgb_params.copy()\n",
    "        xgb_params2['lambda'] *= 0.9\n",
    "        xgb_params2['alpha'] *= 0.9\n",
    "        xgb_params2['learning_rate'] *= 0.1\n",
    "        model = xgb.XGBRegressor(**xgb_params2)\n",
    "        model.fit(\n",
    "                X_train, y_train,\n",
    "                eval_set=[(X_valid, y_valid)],\n",
    "                eval_metric='rmse',\n",
    "                early_stopping_rounds=EARLY_STOPPING_ROUNDS,\n",
    "                verbose=VERBOSE,\n",
    "                xgb_model=pre_model\n",
    "        )    \n",
    "\n",
    "        with open(f\"xgb_model{fold}.pkl\", 'wb') as f:\n",
    "            pickle.dump(model, f)\n",
    "\n",
    "        fi_tmp = pd.DataFrame()\n",
    "        fi_tmp['feature'] = X_train.columns\n",
    "        fi_tmp['importance'] = model.feature_importances_\n",
    "        fi_tmp['fold'] = fold\n",
    "        fi_tmp['seed'] = inseed\n",
    "        xgb_importances = xgb_importances.append(fi_tmp)\n",
    "\n",
    "        xgb_oof[oof_idx] += model.predict(X_valid) / len(seed_list)\n",
    "        xgb_pred[preds_idx-train.shape[0]] += model.predict(X_test) / len(seed_list)\n",
    "\n",
    "    elapsed = time.time() - start\n",
    "    rmse = mean_squared_error(y_valid, xgb_oof[oof_idx], squared=False)\n",
    "    print(f\"fold {fold} - xgb rmse: {rmse:.6f}, elapsed time: {elapsed:.2f}sec\\n\")\n",
    "\n",
    "    \n",
    "        \n",
    "print(f\"oof xgb_rmse = {mean_squared_error(train[target], xgb_oof, squared=False)}\")\n",
    "\n",
    "np.save(\"xgb_oof.npy\", xgb_oof)\n",
    "np.save(\"xgb_pred.npy\", xgb_pred)\n"
   ]
  },
  {
   "cell_type": "markdown",
   "id": "fcd9f09b",
   "metadata": {
    "papermill": {
     "duration": 0.09744,
     "end_time": "2021-08-23T06:03:18.299091",
     "exception": false,
     "start_time": "2021-08-23T06:03:18.201651",
     "status": "completed"
    },
    "tags": []
   },
   "source": [
    "# OOF predictions"
   ]
  },
  {
   "cell_type": "code",
   "execution_count": 10,
   "id": "2fd7351b",
   "metadata": {
    "execution": {
     "iopub.execute_input": "2021-08-23T06:03:18.516403Z",
     "iopub.status.busy": "2021-08-23T06:03:18.515767Z",
     "iopub.status.idle": "2021-08-23T06:03:19.565434Z",
     "shell.execute_reply": "2021-08-23T06:03:19.564620Z"
    },
    "papermill": {
     "duration": 1.168996,
     "end_time": "2021-08-23T06:03:19.565557",
     "exception": false,
     "start_time": "2021-08-23T06:03:18.396561",
     "status": "completed"
    },
    "tags": []
   },
   "outputs": [
    {
     "data": {
      "text/plain": [
       "<matplotlib.collections.PathCollection at 0x7f19dc805210>"
      ]
     },
     "execution_count": 10,
     "metadata": {},
     "output_type": "execute_result"
    },
    {
     "data": {
      "image/png": "[encoded data removed]",
      "text/plain": [
       "<Figure size 432x288 with 1 Axes>"
      ]
     },
     "metadata": {
      "needs_background": "light"
     },
     "output_type": "display_data"
    }
   ],
   "source": [
    "plt.plot(train[target], train[target])\n",
    "plt.scatter(train[target], xgb_oof)"
   ]
  },
  {
   "cell_type": "markdown",
   "id": "8b968f7b",
   "metadata": {
    "papermill": {
     "duration": 0.099154,
     "end_time": "2021-08-23T06:03:19.765352",
     "exception": false,
     "start_time": "2021-08-23T06:03:19.666198",
     "status": "completed"
    },
    "tags": []
   },
   "source": [
    "# Features importances"
   ]
  },
  {
   "cell_type": "code",
   "execution_count": 11,
   "id": "b74d4a8c",
   "metadata": {
    "execution": {
     "iopub.execute_input": "2021-08-23T06:03:19.980382Z",
     "iopub.status.busy": "2021-08-23T06:03:19.978339Z",
     "iopub.status.idle": "2021-08-23T06:03:21.964081Z",
     "shell.execute_reply": "2021-08-23T06:03:21.963222Z"
    },
    "papermill": {
     "duration": 2.098503,
     "end_time": "2021-08-23T06:03:21.964207",
     "exception": false,
     "start_time": "2021-08-23T06:03:19.865704",
     "status": "completed"
    },
    "tags": []
   },
   "outputs": [
    {
     "data": {
      "text/plain": [
       "Text(0.5, 1.0, 'XGBoost feature importances')"
      ]
     },
     "execution_count": 11,
     "metadata": {},
     "output_type": "execute_result"
    },
    {
     "data": {
      "image/png": "[encoded data removed]",
      "text/plain": [
       "<Figure size 1152x1152 with 1 Axes>"
      ]
     },
     "metadata": {
      "needs_background": "light"
     },
     "output_type": "display_data"
    }
   ],
   "source": [
    "order = list(xgb_importances.groupby('feature').mean().sort_values('importance', ascending=False).index)\n",
    "\n",
    "fig = plt.figure(figsize=(16, 16), tight_layout=True)\n",
    "sns.barplot(x=\"importance\", y=\"feature\", data=xgb_importances.groupby('feature').mean().reset_index(), order=order)\n",
    "plt.title(\"XGBoost feature importances\")"
   ]
  },
  {
   "cell_type": "markdown",
   "id": "9558c210",
   "metadata": {
    "papermill": {
     "duration": 0.10047,
     "end_time": "2021-08-23T06:03:22.166595",
     "exception": false,
     "start_time": "2021-08-23T06:03:22.066125",
     "status": "completed"
    },
    "tags": []
   },
   "source": [
    "# Submission"
   ]
  },
  {
   "cell_type": "code",
   "execution_count": 12,
   "id": "9b4c380b",
   "metadata": {
    "execution": {
     "iopub.execute_input": "2021-08-23T06:03:22.374279Z",
     "iopub.status.busy": "2021-08-23T06:03:22.373154Z",
     "iopub.status.idle": "2021-08-23T06:03:22.845257Z",
     "shell.execute_reply": "2021-08-23T06:03:22.845702Z"
    },
    "papermill": {
     "duration": 0.578376,
     "end_time": "2021-08-23T06:03:22.845849",
     "exception": false,
     "start_time": "2021-08-23T06:03:22.267473",
     "status": "completed"
    },
    "tags": []
   },
   "outputs": [
    {
     "data": {
      "text/html": [
       "<div>\n",
       "<style scoped>\n",
       "    .dataframe tbody tr th:only-of-type {\n",
       "        vertical-align: middle;\n",
       "    }\n",
       "\n",
       "    .dataframe tbody tr th {\n",
       "        vertical-align: top;\n",
       "    }\n",
       "\n",
       "    .dataframe thead th {\n",
       "        text-align: right;\n",
       "    }\n",
       "</style>\n",
       "<table border=\"1\" class=\"dataframe\">\n",
       "  <thead>\n",
       "    <tr style=\"text-align: right;\">\n",
       "      <th></th>\n",
       "      <th>id</th>\n",
       "      <th>loss</th>\n",
       "    </tr>\n",
       "  </thead>\n",
       "  <tbody>\n",
       "    <tr>\n",
       "      <th>0</th>\n",
       "      <td>250000</td>\n",
       "      <td>7.896606</td>\n",
       "    </tr>\n",
       "    <tr>\n",
       "      <th>1</th>\n",
       "      <td>250001</td>\n",
       "      <td>5.021981</td>\n",
       "    </tr>\n",
       "    <tr>\n",
       "      <th>2</th>\n",
       "      <td>250002</td>\n",
       "      <td>8.782863</td>\n",
       "    </tr>\n",
       "    <tr>\n",
       "      <th>3</th>\n",
       "      <td>250003</td>\n",
       "      <td>7.948441</td>\n",
       "    </tr>\n",
       "    <tr>\n",
       "      <th>4</th>\n",
       "      <td>250004</td>\n",
       "      <td>6.777964</td>\n",
       "    </tr>\n",
       "    <tr>\n",
       "      <th>...</th>\n",
       "      <td>...</td>\n",
       "      <td>...</td>\n",
       "    </tr>\n",
       "    <tr>\n",
       "      <th>149995</th>\n",
       "      <td>399995</td>\n",
       "      <td>8.324040</td>\n",
       "    </tr>\n",
       "    <tr>\n",
       "      <th>149996</th>\n",
       "      <td>399996</td>\n",
       "      <td>7.624845</td>\n",
       "    </tr>\n",
       "    <tr>\n",
       "      <th>149997</th>\n",
       "      <td>399997</td>\n",
       "      <td>6.060772</td>\n",
       "    </tr>\n",
       "    <tr>\n",
       "      <th>149998</th>\n",
       "      <td>399998</td>\n",
       "      <td>5.555998</td>\n",
       "    </tr>\n",
       "    <tr>\n",
       "      <th>149999</th>\n",
       "      <td>399999</td>\n",
       "      <td>6.545156</td>\n",
       "    </tr>\n",
       "  </tbody>\n",
       "</table>\n",
       "<p>150000 rows × 2 columns</p>\n",
       "</div>"
      ],
      "text/plain": [
       "            id      loss\n",
       "0       250000  7.896606\n",
       "1       250001  5.021981\n",
       "2       250002  8.782863\n",
       "3       250003  7.948441\n",
       "4       250004  6.777964\n",
       "...        ...       ...\n",
       "149995  399995  8.324040\n",
       "149996  399996  7.624845\n",
       "149997  399997  6.060772\n",
       "149998  399998  5.555998\n",
       "149999  399999  6.545156\n",
       "\n",
       "[150000 rows x 2 columns]"
      ]
     },
     "execution_count": 12,
     "metadata": {},
     "output_type": "execute_result"
    }
   ],
   "source": [
    "submission[target] = xgb_pred\n",
    "submission.to_csv(\"submission.csv\", index=False)\n",
    "\n",
    "submission"
   ]
  }
 ],
 "metadata": {
  "kernelspec": {
   "display_name": "Python 3",
   "language": "python",
   "name": "python3"
  },
  "language_info": {
   "codemirror_mode": {
    "name": "ipython",
    "version": 3
   },
   "file_extension": ".py",
   "mimetype": "text/x-python",
   "name": "python",
   "nbconvert_exporter": "python",
   "pygments_lexer": "ipython3",
   "version": "3.7.10"
  },
  "papermill": {
   "default_parameters": {},
   "duration": 23842.382088,
   "end_time": "2021-08-23T06:03:24.648028",
   "environment_variables": {},
   "exception": null,
   "input_path": "__notebook__.ipynb",
   "output_path": "__notebook__.ipynb",
   "parameters": {},
   "start_time": "2021-08-22T23:26:02.265940",
   "version": "2.3.3"
  }
 },
 "nbformat": 4,
 "nbformat_minor": 5
}
