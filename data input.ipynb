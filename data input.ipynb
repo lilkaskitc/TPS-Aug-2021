## Libraries

import pandas as pd
import numpy as np

## Datasets

INPUT = Path("../input/tabular-playground-series-aug-2021")

train = pd.read_csv(INPUT / "train.csv")
test = pd.read_csv(INPUT / "test.csv")
submission = pd.read_csv(INPUT / "sample_submission.csv")

target = 'loss'

scale_features = [col for col in test.columns if 'f' in col]
ss = StandardScaler()
train[scale_features] = ss.fit_transform(train[scale_features])
test[scale_features] = ss.transform(test[scale_features])

## Pseudo Label
test['loss'] = pd.read_csv("../input/xxx/submission.csv")['loss']


