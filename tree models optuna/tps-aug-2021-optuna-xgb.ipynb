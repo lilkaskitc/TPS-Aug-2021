{
 "cells": [
  {
   "cell_type": "code",
   "execution_count": 1,
   "id": "2413b770",
   "metadata": {
    "_cell_guid": "b1076dfc-b9ad-4769-8c92-a6c4dae69d19",
    "_uuid": "8f2839f25d086af736a60e9eeb907d3b93b6e0e5",
    "execution": {
     "iopub.execute_input": "2021-08-22T01:09:38.383761Z",
     "iopub.status.busy": "2021-08-22T01:09:38.382574Z",
     "iopub.status.idle": "2021-08-22T01:09:39.712152Z",
     "shell.execute_reply": "2021-08-22T01:09:39.712743Z",
     "shell.execute_reply.started": "2021-08-18T15:24:01.488404Z"
    },
    "papermill": {
     "duration": 1.348374,
     "end_time": "2021-08-22T01:09:39.713063",
     "exception": false,
     "start_time": "2021-08-22T01:09:38.364689",
     "status": "completed"
    },
    "tags": []
   },
   "outputs": [],
   "source": [
    "# Familiar imports\n",
    "import numpy as np\n",
    "import pandas as pd\n",
    "import random\n",
    "import os\n",
    "import time\n",
    "from pathlib import Path\n",
    "\n",
    "from sklearn.preprocessing import StandardScaler\n",
    "from sklearn.model_selection import KFold, train_test_split\n",
    "from sklearn.metrics import mean_squared_error\n",
    "\n",
    "#import lightgbm as lgb\n",
    "import xgboost as xgb\n",
    "#import catboost as ctb\n",
    "\n",
    "import warnings\n",
    "warnings.simplefilter('ignore')"
   ]
  },
  {
   "cell_type": "markdown",
   "id": "c95077de",
   "metadata": {
    "papermill": {
     "duration": 0.012466,
     "end_time": "2021-08-22T01:09:39.739066",
     "exception": false,
     "start_time": "2021-08-22T01:09:39.726600",
     "status": "completed"
    },
    "tags": []
   },
   "source": [
    "# Parameters"
   ]
  },
  {
   "cell_type": "code",
   "execution_count": 2,
   "id": "3067b27d",
   "metadata": {
    "execution": {
     "iopub.execute_input": "2021-08-22T01:09:39.768660Z",
     "iopub.status.busy": "2021-08-22T01:09:39.767941Z",
     "iopub.status.idle": "2021-08-22T01:09:39.773651Z",
     "shell.execute_reply": "2021-08-22T01:09:39.774212Z",
     "shell.execute_reply.started": "2021-08-18T15:24:01.599452Z"
    },
    "papermill": {
     "duration": 0.022343,
     "end_time": "2021-08-22T01:09:39.774384",
     "exception": false,
     "start_time": "2021-08-22T01:09:39.752041",
     "status": "completed"
    },
    "tags": []
   },
   "outputs": [],
   "source": [
    "target = 'loss'\n",
    "\n",
    "DEBUG = False\n",
    "\n",
    "if DEBUG:\n",
    "    N_ESTIMATORS = 1\n",
    "    N_SPLITS = 2\n",
    "    SEED = 17\n",
    "    CVSEED = 17\n",
    "    EARLY_STOPPING_ROUNDS = 1\n",
    "    VERBOSE = 100\n",
    "    #N_ITERS = 2\n",
    "else:\n",
    "    N_SPLITS = 10\n",
    "    N_ESTIMATORS = 10000\n",
    "    EARLY_STOPPING_ROUNDS = 200\n",
    "    VERBOSE = 1000\n",
    "    SEED = 17\n",
    "    CVSEED = 17\n",
    "    #N_ITERS = 10"
   ]
  },
  {
   "cell_type": "code",
   "execution_count": 3,
   "id": "70f54f91",
   "metadata": {
    "execution": {
     "iopub.execute_input": "2021-08-22T01:09:39.807059Z",
     "iopub.status.busy": "2021-08-22T01:09:39.806316Z",
     "iopub.status.idle": "2021-08-22T01:09:39.810549Z",
     "shell.execute_reply": "2021-08-22T01:09:39.809920Z",
     "shell.execute_reply.started": "2021-08-18T15:24:01.60642Z"
    },
    "papermill": {
     "duration": 0.023276,
     "end_time": "2021-08-22T01:09:39.810698",
     "exception": false,
     "start_time": "2021-08-22T01:09:39.787422",
     "status": "completed"
    },
    "tags": []
   },
   "outputs": [],
   "source": [
    "def set_seed(seed=17):\n",
    "    random.seed(seed)\n",
    "    os.environ['PYTHONHASHSEED'] = str(seed)\n",
    "    np.random.seed(seed)\n",
    "    \n",
    "set_seed(SEED)"
   ]
  },
  {
   "cell_type": "markdown",
   "id": "0a5edc3f",
   "metadata": {
    "papermill": {
     "duration": 0.012463,
     "end_time": "2021-08-22T01:09:39.836176",
     "exception": false,
     "start_time": "2021-08-22T01:09:39.823713",
     "status": "completed"
    },
    "tags": []
   },
   "source": [
    "# Load data"
   ]
  },
  {
   "cell_type": "code",
   "execution_count": 4,
   "id": "ba3893b2",
   "metadata": {
    "execution": {
     "iopub.execute_input": "2021-08-22T01:09:39.869182Z",
     "iopub.status.busy": "2021-08-22T01:09:39.868266Z",
     "iopub.status.idle": "2021-08-22T01:09:51.526746Z",
     "shell.execute_reply": "2021-08-22T01:09:51.527314Z",
     "shell.execute_reply.started": "2021-08-18T15:24:01.622423Z"
    },
    "papermill": {
     "duration": 11.678447,
     "end_time": "2021-08-22T01:09:51.527530",
     "exception": false,
     "start_time": "2021-08-22T01:09:39.849083",
     "status": "completed"
    },
    "tags": []
   },
   "outputs": [],
   "source": [
    "INPUT = Path(\"../input/tabular-playground-series-aug-2021\")\n",
    "\n",
    "train = pd.read_csv(INPUT / \"train.csv\")\n",
    "test = pd.read_csv(INPUT / \"test.csv\")\n",
    "submission = pd.read_csv(INPUT / \"sample_submission.csv\")"
   ]
  },
  {
   "cell_type": "markdown",
   "id": "0803fe02",
   "metadata": {
    "papermill": {
     "duration": 0.01281,
     "end_time": "2021-08-22T01:09:51.553707",
     "exception": false,
     "start_time": "2021-08-22T01:09:51.540897",
     "status": "completed"
    },
    "tags": []
   },
   "source": [
    "# Preprocessing"
   ]
  },
  {
   "cell_type": "code",
   "execution_count": 5,
   "id": "5fba7ced",
   "metadata": {
    "execution": {
     "iopub.execute_input": "2021-08-22T01:09:51.681363Z",
     "iopub.status.busy": "2021-08-22T01:09:51.680652Z",
     "iopub.status.idle": "2021-08-22T01:10:04.517781Z",
     "shell.execute_reply": "2021-08-22T01:10:04.517152Z",
     "shell.execute_reply.started": "2021-08-18T15:24:07.421385Z"
    },
    "papermill": {
     "duration": 12.950984,
     "end_time": "2021-08-22T01:10:04.517942",
     "exception": false,
     "start_time": "2021-08-22T01:09:51.566958",
     "status": "completed"
    },
    "tags": []
   },
   "outputs": [],
   "source": [
    "scale_features = [col for col in test.columns if 'f' in col]\n",
    "\n",
    "ss = StandardScaler()\n",
    "train[scale_features] = ss.fit_transform(train[scale_features])\n",
    "test[scale_features] = ss.transform(test[scale_features])"
   ]
  },
  {
   "cell_type": "code",
   "execution_count": 6,
   "id": "58361f41",
   "metadata": {
    "execution": {
     "iopub.execute_input": "2021-08-22T01:10:04.554018Z",
     "iopub.status.busy": "2021-08-22T01:10:04.552897Z",
     "iopub.status.idle": "2021-08-22T01:10:04.556455Z",
     "shell.execute_reply": "2021-08-22T01:10:04.555810Z",
     "shell.execute_reply.started": "2021-08-18T15:24:15.235518Z"
    },
    "papermill": {
     "duration": 0.025473,
     "end_time": "2021-08-22T01:10:04.556641",
     "exception": false,
     "start_time": "2021-08-22T01:10:04.531168",
     "status": "completed"
    },
    "tags": []
   },
   "outputs": [],
   "source": [
    "# Swap noise\n",
    "\n",
    "# Random\n",
    "def apply_noise_rn(df, p=.75):\n",
    "    should_not_swap = np.random.binomial(1, p, df.shape)\n",
    "    corrupted_df = df.where(should_not_swap == 1, np.random.permutation(df))\n",
    "    return corrupted_df\n",
    "\n",
    "# Row-wise\n",
    "def apply_noise_row(df, p=.75):\n",
    "    should_not_swap = np.zeros(df.shape)\n",
    "    for i in range(df.shape[0]):\n",
    "        for j in np.random.choice(df.shape[1],int(p*df.shape[1]),replace=False):\n",
    "            should_not_swap[i,j]=1 \n",
    "    corrupted_df = df.where(should_not_swap == 1, np.random.permutation(df))\n",
    "    return corrupted_df"
   ]
  },
  {
   "cell_type": "markdown",
   "id": "fce339d5",
   "metadata": {
    "papermill": {
     "duration": 0.012879,
     "end_time": "2021-08-22T01:10:04.582950",
     "exception": false,
     "start_time": "2021-08-22T01:10:04.570071",
     "status": "completed"
    },
    "tags": []
   },
   "source": [
    "# Pseudo Label"
   ]
  },
  {
   "cell_type": "code",
   "execution_count": 7,
   "id": "73e129df",
   "metadata": {
    "execution": {
     "iopub.execute_input": "2021-08-22T01:10:04.615849Z",
     "iopub.status.busy": "2021-08-22T01:10:04.615012Z",
     "iopub.status.idle": "2021-08-22T01:10:05.323659Z",
     "shell.execute_reply": "2021-08-22T01:10:05.322931Z",
     "shell.execute_reply.started": "2021-08-18T15:24:15.243178Z"
    },
    "papermill": {
     "duration": 0.72754,
     "end_time": "2021-08-22T01:10:05.323820",
     "exception": false,
     "start_time": "2021-08-22T01:10:04.596280",
     "status": "completed"
    },
    "tags": []
   },
   "outputs": [],
   "source": [
    "pseudo = pd.read_csv(\"../input/tps-aug-2021-lgbm-xgb-catboost/submission.csv\")[target]\n",
    "test_pseudo = pd.concat([test, pseudo], axis=1)\n",
    "all_pseudo = pd.concat([train, test_pseudo]).reset_index(drop=True)"
   ]
  },
  {
   "cell_type": "markdown",
   "id": "9af9bf21",
   "metadata": {
    "papermill": {
     "duration": 0.012581,
     "end_time": "2021-08-22T01:10:05.349453",
     "exception": false,
     "start_time": "2021-08-22T01:10:05.336872",
     "status": "completed"
    },
    "tags": []
   },
   "source": [
    "# Optuna"
   ]
  },
  {
   "cell_type": "code",
   "execution_count": 8,
   "id": "ab6868bc",
   "metadata": {
    "execution": {
     "iopub.execute_input": "2021-08-22T01:10:05.396214Z",
     "iopub.status.busy": "2021-08-22T01:10:05.380526Z",
     "iopub.status.idle": "2021-08-22T01:10:15.674623Z",
     "shell.execute_reply": "2021-08-22T01:10:15.673933Z",
     "shell.execute_reply.started": "2021-08-18T15:24:15.830378Z"
    },
    "papermill": {
     "duration": 10.312289,
     "end_time": "2021-08-22T01:10:15.674804",
     "exception": false,
     "start_time": "2021-08-22T01:10:05.362515",
     "status": "completed"
    },
    "tags": []
   },
   "outputs": [
    {
     "name": "stdout",
     "output_type": "stream",
     "text": [
      "\u001b[33mWARNING: Running pip as root will break packages and permissions. You should install packages reliably by using venv: https://pip.pypa.io/warnings/venv\u001b[0m\r\n"
     ]
    }
   ],
   "source": [
    "# Optuna for parameter search\n",
    "!pip install -q optuna\n",
    "\n",
    "import optuna\n",
    "import pickle"
   ]
  },
  {
   "cell_type": "code",
   "execution_count": 9,
   "id": "4eec0195",
   "metadata": {
    "execution": {
     "iopub.execute_input": "2021-08-22T01:10:15.723115Z",
     "iopub.status.busy": "2021-08-22T01:10:15.721226Z",
     "iopub.status.idle": "2021-08-22T01:10:16.263519Z",
     "shell.execute_reply": "2021-08-22T01:10:16.262880Z",
     "shell.execute_reply.started": "2021-08-18T15:26:41.878952Z"
    },
    "papermill": {
     "duration": 0.574612,
     "end_time": "2021-08-22T01:10:16.263687",
     "exception": false,
     "start_time": "2021-08-22T01:10:15.689075",
     "status": "completed"
    },
    "tags": []
   },
   "outputs": [],
   "source": [
    "# for the fixed learning rate, use the opt n iterations and tune the tree hyperparameters\n",
    "def objective(trial, X=all_pseudo[scale_features], y=all_pseudo[target]):\n",
    "  \"\"\"\n",
    "  \"\"\"\n",
    "  param_space = {\n",
    "               'objective': 'reg:squarederror',\n",
    "               'learning_rate':trial.suggest_uniform('learning_rate', 3.119e-3, 5.119e-3),\n",
    "               'n_estimators':N_ESTIMATORS,\n",
    "               'subsample': trial.suggest_uniform('subsample', 0.68, 0.78),\n",
    "              'colsample_bytree':trial.suggest_uniform('colsample_bytree', 0.4619, 0.5619),\n",
    "              'max_depth':trial.suggest_int('max_depth', 13, 17),\n",
    "              'lambda':trial.suggest_uniform('lambda', 9.93, 14.93),\n",
    "              'alpha':trial.suggest_uniform('alpha', 21.9, 26.9),\n",
    "           'min_child_weight':trial.suggest_uniform('min_child_weight', 340, 440),\n",
    "           'importance_type': 'total_gain',\n",
    "            'tree_method': 'hist'\n",
    "      \n",
    "               # 'subsample_freq': trial.suggest_int('subsample_freq', 1, 5),\n",
    "             #'boosting_type': 'gbdt',\n",
    "               \n",
    "                # 'min_child_samples':trial.suggest_int('min_child_samples', 5, 35),\n",
    "             # 'num_leaves':trial.suggest_int('num_leaves', 10, 200),\n",
    "              #'min_split_gain': trial.suggest_float('min_split_gain', 0.0, 0.005),\n",
    "              #'class_weight':trial.suggest_categorical('class_weight',['balanced',None]),\n",
    "              # 'n_jobs' : -1,\n",
    "                #'max_bin':trial.suggest_int('max_bin', 300, 1000),\n",
    "              #'cat_smooth':trial.suggest_int('cat_smooth', 5, 100),\n",
    "              #'cat_l2':trial.suggest_loguniform('cat_l2', 1e-3, 100)\n",
    "                }\n",
    "            \n",
    "\n",
    "  seed_list=[SEED, SEED+1]\n",
    "  #kf = KFold(n_splits=N_SPLITS, shuffle=True, random_state=CVSEED)\n",
    "  xgb_oof = np.zeros(train.shape[0])\n",
    "  #lgb_pred = np.zeros(test.shape[0])\n",
    "  X_tr, X_va, y_tr, y_va = train_test_split(X,y,test_size=.2,random_state=CVSEED)\n",
    "  trn_idx = X_tr.index\n",
    "  val_idx = X_va.index\n",
    "  \n",
    "  \n",
    "  #for (trn_idx, val_idx) in enumerate(kf.split(X, y)):\n",
    "  #print(f\"===== fold {fold} =====\")\n",
    "  oof_idx = np.array([idx for idx in val_idx if idx < train.shape[0]])\n",
    "  preds_idx = np.array([idx for idx in val_idx if idx >= train.shape[0]])\n",
    "\n",
    "  X_train, y_train = all_pseudo[scale_features].iloc[trn_idx], all_pseudo[target].iloc[trn_idx]\n",
    "  #X_train = apply_noise_rn(X_train)\n",
    "\n",
    "  X_valid, y_valid = all_pseudo[scale_features].iloc[oof_idx], all_pseudo[target].iloc[oof_idx]\n",
    "  #X_test = all_pseudo[scale_features].iloc[preds_idx]\n",
    "\n",
    "  #start = time.time()\n",
    "  for inseed in seed_list:\n",
    "    param_space['seed'] = inseed\n",
    "\n",
    "    model = xgb.XGBRegressor(**param_space)\n",
    "    model.fit(\n",
    "        X_train, \n",
    "        y_train,\n",
    "        eval_set=[(X_valid, y_valid)],\n",
    "        eval_metric='rmse',\n",
    "        early_stopping_rounds=EARLY_STOPPING_ROUNDS,\n",
    "        verbose=VERBOSE,\n",
    "    )\n",
    "\n",
    "\n",
    "    xgb_oof[oof_idx] += model.predict(X_valid) / len(seed_list)\n",
    "    #lgb_pred[preds_idx-train.shape[0]] += model.predict(X_test) / len(seed_list)\n",
    "\n",
    "  #elapsed = time.time() - start\n",
    "  rmse = mean_squared_error(y_valid, xgb_oof[oof_idx], squared=False)\n",
    "  #print(f\"fold {fold} - lgb rmse: {rmse:.6f}, elapsed time: {elapsed:.2f}sec\\n\")            \n",
    "  \n",
    "  #print(f\"oof lgb_rmse = {mean_squared_error(train[target], lgb_oof, squared=False)}\")\n",
    "\n",
    "  \n",
    "  return rmse"
   ]
  },
  {
   "cell_type": "code",
   "execution_count": 10,
   "id": "24902e57",
   "metadata": {
    "execution": {
     "iopub.execute_input": "2021-08-22T01:10:16.296649Z",
     "iopub.status.busy": "2021-08-22T01:10:16.295971Z",
     "iopub.status.idle": "2021-08-18T15:28:03.006681Z",
     "shell.execute_reply": "2021-08-18T15:28:03.004888Z",
     "shell.execute_reply.started": "2021-08-18T15:26:42.1213Z"
    },
    "papermill": {
     "duration": null,
     "end_time": null,
     "exception": false,
     "start_time": "2021-08-22T01:10:16.277129",
     "status": "running"
    },
    "tags": []
   },
   "outputs": [
    {
     "name": "stderr",
     "output_type": "stream",
     "text": [
      "\u001b[32m[I 2021-08-22 01:10:16,294]\u001b[0m A new study created in memory with name: no-name-bb591b35-2782-491f-b69b-85645241a7d9\u001b[0m\n"
     ]
    },
    {
     "name": "stdout",
     "output_type": "stream",
     "text": [
      "[0]\tvalidation_0-rmse:10.03166\n"
     ]
    },
    {
     "name": "stdout",
     "output_type": "stream",
     "text": [
      "[1000]\tvalidation_0-rmse:7.77885\n"
     ]
    },
    {
     "name": "stdout",
     "output_type": "stream",
     "text": [
      "[2000]\tvalidation_0-rmse:7.76123\n"
     ]
    },
    {
     "name": "stdout",
     "output_type": "stream",
     "text": [
      "[3000]\tvalidation_0-rmse:7.75428\n"
     ]
    },
    {
     "name": "stdout",
     "output_type": "stream",
     "text": [
      "[4000]\tvalidation_0-rmse:7.75108\n"
     ]
    },
    {
     "name": "stdout",
     "output_type": "stream",
     "text": [
      "[5000]\tvalidation_0-rmse:7.74935\n"
     ]
    },
    {
     "name": "stdout",
     "output_type": "stream",
     "text": [
      "[6000]\tvalidation_0-rmse:7.74820\n"
     ]
    },
    {
     "name": "stdout",
     "output_type": "stream",
     "text": [
      "[6354]\tvalidation_0-rmse:7.74805\n"
     ]
    },
    {
     "name": "stdout",
     "output_type": "stream",
     "text": [
      "[0]\tvalidation_0-rmse:10.03167\n"
     ]
    },
    {
     "name": "stdout",
     "output_type": "stream",
     "text": [
      "[1000]\tvalidation_0-rmse:7.77845\n"
     ]
    },
    {
     "name": "stdout",
     "output_type": "stream",
     "text": [
      "[2000]\tvalidation_0-rmse:7.76076\n"
     ]
    },
    {
     "name": "stdout",
     "output_type": "stream",
     "text": [
      "[3000]\tvalidation_0-rmse:7.75437\n"
     ]
    },
    {
     "name": "stdout",
     "output_type": "stream",
     "text": [
      "[4000]\tvalidation_0-rmse:7.75100\n"
     ]
    },
    {
     "name": "stdout",
     "output_type": "stream",
     "text": [
      "[4923]\tvalidation_0-rmse:7.74968\n"
     ]
    },
    {
     "name": "stderr",
     "output_type": "stream",
     "text": [
      "\u001b[32m[I 2021-08-22 01:51:48,243]\u001b[0m Trial 0 finished with value: 7.747616592824789 and parameters: {'learning_rate': 0.004533207635022494, 'subsample': 0.7288284366111589, 'colsample_bytree': 0.46878160112634343, 'max_depth': 14, 'lambda': 12.348038900734842, 'alpha': 22.676261890480408, 'min_child_weight': 413.031771067915}. Best is trial 0 with value: 7.747616592824789.\u001b[0m\n"
     ]
    },
    {
     "name": "stdout",
     "output_type": "stream",
     "text": [
      "[0]\tvalidation_0-rmse:10.03195\n"
     ]
    },
    {
     "name": "stdout",
     "output_type": "stream",
     "text": [
      "[1000]\tvalidation_0-rmse:7.77545\n"
     ]
    },
    {
     "name": "stdout",
     "output_type": "stream",
     "text": [
      "[2000]\tvalidation_0-rmse:7.75859\n"
     ]
    },
    {
     "name": "stdout",
     "output_type": "stream",
     "text": [
      "[3000]\tvalidation_0-rmse:7.75195\n"
     ]
    },
    {
     "name": "stdout",
     "output_type": "stream",
     "text": [
      "[4000]\tvalidation_0-rmse:7.74846\n"
     ]
    },
    {
     "name": "stdout",
     "output_type": "stream",
     "text": [
      "[5000]\tvalidation_0-rmse:7.74638\n"
     ]
    },
    {
     "name": "stdout",
     "output_type": "stream",
     "text": [
      "[6000]\tvalidation_0-rmse:7.74555\n"
     ]
    },
    {
     "name": "stdout",
     "output_type": "stream",
     "text": [
      "[6009]\tvalidation_0-rmse:7.74553\n"
     ]
    },
    {
     "name": "stdout",
     "output_type": "stream",
     "text": [
      "[0]\tvalidation_0-rmse:10.03196\n"
     ]
    },
    {
     "name": "stdout",
     "output_type": "stream",
     "text": [
      "[1000]\tvalidation_0-rmse:7.77558\n"
     ]
    },
    {
     "name": "stdout",
     "output_type": "stream",
     "text": [
      "[2000]\tvalidation_0-rmse:7.75881\n"
     ]
    },
    {
     "name": "stdout",
     "output_type": "stream",
     "text": [
      "[3000]\tvalidation_0-rmse:7.75209\n"
     ]
    },
    {
     "name": "stdout",
     "output_type": "stream",
     "text": [
      "[4000]\tvalidation_0-rmse:7.74866\n"
     ]
    },
    {
     "name": "stdout",
     "output_type": "stream",
     "text": [
      "[5000]\tvalidation_0-rmse:7.74698\n"
     ]
    },
    {
     "name": "stdout",
     "output_type": "stream",
     "text": [
      "[5468]\tvalidation_0-rmse:7.74659\n"
     ]
    },
    {
     "name": "stderr",
     "output_type": "stream",
     "text": [
      "\u001b[32m[I 2021-08-22 02:42:03,080]\u001b[0m Trial 1 finished with value: 7.744636762159451 and parameters: {'learning_rate': 0.004456183434811274, 'subsample': 0.7193486774183349, 'colsample_bytree': 0.4976929879139919, 'max_depth': 16, 'lambda': 11.052431489457067, 'alpha': 25.908000014344125, 'min_child_weight': 342.6638701552546}. Best is trial 1 with value: 7.744636762159451.\u001b[0m\n"
     ]
    },
    {
     "name": "stdout",
     "output_type": "stream",
     "text": [
      "[0]\tvalidation_0-rmse:10.03609\n"
     ]
    },
    {
     "name": "stdout",
     "output_type": "stream",
     "text": [
      "[1000]\tvalidation_0-rmse:7.78748\n"
     ]
    },
    {
     "name": "stdout",
     "output_type": "stream",
     "text": [
      "[2000]\tvalidation_0-rmse:7.76613\n"
     ]
    },
    {
     "name": "stdout",
     "output_type": "stream",
     "text": [
      "[3000]\tvalidation_0-rmse:7.75809\n"
     ]
    },
    {
     "name": "stdout",
     "output_type": "stream",
     "text": [
      "[4000]\tvalidation_0-rmse:7.75357\n"
     ]
    },
    {
     "name": "stdout",
     "output_type": "stream",
     "text": [
      "[5000]\tvalidation_0-rmse:7.75103\n"
     ]
    },
    {
     "name": "stdout",
     "output_type": "stream",
     "text": [
      "[6000]\tvalidation_0-rmse:7.74943\n"
     ]
    },
    {
     "name": "stdout",
     "output_type": "stream",
     "text": [
      "[7000]\tvalidation_0-rmse:7.74823\n"
     ]
    },
    {
     "name": "stdout",
     "output_type": "stream",
     "text": [
      "[8000]\tvalidation_0-rmse:7.74725\n"
     ]
    },
    {
     "name": "stdout",
     "output_type": "stream",
     "text": [
      "[8437]\tvalidation_0-rmse:7.74726\n"
     ]
    },
    {
     "name": "stdout",
     "output_type": "stream",
     "text": [
      "[0]\tvalidation_0-rmse:10.03612\n"
     ]
    },
    {
     "name": "stdout",
     "output_type": "stream",
     "text": [
      "[1000]\tvalidation_0-rmse:7.78773\n"
     ]
    },
    {
     "name": "stdout",
     "output_type": "stream",
     "text": [
      "[2000]\tvalidation_0-rmse:7.76561\n"
     ]
    },
    {
     "name": "stdout",
     "output_type": "stream",
     "text": [
      "[3000]\tvalidation_0-rmse:7.75767\n"
     ]
    },
    {
     "name": "stdout",
     "output_type": "stream",
     "text": [
      "[4000]\tvalidation_0-rmse:7.75262\n"
     ]
    },
    {
     "name": "stdout",
     "output_type": "stream",
     "text": [
      "[5000]\tvalidation_0-rmse:7.75034\n"
     ]
    },
    {
     "name": "stdout",
     "output_type": "stream",
     "text": [
      "[6000]\tvalidation_0-rmse:7.74846\n"
     ]
    },
    {
     "name": "stdout",
     "output_type": "stream",
     "text": [
      "[7000]\tvalidation_0-rmse:7.74747\n"
     ]
    },
    {
     "name": "stdout",
     "output_type": "stream",
     "text": [
      "[8000]\tvalidation_0-rmse:7.74653\n"
     ]
    },
    {
     "name": "stdout",
     "output_type": "stream",
     "text": [
      "[8914]\tvalidation_0-rmse:7.74618\n"
     ]
    },
    {
     "name": "stderr",
     "output_type": "stream",
     "text": [
      "\u001b[32m[I 2021-08-22 03:54:48,831]\u001b[0m Trial 2 finished with value: 7.745701703739794 and parameters: {'learning_rate': 0.003393192649830596, 'subsample': 0.7740307457039776, 'colsample_bytree': 0.4991968746700697, 'max_depth': 15, 'lambda': 14.063110091000771, 'alpha': 23.829507481182986, 'min_child_weight': 363.21842089435336}. Best is trial 1 with value: 7.744636762159451.\u001b[0m\n"
     ]
    },
    {
     "name": "stdout",
     "output_type": "stream",
     "text": [
      "[0]\tvalidation_0-rmse:10.03510\n"
     ]
    },
    {
     "name": "stdout",
     "output_type": "stream",
     "text": [
      "[1000]\tvalidation_0-rmse:7.78620\n"
     ]
    },
    {
     "name": "stdout",
     "output_type": "stream",
     "text": [
      "[2000]\tvalidation_0-rmse:7.76609\n"
     ]
    },
    {
     "name": "stdout",
     "output_type": "stream",
     "text": [
      "[3000]\tvalidation_0-rmse:7.75749\n"
     ]
    },
    {
     "name": "stdout",
     "output_type": "stream",
     "text": [
      "[4000]\tvalidation_0-rmse:7.75298\n"
     ]
    },
    {
     "name": "stdout",
     "output_type": "stream",
     "text": [
      "[5000]\tvalidation_0-rmse:7.74992\n"
     ]
    },
    {
     "name": "stdout",
     "output_type": "stream",
     "text": [
      "[6000]\tvalidation_0-rmse:7.74777\n"
     ]
    },
    {
     "name": "stdout",
     "output_type": "stream",
     "text": [
      "[7000]\tvalidation_0-rmse:7.74617\n"
     ]
    },
    {
     "name": "stdout",
     "output_type": "stream",
     "text": [
      "[7394]\tvalidation_0-rmse:7.74589\n"
     ]
    },
    {
     "name": "stdout",
     "output_type": "stream",
     "text": [
      "[0]\tvalidation_0-rmse:10.03510\n"
     ]
    },
    {
     "name": "stdout",
     "output_type": "stream",
     "text": [
      "[1000]\tvalidation_0-rmse:7.78682\n"
     ]
    },
    {
     "name": "stdout",
     "output_type": "stream",
     "text": [
      "[2000]\tvalidation_0-rmse:7.76635\n"
     ]
    },
    {
     "name": "stdout",
     "output_type": "stream",
     "text": [
      "[3000]\tvalidation_0-rmse:7.75770\n"
     ]
    },
    {
     "name": "stdout",
     "output_type": "stream",
     "text": [
      "[4000]\tvalidation_0-rmse:7.75321\n"
     ]
    },
    {
     "name": "stdout",
     "output_type": "stream",
     "text": [
      "[5000]\tvalidation_0-rmse:7.75008\n"
     ]
    },
    {
     "name": "stdout",
     "output_type": "stream",
     "text": [
      "[6000]\tvalidation_0-rmse:7.74815\n"
     ]
    },
    {
     "name": "stdout",
     "output_type": "stream",
     "text": [
      "[7000]\tvalidation_0-rmse:7.74650\n"
     ]
    },
    {
     "name": "stdout",
     "output_type": "stream",
     "text": [
      "[8000]\tvalidation_0-rmse:7.74538\n"
     ]
    },
    {
     "name": "stdout",
     "output_type": "stream",
     "text": [
      "[8322]\tvalidation_0-rmse:7.74551\n"
     ]
    },
    {
     "name": "stderr",
     "output_type": "stream",
     "text": [
      "\u001b[32m[I 2021-08-22 04:49:51,380]\u001b[0m Trial 3 finished with value: 7.744684653607536 and parameters: {'learning_rate': 0.0036494365074162894, 'subsample': 0.6968528068919326, 'colsample_bytree': 0.5017392762988903, 'max_depth': 13, 'lambda': 12.014148927345573, 'alpha': 26.551525126401565, 'min_child_weight': 413.1370489845744}. Best is trial 1 with value: 7.744636762159451.\u001b[0m\n"
     ]
    },
    {
     "name": "stdout",
     "output_type": "stream",
     "text": [
      "[0]\tvalidation_0-rmse:10.03428\n"
     ]
    },
    {
     "name": "stdout",
     "output_type": "stream",
     "text": [
      "[1000]\tvalidation_0-rmse:7.78075\n"
     ]
    },
    {
     "name": "stdout",
     "output_type": "stream",
     "text": [
      "[2000]\tvalidation_0-rmse:7.76185\n"
     ]
    },
    {
     "name": "stdout",
     "output_type": "stream",
     "text": [
      "[3000]\tvalidation_0-rmse:7.75436\n"
     ]
    },
    {
     "name": "stdout",
     "output_type": "stream",
     "text": [
      "[4000]\tvalidation_0-rmse:7.74965\n"
     ]
    },
    {
     "name": "stdout",
     "output_type": "stream",
     "text": [
      "[5000]\tvalidation_0-rmse:7.74772\n"
     ]
    },
    {
     "name": "stdout",
     "output_type": "stream",
     "text": [
      "[6000]\tvalidation_0-rmse:7.74601\n"
     ]
    },
    {
     "name": "stdout",
     "output_type": "stream",
     "text": [
      "[7000]\tvalidation_0-rmse:7.74533\n"
     ]
    },
    {
     "name": "stdout",
     "output_type": "stream",
     "text": [
      "[7241]\tvalidation_0-rmse:7.74537\n"
     ]
    },
    {
     "name": "stdout",
     "output_type": "stream",
     "text": [
      "[0]\tvalidation_0-rmse:10.03429\n"
     ]
    },
    {
     "name": "stdout",
     "output_type": "stream",
     "text": [
      "[1000]\tvalidation_0-rmse:7.78123\n"
     ]
    },
    {
     "name": "stdout",
     "output_type": "stream",
     "text": [
      "[2000]\tvalidation_0-rmse:7.76206\n"
     ]
    },
    {
     "name": "stdout",
     "output_type": "stream",
     "text": [
      "[3000]\tvalidation_0-rmse:7.75470\n"
     ]
    },
    {
     "name": "stdout",
     "output_type": "stream",
     "text": [
      "[4000]\tvalidation_0-rmse:7.75024\n"
     ]
    },
    {
     "name": "stdout",
     "output_type": "stream",
     "text": [
      "[5000]\tvalidation_0-rmse:7.74801\n"
     ]
    },
    {
     "name": "stdout",
     "output_type": "stream",
     "text": [
      "[6000]\tvalidation_0-rmse:7.74691\n"
     ]
    },
    {
     "name": "stdout",
     "output_type": "stream",
     "text": [
      "[6412]\tvalidation_0-rmse:7.74659\n"
     ]
    },
    {
     "name": "stderr",
     "output_type": "stream",
     "text": [
      "\u001b[32m[I 2021-08-22 05:48:56,002]\u001b[0m Trial 4 finished with value: 7.744758133482364 and parameters: {'learning_rate': 0.003851837900858955, 'subsample': 0.7769026590169555, 'colsample_bytree': 0.5135887621924576, 'max_depth': 15, 'lambda': 13.482626488291867, 'alpha': 24.81159836156926, 'min_child_weight': 351.6110925902816}. Best is trial 1 with value: 7.744636762159451.\u001b[0m\n"
     ]
    },
    {
     "name": "stdout",
     "output_type": "stream",
     "text": [
      "[0]\tvalidation_0-rmse:10.03187\n"
     ]
    },
    {
     "name": "stdout",
     "output_type": "stream",
     "text": [
      "[1000]\tvalidation_0-rmse:7.77605\n"
     ]
    },
    {
     "name": "stdout",
     "output_type": "stream",
     "text": [
      "[2000]\tvalidation_0-rmse:7.75912\n"
     ]
    },
    {
     "name": "stdout",
     "output_type": "stream",
     "text": [
      "[3000]\tvalidation_0-rmse:7.75273\n"
     ]
    },
    {
     "name": "stdout",
     "output_type": "stream",
     "text": [
      "[4000]\tvalidation_0-rmse:7.74920\n"
     ]
    },
    {
     "name": "stdout",
     "output_type": "stream",
     "text": [
      "[5000]\tvalidation_0-rmse:7.74725\n"
     ]
    },
    {
     "name": "stdout",
     "output_type": "stream",
     "text": [
      "[5668]\tvalidation_0-rmse:7.74683\n"
     ]
    },
    {
     "name": "stdout",
     "output_type": "stream",
     "text": [
      "[0]\tvalidation_0-rmse:10.03192\n"
     ]
    },
    {
     "name": "stdout",
     "output_type": "stream",
     "text": [
      "[1000]\tvalidation_0-rmse:7.77648\n"
     ]
    },
    {
     "name": "stdout",
     "output_type": "stream",
     "text": [
      "[2000]\tvalidation_0-rmse:7.75888\n"
     ]
    },
    {
     "name": "stdout",
     "output_type": "stream",
     "text": [
      "[3000]\tvalidation_0-rmse:7.75190\n"
     ]
    },
    {
     "name": "stdout",
     "output_type": "stream",
     "text": [
      "[4000]\tvalidation_0-rmse:7.74867\n"
     ]
    },
    {
     "name": "stdout",
     "output_type": "stream",
     "text": [
      "[5000]\tvalidation_0-rmse:7.74706\n"
     ]
    },
    {
     "name": "stdout",
     "output_type": "stream",
     "text": [
      "[6000]\tvalidation_0-rmse:7.74625\n"
     ]
    },
    {
     "name": "stdout",
     "output_type": "stream",
     "text": [
      "[6222]\tvalidation_0-rmse:7.74641\n"
     ]
    },
    {
     "name": "stderr",
     "output_type": "stream",
     "text": [
      "\u001b[32m[I 2021-08-22 06:40:50,256]\u001b[0m Trial 5 finished with value: 7.745076731997948 and parameters: {'learning_rate': 0.004472710564880304, 'subsample': 0.7377777934016643, 'colsample_bytree': 0.5165340342134916, 'max_depth': 17, 'lambda': 13.356730564725027, 'alpha': 24.70602951070347, 'min_child_weight': 386.88810854717013}. Best is trial 1 with value: 7.744636762159451.\u001b[0m\n"
     ]
    },
    {
     "name": "stdout",
     "output_type": "stream",
     "text": [
      "[0]\tvalidation_0-rmse:10.03290\n"
     ]
    },
    {
     "name": "stdout",
     "output_type": "stream",
     "text": [
      "[1000]\tvalidation_0-rmse:7.78165\n"
     ]
    },
    {
     "name": "stdout",
     "output_type": "stream",
     "text": [
      "[2000]\tvalidation_0-rmse:7.76332\n"
     ]
    },
    {
     "name": "stdout",
     "output_type": "stream",
     "text": [
      "[3000]\tvalidation_0-rmse:7.75585\n"
     ]
    },
    {
     "name": "stdout",
     "output_type": "stream",
     "text": [
      "[4000]\tvalidation_0-rmse:7.75187\n"
     ]
    },
    {
     "name": "stdout",
     "output_type": "stream",
     "text": [
      "[5000]\tvalidation_0-rmse:7.74956\n"
     ]
    },
    {
     "name": "stdout",
     "output_type": "stream",
     "text": [
      "[5727]\tvalidation_0-rmse:7.74874\n"
     ]
    },
    {
     "name": "stdout",
     "output_type": "stream",
     "text": [
      "[0]\tvalidation_0-rmse:10.03290\n"
     ]
    },
    {
     "name": "stdout",
     "output_type": "stream",
     "text": [
      "[1000]\tvalidation_0-rmse:7.78147\n"
     ]
    },
    {
     "name": "stdout",
     "output_type": "stream",
     "text": [
      "[2000]\tvalidation_0-rmse:7.76253\n"
     ]
    },
    {
     "name": "stdout",
     "output_type": "stream",
     "text": [
      "[3000]\tvalidation_0-rmse:7.75482\n"
     ]
    },
    {
     "name": "stdout",
     "output_type": "stream",
     "text": [
      "[4000]\tvalidation_0-rmse:7.75123\n"
     ]
    },
    {
     "name": "stdout",
     "output_type": "stream",
     "text": [
      "[5000]\tvalidation_0-rmse:7.74876\n"
     ]
    },
    {
     "name": "stdout",
     "output_type": "stream",
     "text": [
      "[6000]\tvalidation_0-rmse:7.74764\n"
     ]
    },
    {
     "name": "stdout",
     "output_type": "stream",
     "text": [
      "[6141]\tvalidation_0-rmse:7.74766\n"
     ]
    },
    {
     "name": "stderr",
     "output_type": "stream",
     "text": [
      "\u001b[32m[I 2021-08-22 07:22:53,591]\u001b[0m Trial 6 finished with value: 7.747278287192206 and parameters: {'learning_rate': 0.004213521164285296, 'subsample': 0.7534892661208958, 'colsample_bytree': 0.5007384452699637, 'max_depth': 13, 'lambda': 13.230835280732496, 'alpha': 26.52594469906762, 'min_child_weight': 420.0452448735341}. Best is trial 1 with value: 7.744636762159451.\u001b[0m\n"
     ]
    },
    {
     "name": "stdout",
     "output_type": "stream",
     "text": [
      "[0]\tvalidation_0-rmse:10.03324\n"
     ]
    },
    {
     "name": "stdout",
     "output_type": "stream",
     "text": [
      "[1000]\tvalidation_0-rmse:7.78224\n"
     ]
    },
    {
     "name": "stdout",
     "output_type": "stream",
     "text": [
      "[2000]\tvalidation_0-rmse:7.76402\n"
     ]
    },
    {
     "name": "stdout",
     "output_type": "stream",
     "text": [
      "[3000]\tvalidation_0-rmse:7.75633\n"
     ]
    },
    {
     "name": "stdout",
     "output_type": "stream",
     "text": [
      "[4000]\tvalidation_0-rmse:7.75217\n"
     ]
    },
    {
     "name": "stdout",
     "output_type": "stream",
     "text": [
      "[5000]\tvalidation_0-rmse:7.74945\n"
     ]
    },
    {
     "name": "stdout",
     "output_type": "stream",
     "text": [
      "[6000]\tvalidation_0-rmse:7.74791\n"
     ]
    },
    {
     "name": "stdout",
     "output_type": "stream",
     "text": [
      "[7000]\tvalidation_0-rmse:7.74704\n"
     ]
    },
    {
     "name": "stdout",
     "output_type": "stream",
     "text": [
      "[7617]\tvalidation_0-rmse:7.74655\n"
     ]
    },
    {
     "name": "stdout",
     "output_type": "stream",
     "text": [
      "[0]\tvalidation_0-rmse:10.03324\n"
     ]
    },
    {
     "name": "stdout",
     "output_type": "stream",
     "text": [
      "[1000]\tvalidation_0-rmse:7.78220\n"
     ]
    },
    {
     "name": "stdout",
     "output_type": "stream",
     "text": [
      "[2000]\tvalidation_0-rmse:7.76313\n"
     ]
    },
    {
     "name": "stdout",
     "output_type": "stream",
     "text": [
      "[3000]\tvalidation_0-rmse:7.75550\n"
     ]
    },
    {
     "name": "stdout",
     "output_type": "stream",
     "text": [
      "[4000]\tvalidation_0-rmse:7.75138\n"
     ]
    },
    {
     "name": "stdout",
     "output_type": "stream",
     "text": [
      "[5000]\tvalidation_0-rmse:7.74890\n"
     ]
    },
    {
     "name": "stdout",
     "output_type": "stream",
     "text": [
      "[6000]\tvalidation_0-rmse:7.74690\n"
     ]
    },
    {
     "name": "stdout",
     "output_type": "stream",
     "text": [
      "[6672]\tvalidation_0-rmse:7.74649\n"
     ]
    },
    {
     "name": "stderr",
     "output_type": "stream",
     "text": [
      "\u001b[32m[I 2021-08-22 08:11:46,824]\u001b[0m Trial 7 finished with value: 7.745453792630712 and parameters: {'learning_rate': 0.004119411950261611, 'subsample': 0.7027387489637449, 'colsample_bytree': 0.47318590037457403, 'max_depth': 13, 'lambda': 11.590808047486455, 'alpha': 25.3198087625169, 'min_child_weight': 401.26652828899836}. Best is trial 1 with value: 7.744636762159451.\u001b[0m\n"
     ]
    },
    {
     "name": "stdout",
     "output_type": "stream",
     "text": [
      "[0]\tvalidation_0-rmse:10.03590\n"
     ]
    },
    {
     "name": "stdout",
     "output_type": "stream",
     "text": [
      "[1000]\tvalidation_0-rmse:7.78807\n"
     ]
    },
    {
     "name": "stdout",
     "output_type": "stream",
     "text": [
      "[2000]\tvalidation_0-rmse:7.76666\n"
     ]
    },
    {
     "name": "stdout",
     "output_type": "stream",
     "text": [
      "[3000]\tvalidation_0-rmse:7.75814\n"
     ]
    },
    {
     "name": "stdout",
     "output_type": "stream",
     "text": [
      "[4000]\tvalidation_0-rmse:7.75366\n"
     ]
    },
    {
     "name": "stdout",
     "output_type": "stream",
     "text": [
      "[5000]\tvalidation_0-rmse:7.75063\n"
     ]
    },
    {
     "name": "stdout",
     "output_type": "stream",
     "text": [
      "[6000]\tvalidation_0-rmse:7.74845\n"
     ]
    },
    {
     "name": "stdout",
     "output_type": "stream",
     "text": [
      "[7000]\tvalidation_0-rmse:7.74678\n"
     ]
    },
    {
     "name": "stdout",
     "output_type": "stream",
     "text": [
      "[8000]\tvalidation_0-rmse:7.74581\n"
     ]
    },
    {
     "name": "stdout",
     "output_type": "stream",
     "text": [
      "[8565]\tvalidation_0-rmse:7.74575\n"
     ]
    },
    {
     "name": "stdout",
     "output_type": "stream",
     "text": [
      "[0]\tvalidation_0-rmse:10.03592\n"
     ]
    },
    {
     "name": "stdout",
     "output_type": "stream",
     "text": [
      "[1000]\tvalidation_0-rmse:7.78749\n"
     ]
    },
    {
     "name": "stdout",
     "output_type": "stream",
     "text": [
      "[2000]\tvalidation_0-rmse:7.76554\n"
     ]
    },
    {
     "name": "stdout",
     "output_type": "stream",
     "text": [
      "[3000]\tvalidation_0-rmse:7.75690\n"
     ]
    },
    {
     "name": "stdout",
     "output_type": "stream",
     "text": [
      "[4000]\tvalidation_0-rmse:7.75225\n"
     ]
    },
    {
     "name": "stdout",
     "output_type": "stream",
     "text": [
      "[5000]\tvalidation_0-rmse:7.74974\n"
     ]
    },
    {
     "name": "stdout",
     "output_type": "stream",
     "text": [
      "[6000]\tvalidation_0-rmse:7.74800\n"
     ]
    },
    {
     "name": "stdout",
     "output_type": "stream",
     "text": [
      "[6216]\tvalidation_0-rmse:7.74800\n"
     ]
    },
    {
     "name": "stderr",
     "output_type": "stream",
     "text": [
      "\u001b[32m[I 2021-08-22 09:07:33,433]\u001b[0m Trial 8 finished with value: 7.745802588423409 and parameters: {'learning_rate': 0.0034460046654902037, 'subsample': 0.7343022070706486, 'colsample_bytree': 0.5058997094174641, 'max_depth': 14, 'lambda': 12.4375113988764, 'alpha': 25.818299282492667, 'min_child_weight': 422.13880456967246}. Best is trial 1 with value: 7.744636762159451.\u001b[0m\n"
     ]
    },
    {
     "name": "stdout",
     "output_type": "stream",
     "text": [
      "[0]\tvalidation_0-rmse:10.03637\n"
     ]
    },
    {
     "name": "stdout",
     "output_type": "stream",
     "text": [
      "[1000]\tvalidation_0-rmse:7.78654\n"
     ]
    },
    {
     "name": "stdout",
     "output_type": "stream",
     "text": [
      "[2000]\tvalidation_0-rmse:7.76435\n"
     ]
    },
    {
     "name": "stdout",
     "output_type": "stream",
     "text": [
      "[3000]\tvalidation_0-rmse:7.75627\n"
     ]
    },
    {
     "name": "stdout",
     "output_type": "stream",
     "text": [
      "[4000]\tvalidation_0-rmse:7.75154\n"
     ]
    },
    {
     "name": "stdout",
     "output_type": "stream",
     "text": [
      "[5000]\tvalidation_0-rmse:7.74928\n"
     ]
    },
    {
     "name": "stdout",
     "output_type": "stream",
     "text": [
      "[6000]\tvalidation_0-rmse:7.74723\n"
     ]
    },
    {
     "name": "stdout",
     "output_type": "stream",
     "text": [
      "[6689]\tvalidation_0-rmse:7.74696\n"
     ]
    },
    {
     "name": "stdout",
     "output_type": "stream",
     "text": [
      "[0]\tvalidation_0-rmse:10.03637\n"
     ]
    },
    {
     "name": "stdout",
     "output_type": "stream",
     "text": [
      "[1000]\tvalidation_0-rmse:7.78658\n"
     ]
    },
    {
     "name": "stdout",
     "output_type": "stream",
     "text": [
      "[2000]\tvalidation_0-rmse:7.76437\n"
     ]
    },
    {
     "name": "stdout",
     "output_type": "stream",
     "text": [
      "[3000]\tvalidation_0-rmse:7.75666\n"
     ]
    },
    {
     "name": "stdout",
     "output_type": "stream",
     "text": [
      "[4000]\tvalidation_0-rmse:7.75236\n"
     ]
    },
    {
     "name": "stdout",
     "output_type": "stream",
     "text": [
      "[5000]\tvalidation_0-rmse:7.75032\n"
     ]
    },
    {
     "name": "stdout",
     "output_type": "stream",
     "text": [
      "[6000]\tvalidation_0-rmse:7.74860\n"
     ]
    },
    {
     "name": "stdout",
     "output_type": "stream",
     "text": [
      "[7000]\tvalidation_0-rmse:7.74759\n"
     ]
    }
   ],
   "source": [
    "study = optuna.create_study(direction='minimize')\n",
    "study.optimize(objective,n_trials= 30)\n",
    "print('Number of finished trials:', len(study.trials))\n",
    "print('Best trial:', study.best_trial.params)"
   ]
  },
  {
   "cell_type": "code",
   "execution_count": null,
   "id": "aa851b9a",
   "metadata": {
    "execution": {
     "iopub.status.busy": "2021-08-18T15:26:38.784964Z",
     "iopub.status.idle": "2021-08-18T15:26:38.785358Z"
    },
    "papermill": {
     "duration": null,
     "end_time": null,
     "exception": null,
     "start_time": null,
     "status": "pending"
    },
    "tags": []
   },
   "outputs": [],
   "source": [
    "study.best_params"
   ]
  },
  {
   "cell_type": "markdown",
   "id": "ac0b1ddb",
   "metadata": {
    "papermill": {
     "duration": null,
     "end_time": null,
     "exception": null,
     "start_time": null,
     "status": "pending"
    },
    "tags": []
   },
   "source": [
    "# Log\n",
    "\n",
    "7.758238638554282 row-wise noise ver1\n",
    "\n",
    "7.758171791679289 random noise ver4\n",
    "\n",
    "7.745837750406564 no noise ver5\n",
    "\n",
    "7.744947212695728 no noise ver7 (narrow space)"
   ]
  }
 ],
 "metadata": {
  "kernelspec": {
   "display_name": "Python 3",
   "language": "python",
   "name": "python3"
  },
  "language_info": {
   "codemirror_mode": {
    "name": "ipython",
    "version": 3
   },
   "file_extension": ".py",
   "mimetype": "text/x-python",
   "name": "python",
   "nbconvert_exporter": "python",
   "pygments_lexer": "ipython3",
   "version": "3.6.4"
  },
  "papermill": {
   "default_parameters": {},
   "duration": null,
   "end_time": null,
   "environment_variables": {},
   "exception": null,
   "input_path": "__notebook__.ipynb",
   "output_path": "__notebook__.ipynb",
   "parameters": {},
   "start_time": "2021-08-22T01:09:29.059750",
   "version": "2.3.3"
  }
 },
 "nbformat": 4,
 "nbformat_minor": 5
}