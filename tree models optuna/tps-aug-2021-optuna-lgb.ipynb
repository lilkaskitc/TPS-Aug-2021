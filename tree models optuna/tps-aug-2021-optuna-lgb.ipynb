{
 "cells": [
  {
   "cell_type": "code",
   "execution_count": 1,
   "id": "7bd247bb",
   "metadata": {
    "_cell_guid": "b1076dfc-b9ad-4769-8c92-a6c4dae69d19",
    "_uuid": "8f2839f25d086af736a60e9eeb907d3b93b6e0e5",
    "execution": {
     "iopub.execute_input": "2021-08-21T13:43:37.320841Z",
     "iopub.status.busy": "2021-08-21T13:43:37.319620Z",
     "iopub.status.idle": "2021-08-21T13:43:39.495799Z",
     "shell.execute_reply": "2021-08-21T13:43:39.495003Z",
     "shell.execute_reply.started": "2021-08-18T14:44:33.479152Z"
    },
    "papermill": {
     "duration": 2.194794,
     "end_time": "2021-08-21T13:43:39.495962",
     "exception": false,
     "start_time": "2021-08-21T13:43:37.301168",
     "status": "completed"
    },
    "tags": []
   },
   "outputs": [
    {
     "data": {
      "text/html": [
       "<style type='text/css'>\n",
       ".datatable table.frame { margin-bottom: 0; }\n",
       ".datatable table.frame thead { border-bottom: none; }\n",
       ".datatable table.frame tr.coltypes td {  color: #FFFFFF;  line-height: 6px;  padding: 0 0.5em;}\n",
       ".datatable .bool    { background: #DDDD99; }\n",
       ".datatable .object  { background: #565656; }\n",
       ".datatable .int     { background: #5D9E5D; }\n",
       ".datatable .float   { background: #4040CC; }\n",
       ".datatable .str     { background: #CC4040; }\n",
       ".datatable .time    { background: #40CC40; }\n",
       ".datatable .row_index {  background: var(--jp-border-color3);  border-right: 1px solid var(--jp-border-color0);  color: var(--jp-ui-font-color3);  font-size: 9px;}\n",
       ".datatable .frame tbody td { text-align: left; }\n",
       ".datatable .frame tr.coltypes .row_index {  background: var(--jp-border-color0);}\n",
       ".datatable th:nth-child(2) { padding-left: 12px; }\n",
       ".datatable .hellipsis {  color: var(--jp-cell-editor-border-color);}\n",
       ".datatable .vellipsis {  background: var(--jp-layout-color0);  color: var(--jp-cell-editor-border-color);}\n",
       ".datatable .na {  color: var(--jp-cell-editor-border-color);  font-size: 80%;}\n",
       ".datatable .sp {  opacity: 0.25;}\n",
       ".datatable .footer { font-size: 9px; }\n",
       ".datatable .frame_dimensions {  background: var(--jp-border-color3);  border-top: 1px solid var(--jp-border-color0);  color: var(--jp-ui-font-color3);  display: inline-block;  opacity: 0.6;  padding: 1px 10px 1px 5px;}\n",
       "</style>\n"
      ],
      "text/plain": [
       "<IPython.core.display.HTML object>"
      ]
     },
     "metadata": {},
     "output_type": "display_data"
    }
   ],
   "source": [
    "# Familiar imports\n",
    "import numpy as np\n",
    "import pandas as pd\n",
    "import random\n",
    "import os\n",
    "import time\n",
    "from pathlib import Path\n",
    "\n",
    "from sklearn.preprocessing import StandardScaler\n",
    "from sklearn.model_selection import KFold, train_test_split\n",
    "from sklearn.metrics import mean_squared_error\n",
    "\n",
    "import lightgbm as lgb\n",
    "#import xgboost as xgb\n",
    "#import catboost as ctb\n",
    "\n",
    "import warnings\n",
    "warnings.simplefilter('ignore')"
   ]
  },
  {
   "cell_type": "markdown",
   "id": "c6faab7e",
   "metadata": {
    "papermill": {
     "duration": 0.013233,
     "end_time": "2021-08-21T13:43:39.523930",
     "exception": false,
     "start_time": "2021-08-21T13:43:39.510697",
     "status": "completed"
    },
    "tags": []
   },
   "source": [
    "# Parameters"
   ]
  },
  {
   "cell_type": "code",
   "execution_count": 2,
   "id": "d6594d0b",
   "metadata": {
    "execution": {
     "iopub.execute_input": "2021-08-21T13:43:39.558619Z",
     "iopub.status.busy": "2021-08-21T13:43:39.557883Z",
     "iopub.status.idle": "2021-08-21T13:43:39.560860Z",
     "shell.execute_reply": "2021-08-21T13:43:39.560333Z",
     "shell.execute_reply.started": "2021-08-18T14:40:37.313957Z"
    },
    "papermill": {
     "duration": 0.022338,
     "end_time": "2021-08-21T13:43:39.561004",
     "exception": false,
     "start_time": "2021-08-21T13:43:39.538666",
     "status": "completed"
    },
    "tags": []
   },
   "outputs": [],
   "source": [
    "target = 'loss'\n",
    "\n",
    "DEBUG = False\n",
    "\n",
    "if DEBUG:\n",
    "    N_ESTIMATORS = 1\n",
    "    N_SPLITS = 2\n",
    "    SEED = 17\n",
    "    CVSEED = 17\n",
    "    EARLY_STOPPING_ROUNDS = 1\n",
    "    VERBOSE = 100\n",
    "    #N_ITERS = 2\n",
    "else:\n",
    "    N_SPLITS = 10\n",
    "    N_ESTIMATORS = 10000\n",
    "    EARLY_STOPPING_ROUNDS = 200\n",
    "    VERBOSE = 1000\n",
    "    SEED = 17\n",
    "    CVSEED = 17\n",
    "    #N_ITERS = 10"
   ]
  },
  {
   "cell_type": "code",
   "execution_count": 3,
   "id": "88bf4dae",
   "metadata": {
    "execution": {
     "iopub.execute_input": "2021-08-21T13:43:39.593750Z",
     "iopub.status.busy": "2021-08-21T13:43:39.593011Z",
     "iopub.status.idle": "2021-08-21T13:43:39.595787Z",
     "shell.execute_reply": "2021-08-21T13:43:39.596322Z",
     "shell.execute_reply.started": "2021-08-18T14:40:37.330793Z"
    },
    "papermill": {
     "duration": 0.021986,
     "end_time": "2021-08-21T13:43:39.596499",
     "exception": false,
     "start_time": "2021-08-21T13:43:39.574513",
     "status": "completed"
    },
    "tags": []
   },
   "outputs": [],
   "source": [
    "def set_seed(seed=17):\n",
    "    random.seed(seed)\n",
    "    os.environ['PYTHONHASHSEED'] = str(seed)\n",
    "    np.random.seed(seed)\n",
    "    \n",
    "set_seed(SEED)"
   ]
  },
  {
   "cell_type": "markdown",
   "id": "7b25ad1a",
   "metadata": {
    "papermill": {
     "duration": 0.013817,
     "end_time": "2021-08-21T13:43:39.624180",
     "exception": false,
     "start_time": "2021-08-21T13:43:39.610363",
     "status": "completed"
    },
    "tags": []
   },
   "source": [
    "# Load data"
   ]
  },
  {
   "cell_type": "code",
   "execution_count": 4,
   "id": "d7dab71e",
   "metadata": {
    "execution": {
     "iopub.execute_input": "2021-08-21T13:43:39.657447Z",
     "iopub.status.busy": "2021-08-21T13:43:39.656739Z",
     "iopub.status.idle": "2021-08-21T13:43:51.266041Z",
     "shell.execute_reply": "2021-08-21T13:43:51.265410Z",
     "shell.execute_reply.started": "2021-08-18T14:40:37.3485Z"
    },
    "papermill": {
     "duration": 11.628579,
     "end_time": "2021-08-21T13:43:51.266227",
     "exception": false,
     "start_time": "2021-08-21T13:43:39.637648",
     "status": "completed"
    },
    "tags": []
   },
   "outputs": [],
   "source": [
    "INPUT = Path(\"../input/tabular-playground-series-aug-2021\")\n",
    "\n",
    "train = pd.read_csv(INPUT / \"train.csv\")\n",
    "test = pd.read_csv(INPUT / \"test.csv\")\n",
    "submission = pd.read_csv(INPUT / \"sample_submission.csv\")"
   ]
  },
  {
   "cell_type": "markdown",
   "id": "2f3e7eaa",
   "metadata": {
    "papermill": {
     "duration": 0.013198,
     "end_time": "2021-08-21T13:43:51.293587",
     "exception": false,
     "start_time": "2021-08-21T13:43:51.280389",
     "status": "completed"
    },
    "tags": []
   },
   "source": [
    "# Preprocessing"
   ]
  },
  {
   "cell_type": "code",
   "execution_count": 5,
   "id": "2abbf424",
   "metadata": {
    "execution": {
     "iopub.execute_input": "2021-08-21T13:43:51.417622Z",
     "iopub.status.busy": "2021-08-21T13:43:51.413386Z",
     "iopub.status.idle": "2021-08-21T13:44:03.499648Z",
     "shell.execute_reply": "2021-08-21T13:44:03.498902Z",
     "shell.execute_reply.started": "2021-08-18T14:40:45.023677Z"
    },
    "papermill": {
     "duration": 12.192746,
     "end_time": "2021-08-21T13:44:03.499810",
     "exception": false,
     "start_time": "2021-08-21T13:43:51.307064",
     "status": "completed"
    },
    "tags": []
   },
   "outputs": [],
   "source": [
    "scale_features = [col for col in test.columns if 'f' in col]\n",
    "\n",
    "ss = StandardScaler()\n",
    "train[scale_features] = ss.fit_transform(train[scale_features])\n",
    "test[scale_features] = ss.transform(test[scale_features])"
   ]
  },
  {
   "cell_type": "code",
   "execution_count": 6,
   "id": "834b429f",
   "metadata": {
    "execution": {
     "iopub.execute_input": "2021-08-21T13:44:03.535684Z",
     "iopub.status.busy": "2021-08-21T13:44:03.534852Z",
     "iopub.status.idle": "2021-08-21T13:44:03.538007Z",
     "shell.execute_reply": "2021-08-21T13:44:03.537486Z",
     "shell.execute_reply.started": "2021-08-18T14:40:56.835238Z"
    },
    "papermill": {
     "duration": 0.024268,
     "end_time": "2021-08-21T13:44:03.538189",
     "exception": false,
     "start_time": "2021-08-21T13:44:03.513921",
     "status": "completed"
    },
    "tags": []
   },
   "outputs": [],
   "source": [
    "# Swap noise\n",
    "\n",
    "# Random\n",
    "def apply_noise_rn(df, p=.75):\n",
    "    should_not_swap = np.random.binomial(1, p, df.shape)\n",
    "    corrupted_df = df.where(should_not_swap == 1, np.random.permutation(df))\n",
    "    return corrupted_df\n",
    "\n",
    "# Row-wise\n",
    "def apply_noise_row(df, p=.75):\n",
    "    should_not_swap = np.zeros(df.shape)\n",
    "    for i in range(df.shape[0]):\n",
    "        for j in np.random.choice(df.shape[1],int(p*df.shape[1]),replace=False):\n",
    "            should_not_swap[i,j]=1 \n",
    "    corrupted_df = df.where(should_not_swap == 1, np.random.permutation(df))\n",
    "    return corrupted_df"
   ]
  },
  {
   "cell_type": "markdown",
   "id": "1a9a93ee",
   "metadata": {
    "papermill": {
     "duration": 0.013338,
     "end_time": "2021-08-21T13:44:03.565181",
     "exception": false,
     "start_time": "2021-08-21T13:44:03.551843",
     "status": "completed"
    },
    "tags": []
   },
   "source": [
    "# Pseudo Label"
   ]
  },
  {
   "cell_type": "code",
   "execution_count": 7,
   "id": "faf239ad",
   "metadata": {
    "execution": {
     "iopub.execute_input": "2021-08-21T13:44:03.597900Z",
     "iopub.status.busy": "2021-08-21T13:44:03.597219Z",
     "iopub.status.idle": "2021-08-21T13:44:04.306285Z",
     "shell.execute_reply": "2021-08-21T13:44:04.305682Z",
     "shell.execute_reply.started": "2021-08-18T14:40:56.845442Z"
    },
    "papermill": {
     "duration": 0.727631,
     "end_time": "2021-08-21T13:44:04.306426",
     "exception": false,
     "start_time": "2021-08-21T13:44:03.578795",
     "status": "completed"
    },
    "tags": []
   },
   "outputs": [],
   "source": [
    "pseudo = pd.read_csv(\"../input/tps-aug-2021-lgbm-xgb-catboost/submission.csv\")[target]\n",
    "test_pseudo = pd.concat([test, pseudo], axis=1)\n",
    "all_pseudo = pd.concat([train, test_pseudo]).reset_index(drop=True)"
   ]
  },
  {
   "cell_type": "markdown",
   "id": "510c51aa",
   "metadata": {
    "papermill": {
     "duration": 0.013177,
     "end_time": "2021-08-21T13:44:04.333338",
     "exception": false,
     "start_time": "2021-08-21T13:44:04.320161",
     "status": "completed"
    },
    "tags": []
   },
   "source": [
    "# Optuna"
   ]
  },
  {
   "cell_type": "code",
   "execution_count": 8,
   "id": "1016299b",
   "metadata": {
    "execution": {
     "iopub.execute_input": "2021-08-21T13:44:04.378397Z",
     "iopub.status.busy": "2021-08-21T13:44:04.377677Z",
     "iopub.status.idle": "2021-08-21T13:44:14.359220Z",
     "shell.execute_reply": "2021-08-21T13:44:14.358634Z",
     "shell.execute_reply.started": "2021-08-18T14:40:57.500967Z"
    },
    "papermill": {
     "duration": 10.012413,
     "end_time": "2021-08-21T13:44:14.359379",
     "exception": false,
     "start_time": "2021-08-21T13:44:04.346966",
     "status": "completed"
    },
    "tags": []
   },
   "outputs": [
    {
     "name": "stdout",
     "output_type": "stream",
     "text": [
      "\u001b[33mWARNING: Running pip as root will break packages and permissions. You should install packages reliably by using venv: https://pip.pypa.io/warnings/venv\u001b[0m\r\n"
     ]
    }
   ],
   "source": [
    "# Optuna for parameter search\n",
    "!pip install -q optuna\n",
    "\n",
    "import optuna\n",
    "import pickle"
   ]
  },
  {
   "cell_type": "code",
   "execution_count": 9,
   "id": "3f49e60e",
   "metadata": {
    "execution": {
     "iopub.execute_input": "2021-08-21T13:44:14.406532Z",
     "iopub.status.busy": "2021-08-21T13:44:14.404878Z",
     "iopub.status.idle": "2021-08-21T13:44:14.739551Z",
     "shell.execute_reply": "2021-08-21T13:44:14.738831Z",
     "shell.execute_reply.started": "2021-08-18T14:59:14.912624Z"
    },
    "papermill": {
     "duration": 0.36613,
     "end_time": "2021-08-21T13:44:14.739701",
     "exception": false,
     "start_time": "2021-08-21T13:44:14.373571",
     "status": "completed"
    },
    "tags": []
   },
   "outputs": [],
   "source": [
    "# for the fixed learning rate, use the opt n iterations and tune the tree hyperparameters\n",
    "def objective(trial, X=all_pseudo[scale_features], y=all_pseudo[target]):\n",
    "  \"\"\"\n",
    "  \"\"\"\n",
    "  param_space = {\n",
    "                    'objective': 'regression',\n",
    "              'metric':'rmse',\n",
    "               #'device':'gpu',  # Use GPU acceleration\n",
    "               # 'gpu_platform_id': 0,\n",
    "                #    'gpu_device_id': 0,\n",
    "               'n_estimators':N_ESTIMATORS,\n",
    "              'learning_rate':trial.suggest_uniform('learning_rate', 0.008599, 0.010599),\n",
    "               'subsample': trial.suggest_uniform('subsample', 0.538, 0.568),\n",
    "              'colsample_bytree':trial.suggest_uniform('colsample_bytree', 0.58, 0.61),\n",
    "                'subsample_freq': trial.suggest_int('subsample_freq', 2, 4),\n",
    "             #'boosting_type': 'gbdt',\n",
    "               'reg_lambda':trial.suggest_uniform('reg_lambda', 2.6, 2.8),\n",
    "              'reg_alpha':trial.suggest_uniform('reg_alpha', 4.92, 5.32),\n",
    "            'min_child_weight':trial.suggest_uniform('min_child_weight', 346, 358),\n",
    "                 'min_child_samples':trial.suggest_int('min_child_samples', 6, 8),\n",
    "          'importance_type': 'gain'\n",
    "             # 'num_leaves':trial.suggest_int('num_leaves', 10, 200),\n",
    "              #'max_depth':trial.suggest_int('max_depth', 5, 50),\n",
    "              #'min_split_gain': trial.suggest_float('min_split_gain', 0.0, 0.005),\n",
    "              #'class_weight':trial.suggest_categorical('class_weight',['balanced',None]),\n",
    "              # 'n_jobs' : -1,\n",
    "                #'max_bin':trial.suggest_int('max_bin', 300, 1000),\n",
    "              #'cat_smooth':trial.suggest_int('cat_smooth', 5, 100),\n",
    "              #'cat_l2':trial.suggest_loguniform('cat_l2', 1e-3, 100)\n",
    "                }\n",
    "            \n",
    "\n",
    "  seed_list=[SEED, SEED+1]\n",
    "  #kf = KFold(n_splits=N_SPLITS, shuffle=True, random_state=CVSEED)\n",
    "  lgb_oof = np.zeros(train.shape[0])\n",
    "  #lgb_pred = np.zeros(test.shape[0])\n",
    "  X_tr, X_va, y_tr, y_va = train_test_split(X,y,test_size=.2,random_state=CVSEED)\n",
    "  trn_idx = X_tr.index\n",
    "  val_idx = X_va.index\n",
    "  \n",
    "  \n",
    "  #for (trn_idx, val_idx) in enumerate(kf.split(X, y)):\n",
    "  #print(f\"===== fold {fold} =====\")\n",
    "  oof_idx = np.array([idx for idx in val_idx if idx < train.shape[0]])\n",
    "  preds_idx = np.array([idx for idx in val_idx if idx >= train.shape[0]])\n",
    "\n",
    "  X_train, y_train = all_pseudo[scale_features].iloc[trn_idx], all_pseudo[target].iloc[trn_idx]\n",
    "  #X_train = apply_noise_rn(X_train)\n",
    "\n",
    "  X_valid, y_valid = all_pseudo[scale_features].iloc[oof_idx], all_pseudo[target].iloc[oof_idx]\n",
    "  #X_test = all_pseudo[scale_features].iloc[preds_idx]\n",
    "\n",
    "  #start = time.time()\n",
    "  for inseed in seed_list:\n",
    "    param_space['random_state'] = inseed\n",
    "\n",
    "    model = lgb.LGBMRegressor(**param_space)\n",
    "    model.fit(\n",
    "        X_train, \n",
    "        y_train,\n",
    "        eval_set=[(X_valid, y_valid)],\n",
    "        eval_metric='rmse',\n",
    "        early_stopping_rounds=EARLY_STOPPING_ROUNDS,\n",
    "        verbose=VERBOSE,\n",
    "    )\n",
    "\n",
    "\n",
    "    lgb_oof[oof_idx] += model.predict(X_valid) / len(seed_list)\n",
    "    #lgb_pred[preds_idx-train.shape[0]] += model.predict(X_test) / len(seed_list)\n",
    "\n",
    "  #elapsed = time.time() - start\n",
    "  rmse = mean_squared_error(y_valid, lgb_oof[oof_idx], squared=False)\n",
    "  #print(f\"fold {fold} - lgb rmse: {rmse:.6f}, elapsed time: {elapsed:.2f}sec\\n\")            \n",
    "  \n",
    "  #print(f\"oof lgb_rmse = {mean_squared_error(train[target], lgb_oof, squared=False)}\")\n",
    "\n",
    "  \n",
    "  return rmse"
   ]
  },
  {
   "cell_type": "code",
   "execution_count": 10,
   "id": "4c5c3c2f",
   "metadata": {
    "execution": {
     "iopub.execute_input": "2021-08-21T13:44:14.772851Z",
     "iopub.status.busy": "2021-08-21T13:44:14.772199Z",
     "iopub.status.idle": "2021-08-21T17:52:05.460511Z",
     "shell.execute_reply": "2021-08-21T17:52:05.459383Z",
     "shell.execute_reply.started": "2021-08-18T14:59:15.138147Z"
    },
    "papermill": {
     "duration": 14870.707641,
     "end_time": "2021-08-21T17:52:05.461280",
     "exception": false,
     "start_time": "2021-08-21T13:44:14.753639",
     "status": "completed"
    },
    "tags": []
   },
   "outputs": [
    {
     "name": "stderr",
     "output_type": "stream",
     "text": [
      "\u001b[32m[I 2021-08-21 13:44:14,770]\u001b[0m A new study created in memory with name: no-name-5799719f-0683-4efc-8ca4-65a1d49cb2a6\u001b[0m\n"
     ]
    },
    {
     "name": "stdout",
     "output_type": "stream",
     "text": [
      "Training until validation scores don't improve for 200 rounds\n",
      "[1000]\tvalid_0's rmse: 7.77043\n",
      "[2000]\tvalid_0's rmse: 7.75917\n",
      "[3000]\tvalid_0's rmse: 7.75497\n",
      "[4000]\tvalid_0's rmse: 7.7522\n",
      "[5000]\tvalid_0's rmse: 7.75075\n",
      "[6000]\tvalid_0's rmse: 7.7497\n",
      "Early stopping, best iteration is:\n",
      "[6269]\tvalid_0's rmse: 7.74944\n",
      "Training until validation scores don't improve for 200 rounds\n",
      "[1000]\tvalid_0's rmse: 7.77116\n",
      "[2000]\tvalid_0's rmse: 7.75949\n",
      "[3000]\tvalid_0's rmse: 7.75511\n",
      "[4000]\tvalid_0's rmse: 7.7528\n",
      "[5000]\tvalid_0's rmse: 7.75128\n",
      "Early stopping, best iteration is:\n",
      "[5700]\tvalid_0's rmse: 7.74997\n"
     ]
    },
    {
     "name": "stderr",
     "output_type": "stream",
     "text": [
      "\u001b[32m[I 2021-08-21 13:53:11,629]\u001b[0m Trial 0 finished with value: 7.748196039675071 and parameters: {'learning_rate': 0.01042317371433061, 'subsample': 0.5578423448253642, 'colsample_bytree': 0.6092268400425587, 'subsample_freq': 2, 'reg_lambda': 2.773524452534491, 'reg_alpha': 4.957414541010295, 'min_child_weight': 350.7509252088729, 'min_child_samples': 6}. Best is trial 0 with value: 7.748196039675071.\u001b[0m\n"
     ]
    },
    {
     "name": "stdout",
     "output_type": "stream",
     "text": [
      "Training until validation scores don't improve for 200 rounds\n",
      "[1000]\tvalid_0's rmse: 7.77083\n",
      "[2000]\tvalid_0's rmse: 7.75929\n",
      "[3000]\tvalid_0's rmse: 7.756\n",
      "[4000]\tvalid_0's rmse: 7.75352\n",
      "[5000]\tvalid_0's rmse: 7.75204\n",
      "[6000]\tvalid_0's rmse: 7.75071\n",
      "Early stopping, best iteration is:\n",
      "[6566]\tvalid_0's rmse: 7.75009\n",
      "Training until validation scores don't improve for 200 rounds\n",
      "[1000]\tvalid_0's rmse: 7.77079\n",
      "[2000]\tvalid_0's rmse: 7.75988\n",
      "[3000]\tvalid_0's rmse: 7.75635\n",
      "[4000]\tvalid_0's rmse: 7.75409\n",
      "[5000]\tvalid_0's rmse: 7.75272\n",
      "Early stopping, best iteration is:\n",
      "[5654]\tvalid_0's rmse: 7.75188\n"
     ]
    },
    {
     "name": "stderr",
     "output_type": "stream",
     "text": [
      "\u001b[32m[I 2021-08-21 14:02:05,840]\u001b[0m Trial 1 finished with value: 7.749377862140794 and parameters: {'learning_rate': 0.01037682158461626, 'subsample': 0.5483295056625028, 'colsample_bytree': 0.6014595147346742, 'subsample_freq': 3, 'reg_lambda': 2.782493598133209, 'reg_alpha': 5.203628867486934, 'min_child_weight': 346.4201736943349, 'min_child_samples': 8}. Best is trial 0 with value: 7.748196039675071.\u001b[0m\n"
     ]
    },
    {
     "name": "stdout",
     "output_type": "stream",
     "text": [
      "Training until validation scores don't improve for 200 rounds\n",
      "[1000]\tvalid_0's rmse: 7.77058\n",
      "[2000]\tvalid_0's rmse: 7.75962\n",
      "[3000]\tvalid_0's rmse: 7.75595\n",
      "[4000]\tvalid_0's rmse: 7.75347\n",
      "[5000]\tvalid_0's rmse: 7.75174\n",
      "[6000]\tvalid_0's rmse: 7.75004\n",
      "Early stopping, best iteration is:\n",
      "[6288]\tvalid_0's rmse: 7.74962\n",
      "Training until validation scores don't improve for 200 rounds\n",
      "[1000]\tvalid_0's rmse: 7.7716\n",
      "[2000]\tvalid_0's rmse: 7.76003\n",
      "[3000]\tvalid_0's rmse: 7.7564\n",
      "[4000]\tvalid_0's rmse: 7.75418\n",
      "Early stopping, best iteration is:\n",
      "[4536]\tvalid_0's rmse: 7.7533\n"
     ]
    },
    {
     "name": "stderr",
     "output_type": "stream",
     "text": [
      "\u001b[32m[I 2021-08-21 14:10:10,430]\u001b[0m Trial 2 finished with value: 7.74996995093951 and parameters: {'learning_rate': 0.010255408811918165, 'subsample': 0.5591201609379094, 'colsample_bytree': 0.5919895959582636, 'subsample_freq': 3, 'reg_lambda': 2.6531907110462236, 'reg_alpha': 5.011993620734328, 'min_child_weight': 354.6844729416779, 'min_child_samples': 7}. Best is trial 0 with value: 7.748196039675071.\u001b[0m\n"
     ]
    },
    {
     "name": "stdout",
     "output_type": "stream",
     "text": [
      "Training until validation scores don't improve for 200 rounds\n",
      "[1000]\tvalid_0's rmse: 7.77054\n",
      "[2000]\tvalid_0's rmse: 7.75918\n",
      "[3000]\tvalid_0's rmse: 7.75563\n",
      "[4000]\tvalid_0's rmse: 7.75297\n",
      "Early stopping, best iteration is:\n",
      "[4650]\tvalid_0's rmse: 7.7516\n",
      "Training until validation scores don't improve for 200 rounds\n",
      "[1000]\tvalid_0's rmse: 7.77091\n",
      "[2000]\tvalid_0's rmse: 7.75967\n",
      "[3000]\tvalid_0's rmse: 7.75632\n",
      "[4000]\tvalid_0's rmse: 7.75403\n",
      "[5000]\tvalid_0's rmse: 7.75287\n",
      "[6000]\tvalid_0's rmse: 7.75223\n",
      "Early stopping, best iteration is:\n",
      "[6355]\tvalid_0's rmse: 7.75168\n"
     ]
    },
    {
     "name": "stderr",
     "output_type": "stream",
     "text": [
      "\u001b[32m[I 2021-08-21 14:18:12,015]\u001b[0m Trial 3 finished with value: 7.750046588274396 and parameters: {'learning_rate': 0.010526886591353183, 'subsample': 0.5451468665186826, 'colsample_bytree': 0.5806958219028577, 'subsample_freq': 3, 'reg_lambda': 2.6434006368150995, 'reg_alpha': 4.987923333590599, 'min_child_weight': 356.87947648858614, 'min_child_samples': 6}. Best is trial 0 with value: 7.748196039675071.\u001b[0m\n"
     ]
    },
    {
     "name": "stdout",
     "output_type": "stream",
     "text": [
      "Training until validation scores don't improve for 200 rounds\n",
      "[1000]\tvalid_0's rmse: 7.77085\n",
      "[2000]\tvalid_0's rmse: 7.75935\n",
      "[3000]\tvalid_0's rmse: 7.75524\n",
      "[4000]\tvalid_0's rmse: 7.75326\n",
      "Early stopping, best iteration is:\n",
      "[4365]\tvalid_0's rmse: 7.75269\n",
      "Training until validation scores don't improve for 200 rounds\n",
      "[1000]\tvalid_0's rmse: 7.77137\n",
      "[2000]\tvalid_0's rmse: 7.76059\n",
      "[3000]\tvalid_0's rmse: 7.75611\n",
      "[4000]\tvalid_0's rmse: 7.75401\n",
      "[5000]\tvalid_0's rmse: 7.75252\n",
      "Early stopping, best iteration is:\n",
      "[5648]\tvalid_0's rmse: 7.75164\n"
     ]
    },
    {
     "name": "stderr",
     "output_type": "stream",
     "text": [
      "\u001b[32m[I 2021-08-21 14:25:59,978]\u001b[0m Trial 4 finished with value: 7.750749580883422 and parameters: {'learning_rate': 0.010324970074484043, 'subsample': 0.5657235138159552, 'colsample_bytree': 0.5992850659641964, 'subsample_freq': 4, 'reg_lambda': 2.759655913099513, 'reg_alpha': 5.192476017216761, 'min_child_weight': 355.35223699374245, 'min_child_samples': 7}. Best is trial 0 with value: 7.748196039675071.\u001b[0m\n"
     ]
    },
    {
     "name": "stdout",
     "output_type": "stream",
     "text": [
      "Training until validation scores don't improve for 200 rounds\n",
      "[1000]\tvalid_0's rmse: 7.77328\n",
      "[2000]\tvalid_0's rmse: 7.7609\n",
      "[3000]\tvalid_0's rmse: 7.75692\n",
      "[4000]\tvalid_0's rmse: 7.75431\n",
      "Early stopping, best iteration is:\n",
      "[4425]\tvalid_0's rmse: 7.75335\n",
      "Training until validation scores don't improve for 200 rounds\n",
      "[1000]\tvalid_0's rmse: 7.77359\n",
      "[2000]\tvalid_0's rmse: 7.76111\n",
      "[3000]\tvalid_0's rmse: 7.75608\n",
      "[4000]\tvalid_0's rmse: 7.75385\n",
      "[5000]\tvalid_0's rmse: 7.75223\n",
      "[6000]\tvalid_0's rmse: 7.75121\n",
      "Early stopping, best iteration is:\n",
      "[5974]\tvalid_0's rmse: 7.75112\n"
     ]
    },
    {
     "name": "stderr",
     "output_type": "stream",
     "text": [
      "\u001b[32m[I 2021-08-21 14:34:49,710]\u001b[0m Trial 5 finished with value: 7.751036136653222 and parameters: {'learning_rate': 0.009406019547870823, 'subsample': 0.5621736149213117, 'colsample_bytree': 0.5973315226219974, 'subsample_freq': 2, 'reg_lambda': 2.6398575089939675, 'reg_alpha': 5.176845591901324, 'min_child_weight': 347.3473724076683, 'min_child_samples': 6}. Best is trial 0 with value: 7.748196039675071.\u001b[0m\n"
     ]
    },
    {
     "name": "stdout",
     "output_type": "stream",
     "text": [
      "Training until validation scores don't improve for 200 rounds\n",
      "[1000]\tvalid_0's rmse: 7.77202\n",
      "[2000]\tvalid_0's rmse: 7.7602\n",
      "[3000]\tvalid_0's rmse: 7.75637\n",
      "[4000]\tvalid_0's rmse: 7.75438\n",
      "Early stopping, best iteration is:\n",
      "[3843]\tvalid_0's rmse: 7.75425\n",
      "Training until validation scores don't improve for 200 rounds\n",
      "[1000]\tvalid_0's rmse: 7.77263\n",
      "[2000]\tvalid_0's rmse: 7.76111\n",
      "[3000]\tvalid_0's rmse: 7.75703\n",
      "[4000]\tvalid_0's rmse: 7.75425\n",
      "Early stopping, best iteration is:\n",
      "[4535]\tvalid_0's rmse: 7.75337\n"
     ]
    },
    {
     "name": "stderr",
     "output_type": "stream",
     "text": [
      "\u001b[32m[I 2021-08-21 14:41:56,672]\u001b[0m Trial 6 finished with value: 7.752763780629803 and parameters: {'learning_rate': 0.009877012031163134, 'subsample': 0.5559677782140762, 'colsample_bytree': 0.5911159804173914, 'subsample_freq': 2, 'reg_lambda': 2.7510026728183354, 'reg_alpha': 4.998668015143358, 'min_child_weight': 348.67854922238314, 'min_child_samples': 7}. Best is trial 0 with value: 7.748196039675071.\u001b[0m\n"
     ]
    },
    {
     "name": "stdout",
     "output_type": "stream",
     "text": [
      "Training until validation scores don't improve for 200 rounds\n",
      "[1000]\tvalid_0's rmse: 7.77168\n",
      "[2000]\tvalid_0's rmse: 7.76007\n",
      "[3000]\tvalid_0's rmse: 7.75633\n",
      "[4000]\tvalid_0's rmse: 7.75516\n",
      "Early stopping, best iteration is:\n",
      "[4310]\tvalid_0's rmse: 7.75447\n",
      "Training until validation scores don't improve for 200 rounds\n",
      "[1000]\tvalid_0's rmse: 7.77208\n",
      "[2000]\tvalid_0's rmse: 7.76109\n",
      "[3000]\tvalid_0's rmse: 7.75649\n",
      "[4000]\tvalid_0's rmse: 7.75441\n",
      "[5000]\tvalid_0's rmse: 7.75308\n",
      "Early stopping, best iteration is:\n",
      "[4830]\tvalid_0's rmse: 7.75294\n"
     ]
    },
    {
     "name": "stderr",
     "output_type": "stream",
     "text": [
      "\u001b[32m[I 2021-08-21 14:49:52,460]\u001b[0m Trial 7 finished with value: 7.752462491406335 and parameters: {'learning_rate': 0.010113326320326016, 'subsample': 0.5623677267182089, 'colsample_bytree': 0.6052426502477076, 'subsample_freq': 4, 'reg_lambda': 2.715214884773686, 'reg_alpha': 5.2364426970001645, 'min_child_weight': 350.4508150438289, 'min_child_samples': 6}. Best is trial 0 with value: 7.748196039675071.\u001b[0m\n"
     ]
    },
    {
     "name": "stdout",
     "output_type": "stream",
     "text": [
      "Training until validation scores don't improve for 200 rounds\n",
      "[1000]\tvalid_0's rmse: 7.77282\n",
      "[2000]\tvalid_0's rmse: 7.76128\n",
      "[3000]\tvalid_0's rmse: 7.7576\n",
      "[4000]\tvalid_0's rmse: 7.7553\n",
      "Early stopping, best iteration is:\n",
      "[4364]\tvalid_0's rmse: 7.75456\n",
      "Training until validation scores don't improve for 200 rounds\n",
      "[1000]\tvalid_0's rmse: 7.77266\n",
      "[2000]\tvalid_0's rmse: 7.76105\n",
      "[3000]\tvalid_0's rmse: 7.75751\n",
      "[4000]\tvalid_0's rmse: 7.75481\n",
      "[5000]\tvalid_0's rmse: 7.75381\n",
      "Early stopping, best iteration is:\n",
      "[5026]\tvalid_0's rmse: 7.75376\n"
     ]
    },
    {
     "name": "stderr",
     "output_type": "stream",
     "text": [
      "\u001b[32m[I 2021-08-21 14:57:41,160]\u001b[0m Trial 8 finished with value: 7.75295325143077 and parameters: {'learning_rate': 0.009747104560207439, 'subsample': 0.547344580064399, 'colsample_bytree': 0.5931070372344246, 'subsample_freq': 4, 'reg_lambda': 2.643251346657207, 'reg_alpha': 5.309603638561247, 'min_child_weight': 357.37443507034106, 'min_child_samples': 8}. Best is trial 0 with value: 7.748196039675071.\u001b[0m\n"
     ]
    },
    {
     "name": "stdout",
     "output_type": "stream",
     "text": [
      "Training until validation scores don't improve for 200 rounds\n",
      "[1000]\tvalid_0's rmse: 7.77097\n",
      "[2000]\tvalid_0's rmse: 7.75974\n",
      "[3000]\tvalid_0's rmse: 7.756\n",
      "[4000]\tvalid_0's rmse: 7.75416\n",
      "Early stopping, best iteration is:\n",
      "[4364]\tvalid_0's rmse: 7.75331\n",
      "Training until validation scores don't improve for 200 rounds\n",
      "[1000]\tvalid_0's rmse: 7.77225\n",
      "[2000]\tvalid_0's rmse: 7.76089\n",
      "[3000]\tvalid_0's rmse: 7.75644\n",
      "[4000]\tvalid_0's rmse: 7.75424\n",
      "[5000]\tvalid_0's rmse: 7.75278\n",
      "Early stopping, best iteration is:\n",
      "[5576]\tvalid_0's rmse: 7.75235\n"
     ]
    },
    {
     "name": "stderr",
     "output_type": "stream",
     "text": [
      "\u001b[32m[I 2021-08-21 15:05:53,065]\u001b[0m Trial 9 finished with value: 7.751468353576653 and parameters: {'learning_rate': 0.01012520274830691, 'subsample': 0.5559335681045502, 'colsample_bytree': 0.5976596621560737, 'subsample_freq': 4, 'reg_lambda': 2.7417727890114967, 'reg_alpha': 5.175108173094296, 'min_child_weight': 352.54750426729044, 'min_child_samples': 7}. Best is trial 0 with value: 7.748196039675071.\u001b[0m\n"
     ]
    },
    {
     "name": "stdout",
     "output_type": "stream",
     "text": [
      "Training until validation scores don't improve for 200 rounds\n",
      "[1000]\tvalid_0's rmse: 7.77509\n",
      "[2000]\tvalid_0's rmse: 7.76171\n",
      "[3000]\tvalid_0's rmse: 7.7576\n",
      "[4000]\tvalid_0's rmse: 7.7556\n",
      "Early stopping, best iteration is:\n",
      "[3932]\tvalid_0's rmse: 7.75552\n",
      "Training until validation scores don't improve for 200 rounds\n",
      "[1000]\tvalid_0's rmse: 7.7758\n",
      "[2000]\tvalid_0's rmse: 7.76165\n",
      "[3000]\tvalid_0's rmse: 7.75655\n",
      "[4000]\tvalid_0's rmse: 7.75392\n",
      "[5000]\tvalid_0's rmse: 7.75234\n",
      "[6000]\tvalid_0's rmse: 7.75073\n",
      "[7000]\tvalid_0's rmse: 7.74958\n",
      "[8000]\tvalid_0's rmse: 7.74871\n",
      "Early stopping, best iteration is:\n",
      "[7900]\tvalid_0's rmse: 7.74863\n"
     ]
    },
    {
     "name": "stderr",
     "output_type": "stream",
     "text": [
      "\u001b[32m[I 2021-08-21 15:15:50,681]\u001b[0m Trial 10 finished with value: 7.750489292269675 and parameters: {'learning_rate': 0.00873710917558161, 'subsample': 0.5384003561156925, 'colsample_bytree': 0.609193215947368, 'subsample_freq': 2, 'reg_lambda': 2.7970807563223117, 'reg_alpha': 4.920897527730174, 'min_child_weight': 351.31198078059606, 'min_child_samples': 6}. Best is trial 0 with value: 7.748196039675071.\u001b[0m\n"
     ]
    },
    {
     "name": "stdout",
     "output_type": "stream",
     "text": [
      "Training until validation scores don't improve for 200 rounds\n",
      "[1000]\tvalid_0's rmse: 7.77299\n",
      "[2000]\tvalid_0's rmse: 7.76073\n",
      "[3000]\tvalid_0's rmse: 7.75606\n",
      "[4000]\tvalid_0's rmse: 7.75393\n",
      "[5000]\tvalid_0's rmse: 7.75178\n",
      "[6000]\tvalid_0's rmse: 7.75055\n",
      "[7000]\tvalid_0's rmse: 7.74934\n",
      "Early stopping, best iteration is:\n",
      "[7253]\tvalid_0's rmse: 7.74901\n",
      "Training until validation scores don't improve for 200 rounds\n",
      "[1000]\tvalid_0's rmse: 7.774\n",
      "[2000]\tvalid_0's rmse: 7.76198\n",
      "[3000]\tvalid_0's rmse: 7.75746\n",
      "[4000]\tvalid_0's rmse: 7.75512\n",
      "[5000]\tvalid_0's rmse: 7.75346\n",
      "[6000]\tvalid_0's rmse: 7.75223\n",
      "Early stopping, best iteration is:\n",
      "[5819]\tvalid_0's rmse: 7.75219\n"
     ]
    },
    {
     "name": "stderr",
     "output_type": "stream",
     "text": [
      "\u001b[32m[I 2021-08-21 15:26:44,355]\u001b[0m Trial 11 finished with value: 7.749161486412439 and parameters: {'learning_rate': 0.009262023487676076, 'subsample': 0.5493137302049882, 'colsample_bytree': 0.6059567144004223, 'subsample_freq': 3, 'reg_lambda': 2.7991250147166746, 'reg_alpha': 5.08455980219277, 'min_child_weight': 346.0092440075038, 'min_child_samples': 8}. Best is trial 0 with value: 7.748196039675071.\u001b[0m\n"
     ]
    },
    {
     "name": "stdout",
     "output_type": "stream",
     "text": [
      "Training until validation scores don't improve for 200 rounds\n",
      "[1000]\tvalid_0's rmse: 7.7732\n",
      "[2000]\tvalid_0's rmse: 7.76077\n",
      "[3000]\tvalid_0's rmse: 7.75673\n",
      "[4000]\tvalid_0's rmse: 7.75471\n",
      "[5000]\tvalid_0's rmse: 7.75311\n",
      "[6000]\tvalid_0's rmse: 7.7517\n",
      "Early stopping, best iteration is:\n",
      "[5915]\tvalid_0's rmse: 7.75155\n",
      "Training until validation scores don't improve for 200 rounds\n",
      "[1000]\tvalid_0's rmse: 7.77354\n",
      "[2000]\tvalid_0's rmse: 7.76081\n",
      "[3000]\tvalid_0's rmse: 7.75684\n",
      "[4000]\tvalid_0's rmse: 7.75374\n",
      "Early stopping, best iteration is:\n",
      "[4363]\tvalid_0's rmse: 7.75284\n"
     ]
    },
    {
     "name": "stderr",
     "output_type": "stream",
     "text": [
      "\u001b[32m[I 2021-08-21 15:35:21,252]\u001b[0m Trial 12 finished with value: 7.750965411162798 and parameters: {'learning_rate': 0.00921794641585079, 'subsample': 0.5522184884058392, 'colsample_bytree': 0.6089240270258763, 'subsample_freq': 3, 'reg_lambda': 2.7991836314356746, 'reg_alpha': 5.081668211750826, 'min_child_weight': 348.9349260831697, 'min_child_samples': 8}. Best is trial 0 with value: 7.748196039675071.\u001b[0m\n"
     ]
    },
    {
     "name": "stdout",
     "output_type": "stream",
     "text": [
      "Training until validation scores don't improve for 200 rounds\n",
      "[1000]\tvalid_0's rmse: 7.77457\n",
      "[2000]\tvalid_0's rmse: 7.76116\n",
      "[3000]\tvalid_0's rmse: 7.75684\n",
      "[4000]\tvalid_0's rmse: 7.75424\n",
      "Early stopping, best iteration is:\n",
      "[3927]\tvalid_0's rmse: 7.75411\n",
      "Training until validation scores don't improve for 200 rounds\n",
      "[1000]\tvalid_0's rmse: 7.77384\n",
      "[2000]\tvalid_0's rmse: 7.76043\n",
      "[3000]\tvalid_0's rmse: 7.75642\n",
      "[4000]\tvalid_0's rmse: 7.75392\n",
      "[5000]\tvalid_0's rmse: 7.75196\n",
      "[6000]\tvalid_0's rmse: 7.75099\n",
      "Early stopping, best iteration is:\n",
      "[6317]\tvalid_0's rmse: 7.7506\n"
     ]
    },
    {
     "name": "stderr",
     "output_type": "stream",
     "text": [
      "\u001b[32m[I 2021-08-21 15:43:44,152]\u001b[0m Trial 13 finished with value: 7.751099859167952 and parameters: {'learning_rate': 0.008972452688760152, 'subsample': 0.5420093400827211, 'colsample_bytree': 0.6052253590622559, 'subsample_freq': 2, 'reg_lambda': 2.691836394983772, 'reg_alpha': 5.085977988484136, 'min_child_weight': 352.7260927188567, 'min_child_samples': 8}. Best is trial 0 with value: 7.748196039675071.\u001b[0m\n"
     ]
    },
    {
     "name": "stdout",
     "output_type": "stream",
     "text": [
      "Training until validation scores don't improve for 200 rounds\n",
      "[1000]\tvalid_0's rmse: 7.77292\n",
      "[2000]\tvalid_0's rmse: 7.76082\n",
      "[3000]\tvalid_0's rmse: 7.75687\n",
      "[4000]\tvalid_0's rmse: 7.7541\n",
      "[5000]\tvalid_0's rmse: 7.75225\n",
      "[6000]\tvalid_0's rmse: 7.75121\n",
      "Early stopping, best iteration is:\n",
      "[5918]\tvalid_0's rmse: 7.75109\n",
      "Training until validation scores don't improve for 200 rounds\n",
      "[1000]\tvalid_0's rmse: 7.77331\n",
      "[2000]\tvalid_0's rmse: 7.76106\n",
      "[3000]\tvalid_0's rmse: 7.75715\n",
      "[4000]\tvalid_0's rmse: 7.75473\n",
      "[5000]\tvalid_0's rmse: 7.75307\n",
      "[6000]\tvalid_0's rmse: 7.75135\n",
      "Early stopping, best iteration is:\n",
      "[6331]\tvalid_0's rmse: 7.75082\n"
     ]
    },
    {
     "name": "stderr",
     "output_type": "stream",
     "text": [
      "\u001b[32m[I 2021-08-21 15:52:44,287]\u001b[0m Trial 14 finished with value: 7.749628791327477 and parameters: {'learning_rate': 0.009466059241719185, 'subsample': 0.5524557220219581, 'colsample_bytree': 0.585716155040096, 'subsample_freq': 3, 'reg_lambda': 2.774848838083055, 'reg_alpha': 4.941693685603852, 'min_child_weight': 346.39238506933987, 'min_child_samples': 7}. Best is trial 0 with value: 7.748196039675071.\u001b[0m\n"
     ]
    },
    {
     "name": "stdout",
     "output_type": "stream",
     "text": [
      "Training until validation scores don't improve for 200 rounds\n",
      "[1000]\tvalid_0's rmse: 7.77419\n",
      "[2000]\tvalid_0's rmse: 7.76158\n",
      "[3000]\tvalid_0's rmse: 7.75758\n",
      "[4000]\tvalid_0's rmse: 7.75442\n",
      "Early stopping, best iteration is:\n",
      "[4389]\tvalid_0's rmse: 7.75364\n",
      "Training until validation scores don't improve for 200 rounds\n",
      "[1000]\tvalid_0's rmse: 7.77434\n",
      "[2000]\tvalid_0's rmse: 7.76163\n",
      "[3000]\tvalid_0's rmse: 7.75717\n",
      "[4000]\tvalid_0's rmse: 7.75414\n",
      "Early stopping, best iteration is:\n",
      "[4772]\tvalid_0's rmse: 7.75267\n"
     ]
    },
    {
     "name": "stderr",
     "output_type": "stream",
     "text": [
      "\u001b[32m[I 2021-08-21 15:59:41,404]\u001b[0m Trial 15 finished with value: 7.752183724761421 and parameters: {'learning_rate': 0.009093702895168424, 'subsample': 0.5498251141379625, 'colsample_bytree': 0.6049453761114494, 'subsample_freq': 2, 'reg_lambda': 2.6032309810203667, 'reg_alpha': 5.061313298548008, 'min_child_weight': 349.2525700577388, 'min_child_samples': 6}. Best is trial 0 with value: 7.748196039675071.\u001b[0m\n"
     ]
    },
    {
     "name": "stdout",
     "output_type": "stream",
     "text": [
      "Training until validation scores don't improve for 200 rounds\n",
      "[1000]\tvalid_0's rmse: 7.77502\n",
      "[2000]\tvalid_0's rmse: 7.76126\n",
      "[3000]\tvalid_0's rmse: 7.75693\n",
      "[4000]\tvalid_0's rmse: 7.75513\n",
      "[5000]\tvalid_0's rmse: 7.75287\n",
      "[6000]\tvalid_0's rmse: 7.75165\n",
      "Early stopping, best iteration is:\n",
      "[5923]\tvalid_0's rmse: 7.75159\n",
      "Training until validation scores don't improve for 200 rounds\n",
      "[1000]\tvalid_0's rmse: 7.77556\n",
      "[2000]\tvalid_0's rmse: 7.76256\n",
      "[3000]\tvalid_0's rmse: 7.7585\n",
      "[4000]\tvalid_0's rmse: 7.75566\n",
      "[5000]\tvalid_0's rmse: 7.75385\n",
      "[6000]\tvalid_0's rmse: 7.75207\n",
      "[7000]\tvalid_0's rmse: 7.75101\n",
      "Early stopping, best iteration is:\n",
      "[7146]\tvalid_0's rmse: 7.75077\n"
     ]
    },
    {
     "name": "stderr",
     "output_type": "stream",
     "text": [
      "\u001b[32m[I 2021-08-21 16:09:24,438]\u001b[0m Trial 16 finished with value: 7.749943597343405 and parameters: {'learning_rate': 0.008639344720314147, 'subsample': 0.5559684226067915, 'colsample_bytree': 0.6096697333198392, 'subsample_freq': 3, 'reg_lambda': 2.7252623957189908, 'reg_alpha': 5.12623896710373, 'min_child_weight': 354.03682221095255, 'min_child_samples': 8}. Best is trial 0 with value: 7.748196039675071.\u001b[0m\n"
     ]
    },
    {
     "name": "stdout",
     "output_type": "stream",
     "text": [
      "Training until validation scores don't improve for 200 rounds\n",
      "[1000]\tvalid_0's rmse: 7.77231\n",
      "[2000]\tvalid_0's rmse: 7.76019\n",
      "[3000]\tvalid_0's rmse: 7.75607\n",
      "[4000]\tvalid_0's rmse: 7.75352\n",
      "[5000]\tvalid_0's rmse: 7.75167\n",
      "Early stopping, best iteration is:\n",
      "[5359]\tvalid_0's rmse: 7.75118\n",
      "Training until validation scores don't improve for 200 rounds\n",
      "[1000]\tvalid_0's rmse: 7.77254\n",
      "[2000]\tvalid_0's rmse: 7.76084\n",
      "[3000]\tvalid_0's rmse: 7.75711\n",
      "[4000]\tvalid_0's rmse: 7.75457\n",
      "[5000]\tvalid_0's rmse: 7.75263\n",
      "[6000]\tvalid_0's rmse: 7.7516\n",
      "Early stopping, best iteration is:\n",
      "[6476]\tvalid_0's rmse: 7.75065\n"
     ]
    },
    {
     "name": "stderr",
     "output_type": "stream",
     "text": [
      "\u001b[32m[I 2021-08-21 16:17:57,139]\u001b[0m Trial 17 finished with value: 7.749544387931347 and parameters: {'learning_rate': 0.00962188029563132, 'subsample': 0.5436114637356166, 'colsample_bytree': 0.6022326776944018, 'subsample_freq': 2, 'reg_lambda': 2.7984194698741662, 'reg_alpha': 4.958267504668364, 'min_child_weight': 347.79839395676004, 'min_child_samples': 7}. Best is trial 0 with value: 7.748196039675071.\u001b[0m\n"
     ]
    },
    {
     "name": "stdout",
     "output_type": "stream",
     "text": [
      "Training until validation scores don't improve for 200 rounds\n",
      "[1000]\tvalid_0's rmse: 7.7742\n",
      "[2000]\tvalid_0's rmse: 7.76086\n",
      "[3000]\tvalid_0's rmse: 7.75674\n",
      "[4000]\tvalid_0's rmse: 7.75494\n",
      "[5000]\tvalid_0's rmse: 7.75355\n",
      "[6000]\tvalid_0's rmse: 7.75237\n",
      "Early stopping, best iteration is:\n",
      "[5928]\tvalid_0's rmse: 7.75228\n",
      "Training until validation scores don't improve for 200 rounds\n",
      "[1000]\tvalid_0's rmse: 7.77518\n",
      "[2000]\tvalid_0's rmse: 7.76167\n",
      "[3000]\tvalid_0's rmse: 7.75733\n",
      "[4000]\tvalid_0's rmse: 7.75464\n",
      "[5000]\tvalid_0's rmse: 7.75305\n",
      "[6000]\tvalid_0's rmse: 7.75198\n",
      "Early stopping, best iteration is:\n",
      "[6337]\tvalid_0's rmse: 7.75143\n"
     ]
    },
    {
     "name": "stderr",
     "output_type": "stream",
     "text": [
      "\u001b[32m[I 2021-08-21 16:26:57,900]\u001b[0m Trial 18 finished with value: 7.750659407034641 and parameters: {'learning_rate': 0.008882109454980051, 'subsample': 0.5670955575767435, 'colsample_bytree': 0.6067205593302029, 'subsample_freq': 3, 'reg_lambda': 2.6868294962460673, 'reg_alpha': 5.035523814409623, 'min_child_weight': 350.3300358572059, 'min_child_samples': 6}. Best is trial 0 with value: 7.748196039675071.\u001b[0m\n"
     ]
    },
    {
     "name": "stdout",
     "output_type": "stream",
     "text": [
      "Training until validation scores don't improve for 200 rounds\n",
      "[1000]\tvalid_0's rmse: 7.77281\n",
      "[2000]\tvalid_0's rmse: 7.76022\n",
      "[3000]\tvalid_0's rmse: 7.75616\n",
      "[4000]\tvalid_0's rmse: 7.75335\n",
      "[5000]\tvalid_0's rmse: 7.75181\n",
      "Early stopping, best iteration is:\n",
      "[4897]\tvalid_0's rmse: 7.75173\n",
      "Training until validation scores don't improve for 200 rounds\n",
      "[1000]\tvalid_0's rmse: 7.77408\n",
      "[2000]\tvalid_0's rmse: 7.76198\n",
      "[3000]\tvalid_0's rmse: 7.75757\n",
      "[4000]\tvalid_0's rmse: 7.75528\n",
      "[5000]\tvalid_0's rmse: 7.75342\n",
      "[6000]\tvalid_0's rmse: 7.75214\n",
      "Early stopping, best iteration is:\n",
      "[6438]\tvalid_0's rmse: 7.75138\n"
     ]
    },
    {
     "name": "stderr",
     "output_type": "stream",
     "text": [
      "\u001b[32m[I 2021-08-21 16:35:22,900]\u001b[0m Trial 19 finished with value: 7.7502991568527495 and parameters: {'learning_rate': 0.009316783026484123, 'subsample': 0.5594978122774624, 'colsample_bytree': 0.6099063178543743, 'subsample_freq': 2, 'reg_lambda': 2.7754309956770866, 'reg_alpha': 5.127618175903923, 'min_child_weight': 346.18476626867806, 'min_child_samples': 8}. Best is trial 0 with value: 7.748196039675071.\u001b[0m\n"
     ]
    },
    {
     "name": "stdout",
     "output_type": "stream",
     "text": [
      "Training until validation scores don't improve for 200 rounds\n",
      "[1000]\tvalid_0's rmse: 7.7716\n",
      "[2000]\tvalid_0's rmse: 7.76049\n",
      "[3000]\tvalid_0's rmse: 7.75649\n",
      "[4000]\tvalid_0's rmse: 7.75399\n",
      "[5000]\tvalid_0's rmse: 7.75176\n",
      "[6000]\tvalid_0's rmse: 7.75007\n",
      "Early stopping, best iteration is:\n",
      "[5910]\tvalid_0's rmse: 7.75004\n",
      "Training until validation scores don't improve for 200 rounds\n",
      "[1000]\tvalid_0's rmse: 7.77247\n",
      "[2000]\tvalid_0's rmse: 7.76063\n",
      "[3000]\tvalid_0's rmse: 7.75614\n",
      "[4000]\tvalid_0's rmse: 7.75431\n",
      "[5000]\tvalid_0's rmse: 7.75245\n",
      "[6000]\tvalid_0's rmse: 7.75097\n",
      "[7000]\tvalid_0's rmse: 7.7505\n",
      "Early stopping, best iteration is:\n",
      "[7233]\tvalid_0's rmse: 7.75015\n"
     ]
    },
    {
     "name": "stderr",
     "output_type": "stream",
     "text": [
      "\u001b[32m[I 2021-08-21 16:44:32,408]\u001b[0m Trial 20 finished with value: 7.748494766213345 and parameters: {'learning_rate': 0.009875255129272021, 'subsample': 0.539789744102181, 'colsample_bytree': 0.5883971370044516, 'subsample_freq': 3, 'reg_lambda': 2.731522441587864, 'reg_alpha': 5.31733605464614, 'min_child_weight': 353.70419464544074, 'min_child_samples': 7}. Best is trial 0 with value: 7.748196039675071.\u001b[0m\n"
     ]
    },
    {
     "name": "stdout",
     "output_type": "stream",
     "text": [
      "Training until validation scores don't improve for 200 rounds\n",
      "[1000]\tvalid_0's rmse: 7.77148\n",
      "[2000]\tvalid_0's rmse: 7.76003\n",
      "[3000]\tvalid_0's rmse: 7.75635\n",
      "[4000]\tvalid_0's rmse: 7.75392\n",
      "[5000]\tvalid_0's rmse: 7.75157\n",
      "Early stopping, best iteration is:\n",
      "[5651]\tvalid_0's rmse: 7.7503\n",
      "Training until validation scores don't improve for 200 rounds\n",
      "[1000]\tvalid_0's rmse: 7.77253\n",
      "[2000]\tvalid_0's rmse: 7.76047\n",
      "[3000]\tvalid_0's rmse: 7.75578\n",
      "[4000]\tvalid_0's rmse: 7.75366\n",
      "[5000]\tvalid_0's rmse: 7.75194\n",
      "[6000]\tvalid_0's rmse: 7.75038\n",
      "Early stopping, best iteration is:\n",
      "[6476]\tvalid_0's rmse: 7.74981\n"
     ]
    },
    {
     "name": "stderr",
     "output_type": "stream",
     "text": [
      "\u001b[32m[I 2021-08-21 16:52:57,859]\u001b[0m Trial 21 finished with value: 7.748572082528279 and parameters: {'learning_rate': 0.009923226506432428, 'subsample': 0.5399296798817861, 'colsample_bytree': 0.5876511987273686, 'subsample_freq': 3, 'reg_lambda': 2.7335347768711094, 'reg_alpha': 5.312221557573876, 'min_child_weight': 355.9166417796695, 'min_child_samples': 7}. Best is trial 0 with value: 7.748196039675071.\u001b[0m\n"
     ]
    },
    {
     "name": "stdout",
     "output_type": "stream",
     "text": [
      "Training until validation scores don't improve for 200 rounds\n",
      "[1000]\tvalid_0's rmse: 7.77194\n",
      "[2000]\tvalid_0's rmse: 7.76044\n",
      "[3000]\tvalid_0's rmse: 7.75637\n",
      "[4000]\tvalid_0's rmse: 7.75445\n",
      "[5000]\tvalid_0's rmse: 7.75285\n",
      "Early stopping, best iteration is:\n",
      "[5413]\tvalid_0's rmse: 7.75211\n",
      "Training until validation scores don't improve for 200 rounds\n",
      "[1000]\tvalid_0's rmse: 7.77241\n",
      "[2000]\tvalid_0's rmse: 7.76058\n",
      "[3000]\tvalid_0's rmse: 7.75631\n",
      "[4000]\tvalid_0's rmse: 7.75378\n",
      "Early stopping, best iteration is:\n",
      "[4721]\tvalid_0's rmse: 7.75285\n"
     ]
    },
    {
     "name": "stderr",
     "output_type": "stream",
     "text": [
      "\u001b[32m[I 2021-08-21 17:00:08,407]\u001b[0m Trial 22 finished with value: 7.751195413587109 and parameters: {'learning_rate': 0.009846707903434018, 'subsample': 0.5384472115061021, 'colsample_bytree': 0.5867936482127263, 'subsample_freq': 3, 'reg_lambda': 2.7308570815137454, 'reg_alpha': 5.307279787629323, 'min_child_weight': 356.32403813146396, 'min_child_samples': 7}. Best is trial 0 with value: 7.748196039675071.\u001b[0m\n"
     ]
    },
    {
     "name": "stdout",
     "output_type": "stream",
     "text": [
      "Training until validation scores don't improve for 200 rounds\n",
      "[1000]\tvalid_0's rmse: 7.76965\n",
      "[2000]\tvalid_0's rmse: 7.7593\n",
      "[3000]\tvalid_0's rmse: 7.75593\n",
      "[4000]\tvalid_0's rmse: 7.75328\n",
      "[5000]\tvalid_0's rmse: 7.75214\n",
      "[6000]\tvalid_0's rmse: 7.75041\n",
      "Early stopping, best iteration is:\n",
      "[6003]\tvalid_0's rmse: 7.7504\n",
      "Training until validation scores don't improve for 200 rounds\n",
      "[1000]\tvalid_0's rmse: 7.7713\n",
      "[2000]\tvalid_0's rmse: 7.76087\n",
      "[3000]\tvalid_0's rmse: 7.757\n",
      "[4000]\tvalid_0's rmse: 7.75467\n",
      "[5000]\tvalid_0's rmse: 7.75342\n",
      "[6000]\tvalid_0's rmse: 7.75198\n",
      "Early stopping, best iteration is:\n",
      "[5949]\tvalid_0's rmse: 7.75195\n"
     ]
    },
    {
     "name": "stderr",
     "output_type": "stream",
     "text": [
      "\u001b[32m[I 2021-08-21 17:08:24,658]\u001b[0m Trial 23 finished with value: 7.74955601587317 and parameters: {'learning_rate': 0.010575848094754862, 'subsample': 0.5408164627067874, 'colsample_bytree': 0.5878227552869645, 'subsample_freq': 3, 'reg_lambda': 2.705930811136679, 'reg_alpha': 5.270081691291229, 'min_child_weight': 353.5906243378825, 'min_child_samples': 7}. Best is trial 0 with value: 7.748196039675071.\u001b[0m\n"
     ]
    },
    {
     "name": "stdout",
     "output_type": "stream",
     "text": [
      "Training until validation scores don't improve for 200 rounds\n",
      "[1000]\tvalid_0's rmse: 7.77189\n",
      "[2000]\tvalid_0's rmse: 7.76057\n",
      "[3000]\tvalid_0's rmse: 7.75733\n",
      "[4000]\tvalid_0's rmse: 7.75521\n",
      "[5000]\tvalid_0's rmse: 7.75322\n",
      "[6000]\tvalid_0's rmse: 7.75143\n",
      "Early stopping, best iteration is:\n",
      "[6444]\tvalid_0's rmse: 7.75088\n",
      "Training until validation scores don't improve for 200 rounds\n",
      "[1000]\tvalid_0's rmse: 7.7726\n",
      "[2000]\tvalid_0's rmse: 7.76085\n",
      "[3000]\tvalid_0's rmse: 7.75609\n",
      "[4000]\tvalid_0's rmse: 7.75346\n",
      "Early stopping, best iteration is:\n",
      "[4388]\tvalid_0's rmse: 7.75253\n"
     ]
    },
    {
     "name": "stderr",
     "output_type": "stream",
     "text": [
      "\u001b[32m[I 2021-08-21 17:15:57,116]\u001b[0m Trial 24 finished with value: 7.750171932223889 and parameters: {'learning_rate': 0.01002994287219961, 'subsample': 0.5397718742992921, 'colsample_bytree': 0.5820443304568625, 'subsample_freq': 3, 'reg_lambda': 2.7573828527477606, 'reg_alpha': 5.266925850153778, 'min_child_weight': 355.58824813374605, 'min_child_samples': 7}. Best is trial 0 with value: 7.748196039675071.\u001b[0m\n"
     ]
    },
    {
     "name": "stdout",
     "output_type": "stream",
     "text": [
      "Training until validation scores don't improve for 200 rounds\n",
      "[1000]\tvalid_0's rmse: 7.77301\n",
      "[2000]\tvalid_0's rmse: 7.76174\n",
      "[3000]\tvalid_0's rmse: 7.75807\n",
      "[4000]\tvalid_0's rmse: 7.75565\n",
      "Early stopping, best iteration is:\n",
      "[4306]\tvalid_0's rmse: 7.75502\n",
      "Training until validation scores don't improve for 200 rounds\n",
      "[1000]\tvalid_0's rmse: 7.77406\n",
      "[2000]\tvalid_0's rmse: 7.76201\n",
      "[3000]\tvalid_0's rmse: 7.75837\n",
      "[4000]\tvalid_0's rmse: 7.75644\n",
      "Early stopping, best iteration is:\n",
      "[3927]\tvalid_0's rmse: 7.75625\n"
     ]
    },
    {
     "name": "stderr",
     "output_type": "stream",
     "text": [
      "\u001b[32m[I 2021-08-21 17:21:58,038]\u001b[0m Trial 25 finished with value: 7.754580672601488 and parameters: {'learning_rate': 0.00963690304910147, 'subsample': 0.5449892159414387, 'colsample_bytree': 0.5836003167674183, 'subsample_freq': 4, 'reg_lambda': 2.6757957290634007, 'reg_alpha': 5.3137764808422325, 'min_child_weight': 357.9331503800456, 'min_child_samples': 7}. Best is trial 0 with value: 7.748196039675071.\u001b[0m\n"
     ]
    },
    {
     "name": "stdout",
     "output_type": "stream",
     "text": [
      "Training until validation scores don't improve for 200 rounds\n",
      "[1000]\tvalid_0's rmse: 7.77189\n",
      "[2000]\tvalid_0's rmse: 7.75997\n",
      "[3000]\tvalid_0's rmse: 7.75592\n",
      "[4000]\tvalid_0's rmse: 7.75381\n",
      "[5000]\tvalid_0's rmse: 7.75199\n",
      "Early stopping, best iteration is:\n",
      "[5256]\tvalid_0's rmse: 7.75157\n",
      "Training until validation scores don't improve for 200 rounds\n",
      "[1000]\tvalid_0's rmse: 7.77286\n",
      "[2000]\tvalid_0's rmse: 7.76139\n",
      "[3000]\tvalid_0's rmse: 7.75705\n",
      "[4000]\tvalid_0's rmse: 7.75468\n",
      "[5000]\tvalid_0's rmse: 7.75341\n",
      "[6000]\tvalid_0's rmse: 7.75236\n",
      "Early stopping, best iteration is:\n",
      "[6346]\tvalid_0's rmse: 7.75178\n"
     ]
    },
    {
     "name": "stderr",
     "output_type": "stream",
     "text": [
      "\u001b[32m[I 2021-08-21 17:30:10,198]\u001b[0m Trial 26 finished with value: 7.750255096899896 and parameters: {'learning_rate': 0.009948027561826176, 'subsample': 0.5579531479664318, 'colsample_bytree': 0.5886560959477994, 'subsample_freq': 3, 'reg_lambda': 2.7384726763727283, 'reg_alpha': 5.259698021681769, 'min_child_weight': 351.323460510635, 'min_child_samples': 7}. Best is trial 0 with value: 7.748196039675071.\u001b[0m\n"
     ]
    },
    {
     "name": "stdout",
     "output_type": "stream",
     "text": [
      "Training until validation scores don't improve for 200 rounds\n",
      "[1000]\tvalid_0's rmse: 7.77121\n",
      "[2000]\tvalid_0's rmse: 7.75995\n",
      "[3000]\tvalid_0's rmse: 7.75633\n",
      "[4000]\tvalid_0's rmse: 7.75383\n",
      "[5000]\tvalid_0's rmse: 7.75248\n",
      "Early stopping, best iteration is:\n",
      "[5259]\tvalid_0's rmse: 7.75188\n",
      "Training until validation scores don't improve for 200 rounds\n",
      "[1000]\tvalid_0's rmse: 7.77139\n",
      "[2000]\tvalid_0's rmse: 7.75989\n",
      "[3000]\tvalid_0's rmse: 7.75619\n",
      "[4000]\tvalid_0's rmse: 7.75382\n",
      "[5000]\tvalid_0's rmse: 7.75264\n",
      "Early stopping, best iteration is:\n",
      "[4907]\tvalid_0's rmse: 7.75248\n"
     ]
    },
    {
     "name": "stderr",
     "output_type": "stream",
     "text": [
      "\u001b[32m[I 2021-08-21 17:37:27,921]\u001b[0m Trial 27 finished with value: 7.7509111024078985 and parameters: {'learning_rate': 0.010229428422585729, 'subsample': 0.5630073154696186, 'colsample_bytree': 0.5899136264804999, 'subsample_freq': 2, 'reg_lambda': 2.7155318837937337, 'reg_alpha': 5.2389728433453735, 'min_child_weight': 353.38790458986296, 'min_child_samples': 6}. Best is trial 0 with value: 7.748196039675071.\u001b[0m\n"
     ]
    },
    {
     "name": "stdout",
     "output_type": "stream",
     "text": [
      "Training until validation scores don't improve for 200 rounds\n",
      "[1000]\tvalid_0's rmse: 7.77091\n",
      "[2000]\tvalid_0's rmse: 7.75961\n",
      "[3000]\tvalid_0's rmse: 7.75649\n",
      "[4000]\tvalid_0's rmse: 7.75445\n",
      "Early stopping, best iteration is:\n",
      "[4235]\tvalid_0's rmse: 7.75358\n",
      "Training until validation scores don't improve for 200 rounds\n",
      "[1000]\tvalid_0's rmse: 7.77129\n",
      "[2000]\tvalid_0's rmse: 7.75971\n",
      "[3000]\tvalid_0's rmse: 7.7556\n",
      "[4000]\tvalid_0's rmse: 7.75316\n",
      "[5000]\tvalid_0's rmse: 7.75204\n",
      "Early stopping, best iteration is:\n",
      "[5644]\tvalid_0's rmse: 7.75065\n"
     ]
    },
    {
     "name": "stderr",
     "output_type": "stream",
     "text": [
      "\u001b[32m[I 2021-08-21 17:44:27,247]\u001b[0m Trial 28 finished with value: 7.75066515674935 and parameters: {'learning_rate': 0.010445944532131457, 'subsample': 0.5424775395651212, 'colsample_bytree': 0.5945409622233735, 'subsample_freq': 3, 'reg_lambda': 2.765384017726487, 'reg_alpha': 5.286350514403525, 'min_child_weight': 354.56442517972846, 'min_child_samples': 7}. Best is trial 0 with value: 7.748196039675071.\u001b[0m\n"
     ]
    },
    {
     "name": "stdout",
     "output_type": "stream",
     "text": [
      "Training until validation scores don't improve for 200 rounds\n",
      "[1000]\tvalid_0's rmse: 7.77234\n",
      "[2000]\tvalid_0's rmse: 7.7609\n",
      "[3000]\tvalid_0's rmse: 7.75694\n",
      "[4000]\tvalid_0's rmse: 7.75459\n",
      "[5000]\tvalid_0's rmse: 7.75232\n",
      "[6000]\tvalid_0's rmse: 7.75099\n",
      "Early stopping, best iteration is:\n",
      "[6567]\tvalid_0's rmse: 7.75037\n",
      "Training until validation scores don't improve for 200 rounds\n",
      "[1000]\tvalid_0's rmse: 7.77302\n",
      "[2000]\tvalid_0's rmse: 7.7611\n",
      "[3000]\tvalid_0's rmse: 7.75692\n",
      "[4000]\tvalid_0's rmse: 7.75453\n",
      "Early stopping, best iteration is:\n",
      "[4349]\tvalid_0's rmse: 7.75408\n"
     ]
    },
    {
     "name": "stderr",
     "output_type": "stream",
     "text": [
      "\u001b[32m[I 2021-08-21 17:52:05,438]\u001b[0m Trial 29 finished with value: 7.750774791213117 and parameters: {'learning_rate': 0.009718212524917369, 'subsample': 0.54608746752471, 'colsample_bytree': 0.5849262181277749, 'subsample_freq': 3, 'reg_lambda': 2.7843539501271852, 'reg_alpha': 5.22560454002953, 'min_child_weight': 356.03177603996573, 'min_child_samples': 6}. Best is trial 0 with value: 7.748196039675071.\u001b[0m\n"
     ]
    },
    {
     "name": "stdout",
     "output_type": "stream",
     "text": [
      "Number of finished trials: 30\n",
      "Best trial: {'learning_rate': 0.01042317371433061, 'subsample': 0.5578423448253642, 'colsample_bytree': 0.6092268400425587, 'subsample_freq': 2, 'reg_lambda': 2.773524452534491, 'reg_alpha': 4.957414541010295, 'min_child_weight': 350.7509252088729, 'min_child_samples': 6}\n"
     ]
    }
   ],
   "source": [
    "study = optuna.create_study(direction='minimize')\n",
    "study.optimize(objective,n_trials= 30)\n",
    "print('Number of finished trials:', len(study.trials))\n",
    "print('Best trial:', study.best_trial.params)"
   ]
  },
  {
   "cell_type": "code",
   "execution_count": 11,
   "id": "9857f94d",
   "metadata": {
    "execution": {
     "iopub.execute_input": "2021-08-21T17:52:05.776301Z",
     "iopub.status.busy": "2021-08-21T17:52:05.775594Z",
     "iopub.status.idle": "2021-08-21T17:52:05.779913Z",
     "shell.execute_reply": "2021-08-21T17:52:05.779374Z"
    },
    "papermill": {
     "duration": 0.166876,
     "end_time": "2021-08-21T17:52:05.780077",
     "exception": false,
     "start_time": "2021-08-21T17:52:05.613201",
     "status": "completed"
    },
    "tags": []
   },
   "outputs": [
    {
     "data": {
      "text/plain": [
       "{'learning_rate': 0.01042317371433061,\n",
       " 'subsample': 0.5578423448253642,\n",
       " 'colsample_bytree': 0.6092268400425587,\n",
       " 'subsample_freq': 2,\n",
       " 'reg_lambda': 2.773524452534491,\n",
       " 'reg_alpha': 4.957414541010295,\n",
       " 'min_child_weight': 350.7509252088729,\n",
       " 'min_child_samples': 6}"
      ]
     },
     "execution_count": 11,
     "metadata": {},
     "output_type": "execute_result"
    }
   ],
   "source": [
    "study.best_params"
   ]
  },
  {
   "cell_type": "markdown",
   "id": "48f3652d",
   "metadata": {
    "papermill": {
     "duration": 0.151965,
     "end_time": "2021-08-21T17:52:06.084937",
     "exception": false,
     "start_time": "2021-08-21T17:52:05.932972",
     "status": "completed"
    },
    "tags": []
   },
   "source": [
    "# Log\n",
    "\n",
    "7.761521447852026 row-wise noise ver3\n",
    "\n",
    "7.7627473037692365 random noise ver4\n",
    "\n",
    "7.749394595681444 no noise ver6\n",
    "\n",
    "7.7488157884604965 no noise ver8 (narrow space)\n",
    "\n",
    "7.748628607085202 no noise ver10 (narrow space)\n",
    "\n",
    "7.7483594115082495 no noise ver11 (narrow space)"
   ]
  }
 ],
 "metadata": {
  "kernelspec": {
   "display_name": "Python 3",
   "language": "python",
   "name": "python3"
  },
  "language_info": {
   "codemirror_mode": {
    "name": "ipython",
    "version": 3
   },
   "file_extension": ".py",
   "mimetype": "text/x-python",
   "name": "python",
   "nbconvert_exporter": "python",
   "pygments_lexer": "ipython3",
   "version": "3.7.10"
  },
  "papermill": {
   "default_parameters": {},
   "duration": 14918.563064,
   "end_time": "2021-08-21T17:52:07.360140",
   "environment_variables": {},
   "exception": null,
   "input_path": "__notebook__.ipynb",
   "output_path": "__notebook__.ipynb",
   "parameters": {},
   "start_time": "2021-08-21T13:43:28.797076",
   "version": "2.3.3"
  }
 },
 "nbformat": 4,
 "nbformat_minor": 5
}
