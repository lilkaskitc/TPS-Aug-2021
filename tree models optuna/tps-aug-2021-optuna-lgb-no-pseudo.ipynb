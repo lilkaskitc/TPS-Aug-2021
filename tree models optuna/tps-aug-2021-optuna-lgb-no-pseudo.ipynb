{
 "cells": [
  {
   "cell_type": "code",
   "execution_count": 1,
   "id": "8dc4437e",
   "metadata": {
    "_cell_guid": "b1076dfc-b9ad-4769-8c92-a6c4dae69d19",
    "_uuid": "8f2839f25d086af736a60e9eeb907d3b93b6e0e5",
    "execution": {
     "iopub.execute_input": "2021-08-21T04:12:28.284914Z",
     "iopub.status.busy": "2021-08-21T04:12:28.283124Z",
     "iopub.status.idle": "2021-08-21T04:12:30.599440Z",
     "shell.execute_reply": "2021-08-21T04:12:30.598496Z",
     "shell.execute_reply.started": "2021-08-19T15:16:02.976924Z"
    },
    "papermill": {
     "duration": 2.334544,
     "end_time": "2021-08-21T04:12:30.599656",
     "exception": false,
     "start_time": "2021-08-21T04:12:28.265112",
     "status": "completed"
    },
    "tags": []
   },
   "outputs": [
    {
     "data": {
      "text/html": [
       "<style type='text/css'>\n",
       ".datatable table.frame { margin-bottom: 0; }\n",
       ".datatable table.frame thead { border-bottom: none; }\n",
       ".datatable table.frame tr.coltypes td {  color: #FFFFFF;  line-height: 6px;  padding: 0 0.5em;}\n",
       ".datatable .bool    { background: #DDDD99; }\n",
       ".datatable .object  { background: #565656; }\n",
       ".datatable .int     { background: #5D9E5D; }\n",
       ".datatable .float   { background: #4040CC; }\n",
       ".datatable .str     { background: #CC4040; }\n",
       ".datatable .time    { background: #40CC40; }\n",
       ".datatable .row_index {  background: var(--jp-border-color3);  border-right: 1px solid var(--jp-border-color0);  color: var(--jp-ui-font-color3);  font-size: 9px;}\n",
       ".datatable .frame tbody td { text-align: left; }\n",
       ".datatable .frame tr.coltypes .row_index {  background: var(--jp-border-color0);}\n",
       ".datatable th:nth-child(2) { padding-left: 12px; }\n",
       ".datatable .hellipsis {  color: var(--jp-cell-editor-border-color);}\n",
       ".datatable .vellipsis {  background: var(--jp-layout-color0);  color: var(--jp-cell-editor-border-color);}\n",
       ".datatable .na {  color: var(--jp-cell-editor-border-color);  font-size: 80%;}\n",
       ".datatable .sp {  opacity: 0.25;}\n",
       ".datatable .footer { font-size: 9px; }\n",
       ".datatable .frame_dimensions {  background: var(--jp-border-color3);  border-top: 1px solid var(--jp-border-color0);  color: var(--jp-ui-font-color3);  display: inline-block;  opacity: 0.6;  padding: 1px 10px 1px 5px;}\n",
       "</style>\n"
      ],
      "text/plain": [
       "<IPython.core.display.HTML object>"
      ]
     },
     "metadata": {},
     "output_type": "display_data"
    }
   ],
   "source": [
    "# Familiar imports\n",
    "import numpy as np\n",
    "import pandas as pd\n",
    "import random\n",
    "import os\n",
    "import time\n",
    "from pathlib import Path\n",
    "\n",
    "from sklearn.preprocessing import StandardScaler\n",
    "from sklearn.model_selection import KFold, train_test_split\n",
    "from sklearn.metrics import mean_squared_error\n",
    "\n",
    "import lightgbm as lgb\n",
    "#import xgboost as xgb\n",
    "#import catboost as ctb\n",
    "\n",
    "import warnings\n",
    "warnings.simplefilter('ignore')"
   ]
  },
  {
   "cell_type": "markdown",
   "id": "809b4c18",
   "metadata": {
    "papermill": {
     "duration": 0.012356,
     "end_time": "2021-08-21T04:12:30.625943",
     "exception": false,
     "start_time": "2021-08-21T04:12:30.613587",
     "status": "completed"
    },
    "tags": []
   },
   "source": [
    "# Parameters"
   ]
  },
  {
   "cell_type": "code",
   "execution_count": 2,
   "id": "ebebf901",
   "metadata": {
    "execution": {
     "iopub.execute_input": "2021-08-21T04:12:30.655510Z",
     "iopub.status.busy": "2021-08-21T04:12:30.654795Z",
     "iopub.status.idle": "2021-08-21T04:12:30.661775Z",
     "shell.execute_reply": "2021-08-21T04:12:30.661221Z",
     "shell.execute_reply.started": "2021-08-19T15:16:05.387101Z"
    },
    "papermill": {
     "duration": 0.022759,
     "end_time": "2021-08-21T04:12:30.661936",
     "exception": false,
     "start_time": "2021-08-21T04:12:30.639177",
     "status": "completed"
    },
    "tags": []
   },
   "outputs": [],
   "source": [
    "target = 'loss'\n",
    "\n",
    "DEBUG = False\n",
    "\n",
    "if DEBUG:\n",
    "    N_ESTIMATORS = 1\n",
    "    N_SPLITS = 2\n",
    "    SEED = 17\n",
    "    CVSEED = 17\n",
    "    EARLY_STOPPING_ROUNDS = 1\n",
    "    VERBOSE = 100\n",
    "    #N_ITERS = 2\n",
    "else:\n",
    "    N_SPLITS = 10\n",
    "    N_ESTIMATORS = 10000\n",
    "    EARLY_STOPPING_ROUNDS = 200\n",
    "    VERBOSE = 1000\n",
    "    SEED = 17\n",
    "    CVSEED = 17\n",
    "    #N_ITERS = 10"
   ]
  },
  {
   "cell_type": "code",
   "execution_count": 3,
   "id": "a2b24d22",
   "metadata": {
    "execution": {
     "iopub.execute_input": "2021-08-21T04:12:30.693961Z",
     "iopub.status.busy": "2021-08-21T04:12:30.693191Z",
     "iopub.status.idle": "2021-08-21T04:12:30.696451Z",
     "shell.execute_reply": "2021-08-21T04:12:30.695801Z",
     "shell.execute_reply.started": "2021-08-19T15:16:05.395725Z"
    },
    "papermill": {
     "duration": 0.021417,
     "end_time": "2021-08-21T04:12:30.696614",
     "exception": false,
     "start_time": "2021-08-21T04:12:30.675197",
     "status": "completed"
    },
    "tags": []
   },
   "outputs": [],
   "source": [
    "def set_seed(seed=17):\n",
    "    random.seed(seed)\n",
    "    os.environ['PYTHONHASHSEED'] = str(seed)\n",
    "    np.random.seed(seed)\n",
    "    \n",
    "set_seed(SEED)"
   ]
  },
  {
   "cell_type": "markdown",
   "id": "286488c0",
   "metadata": {
    "papermill": {
     "duration": 0.012696,
     "end_time": "2021-08-21T04:12:30.722412",
     "exception": false,
     "start_time": "2021-08-21T04:12:30.709716",
     "status": "completed"
    },
    "tags": []
   },
   "source": [
    "# Load data"
   ]
  },
  {
   "cell_type": "code",
   "execution_count": 4,
   "id": "83854a0b",
   "metadata": {
    "execution": {
     "iopub.execute_input": "2021-08-21T04:12:30.755549Z",
     "iopub.status.busy": "2021-08-21T04:12:30.754754Z",
     "iopub.status.idle": "2021-08-21T04:12:42.807216Z",
     "shell.execute_reply": "2021-08-21T04:12:42.806413Z",
     "shell.execute_reply.started": "2021-08-19T15:16:05.409638Z"
    },
    "papermill": {
     "duration": 12.07165,
     "end_time": "2021-08-21T04:12:42.807435",
     "exception": false,
     "start_time": "2021-08-21T04:12:30.735785",
     "status": "completed"
    },
    "tags": []
   },
   "outputs": [],
   "source": [
    "INPUT = Path(\"../input/tabular-playground-series-aug-2021\")\n",
    "\n",
    "train = pd.read_csv(INPUT / \"train.csv\")\n",
    "test = pd.read_csv(INPUT / \"test.csv\")\n",
    "submission = pd.read_csv(INPUT / \"sample_submission.csv\")"
   ]
  },
  {
   "cell_type": "markdown",
   "id": "b38da4ce",
   "metadata": {
    "papermill": {
     "duration": 0.012127,
     "end_time": "2021-08-21T04:12:42.832408",
     "exception": false,
     "start_time": "2021-08-21T04:12:42.820281",
     "status": "completed"
    },
    "tags": []
   },
   "source": [
    "# Preprocessing"
   ]
  },
  {
   "cell_type": "code",
   "execution_count": 5,
   "id": "736b0582",
   "metadata": {
    "execution": {
     "iopub.execute_input": "2021-08-21T04:12:42.974754Z",
     "iopub.status.busy": "2021-08-21T04:12:42.974092Z",
     "iopub.status.idle": "2021-08-21T04:12:55.868123Z",
     "shell.execute_reply": "2021-08-21T04:12:55.867596Z",
     "shell.execute_reply.started": "2021-08-19T15:16:18.329216Z"
    },
    "papermill": {
     "duration": 13.023378,
     "end_time": "2021-08-21T04:12:55.868273",
     "exception": false,
     "start_time": "2021-08-21T04:12:42.844895",
     "status": "completed"
    },
    "tags": []
   },
   "outputs": [],
   "source": [
    "scale_features = [col for col in test.columns if 'f' in col]\n",
    "\n",
    "ss = StandardScaler()\n",
    "train[scale_features] = ss.fit_transform(train[scale_features])\n",
    "test[scale_features] = ss.transform(test[scale_features])"
   ]
  },
  {
   "cell_type": "code",
   "execution_count": 6,
   "id": "e651a9db",
   "metadata": {
    "execution": {
     "iopub.execute_input": "2021-08-21T04:12:55.897306Z",
     "iopub.status.busy": "2021-08-21T04:12:55.896318Z",
     "iopub.status.idle": "2021-08-21T04:12:55.904186Z",
     "shell.execute_reply": "2021-08-21T04:12:55.904726Z",
     "shell.execute_reply.started": "2021-08-19T15:16:30.664261Z"
    },
    "papermill": {
     "duration": 0.024071,
     "end_time": "2021-08-21T04:12:55.904908",
     "exception": false,
     "start_time": "2021-08-21T04:12:55.880837",
     "status": "completed"
    },
    "tags": []
   },
   "outputs": [],
   "source": [
    "# Swap noise\n",
    "\n",
    "# Random\n",
    "def apply_noise_rn(df, p=.75):\n",
    "    should_not_swap = np.random.binomial(1, p, df.shape)\n",
    "    corrupted_df = df.where(should_not_swap == 1, np.random.permutation(df))\n",
    "    return corrupted_df\n",
    "\n",
    "# Row-wise\n",
    "def apply_noise_row(df, p=.75):\n",
    "    should_not_swap = np.zeros(df.shape)\n",
    "    for i in range(df.shape[0]):\n",
    "        for j in np.random.choice(df.shape[1],int(p*df.shape[1]),replace=False):\n",
    "            should_not_swap[i,j]=1 \n",
    "    corrupted_df = df.where(should_not_swap == 1, np.random.permutation(df))\n",
    "    return corrupted_df"
   ]
  },
  {
   "cell_type": "markdown",
   "id": "ab5de881",
   "metadata": {
    "papermill": {
     "duration": 0.012342,
     "end_time": "2021-08-21T04:12:55.929873",
     "exception": false,
     "start_time": "2021-08-21T04:12:55.917531",
     "status": "completed"
    },
    "tags": []
   },
   "source": [
    "# Optuna"
   ]
  },
  {
   "cell_type": "code",
   "execution_count": 7,
   "id": "a5ab857d",
   "metadata": {
    "execution": {
     "iopub.execute_input": "2021-08-21T04:12:55.960013Z",
     "iopub.status.busy": "2021-08-21T04:12:55.958820Z",
     "iopub.status.idle": "2021-08-21T04:13:06.337836Z",
     "shell.execute_reply": "2021-08-21T04:13:06.337234Z",
     "shell.execute_reply.started": "2021-08-19T15:16:30.673821Z"
    },
    "papermill": {
     "duration": 10.3954,
     "end_time": "2021-08-21T04:13:06.337993",
     "exception": false,
     "start_time": "2021-08-21T04:12:55.942593",
     "status": "completed"
    },
    "tags": []
   },
   "outputs": [
    {
     "name": "stdout",
     "output_type": "stream",
     "text": [
      "\u001b[33mWARNING: Running pip as root will break packages and permissions. You should install packages reliably by using venv: https://pip.pypa.io/warnings/venv\u001b[0m\r\n"
     ]
    }
   ],
   "source": [
    "# Optuna for parameter search\n",
    "!pip install -q optuna\n",
    "\n",
    "import optuna\n",
    "import pickle"
   ]
  },
  {
   "cell_type": "code",
   "execution_count": 8,
   "id": "5d96485a",
   "metadata": {
    "execution": {
     "iopub.execute_input": "2021-08-21T04:13:06.380553Z",
     "iopub.status.busy": "2021-08-21T04:13:06.379855Z",
     "iopub.status.idle": "2021-08-21T04:13:06.719024Z",
     "shell.execute_reply": "2021-08-21T04:13:06.718325Z",
     "shell.execute_reply.started": "2021-08-19T15:16:41.435823Z"
    },
    "papermill": {
     "duration": 0.368186,
     "end_time": "2021-08-21T04:13:06.719169",
     "exception": false,
     "start_time": "2021-08-21T04:13:06.350983",
     "status": "completed"
    },
    "tags": []
   },
   "outputs": [],
   "source": [
    "# for the fixed learning rate, use the opt n iterations and tune the tree hyperparameters\n",
    "def objective(trial, X=train[scale_features], y=train[target]):\n",
    "  \"\"\"\n",
    "  \"\"\"\n",
    "  param_space = {\n",
    "                    'objective': 'regression',\n",
    "              'metric':'rmse',\n",
    "               #'device':'gpu',  # Use GPU acceleration\n",
    "               # 'gpu_platform_id': 0,\n",
    "                #    'gpu_device_id': 0,\n",
    "               'n_estimators':N_ESTIMATORS,\n",
    "              'learning_rate':trial.suggest_uniform('learning_rate', 1e-3, 5e-2),\n",
    "               'subsample': trial.suggest_uniform('subsample', 0.56, 0.76),\n",
    "              'colsample_bytree':trial.suggest_uniform('colsample_bytree', 0.386, 0.586),\n",
    "                'subsample_freq': trial.suggest_int('subsample_freq', 4, 6),\n",
    "             #'boosting_type': 'gbdt',\n",
    "               'reg_lambda':trial.suggest_uniform('reg_lambda', 34, 46),\n",
    "              'reg_alpha':trial.suggest_uniform('reg_alpha', 20, 31),\n",
    "            'min_child_weight':trial.suggest_uniform('min_child_weight', 400, 500),\n",
    "                 'min_child_samples':trial.suggest_int('min_child_samples', 94, 118),\n",
    "          'importance_type': 'gain'\n",
    "             # 'num_leaves':trial.suggest_int('num_leaves', 10, 200),\n",
    "              #'max_depth':trial.suggest_int('max_depth', 5, 50),\n",
    "              #'min_split_gain': trial.suggest_float('min_split_gain', 0.0, 0.005),\n",
    "              #'class_weight':trial.suggest_categorical('class_weight',['balanced',None]),\n",
    "              # 'n_jobs' : -1,\n",
    "                #'max_bin':trial.suggest_int('max_bin', 300, 1000),\n",
    "              #'cat_smooth':trial.suggest_int('cat_smooth', 5, 100),\n",
    "              #'cat_l2':trial.suggest_loguniform('cat_l2', 1e-3, 100)\n",
    "                }\n",
    "            \n",
    "\n",
    "  seed_list=[SEED, SEED+1]\n",
    "  #kf = KFold(n_splits=N_SPLITS, shuffle=True, random_state=CVSEED)\n",
    "  #lgb_oof = np.zeros(train.shape[0])\n",
    "  #lgb_pred = np.zeros(test.shape[0])\n",
    "  \n",
    "  X_tr, X_va, y_tr, y_va = train_test_split(X,y,test_size=.2,random_state=CVSEED)\n",
    "  \n",
    "  pred=np.zeros(y_va.shape[0])\n",
    "  \n",
    "  #for (trn_idx, val_idx) in enumerate(kf.split(X, y)):\n",
    "  #print(f\"===== fold {fold} =====\")\n",
    "  \n",
    "  #X_tr = apply_noise_rn(X_tr)\n",
    "\n",
    "  \n",
    "  #start = time.time()\n",
    "  for inseed in seed_list:\n",
    "    param_space['random_state'] = inseed\n",
    "\n",
    "    model = lgb.LGBMRegressor(**param_space)\n",
    "    model.fit(\n",
    "        X_tr, \n",
    "        y_tr,\n",
    "        eval_set=[(X_va, y_va)],\n",
    "        eval_metric='rmse',\n",
    "        early_stopping_rounds=EARLY_STOPPING_ROUNDS,\n",
    "        verbose=VERBOSE,\n",
    "    )\n",
    "\n",
    "\n",
    "    pred += model.predict(X_va) / len(seed_list)\n",
    "    \n",
    "  #elapsed = time.time() - start\n",
    "  rmse = mean_squared_error(y_va, pred, squared=False)\n",
    "  #print(f\"fold {fold} - lgb rmse: {rmse:.6f}, elapsed time: {elapsed:.2f}sec\\n\")            \n",
    "  \n",
    "  #print(f\"oof lgb_rmse = {mean_squared_error(train[target], lgb_oof, squared=False)}\")\n",
    "\n",
    "  \n",
    "  return rmse"
   ]
  },
  {
   "cell_type": "code",
   "execution_count": 9,
   "id": "93d052b3",
   "metadata": {
    "execution": {
     "iopub.execute_input": "2021-08-21T04:13:06.753009Z",
     "iopub.status.busy": "2021-08-21T04:13:06.751846Z",
     "iopub.status.idle": "2021-08-21T06:16:21.500314Z",
     "shell.execute_reply": "2021-08-21T06:16:21.500841Z",
     "shell.execute_reply.started": "2021-08-19T15:16:41.689387Z"
    },
    "papermill": {
     "duration": 7394.768656,
     "end_time": "2021-08-21T06:16:21.501089",
     "exception": false,
     "start_time": "2021-08-21T04:13:06.732433",
     "status": "completed"
    },
    "tags": []
   },
   "outputs": [
    {
     "name": "stderr",
     "output_type": "stream",
     "text": [
      "\u001b[32m[I 2021-08-21 04:13:06,749]\u001b[0m A new study created in memory with name: no-name-cf6f382e-3977-4728-9d84-0ac2baadb394\u001b[0m\n"
     ]
    },
    {
     "name": "stdout",
     "output_type": "stream",
     "text": [
      "Training until validation scores don't improve for 200 rounds\n",
      "[1000]\tvalid_0's rmse: 7.76623\n",
      "[2000]\tvalid_0's rmse: 7.75951\n",
      "[3000]\tvalid_0's rmse: 7.75829\n",
      "Early stopping, best iteration is:\n",
      "[3130]\tvalid_0's rmse: 7.75782\n",
      "Training until validation scores don't improve for 200 rounds\n",
      "[1000]\tvalid_0's rmse: 7.76699\n",
      "[2000]\tvalid_0's rmse: 7.75942\n",
      "[3000]\tvalid_0's rmse: 7.75654\n",
      "Early stopping, best iteration is:\n",
      "[3043]\tvalid_0's rmse: 7.75627\n"
     ]
    },
    {
     "name": "stderr",
     "output_type": "stream",
     "text": [
      "\u001b[32m[I 2021-08-21 04:16:37,011]\u001b[0m Trial 0 finished with value: 7.75486952004987 and parameters: {'learning_rate': 0.01376508999204714, 'subsample': 0.6948557461507425, 'colsample_bytree': 0.5127040908887421, 'subsample_freq': 4, 'reg_lambda': 42.010560753005905, 'reg_alpha': 27.268524196259943, 'min_child_weight': 455.1441524357472, 'min_child_samples': 103}. Best is trial 0 with value: 7.75486952004987.\u001b[0m\n"
     ]
    },
    {
     "name": "stdout",
     "output_type": "stream",
     "text": [
      "Training until validation scores don't improve for 200 rounds\n",
      "Early stopping, best iteration is:\n",
      "[376]\tvalid_0's rmse: 7.76911\n",
      "Training until validation scores don't improve for 200 rounds\n",
      "Early stopping, best iteration is:\n",
      "[496]\tvalid_0's rmse: 7.76599\n"
     ]
    },
    {
     "name": "stderr",
     "output_type": "stream",
     "text": [
      "\u001b[32m[I 2021-08-21 04:17:24,337]\u001b[0m Trial 1 finished with value: 7.763225243805257 and parameters: {'learning_rate': 0.048983512087310374, 'subsample': 0.7381746742428232, 'colsample_bytree': 0.5458766566819864, 'subsample_freq': 4, 'reg_lambda': 39.32802748306938, 'reg_alpha': 23.62970914203234, 'min_child_weight': 432.6772664383597, 'min_child_samples': 97}. Best is trial 0 with value: 7.75486952004987.\u001b[0m\n"
     ]
    },
    {
     "name": "stdout",
     "output_type": "stream",
     "text": [
      "Training until validation scores don't improve for 200 rounds\n",
      "[1000]\tvalid_0's rmse: 7.76479\n",
      "Early stopping, best iteration is:\n",
      "[862]\tvalid_0's rmse: 7.76426\n",
      "Training until validation scores don't improve for 200 rounds\n",
      "[1000]\tvalid_0's rmse: 7.76236\n",
      "Early stopping, best iteration is:\n",
      "[1000]\tvalid_0's rmse: 7.76236\n"
     ]
    },
    {
     "name": "stderr",
     "output_type": "stream",
     "text": [
      "\u001b[32m[I 2021-08-21 04:18:36,822]\u001b[0m Trial 2 finished with value: 7.759611822811327 and parameters: {'learning_rate': 0.03211810742643947, 'subsample': 0.7224522648844802, 'colsample_bytree': 0.4780275329384099, 'subsample_freq': 6, 'reg_lambda': 40.89628979622917, 'reg_alpha': 29.192861679746592, 'min_child_weight': 443.7370419025346, 'min_child_samples': 107}. Best is trial 0 with value: 7.75486952004987.\u001b[0m\n"
     ]
    },
    {
     "name": "stdout",
     "output_type": "stream",
     "text": [
      "Training until validation scores don't improve for 200 rounds\n",
      "Early stopping, best iteration is:\n",
      "[738]\tvalid_0's rmse: 7.76431\n",
      "Training until validation scores don't improve for 200 rounds\n",
      "Early stopping, best iteration is:\n",
      "[674]\tvalid_0's rmse: 7.76358\n"
     ]
    },
    {
     "name": "stderr",
     "output_type": "stream",
     "text": [
      "\u001b[32m[I 2021-08-21 04:19:29,007]\u001b[0m Trial 3 finished with value: 7.759103283652351 and parameters: {'learning_rate': 0.04266290028246492, 'subsample': 0.7107985122977041, 'colsample_bytree': 0.40006849275129797, 'subsample_freq': 5, 'reg_lambda': 41.88404455946339, 'reg_alpha': 22.016680058245832, 'min_child_weight': 429.95027079207455, 'min_child_samples': 98}. Best is trial 0 with value: 7.75486952004987.\u001b[0m\n"
     ]
    },
    {
     "name": "stdout",
     "output_type": "stream",
     "text": [
      "Training until validation scores don't improve for 200 rounds\n",
      "[1000]\tvalid_0's rmse: 7.76432\n",
      "[2000]\tvalid_0's rmse: 7.76045\n",
      "Early stopping, best iteration is:\n",
      "[1980]\tvalid_0's rmse: 7.76024\n",
      "Training until validation scores don't improve for 200 rounds\n",
      "[1000]\tvalid_0's rmse: 7.76536\n",
      "[2000]\tvalid_0's rmse: 7.76092\n",
      "Early stopping, best iteration is:\n",
      "[2211]\tvalid_0's rmse: 7.76034\n"
     ]
    },
    {
     "name": "stderr",
     "output_type": "stream",
     "text": [
      "\u001b[32m[I 2021-08-21 04:21:34,351]\u001b[0m Trial 4 finished with value: 7.75755241641818 and parameters: {'learning_rate': 0.017290447396450914, 'subsample': 0.5911043416782338, 'colsample_bytree': 0.4137819741956466, 'subsample_freq': 5, 'reg_lambda': 43.556032870106186, 'reg_alpha': 24.627846358884195, 'min_child_weight': 495.0350717782366, 'min_child_samples': 108}. Best is trial 0 with value: 7.75486952004987.\u001b[0m\n"
     ]
    },
    {
     "name": "stdout",
     "output_type": "stream",
     "text": [
      "Training until validation scores don't improve for 200 rounds\n",
      "[1000]\tvalid_0's rmse: 7.76231\n",
      "Early stopping, best iteration is:\n",
      "[1345]\tvalid_0's rmse: 7.75934\n",
      "Training until validation scores don't improve for 200 rounds\n",
      "[1000]\tvalid_0's rmse: 7.76175\n",
      "Early stopping, best iteration is:\n",
      "[1340]\tvalid_0's rmse: 7.75995\n"
     ]
    },
    {
     "name": "stderr",
     "output_type": "stream",
     "text": [
      "\u001b[32m[I 2021-08-21 04:23:16,209]\u001b[0m Trial 5 finished with value: 7.757207940709281 and parameters: {'learning_rate': 0.02092272122532626, 'subsample': 0.711578082605729, 'colsample_bytree': 0.5140251982307831, 'subsample_freq': 6, 'reg_lambda': 34.28115918170003, 'reg_alpha': 22.925869610027892, 'min_child_weight': 488.29642910594646, 'min_child_samples': 109}. Best is trial 0 with value: 7.75486952004987.\u001b[0m\n"
     ]
    },
    {
     "name": "stdout",
     "output_type": "stream",
     "text": [
      "Training until validation scores don't improve for 200 rounds\n",
      "Early stopping, best iteration is:\n",
      "[591]\tvalid_0's rmse: 7.76784\n",
      "Training until validation scores don't improve for 200 rounds\n",
      "Early stopping, best iteration is:\n",
      "[504]\tvalid_0's rmse: 7.76889\n"
     ]
    },
    {
     "name": "stderr",
     "output_type": "stream",
     "text": [
      "\u001b[32m[I 2021-08-21 04:23:59,420]\u001b[0m Trial 6 finished with value: 7.762804153064836 and parameters: {'learning_rate': 0.04780517982516687, 'subsample': 0.6150523076459704, 'colsample_bytree': 0.41160716275067794, 'subsample_freq': 6, 'reg_lambda': 45.0194849233784, 'reg_alpha': 24.192243788531684, 'min_child_weight': 412.82449766366943, 'min_child_samples': 98}. Best is trial 0 with value: 7.75486952004987.\u001b[0m\n"
     ]
    },
    {
     "name": "stdout",
     "output_type": "stream",
     "text": [
      "Training until validation scores don't improve for 200 rounds\n",
      "[1000]\tvalid_0's rmse: 7.77892\n",
      "[2000]\tvalid_0's rmse: 7.76383\n",
      "[3000]\tvalid_0's rmse: 7.75893\n",
      "[4000]\tvalid_0's rmse: 7.75737\n",
      "Early stopping, best iteration is:\n",
      "[4698]\tvalid_0's rmse: 7.75635\n",
      "Training until validation scores don't improve for 200 rounds\n",
      "[1000]\tvalid_0's rmse: 7.77927\n",
      "[2000]\tvalid_0's rmse: 7.76409\n",
      "[3000]\tvalid_0's rmse: 7.75998\n",
      "Early stopping, best iteration is:\n",
      "[3610]\tvalid_0's rmse: 7.75848\n"
     ]
    },
    {
     "name": "stderr",
     "output_type": "stream",
     "text": [
      "\u001b[32m[I 2021-08-21 04:28:11,723]\u001b[0m Trial 7 finished with value: 7.756402547048875 and parameters: {'learning_rate': 0.007781972831352063, 'subsample': 0.7359082913064419, 'colsample_bytree': 0.4229940369444981, 'subsample_freq': 6, 'reg_lambda': 41.474963108937565, 'reg_alpha': 24.926691053120344, 'min_child_weight': 460.64889755124887, 'min_child_samples': 106}. Best is trial 0 with value: 7.75486952004987.\u001b[0m\n"
     ]
    },
    {
     "name": "stdout",
     "output_type": "stream",
     "text": [
      "Training until validation scores don't improve for 200 rounds\n",
      "Early stopping, best iteration is:\n",
      "[427]\tvalid_0's rmse: 7.76629\n",
      "Training until validation scores don't improve for 200 rounds\n",
      "Early stopping, best iteration is:\n",
      "[507]\tvalid_0's rmse: 7.76776\n"
     ]
    },
    {
     "name": "stderr",
     "output_type": "stream",
     "text": [
      "\u001b[32m[I 2021-08-21 04:28:59,945]\u001b[0m Trial 8 finished with value: 7.762125654696452 and parameters: {'learning_rate': 0.04658013447300568, 'subsample': 0.6219323510803889, 'colsample_bytree': 0.5474789781311051, 'subsample_freq': 5, 'reg_lambda': 43.6567427226896, 'reg_alpha': 24.902670850625256, 'min_child_weight': 451.8652627850859, 'min_child_samples': 102}. Best is trial 0 with value: 7.75486952004987.\u001b[0m\n"
     ]
    },
    {
     "name": "stdout",
     "output_type": "stream",
     "text": [
      "Training until validation scores don't improve for 200 rounds\n",
      "[1000]\tvalid_0's rmse: 7.80613\n",
      "[2000]\tvalid_0's rmse: 7.78577\n",
      "[3000]\tvalid_0's rmse: 7.77454\n",
      "[4000]\tvalid_0's rmse: 7.76818\n",
      "[5000]\tvalid_0's rmse: 7.7646\n",
      "[6000]\tvalid_0's rmse: 7.76208\n",
      "[7000]\tvalid_0's rmse: 7.76048\n",
      "[8000]\tvalid_0's rmse: 7.75937\n",
      "[9000]\tvalid_0's rmse: 7.75849\n",
      "[10000]\tvalid_0's rmse: 7.7575\n",
      "Did not meet early stopping. Best iteration is:\n",
      "[10000]\tvalid_0's rmse: 7.7575\n",
      "Training until validation scores don't improve for 200 rounds\n",
      "[1000]\tvalid_0's rmse: 7.80634\n",
      "[2000]\tvalid_0's rmse: 7.78587\n",
      "[3000]\tvalid_0's rmse: 7.77516\n",
      "[4000]\tvalid_0's rmse: 7.76858\n",
      "[5000]\tvalid_0's rmse: 7.76453\n",
      "[6000]\tvalid_0's rmse: 7.76217\n",
      "[7000]\tvalid_0's rmse: 7.76056\n",
      "[8000]\tvalid_0's rmse: 7.75935\n",
      "[9000]\tvalid_0's rmse: 7.7585\n",
      "[10000]\tvalid_0's rmse: 7.75786\n",
      "Did not meet early stopping. Best iteration is:\n",
      "[9910]\tvalid_0's rmse: 7.75782\n"
     ]
    },
    {
     "name": "stderr",
     "output_type": "stream",
     "text": [
      "\u001b[32m[I 2021-08-21 04:39:52,696]\u001b[0m Trial 9 finished with value: 7.757252327622047 and parameters: {'learning_rate': 0.0029373204857207043, 'subsample': 0.5897542830437769, 'colsample_bytree': 0.5076099069104143, 'subsample_freq': 4, 'reg_lambda': 39.97494691209546, 'reg_alpha': 25.30024646857647, 'min_child_weight': 481.9415995242833, 'min_child_samples': 99}. Best is trial 0 with value: 7.75486952004987.\u001b[0m\n"
     ]
    },
    {
     "name": "stdout",
     "output_type": "stream",
     "text": [
      "Training until validation scores don't improve for 200 rounds\n",
      "[1000]\tvalid_0's rmse: 7.76859\n",
      "[2000]\tvalid_0's rmse: 7.76053\n",
      "Early stopping, best iteration is:\n",
      "[2258]\tvalid_0's rmse: 7.75976\n",
      "Training until validation scores don't improve for 200 rounds\n",
      "[1000]\tvalid_0's rmse: 7.76865\n",
      "[2000]\tvalid_0's rmse: 7.7612\n",
      "[3000]\tvalid_0's rmse: 7.75993\n",
      "Early stopping, best iteration is:\n",
      "[2839]\tvalid_0's rmse: 7.75953\n"
     ]
    },
    {
     "name": "stderr",
     "output_type": "stream",
     "text": [
      "\u001b[32m[I 2021-08-21 04:43:02,134]\u001b[0m Trial 10 finished with value: 7.757952956655497 and parameters: {'learning_rate': 0.012070105203891169, 'subsample': 0.6692411837668187, 'colsample_bytree': 0.584907104620968, 'subsample_freq': 4, 'reg_lambda': 36.84445931127324, 'reg_alpha': 28.619329745934465, 'min_child_weight': 470.90752991433817, 'min_child_samples': 117}. Best is trial 0 with value: 7.75486952004987.\u001b[0m\n"
     ]
    },
    {
     "name": "stdout",
     "output_type": "stream",
     "text": [
      "Training until validation scores don't improve for 200 rounds\n",
      "[1000]\tvalid_0's rmse: 7.80382\n",
      "[2000]\tvalid_0's rmse: 7.78274\n",
      "[3000]\tvalid_0's rmse: 7.77171\n",
      "[4000]\tvalid_0's rmse: 7.76619\n",
      "[5000]\tvalid_0's rmse: 7.76285\n",
      "[6000]\tvalid_0's rmse: 7.76068\n",
      "[7000]\tvalid_0's rmse: 7.75916\n",
      "[8000]\tvalid_0's rmse: 7.75799\n",
      "[9000]\tvalid_0's rmse: 7.75721\n",
      "[10000]\tvalid_0's rmse: 7.75677\n",
      "Did not meet early stopping. Best iteration is:\n",
      "[9884]\tvalid_0's rmse: 7.75673\n",
      "Training until validation scores don't improve for 200 rounds\n",
      "[1000]\tvalid_0's rmse: 7.80349\n",
      "[2000]\tvalid_0's rmse: 7.78277\n",
      "[3000]\tvalid_0's rmse: 7.77185\n",
      "[4000]\tvalid_0's rmse: 7.76599\n",
      "[5000]\tvalid_0's rmse: 7.76266\n",
      "[6000]\tvalid_0's rmse: 7.76051\n",
      "[7000]\tvalid_0's rmse: 7.75869\n",
      "[8000]\tvalid_0's rmse: 7.75778\n",
      "[9000]\tvalid_0's rmse: 7.75669\n",
      "[10000]\tvalid_0's rmse: 7.75614\n",
      "Did not meet early stopping. Best iteration is:\n",
      "[9981]\tvalid_0's rmse: 7.75612\n"
     ]
    },
    {
     "name": "stderr",
     "output_type": "stream",
     "text": [
      "\u001b[32m[I 2021-08-21 04:53:22,996]\u001b[0m Trial 11 finished with value: 7.75599032859216 and parameters: {'learning_rate': 0.0032717620334188225, 'subsample': 0.6865893645440614, 'colsample_bytree': 0.45883718424238473, 'subsample_freq': 6, 'reg_lambda': 37.719559530618675, 'reg_alpha': 27.805974939334824, 'min_child_weight': 465.0414811192121, 'min_child_samples': 114}. Best is trial 0 with value: 7.75486952004987.\u001b[0m\n"
     ]
    },
    {
     "name": "stdout",
     "output_type": "stream",
     "text": [
      "Training until validation scores don't improve for 200 rounds\n",
      "[1000]\tvalid_0's rmse: 7.80957\n",
      "[2000]\tvalid_0's rmse: 7.78859\n",
      "[3000]\tvalid_0's rmse: 7.77698\n",
      "[4000]\tvalid_0's rmse: 7.77017\n",
      "[5000]\tvalid_0's rmse: 7.76615\n",
      "[6000]\tvalid_0's rmse: 7.76315\n",
      "[7000]\tvalid_0's rmse: 7.76138\n",
      "[8000]\tvalid_0's rmse: 7.75979\n",
      "[9000]\tvalid_0's rmse: 7.75869\n",
      "Early stopping, best iteration is:\n",
      "[9361]\tvalid_0's rmse: 7.75845\n",
      "Training until validation scores don't improve for 200 rounds\n",
      "[1000]\tvalid_0's rmse: 7.80964\n",
      "[2000]\tvalid_0's rmse: 7.78876\n",
      "[3000]\tvalid_0's rmse: 7.77759\n",
      "[4000]\tvalid_0's rmse: 7.77055\n",
      "[5000]\tvalid_0's rmse: 7.76615\n",
      "[6000]\tvalid_0's rmse: 7.76308\n",
      "[7000]\tvalid_0's rmse: 7.76104\n",
      "[8000]\tvalid_0's rmse: 7.75974\n",
      "[9000]\tvalid_0's rmse: 7.75849\n",
      "[10000]\tvalid_0's rmse: 7.75787\n",
      "Did not meet early stopping. Best iteration is:\n",
      "[9939]\tvalid_0's rmse: 7.75784\n"
     ]
    },
    {
     "name": "stderr",
     "output_type": "stream",
     "text": [
      "\u001b[32m[I 2021-08-21 05:03:59,641]\u001b[0m Trial 12 finished with value: 7.757850459003973 and parameters: {'learning_rate': 0.002675759057814543, 'subsample': 0.6725365896624663, 'colsample_bytree': 0.4550633468481581, 'subsample_freq': 4, 'reg_lambda': 37.2591958202236, 'reg_alpha': 27.58497456503371, 'min_child_weight': 466.96087004792037, 'min_child_samples': 115}. Best is trial 0 with value: 7.75486952004987.\u001b[0m\n"
     ]
    },
    {
     "name": "stdout",
     "output_type": "stream",
     "text": [
      "Training until validation scores don't improve for 200 rounds\n",
      "[1000]\tvalid_0's rmse: 7.76435\n",
      "Early stopping, best iteration is:\n",
      "[1025]\tvalid_0's rmse: 7.76423\n",
      "Training until validation scores don't improve for 200 rounds\n",
      "[1000]\tvalid_0's rmse: 7.76085\n",
      "Early stopping, best iteration is:\n",
      "[1031]\tvalid_0's rmse: 7.76061\n"
     ]
    },
    {
     "name": "stderr",
     "output_type": "stream",
     "text": [
      "\u001b[32m[I 2021-08-21 05:05:18,051]\u001b[0m Trial 13 finished with value: 7.759367011500265 and parameters: {'learning_rate': 0.02722433661517163, 'subsample': 0.6872114289243363, 'colsample_bytree': 0.45782436706157803, 'subsample_freq': 5, 'reg_lambda': 37.77660927257911, 'reg_alpha': 30.982352297857663, 'min_child_weight': 448.20422137641356, 'min_child_samples': 113}. Best is trial 0 with value: 7.75486952004987.\u001b[0m\n"
     ]
    },
    {
     "name": "stdout",
     "output_type": "stream",
     "text": [
      "Training until validation scores don't improve for 200 rounds\n",
      "[1000]\tvalid_0's rmse: 7.76889\n",
      "[2000]\tvalid_0's rmse: 7.76023\n",
      "Early stopping, best iteration is:\n",
      "[2089]\tvalid_0's rmse: 7.75999\n",
      "Training until validation scores don't improve for 200 rounds\n",
      "[1000]\tvalid_0's rmse: 7.76859\n",
      "[2000]\tvalid_0's rmse: 7.75992\n",
      "Early stopping, best iteration is:\n",
      "[2569]\tvalid_0's rmse: 7.75834\n"
     ]
    },
    {
     "name": "stderr",
     "output_type": "stream",
     "text": [
      "\u001b[32m[I 2021-08-21 05:08:01,458]\u001b[0m Trial 14 finished with value: 7.757616340844274 and parameters: {'learning_rate': 0.011838236288386336, 'subsample': 0.6408274006818689, 'colsample_bytree': 0.49845627604287535, 'subsample_freq': 5, 'reg_lambda': 34.63935557780383, 'reg_alpha': 27.012331674374046, 'min_child_weight': 480.7543550408765, 'min_child_samples': 103}. Best is trial 0 with value: 7.75486952004987.\u001b[0m\n"
     ]
    },
    {
     "name": "stdout",
     "output_type": "stream",
     "text": [
      "Training until validation scores don't improve for 200 rounds\n",
      "[1000]\tvalid_0's rmse: 7.82509\n",
      "[2000]\tvalid_0's rmse: 7.80622\n",
      "[3000]\tvalid_0's rmse: 7.79401\n",
      "[4000]\tvalid_0's rmse: 7.78544\n",
      "[5000]\tvalid_0's rmse: 7.77904\n",
      "[6000]\tvalid_0's rmse: 7.77418\n",
      "[7000]\tvalid_0's rmse: 7.77044\n",
      "[8000]\tvalid_0's rmse: 7.76792\n",
      "[9000]\tvalid_0's rmse: 7.76577\n",
      "[10000]\tvalid_0's rmse: 7.76393\n",
      "Did not meet early stopping. Best iteration is:\n",
      "[9999]\tvalid_0's rmse: 7.76393\n",
      "Training until validation scores don't improve for 200 rounds\n",
      "[1000]\tvalid_0's rmse: 7.82504\n",
      "[2000]\tvalid_0's rmse: 7.80618\n",
      "[3000]\tvalid_0's rmse: 7.7941\n",
      "[4000]\tvalid_0's rmse: 7.78543\n",
      "[5000]\tvalid_0's rmse: 7.77896\n",
      "[6000]\tvalid_0's rmse: 7.77411\n",
      "[7000]\tvalid_0's rmse: 7.7707\n",
      "[8000]\tvalid_0's rmse: 7.76806\n",
      "[9000]\tvalid_0's rmse: 7.76582\n",
      "[10000]\tvalid_0's rmse: 7.76413\n",
      "Did not meet early stopping. Best iteration is:\n",
      "[9999]\tvalid_0's rmse: 7.76413\n"
     ]
    },
    {
     "name": "stderr",
     "output_type": "stream",
     "text": [
      "\u001b[32m[I 2021-08-21 05:19:35,398]\u001b[0m Trial 15 finished with value: 7.763931906966958 and parameters: {'learning_rate': 0.0015000012936103556, 'subsample': 0.6925856722791045, 'colsample_bytree': 0.4484370866583729, 'subsample_freq': 4, 'reg_lambda': 38.69485609679588, 'reg_alpha': 30.825613800065433, 'min_child_weight': 458.925384219028, 'min_child_samples': 112}. Best is trial 0 with value: 7.75486952004987.\u001b[0m\n"
     ]
    },
    {
     "name": "stdout",
     "output_type": "stream",
     "text": [
      "Training until validation scores don't improve for 200 rounds\n",
      "[1000]\tvalid_0's rmse: 7.77559\n",
      "[2000]\tvalid_0's rmse: 7.76323\n",
      "[3000]\tvalid_0's rmse: 7.75949\n",
      "Early stopping, best iteration is:\n",
      "[3616]\tvalid_0's rmse: 7.75819\n",
      "Training until validation scores don't improve for 200 rounds\n",
      "[1000]\tvalid_0's rmse: 7.77655\n",
      "[2000]\tvalid_0's rmse: 7.76363\n",
      "[3000]\tvalid_0's rmse: 7.76019\n",
      "[4000]\tvalid_0's rmse: 7.75885\n",
      "Early stopping, best iteration is:\n",
      "[4379]\tvalid_0's rmse: 7.75808\n"
     ]
    },
    {
     "name": "stderr",
     "output_type": "stream",
     "text": [
      "\u001b[32m[I 2021-08-21 05:24:08,265]\u001b[0m Trial 16 finished with value: 7.756755913073193 and parameters: {'learning_rate': 0.00853641987255329, 'subsample': 0.6500794349773636, 'colsample_bytree': 0.531517501477175, 'subsample_freq': 6, 'reg_lambda': 36.19505613518561, 'reg_alpha': 26.92965224252249, 'min_child_weight': 433.24615721757516, 'min_child_samples': 103}. Best is trial 0 with value: 7.75486952004987.\u001b[0m\n"
     ]
    },
    {
     "name": "stdout",
     "output_type": "stream",
     "text": [
      "Training until validation scores don't improve for 200 rounds\n",
      "[1000]\tvalid_0's rmse: 7.7647\n",
      "[2000]\tvalid_0's rmse: 7.76132\n",
      "Early stopping, best iteration is:\n",
      "[1987]\tvalid_0's rmse: 7.76109\n",
      "Training until validation scores don't improve for 200 rounds\n",
      "[1000]\tvalid_0's rmse: 7.76471\n",
      "[2000]\tvalid_0's rmse: 7.7599\n",
      "Early stopping, best iteration is:\n",
      "[1835]\tvalid_0's rmse: 7.75936\n"
     ]
    },
    {
     "name": "stderr",
     "output_type": "stream",
     "text": [
      "\u001b[32m[I 2021-08-21 05:26:20,701]\u001b[0m Trial 17 finished with value: 7.757915382594838 and parameters: {'learning_rate': 0.01836444995576427, 'subsample': 0.7568069720038744, 'colsample_bytree': 0.4786945863915079, 'subsample_freq': 5, 'reg_lambda': 42.91827745388838, 'reg_alpha': 20.425004103989103, 'min_child_weight': 404.9933161742756, 'min_child_samples': 118}. Best is trial 0 with value: 7.75486952004987.\u001b[0m\n"
     ]
    },
    {
     "name": "stdout",
     "output_type": "stream",
     "text": [
      "Training until validation scores don't improve for 200 rounds\n",
      "[1000]\tvalid_0's rmse: 7.76098\n",
      "Early stopping, best iteration is:\n",
      "[1327]\tvalid_0's rmse: 7.75957\n",
      "Training until validation scores don't improve for 200 rounds\n",
      "[1000]\tvalid_0's rmse: 7.76273\n",
      "Early stopping, best iteration is:\n",
      "[1057]\tvalid_0's rmse: 7.76204\n"
     ]
    },
    {
     "name": "stderr",
     "output_type": "stream",
     "text": [
      "\u001b[32m[I 2021-08-21 05:28:01,643]\u001b[0m Trial 18 finished with value: 7.7573049306772575 and parameters: {'learning_rate': 0.026499738121663945, 'subsample': 0.6902634052119405, 'colsample_bytree': 0.5800437268058233, 'subsample_freq': 4, 'reg_lambda': 35.64935891999333, 'reg_alpha': 29.962305908090915, 'min_child_weight': 472.9673205781396, 'min_child_samples': 111}. Best is trial 0 with value: 7.75486952004987.\u001b[0m\n"
     ]
    },
    {
     "name": "stdout",
     "output_type": "stream",
     "text": [
      "Training until validation scores don't improve for 200 rounds\n",
      "[1000]\tvalid_0's rmse: 7.7655\n",
      "Early stopping, best iteration is:\n",
      "[871]\tvalid_0's rmse: 7.76393\n",
      "Training until validation scores don't improve for 200 rounds\n",
      "[1000]\tvalid_0's rmse: 7.7637\n",
      "Early stopping, best iteration is:\n",
      "[864]\tvalid_0's rmse: 7.76317\n"
     ]
    },
    {
     "name": "stderr",
     "output_type": "stream",
     "text": [
      "\u001b[32m[I 2021-08-21 05:29:17,713]\u001b[0m Trial 19 finished with value: 7.75970456712699 and parameters: {'learning_rate': 0.034408811259850486, 'subsample': 0.7572891445931575, 'colsample_bytree': 0.5641948660200881, 'subsample_freq': 6, 'reg_lambda': 45.80696990483456, 'reg_alpha': 26.6025463206831, 'min_child_weight': 441.41441150193907, 'min_child_samples': 94}. Best is trial 0 with value: 7.75486952004987.\u001b[0m\n"
     ]
    },
    {
     "name": "stdout",
     "output_type": "stream",
     "text": [
      "Training until validation scores don't improve for 200 rounds\n",
      "[1000]\tvalid_0's rmse: 7.78126\n",
      "[2000]\tvalid_0's rmse: 7.76575\n",
      "[3000]\tvalid_0's rmse: 7.76107\n",
      "[4000]\tvalid_0's rmse: 7.75941\n",
      "Early stopping, best iteration is:\n",
      "[4187]\tvalid_0's rmse: 7.75901\n",
      "Training until validation scores don't improve for 200 rounds\n",
      "[1000]\tvalid_0's rmse: 7.78118\n",
      "[2000]\tvalid_0's rmse: 7.76607\n",
      "[3000]\tvalid_0's rmse: 7.76148\n",
      "[4000]\tvalid_0's rmse: 7.75934\n",
      "Early stopping, best iteration is:\n",
      "[4455]\tvalid_0's rmse: 7.75805\n"
     ]
    },
    {
     "name": "stderr",
     "output_type": "stream",
     "text": [
      "\u001b[32m[I 2021-08-21 05:33:33,512]\u001b[0m Trial 20 finished with value: 7.7574331134174725 and parameters: {'learning_rate': 0.007211168797456119, 'subsample': 0.5612786502904605, 'colsample_bytree': 0.43837908905374523, 'subsample_freq': 5, 'reg_lambda': 38.5803307603097, 'reg_alpha': 28.243443029344252, 'min_child_weight': 460.95594713331764, 'min_child_samples': 101}. Best is trial 0 with value: 7.75486952004987.\u001b[0m\n"
     ]
    },
    {
     "name": "stdout",
     "output_type": "stream",
     "text": [
      "Training until validation scores don't improve for 200 rounds\n",
      "[1000]\tvalid_0's rmse: 7.78526\n",
      "[2000]\tvalid_0's rmse: 7.76773\n",
      "[3000]\tvalid_0's rmse: 7.7618\n",
      "[4000]\tvalid_0's rmse: 7.75944\n",
      "[5000]\tvalid_0's rmse: 7.75844\n",
      "Early stopping, best iteration is:\n",
      "[5534]\tvalid_0's rmse: 7.75775\n",
      "Training until validation scores don't improve for 200 rounds\n",
      "[1000]\tvalid_0's rmse: 7.78573\n",
      "[2000]\tvalid_0's rmse: 7.76843\n",
      "[3000]\tvalid_0's rmse: 7.76233\n",
      "[4000]\tvalid_0's rmse: 7.75966\n",
      "[5000]\tvalid_0's rmse: 7.75795\n",
      "[6000]\tvalid_0's rmse: 7.75638\n",
      "[7000]\tvalid_0's rmse: 7.75574\n",
      "Early stopping, best iteration is:\n",
      "[6829]\tvalid_0's rmse: 7.75554\n"
     ]
    },
    {
     "name": "stderr",
     "output_type": "stream",
     "text": [
      "\u001b[32m[I 2021-08-21 05:39:43,723]\u001b[0m Trial 21 finished with value: 7.75575855101279 and parameters: {'learning_rate': 0.0061732474003399936, 'subsample': 0.7404285165783486, 'colsample_bytree': 0.4220405509378587, 'subsample_freq': 6, 'reg_lambda': 41.13830958848551, 'reg_alpha': 26.049755987463147, 'min_child_weight': 456.8798959946385, 'min_child_samples': 105}. Best is trial 0 with value: 7.75486952004987.\u001b[0m\n"
     ]
    },
    {
     "name": "stdout",
     "output_type": "stream",
     "text": [
      "Training until validation scores don't improve for 200 rounds\n",
      "[1000]\tvalid_0's rmse: 7.76685\n",
      "[2000]\tvalid_0's rmse: 7.75971\n",
      "[3000]\tvalid_0's rmse: 7.75912\n",
      "Early stopping, best iteration is:\n",
      "[2815]\tvalid_0's rmse: 7.75878\n",
      "Training until validation scores don't improve for 200 rounds\n",
      "[1000]\tvalid_0's rmse: 7.76647\n",
      "[2000]\tvalid_0's rmse: 7.76064\n",
      "Early stopping, best iteration is:\n",
      "[1944]\tvalid_0's rmse: 7.76034\n"
     ]
    },
    {
     "name": "stderr",
     "output_type": "stream",
     "text": [
      "\u001b[32m[I 2021-08-21 05:42:24,761]\u001b[0m Trial 22 finished with value: 7.757473524845453 and parameters: {'learning_rate': 0.01464206501006796, 'subsample': 0.7359701536200625, 'colsample_bytree': 0.4689746570615483, 'subsample_freq': 6, 'reg_lambda': 40.5856107909693, 'reg_alpha': 25.93858763261388, 'min_child_weight': 454.0976450125016, 'min_child_samples': 105}. Best is trial 0 with value: 7.75486952004987.\u001b[0m\n"
     ]
    },
    {
     "name": "stdout",
     "output_type": "stream",
     "text": [
      "Training until validation scores don't improve for 200 rounds\n",
      "[1000]\tvalid_0's rmse: 7.7848\n",
      "[2000]\tvalid_0's rmse: 7.76728\n",
      "[3000]\tvalid_0's rmse: 7.76127\n",
      "[4000]\tvalid_0's rmse: 7.75865\n",
      "[5000]\tvalid_0's rmse: 7.75689\n",
      "Early stopping, best iteration is:\n",
      "[5385]\tvalid_0's rmse: 7.7566\n",
      "Training until validation scores don't improve for 200 rounds\n",
      "[1000]\tvalid_0's rmse: 7.78503\n",
      "[2000]\tvalid_0's rmse: 7.76787\n",
      "[3000]\tvalid_0's rmse: 7.76194\n",
      "[4000]\tvalid_0's rmse: 7.75944\n",
      "Early stopping, best iteration is:\n",
      "[4392]\tvalid_0's rmse: 7.75822\n"
     ]
    },
    {
     "name": "stderr",
     "output_type": "stream",
     "text": [
      "\u001b[32m[I 2021-08-21 05:47:27,108]\u001b[0m Trial 23 finished with value: 7.756633214029168 and parameters: {'learning_rate': 0.006170958053378423, 'subsample': 0.7131765677663389, 'colsample_bytree': 0.4352476429261882, 'subsample_freq': 6, 'reg_lambda': 42.3245441759586, 'reg_alpha': 25.996928126896407, 'min_child_weight': 475.0327637011139, 'min_child_samples': 105}. Best is trial 0 with value: 7.75486952004987.\u001b[0m\n"
     ]
    },
    {
     "name": "stdout",
     "output_type": "stream",
     "text": [
      "Training until validation scores don't improve for 200 rounds\n",
      "[1000]\tvalid_0's rmse: 7.82562\n",
      "[2000]\tvalid_0's rmse: 7.8075\n",
      "[3000]\tvalid_0's rmse: 7.79525\n",
      "[4000]\tvalid_0's rmse: 7.78654\n",
      "[5000]\tvalid_0's rmse: 7.78039\n",
      "[6000]\tvalid_0's rmse: 7.77549\n",
      "[7000]\tvalid_0's rmse: 7.77174\n",
      "[8000]\tvalid_0's rmse: 7.76896\n",
      "[9000]\tvalid_0's rmse: 7.76665\n",
      "[10000]\tvalid_0's rmse: 7.76487\n",
      "Did not meet early stopping. Best iteration is:\n",
      "[10000]\tvalid_0's rmse: 7.76487\n",
      "Training until validation scores don't improve for 200 rounds\n",
      "[1000]\tvalid_0's rmse: 7.82583\n",
      "[2000]\tvalid_0's rmse: 7.80738\n",
      "[3000]\tvalid_0's rmse: 7.79522\n",
      "[4000]\tvalid_0's rmse: 7.78652\n",
      "[5000]\tvalid_0's rmse: 7.78019\n",
      "[6000]\tvalid_0's rmse: 7.77535\n",
      "[7000]\tvalid_0's rmse: 7.77164\n",
      "[8000]\tvalid_0's rmse: 7.76869\n",
      "[9000]\tvalid_0's rmse: 7.7664\n",
      "[10000]\tvalid_0's rmse: 7.76476\n",
      "Did not meet early stopping. Best iteration is:\n",
      "[9999]\tvalid_0's rmse: 7.76476\n"
     ]
    },
    {
     "name": "stderr",
     "output_type": "stream",
     "text": [
      "\u001b[32m[I 2021-08-21 05:59:27,785]\u001b[0m Trial 24 finished with value: 7.764713409478993 and parameters: {'learning_rate': 0.001423449177061188, 'subsample': 0.696322387061556, 'colsample_bytree': 0.49092318264359674, 'subsample_freq': 6, 'reg_lambda': 40.03250681820499, 'reg_alpha': 27.845288301020883, 'min_child_weight': 421.42043983941005, 'min_child_samples': 110}. Best is trial 0 with value: 7.75486952004987.\u001b[0m\n"
     ]
    },
    {
     "name": "stdout",
     "output_type": "stream",
     "text": [
      "Training until validation scores don't improve for 200 rounds\n",
      "[1000]\tvalid_0's rmse: 7.77022\n",
      "[2000]\tvalid_0's rmse: 7.76229\n",
      "[3000]\tvalid_0's rmse: 7.75925\n",
      "Early stopping, best iteration is:\n",
      "[3114]\tvalid_0's rmse: 7.75882\n",
      "Training until validation scores don't improve for 200 rounds\n",
      "[1000]\tvalid_0's rmse: 7.76891\n",
      "[2000]\tvalid_0's rmse: 7.76092\n",
      "Early stopping, best iteration is:\n",
      "[2767]\tvalid_0's rmse: 7.75923\n"
     ]
    },
    {
     "name": "stderr",
     "output_type": "stream",
     "text": [
      "\u001b[32m[I 2021-08-21 06:02:54,423]\u001b[0m Trial 25 finished with value: 7.757234477367284 and parameters: {'learning_rate': 0.011837909609116943, 'subsample': 0.670545711763256, 'colsample_bytree': 0.5252537649787961, 'subsample_freq': 6, 'reg_lambda': 43.93525712923854, 'reg_alpha': 29.35098542133813, 'min_child_weight': 466.72787555705963, 'min_child_samples': 100}. Best is trial 0 with value: 7.75486952004987.\u001b[0m\n"
     ]
    },
    {
     "name": "stdout",
     "output_type": "stream",
     "text": [
      "Training until validation scores don't improve for 200 rounds\n",
      "[1000]\tvalid_0's rmse: 7.7631\n",
      "Early stopping, best iteration is:\n",
      "[1680]\tvalid_0's rmse: 7.76018\n",
      "Training until validation scores don't improve for 200 rounds\n",
      "[1000]\tvalid_0's rmse: 7.76208\n",
      "Early stopping, best iteration is:\n",
      "[1599]\tvalid_0's rmse: 7.75978\n"
     ]
    },
    {
     "name": "stderr",
     "output_type": "stream",
     "text": [
      "\u001b[32m[I 2021-08-21 06:04:36,682]\u001b[0m Trial 26 finished with value: 7.757496157673964 and parameters: {'learning_rate': 0.020996575017074286, 'subsample': 0.7469552582735424, 'colsample_bytree': 0.38920131732177454, 'subsample_freq': 6, 'reg_lambda': 41.004687635493724, 'reg_alpha': 26.471048999860184, 'min_child_weight': 442.20222118196426, 'min_child_samples': 95}. Best is trial 0 with value: 7.75486952004987.\u001b[0m\n"
     ]
    },
    {
     "name": "stdout",
     "output_type": "stream",
     "text": [
      "Training until validation scores don't improve for 200 rounds\n",
      "[1000]\tvalid_0's rmse: 7.79014\n",
      "[2000]\tvalid_0's rmse: 7.7717\n",
      "[3000]\tvalid_0's rmse: 7.76465\n",
      "[4000]\tvalid_0's rmse: 7.76122\n",
      "[5000]\tvalid_0's rmse: 7.75926\n",
      "[6000]\tvalid_0's rmse: 7.75827\n",
      "Early stopping, best iteration is:\n",
      "[6361]\tvalid_0's rmse: 7.75785\n",
      "Training until validation scores don't improve for 200 rounds\n",
      "[1000]\tvalid_0's rmse: 7.79069\n",
      "[2000]\tvalid_0's rmse: 7.77166\n",
      "[3000]\tvalid_0's rmse: 7.764\n",
      "[4000]\tvalid_0's rmse: 7.76013\n",
      "[5000]\tvalid_0's rmse: 7.75828\n",
      "[6000]\tvalid_0's rmse: 7.75705\n",
      "Early stopping, best iteration is:\n",
      "[6110]\tvalid_0's rmse: 7.75686\n"
     ]
    },
    {
     "name": "stderr",
     "output_type": "stream",
     "text": [
      "\u001b[32m[I 2021-08-21 06:11:06,026]\u001b[0m Trial 27 finished with value: 7.756738877249419 and parameters: {'learning_rate': 0.005088182635732667, 'subsample': 0.723463704425896, 'colsample_bytree': 0.46754530628595875, 'subsample_freq': 5, 'reg_lambda': 38.05761701352232, 'reg_alpha': 28.801005638230183, 'min_child_weight': 456.3123120285211, 'min_child_samples': 105}. Best is trial 0 with value: 7.75486952004987.\u001b[0m\n"
     ]
    },
    {
     "name": "stdout",
     "output_type": "stream",
     "text": [
      "Training until validation scores don't improve for 200 rounds\n",
      "[1000]\tvalid_0's rmse: 7.77144\n",
      "[2000]\tvalid_0's rmse: 7.76187\n",
      "[3000]\tvalid_0's rmse: 7.76004\n",
      "Early stopping, best iteration is:\n",
      "[3146]\tvalid_0's rmse: 7.75968\n",
      "Training until validation scores don't improve for 200 rounds\n",
      "[1000]\tvalid_0's rmse: 7.77147\n",
      "[2000]\tvalid_0's rmse: 7.76292\n",
      "Early stopping, best iteration is:\n",
      "[2647]\tvalid_0's rmse: 7.76099\n"
     ]
    },
    {
     "name": "stderr",
     "output_type": "stream",
     "text": [
      "\u001b[32m[I 2021-08-21 06:14:00,541]\u001b[0m Trial 28 finished with value: 7.7587944834151035 and parameters: {'learning_rate': 0.011148068184459192, 'subsample': 0.6465143129883181, 'colsample_bytree': 0.4313461882442464, 'subsample_freq': 6, 'reg_lambda': 42.442262146094826, 'reg_alpha': 30.04616278862581, 'min_child_weight': 448.90310479708484, 'min_child_samples': 114}. Best is trial 0 with value: 7.75486952004987.\u001b[0m\n"
     ]
    },
    {
     "name": "stdout",
     "output_type": "stream",
     "text": [
      "Training until validation scores don't improve for 200 rounds\n",
      "[1000]\tvalid_0's rmse: 7.76442\n",
      "[2000]\tvalid_0's rmse: 7.75796\n",
      "Early stopping, best iteration is:\n",
      "[2223]\tvalid_0's rmse: 7.7575\n",
      "Training until validation scores don't improve for 200 rounds\n",
      "[1000]\tvalid_0's rmse: 7.76693\n",
      "[2000]\tvalid_0's rmse: 7.76056\n",
      "Early stopping, best iteration is:\n",
      "[2624]\tvalid_0's rmse: 7.75913\n"
     ]
    },
    {
     "name": "stderr",
     "output_type": "stream",
     "text": [
      "\u001b[32m[I 2021-08-21 06:16:21,484]\u001b[0m Trial 29 finished with value: 7.756282319048207 and parameters: {'learning_rate': 0.015162879758868255, 'subsample': 0.7014794041975789, 'colsample_bytree': 0.38999127317257914, 'subsample_freq': 4, 'reg_lambda': 39.37255344999815, 'reg_alpha': 23.591726418742564, 'min_child_weight': 434.5570113577248, 'min_child_samples': 103}. Best is trial 0 with value: 7.75486952004987.\u001b[0m\n"
     ]
    },
    {
     "name": "stdout",
     "output_type": "stream",
     "text": [
      "Number of finished trials: 30\n",
      "Best trial: {'learning_rate': 0.01376508999204714, 'subsample': 0.6948557461507425, 'colsample_bytree': 0.5127040908887421, 'subsample_freq': 4, 'reg_lambda': 42.010560753005905, 'reg_alpha': 27.268524196259943, 'min_child_weight': 455.1441524357472, 'min_child_samples': 103}\n"
     ]
    }
   ],
   "source": [
    "study = optuna.create_study(direction='minimize')\n",
    "study.optimize(objective,n_trials= 30)\n",
    "print('Number of finished trials:', len(study.trials))\n",
    "print('Best trial:', study.best_trial.params)"
   ]
  },
  {
   "cell_type": "code",
   "execution_count": 10,
   "id": "d9a40703",
   "metadata": {
    "execution": {
     "iopub.execute_input": "2021-08-21T06:16:21.750514Z",
     "iopub.status.busy": "2021-08-21T06:16:21.749788Z",
     "iopub.status.idle": "2021-08-21T06:16:21.753222Z",
     "shell.execute_reply": "2021-08-21T06:16:21.753722Z"
    },
    "papermill": {
     "duration": 0.133128,
     "end_time": "2021-08-21T06:16:21.753914",
     "exception": false,
     "start_time": "2021-08-21T06:16:21.620786",
     "status": "completed"
    },
    "tags": []
   },
   "outputs": [
    {
     "data": {
      "text/plain": [
       "{'learning_rate': 0.01376508999204714,\n",
       " 'subsample': 0.6948557461507425,\n",
       " 'colsample_bytree': 0.5127040908887421,\n",
       " 'subsample_freq': 4,\n",
       " 'reg_lambda': 42.010560753005905,\n",
       " 'reg_alpha': 27.268524196259943,\n",
       " 'min_child_weight': 455.1441524357472,\n",
       " 'min_child_samples': 103}"
      ]
     },
     "execution_count": 10,
     "metadata": {},
     "output_type": "execute_result"
    }
   ],
   "source": [
    "study.best_params"
   ]
  },
  {
   "cell_type": "markdown",
   "id": "efc98284",
   "metadata": {
    "papermill": {
     "duration": 0.119904,
     "end_time": "2021-08-21T06:16:21.993459",
     "exception": false,
     "start_time": "2021-08-21T06:16:21.873555",
     "status": "completed"
    },
    "tags": []
   },
   "source": [
    "# Log\n",
    "\n",
    "7.770644795373356 row-wise noise ver1\n",
    "\n",
    "7.756419562622152 no noise ver5\n",
    "\n",
    "7.755642795995508 no noise ver7 (narrow space)\n",
    "\n",
    "7.770199059325497 random noise ver6\n",
    "\n",
    "\n",
    "kfold random noise ver3\n",
    "7.846914982754461"
   ]
  }
 ],
 "metadata": {
  "kernelspec": {
   "display_name": "Python 3",
   "language": "python",
   "name": "python3"
  },
  "language_info": {
   "codemirror_mode": {
    "name": "ipython",
    "version": 3
   },
   "file_extension": ".py",
   "mimetype": "text/x-python",
   "name": "python",
   "nbconvert_exporter": "python",
   "pygments_lexer": "ipython3",
   "version": "3.7.10"
  },
  "papermill": {
   "default_parameters": {},
   "duration": 7444.538667,
   "end_time": "2021-08-21T06:16:23.734018",
   "environment_variables": {},
   "exception": null,
   "input_path": "__notebook__.ipynb",
   "output_path": "__notebook__.ipynb",
   "parameters": {},
   "start_time": "2021-08-21T04:12:19.195351",
   "version": "2.3.3"
  }
 },
 "nbformat": 4,
 "nbformat_minor": 5
}
