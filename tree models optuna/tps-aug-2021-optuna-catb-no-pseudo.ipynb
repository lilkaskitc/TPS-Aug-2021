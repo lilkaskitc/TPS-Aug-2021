{
 "cells": [
  {
   "cell_type": "code",
   "execution_count": 1,
   "id": "2a588227",
   "metadata": {
    "_cell_guid": "b1076dfc-b9ad-4769-8c92-a6c4dae69d19",
    "_uuid": "8f2839f25d086af736a60e9eeb907d3b93b6e0e5",
    "execution": {
     "iopub.execute_input": "2021-08-26T23:41:24.186529Z",
     "iopub.status.busy": "2021-08-26T23:41:24.185713Z",
     "iopub.status.idle": "2021-08-26T23:41:25.526724Z",
     "shell.execute_reply": "2021-08-26T23:41:25.526027Z",
     "shell.execute_reply.started": "2021-08-25T08:31:42.349335Z"
    },
    "papermill": {
     "duration": 1.368552,
     "end_time": "2021-08-26T23:41:25.526884",
     "exception": false,
     "start_time": "2021-08-26T23:41:24.158332",
     "status": "completed"
    },
    "tags": []
   },
   "outputs": [],
   "source": [
    "# Familiar imports\n",
    "import numpy as np\n",
    "import pandas as pd\n",
    "import random\n",
    "import os\n",
    "import time\n",
    "from pathlib import Path\n",
    "\n",
    "from sklearn.preprocessing import StandardScaler\n",
    "from sklearn.model_selection import KFold, train_test_split\n",
    "from sklearn.metrics import mean_squared_error\n",
    "\n",
    "#import lightgbm as lgb\n",
    "#import xgboost as xgb\n",
    "import catboost as ctb\n",
    "\n",
    "import warnings\n",
    "warnings.simplefilter('ignore')"
   ]
  },
  {
   "cell_type": "markdown",
   "id": "340c285b",
   "metadata": {
    "papermill": {
     "duration": 0.011314,
     "end_time": "2021-08-26T23:41:25.552253",
     "exception": false,
     "start_time": "2021-08-26T23:41:25.540939",
     "status": "completed"
    },
    "tags": []
   },
   "source": [
    "# Parameters"
   ]
  },
  {
   "cell_type": "code",
   "execution_count": 2,
   "id": "8cee9ac0",
   "metadata": {
    "execution": {
     "iopub.execute_input": "2021-08-26T23:41:25.581525Z",
     "iopub.status.busy": "2021-08-26T23:41:25.580878Z",
     "iopub.status.idle": "2021-08-26T23:41:25.584424Z",
     "shell.execute_reply": "2021-08-26T23:41:25.583839Z",
     "shell.execute_reply.started": "2021-08-25T08:31:43.770704Z"
    },
    "papermill": {
     "duration": 0.020788,
     "end_time": "2021-08-26T23:41:25.584560",
     "exception": false,
     "start_time": "2021-08-26T23:41:25.563772",
     "status": "completed"
    },
    "tags": []
   },
   "outputs": [],
   "source": [
    "target = 'loss'\n",
    "\n",
    "DEBUG = False\n",
    "\n",
    "if DEBUG:\n",
    "    N_ESTIMATORS = 1\n",
    "    N_SPLITS = 2\n",
    "    SEED = 17\n",
    "    CVSEED = 17\n",
    "    EARLY_STOPPING_ROUNDS = 1\n",
    "    VERBOSE = 100\n",
    "    #N_ITERS = 2\n",
    "else:\n",
    "    N_SPLITS = 10\n",
    "    N_ESTIMATORS = 10000\n",
    "    EARLY_STOPPING_ROUNDS = 200\n",
    "    VERBOSE = 1000\n",
    "    SEED = 17\n",
    "    CVSEED = 17\n",
    "    #N_ITERS = 10"
   ]
  },
  {
   "cell_type": "code",
   "execution_count": 3,
   "id": "ac00e527",
   "metadata": {
    "execution": {
     "iopub.execute_input": "2021-08-26T23:41:25.613304Z",
     "iopub.status.busy": "2021-08-26T23:41:25.612634Z",
     "iopub.status.idle": "2021-08-26T23:41:25.615707Z",
     "shell.execute_reply": "2021-08-26T23:41:25.615200Z",
     "shell.execute_reply.started": "2021-08-25T08:31:43.779244Z"
    },
    "papermill": {
     "duration": 0.019619,
     "end_time": "2021-08-26T23:41:25.615851",
     "exception": false,
     "start_time": "2021-08-26T23:41:25.596232",
     "status": "completed"
    },
    "tags": []
   },
   "outputs": [],
   "source": [
    "def set_seed(seed=17):\n",
    "    random.seed(seed)\n",
    "    os.environ['PYTHONHASHSEED'] = str(seed)\n",
    "    np.random.seed(seed)\n",
    "    \n",
    "set_seed(SEED)"
   ]
  },
  {
   "cell_type": "markdown",
   "id": "d1da068a",
   "metadata": {
    "papermill": {
     "duration": 0.011399,
     "end_time": "2021-08-26T23:41:25.639006",
     "exception": false,
     "start_time": "2021-08-26T23:41:25.627607",
     "status": "completed"
    },
    "tags": []
   },
   "source": [
    "# Load data"
   ]
  },
  {
   "cell_type": "code",
   "execution_count": 4,
   "id": "b29341d3",
   "metadata": {
    "execution": {
     "iopub.execute_input": "2021-08-26T23:41:25.668032Z",
     "iopub.status.busy": "2021-08-26T23:41:25.667323Z",
     "iopub.status.idle": "2021-08-26T23:41:36.846158Z",
     "shell.execute_reply": "2021-08-26T23:41:36.846653Z",
     "shell.execute_reply.started": "2021-08-25T08:31:43.792807Z"
    },
    "papermill": {
     "duration": 11.196018,
     "end_time": "2021-08-26T23:41:36.846834",
     "exception": false,
     "start_time": "2021-08-26T23:41:25.650816",
     "status": "completed"
    },
    "tags": []
   },
   "outputs": [],
   "source": [
    "INPUT = Path(\"../input/tabular-playground-series-aug-2021\")\n",
    "\n",
    "train = pd.read_csv(INPUT / \"train.csv\")\n",
    "test = pd.read_csv(INPUT / \"test.csv\")\n",
    "submission = pd.read_csv(INPUT / \"sample_submission.csv\")"
   ]
  },
  {
   "cell_type": "markdown",
   "id": "a0f1a9d9",
   "metadata": {
    "papermill": {
     "duration": 0.011127,
     "end_time": "2021-08-26T23:41:36.869607",
     "exception": false,
     "start_time": "2021-08-26T23:41:36.858480",
     "status": "completed"
    },
    "tags": []
   },
   "source": [
    "# Preprocessing"
   ]
  },
  {
   "cell_type": "code",
   "execution_count": 5,
   "id": "b98f62bc",
   "metadata": {
    "execution": {
     "iopub.execute_input": "2021-08-26T23:41:36.903487Z",
     "iopub.status.busy": "2021-08-26T23:41:36.902790Z",
     "iopub.status.idle": "2021-08-26T23:41:48.993379Z",
     "shell.execute_reply": "2021-08-26T23:41:48.994070Z",
     "shell.execute_reply.started": "2021-08-25T08:31:56.194642Z"
    },
    "papermill": {
     "duration": 12.113218,
     "end_time": "2021-08-26T23:41:48.994308",
     "exception": false,
     "start_time": "2021-08-26T23:41:36.881090",
     "status": "completed"
    },
    "tags": []
   },
   "outputs": [],
   "source": [
    "scale_features = [col for col in test.columns if 'f' in col]\n",
    "\n",
    "ss = StandardScaler()\n",
    "train[scale_features] = ss.fit_transform(train[scale_features])\n",
    "test[scale_features] = ss.transform(test[scale_features])"
   ]
  },
  {
   "cell_type": "code",
   "execution_count": 6,
   "id": "80780d8b",
   "metadata": {
    "execution": {
     "iopub.execute_input": "2021-08-26T23:41:49.021411Z",
     "iopub.status.busy": "2021-08-26T23:41:49.020478Z",
     "iopub.status.idle": "2021-08-26T23:41:49.027663Z",
     "shell.execute_reply": "2021-08-26T23:41:49.028189Z",
     "shell.execute_reply.started": "2021-08-25T08:32:08.400724Z"
    },
    "papermill": {
     "duration": 0.02228,
     "end_time": "2021-08-26T23:41:49.028355",
     "exception": false,
     "start_time": "2021-08-26T23:41:49.006075",
     "status": "completed"
    },
    "tags": []
   },
   "outputs": [],
   "source": [
    "# Swap noise\n",
    "\n",
    "# Random\n",
    "def apply_noise_rn(df, p=.75):\n",
    "    should_not_swap = np.random.binomial(1, p, df.shape)\n",
    "    corrupted_df = df.where(should_not_swap == 1, np.random.permutation(df))\n",
    "    return corrupted_df\n",
    "\n",
    "# Row-wise\n",
    "def apply_noise_row(df, p=.75):\n",
    "    should_not_swap = np.zeros(df.shape)\n",
    "    for i in range(df.shape[0]):\n",
    "        for j in np.random.choice(df.shape[1],int(p*df.shape[1]),replace=False):\n",
    "            should_not_swap[i,j]=1 \n",
    "    corrupted_df = df.where(should_not_swap == 1, np.random.permutation(df))\n",
    "    return corrupted_df"
   ]
  },
  {
   "cell_type": "markdown",
   "id": "0ad2d821",
   "metadata": {
    "papermill": {
     "duration": 0.011163,
     "end_time": "2021-08-26T23:41:49.050997",
     "exception": false,
     "start_time": "2021-08-26T23:41:49.039834",
     "status": "completed"
    },
    "tags": []
   },
   "source": [
    "# Optuna"
   ]
  },
  {
   "cell_type": "code",
   "execution_count": 7,
   "id": "b9f6b782",
   "metadata": {
    "execution": {
     "iopub.execute_input": "2021-08-26T23:41:49.077716Z",
     "iopub.status.busy": "2021-08-26T23:41:49.076738Z",
     "iopub.status.idle": "2021-08-26T23:41:58.619855Z",
     "shell.execute_reply": "2021-08-26T23:41:58.619161Z",
     "shell.execute_reply.started": "2021-08-25T08:32:08.410357Z"
    },
    "papermill": {
     "duration": 9.557474,
     "end_time": "2021-08-26T23:41:58.620017",
     "exception": false,
     "start_time": "2021-08-26T23:41:49.062543",
     "status": "completed"
    },
    "tags": []
   },
   "outputs": [
    {
     "name": "stdout",
     "output_type": "stream",
     "text": [
      "\u001b[33mWARNING: Running pip as root will break packages and permissions. You should install packages reliably by using venv: https://pip.pypa.io/warnings/venv\u001b[0m\r\n"
     ]
    }
   ],
   "source": [
    "# Optuna for parameter search\n",
    "!pip install -q optuna\n",
    "\n",
    "import optuna\n",
    "import pickle"
   ]
  },
  {
   "cell_type": "code",
   "execution_count": 8,
   "id": "c89bbdd1",
   "metadata": {
    "execution": {
     "iopub.execute_input": "2021-08-26T23:41:58.658383Z",
     "iopub.status.busy": "2021-08-26T23:41:58.656970Z",
     "iopub.status.idle": "2021-08-26T23:41:58.857369Z",
     "shell.execute_reply": "2021-08-26T23:41:58.856771Z",
     "shell.execute_reply.started": "2021-08-25T08:32:18.645843Z"
    },
    "papermill": {
     "duration": 0.225033,
     "end_time": "2021-08-26T23:41:58.857511",
     "exception": false,
     "start_time": "2021-08-26T23:41:58.632478",
     "status": "completed"
    },
    "tags": []
   },
   "outputs": [],
   "source": [
    "# for the fixed learning rate, use the opt n iterations and tune the tree hyperparameters\n",
    "def objective(trial, X=train[scale_features], y=train[target]):\n",
    "  \"\"\"\n",
    "  \"\"\"\n",
    "  param_space = {\n",
    "                'bootstrap_type': trial.suggest_categorical('bootstrap_type', ['Bernoulli', 'MVS']),\n",
    "            'loss_function': 'RMSE',\n",
    "            'eval_metric': 'RMSE',\n",
    "          #'task_type': 'GPU',\n",
    "          'max_depth':trial.suggest_int('max_depth', 6, 8),\n",
    "           'learning_rate':trial.suggest_uniform('learning_rate', 7.89e-3, 8.89e-3),\n",
    "          'n_estimators':N_ESTIMATORS,\n",
    "        'max_bin':trial.suggest_int('max_bin', 463, 513),\n",
    "             'min_data_in_leaf':trial.suggest_int('min_data_in_leaf', 96, 106),\n",
    "         'reg_lambda':trial.suggest_uniform('reg_lambda', 0.2329, 0.3329),\n",
    "            'subsample': trial.suggest_uniform('subsample', 0.6536, 0.7036)\n",
    "                }\n",
    "            \n",
    "\n",
    "  seed_list=[SEED, SEED+1]\n",
    "  #kf = KFold(n_splits=N_SPLITS, shuffle=True, random_state=CVSEED)\n",
    "  \n",
    "  #lgb_pred = np.zeros(test.shape[0])\n",
    "  X_tr, X_va, y_tr, y_va = train_test_split(X,y,test_size=.2,random_state=CVSEED)\n",
    "  pred = np.zeros(y_va.shape[0])\n",
    "  \n",
    "  \n",
    "      \n",
    "  for inseed in seed_list:\n",
    "\n",
    "        param_space['random_seed'] = inseed\n",
    "\n",
    "        model =  ctb.CatBoostRegressor(**param_space)\n",
    "        model.fit(\n",
    "            X_tr, \n",
    "            y_tr,\n",
    "            eval_set=[(X_va, y_va)],\n",
    "            use_best_model=True,\n",
    "            early_stopping_rounds=EARLY_STOPPING_ROUNDS,\n",
    "            verbose=VERBOSE\n",
    "        )\n",
    "\n",
    "\n",
    "        pred += model.predict(X_va) / len(seed_list)\n",
    "        #lgb_pred[preds_idx-train.shape[0]] += model.predict(X_test) / len(seed_list)\n",
    "\n",
    "  rmse = mean_squared_error(y_va, pred, squared=False)\n",
    "      \n",
    "  \n",
    "  return rmse"
   ]
  },
  {
   "cell_type": "code",
   "execution_count": 9,
   "id": "cb617c78",
   "metadata": {
    "execution": {
     "iopub.execute_input": "2021-08-26T23:41:58.888328Z",
     "iopub.status.busy": "2021-08-26T23:41:58.887571Z",
     "iopub.status.idle": "2021-08-25T08:32:43.694094Z",
     "shell.execute_reply": "2021-08-25T08:32:43.690466Z",
     "shell.execute_reply.started": "2021-08-25T08:32:18.863148Z"
    },
    "papermill": {
     "duration": null,
     "end_time": null,
     "exception": false,
     "start_time": "2021-08-26T23:41:58.869926",
     "status": "running"
    },
    "tags": []
   },
   "outputs": [
    {
     "name": "stderr",
     "output_type": "stream",
     "text": [
      "\u001b[32m[I 2021-08-26 23:41:58,885]\u001b[0m A new study created in memory with name: no-name-a6d105e8-c5cc-4732-9378-4e25aad16ce1\u001b[0m\n"
     ]
    },
    {
     "name": "stdout",
     "output_type": "stream",
     "text": [
      "0:\tlearn: 7.9595147\ttest: 7.8603973\tbest: 7.8603973 (0)\ttotal: 225ms\tremaining: 37m 31s\n"
     ]
    },
    {
     "name": "stdout",
     "output_type": "stream",
     "text": [
      "1000:\tlearn: 7.8091510\ttest: 7.7976945\tbest: 7.7976945 (1000)\ttotal: 2m 20s\tremaining: 20m 58s\n"
     ]
    },
    {
     "name": "stdout",
     "output_type": "stream",
     "text": [
      "2000:\tlearn: 7.7010885\ttest: 7.7814423\tbest: 7.7814423 (2000)\ttotal: 4m 35s\tremaining: 18m 22s\n"
     ]
    },
    {
     "name": "stdout",
     "output_type": "stream",
     "text": [
      "3000:\tlearn: 7.5943219\ttest: 7.7731872\tbest: 7.7731863 (2997)\ttotal: 6m 48s\tremaining: 15m 52s\n"
     ]
    },
    {
     "name": "stdout",
     "output_type": "stream",
     "text": [
      "4000:\tlearn: 7.4930256\ttest: 7.7682141\tbest: 7.7682141 (4000)\ttotal: 9m 1s\tremaining: 13m 31s\n"
     ]
    },
    {
     "name": "stdout",
     "output_type": "stream",
     "text": [
      "5000:\tlearn: 7.3947515\ttest: 7.7647276\tbest: 7.7647174 (4998)\ttotal: 11m 13s\tremaining: 11m 13s\n"
     ]
    },
    {
     "name": "stdout",
     "output_type": "stream",
     "text": [
      "6000:\tlearn: 7.2990886\ttest: 7.7625170\tbest: 7.7624875 (5990)\ttotal: 13m 27s\tremaining: 8m 57s\n"
     ]
    },
    {
     "name": "stdout",
     "output_type": "stream",
     "text": [
      "7000:\tlearn: 7.2041412\ttest: 7.7609276\tbest: 7.7608670 (6912)\ttotal: 15m 40s\tremaining: 6m 42s\n"
     ]
    },
    {
     "name": "stdout",
     "output_type": "stream",
     "text": [
      "Stopped by overfitting detector  (200 iterations wait)\n",
      "\n",
      "bestTest = 7.759858924\n",
      "bestIteration = 7740\n",
      "\n",
      "Shrink model to first 7741 iterations.\n"
     ]
    },
    {
     "name": "stdout",
     "output_type": "stream",
     "text": [
      "0:\tlearn: 7.9594954\ttest: 7.8603878\tbest: 7.8603878 (0)\ttotal: 144ms\tremaining: 23m 58s\n"
     ]
    },
    {
     "name": "stdout",
     "output_type": "stream",
     "text": [
      "1000:\tlearn: 7.8091469\ttest: 7.7975224\tbest: 7.7975224 (1000)\ttotal: 2m 19s\tremaining: 20m 56s\n"
     ]
    },
    {
     "name": "stdout",
     "output_type": "stream",
     "text": [
      "2000:\tlearn: 7.7014999\ttest: 7.7806745\tbest: 7.7806745 (2000)\ttotal: 4m 34s\tremaining: 18m 17s\n"
     ]
    },
    {
     "name": "stdout",
     "output_type": "stream",
     "text": [
      "3000:\tlearn: 7.5945805\ttest: 7.7728443\tbest: 7.7728443 (3000)\ttotal: 6m 46s\tremaining: 15m 48s\n"
     ]
    },
    {
     "name": "stdout",
     "output_type": "stream",
     "text": [
      "4000:\tlearn: 7.4926628\ttest: 7.7677681\tbest: 7.7677467 (3973)\ttotal: 8m 59s\tremaining: 13m 28s\n"
     ]
    },
    {
     "name": "stdout",
     "output_type": "stream",
     "text": [
      "5000:\tlearn: 7.3949688\ttest: 7.7649121\tbest: 7.7649032 (4997)\ttotal: 11m 11s\tremaining: 11m 11s\n"
     ]
    },
    {
     "name": "stdout",
     "output_type": "stream",
     "text": [
      "6000:\tlearn: 7.2988125\ttest: 7.7623803\tbest: 7.7623216 (5934)\ttotal: 13m 25s\tremaining: 8m 56s\n"
     ]
    },
    {
     "name": "stdout",
     "output_type": "stream",
     "text": [
      "7000:\tlearn: 7.2040123\ttest: 7.7611110\tbest: 7.7610990 (6949)\ttotal: 15m 38s\tremaining: 6m 42s\n"
     ]
    },
    {
     "name": "stdout",
     "output_type": "stream",
     "text": [
      "8000:\tlearn: 7.1114562\ttest: 7.7596620\tbest: 7.7595594 (7940)\ttotal: 17m 52s\tremaining: 4m 28s\n"
     ]
    },
    {
     "name": "stdout",
     "output_type": "stream",
     "text": [
      "9000:\tlearn: 7.0201381\ttest: 7.7586037\tbest: 7.7583672 (8895)\ttotal: 20m 6s\tremaining: 2m 13s\n"
     ]
    },
    {
     "name": "stdout",
     "output_type": "stream",
     "text": [
      "Stopped by overfitting detector  (200 iterations wait)\n",
      "\n",
      "bestTest = 7.758367181\n",
      "bestIteration = 8895\n",
      "\n",
      "Shrink model to first 8896 iterations.\n"
     ]
    },
    {
     "name": "stderr",
     "output_type": "stream",
     "text": [
      "\u001b[32m[I 2021-08-27 00:20:11,767]\u001b[0m Trial 0 finished with value: 7.757661965279042 and parameters: {'bootstrap_type': 'MVS', 'max_depth': 8, 'learning_rate': 0.008123078499575116, 'max_bin': 500, 'min_data_in_leaf': 96, 'reg_lambda': 0.2503928416280103, 'subsample': 0.6574806110529838}. Best is trial 0 with value: 7.757661965279042.\u001b[0m\n"
     ]
    },
    {
     "name": "stdout",
     "output_type": "stream",
     "text": [
      "0:\tlearn: 7.9595181\ttest: 7.8604062\tbest: 7.8604062 (0)\ttotal: 145ms\tremaining: 24m 6s\n"
     ]
    },
    {
     "name": "stdout",
     "output_type": "stream",
     "text": [
      "1000:\tlearn: 7.8102173\ttest: 7.7980458\tbest: 7.7980458 (1000)\ttotal: 2m 21s\tremaining: 21m 11s\n"
     ]
    },
    {
     "name": "stdout",
     "output_type": "stream",
     "text": [
      "2000:\tlearn: 7.7034958\ttest: 7.7815466\tbest: 7.7815466 (2000)\ttotal: 4m 38s\tremaining: 18m 33s\n"
     ]
    },
    {
     "name": "stdout",
     "output_type": "stream",
     "text": [
      "3000:\tlearn: 7.5961528\ttest: 7.7739696\tbest: 7.7739696 (3000)\ttotal: 6m 52s\tremaining: 16m 2s\n"
     ]
    },
    {
     "name": "stdout",
     "output_type": "stream",
     "text": [
      "4000:\tlearn: 7.4942986\ttest: 7.7696276\tbest: 7.7696276 (4000)\ttotal: 9m 6s\tremaining: 13m 39s\n"
     ]
    },
    {
     "name": "stdout",
     "output_type": "stream",
     "text": [
      "5000:\tlearn: 7.3962959\ttest: 7.7665297\tbest: 7.7665125 (4991)\ttotal: 11m 21s\tremaining: 11m 20s\n"
     ]
    },
    {
     "name": "stdout",
     "output_type": "stream",
     "text": [
      "6000:\tlearn: 7.3006233\ttest: 7.7640024\tbest: 7.7639723 (5989)\ttotal: 13m 35s\tremaining: 9m 3s\n"
     ]
    },
    {
     "name": "stdout",
     "output_type": "stream",
     "text": [
      "7000:\tlearn: 7.2057362\ttest: 7.7624164\tbest: 7.7623999 (6996)\ttotal: 15m 51s\tremaining: 6m 47s\n"
     ]
    },
    {
     "name": "stdout",
     "output_type": "stream",
     "text": [
      "8000:\tlearn: 7.1137091\ttest: 7.7609648\tbest: 7.7609458 (7997)\ttotal: 18m 7s\tremaining: 4m 31s\n"
     ]
    },
    {
     "name": "stdout",
     "output_type": "stream",
     "text": [
      "9000:\tlearn: 7.0233259\ttest: 7.7597450\tbest: 7.7597274 (8997)\ttotal: 20m 22s\tremaining: 2m 15s\n"
     ]
    },
    {
     "name": "stdout",
     "output_type": "stream",
     "text": [
      "Stopped by overfitting detector  (200 iterations wait)\n",
      "\n",
      "bestTest = 7.759695518\n",
      "bestIteration = 9057\n",
      "\n",
      "Shrink model to first 9058 iterations.\n"
     ]
    },
    {
     "name": "stdout",
     "output_type": "stream",
     "text": [
      "0:\tlearn: 7.9594987\ttest: 7.8603904\tbest: 7.8603904 (0)\ttotal: 140ms\tremaining: 23m 18s\n"
     ]
    },
    {
     "name": "stdout",
     "output_type": "stream",
     "text": [
      "1000:\tlearn: 7.8099647\ttest: 7.7979889\tbest: 7.7979889 (1000)\ttotal: 2m 21s\tremaining: 21m 15s\n"
     ]
    },
    {
     "name": "stdout",
     "output_type": "stream",
     "text": [
      "2000:\tlearn: 7.7024029\ttest: 7.7809511\tbest: 7.7809511 (2000)\ttotal: 4m 37s\tremaining: 18m 31s\n"
     ]
    },
    {
     "name": "stdout",
     "output_type": "stream",
     "text": [
      "3000:\tlearn: 7.5950676\ttest: 7.7728343\tbest: 7.7728343 (3000)\ttotal: 6m 52s\tremaining: 16m 1s\n"
     ]
    },
    {
     "name": "stdout",
     "output_type": "stream",
     "text": [
      "4000:\tlearn: 7.4935953\ttest: 7.7681981\tbest: 7.7681981 (4000)\ttotal: 9m 5s\tremaining: 13m 38s\n"
     ]
    },
    {
     "name": "stdout",
     "output_type": "stream",
     "text": [
      "5000:\tlearn: 7.3953752\ttest: 7.7649691\tbest: 7.7649414 (4998)\ttotal: 11m 19s\tremaining: 11m 19s\n"
     ]
    },
    {
     "name": "stdout",
     "output_type": "stream",
     "text": [
      "6000:\tlearn: 7.2982586\ttest: 7.7625175\tbest: 7.7624707 (5940)\ttotal: 13m 34s\tremaining: 9m 2s\n"
     ]
    },
    {
     "name": "stdout",
     "output_type": "stream",
     "text": [
      "7000:\tlearn: 7.2028734\ttest: 7.7613194\tbest: 7.7612070 (6971)\ttotal: 15m 49s\tremaining: 6m 46s\n"
     ]
    },
    {
     "name": "stdout",
     "output_type": "stream",
     "text": [
      "8000:\tlearn: 7.1106538\ttest: 7.7597422\tbest: 7.7597422 (8000)\ttotal: 18m 6s\tremaining: 4m 31s\n"
     ]
    },
    {
     "name": "stdout",
     "output_type": "stream",
     "text": [
      "Stopped by overfitting detector  (200 iterations wait)\n",
      "\n",
      "bestTest = 7.758968024\n",
      "bestIteration = 8547\n",
      "\n",
      "Shrink model to first 8548 iterations.\n"
     ]
    },
    {
     "name": "stderr",
     "output_type": "stream",
     "text": [
      "\u001b[32m[I 2021-08-27 01:01:04,972]\u001b[0m Trial 1 finished with value: 7.757873884291523 and parameters: {'bootstrap_type': 'MVS', 'max_depth': 8, 'learning_rate': 0.008060703293473774, 'max_bin': 500, 'min_data_in_leaf': 104, 'reg_lambda': 0.2690646359064279, 'subsample': 0.681581458779737}. Best is trial 0 with value: 7.757661965279042.\u001b[0m\n"
     ]
    },
    {
     "name": "stdout",
     "output_type": "stream",
     "text": [
      "0:\tlearn: 7.9596214\ttest: 7.8604700\tbest: 7.8604700 (0)\ttotal: 98.5ms\tremaining: 16m 24s\n"
     ]
    },
    {
     "name": "stdout",
     "output_type": "stream",
     "text": [
      "1000:\tlearn: 7.8738285\ttest: 7.8035181\tbest: 7.8035181 (1000)\ttotal: 1m 8s\tremaining: 10m 14s\n"
     ]
    },
    {
     "name": "stdout",
     "output_type": "stream",
     "text": [
      "2000:\tlearn: 7.8212085\ttest: 7.7861136\tbest: 7.7861136 (2000)\ttotal: 2m 14s\tremaining: 8m 58s\n"
     ]
    },
    {
     "name": "stdout",
     "output_type": "stream",
     "text": [
      "3000:\tlearn: 7.7677795\ttest: 7.7770570\tbest: 7.7770570 (3000)\ttotal: 3m 18s\tremaining: 7m 42s\n"
     ]
    },
    {
     "name": "stdout",
     "output_type": "stream",
     "text": [
      "4000:\tlearn: 7.7188505\ttest: 7.7715507\tbest: 7.7715486 (3999)\ttotal: 4m 22s\tremaining: 6m 33s\n"
     ]
    },
    {
     "name": "stdout",
     "output_type": "stream",
     "text": [
      "5000:\tlearn: 7.6724930\ttest: 7.7682123\tbest: 7.7682123 (5000)\ttotal: 5m 26s\tremaining: 5m 26s\n"
     ]
    },
    {
     "name": "stdout",
     "output_type": "stream",
     "text": [
      "6000:\tlearn: 7.6277052\ttest: 7.7658972\tbest: 7.7658923 (5999)\ttotal: 6m 30s\tremaining: 4m 20s\n"
     ]
    },
    {
     "name": "stdout",
     "output_type": "stream",
     "text": [
      "7000:\tlearn: 7.5840983\ttest: 7.7637912\tbest: 7.7637912 (7000)\ttotal: 7m 34s\tremaining: 3m 14s\n"
     ]
    },
    {
     "name": "stdout",
     "output_type": "stream",
     "text": [
      "8000:\tlearn: 7.5411113\ttest: 7.7622090\tbest: 7.7622003 (7999)\ttotal: 8m 38s\tremaining: 2m 9s\n"
     ]
    },
    {
     "name": "stdout",
     "output_type": "stream",
     "text": [
      "9000:\tlearn: 7.4990422\ttest: 7.7607424\tbest: 7.7607194 (8946)\ttotal: 9m 42s\tremaining: 1m 4s\n"
     ]
    },
    {
     "name": "stdout",
     "output_type": "stream",
     "text": [
      "9999:\tlearn: 7.4575456\ttest: 7.7596891\tbest: 7.7596595 (9991)\ttotal: 10m 46s\tremaining: 0us\n",
      "\n",
      "bestTest = 7.759659471\n",
      "bestIteration = 9991\n",
      "\n",
      "Shrink model to first 9992 iterations.\n"
     ]
    },
    {
     "name": "stdout",
     "output_type": "stream",
     "text": [
      "0:\tlearn: 7.9596185\ttest: 7.8604665\tbest: 7.8604665 (0)\ttotal: 72.1ms\tremaining: 12m\n"
     ]
    },
    {
     "name": "stdout",
     "output_type": "stream",
     "text": [
      "1000:\tlearn: 7.8735387\ttest: 7.8033114\tbest: 7.8033114 (1000)\ttotal: 1m 8s\tremaining: 10m 15s\n"
     ]
    },
    {
     "name": "stdout",
     "output_type": "stream",
     "text": [
      "2000:\tlearn: 7.8208474\ttest: 7.7862364\tbest: 7.7862364 (2000)\ttotal: 2m 14s\tremaining: 8m 56s\n"
     ]
    },
    {
     "name": "stdout",
     "output_type": "stream",
     "text": [
      "3000:\tlearn: 7.7673688\ttest: 7.7772175\tbest: 7.7772175 (3000)\ttotal: 3m 18s\tremaining: 7m 42s\n"
     ]
    },
    {
     "name": "stdout",
     "output_type": "stream",
     "text": [
      "4000:\tlearn: 7.7185563\ttest: 7.7719061\tbest: 7.7719028 (3999)\ttotal: 4m 22s\tremaining: 6m 33s\n"
     ]
    },
    {
     "name": "stdout",
     "output_type": "stream",
     "text": [
      "5000:\tlearn: 7.6723953\ttest: 7.7684372\tbest: 7.7684363 (4999)\ttotal: 5m 26s\tremaining: 5m 26s\n"
     ]
    },
    {
     "name": "stdout",
     "output_type": "stream",
     "text": [
      "6000:\tlearn: 7.6275460\ttest: 7.7656497\tbest: 7.7656464 (5997)\ttotal: 6m 31s\tremaining: 4m 20s\n"
     ]
    },
    {
     "name": "stdout",
     "output_type": "stream",
     "text": [
      "7000:\tlearn: 7.5837182\ttest: 7.7641318\tbest: 7.7641218 (6991)\ttotal: 7m 35s\tremaining: 3m 15s\n"
     ]
    },
    {
     "name": "stdout",
     "output_type": "stream",
     "text": [
      "8000:\tlearn: 7.5410317\ttest: 7.7626145\tbest: 7.7626006 (7998)\ttotal: 8m 39s\tremaining: 2m 9s\n"
     ]
    },
    {
     "name": "stdout",
     "output_type": "stream",
     "text": [
      "9000:\tlearn: 7.4990338\ttest: 7.7618120\tbest: 7.7617898 (8950)\ttotal: 9m 43s\tremaining: 1m 4s\n"
     ]
    },
    {
     "name": "stdout",
     "output_type": "stream",
     "text": [
      "9999:\tlearn: 7.4574507\ttest: 7.7605368\tbest: 7.7604810 (9950)\ttotal: 10m 47s\tremaining: 0us\n",
      "\n",
      "bestTest = 7.760480967\n",
      "bestIteration = 9950\n",
      "\n",
      "Shrink model to first 9951 iterations.\n"
     ]
    },
    {
     "name": "stderr",
     "output_type": "stream",
     "text": [
      "\u001b[32m[I 2021-08-27 01:22:46,945]\u001b[0m Trial 2 finished with value: 7.759378107221941 and parameters: {'bootstrap_type': 'MVS', 'max_depth': 6, 'learning_rate': 0.007913534723871912, 'max_bin': 512, 'min_data_in_leaf': 99, 'reg_lambda': 0.24492279247501691, 'subsample': 0.6750952570369655}. Best is trial 0 with value: 7.757661965279042.\u001b[0m\n"
     ]
    },
    {
     "name": "stdout",
     "output_type": "stream",
     "text": [
      "0:\tlearn: 7.9595317\ttest: 7.8604131\tbest: 7.8604131 (0)\ttotal: 161ms\tremaining: 26m 48s\n"
     ]
    },
    {
     "name": "stdout",
     "output_type": "stream",
     "text": [
      "1000:\tlearn: 7.8122763\ttest: 7.7981395\tbest: 7.7981395 (1000)\ttotal: 2m 21s\tremaining: 21m 9s\n"
     ]
    },
    {
     "name": "stdout",
     "output_type": "stream",
     "text": [
      "2000:\tlearn: 7.7072990\ttest: 7.7812931\tbest: 7.7812931 (2000)\ttotal: 4m 37s\tremaining: 18m 29s\n"
     ]
    },
    {
     "name": "stdout",
     "output_type": "stream",
     "text": [
      "3000:\tlearn: 7.6016300\ttest: 7.7729660\tbest: 7.7729647 (2999)\ttotal: 6m 51s\tremaining: 16m\n"
     ]
    },
    {
     "name": "stdout",
     "output_type": "stream",
     "text": [
      "4000:\tlearn: 7.5019989\ttest: 7.7678821\tbest: 7.7678806 (3999)\ttotal: 9m 6s\tremaining: 13m 38s\n"
     ]
    },
    {
     "name": "stdout",
     "output_type": "stream",
     "text": [
      "5000:\tlearn: 7.4065637\ttest: 7.7647491\tbest: 7.7647475 (4995)\ttotal: 11m 20s\tremaining: 11m 19s\n"
     ]
    },
    {
     "name": "stdout",
     "output_type": "stream",
     "text": [
      "6000:\tlearn: 7.3127060\ttest: 7.7626265\tbest: 7.7626062 (5982)\ttotal: 13m 34s\tremaining: 9m 2s\n"
     ]
    },
    {
     "name": "stdout",
     "output_type": "stream",
     "text": [
      "7000:\tlearn: 7.2204503\ttest: 7.7605921\tbest: 7.7605451 (6965)\ttotal: 15m 49s\tremaining: 6m 46s\n"
     ]
    },
    {
     "name": "stdout",
     "output_type": "stream",
     "text": [
      "8000:\tlearn: 7.1290821\ttest: 7.7593595\tbest: 7.7592869 (7958)\ttotal: 18m 5s\tremaining: 4m 31s\n"
     ]
    },
    {
     "name": "stdout",
     "output_type": "stream",
     "text": [
      "9000:\tlearn: 7.0407729\ttest: 7.7582763\tbest: 7.7582763 (9000)\ttotal: 20m 20s\tremaining: 2m 15s\n"
     ]
    },
    {
     "name": "stdout",
     "output_type": "stream",
     "text": [
      "9999:\tlearn: 6.9532295\ttest: 7.7573595\tbest: 7.7573340 (9992)\ttotal: 22m 36s\tremaining: 0us\n",
      "\n",
      "bestTest = 7.757333968\n",
      "bestIteration = 9992\n",
      "\n",
      "Shrink model to first 9993 iterations.\n"
     ]
    },
    {
     "name": "stdout",
     "output_type": "stream",
     "text": [
      "0:\tlearn: 7.9595398\ttest: 7.8604056\tbest: 7.8604056 (0)\ttotal: 145ms\tremaining: 24m 5s\n"
     ]
    },
    {
     "name": "stdout",
     "output_type": "stream",
     "text": [
      "1000:\tlearn: 7.8119156\ttest: 7.7983842\tbest: 7.7983842 (1000)\ttotal: 2m 21s\tremaining: 21m 12s\n"
     ]
    },
    {
     "name": "stdout",
     "output_type": "stream",
     "text": [
      "2000:\tlearn: 7.7069502\ttest: 7.7815752\tbest: 7.7815752 (2000)\ttotal: 4m 38s\tremaining: 18m 32s\n"
     ]
    },
    {
     "name": "stdout",
     "output_type": "stream",
     "text": [
      "3000:\tlearn: 7.6017306\ttest: 7.7730419\tbest: 7.7730419 (3000)\ttotal: 6m 51s\tremaining: 16m\n"
     ]
    },
    {
     "name": "stdout",
     "output_type": "stream",
     "text": [
      "4000:\tlearn: 7.5026252\ttest: 7.7682212\tbest: 7.7682212 (4000)\ttotal: 9m 6s\tremaining: 13m 39s\n"
     ]
    },
    {
     "name": "stdout",
     "output_type": "stream",
     "text": [
      "5000:\tlearn: 7.4062325\ttest: 7.7652237\tbest: 7.7651933 (4988)\ttotal: 11m 20s\tremaining: 11m 20s\n"
     ]
    },
    {
     "name": "stdout",
     "output_type": "stream",
     "text": [
      "6000:\tlearn: 7.3119286\ttest: 7.7629121\tbest: 7.7629121 (6000)\ttotal: 13m 35s\tremaining: 9m 3s\n"
     ]
    },
    {
     "name": "stdout",
     "output_type": "stream",
     "text": [
      "7000:\tlearn: 7.2194996\ttest: 7.7609284\tbest: 7.7609284 (7000)\ttotal: 15m 50s\tremaining: 6m 47s\n"
     ]
    },
    {
     "name": "stdout",
     "output_type": "stream",
     "text": [
      "Stopped by overfitting detector  (200 iterations wait)\n",
      "\n",
      "bestTest = 7.759675689\n",
      "bestIteration = 7703\n",
      "\n",
      "Shrink model to first 7704 iterations.\n"
     ]
    },
    {
     "name": "stderr",
     "output_type": "stream",
     "text": [
      "\u001b[32m[I 2021-08-27 02:03:24,550]\u001b[0m Trial 3 finished with value: 7.756960452364126 and parameters: {'bootstrap_type': 'MVS', 'max_depth': 8, 'learning_rate': 0.007920684573193955, 'max_bin': 495, 'min_data_in_leaf': 106, 'reg_lambda': 0.3069772226551043, 'subsample': 0.6795799737233468}. Best is trial 3 with value: 7.756960452364126.\u001b[0m\n"
     ]
    },
    {
     "name": "stdout",
     "output_type": "stream",
     "text": [
      "0:\tlearn: 7.9595905\ttest: 7.8604861\tbest: 7.8604861 (0)\ttotal: 163ms\tremaining: 27m 6s\n"
     ]
    },
    {
     "name": "stdout",
     "output_type": "stream",
     "text": [
      "1000:\tlearn: 7.8103770\ttest: 7.7993996\tbest: 7.7993996 (1000)\ttotal: 2m 17s\tremaining: 20m 38s\n"
     ]
    },
    {
     "name": "stdout",
     "output_type": "stream",
     "text": [
      "2000:\tlearn: 7.7030681\ttest: 7.7826526\tbest: 7.7826526 (2000)\ttotal: 4m 30s\tremaining: 18m 1s\n"
     ]
    },
    {
     "name": "stdout",
     "output_type": "stream",
     "text": [
      "3000:\tlearn: 7.5964253\ttest: 7.7744366\tbest: 7.7744089 (2993)\ttotal: 6m 41s\tremaining: 15m 36s\n"
     ]
    },
    {
     "name": "stdout",
     "output_type": "stream",
     "text": [
      "4000:\tlearn: 7.4953149\ttest: 7.7695733\tbest: 7.7695431 (3993)\ttotal: 8m 52s\tremaining: 13m 18s\n"
     ]
    },
    {
     "name": "stdout",
     "output_type": "stream",
     "text": [
      "5000:\tlearn: 7.3964378\ttest: 7.7656429\tbest: 7.7656429 (5000)\ttotal: 11m 4s\tremaining: 11m 4s\n"
     ]
    },
    {
     "name": "stdout",
     "output_type": "stream",
     "text": [
      "6000:\tlearn: 7.3003006\ttest: 7.7633329\tbest: 7.7633081 (5981)\ttotal: 13m 16s\tremaining: 8m 51s\n"
     ]
    },
    {
     "name": "stdout",
     "output_type": "stream",
     "text": [
      "7000:\tlearn: 7.2063203\ttest: 7.7618335\tbest: 7.7618078 (6981)\ttotal: 15m 29s\tremaining: 6m 38s\n"
     ]
    },
    {
     "name": "stdout",
     "output_type": "stream",
     "text": [
      "Stopped by overfitting detector  (200 iterations wait)\n",
      "\n",
      "bestTest = 7.761408381\n",
      "bestIteration = 7331\n",
      "\n",
      "Shrink model to first 7332 iterations.\n"
     ]
    },
    {
     "name": "stdout",
     "output_type": "stream",
     "text": [
      "0:\tlearn: 7.9595394\ttest: 7.8604142\tbest: 7.8604142 (0)\ttotal: 128ms\tremaining: 21m 20s\n"
     ]
    },
    {
     "name": "stdout",
     "output_type": "stream",
     "text": [
      "1000:\tlearn: 7.8108378\ttest: 7.7993010\tbest: 7.7993010 (1000)\ttotal: 2m 18s\tremaining: 20m 43s\n"
     ]
    },
    {
     "name": "stdout",
     "output_type": "stream",
     "text": [
      "2000:\tlearn: 7.7030796\ttest: 7.7827248\tbest: 7.7827248 (2000)\ttotal: 4m 31s\tremaining: 18m 5s\n"
     ]
    },
    {
     "name": "stdout",
     "output_type": "stream",
     "text": [
      "3000:\tlearn: 7.5972343\ttest: 7.7739122\tbest: 7.7739122 (3000)\ttotal: 6m 42s\tremaining: 15m 38s\n"
     ]
    },
    {
     "name": "stdout",
     "output_type": "stream",
     "text": [
      "4000:\tlearn: 7.4965396\ttest: 7.7696982\tbest: 7.7696959 (3999)\ttotal: 8m 53s\tremaining: 13m 19s\n"
     ]
    },
    {
     "name": "stdout",
     "output_type": "stream",
     "text": [
      "5000:\tlearn: 7.3971137\ttest: 7.7665426\tbest: 7.7665426 (5000)\ttotal: 11m 4s\tremaining: 11m 4s\n"
     ]
    },
    {
     "name": "stdout",
     "output_type": "stream",
     "text": [
      "6000:\tlearn: 7.3006101\ttest: 7.7637787\tbest: 7.7637787 (6000)\ttotal: 13m 16s\tremaining: 8m 50s\n"
     ]
    },
    {
     "name": "stdout",
     "output_type": "stream",
     "text": [
      "7000:\tlearn: 7.2045932\ttest: 7.7623653\tbest: 7.7623292 (6991)\ttotal: 15m 29s\tremaining: 6m 38s\n"
     ]
    },
    {
     "name": "stdout",
     "output_type": "stream",
     "text": [
      "8000:\tlearn: 7.1109803\ttest: 7.7611576\tbest: 7.7611477 (7994)\ttotal: 17m 42s\tremaining: 4m 25s\n"
     ]
    },
    {
     "name": "stdout",
     "output_type": "stream",
     "text": [
      "Stopped by overfitting detector  (200 iterations wait)\n",
      "\n",
      "bestTest = 7.760161423\n",
      "bestIteration = 8650\n",
      "\n",
      "Shrink model to first 8651 iterations.\n"
     ]
    },
    {
     "name": "stderr",
     "output_type": "stream",
     "text": [
      "\u001b[32m[I 2021-08-27 02:39:47,875]\u001b[0m Trial 4 finished with value: 7.759328671888695 and parameters: {'bootstrap_type': 'Bernoulli', 'max_depth': 8, 'learning_rate': 0.008339030816464692, 'max_bin': 481, 'min_data_in_leaf': 100, 'reg_lambda': 0.32139780776224364, 'subsample': 0.6927854094824777}. Best is trial 3 with value: 7.756960452364126.\u001b[0m\n"
     ]
    },
    {
     "name": "stdout",
     "output_type": "stream",
     "text": [
      "0:\tlearn: 7.9594927\ttest: 7.8603820\tbest: 7.8603820 (0)\ttotal: 142ms\tremaining: 23m 42s\n"
     ]
    },
    {
     "name": "stdout",
     "output_type": "stream",
     "text": [
      "1000:\tlearn: 7.7994021\ttest: 7.7957746\tbest: 7.7957746 (1000)\ttotal: 2m 20s\tremaining: 21m 1s\n"
     ]
    },
    {
     "name": "stdout",
     "output_type": "stream",
     "text": [
      "2000:\tlearn: 7.6826537\ttest: 7.7793901\tbest: 7.7793823 (1999)\ttotal: 4m 35s\tremaining: 18m 20s\n"
     ]
    },
    {
     "name": "stdout",
     "output_type": "stream",
     "text": [
      "3000:\tlearn: 7.5672545\ttest: 7.7720636\tbest: 7.7720636 (3000)\ttotal: 6m 49s\tremaining: 15m 53s\n"
     ]
    },
    {
     "name": "stdout",
     "output_type": "stream",
     "text": [
      "4000:\tlearn: 7.4588946\ttest: 7.7678193\tbest: 7.7678173 (3999)\ttotal: 9m 2s\tremaining: 13m 33s\n"
     ]
    },
    {
     "name": "stdout",
     "output_type": "stream",
     "text": [
      "5000:\tlearn: 7.3534838\ttest: 7.7649086\tbest: 7.7648871 (4998)\ttotal: 11m 16s\tremaining: 11m 16s\n"
     ]
    },
    {
     "name": "stdout",
     "output_type": "stream",
     "text": [
      "6000:\tlearn: 7.2495472\ttest: 7.7626107\tbest: 7.7626038 (5997)\ttotal: 13m 31s\tremaining: 9m\n"
     ]
    },
    {
     "name": "stdout",
     "output_type": "stream",
     "text": [
      "7000:\tlearn: 7.1480691\ttest: 7.7618891\tbest: 7.7618808 (6990)\ttotal: 15m 45s\tremaining: 6m 45s\n"
     ]
    },
    {
     "name": "stdout",
     "output_type": "stream",
     "text": [
      "8000:\tlearn: 7.0487541\ttest: 7.7606328\tbest: 7.7606272 (7965)\ttotal: 18m\tremaining: 4m 29s\n"
     ]
    },
    {
     "name": "stdout",
     "output_type": "stream",
     "text": [
      "Stopped by overfitting detector  (200 iterations wait)\n",
      "\n",
      "bestTest = 7.760409463\n",
      "bestIteration = 8284\n",
      "\n",
      "Shrink model to first 8285 iterations.\n"
     ]
    },
    {
     "name": "stdout",
     "output_type": "stream",
     "text": [
      "0:\tlearn: 7.9595114\ttest: 7.8604436\tbest: 7.8604436 (0)\ttotal: 143ms\tremaining: 23m 47s\n"
     ]
    },
    {
     "name": "stdout",
     "output_type": "stream",
     "text": [
      "1000:\tlearn: 7.7987447\ttest: 7.7946384\tbest: 7.7946384 (1000)\ttotal: 2m 20s\tremaining: 21m\n"
     ]
    },
    {
     "name": "stdout",
     "output_type": "stream",
     "text": [
      "2000:\tlearn: 7.6825755\ttest: 7.7780859\tbest: 7.7780859 (2000)\ttotal: 4m 34s\tremaining: 18m 18s\n"
     ]
    },
    {
     "name": "stdout",
     "output_type": "stream",
     "text": [
      "3000:\tlearn: 7.5672725\ttest: 7.7704745\tbest: 7.7704745 (3000)\ttotal: 6m 48s\tremaining: 15m 51s\n"
     ]
    },
    {
     "name": "stdout",
     "output_type": "stream",
     "text": [
      "4000:\tlearn: 7.4574995\ttest: 7.7655516\tbest: 7.7655494 (3998)\ttotal: 9m 1s\tremaining: 13m 31s\n"
     ]
    },
    {
     "name": "stdout",
     "output_type": "stream",
     "text": [
      "5000:\tlearn: 7.3522536\ttest: 7.7626443\tbest: 7.7626204 (4993)\ttotal: 11m 14s\tremaining: 11m 14s\n"
     ]
    },
    {
     "name": "stdout",
     "output_type": "stream",
     "text": [
      "6000:\tlearn: 7.2487837\ttest: 7.7606428\tbest: 7.7606400 (5999)\ttotal: 13m 29s\tremaining: 8m 59s\n"
     ]
    },
    {
     "name": "stdout",
     "output_type": "stream",
     "text": [
      "7000:\tlearn: 7.1472400\ttest: 7.7591534\tbest: 7.7591534 (7000)\ttotal: 15m 43s\tremaining: 6m 44s\n"
     ]
    },
    {
     "name": "stdout",
     "output_type": "stream",
     "text": [
      "Stopped by overfitting detector  (200 iterations wait)\n",
      "\n",
      "bestTest = 7.759026279\n",
      "bestIteration = 7166\n",
      "\n",
      "Shrink model to first 7167 iterations.\n"
     ]
    },
    {
     "name": "stderr",
     "output_type": "stream",
     "text": [
      "\u001b[32m[I 2021-08-27 03:15:33,749]\u001b[0m Trial 5 finished with value: 7.7581205303834695 and parameters: {'bootstrap_type': 'MVS', 'max_depth': 8, 'learning_rate': 0.008869291990692963, 'max_bin': 499, 'min_data_in_leaf': 97, 'reg_lambda': 0.3034964711662688, 'subsample': 0.6574505878957136}. Best is trial 3 with value: 7.756960452364126.\u001b[0m\n"
     ]
    },
    {
     "name": "stdout",
     "output_type": "stream",
     "text": [
      "0:\tlearn: 7.9595607\ttest: 7.8604189\tbest: 7.8604189 (0)\ttotal: 170ms\tremaining: 28m 20s\n"
     ]
    },
    {
     "name": "stdout",
     "output_type": "stream",
     "text": [
      "1000:\tlearn: 7.8475280\ttest: 7.7996138\tbest: 7.7996138 (1000)\ttotal: 1m 32s\tremaining: 13m 54s\n"
     ]
    },
    {
     "name": "stdout",
     "output_type": "stream",
     "text": [
      "2000:\tlearn: 7.7715689\ttest: 7.7827208\tbest: 7.7827208 (2000)\ttotal: 3m 1s\tremaining: 12m 7s\n"
     ]
    },
    {
     "name": "stdout",
     "output_type": "stream",
     "text": [
      "3000:\tlearn: 7.6954636\ttest: 7.7743360\tbest: 7.7743360 (3000)\ttotal: 4m 29s\tremaining: 10m 29s\n"
     ]
    },
    {
     "name": "stdout",
     "output_type": "stream",
     "text": [
      "4000:\tlearn: 7.6245417\ttest: 7.7694542\tbest: 7.7694478 (3997)\ttotal: 5m 56s\tremaining: 8m 55s\n"
     ]
    },
    {
     "name": "stdout",
     "output_type": "stream",
     "text": [
      "5000:\tlearn: 7.5564167\ttest: 7.7660787\tbest: 7.7660691 (4999)\ttotal: 7m 24s\tremaining: 7m 24s\n"
     ]
    },
    {
     "name": "stdout",
     "output_type": "stream",
     "text": [
      "6000:\tlearn: 7.4898879\ttest: 7.7634958\tbest: 7.7634676 (5996)\ttotal: 8m 52s\tremaining: 5m 54s\n"
     ]
    },
    {
     "name": "stdout",
     "output_type": "stream",
     "text": [
      "7000:\tlearn: 7.4249428\ttest: 7.7614410\tbest: 7.7614410 (7000)\ttotal: 10m 20s\tremaining: 4m 25s\n"
     ]
    },
    {
     "name": "stdout",
     "output_type": "stream",
     "text": [
      "8000:\tlearn: 7.3613293\ttest: 7.7600547\tbest: 7.7600281 (7980)\ttotal: 11m 48s\tremaining: 2m 57s\n"
     ]
    },
    {
     "name": "stdout",
     "output_type": "stream",
     "text": [
      "9000:\tlearn: 7.2986541\ttest: 7.7592837\tbest: 7.7591674 (8978)\ttotal: 13m 16s\tremaining: 1m 28s\n"
     ]
    },
    {
     "name": "stdout",
     "output_type": "stream",
     "text": [
      "9999:\tlearn: 7.2369498\ttest: 7.7580993\tbest: 7.7580022 (9970)\ttotal: 14m 45s\tremaining: 0us\n",
      "\n",
      "bestTest = 7.75800225\n",
      "bestIteration = 9970\n",
      "\n",
      "Shrink model to first 9971 iterations.\n"
     ]
    },
    {
     "name": "stdout",
     "output_type": "stream",
     "text": [
      "0:\tlearn: 7.9595624\ttest: 7.8604475\tbest: 7.8604475 (0)\ttotal: 93.3ms\tremaining: 15m 32s\n"
     ]
    },
    {
     "name": "stdout",
     "output_type": "stream",
     "text": [
      "1000:\tlearn: 7.8468817\ttest: 7.7990948\tbest: 7.7990948 (1000)\ttotal: 1m 33s\tremaining: 13m 57s\n"
     ]
    },
    {
     "name": "stdout",
     "output_type": "stream",
     "text": [
      "2000:\tlearn: 7.7711855\ttest: 7.7819203\tbest: 7.7819203 (2000)\ttotal: 3m 2s\tremaining: 12m 7s\n"
     ]
    },
    {
     "name": "stdout",
     "output_type": "stream",
     "text": [
      "3000:\tlearn: 7.6952336\ttest: 7.7732006\tbest: 7.7731941 (2994)\ttotal: 4m 29s\tremaining: 10m 29s\n"
     ]
    },
    {
     "name": "stdout",
     "output_type": "stream",
     "text": [
      "4000:\tlearn: 7.6239315\ttest: 7.7683118\tbest: 7.7683107 (3999)\ttotal: 5m 57s\tremaining: 8m 55s\n"
     ]
    },
    {
     "name": "stdout",
     "output_type": "stream",
     "text": [
      "5000:\tlearn: 7.5552666\ttest: 7.7652425\tbest: 7.7652274 (4994)\ttotal: 7m 24s\tremaining: 7m 24s\n"
     ]
    },
    {
     "name": "stdout",
     "output_type": "stream",
     "text": [
      "6000:\tlearn: 7.4888773\ttest: 7.7632703\tbest: 7.7631856 (5966)\ttotal: 8m 51s\tremaining: 5m 54s\n"
     ]
    },
    {
     "name": "stdout",
     "output_type": "stream",
     "text": [
      "7000:\tlearn: 7.4239551\ttest: 7.7614943\tbest: 7.7614692 (6976)\ttotal: 10m 19s\tremaining: 4m 25s\n"
     ]
    },
    {
     "name": "stdout",
     "output_type": "stream",
     "text": [
      "Stopped by overfitting detector  (200 iterations wait)\n",
      "\n",
      "bestTest = 7.761034854\n",
      "bestIteration = 7375\n",
      "\n",
      "Shrink model to first 7376 iterations.\n"
     ]
    },
    {
     "name": "stderr",
     "output_type": "stream",
     "text": [
      "\u001b[32m[I 2021-08-27 03:41:36,510]\u001b[0m Trial 6 finished with value: 7.758362482856984 and parameters: {'bootstrap_type': 'MVS', 'max_depth': 7, 'learning_rate': 0.008205202447198478, 'max_bin': 495, 'min_data_in_leaf': 101, 'reg_lambda': 0.2679848297873886, 'subsample': 0.6564389253426023}. Best is trial 3 with value: 7.756960452364126.\u001b[0m\n"
     ]
    },
    {
     "name": "stdout",
     "output_type": "stream",
     "text": [
      "0:\tlearn: 7.9595227\ttest: 7.8604082\tbest: 7.8604082 (0)\ttotal: 184ms\tremaining: 30m 38s\n"
     ]
    },
    {
     "name": "stdout",
     "output_type": "stream",
     "text": [
      "1000:\tlearn: 7.8109601\ttest: 7.7997149\tbest: 7.7997149 (1000)\ttotal: 2m 16s\tremaining: 20m 29s\n"
     ]
    },
    {
     "name": "stdout",
     "output_type": "stream",
     "text": [
      "2000:\tlearn: 7.7042942\ttest: 7.7825120\tbest: 7.7825030 (1999)\ttotal: 4m 28s\tremaining: 17m 54s\n"
     ]
    },
    {
     "name": "stdout",
     "output_type": "stream",
     "text": [
      "3000:\tlearn: 7.5986486\ttest: 7.7743417\tbest: 7.7743407 (2999)\ttotal: 6m 38s\tremaining: 15m 30s\n"
     ]
    },
    {
     "name": "stdout",
     "output_type": "stream",
     "text": [
      "4000:\tlearn: 7.4979451\ttest: 7.7701669\tbest: 7.7701669 (4000)\ttotal: 8m 49s\tremaining: 13m 13s\n"
     ]
    },
    {
     "name": "stdout",
     "output_type": "stream",
     "text": [
      "5000:\tlearn: 7.3993367\ttest: 7.7660627\tbest: 7.7660591 (4999)\ttotal: 11m\tremaining: 10m 59s\n"
     ]
    },
    {
     "name": "stdout",
     "output_type": "stream",
     "text": [
      "6000:\tlearn: 7.3032841\ttest: 7.7637285\tbest: 7.7637260 (5999)\ttotal: 13m 11s\tremaining: 8m 47s\n"
     ]
    },
    {
     "name": "stdout",
     "output_type": "stream",
     "text": [
      "7000:\tlearn: 7.2088841\ttest: 7.7623652\tbest: 7.7623624 (6996)\ttotal: 15m 23s\tremaining: 6m 35s\n"
     ]
    },
    {
     "name": "stdout",
     "output_type": "stream",
     "text": [
      "Stopped by overfitting detector  (200 iterations wait)\n",
      "\n",
      "bestTest = 7.761776837\n",
      "bestIteration = 7396\n",
      "\n",
      "Shrink model to first 7397 iterations.\n"
     ]
    },
    {
     "name": "stdout",
     "output_type": "stream",
     "text": [
      "0:\tlearn: 7.9595317\ttest: 7.8603881\tbest: 7.8603881 (0)\ttotal: 123ms\tremaining: 20m 33s\n"
     ]
    },
    {
     "name": "stdout",
     "output_type": "stream",
     "text": [
      "1000:\tlearn: 7.8108387\ttest: 7.7998235\tbest: 7.7998235 (1000)\ttotal: 2m 17s\tremaining: 20m 32s\n"
     ]
    },
    {
     "name": "stdout",
     "output_type": "stream",
     "text": [
      "2000:\tlearn: 7.7039053\ttest: 7.7823992\tbest: 7.7823992 (2000)\ttotal: 4m 29s\tremaining: 17m 56s\n"
     ]
    },
    {
     "name": "stdout",
     "output_type": "stream",
     "text": [
      "3000:\tlearn: 7.5981546\ttest: 7.7735419\tbest: 7.7735378 (2999)\ttotal: 6m 39s\tremaining: 15m 32s\n"
     ]
    },
    {
     "name": "stdout",
     "output_type": "stream",
     "text": [
      "4000:\tlearn: 7.4976199\ttest: 7.7690499\tbest: 7.7690499 (4000)\ttotal: 8m 50s\tremaining: 13m 14s\n"
     ]
    },
    {
     "name": "stdout",
     "output_type": "stream",
     "text": [
      "5000:\tlearn: 7.4003640\ttest: 7.7657953\tbest: 7.7657701 (4997)\ttotal: 11m 1s\tremaining: 11m 1s\n"
     ]
    },
    {
     "name": "stdout",
     "output_type": "stream",
     "text": [
      "6000:\tlearn: 7.3043344\ttest: 7.7632020\tbest: 7.7631915 (5995)\ttotal: 13m 13s\tremaining: 8m 48s\n"
     ]
    },
    {
     "name": "stdout",
     "output_type": "stream",
     "text": [
      "7000:\tlearn: 7.2100509\ttest: 7.7612506\tbest: 7.7612364 (6980)\ttotal: 15m 25s\tremaining: 6m 36s\n"
     ]
    },
    {
     "name": "stdout",
     "output_type": "stream",
     "text": [
      "8000:\tlearn: 7.1173861\ttest: 7.7602415\tbest: 7.7600666 (7959)\ttotal: 17m 39s\tremaining: 4m 24s\n"
     ]
    },
    {
     "name": "stdout",
     "output_type": "stream",
     "text": [
      "Stopped by overfitting detector  (200 iterations wait)\n",
      "\n",
      "bestTest = 7.760066576\n",
      "bestIteration = 7959\n",
      "\n",
      "Shrink model to first 7960 iterations.\n"
     ]
    },
    {
     "name": "stderr",
     "output_type": "stream",
     "text": [
      "\u001b[32m[I 2021-08-27 04:16:26,547]\u001b[0m Trial 7 finished with value: 7.7595279679676965 and parameters: {'bootstrap_type': 'Bernoulli', 'max_depth': 8, 'learning_rate': 0.008303361387234948, 'max_bin': 485, 'min_data_in_leaf': 102, 'reg_lambda': 0.25201228198541903, 'subsample': 0.6602148782032717}. Best is trial 3 with value: 7.756960452364126.\u001b[0m\n"
     ]
    },
    {
     "name": "stdout",
     "output_type": "stream",
     "text": [
      "0:\tlearn: 7.9595835\ttest: 7.8604407\tbest: 7.8604407 (0)\ttotal: 106ms\tremaining: 17m 42s\n"
     ]
    },
    {
     "name": "stdout",
     "output_type": "stream",
     "text": [
      "1000:\tlearn: 7.8519646\ttest: 7.8013130\tbest: 7.8013130 (1000)\ttotal: 1m 34s\tremaining: 14m 9s\n"
     ]
    },
    {
     "name": "stdout",
     "output_type": "stream",
     "text": [
      "2000:\tlearn: 7.7797685\ttest: 7.7845251\tbest: 7.7845251 (2000)\ttotal: 3m 5s\tremaining: 12m 21s\n"
     ]
    },
    {
     "name": "stdout",
     "output_type": "stream",
     "text": [
      "3000:\tlearn: 7.7074678\ttest: 7.7759399\tbest: 7.7759399 (3000)\ttotal: 4m 35s\tremaining: 10m 41s\n"
     ]
    },
    {
     "name": "stdout",
     "output_type": "stream",
     "text": [
      "4000:\tlearn: 7.6392923\ttest: 7.7708687\tbest: 7.7708317 (3996)\ttotal: 6m 2s\tremaining: 9m 3s\n"
     ]
    },
    {
     "name": "stdout",
     "output_type": "stream",
     "text": [
      "5000:\tlearn: 7.5737495\ttest: 7.7677724\tbest: 7.7677559 (4996)\ttotal: 7m 29s\tremaining: 7m 29s\n"
     ]
    },
    {
     "name": "stdout",
     "output_type": "stream",
     "text": [
      "6000:\tlearn: 7.5098908\ttest: 7.7655819\tbest: 7.7655253 (5972)\ttotal: 8m 56s\tremaining: 5m 57s\n"
     ]
    },
    {
     "name": "stdout",
     "output_type": "stream",
     "text": [
      "7000:\tlearn: 7.4476775\ttest: 7.7637904\tbest: 7.7637904 (7000)\ttotal: 10m 22s\tremaining: 4m 26s\n"
     ]
    },
    {
     "name": "stdout",
     "output_type": "stream",
     "text": [
      "8000:\tlearn: 7.3858580\ttest: 7.7624249\tbest: 7.7624249 (8000)\ttotal: 11m 50s\tremaining: 2m 57s\n"
     ]
    },
    {
     "name": "stdout",
     "output_type": "stream",
     "text": [
      "9000:\tlearn: 7.3251598\ttest: 7.7615474\tbest: 7.7614747 (8973)\ttotal: 13m 18s\tremaining: 1m 28s\n"
     ]
    },
    {
     "name": "stdout",
     "output_type": "stream",
     "text": [
      "Stopped by overfitting detector  (200 iterations wait)\n",
      "\n",
      "bestTest = 7.761474701\n",
      "bestIteration = 8973\n",
      "\n",
      "Shrink model to first 8974 iterations.\n"
     ]
    },
    {
     "name": "stdout",
     "output_type": "stream",
     "text": [
      "0:\tlearn: 7.9595960\ttest: 7.8604531\tbest: 7.8604531 (0)\ttotal: 88.7ms\tremaining: 14m 46s\n"
     ]
    },
    {
     "name": "stdout",
     "output_type": "stream",
     "text": [
      "1000:\tlearn: 7.8523245\ttest: 7.8016727\tbest: 7.8016727 (1000)\ttotal: 1m 32s\tremaining: 13m 47s\n"
     ]
    },
    {
     "name": "stdout",
     "output_type": "stream",
     "text": [
      "2000:\tlearn: 7.7802851\ttest: 7.7843921\tbest: 7.7843921 (2000)\ttotal: 3m\tremaining: 12m\n"
     ]
    },
    {
     "name": "stdout",
     "output_type": "stream",
     "text": [
      "3000:\tlearn: 7.7075651\ttest: 7.7757391\tbest: 7.7757260 (2996)\ttotal: 4m 26s\tremaining: 10m 21s\n"
     ]
    },
    {
     "name": "stdout",
     "output_type": "stream",
     "text": [
      "4000:\tlearn: 7.6397181\ttest: 7.7706829\tbest: 7.7706829 (4000)\ttotal: 5m 52s\tremaining: 8m 48s\n"
     ]
    },
    {
     "name": "stdout",
     "output_type": "stream",
     "text": [
      "5000:\tlearn: 7.5740231\ttest: 7.7671219\tbest: 7.7671135 (4999)\ttotal: 7m 18s\tremaining: 7m 18s\n"
     ]
    },
    {
     "name": "stdout",
     "output_type": "stream",
     "text": [
      "6000:\tlearn: 7.5101889\ttest: 7.7647361\tbest: 7.7647361 (6000)\ttotal: 8m 44s\tremaining: 5m 49s\n"
     ]
    },
    {
     "name": "stdout",
     "output_type": "stream",
     "text": [
      "7000:\tlearn: 7.4475442\ttest: 7.7626681\tbest: 7.7626681 (7000)\ttotal: 10m 11s\tremaining: 4m 21s\n"
     ]
    },
    {
     "name": "stdout",
     "output_type": "stream",
     "text": [
      "8000:\tlearn: 7.3861429\ttest: 7.7611375\tbest: 7.7611375 (8000)\ttotal: 11m 37s\tremaining: 2m 54s\n"
     ]
    },
    {
     "name": "stdout",
     "output_type": "stream",
     "text": [
      "Stopped by overfitting detector  (200 iterations wait)\n",
      "\n",
      "bestTest = 7.760321342\n",
      "bestIteration = 8660\n",
      "\n",
      "Shrink model to first 8661 iterations.\n"
     ]
    },
    {
     "name": "stderr",
     "output_type": "stream",
     "text": [
      "\u001b[32m[I 2021-08-27 04:42:59,200]\u001b[0m Trial 8 finished with value: 7.759909342484365 and parameters: {'bootstrap_type': 'Bernoulli', 'max_depth': 7, 'learning_rate': 0.008133921530098275, 'max_bin': 472, 'min_data_in_leaf': 105, 'reg_lambda': 0.24818848505182095, 'subsample': 0.690574446327694}. Best is trial 3 with value: 7.756960452364126.\u001b[0m\n"
     ]
    },
    {
     "name": "stdout",
     "output_type": "stream",
     "text": [
      "0:\tlearn: 7.9595756\ttest: 7.8604074\tbest: 7.8604074 (0)\ttotal: 74.6ms\tremaining: 12m 25s\n"
     ]
    },
    {
     "name": "stdout",
     "output_type": "stream",
     "text": [
      "1000:\tlearn: 7.8713317\ttest: 7.8018206\tbest: 7.8018206 (1000)\ttotal: 1m 8s\tremaining: 10m 12s\n"
     ]
    },
    {
     "name": "stdout",
     "output_type": "stream",
     "text": [
      "2000:\tlearn: 7.8160735\ttest: 7.7847850\tbest: 7.7847850 (2000)\ttotal: 2m 15s\tremaining: 9m 1s\n"
     ]
    },
    {
     "name": "stdout",
     "output_type": "stream",
     "text": [
      "3000:\tlearn: 7.7607532\ttest: 7.7758109\tbest: 7.7758109 (3000)\ttotal: 3m 25s\tremaining: 7m 59s\n"
     ]
    },
    {
     "name": "stdout",
     "output_type": "stream",
     "text": [
      "4000:\tlearn: 7.7099509\ttest: 7.7702882\tbest: 7.7702882 (4000)\ttotal: 4m 35s\tremaining: 6m 53s\n"
     ]
    },
    {
     "name": "stdout",
     "output_type": "stream",
     "text": [
      "5000:\tlearn: 7.6615121\ttest: 7.7671298\tbest: 7.7671298 (5000)\ttotal: 5m 45s\tremaining: 5m 45s\n"
     ]
    },
    {
     "name": "stdout",
     "output_type": "stream",
     "text": [
      "6000:\tlearn: 7.6148917\ttest: 7.7648096\tbest: 7.7648053 (5997)\ttotal: 6m 55s\tremaining: 4m 37s\n"
     ]
    },
    {
     "name": "stdout",
     "output_type": "stream",
     "text": [
      "7000:\tlearn: 7.5693479\ttest: 7.7627869\tbest: 7.7627567 (6994)\ttotal: 8m 5s\tremaining: 3m 27s\n"
     ]
    },
    {
     "name": "stdout",
     "output_type": "stream",
     "text": [
      "8000:\tlearn: 7.5247771\ttest: 7.7615242\tbest: 7.7615165 (7999)\ttotal: 9m 15s\tremaining: 2m 18s\n"
     ]
    },
    {
     "name": "stdout",
     "output_type": "stream",
     "text": [
      "9000:\tlearn: 7.4811804\ttest: 7.7601992\tbest: 7.7601819 (8993)\ttotal: 10m 25s\tremaining: 1m 9s\n"
     ]
    },
    {
     "name": "stdout",
     "output_type": "stream",
     "text": [
      "9999:\tlearn: 7.4378160\ttest: 7.7592932\tbest: 7.7592374 (9883)\ttotal: 11m 36s\tremaining: 0us\n",
      "\n",
      "bestTest = 7.759237368\n",
      "bestIteration = 9883\n",
      "\n",
      "Shrink model to first 9884 iterations.\n"
     ]
    },
    {
     "name": "stdout",
     "output_type": "stream",
     "text": [
      "0:\tlearn: 7.9595937\ttest: 7.8604192\tbest: 7.8604192 (0)\ttotal: 78.7ms\tremaining: 13m 7s\n"
     ]
    },
    {
     "name": "stdout",
     "output_type": "stream",
     "text": [
      "1000:\tlearn: 7.8716430\ttest: 7.8025343\tbest: 7.8025343 (1000)\ttotal: 1m 15s\tremaining: 11m 15s\n"
     ]
    },
    {
     "name": "stdout",
     "output_type": "stream",
     "text": [
      "2000:\tlearn: 7.8165929\ttest: 7.7853905\tbest: 7.7853871 (1999)\ttotal: 2m 27s\tremaining: 9m 51s\n"
     ]
    },
    {
     "name": "stdout",
     "output_type": "stream",
     "text": [
      "3000:\tlearn: 7.7608797\ttest: 7.7762089\tbest: 7.7762089 (3000)\ttotal: 3m 38s\tremaining: 8m 28s\n"
     ]
    },
    {
     "name": "stdout",
     "output_type": "stream",
     "text": [
      "4000:\tlearn: 7.7101250\ttest: 7.7710745\tbest: 7.7710624 (3999)\ttotal: 4m 48s\tremaining: 7m 11s\n"
     ]
    },
    {
     "name": "stdout",
     "output_type": "stream",
     "text": [
      "5000:\tlearn: 7.6618741\ttest: 7.7671483\tbest: 7.7671316 (4997)\ttotal: 5m 58s\tremaining: 5m 57s\n"
     ]
    },
    {
     "name": "stdout",
     "output_type": "stream",
     "text": [
      "6000:\tlearn: 7.6152887\ttest: 7.7643934\tbest: 7.7643934 (6000)\ttotal: 7m 8s\tremaining: 4m 45s\n"
     ]
    },
    {
     "name": "stdout",
     "output_type": "stream",
     "text": [
      "7000:\tlearn: 7.5699092\ttest: 7.7624215\tbest: 7.7624106 (6999)\ttotal: 8m 18s\tremaining: 3m 33s\n"
     ]
    },
    {
     "name": "stdout",
     "output_type": "stream",
     "text": [
      "8000:\tlearn: 7.5254387\ttest: 7.7608668\tbest: 7.7608668 (8000)\ttotal: 9m 29s\tremaining: 2m 22s\n"
     ]
    },
    {
     "name": "stdout",
     "output_type": "stream",
     "text": [
      "9000:\tlearn: 7.4812587\ttest: 7.7596890\tbest: 7.7596804 (8974)\ttotal: 10m 40s\tremaining: 1m 11s\n"
     ]
    },
    {
     "name": "stdout",
     "output_type": "stream",
     "text": [
      "Stopped by overfitting detector  (200 iterations wait)\n",
      "\n",
      "bestTest = 7.758861455\n",
      "bestIteration = 9701\n",
      "\n",
      "Shrink model to first 9702 iterations.\n"
     ]
    },
    {
     "name": "stderr",
     "output_type": "stream",
     "text": [
      "\u001b[32m[I 2021-08-27 05:06:27,990]\u001b[0m Trial 9 finished with value: 7.7583085478205 and parameters: {'bootstrap_type': 'MVS', 'max_depth': 6, 'learning_rate': 0.008249396983599713, 'max_bin': 496, 'min_data_in_leaf': 104, 'reg_lambda': 0.27305478398927263, 'subsample': 0.6902471363599134}. Best is trial 3 with value: 7.756960452364126.\u001b[0m\n"
     ]
    },
    {
     "name": "stdout",
     "output_type": "stream",
     "text": [
      "0:\tlearn: 7.9595770\ttest: 7.8604391\tbest: 7.8604391 (0)\ttotal: 122ms\tremaining: 20m 21s\n"
     ]
    },
    {
     "name": "stdout",
     "output_type": "stream",
     "text": [
      "1000:\tlearn: 7.8434731\ttest: 7.7981305\tbest: 7.7981305 (1000)\ttotal: 1m 45s\tremaining: 15m 50s\n"
     ]
    },
    {
     "name": "stdout",
     "output_type": "stream",
     "text": [
      "2000:\tlearn: 7.7638087\ttest: 7.7810385\tbest: 7.7810385 (2000)\ttotal: 3m 27s\tremaining: 13m 48s\n"
     ]
    },
    {
     "name": "stdout",
     "output_type": "stream",
     "text": [
      "3000:\tlearn: 7.6844077\ttest: 7.7726637\tbest: 7.7726637 (3000)\ttotal: 5m 7s\tremaining: 11m 58s\n"
     ]
    },
    {
     "name": "stdout",
     "output_type": "stream",
     "text": [
      "4000:\tlearn: 7.6099616\ttest: 7.7678310\tbest: 7.7678310 (4000)\ttotal: 6m 47s\tremaining: 10m 10s\n"
     ]
    },
    {
     "name": "stdout",
     "output_type": "stream",
     "text": [
      "5000:\tlearn: 7.5392867\ttest: 7.7641230\tbest: 7.7641230 (5000)\ttotal: 8m 26s\tremaining: 8m 25s\n"
     ]
    },
    {
     "name": "stdout",
     "output_type": "stream",
     "text": [
      "6000:\tlearn: 7.4700852\ttest: 7.7613004\tbest: 7.7613004 (6000)\ttotal: 10m 7s\tremaining: 6m 44s\n"
     ]
    },
    {
     "name": "stdout",
     "output_type": "stream",
     "text": [
      "7000:\tlearn: 7.4024183\ttest: 7.7593434\tbest: 7.7593373 (6999)\ttotal: 11m 47s\tremaining: 5m 3s\n"
     ]
    },
    {
     "name": "stdout",
     "output_type": "stream",
     "text": [
      "8000:\tlearn: 7.3361522\ttest: 7.7580377\tbest: 7.7579445 (7960)\ttotal: 13m 29s\tremaining: 3m 22s\n"
     ]
    },
    {
     "name": "stdout",
     "output_type": "stream",
     "text": [
      "9000:\tlearn: 7.2707255\ttest: 7.7573365\tbest: 7.7572656 (8980)\ttotal: 15m 10s\tremaining: 1m 41s\n"
     ]
    },
    {
     "name": "stdout",
     "output_type": "stream",
     "text": [
      "Stopped by overfitting detector  (200 iterations wait)\n",
      "\n",
      "bestTest = 7.757265558\n",
      "bestIteration = 8980\n",
      "\n",
      "Shrink model to first 8981 iterations.\n"
     ]
    },
    {
     "name": "stdout",
     "output_type": "stream",
     "text": [
      "0:\tlearn: 7.9595707\ttest: 7.8604351\tbest: 7.8604351 (0)\ttotal: 116ms\tremaining: 19m 20s\n"
     ]
    },
    {
     "name": "stdout",
     "output_type": "stream",
     "text": [
      "1000:\tlearn: 7.8433522\ttest: 7.7984444\tbest: 7.7984444 (1000)\ttotal: 1m 46s\tremaining: 15m 55s\n"
     ]
    },
    {
     "name": "stdout",
     "output_type": "stream",
     "text": [
      "2000:\tlearn: 7.7636636\ttest: 7.7818129\tbest: 7.7818129 (2000)\ttotal: 3m 28s\tremaining: 13m 52s\n"
     ]
    },
    {
     "name": "stdout",
     "output_type": "stream",
     "text": [
      "3000:\tlearn: 7.6847964\ttest: 7.7733153\tbest: 7.7733153 (3000)\ttotal: 5m 7s\tremaining: 11m 57s\n"
     ]
    },
    {
     "name": "stdout",
     "output_type": "stream",
     "text": [
      "4000:\tlearn: 7.6109955\ttest: 7.7685330\tbest: 7.7685330 (4000)\ttotal: 6m 46s\tremaining: 10m 9s\n"
     ]
    },
    {
     "name": "stdout",
     "output_type": "stream",
     "text": [
      "5000:\tlearn: 7.5396676\ttest: 7.7647730\tbest: 7.7647619 (4996)\ttotal: 8m 25s\tremaining: 8m 25s\n"
     ]
    },
    {
     "name": "stdout",
     "output_type": "stream",
     "text": [
      "6000:\tlearn: 7.4702310\ttest: 7.7622758\tbest: 7.7622653 (5996)\ttotal: 10m 5s\tremaining: 6m 43s\n"
     ]
    },
    {
     "name": "stdout",
     "output_type": "stream",
     "text": [
      "7000:\tlearn: 7.4019214\ttest: 7.7607255\tbest: 7.7606828 (6922)\ttotal: 11m 46s\tremaining: 5m 2s\n"
     ]
    },
    {
     "name": "stdout",
     "output_type": "stream",
     "text": [
      "8000:\tlearn: 7.3356784\ttest: 7.7594867\tbest: 7.7594867 (8000)\ttotal: 13m 26s\tremaining: 3m 21s\n"
     ]
    },
    {
     "name": "stdout",
     "output_type": "stream",
     "text": [
      "9000:\tlearn: 7.2698046\ttest: 7.7579404\tbest: 7.7579046 (8981)\ttotal: 15m 6s\tremaining: 1m 40s\n"
     ]
    },
    {
     "name": "stdout",
     "output_type": "stream",
     "text": [
      "Stopped by overfitting detector  (200 iterations wait)\n",
      "\n",
      "bestTest = 7.756848223\n",
      "bestIteration = 9742\n",
      "\n",
      "Shrink model to first 9743 iterations.\n"
     ]
    },
    {
     "name": "stderr",
     "output_type": "stream",
     "text": [
      "\u001b[32m[I 2021-08-27 05:38:46,103]\u001b[0m Trial 10 finished with value: 7.7558858772322 and parameters: {'bootstrap_type': 'MVS', 'max_depth': 7, 'learning_rate': 0.008631898678482117, 'max_bin': 513, 'min_data_in_leaf': 106, 'reg_lambda': 0.33198521893488897, 'subsample': 0.6710454521793958}. Best is trial 10 with value: 7.7558858772322.\u001b[0m\n"
     ]
    },
    {
     "name": "stdout",
     "output_type": "stream",
     "text": [
      "0:\tlearn: 7.9595441\ttest: 7.8604138\tbest: 7.8604138 (0)\ttotal: 110ms\tremaining: 18m 23s\n"
     ]
    },
    {
     "name": "stdout",
     "output_type": "stream",
     "text": [
      "1000:\tlearn: 7.8436108\ttest: 7.7982871\tbest: 7.7982871 (1000)\ttotal: 1m 45s\tremaining: 15m 49s\n"
     ]
    },
    {
     "name": "stdout",
     "output_type": "stream",
     "text": [
      "2000:\tlearn: 7.7639608\ttest: 7.7812535\tbest: 7.7812535 (2000)\ttotal: 3m 26s\tremaining: 13m 46s\n"
     ]
    },
    {
     "name": "stdout",
     "output_type": "stream",
     "text": [
      "3000:\tlearn: 7.6853792\ttest: 7.7733027\tbest: 7.7732818 (2995)\ttotal: 5m 6s\tremaining: 11m 54s\n"
     ]
    },
    {
     "name": "stdout",
     "output_type": "stream",
     "text": [
      "4000:\tlearn: 7.6111171\ttest: 7.7687334\tbest: 7.7687307 (3997)\ttotal: 6m 45s\tremaining: 10m 8s\n"
     ]
    },
    {
     "name": "stdout",
     "output_type": "stream",
     "text": [
      "5000:\tlearn: 7.5401031\ttest: 7.7656263\tbest: 7.7656263 (5000)\ttotal: 8m 25s\tremaining: 8m 24s\n"
     ]
    },
    {
     "name": "stdout",
     "output_type": "stream",
     "text": [
      "6000:\tlearn: 7.4706661\ttest: 7.7628041\tbest: 7.7627900 (5996)\ttotal: 10m 4s\tremaining: 6m 42s\n"
     ]
    },
    {
     "name": "stdout",
     "output_type": "stream",
     "text": [
      "7000:\tlearn: 7.4028919\ttest: 7.7609337\tbest: 7.7609256 (6984)\ttotal: 11m 45s\tremaining: 5m 2s\n"
     ]
    },
    {
     "name": "stdout",
     "output_type": "stream",
     "text": [
      "8000:\tlearn: 7.3367769\ttest: 7.7592943\tbest: 7.7592009 (7950)\ttotal: 13m 24s\tremaining: 3m 21s\n"
     ]
    },
    {
     "name": "stdout",
     "output_type": "stream",
     "text": [
      "Stopped by overfitting detector  (200 iterations wait)\n",
      "\n",
      "bestTest = 7.75837037\n",
      "bestIteration = 8693\n",
      "\n",
      "Shrink model to first 8694 iterations.\n"
     ]
    },
    {
     "name": "stdout",
     "output_type": "stream",
     "text": [
      "0:\tlearn: 7.9595542\ttest: 7.8604186\tbest: 7.8604186 (0)\ttotal: 99ms\tremaining: 16m 29s\n"
     ]
    },
    {
     "name": "stdout",
     "output_type": "stream",
     "text": [
      "1000:\tlearn: 7.8437830\ttest: 7.7983096\tbest: 7.7983096 (1000)\ttotal: 1m 48s\tremaining: 16m 11s\n"
     ]
    },
    {
     "name": "stdout",
     "output_type": "stream",
     "text": [
      "2000:\tlearn: 7.7641316\ttest: 7.7814308\tbest: 7.7814308 (2000)\ttotal: 3m 33s\tremaining: 14m 11s\n"
     ]
    },
    {
     "name": "stdout",
     "output_type": "stream",
     "text": [
      "3000:\tlearn: 7.6850994\ttest: 7.7728555\tbest: 7.7728540 (2999)\ttotal: 5m 20s\tremaining: 12m 27s\n"
     ]
    },
    {
     "name": "stdout",
     "output_type": "stream",
     "text": [
      "4000:\tlearn: 7.6114498\ttest: 7.7681187\tbest: 7.7681156 (3997)\ttotal: 7m 5s\tremaining: 10m 38s\n"
     ]
    },
    {
     "name": "stdout",
     "output_type": "stream",
     "text": [
      "5000:\tlearn: 7.5407760\ttest: 7.7653240\tbest: 7.7653022 (4992)\ttotal: 8m 52s\tremaining: 8m 52s\n"
     ]
    },
    {
     "name": "stdout",
     "output_type": "stream",
     "text": [
      "6000:\tlearn: 7.4714810\ttest: 7.7630197\tbest: 7.7629862 (5991)\ttotal: 10m 45s\tremaining: 7m 10s\n"
     ]
    },
    {
     "name": "stdout",
     "output_type": "stream",
     "text": [
      "7000:\tlearn: 7.4035380\ttest: 7.7613920\tbest: 7.7613920 (7000)\ttotal: 12m 33s\tremaining: 5m 22s\n"
     ]
    },
    {
     "name": "stdout",
     "output_type": "stream",
     "text": [
      "8000:\tlearn: 7.3372016\ttest: 7.7597652\tbest: 7.7596985 (7993)\ttotal: 14m 22s\tremaining: 3m 35s\n"
     ]
    },
    {
     "name": "stdout",
     "output_type": "stream",
     "text": [
      "Stopped by overfitting detector  (200 iterations wait)\n",
      "\n",
      "bestTest = 7.75911775\n",
      "bestIteration = 8257\n",
      "\n",
      "Shrink model to first 8258 iterations.\n"
     ]
    },
    {
     "name": "stderr",
     "output_type": "stream",
     "text": [
      "\u001b[32m[I 2021-08-27 06:08:57,399]\u001b[0m Trial 11 finished with value: 7.757690399998573 and parameters: {'bootstrap_type': 'MVS', 'max_depth': 7, 'learning_rate': 0.008613052677698433, 'max_bin': 511, 'min_data_in_leaf': 106, 'reg_lambda': 0.3301971804423617, 'subsample': 0.6720918928963737}. Best is trial 10 with value: 7.7558858772322.\u001b[0m\n"
     ]
    },
    {
     "name": "stdout",
     "output_type": "stream",
     "text": [
      "0:\tlearn: 7.9595480\ttest: 7.8604095\tbest: 7.8604095 (0)\ttotal: 108ms\tremaining: 17m 55s\n"
     ]
    },
    {
     "name": "stdout",
     "output_type": "stream",
     "text": [
      "1000:\tlearn: 7.8434901\ttest: 7.7978930\tbest: 7.7978930 (1000)\ttotal: 1m 46s\tremaining: 15m 55s\n"
     ]
    },
    {
     "name": "stdout",
     "output_type": "stream",
     "text": [
      "2000:\tlearn: 7.7637798\ttest: 7.7808571\tbest: 7.7808571 (2000)\ttotal: 3m 27s\tremaining: 13m 48s\n"
     ]
    },
    {
     "name": "stdout",
     "output_type": "stream",
     "text": [
      "3000:\tlearn: 7.6848595\ttest: 7.7727353\tbest: 7.7727353 (3000)\ttotal: 5m 6s\tremaining: 11m 54s\n"
     ]
    },
    {
     "name": "stdout",
     "output_type": "stream",
     "text": [
      "4000:\tlearn: 7.6103250\ttest: 7.7685943\tbest: 7.7685870 (3997)\ttotal: 6m 46s\tremaining: 10m 9s\n"
     ]
    },
    {
     "name": "stdout",
     "output_type": "stream",
     "text": [
      "5000:\tlearn: 7.5395918\ttest: 7.7655905\tbest: 7.7655905 (5000)\ttotal: 8m 26s\tremaining: 8m 26s\n"
     ]
    },
    {
     "name": "stdout",
     "output_type": "stream",
     "text": [
      "6000:\tlearn: 7.4696781\ttest: 7.7629669\tbest: 7.7629533 (5995)\ttotal: 10m 5s\tremaining: 6m 43s\n"
     ]
    },
    {
     "name": "stdout",
     "output_type": "stream",
     "text": [
      "7000:\tlearn: 7.4018295\ttest: 7.7616514\tbest: 7.7615865 (6990)\ttotal: 11m 45s\tremaining: 5m 2s\n"
     ]
    },
    {
     "name": "stdout",
     "output_type": "stream",
     "text": [
      "8000:\tlearn: 7.3351553\ttest: 7.7605973\tbest: 7.7605601 (7946)\ttotal: 13m 26s\tremaining: 3m 21s\n"
     ]
    },
    {
     "name": "stdout",
     "output_type": "stream",
     "text": [
      "Stopped by overfitting detector  (200 iterations wait)\n",
      "\n",
      "bestTest = 7.759464292\n",
      "bestIteration = 8668\n",
      "\n",
      "Shrink model to first 8669 iterations.\n"
     ]
    },
    {
     "name": "stdout",
     "output_type": "stream",
     "text": [
      "0:\tlearn: 7.9595704\ttest: 7.8604348\tbest: 7.8604348 (0)\ttotal: 92ms\tremaining: 15m 20s\n"
     ]
    },
    {
     "name": "stdout",
     "output_type": "stream",
     "text": [
      "1000:\tlearn: 7.8434618\ttest: 7.7979940\tbest: 7.7979903 (999)\ttotal: 1m 35s\tremaining: 14m 15s\n"
     ]
    },
    {
     "name": "stdout",
     "output_type": "stream",
     "text": [
      "2000:\tlearn: 7.7632740\ttest: 7.7809762\tbest: 7.7809762 (2000)\ttotal: 3m 5s\tremaining: 12m 23s\n"
     ]
    },
    {
     "name": "stdout",
     "output_type": "stream",
     "text": [
      "3000:\tlearn: 7.6842646\ttest: 7.7724671\tbest: 7.7724671 (3000)\ttotal: 4m 35s\tremaining: 10m 42s\n"
     ]
    },
    {
     "name": "stdout",
     "output_type": "stream",
     "text": [
      "4000:\tlearn: 7.6096350\ttest: 7.7674310\tbest: 7.7674310 (4000)\ttotal: 6m 5s\tremaining: 9m 8s\n"
     ]
    },
    {
     "name": "stdout",
     "output_type": "stream",
     "text": [
      "5000:\tlearn: 7.5383820\ttest: 7.7648715\tbest: 7.7648612 (4992)\ttotal: 7m 35s\tremaining: 7m 35s\n"
     ]
    },
    {
     "name": "stdout",
     "output_type": "stream",
     "text": [
      "6000:\tlearn: 7.4690888\ttest: 7.7632369\tbest: 7.7632294 (5993)\ttotal: 9m 5s\tremaining: 6m 3s\n"
     ]
    },
    {
     "name": "stdout",
     "output_type": "stream",
     "text": [
      "7000:\tlearn: 7.4015925\ttest: 7.7614073\tbest: 7.7613810 (6967)\ttotal: 10m 35s\tremaining: 4m 32s\n"
     ]
    },
    {
     "name": "stdout",
     "output_type": "stream",
     "text": [
      "8000:\tlearn: 7.3347934\ttest: 7.7600853\tbest: 7.7600853 (8000)\ttotal: 12m 5s\tremaining: 3m 1s\n"
     ]
    },
    {
     "name": "stdout",
     "output_type": "stream",
     "text": [
      "9000:\tlearn: 7.2687143\ttest: 7.7583308\tbest: 7.7582821 (8986)\ttotal: 13m 36s\tremaining: 1m 30s\n"
     ]
    },
    {
     "name": "stdout",
     "output_type": "stream",
     "text": [
      "9999:\tlearn: 7.2048421\ttest: 7.7574165\tbest: 7.7573219 (9934)\ttotal: 15m 6s\tremaining: 0us\n",
      "\n",
      "bestTest = 7.757321877\n",
      "bestIteration = 9934\n",
      "\n",
      "Shrink model to first 9935 iterations.\n"
     ]
    },
    {
     "name": "stderr",
     "output_type": "stream",
     "text": [
      "\u001b[32m[I 2021-08-27 06:39:02,180]\u001b[0m Trial 12 finished with value: 7.75718716206112 and parameters: {'bootstrap_type': 'MVS', 'max_depth': 7, 'learning_rate': 0.008637906857766105, 'max_bin': 513, 'min_data_in_leaf': 106, 'reg_lambda': 0.30657661108216605, 'subsample': 0.6689968272401852}. Best is trial 10 with value: 7.7558858772322.\u001b[0m\n"
     ]
    },
    {
     "name": "stdout",
     "output_type": "stream",
     "text": [
      "0:\tlearn: 7.9595948\ttest: 7.8604333\tbest: 7.8604333 (0)\ttotal: 73.1ms\tremaining: 12m 11s\n"
     ]
    },
    {
     "name": "stdout",
     "output_type": "stream",
     "text": [
      "1000:\tlearn: 7.8693899\ttest: 7.8012136\tbest: 7.8012136 (1000)\ttotal: 1m 5s\tremaining: 9m 52s\n"
     ]
    },
    {
     "name": "stdout",
     "output_type": "stream",
     "text": [
      "2000:\tlearn: 7.8120219\ttest: 7.7838714\tbest: 7.7838714 (2000)\ttotal: 2m 8s\tremaining: 8m 35s\n"
     ]
    },
    {
     "name": "stdout",
     "output_type": "stream",
     "text": [
      "3000:\tlearn: 7.7556196\ttest: 7.7752772\tbest: 7.7752772 (3000)\ttotal: 3m 11s\tremaining: 7m 26s\n"
     ]
    },
    {
     "name": "stdout",
     "output_type": "stream",
     "text": [
      "4000:\tlearn: 7.7036083\ttest: 7.7698016\tbest: 7.7698016 (4000)\ttotal: 4m 13s\tremaining: 6m 19s\n"
     ]
    },
    {
     "name": "stdout",
     "output_type": "stream",
     "text": [
      "5000:\tlearn: 7.6539683\ttest: 7.7664644\tbest: 7.7664588 (4999)\ttotal: 5m 15s\tremaining: 5m 15s\n"
     ]
    },
    {
     "name": "stdout",
     "output_type": "stream",
     "text": [
      "6000:\tlearn: 7.6061272\ttest: 7.7643014\tbest: 7.7642942 (5999)\ttotal: 6m 17s\tremaining: 4m 11s\n"
     ]
    },
    {
     "name": "stdout",
     "output_type": "stream",
     "text": [
      "7000:\tlearn: 7.5592807\ttest: 7.7621790\tbest: 7.7621660 (6993)\ttotal: 7m 19s\tremaining: 3m 8s\n"
     ]
    },
    {
     "name": "stdout",
     "output_type": "stream",
     "text": [
      "8000:\tlearn: 7.5136434\ttest: 7.7605909\tbest: 7.7605362 (7971)\ttotal: 8m 21s\tremaining: 2m 5s\n"
     ]
    },
    {
     "name": "stdout",
     "output_type": "stream",
     "text": [
      "9000:\tlearn: 7.4684060\ttest: 7.7598729\tbest: 7.7598505 (8955)\ttotal: 9m 23s\tremaining: 1m 2s\n"
     ]
    },
    {
     "name": "stdout",
     "output_type": "stream",
     "text": [
      "9999:\tlearn: 7.4241227\ttest: 7.7586943\tbest: 7.7585619 (9898)\ttotal: 10m 25s\tremaining: 0us\n",
      "\n",
      "bestTest = 7.758561942\n",
      "bestIteration = 9898\n",
      "\n",
      "Shrink model to first 9899 iterations.\n"
     ]
    },
    {
     "name": "stdout",
     "output_type": "stream",
     "text": [
      "0:\tlearn: 7.9595785\ttest: 7.8604114\tbest: 7.8604114 (0)\ttotal: 64.8ms\tremaining: 10m 48s\n"
     ]
    },
    {
     "name": "stdout",
     "output_type": "stream",
     "text": [
      "1000:\tlearn: 7.8695063\ttest: 7.8015149\tbest: 7.8015149 (1000)\ttotal: 1m 5s\tremaining: 9m 53s\n"
     ]
    },
    {
     "name": "stdout",
     "output_type": "stream",
     "text": [
      "2000:\tlearn: 7.8121257\ttest: 7.7843071\tbest: 7.7843071 (2000)\ttotal: 2m 9s\tremaining: 8m 37s\n"
     ]
    },
    {
     "name": "stdout",
     "output_type": "stream",
     "text": [
      "3000:\tlearn: 7.7554096\ttest: 7.7756964\tbest: 7.7756964 (3000)\ttotal: 3m 11s\tremaining: 7m 26s\n"
     ]
    },
    {
     "name": "stdout",
     "output_type": "stream",
     "text": [
      "4000:\tlearn: 7.7031415\ttest: 7.7707609\tbest: 7.7707573 (3991)\ttotal: 4m 13s\tremaining: 6m 19s\n"
     ]
    },
    {
     "name": "stdout",
     "output_type": "stream",
     "text": [
      "5000:\tlearn: 7.6533454\ttest: 7.7673838\tbest: 7.7673838 (5000)\ttotal: 5m 14s\tremaining: 5m 14s\n"
     ]
    },
    {
     "name": "stdout",
     "output_type": "stream",
     "text": [
      "6000:\tlearn: 7.6056062\ttest: 7.7649683\tbest: 7.7649533 (5975)\ttotal: 6m 16s\tremaining: 4m 11s\n"
     ]
    },
    {
     "name": "stdout",
     "output_type": "stream",
     "text": [
      "7000:\tlearn: 7.5587236\ttest: 7.7634127\tbest: 7.7633901 (6994)\ttotal: 7m 19s\tremaining: 3m 8s\n"
     ]
    },
    {
     "name": "stdout",
     "output_type": "stream",
     "text": [
      "8000:\tlearn: 7.5128416\ttest: 7.7619380\tbest: 7.7618667 (7949)\ttotal: 8m 21s\tremaining: 2m 5s\n"
     ]
    },
    {
     "name": "stdout",
     "output_type": "stream",
     "text": [
      "9000:\tlearn: 7.4677726\ttest: 7.7611997\tbest: 7.7611327 (8940)\ttotal: 9m 23s\tremaining: 1m 2s\n"
     ]
    },
    {
     "name": "stdout",
     "output_type": "stream",
     "text": [
      "Stopped by overfitting detector  (200 iterations wait)\n",
      "\n",
      "bestTest = 7.76048363\n",
      "bestIteration = 9602\n",
      "\n",
      "Shrink model to first 9603 iterations.\n"
     ]
    },
    {
     "name": "stderr",
     "output_type": "stream",
     "text": [
      "\u001b[32m[I 2021-08-27 06:59:48,135]\u001b[0m Trial 13 finished with value: 7.758734253813025 and parameters: {'bootstrap_type': 'MVS', 'max_depth': 6, 'learning_rate': 0.00857470719204194, 'max_bin': 465, 'min_data_in_leaf': 103, 'reg_lambda': 0.30230865374791954, 'subsample': 0.6827401970334301}. Best is trial 10 with value: 7.7558858772322.\u001b[0m\n"
     ]
    },
    {
     "name": "stdout",
     "output_type": "stream",
     "text": [
      "0:\tlearn: 7.9595366\ttest: 7.8603953\tbest: 7.8603953 (0)\ttotal: 97.7ms\tremaining: 16m 16s\n"
     ]
    },
    {
     "name": "stdout",
     "output_type": "stream",
     "text": [
      "1000:\tlearn: 7.8419823\ttest: 7.7974035\tbest: 7.7974035 (1000)\ttotal: 1m 36s\tremaining: 14m 25s\n"
     ]
    },
    {
     "name": "stdout",
     "output_type": "stream",
     "text": [
      "2000:\tlearn: 7.7592187\ttest: 7.7801396\tbest: 7.7801396 (2000)\ttotal: 3m 8s\tremaining: 12m 33s\n"
     ]
    },
    {
     "name": "stdout",
     "output_type": "stream",
     "text": [
      "3000:\tlearn: 7.6773258\ttest: 7.7719772\tbest: 7.7719772 (3000)\ttotal: 4m 39s\tremaining: 10m 50s\n"
     ]
    },
    {
     "name": "stdout",
     "output_type": "stream",
     "text": [
      "4000:\tlearn: 7.6009527\ttest: 7.7672337\tbest: 7.7672231 (3997)\ttotal: 6m 9s\tremaining: 9m 14s\n"
     ]
    },
    {
     "name": "stdout",
     "output_type": "stream",
     "text": [
      "5000:\tlearn: 7.5269688\ttest: 7.7641827\tbest: 7.7641827 (5000)\ttotal: 7m 40s\tremaining: 7m 40s\n"
     ]
    },
    {
     "name": "stdout",
     "output_type": "stream",
     "text": [
      "6000:\tlearn: 7.4552023\ttest: 7.7620553\tbest: 7.7620201 (5995)\ttotal: 9m 10s\tremaining: 6m 7s\n"
     ]
    },
    {
     "name": "stdout",
     "output_type": "stream",
     "text": [
      "7000:\tlearn: 7.3851767\ttest: 7.7600355\tbest: 7.7600102 (6921)\ttotal: 10m 41s\tremaining: 4m 35s\n"
     ]
    },
    {
     "name": "stdout",
     "output_type": "stream",
     "text": [
      "8000:\tlearn: 7.3166869\ttest: 7.7590801\tbest: 7.7589942 (7855)\ttotal: 12m 13s\tremaining: 3m 3s\n"
     ]
    },
    {
     "name": "stdout",
     "output_type": "stream",
     "text": [
      "Stopped by overfitting detector  (200 iterations wait)\n",
      "\n",
      "bestTest = 7.758994234\n",
      "bestIteration = 7855\n",
      "\n",
      "Shrink model to first 7856 iterations.\n"
     ]
    },
    {
     "name": "stdout",
     "output_type": "stream",
     "text": [
      "0:\tlearn: 7.9595021\ttest: 7.8603819\tbest: 7.8603819 (0)\ttotal: 86.8ms\tremaining: 14m 28s\n"
     ]
    },
    {
     "name": "stdout",
     "output_type": "stream",
     "text": [
      "1000:\tlearn: 7.8416452\ttest: 7.7976147\tbest: 7.7976147 (1000)\ttotal: 1m 36s\tremaining: 14m 26s\n"
     ]
    },
    {
     "name": "stdout",
     "output_type": "stream",
     "text": [
      "2000:\tlearn: 7.7590688\ttest: 7.7810668\tbest: 7.7810665 (1997)\ttotal: 3m 8s\tremaining: 12m 32s\n"
     ]
    },
    {
     "name": "stdout",
     "output_type": "stream",
     "text": [
      "3000:\tlearn: 7.6775363\ttest: 7.7728880\tbest: 7.7728880 (3000)\ttotal: 4m 39s\tremaining: 10m 52s\n"
     ]
    },
    {
     "name": "stdout",
     "output_type": "stream",
     "text": [
      "4000:\tlearn: 7.6017190\ttest: 7.7685684\tbest: 7.7685545 (3998)\ttotal: 6m 10s\tremaining: 9m 14s\n"
     ]
    },
    {
     "name": "stdout",
     "output_type": "stream",
     "text": [
      "5000:\tlearn: 7.5279275\ttest: 7.7652885\tbest: 7.7652885 (5000)\ttotal: 7m 40s\tremaining: 7m 40s\n"
     ]
    },
    {
     "name": "stdout",
     "output_type": "stream",
     "text": [
      "6000:\tlearn: 7.4561283\ttest: 7.7631866\tbest: 7.7631273 (5988)\ttotal: 9m 11s\tremaining: 6m 7s\n"
     ]
    },
    {
     "name": "stdout",
     "output_type": "stream",
     "text": [
      "7000:\tlearn: 7.3858020\ttest: 7.7610633\tbest: 7.7610345 (6982)\ttotal: 10m 42s\tremaining: 4m 35s\n"
     ]
    },
    {
     "name": "stdout",
     "output_type": "stream",
     "text": [
      "Stopped by overfitting detector  (200 iterations wait)\n",
      "\n",
      "bestTest = 7.760756751\n",
      "bestIteration = 7258\n",
      "\n",
      "Shrink model to first 7259 iterations.\n"
     ]
    },
    {
     "name": "stderr",
     "output_type": "stream",
     "text": [
      "\u001b[32m[I 2021-08-27 07:23:37,268]\u001b[0m Trial 14 finished with value: 7.758873674103254 and parameters: {'bootstrap_type': 'MVS', 'max_depth': 7, 'learning_rate': 0.008834410789758567, 'max_bin': 506, 'min_data_in_leaf': 106, 'reg_lambda': 0.31765989487500723, 'subsample': 0.7013984241701721}. Best is trial 10 with value: 7.7558858772322.\u001b[0m\n"
     ]
    },
    {
     "name": "stdout",
     "output_type": "stream",
     "text": [
      "0:\tlearn: 7.9594992\ttest: 7.8603923\tbest: 7.8603923 (0)\ttotal: 277ms\tremaining: 46m 5s\n"
     ]
    },
    {
     "name": "stdout",
     "output_type": "stream",
     "text": [
      "1000:\tlearn: 7.8042393\ttest: 7.7971424\tbest: 7.7971424 (1000)\ttotal: 2m 18s\tremaining: 20m 49s\n"
     ]
    },
    {
     "name": "stdout",
     "output_type": "stream",
     "text": [
      "2000:\tlearn: 7.6921590\ttest: 7.7807658\tbest: 7.7807658 (2000)\ttotal: 4m 32s\tremaining: 18m 8s\n"
     ]
    },
    {
     "name": "stdout",
     "output_type": "stream",
     "text": [
      "3000:\tlearn: 7.5803895\ttest: 7.7726525\tbest: 7.7726525 (3000)\ttotal: 6m 44s\tremaining: 15m 42s\n"
     ]
    },
    {
     "name": "stdout",
     "output_type": "stream",
     "text": [
      "4000:\tlearn: 7.4746535\ttest: 7.7679631\tbest: 7.7679489 (3984)\ttotal: 8m 56s\tremaining: 13m 23s\n"
     ]
    },
    {
     "name": "stdout",
     "output_type": "stream",
     "text": [
      "5000:\tlearn: 7.3723366\ttest: 7.7646343\tbest: 7.7646118 (4989)\ttotal: 11m 8s\tremaining: 11m 7s\n"
     ]
    },
    {
     "name": "stdout",
     "output_type": "stream",
     "text": [
      "6000:\tlearn: 7.2728871\ttest: 7.7623797\tbest: 7.7623625 (5999)\ttotal: 13m 20s\tremaining: 8m 53s\n"
     ]
    },
    {
     "name": "stdout",
     "output_type": "stream",
     "text": [
      "7000:\tlearn: 7.1759472\ttest: 7.7609064\tbest: 7.7607235 (6927)\ttotal: 15m 33s\tremaining: 6m 40s\n"
     ]
    },
    {
     "name": "stdout",
     "output_type": "stream",
     "text": [
      "Stopped by overfitting detector  (200 iterations wait)\n",
      "\n",
      "bestTest = 7.759999634\n",
      "bestIteration = 7499\n",
      "\n",
      "Shrink model to first 7500 iterations.\n"
     ]
    },
    {
     "name": "stdout",
     "output_type": "stream",
     "text": [
      "0:\tlearn: 7.9594728\ttest: 7.8603671\tbest: 7.8603671 (0)\ttotal: 202ms\tremaining: 33m 38s\n"
     ]
    },
    {
     "name": "stdout",
     "output_type": "stream",
     "text": [
      "1000:\tlearn: 7.8043518\ttest: 7.7965484\tbest: 7.7965484 (1000)\ttotal: 2m 19s\tremaining: 20m 55s\n"
     ]
    },
    {
     "name": "stdout",
     "output_type": "stream",
     "text": [
      "2000:\tlearn: 7.6922025\ttest: 7.7802043\tbest: 7.7802043 (2000)\ttotal: 4m 33s\tremaining: 18m 13s\n"
     ]
    },
    {
     "name": "stdout",
     "output_type": "stream",
     "text": [
      "3000:\tlearn: 7.5811291\ttest: 7.7719304\tbest: 7.7719304 (3000)\ttotal: 6m 45s\tremaining: 15m 45s\n"
     ]
    },
    {
     "name": "stdout",
     "output_type": "stream",
     "text": [
      "4000:\tlearn: 7.4761173\ttest: 7.7673229\tbest: 7.7673229 (4000)\ttotal: 8m 57s\tremaining: 13m 25s\n"
     ]
    },
    {
     "name": "stdout",
     "output_type": "stream",
     "text": [
      "5000:\tlearn: 7.3742204\ttest: 7.7639260\tbest: 7.7639051 (4982)\ttotal: 11m 9s\tremaining: 11m 8s\n"
     ]
    },
    {
     "name": "stdout",
     "output_type": "stream",
     "text": [
      "6000:\tlearn: 7.2739670\ttest: 7.7620942\tbest: 7.7620631 (5987)\ttotal: 13m 22s\tremaining: 8m 54s\n"
     ]
    },
    {
     "name": "stdout",
     "output_type": "stream",
     "text": [
      "Stopped by overfitting detector  (200 iterations wait)\n",
      "\n",
      "bestTest = 7.761596625\n",
      "bestIteration = 6317\n",
      "\n",
      "Shrink model to first 6318 iterations.\n"
     ]
    },
    {
     "name": "stderr",
     "output_type": "stream",
     "text": [
      "\u001b[32m[I 2021-08-27 07:55:22,544]\u001b[0m Trial 15 finished with value: 7.759452737544249 and parameters: {'bootstrap_type': 'MVS', 'max_depth': 8, 'learning_rate': 0.008481579699359133, 'max_bin': 488, 'min_data_in_leaf': 104, 'reg_lambda': 0.29046075877162425, 'subsample': 0.6659309551443726}. Best is trial 10 with value: 7.7558858772322.\u001b[0m\n"
     ]
    },
    {
     "name": "stdout",
     "output_type": "stream",
     "text": [
      "0:\tlearn: 7.9595758\ttest: 7.8604249\tbest: 7.8604249 (0)\ttotal: 68.6ms\tremaining: 11m 26s\n"
     ]
    },
    {
     "name": "stdout",
     "output_type": "stream",
     "text": [
      "1000:\tlearn: 7.8719530\ttest: 7.8028792\tbest: 7.8028792 (1000)\ttotal: 1m 5s\tremaining: 9m 44s\n"
     ]
    },
    {
     "name": "stdout",
     "output_type": "stream",
     "text": [
      "2000:\tlearn: 7.8171101\ttest: 7.7856567\tbest: 7.7856567 (2000)\ttotal: 2m 6s\tremaining: 8m 27s\n"
     ]
    },
    {
     "name": "stdout",
     "output_type": "stream",
     "text": [
      "3000:\tlearn: 7.7646180\ttest: 7.7768231\tbest: 7.7768231 (3000)\ttotal: 3m 8s\tremaining: 7m 18s\n"
     ]
    },
    {
     "name": "stdout",
     "output_type": "stream",
     "text": [
      "4000:\tlearn: 7.7160146\ttest: 7.7716344\tbest: 7.7716344 (4000)\ttotal: 4m 9s\tremaining: 6m 13s\n"
     ]
    },
    {
     "name": "stdout",
     "output_type": "stream",
     "text": [
      "5000:\tlearn: 7.6697226\ttest: 7.7683920\tbest: 7.7683694 (4989)\ttotal: 5m 9s\tremaining: 5m 9s\n"
     ]
    },
    {
     "name": "stdout",
     "output_type": "stream",
     "text": [
      "6000:\tlearn: 7.6249261\ttest: 7.7659085\tbest: 7.7658819 (5986)\ttotal: 6m 11s\tremaining: 4m 7s\n"
     ]
    },
    {
     "name": "stdout",
     "output_type": "stream",
     "text": [
      "7000:\tlearn: 7.5810757\ttest: 7.7642294\tbest: 7.7641954 (6991)\ttotal: 7m 12s\tremaining: 3m 5s\n"
     ]
    },
    {
     "name": "stdout",
     "output_type": "stream",
     "text": [
      "8000:\tlearn: 7.5380348\ttest: 7.7629008\tbest: 7.7628854 (7986)\ttotal: 8m 14s\tremaining: 2m 3s\n"
     ]
    },
    {
     "name": "stdout",
     "output_type": "stream",
     "text": [
      "9000:\tlearn: 7.4956861\ttest: 7.7617677\tbest: 7.7617210 (8967)\ttotal: 9m 15s\tremaining: 1m 1s\n"
     ]
    },
    {
     "name": "stdout",
     "output_type": "stream",
     "text": [
      "9999:\tlearn: 7.4537998\ttest: 7.7605263\tbest: 7.7604750 (9955)\ttotal: 10m 16s\tremaining: 0us\n",
      "\n",
      "bestTest = 7.760474952\n",
      "bestIteration = 9955\n",
      "\n",
      "Shrink model to first 9956 iterations.\n"
     ]
    },
    {
     "name": "stdout",
     "output_type": "stream",
     "text": [
      "0:\tlearn: 7.9596075\ttest: 7.8604594\tbest: 7.8604594 (0)\ttotal: 60.2ms\tremaining: 10m 1s\n"
     ]
    },
    {
     "name": "stdout",
     "output_type": "stream",
     "text": [
      "1000:\tlearn: 7.8722692\ttest: 7.8023715\tbest: 7.8023715 (1000)\ttotal: 1m 5s\tremaining: 9m 48s\n"
     ]
    },
    {
     "name": "stdout",
     "output_type": "stream",
     "text": [
      "2000:\tlearn: 7.8172732\ttest: 7.7850207\tbest: 7.7850207 (2000)\ttotal: 2m 7s\tremaining: 8m 28s\n"
     ]
    },
    {
     "name": "stdout",
     "output_type": "stream",
     "text": [
      "3000:\tlearn: 7.7642792\ttest: 7.7765888\tbest: 7.7765851 (2999)\ttotal: 3m 8s\tremaining: 7m 19s\n"
     ]
    },
    {
     "name": "stdout",
     "output_type": "stream",
     "text": [
      "4000:\tlearn: 7.7157809\ttest: 7.7716314\tbest: 7.7716166 (3976)\ttotal: 4m 9s\tremaining: 6m 13s\n"
     ]
    },
    {
     "name": "stdout",
     "output_type": "stream",
     "text": [
      "5000:\tlearn: 7.6696000\ttest: 7.7681874\tbest: 7.7681830 (4998)\ttotal: 5m 10s\tremaining: 5m 10s\n"
     ]
    },
    {
     "name": "stdout",
     "output_type": "stream",
     "text": [
      "6000:\tlearn: 7.6247309\ttest: 7.7657186\tbest: 7.7656971 (5997)\ttotal: 6m 11s\tremaining: 4m 7s\n"
     ]
    },
    {
     "name": "stdout",
     "output_type": "stream",
     "text": [
      "7000:\tlearn: 7.5808958\ttest: 7.7636690\tbest: 7.7636662 (6996)\ttotal: 7m 12s\tremaining: 3m 5s\n"
     ]
    },
    {
     "name": "stdout",
     "output_type": "stream",
     "text": [
      "8000:\tlearn: 7.5377399\ttest: 7.7622096\tbest: 7.7621938 (7986)\ttotal: 8m 13s\tremaining: 2m 3s\n"
     ]
    },
    {
     "name": "stdout",
     "output_type": "stream",
     "text": [
      "9000:\tlearn: 7.4953784\ttest: 7.7609606\tbest: 7.7609081 (8968)\ttotal: 9m 14s\tremaining: 1m 1s\n"
     ]
    },
    {
     "name": "stdout",
     "output_type": "stream",
     "text": [
      "9999:\tlearn: 7.4537912\ttest: 7.7599997\tbest: 7.7599997 (9999)\ttotal: 10m 16s\tremaining: 0us\n",
      "\n",
      "bestTest = 7.759999675\n",
      "bestIteration = 9999\n",
      "\n"
     ]
    },
    {
     "name": "stderr",
     "output_type": "stream",
     "text": [
      "\u001b[32m[I 2021-08-27 08:16:03,014]\u001b[0m Trial 16 finished with value: 7.759436296365206 and parameters: {'bootstrap_type': 'Bernoulli', 'max_depth': 6, 'learning_rate': 0.00873363951957734, 'max_bin': 479, 'min_data_in_leaf': 106, 'reg_lambda': 0.329479102110355, 'subsample': 0.6782742970823405}. Best is trial 10 with value: 7.7558858772322.\u001b[0m\n"
     ]
    },
    {
     "name": "stdout",
     "output_type": "stream",
     "text": [
      "0:\tlearn: 7.9595699\ttest: 7.8604324\tbest: 7.8604324 (0)\ttotal: 102ms\tremaining: 17m\n"
     ]
    },
    {
     "name": "stdout",
     "output_type": "stream",
     "text": [
      "1000:\tlearn: 7.8506769\ttest: 7.8001185\tbest: 7.8001185 (1000)\ttotal: 1m 34s\tremaining: 14m 8s\n"
     ]
    },
    {
     "name": "stdout",
     "output_type": "stream",
     "text": [
      "2000:\tlearn: 7.7779174\ttest: 7.7840145\tbest: 7.7840145 (2000)\ttotal: 3m 5s\tremaining: 12m 21s\n"
     ]
    },
    {
     "name": "stdout",
     "output_type": "stream",
     "text": [
      "3000:\tlearn: 7.7045893\ttest: 7.7747815\tbest: 7.7747815 (3000)\ttotal: 4m 34s\tremaining: 10m 39s\n"
     ]
    },
    {
     "name": "stdout",
     "output_type": "stream",
     "text": [
      "4000:\tlearn: 7.6356164\ttest: 7.7696734\tbest: 7.7696664 (3996)\ttotal: 6m 3s\tremaining: 9m 4s\n"
     ]
    },
    {
     "name": "stdout",
     "output_type": "stream",
     "text": [
      "5000:\tlearn: 7.5699961\ttest: 7.7663625\tbest: 7.7663625 (5000)\ttotal: 7m 32s\tremaining: 7m 31s\n"
     ]
    },
    {
     "name": "stdout",
     "output_type": "stream",
     "text": [
      "6000:\tlearn: 7.5054749\ttest: 7.7634643\tbest: 7.7634494 (5995)\ttotal: 9m 2s\tremaining: 6m 1s\n"
     ]
    },
    {
     "name": "stdout",
     "output_type": "stream",
     "text": [
      "7000:\tlearn: 7.4431762\ttest: 7.7615279\tbest: 7.7615279 (7000)\ttotal: 10m 30s\tremaining: 4m 30s\n"
     ]
    },
    {
     "name": "stdout",
     "output_type": "stream",
     "text": [
      "8000:\tlearn: 7.3817559\ttest: 7.7597171\tbest: 7.7597145 (7999)\ttotal: 12m\tremaining: 3m\n"
     ]
    },
    {
     "name": "stdout",
     "output_type": "stream",
     "text": [
      "9000:\tlearn: 7.3216358\ttest: 7.7588015\tbest: 7.7586760 (8914)\ttotal: 13m 30s\tremaining: 1m 29s\n"
     ]
    },
    {
     "name": "stdout",
     "output_type": "stream",
     "text": [
      "Stopped by overfitting detector  (200 iterations wait)\n",
      "\n",
      "bestTest = 7.75867596\n",
      "bestIteration = 8914\n",
      "\n",
      "Shrink model to first 8915 iterations.\n"
     ]
    },
    {
     "name": "stdout",
     "output_type": "stream",
     "text": [
      "0:\tlearn: 7.9595508\ttest: 7.8604200\tbest: 7.8604200 (0)\ttotal: 85.6ms\tremaining: 14m 16s\n"
     ]
    },
    {
     "name": "stdout",
     "output_type": "stream",
     "text": [
      "1000:\tlearn: 7.8500244\ttest: 7.8005068\tbest: 7.8005068 (1000)\ttotal: 1m 34s\tremaining: 14m 8s\n"
     ]
    },
    {
     "name": "stdout",
     "output_type": "stream",
     "text": [
      "2000:\tlearn: 7.7773075\ttest: 7.7832498\tbest: 7.7832498 (2000)\ttotal: 3m 5s\tremaining: 12m 20s\n"
     ]
    },
    {
     "name": "stdout",
     "output_type": "stream",
     "text": [
      "3000:\tlearn: 7.7038012\ttest: 7.7739575\tbest: 7.7739575 (3000)\ttotal: 4m 34s\tremaining: 10m 39s\n"
     ]
    },
    {
     "name": "stdout",
     "output_type": "stream",
     "text": [
      "4000:\tlearn: 7.6351308\ttest: 7.7685685\tbest: 7.7685685 (4000)\ttotal: 6m 2s\tremaining: 9m 4s\n"
     ]
    },
    {
     "name": "stdout",
     "output_type": "stream",
     "text": [
      "5000:\tlearn: 7.5692411\ttest: 7.7650663\tbest: 7.7650562 (4999)\ttotal: 7m 31s\tremaining: 7m 31s\n"
     ]
    },
    {
     "name": "stdout",
     "output_type": "stream",
     "text": [
      "6000:\tlearn: 7.5046803\ttest: 7.7627686\tbest: 7.7627521 (5996)\ttotal: 9m\tremaining: 6m\n"
     ]
    },
    {
     "name": "stdout",
     "output_type": "stream",
     "text": [
      "7000:\tlearn: 7.4419943\ttest: 7.7613118\tbest: 7.7612576 (6976)\ttotal: 10m 29s\tremaining: 4m 29s\n"
     ]
    }
   ],
   "source": [
    "study = optuna.create_study(direction='minimize')\n",
    "study.optimize(objective,n_trials= 30)\n",
    "print('Number of finished trials:', len(study.trials))\n",
    "print('Best trial:', study.best_trial.params)"
   ]
  },
  {
   "cell_type": "code",
   "execution_count": null,
   "id": "f60bf77f",
   "metadata": {
    "execution": {
     "iopub.status.busy": "2021-08-25T08:32:43.69543Z",
     "iopub.status.idle": "2021-08-25T08:32:43.695881Z"
    },
    "papermill": {
     "duration": null,
     "end_time": null,
     "exception": null,
     "start_time": null,
     "status": "pending"
    },
    "tags": []
   },
   "outputs": [],
   "source": [
    "study.best_params"
   ]
  },
  {
   "cell_type": "markdown",
   "id": "ab5f4377",
   "metadata": {
    "papermill": {
     "duration": null,
     "end_time": null,
     "exception": null,
     "start_time": null,
     "status": "pending"
    },
    "tags": []
   },
   "source": [
    "# Log\n",
    "\n",
    " 7.762295653542073 no noise ver1\n",
    " \n",
    " 7.761018088737071 no noise ver2 (narrow space)\n",
    " \n",
    " 7.757631368911015 no noise ver3 (narrow space)"
   ]
  }
 ],
 "metadata": {
  "kernelspec": {
   "display_name": "Python 3",
   "language": "python",
   "name": "python3"
  },
  "language_info": {
   "codemirror_mode": {
    "name": "ipython",
    "version": 3
   },
   "file_extension": ".py",
   "mimetype": "text/x-python",
   "name": "python",
   "nbconvert_exporter": "python",
   "pygments_lexer": "ipython3",
   "version": "3.6.4"
  },
  "papermill": {
   "default_parameters": {},
   "duration": null,
   "end_time": null,
   "environment_variables": {},
   "exception": null,
   "input_path": "__notebook__.ipynb",
   "output_path": "__notebook__.ipynb",
   "parameters": {},
   "start_time": "2021-08-26T23:41:15.773126",
   "version": "2.3.3"
  }
 },
 "nbformat": 4,
 "nbformat_minor": 5
}