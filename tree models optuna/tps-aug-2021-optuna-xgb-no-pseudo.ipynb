{
 "cells": [
  {
   "cell_type": "code",
   "execution_count": 1,
   "id": "2598d909",
   "metadata": {
    "_cell_guid": "b1076dfc-b9ad-4769-8c92-a6c4dae69d19",
    "_uuid": "8f2839f25d086af736a60e9eeb907d3b93b6e0e5",
    "execution": {
     "iopub.execute_input": "2021-08-22T10:57:21.269803Z",
     "iopub.status.busy": "2021-08-22T10:57:21.268489Z",
     "iopub.status.idle": "2021-08-22T10:57:22.404136Z",
     "shell.execute_reply": "2021-08-22T10:57:22.403334Z",
     "shell.execute_reply.started": "2021-08-20T14:15:26.115264Z"
    },
    "papermill": {
     "duration": 1.151688,
     "end_time": "2021-08-22T10:57:22.404301",
     "exception": false,
     "start_time": "2021-08-22T10:57:21.252613",
     "status": "completed"
    },
    "tags": []
   },
   "outputs": [],
   "source": [
    "# Familiar imports\n",
    "import numpy as np\n",
    "import pandas as pd\n",
    "import random\n",
    "import os\n",
    "import time\n",
    "from pathlib import Path\n",
    "\n",
    "from sklearn.preprocessing import StandardScaler\n",
    "from sklearn.model_selection import KFold, train_test_split\n",
    "from sklearn.metrics import mean_squared_error\n",
    "\n",
    "#import lightgbm as lgb\n",
    "import xgboost as xgb\n",
    "#import catboost as ctb\n",
    "\n",
    "import warnings\n",
    "warnings.simplefilter('ignore')"
   ]
  },
  {
   "cell_type": "markdown",
   "id": "0d54b231",
   "metadata": {
    "papermill": {
     "duration": 0.011556,
     "end_time": "2021-08-22T10:57:22.428485",
     "exception": false,
     "start_time": "2021-08-22T10:57:22.416929",
     "status": "completed"
    },
    "tags": []
   },
   "source": [
    "# Parameters"
   ]
  },
  {
   "cell_type": "code",
   "execution_count": 2,
   "id": "ec41f74f",
   "metadata": {
    "execution": {
     "iopub.execute_input": "2021-08-22T10:57:22.458125Z",
     "iopub.status.busy": "2021-08-22T10:57:22.457444Z",
     "iopub.status.idle": "2021-08-22T10:57:22.460439Z",
     "shell.execute_reply": "2021-08-22T10:57:22.459809Z",
     "shell.execute_reply.started": "2021-08-20T14:15:27.215686Z"
    },
    "papermill": {
     "duration": 0.020454,
     "end_time": "2021-08-22T10:57:22.460584",
     "exception": false,
     "start_time": "2021-08-22T10:57:22.440130",
     "status": "completed"
    },
    "tags": []
   },
   "outputs": [],
   "source": [
    "target = 'loss'\n",
    "\n",
    "DEBUG = False\n",
    "\n",
    "if DEBUG:\n",
    "    N_ESTIMATORS = 1\n",
    "    N_SPLITS = 2\n",
    "    SEED = 17\n",
    "    CVSEED = 17\n",
    "    EARLY_STOPPING_ROUNDS = 1\n",
    "    VERBOSE = 100\n",
    "    #N_ITERS = 2\n",
    "else:\n",
    "    N_SPLITS = 10\n",
    "    N_ESTIMATORS = 10000\n",
    "    EARLY_STOPPING_ROUNDS = 200\n",
    "    VERBOSE = 1000\n",
    "    SEED = 17\n",
    "    CVSEED = 17\n",
    "    #N_ITERS = 10"
   ]
  },
  {
   "cell_type": "code",
   "execution_count": 3,
   "id": "c764b4fc",
   "metadata": {
    "execution": {
     "iopub.execute_input": "2021-08-22T10:57:22.489164Z",
     "iopub.status.busy": "2021-08-22T10:57:22.488502Z",
     "iopub.status.idle": "2021-08-22T10:57:22.491877Z",
     "shell.execute_reply": "2021-08-22T10:57:22.491230Z",
     "shell.execute_reply.started": "2021-08-20T14:15:27.224954Z"
    },
    "papermill": {
     "duration": 0.019859,
     "end_time": "2021-08-22T10:57:22.492022",
     "exception": false,
     "start_time": "2021-08-22T10:57:22.472163",
     "status": "completed"
    },
    "tags": []
   },
   "outputs": [],
   "source": [
    "def set_seed(seed=17):\n",
    "    random.seed(seed)\n",
    "    os.environ['PYTHONHASHSEED'] = str(seed)\n",
    "    np.random.seed(seed)\n",
    "    \n",
    "set_seed(SEED)"
   ]
  },
  {
   "cell_type": "markdown",
   "id": "8386bff7",
   "metadata": {
    "papermill": {
     "duration": 0.010995,
     "end_time": "2021-08-22T10:57:22.514868",
     "exception": false,
     "start_time": "2021-08-22T10:57:22.503873",
     "status": "completed"
    },
    "tags": []
   },
   "source": [
    "# Load data"
   ]
  },
  {
   "cell_type": "code",
   "execution_count": 4,
   "id": "6632fde1",
   "metadata": {
    "execution": {
     "iopub.execute_input": "2021-08-22T10:57:22.544391Z",
     "iopub.status.busy": "2021-08-22T10:57:22.543714Z",
     "iopub.status.idle": "2021-08-22T10:57:32.944741Z",
     "shell.execute_reply": "2021-08-22T10:57:32.944186Z",
     "shell.execute_reply.started": "2021-08-20T14:15:27.236232Z"
    },
    "papermill": {
     "duration": 10.418549,
     "end_time": "2021-08-22T10:57:32.944950",
     "exception": false,
     "start_time": "2021-08-22T10:57:22.526401",
     "status": "completed"
    },
    "tags": []
   },
   "outputs": [],
   "source": [
    "INPUT = Path(\"../input/tabular-playground-series-aug-2021\")\n",
    "\n",
    "train = pd.read_csv(INPUT / \"train.csv\")\n",
    "test = pd.read_csv(INPUT / \"test.csv\")\n",
    "submission = pd.read_csv(INPUT / \"sample_submission.csv\")"
   ]
  },
  {
   "cell_type": "markdown",
   "id": "d551a7e7",
   "metadata": {
    "papermill": {
     "duration": 0.010828,
     "end_time": "2021-08-22T10:57:32.966972",
     "exception": false,
     "start_time": "2021-08-22T10:57:32.956144",
     "status": "completed"
    },
    "tags": []
   },
   "source": [
    "# Preprocessing"
   ]
  },
  {
   "cell_type": "code",
   "execution_count": 5,
   "id": "2600b0e0",
   "metadata": {
    "execution": {
     "iopub.execute_input": "2021-08-22T10:57:33.001371Z",
     "iopub.status.busy": "2021-08-22T10:57:33.000728Z",
     "iopub.status.idle": "2021-08-22T10:57:44.841244Z",
     "shell.execute_reply": "2021-08-22T10:57:44.841790Z",
     "shell.execute_reply.started": "2021-08-20T14:15:38.061822Z"
    },
    "papermill": {
     "duration": 11.863805,
     "end_time": "2021-08-22T10:57:44.842023",
     "exception": false,
     "start_time": "2021-08-22T10:57:32.978218",
     "status": "completed"
    },
    "tags": []
   },
   "outputs": [],
   "source": [
    "scale_features = [col for col in test.columns if 'f' in col]\n",
    "\n",
    "ss = StandardScaler()\n",
    "train[scale_features] = ss.fit_transform(train[scale_features])\n",
    "test[scale_features] = ss.transform(test[scale_features])"
   ]
  },
  {
   "cell_type": "code",
   "execution_count": 6,
   "id": "7a6fe00d",
   "metadata": {
    "execution": {
     "iopub.execute_input": "2021-08-22T10:57:44.869125Z",
     "iopub.status.busy": "2021-08-22T10:57:44.868508Z",
     "iopub.status.idle": "2021-08-22T10:57:44.875551Z",
     "shell.execute_reply": "2021-08-22T10:57:44.876092Z",
     "shell.execute_reply.started": "2021-08-20T14:15:50.046724Z"
    },
    "papermill": {
     "duration": 0.022101,
     "end_time": "2021-08-22T10:57:44.876259",
     "exception": false,
     "start_time": "2021-08-22T10:57:44.854158",
     "status": "completed"
    },
    "tags": []
   },
   "outputs": [],
   "source": [
    "# Swap noise\n",
    "\n",
    "# Random\n",
    "def apply_noise_rn(df, p=.75):\n",
    "    should_not_swap = np.random.binomial(1, p, df.shape)\n",
    "    corrupted_df = df.where(should_not_swap == 1, np.random.permutation(df))\n",
    "    return corrupted_df\n",
    "\n",
    "# Row-wise\n",
    "def apply_noise_row(df, p=.75):\n",
    "    should_not_swap = np.zeros(df.shape)\n",
    "    for i in range(df.shape[0]):\n",
    "        for j in np.random.choice(df.shape[1],int(p*df.shape[1]),replace=False):\n",
    "            should_not_swap[i,j]=1 \n",
    "    corrupted_df = df.where(should_not_swap == 1, np.random.permutation(df))\n",
    "    return corrupted_df"
   ]
  },
  {
   "cell_type": "markdown",
   "id": "c3b3d663",
   "metadata": {
    "papermill": {
     "duration": 0.011746,
     "end_time": "2021-08-22T10:57:44.900143",
     "exception": false,
     "start_time": "2021-08-22T10:57:44.888397",
     "status": "completed"
    },
    "tags": []
   },
   "source": [
    "# Optuna"
   ]
  },
  {
   "cell_type": "code",
   "execution_count": 7,
   "id": "866b060c",
   "metadata": {
    "execution": {
     "iopub.execute_input": "2021-08-22T10:57:44.930296Z",
     "iopub.status.busy": "2021-08-22T10:57:44.929240Z",
     "iopub.status.idle": "2021-08-22T10:57:54.297235Z",
     "shell.execute_reply": "2021-08-22T10:57:54.296652Z",
     "shell.execute_reply.started": "2021-08-20T14:15:50.056146Z"
    },
    "papermill": {
     "duration": 9.385161,
     "end_time": "2021-08-22T10:57:54.297391",
     "exception": false,
     "start_time": "2021-08-22T10:57:44.912230",
     "status": "completed"
    },
    "tags": []
   },
   "outputs": [
    {
     "name": "stdout",
     "output_type": "stream",
     "text": [
      "\u001b[33mWARNING: Running pip as root will break packages and permissions. You should install packages reliably by using venv: https://pip.pypa.io/warnings/venv\u001b[0m\r\n"
     ]
    }
   ],
   "source": [
    "# Optuna for parameter search\n",
    "!pip install -q optuna\n",
    "\n",
    "import optuna\n",
    "import pickle"
   ]
  },
  {
   "cell_type": "code",
   "execution_count": 8,
   "id": "0d78eac2",
   "metadata": {
    "execution": {
     "iopub.execute_input": "2021-08-22T10:57:54.335865Z",
     "iopub.status.busy": "2021-08-22T10:57:54.335173Z",
     "iopub.status.idle": "2021-08-22T10:57:54.531612Z",
     "shell.execute_reply": "2021-08-22T10:57:54.530952Z",
     "shell.execute_reply.started": "2021-08-20T14:15:59.370702Z"
    },
    "papermill": {
     "duration": 0.221894,
     "end_time": "2021-08-22T10:57:54.531777",
     "exception": false,
     "start_time": "2021-08-22T10:57:54.309883",
     "status": "completed"
    },
    "tags": []
   },
   "outputs": [],
   "source": [
    "# for the fixed learning rate, use the opt n iterations and tune the tree hyperparameters\n",
    "def objective(trial, X=train[scale_features], y=train[target]):\n",
    "  \"\"\"\n",
    "  \"\"\"\n",
    "  param_space = {\n",
    "               'objective': 'reg:squarederror',\n",
    "               'learning_rate':trial.suggest_uniform('learning_rate', 0.65e-3, 2.65e-3),\n",
    "               'n_estimators':N_ESTIMATORS,\n",
    "               'subsample': trial.suggest_uniform('subsample', 0.52, 0.62),\n",
    "              'colsample_bytree':trial.suggest_uniform('colsample_bytree', 0.704, 0.904),\n",
    "              'max_depth':trial.suggest_int('max_depth', 11, 15),\n",
    "              'lambda':trial.suggest_uniform('lambda', 6.955, 11.955),\n",
    "              'alpha':trial.suggest_uniform('alpha', 3.979, 8.979),\n",
    "           'min_child_weight':trial.suggest_uniform('min_child_weight', 116, 216),\n",
    "           'importance_type': 'total_gain',\n",
    "            'tree_method': 'hist'\n",
    "               # 'subsample_freq': trial.suggest_int('subsample_freq', 1, 5),\n",
    "             #'boosting_type': 'gbdt',\n",
    "               \n",
    "                # 'min_child_samples':trial.suggest_int('min_child_samples', 5, 35),\n",
    "             # 'num_leaves':trial.suggest_int('num_leaves', 10, 200),\n",
    "              #'min_split_gain': trial.suggest_float('min_split_gain', 0.0, 0.005),\n",
    "              #'class_weight':trial.suggest_categorical('class_weight',['balanced',None]),\n",
    "              # 'n_jobs' : -1,\n",
    "                #'max_bin':trial.suggest_int('max_bin', 300, 1000),\n",
    "              #'cat_smooth':trial.suggest_int('cat_smooth', 5, 100),\n",
    "              #'cat_l2':trial.suggest_loguniform('cat_l2', 1e-3, 100)\n",
    "                }\n",
    "            \n",
    "\n",
    "  seed_list=[SEED, SEED+1]\n",
    "  #kf = KFold(n_splits=N_SPLITS, shuffle=True, random_state=CVSEED)\n",
    "  #lgb_oof = np.zeros(train.shape[0])\n",
    "  #lgb_pred = np.zeros(test.shape[0])\n",
    "  \n",
    "  X_tr, X_va, y_tr, y_va = train_test_split(X,y,test_size=.2,random_state=CVSEED)\n",
    "  \n",
    "  pred=np.zeros(y_va.shape[0])\n",
    "  \n",
    "  #for (trn_idx, val_idx) in enumerate(kf.split(X, y)):\n",
    "  #print(f\"===== fold {fold} =====\")\n",
    "  \n",
    "  #X_tr = apply_noise_row(X_tr)\n",
    "\n",
    "  \n",
    "  \n",
    "  #start = time.time()\n",
    "  for inseed in seed_list:\n",
    "            \n",
    "            param_space['seed'] = inseed\n",
    "\n",
    "            model = xgb.XGBRegressor(**param_space)\n",
    "            model.fit(\n",
    "                X_tr, \n",
    "                y_tr,\n",
    "                eval_set=[(X_va, y_va)],\n",
    "                eval_metric='rmse',\n",
    "                early_stopping_rounds=EARLY_STOPPING_ROUNDS,\n",
    "                verbose=VERBOSE,\n",
    "            )\n",
    "\n",
    "\n",
    "            pred += model.predict(X_va) / len(seed_list)\n",
    "    \n",
    "  #elapsed = time.time() - start\n",
    "  rmse = mean_squared_error(y_va, pred, squared=False)\n",
    "  #print(f\"fold {fold} - lgb rmse: {rmse:.6f}, elapsed time: {elapsed:.2f}sec\\n\")            \n",
    "  \n",
    "  #print(f\"oof lgb_rmse = {mean_squared_error(train[target], lgb_oof, squared=False)}\")\n",
    "\n",
    "  \n",
    "  return rmse"
   ]
  },
  {
   "cell_type": "code",
   "execution_count": 9,
   "id": "e4d23126",
   "metadata": {
    "execution": {
     "iopub.execute_input": "2021-08-22T10:57:54.561453Z",
     "iopub.status.busy": "2021-08-22T10:57:54.560819Z",
     "iopub.status.idle": "2021-08-20T14:16:18.413468Z",
     "shell.execute_reply": "2021-08-20T14:16:18.410077Z",
     "shell.execute_reply.started": "2021-08-20T14:15:59.5803Z"
    },
    "papermill": {
     "duration": null,
     "end_time": null,
     "exception": false,
     "start_time": "2021-08-22T10:57:54.543930",
     "status": "running"
    },
    "tags": []
   },
   "outputs": [
    {
     "name": "stderr",
     "output_type": "stream",
     "text": [
      "\u001b[32m[I 2021-08-22 10:57:54,559]\u001b[0m A new study created in memory with name: no-name-b55e377a-4cc6-434d-82a0-1bb93914ea64\u001b[0m\n"
     ]
    },
    {
     "name": "stdout",
     "output_type": "stream",
     "text": [
      "[0]\tvalidation_0-rmse:10.05525\n"
     ]
    },
    {
     "name": "stdout",
     "output_type": "stream",
     "text": [
      "[1000]\tvalidation_0-rmse:8.16670\n"
     ]
    },
    {
     "name": "stdout",
     "output_type": "stream",
     "text": [
      "[2000]\tvalidation_0-rmse:7.84509\n"
     ]
    },
    {
     "name": "stdout",
     "output_type": "stream",
     "text": [
      "[3000]\tvalidation_0-rmse:7.78953\n"
     ]
    },
    {
     "name": "stdout",
     "output_type": "stream",
     "text": [
      "[4000]\tvalidation_0-rmse:7.77543\n"
     ]
    },
    {
     "name": "stdout",
     "output_type": "stream",
     "text": [
      "[5000]\tvalidation_0-rmse:7.76883\n"
     ]
    },
    {
     "name": "stdout",
     "output_type": "stream",
     "text": [
      "[6000]\tvalidation_0-rmse:7.76479\n"
     ]
    },
    {
     "name": "stdout",
     "output_type": "stream",
     "text": [
      "[7000]\tvalidation_0-rmse:7.76170\n"
     ]
    },
    {
     "name": "stdout",
     "output_type": "stream",
     "text": [
      "[8000]\tvalidation_0-rmse:7.75951\n"
     ]
    },
    {
     "name": "stdout",
     "output_type": "stream",
     "text": [
      "[9000]\tvalidation_0-rmse:7.75769\n"
     ]
    },
    {
     "name": "stdout",
     "output_type": "stream",
     "text": [
      "[9999]\tvalidation_0-rmse:7.75659\n"
     ]
    },
    {
     "name": "stdout",
     "output_type": "stream",
     "text": [
      "[0]\tvalidation_0-rmse:10.05531\n"
     ]
    },
    {
     "name": "stdout",
     "output_type": "stream",
     "text": [
      "[1000]\tvalidation_0-rmse:8.16578\n"
     ]
    },
    {
     "name": "stdout",
     "output_type": "stream",
     "text": [
      "[2000]\tvalidation_0-rmse:7.84466\n"
     ]
    },
    {
     "name": "stdout",
     "output_type": "stream",
     "text": [
      "[3000]\tvalidation_0-rmse:7.78897\n"
     ]
    },
    {
     "name": "stdout",
     "output_type": "stream",
     "text": [
      "[4000]\tvalidation_0-rmse:7.77505\n"
     ]
    },
    {
     "name": "stdout",
     "output_type": "stream",
     "text": [
      "[5000]\tvalidation_0-rmse:7.76867\n"
     ]
    },
    {
     "name": "stdout",
     "output_type": "stream",
     "text": [
      "[6000]\tvalidation_0-rmse:7.76471\n"
     ]
    },
    {
     "name": "stdout",
     "output_type": "stream",
     "text": [
      "[7000]\tvalidation_0-rmse:7.76176\n"
     ]
    },
    {
     "name": "stdout",
     "output_type": "stream",
     "text": [
      "[8000]\tvalidation_0-rmse:7.75944\n"
     ]
    },
    {
     "name": "stdout",
     "output_type": "stream",
     "text": [
      "[9000]\tvalidation_0-rmse:7.75798\n"
     ]
    },
    {
     "name": "stdout",
     "output_type": "stream",
     "text": [
      "[9999]\tvalidation_0-rmse:7.75713\n"
     ]
    },
    {
     "name": "stderr",
     "output_type": "stream",
     "text": [
      "\u001b[32m[I 2021-08-22 12:07:39,882]\u001b[0m Trial 0 finished with value: 7.756359590132131 and parameters: {'learning_rate': 0.0009997080219980193, 'subsample': 0.551100816316413, 'colsample_bytree': 0.7897765605184331, 'max_depth': 14, 'lambda': 9.111270479736842, 'alpha': 5.130251596690405, 'min_child_weight': 126.82683780903136}. Best is trial 0 with value: 7.756359590132131.\u001b[0m\n"
     ]
    },
    {
     "name": "stdout",
     "output_type": "stream",
     "text": [
      "[0]\tvalidation_0-rmse:10.05375\n"
     ]
    },
    {
     "name": "stdout",
     "output_type": "stream",
     "text": [
      "[1000]\tvalidation_0-rmse:7.97705\n"
     ]
    },
    {
     "name": "stdout",
     "output_type": "stream",
     "text": [
      "[2000]\tvalidation_0-rmse:7.79985\n"
     ]
    },
    {
     "name": "stdout",
     "output_type": "stream",
     "text": [
      "[3000]\tvalidation_0-rmse:7.77732\n"
     ]
    },
    {
     "name": "stdout",
     "output_type": "stream",
     "text": [
      "[4000]\tvalidation_0-rmse:7.76925\n"
     ]
    },
    {
     "name": "stdout",
     "output_type": "stream",
     "text": [
      "[5000]\tvalidation_0-rmse:7.76427\n"
     ]
    },
    {
     "name": "stdout",
     "output_type": "stream",
     "text": [
      "[6000]\tvalidation_0-rmse:7.76080\n"
     ]
    },
    {
     "name": "stdout",
     "output_type": "stream",
     "text": [
      "[7000]\tvalidation_0-rmse:7.75866\n"
     ]
    },
    {
     "name": "stdout",
     "output_type": "stream",
     "text": [
      "[8000]\tvalidation_0-rmse:7.75699\n"
     ]
    },
    {
     "name": "stdout",
     "output_type": "stream",
     "text": [
      "[9000]\tvalidation_0-rmse:7.75578\n"
     ]
    },
    {
     "name": "stdout",
     "output_type": "stream",
     "text": [
      "[9999]\tvalidation_0-rmse:7.75467\n"
     ]
    },
    {
     "name": "stdout",
     "output_type": "stream",
     "text": [
      "[0]\tvalidation_0-rmse:10.05382\n"
     ]
    },
    {
     "name": "stdout",
     "output_type": "stream",
     "text": [
      "[1000]\tvalidation_0-rmse:7.97689\n"
     ]
    },
    {
     "name": "stdout",
     "output_type": "stream",
     "text": [
      "[2000]\tvalidation_0-rmse:7.79917\n"
     ]
    },
    {
     "name": "stdout",
     "output_type": "stream",
     "text": [
      "[3000]\tvalidation_0-rmse:7.77721\n"
     ]
    },
    {
     "name": "stdout",
     "output_type": "stream",
     "text": [
      "[4000]\tvalidation_0-rmse:7.76917\n"
     ]
    },
    {
     "name": "stdout",
     "output_type": "stream",
     "text": [
      "[5000]\tvalidation_0-rmse:7.76385\n"
     ]
    },
    {
     "name": "stdout",
     "output_type": "stream",
     "text": [
      "[6000]\tvalidation_0-rmse:7.76034\n"
     ]
    },
    {
     "name": "stdout",
     "output_type": "stream",
     "text": [
      "[7000]\tvalidation_0-rmse:7.75817\n"
     ]
    },
    {
     "name": "stdout",
     "output_type": "stream",
     "text": [
      "[8000]\tvalidation_0-rmse:7.75634\n"
     ]
    },
    {
     "name": "stdout",
     "output_type": "stream",
     "text": [
      "[9000]\tvalidation_0-rmse:7.75542\n"
     ]
    },
    {
     "name": "stdout",
     "output_type": "stream",
     "text": [
      "[9485]\tvalidation_0-rmse:7.75516\n"
     ]
    },
    {
     "name": "stderr",
     "output_type": "stream",
     "text": [
      "\u001b[32m[I 2021-08-22 13:07:22,245]\u001b[0m Trial 1 finished with value: 7.754181378699815 and parameters: {'learning_rate': 0.0013752146552519868, 'subsample': 0.544803397754841, 'colsample_bytree': 0.8073763477651917, 'max_depth': 12, 'lambda': 11.30432804417353, 'alpha': 4.245082975548115, 'min_child_weight': 116.43026850946228}. Best is trial 1 with value: 7.754181378699815.\u001b[0m\n"
     ]
    },
    {
     "name": "stdout",
     "output_type": "stream",
     "text": [
      "[0]\tvalidation_0-rmse:10.05100\n"
     ]
    },
    {
     "name": "stdout",
     "output_type": "stream",
     "text": [
      "[1000]\tvalidation_0-rmse:7.83819\n"
     ]
    },
    {
     "name": "stdout",
     "output_type": "stream",
     "text": [
      "[2000]\tvalidation_0-rmse:7.77405\n"
     ]
    },
    {
     "name": "stdout",
     "output_type": "stream",
     "text": [
      "[3000]\tvalidation_0-rmse:7.76405\n"
     ]
    },
    {
     "name": "stdout",
     "output_type": "stream",
     "text": [
      "[4000]\tvalidation_0-rmse:7.75991\n"
     ]
    },
    {
     "name": "stdout",
     "output_type": "stream",
     "text": [
      "[5000]\tvalidation_0-rmse:7.75728\n"
     ]
    },
    {
     "name": "stdout",
     "output_type": "stream",
     "text": [
      "[6000]\tvalidation_0-rmse:7.75636\n"
     ]
    },
    {
     "name": "stdout",
     "output_type": "stream",
     "text": [
      "[6164]\tvalidation_0-rmse:7.75660\n"
     ]
    },
    {
     "name": "stdout",
     "output_type": "stream",
     "text": [
      "[0]\tvalidation_0-rmse:10.05101\n"
     ]
    },
    {
     "name": "stdout",
     "output_type": "stream",
     "text": [
      "[1000]\tvalidation_0-rmse:7.83837\n"
     ]
    },
    {
     "name": "stdout",
     "output_type": "stream",
     "text": [
      "[2000]\tvalidation_0-rmse:7.77469\n"
     ]
    },
    {
     "name": "stdout",
     "output_type": "stream",
     "text": [
      "[3000]\tvalidation_0-rmse:7.76489\n"
     ]
    },
    {
     "name": "stdout",
     "output_type": "stream",
     "text": [
      "[4000]\tvalidation_0-rmse:7.76010\n"
     ]
    },
    {
     "name": "stdout",
     "output_type": "stream",
     "text": [
      "[5000]\tvalidation_0-rmse:7.75724\n"
     ]
    },
    {
     "name": "stdout",
     "output_type": "stream",
     "text": [
      "[5825]\tvalidation_0-rmse:7.75611\n"
     ]
    },
    {
     "name": "stderr",
     "output_type": "stream",
     "text": [
      "\u001b[32m[I 2021-08-22 13:51:40,174]\u001b[0m Trial 2 finished with value: 7.754948562705274 and parameters: {'learning_rate': 0.0020968269458880853, 'subsample': 0.5305029332594213, 'colsample_bytree': 0.7627713834418416, 'max_depth': 15, 'lambda': 11.243226092419464, 'alpha': 8.643263262767594, 'min_child_weight': 130.16720863134395}. Best is trial 1 with value: 7.754181378699815.\u001b[0m\n"
     ]
    },
    {
     "name": "stdout",
     "output_type": "stream",
     "text": [
      "[0]\tvalidation_0-rmse:10.05265\n"
     ]
    },
    {
     "name": "stdout",
     "output_type": "stream",
     "text": [
      "[1000]\tvalidation_0-rmse:7.90205\n"
     ]
    },
    {
     "name": "stdout",
     "output_type": "stream",
     "text": [
      "[2000]\tvalidation_0-rmse:7.78577\n"
     ]
    },
    {
     "name": "stdout",
     "output_type": "stream",
     "text": [
      "[3000]\tvalidation_0-rmse:7.77109\n"
     ]
    },
    {
     "name": "stdout",
     "output_type": "stream",
     "text": [
      "[4000]\tvalidation_0-rmse:7.76474\n"
     ]
    },
    {
     "name": "stdout",
     "output_type": "stream",
     "text": [
      "[5000]\tvalidation_0-rmse:7.76073\n"
     ]
    },
    {
     "name": "stdout",
     "output_type": "stream",
     "text": [
      "[6000]\tvalidation_0-rmse:7.75768\n"
     ]
    },
    {
     "name": "stdout",
     "output_type": "stream",
     "text": [
      "[7000]\tvalidation_0-rmse:7.75606\n"
     ]
    },
    {
     "name": "stdout",
     "output_type": "stream",
     "text": [
      "[7829]\tvalidation_0-rmse:7.75527\n"
     ]
    },
    {
     "name": "stdout",
     "output_type": "stream",
     "text": [
      "[0]\tvalidation_0-rmse:10.05268\n"
     ]
    },
    {
     "name": "stdout",
     "output_type": "stream",
     "text": [
      "[1000]\tvalidation_0-rmse:7.90234\n"
     ]
    },
    {
     "name": "stdout",
     "output_type": "stream",
     "text": [
      "[2000]\tvalidation_0-rmse:7.78620\n"
     ]
    },
    {
     "name": "stdout",
     "output_type": "stream",
     "text": [
      "[3000]\tvalidation_0-rmse:7.77111\n"
     ]
    },
    {
     "name": "stdout",
     "output_type": "stream",
     "text": [
      "[4000]\tvalidation_0-rmse:7.76452\n"
     ]
    },
    {
     "name": "stdout",
     "output_type": "stream",
     "text": [
      "[5000]\tvalidation_0-rmse:7.76047\n"
     ]
    },
    {
     "name": "stdout",
     "output_type": "stream",
     "text": [
      "[6000]\tvalidation_0-rmse:7.75804\n"
     ]
    },
    {
     "name": "stdout",
     "output_type": "stream",
     "text": [
      "[7000]\tvalidation_0-rmse:7.75641\n"
     ]
    },
    {
     "name": "stdout",
     "output_type": "stream",
     "text": [
      "[8000]\tvalidation_0-rmse:7.75496\n"
     ]
    },
    {
     "name": "stdout",
     "output_type": "stream",
     "text": [
      "[9000]\tvalidation_0-rmse:7.75418\n"
     ]
    },
    {
     "name": "stdout",
     "output_type": "stream",
     "text": [
      "[9943]\tvalidation_0-rmse:7.75374\n"
     ]
    },
    {
     "name": "stderr",
     "output_type": "stream",
     "text": [
      "\u001b[32m[I 2021-08-22 14:42:19,840]\u001b[0m Trial 3 finished with value: 7.75344924632747 and parameters: {'learning_rate': 0.0016509612156689498, 'subsample': 0.589707824875318, 'colsample_bytree': 0.7040768212621661, 'max_depth': 13, 'lambda': 10.988708718044395, 'alpha': 8.000101187284184, 'min_child_weight': 152.97060418096973}. Best is trial 3 with value: 7.75344924632747.\u001b[0m\n"
     ]
    },
    {
     "name": "stdout",
     "output_type": "stream",
     "text": [
      "[0]\tvalidation_0-rmse:10.05185\n"
     ]
    },
    {
     "name": "stdout",
     "output_type": "stream",
     "text": [
      "[1000]\tvalidation_0-rmse:7.86697\n"
     ]
    },
    {
     "name": "stdout",
     "output_type": "stream",
     "text": [
      "[2000]\tvalidation_0-rmse:7.78332\n"
     ]
    },
    {
     "name": "stdout",
     "output_type": "stream",
     "text": [
      "[3000]\tvalidation_0-rmse:7.77035\n"
     ]
    },
    {
     "name": "stdout",
     "output_type": "stream",
     "text": [
      "[4000]\tvalidation_0-rmse:7.76402\n"
     ]
    },
    {
     "name": "stdout",
     "output_type": "stream",
     "text": [
      "[5000]\tvalidation_0-rmse:7.75985\n"
     ]
    },
    {
     "name": "stdout",
     "output_type": "stream",
     "text": [
      "[6000]\tvalidation_0-rmse:7.75696\n"
     ]
    },
    {
     "name": "stdout",
     "output_type": "stream",
     "text": [
      "[7000]\tvalidation_0-rmse:7.75497\n"
     ]
    },
    {
     "name": "stdout",
     "output_type": "stream",
     "text": [
      "[8000]\tvalidation_0-rmse:7.75390\n"
     ]
    },
    {
     "name": "stdout",
     "output_type": "stream",
     "text": [
      "[9000]\tvalidation_0-rmse:7.75319\n"
     ]
    },
    {
     "name": "stdout",
     "output_type": "stream",
     "text": [
      "[9566]\tvalidation_0-rmse:7.75294\n"
     ]
    },
    {
     "name": "stdout",
     "output_type": "stream",
     "text": [
      "[0]\tvalidation_0-rmse:10.05187\n"
     ]
    },
    {
     "name": "stdout",
     "output_type": "stream",
     "text": [
      "[1000]\tvalidation_0-rmse:7.86797\n"
     ]
    },
    {
     "name": "stdout",
     "output_type": "stream",
     "text": [
      "[2000]\tvalidation_0-rmse:7.78375\n"
     ]
    },
    {
     "name": "stdout",
     "output_type": "stream",
     "text": [
      "[3000]\tvalidation_0-rmse:7.77122\n"
     ]
    },
    {
     "name": "stdout",
     "output_type": "stream",
     "text": [
      "[4000]\tvalidation_0-rmse:7.76455\n"
     ]
    },
    {
     "name": "stdout",
     "output_type": "stream",
     "text": [
      "[5000]\tvalidation_0-rmse:7.76051\n"
     ]
    },
    {
     "name": "stdout",
     "output_type": "stream",
     "text": [
      "[6000]\tvalidation_0-rmse:7.75765\n"
     ]
    },
    {
     "name": "stdout",
     "output_type": "stream",
     "text": [
      "[7000]\tvalidation_0-rmse:7.75629\n"
     ]
    },
    {
     "name": "stdout",
     "output_type": "stream",
     "text": [
      "[8000]\tvalidation_0-rmse:7.75502\n"
     ]
    },
    {
     "name": "stdout",
     "output_type": "stream",
     "text": [
      "[8230]\tvalidation_0-rmse:7.75503\n"
     ]
    },
    {
     "name": "stderr",
     "output_type": "stream",
     "text": [
      "\u001b[32m[I 2021-08-22 15:22:52,084]\u001b[0m Trial 4 finished with value: 7.753198149027122 and parameters: {'learning_rate': 0.0018331925260194747, 'subsample': 0.5999280340279187, 'colsample_bytree': 0.8309679692775827, 'max_depth': 11, 'lambda': 9.484816540848616, 'alpha': 5.787546831727187, 'min_child_weight': 203.58662168918866}. Best is trial 4 with value: 7.753198149027122.\u001b[0m\n"
     ]
    },
    {
     "name": "stdout",
     "output_type": "stream",
     "text": [
      "[0]\tvalidation_0-rmse:10.05050\n"
     ]
    },
    {
     "name": "stdout",
     "output_type": "stream",
     "text": [
      "[1000]\tvalidation_0-rmse:7.82552\n"
     ]
    },
    {
     "name": "stdout",
     "output_type": "stream",
     "text": [
      "[2000]\tvalidation_0-rmse:7.77327\n"
     ]
    },
    {
     "name": "stdout",
     "output_type": "stream",
     "text": [
      "[3000]\tvalidation_0-rmse:7.76426\n"
     ]
    },
    {
     "name": "stdout",
     "output_type": "stream",
     "text": [
      "[4000]\tvalidation_0-rmse:7.75986\n"
     ]
    },
    {
     "name": "stdout",
     "output_type": "stream",
     "text": [
      "[5000]\tvalidation_0-rmse:7.75798\n"
     ]
    },
    {
     "name": "stdout",
     "output_type": "stream",
     "text": [
      "[6000]\tvalidation_0-rmse:7.75670\n"
     ]
    },
    {
     "name": "stdout",
     "output_type": "stream",
     "text": [
      "[6378]\tvalidation_0-rmse:7.75657\n"
     ]
    },
    {
     "name": "stdout",
     "output_type": "stream",
     "text": [
      "[0]\tvalidation_0-rmse:10.05049\n"
     ]
    },
    {
     "name": "stdout",
     "output_type": "stream",
     "text": [
      "[1000]\tvalidation_0-rmse:7.82546\n"
     ]
    },
    {
     "name": "stdout",
     "output_type": "stream",
     "text": [
      "[2000]\tvalidation_0-rmse:7.77331\n"
     ]
    },
    {
     "name": "stdout",
     "output_type": "stream",
     "text": [
      "[3000]\tvalidation_0-rmse:7.76367\n"
     ]
    },
    {
     "name": "stdout",
     "output_type": "stream",
     "text": [
      "[4000]\tvalidation_0-rmse:7.75953\n"
     ]
    },
    {
     "name": "stdout",
     "output_type": "stream",
     "text": [
      "[5000]\tvalidation_0-rmse:7.75732\n"
     ]
    },
    {
     "name": "stdout",
     "output_type": "stream",
     "text": [
      "[5408]\tvalidation_0-rmse:7.75725\n"
     ]
    },
    {
     "name": "stderr",
     "output_type": "stream",
     "text": [
      "\u001b[32m[I 2021-08-22 15:58:46,496]\u001b[0m Trial 5 finished with value: 7.755594219963789 and parameters: {'learning_rate': 0.002209176304404727, 'subsample': 0.5490720203482734, 'colsample_bytree': 0.7141044710172328, 'max_depth': 15, 'lambda': 9.02164782126678, 'alpha': 7.430487224086697, 'min_child_weight': 171.33302762756372}. Best is trial 4 with value: 7.753198149027122.\u001b[0m\n"
     ]
    },
    {
     "name": "stdout",
     "output_type": "stream",
     "text": [
      "[0]\tvalidation_0-rmse:10.05022\n"
     ]
    },
    {
     "name": "stdout",
     "output_type": "stream",
     "text": [
      "[1000]\tvalidation_0-rmse:7.82600\n"
     ]
    },
    {
     "name": "stdout",
     "output_type": "stream",
     "text": [
      "[2000]\tvalidation_0-rmse:7.77705\n"
     ]
    },
    {
     "name": "stdout",
     "output_type": "stream",
     "text": [
      "[3000]\tvalidation_0-rmse:7.76679\n"
     ]
    },
    {
     "name": "stdout",
     "output_type": "stream",
     "text": [
      "[4000]\tvalidation_0-rmse:7.76163\n"
     ]
    },
    {
     "name": "stdout",
     "output_type": "stream",
     "text": [
      "[5000]\tvalidation_0-rmse:7.75808\n"
     ]
    },
    {
     "name": "stdout",
     "output_type": "stream",
     "text": [
      "[6000]\tvalidation_0-rmse:7.75641\n"
     ]
    },
    {
     "name": "stdout",
     "output_type": "stream",
     "text": [
      "[7000]\tvalidation_0-rmse:7.75530\n"
     ]
    },
    {
     "name": "stdout",
     "output_type": "stream",
     "text": [
      "[7203]\tvalidation_0-rmse:7.75528\n"
     ]
    },
    {
     "name": "stdout",
     "output_type": "stream",
     "text": [
      "[0]\tvalidation_0-rmse:10.05024\n"
     ]
    },
    {
     "name": "stdout",
     "output_type": "stream",
     "text": [
      "[1000]\tvalidation_0-rmse:7.82613\n"
     ]
    },
    {
     "name": "stdout",
     "output_type": "stream",
     "text": [
      "[2000]\tvalidation_0-rmse:7.77763\n"
     ]
    },
    {
     "name": "stdout",
     "output_type": "stream",
     "text": [
      "[3000]\tvalidation_0-rmse:7.76770\n"
     ]
    },
    {
     "name": "stdout",
     "output_type": "stream",
     "text": [
      "[4000]\tvalidation_0-rmse:7.76207\n"
     ]
    },
    {
     "name": "stdout",
     "output_type": "stream",
     "text": [
      "[5000]\tvalidation_0-rmse:7.75909\n"
     ]
    },
    {
     "name": "stdout",
     "output_type": "stream",
     "text": [
      "[6000]\tvalidation_0-rmse:7.75747\n"
     ]
    },
    {
     "name": "stdout",
     "output_type": "stream",
     "text": [
      "[7000]\tvalidation_0-rmse:7.75635\n"
     ]
    },
    {
     "name": "stdout",
     "output_type": "stream",
     "text": [
      "[7887]\tvalidation_0-rmse:7.75585\n"
     ]
    },
    {
     "name": "stderr",
     "output_type": "stream",
     "text": [
      "\u001b[32m[I 2021-08-22 16:37:55,546]\u001b[0m Trial 6 finished with value: 7.754472841950368 and parameters: {'learning_rate': 0.0022477846434354578, 'subsample': 0.5842072878738096, 'colsample_bytree': 0.7731451881514582, 'max_depth': 11, 'lambda': 9.732328055287212, 'alpha': 6.706953889606423, 'min_child_weight': 127.93403595169634}. Best is trial 4 with value: 7.753198149027122.\u001b[0m\n"
     ]
    },
    {
     "name": "stdout",
     "output_type": "stream",
     "text": [
      "[0]\tvalidation_0-rmse:10.05363\n"
     ]
    },
    {
     "name": "stdout",
     "output_type": "stream",
     "text": [
      "[1000]\tvalidation_0-rmse:7.96455\n"
     ]
    },
    {
     "name": "stdout",
     "output_type": "stream",
     "text": [
      "[2000]\tvalidation_0-rmse:7.79847\n"
     ]
    },
    {
     "name": "stdout",
     "output_type": "stream",
     "text": [
      "[3000]\tvalidation_0-rmse:7.77756\n"
     ]
    },
    {
     "name": "stdout",
     "output_type": "stream",
     "text": [
      "[4000]\tvalidation_0-rmse:7.76950\n"
     ]
    },
    {
     "name": "stdout",
     "output_type": "stream",
     "text": [
      "[5000]\tvalidation_0-rmse:7.76445\n"
     ]
    },
    {
     "name": "stdout",
     "output_type": "stream",
     "text": [
      "[6000]\tvalidation_0-rmse:7.76109\n"
     ]
    },
    {
     "name": "stdout",
     "output_type": "stream",
     "text": [
      "[7000]\tvalidation_0-rmse:7.75846\n"
     ]
    },
    {
     "name": "stdout",
     "output_type": "stream",
     "text": [
      "[8000]\tvalidation_0-rmse:7.75663\n"
     ]
    },
    {
     "name": "stdout",
     "output_type": "stream",
     "text": [
      "[9000]\tvalidation_0-rmse:7.75555\n"
     ]
    },
    {
     "name": "stdout",
     "output_type": "stream",
     "text": [
      "[9829]\tvalidation_0-rmse:7.75484\n"
     ]
    },
    {
     "name": "stdout",
     "output_type": "stream",
     "text": [
      "[0]\tvalidation_0-rmse:10.05367\n"
     ]
    },
    {
     "name": "stdout",
     "output_type": "stream",
     "text": [
      "[1000]\tvalidation_0-rmse:7.96487\n"
     ]
    },
    {
     "name": "stdout",
     "output_type": "stream",
     "text": [
      "[2000]\tvalidation_0-rmse:7.79855\n"
     ]
    },
    {
     "name": "stdout",
     "output_type": "stream",
     "text": [
      "[3000]\tvalidation_0-rmse:7.77784\n"
     ]
    },
    {
     "name": "stdout",
     "output_type": "stream",
     "text": [
      "[4000]\tvalidation_0-rmse:7.76973\n"
     ]
    },
    {
     "name": "stdout",
     "output_type": "stream",
     "text": [
      "[5000]\tvalidation_0-rmse:7.76484\n"
     ]
    },
    {
     "name": "stdout",
     "output_type": "stream",
     "text": [
      "[6000]\tvalidation_0-rmse:7.76131\n"
     ]
    },
    {
     "name": "stdout",
     "output_type": "stream",
     "text": [
      "[7000]\tvalidation_0-rmse:7.75901\n"
     ]
    },
    {
     "name": "stdout",
     "output_type": "stream",
     "text": [
      "[8000]\tvalidation_0-rmse:7.75746\n"
     ]
    },
    {
     "name": "stdout",
     "output_type": "stream",
     "text": [
      "[9000]\tvalidation_0-rmse:7.75656\n"
     ]
    },
    {
     "name": "stdout",
     "output_type": "stream",
     "text": [
      "[9999]\tvalidation_0-rmse:7.75582\n"
     ]
    },
    {
     "name": "stderr",
     "output_type": "stream",
     "text": [
      "\u001b[32m[I 2021-08-22 17:31:18,404]\u001b[0m Trial 7 finished with value: 7.75470624607062 and parameters: {'learning_rate': 0.0014024651658922538, 'subsample': 0.5360571182581438, 'colsample_bytree': 0.8297852969365358, 'max_depth': 11, 'lambda': 8.391900323894133, 'alpha': 6.913553682439553, 'min_child_weight': 123.3608529923481}. Best is trial 4 with value: 7.753198149027122.\u001b[0m\n"
     ]
    },
    {
     "name": "stdout",
     "output_type": "stream",
     "text": [
      "[0]\tvalidation_0-rmse:10.05537\n"
     ]
    },
    {
     "name": "stdout",
     "output_type": "stream",
     "text": [
      "[1000]\tvalidation_0-rmse:8.18350\n"
     ]
    },
    {
     "name": "stdout",
     "output_type": "stream",
     "text": [
      "[2000]\tvalidation_0-rmse:7.85509\n"
     ]
    },
    {
     "name": "stdout",
     "output_type": "stream",
     "text": [
      "[3000]\tvalidation_0-rmse:7.79639\n"
     ]
    },
    {
     "name": "stdout",
     "output_type": "stream",
     "text": [
      "[4000]\tvalidation_0-rmse:7.78143\n"
     ]
    },
    {
     "name": "stdout",
     "output_type": "stream",
     "text": [
      "[5000]\tvalidation_0-rmse:7.77438\n"
     ]
    },
    {
     "name": "stdout",
     "output_type": "stream",
     "text": [
      "[6000]\tvalidation_0-rmse:7.76964\n"
     ]
    },
    {
     "name": "stdout",
     "output_type": "stream",
     "text": [
      "[7000]\tvalidation_0-rmse:7.76595\n"
     ]
    },
    {
     "name": "stdout",
     "output_type": "stream",
     "text": [
      "[8000]\tvalidation_0-rmse:7.76330\n"
     ]
    },
    {
     "name": "stdout",
     "output_type": "stream",
     "text": [
      "[9000]\tvalidation_0-rmse:7.76109\n"
     ]
    },
    {
     "name": "stdout",
     "output_type": "stream",
     "text": [
      "[9999]\tvalidation_0-rmse:7.75932\n"
     ]
    },
    {
     "name": "stdout",
     "output_type": "stream",
     "text": [
      "[0]\tvalidation_0-rmse:10.05539\n"
     ]
    },
    {
     "name": "stdout",
     "output_type": "stream",
     "text": [
      "[1000]\tvalidation_0-rmse:8.18327\n"
     ]
    },
    {
     "name": "stdout",
     "output_type": "stream",
     "text": [
      "[2000]\tvalidation_0-rmse:7.85519\n"
     ]
    },
    {
     "name": "stdout",
     "output_type": "stream",
     "text": [
      "[3000]\tvalidation_0-rmse:7.79677\n"
     ]
    },
    {
     "name": "stdout",
     "output_type": "stream",
     "text": [
      "[4000]\tvalidation_0-rmse:7.78131\n"
     ]
    },
    {
     "name": "stdout",
     "output_type": "stream",
     "text": [
      "[5000]\tvalidation_0-rmse:7.77408\n"
     ]
    },
    {
     "name": "stdout",
     "output_type": "stream",
     "text": [
      "[6000]\tvalidation_0-rmse:7.76935\n"
     ]
    },
    {
     "name": "stdout",
     "output_type": "stream",
     "text": [
      "[7000]\tvalidation_0-rmse:7.76601\n"
     ]
    },
    {
     "name": "stdout",
     "output_type": "stream",
     "text": [
      "[8000]\tvalidation_0-rmse:7.76347\n"
     ]
    },
    {
     "name": "stdout",
     "output_type": "stream",
     "text": [
      "[9000]\tvalidation_0-rmse:7.76121\n"
     ]
    },
    {
     "name": "stdout",
     "output_type": "stream",
     "text": [
      "[9999]\tvalidation_0-rmse:7.75962\n"
     ]
    },
    {
     "name": "stderr",
     "output_type": "stream",
     "text": [
      "\u001b[32m[I 2021-08-22 18:27:09,749]\u001b[0m Trial 8 finished with value: 7.759187414980873 and parameters: {'learning_rate': 0.0009629597709808566, 'subsample': 0.5353994887631974, 'colsample_bytree': 0.7123842569515274, 'max_depth': 11, 'lambda': 7.132313010016075, 'alpha': 4.072725133944426, 'min_child_weight': 149.23364976552293}. Best is trial 4 with value: 7.753198149027122.\u001b[0m\n"
     ]
    },
    {
     "name": "stdout",
     "output_type": "stream",
     "text": [
      "[0]\tvalidation_0-rmse:10.04893\n"
     ]
    },
    {
     "name": "stdout",
     "output_type": "stream",
     "text": [
      "[1000]\tvalidation_0-rmse:7.80703\n"
     ]
    },
    {
     "name": "stdout",
     "output_type": "stream",
     "text": [
      "[2000]\tvalidation_0-rmse:7.77344\n"
     ]
    },
    {
     "name": "stdout",
     "output_type": "stream",
     "text": [
      "[3000]\tvalidation_0-rmse:7.76460\n"
     ]
    },
    {
     "name": "stdout",
     "output_type": "stream",
     "text": [
      "[4000]\tvalidation_0-rmse:7.76033\n"
     ]
    },
    {
     "name": "stdout",
     "output_type": "stream",
     "text": [
      "[5000]\tvalidation_0-rmse:7.75782\n"
     ]
    },
    {
     "name": "stdout",
     "output_type": "stream",
     "text": [
      "[6000]\tvalidation_0-rmse:7.75654\n"
     ]
    },
    {
     "name": "stdout",
     "output_type": "stream",
     "text": [
      "[6362]\tvalidation_0-rmse:7.75624\n"
     ]
    },
    {
     "name": "stdout",
     "output_type": "stream",
     "text": [
      "[0]\tvalidation_0-rmse:10.04890\n"
     ]
    },
    {
     "name": "stdout",
     "output_type": "stream",
     "text": [
      "[1000]\tvalidation_0-rmse:7.80705\n"
     ]
    },
    {
     "name": "stdout",
     "output_type": "stream",
     "text": [
      "[2000]\tvalidation_0-rmse:7.77299\n"
     ]
    },
    {
     "name": "stdout",
     "output_type": "stream",
     "text": [
      "[3000]\tvalidation_0-rmse:7.76415\n"
     ]
    },
    {
     "name": "stdout",
     "output_type": "stream",
     "text": [
      "[4000]\tvalidation_0-rmse:7.75965\n"
     ]
    },
    {
     "name": "stdout",
     "output_type": "stream",
     "text": [
      "[5000]\tvalidation_0-rmse:7.75693\n"
     ]
    },
    {
     "name": "stdout",
     "output_type": "stream",
     "text": [
      "[6000]\tvalidation_0-rmse:7.75477\n"
     ]
    },
    {
     "name": "stdout",
     "output_type": "stream",
     "text": [
      "[6182]\tvalidation_0-rmse:7.75504\n"
     ]
    },
    {
     "name": "stderr",
     "output_type": "stream",
     "text": [
      "\u001b[32m[I 2021-08-22 18:58:39,722]\u001b[0m Trial 9 finished with value: 7.7544974847152845 and parameters: {'learning_rate': 0.0025788423011414837, 'subsample': 0.6099594415045345, 'colsample_bytree': 0.8758109331066848, 'max_depth': 11, 'lambda': 9.232728512645036, 'alpha': 5.180356676154741, 'min_child_weight': 200.55080324398966}. Best is trial 4 with value: 7.753198149027122.\u001b[0m\n"
     ]
    },
    {
     "name": "stdout",
     "output_type": "stream",
     "text": [
      "[0]\tvalidation_0-rmse:10.05218\n"
     ]
    },
    {
     "name": "stdout",
     "output_type": "stream",
     "text": [
      "[1000]\tvalidation_0-rmse:7.87742\n"
     ]
    },
    {
     "name": "stdout",
     "output_type": "stream",
     "text": [
      "[2000]\tvalidation_0-rmse:7.78273\n"
     ]
    },
    {
     "name": "stdout",
     "output_type": "stream",
     "text": [
      "[3000]\tvalidation_0-rmse:7.77008\n"
     ]
    },
    {
     "name": "stdout",
     "output_type": "stream",
     "text": [
      "[4000]\tvalidation_0-rmse:7.76361\n"
     ]
    },
    {
     "name": "stdout",
     "output_type": "stream",
     "text": [
      "[5000]\tvalidation_0-rmse:7.75993\n"
     ]
    },
    {
     "name": "stdout",
     "output_type": "stream",
     "text": [
      "[6000]\tvalidation_0-rmse:7.75770\n"
     ]
    },
    {
     "name": "stdout",
     "output_type": "stream",
     "text": [
      "[7000]\tvalidation_0-rmse:7.75640\n"
     ]
    },
    {
     "name": "stdout",
     "output_type": "stream",
     "text": [
      "[8000]\tvalidation_0-rmse:7.75577\n"
     ]
    },
    {
     "name": "stdout",
     "output_type": "stream",
     "text": [
      "[8676]\tvalidation_0-rmse:7.75544\n"
     ]
    },
    {
     "name": "stdout",
     "output_type": "stream",
     "text": [
      "[0]\tvalidation_0-rmse:10.05220\n"
     ]
    },
    {
     "name": "stdout",
     "output_type": "stream",
     "text": [
      "[1000]\tvalidation_0-rmse:7.87707\n"
     ]
    },
    {
     "name": "stdout",
     "output_type": "stream",
     "text": [
      "[2000]\tvalidation_0-rmse:7.78181\n"
     ]
    },
    {
     "name": "stdout",
     "output_type": "stream",
     "text": [
      "[3000]\tvalidation_0-rmse:7.76900\n"
     ]
    },
    {
     "name": "stdout",
     "output_type": "stream",
     "text": [
      "[4000]\tvalidation_0-rmse:7.76279\n"
     ]
    },
    {
     "name": "stdout",
     "output_type": "stream",
     "text": [
      "[5000]\tvalidation_0-rmse:7.75845\n"
     ]
    },
    {
     "name": "stdout",
     "output_type": "stream",
     "text": [
      "[6000]\tvalidation_0-rmse:7.75589\n"
     ]
    },
    {
     "name": "stdout",
     "output_type": "stream",
     "text": [
      "[6998]\tvalidation_0-rmse:7.75455\n"
     ]
    },
    {
     "name": "stderr",
     "output_type": "stream",
     "text": [
      "\u001b[32m[I 2021-08-22 19:49:23,680]\u001b[0m Trial 10 finished with value: 7.754114367996892 and parameters: {'learning_rate': 0.0017611202036189068, 'subsample': 0.6192014522206959, 'colsample_bytree': 0.9017795656542079, 'max_depth': 13, 'lambda': 10.33480455799122, 'alpha': 5.644892485497893, 'min_child_weight': 215.39670069031698}. Best is trial 4 with value: 7.753198149027122.\u001b[0m\n"
     ]
    },
    {
     "name": "stdout",
     "output_type": "stream",
     "text": [
      "[0]\tvalidation_0-rmse:10.05219\n"
     ]
    },
    {
     "name": "stdout",
     "output_type": "stream",
     "text": [
      "[1000]\tvalidation_0-rmse:7.87856\n"
     ]
    },
    {
     "name": "stdout",
     "output_type": "stream",
     "text": [
      "[2000]\tvalidation_0-rmse:7.78132\n"
     ]
    }
   ],
   "source": [
    "study = optuna.create_study(direction='minimize')\n",
    "study.optimize(objective,n_trials= 30)\n",
    "print('Number of finished trials:', len(study.trials))\n",
    "print('Best trial:', study.best_trial.params)"
   ]
  },
  {
   "cell_type": "code",
   "execution_count": null,
   "id": "eda883c4",
   "metadata": {
    "execution": {
     "iopub.status.busy": "2021-08-20T14:16:18.414433Z",
     "iopub.status.idle": "2021-08-20T14:16:18.414842Z"
    },
    "papermill": {
     "duration": null,
     "end_time": null,
     "exception": null,
     "start_time": null,
     "status": "pending"
    },
    "tags": []
   },
   "outputs": [],
   "source": [
    "study.best_params"
   ]
  },
  {
   "cell_type": "markdown",
   "id": "bccdb1f5",
   "metadata": {
    "papermill": {
     "duration": null,
     "end_time": null,
     "exception": null,
     "start_time": null,
     "status": "pending"
    },
    "tags": []
   },
   "source": [
    "# Log\n",
    "\n",
    "7.76776099796762 random noise ver3\n",
    "\n",
    "7.767604136668598 row-wise noise ver4\n",
    "\n",
    "7.753515220316349 no noise ver5\n",
    "\n",
    "7.7532905240188965 no noise ver6 (narrow space)\n",
    "\n",
    "kfold row-wise noise ver2\n",
    "7.847220305678095"
   ]
  }
 ],
 "metadata": {
  "kernelspec": {
   "display_name": "Python 3",
   "language": "python",
   "name": "python3"
  },
  "language_info": {
   "codemirror_mode": {
    "name": "ipython",
    "version": 3
   },
   "file_extension": ".py",
   "mimetype": "text/x-python",
   "name": "python",
   "nbconvert_exporter": "python",
   "pygments_lexer": "ipython3",
   "version": "3.6.4"
  },
  "papermill": {
   "default_parameters": {},
   "duration": null,
   "end_time": null,
   "environment_variables": {},
   "exception": null,
   "input_path": "__notebook__.ipynb",
   "output_path": "__notebook__.ipynb",
   "parameters": {},
   "start_time": "2021-08-22T10:57:13.138009",
   "version": "2.3.3"
  }
 },
 "nbformat": 4,
 "nbformat_minor": 5
}