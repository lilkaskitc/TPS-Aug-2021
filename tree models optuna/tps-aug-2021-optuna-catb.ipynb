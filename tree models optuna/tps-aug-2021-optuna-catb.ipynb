{
 "cells": [
  {
   "cell_type": "code",
   "execution_count": 1,
   "id": "1861b618",
   "metadata": {
    "_cell_guid": "b1076dfc-b9ad-4769-8c92-a6c4dae69d19",
    "_uuid": "8f2839f25d086af736a60e9eeb907d3b93b6e0e5",
    "execution": {
     "iopub.execute_input": "2021-08-25T02:41:03.172991Z",
     "iopub.status.busy": "2021-08-25T02:41:03.167510Z",
     "iopub.status.idle": "2021-08-25T02:41:04.647271Z",
     "shell.execute_reply": "2021-08-25T02:41:04.646377Z",
     "shell.execute_reply.started": "2021-08-18T15:48:03.009272Z"
    },
    "papermill": {
     "duration": 1.5031,
     "end_time": "2021-08-25T02:41:04.647448",
     "exception": false,
     "start_time": "2021-08-25T02:41:03.144348",
     "status": "completed"
    },
    "tags": []
   },
   "outputs": [],
   "source": [
    "# Familiar imports\n",
    "import numpy as np\n",
    "import pandas as pd\n",
    "import random\n",
    "import os\n",
    "import time\n",
    "from pathlib import Path\n",
    "\n",
    "from sklearn.preprocessing import StandardScaler\n",
    "from sklearn.model_selection import KFold, train_test_split\n",
    "from sklearn.metrics import mean_squared_error\n",
    "\n",
    "#import lightgbm as lgb\n",
    "#import xgboost as xgb\n",
    "import catboost as ctb\n",
    "\n",
    "import warnings\n",
    "warnings.simplefilter('ignore')"
   ]
  },
  {
   "cell_type": "markdown",
   "id": "5f7795b1",
   "metadata": {
    "papermill": {
     "duration": 0.012767,
     "end_time": "2021-08-25T02:41:04.673923",
     "exception": false,
     "start_time": "2021-08-25T02:41:04.661156",
     "status": "completed"
    },
    "tags": []
   },
   "source": [
    "# Parameters"
   ]
  },
  {
   "cell_type": "code",
   "execution_count": 2,
   "id": "d3474d92",
   "metadata": {
    "execution": {
     "iopub.execute_input": "2021-08-25T02:41:04.706516Z",
     "iopub.status.busy": "2021-08-25T02:41:04.705863Z",
     "iopub.status.idle": "2021-08-25T02:41:04.707949Z",
     "shell.execute_reply": "2021-08-25T02:41:04.708463Z",
     "shell.execute_reply.started": "2021-08-18T15:48:04.465557Z"
    },
    "papermill": {
     "duration": 0.021749,
     "end_time": "2021-08-25T02:41:04.708633",
     "exception": false,
     "start_time": "2021-08-25T02:41:04.686884",
     "status": "completed"
    },
    "tags": []
   },
   "outputs": [],
   "source": [
    "target = 'loss'\n",
    "\n",
    "DEBUG = False\n",
    "\n",
    "if DEBUG:\n",
    "    N_ESTIMATORS = 1\n",
    "    N_SPLITS = 2\n",
    "    SEED = 17\n",
    "    CVSEED = 17\n",
    "    EARLY_STOPPING_ROUNDS = 1\n",
    "    VERBOSE = 100\n",
    "    #N_ITERS = 2\n",
    "else:\n",
    "    N_SPLITS = 10\n",
    "    N_ESTIMATORS = 10000\n",
    "    EARLY_STOPPING_ROUNDS = 200\n",
    "    VERBOSE = 1000\n",
    "    SEED = 17\n",
    "    CVSEED = 17\n",
    "    #N_ITERS = 10"
   ]
  },
  {
   "cell_type": "code",
   "execution_count": 3,
   "id": "d480a2d8",
   "metadata": {
    "execution": {
     "iopub.execute_input": "2021-08-25T02:41:04.738317Z",
     "iopub.status.busy": "2021-08-25T02:41:04.737617Z",
     "iopub.status.idle": "2021-08-25T02:41:04.742178Z",
     "shell.execute_reply": "2021-08-25T02:41:04.742658Z",
     "shell.execute_reply.started": "2021-08-18T15:48:04.478758Z"
    },
    "papermill": {
     "duration": 0.021283,
     "end_time": "2021-08-25T02:41:04.742923",
     "exception": false,
     "start_time": "2021-08-25T02:41:04.721640",
     "status": "completed"
    },
    "tags": []
   },
   "outputs": [],
   "source": [
    "def set_seed(seed=17):\n",
    "    random.seed(seed)\n",
    "    os.environ['PYTHONHASHSEED'] = str(seed)\n",
    "    np.random.seed(seed)\n",
    "    \n",
    "set_seed(SEED)"
   ]
  },
  {
   "cell_type": "markdown",
   "id": "85c0b1e6",
   "metadata": {
    "papermill": {
     "duration": 0.012579,
     "end_time": "2021-08-25T02:41:04.768416",
     "exception": false,
     "start_time": "2021-08-25T02:41:04.755837",
     "status": "completed"
    },
    "tags": []
   },
   "source": [
    "# Load data"
   ]
  },
  {
   "cell_type": "code",
   "execution_count": 4,
   "id": "7a7b7d85",
   "metadata": {
    "execution": {
     "iopub.execute_input": "2021-08-25T02:41:04.798192Z",
     "iopub.status.busy": "2021-08-25T02:41:04.797536Z",
     "iopub.status.idle": "2021-08-25T02:41:16.634982Z",
     "shell.execute_reply": "2021-08-25T02:41:16.635520Z",
     "shell.execute_reply.started": "2021-08-18T15:48:04.491008Z"
    },
    "papermill": {
     "duration": 11.854185,
     "end_time": "2021-08-25T02:41:16.635795",
     "exception": false,
     "start_time": "2021-08-25T02:41:04.781610",
     "status": "completed"
    },
    "tags": []
   },
   "outputs": [],
   "source": [
    "INPUT = Path(\"../input/tabular-playground-series-aug-2021\")\n",
    "\n",
    "train = pd.read_csv(INPUT / \"train.csv\")\n",
    "test = pd.read_csv(INPUT / \"test.csv\")\n",
    "submission = pd.read_csv(INPUT / \"sample_submission.csv\")"
   ]
  },
  {
   "cell_type": "markdown",
   "id": "557bd6aa",
   "metadata": {
    "papermill": {
     "duration": 0.012862,
     "end_time": "2021-08-25T02:41:16.662234",
     "exception": false,
     "start_time": "2021-08-25T02:41:16.649372",
     "status": "completed"
    },
    "tags": []
   },
   "source": [
    "# Preprocessing"
   ]
  },
  {
   "cell_type": "code",
   "execution_count": 5,
   "id": "98912f53",
   "metadata": {
    "execution": {
     "iopub.execute_input": "2021-08-25T02:41:16.692350Z",
     "iopub.status.busy": "2021-08-25T02:41:16.691634Z",
     "iopub.status.idle": "2021-08-25T02:41:29.615418Z",
     "shell.execute_reply": "2021-08-25T02:41:29.614241Z",
     "shell.execute_reply.started": "2021-08-18T15:48:14.595557Z"
    },
    "papermill": {
     "duration": 12.940051,
     "end_time": "2021-08-25T02:41:29.615588",
     "exception": false,
     "start_time": "2021-08-25T02:41:16.675537",
     "status": "completed"
    },
    "tags": []
   },
   "outputs": [],
   "source": [
    "scale_features = [col for col in test.columns if 'f' in col]\n",
    "\n",
    "ss = StandardScaler()\n",
    "train[scale_features] = ss.fit_transform(train[scale_features])\n",
    "test[scale_features] = ss.transform(test[scale_features])"
   ]
  },
  {
   "cell_type": "code",
   "execution_count": 6,
   "id": "a75b27a8",
   "metadata": {
    "execution": {
     "iopub.execute_input": "2021-08-25T02:41:29.651278Z",
     "iopub.status.busy": "2021-08-25T02:41:29.650235Z",
     "iopub.status.idle": "2021-08-25T02:41:29.653523Z",
     "shell.execute_reply": "2021-08-25T02:41:29.652850Z",
     "shell.execute_reply.started": "2021-08-18T15:48:25.304369Z"
    },
    "papermill": {
     "duration": 0.024828,
     "end_time": "2021-08-25T02:41:29.653665",
     "exception": false,
     "start_time": "2021-08-25T02:41:29.628837",
     "status": "completed"
    },
    "tags": []
   },
   "outputs": [],
   "source": [
    "# Swap noise\n",
    "\n",
    "# Random\n",
    "def apply_noise_rn(df, p=.75):\n",
    "    should_not_swap = np.random.binomial(1, p, df.shape)\n",
    "    corrupted_df = df.where(should_not_swap == 1, np.random.permutation(df))\n",
    "    return corrupted_df\n",
    "\n",
    "# Row-wise\n",
    "def apply_noise_row(df, p=.75):\n",
    "    should_not_swap = np.zeros(df.shape)\n",
    "    for i in range(df.shape[0]):\n",
    "        for j in np.random.choice(df.shape[1],int(p*df.shape[1]),replace=False):\n",
    "            should_not_swap[i,j]=1 \n",
    "    corrupted_df = df.where(should_not_swap == 1, np.random.permutation(df))\n",
    "    return corrupted_df"
   ]
  },
  {
   "cell_type": "markdown",
   "id": "dc5f02c5",
   "metadata": {
    "papermill": {
     "duration": 0.012811,
     "end_time": "2021-08-25T02:41:29.679886",
     "exception": false,
     "start_time": "2021-08-25T02:41:29.667075",
     "status": "completed"
    },
    "tags": []
   },
   "source": [
    "# Pseudo Label"
   ]
  },
  {
   "cell_type": "code",
   "execution_count": 7,
   "id": "be388298",
   "metadata": {
    "execution": {
     "iopub.execute_input": "2021-08-25T02:41:29.712662Z",
     "iopub.status.busy": "2021-08-25T02:41:29.711915Z",
     "iopub.status.idle": "2021-08-25T02:41:30.412106Z",
     "shell.execute_reply": "2021-08-25T02:41:30.411376Z",
     "shell.execute_reply.started": "2021-08-18T15:48:25.317809Z"
    },
    "papermill": {
     "duration": 0.719071,
     "end_time": "2021-08-25T02:41:30.412252",
     "exception": false,
     "start_time": "2021-08-25T02:41:29.693181",
     "status": "completed"
    },
    "tags": []
   },
   "outputs": [],
   "source": [
    "pseudo = pd.read_csv(\"../input/tps-aug-2021-lgbm-xgb-catboost/submission.csv\")[target]\n",
    "test_pseudo = pd.concat([test, pseudo], axis=1)\n",
    "all_pseudo = pd.concat([train, test_pseudo]).reset_index(drop=True)"
   ]
  },
  {
   "cell_type": "markdown",
   "id": "ff71b42c",
   "metadata": {
    "papermill": {
     "duration": 0.013589,
     "end_time": "2021-08-25T02:41:30.440048",
     "exception": false,
     "start_time": "2021-08-25T02:41:30.426459",
     "status": "completed"
    },
    "tags": []
   },
   "source": [
    "# Optuna"
   ]
  },
  {
   "cell_type": "code",
   "execution_count": 8,
   "id": "e7e11a22",
   "metadata": {
    "execution": {
     "iopub.execute_input": "2021-08-25T02:41:30.472626Z",
     "iopub.status.busy": "2021-08-25T02:41:30.471938Z",
     "iopub.status.idle": "2021-08-25T02:41:40.881496Z",
     "shell.execute_reply": "2021-08-25T02:41:40.880871Z",
     "shell.execute_reply.started": "2021-08-18T15:48:26.077283Z"
    },
    "papermill": {
     "duration": 10.428002,
     "end_time": "2021-08-25T02:41:40.881670",
     "exception": false,
     "start_time": "2021-08-25T02:41:30.453668",
     "status": "completed"
    },
    "tags": []
   },
   "outputs": [
    {
     "name": "stdout",
     "output_type": "stream",
     "text": [
      "\u001b[33mWARNING: Running pip as root will break packages and permissions. You should install packages reliably by using venv: https://pip.pypa.io/warnings/venv\u001b[0m\r\n"
     ]
    }
   ],
   "source": [
    "# Optuna for parameter search\n",
    "!pip install -q optuna\n",
    "\n",
    "import optuna\n",
    "import pickle"
   ]
  },
  {
   "cell_type": "code",
   "execution_count": 9,
   "id": "4ec2a98a",
   "metadata": {
    "execution": {
     "iopub.execute_input": "2021-08-25T02:41:40.930642Z",
     "iopub.status.busy": "2021-08-25T02:41:40.928682Z",
     "iopub.status.idle": "2021-08-25T02:41:41.481782Z",
     "shell.execute_reply": "2021-08-25T02:41:41.481056Z",
     "shell.execute_reply.started": "2021-08-18T15:48:37.748925Z"
    },
    "papermill": {
     "duration": 0.585913,
     "end_time": "2021-08-25T02:41:41.481940",
     "exception": false,
     "start_time": "2021-08-25T02:41:40.896027",
     "status": "completed"
    },
    "tags": []
   },
   "outputs": [],
   "source": [
    "# for the fixed learning rate, use the opt n iterations and tune the tree hyperparameters\n",
    "def objective(trial, X=all_pseudo[scale_features], y=all_pseudo[target]):\n",
    "  \"\"\"\n",
    "  \"\"\"\n",
    "  param_space = {\n",
    "                  'bootstrap_type': trial.suggest_categorical('bootstrap_type', ['Bayesian', 'Bernoulli', 'MVS']),\n",
    "            'loss_function': 'RMSE',\n",
    "            'eval_metric': 'RMSE',\n",
    "          #'task_type': 'GPU',\n",
    "          'max_depth':trial.suggest_int('max_depth', 2, 16),\n",
    "           'learning_rate':trial.suggest_uniform('learning_rate', 1e-3, 1e-2),\n",
    "          'n_estimators':N_ESTIMATORS,\n",
    "        'max_bin':trial.suggest_int('max_bin', 150, 450),\n",
    "             'min_data_in_leaf':trial.suggest_int('min_data_in_leaf', 20, 100),\n",
    "         'reg_lambda':trial.suggest_uniform('reg_lambda', 0.001, 1),\n",
    "            'subsample': trial.suggest_uniform('subsample', 0.5, 1.0)\n",
    "                 }\n",
    "            \n",
    "\n",
    "  seed_list=[SEED, SEED+1]\n",
    "  #kf = KFold(n_splits=N_SPLITS, shuffle=True, random_state=CVSEED)\n",
    "  ctb_oof = np.zeros(train.shape[0])\n",
    "  #lgb_pred = np.zeros(test.shape[0])\n",
    "  X_tr, X_va, y_tr, y_va = train_test_split(X,y,test_size=.2,random_state=CVSEED)\n",
    "  trn_idx = X_tr.index\n",
    "  val_idx = X_va.index\n",
    "  \n",
    "  \n",
    "  #for (trn_idx, val_idx) in enumerate(kf.split(X, y)):\n",
    "  #print(f\"===== fold {fold} =====\")\n",
    "  oof_idx = np.array([idx for idx in val_idx if idx < train.shape[0]])\n",
    "  preds_idx = np.array([idx for idx in val_idx if idx >= train.shape[0]])\n",
    "\n",
    "  X_train, y_train = all_pseudo[scale_features].iloc[trn_idx], all_pseudo[target].iloc[trn_idx]\n",
    "  #X_train = apply_noise_rn(X_train)\n",
    "\n",
    "  X_valid, y_valid = all_pseudo[scale_features].iloc[oof_idx], all_pseudo[target].iloc[oof_idx]\n",
    "  #X_test = all_pseudo[scale_features].iloc[preds_idx]\n",
    "\n",
    "  #start = time.time()\n",
    "  for inseed in seed_list:\n",
    "    param_space['random_seed'] = inseed\n",
    "\n",
    "    model =  ctb.CatBoostRegressor(**param_space)\n",
    "    model.fit(\n",
    "        X_train, \n",
    "        y_train,\n",
    "        eval_set=[(X_valid, y_valid)],\n",
    "        use_best_model=True,\n",
    "        early_stopping_rounds=EARLY_STOPPING_ROUNDS,\n",
    "        verbose=VERBOSE,\n",
    "    )\n",
    "\n",
    "\n",
    "    ctb_oof[oof_idx] += model.predict(X_valid) / len(seed_list)\n",
    "    #lgb_pred[preds_idx-train.shape[0]] += model.predict(X_test) / len(seed_list)\n",
    "\n",
    "  #elapsed = time.time() - start\n",
    "  rmse = mean_squared_error(y_valid, ctb_oof[oof_idx], squared=False)\n",
    "  #print(f\"fold {fold} - lgb rmse: {rmse:.6f}, elapsed time: {elapsed:.2f}sec\\n\")            \n",
    "  \n",
    "  #print(f\"oof lgb_rmse = {mean_squared_error(train[target], lgb_oof, squared=False)}\")\n",
    "\n",
    "  \n",
    "  return rmse"
   ]
  },
  {
   "cell_type": "code",
   "execution_count": 10,
   "id": "56752168",
   "metadata": {
    "execution": {
     "iopub.execute_input": "2021-08-25T02:41:41.515124Z",
     "iopub.status.busy": "2021-08-25T02:41:41.514391Z",
     "iopub.status.idle": "2021-08-25T04:51:45.422078Z",
     "shell.execute_reply": "2021-08-25T04:51:45.419164Z",
     "shell.execute_reply.started": "2021-08-18T15:48:38.154322Z"
    },
    "papermill": {
     "duration": 7803.927114,
     "end_time": "2021-08-25T04:51:45.422473",
     "exception": true,
     "start_time": "2021-08-25T02:41:41.495359",
     "status": "failed"
    },
    "tags": []
   },
   "outputs": [
    {
     "name": "stderr",
     "output_type": "stream",
     "text": [
      "\u001b[32m[I 2021-08-25 02:41:41,512]\u001b[0m A new study created in memory with name: no-name-c7b6442d-e291-4abf-9a1c-70b129221006\u001b[0m\n"
     ]
    },
    {
     "name": "stdout",
     "output_type": "stream",
     "text": [
      "0:\tlearn: 6.3404063\ttest: 7.8586497\tbest: 7.8586497 (0)\ttotal: 230ms\tremaining: 38m 19s\n",
      "1000:\tlearn: 6.2534723\ttest: 7.8080086\tbest: 7.8080086 (1000)\ttotal: 2m 32s\tremaining: 22m 46s\n",
      "2000:\tlearn: 6.2104190\ttest: 7.7924010\tbest: 7.7924010 (2000)\ttotal: 5m 2s\tremaining: 20m 10s\n",
      "3000:\tlearn: 6.1752301\ttest: 7.7831036\tbest: 7.7831036 (3000)\ttotal: 7m 28s\tremaining: 17m 26s\n",
      "4000:\tlearn: 6.1402068\ttest: 7.7767378\tbest: 7.7767378 (4000)\ttotal: 9m 47s\tremaining: 14m 41s\n",
      "5000:\tlearn: 6.1062982\ttest: 7.7722918\tbest: 7.7722918 (5000)\ttotal: 12m 7s\tremaining: 12m 6s\n",
      "6000:\tlearn: 6.0740634\ttest: 7.7691672\tbest: 7.7691604 (5985)\ttotal: 14m 25s\tremaining: 9m 36s\n",
      "7000:\tlearn: 6.0425298\ttest: 7.7669103\tbest: 7.7669103 (7000)\ttotal: 16m 46s\tremaining: 7m 10s\n",
      "8000:\tlearn: 6.0117264\ttest: 7.7651463\tbest: 7.7651423 (7996)\ttotal: 19m 7s\tremaining: 4m 46s\n",
      "9000:\tlearn: 5.9813624\ttest: 7.7635592\tbest: 7.7635508 (8988)\ttotal: 21m 27s\tremaining: 2m 22s\n",
      "9999:\tlearn: 5.9511586\ttest: 7.7620586\tbest: 7.7620586 (9999)\ttotal: 23m 49s\tremaining: 0us\n",
      "\n",
      "bestTest = 7.762058552\n",
      "bestIteration = 9999\n",
      "\n",
      "0:\tlearn: 6.3404249\ttest: 7.8586518\tbest: 7.8586518 (0)\ttotal: 137ms\tremaining: 22m 49s\n",
      "1000:\tlearn: 6.2534723\ttest: 7.8080529\tbest: 7.8080529 (1000)\ttotal: 2m 32s\tremaining: 22m 51s\n",
      "2000:\tlearn: 6.2103912\ttest: 7.7922163\tbest: 7.7922163 (2000)\ttotal: 5m 4s\tremaining: 20m 15s\n",
      "3000:\tlearn: 6.1749996\ttest: 7.7828731\tbest: 7.7828731 (3000)\ttotal: 7m 29s\tremaining: 17m 28s\n",
      "4000:\tlearn: 6.1401418\ttest: 7.7767928\tbest: 7.7767928 (4000)\ttotal: 9m 48s\tremaining: 14m 42s\n",
      "5000:\tlearn: 6.1062359\ttest: 7.7724882\tbest: 7.7724882 (5000)\ttotal: 12m 9s\tremaining: 12m 8s\n",
      "6000:\tlearn: 6.0740456\ttest: 7.7696521\tbest: 7.7696521 (6000)\ttotal: 14m 29s\tremaining: 9m 39s\n",
      "7000:\tlearn: 6.0427267\ttest: 7.7673118\tbest: 7.7673118 (7000)\ttotal: 16m 48s\tremaining: 7m 12s\n",
      "8000:\tlearn: 6.0119257\ttest: 7.7652798\tbest: 7.7652784 (7999)\ttotal: 19m 9s\tremaining: 4m 47s\n",
      "9000:\tlearn: 5.9816760\ttest: 7.7636188\tbest: 7.7636188 (9000)\ttotal: 21m 30s\tremaining: 2m 23s\n",
      "9999:\tlearn: 5.9514586\ttest: 7.7621925\tbest: 7.7621858 (9998)\ttotal: 23m 50s\tremaining: 0us\n",
      "\n",
      "bestTest = 7.762185757\n",
      "bestIteration = 9998\n",
      "\n",
      "Shrink model to first 9999 iterations.\n"
     ]
    },
    {
     "name": "stderr",
     "output_type": "stream",
     "text": [
      "\u001b[32m[I 2021-08-25 03:29:33,074]\u001b[0m Trial 0 finished with value: 7.761804289405876 and parameters: {'bootstrap_type': 'MVS', 'max_depth': 8, 'learning_rate': 0.004513601852878248, 'max_bin': 268, 'min_data_in_leaf': 33, 'reg_lambda': 0.7642834462924214, 'subsample': 0.7719972787053753}. Best is trial 0 with value: 7.761804289405876.\u001b[0m\n"
     ]
    },
    {
     "name": "stdout",
     "output_type": "stream",
     "text": [
      "0:\tlearn: 6.3401227\ttest: 7.8584480\tbest: 7.8584480 (0)\ttotal: 150ms\tremaining: 25m 4s\n",
      "1000:\tlearn: 6.2077778\ttest: 7.7915684\tbest: 7.7915684 (1000)\ttotal: 2m 27s\tremaining: 22m 8s\n",
      "2000:\tlearn: 6.1351313\ttest: 7.7761166\tbest: 7.7761166 (2000)\ttotal: 4m 45s\tremaining: 19m 2s\n",
      "3000:\tlearn: 6.0680065\ttest: 7.7687796\tbest: 7.7687552 (2997)\ttotal: 7m 2s\tremaining: 16m 24s\n",
      "4000:\tlearn: 6.0045590\ttest: 7.7645673\tbest: 7.7645577 (3999)\ttotal: 9m 19s\tremaining: 13m 59s\n",
      "5000:\tlearn: 5.9425355\ttest: 7.7618337\tbest: 7.7617977 (4988)\ttotal: 11m 38s\tremaining: 11m 37s\n",
      "6000:\tlearn: 5.8814832\ttest: 7.7594862\tbest: 7.7594809 (5987)\ttotal: 13m 57s\tremaining: 9m 17s\n",
      "7000:\tlearn: 5.8218613\ttest: 7.7577764\tbest: 7.7577345 (6984)\ttotal: 16m 16s\tremaining: 6m 58s\n",
      "8000:\tlearn: 5.7634430\ttest: 7.7564454\tbest: 7.7564449 (7995)\ttotal: 18m 36s\tremaining: 4m 38s\n",
      "9000:\tlearn: 5.7060210\ttest: 7.7553337\tbest: 7.7553157 (8941)\ttotal: 20m 55s\tremaining: 2m 19s\n",
      "9999:\tlearn: 5.6496757\ttest: 7.7543421\tbest: 7.7543421 (9999)\ttotal: 23m 15s\tremaining: 0us\n",
      "\n",
      "bestTest = 7.754342137\n",
      "bestIteration = 9999\n",
      "\n",
      "0:\tlearn: 6.3401534\ttest: 7.8584568\tbest: 7.8584568 (0)\ttotal: 141ms\tremaining: 23m 30s\n",
      "1000:\tlearn: 6.2078457\ttest: 7.7916932\tbest: 7.7916932 (1000)\ttotal: 2m 28s\tremaining: 22m 13s\n",
      "2000:\tlearn: 6.1357873\ttest: 7.7763505\tbest: 7.7763505 (2000)\ttotal: 4m 46s\tremaining: 19m 6s\n",
      "3000:\tlearn: 6.0686788\ttest: 7.7693406\tbest: 7.7693406 (3000)\ttotal: 7m 3s\tremaining: 16m 27s\n",
      "4000:\tlearn: 6.0058385\ttest: 7.7650812\tbest: 7.7650805 (3999)\ttotal: 9m 21s\tremaining: 14m 1s\n",
      "5000:\tlearn: 5.9445054\ttest: 7.7621676\tbest: 7.7621676 (5000)\ttotal: 11m 40s\tremaining: 11m 40s\n",
      "6000:\tlearn: 5.8840017\ttest: 7.7598528\tbest: 7.7598480 (5994)\ttotal: 14m\tremaining: 9m 19s\n",
      "7000:\tlearn: 5.8238897\ttest: 7.7579748\tbest: 7.7579521 (6997)\ttotal: 16m 21s\tremaining: 7m\n",
      "8000:\tlearn: 5.7653250\ttest: 7.7563328\tbest: 7.7563152 (7975)\ttotal: 18m 42s\tremaining: 4m 40s\n",
      "9000:\tlearn: 5.7083485\ttest: 7.7550636\tbest: 7.7550623 (8995)\ttotal: 21m 3s\tremaining: 2m 20s\n",
      "9999:\tlearn: 5.6512684\ttest: 7.7538527\tbest: 7.7538527 (9999)\ttotal: 23m 24s\tremaining: 0us\n",
      "\n",
      "bestTest = 7.753852735\n",
      "bestIteration = 9999\n",
      "\n"
     ]
    },
    {
     "name": "stderr",
     "output_type": "stream",
     "text": [
      "\u001b[32m[I 2021-08-25 04:16:24,919]\u001b[0m Trial 1 finished with value: 7.753055265479657 and parameters: {'bootstrap_type': 'MVS', 'max_depth': 8, 'learning_rate': 0.009386202456558995, 'max_bin': 262, 'min_data_in_leaf': 36, 'reg_lambda': 0.8991571580559535, 'subsample': 0.7439917108329501}. Best is trial 1 with value: 7.753055265479657.\u001b[0m\n"
     ]
    },
    {
     "name": "stdout",
     "output_type": "stream",
     "text": [
      "0:\tlearn: 6.3401979\ttest: 7.8585049\tbest: 7.8585049 (0)\ttotal: 128ms\tremaining: 21m 19s\n",
      "1000:\tlearn: 6.2140804\ttest: 7.7948852\tbest: 7.7948852 (1000)\ttotal: 1m 59s\tremaining: 17m 54s\n",
      "2000:\tlearn: 6.1442388\ttest: 7.7797750\tbest: 7.7797750 (2000)\ttotal: 3m 51s\tremaining: 15m 25s\n",
      "3000:\tlearn: 6.0772193\ttest: 7.7721570\tbest: 7.7721533 (2995)\ttotal: 5m 41s\tremaining: 13m 16s\n",
      "4000:\tlearn: 6.0139655\ttest: 7.7674236\tbest: 7.7674220 (3999)\ttotal: 7m 32s\tremaining: 11m 17s\n",
      "5000:\tlearn: 5.9527248\ttest: 7.7643852\tbest: 7.7643807 (4990)\ttotal: 9m 23s\tremaining: 9m 23s\n",
      "6000:\tlearn: 5.8932580\ttest: 7.7618890\tbest: 7.7618646 (5994)\ttotal: 11m 15s\tremaining: 7m 30s\n",
      "7000:\tlearn: 5.8345917\ttest: 7.7603189\tbest: 7.7603028 (6993)\ttotal: 13m 8s\tremaining: 5m 37s\n",
      "8000:\tlearn: 5.7769191\ttest: 7.7588450\tbest: 7.7588395 (7996)\ttotal: 15m 2s\tremaining: 3m 45s\n",
      "9000:\tlearn: 5.7202940\ttest: 7.7578485\tbest: 7.7578091 (8980)\ttotal: 16m 55s\tremaining: 1m 52s\n",
      "9999:\tlearn: 5.6645210\ttest: 7.7569549\tbest: 7.7568786 (9918)\ttotal: 18m 48s\tremaining: 0us\n",
      "\n",
      "bestTest = 7.756878574\n",
      "bestIteration = 9918\n",
      "\n",
      "Shrink model to first 9919 iterations.\n",
      "0:\tlearn: 6.3402113\ttest: 7.8585249\tbest: 7.8585249 (0)\ttotal: 122ms\tremaining: 20m 16s\n",
      "1000:\tlearn: 6.2134427\ttest: 7.7950681\tbest: 7.7950681 (1000)\ttotal: 1m 59s\tremaining: 17m 50s\n",
      "2000:\tlearn: 6.1434338\ttest: 7.7793107\tbest: 7.7793107 (2000)\ttotal: 3m 50s\tremaining: 15m 23s\n",
      "3000:\tlearn: 6.0759556\ttest: 7.7720724\tbest: 7.7720722 (2998)\ttotal: 5m 41s\tremaining: 13m 15s\n",
      "4000:\tlearn: 6.0123780\ttest: 7.7680562\tbest: 7.7680562 (4000)\ttotal: 7m 31s\tremaining: 11m 17s\n",
      "5000:\tlearn: 5.9512786\ttest: 7.7651663\tbest: 7.7651613 (4999)\ttotal: 9m 23s\tremaining: 9m 23s\n",
      "6000:\tlearn: 5.8915740\ttest: 7.7626175\tbest: 7.7625955 (5988)\ttotal: 11m 15s\tremaining: 7m 30s\n",
      "7000:\tlearn: 5.8331187\ttest: 7.7606412\tbest: 7.7606080 (6970)\ttotal: 13m 7s\tremaining: 5m 37s\n",
      "8000:\tlearn: 5.7757893\ttest: 7.7592869\tbest: 7.7592819 (7971)\ttotal: 15m\tremaining: 3m 44s\n",
      "Stopped by overfitting detector  (200 iterations wait)\n",
      "\n",
      "bestTest = 7.758384859\n",
      "bestIteration = 8489\n",
      "\n",
      "Shrink model to first 8490 iterations.\n"
     ]
    },
    {
     "name": "stderr",
     "output_type": "stream",
     "text": [
      "\u001b[32m[I 2021-08-25 04:51:43,329]\u001b[0m Trial 2 finished with value: 7.756616246813477 and parameters: {'bootstrap_type': 'Bernoulli', 'max_depth': 8, 'learning_rate': 0.008653102341471961, 'max_bin': 188, 'min_data_in_leaf': 92, 'reg_lambda': 0.032735034847530375, 'subsample': 0.7201190211064717}. Best is trial 1 with value: 7.753055265479657.\u001b[0m\n",
      "\u001b[33m[W 2021-08-25 04:51:45,217]\u001b[0m Trial 3 failed because of the following error: CatBoostError(\"catboost/private/libs/options/bootstrap_options.cpp:16: Error: bayesian bootstrap doesn't support taken fraction option\")\n",
      "Traceback (most recent call last):\n",
      "  File \"/opt/conda/lib/python3.7/site-packages/optuna/_optimize.py\", line 216, in _run_trial\n",
      "    value_or_values = func(trial)\n",
      "  File \"<ipython-input-9-02d592099811>\", line 51, in objective\n",
      "    verbose=VERBOSE,\n",
      "  File \"/opt/conda/lib/python3.7/site-packages/catboost/core.py\", line 5259, in fit\n",
      "    save_snapshot, snapshot_file, snapshot_interval, init_model, callbacks, log_cout, log_cerr)\n",
      "  File \"/opt/conda/lib/python3.7/site-packages/catboost/core.py\", line 1986, in _fit\n",
      "    callbacks=callbacks\n",
      "  File \"/opt/conda/lib/python3.7/site-packages/catboost/core.py\", line 1910, in _prepare_train_params\n",
      "    _check_train_params(params)\n",
      "  File \"_catboost.pyx\", line 5771, in _catboost._check_train_params\n",
      "  File \"_catboost.pyx\", line 5790, in _catboost._check_train_params\n",
      "_catboost.CatBoostError: catboost/private/libs/options/bootstrap_options.cpp:16: Error: bayesian bootstrap doesn't support taken fraction option\u001b[0m\n"
     ]
    },
    {
     "ename": "CatBoostError",
     "evalue": "catboost/private/libs/options/bootstrap_options.cpp:16: Error: bayesian bootstrap doesn't support taken fraction option",
     "output_type": "error",
     "traceback": [
      "\u001b[0;31m---------------------------------------------------------------------------\u001b[0m",
      "\u001b[0;31mCatBoostError\u001b[0m                             Traceback (most recent call last)",
      "\u001b[0;32m<ipython-input-10-27845a7a65c8>\u001b[0m in \u001b[0;36m<module>\u001b[0;34m\u001b[0m\n\u001b[1;32m      1\u001b[0m \u001b[0mstudy\u001b[0m \u001b[0;34m=\u001b[0m \u001b[0moptuna\u001b[0m\u001b[0;34m.\u001b[0m\u001b[0mcreate_study\u001b[0m\u001b[0;34m(\u001b[0m\u001b[0mdirection\u001b[0m\u001b[0;34m=\u001b[0m\u001b[0;34m'minimize'\u001b[0m\u001b[0;34m)\u001b[0m\u001b[0;34m\u001b[0m\u001b[0;34m\u001b[0m\u001b[0m\n\u001b[0;32m----> 2\u001b[0;31m \u001b[0mstudy\u001b[0m\u001b[0;34m.\u001b[0m\u001b[0moptimize\u001b[0m\u001b[0;34m(\u001b[0m\u001b[0mobjective\u001b[0m\u001b[0;34m,\u001b[0m\u001b[0mn_trials\u001b[0m\u001b[0;34m=\u001b[0m \u001b[0;36m30\u001b[0m\u001b[0;34m)\u001b[0m\u001b[0;34m\u001b[0m\u001b[0;34m\u001b[0m\u001b[0m\n\u001b[0m\u001b[1;32m      3\u001b[0m \u001b[0mprint\u001b[0m\u001b[0;34m(\u001b[0m\u001b[0;34m'Number of finished trials:'\u001b[0m\u001b[0;34m,\u001b[0m \u001b[0mlen\u001b[0m\u001b[0;34m(\u001b[0m\u001b[0mstudy\u001b[0m\u001b[0;34m.\u001b[0m\u001b[0mtrials\u001b[0m\u001b[0;34m)\u001b[0m\u001b[0;34m)\u001b[0m\u001b[0;34m\u001b[0m\u001b[0;34m\u001b[0m\u001b[0m\n\u001b[1;32m      4\u001b[0m \u001b[0mprint\u001b[0m\u001b[0;34m(\u001b[0m\u001b[0;34m'Best trial:'\u001b[0m\u001b[0;34m,\u001b[0m \u001b[0mstudy\u001b[0m\u001b[0;34m.\u001b[0m\u001b[0mbest_trial\u001b[0m\u001b[0;34m.\u001b[0m\u001b[0mparams\u001b[0m\u001b[0;34m)\u001b[0m\u001b[0;34m\u001b[0m\u001b[0;34m\u001b[0m\u001b[0m\n",
      "\u001b[0;32m/opt/conda/lib/python3.7/site-packages/optuna/study.py\u001b[0m in \u001b[0;36moptimize\u001b[0;34m(self, func, n_trials, timeout, n_jobs, catch, callbacks, gc_after_trial, show_progress_bar)\u001b[0m\n\u001b[1;32m    408\u001b[0m             \u001b[0mcallbacks\u001b[0m\u001b[0;34m=\u001b[0m\u001b[0mcallbacks\u001b[0m\u001b[0;34m,\u001b[0m\u001b[0;34m\u001b[0m\u001b[0;34m\u001b[0m\u001b[0m\n\u001b[1;32m    409\u001b[0m             \u001b[0mgc_after_trial\u001b[0m\u001b[0;34m=\u001b[0m\u001b[0mgc_after_trial\u001b[0m\u001b[0;34m,\u001b[0m\u001b[0;34m\u001b[0m\u001b[0;34m\u001b[0m\u001b[0m\n\u001b[0;32m--> 410\u001b[0;31m             \u001b[0mshow_progress_bar\u001b[0m\u001b[0;34m=\u001b[0m\u001b[0mshow_progress_bar\u001b[0m\u001b[0;34m,\u001b[0m\u001b[0;34m\u001b[0m\u001b[0;34m\u001b[0m\u001b[0m\n\u001b[0m\u001b[1;32m    411\u001b[0m         )\n\u001b[1;32m    412\u001b[0m \u001b[0;34m\u001b[0m\u001b[0m\n",
      "\u001b[0;32m/opt/conda/lib/python3.7/site-packages/optuna/_optimize.py\u001b[0m in \u001b[0;36m_optimize\u001b[0;34m(study, func, n_trials, timeout, n_jobs, catch, callbacks, gc_after_trial, show_progress_bar)\u001b[0m\n\u001b[1;32m     73\u001b[0m                 \u001b[0mreseed_sampler_rng\u001b[0m\u001b[0;34m=\u001b[0m\u001b[0;32mFalse\u001b[0m\u001b[0;34m,\u001b[0m\u001b[0;34m\u001b[0m\u001b[0;34m\u001b[0m\u001b[0m\n\u001b[1;32m     74\u001b[0m                 \u001b[0mtime_start\u001b[0m\u001b[0;34m=\u001b[0m\u001b[0;32mNone\u001b[0m\u001b[0;34m,\u001b[0m\u001b[0;34m\u001b[0m\u001b[0;34m\u001b[0m\u001b[0m\n\u001b[0;32m---> 75\u001b[0;31m                 \u001b[0mprogress_bar\u001b[0m\u001b[0;34m=\u001b[0m\u001b[0mprogress_bar\u001b[0m\u001b[0;34m,\u001b[0m\u001b[0;34m\u001b[0m\u001b[0;34m\u001b[0m\u001b[0m\n\u001b[0m\u001b[1;32m     76\u001b[0m             )\n\u001b[1;32m     77\u001b[0m         \u001b[0;32melse\u001b[0m\u001b[0;34m:\u001b[0m\u001b[0;34m\u001b[0m\u001b[0;34m\u001b[0m\u001b[0m\n",
      "\u001b[0;32m/opt/conda/lib/python3.7/site-packages/optuna/_optimize.py\u001b[0m in \u001b[0;36m_optimize_sequential\u001b[0;34m(study, func, n_trials, timeout, catch, callbacks, gc_after_trial, reseed_sampler_rng, time_start, progress_bar)\u001b[0m\n\u001b[1;32m    160\u001b[0m \u001b[0;34m\u001b[0m\u001b[0m\n\u001b[1;32m    161\u001b[0m         \u001b[0;32mtry\u001b[0m\u001b[0;34m:\u001b[0m\u001b[0;34m\u001b[0m\u001b[0;34m\u001b[0m\u001b[0m\n\u001b[0;32m--> 162\u001b[0;31m             \u001b[0mtrial\u001b[0m \u001b[0;34m=\u001b[0m \u001b[0m_run_trial\u001b[0m\u001b[0;34m(\u001b[0m\u001b[0mstudy\u001b[0m\u001b[0;34m,\u001b[0m \u001b[0mfunc\u001b[0m\u001b[0;34m,\u001b[0m \u001b[0mcatch\u001b[0m\u001b[0;34m)\u001b[0m\u001b[0;34m\u001b[0m\u001b[0;34m\u001b[0m\u001b[0m\n\u001b[0m\u001b[1;32m    163\u001b[0m         \u001b[0;32mexcept\u001b[0m \u001b[0mException\u001b[0m\u001b[0;34m:\u001b[0m\u001b[0;34m\u001b[0m\u001b[0;34m\u001b[0m\u001b[0m\n\u001b[1;32m    164\u001b[0m             \u001b[0;32mraise\u001b[0m\u001b[0;34m\u001b[0m\u001b[0;34m\u001b[0m\u001b[0m\n",
      "\u001b[0;32m/opt/conda/lib/python3.7/site-packages/optuna/_optimize.py\u001b[0m in \u001b[0;36m_run_trial\u001b[0;34m(study, func, catch)\u001b[0m\n\u001b[1;32m    265\u001b[0m \u001b[0;34m\u001b[0m\u001b[0m\n\u001b[1;32m    266\u001b[0m     \u001b[0;32mif\u001b[0m \u001b[0mstate\u001b[0m \u001b[0;34m==\u001b[0m \u001b[0mTrialState\u001b[0m\u001b[0;34m.\u001b[0m\u001b[0mFAIL\u001b[0m \u001b[0;32mand\u001b[0m \u001b[0mfunc_err\u001b[0m \u001b[0;32mis\u001b[0m \u001b[0;32mnot\u001b[0m \u001b[0;32mNone\u001b[0m \u001b[0;32mand\u001b[0m \u001b[0;32mnot\u001b[0m \u001b[0misinstance\u001b[0m\u001b[0;34m(\u001b[0m\u001b[0mfunc_err\u001b[0m\u001b[0;34m,\u001b[0m \u001b[0mcatch\u001b[0m\u001b[0;34m)\u001b[0m\u001b[0;34m:\u001b[0m\u001b[0;34m\u001b[0m\u001b[0;34m\u001b[0m\u001b[0m\n\u001b[0;32m--> 267\u001b[0;31m         \u001b[0;32mraise\u001b[0m \u001b[0mfunc_err\u001b[0m\u001b[0;34m\u001b[0m\u001b[0;34m\u001b[0m\u001b[0m\n\u001b[0m\u001b[1;32m    268\u001b[0m     \u001b[0;32mreturn\u001b[0m \u001b[0mtrial\u001b[0m\u001b[0;34m\u001b[0m\u001b[0;34m\u001b[0m\u001b[0m\n\u001b[1;32m    269\u001b[0m \u001b[0;34m\u001b[0m\u001b[0m\n",
      "\u001b[0;32m/opt/conda/lib/python3.7/site-packages/optuna/_optimize.py\u001b[0m in \u001b[0;36m_run_trial\u001b[0;34m(study, func, catch)\u001b[0m\n\u001b[1;32m    214\u001b[0m \u001b[0;34m\u001b[0m\u001b[0m\n\u001b[1;32m    215\u001b[0m     \u001b[0;32mtry\u001b[0m\u001b[0;34m:\u001b[0m\u001b[0;34m\u001b[0m\u001b[0;34m\u001b[0m\u001b[0m\n\u001b[0;32m--> 216\u001b[0;31m         \u001b[0mvalue_or_values\u001b[0m \u001b[0;34m=\u001b[0m \u001b[0mfunc\u001b[0m\u001b[0;34m(\u001b[0m\u001b[0mtrial\u001b[0m\u001b[0;34m)\u001b[0m\u001b[0;34m\u001b[0m\u001b[0;34m\u001b[0m\u001b[0m\n\u001b[0m\u001b[1;32m    217\u001b[0m     \u001b[0;32mexcept\u001b[0m \u001b[0mexceptions\u001b[0m\u001b[0;34m.\u001b[0m\u001b[0mTrialPruned\u001b[0m \u001b[0;32mas\u001b[0m \u001b[0me\u001b[0m\u001b[0;34m:\u001b[0m\u001b[0;34m\u001b[0m\u001b[0;34m\u001b[0m\u001b[0m\n\u001b[1;32m    218\u001b[0m         \u001b[0;31m# TODO(mamu): Handle multi-objective cases.\u001b[0m\u001b[0;34m\u001b[0m\u001b[0;34m\u001b[0m\u001b[0;34m\u001b[0m\u001b[0m\n",
      "\u001b[0;32m<ipython-input-9-02d592099811>\u001b[0m in \u001b[0;36mobjective\u001b[0;34m(trial, X, y)\u001b[0m\n\u001b[1;32m     49\u001b[0m         \u001b[0muse_best_model\u001b[0m\u001b[0;34m=\u001b[0m\u001b[0;32mTrue\u001b[0m\u001b[0;34m,\u001b[0m\u001b[0;34m\u001b[0m\u001b[0;34m\u001b[0m\u001b[0m\n\u001b[1;32m     50\u001b[0m         \u001b[0mearly_stopping_rounds\u001b[0m\u001b[0;34m=\u001b[0m\u001b[0mEARLY_STOPPING_ROUNDS\u001b[0m\u001b[0;34m,\u001b[0m\u001b[0;34m\u001b[0m\u001b[0;34m\u001b[0m\u001b[0m\n\u001b[0;32m---> 51\u001b[0;31m         \u001b[0mverbose\u001b[0m\u001b[0;34m=\u001b[0m\u001b[0mVERBOSE\u001b[0m\u001b[0;34m,\u001b[0m\u001b[0;34m\u001b[0m\u001b[0;34m\u001b[0m\u001b[0m\n\u001b[0m\u001b[1;32m     52\u001b[0m     )\n\u001b[1;32m     53\u001b[0m \u001b[0;34m\u001b[0m\u001b[0m\n",
      "\u001b[0;32m/opt/conda/lib/python3.7/site-packages/catboost/core.py\u001b[0m in \u001b[0;36mfit\u001b[0;34m(self, X, y, cat_features, sample_weight, baseline, use_best_model, eval_set, verbose, logging_level, plot, column_description, verbose_eval, metric_period, silent, early_stopping_rounds, save_snapshot, snapshot_file, snapshot_interval, init_model, callbacks, log_cout, log_cerr)\u001b[0m\n\u001b[1;32m   5257\u001b[0m                          \u001b[0muse_best_model\u001b[0m\u001b[0;34m,\u001b[0m \u001b[0meval_set\u001b[0m\u001b[0;34m,\u001b[0m \u001b[0mverbose\u001b[0m\u001b[0;34m,\u001b[0m \u001b[0mlogging_level\u001b[0m\u001b[0;34m,\u001b[0m \u001b[0mplot\u001b[0m\u001b[0;34m,\u001b[0m \u001b[0mcolumn_description\u001b[0m\u001b[0;34m,\u001b[0m\u001b[0;34m\u001b[0m\u001b[0;34m\u001b[0m\u001b[0m\n\u001b[1;32m   5258\u001b[0m                          \u001b[0mverbose_eval\u001b[0m\u001b[0;34m,\u001b[0m \u001b[0mmetric_period\u001b[0m\u001b[0;34m,\u001b[0m \u001b[0msilent\u001b[0m\u001b[0;34m,\u001b[0m \u001b[0mearly_stopping_rounds\u001b[0m\u001b[0;34m,\u001b[0m\u001b[0;34m\u001b[0m\u001b[0;34m\u001b[0m\u001b[0m\n\u001b[0;32m-> 5259\u001b[0;31m                          save_snapshot, snapshot_file, snapshot_interval, init_model, callbacks, log_cout, log_cerr)\n\u001b[0m\u001b[1;32m   5260\u001b[0m \u001b[0;34m\u001b[0m\u001b[0m\n\u001b[1;32m   5261\u001b[0m     \u001b[0;32mdef\u001b[0m \u001b[0mpredict\u001b[0m\u001b[0;34m(\u001b[0m\u001b[0mself\u001b[0m\u001b[0;34m,\u001b[0m \u001b[0mdata\u001b[0m\u001b[0;34m,\u001b[0m \u001b[0mprediction_type\u001b[0m\u001b[0;34m=\u001b[0m\u001b[0;32mNone\u001b[0m\u001b[0;34m,\u001b[0m \u001b[0mntree_start\u001b[0m\u001b[0;34m=\u001b[0m\u001b[0;36m0\u001b[0m\u001b[0;34m,\u001b[0m \u001b[0mntree_end\u001b[0m\u001b[0;34m=\u001b[0m\u001b[0;36m0\u001b[0m\u001b[0;34m,\u001b[0m \u001b[0mthread_count\u001b[0m\u001b[0;34m=\u001b[0m\u001b[0;34m-\u001b[0m\u001b[0;36m1\u001b[0m\u001b[0;34m,\u001b[0m \u001b[0mverbose\u001b[0m\u001b[0;34m=\u001b[0m\u001b[0;32mNone\u001b[0m\u001b[0;34m,\u001b[0m \u001b[0mtask_type\u001b[0m\u001b[0;34m=\u001b[0m\u001b[0;34m\"CPU\"\u001b[0m\u001b[0;34m)\u001b[0m\u001b[0;34m:\u001b[0m\u001b[0;34m\u001b[0m\u001b[0;34m\u001b[0m\u001b[0m\n",
      "\u001b[0;32m/opt/conda/lib/python3.7/site-packages/catboost/core.py\u001b[0m in \u001b[0;36m_fit\u001b[0;34m(self, X, y, cat_features, text_features, embedding_features, pairs, sample_weight, group_id, group_weight, subgroup_id, pairs_weight, baseline, use_best_model, eval_set, verbose, logging_level, plot, column_description, verbose_eval, metric_period, silent, early_stopping_rounds, save_snapshot, snapshot_file, snapshot_interval, init_model, callbacks, log_cout, log_cerr)\u001b[0m\n\u001b[1;32m   1984\u001b[0m             \u001b[0msilent\u001b[0m\u001b[0;34m=\u001b[0m\u001b[0msilent\u001b[0m\u001b[0;34m,\u001b[0m \u001b[0mearly_stopping_rounds\u001b[0m\u001b[0;34m=\u001b[0m\u001b[0mearly_stopping_rounds\u001b[0m\u001b[0;34m,\u001b[0m \u001b[0msave_snapshot\u001b[0m\u001b[0;34m=\u001b[0m\u001b[0msave_snapshot\u001b[0m\u001b[0;34m,\u001b[0m\u001b[0;34m\u001b[0m\u001b[0;34m\u001b[0m\u001b[0m\n\u001b[1;32m   1985\u001b[0m             \u001b[0msnapshot_file\u001b[0m\u001b[0;34m=\u001b[0m\u001b[0msnapshot_file\u001b[0m\u001b[0;34m,\u001b[0m \u001b[0msnapshot_interval\u001b[0m\u001b[0;34m=\u001b[0m\u001b[0msnapshot_interval\u001b[0m\u001b[0;34m,\u001b[0m \u001b[0minit_model\u001b[0m\u001b[0;34m=\u001b[0m\u001b[0minit_model\u001b[0m\u001b[0;34m,\u001b[0m\u001b[0;34m\u001b[0m\u001b[0;34m\u001b[0m\u001b[0m\n\u001b[0;32m-> 1986\u001b[0;31m             \u001b[0mcallbacks\u001b[0m\u001b[0;34m=\u001b[0m\u001b[0mcallbacks\u001b[0m\u001b[0;34m\u001b[0m\u001b[0;34m\u001b[0m\u001b[0m\n\u001b[0m\u001b[1;32m   1987\u001b[0m         )\n\u001b[1;32m   1988\u001b[0m         \u001b[0mparams\u001b[0m \u001b[0;34m=\u001b[0m \u001b[0mtrain_params\u001b[0m\u001b[0;34m[\u001b[0m\u001b[0;34m\"params\"\u001b[0m\u001b[0;34m]\u001b[0m\u001b[0;34m\u001b[0m\u001b[0;34m\u001b[0m\u001b[0m\n",
      "\u001b[0;32m/opt/conda/lib/python3.7/site-packages/catboost/core.py\u001b[0m in \u001b[0;36m_prepare_train_params\u001b[0;34m(self, X, y, cat_features, text_features, embedding_features, pairs, sample_weight, group_id, group_weight, subgroup_id, pairs_weight, baseline, use_best_model, eval_set, verbose, logging_level, plot, column_description, verbose_eval, metric_period, silent, early_stopping_rounds, save_snapshot, snapshot_file, snapshot_interval, init_model, callbacks)\u001b[0m\n\u001b[1;32m   1908\u001b[0m         \u001b[0m_check_param_types\u001b[0m\u001b[0;34m(\u001b[0m\u001b[0mparams\u001b[0m\u001b[0;34m)\u001b[0m\u001b[0;34m\u001b[0m\u001b[0;34m\u001b[0m\u001b[0m\n\u001b[1;32m   1909\u001b[0m         \u001b[0mparams\u001b[0m \u001b[0;34m=\u001b[0m \u001b[0m_params_type_cast\u001b[0m\u001b[0;34m(\u001b[0m\u001b[0mparams\u001b[0m\u001b[0;34m)\u001b[0m\u001b[0;34m\u001b[0m\u001b[0;34m\u001b[0m\u001b[0m\n\u001b[0;32m-> 1910\u001b[0;31m         \u001b[0m_check_train_params\u001b[0m\u001b[0;34m(\u001b[0m\u001b[0mparams\u001b[0m\u001b[0;34m)\u001b[0m\u001b[0;34m\u001b[0m\u001b[0;34m\u001b[0m\u001b[0m\n\u001b[0m\u001b[1;32m   1911\u001b[0m \u001b[0;34m\u001b[0m\u001b[0m\n\u001b[1;32m   1912\u001b[0m         \u001b[0meval_set_list\u001b[0m \u001b[0;34m=\u001b[0m \u001b[0meval_set\u001b[0m \u001b[0;32mif\u001b[0m \u001b[0misinstance\u001b[0m\u001b[0;34m(\u001b[0m\u001b[0meval_set\u001b[0m\u001b[0;34m,\u001b[0m \u001b[0mlist\u001b[0m\u001b[0;34m)\u001b[0m \u001b[0;32melse\u001b[0m \u001b[0;34m[\u001b[0m\u001b[0meval_set\u001b[0m\u001b[0;34m]\u001b[0m\u001b[0;34m\u001b[0m\u001b[0;34m\u001b[0m\u001b[0m\n",
      "\u001b[0;32m_catboost.pyx\u001b[0m in \u001b[0;36m_catboost._check_train_params\u001b[0;34m()\u001b[0m\n",
      "\u001b[0;32m_catboost.pyx\u001b[0m in \u001b[0;36m_catboost._check_train_params\u001b[0;34m()\u001b[0m\n",
      "\u001b[0;31mCatBoostError\u001b[0m: catboost/private/libs/options/bootstrap_options.cpp:16: Error: bayesian bootstrap doesn't support taken fraction option"
     ]
    }
   ],
   "source": [
    "study = optuna.create_study(direction='minimize')\n",
    "study.optimize(objective,n_trials= 30)\n",
    "print('Number of finished trials:', len(study.trials))\n",
    "print('Best trial:', study.best_trial.params)"
   ]
  },
  {
   "cell_type": "code",
   "execution_count": null,
   "id": "a1689477",
   "metadata": {
    "execution": {
     "iopub.status.busy": "2021-08-18T15:51:19.577794Z",
     "iopub.status.idle": "2021-08-18T15:51:19.578295Z"
    },
    "papermill": {
     "duration": null,
     "end_time": null,
     "exception": null,
     "start_time": null,
     "status": "pending"
    },
    "tags": []
   },
   "outputs": [],
   "source": [
    "study.best_params"
   ]
  },
  {
   "cell_type": "markdown",
   "id": "7cb7b15a",
   "metadata": {
    "papermill": {
     "duration": null,
     "end_time": null,
     "exception": null,
     "start_time": null,
     "status": "pending"
    },
    "tags": []
   },
   "source": [
    "# Log\n",
    "\n",
    "7.768172118850735 row-wise noise ver4\n",
    "\n",
    "7.776578973194598 random noise ver5\n",
    "\n",
    "7.757181558352988 no noise ver7\n",
    "\n",
    "7.756073089003697 no noise ver8 (narrow space)\n",
    "\n",
    "7.756000258000434 no noise ver9 (narrow space) final\n",
    "\n",
    "============= No GPU ================\n",
    "\n",
    "\n",
    "\n"
   ]
  }
 ],
 "metadata": {
  "kernelspec": {
   "display_name": "Python 3",
   "language": "python",
   "name": "python3"
  },
  "language_info": {
   "codemirror_mode": {
    "name": "ipython",
    "version": 3
   },
   "file_extension": ".py",
   "mimetype": "text/x-python",
   "name": "python",
   "nbconvert_exporter": "python",
   "pygments_lexer": "ipython3",
   "version": "3.7.10"
  },
  "papermill": {
   "default_parameters": {},
   "duration": 7853.456642,
   "end_time": "2021-08-25T04:51:47.396247",
   "environment_variables": {},
   "exception": true,
   "input_path": "__notebook__.ipynb",
   "output_path": "__notebook__.ipynb",
   "parameters": {},
   "start_time": "2021-08-25T02:40:53.939605",
   "version": "2.3.3"
  }
 },
 "nbformat": 4,
 "nbformat_minor": 5
}
