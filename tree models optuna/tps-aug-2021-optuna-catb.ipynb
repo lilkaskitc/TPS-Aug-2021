{
 "cells": [
  {
   "cell_type": "code",
   "execution_count": 1,
   "id": "e3d7d37f",
   "metadata": {
    "_cell_guid": "b1076dfc-b9ad-4769-8c92-a6c4dae69d19",
    "_uuid": "8f2839f25d086af736a60e9eeb907d3b93b6e0e5",
    "execution": {
     "iopub.execute_input": "2021-08-21T10:34:14.993908Z",
     "iopub.status.busy": "2021-08-21T10:34:14.993373Z",
     "iopub.status.idle": "2021-08-21T10:34:16.008811Z",
     "shell.execute_reply": "2021-08-21T10:34:16.007815Z",
     "shell.execute_reply.started": "2021-08-18T15:48:03.009272Z"
    },
    "papermill": {
     "duration": 1.039093,
     "end_time": "2021-08-21T10:34:16.008972",
     "exception": false,
     "start_time": "2021-08-21T10:34:14.969879",
     "status": "completed"
    },
    "tags": []
   },
   "outputs": [],
   "source": [
    "# Familiar imports\n",
    "import numpy as np\n",
    "import pandas as pd\n",
    "import random\n",
    "import os\n",
    "import time\n",
    "from pathlib import Path\n",
    "\n",
    "from sklearn.preprocessing import StandardScaler\n",
    "from sklearn.model_selection import KFold, train_test_split\n",
    "from sklearn.metrics import mean_squared_error\n",
    "\n",
    "#import lightgbm as lgb\n",
    "#import xgboost as xgb\n",
    "import catboost as ctb\n",
    "\n",
    "import warnings\n",
    "warnings.simplefilter('ignore')"
   ]
  },
  {
   "cell_type": "markdown",
   "id": "3da7472d",
   "metadata": {
    "papermill": {
     "duration": 0.010216,
     "end_time": "2021-08-21T10:34:16.030203",
     "exception": false,
     "start_time": "2021-08-21T10:34:16.019987",
     "status": "completed"
    },
    "tags": []
   },
   "source": [
    "# Parameters"
   ]
  },
  {
   "cell_type": "code",
   "execution_count": 2,
   "id": "2b88d6d0",
   "metadata": {
    "execution": {
     "iopub.execute_input": "2021-08-21T10:34:16.056127Z",
     "iopub.status.busy": "2021-08-21T10:34:16.055365Z",
     "iopub.status.idle": "2021-08-21T10:34:16.058005Z",
     "shell.execute_reply": "2021-08-21T10:34:16.057556Z",
     "shell.execute_reply.started": "2021-08-18T15:48:04.465557Z"
    },
    "papermill": {
     "duration": 0.017585,
     "end_time": "2021-08-21T10:34:16.058116",
     "exception": false,
     "start_time": "2021-08-21T10:34:16.040531",
     "status": "completed"
    },
    "tags": []
   },
   "outputs": [],
   "source": [
    "target = 'loss'\n",
    "\n",
    "DEBUG = False\n",
    "\n",
    "if DEBUG:\n",
    "    N_ESTIMATORS = 1\n",
    "    N_SPLITS = 2\n",
    "    SEED = 17\n",
    "    CVSEED = 17\n",
    "    EARLY_STOPPING_ROUNDS = 1\n",
    "    VERBOSE = 100\n",
    "    #N_ITERS = 2\n",
    "else:\n",
    "    N_SPLITS = 10\n",
    "    N_ESTIMATORS = 10000\n",
    "    EARLY_STOPPING_ROUNDS = 200\n",
    "    VERBOSE = 1000\n",
    "    SEED = 17\n",
    "    CVSEED = 17\n",
    "    #N_ITERS = 10"
   ]
  },
  {
   "cell_type": "code",
   "execution_count": 3,
   "id": "04024991",
   "metadata": {
    "execution": {
     "iopub.execute_input": "2021-08-21T10:34:16.082852Z",
     "iopub.status.busy": "2021-08-21T10:34:16.082182Z",
     "iopub.status.idle": "2021-08-21T10:34:16.084899Z",
     "shell.execute_reply": "2021-08-21T10:34:16.084471Z",
     "shell.execute_reply.started": "2021-08-18T15:48:04.478758Z"
    },
    "papermill": {
     "duration": 0.016628,
     "end_time": "2021-08-21T10:34:16.085001",
     "exception": false,
     "start_time": "2021-08-21T10:34:16.068373",
     "status": "completed"
    },
    "tags": []
   },
   "outputs": [],
   "source": [
    "def set_seed(seed=17):\n",
    "    random.seed(seed)\n",
    "    os.environ['PYTHONHASHSEED'] = str(seed)\n",
    "    np.random.seed(seed)\n",
    "    \n",
    "set_seed(SEED)"
   ]
  },
  {
   "cell_type": "markdown",
   "id": "7789acc5",
   "metadata": {
    "papermill": {
     "duration": 0.010108,
     "end_time": "2021-08-21T10:34:16.105454",
     "exception": false,
     "start_time": "2021-08-21T10:34:16.095346",
     "status": "completed"
    },
    "tags": []
   },
   "source": [
    "# Load data"
   ]
  },
  {
   "cell_type": "code",
   "execution_count": 4,
   "id": "79fb325f",
   "metadata": {
    "execution": {
     "iopub.execute_input": "2021-08-21T10:34:16.130410Z",
     "iopub.status.busy": "2021-08-21T10:34:16.129906Z",
     "iopub.status.idle": "2021-08-21T10:34:25.824050Z",
     "shell.execute_reply": "2021-08-21T10:34:25.823146Z",
     "shell.execute_reply.started": "2021-08-18T15:48:04.491008Z"
    },
    "papermill": {
     "duration": 9.708378,
     "end_time": "2021-08-21T10:34:25.824194",
     "exception": false,
     "start_time": "2021-08-21T10:34:16.115816",
     "status": "completed"
    },
    "tags": []
   },
   "outputs": [],
   "source": [
    "INPUT = Path(\"../input/tabular-playground-series-aug-2021\")\n",
    "\n",
    "train = pd.read_csv(INPUT / \"train.csv\")\n",
    "test = pd.read_csv(INPUT / \"test.csv\")\n",
    "submission = pd.read_csv(INPUT / \"sample_submission.csv\")"
   ]
  },
  {
   "cell_type": "markdown",
   "id": "df1b3afc",
   "metadata": {
    "papermill": {
     "duration": 0.011856,
     "end_time": "2021-08-21T10:34:25.846836",
     "exception": false,
     "start_time": "2021-08-21T10:34:25.834980",
     "status": "completed"
    },
    "tags": []
   },
   "source": [
    "# Preprocessing"
   ]
  },
  {
   "cell_type": "code",
   "execution_count": 5,
   "id": "45ed5bfb",
   "metadata": {
    "execution": {
     "iopub.execute_input": "2021-08-21T10:34:25.948918Z",
     "iopub.status.busy": "2021-08-21T10:34:25.947604Z",
     "iopub.status.idle": "2021-08-21T10:34:36.000024Z",
     "shell.execute_reply": "2021-08-21T10:34:35.999149Z",
     "shell.execute_reply.started": "2021-08-18T15:48:14.595557Z"
    },
    "papermill": {
     "duration": 10.142856,
     "end_time": "2021-08-21T10:34:36.000160",
     "exception": false,
     "start_time": "2021-08-21T10:34:25.857304",
     "status": "completed"
    },
    "tags": []
   },
   "outputs": [],
   "source": [
    "scale_features = [col for col in test.columns if 'f' in col]\n",
    "\n",
    "ss = StandardScaler()\n",
    "train[scale_features] = ss.fit_transform(train[scale_features])\n",
    "test[scale_features] = ss.transform(test[scale_features])"
   ]
  },
  {
   "cell_type": "code",
   "execution_count": 6,
   "id": "bbc086bd",
   "metadata": {
    "execution": {
     "iopub.execute_input": "2021-08-21T10:34:36.029936Z",
     "iopub.status.busy": "2021-08-21T10:34:36.028464Z",
     "iopub.status.idle": "2021-08-21T10:34:36.030939Z",
     "shell.execute_reply": "2021-08-21T10:34:36.031361Z",
     "shell.execute_reply.started": "2021-08-18T15:48:25.304369Z"
    },
    "papermill": {
     "duration": 0.020454,
     "end_time": "2021-08-21T10:34:36.031493",
     "exception": false,
     "start_time": "2021-08-21T10:34:36.011039",
     "status": "completed"
    },
    "tags": []
   },
   "outputs": [],
   "source": [
    "# Swap noise\n",
    "\n",
    "# Random\n",
    "def apply_noise_rn(df, p=.75):\n",
    "    should_not_swap = np.random.binomial(1, p, df.shape)\n",
    "    corrupted_df = df.where(should_not_swap == 1, np.random.permutation(df))\n",
    "    return corrupted_df\n",
    "\n",
    "# Row-wise\n",
    "def apply_noise_row(df, p=.75):\n",
    "    should_not_swap = np.zeros(df.shape)\n",
    "    for i in range(df.shape[0]):\n",
    "        for j in np.random.choice(df.shape[1],int(p*df.shape[1]),replace=False):\n",
    "            should_not_swap[i,j]=1 \n",
    "    corrupted_df = df.where(should_not_swap == 1, np.random.permutation(df))\n",
    "    return corrupted_df"
   ]
  },
  {
   "cell_type": "markdown",
   "id": "9533f78a",
   "metadata": {
    "papermill": {
     "duration": 0.010534,
     "end_time": "2021-08-21T10:34:36.052634",
     "exception": false,
     "start_time": "2021-08-21T10:34:36.042100",
     "status": "completed"
    },
    "tags": []
   },
   "source": [
    "# Pseudo Label"
   ]
  },
  {
   "cell_type": "code",
   "execution_count": 7,
   "id": "6bb4906f",
   "metadata": {
    "execution": {
     "iopub.execute_input": "2021-08-21T10:34:36.078379Z",
     "iopub.status.busy": "2021-08-21T10:34:36.077857Z",
     "iopub.status.idle": "2021-08-21T10:34:36.726965Z",
     "shell.execute_reply": "2021-08-21T10:34:36.727434Z",
     "shell.execute_reply.started": "2021-08-18T15:48:25.317809Z"
    },
    "papermill": {
     "duration": 0.664518,
     "end_time": "2021-08-21T10:34:36.727584",
     "exception": false,
     "start_time": "2021-08-21T10:34:36.063066",
     "status": "completed"
    },
    "tags": []
   },
   "outputs": [],
   "source": [
    "pseudo = pd.read_csv(\"../input/tps-aug-2021-lgbm-xgb-catboost/submission.csv\")[target]\n",
    "test_pseudo = pd.concat([test, pseudo], axis=1)\n",
    "all_pseudo = pd.concat([train, test_pseudo]).reset_index(drop=True)"
   ]
  },
  {
   "cell_type": "markdown",
   "id": "6363cae9",
   "metadata": {
    "papermill": {
     "duration": 0.010303,
     "end_time": "2021-08-21T10:34:36.748910",
     "exception": false,
     "start_time": "2021-08-21T10:34:36.738607",
     "status": "completed"
    },
    "tags": []
   },
   "source": [
    "# Optuna"
   ]
  },
  {
   "cell_type": "code",
   "execution_count": 8,
   "id": "a091ac1e",
   "metadata": {
    "execution": {
     "iopub.execute_input": "2021-08-21T10:34:36.774410Z",
     "iopub.status.busy": "2021-08-21T10:34:36.773885Z",
     "iopub.status.idle": "2021-08-21T10:34:44.892535Z",
     "shell.execute_reply": "2021-08-21T10:34:44.892082Z",
     "shell.execute_reply.started": "2021-08-18T15:48:26.077283Z"
    },
    "papermill": {
     "duration": 8.133206,
     "end_time": "2021-08-21T10:34:44.892663",
     "exception": false,
     "start_time": "2021-08-21T10:34:36.759457",
     "status": "completed"
    },
    "tags": []
   },
   "outputs": [
    {
     "name": "stdout",
     "output_type": "stream",
     "text": [
      "\u001b[33mWARNING: Running pip as root will break packages and permissions. You should install packages reliably by using venv: https://pip.pypa.io/warnings/venv\u001b[0m\r\n"
     ]
    }
   ],
   "source": [
    "# Optuna for parameter search\n",
    "!pip install -q optuna\n",
    "\n",
    "import optuna\n",
    "import pickle"
   ]
  },
  {
   "cell_type": "code",
   "execution_count": 9,
   "id": "4a7e34f6",
   "metadata": {
    "execution": {
     "iopub.execute_input": "2021-08-21T10:34:44.928509Z",
     "iopub.status.busy": "2021-08-21T10:34:44.927340Z",
     "iopub.status.idle": "2021-08-21T10:34:45.232667Z",
     "shell.execute_reply": "2021-08-21T10:34:45.232207Z",
     "shell.execute_reply.started": "2021-08-18T15:48:37.748925Z"
    },
    "papermill": {
     "duration": 0.328537,
     "end_time": "2021-08-21T10:34:45.232812",
     "exception": false,
     "start_time": "2021-08-21T10:34:44.904275",
     "status": "completed"
    },
    "tags": []
   },
   "outputs": [],
   "source": [
    "# for the fixed learning rate, use the opt n iterations and tune the tree hyperparameters\n",
    "def objective(trial, X=all_pseudo[scale_features], y=all_pseudo[target]):\n",
    "  \"\"\"\n",
    "  \"\"\"\n",
    "  param_space = {\n",
    "                  'bootstrap_type': 'Poisson',\n",
    "            'loss_function': 'RMSE',\n",
    "            'eval_metric': 'RMSE',\n",
    "          'task_type': 'GPU',\n",
    "          'max_depth':trial.suggest_int('max_depth', 9, 13),\n",
    "           'learning_rate':trial.suggest_uniform('learning_rate', 6e-3, 8e-3),\n",
    "          'n_estimators':N_ESTIMATORS,\n",
    "        'max_bin':trial.suggest_int('max_bin', 407, 487),\n",
    "             'min_data_in_leaf':trial.suggest_int('min_data_in_leaf', 57, 77),\n",
    "         'reg_lambda':trial.suggest_uniform('reg_lambda', 0.04, 0.24),\n",
    "            'subsample': trial.suggest_uniform('subsample', 0.468, 0.588)\n",
    "                 }\n",
    "            \n",
    "\n",
    "  seed_list=[SEED, SEED+1]\n",
    "  #kf = KFold(n_splits=N_SPLITS, shuffle=True, random_state=CVSEED)\n",
    "  ctb_oof = np.zeros(train.shape[0])\n",
    "  #lgb_pred = np.zeros(test.shape[0])\n",
    "  X_tr, X_va, y_tr, y_va = train_test_split(X,y,test_size=.2,random_state=CVSEED)\n",
    "  trn_idx = X_tr.index\n",
    "  val_idx = X_va.index\n",
    "  \n",
    "  \n",
    "  #for (trn_idx, val_idx) in enumerate(kf.split(X, y)):\n",
    "  #print(f\"===== fold {fold} =====\")\n",
    "  oof_idx = np.array([idx for idx in val_idx if idx < train.shape[0]])\n",
    "  preds_idx = np.array([idx for idx in val_idx if idx >= train.shape[0]])\n",
    "\n",
    "  X_train, y_train = all_pseudo[scale_features].iloc[trn_idx], all_pseudo[target].iloc[trn_idx]\n",
    "  #X_train = apply_noise_rn(X_train)\n",
    "\n",
    "  X_valid, y_valid = all_pseudo[scale_features].iloc[oof_idx], all_pseudo[target].iloc[oof_idx]\n",
    "  #X_test = all_pseudo[scale_features].iloc[preds_idx]\n",
    "\n",
    "  #start = time.time()\n",
    "  for inseed in seed_list:\n",
    "    param_space['random_seed'] = inseed\n",
    "\n",
    "    model =  ctb.CatBoostRegressor(**param_space)\n",
    "    model.fit(\n",
    "        X_train, \n",
    "        y_train,\n",
    "        eval_set=[(X_valid, y_valid)],\n",
    "        use_best_model=True,\n",
    "        early_stopping_rounds=EARLY_STOPPING_ROUNDS,\n",
    "        verbose=VERBOSE,\n",
    "    )\n",
    "\n",
    "\n",
    "    ctb_oof[oof_idx] += model.predict(X_valid) / len(seed_list)\n",
    "    #lgb_pred[preds_idx-train.shape[0]] += model.predict(X_test) / len(seed_list)\n",
    "\n",
    "  #elapsed = time.time() - start\n",
    "  rmse = mean_squared_error(y_valid, ctb_oof[oof_idx], squared=False)\n",
    "  #print(f\"fold {fold} - lgb rmse: {rmse:.6f}, elapsed time: {elapsed:.2f}sec\\n\")            \n",
    "  \n",
    "  #print(f\"oof lgb_rmse = {mean_squared_error(train[target], lgb_oof, squared=False)}\")\n",
    "\n",
    "  \n",
    "  return rmse"
   ]
  },
  {
   "cell_type": "code",
   "execution_count": 10,
   "id": "cf80d8d3",
   "metadata": {
    "execution": {
     "iopub.execute_input": "2021-08-21T10:34:45.259197Z",
     "iopub.status.busy": "2021-08-21T10:34:45.258640Z",
     "iopub.status.idle": "2021-08-21T14:44:15.281364Z",
     "shell.execute_reply": "2021-08-21T14:44:15.281765Z",
     "shell.execute_reply.started": "2021-08-18T15:48:38.154322Z"
    },
    "papermill": {
     "duration": 14970.038123,
     "end_time": "2021-08-21T14:44:15.281935",
     "exception": false,
     "start_time": "2021-08-21T10:34:45.243812",
     "status": "completed"
    },
    "tags": []
   },
   "outputs": [
    {
     "name": "stderr",
     "output_type": "stream",
     "text": [
      "\u001b[32m[I 2021-08-21 10:34:45,257]\u001b[0m A new study created in memory with name: no-name-9d35a29d-812a-4f9a-8700-409ce8e81cf1\u001b[0m\n"
     ]
    },
    {
     "name": "stdout",
     "output_type": "stream",
     "text": [
      "0:\tlearn: 6.3396414\ttest: 7.8583929\tbest: 7.8583929 (0)\ttotal: 168ms\tremaining: 27m 58s\n",
      "1000:\tlearn: 5.7255046\ttest: 7.7896302\tbest: 7.7896302 (1000)\ttotal: 2m 34s\tremaining: 23m 10s\n",
      "2000:\tlearn: 5.2774944\ttest: 7.7780582\tbest: 7.7780470 (1999)\ttotal: 5m 6s\tremaining: 20m 26s\n",
      "3000:\tlearn: 4.8852618\ttest: 7.7725835\tbest: 7.7725717 (2993)\ttotal: 7m 37s\tremaining: 17m 48s\n",
      "4000:\tlearn: 4.5160588\ttest: 7.7700361\tbest: 7.7699652 (3974)\ttotal: 10m 10s\tremaining: 15m 14s\n",
      "5000:\tlearn: 4.1663284\ttest: 7.7683423\tbest: 7.7682287 (4982)\ttotal: 12m 43s\tremaining: 12m 43s\n",
      "bestTest = 7.767339299\n",
      "bestIteration = 5474\n",
      "Shrink model to first 5475 iterations.\n",
      "0:\tlearn: 6.3396084\ttest: 7.8584233\tbest: 7.8584233 (0)\ttotal: 156ms\tremaining: 26m 3s\n",
      "1000:\tlearn: 5.7230081\ttest: 7.7901554\tbest: 7.7901554 (1000)\ttotal: 2m 39s\tremaining: 23m 54s\n",
      "2000:\tlearn: 5.2756285\ttest: 7.7787080\tbest: 7.7787080 (2000)\ttotal: 5m 16s\tremaining: 21m 4s\n",
      "3000:\tlearn: 4.8867034\ttest: 7.7737228\tbest: 7.7737228 (3000)\ttotal: 7m 52s\tremaining: 18m 20s\n",
      "4000:\tlearn: 4.5121175\ttest: 7.7703275\tbest: 7.7703262 (3991)\ttotal: 10m 29s\tremaining: 15m 43s\n",
      "5000:\tlearn: 4.1675291\ttest: 7.7689037\tbest: 7.7688045 (4961)\ttotal: 13m 7s\tremaining: 13m 6s\n",
      "bestTest = 7.767639102\n",
      "bestIteration = 5769\n",
      "Shrink model to first 5770 iterations.\n"
     ]
    },
    {
     "name": "stderr",
     "output_type": "stream",
     "text": [
      "\u001b[32m[I 2021-08-21 11:06:23,780]\u001b[0m Trial 0 finished with value: 7.7646494405604765 and parameters: {'max_depth': 13, 'learning_rate': 0.0077858696054715045, 'max_bin': 486, 'min_data_in_leaf': 72, 'reg_lambda': 0.051424000171051004, 'subsample': 0.5559560875184321}. Best is trial 0 with value: 7.7646494405604765.\u001b[0m\n"
     ]
    },
    {
     "name": "stdout",
     "output_type": "stream",
     "text": [
      "0:\tlearn: 6.3400660\ttest: 7.8584220\tbest: 7.8584220 (0)\ttotal: 34ms\tremaining: 5m 39s\n",
      "1000:\tlearn: 6.1367464\ttest: 7.7921680\tbest: 7.7921680 (1000)\ttotal: 33.6s\tremaining: 5m 1s\n",
      "2000:\tlearn: 6.0120299\ttest: 7.7793358\tbest: 7.7793358 (2000)\ttotal: 1m 6s\tremaining: 4m 26s\n",
      "3000:\tlearn: 5.9009533\ttest: 7.7730913\tbest: 7.7730913 (3000)\ttotal: 1m 39s\tremaining: 3m 51s\n",
      "4000:\tlearn: 5.7967192\ttest: 7.7688533\tbest: 7.7688533 (4000)\ttotal: 2m 11s\tremaining: 3m 17s\n",
      "5000:\tlearn: 5.6945533\ttest: 7.7659804\tbest: 7.7659804 (5000)\ttotal: 2m 44s\tremaining: 2m 44s\n",
      "6000:\tlearn: 5.5961965\ttest: 7.7644694\tbest: 7.7644694 (6000)\ttotal: 3m 17s\tremaining: 2m 11s\n",
      "bestTest = 7.762944292\n",
      "bestIteration = 6783\n",
      "Shrink model to first 6784 iterations.\n",
      "0:\tlearn: 6.3400522\ttest: 7.8584465\tbest: 7.8584465 (0)\ttotal: 36.2ms\tremaining: 6m 1s\n",
      "1000:\tlearn: 6.1380280\ttest: 7.7915798\tbest: 7.7915798 (1000)\ttotal: 33.8s\tremaining: 5m 3s\n",
      "2000:\tlearn: 6.0135056\ttest: 7.7781954\tbest: 7.7781954 (2000)\ttotal: 1m 7s\tremaining: 4m 27s\n",
      "3000:\tlearn: 5.9032184\ttest: 7.7717928\tbest: 7.7717928 (3000)\ttotal: 1m 39s\tremaining: 3m 52s\n",
      "4000:\tlearn: 5.7981584\ttest: 7.7681116\tbest: 7.7681016 (3999)\ttotal: 2m 12s\tremaining: 3m 18s\n",
      "5000:\tlearn: 5.6961401\ttest: 7.7653184\tbest: 7.7653129 (4999)\ttotal: 2m 45s\tremaining: 2m 45s\n",
      "6000:\tlearn: 5.5952695\ttest: 7.7628996\tbest: 7.7628476 (5973)\ttotal: 3m 18s\tremaining: 2m 12s\n",
      "7000:\tlearn: 5.4959494\ttest: 7.7609148\tbest: 7.7609020 (6997)\ttotal: 3m 52s\tremaining: 1m 39s\n",
      "8000:\tlearn: 5.3997173\ttest: 7.7592280\tbest: 7.7592207 (7926)\ttotal: 4m 25s\tremaining: 1m 6s\n",
      "9000:\tlearn: 5.3029134\ttest: 7.7577671\tbest: 7.7577054 (8961)\ttotal: 4m 58s\tremaining: 33.2s\n",
      "9999:\tlearn: 5.2075591\ttest: 7.7564027\tbest: 7.7563468 (9926)\ttotal: 5m 32s\tremaining: 0us\n",
      "bestTest = 7.75634679\n",
      "bestIteration = 9926\n",
      "Shrink model to first 9927 iterations.\n"
     ]
    },
    {
     "name": "stderr",
     "output_type": "stream",
     "text": [
      "\u001b[32m[I 2021-08-21 11:16:01,632]\u001b[0m Trial 1 finished with value: 7.758298954986045 and parameters: {'max_depth': 10, 'learning_rate': 0.007831840041450305, 'max_bin': 468, 'min_data_in_leaf': 60, 'reg_lambda': 0.15526777559231913, 'subsample': 0.5336435347914744}. Best is trial 1 with value: 7.758298954986045.\u001b[0m\n"
     ]
    },
    {
     "name": "stdout",
     "output_type": "stream",
     "text": [
      "0:\tlearn: 6.3398746\ttest: 7.8584839\tbest: 7.8584839 (0)\ttotal: 153ms\tremaining: 25m 32s\n",
      "1000:\tlearn: 5.8368428\ttest: 7.7935498\tbest: 7.7935498 (1000)\ttotal: 2m 29s\tremaining: 22m 23s\n",
      "2000:\tlearn: 5.4646355\ttest: 7.7802572\tbest: 7.7802572 (2000)\ttotal: 4m 56s\tremaining: 19m 43s\n",
      "3000:\tlearn: 5.1451193\ttest: 7.7740599\tbest: 7.7740532 (2970)\ttotal: 7m 21s\tremaining: 17m 9s\n",
      "4000:\tlearn: 4.8430269\ttest: 7.7707122\tbest: 7.7706760 (3953)\ttotal: 9m 46s\tremaining: 14m 39s\n",
      "5000:\tlearn: 4.5546285\ttest: 7.7681061\tbest: 7.7680930 (4987)\ttotal: 12m 12s\tremaining: 12m 12s\n",
      "6000:\tlearn: 4.2726167\ttest: 7.7656173\tbest: 7.7656067 (5999)\ttotal: 14m 40s\tremaining: 9m 46s\n",
      "bestTest = 7.764626748\n",
      "bestIteration = 6466\n",
      "Shrink model to first 6467 iterations.\n",
      "0:\tlearn: 6.3397747\ttest: 7.8584576\tbest: 7.8584576 (0)\ttotal: 148ms\tremaining: 24m 35s\n",
      "1000:\tlearn: 5.8362769\ttest: 7.7935332\tbest: 7.7935207 (998)\ttotal: 2m 29s\tremaining: 22m 27s\n",
      "2000:\tlearn: 5.4646212\ttest: 7.7809055\tbest: 7.7809055 (2000)\ttotal: 4m 57s\tremaining: 19m 48s\n",
      "3000:\tlearn: 5.1334461\ttest: 7.7745060\tbest: 7.7744740 (2998)\ttotal: 7m 24s\tremaining: 17m 15s\n",
      "4000:\tlearn: 4.8302960\ttest: 7.7706657\tbest: 7.7705967 (3990)\ttotal: 9m 50s\tremaining: 14m 45s\n",
      "5000:\tlearn: 4.5383443\ttest: 7.7681947\tbest: 7.7681947 (5000)\ttotal: 12m 18s\tremaining: 12m 18s\n",
      "6000:\tlearn: 4.2590774\ttest: 7.7657236\tbest: 7.7656725 (5961)\ttotal: 14m 46s\tremaining: 9m 50s\n",
      "7000:\tlearn: 3.9935063\ttest: 7.7635400\tbest: 7.7635400 (7000)\ttotal: 17m 15s\tremaining: 7m 23s\n",
      "bestTest = 7.762952\n",
      "bestIteration = 7567\n",
      "Shrink model to first 7568 iterations.\n"
     ]
    },
    {
     "name": "stderr",
     "output_type": "stream",
     "text": [
      "\u001b[32m[I 2021-08-21 11:52:04,017]\u001b[0m Trial 2 finished with value: 7.761587661465915 and parameters: {'max_depth': 13, 'learning_rate': 0.006391580599278894, 'max_bin': 439, 'min_data_in_leaf': 57, 'reg_lambda': 0.22591874383267782, 'subsample': 0.5227366378846107}. Best is trial 1 with value: 7.758298954986045.\u001b[0m\n"
     ]
    },
    {
     "name": "stdout",
     "output_type": "stream",
     "text": [
      "0:\tlearn: 6.3399879\ttest: 7.8584769\tbest: 7.8584769 (0)\ttotal: 83.9ms\tremaining: 13m 58s\n",
      "1000:\tlearn: 5.9856276\ttest: 7.7938217\tbest: 7.7938217 (1000)\ttotal: 1m 28s\tremaining: 13m 12s\n",
      "2000:\tlearn: 5.7369605\ttest: 7.7812701\tbest: 7.7812701 (2000)\ttotal: 2m 54s\tremaining: 11m 36s\n",
      "3000:\tlearn: 5.5121017\ttest: 7.7752917\tbest: 7.7752840 (2997)\ttotal: 4m 19s\tremaining: 10m 4s\n",
      "4000:\tlearn: 5.3023450\ttest: 7.7715137\tbest: 7.7715137 (4000)\ttotal: 5m 44s\tremaining: 8m 36s\n",
      "5000:\tlearn: 5.0981040\ttest: 7.7686819\tbest: 7.7686729 (4992)\ttotal: 7m 10s\tremaining: 7m 10s\n",
      "bestTest = 7.767489523\n",
      "bestIteration = 5600\n",
      "Shrink model to first 5601 iterations.\n",
      "0:\tlearn: 6.3399751\ttest: 7.8584941\tbest: 7.8584941 (0)\ttotal: 94.4ms\tremaining: 15m 44s\n",
      "1000:\tlearn: 5.9842410\ttest: 7.7937024\tbest: 7.7936995 (999)\ttotal: 1m 29s\tremaining: 13m 20s\n",
      "2000:\tlearn: 5.7306361\ttest: 7.7802998\tbest: 7.7802998 (2000)\ttotal: 2m 56s\tremaining: 11m 44s\n",
      "3000:\tlearn: 5.5123024\ttest: 7.7741353\tbest: 7.7741353 (3000)\ttotal: 4m 22s\tremaining: 10m 12s\n",
      "4000:\tlearn: 5.3028601\ttest: 7.7699303\tbest: 7.7699293 (3999)\ttotal: 5m 49s\tremaining: 8m 43s\n",
      "5000:\tlearn: 5.1029235\ttest: 7.7671313\tbest: 7.7671307 (4999)\ttotal: 7m 15s\tremaining: 7m 15s\n",
      "6000:\tlearn: 4.9059046\ttest: 7.7651087\tbest: 7.7651071 (5995)\ttotal: 8m 42s\tremaining: 5m 48s\n",
      "7000:\tlearn: 4.7118277\ttest: 7.7634980\tbest: 7.7634980 (7000)\ttotal: 10m 10s\tremaining: 4m 21s\n",
      "8000:\tlearn: 4.5223575\ttest: 7.7621509\tbest: 7.7620787 (7956)\ttotal: 11m 39s\tremaining: 2m 54s\n",
      "9000:\tlearn: 4.3370751\ttest: 7.7607651\tbest: 7.7607532 (8965)\ttotal: 13m 8s\tremaining: 1m 27s\n",
      "bestTest = 7.76031631\n",
      "bestIteration = 9357\n",
      "Shrink model to first 9358 iterations.\n"
     ]
    },
    {
     "name": "stderr",
     "output_type": "stream",
     "text": [
      "\u001b[32m[I 2021-08-21 12:14:45,262]\u001b[0m Trial 3 finished with value: 7.761981176998604 and parameters: {'max_depth': 12, 'learning_rate': 0.006548734431162558, 'max_bin': 468, 'min_data_in_leaf': 69, 'reg_lambda': 0.14538121154337252, 'subsample': 0.5372354190443043}. Best is trial 1 with value: 7.758298954986045.\u001b[0m\n"
     ]
    },
    {
     "name": "stdout",
     "output_type": "stream",
     "text": [
      "0:\tlearn: 6.3399832\ttest: 7.8584040\tbest: 7.8584040 (0)\ttotal: 53.7ms\tremaining: 8m 56s\n",
      "1000:\tlearn: 6.0583950\ttest: 7.7912285\tbest: 7.7912285 (1000)\ttotal: 52.3s\tremaining: 7m 50s\n",
      "2000:\tlearn: 5.8692461\ttest: 7.7786102\tbest: 7.7786025 (1999)\ttotal: 1m 42s\tremaining: 6m 50s\n",
      "3000:\tlearn: 5.7000211\ttest: 7.7719230\tbest: 7.7718980 (2989)\ttotal: 2m 33s\tremaining: 5m 58s\n",
      "4000:\tlearn: 5.5365691\ttest: 7.7681080\tbest: 7.7680792 (3987)\ttotal: 3m 24s\tremaining: 5m 6s\n",
      "5000:\tlearn: 5.3799756\ttest: 7.7650875\tbest: 7.7650875 (5000)\ttotal: 4m 15s\tremaining: 4m 15s\n",
      "6000:\tlearn: 5.2244928\ttest: 7.7632924\tbest: 7.7632754 (5998)\ttotal: 5m 6s\tremaining: 3m 24s\n",
      "7000:\tlearn: 5.0727159\ttest: 7.7609711\tbest: 7.7609637 (6999)\ttotal: 5m 57s\tremaining: 2m 33s\n",
      "8000:\tlearn: 4.9237078\ttest: 7.7593456\tbest: 7.7593389 (7997)\ttotal: 6m 49s\tremaining: 1m 42s\n",
      "9000:\tlearn: 4.7763903\ttest: 7.7588383\tbest: 7.7587582 (8890)\ttotal: 7m 41s\tremaining: 51.3s\n",
      "bestTest = 7.758758245\n",
      "bestIteration = 8890\n",
      "Shrink model to first 8891 iterations.\n",
      "0:\tlearn: 6.3399667\ttest: 7.8584293\tbest: 7.8584293 (0)\ttotal: 55.7ms\tremaining: 9m 16s\n",
      "1000:\tlearn: 6.0591076\ttest: 7.7910480\tbest: 7.7910480 (1000)\ttotal: 53.2s\tremaining: 7m 58s\n",
      "2000:\tlearn: 5.8705930\ttest: 7.7781531\tbest: 7.7781531 (2000)\ttotal: 1m 44s\tremaining: 6m 57s\n",
      "3000:\tlearn: 5.6981274\ttest: 7.7725704\tbest: 7.7725617 (2999)\ttotal: 2m 35s\tremaining: 6m 3s\n",
      "4000:\tlearn: 5.5368295\ttest: 7.7690192\tbest: 7.7690137 (3999)\ttotal: 3m 26s\tremaining: 5m 10s\n",
      "5000:\tlearn: 5.3789323\ttest: 7.7663284\tbest: 7.7663092 (4974)\ttotal: 4m 18s\tremaining: 4m 18s\n",
      "6000:\tlearn: 5.2233353\ttest: 7.7642016\tbest: 7.7641403 (5976)\ttotal: 5m 10s\tremaining: 3m 26s\n",
      "7000:\tlearn: 5.0706989\ttest: 7.7625920\tbest: 7.7625020 (6982)\ttotal: 6m 2s\tremaining: 2m 35s\n",
      "8000:\tlearn: 4.9239525\ttest: 7.7604059\tbest: 7.7604021 (7998)\ttotal: 6m 55s\tremaining: 1m 43s\n",
      "9000:\tlearn: 4.7770537\ttest: 7.7591831\tbest: 7.7591458 (8985)\ttotal: 7m 47s\tremaining: 51.9s\n",
      "bestTest = 7.758667624\n",
      "bestIteration = 9559\n",
      "Shrink model to first 9560 iterations.\n"
     ]
    },
    {
     "name": "stderr",
     "output_type": "stream",
     "text": [
      "\u001b[32m[I 2021-08-21 12:31:20,995]\u001b[0m Trial 4 finished with value: 7.756711432376151 and parameters: {'max_depth': 11, 'learning_rate': 0.007698581630599048, 'max_bin': 472, 'min_data_in_leaf': 71, 'reg_lambda': 0.045358981110052994, 'subsample': 0.5023987878338134}. Best is trial 4 with value: 7.756711432376151.\u001b[0m\n"
     ]
    },
    {
     "name": "stdout",
     "output_type": "stream",
     "text": [
      "0:\tlearn: 6.3400855\ttest: 7.8584401\tbest: 7.8584401 (0)\ttotal: 32.8ms\tremaining: 5m 28s\n",
      "1000:\tlearn: 6.1400410\ttest: 7.7930757\tbest: 7.7930757 (1000)\ttotal: 32.3s\tremaining: 4m 50s\n",
      "2000:\tlearn: 6.0154403\ttest: 7.7795217\tbest: 7.7795105 (1996)\ttotal: 1m 4s\tremaining: 4m 16s\n",
      "3000:\tlearn: 5.9064171\ttest: 7.7730387\tbest: 7.7730316 (2997)\ttotal: 1m 35s\tremaining: 3m 43s\n",
      "4000:\tlearn: 5.8032499\ttest: 7.7687917\tbest: 7.7687917 (4000)\ttotal: 2m 7s\tremaining: 3m 10s\n",
      "5000:\tlearn: 5.7008497\ttest: 7.7657554\tbest: 7.7657441 (4994)\ttotal: 2m 38s\tremaining: 2m 38s\n",
      "6000:\tlearn: 5.6015110\ttest: 7.7633384\tbest: 7.7633268 (5996)\ttotal: 3m 10s\tremaining: 2m 7s\n",
      "7000:\tlearn: 5.5028612\ttest: 7.7614488\tbest: 7.7614211 (6981)\ttotal: 3m 42s\tremaining: 1m 35s\n",
      "8000:\tlearn: 5.4056307\ttest: 7.7600323\tbest: 7.7599979 (7984)\ttotal: 4m 14s\tremaining: 1m 3s\n",
      "9000:\tlearn: 5.3101121\ttest: 7.7592386\tbest: 7.7591969 (8980)\ttotal: 4m 46s\tremaining: 31.8s\n",
      "9999:\tlearn: 5.2165206\ttest: 7.7580300\tbest: 7.7580223 (9997)\ttotal: 5m 18s\tremaining: 0us\n",
      "bestTest = 7.758022322\n",
      "bestIteration = 9997\n",
      "Shrink model to first 9998 iterations.\n",
      "0:\tlearn: 6.3400784\ttest: 7.8584490\tbest: 7.8584490 (0)\ttotal: 34.1ms\tremaining: 5m 41s\n",
      "1000:\tlearn: 6.1399827\ttest: 7.7934503\tbest: 7.7934503 (1000)\ttotal: 32.7s\tremaining: 4m 53s\n",
      "2000:\tlearn: 6.0163527\ttest: 7.7801342\tbest: 7.7801342 (2000)\ttotal: 1m 4s\tremaining: 4m 18s\n",
      "3000:\tlearn: 5.9065202\ttest: 7.7736109\tbest: 7.7736109 (3000)\ttotal: 1m 36s\tremaining: 3m 44s\n",
      "4000:\tlearn: 5.8014012\ttest: 7.7697570\tbest: 7.7697570 (4000)\ttotal: 2m 7s\tremaining: 3m 11s\n",
      "5000:\tlearn: 5.7015919\ttest: 7.7667657\tbest: 7.7667162 (4987)\ttotal: 2m 39s\tremaining: 2m 39s\n",
      "6000:\tlearn: 5.6031877\ttest: 7.7645577\tbest: 7.7645417 (5993)\ttotal: 3m 11s\tremaining: 2m 7s\n",
      "7000:\tlearn: 5.5057039\ttest: 7.7621590\tbest: 7.7621548 (6996)\ttotal: 3m 43s\tremaining: 1m 35s\n",
      "8000:\tlearn: 5.4083656\ttest: 7.7605695\tbest: 7.7605187 (7993)\ttotal: 4m 15s\tremaining: 1m 3s\n",
      "bestTest = 7.759001181\n",
      "bestIteration = 8766\n",
      "Shrink model to first 8767 iterations.\n"
     ]
    },
    {
     "name": "stderr",
     "output_type": "stream",
     "text": [
      "\u001b[32m[I 2021-08-21 12:41:42,373]\u001b[0m Trial 5 finished with value: 7.7571825171571325 and parameters: {'max_depth': 10, 'learning_rate': 0.007513435782072527, 'max_bin': 423, 'min_data_in_leaf': 64, 'reg_lambda': 0.06468541358977385, 'subsample': 0.5198426299234927}. Best is trial 4 with value: 7.756711432376151.\u001b[0m\n"
     ]
    },
    {
     "name": "stdout",
     "output_type": "stream",
     "text": [
      "0:\tlearn: 6.3402243\ttest: 7.8585169\tbest: 7.8585169 (0)\ttotal: 23.2ms\tremaining: 3m 51s\n",
      "1000:\tlearn: 6.2027305\ttest: 7.7975643\tbest: 7.7975573 (999)\ttotal: 22.9s\tremaining: 3m 26s\n",
      "2000:\tlearn: 6.1279215\ttest: 7.7835576\tbest: 7.7835576 (2000)\ttotal: 45.2s\tremaining: 3m\n",
      "3000:\tlearn: 6.0639279\ttest: 7.7765749\tbest: 7.7765723 (2999)\ttotal: 1m 7s\tremaining: 2m 36s\n",
      "4000:\tlearn: 6.0038337\ttest: 7.7720911\tbest: 7.7720857 (3999)\ttotal: 1m 29s\tremaining: 2m 14s\n",
      "5000:\tlearn: 5.9463387\ttest: 7.7690728\tbest: 7.7690728 (5000)\ttotal: 1m 52s\tremaining: 1m 51s\n",
      "6000:\tlearn: 5.8910748\ttest: 7.7667554\tbest: 7.7667483 (5996)\ttotal: 2m 13s\tremaining: 1m 29s\n",
      "7000:\tlearn: 5.8367818\ttest: 7.7647786\tbest: 7.7647712 (6996)\ttotal: 2m 36s\tremaining: 1m 6s\n",
      "8000:\tlearn: 5.7831998\ttest: 7.7629889\tbest: 7.7629889 (8000)\ttotal: 2m 58s\tremaining: 44.6s\n",
      "9000:\tlearn: 5.7296270\ttest: 7.7616322\tbest: 7.7616322 (8998)\ttotal: 3m 20s\tremaining: 22.3s\n",
      "9999:\tlearn: 5.6773891\ttest: 7.7598961\tbest: 7.7598855 (9998)\ttotal: 3m 42s\tremaining: 0us\n",
      "bestTest = 7.759885455\n",
      "bestIteration = 9998\n",
      "Shrink model to first 9999 iterations.\n",
      "0:\tlearn: 6.3402006\ttest: 7.8585052\tbest: 7.8585052 (0)\ttotal: 24.4ms\tremaining: 4m 3s\n",
      "1000:\tlearn: 6.2023672\ttest: 7.7975576\tbest: 7.7975576 (1000)\ttotal: 23s\tremaining: 3m 27s\n",
      "2000:\tlearn: 6.1276604\ttest: 7.7829874\tbest: 7.7829874 (2000)\ttotal: 45.5s\tremaining: 3m 1s\n",
      "3000:\tlearn: 6.0638710\ttest: 7.7758506\tbest: 7.7758506 (3000)\ttotal: 1m 7s\tremaining: 2m 36s\n",
      "4000:\tlearn: 6.0040291\ttest: 7.7719538\tbest: 7.7719458 (3999)\ttotal: 1m 29s\tremaining: 2m 14s\n",
      "5000:\tlearn: 5.9467770\ttest: 7.7689104\tbest: 7.7689082 (4999)\ttotal: 1m 51s\tremaining: 1m 51s\n",
      "6000:\tlearn: 5.8914079\ttest: 7.7664353\tbest: 7.7664312 (5999)\ttotal: 2m 13s\tremaining: 1m 28s\n",
      "7000:\tlearn: 5.8369537\ttest: 7.7641438\tbest: 7.7641287 (6994)\ttotal: 2m 36s\tremaining: 1m 6s\n",
      "8000:\tlearn: 5.7832133\ttest: 7.7625428\tbest: 7.7625345 (7997)\ttotal: 2m 58s\tremaining: 44.7s\n",
      "9000:\tlearn: 5.7301579\ttest: 7.7613649\tbest: 7.7613540 (8998)\ttotal: 3m 20s\tremaining: 22.3s\n",
      "9999:\tlearn: 5.6772862\ttest: 7.7599600\tbest: 7.7599600 (9999)\ttotal: 3m 43s\tremaining: 0us\n",
      "bestTest = 7.759959997\n",
      "bestIteration = 9999\n"
     ]
    },
    {
     "name": "stderr",
     "output_type": "stream",
     "text": [
      "\u001b[32m[I 2021-08-21 12:49:23,415]\u001b[0m Trial 6 finished with value: 7.759223270722371 and parameters: {'max_depth': 9, 'learning_rate': 0.0065893729734609234, 'max_bin': 433, 'min_data_in_leaf': 71, 'reg_lambda': 0.20975510674245768, 'subsample': 0.5246361567678419}. Best is trial 4 with value: 7.756711432376151.\u001b[0m\n"
     ]
    },
    {
     "name": "stdout",
     "output_type": "stream",
     "text": [
      "0:\tlearn: 6.3401634\ttest: 7.8584782\tbest: 7.8584782 (0)\ttotal: 23.4ms\tremaining: 3m 53s\n",
      "1000:\tlearn: 6.1876336\ttest: 7.7944698\tbest: 7.7944698 (1000)\ttotal: 23.1s\tremaining: 3m 27s\n",
      "2000:\tlearn: 6.1022230\ttest: 7.7803697\tbest: 7.7803697 (2000)\ttotal: 45.9s\tremaining: 3m 3s\n",
      "3000:\tlearn: 6.0277789\ttest: 7.7735118\tbest: 7.7735118 (3000)\ttotal: 1m 7s\tremaining: 2m 37s\n",
      "4000:\tlearn: 5.9575021\ttest: 7.7694916\tbest: 7.7694884 (3997)\ttotal: 1m 29s\tremaining: 2m 14s\n",
      "5000:\tlearn: 5.8904706\ttest: 7.7670045\tbest: 7.7670026 (4999)\ttotal: 1m 52s\tremaining: 1m 52s\n",
      "6000:\tlearn: 5.8245150\ttest: 7.7652384\tbest: 7.7652384 (6000)\ttotal: 2m 14s\tremaining: 1m 29s\n",
      "7000:\tlearn: 5.7597106\ttest: 7.7634530\tbest: 7.7634312 (6983)\ttotal: 2m 36s\tremaining: 1m 7s\n",
      "8000:\tlearn: 5.6962630\ttest: 7.7618866\tbest: 7.7618821 (7999)\ttotal: 2m 59s\tremaining: 44.9s\n",
      "9000:\tlearn: 5.6330839\ttest: 7.7605444\tbest: 7.7605441 (8979)\ttotal: 3m 21s\tremaining: 22.4s\n",
      "9999:\tlearn: 5.5706348\ttest: 7.7591027\tbest: 7.7590664 (9923)\ttotal: 3m 44s\tremaining: 0us\n",
      "bestTest = 7.759066413\n",
      "bestIteration = 9923\n",
      "Shrink model to first 9924 iterations.\n",
      "0:\tlearn: 6.3401338\ttest: 7.8584550\tbest: 7.8584550 (0)\ttotal: 24.5ms\tremaining: 4m 5s\n",
      "1000:\tlearn: 6.1872449\ttest: 7.7933124\tbest: 7.7933124 (1000)\ttotal: 23.3s\tremaining: 3m 29s\n",
      "2000:\tlearn: 6.1027320\ttest: 7.7797323\tbest: 7.7797323 (2000)\ttotal: 46.2s\tremaining: 3m 4s\n",
      "3000:\tlearn: 6.0278505\ttest: 7.7732530\tbest: 7.7732427 (2997)\ttotal: 1m 8s\tremaining: 2m 38s\n",
      "4000:\tlearn: 5.9572737\ttest: 7.7690048\tbest: 7.7690048 (3999)\ttotal: 1m 30s\tremaining: 2m 15s\n",
      "5000:\tlearn: 5.8897140\ttest: 7.7660353\tbest: 7.7660112 (4990)\ttotal: 1m 53s\tremaining: 1m 53s\n",
      "6000:\tlearn: 5.8233329\ttest: 7.7637591\tbest: 7.7637591 (6000)\ttotal: 2m 15s\tremaining: 1m 30s\n",
      "7000:\tlearn: 5.7577936\ttest: 7.7618175\tbest: 7.7617957 (6998)\ttotal: 2m 38s\tremaining: 1m 7s\n",
      "8000:\tlearn: 5.6937713\ttest: 7.7599635\tbest: 7.7599443 (7994)\ttotal: 3m 1s\tremaining: 45.2s\n",
      "9000:\tlearn: 5.6303111\ttest: 7.7589443\tbest: 7.7589295 (8986)\ttotal: 3m 23s\tremaining: 22.6s\n",
      "9999:\tlearn: 5.5680298\ttest: 7.7578449\tbest: 7.7578089 (9965)\ttotal: 3m 46s\tremaining: 0us\n",
      "bestTest = 7.757808923\n",
      "bestIteration = 9965\n",
      "Shrink model to first 9966 iterations.\n"
     ]
    },
    {
     "name": "stderr",
     "output_type": "stream",
     "text": [
      "\u001b[32m[I 2021-08-21 12:57:09,276]\u001b[0m Trial 7 finished with value: 7.757494531210339 and parameters: {'max_depth': 9, 'learning_rate': 0.007538745237146731, 'max_bin': 418, 'min_data_in_leaf': 59, 'reg_lambda': 0.06407428073334664, 'subsample': 0.5799470766637287}. Best is trial 4 with value: 7.756711432376151.\u001b[0m\n"
     ]
    },
    {
     "name": "stdout",
     "output_type": "stream",
     "text": [
      "0:\tlearn: 6.3401420\ttest: 7.8584446\tbest: 7.8584446 (0)\ttotal: 23ms\tremaining: 3m 49s\n",
      "1000:\tlearn: 6.1868207\ttest: 7.7938831\tbest: 7.7938831 (1000)\ttotal: 22.6s\tremaining: 3m 23s\n",
      "2000:\tlearn: 6.1027732\ttest: 7.7802588\tbest: 7.7802588 (2000)\ttotal: 45.2s\tremaining: 3m\n",
      "3000:\tlearn: 6.0296979\ttest: 7.7735625\tbest: 7.7735625 (3000)\ttotal: 1m 6s\tremaining: 2m 35s\n",
      "4000:\tlearn: 5.9615636\ttest: 7.7694329\tbest: 7.7694088 (3995)\ttotal: 1m 29s\tremaining: 2m 13s\n",
      "5000:\tlearn: 5.8958388\ttest: 7.7665050\tbest: 7.7664877 (4994)\ttotal: 1m 51s\tremaining: 1m 51s\n",
      "6000:\tlearn: 5.8315706\ttest: 7.7642286\tbest: 7.7642199 (5998)\ttotal: 2m 13s\tremaining: 1m 29s\n",
      "7000:\tlearn: 5.7681968\ttest: 7.7626433\tbest: 7.7626270 (6981)\ttotal: 2m 35s\tremaining: 1m 6s\n",
      "8000:\tlearn: 5.7049044\ttest: 7.7611147\tbest: 7.7610864 (7979)\ttotal: 2m 57s\tremaining: 44.4s\n",
      "9000:\tlearn: 5.6429735\ttest: 7.7599844\tbest: 7.7599658 (8999)\ttotal: 3m 20s\tremaining: 22.2s\n",
      "9999:\tlearn: 5.5820289\ttest: 7.7587046\tbest: 7.7587046 (9998)\ttotal: 3m 42s\tremaining: 0us\n",
      "bestTest = 7.75870458\n",
      "bestIteration = 9998\n",
      "Shrink model to first 9999 iterations.\n",
      "0:\tlearn: 6.3401124\ttest: 7.8584404\tbest: 7.8584404 (0)\ttotal: 24ms\tremaining: 3m 59s\n",
      "1000:\tlearn: 6.1870134\ttest: 7.7938582\tbest: 7.7938579 (999)\ttotal: 23.1s\tremaining: 3m 27s\n",
      "2000:\tlearn: 6.1029153\ttest: 7.7798880\tbest: 7.7798861 (1998)\ttotal: 45.7s\tremaining: 3m 2s\n",
      "3000:\tlearn: 6.0299132\ttest: 7.7735917\tbest: 7.7735795 (2997)\ttotal: 1m 8s\tremaining: 2m 39s\n",
      "4000:\tlearn: 5.9610509\ttest: 7.7693016\tbest: 7.7692965 (3999)\ttotal: 1m 29s\tremaining: 2m 14s\n",
      "5000:\tlearn: 5.8961963\ttest: 7.7664177\tbest: 7.7663881 (4994)\ttotal: 1m 52s\tremaining: 1m 52s\n",
      "6000:\tlearn: 5.8319784\ttest: 7.7639768\tbest: 7.7639768 (6000)\ttotal: 2m 14s\tremaining: 1m 29s\n",
      "7000:\tlearn: 5.7685668\ttest: 7.7621355\tbest: 7.7621355 (7000)\ttotal: 2m 36s\tremaining: 1m 7s\n",
      "8000:\tlearn: 5.7062225\ttest: 7.7606527\tbest: 7.7606472 (7996)\ttotal: 2m 59s\tremaining: 44.8s\n",
      "9000:\tlearn: 5.6445156\ttest: 7.7592981\tbest: 7.7592939 (8999)\ttotal: 3m 21s\tremaining: 22.4s\n",
      "9999:\tlearn: 5.5835758\ttest: 7.7580866\tbest: 7.7580349 (9957)\ttotal: 3m 44s\tremaining: 0us\n",
      "bestTest = 7.758034855\n",
      "bestIteration = 9957\n",
      "Shrink model to first 9958 iterations.\n"
     ]
    },
    {
     "name": "stderr",
     "output_type": "stream",
     "text": [
      "\u001b[32m[I 2021-08-21 13:04:50,725]\u001b[0m Trial 8 finished with value: 7.757432812617756 and parameters: {'max_depth': 9, 'learning_rate': 0.007820689835681733, 'max_bin': 440, 'min_data_in_leaf': 66, 'reg_lambda': 0.20063642755396546, 'subsample': 0.5131878804957468}. Best is trial 4 with value: 7.756711432376151.\u001b[0m\n"
     ]
    },
    {
     "name": "stdout",
     "output_type": "stream",
     "text": [
      "0:\tlearn: 6.3401328\ttest: 7.8584725\tbest: 7.8584725 (0)\ttotal: 34.1ms\tremaining: 5m 40s\n",
      "1000:\tlearn: 6.1510225\ttest: 7.7954745\tbest: 7.7954745 (1000)\ttotal: 33s\tremaining: 4m 56s\n",
      "2000:\tlearn: 6.0348001\ttest: 7.7813442\tbest: 7.7813442 (2000)\ttotal: 1m 5s\tremaining: 4m 21s\n",
      "3000:\tlearn: 5.9328987\ttest: 7.7754427\tbest: 7.7754427 (3000)\ttotal: 1m 36s\tremaining: 3m 46s\n",
      "4000:\tlearn: 5.8369149\ttest: 7.7711139\tbest: 7.7711139 (4000)\ttotal: 2m 7s\tremaining: 3m 11s\n",
      "5000:\tlearn: 5.7442202\ttest: 7.7678859\tbest: 7.7678859 (5000)\ttotal: 2m 39s\tremaining: 2m 39s\n",
      "6000:\tlearn: 5.6545526\ttest: 7.7655528\tbest: 7.7655528 (6000)\ttotal: 3m 11s\tremaining: 2m 7s\n",
      "7000:\tlearn: 5.5646544\ttest: 7.7637604\tbest: 7.7637604 (7000)\ttotal: 3m 43s\tremaining: 1m 35s\n",
      "8000:\tlearn: 5.4753796\ttest: 7.7624599\tbest: 7.7624448 (7989)\ttotal: 4m 15s\tremaining: 1m 3s\n",
      "9000:\tlearn: 5.3869034\ttest: 7.7612300\tbest: 7.7612001 (8993)\ttotal: 4m 47s\tremaining: 31.9s\n",
      "9999:\tlearn: 5.2996798\ttest: 7.7599751\tbest: 7.7599353 (9973)\ttotal: 5m 19s\tremaining: 0us\n",
      "bestTest = 7.759935257\n",
      "bestIteration = 9973\n",
      "Shrink model to first 9974 iterations.\n",
      "0:\tlearn: 6.3401257\ttest: 7.8584734\tbest: 7.8584734 (0)\ttotal: 34ms\tremaining: 5m 39s\n",
      "1000:\tlearn: 6.1518044\ttest: 7.7946298\tbest: 7.7946298 (1000)\ttotal: 32.8s\tremaining: 4m 54s\n",
      "2000:\tlearn: 6.0358360\ttest: 7.7806953\tbest: 7.7806953 (2000)\ttotal: 1m 4s\tremaining: 4m 19s\n",
      "3000:\tlearn: 5.9328771\ttest: 7.7741007\tbest: 7.7740920 (2996)\ttotal: 1m 36s\tremaining: 3m 45s\n",
      "4000:\tlearn: 5.8369365\ttest: 7.7695044\tbest: 7.7695044 (4000)\ttotal: 2m 8s\tremaining: 3m 12s\n",
      "5000:\tlearn: 5.7436381\ttest: 7.7667307\tbest: 7.7667198 (4999)\ttotal: 2m 40s\tremaining: 2m 39s\n",
      "6000:\tlearn: 5.6525766\ttest: 7.7642658\tbest: 7.7642658 (6000)\ttotal: 3m 11s\tremaining: 2m 7s\n",
      "7000:\tlearn: 5.5629371\ttest: 7.7623054\tbest: 7.7622842 (6981)\ttotal: 3m 43s\tremaining: 1m 35s\n",
      "8000:\tlearn: 5.4731221\ttest: 7.7603899\tbest: 7.7603597 (7996)\ttotal: 4m 16s\tremaining: 1m 4s\n",
      "9000:\tlearn: 5.3856955\ttest: 7.7590555\tbest: 7.7590150 (8968)\ttotal: 4m 48s\tremaining: 32s\n",
      "9999:\tlearn: 5.2988174\ttest: 7.7582216\tbest: 7.7582151 (9961)\ttotal: 5m 20s\tremaining: 0us\n",
      "bestTest = 7.758215147\n",
      "bestIteration = 9961\n",
      "Shrink model to first 9962 iterations.\n"
     ]
    },
    {
     "name": "stderr",
     "output_type": "stream",
     "text": [
      "\u001b[32m[I 2021-08-21 13:15:48,242]\u001b[0m Trial 9 finished with value: 7.7579018226670655 and parameters: {'max_depth': 10, 'learning_rate': 0.00697738291977645, 'max_bin': 461, 'min_data_in_leaf': 76, 'reg_lambda': 0.04646993497903901, 'subsample': 0.4745284527730163}. Best is trial 4 with value: 7.756711432376151.\u001b[0m\n"
     ]
    },
    {
     "name": "stdout",
     "output_type": "stream",
     "text": [
      "0:\tlearn: 6.3400596\ttest: 7.8585242\tbest: 7.8585242 (0)\ttotal: 54.7ms\tremaining: 9m 7s\n",
      "1000:\tlearn: 6.0753025\ttest: 7.7932072\tbest: 7.7932056 (999)\ttotal: 52s\tremaining: 7m 47s\n",
      "2000:\tlearn: 5.8986307\ttest: 7.7798871\tbest: 7.7798871 (2000)\ttotal: 1m 43s\tremaining: 6m 53s\n",
      "3000:\tlearn: 5.7429084\ttest: 7.7732485\tbest: 7.7732263 (2996)\ttotal: 2m 33s\tremaining: 5m 58s\n",
      "4000:\tlearn: 5.5934378\ttest: 7.7688080\tbest: 7.7688080 (4000)\ttotal: 3m 24s\tremaining: 5m 6s\n",
      "5000:\tlearn: 5.4493050\ttest: 7.7660652\tbest: 7.7660610 (4998)\ttotal: 4m 15s\tremaining: 4m 15s\n",
      "6000:\tlearn: 5.3075350\ttest: 7.7641139\tbest: 7.7639704 (5976)\ttotal: 5m 6s\tremaining: 3m 24s\n",
      "7000:\tlearn: 5.1677603\ttest: 7.7621683\tbest: 7.7621214 (6986)\ttotal: 5m 57s\tremaining: 2m 33s\n",
      "8000:\tlearn: 5.0286302\ttest: 7.7606713\tbest: 7.7606180 (7983)\ttotal: 6m 49s\tremaining: 1m 42s\n",
      "bestTest = 7.76061799\n",
      "bestIteration = 7983\n",
      "Shrink model to first 7984 iterations.\n",
      "0:\tlearn: 6.3400320\ttest: 7.8584531\tbest: 7.8584531 (0)\ttotal: 54.4ms\tremaining: 9m 3s\n",
      "1000:\tlearn: 6.0764234\ttest: 7.7927381\tbest: 7.7927381 (1000)\ttotal: 51.9s\tremaining: 7m 46s\n",
      "2000:\tlearn: 5.9002937\ttest: 7.7795733\tbest: 7.7795733 (2000)\ttotal: 1m 43s\tremaining: 6m 54s\n",
      "3000:\tlearn: 5.7461479\ttest: 7.7726281\tbest: 7.7726281 (3000)\ttotal: 2m 34s\tremaining: 6m\n",
      "4000:\tlearn: 5.5977141\ttest: 7.7683183\tbest: 7.7683183 (4000)\ttotal: 3m 25s\tremaining: 5m 7s\n",
      "5000:\tlearn: 5.4519893\ttest: 7.7658896\tbest: 7.7658693 (4996)\ttotal: 4m 16s\tremaining: 4m 16s\n",
      "6000:\tlearn: 5.3103669\ttest: 7.7634337\tbest: 7.7633653 (5987)\ttotal: 5m 7s\tremaining: 3m 25s\n",
      "7000:\tlearn: 5.1678075\ttest: 7.7621317\tbest: 7.7621297 (6999)\ttotal: 5m 59s\tremaining: 2m 34s\n",
      "8000:\tlearn: 5.0313528\ttest: 7.7612840\tbest: 7.7610122 (7875)\ttotal: 6m 51s\tremaining: 1m 42s\n",
      "bestTest = 7.76101218\n",
      "bestIteration = 7875\n",
      "Shrink model to first 7876 iterations.\n"
     ]
    },
    {
     "name": "stderr",
     "output_type": "stream",
     "text": [
      "\u001b[32m[I 2021-08-21 13:30:01,542]\u001b[0m Trial 10 finished with value: 7.759338579562405 and parameters: {'max_depth': 11, 'learning_rate': 0.007138323980886674, 'max_bin': 485, 'min_data_in_leaf': 77, 'reg_lambda': 0.10633075056344596, 'subsample': 0.4794599070068866}. Best is trial 4 with value: 7.756711432376151.\u001b[0m\n"
     ]
    },
    {
     "name": "stdout",
     "output_type": "stream",
     "text": [
      "0:\tlearn: 6.3400069\ttest: 7.8584449\tbest: 7.8584449 (0)\ttotal: 48.9ms\tremaining: 8m 9s\n",
      "1000:\tlearn: 6.0700510\ttest: 7.7926194\tbest: 7.7926194 (1000)\ttotal: 47.4s\tremaining: 7m 6s\n",
      "2000:\tlearn: 5.8865368\ttest: 7.7797076\tbest: 7.7797076 (2000)\ttotal: 1m 34s\tremaining: 6m 16s\n",
      "3000:\tlearn: 5.7204502\ttest: 7.7732132\tbest: 7.7732093 (2973)\ttotal: 2m 20s\tremaining: 5m 27s\n",
      "4000:\tlearn: 5.5638189\ttest: 7.7689916\tbest: 7.7689916 (4000)\ttotal: 3m 6s\tremaining: 4m 39s\n",
      "5000:\tlearn: 5.4112620\ttest: 7.7663615\tbest: 7.7662700 (4974)\ttotal: 3m 52s\tremaining: 3m 52s\n",
      "6000:\tlearn: 5.2617072\ttest: 7.7642954\tbest: 7.7642610 (5987)\ttotal: 4m 39s\tremaining: 3m 6s\n",
      "7000:\tlearn: 5.1165514\ttest: 7.7626022\tbest: 7.7626022 (7000)\ttotal: 5m 26s\tremaining: 2m 19s\n",
      "8000:\tlearn: 4.9728386\ttest: 7.7611063\tbest: 7.7610877 (7993)\ttotal: 6m 13s\tremaining: 1m 33s\n",
      "9000:\tlearn: 4.8314757\ttest: 7.7595992\tbest: 7.7595670 (8959)\ttotal: 7m\tremaining: 46.7s\n",
      "9999:\tlearn: 4.6958674\ttest: 7.7587345\tbest: 7.7587129 (9998)\ttotal: 7m 47s\tremaining: 0us\n",
      "bestTest = 7.758712935\n",
      "bestIteration = 9998\n",
      "Shrink model to first 9999 iterations.\n",
      "0:\tlearn: 6.3400089\ttest: 7.8584458\tbest: 7.8584458 (0)\ttotal: 50.4ms\tremaining: 8m 24s\n",
      "1000:\tlearn: 6.0690913\ttest: 7.7925842\tbest: 7.7925842 (1000)\ttotal: 47.8s\tremaining: 7m 9s\n",
      "2000:\tlearn: 5.8874015\ttest: 7.7792682\tbest: 7.7792682 (1999)\ttotal: 1m 35s\tremaining: 6m 20s\n",
      "3000:\tlearn: 5.7235825\ttest: 7.7727045\tbest: 7.7727016 (2999)\ttotal: 2m 21s\tremaining: 5m 30s\n",
      "4000:\tlearn: 5.5674023\ttest: 7.7690567\tbest: 7.7690182 (3970)\ttotal: 3m 8s\tremaining: 4m 42s\n",
      "5000:\tlearn: 5.4156267\ttest: 7.7658302\tbest: 7.7658253 (4999)\ttotal: 3m 55s\tremaining: 3m 55s\n",
      "6000:\tlearn: 5.2677791\ttest: 7.7635966\tbest: 7.7635966 (6000)\ttotal: 4m 42s\tremaining: 3m 8s\n",
      "7000:\tlearn: 5.1197060\ttest: 7.7619399\tbest: 7.7619367 (6983)\ttotal: 5m 30s\tremaining: 2m 21s\n",
      "8000:\tlearn: 4.9769713\ttest: 7.7604435\tbest: 7.7604243 (7999)\ttotal: 6m 18s\tremaining: 1m 34s\n",
      "9000:\tlearn: 4.8351246\ttest: 7.7587647\tbest: 7.7587264 (8983)\ttotal: 7m 6s\tremaining: 47.3s\n",
      "9999:\tlearn: 4.6966541\ttest: 7.7571414\tbest: 7.7571362 (9997)\ttotal: 7m 54s\tremaining: 0us\n",
      "bestTest = 7.757136228\n",
      "bestIteration = 9997\n",
      "Shrink model to first 9998 iterations.\n"
     ]
    },
    {
     "name": "stderr",
     "output_type": "stream",
     "text": [
      "\u001b[32m[I 2021-08-21 13:46:05,514]\u001b[0m Trial 11 finished with value: 7.756000258000434 and parameters: {'max_depth': 11, 'learning_rate': 0.0073229907325453696, 'max_bin': 408, 'min_data_in_leaf': 64, 'reg_lambda': 0.09207259245356939, 'subsample': 0.49677374687682424}. Best is trial 11 with value: 7.756000258000434.\u001b[0m\n"
     ]
    },
    {
     "name": "stdout",
     "output_type": "stream",
     "text": [
      "0:\tlearn: 6.3400158\ttest: 7.8584439\tbest: 7.8584439 (0)\ttotal: 53.4ms\tremaining: 8m 53s\n",
      "1000:\tlearn: 6.0738116\ttest: 7.7923027\tbest: 7.7923027 (1000)\ttotal: 51.2s\tremaining: 7m 40s\n",
      "2000:\tlearn: 5.8914180\ttest: 7.7787054\tbest: 7.7787054 (2000)\ttotal: 1m 41s\tremaining: 6m 47s\n",
      "3000:\tlearn: 5.7311285\ttest: 7.7724764\tbest: 7.7724729 (2998)\ttotal: 2m 32s\tremaining: 5m 54s\n",
      "4000:\tlearn: 5.5819811\ttest: 7.7687679\tbest: 7.7687679 (4000)\ttotal: 3m 21s\tremaining: 5m 2s\n",
      "5000:\tlearn: 5.4336334\ttest: 7.7656703\tbest: 7.7656703 (5000)\ttotal: 4m 12s\tremaining: 4m 12s\n",
      "6000:\tlearn: 5.2896160\ttest: 7.7638895\tbest: 7.7637742 (5900)\ttotal: 5m 3s\tremaining: 3m 21s\n",
      "7000:\tlearn: 5.1462198\ttest: 7.7624529\tbest: 7.7624529 (7000)\ttotal: 5m 53s\tremaining: 2m 31s\n",
      "8000:\tlearn: 5.0077570\ttest: 7.7605226\tbest: 7.7605184 (7985)\ttotal: 6m 44s\tremaining: 1m 41s\n",
      "9000:\tlearn: 4.8721360\ttest: 7.7594520\tbest: 7.7593582 (8928)\ttotal: 7m 36s\tremaining: 50.6s\n",
      "bestTest = 7.758820265\n",
      "bestIteration = 9475\n",
      "Shrink model to first 9476 iterations.\n",
      "0:\tlearn: 6.3400177\ttest: 7.8584598\tbest: 7.8584598 (0)\ttotal: 62.8ms\tremaining: 10m 27s\n",
      "1000:\tlearn: 6.0731906\ttest: 7.7929109\tbest: 7.7929109 (1000)\ttotal: 51.7s\tremaining: 7m 44s\n",
      "2000:\tlearn: 5.8935187\ttest: 7.7803191\tbest: 7.7802963 (1998)\ttotal: 1m 42s\tremaining: 6m 50s\n",
      "3000:\tlearn: 5.7335174\ttest: 7.7738502\tbest: 7.7738489 (2999)\ttotal: 2m 32s\tremaining: 5m 55s\n",
      "4000:\tlearn: 5.5813358\ttest: 7.7702341\tbest: 7.7702139 (3996)\ttotal: 3m 23s\tremaining: 5m 4s\n",
      "5000:\tlearn: 5.4334353\ttest: 7.7677550\tbest: 7.7677550 (5000)\ttotal: 4m 14s\tremaining: 4m 14s\n",
      "6000:\tlearn: 5.2884060\ttest: 7.7647770\tbest: 7.7647770 (6000)\ttotal: 5m 4s\tremaining: 3m 23s\n",
      "7000:\tlearn: 5.1483784\ttest: 7.7629147\tbest: 7.7628248 (6968)\ttotal: 5m 56s\tremaining: 2m 32s\n",
      "8000:\tlearn: 5.0071218\ttest: 7.7617163\tbest: 7.7616270 (7958)\ttotal: 6m 47s\tremaining: 1m 41s\n",
      "bestTest = 7.761301305\n",
      "bestIteration = 8327\n",
      "Shrink model to first 8328 iterations.\n"
     ]
    },
    {
     "name": "stderr",
     "output_type": "stream",
     "text": [
      "\u001b[32m[I 2021-08-21 14:01:51,052]\u001b[0m Trial 12 finished with value: 7.758353034154606 and parameters: {'max_depth': 11, 'learning_rate': 0.007219802824299046, 'max_bin': 455, 'min_data_in_leaf': 63, 'reg_lambda': 0.09254117231087726, 'subsample': 0.4951782299280497}. Best is trial 11 with value: 7.756000258000434.\u001b[0m\n"
     ]
    },
    {
     "name": "stdout",
     "output_type": "stream",
     "text": [
      "0:\tlearn: 6.3398657\ttest: 7.8584116\tbest: 7.8584116 (0)\ttotal: 83.2ms\tremaining: 13m 51s\n",
      "1000:\tlearn: 5.9452568\ttest: 7.7912963\tbest: 7.7912963 (1000)\ttotal: 1m 20s\tremaining: 12m 1s\n",
      "2000:\tlearn: 5.6628910\ttest: 7.7781134\tbest: 7.7781134 (2000)\ttotal: 2m 38s\tremaining: 10m 33s\n",
      "3000:\tlearn: 5.4070275\ttest: 7.7721197\tbest: 7.7721149 (2994)\ttotal: 3m 56s\tremaining: 9m 11s\n",
      "4000:\tlearn: 5.1661924\ttest: 7.7686360\tbest: 7.7685863 (3966)\ttotal: 5m 14s\tremaining: 7m 52s\n",
      "5000:\tlearn: 4.9322234\ttest: 7.7667631\tbest: 7.7666697 (4954)\ttotal: 6m 33s\tremaining: 6m 33s\n",
      "6000:\tlearn: 4.7074791\ttest: 7.7641425\tbest: 7.7641425 (6000)\ttotal: 7m 52s\tremaining: 5m 14s\n",
      "bestTest = 7.763239447\n",
      "bestIteration = 6484\n",
      "Shrink model to first 6485 iterations.\n",
      "0:\tlearn: 6.3398746\ttest: 7.8584414\tbest: 7.8584414 (0)\ttotal: 85ms\tremaining: 14m 9s\n",
      "1000:\tlearn: 5.9420819\ttest: 7.7922108\tbest: 7.7922108 (1000)\ttotal: 1m 20s\tremaining: 12m 6s\n",
      "2000:\tlearn: 5.6578148\ttest: 7.7792641\tbest: 7.7792641 (2000)\ttotal: 2m 39s\tremaining: 10m 37s\n",
      "3000:\tlearn: 5.4082547\ttest: 7.7728353\tbest: 7.7728353 (3000)\ttotal: 3m 57s\tremaining: 9m 14s\n",
      "4000:\tlearn: 5.1653173\ttest: 7.7693456\tbest: 7.7693186 (3998)\ttotal: 5m 16s\tremaining: 7m 54s\n",
      "5000:\tlearn: 4.9341213\ttest: 7.7670616\tbest: 7.7670465 (4999)\ttotal: 6m 35s\tremaining: 6m 34s\n",
      "6000:\tlearn: 4.7075783\ttest: 7.7652827\tbest: 7.7652397 (5996)\ttotal: 7m 54s\tremaining: 5m 16s\n",
      "7000:\tlearn: 4.4850470\ttest: 7.7642710\tbest: 7.7641300 (6850)\ttotal: 9m 15s\tremaining: 3m 57s\n",
      "bestTest = 7.764129982\n",
      "bestIteration = 6850\n",
      "Shrink model to first 6851 iterations.\n"
     ]
    },
    {
     "name": "stderr",
     "output_type": "stream",
     "text": [
      "\u001b[32m[I 2021-08-21 14:20:20,400]\u001b[0m Trial 13 finished with value: 7.761581302818221 and parameters: {'max_depth': 12, 'learning_rate': 0.007447018051033308, 'max_bin': 411, 'min_data_in_leaf': 73, 'reg_lambda': 0.10337842419960527, 'subsample': 0.4974502845004783}. Best is trial 11 with value: 7.756000258000434.\u001b[0m\n"
     ]
    },
    {
     "name": "stdout",
     "output_type": "stream",
     "text": [
      "0:\tlearn: 6.3399381\ttest: 7.8584623\tbest: 7.8584623 (0)\ttotal: 90.9ms\tremaining: 15m 8s\n",
      "1000:\tlearn: 5.9708956\ttest: 7.7940546\tbest: 7.7940546 (1000)\ttotal: 1m 27s\tremaining: 13m 4s\n",
      "2000:\tlearn: 5.7071802\ttest: 7.7819180\tbest: 7.7819180 (2000)\ttotal: 2m 52s\tremaining: 11m 27s\n",
      "3000:\tlearn: 5.4729540\ttest: 7.7762937\tbest: 7.7762937 (2997)\ttotal: 4m 16s\tremaining: 9m 58s\n",
      "4000:\tlearn: 5.2534703\ttest: 7.7724751\tbest: 7.7724751 (4000)\ttotal: 5m 41s\tremaining: 8m 31s\n",
      "5000:\tlearn: 5.0386336\ttest: 7.7698183\tbest: 7.7697319 (4947)\ttotal: 7m 6s\tremaining: 7m 6s\n",
      "6000:\tlearn: 4.8312397\ttest: 7.7675431\tbest: 7.7675406 (5842)\ttotal: 8m 31s\tremaining: 5m 40s\n",
      "7000:\tlearn: 4.6293954\ttest: 7.7658761\tbest: 7.7658135 (6982)\ttotal: 9m 57s\tremaining: 4m 15s\n",
      "bestTest = 7.765653899\n",
      "bestIteration = 7087\n",
      "Shrink model to first 7088 iterations.\n",
      "0:\tlearn: 6.3399280\ttest: 7.8584658\tbest: 7.8584658 (0)\ttotal: 93.9ms\tremaining: 15m 38s\n",
      "1000:\tlearn: 5.9713880\ttest: 7.7924380\tbest: 7.7924380 (1000)\ttotal: 1m 28s\tremaining: 13m 13s\n",
      "2000:\tlearn: 5.7060815\ttest: 7.7791717\tbest: 7.7791717 (2000)\ttotal: 2m 55s\tremaining: 11m 40s\n",
      "3000:\tlearn: 5.4767286\ttest: 7.7726480\tbest: 7.7726470 (2996)\ttotal: 4m 20s\tremaining: 10m 8s\n",
      "4000:\tlearn: 5.2573116\ttest: 7.7686806\tbest: 7.7686392 (3996)\ttotal: 5m 46s\tremaining: 8m 39s\n",
      "5000:\tlearn: 5.0436972\ttest: 7.7653036\tbest: 7.7653036 (5000)\ttotal: 7m 13s\tremaining: 7m 13s\n",
      "6000:\tlearn: 4.8333367\ttest: 7.7633043\tbest: 7.7633043 (6000)\ttotal: 8m 39s\tremaining: 5m 46s\n",
      "7000:\tlearn: 4.6310216\ttest: 7.7620642\tbest: 7.7620530 (6979)\ttotal: 10m 7s\tremaining: 4m 20s\n",
      "8000:\tlearn: 4.4368352\ttest: 7.7606617\tbest: 7.7606588 (7999)\ttotal: 11m 34s\tremaining: 2m 53s\n",
      "9000:\tlearn: 4.2478918\ttest: 7.7590892\tbest: 7.7589318 (8849)\ttotal: 13m 3s\tremaining: 1m 26s\n",
      "bestTest = 7.758931772\n",
      "bestIteration = 8849\n",
      "Shrink model to first 8850 iterations.\n"
     ]
    },
    {
     "name": "stderr",
     "output_type": "stream",
     "text": [
      "\u001b[32m[I 2021-08-21 14:44:15,271]\u001b[0m Trial 14 finished with value: 7.760211716920735 and parameters: {'max_depth': 12, 'learning_rate': 0.0068278579473649405, 'max_bin': 476, 'min_data_in_leaf': 67, 'reg_lambda': 0.08568310524141731, 'subsample': 0.49304030726218606}. Best is trial 11 with value: 7.756000258000434.\u001b[0m\n"
     ]
    },
    {
     "name": "stdout",
     "output_type": "stream",
     "text": [
      "Number of finished trials: 15\n",
      "Best trial: {'max_depth': 11, 'learning_rate': 0.0073229907325453696, 'max_bin': 408, 'min_data_in_leaf': 64, 'reg_lambda': 0.09207259245356939, 'subsample': 0.49677374687682424}\n"
     ]
    }
   ],
   "source": [
    "study = optuna.create_study(direction='minimize')\n",
    "study.optimize(objective,n_trials= 15)\n",
    "print('Number of finished trials:', len(study.trials))\n",
    "print('Best trial:', study.best_trial.params)"
   ]
  },
  {
   "cell_type": "code",
   "execution_count": 11,
   "id": "5c552e88",
   "metadata": {
    "execution": {
     "iopub.execute_input": "2021-08-21T14:44:15.468322Z",
     "iopub.status.busy": "2021-08-21T14:44:15.467636Z",
     "iopub.status.idle": "2021-08-21T14:44:15.470737Z",
     "shell.execute_reply": "2021-08-21T14:44:15.471142Z"
    },
    "papermill": {
     "duration": 0.099859,
     "end_time": "2021-08-21T14:44:15.471271",
     "exception": false,
     "start_time": "2021-08-21T14:44:15.371412",
     "status": "completed"
    },
    "tags": []
   },
   "outputs": [
    {
     "data": {
      "text/plain": [
       "{'max_depth': 11,\n",
       " 'learning_rate': 0.0073229907325453696,\n",
       " 'max_bin': 408,\n",
       " 'min_data_in_leaf': 64,\n",
       " 'reg_lambda': 0.09207259245356939,\n",
       " 'subsample': 0.49677374687682424}"
      ]
     },
     "execution_count": 11,
     "metadata": {},
     "output_type": "execute_result"
    }
   ],
   "source": [
    "study.best_params"
   ]
  },
  {
   "cell_type": "markdown",
   "id": "130b3267",
   "metadata": {
    "papermill": {
     "duration": 0.089555,
     "end_time": "2021-08-21T14:44:15.651235",
     "exception": false,
     "start_time": "2021-08-21T14:44:15.561680",
     "status": "completed"
    },
    "tags": []
   },
   "source": [
    "# Log\n",
    "\n",
    "7.768172118850735 row-wise noise ver4\n",
    "\n",
    "7.776578973194598 random noise ver5\n",
    "\n",
    "7.757181558352988 no noise ver7\n",
    "\n",
    "7.756073089003697 no noise ver8 (narrow space)\n"
   ]
  }
 ],
 "metadata": {
  "kernelspec": {
   "display_name": "Python 3",
   "language": "python",
   "name": "python3"
  },
  "language_info": {
   "codemirror_mode": {
    "name": "ipython",
    "version": 3
   },
   "file_extension": ".py",
   "mimetype": "text/x-python",
   "name": "python",
   "nbconvert_exporter": "python",
   "pygments_lexer": "ipython3",
   "version": "3.7.10"
  },
  "papermill": {
   "default_parameters": {},
   "duration": 15008.464152,
   "end_time": "2021-08-21T14:44:17.119065",
   "environment_variables": {},
   "exception": null,
   "input_path": "__notebook__.ipynb",
   "output_path": "__notebook__.ipynb",
   "parameters": {},
   "start_time": "2021-08-21T10:34:08.654913",
   "version": "2.3.3"
  }
 },
 "nbformat": 4,
 "nbformat_minor": 5
}
